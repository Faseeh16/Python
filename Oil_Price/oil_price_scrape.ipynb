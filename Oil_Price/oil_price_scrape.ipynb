{
 "cells": [
  {
   "cell_type": "markdown",
   "metadata": {},
   "source": [
    "# Oil Price Data with Python\n",
    "## Brian Dew, brianwdew@gmail.com"
   ]
  },
  {
   "cell_type": "markdown",
   "metadata": {},
   "source": [
    "## Introduction\n",
    "This example shows how Python can be used to take a look at oil prices."
   ]
  },
  {
   "cell_type": "markdown",
   "metadata": {},
   "source": [
    "## Gathering data"
   ]
  },
  {
   "cell_type": "code",
   "execution_count": 185,
   "metadata": {
    "collapsed": true
   },
   "outputs": [],
   "source": [
    "# Import libraries\n",
    "import pandas as pd\n",
    "import numpy as np\n",
    "import matplotlib as mpl\n",
    "import matplotlib.pyplot as plt\n",
    "%matplotlib inline"
   ]
  },
  {
   "cell_type": "markdown",
   "metadata": {},
   "source": []
  },
  {
   "cell_type": "code",
   "execution_count": 186,
   "metadata": {
    "collapsed": false
   },
   "outputs": [],
   "source": [
    "# Import front month contracts for west Texas intermediate crude oil\n",
    "url = \"https://www.quandl.com/api/v3/datasets/CHRIS/CME_CL1.csv\"\n",
    "wticl1 = pd.read_csv(url)\n",
    "wticl1 = wticl1[['Date','Last']]"
   ]
  },
  {
   "cell_type": "code",
   "execution_count": 187,
   "metadata": {
    "collapsed": false
   },
   "outputs": [
    {
     "data": {
      "text/html": [
       "<div>\n",
       "<table border=\"1\" class=\"dataframe\">\n",
       "  <thead>\n",
       "    <tr style=\"text-align: right;\">\n",
       "      <th></th>\n",
       "      <th>Date</th>\n",
       "      <th>Last</th>\n",
       "    </tr>\n",
       "  </thead>\n",
       "  <tbody>\n",
       "    <tr>\n",
       "      <th>0</th>\n",
       "      <td>2016-04-08</td>\n",
       "      <td>39.66</td>\n",
       "    </tr>\n",
       "  </tbody>\n",
       "</table>\n",
       "</div>"
      ],
      "text/plain": [
       "         Date   Last\n",
       "0  2016-04-08  39.66"
      ]
     },
     "execution_count": 187,
     "metadata": {},
     "output_type": "execute_result"
    }
   ],
   "source": [
    "wticl1.head(1)"
   ]
  },
  {
   "cell_type": "code",
   "execution_count": 188,
   "metadata": {
    "collapsed": false
   },
   "outputs": [
    {
     "name": "stdout",
     "output_type": "stream",
     "text": [
      "today's date is: 2016-04-08\n"
     ]
    }
   ],
   "source": [
    "import time\n",
    "today = time.strftime(\"%Y-%m-%d\")\n",
    "today = str(today)\n",
    "print \"today's date is: \" + today"
   ]
  },
  {
   "cell_type": "markdown",
   "metadata": {},
   "source": [
    "Since there is some lag in the free Quandl data, we can scrape the latest value of oil from Bloomberg."
   ]
  },
  {
   "cell_type": "code",
   "execution_count": 189,
   "metadata": {
    "collapsed": false
   },
   "outputs": [
    {
     "name": "stdout",
     "output_type": "stream",
     "text": [
      "The current price of oil is 39.72\n"
     ]
    }
   ],
   "source": [
    "import urllib\n",
    "import re\n",
    "\n",
    "htmlfile = urllib.urlopen(\"http://www.bloomberg.com/quote/CL1:COM\")\n",
    "htmltext = htmlfile.read()\n",
    "regex = '<div class=\"price\">(.+?)</div>'\n",
    "pattern = re.compile(regex)\n",
    "price = re.findall(pattern,htmltext)\n",
    "print \"The current price of oil is\", price[0]"
   ]
  },
  {
   "cell_type": "code",
   "execution_count": 193,
   "metadata": {
    "collapsed": false
   },
   "outputs": [],
   "source": [
    "wtibbdf = pd.DataFrame(np.array([[today, price[0]]]), columns=['Date', 'Last'])\n",
    "df = wtibbdf.append(wticl1, ignore_index=True)\n",
    "df = df.set_index('Date')\n",
    "df.sort_index(inplace=True)\n",
    "df = df.reset_index().drop_duplicates(subset='Date').set_index('Date')\n",
    "df.Last = df.Last.astype(float)\n",
    "df.index = pd.to_datetime(df.index)"
   ]
  },
  {
   "cell_type": "markdown",
   "metadata": {},
   "source": [
    "## Line plot of oil price"
   ]
  },
  {
   "cell_type": "code",
   "execution_count": 215,
   "metadata": {
    "collapsed": false
   },
   "outputs": [
    {
     "data": {
      "image/png": "[encoded data removed]",
      "text/plain": [
       "<matplotlib.figure.Figure at 0xe048be0>"
      ]
     },
     "metadata": {},
     "output_type": "display_data"
    }
   ],
   "source": [
    "fig = plt.figure(figsize=[7,5])\n",
    "ax1 = plt.subplot(111)\n",
    "line = df.Last.tail(70).plot(color='red',linewidth=3)\n",
    "ax1.set_ylabel('USD per barrel')\n",
    "ax1.set_xlabel('')\n",
    "ax1.set_title('WTI Crude Oil Price')\n",
    "ax1.set_frame_on(False)\n",
    "ax1.get_xaxis().tick_bottom()\n",
    "ax1.get_yaxis().tick_left()\n",
    "fig.text(0.15, 0.85,'Last: $' + price[0]);\n",
    "plt.savefig('oil.png', dpi=1000)"
   ]
  }
 ],
 "metadata": {
  "kernelspec": {
   "display_name": "Python 2",
   "language": "python",
   "name": "python2"
  },
  "language_info": {
   "codemirror_mode": {
    "name": "ipython",
    "version": 2
   },
   "file_extension": ".py",
   "mimetype": "text/x-python",
   "name": "python",
   "nbconvert_exporter": "python",
   "pygments_lexer": "ipython2",
   "version": "2.7.10"
  }
 },
 "nbformat": 4,
 "nbformat_minor": 0
}
