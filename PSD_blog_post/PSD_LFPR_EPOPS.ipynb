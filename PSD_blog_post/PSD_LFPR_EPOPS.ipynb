{
 "cells": [
  {
   "cell_type": "markdown",
   "metadata": {},
   "source": [
    "### LFPR and EPOPs"
   ]
  },
  {
   "cell_type": "code",
   "execution_count": 83,
   "metadata": {
    "collapsed": true
   },
   "outputs": [],
   "source": [
    "# Import preliminaries\n",
    "import requests\n",
    "import pandas as pd\n",
    "import config # file with api key"
   ]
  },
  {
   "cell_type": "code",
   "execution_count": 38,
   "metadata": {
    "collapsed": true
   },
   "outputs": [],
   "source": [
    "df = pd.read_csv('staadata.csv', thousands=',')#.set_index(['Area', 'Year'])"
   ]
  },
  {
   "cell_type": "code",
   "execution_count": 46,
   "metadata": {},
   "outputs": [],
   "source": [
    "juris1 = [6, 11, 25, 9, 41, 53, 51000]\n",
    "juris2 = [6, 11, 25, 9, 41, 53, 51000, 42, 17, 27, 34, 24, 36]"
   ]
  },
  {
   "cell_type": "code",
   "execution_count": 47,
   "metadata": {},
   "outputs": [],
   "source": [
    "df1 = df[df['FIPS'].isin(juris1)]\n",
    "df2 = df[(~df['FIPS'].isin(juris2)) & (df['Area'] != 'Los Angeles County')]"
   ]
  },
  {
   "cell_type": "code",
   "execution_count": 48,
   "metadata": {},
   "outputs": [],
   "source": [
    "nolaw = df2.groupby('Year').sum()[['Pop', 'LF', 'Emp', 'Unemp']]"
   ]
  },
  {
   "cell_type": "code",
   "execution_count": 53,
   "metadata": {},
   "outputs": [],
   "source": [
    "nolaw['LFPR'] = nolaw['LF'] / nolaw['Pop']\n",
    "nolaw['EPOP'] = nolaw['Emp'] / nolaw['Pop']\n",
    "nolaw['Unemp_rate'] = nolaw['Unemp'] / nolaw['LF']"
   ]
  },
  {
   "cell_type": "code",
   "execution_count": 77,
   "metadata": {},
   "outputs": [],
   "source": [
    "law = df1.groupby('Year').sum()[['Pop', 'LF', 'Emp', 'Unemp']]\n",
    "law['LFPR'] = law['LF'] / law['Pop']\n",
    "law['EPOP_law'] = law['Emp'] / law['Pop']\n",
    "law['Unemp_rate'] = law['Unemp'] / law['LF']"
   ]
  },
  {
   "cell_type": "code",
   "execution_count": 82,
   "metadata": {},
   "outputs": [
    {
     "data": {
      "text/html": [
       "<div>\n",
       "<style>\n",
       "    .dataframe thead tr:only-child th {\n",
       "        text-align: right;\n",
       "    }\n",
       "\n",
       "    .dataframe thead th {\n",
       "        text-align: left;\n",
       "    }\n",
       "\n",
       "    .dataframe tbody tr th {\n",
       "        vertical-align: top;\n",
       "    }\n",
       "</style>\n",
       "<table border=\"1\" class=\"dataframe\">\n",
       "  <thead>\n",
       "    <tr style=\"text-align: right;\">\n",
       "      <th></th>\n",
       "      <th>EPOP_law</th>\n",
       "      <th>EPOP</th>\n",
       "    </tr>\n",
       "    <tr>\n",
       "      <th>Year</th>\n",
       "      <th></th>\n",
       "      <th></th>\n",
       "    </tr>\n",
       "  </thead>\n",
       "  <tbody>\n",
       "    <tr>\n",
       "      <th>2005</th>\n",
       "      <td>0.616055</td>\n",
       "      <td>0.628137</td>\n",
       "    </tr>\n",
       "    <tr>\n",
       "      <th>2006</th>\n",
       "      <td>0.618815</td>\n",
       "      <td>0.632680</td>\n",
       "    </tr>\n",
       "    <tr>\n",
       "      <th>2007</th>\n",
       "      <td>0.619525</td>\n",
       "      <td>0.630234</td>\n",
       "    </tr>\n",
       "    <tr>\n",
       "      <th>2008</th>\n",
       "      <td>0.612797</td>\n",
       "      <td>0.620535</td>\n",
       "    </tr>\n",
       "    <tr>\n",
       "      <th>2009</th>\n",
       "      <td>0.585332</td>\n",
       "      <td>0.590642</td>\n",
       "    </tr>\n",
       "    <tr>\n",
       "      <th>2010</th>\n",
       "      <td>0.574318</td>\n",
       "      <td>0.582885</td>\n",
       "    </tr>\n",
       "    <tr>\n",
       "      <th>2011</th>\n",
       "      <td>0.571536</td>\n",
       "      <td>0.583308</td>\n",
       "    </tr>\n",
       "    <tr>\n",
       "      <th>2012</th>\n",
       "      <td>0.573348</td>\n",
       "      <td>0.585205</td>\n",
       "    </tr>\n",
       "    <tr>\n",
       "      <th>2013</th>\n",
       "      <td>0.575537</td>\n",
       "      <td>0.585296</td>\n",
       "    </tr>\n",
       "    <tr>\n",
       "      <th>2014</th>\n",
       "      <td>0.582514</td>\n",
       "      <td>0.588893</td>\n",
       "    </tr>\n",
       "    <tr>\n",
       "      <th>2015</th>\n",
       "      <td>0.588876</td>\n",
       "      <td>0.590642</td>\n",
       "    </tr>\n",
       "    <tr>\n",
       "      <th>2016</th>\n",
       "      <td>0.594823</td>\n",
       "      <td>0.594225</td>\n",
       "    </tr>\n",
       "  </tbody>\n",
       "</table>\n",
       "</div>"
      ],
      "text/plain": [
       "      EPOP_law      EPOP\n",
       "Year                    \n",
       "2005  0.616055  0.628137\n",
       "2006  0.618815  0.632680\n",
       "2007  0.619525  0.630234\n",
       "2008  0.612797  0.620535\n",
       "2009  0.585332  0.590642\n",
       "2010  0.574318  0.582885\n",
       "2011  0.571536  0.583308\n",
       "2012  0.573348  0.585205\n",
       "2013  0.575537  0.585296\n",
       "2014  0.582514  0.588893\n",
       "2015  0.588876  0.590642\n",
       "2016  0.594823  0.594225"
      ]
     },
     "execution_count": 82,
     "metadata": {},
     "output_type": "execute_result"
    }
   ],
   "source": [
    "#law[-12:]['EPOP'].concat(nolaw[-12:]['EPOP'])\n",
    "pd.concat([law[-12:]['EPOP_law'], nolaw[-12:]['EPOP']], axis=1)"
   ]
  },
  {
   "cell_type": "code",
   "execution_count": 84,
   "metadata": {
    "collapsed": true
   },
   "outputs": [],
   "source": [
    "# The URL for the FRED API\n",
    "base = 'https://api.stlouisfed.org/fred/series/observations?series_id='\n",
    "\n",
    "# List of FRED series IDs and their description\n",
    "s_dict = {'LNS11300002': 'LFPR - Women', \n",
    "          'LNS11300001': 'LFPR - Men',\n",
    "          'LNS12300002': 'EPOP - Women',\n",
    "          'LNS12300001': 'EPOP - Men',\n",
    "          }\n",
    "\n",
    "# Include start date, API key from config.py file and file type json\n",
    "start_date = '2005-01-01'\n",
    "dates = '&observation_start={}'.format(start_date)\n",
    "api_key = '&api_key={}'.format(config.fred_key)\n",
    "ftype = '&file_type=json'"
   ]
  },
  {
   "cell_type": "code",
   "execution_count": 85,
   "metadata": {
    "collapsed": true
   },
   "outputs": [],
   "source": [
    "# Fill a new empty dictionary, d, with pandas series from Fred API\n",
    "d = {}\n",
    "for k, v in s_dict.iteritems():\n",
    "    \n",
    "    # Create unique URL for each Fred series item in s_dict above\n",
    "    url = '{}{}{}{}{}'.format(base, k, dates, api_key, ftype)\n",
    "    \n",
    "    # Request the data from the URL and format as pandas dataframe\n",
    "    r = pd.DataFrame(requests.get(url).json()['observations'])\n",
    "    \n",
    "    # Build dictionary from series\n",
    "    d[k] = r.set_index(pd.to_datetime(r['date']))['value'].astype(float)\n",
    "    \n",
    "# Combine dictionary series into one pandas dataframe\n",
    "df = pd.DataFrame(d)"
   ]
  },
  {
   "cell_type": "code",
   "execution_count": 90,
   "metadata": {
    "collapsed": true
   },
   "outputs": [],
   "source": [
    "df = pd.DataFrame(d)"
   ]
  },
  {
   "cell_type": "code",
   "execution_count": 99,
   "metadata": {
    "collapsed": true
   },
   "outputs": [],
   "source": [
    "df['EPOP_diff'] = df['LNS11300001'] - df['LNS11300002']"
   ]
  },
  {
   "cell_type": "code",
   "execution_count": 101,
   "metadata": {},
   "outputs": [
    {
     "data": {
      "text/html": [
       "<div>\n",
       "<style>\n",
       "    .dataframe thead tr:only-child th {\n",
       "        text-align: right;\n",
       "    }\n",
       "\n",
       "    .dataframe thead th {\n",
       "        text-align: left;\n",
       "    }\n",
       "\n",
       "    .dataframe tbody tr th {\n",
       "        vertical-align: top;\n",
       "    }\n",
       "</style>\n",
       "<table border=\"1\" class=\"dataframe\">\n",
       "  <thead>\n",
       "    <tr style=\"text-align: right;\">\n",
       "      <th></th>\n",
       "      <th>EPOP_diff</th>\n",
       "    </tr>\n",
       "    <tr>\n",
       "      <th>date</th>\n",
       "      <th></th>\n",
       "    </tr>\n",
       "  </thead>\n",
       "  <tbody>\n",
       "    <tr>\n",
       "      <th>2005-12-31</th>\n",
       "      <td>14.058333</td>\n",
       "    </tr>\n",
       "    <tr>\n",
       "      <th>2006-12-31</th>\n",
       "      <td>14.091667</td>\n",
       "    </tr>\n",
       "    <tr>\n",
       "      <th>2007-12-31</th>\n",
       "      <td>13.933333</td>\n",
       "    </tr>\n",
       "    <tr>\n",
       "      <th>2008-12-31</th>\n",
       "      <td>13.483333</td>\n",
       "    </tr>\n",
       "    <tr>\n",
       "      <th>2009-12-31</th>\n",
       "      <td>12.758333</td>\n",
       "    </tr>\n",
       "    <tr>\n",
       "      <th>2010-12-31</th>\n",
       "      <td>12.550000</td>\n",
       "    </tr>\n",
       "    <tr>\n",
       "      <th>2011-12-31</th>\n",
       "      <td>12.341667</td>\n",
       "    </tr>\n",
       "    <tr>\n",
       "      <th>2012-12-31</th>\n",
       "      <td>12.483333</td>\n",
       "    </tr>\n",
       "    <tr>\n",
       "      <th>2013-12-31</th>\n",
       "      <td>12.525000</td>\n",
       "    </tr>\n",
       "    <tr>\n",
       "      <th>2014-12-31</th>\n",
       "      <td>12.225000</td>\n",
       "    </tr>\n",
       "    <tr>\n",
       "      <th>2015-12-31</th>\n",
       "      <td>12.375000</td>\n",
       "    </tr>\n",
       "    <tr>\n",
       "      <th>2016-12-31</th>\n",
       "      <td>12.391667</td>\n",
       "    </tr>\n",
       "    <tr>\n",
       "      <th>2017-12-31</th>\n",
       "      <td>12.200000</td>\n",
       "    </tr>\n",
       "  </tbody>\n",
       "</table>\n",
       "</div>"
      ],
      "text/plain": [
       "            EPOP_diff\n",
       "date                 \n",
       "2005-12-31  14.058333\n",
       "2006-12-31  14.091667\n",
       "2007-12-31  13.933333\n",
       "2008-12-31  13.483333\n",
       "2009-12-31  12.758333\n",
       "2010-12-31  12.550000\n",
       "2011-12-31  12.341667\n",
       "2012-12-31  12.483333\n",
       "2013-12-31  12.525000\n",
       "2014-12-31  12.225000\n",
       "2015-12-31  12.375000\n",
       "2016-12-31  12.391667\n",
       "2017-12-31  12.200000"
      ]
     },
     "execution_count": 101,
     "metadata": {},
     "output_type": "execute_result"
    }
   ],
   "source": [
    "pd.DataFrame(df['EPOP_diff'].resample('A').mean())"
   ]
  },
  {
   "cell_type": "code",
   "execution_count": 93,
   "metadata": {},
   "outputs": [
    {
     "data": {
      "text/html": [
       "<div>\n",
       "<style>\n",
       "    .dataframe thead tr:only-child th {\n",
       "        text-align: right;\n",
       "    }\n",
       "\n",
       "    .dataframe thead th {\n",
       "        text-align: left;\n",
       "    }\n",
       "\n",
       "    .dataframe tbody tr th {\n",
       "        vertical-align: top;\n",
       "    }\n",
       "</style>\n",
       "<table border=\"1\" class=\"dataframe\">\n",
       "  <thead>\n",
       "    <tr style=\"text-align: right;\">\n",
       "      <th></th>\n",
       "      <th>LNS12300001</th>\n",
       "      <th>LNS12300002</th>\n",
       "    </tr>\n",
       "    <tr>\n",
       "      <th>date</th>\n",
       "      <th></th>\n",
       "      <th></th>\n",
       "    </tr>\n",
       "  </thead>\n",
       "  <tbody>\n",
       "    <tr>\n",
       "      <th>2005-12-31</th>\n",
       "      <td>69.608333</td>\n",
       "      <td>56.216667</td>\n",
       "    </tr>\n",
       "    <tr>\n",
       "      <th>2006-12-31</th>\n",
       "      <td>70.058333</td>\n",
       "      <td>56.616667</td>\n",
       "    </tr>\n",
       "    <tr>\n",
       "      <th>2007-12-31</th>\n",
       "      <td>69.758333</td>\n",
       "      <td>56.633333</td>\n",
       "    </tr>\n",
       "    <tr>\n",
       "      <th>2008-12-31</th>\n",
       "      <td>68.516667</td>\n",
       "      <td>56.258333</td>\n",
       "    </tr>\n",
       "    <tr>\n",
       "      <th>2009-12-31</th>\n",
       "      <td>64.550000</td>\n",
       "      <td>54.433333</td>\n",
       "    </tr>\n",
       "    <tr>\n",
       "      <th>2010-12-31</th>\n",
       "      <td>63.683333</td>\n",
       "      <td>53.566667</td>\n",
       "    </tr>\n",
       "    <tr>\n",
       "      <th>2011-12-31</th>\n",
       "      <td>63.875000</td>\n",
       "      <td>53.200000</td>\n",
       "    </tr>\n",
       "    <tr>\n",
       "      <th>2012-12-31</th>\n",
       "      <td>64.391667</td>\n",
       "      <td>53.133333</td>\n",
       "    </tr>\n",
       "    <tr>\n",
       "      <th>2013-12-31</th>\n",
       "      <td>64.408333</td>\n",
       "      <td>53.166667</td>\n",
       "    </tr>\n",
       "    <tr>\n",
       "      <th>2014-12-31</th>\n",
       "      <td>64.883333</td>\n",
       "      <td>53.516667</td>\n",
       "    </tr>\n",
       "    <tr>\n",
       "      <th>2015-12-31</th>\n",
       "      <td>65.358333</td>\n",
       "      <td>53.733333</td>\n",
       "    </tr>\n",
       "    <tr>\n",
       "      <th>2016-12-31</th>\n",
       "      <td>65.775000</td>\n",
       "      <td>54.075000</td>\n",
       "    </tr>\n",
       "    <tr>\n",
       "      <th>2017-12-31</th>\n",
       "      <td>66.033333</td>\n",
       "      <td>54.433333</td>\n",
       "    </tr>\n",
       "  </tbody>\n",
       "</table>\n",
       "</div>"
      ],
      "text/plain": [
       "            LNS12300001  LNS12300002\n",
       "date                                \n",
       "2005-12-31    69.608333    56.216667\n",
       "2006-12-31    70.058333    56.616667\n",
       "2007-12-31    69.758333    56.633333\n",
       "2008-12-31    68.516667    56.258333\n",
       "2009-12-31    64.550000    54.433333\n",
       "2010-12-31    63.683333    53.566667\n",
       "2011-12-31    63.875000    53.200000\n",
       "2012-12-31    64.391667    53.133333\n",
       "2013-12-31    64.408333    53.166667\n",
       "2014-12-31    64.883333    53.516667\n",
       "2015-12-31    65.358333    53.733333\n",
       "2016-12-31    65.775000    54.075000\n",
       "2017-12-31    66.033333    54.433333"
      ]
     },
     "execution_count": 93,
     "metadata": {},
     "output_type": "execute_result"
    }
   ],
   "source": [
    "df.resample('A').mean()[['LNS12300001', 'LNS12300002']]"
   ]
  },
  {
   "cell_type": "code",
   "execution_count": 89,
   "metadata": {},
   "outputs": [
    {
     "data": {
      "text/plain": [
       "DatetimeIndexResampler [freq=<YearEnd: month=12>, axis=0, closed=right, label=right, convention=start, base=0]"
      ]
     },
     "execution_count": 89,
     "metadata": {},
     "output_type": "execute_result"
    }
   ],
   "source": [
    "df"
   ]
  }
 ],
 "metadata": {
  "kernelspec": {
   "display_name": "Python 2",
   "language": "python",
   "name": "python2"
  },
  "language_info": {
   "codemirror_mode": {
    "name": "ipython",
    "version": 2
   },
   "file_extension": ".py",
   "mimetype": "text/x-python",
   "name": "python",
   "nbconvert_exporter": "python",
   "pygments_lexer": "ipython2",
   "version": "2.7.13"
  }
 },
 "nbformat": 4,
 "nbformat_minor": 2
}
