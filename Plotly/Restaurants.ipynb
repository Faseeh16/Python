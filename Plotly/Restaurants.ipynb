{
 "cells": [
  {
   "cell_type": "markdown",
   "metadata": {},
   "source": [
    "### Restaurant and Bar Employment Growth as Share of Total"
   ]
  },
  {
   "cell_type": "code",
   "execution_count": 1,
   "metadata": {
    "collapsed": true
   },
   "outputs": [],
   "source": [
    "import requests\n",
    "import json\n",
    "import pandas as pd\n",
    "import config\n",
    "\n",
    "%matplotlib inline"
   ]
  },
  {
   "cell_type": "markdown",
   "metadata": {},
   "source": [
    "Jolts series: \n",
    "    \n",
    "JTS72000000HIL\n",
    "JTS72000000HIR\n",
    "JTS72000000JOL\n",
    "JTS72000000JOR\n",
    "JTS72000000LDL\n",
    "JTS72000000LDR\n",
    "JTS72000000OSL\n",
    "JTS72000000OSR\n",
    "JTS72000000QUL\n",
    "JTS72000000QUR\n",
    "JTS00000000QUR\n",
    "JTS72000000TSL\n",
    "JTS72000000TSR\n",
    "\n",
    "AHE: \n",
    "\n",
    "CES7072000008\n",
    "CES0000000008\n",
    "\n",
    "IPUTN722___L000\n",
    "\n"
   ]
  },
  {
   "cell_type": "code",
   "execution_count": 19,
   "metadata": {
    "collapsed": true
   },
   "outputs": [],
   "source": [
    "url = 'https://api.bls.gov/publicAPI/v2/timeseries/data/'\n",
    "key = '?registrationkey={}'.format(config.bls_key)\n",
    "headers = {'Content-type': 'application/json'}\n",
    "series_dict = {\n",
    "    'Total': 'CES0000000001',\n",
    "    'Food Services and Drinking Places': 'CES7072200001',\n",
    "    'Accomodation and Food Services': 'CES7072000001',\n",
    "    'FSD_AHE': 'CES7072200008',\n",
    "    'AFS_AHE': 'CES7072000008',\n",
    "    'AFS_ALL': 'CES0500000008',\n",
    "    'AFS_QU': 'JTS72000000QUR',\n",
    "    'TOT_QU': 'JTS00000000QUR'\n",
    "}\n",
    "inv_map = {v: k for k, v in series_dict.iteritems()}\n",
    "series_list = series_dict.values()  # Take just the series codes as a list\n",
    "\n",
    "date_list = [(\"1990\", \"1998\"), (\"1999\", \"2008\"), (\"2009\", \"2017\")]\n",
    "df = pd.DataFrame()"
   ]
  },
  {
   "cell_type": "code",
   "execution_count": 20,
   "metadata": {
    "collapsed": false
   },
   "outputs": [],
   "source": [
    "for start, end in date_list:\n",
    "    data = json.dumps({\"seriesid\":series_list, \"startyear\":start, \"endyear\":end})\n",
    "    json_data = requests.post('{}{}'.format(url, key), headers=headers, data=data).json()\n",
    "    # Store the relevant information in a dictionay and combine into a pandas dataframe\n",
    "    d = {}\n",
    "    for series in json_data['Results']['series']:\n",
    "        seriesId = series['seriesID']\n",
    "        d[seriesId] = pd.DataFrame(series['data'])\n",
    "        if len(series['data']) > 0:\n",
    "            # Convert BLS API dates to readable format (YYYY-MM-DD)\n",
    "            d[seriesId]['date'] = pd.to_datetime(d[seriesId]['period'] + ' ' + d[seriesId]['year'])\n",
    "            # Keep only date and series values\n",
    "            d[seriesId] = d[seriesId].sort_values(by='date')[['date', 'value']].set_index('date')\n",
    "            # Rename and round\n",
    "            d[seriesId] = d[seriesId]['value'].rename(inv_map[seriesId]).astype(float)\n",
    "        else:\n",
    "            d[seriesId]['date'] = pd.Series()\n",
    "            d[seriesId]['value'] = pd.Series()\n",
    "            d[seriesId] = d[seriesId]['value'].rename(inv_map[seriesId])\n",
    "    df = df.append(pd.concat([d[series_list[x]] for x in range(len(d))], axis=1))"
   ]
  },
  {
   "cell_type": "code",
   "execution_count": 5,
   "metadata": {
    "collapsed": false
   },
   "outputs": [],
   "source": [
    "df.to_csv('Restaurant_Jobs.csv')"
   ]
  },
  {
   "cell_type": "code",
   "execution_count": 49,
   "metadata": {
    "collapsed": false
   },
   "outputs": [],
   "source": [
    "# Restaurant Share of Total\n",
    "df['Rest_Share'] = df['Food Services and Drinking Places'] / df['Total']\n",
    "\n",
    "# Take Annual Average\n",
    "df2 = df.groupby(pd.PeriodIndex(df.index, freq='A'), axis=0).mean().diff().dropna()\n",
    "\n",
    "# For Bar Chart\n",
    "df2['All Other'] = df2['Total'] - df2['Food Services and Drinking Places']\n",
    "\n",
    "# Restaurant Share of Change\n",
    "df['Rest_Share_Ch'] = df['Food Services and Drinking Places'].diff() / df['Total'].diff()"
   ]
  },
  {
   "cell_type": "code",
   "execution_count": 47,
   "metadata": {
    "collapsed": false
   },
   "outputs": [
    {
     "data": {
      "text/plain": [
       "<matplotlib.axes._subplots.AxesSubplot at 0x1052a240>"
      ]
     },
     "execution_count": 47,
     "metadata": {},
     "output_type": "execute_result"
    },
    {
     "data": {
      "image/png": "[encoded data removed]",
      "text/plain": [
       "<matplotlib.figure.Figure at 0xfad39e8>"
      ]
     },
     "metadata": {},
     "output_type": "display_data"
    }
   ],
   "source": [
    "df2['Rest_Share'].plot(grid=True)"
   ]
  },
  {
   "cell_type": "code",
   "execution_count": 37,
   "metadata": {
    "collapsed": false
   },
   "outputs": [
    {
     "data": {
      "text/plain": [
       "<matplotlib.axes._subplots.AxesSubplot at 0xdb80f28>"
      ]
     },
     "execution_count": 37,
     "metadata": {},
     "output_type": "execute_result"
    },
    {
     "data": {
      "image/png": "[encoded data removed]",
      "text/plain": [
       "<matplotlib.figure.Figure at 0xdf076a0>"
      ]
     },
     "metadata": {},
     "output_type": "display_data"
    }
   ],
   "source": [
    "df2[['All Other', 'Food Services and Drinking Places']].plot(kind='bar', stacked=True, figsize=(8,5))"
   ]
  }
 ],
 "metadata": {
  "kernelspec": {
   "display_name": "Python 2",
   "language": "python",
   "name": "python2"
  },
  "language_info": {
   "codemirror_mode": {
    "name": "ipython",
    "version": 2
   },
   "file_extension": ".py",
   "mimetype": "text/x-python",
   "name": "python",
   "nbconvert_exporter": "python",
   "pygments_lexer": "ipython2",
   "version": "2.7.13"
  }
 },
 "nbformat": 4,
 "nbformat_minor": 2
}
