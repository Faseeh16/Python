{
 "cells": [
  {
   "cell_type": "code",
   "execution_count": 1,
   "metadata": {
    "collapsed": true
   },
   "outputs": [],
   "source": [
    "import matplotlib as mpl\n",
    "import matplotlib.pyplot as plt\n",
    "import numpy as np\n",
    "import pandas as pd\n",
    "\n",
    "from geonamescache import GeonamesCache\n",
    "from matplotlib.patches import Polygon\n",
    "from matplotlib.collections import PatchCollection\n",
    "from mpl_toolkits.basemap import Basemap"
   ]
  },
  {
   "cell_type": "code",
   "execution_count": 2,
   "metadata": {
    "collapsed": false
   },
   "outputs": [],
   "source": [
    "gc = GeonamesCache()\n",
    "iso3_codes = list(gc.get_dataset_by_key(gc.get_countries(), 'iso3').keys())\n",
    "\n",
    "filename = 'extdebt.csv'\n",
    "shapefile = 'shp/countries/ne_110m_admin_0_countries_lakes'"
   ]
  },
  {
   "cell_type": "code",
   "execution_count": 3,
   "metadata": {
    "collapsed": false
   },
   "outputs": [],
   "source": [
    "df = pd.read_csv(filename, skiprows=4)\n",
    "df.set_index('Country Code', inplace=True)"
   ]
  },
  {
   "cell_type": "code",
   "execution_count": 6,
   "metadata": {
    "collapsed": false
   },
   "outputs": [],
   "source": [
    "num_colors = 9\n",
    "values = df['2010']\n",
    "cm = plt.get_cmap('Blues')\n",
    "scheme = cm(1.*np.arange(num_colors)/num_colors)\n",
    "bins = np.linspace(values.min(), values.max(), num_colors)\n",
    "df['bin'] = np.digitize(values, bins) - 1\n",
    "mpl.style.use('seaborn-white')\n",
    "fig = plt.figure(figsize=(11, 6))\n",
    "\n",
    "ax = fig.add_subplot(111, axisbg='w', frame_on=False)\n",
    "fig.suptitle('Test', fontsize=30, y=.95)\n",
    "\n",
    "m = Basemap(lon_0=0, projection='robin')\n",
    "m.drawmapboundary(color='#ffffff')\n",
    "\n",
    "m.readshapefile(shapefile, 'units', linewidth=0)\n",
    "for info, shape in zip(m.units_info, m.units):\n",
    "    iso3 = info['adm0_a3']\n",
    "    if iso3 not in df.index:\n",
    "        color = '#dddddd'\n",
    "    else:\n",
    "        color = scheme[df.ix[iso3]['bin']]\n",
    "\n",
    "    patches = [Polygon(np.array(shape), True)]\n",
    "    pc = PatchCollection(patches, edgecolor='#7c7c7c', lw=.2, alpha=1.)\n",
    "    pc.set_facecolor(color)\n",
    "    ax.add_collection(pc)\n",
    "\n",
    "plt.savefig('test.png', bbox_inches='tight', pad_inches=.2, dpi=200)"
   ]
  }
 ],
 "metadata": {
  "kernelspec": {
   "display_name": "Python [default]",
   "language": "python",
   "name": "python2"
  },
  "language_info": {
   "codemirror_mode": {
    "name": "ipython",
    "version": 2
   },
   "file_extension": ".py",
   "mimetype": "text/x-python",
   "name": "python",
   "nbconvert_exporter": "python",
   "pygments_lexer": "ipython2",
   "version": "2.7.12"
  }
 },
 "nbformat": 4,
 "nbformat_minor": 0
}
