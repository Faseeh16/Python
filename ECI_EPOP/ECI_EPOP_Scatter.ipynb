{
 "cells": [
  {
   "cell_type": "code",
   "execution_count": 63,
   "metadata": {
    "collapsed": true
   },
   "outputs": [],
   "source": [
    "import requests\n",
    "import pandas as pd \n",
    "import json\n",
    "import config\n",
    "import math\n",
    "\n",
    "%matplotlib inline"
   ]
  },
  {
   "cell_type": "code",
   "execution_count": 24,
   "metadata": {
    "collapsed": true
   },
   "outputs": [],
   "source": [
    "# The url for BLS API v2\n",
    "url = 'https://api.bls.gov/publicAPI/v2/timeseries/data/'\n",
    "\n",
    "# API key in config.py which contains: bls_key = 'key'\n",
    "key = '?registrationkey={}'.format(config.bls_key)\n",
    "\n",
    "headers = {'Content-type': 'application/json'}\n",
    "\n",
    "series_dict = {'LNS12300060': 'EPOP'}\n",
    "\n",
    "df = pd.DataFrame()  # blank pandas dataframe to be filled later"
   ]
  },
  {
   "cell_type": "code",
   "execution_count": 25,
   "metadata": {},
   "outputs": [
    {
     "data": {
      "text/plain": [
       "[('1994', '2003'), ('2004', '2013'), ('2014', '2017')]"
      ]
     },
     "execution_count": 25,
     "metadata": {},
     "output_type": "execute_result"
    }
   ],
   "source": [
    "# Include the start and end year here\n",
    "date_range = (1994, 2017)\n",
    "\n",
    "# Divide the date range into BLS-API-friendly length requests\n",
    "req_no = int(math.ceil((date_range[1] - date_range[0]) / 10.0))\n",
    "dates = []\n",
    "for i in range(0,req_no):\n",
    "    d1 = str(date_range[0]+i*10)\n",
    "    d2 = str(date_range[0]+i*10+9)\n",
    "    dates.append((d1,d2))\n",
    "dates[-1] = (dates[-1][0], str(date_range[1]))\n",
    "\n",
    "dates"
   ]
  },
  {
   "cell_type": "code",
   "execution_count": 26,
   "metadata": {
    "collapsed": true
   },
   "outputs": [],
   "source": [
    "for start, end in dates:\n",
    "        \n",
    "    # The data sent in the post request now includes a start and end year\n",
    "    data = json.dumps({\"seriesid\":series_dict.keys(), \"startyear\":start, \"endyear\":end})\n",
    "    p = requests.post('{}{}'.format(url, key), headers=headers, data=data).json()\n",
    "    d = {} # New dictionary to be filled with data\n",
    "    for series in p['Results']['series']:\n",
    "        s = series['seriesID']  # Shorten name to 's'\n",
    "        \n",
    "        # Add dictionary entry with series and reverse series order\n",
    "        d[s] = pd.DataFrame(series['data']).iloc[::-1]\n",
    "        if len(series['data']) > 0:  # This if/else is to allow for series of different lengths\n",
    "            \n",
    "            # Convert BLS API dates to readable format (YYYY-MM-DD)\n",
    "            d[s]['date'] = pd.to_datetime(d[s]['period'] + ' ' + d[s]['year'])\n",
    "            \n",
    "            # Keep only date and series values\n",
    "            d[s] = d[s].set_index('date')['value'].astype(float)\n",
    "            \n",
    "            # Rename and identify values as floating point numbers\n",
    "            d[s] = d[s].rename(series_dict[s])\n",
    "        else:  # If blank, leave as a blank pandas series\n",
    "            d[s]['date'] = d[s]['value'] = pd.Series()\n",
    "            d[s] = d[s]['value'].rename(series_dict[s])\n",
    "            \n",
    "    # Combine the dataframes for each range of years into one by appending        \n",
    "    df = df.append(pd.concat([d[k] for k in series_dict.keys()], axis=1))"
   ]
  },
  {
   "cell_type": "code",
   "execution_count": 31,
   "metadata": {
    "collapsed": true
   },
   "outputs": [],
   "source": [
    "df.resample('3M', closed='left').mean().to_csv('epop.csv')"
   ]
  },
  {
   "cell_type": "code",
   "execution_count": 42,
   "metadata": {
    "collapsed": true
   },
   "outputs": [],
   "source": [
    "epop = df.resample('3M', closed='left').mean()[:-1]\n",
    "eci = pd.read_csv('ECI.csv').set_index('date')"
   ]
  },
  {
   "cell_type": "code",
   "execution_count": 58,
   "metadata": {
    "collapsed": true
   },
   "outputs": [],
   "source": [
    "df2 = epop.join(eci)\n",
    "df2['UPOP'] = [100 - df2['EPOP'].values][0]"
   ]
  },
  {
   "cell_type": "code",
   "execution_count": 69,
   "metadata": {},
   "outputs": [
    {
     "data": {
      "text/html": [
       "<div>\n",
       "<style>\n",
       "    .dataframe thead tr:only-child th {\n",
       "        text-align: right;\n",
       "    }\n",
       "\n",
       "    .dataframe thead th {\n",
       "        text-align: left;\n",
       "    }\n",
       "\n",
       "    .dataframe tbody tr th {\n",
       "        vertical-align: top;\n",
       "    }\n",
       "</style>\n",
       "<table border=\"1\" class=\"dataframe\">\n",
       "  <thead>\n",
       "    <tr style=\"text-align: right;\">\n",
       "      <th></th>\n",
       "      <th>EPOP</th>\n",
       "      <th>ECI</th>\n",
       "      <th>UPOP</th>\n",
       "    </tr>\n",
       "    <tr>\n",
       "      <th>date</th>\n",
       "      <th></th>\n",
       "      <th></th>\n",
       "      <th></th>\n",
       "    </tr>\n",
       "  </thead>\n",
       "  <tbody>\n",
       "    <tr>\n",
       "      <th>2016-06-30</th>\n",
       "      <td>77.766667</td>\n",
       "      <td>2.3</td>\n",
       "      <td>22.233333</td>\n",
       "    </tr>\n",
       "    <tr>\n",
       "      <th>2016-09-30</th>\n",
       "      <td>77.933333</td>\n",
       "      <td>2.3</td>\n",
       "      <td>22.066667</td>\n",
       "    </tr>\n",
       "    <tr>\n",
       "      <th>2016-12-31</th>\n",
       "      <td>78.200000</td>\n",
       "      <td>2.2</td>\n",
       "      <td>21.800000</td>\n",
       "    </tr>\n",
       "    <tr>\n",
       "      <th>2017-03-31</th>\n",
       "      <td>78.333333</td>\n",
       "      <td>2.4</td>\n",
       "      <td>21.666667</td>\n",
       "    </tr>\n",
       "    <tr>\n",
       "      <th>2017-06-30</th>\n",
       "      <td>78.500000</td>\n",
       "      <td>2.4</td>\n",
       "      <td>21.500000</td>\n",
       "    </tr>\n",
       "  </tbody>\n",
       "</table>\n",
       "</div>"
      ],
      "text/plain": [
       "                 EPOP  ECI       UPOP\n",
       "date                                 \n",
       "2016-06-30  77.766667  2.3  22.233333\n",
       "2016-09-30  77.933333  2.3  22.066667\n",
       "2016-12-31  78.200000  2.2  21.800000\n",
       "2017-03-31  78.333333  2.4  21.666667\n",
       "2017-06-30  78.500000  2.4  21.500000"
      ]
     },
     "execution_count": 69,
     "metadata": {},
     "output_type": "execute_result"
    }
   ],
   "source": [
    "df2.tail()"
   ]
  },
  {
   "cell_type": "code",
   "execution_count": 64,
   "metadata": {},
   "outputs": [
    {
     "data": {
      "text/plain": [
       "<matplotlib.axes._subplots.AxesSubplot at 0x7f9ffdd87910>"
      ]
     },
     "execution_count": 64,
     "metadata": {},
     "output_type": "execute_result"
    },
    {
     "data": {
      "image/png": "[encoded data removed]",
      "text/plain": [
       "<matplotlib.figure.Figure at 0x7f9ffddb33d0>"
      ]
     },
     "metadata": {},
     "output_type": "display_data"
    }
   ],
   "source": [
    "df2[['ECI', 'UPOP']].plot(kind='scatter', x='UPOP', y='ECI')"
   ]
  },
  {
   "cell_type": "code",
   "execution_count": 67,
   "metadata": {},
   "outputs": [
    {
     "name": "stderr",
     "output_type": "stream",
     "text": [
      "/home/domestic_ra/anaconda2/lib/python2.7/site-packages/statsmodels/compat/pandas.py:56: FutureWarning: The pandas.core.datetools module is deprecated and will be removed in a future version. Please use the pandas.tseries module instead.\n",
      "  from pandas.core import datetools\n"
     ]
    }
   ],
   "source": [
    "import statsmodels.api as sm"
   ]
  },
  {
   "cell_type": "code",
   "execution_count": 68,
   "metadata": {},
   "outputs": [
    {
     "data": {
      "text/html": [
       "<table class=\"simpletable\">\n",
       "<caption>OLS Regression Results</caption>\n",
       "<tr>\n",
       "  <th>Dep. Variable:</th>           <td>ECI</td>       <th>  R-squared:         </th> <td>   0.658</td>\n",
       "</tr>\n",
       "<tr>\n",
       "  <th>Model:</th>                   <td>OLS</td>       <th>  Adj. R-squared:    </th> <td>   0.655</td>\n",
       "</tr>\n",
       "<tr>\n",
       "  <th>Method:</th>             <td>Least Squares</td>  <th>  F-statistic:       </th> <td>   177.3</td>\n",
       "</tr>\n",
       "<tr>\n",
       "  <th>Date:</th>             <td>Thu, 17 Aug 2017</td> <th>  Prob (F-statistic):</th> <td>3.55e-23</td>\n",
       "</tr>\n",
       "<tr>\n",
       "  <th>Time:</th>                 <td>15:11:55</td>     <th>  Log-Likelihood:    </th> <td> -59.317</td>\n",
       "</tr>\n",
       "<tr>\n",
       "  <th>No. Observations:</th>      <td>    94</td>      <th>  AIC:               </th> <td>   122.6</td>\n",
       "</tr>\n",
       "<tr>\n",
       "  <th>Df Residuals:</th>          <td>    92</td>      <th>  BIC:               </th> <td>   127.7</td>\n",
       "</tr>\n",
       "<tr>\n",
       "  <th>Df Model:</th>              <td>     1</td>      <th>                     </th>     <td> </td>   \n",
       "</tr>\n",
       "<tr>\n",
       "  <th>Covariance Type:</th>      <td>nonrobust</td>    <th>                     </th>     <td> </td>   \n",
       "</tr>\n",
       "</table>\n",
       "<table class=\"simpletable\">\n",
       "<tr>\n",
       "    <td></td>       <th>coef</th>     <th>std err</th>      <th>t</th>      <th>P>|t|</th>  <th>[0.025</th>    <th>0.975]</th>  \n",
       "</tr>\n",
       "<tr>\n",
       "  <th>const</th> <td>    9.5578</td> <td>    0.504</td> <td>   18.982</td> <td> 0.000</td> <td>    8.558</td> <td>   10.558</td>\n",
       "</tr>\n",
       "<tr>\n",
       "  <th>UPOP</th>  <td>   -0.3128</td> <td>    0.023</td> <td>  -13.315</td> <td> 0.000</td> <td>   -0.359</td> <td>   -0.266</td>\n",
       "</tr>\n",
       "</table>\n",
       "<table class=\"simpletable\">\n",
       "<tr>\n",
       "  <th>Omnibus:</th>       <td> 5.720</td> <th>  Durbin-Watson:     </th> <td>   0.268</td>\n",
       "</tr>\n",
       "<tr>\n",
       "  <th>Prob(Omnibus):</th> <td> 0.057</td> <th>  Jarque-Bera (JB):  </th> <td>   5.027</td>\n",
       "</tr>\n",
       "<tr>\n",
       "  <th>Skew:</th>          <td> 0.483</td> <th>  Prob(JB):          </th> <td>  0.0810</td>\n",
       "</tr>\n",
       "<tr>\n",
       "  <th>Kurtosis:</th>      <td> 2.408</td> <th>  Cond. No.          </th> <td>    228.</td>\n",
       "</tr>\n",
       "</table>"
      ],
      "text/plain": [
       "<class 'statsmodels.iolib.summary.Summary'>\n",
       "\"\"\"\n",
       "                            OLS Regression Results                            \n",
       "==============================================================================\n",
       "Dep. Variable:                    ECI   R-squared:                       0.658\n",
       "Model:                            OLS   Adj. R-squared:                  0.655\n",
       "Method:                 Least Squares   F-statistic:                     177.3\n",
       "Date:                Thu, 17 Aug 2017   Prob (F-statistic):           3.55e-23\n",
       "Time:                        15:11:55   Log-Likelihood:                -59.317\n",
       "No. Observations:                  94   AIC:                             122.6\n",
       "Df Residuals:                      92   BIC:                             127.7\n",
       "Df Model:                           1                                         \n",
       "Covariance Type:            nonrobust                                         \n",
       "==============================================================================\n",
       "                 coef    std err          t      P>|t|      [0.025      0.975]\n",
       "------------------------------------------------------------------------------\n",
       "const          9.5578      0.504     18.982      0.000       8.558      10.558\n",
       "UPOP          -0.3128      0.023    -13.315      0.000      -0.359      -0.266\n",
       "==============================================================================\n",
       "Omnibus:                        5.720   Durbin-Watson:                   0.268\n",
       "Prob(Omnibus):                  0.057   Jarque-Bera (JB):                5.027\n",
       "Skew:                           0.483   Prob(JB):                       0.0810\n",
       "Kurtosis:                       2.408   Cond. No.                         228.\n",
       "==============================================================================\n",
       "\n",
       "Warnings:\n",
       "[1] Standard Errors assume that the covariance matrix of the errors is correctly specified.\n",
       "\"\"\""
      ]
     },
     "execution_count": 68,
     "metadata": {},
     "output_type": "execute_result"
    }
   ],
   "source": [
    "X = df2['UPOP'] ## X usually means our input variables (or independent variables)\n",
    "y = df2['ECI'] ## Y usually means our output/dependent variable\n",
    "X = sm.add_constant(X) ## let's add an intercept (beta_0) to our model\n",
    "\n",
    "# Note the difference in argument order\n",
    "model = sm.OLS(y, X).fit() ## sm.OLS(output, input)\n",
    "predictions = model.predict(X)\n",
    "\n",
    "# Print out the statistics\n",
    "model.summary()"
   ]
  }
 ],
 "metadata": {
  "kernelspec": {
   "display_name": "Python [default]",
   "language": "python",
   "name": "python2"
  },
  "language_info": {
   "codemirror_mode": {
    "name": "ipython",
    "version": 2
   },
   "file_extension": ".py",
   "mimetype": "text/x-python",
   "name": "python",
   "nbconvert_exporter": "python",
   "pygments_lexer": "ipython2",
   "version": "2.7.12"
  }
 },
 "nbformat": 4,
 "nbformat_minor": 2
}
