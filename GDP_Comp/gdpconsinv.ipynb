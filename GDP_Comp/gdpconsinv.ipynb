{
 "cells": [
  {
   "cell_type": "markdown",
   "metadata": {},
   "source": [
    "# U.S. GDP, Consumption, and Investment\n",
    "\n",
    "## Brian Dew, brianwdew@gmail.com"
   ]
  },
  {
   "cell_type": "markdown",
   "metadata": {},
   "source": [
    "## Python Example\n",
    "This example shows how Python can be used to gather and plot data on the Fed's broad index of the foreign exchange value of the dollar. The script gathers data from [Fred](https://research.stlouisfed.org/fred2/series/DTWEXM) and plots movements since 2014."
   ]
  },
  {
   "cell_type": "markdown",
   "metadata": {},
   "source": [
    "## Gathering data\n",
    "First, we import pandas, numpy, and matplotlib and give them conventional short names. We will also use datetime and date."
   ]
  },
  {
   "cell_type": "code",
   "execution_count": 21,
   "metadata": {
    "collapsed": true
   },
   "outputs": [],
   "source": [
    "# Import libraries\n",
    "import pandas as pd\n",
    "import numpy as np\n",
    "import matplotlib as mpl\n",
    "import matplotlib.pyplot as plt\n",
    "%matplotlib inline\n",
    "import datetime\n",
    "from datetime import date"
   ]
  },
  {
   "cell_type": "markdown",
   "metadata": {},
   "source": [
    "Next, we use the pandas.io.data package to request the data from Fred. I've found the code for our series of interest, DTWEXM, by searching, but you can also find it on the Fred site by source (Board of Governors of the Federal Reserve System), or by release (H.10). We paste the series code into the datareader and provide start and end dates. Pandas retrieves the data into a dataframe."
   ]
  },
  {
   "cell_type": "code",
   "execution_count": 28,
   "metadata": {
    "collapsed": false
   },
   "outputs": [
    {
     "data": {
      "text/html": [
       "<div>\n",
       "<table border=\"1\" class=\"dataframe\">\n",
       "  <thead>\n",
       "    <tr style=\"text-align: right;\">\n",
       "      <th></th>\n",
       "      <th>loggdp</th>\n",
       "      <th>logpce</th>\n",
       "      <th>loginv</th>\n",
       "    </tr>\n",
       "    <tr>\n",
       "      <th>DATE</th>\n",
       "      <th></th>\n",
       "      <th></th>\n",
       "      <th></th>\n",
       "    </tr>\n",
       "  </thead>\n",
       "  <tbody>\n",
       "    <tr>\n",
       "      <th>2014-10-01</th>\n",
       "      <td>10.635192</td>\n",
       "      <td>8.963827</td>\n",
       "      <td>9.066245</td>\n",
       "    </tr>\n",
       "    <tr>\n",
       "      <th>2015-01-01</th>\n",
       "      <td>10.635460</td>\n",
       "      <td>8.963973</td>\n",
       "      <td>9.085130</td>\n",
       "    </tr>\n",
       "    <tr>\n",
       "      <th>2015-04-01</th>\n",
       "      <td>10.643982</td>\n",
       "      <td>8.972496</td>\n",
       "      <td>9.095519</td>\n",
       "    </tr>\n",
       "    <tr>\n",
       "      <th>2015-07-01</th>\n",
       "      <td>10.646878</td>\n",
       "      <td>8.980393</td>\n",
       "      <td>9.091629</td>\n",
       "    </tr>\n",
       "    <tr>\n",
       "      <th>2015-10-01</th>\n",
       "      <td>10.648879</td>\n",
       "      <td>8.979999</td>\n",
       "      <td>9.087075</td>\n",
       "    </tr>\n",
       "  </tbody>\n",
       "</table>\n",
       "</div>"
      ],
      "text/plain": [
       "               loggdp    logpce    loginv\n",
       "DATE                                     \n",
       "2014-10-01  10.635192  8.963827  9.066245\n",
       "2015-01-01  10.635460  8.963973  9.085130\n",
       "2015-04-01  10.643982  8.972496  9.095519\n",
       "2015-07-01  10.646878  8.980393  9.091629\n",
       "2015-10-01  10.648879  8.979999  9.087075"
      ]
     },
     "execution_count": 28,
     "metadata": {},
     "output_type": "execute_result"
    }
   ],
   "source": [
    "import pandas_datareader.data as webdata\n",
    "tstart = datetime.datetime(1973, 1, 1)\n",
    "tend = datetime.datetime(2016, 4, 1)\n",
    "frednames = \"GDPC1\", \"GPDIC1\", \"B230RC0Q173SBEA\", \"NNBGFNQ027S\", \"GCEC1\", \"PCNDGC96\", \"DSERRA3Q086SBEA\"\n",
    "#retrieve trade-weighted dollar data from fred\n",
    "gdpcomp = webdata.DataReader(frednames, \"fred\", tstart, tend);\n",
    "#calculate output as GDP - Government Spending\n",
    "gdpcomp['outcap'] = ((gdpcomp['GDPC1'] - gdpcomp['GCEC1']) * 1000000) / gdpcomp['B230RC0Q173SBEA']\n",
    "#calculate consumption as nondurables + services\n",
    "gdpcomp['conscap'] = ((gdpcomp['PCNDGC96'] + gdpcomp['DSERRA3Q086SBEA']) * 1000000) / gdpcomp['B230RC0Q173SBEA']\n",
    "#calculate gross private investment per capita\n",
    "gdpcomp['invcap'] = (gdpcomp['GPDIC1'] * 1000000) / gdpcomp['B230RC0Q173SBEA']\n",
    "#take log of three key variables\n",
    "gdpcomp['loggdp'] = np.log(gdpcomp['outcap'])\n",
    "gdpcomp['logpce'] = np.log(gdpcomp['conscap'])\n",
    "gdpcomp['loginv'] = np.log(gdpcomp['invcap'])\n",
    "#display five most recent observations\n",
    "gdpcomp[['loggdp','logpce','loginv']].tail(5)"
   ]
  },
  {
   "cell_type": "markdown",
   "metadata": {},
   "source": [
    "## Line plots of data\n",
    "Lastly, we can use matplotlib to plot the data. The past week has seen this measure of oil prices reach nearly $40 per barrel. "
   ]
  },
  {
   "cell_type": "code",
   "execution_count": 29,
   "metadata": {
    "collapsed": false
   },
   "outputs": [
    {
     "data": {
      "image/png": "[encoded data removed]",
      "text/plain": [
       "<matplotlib.figure.Figure at 0xb22a6a0>"
      ]
     },
     "metadata": {},
     "output_type": "display_data"
    }
   ],
   "source": [
    "#Create figure and plot dtwexm\n",
    "fig = plt.figure(figsize=[7,5])\n",
    "ax1 = plt.subplot(111)\n",
    "linegdp = gdpcomp.loggdp.plot(color='blue',linewidth=3)\n",
    "linepce = gdpcomp.logpce.plot(color='red',linewidth=3)\n",
    "lineinv = gdpcomp.loginv.plot(color='green',linewidth=3)\n",
    "\n",
    "#Add a title\n",
    "ax1.set_title('GDP, Consumption, and Investment', fontsize=18)\n",
    "\n",
    "#Add y label and no x-label since it is dates\n",
    "ax1.set_ylabel('Log of billions of USD')\n",
    "ax1.set_xlabel('')\n",
    "\n",
    "#Axis options\n",
    "ax1.spines[\"top\"].set_visible(False)  \n",
    "ax1.spines[\"right\"].set_visible(False)  \n",
    "ax1.get_xaxis().tick_bottom()\n",
    "ax1.get_yaxis().tick_left()\n",
    "ax1.tick_params(axis='x', which='major', labelsize=8)\n",
    "\n",
    "#Annotate with text\n",
    "url = 'https://research.stlouisfed.org/'\n",
    "fig.text(0.05, 0.025, 'Source: ' + url)\n",
    "fig.text(0.65, 0.16, 'briandew.wordpress.com')\n",
    "\n",
    "#Save as png\n",
    "plt.savefig('gdpcomp.png', dpi=1000)"
   ]
  },
  {
   "cell_type": "code",
   "execution_count": null,
   "metadata": {
    "collapsed": true
   },
   "outputs": [],
   "source": []
  }
 ],
 "metadata": {
  "kernelspec": {
   "display_name": "Python 2",
   "language": "python",
   "name": "python2"
  },
  "language_info": {
   "codemirror_mode": {
    "name": "ipython",
    "version": 2
   },
   "file_extension": ".py",
   "mimetype": "text/x-python",
   "name": "python",
   "nbconvert_exporter": "python",
   "pygments_lexer": "ipython2",
   "version": "2.7.10"
  }
 },
 "nbformat": 4,
 "nbformat_minor": 0
}
