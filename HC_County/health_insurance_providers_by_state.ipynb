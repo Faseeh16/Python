{
 "cells": [
  {
   "cell_type": "markdown",
   "metadata": {},
   "source": [
    "## Health Insurance Issuers by County--Republican states offer fewer options\n",
    "\n",
    "Using the Bloomberg data from this story: https://www.bloomberg.com/graphics/2017-health-insurer-exits/ matched with populationd data from Census and the Governor's party affiliation from the NGA."
   ]
  },
  {
   "cell_type": "code",
   "execution_count": 1,
   "metadata": {
    "collapsed": true
   },
   "outputs": [],
   "source": [
    "import pandas as pd"
   ]
  },
  {
   "cell_type": "markdown",
   "metadata": {},
   "source": [
    "#### Collect data"
   ]
  },
  {
   "cell_type": "code",
   "execution_count": 2,
   "metadata": {
    "collapsed": false
   },
   "outputs": [],
   "source": [
    "df = pd.read_csv('issuers_bloomberg_data.csv').query('year == 2017').set_index('year')\n",
    "df = df.groupby('fips_county').issuer_name.count()\n",
    "\n",
    "df2 = pd.read_csv('census_pop.csv').set_index('state').join(\n",
    "    pd.read_csv('nga_gov_list.csv').set_index('state')).dropna().reset_index().set_index('fips_county')\n",
    "data = df2.join(df).dropna()"
   ]
  },
  {
   "cell_type": "code",
   "execution_count": 3,
   "metadata": {
    "collapsed": true
   },
   "outputs": [],
   "source": [
    "data.to_csv('clean_data.csv')"
   ]
  },
  {
   "cell_type": "markdown",
   "metadata": {},
   "source": [
    "#### Basic calculations"
   ]
  },
  {
   "cell_type": "code",
   "execution_count": 4,
   "metadata": {
    "collapsed": false
   },
   "outputs": [],
   "source": [
    "data['issuer_number'] = data['issuer_name']\n",
    "d = {1: '1', 2: '2', 3: '3+', 4: '3+', 5: '3+', 6: '3+', 7: '3+', 8: '3+', 9: '3+', 10: '3+', 11: '3+', 12: '3+', 13: '3+'}\n",
    "data = data.replace({'issuer_number': d})"
   ]
  },
  {
   "cell_type": "code",
   "execution_count": 5,
   "metadata": {
    "collapsed": false
   },
   "outputs": [
    {
     "data": {
      "text/plain": [
       "gov_party    issuer_number\n",
       "Democratic   1                 10714794\n",
       "             2                 24084228\n",
       "             3+                92549769\n",
       "Independent  1                   733845\n",
       "Republican   1                 40182082\n",
       "             2                 40763075\n",
       "             3+               113395998\n",
       "Name: pop, dtype: int64"
      ]
     },
     "execution_count": 5,
     "metadata": {},
     "output_type": "execute_result"
    }
   ],
   "source": [
    "pd.pivot_table(data, values='pop', index=['gov_party', 'issuer_number'], aggfunc=sum)"
   ]
  },
  {
   "cell_type": "code",
   "execution_count": 6,
   "metadata": {
    "collapsed": false
   },
   "outputs": [
    {
     "data": {
      "text/plain": [
       "gov_party    issuer_number\n",
       "Democratic   1                  2114291\n",
       "             2                 22537943\n",
       "             3+                92549769\n",
       "Independent  1                   733845\n",
       "Republican   1                 40182082\n",
       "             2                 40763075\n",
       "             3+               113395998\n",
       "Name: pop, dtype: int64"
      ]
     },
     "execution_count": 6,
     "metadata": {},
     "output_type": "execute_result"
    }
   ],
   "source": [
    "pd.pivot_table(data[~data['state'].str.contains('NC')], values='pop', index=['gov_party', 'issuer_number'], aggfunc=sum)"
   ]
  },
  {
   "cell_type": "code",
   "execution_count": 7,
   "metadata": {
    "collapsed": false
   },
   "outputs": [
    {
     "data": {
      "text/plain": [
       "issuer_number\n",
       "1      51630721\n",
       "2      64847303\n",
       "3+    205945767\n",
       "Name: pop, dtype: int64"
      ]
     },
     "execution_count": 7,
     "metadata": {},
     "output_type": "execute_result"
    }
   ],
   "source": [
    "pd.pivot_table(data, values='pop', index=['issuer_number'], aggfunc=sum)"
   ]
  },
  {
   "cell_type": "code",
   "execution_count": 8,
   "metadata": {
    "collapsed": false
   },
   "outputs": [
    {
     "data": {
      "text/plain": [
       "gov_party    issuer_number\n",
       "Democratic   1                0.018040\n",
       "             2                0.192300\n",
       "             3+               0.789660\n",
       "Independent  1                1.000000\n",
       "Republican   1                0.206761\n",
       "             2                0.209750\n",
       "             3+               0.583489\n",
       "Name: pop, dtype: float64"
      ]
     },
     "execution_count": 8,
     "metadata": {},
     "output_type": "execute_result"
    }
   ],
   "source": [
    "pd.pivot_table(data[~data['state'].str.contains('NC')], values='pop', index=['gov_party', 'issuer_number'], aggfunc=sum).groupby(level=0).transform(lambda x: x/x.sum())"
   ]
  },
  {
   "cell_type": "code",
   "execution_count": 9,
   "metadata": {
    "collapsed": false
   },
   "outputs": [
    {
     "data": {
      "text/plain": [
       "50"
      ]
     },
     "execution_count": 9,
     "metadata": {},
     "output_type": "execute_result"
    }
   ],
   "source": [
    "len(data['state'].unique())"
   ]
  },
  {
   "cell_type": "code",
   "execution_count": 10,
   "metadata": {
    "collapsed": false
   },
   "outputs": [
    {
     "data": {
      "text/plain": [
       "gov_party    issuer_number\n",
       "Democratic   1                  2114291\n",
       "             2                 22537943\n",
       "             3+                92549769\n",
       "Independent  1                   733845\n",
       "Republican   1                 40182082\n",
       "             2                 40763075\n",
       "             3+               113395998\n",
       "Name: pop, dtype: int64"
      ]
     },
     "execution_count": 10,
     "metadata": {},
     "output_type": "execute_result"
    }
   ],
   "source": [
    "pd.pivot_table(data[~data['state'].str.contains('NC')], values='pop', index=['gov_party', 'issuer_number'], aggfunc=sum)#.groupby(level=0).transform(lambda x: x/x.sum())"
   ]
  },
  {
   "cell_type": "markdown",
   "metadata": {},
   "source": []
  },
  {
   "cell_type": "code",
   "execution_count": 11,
   "metadata": {
    "collapsed": true
   },
   "outputs": [],
   "source": [
    "tot = 51630721.0\n",
    "d_sh = 10714794.0/tot\n",
    "r_sh = 40182082.0/tot\n",
    "tot_nc = 43030218.0\n",
    "d_sh_nc = 10714794.0/tot_nc\n",
    "r_sh_nc = 40182082.0/tot_nc"
   ]
  },
  {
   "cell_type": "code",
   "execution_count": 12,
   "metadata": {
    "collapsed": false
   },
   "outputs": [
    {
     "data": {
      "text/plain": [
       "0.24900626810675233"
      ]
     },
     "execution_count": 12,
     "metadata": {},
     "output_type": "execute_result"
    }
   ],
   "source": [
    "d_sh_nc"
   ]
  }
 ],
 "metadata": {
  "kernelspec": {
   "display_name": "Python 2",
   "language": "python",
   "name": "python2"
  },
  "language_info": {
   "codemirror_mode": {
    "name": "ipython",
    "version": 2
   },
   "file_extension": ".py",
   "mimetype": "text/x-python",
   "name": "python",
   "nbconvert_exporter": "python",
   "pygments_lexer": "ipython2",
   "version": "2.7.13"
  }
 },
 "nbformat": 4,
 "nbformat_minor": 2
}
