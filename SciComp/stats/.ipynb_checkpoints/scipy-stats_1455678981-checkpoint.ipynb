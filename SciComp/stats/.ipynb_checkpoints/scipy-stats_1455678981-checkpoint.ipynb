{
 "cells": [
  {
   "cell_type": "markdown",
   "metadata": {},
   "source": [
    "# Scipy Stats"
   ]
  },
  {
   "cell_type": "code",
   "execution_count": null,
   "metadata": {
    "collapsed": true
   },
   "outputs": [],
   "source": [
    "# Imports required but not shown in the video lecture.\n",
    "import numpy as np\n",
    "from numpy import arange, array, linspace, nan\n",
    "from matplotlib.pyplot import fill_between, hist, legend, plot, stem, title\n",
    "%matplotlib inline"
   ]
  },
  {
   "cell_type": "code",
   "execution_count": null,
   "metadata": {
    "collapsed": false
   },
   "outputs": [],
   "source": [
    "np.set_printoptions(precision=3, suppress=True)"
   ]
  },
  {
   "cell_type": "code",
   "execution_count": null,
   "metadata": {
    "collapsed": false
   },
   "outputs": [],
   "source": [
    "heights = array([1.46,  1.79, 2.01, 1.75, 1.56, 1.69, 1.88, 1.76, 1.88,  1.78])"
   ]
  },
  {
   "cell_type": "code",
   "execution_count": null,
   "metadata": {
    "collapsed": false
   },
   "outputs": [],
   "source": [
    "print \"mean, \", heights.mean()\n",
    "print \"min, \", heights.min()\n",
    "print \"max, \", heights.max()\n",
    "print \"standard deviation, \", heights.std()"
   ]
  },
  {
   "cell_type": "code",
   "execution_count": null,
   "metadata": {
    "collapsed": false
   },
   "outputs": [],
   "source": [
    "import scipy.stats.stats as st"
   ]
  },
  {
   "cell_type": "code",
   "execution_count": null,
   "metadata": {
    "collapsed": false
   },
   "outputs": [],
   "source": [
    "print \"median, \", st.nanmedian(heights)\n",
    "print \"mode, \", st.mode(heights)\n",
    "print \"skewness, \", st.skew(heights)\n",
    "print \"kurtosis, \", st.kurtosis(heights)\n",
    "print \"and so many more ...\""
   ]
  },
  {
   "cell_type": "code",
   "execution_count": null,
   "metadata": {
    "collapsed": false
   },
   "outputs": [],
   "source": [
    "heights[2] = nan\n",
    "print heights.mean()\n",
    "print st.nanmean(heights)"
   ]
  },
  {
   "cell_type": "markdown",
   "metadata": {},
   "source": [
    "# Probability distributions"
   ]
  },
  {
   "cell_type": "code",
   "execution_count": null,
   "metadata": {
    "collapsed": false
   },
   "outputs": [],
   "source": [
    "from scipy.stats import norm"
   ]
  },
  {
   "cell_type": "code",
   "execution_count": null,
   "metadata": {
    "collapsed": false
   },
   "outputs": [],
   "source": [
    "x_norm = norm.rvs(size=500)\n",
    "print type(x_norm), x_norm.shape"
   ]
  },
  {
   "cell_type": "code",
   "execution_count": null,
   "metadata": {
    "collapsed": false
   },
   "outputs": [],
   "source": [
    "h = hist(x_norm)\n",
    "print \"counts, \", h[0]\n",
    "print \"bin centers, \", h[1]"
   ]
  },
  {
   "cell_type": "code",
   "execution_count": null,
   "metadata": {
    "collapsed": false
   },
   "outputs": [],
   "source": [
    "h = hist(x_norm, normed=True, bins=20)"
   ]
  },
  {
   "cell_type": "code",
   "execution_count": null,
   "metadata": {
    "collapsed": false
   },
   "outputs": [],
   "source": [
    "x_mean, x_std = norm.fit(x_norm)\n",
    "print \"mean, \", x_mean\n",
    "print \"standard deviation, \", x_std"
   ]
  },
  {
   "cell_type": "code",
   "execution_count": null,
   "metadata": {
    "collapsed": false
   },
   "outputs": [],
   "source": [
    "x = linspace(-3, 3, 50)\n",
    "h = hist(x_norm, normed=True, bins=20)\n",
    "p = plot(x, norm.pdf(x), 'r-')"
   ]
  },
  {
   "cell_type": "code",
   "execution_count": null,
   "metadata": {
    "collapsed": false
   },
   "outputs": [],
   "source": [
    "from scipy.integrate import trapz\n",
    "x1 = np.linspace(-2,2,100)\n",
    "p = trapz(norm.pdf(x1), x1)\n",
    "print \"{:.2%} of values lie between -2 and +2.\".format(p)\n",
    "fb = fill_between(x1, norm.pdf(x1), color=\"gray\")\n",
    "p = plot(x, norm.pdf(x), 'k-')\n"
   ]
  },
  {
   "cell_type": "code",
   "execution_count": null,
   "metadata": {
    "collapsed": false
   },
   "outputs": [],
   "source": [
    "p = plot(x, norm.pdf(x, loc=0, scale=1))\n",
    "p = plot(x, norm.pdf(x, loc=0.5, scale = 2))\n",
    "p = plot(x, norm.pdf(x, loc=-0.5, scale=0.5))"
   ]
  },
  {
   "cell_type": "code",
   "execution_count": null,
   "metadata": {
    "collapsed": false
   },
   "outputs": [],
   "source": [
    "from scipy.stats import lognorm, t, dweibull"
   ]
  },
  {
   "cell_type": "code",
   "execution_count": null,
   "metadata": {
    "collapsed": false
   },
   "outputs": [],
   "source": [
    "x = np.linspace(0.01,3,100)\n",
    "p = plot(x, lognorm.pdf(x, 1), label=\"s=1\")\n",
    "p = plot(x, lognorm.pdf(x, 2), label=\"s=2\")\n",
    "p = plot(x, lognorm.pdf(x, 0.1), label=\"s=0.1\")\n",
    "l = legend()"
   ]
  },
  {
   "cell_type": "code",
   "execution_count": null,
   "metadata": {
    "collapsed": false
   },
   "outputs": [],
   "source": [
    "x = np.linspace(0.01,3,100)\n",
    "p = plot(x, dweibull.pdf(x, 1), label=\"s=1 - constant failure rate\")\n",
    "p = plot(x, dweibull.pdf(x, 2), label=\"s>1 - increasing failure rate\")\n",
    "p = plot(x, dweibull.pdf(x, 0.1), label=\"0<s<1 - decreasing failure rate\")\n",
    "l = legend()\n",
    "t = title(\"Weibull 'time to failure' distribution\")"
   ]
  },
  {
   "cell_type": "code",
   "execution_count": null,
   "metadata": {
    "collapsed": false
   },
   "outputs": [],
   "source": [
    "from scipy.stats import t\n",
    "x = np.linspace(-3,3,100)\n",
    "p = plot(x, t.pdf(x, 1), label=\"df=1\")\n",
    "p = plot(x, t.pdf(x, 2), label=\"df=2\")\n",
    "p = plot(x, t.pdf(x, 100), label=\"df=100\")\n",
    "p = plot(x[::5], norm.pdf(x[::5]), \"kx\", label=\"normal\")\n",
    "l = legend()\n",
    "pt = title(\"Student's t-distribution\")"
   ]
  },
  {
   "cell_type": "markdown",
   "metadata": {},
   "source": [
    "# Discrete Distributions"
   ]
  },
  {
   "cell_type": "code",
   "execution_count": null,
   "metadata": {
    "collapsed": false
   },
   "outputs": [],
   "source": [
    "from scipy.stats import binom, poisson, randint"
   ]
  },
  {
   "cell_type": "code",
   "execution_count": null,
   "metadata": {
    "collapsed": false
   },
   "outputs": [],
   "source": [
    "min = -10\n",
    "max = 10\n",
    "x = arange(min, max+1, 0.5)\n",
    "p = stem(x, randint(min, max).pmf(x))\n",
    "t = title(\"Uniform distribution\")"
   ]
  },
  {
   "cell_type": "code",
   "execution_count": null,
   "metadata": {
    "collapsed": false
   },
   "outputs": [],
   "source": [
    "num_trials = 50\n",
    "x = arange(num_trials)\n",
    "p = plot(x, binom(num_trials, 0.5).pmf(x), \"o-\", label=\"p=0.5\")\n",
    "p = plot(x, binom(num_trials, 0.2).pmf(x), \"o-\", label=\"p=0.2\")\n",
    "l = legend(loc=\"upper right\")\n",
    "t = title(\"Binomial distribution with 50 trials\")"
   ]
  },
  {
   "cell_type": "code",
   "execution_count": null,
   "metadata": {
    "collapsed": false
   },
   "outputs": [],
   "source": [
    "x = arange(0,21)\n",
    "p = plot(x, poisson(1).pmf(x), 'o-', label=r\"$\\lambda$=1\")\n",
    "p = plot(x, poisson(4).pmf(x), 'o-', label=r\"$\\lambda$=4\")\n",
    "p = plot(x, poisson(9).pmf(x), 'o-', label=r\"$\\lambda$=9\")\n",
    "l = legend()\n",
    "t = title(\"Poisson 'number of occurrences' distribution\")"
   ]
  },
  {
   "cell_type": "markdown",
   "metadata": {},
   "source": [
    "## Creating your own discrete distribution"
   ]
  },
  {
   "cell_type": "code",
   "execution_count": null,
   "metadata": {
    "collapsed": false
   },
   "outputs": [],
   "source": [
    "from scipy.stats import rv_discrete"
   ]
  },
  {
   "cell_type": "code",
   "execution_count": null,
   "metadata": {
    "collapsed": false
   },
   "outputs": [],
   "source": [
    "xk = [1, 2, 3, 4, 5, 6]\n",
    "pk = [0.3, 0.35, 0.25, 0.05, 0.025, 0.025]"
   ]
  },
  {
   "cell_type": "code",
   "execution_count": null,
   "metadata": {
    "collapsed": false
   },
   "outputs": [],
   "source": [
    "loaded = rv_discrete(values=(xk, pk))"
   ]
  },
  {
   "cell_type": "code",
   "execution_count": null,
   "metadata": {
    "collapsed": false
   },
   "outputs": [],
   "source": [
    "loaded.rvs(size=2)"
   ]
  },
  {
   "cell_type": "code",
   "execution_count": null,
   "metadata": {
    "collapsed": false
   },
   "outputs": [],
   "source": [
    "samples = loaded.rvs(size=100)\n",
    "bins = linspace(0.5, 6.5, 7)"
   ]
  },
  {
   "cell_type": "code",
   "execution_count": null,
   "metadata": {
    "collapsed": false
   },
   "outputs": [],
   "source": [
    "h = hist(samples, bins=bins, normed=True)\n",
    "s = stem(xk, loaded.pmf(xk), markerfmt= 'ro', linefmt='r-')"
   ]
  },
  {
   "cell_type": "markdown",
   "metadata": {},
   "source": [
    "Copyright 2008-2016, Enthought, Inc.<br>Use only permitted under license.  Copying, sharing, redistributing or other unauthorized use strictly prohibited.<br>http://www.enthought.com"
   ]
  }
 ],
 "metadata": {
  "kernelspec": {
   "display_name": "Python 2",
   "language": "python",
   "name": "python2"
  },
  "language_info": {
   "codemirror_mode": {
    "name": "ipython",
    "version": 2
   },
   "file_extension": ".py",
   "mimetype": "text/x-python",
   "name": "python",
   "nbconvert_exporter": "python",
   "pygments_lexer": "ipython2",
   "version": "2.7.11"
  }
 },
 "nbformat": 4,
 "nbformat_minor": 0
}
