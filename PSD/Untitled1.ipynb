{
 "cells": [
  {
   "cell_type": "code",
   "execution_count": 1,
   "metadata": {
    "collapsed": true
   },
   "outputs": [],
   "source": [
    "import pandas as pd\n",
    "import plotly\n",
    "import plotly.plotly as py\n",
    "from plotly.graph_objs import *\n",
    "from plotly.grid_objs import Column, Grid\n",
    "\n",
    "import config   ## File with API keys (just to prevent my API keys from being public)\n",
    "plotly.tools.set_credentials_file(username='bdew', api_key=config.plotly_key)"
   ]
  },
  {
   "cell_type": "code",
   "execution_count": 10,
   "metadata": {
    "collapsed": false
   },
   "outputs": [],
   "source": [
    "df = pd.read_csv('psd_data.csv')[0:6].iloc[::-1]"
   ]
  },
  {
   "cell_type": "code",
   "execution_count": 6,
   "metadata": {
    "collapsed": false
   },
   "outputs": [
    {
     "data": {
      "text/plain": [
       "Index([u'category', u'2012', u'2016', u'2017'], dtype='object')"
      ]
     },
     "execution_count": 6,
     "metadata": {},
     "output_type": "execute_result"
    }
   ],
   "source": [
    "df.keys()"
   ]
  },
  {
   "cell_type": "code",
   "execution_count": 11,
   "metadata": {
    "collapsed": false
   },
   "outputs": [
    {
     "data": {
      "text/html": [
       "<iframe id=\"igraph\" scrolling=\"no\" style=\"border:none;\" seamless=\"seamless\" src=\"https://plot.ly/~bdew/135.embed\" height=\"400px\" width=\"500px\"></iframe>"
      ],
      "text/plain": [
       "<plotly.tools.PlotlyDisplay object>"
      ]
     },
     "execution_count": 11,
     "metadata": {},
     "output_type": "execute_result"
    }
   ],
   "source": [
    "trace1 = {\n",
    "  \"x\": df['2012'], \n",
    "  \"y\": df['category'], \n",
    "  \"hoverinfo\": \"x+y\", \n",
    "  \"marker\": {\n",
    "    \"color\": \"rgb(127, 127, 127)\", \n",
    "    \"opacity\": 1, \n",
    "    \"size\": 10\n",
    "  }, \n",
    "  \"mode\": \"markers\", \n",
    "  \"name\": \"Race/gender\", \n",
    "  \"type\": \"scatter\"\n",
    "}\n",
    "trace2 = {\n",
    "  \"x\": df['2017'], \n",
    "  \"y\": df['category'], \n",
    "  \"hoverinfo\": \"x+y\", \n",
    "  \"marker\": {\n",
    "    \"color\": \"rgb(31, 119, 180)\", \n",
    "    \"size\": 10\n",
    "  }, \n",
    "  \"mode\": \"markers\", \n",
    "  \"name\": \"Race/gender\", \n",
    "  \"type\": \"scatter\"\n",
    "}\n",
    "data = Data([trace1, trace2])\n",
    "layout = {\n",
    "  \"annotations\": [\n",
    "    {\n",
    "      \"x\": -0.240606060606, \n",
    "      \"y\": 1.15405405405, \n",
    "      \"align\": \"left\", \n",
    "      \"font\": {\"size\": 14}, \n",
    "      \"showarrow\": False, \n",
    "      \"text\": \"Paid sick days<br><i>Share of people with access</i>\", \n",
    "      \"xref\": \"paper\", \n",
    "      \"yref\": \"paper\"\n",
    "    }\n",
    "  ], \n",
    "  \"autosize\": False, \n",
    "  \"font\": {\"size\": 14}, \n",
    "  \"height\": 400, \n",
    "  \"hovermode\": \"closest\", \n",
    "  \"margin\": {\n",
    "    \"r\": 20, \n",
    "    \"t\": 70, \n",
    "    \"b\": 60, \n",
    "    \"l\": 140, \n",
    "    \"pad\": 0\n",
    "  }, \n",
    "  \"showlegend\": False, \n",
    "  \"titlefont\": {\"size\": 16}, \n",
    "  \"width\": 500, \n",
    "  \"xaxis\": {\n",
    "    \"autorange\": False, \n",
    "    \"fixedrange\": True, \n",
    "    \"range\": [20, 95], \n",
    "    \"showgrid\": True, \n",
    "    \"tickfont\": {\"family\": \"Balto\"}, \n",
    "    \"tickprefix\": \"\", \n",
    "    \"title\": \"\", \n",
    "    \"titlefont\": {\"size\": 14}, \n",
    "    \"type\": \"-\"\n",
    "  }, \n",
    "  \"yaxis\": {\n",
    "    \"autorange\": True, \n",
    "    \"fixedrange\": True, \n",
    "    \"range\": [-0.690966719493, 8.69096671949], \n",
    "    \"showgrid\": False, \n",
    "    \"tickfont\": {\"family\": \"Balto\"}, \n",
    "    \"title\": \"<br>\", \n",
    "    \"titlefont\": {\"size\": 14}, \n",
    "    \"type\": \"category\"\n",
    "  }\n",
    "}\n",
    "fig = Figure(data=data, layout=layout)\n",
    "py.iplot(fig, filename='PSD')"
   ]
  }
 ],
 "metadata": {
  "kernelspec": {
   "display_name": "Python 2",
   "language": "python",
   "name": "python2"
  },
  "language_info": {
   "codemirror_mode": {
    "name": "ipython",
    "version": 2
   },
   "file_extension": ".py",
   "mimetype": "text/x-python",
   "name": "python",
   "nbconvert_exporter": "python",
   "pygments_lexer": "ipython2",
   "version": "2.7.13"
  }
 },
 "nbformat": 4,
 "nbformat_minor": 2
}
