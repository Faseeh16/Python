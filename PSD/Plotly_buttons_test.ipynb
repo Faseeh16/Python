{
 "cells": [
  {
   "cell_type": "markdown",
   "metadata": {},
   "source": [
    "### Testing plotly buttons\n",
    "\n",
    "Brian Dew<br>\n",
    "August 9, 2017"
   ]
  },
  {
   "cell_type": "code",
   "execution_count": 1,
   "metadata": {
    "collapsed": true
   },
   "outputs": [],
   "source": [
    "import plotly\n",
    "import plotly.plotly as py\n",
    "from plotly.graph_objs import *\n",
    "\n",
    "import config   ## File with API keys (just to prevent my API keys from being public)\n",
    "plotly.tools.set_credentials_file(username='bdew', api_key=config.plotly_key)"
   ]
  },
  {
   "cell_type": "code",
   "execution_count": 4,
   "metadata": {
    "collapsed": true
   },
   "outputs": [],
   "source": [
    "x = [2010, 2011, 2012, 2013]\n",
    "y = [6,8,3,5]\n",
    "y2 = [7,4,9,1]\n",
    "text = ['Foo 2010: 6%', 'Bar 2011: 8%', 'Baz 2012: 3%', 'Qux 2013: 5%']\n",
    "text2 = ['Foo 2010: 7%', 'Bar 2011: 4%', 'Baz 2012: 9%', 'Qux 2013: 1%']\n",
    "annotations = [{'x': 0, 'y': 1.19, 'font': {'size': 18}, \n",
    "                'text': 'Test Plot Title', 'showarrow': False,\n",
    "                'xref': 'paper', 'yref': 'paper'}]\n",
    "\n",
    "plot_settings = {'height': 300, 'width': 400, 'autosize': False,\n",
    "                'annotations': annotations, 'margin':{\n",
    "                    'r':0,\n",
    "                    't':40,\n",
    "                    'b':40,\n",
    "                    'l':20\n",
    "                }}\n",
    "\n",
    "updatemenus=[{'buttons':[{'args': ['Bar.y', 'y'], \n",
    "                        'label': 'Data 1', \n",
    "                        'method': 'restyle'},\n",
    "                       {'args': ['Bar.y', 'y2'], \n",
    "                        'label': 'Data 2', \n",
    "                        'method': 'update'}], \n",
    "              'direction': 'left',\n",
    "              'showactive': True,\n",
    "              'type': 'buttons',\n",
    "              'x': 0.1,\n",
    "              'xanchor': 'left',\n",
    "              'y': 1.1,\n",
    "              'yanchor': 'top'}\n",
    "            ]"
   ]
  },
  {
   "cell_type": "code",
   "execution_count": 5,
   "metadata": {},
   "outputs": [
    {
     "data": {
      "text/html": [
       "<iframe id=\"igraph\" scrolling=\"no\" style=\"border:none;\" seamless=\"seamless\" src=\"https://plot.ly/~bdew/171.embed\" height=\"300px\" width=\"400px\"></iframe>"
      ],
      "text/plain": [
       "<plotly.tools.PlotlyDisplay object>"
      ]
     },
     "execution_count": 5,
     "metadata": {},
     "output_type": "execute_result"
    }
   ],
   "source": [
    "data = [Bar(x=x, \n",
    "            y=y, \n",
    "            text=text, \n",
    "            hoverinfo=\"text\", \n",
    "            marker = {\"color\": \"rgb(31, 73, 125)\"})]\n",
    "\n",
    "layout = Layout(plot_settings)\n",
    "layout['updatemenus'] = updatemenus\n",
    "\n",
    "fig = Figure(data=data, layout=layout)\n",
    "py.iplot(fig, filename='plotly_test')"
   ]
  }
 ],
 "metadata": {
  "kernelspec": {
   "display_name": "Python 2",
   "language": "python",
   "name": "python2"
  },
  "language_info": {
   "codemirror_mode": {
    "name": "ipython",
    "version": 2
   },
   "file_extension": ".py",
   "mimetype": "text/x-python",
   "name": "python",
   "nbconvert_exporter": "python",
   "pygments_lexer": "ipython2",
   "version": "2.7.13"
  }
 },
 "nbformat": 4,
 "nbformat_minor": 2
}
