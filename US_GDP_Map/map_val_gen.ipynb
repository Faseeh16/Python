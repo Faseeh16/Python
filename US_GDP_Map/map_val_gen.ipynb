{
 "cells": [
  {
   "cell_type": "markdown",
   "metadata": {},
   "source": [
    "Generate State Value Groupings for Chartbook Maps\n",
    "=======\n",
    "\n",
    "*Brian Dew*<br>\n",
    "*September 17, 2017*<br>\n",
    "*@bd_econ*"
   ]
  },
  {
   "cell_type": "code",
   "execution_count": 1,
   "metadata": {
    "ExecuteTime": {
     "end_time": "2018-03-13T00:17:27.301429Z",
     "start_time": "2018-03-13T00:17:25.223148Z"
    }
   },
   "outputs": [],
   "source": [
    "# Import preliminaries\n",
    "import requests\n",
    "import pandas as pd\n",
    "import config   ## File with API key\n",
    "api_key = config.key\n",
    "\n",
    "# Load list of state names and postal abbreviations\n",
    "states = pd.read_csv('state_abbrevs.csv').set_index('State')"
   ]
  },
  {
   "cell_type": "markdown",
   "metadata": {},
   "source": [
    "## Mapping state-level changes to real GDP\n",
    "\n",
    "Data source: U.S. Bureau of Economic Analysis\n",
    "\n",
    "https://www.bea.gov/newsreleases/regional/gdp_state/qgsp_newsrelease.htm"
   ]
  },
  {
   "cell_type": "code",
   "execution_count": 2,
   "metadata": {
    "collapsed": true
   },
   "outputs": [],
   "source": [
    "# Components of request\n",
    "base = 'https://www.bea.gov/api/data/?&UserID={}'.format(api_key)\n",
    "m = '&method=GetData'\n",
    "dsn = '&datasetname=RegionalProduct'\n",
    "ind = '&IndustryId=1'\n",
    "comp = '&Component=RGDP_SQN'\n",
    "geo = '&GeoFIPS=STATE'\n",
    "year = '&Year=LAST5'\n",
    "fmt = '&ResultFormat=json'\n",
    "\n",
    "# Combined url for request\n",
    "url = '{}{}{}{}{}{}{}{}'.format(base, m, dsn, ind, comp, geo, year, fmt)"
   ]
  },
  {
   "cell_type": "code",
   "execution_count": 3,
   "metadata": {
    "collapsed": true
   },
   "outputs": [],
   "source": [
    "# Make request and load data into pandas dataframe, show last 5 obs\n",
    "r = requests.get(url).json()\n",
    "df = pd.DataFrame(r['BEAAPI']['Results']['Data'])\n",
    "df = df[df['GeoName'].isin(states.index)]\n",
    "df['date'] = pd.to_datetime(df['TimePeriod'])\n",
    "df = df.sort_values(['GeoName', 'date'])\n",
    "df = df.set_index(['GeoName', 'date'])['DataValue']\n",
    "df = df.apply(pd.to_numeric, errors='coerce').unstack(0)"
   ]
  },
  {
   "cell_type": "code",
   "execution_count": 4,
   "metadata": {},
   "outputs": [
    {
     "data": {
      "text/plain": [
       "GeoName\n",
       "Alabama                   9261\n",
       "Alaska                   -3212\n",
       "Arizona                  15822\n",
       "Arkansas                  5032\n",
       "California              166615\n",
       "Colorado                 15641\n",
       "Connecticut                472\n",
       "Delaware                  2244\n",
       "District of Columbia      5309\n",
       "Florida                  57315\n",
       "Georgia                  31854\n",
       "Hawaii                    3253\n",
       "Idaho                     3292\n",
       "Illinois                 20510\n",
       "Indiana                  15576\n",
       "Iowa                      5339\n",
       "Kansas                    -638\n",
       "Kentucky                  7791\n",
       "Louisiana                  905\n",
       "Maine                     2323\n",
       "Maryland                 14527\n",
       "Massachusetts            23500\n",
       "Michigan                 29962\n",
       "Minnesota                15733\n",
       "Mississippi               3589\n",
       "Missouri                  5339\n",
       "Montana                   1089\n",
       "Nebraska                   871\n",
       "Nevada                    6534\n",
       "New Hampshire             3757\n",
       "New Jersey               15003\n",
       "New Mexico                1966\n",
       "New York                 38373\n",
       "North Carolina           20437\n",
       "North Dakota             -3858\n",
       "Ohio                     21536\n",
       "Oklahoma                 -5746\n",
       "Oregon                   15185\n",
       "Pennsylvania             21807\n",
       "Rhode Island              1408\n",
       "South Carolina           10340\n",
       "South Dakota               373\n",
       "Tennessee                18932\n",
       "Texas                    48167\n",
       "Utah                     11604\n",
       "Vermont                    768\n",
       "Virginia                 16305\n",
       "Washington               41840\n",
       "West Virginia             1797\n",
       "Wisconsin                10781\n",
       "Wyoming                    206\n",
       "dtype: int64"
      ]
     },
     "execution_count": 4,
     "metadata": {},
     "output_type": "execute_result"
    }
   ],
   "source": [
    "df.iloc[-1] - df.iloc[8]"
   ]
  },
  {
   "cell_type": "code",
   "execution_count": 5,
   "metadata": {
    "collapsed": true
   },
   "outputs": [],
   "source": [
    "# Calculate growth rate by state\n",
    "for s in df.keys():\n",
    "    df[s] = ((1 + (df[s] - df[s].shift(1))/df[s].shift(1))**4 - 1) * 100"
   ]
  },
  {
   "cell_type": "code",
   "execution_count": 6,
   "metadata": {},
   "outputs": [
    {
     "name": "stderr",
     "output_type": "stream",
     "text": [
      "C:\\Users\\BDew\\Anaconda2\\lib\\site-packages\\ipykernel\\__main__.py:4: FutureWarning: set_value is deprecated and will be removed in a future release. Please use .at[] or .iat[] accessors instead\n"
     ]
    }
   ],
   "source": [
    "date = '{} Q{}'.format(df.index[-1].year, df.index[-1].quarter)\n",
    "df1 = df.tail(1).stack().reset_index()[['GeoName', 0]]\n",
    "df1['Abbrev'] = df1['GeoName'].map(states.to_dict()['Abbreviation'])\n",
    "df1 = df1.set_index('GeoName').set_value('Michigan', 'Abbrev', 'MI, SP')\n",
    "\n",
    "gdp_rng = [(-10, -5), (-5, -2), (-2, 0), (0, 2), (2, 5), (5, 10)]"
   ]
  },
  {
   "cell_type": "code",
   "execution_count": 8,
   "metadata": {},
   "outputs": [
    {
     "data": {
      "text/html": [
       "<div>\n",
       "<style scoped>\n",
       "    .dataframe tbody tr th:only-of-type {\n",
       "        vertical-align: middle;\n",
       "    }\n",
       "\n",
       "    .dataframe tbody tr th {\n",
       "        vertical-align: top;\n",
       "    }\n",
       "\n",
       "    .dataframe thead th {\n",
       "        text-align: right;\n",
       "    }\n",
       "</style>\n",
       "<table border=\"1\" class=\"dataframe\">\n",
       "  <thead>\n",
       "    <tr style=\"text-align: right;\">\n",
       "      <th></th>\n",
       "      <th>0</th>\n",
       "      <th>Abbrev</th>\n",
       "    </tr>\n",
       "    <tr>\n",
       "      <th>GeoName</th>\n",
       "      <th></th>\n",
       "      <th></th>\n",
       "    </tr>\n",
       "  </thead>\n",
       "  <tbody>\n",
       "    <tr>\n",
       "      <th>Alabama</th>\n",
       "      <td>2.728869</td>\n",
       "      <td>AL</td>\n",
       "    </tr>\n",
       "    <tr>\n",
       "      <th>Alaska</th>\n",
       "      <td>1.883724</td>\n",
       "      <td>AK</td>\n",
       "    </tr>\n",
       "    <tr>\n",
       "      <th>Arizona</th>\n",
       "      <td>2.879225</td>\n",
       "      <td>AZ</td>\n",
       "    </tr>\n",
       "    <tr>\n",
       "      <th>Arkansas</th>\n",
       "      <td>2.012692</td>\n",
       "      <td>AR</td>\n",
       "    </tr>\n",
       "    <tr>\n",
       "      <th>California</th>\n",
       "      <td>3.394539</td>\n",
       "      <td>CA</td>\n",
       "    </tr>\n",
       "    <tr>\n",
       "      <th>Colorado</th>\n",
       "      <td>3.691489</td>\n",
       "      <td>CO</td>\n",
       "    </tr>\n",
       "    <tr>\n",
       "      <th>Connecticut</th>\n",
       "      <td>3.886307</td>\n",
       "      <td>CT</td>\n",
       "    </tr>\n",
       "    <tr>\n",
       "      <th>Delaware</th>\n",
       "      <td>5.720682</td>\n",
       "      <td>DE</td>\n",
       "    </tr>\n",
       "    <tr>\n",
       "      <th>District of Columbia</th>\n",
       "      <td>2.498770</td>\n",
       "      <td>DC</td>\n",
       "    </tr>\n",
       "    <tr>\n",
       "      <th>Florida</th>\n",
       "      <td>3.037034</td>\n",
       "      <td>FL</td>\n",
       "    </tr>\n",
       "    <tr>\n",
       "      <th>Georgia</th>\n",
       "      <td>3.227449</td>\n",
       "      <td>GA</td>\n",
       "    </tr>\n",
       "    <tr>\n",
       "      <th>Hawaii</th>\n",
       "      <td>1.284316</td>\n",
       "      <td>HI</td>\n",
       "    </tr>\n",
       "    <tr>\n",
       "      <th>Idaho</th>\n",
       "      <td>2.770162</td>\n",
       "      <td>ID</td>\n",
       "    </tr>\n",
       "    <tr>\n",
       "      <th>Illinois</th>\n",
       "      <td>3.502661</td>\n",
       "      <td>IL</td>\n",
       "    </tr>\n",
       "    <tr>\n",
       "      <th>Indiana</th>\n",
       "      <td>2.738009</td>\n",
       "      <td>IN</td>\n",
       "    </tr>\n",
       "    <tr>\n",
       "      <th>Iowa</th>\n",
       "      <td>2.215184</td>\n",
       "      <td>IA</td>\n",
       "    </tr>\n",
       "    <tr>\n",
       "      <th>Kansas</th>\n",
       "      <td>2.136707</td>\n",
       "      <td>KS</td>\n",
       "    </tr>\n",
       "    <tr>\n",
       "      <th>Kentucky</th>\n",
       "      <td>2.205215</td>\n",
       "      <td>KY</td>\n",
       "    </tr>\n",
       "    <tr>\n",
       "      <th>Louisiana</th>\n",
       "      <td>1.087524</td>\n",
       "      <td>LA</td>\n",
       "    </tr>\n",
       "    <tr>\n",
       "      <th>Maine</th>\n",
       "      <td>3.184422</td>\n",
       "      <td>ME</td>\n",
       "    </tr>\n",
       "    <tr>\n",
       "      <th>Maryland</th>\n",
       "      <td>2.599753</td>\n",
       "      <td>MD</td>\n",
       "    </tr>\n",
       "    <tr>\n",
       "      <th>Massachusetts</th>\n",
       "      <td>3.759618</td>\n",
       "      <td>MA</td>\n",
       "    </tr>\n",
       "    <tr>\n",
       "      <th>Michigan</th>\n",
       "      <td>3.542784</td>\n",
       "      <td>MI, SP</td>\n",
       "    </tr>\n",
       "    <tr>\n",
       "      <th>Minnesota</th>\n",
       "      <td>2.355348</td>\n",
       "      <td>MN</td>\n",
       "    </tr>\n",
       "    <tr>\n",
       "      <th>Mississippi</th>\n",
       "      <td>2.651450</td>\n",
       "      <td>MS</td>\n",
       "    </tr>\n",
       "    <tr>\n",
       "      <th>Missouri</th>\n",
       "      <td>3.560763</td>\n",
       "      <td>MO</td>\n",
       "    </tr>\n",
       "    <tr>\n",
       "      <th>Montana</th>\n",
       "      <td>2.031767</td>\n",
       "      <td>MT</td>\n",
       "    </tr>\n",
       "    <tr>\n",
       "      <th>Nebraska</th>\n",
       "      <td>1.865963</td>\n",
       "      <td>NE</td>\n",
       "    </tr>\n",
       "    <tr>\n",
       "      <th>Nevada</th>\n",
       "      <td>3.257013</td>\n",
       "      <td>NV</td>\n",
       "    </tr>\n",
       "    <tr>\n",
       "      <th>New Hampshire</th>\n",
       "      <td>4.360175</td>\n",
       "      <td>NH</td>\n",
       "    </tr>\n",
       "    <tr>\n",
       "      <th>New Jersey</th>\n",
       "      <td>2.688559</td>\n",
       "      <td>NJ</td>\n",
       "    </tr>\n",
       "    <tr>\n",
       "      <th>New Mexico</th>\n",
       "      <td>1.676882</td>\n",
       "      <td>NM</td>\n",
       "    </tr>\n",
       "    <tr>\n",
       "      <th>New York</th>\n",
       "      <td>4.031318</td>\n",
       "      <td>NY</td>\n",
       "    </tr>\n",
       "    <tr>\n",
       "      <th>North Carolina</th>\n",
       "      <td>3.029088</td>\n",
       "      <td>NC</td>\n",
       "    </tr>\n",
       "    <tr>\n",
       "      <th>North Dakota</th>\n",
       "      <td>1.747620</td>\n",
       "      <td>ND</td>\n",
       "    </tr>\n",
       "    <tr>\n",
       "      <th>Ohio</th>\n",
       "      <td>3.892574</td>\n",
       "      <td>OH</td>\n",
       "    </tr>\n",
       "    <tr>\n",
       "      <th>Oklahoma</th>\n",
       "      <td>2.752474</td>\n",
       "      <td>OK</td>\n",
       "    </tr>\n",
       "    <tr>\n",
       "      <th>Oregon</th>\n",
       "      <td>3.822355</td>\n",
       "      <td>OR</td>\n",
       "    </tr>\n",
       "    <tr>\n",
       "      <th>Pennsylvania</th>\n",
       "      <td>3.233725</td>\n",
       "      <td>PA</td>\n",
       "    </tr>\n",
       "    <tr>\n",
       "      <th>Rhode Island</th>\n",
       "      <td>3.488602</td>\n",
       "      <td>RI</td>\n",
       "    </tr>\n",
       "    <tr>\n",
       "      <th>South Carolina</th>\n",
       "      <td>2.932607</td>\n",
       "      <td>SC</td>\n",
       "    </tr>\n",
       "    <tr>\n",
       "      <th>South Dakota</th>\n",
       "      <td>0.502208</td>\n",
       "      <td>SD</td>\n",
       "    </tr>\n",
       "    <tr>\n",
       "      <th>Tennessee</th>\n",
       "      <td>2.955252</td>\n",
       "      <td>TN</td>\n",
       "    </tr>\n",
       "    <tr>\n",
       "      <th>Texas</th>\n",
       "      <td>5.007302</td>\n",
       "      <td>TX</td>\n",
       "    </tr>\n",
       "    <tr>\n",
       "      <th>Utah</th>\n",
       "      <td>3.915040</td>\n",
       "      <td>UT</td>\n",
       "    </tr>\n",
       "    <tr>\n",
       "      <th>Vermont</th>\n",
       "      <td>3.393497</td>\n",
       "      <td>VT</td>\n",
       "    </tr>\n",
       "    <tr>\n",
       "      <th>Virginia</th>\n",
       "      <td>2.268460</td>\n",
       "      <td>VA</td>\n",
       "    </tr>\n",
       "    <tr>\n",
       "      <th>Washington</th>\n",
       "      <td>4.302501</td>\n",
       "      <td>WA</td>\n",
       "    </tr>\n",
       "    <tr>\n",
       "      <th>West Virginia</th>\n",
       "      <td>2.937658</td>\n",
       "      <td>WV</td>\n",
       "    </tr>\n",
       "    <tr>\n",
       "      <th>Wisconsin</th>\n",
       "      <td>3.174650</td>\n",
       "      <td>WI</td>\n",
       "    </tr>\n",
       "    <tr>\n",
       "      <th>Wyoming</th>\n",
       "      <td>2.450750</td>\n",
       "      <td>WY</td>\n",
       "    </tr>\n",
       "  </tbody>\n",
       "</table>\n",
       "</div>"
      ],
      "text/plain": [
       "                             0  Abbrev\n",
       "GeoName                               \n",
       "Alabama               2.728869      AL\n",
       "Alaska                1.883724      AK\n",
       "Arizona               2.879225      AZ\n",
       "Arkansas              2.012692      AR\n",
       "California            3.394539      CA\n",
       "Colorado              3.691489      CO\n",
       "Connecticut           3.886307      CT\n",
       "Delaware              5.720682      DE\n",
       "District of Columbia  2.498770      DC\n",
       "Florida               3.037034      FL\n",
       "Georgia               3.227449      GA\n",
       "Hawaii                1.284316      HI\n",
       "Idaho                 2.770162      ID\n",
       "Illinois              3.502661      IL\n",
       "Indiana               2.738009      IN\n",
       "Iowa                  2.215184      IA\n",
       "Kansas                2.136707      KS\n",
       "Kentucky              2.205215      KY\n",
       "Louisiana             1.087524      LA\n",
       "Maine                 3.184422      ME\n",
       "Maryland              2.599753      MD\n",
       "Massachusetts         3.759618      MA\n",
       "Michigan              3.542784  MI, SP\n",
       "Minnesota             2.355348      MN\n",
       "Mississippi           2.651450      MS\n",
       "Missouri              3.560763      MO\n",
       "Montana               2.031767      MT\n",
       "Nebraska              1.865963      NE\n",
       "Nevada                3.257013      NV\n",
       "New Hampshire         4.360175      NH\n",
       "New Jersey            2.688559      NJ\n",
       "New Mexico            1.676882      NM\n",
       "New York              4.031318      NY\n",
       "North Carolina        3.029088      NC\n",
       "North Dakota          1.747620      ND\n",
       "Ohio                  3.892574      OH\n",
       "Oklahoma              2.752474      OK\n",
       "Oregon                3.822355      OR\n",
       "Pennsylvania          3.233725      PA\n",
       "Rhode Island          3.488602      RI\n",
       "South Carolina        2.932607      SC\n",
       "South Dakota          0.502208      SD\n",
       "Tennessee             2.955252      TN\n",
       "Texas                 5.007302      TX\n",
       "Utah                  3.915040      UT\n",
       "Vermont               3.393497      VT\n",
       "Virginia              2.268460      VA\n",
       "Washington            4.302501      WA\n",
       "West Virginia         2.937658      WV\n",
       "Wisconsin             3.174650      WI\n",
       "Wyoming               2.450750      WY"
      ]
     },
     "execution_count": 8,
     "metadata": {},
     "output_type": "execute_result"
    }
   ],
   "source": [
    "df1"
   ]
  },
  {
   "cell_type": "code",
   "execution_count": 7,
   "metadata": {},
   "outputs": [
    {
     "name": "stdout",
     "output_type": "stream",
     "text": [
      "\n",
      "\n",
      "\n",
      "AK, HI, LA, NE, NM, ND, SD\n",
      "AL, AZ, AR, CA, CO, CT, DC, FL, GA, ID, IL, IN, IA, KS, KY, ME, MD, MA, MI, SP, MN, MS, MO, MT, NV, NH, NJ, NY, NC, OH, OK, OR, PA, RI, SC, TN, UT, VT, VA, WA, WV, WI, WY\n",
      "DE, TX\n"
     ]
    }
   ],
   "source": [
    "for i, val in enumerate(gdp_rng):\n",
    "    print(', '.join(df1[(df1[0] > val[0]) & \n",
    "                       (df1[0] <= val[1])]['Abbrev'].values))"
   ]
  },
  {
   "cell_type": "markdown",
   "metadata": {},
   "source": [
    "## Employment-Population Ratio by State"
   ]
  },
  {
   "cell_type": "code",
   "execution_count": 2,
   "metadata": {
    "ExecuteTime": {
     "end_time": "2018-03-13T00:17:32.801724Z",
     "start_time": "2018-03-13T00:17:32.786108Z"
    }
   },
   "outputs": [],
   "source": [
    "data_url = 'https://www.bls.gov/web/laus/ststdsadata.txt'\n",
    "\n",
    "cols = ['State', 'Pop', 'LF', 'LFsh', 'Empl', 'EPOP', 'Unempl', 'Unrate']\n",
    "\n",
    "epop_rng = [(50, 55), (55, 60), (60, 65), (65, 70), (70, 80)]"
   ]
  },
  {
   "cell_type": "code",
   "execution_count": 3,
   "metadata": {
    "ExecuteTime": {
     "end_time": "2018-03-13T00:17:37.270942Z",
     "start_time": "2018-03-13T00:17:35.692744Z"
    }
   },
   "outputs": [],
   "source": [
    "df = pd.read_table(data_url, header=None).iloc[-54:].reset_index()[0]\n",
    "month = df[0].strip()\n",
    "df = df[1:]\n",
    "df = df.str.strip().str.split('\\s\\s+', expand=True)\n",
    "df.columns = cols\n",
    "df['State'] = [s.split(' .')[0] for s in df['State']]\n",
    "df = df[(~df['State'].str.contains('city')) & \n",
    "        (~df['State'].str.contains('County'))]\n",
    "df['Abbr'] = df['State'].map(states.to_dict()['Abbreviation'])\n",
    "df['Abbr'] = df['Abbr'].str.replace('MI', 'MI, SP')\n",
    "df['EPOP'] = df['EPOP'].astype(float)"
   ]
  },
  {
   "cell_type": "code",
   "execution_count": 4,
   "metadata": {
    "ExecuteTime": {
     "end_time": "2018-03-13T00:19:07.952055Z",
     "start_time": "2018-03-13T00:19:07.920805Z"
    }
   },
   "outputs": [
    {
     "name": "stdout",
     "output_type": "stream",
     "text": [
      "0\n",
      "AL, MS, NM, WV\n",
      "1\n",
      "AZ, AR, CA, DE, FL, KY, LA, MI, SP, NV, NJ, NY, NC, OH, OK, PA, SC, TN\n",
      "2\n",
      "AK, CT, GA, HI, ID, IL, IN, KS, ME, MD, MA, MO, MT, OR, RI, TX, VT, VA, WA, WY\n",
      "3\n",
      "CO, DC, IA, MN, NE, NH, ND, SD, UT, WI\n",
      "4\n",
      "\n"
     ]
    }
   ],
   "source": [
    "for i, val in enumerate(epop_rng):\n",
    "    print(i)\n",
    "    print(', '.join(df[(df['EPOP'] > val[0]) & \n",
    "                       (df['EPOP'] <= val[1])]['Abbr'].values))"
   ]
  },
  {
   "cell_type": "code",
   "execution_count": 5,
   "metadata": {
    "ExecuteTime": {
     "end_time": "2018-03-13T00:20:09.478826Z",
     "start_time": "2018-03-13T00:20:09.447587Z"
    }
   },
   "outputs": [
    {
     "data": {
      "text/plain": [
       "'January 2018'"
      ]
     },
     "execution_count": 5,
     "metadata": {},
     "output_type": "execute_result"
    }
   ],
   "source": [
    "month"
   ]
  },
  {
   "cell_type": "markdown",
   "metadata": {},
   "source": [
    "## Unemployment Rate by State"
   ]
  },
  {
   "cell_type": "code",
   "execution_count": 6,
   "metadata": {
    "ExecuteTime": {
     "end_time": "2018-03-13T00:20:12.010324Z",
     "start_time": "2018-03-13T00:20:11.760313Z"
    }
   },
   "outputs": [],
   "source": [
    "lau_url = 'https://download.bls.gov/pub/time.series/la/'\n",
    "data_url = '{}la.data.3.AllStatesS'.format(lau_url)\n",
    "state_url = '{}la.state_region_division'.format(lau_url)\n",
    "\n",
    "state_codes = pd.read_table(state_url)['srd_code'].to_dict()\n",
    "s = ['LASST{:02}0000000000003'.format(k) for k, v in state_codes.items()]\n",
    "\n",
    "urate_rng = [(0,3), (3,4), (4,5), (5,6), (6,7), (7,20)]"
   ]
  },
  {
   "cell_type": "code",
   "execution_count": 7,
   "metadata": {
    "ExecuteTime": {
     "end_time": "2018-03-13T00:20:15.963718Z",
     "start_time": "2018-03-13T00:20:14.791737Z"
    }
   },
   "outputs": [],
   "source": [
    "df = pd.read_table(data_url, sep='\\s+')\n",
    "month, year = df[df['series_id'] == s[0]][['period', 'year']].iloc[-1]\n",
    "date = pd.to_datetime('{}-{}-01'.format(year, month[1:]))"
   ]
  },
  {
   "cell_type": "code",
   "execution_count": 8,
   "metadata": {
    "ExecuteTime": {
     "end_time": "2018-03-13T00:20:18.432570Z",
     "start_time": "2018-03-13T00:20:18.370056Z"
    }
   },
   "outputs": [],
   "source": [
    "data = df[(df['series_id'].isin(s)) & \n",
    "          (df['period']==month) & \n",
    "          (df['year']==year)].reset_index()\n",
    "data.loc[:, 'state'] = [state_codes[float(s_id[5:7])] \n",
    "                        for s_id in data['series_id']]\n",
    "data.loc[:, 'abbr'] = data['state'].map(\n",
    "                        states.to_dict()['Abbreviation'])\n",
    "data = data.dropna()\n",
    "data.loc[:, 'abbr'] = data['abbr'].str.replace('MI', 'MI, SP')\n",
    "data.loc[:, 'value'] = data['value'].astype(float)"
   ]
  },
  {
   "cell_type": "code",
   "execution_count": 9,
   "metadata": {
    "ExecuteTime": {
     "end_time": "2018-03-13T00:21:12.096226Z",
     "start_time": "2018-03-13T00:21:12.064988Z"
    }
   },
   "outputs": [
    {
     "name": "stdout",
     "output_type": "stream",
     "text": [
      "0\n",
      "CO, HI, ID, IA, ME, NE, NH, ND, VT\n",
      "1\n",
      "AL, AR, FL, IN, KS, MA, MN, MO, SD, TN, TX, UT, VA, WI\n",
      "2\n",
      "AZ, CA, CT, DE, GA, IL, KY, LA, MD, MI, SP, MS, MT, NV, NJ, NY, NC, OH, OK, OR, PA, RI, SC, WA, WY\n",
      "3\n",
      "DC, NM, WV\n",
      "4\n",
      "\n",
      "5\n",
      "AK\n"
     ]
    }
   ],
   "source": [
    "for i, val in enumerate(urate_rng):\n",
    "    print(i)\n",
    "    d_rng = data[(data['value'] > val[0]) & \n",
    "                         (data['value'] <= val[1])]['abbr'].values\n",
    "    if len(d_rng) > 1:\n",
    "        print(', '.join(d_rng))\n",
    "    elif len(d_rng) == 1: \n",
    "        print(d_rng.item())\n",
    "    else:\n",
    "        print()"
   ]
  },
  {
   "cell_type": "code",
   "execution_count": null,
   "metadata": {
    "collapsed": true
   },
   "outputs": [],
   "source": [
    "data"
   ]
  },
  {
   "cell_type": "markdown",
   "metadata": {},
   "source": [
    "#### Convert to .tex input\n",
    "\n"
   ]
  },
  {
   "cell_type": "code",
   "execution_count": null,
   "metadata": {
    "collapsed": true
   },
   "outputs": [],
   "source": [
    "# Tex strings \n",
    "#c_str = '\\\\tikzset{set state val/.style args={#1}{#1='\n",
    "#s_str = '\\\\tikzset{set state val/.list={'\n",
    "\n",
    "# Color categories\n",
    "#C1 = '{fill=blue!50!green}}}'\n",
    "#C2 = '{fill=green!80!blue}}}'\n",
    "#C3 = '{fill=yellow!70!green}}}'\n",
    "#C4 = '{fill=orange!60!yellow}}}'\n",
    "#C5 = '{fill=red!40!orange!80}}}'\n",
    "#C6 = '{fill=red!80!black!80}}}'"
   ]
  },
  {
   "cell_type": "code",
   "execution_count": null,
   "metadata": {
    "collapsed": true
   },
   "outputs": [],
   "source": [
    "#S1 = ', '.join(map(str, df1[df1[0] >= 5]['Abbrev'].values))\n",
    "#S2 = ', '.join(map(str, df1[(df1[0] < 5) & (df1[0] >= 2)]['Abbrev'].values))\n",
    "#S3 = ', '.join(map(str, df1[(df1[0] < 2) & (df1[0] >= 0)]['Abbrev'].values))\n",
    "#S4 = ', '.join(map(str, df1[(df1[0] < 0) & (df1[0] >= -2)]['Abbrev'].values))\n",
    "#S5 = ', '.join(map(str, df1[(df1[0] < -2) & (df1[0] >= -5)]['Abbrev'].values))\n",
    "#S6 = ', '.join(map(str, df1[df1[0] < -5]['Abbrev'].values))"
   ]
  },
  {
   "cell_type": "code",
   "execution_count": null,
   "metadata": {
    "collapsed": true
   },
   "outputs": [],
   "source": [
    "#d = {C1: S1, C2: S2, C3: S3, C4: S4, C5: S5, C6: S6}\n",
    "#for key, value in d.iteritems():\n",
    "#    print '{}{}\\n{}{}}}}}'.format(c_str, key, s_str, value)"
   ]
  }
 ],
 "metadata": {
  "kernelspec": {
   "display_name": "Python 3",
   "language": "python",
   "name": "python3"
  },
  "language_info": {
   "codemirror_mode": {
    "name": "ipython",
    "version": 3
   },
   "file_extension": ".py",
   "mimetype": "text/x-python",
   "name": "python",
   "nbconvert_exporter": "python",
   "pygments_lexer": "ipython3",
   "version": "3.6.4"
  }
 },
 "nbformat": 4,
 "nbformat_minor": 2
}
