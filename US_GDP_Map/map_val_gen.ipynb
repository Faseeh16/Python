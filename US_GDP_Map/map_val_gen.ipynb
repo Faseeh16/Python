{
 "cells": [
  {
   "cell_type": "markdown",
   "metadata": {},
   "source": [
    "Generate State Value Groupings for Chartbook Maps\n",
    "=======\n",
    "\n",
    "*Brian Dew*<br>\n",
    "*September 17, 2017*<br>\n",
    "*@bd_econ*"
   ]
  },
  {
   "cell_type": "code",
   "execution_count": 1,
   "metadata": {
    "ExecuteTime": {
     "end_time": "2018-06-09T18:45:12.621082Z",
     "start_time": "2018-06-09T18:45:12.101489Z"
    }
   },
   "outputs": [],
   "source": [
    "# Import preliminaries\n",
    "import requests\n",
    "import pandas as pd\n",
    "import config   ## File with API key\n",
    "api_key = config.key\n",
    "\n",
    "# Load list of state names and postal abbreviations\n",
    "states = pd.read_csv('state_abbrevs.csv').set_index('State')"
   ]
  },
  {
   "cell_type": "markdown",
   "metadata": {},
   "source": [
    "## Mapping state-level changes to real GDP\n",
    "\n",
    "Data source: U.S. Bureau of Economic Analysis\n",
    "\n",
    "https://www.bea.gov/newsreleases/regional/gdp_state/qgsp_newsrelease.htm"
   ]
  },
  {
   "cell_type": "code",
   "execution_count": 2,
   "metadata": {
    "ExecuteTime": {
     "end_time": "2018-06-09T18:45:14.859730Z",
     "start_time": "2018-06-09T18:45:14.855720Z"
    }
   },
   "outputs": [],
   "source": [
    "# Components of request\n",
    "base = 'https://www.bea.gov/api/data/?&UserID={}'.format(api_key)\n",
    "m = '&method=GetData'\n",
    "dsn = '&datasetname=RegionalProduct'\n",
    "ind = '&IndustryId=1'\n",
    "comp = '&Component=RGDP_SQN'\n",
    "geo = '&GeoFIPS=STATE'\n",
    "year = '&Year=LAST5'\n",
    "fmt = '&ResultFormat=json'\n",
    "\n",
    "# Combined url for request\n",
    "url = '{}{}{}{}{}{}{}{}'.format(base, m, dsn, ind, comp, geo, year, fmt)"
   ]
  },
  {
   "cell_type": "code",
   "execution_count": 3,
   "metadata": {
    "ExecuteTime": {
     "end_time": "2018-06-09T18:45:16.626734Z",
     "start_time": "2018-06-09T18:45:16.317709Z"
    }
   },
   "outputs": [],
   "source": [
    "# Make request and load data into pandas dataframe, show last 5 obs\n",
    "r = requests.get(url).json()\n",
    "df = pd.DataFrame(r['BEAAPI']['Results']['Data'])\n",
    "df = df[df['GeoName'].isin(states.index)]\n",
    "df['date'] = pd.to_datetime(df['TimePeriod'])\n",
    "df = df.sort_values(['GeoName', 'date'])\n",
    "df = df.set_index(['GeoName', 'date'])['DataValue']\n",
    "df = df.apply(pd.to_numeric, errors='coerce').unstack(0)"
   ]
  },
  {
   "cell_type": "code",
   "execution_count": 4,
   "metadata": {
    "ExecuteTime": {
     "end_time": "2018-06-09T18:45:19.321203Z",
     "start_time": "2018-06-09T18:45:19.301208Z"
    }
   },
   "outputs": [
    {
     "data": {
      "text/plain": [
       "GeoName\n",
       "Alabama                   6368\n",
       "Alaska                   -1509\n",
       "Arizona                  19739\n",
       "Arkansas                  3631\n",
       "California              191334\n",
       "Colorado                 21710\n",
       "Connecticut               2345\n",
       "Delaware                   725\n",
       "District of Columbia      5457\n",
       "Florida                  60033\n",
       "Georgia                  37217\n",
       "Hawaii                    3745\n",
       "Idaho                     4605\n",
       "Illinois                 25498\n",
       "Indiana                  16968\n",
       "Iowa                      5766\n",
       "Kansas                    4680\n",
       "Kentucky                  8168\n",
       "Louisiana                -1855\n",
       "Maine                     2911\n",
       "Maryland                 16674\n",
       "Massachusetts            26188\n",
       "Michigan                 26231\n",
       "Minnesota                14250\n",
       "Mississippi               3638\n",
       "Missouri                  5602\n",
       "Montana                    825\n",
       "Nebraska                  3331\n",
       "Nevada                   11346\n",
       "New Hampshire             4918\n",
       "New Jersey               19363\n",
       "New Mexico                1330\n",
       "New York                 31879\n",
       "North Carolina           20011\n",
       "North Dakota             -3778\n",
       "Ohio                     21187\n",
       "Oklahoma                 -7076\n",
       "Oregon                   17919\n",
       "Pennsylvania             30890\n",
       "Rhode Island              1997\n",
       "South Carolina           11809\n",
       "South Dakota              1471\n",
       "Tennessee                22626\n",
       "Texas                    54661\n",
       "Utah                     11938\n",
       "Vermont                   1032\n",
       "Virginia                 20734\n",
       "Washington               46797\n",
       "West Virginia             2420\n",
       "Wisconsin                15551\n",
       "Wyoming                   -481\n",
       "dtype: int64"
      ]
     },
     "execution_count": 4,
     "metadata": {},
     "output_type": "execute_result"
    }
   ],
   "source": [
    "df.iloc[-1] - df.iloc[8]"
   ]
  },
  {
   "cell_type": "code",
   "execution_count": 5,
   "metadata": {
    "ExecuteTime": {
     "end_time": "2018-06-09T18:45:23.113004Z",
     "start_time": "2018-06-09T18:45:23.058030Z"
    }
   },
   "outputs": [],
   "source": [
    "# Calculate growth rate by state\n",
    "for s in df.keys():\n",
    "    df[s] = ((1 + (df[s] - df[s].shift(1))/df[s].shift(1))**4 - 1) * 100"
   ]
  },
  {
   "cell_type": "code",
   "execution_count": 6,
   "metadata": {
    "ExecuteTime": {
     "end_time": "2018-06-09T18:45:24.529111Z",
     "start_time": "2018-06-09T18:45:24.487123Z"
    }
   },
   "outputs": [
    {
     "name": "stderr",
     "output_type": "stream",
     "text": [
      "C:\\Users\\BDew\\Anaconda3\\lib\\site-packages\\ipykernel_launcher.py:4: FutureWarning: set_value is deprecated and will be removed in a future release. Please use .at[] or .iat[] accessors instead\n",
      "  after removing the cwd from sys.path.\n"
     ]
    }
   ],
   "source": [
    "date = '{} Q{}'.format(df.index[-1].year, df.index[-1].quarter)\n",
    "df1 = df.tail(1).stack().reset_index()[['GeoName', 0]]\n",
    "df1['Abbrev'] = df1['GeoName'].map(states.to_dict()['Abbreviation'])\n",
    "df1 = df1.set_index('GeoName').set_value('Michigan', 'Abbrev', 'MI, SP')\n",
    "\n",
    "gdp_rng = [(-10, -5), (-5, -2), (-2, 0), (0, 2), (2, 5), (5, 10)]"
   ]
  },
  {
   "cell_type": "code",
   "execution_count": 7,
   "metadata": {
    "ExecuteTime": {
     "end_time": "2018-06-09T18:45:27.222722Z",
     "start_time": "2018-06-09T18:45:27.210716Z"
    }
   },
   "outputs": [
    {
     "data": {
      "text/html": [
       "<div>\n",
       "<style scoped>\n",
       "    .dataframe tbody tr th:only-of-type {\n",
       "        vertical-align: middle;\n",
       "    }\n",
       "\n",
       "    .dataframe tbody tr th {\n",
       "        vertical-align: top;\n",
       "    }\n",
       "\n",
       "    .dataframe thead th {\n",
       "        text-align: right;\n",
       "    }\n",
       "</style>\n",
       "<table border=\"1\" class=\"dataframe\">\n",
       "  <thead>\n",
       "    <tr style=\"text-align: right;\">\n",
       "      <th></th>\n",
       "      <th>0</th>\n",
       "      <th>Abbrev</th>\n",
       "    </tr>\n",
       "    <tr>\n",
       "      <th>GeoName</th>\n",
       "      <th></th>\n",
       "      <th></th>\n",
       "    </tr>\n",
       "  </thead>\n",
       "  <tbody>\n",
       "    <tr>\n",
       "      <th>Alabama</th>\n",
       "      <td>2.776530</td>\n",
       "      <td>AL</td>\n",
       "    </tr>\n",
       "    <tr>\n",
       "      <th>Alaska</th>\n",
       "      <td>3.080210</td>\n",
       "      <td>AK</td>\n",
       "    </tr>\n",
       "    <tr>\n",
       "      <th>Arizona</th>\n",
       "      <td>3.059271</td>\n",
       "      <td>AZ</td>\n",
       "    </tr>\n",
       "    <tr>\n",
       "      <th>Arkansas</th>\n",
       "      <td>2.488000</td>\n",
       "      <td>AR</td>\n",
       "    </tr>\n",
       "    <tr>\n",
       "      <th>California</th>\n",
       "      <td>3.400922</td>\n",
       "      <td>CA</td>\n",
       "    </tr>\n",
       "    <tr>\n",
       "      <th>Colorado</th>\n",
       "      <td>3.191187</td>\n",
       "      <td>CO</td>\n",
       "    </tr>\n",
       "    <tr>\n",
       "      <th>Connecticut</th>\n",
       "      <td>2.413552</td>\n",
       "      <td>CT</td>\n",
       "    </tr>\n",
       "    <tr>\n",
       "      <th>Delaware</th>\n",
       "      <td>0.232235</td>\n",
       "      <td>DE</td>\n",
       "    </tr>\n",
       "    <tr>\n",
       "      <th>District of Columbia</th>\n",
       "      <td>1.160540</td>\n",
       "      <td>DC</td>\n",
       "    </tr>\n",
       "    <tr>\n",
       "      <th>Florida</th>\n",
       "      <td>3.665115</td>\n",
       "      <td>FL</td>\n",
       "    </tr>\n",
       "    <tr>\n",
       "      <th>Georgia</th>\n",
       "      <td>2.546756</td>\n",
       "      <td>GA</td>\n",
       "    </tr>\n",
       "    <tr>\n",
       "      <th>Hawaii</th>\n",
       "      <td>2.034390</td>\n",
       "      <td>HI</td>\n",
       "    </tr>\n",
       "    <tr>\n",
       "      <th>Idaho</th>\n",
       "      <td>4.817094</td>\n",
       "      <td>ID</td>\n",
       "    </tr>\n",
       "    <tr>\n",
       "      <th>Illinois</th>\n",
       "      <td>2.704757</td>\n",
       "      <td>IL</td>\n",
       "    </tr>\n",
       "    <tr>\n",
       "      <th>Indiana</th>\n",
       "      <td>2.725648</td>\n",
       "      <td>IN</td>\n",
       "    </tr>\n",
       "    <tr>\n",
       "      <th>Iowa</th>\n",
       "      <td>0.695334</td>\n",
       "      <td>IA</td>\n",
       "    </tr>\n",
       "    <tr>\n",
       "      <th>Kansas</th>\n",
       "      <td>2.284882</td>\n",
       "      <td>KS</td>\n",
       "    </tr>\n",
       "    <tr>\n",
       "      <th>Kentucky</th>\n",
       "      <td>2.735299</td>\n",
       "      <td>KY</td>\n",
       "    </tr>\n",
       "    <tr>\n",
       "      <th>Louisiana</th>\n",
       "      <td>2.165520</td>\n",
       "      <td>LA</td>\n",
       "    </tr>\n",
       "    <tr>\n",
       "      <th>Maine</th>\n",
       "      <td>2.580439</td>\n",
       "      <td>ME</td>\n",
       "    </tr>\n",
       "    <tr>\n",
       "      <th>Maryland</th>\n",
       "      <td>1.169901</td>\n",
       "      <td>MD</td>\n",
       "    </tr>\n",
       "    <tr>\n",
       "      <th>Massachusetts</th>\n",
       "      <td>2.427108</td>\n",
       "      <td>MA</td>\n",
       "    </tr>\n",
       "    <tr>\n",
       "      <th>Michigan</th>\n",
       "      <td>2.432649</td>\n",
       "      <td>MI, SP</td>\n",
       "    </tr>\n",
       "    <tr>\n",
       "      <th>Minnesota</th>\n",
       "      <td>1.525731</td>\n",
       "      <td>MN</td>\n",
       "    </tr>\n",
       "    <tr>\n",
       "      <th>Mississippi</th>\n",
       "      <td>2.516649</td>\n",
       "      <td>MS</td>\n",
       "    </tr>\n",
       "    <tr>\n",
       "      <th>Missouri</th>\n",
       "      <td>2.136170</td>\n",
       "      <td>MO</td>\n",
       "    </tr>\n",
       "    <tr>\n",
       "      <th>Montana</th>\n",
       "      <td>1.289654</td>\n",
       "      <td>MT</td>\n",
       "    </tr>\n",
       "    <tr>\n",
       "      <th>Nebraska</th>\n",
       "      <td>0.900285</td>\n",
       "      <td>NE</td>\n",
       "    </tr>\n",
       "    <tr>\n",
       "      <th>Nevada</th>\n",
       "      <td>3.005807</td>\n",
       "      <td>NV</td>\n",
       "    </tr>\n",
       "    <tr>\n",
       "      <th>New Hampshire</th>\n",
       "      <td>2.510142</td>\n",
       "      <td>NH</td>\n",
       "    </tr>\n",
       "    <tr>\n",
       "      <th>New Jersey</th>\n",
       "      <td>2.138187</td>\n",
       "      <td>NJ</td>\n",
       "    </tr>\n",
       "    <tr>\n",
       "      <th>New Mexico</th>\n",
       "      <td>1.607568</td>\n",
       "      <td>NM</td>\n",
       "    </tr>\n",
       "    <tr>\n",
       "      <th>New York</th>\n",
       "      <td>-0.019717</td>\n",
       "      <td>NY</td>\n",
       "    </tr>\n",
       "    <tr>\n",
       "      <th>North Carolina</th>\n",
       "      <td>2.916268</td>\n",
       "      <td>NC</td>\n",
       "    </tr>\n",
       "    <tr>\n",
       "      <th>North Dakota</th>\n",
       "      <td>-1.298816</td>\n",
       "      <td>ND</td>\n",
       "    </tr>\n",
       "    <tr>\n",
       "      <th>Ohio</th>\n",
       "      <td>1.832796</td>\n",
       "      <td>OH</td>\n",
       "    </tr>\n",
       "    <tr>\n",
       "      <th>Oklahoma</th>\n",
       "      <td>3.306697</td>\n",
       "      <td>OK</td>\n",
       "    </tr>\n",
       "    <tr>\n",
       "      <th>Oregon</th>\n",
       "      <td>3.709976</td>\n",
       "      <td>OR</td>\n",
       "    </tr>\n",
       "    <tr>\n",
       "      <th>Pennsylvania</th>\n",
       "      <td>2.461524</td>\n",
       "      <td>PA</td>\n",
       "    </tr>\n",
       "    <tr>\n",
       "      <th>Rhode Island</th>\n",
       "      <td>2.721333</td>\n",
       "      <td>RI</td>\n",
       "    </tr>\n",
       "    <tr>\n",
       "      <th>South Carolina</th>\n",
       "      <td>3.024920</td>\n",
       "      <td>SC</td>\n",
       "    </tr>\n",
       "    <tr>\n",
       "      <th>South Dakota</th>\n",
       "      <td>-0.544093</td>\n",
       "      <td>SD</td>\n",
       "    </tr>\n",
       "    <tr>\n",
       "      <th>Tennessee</th>\n",
       "      <td>2.978905</td>\n",
       "      <td>TN</td>\n",
       "    </tr>\n",
       "    <tr>\n",
       "      <th>Texas</th>\n",
       "      <td>5.155341</td>\n",
       "      <td>TX</td>\n",
       "    </tr>\n",
       "    <tr>\n",
       "      <th>Utah</th>\n",
       "      <td>2.224759</td>\n",
       "      <td>UT</td>\n",
       "    </tr>\n",
       "    <tr>\n",
       "      <th>Vermont</th>\n",
       "      <td>2.338492</td>\n",
       "      <td>VT</td>\n",
       "    </tr>\n",
       "    <tr>\n",
       "      <th>Virginia</th>\n",
       "      <td>2.526039</td>\n",
       "      <td>VA</td>\n",
       "    </tr>\n",
       "    <tr>\n",
       "      <th>Washington</th>\n",
       "      <td>3.115416</td>\n",
       "      <td>WA</td>\n",
       "    </tr>\n",
       "    <tr>\n",
       "      <th>West Virginia</th>\n",
       "      <td>1.007327</td>\n",
       "      <td>WV</td>\n",
       "    </tr>\n",
       "    <tr>\n",
       "      <th>Wisconsin</th>\n",
       "      <td>3.115780</td>\n",
       "      <td>WI</td>\n",
       "    </tr>\n",
       "    <tr>\n",
       "      <th>Wyoming</th>\n",
       "      <td>1.683175</td>\n",
       "      <td>WY</td>\n",
       "    </tr>\n",
       "  </tbody>\n",
       "</table>\n",
       "</div>"
      ],
      "text/plain": [
       "                             0  Abbrev\n",
       "GeoName                               \n",
       "Alabama               2.776530      AL\n",
       "Alaska                3.080210      AK\n",
       "Arizona               3.059271      AZ\n",
       "Arkansas              2.488000      AR\n",
       "California            3.400922      CA\n",
       "Colorado              3.191187      CO\n",
       "Connecticut           2.413552      CT\n",
       "Delaware              0.232235      DE\n",
       "District of Columbia  1.160540      DC\n",
       "Florida               3.665115      FL\n",
       "Georgia               2.546756      GA\n",
       "Hawaii                2.034390      HI\n",
       "Idaho                 4.817094      ID\n",
       "Illinois              2.704757      IL\n",
       "Indiana               2.725648      IN\n",
       "Iowa                  0.695334      IA\n",
       "Kansas                2.284882      KS\n",
       "Kentucky              2.735299      KY\n",
       "Louisiana             2.165520      LA\n",
       "Maine                 2.580439      ME\n",
       "Maryland              1.169901      MD\n",
       "Massachusetts         2.427108      MA\n",
       "Michigan              2.432649  MI, SP\n",
       "Minnesota             1.525731      MN\n",
       "Mississippi           2.516649      MS\n",
       "Missouri              2.136170      MO\n",
       "Montana               1.289654      MT\n",
       "Nebraska              0.900285      NE\n",
       "Nevada                3.005807      NV\n",
       "New Hampshire         2.510142      NH\n",
       "New Jersey            2.138187      NJ\n",
       "New Mexico            1.607568      NM\n",
       "New York             -0.019717      NY\n",
       "North Carolina        2.916268      NC\n",
       "North Dakota         -1.298816      ND\n",
       "Ohio                  1.832796      OH\n",
       "Oklahoma              3.306697      OK\n",
       "Oregon                3.709976      OR\n",
       "Pennsylvania          2.461524      PA\n",
       "Rhode Island          2.721333      RI\n",
       "South Carolina        3.024920      SC\n",
       "South Dakota         -0.544093      SD\n",
       "Tennessee             2.978905      TN\n",
       "Texas                 5.155341      TX\n",
       "Utah                  2.224759      UT\n",
       "Vermont               2.338492      VT\n",
       "Virginia              2.526039      VA\n",
       "Washington            3.115416      WA\n",
       "West Virginia         1.007327      WV\n",
       "Wisconsin             3.115780      WI\n",
       "Wyoming               1.683175      WY"
      ]
     },
     "execution_count": 7,
     "metadata": {},
     "output_type": "execute_result"
    }
   ],
   "source": [
    "df1"
   ]
  },
  {
   "cell_type": "code",
   "execution_count": 8,
   "metadata": {
    "ExecuteTime": {
     "end_time": "2018-06-09T18:45:31.487297Z",
     "start_time": "2018-06-09T18:45:31.478300Z"
    }
   },
   "outputs": [
    {
     "name": "stdout",
     "output_type": "stream",
     "text": [
      "\n",
      "\n",
      "NY, ND, SD\n",
      "DE, DC, IA, MD, MN, MT, NE, NM, OH, WV, WY\n",
      "AL, AK, AZ, AR, CA, CO, CT, FL, GA, HI, ID, IL, IN, KS, KY, LA, ME, MA, MI, SP, MS, MO, NV, NH, NJ, NC, OK, OR, PA, RI, SC, TN, UT, VT, VA, WA, WI\n",
      "TX\n"
     ]
    }
   ],
   "source": [
    "for i, val in enumerate(gdp_rng):\n",
    "    print(', '.join(df1[(df1[0] > val[0]) & \n",
    "                       (df1[0] <= val[1])]['Abbrev'].values))"
   ]
  },
  {
   "cell_type": "markdown",
   "metadata": {},
   "source": [
    "## Employment-Population Ratio by State"
   ]
  },
  {
   "cell_type": "code",
   "execution_count": 4,
   "metadata": {
    "ExecuteTime": {
     "end_time": "2018-05-18T22:59:50.813914Z",
     "start_time": "2018-05-18T22:59:50.793771Z"
    }
   },
   "outputs": [],
   "source": [
    "data_url = 'https://www.bls.gov/web/laus/ststdsadata.txt'\n",
    "\n",
    "cols = ['State', 'Pop', 'LF', 'LFsh', 'Empl', 'EPOP', 'Unempl', 'Unrate']\n",
    "\n",
    "epop_rng = [(50, 55), (55, 60), (60, 65), (65, 70), (70, 80)]"
   ]
  },
  {
   "cell_type": "code",
   "execution_count": 5,
   "metadata": {
    "ExecuteTime": {
     "end_time": "2018-05-18T22:59:54.133549Z",
     "start_time": "2018-05-18T22:59:52.593675Z"
    }
   },
   "outputs": [],
   "source": [
    "df = pd.read_table(data_url, header=None).iloc[-54:].reset_index()[0]\n",
    "month = df[0].strip()\n",
    "df = df[1:]\n",
    "df = df.str.strip().str.split('\\s\\s+', expand=True)\n",
    "df.columns = cols\n",
    "df['State'] = [s.split(' .')[0] for s in df['State']]\n",
    "df = df[(~df['State'].str.contains('city')) & \n",
    "        (~df['State'].str.contains('County'))]\n",
    "df['Abbr'] = df['State'].map(states.to_dict()['Abbreviation'])\n",
    "df['Abbr'] = df['Abbr'].str.replace('MI', 'MI, SP')\n",
    "df['EPOP'] = df['EPOP'].astype(float)"
   ]
  },
  {
   "cell_type": "code",
   "execution_count": 6,
   "metadata": {
    "ExecuteTime": {
     "end_time": "2018-05-18T23:02:07.463769Z",
     "start_time": "2018-05-18T23:02:07.443517Z"
    },
    "scrolled": true
   },
   "outputs": [
    {
     "name": "stdout",
     "output_type": "stream",
     "text": [
      "0\n",
      "AL, MS, NM, WV\n",
      "1\n",
      "AZ, AR, CA, DE, FL, KY, LA, MI, SP, MT, NV, NJ, NY, NC, OH, OK, PA, SC, TN\n",
      "2\n",
      "AK, CT, GA, HI, ID, IL, IN, KS, ME, MD, MA, MO, OR, RI, TX, VA, WA, WY\n",
      "3\n",
      "CO, DC, IA, MN, NE, NH, ND, SD, UT, VT, WI\n",
      "4\n",
      "\n"
     ]
    }
   ],
   "source": [
    "for i, val in enumerate(epop_rng):\n",
    "    print(i)\n",
    "    print(', '.join(df[(df['EPOP'] > val[0]) & \n",
    "                       (df['EPOP'] <= val[1])]['Abbr'].values))"
   ]
  },
  {
   "cell_type": "code",
   "execution_count": 7,
   "metadata": {
    "ExecuteTime": {
     "end_time": "2018-05-18T23:02:11.573748Z",
     "start_time": "2018-05-18T23:02:11.543810Z"
    }
   },
   "outputs": [
    {
     "data": {
      "text/plain": [
       "'April 2018'"
      ]
     },
     "execution_count": 7,
     "metadata": {},
     "output_type": "execute_result"
    }
   ],
   "source": [
    "month"
   ]
  },
  {
   "cell_type": "markdown",
   "metadata": {},
   "source": [
    "## Unemployment Rate by State"
   ]
  },
  {
   "cell_type": "code",
   "execution_count": 8,
   "metadata": {
    "ExecuteTime": {
     "end_time": "2018-05-18T23:03:19.183612Z",
     "start_time": "2018-05-18T23:03:18.973736Z"
    }
   },
   "outputs": [],
   "source": [
    "lau_url = 'https://download.bls.gov/pub/time.series/la/'\n",
    "data_url = '{}la.data.3.AllStatesS'.format(lau_url)\n",
    "state_url = '{}la.state_region_division'.format(lau_url)\n",
    "\n",
    "state_codes = pd.read_table(state_url)['srd_code'].to_dict()\n",
    "s = ['LASST{:02}0000000000003'.format(k) for k, v in state_codes.items()]\n",
    "\n",
    "urate_rng = [(0,3), (3,4), (4,5), (5,6), (6,7), (7,20)]"
   ]
  },
  {
   "cell_type": "code",
   "execution_count": 9,
   "metadata": {
    "ExecuteTime": {
     "end_time": "2018-05-18T23:03:21.483545Z",
     "start_time": "2018-05-18T23:03:20.053623Z"
    }
   },
   "outputs": [],
   "source": [
    "df = pd.read_table(data_url, sep='\\s+')\n",
    "month, year = df[df['series_id'] == s[0]][['period', 'year']].iloc[-1]\n",
    "date = pd.to_datetime('{}-{}-01'.format(year, month[1:]))"
   ]
  },
  {
   "cell_type": "code",
   "execution_count": 10,
   "metadata": {
    "ExecuteTime": {
     "end_time": "2018-05-18T23:03:22.463832Z",
     "start_time": "2018-05-18T23:03:22.404464Z"
    }
   },
   "outputs": [],
   "source": [
    "data = df[(df['series_id'].isin(s)) & \n",
    "          (df['period']==month) & \n",
    "          (df['year']==year)].reset_index()\n",
    "data.loc[:, 'state'] = [state_codes[float(s_id[5:7])] \n",
    "                        for s_id in data['series_id']]\n",
    "data.loc[:, 'abbr'] = data['state'].map(\n",
    "                        states.to_dict()['Abbreviation'])\n",
    "data = data.dropna()\n",
    "data.loc[:, 'abbr'] = data['abbr'].str.replace('MI', 'MI, SP')\n",
    "data.loc[:, 'value'] = data['value'].astype(float)"
   ]
  },
  {
   "cell_type": "code",
   "execution_count": 11,
   "metadata": {
    "ExecuteTime": {
     "end_time": "2018-05-18T23:03:25.943657Z",
     "start_time": "2018-05-18T23:03:25.913852Z"
    }
   },
   "outputs": [
    {
     "name": "stdout",
     "output_type": "stream",
     "text": [
      "0\n",
      "CO, HI, ID, IA, ME, NE, NH, ND, VT, WI\n",
      "1\n",
      "AL, AR, FL, IN, KS, KY, MA, MN, MO, MT, OK, SD, TN, UT, VA, WY\n",
      "2\n",
      "AZ, CA, CT, DE, GA, IL, LA, MD, MI, SP, MS, NV, NJ, NY, NC, OH, OR, PA, RI, SC, TX, WA\n",
      "3\n",
      "DC, NM, WV\n",
      "4\n",
      "\n",
      "5\n",
      "AK\n"
     ]
    }
   ],
   "source": [
    "for i, val in enumerate(urate_rng):\n",
    "    print(i)\n",
    "    d_rng = data[(data['value'] > val[0]) & \n",
    "                         (data['value'] <= val[1])]['abbr'].values\n",
    "    if len(d_rng) > 1:\n",
    "        print(', '.join(d_rng))\n",
    "    elif len(d_rng) == 1: \n",
    "        print(d_rng.item())\n",
    "    else:\n",
    "        print()"
   ]
  },
  {
   "cell_type": "code",
   "execution_count": null,
   "metadata": {
    "collapsed": true
   },
   "outputs": [],
   "source": [
    "data"
   ]
  },
  {
   "cell_type": "markdown",
   "metadata": {},
   "source": [
    "#### Convert to .tex input\n",
    "\n"
   ]
  },
  {
   "cell_type": "code",
   "execution_count": null,
   "metadata": {
    "collapsed": true
   },
   "outputs": [],
   "source": [
    "# Tex strings \n",
    "#c_str = '\\\\tikzset{set state val/.style args={#1}{#1='\n",
    "#s_str = '\\\\tikzset{set state val/.list={'\n",
    "\n",
    "# Color categories\n",
    "#C1 = '{fill=blue!50!green}}}'\n",
    "#C2 = '{fill=green!80!blue}}}'\n",
    "#C3 = '{fill=yellow!70!green}}}'\n",
    "#C4 = '{fill=orange!60!yellow}}}'\n",
    "#C5 = '{fill=red!40!orange!80}}}'\n",
    "#C6 = '{fill=red!80!black!80}}}'"
   ]
  },
  {
   "cell_type": "code",
   "execution_count": null,
   "metadata": {
    "collapsed": true
   },
   "outputs": [],
   "source": [
    "#S1 = ', '.join(map(str, df1[df1[0] >= 5]['Abbrev'].values))\n",
    "#S2 = ', '.join(map(str, df1[(df1[0] < 5) & (df1[0] >= 2)]['Abbrev'].values))\n",
    "#S3 = ', '.join(map(str, df1[(df1[0] < 2) & (df1[0] >= 0)]['Abbrev'].values))\n",
    "#S4 = ', '.join(map(str, df1[(df1[0] < 0) & (df1[0] >= -2)]['Abbrev'].values))\n",
    "#S5 = ', '.join(map(str, df1[(df1[0] < -2) & (df1[0] >= -5)]['Abbrev'].values))\n",
    "#S6 = ', '.join(map(str, df1[df1[0] < -5]['Abbrev'].values))"
   ]
  },
  {
   "cell_type": "code",
   "execution_count": null,
   "metadata": {
    "collapsed": true
   },
   "outputs": [],
   "source": [
    "#d = {C1: S1, C2: S2, C3: S3, C4: S4, C5: S5, C6: S6}\n",
    "#for key, value in d.iteritems():\n",
    "#    print '{}{}\\n{}{}}}}}'.format(c_str, key, s_str, value)"
   ]
  }
 ],
 "metadata": {
  "kernelspec": {
   "display_name": "Python 3",
   "language": "python",
   "name": "python3"
  },
  "language_info": {
   "codemirror_mode": {
    "name": "ipython",
    "version": 3
   },
   "file_extension": ".py",
   "mimetype": "text/x-python",
   "name": "python",
   "nbconvert_exporter": "python",
   "pygments_lexer": "ipython3",
   "version": "3.6.5"
  }
 },
 "nbformat": 4,
 "nbformat_minor": 2
}
