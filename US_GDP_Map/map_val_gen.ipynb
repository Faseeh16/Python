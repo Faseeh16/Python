{
 "cells": [
  {
   "cell_type": "markdown",
   "metadata": {},
   "source": [
    "Generate State Value Groupings for Chartbook Maps\n",
    "=======\n",
    "\n",
    "*Brian Dew*<br>\n",
    "*September 17, 2017*<br>\n",
    "*@bd_econ*"
   ]
  },
  {
   "cell_type": "code",
   "execution_count": 1,
   "metadata": {
    "collapsed": true
   },
   "outputs": [],
   "source": [
    "# Import preliminaries\n",
    "import requests\n",
    "import pandas as pd\n",
    "import config   ## File with API key\n",
    "api_key = config.key\n",
    "\n",
    "# Load list of state names and postal abbreviations\n",
    "states = pd.read_csv('state_abbrevs.csv').set_index('State')"
   ]
  },
  {
   "cell_type": "markdown",
   "metadata": {},
   "source": [
    "## Mapping state-level changes to real GDP\n",
    "\n",
    "Data source: U.S. Bureau of Economic Analysis\n",
    "\n",
    "https://www.bea.gov/newsreleases/regional/gdp_state/qgsp_newsrelease.htm"
   ]
  },
  {
   "cell_type": "code",
   "execution_count": 2,
   "metadata": {
    "collapsed": true
   },
   "outputs": [],
   "source": [
    "# Components of request\n",
    "base = 'https://www.bea.gov/api/data/?&UserID={}'.format(api_key)\n",
    "m = '&method=GetData'\n",
    "dsn = '&datasetname=RegionalProduct'\n",
    "ind = '&IndustryId=1'\n",
    "comp = '&Component=RGDP_SQN'\n",
    "geo = '&GeoFIPS=STATE'\n",
    "year = '&Year=LAST5'\n",
    "fmt = '&ResultFormat=json'\n",
    "\n",
    "# Combined url for request\n",
    "url = '{}{}{}{}{}{}{}{}'.format(base, m, dsn, ind, comp, geo, year, fmt)"
   ]
  },
  {
   "cell_type": "code",
   "execution_count": 3,
   "metadata": {
    "collapsed": true
   },
   "outputs": [],
   "source": [
    "# Make request and load data into pandas dataframe, show last 5 obs\n",
    "r = requests.get(url).json()\n",
    "df = pd.DataFrame(r['BEAAPI']['Results']['Data'])\n",
    "df = df[df['GeoName'].isin(states.index)]\n",
    "df['date'] = pd.to_datetime(df['TimePeriod'])\n",
    "df = df.sort_values(['GeoName', 'date'])\n",
    "df = df.set_index(['GeoName', 'date'])['DataValue']\n",
    "df = df.apply(pd.to_numeric, errors='coerce').unstack(0)"
   ]
  },
  {
   "cell_type": "code",
   "execution_count": 4,
   "metadata": {
    "collapsed": true
   },
   "outputs": [],
   "source": [
    "# Calculate growth rate by state\n",
    "for s in df.keys():\n",
    "    df[s] = ((1 + (df[s] - df[s].shift(1))/df[s].shift(1))**4 - 1) * 100"
   ]
  },
  {
   "cell_type": "code",
   "execution_count": 5,
   "metadata": {
    "collapsed": true
   },
   "outputs": [],
   "source": [
    "date = '{} Q{}'.format(df.index[-1].year, df.index[-1].quarter)\n",
    "df1 = df.tail(1).stack().reset_index()[['GeoName', 0]]\n",
    "df1['Abbrev'] = df1['GeoName'].map(states.to_dict()['Abbreviation'])\n",
    "df1 = df1.set_index('GeoName').set_value('Michigan', 'Abbrev', 'MI, SP')\n",
    "\n",
    "gdp_rng = [(-10, -5), (-5, -2), (-2, 0), (0, 2), (2, 5), (5, 10)]"
   ]
  },
  {
   "cell_type": "code",
   "execution_count": 6,
   "metadata": {},
   "outputs": [
    {
     "name": "stdout",
     "output_type": "stream",
     "text": [
      "\n",
      "IA, NE, SD\n",
      "HI, KS, MN, MT\n",
      "AL, AK, AZ, AR, CA, CO, CT, DE, DC, FL, GA, IL, IN, KY, LA, ME, MA, MI, SP, MS, MO, NV, NH, NJ, NY, NC, ND, OH, OK, OR, PA, RI, SC, TN, UT, VT, WY\n",
      "ID, MD, NM, TX, VA, WA, WV, WI\n",
      "\n"
     ]
    }
   ],
   "source": [
    "for i, val in enumerate(gdp_rng):\n",
    "    print(', '.join(df1[(df1[0] > val[0]) & \n",
    "                       (df1[0] <= val[1])]['Abbrev'].values))"
   ]
  },
  {
   "cell_type": "markdown",
   "metadata": {},
   "source": [
    "## Employment-Population Ratio by State"
   ]
  },
  {
   "cell_type": "code",
   "execution_count": 10,
   "metadata": {
    "collapsed": true
   },
   "outputs": [],
   "source": [
    "data_url = 'https://www.bls.gov/web/laus/ststdsadata.txt'\n",
    "\n",
    "cols = ['State', 'Pop', 'LF', 'LFsh', 'Empl', 'EPOP', 'Unempl', 'Unrate']\n",
    "\n",
    "epop_rng = [(50, 55), (55, 60), (60, 65), (65, 70), (70, 80)]"
   ]
  },
  {
   "cell_type": "code",
   "execution_count": 11,
   "metadata": {
    "collapsed": true
   },
   "outputs": [],
   "source": [
    "df = pd.read_table(data_url, header=None).iloc[-54:].reset_index()[0]\n",
    "month = df[0].strip()\n",
    "df = df[1:]\n",
    "df = df.str.strip().str.split('\\s\\s+', expand=True)\n",
    "df.columns = cols\n",
    "df['State'] = [s.split(' .')[0] for s in df['State']]\n",
    "df = df[(~df['State'].str.contains('city')) & \n",
    "        (~df['State'].str.contains('County'))]\n",
    "df['Abbr'] = df['State'].map(states.to_dict()['Abbreviation'])\n",
    "df['Abbr'] = df['Abbr'].str.replace('MI', 'MI, SP')\n",
    "df['EPOP'] = df['EPOP'].astype(float)"
   ]
  },
  {
   "cell_type": "code",
   "execution_count": 12,
   "metadata": {},
   "outputs": [
    {
     "name": "stdout",
     "output_type": "stream",
     "text": [
      "AL, LA, MS, NM, WV\n",
      "AZ, AR, CA, DE, FL, KY, MI, SP, NV, NY, NC, OH, OK, PA, SC, TN\n",
      "AK, CT, GA, HI, ID, IL, IN, KS, ME, MA, MO, MT, NJ, OR, RI, TX, VT, VA, WA, WY\n",
      "CO, DC, IA, MD, MN, NE, NH, SD, UT, WI\n",
      "ND\n"
     ]
    }
   ],
   "source": [
    "for i, val in enumerate(epop_rng):\n",
    "    print(', '.join(df[(df['EPOP'] > val[0]) & \n",
    "                       (df['EPOP'] <= val[1])]['Abbr'].values))"
   ]
  },
  {
   "cell_type": "markdown",
   "metadata": {},
   "source": [
    "## Unemployment Rate by State"
   ]
  },
  {
   "cell_type": "code",
   "execution_count": 13,
   "metadata": {
    "collapsed": true
   },
   "outputs": [],
   "source": [
    "lau_url = 'https://download.bls.gov/pub/time.series/la/'\n",
    "data_url = '{}la.data.3.AllStatesS'.format(lau_url)\n",
    "state_url = '{}la.state_region_division'.format(lau_url)\n",
    "\n",
    "state_codes = pd.read_table(state_url)['srd_code'].to_dict()\n",
    "s = ['LASST{:02}0000000000003'.format(k) for k, v in state_codes.items()]\n",
    "\n",
    "urate_rng = [(0,3), (3,4), (4,5), (5,6), (6,7), (7,20)]"
   ]
  },
  {
   "cell_type": "code",
   "execution_count": 14,
   "metadata": {
    "collapsed": true
   },
   "outputs": [],
   "source": [
    "df = pd.read_table(data_url, sep='\\s+')\n",
    "month, year = df[df['series_id'] == s[0]][['period', 'year']].iloc[-1]\n",
    "date = pd.to_datetime('{}-{}-01'.format(year, month[1:]))"
   ]
  },
  {
   "cell_type": "code",
   "execution_count": 15,
   "metadata": {
    "collapsed": true
   },
   "outputs": [],
   "source": [
    "data = df[(df['series_id'].isin(s)) & \n",
    "          (df['period']==month) & \n",
    "          (df['year']==year)].reset_index()\n",
    "data.loc[:, 'state'] = [state_codes[float(s_id[5:7])] \n",
    "                        for s_id in data['series_id']]\n",
    "data.loc[:, 'abbr'] = data['state'].map(\n",
    "                        states.to_dict()['Abbreviation'])\n",
    "data.loc[:, 'abbr'] = data['abbr'].str.replace('MI', 'MI, SP')\n",
    "data.loc[:, 'value'] = data['value'].astype(float)\n",
    "data = data.dropna()"
   ]
  },
  {
   "cell_type": "code",
   "execution_count": 16,
   "metadata": {},
   "outputs": [
    {
     "name": "stdout",
     "output_type": "stream",
     "text": [
      "CO, HI, ID, NE, NH, ND, VT\n",
      "AR, FL, IN, IA, KS, ME, MD, MI, SP, MN, MO, MT, SC, SD, TN, UT, VA, WI, WY\n",
      "AL, AZ, CT, DE, GA, IL, MA, NV, NJ, NY, NC, OK, OR, PA, RI, TX, WA, WV\n",
      "CA, KY, LA, MS, OH\n",
      "DC, NM\n",
      "AK\n"
     ]
    }
   ],
   "source": [
    "for i, val in enumerate(urate_rng):\n",
    "    d_rng = data[(data['value'] > val[0]) & \n",
    "                         (data['value'] <= val[1])]['abbr'].values\n",
    "    if len(d_rng) > 1:\n",
    "        print(', '.join(d_rng))\n",
    "    else: \n",
    "        print(d_rng.item())"
   ]
  },
  {
   "cell_type": "markdown",
   "metadata": {},
   "source": [
    "#### Convert to .tex input\n",
    "\n"
   ]
  },
  {
   "cell_type": "code",
   "execution_count": 7,
   "metadata": {
    "collapsed": true
   },
   "outputs": [],
   "source": [
    "# Tex strings \n",
    "#c_str = '\\\\tikzset{set state val/.style args={#1}{#1='\n",
    "#s_str = '\\\\tikzset{set state val/.list={'\n",
    "\n",
    "# Color categories\n",
    "#C1 = '{fill=blue!50!green}}}'\n",
    "#C2 = '{fill=green!80!blue}}}'\n",
    "#C3 = '{fill=yellow!70!green}}}'\n",
    "#C4 = '{fill=orange!60!yellow}}}'\n",
    "#C5 = '{fill=red!40!orange!80}}}'\n",
    "#C6 = '{fill=red!80!black!80}}}'"
   ]
  },
  {
   "cell_type": "code",
   "execution_count": 8,
   "metadata": {
    "collapsed": true
   },
   "outputs": [],
   "source": [
    "#S1 = ', '.join(map(str, df1[df1[0] >= 5]['Abbrev'].values))\n",
    "#S2 = ', '.join(map(str, df1[(df1[0] < 5) & (df1[0] >= 2)]['Abbrev'].values))\n",
    "#S3 = ', '.join(map(str, df1[(df1[0] < 2) & (df1[0] >= 0)]['Abbrev'].values))\n",
    "#S4 = ', '.join(map(str, df1[(df1[0] < 0) & (df1[0] >= -2)]['Abbrev'].values))\n",
    "#S5 = ', '.join(map(str, df1[(df1[0] < -2) & (df1[0] >= -5)]['Abbrev'].values))\n",
    "#S6 = ', '.join(map(str, df1[df1[0] < -5]['Abbrev'].values))"
   ]
  },
  {
   "cell_type": "code",
   "execution_count": 9,
   "metadata": {},
   "outputs": [],
   "source": [
    "#d = {C1: S1, C2: S2, C3: S3, C4: S4, C5: S5, C6: S6}\n",
    "#for key, value in d.iteritems():\n",
    "#    print '{}{}\\n{}{}}}}}'.format(c_str, key, s_str, value)"
   ]
  }
 ],
 "metadata": {
  "kernelspec": {
   "display_name": "Python [conda root]",
   "language": "python",
   "name": "conda-root-py"
  },
  "language_info": {
   "codemirror_mode": {
    "name": "ipython",
    "version": 2
   },
   "file_extension": ".py",
   "mimetype": "text/x-python",
   "name": "python",
   "nbconvert_exporter": "python",
   "pygments_lexer": "ipython2",
   "version": "2.7.12"
  }
 },
 "nbformat": 4,
 "nbformat_minor": 2
}
