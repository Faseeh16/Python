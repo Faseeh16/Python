{
 "cells": [
  {
   "cell_type": "markdown",
   "metadata": {
    "deletable": true,
    "editable": true
   },
   "source": [
    "# The trade-weighted U.S. Dollar\n",
    "## Brian Dew, brianwdew@gmail.com"
   ]
  },
  {
   "cell_type": "markdown",
   "metadata": {
    "deletable": true,
    "editable": true
   },
   "source": [
    "## Python: Retrieve and plot the trade-weighted dollar\n",
    "Next we show how Python can be used to gather and plot data on the Fed’s broad index of the foreign exchange value of the dollar. The script gathers data from [Fred](https://research.stlouisfed.org/fred2/series/DTWEXB) and plots each business day’s index value since the start of 2014."
   ]
  },
  {
   "cell_type": "markdown",
   "metadata": {
    "deletable": true,
    "editable": true
   },
   "source": [
    "## Gathering data\n",
    "First, we import pandas, numpy, and matplotlib and give them conventional short names. We will also use datetime and date."
   ]
  },
  {
   "cell_type": "code",
   "execution_count": 5,
   "metadata": {
    "collapsed": true,
    "deletable": true,
    "editable": true
   },
   "outputs": [],
   "source": [
    "# Import libraries\n",
    "import pandas as pd\n",
    "import numpy as np\n",
    "import matplotlib as mpl\n",
    "import matplotlib.pyplot as plt\n",
    "%matplotlib inline\n",
    "import datetime\n",
    "from datetime import date"
   ]
  },
  {
   "cell_type": "markdown",
   "metadata": {
    "deletable": true,
    "editable": true
   },
   "source": [
    "Next, we use the pandas_datareader package to request the data from Fred. I’ve found the code for the broad-index trade-weighted dollar, DTWEXB, by searching, but you can also find it on the Fred site by browsing by source (Board of Governors of the Federal Reserve System), or by release (H.10). We paste the series code into the datareader and provide start and end dates, and receive a pandas dataframe."
   ]
  },
  {
   "cell_type": "code",
   "execution_count": 6,
   "metadata": {
    "collapsed": false,
    "deletable": true,
    "editable": true
   },
   "outputs": [
    {
     "data": {
      "text/html": [
       "<div>\n",
       "<table border=\"1\" class=\"dataframe\">\n",
       "  <thead>\n",
       "    <tr style=\"text-align: right;\">\n",
       "      <th></th>\n",
       "      <th>DTWEXB</th>\n",
       "    </tr>\n",
       "    <tr>\n",
       "      <th>DATE</th>\n",
       "      <th></th>\n",
       "    </tr>\n",
       "  </thead>\n",
       "  <tbody>\n",
       "    <tr>\n",
       "      <th>2017-03-20</th>\n",
       "      <td>124.6236</td>\n",
       "    </tr>\n",
       "    <tr>\n",
       "      <th>2017-03-21</th>\n",
       "      <td>124.3952</td>\n",
       "    </tr>\n",
       "    <tr>\n",
       "      <th>2017-03-22</th>\n",
       "      <td>124.3672</td>\n",
       "    </tr>\n",
       "    <tr>\n",
       "      <th>2017-03-23</th>\n",
       "      <td>124.3669</td>\n",
       "    </tr>\n",
       "    <tr>\n",
       "      <th>2017-03-24</th>\n",
       "      <td>124.1911</td>\n",
       "    </tr>\n",
       "  </tbody>\n",
       "</table>\n",
       "</div>"
      ],
      "text/plain": [
       "              DTWEXB\n",
       "DATE                \n",
       "2017-03-20  124.6236\n",
       "2017-03-21  124.3952\n",
       "2017-03-22  124.3672\n",
       "2017-03-23  124.3669\n",
       "2017-03-24  124.1911"
      ]
     },
     "execution_count": 6,
     "metadata": {},
     "output_type": "execute_result"
    }
   ],
   "source": [
    "import pandas_datareader.data as webdata\n",
    "tstart = datetime.datetime(2014, 1, 1)\n",
    "#retrieve trade-weighted dollar data from fred\n",
    "dtwexb = webdata.DataReader(\"DTWEXB\", \"fred\", tstart);\n",
    "#display five most recent observations\n",
    "dtwexb.tail(5)"
   ]
  },
  {
   "cell_type": "markdown",
   "metadata": {
    "deletable": true,
    "editable": true
   },
   "source": [
    "When was the last time the measure was as low as its April 12 value?"
   ]
  },
  {
   "cell_type": "code",
   "execution_count": 7,
   "metadata": {
    "collapsed": false,
    "deletable": true,
    "editable": true
   },
   "outputs": [
    {
     "name": "stdout",
     "output_type": "stream",
     "text": [
      "              DTWEXB\n",
      "DATE                \n",
      "2016-05-02  118.0914\n",
      "2016-05-03  118.8186\n"
     ]
    }
   ],
   "source": [
    "print dtwexb[119.29>=dtwexb].dropna().tail(2)"
   ]
  },
  {
   "cell_type": "markdown",
   "metadata": {
    "deletable": true,
    "editable": true
   },
   "source": [
    "## Line plot of data\n",
    "Lastly, we can use matplotlib to plot the data. "
   ]
  },
  {
   "cell_type": "code",
   "execution_count": 8,
   "metadata": {
    "collapsed": false,
    "deletable": true,
    "editable": true
   },
   "outputs": [
    {
     "data": {
      "image/png": "[encoded data removed]",
      "text/plain": [
       "<matplotlib.figure.Figure at 0xa7db828>"
      ]
     },
     "metadata": {},
     "output_type": "display_data"
    }
   ],
   "source": [
    "#Create figure and plot dtwexb\n",
    "fig = plt.figure(figsize=[7,5])\n",
    "ax1 = plt.subplot(111)\n",
    "line = dtwexb.DTWEXB.plot(color='blue',linewidth=2)\n",
    "\n",
    "#Add a title\n",
    "ax1.set_title('Trade-Weighted U.S. Dollar, Broad Index (1997=100)', fontsize=15)\n",
    "\n",
    "#Add y label and no x-label since it is dates\n",
    "ax1.set_ylabel('Index')\n",
    "ax1.set_xlabel('')\n",
    "\n",
    "#Axis options\n",
    "ax1.spines[\"top\"].set_visible(False)  \n",
    "ax1.spines[\"right\"].set_visible(False)  \n",
    "ax1.get_xaxis().tick_bottom()\n",
    "ax1.get_yaxis().tick_left()\n",
    "ax1.tick_params(axis='x', which='major', labelsize=8)\n",
    "ax1.yaxis.grid(True)\n",
    "\n",
    "#Annotate with text\n",
    "fig.text(0.15, 0.85,'Last: ' + str(dtwexb.DTWEXB[-1]) \\\n",
    "         + ' (as of: ' + str(dtwexb.index[-1].strftime('%Y-%m-%d'))\\\n",
    "         + ')');\n",
    "url = 'https://research.stlouisfed.org/fred2/series/TWEXB'\n",
    "fig.text(0.05, 0.025, 'Source: ' + url)\n",
    "fig.text(0.65, 0.16, 'briandew.wordpress.com')\n",
    "\n",
    "#Save as png\n",
    "plt.savefig('dtwexb.png', dpi=1000)"
   ]
  }
 ],
 "metadata": {
  "kernelspec": {
   "display_name": "Python [default]",
   "language": "python",
   "name": "python2"
  },
  "language_info": {
   "codemirror_mode": {
    "name": "ipython",
    "version": 2
   },
   "file_extension": ".py",
   "mimetype": "text/x-python",
   "name": "python",
   "nbconvert_exporter": "python",
   "pygments_lexer": "ipython2",
   "version": "2.7.12"
  }
 },
 "nbformat": 4,
 "nbformat_minor": 0
}
