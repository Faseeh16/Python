{
 "cells": [
  {
   "cell_type": "markdown",
   "metadata": {},
   "source": [
    "# Net IIP and the USD - Scatterplot\n",
    "## Brian Dew, brianwdew@gmail.com"
   ]
  },
  {
   "cell_type": "markdown",
   "metadata": {},
   "source": [
    "## Python Example\n",
    "This example shows how Python can be used to gather and plot data on the Fed's broad index of the foreign exchange value of the dollar. The script gathers data from [Fred](https://research.stlouisfed.org/fred2/series/DTWEXM) and plots movements since 2014."
   ]
  },
  {
   "cell_type": "markdown",
   "metadata": {},
   "source": [
    "## Gathering data\n",
    "First, we import pandas, numpy, and matplotlib and give them conventional short names. We will also use datetime and date."
   ]
  },
  {
   "cell_type": "code",
   "execution_count": 94,
   "metadata": {
    "collapsed": true
   },
   "outputs": [],
   "source": [
    "# Import libraries\n",
    "import pandas as pd\n",
    "import numpy as np\n",
    "import matplotlib as mpl\n",
    "import matplotlib.pyplot as plt\n",
    "%matplotlib inline\n",
    "import datetime\n",
    "#from datetime import date"
   ]
  },
  {
   "cell_type": "markdown",
   "metadata": {},
   "source": [
    "Next, we use the pandas.io.data package to request the data from Fred. I've found the code for our series of interest, DTWEXM, by searching, but you can also find it on the Fred site by source (Board of Governors of the Federal Reserve System), or by release (H.10). We paste the series code into the datareader and provide start and end dates. Pandas retrieves the data into a dataframe."
   ]
  },
  {
   "cell_type": "code",
   "execution_count": 95,
   "metadata": {
    "collapsed": false
   },
   "outputs": [
    {
     "data": {
      "text/html": [
       "<div>\n",
       "<table border=\"1\" class=\"dataframe\">\n",
       "  <thead>\n",
       "    <tr style=\"text-align: right;\">\n",
       "      <th></th>\n",
       "      <th>IIP</th>\n",
       "      <th>TWQ</th>\n",
       "    </tr>\n",
       "    <tr>\n",
       "      <th>DATE</th>\n",
       "      <th></th>\n",
       "      <th></th>\n",
       "    </tr>\n",
       "  </thead>\n",
       "  <tbody>\n",
       "    <tr>\n",
       "      <th>2011-01-01</th>\n",
       "      <td>0.773636</td>\n",
       "      <td>-0.032635</td>\n",
       "    </tr>\n",
       "    <tr>\n",
       "      <th>2012-01-01</th>\n",
       "      <td>0.014117</td>\n",
       "      <td>-0.042683</td>\n",
       "    </tr>\n",
       "    <tr>\n",
       "      <th>2013-01-01</th>\n",
       "      <td>0.179202</td>\n",
       "      <td>0.025601</td>\n",
       "    </tr>\n",
       "    <tr>\n",
       "      <th>2014-01-01</th>\n",
       "      <td>0.317634</td>\n",
       "      <td>0.015678</td>\n",
       "    </tr>\n",
       "    <tr>\n",
       "      <th>2015-01-01</th>\n",
       "      <td>0.048020</td>\n",
       "      <td>0.036366</td>\n",
       "    </tr>\n",
       "  </tbody>\n",
       "</table>\n",
       "</div>"
      ],
      "text/plain": [
       "                 IIP       TWQ\n",
       "DATE                          \n",
       "2011-01-01  0.773636 -0.032635\n",
       "2012-01-01  0.014117 -0.042683\n",
       "2013-01-01  0.179202  0.025601\n",
       "2014-01-01  0.317634  0.015678\n",
       "2015-01-01  0.048020  0.036366"
      ]
     },
     "execution_count": 95,
     "metadata": {},
     "output_type": "execute_result"
    }
   ],
   "source": [
    "import pandas_datareader.data as webdata\n",
    "tstart = datetime.datetime(1973, 1, 1)\n",
    "tend = datetime.datetime(2016, 1, 1)\n",
    "frednames = \"TWEXBMTH\", \"IIPUSNETIA\"\n",
    "#retrieve trade-weighted dollar data from fred\n",
    "twd = webdata.DataReader(frednames, \"fred\", tstart, tend);\n",
    "\n",
    "twd['TWQ'] = twd.TWEXBMTH.rolling(12,12).mean()\n",
    "twd = twd.dropna()\n",
    "twd = twd.rename(columns={'IIPUSNETIA': 'IIP'})\n",
    "twd['TWQ'] = twd.TWQ.pct_change()\n",
    "twd['IIP'] = twd.IIP.pct_change()\n",
    "twd = twd[['IIP', 'TWQ']]\n",
    "\n",
    "twd = twd.dropna()\n",
    "#display five most recent observations\n",
    "twd.tail(5)"
   ]
  },
  {
   "cell_type": "markdown",
   "metadata": {},
   "source": [
    "## Scatter plot of data\n",
    "Lastly, we can use matplotlib to plot the data. The past week has seen this measure of oil prices reach nearly $40 per barrel. "
   ]
  },
  {
   "cell_type": "code",
   "execution_count": 96,
   "metadata": {
    "collapsed": false
   },
   "outputs": [
    {
     "data": {
      "image/png": "[encoded data removed]",
      "text/plain": [
       "<matplotlib.figure.Figure at 0xc2344e0>"
      ]
     },
     "metadata": {},
     "output_type": "display_data"
    }
   ],
   "source": [
    "fig = plt.figure(figsize=[5,5])\n",
    "ax1 = plt.subplot(111)\n",
    "\n",
    "x = twd.TWQ\n",
    "y = twd.IIP\n",
    "\n",
    "m, b = np.polyfit(x, y, 1)\n",
    "\n",
    "plt.plot(x, y, '.', alpha=0.5)\n",
    "plt.plot(x, m*x + b, '-')\n",
    "\n",
    "ax1.spines[\"top\"].set_visible(False)  \n",
    "ax1.spines[\"right\"].set_visible(False)  \n",
    "ax1.get_xaxis().tick_bottom()\n",
    "ax1.get_yaxis().tick_left()\n",
    "ax1.tick_params(labelsize=8)\n",
    "#plt.title(figure_title, y=1.08)\n",
    "\n",
    "#plt.scatter(twd.TWQ, twd.IIP, alpha=0.5)\n",
    "ax1.set_ylabel('Percentage change net IIP')\n",
    "ax1.set_xlabel('Percentage change major currencies index USD')\n",
    "ax1.set_title('Trade-weighted dollar and net IIP', fontsize=18, y=1.03);\n",
    "\n",
    "\n",
    "#Save as png\n",
    "plt.savefig('jpustb.png', dpi=1000)"
   ]
  }
 ],
 "metadata": {
  "kernelspec": {
   "display_name": "Python 2",
   "language": "python",
   "name": "python2"
  },
  "language_info": {
   "codemirror_mode": {
    "name": "ipython",
    "version": 2
   },
   "file_extension": ".py",
   "mimetype": "text/x-python",
   "name": "python",
   "nbconvert_exporter": "python",
   "pygments_lexer": "ipython2",
   "version": "2.7.10"
  }
 },
 "nbformat": 4,
 "nbformat_minor": 0
}
