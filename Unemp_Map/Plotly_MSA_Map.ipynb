{
 "cells": [
  {
   "cell_type": "markdown",
   "metadata": {},
   "source": [
    "### Mapping Changes to the Unemployment Rate using Plotly\n",
    "\n",
    "*Brian Dew, Domestic Program Intern, CEPR*<br>\n",
    "*June 17, 2017*"
   ]
  },
  {
   "cell_type": "code",
   "execution_count": 1,
   "metadata": {
    "collapsed": true
   },
   "outputs": [],
   "source": [
    "# Import libraries and sign in to plotly\n",
    "import pandas as pd\n",
    "import config   # File that contains api key\n",
    "import plotly.plotly as py\n",
    "from plotly.graph_objs import *\n",
    "py.sign_in('bdew', config.plotly_key)"
   ]
  },
  {
   "cell_type": "code",
   "execution_count": 2,
   "metadata": {
    "collapsed": true
   },
   "outputs": [],
   "source": [
    "# CSV file contains city names, their BLS codes (Metropolitan \n",
    "# MTAs/NECTAs only), and their latitude and longitude\n",
    "MSA = pd.read_csv('MSA.csv')\n",
    "\n",
    "# BLS flat file contains the unemployment rate by month since 2015\n",
    "url = 'https://download.bls.gov/pub/time.series/la/la.data.0.CurrentU15-19'\n",
    "df = pd.read_table(url, sep='\\s+')"
   ]
  },
  {
   "cell_type": "code",
   "execution_count": 3,
   "metadata": {
    "collapsed": true
   },
   "outputs": [],
   "source": [
    "# Take only the unemployment data for MSAs and monthly series \n",
    "# (M13 is annual average)\n",
    "df = pd.DataFrame(df[df['series_id'].isin(MSA['fullcode']) \n",
    "                 & ~df['period'].isin(['M13'])])\n",
    "\n",
    "# Clean up the date to convert it to pandas datetime\n",
    "df.loc[:,'month'] = df['period'].replace(regex=True, \n",
    "                                         to_replace=r'M', \n",
    "                                         value=r'')\n",
    "df.loc[:,'day'] = 1\n",
    "df.loc[:,'date'] = pd.to_datetime(df[['year', 'month', 'day']])\n",
    "df = df.set_index(['series_id','date'])\n",
    "\n",
    "# Calculate one year change in unemployment rate for each MSA\n",
    "df.loc[:,'value_ch'] = df['value'].diff(periods=12)\n",
    "#df = df.dropna()\n",
    "\n",
    "# Keep only the latest value for each MSA\n",
    "df = df.reset_index().groupby(['series_id']).tail(1)\n",
    "df.rename(columns={'series_id':'fullcode'}, inplace=True)\n",
    "\n",
    "# Take the date for use in chart title\n",
    "date = df['date'].iloc[0].strftime('%B %Y')\n",
    "\n",
    "# Combine the two datasets and show 2 rows to verify \n",
    "unemp_list = df.merge(MSA, on='fullcode')\n",
    "\n",
    "# Shorten MSA names for chart labels\n",
    "unemp_list.loc[:,'MSA'] = unemp_list['area_code'].str.replace('Metropolitan Statistical Area', 'MSA')"
   ]
  },
  {
   "cell_type": "code",
   "execution_count": 4,
   "metadata": {
    "collapsed": true
   },
   "outputs": [],
   "source": [
    "# From the change in unemployment rate, mark increases red, decreases green,\n",
    "#   no change is gray. The size of the circle to draw is the absolute value \n",
    "#   of the change times 8. \n",
    "\n",
    "for index, row in unemp_list.iterrows():\n",
    "    if row['value_ch'] > 0:\n",
    "        unemp_list.loc[index,'color'] = '#FF0000'\n",
    "        unemp_list.loc[index,'size'] = abs(row['value_ch'])*10+2\n",
    "        unemp_list.loc[index,'sym'] = '&#9650;{}'.format(unemp_list.loc[index,'value_ch']) # Up Arrow\n",
    "    if row['value_ch'] < 0:\n",
    "        unemp_list.loc[index,'color'] = '#32CD32'\n",
    "        unemp_list.loc[index,'size'] = abs(row['value_ch'])*10+2\n",
    "        unemp_list.loc[index, 'sym'] = '&#9660;{}'.format(unemp_list.loc[index,'value_ch']) # Down Arrow\n",
    "    if row['value_ch'] == 0:\n",
    "        unemp_list.loc[index,'color'] = '#696969'\n",
    "        unemp_list.loc[index,'size'] = 3   # Just to mark location\n",
    "        unemp_list.loc[index, 'sym'] = 'unchanged'\n",
    "    # Create a text column for plotly hover labels\n",
    "    unemp_list.loc[index,'text'] = '{}<br>{} Rate: {}% ({})'.format(\n",
    "        unemp_list.loc[index,'MSA'], \n",
    "        date,\n",
    "        unemp_list.loc[index,'value'],\n",
    "        unemp_list.loc[index,'sym'])"
   ]
  },
  {
   "cell_type": "markdown",
   "metadata": {},
   "source": [
    "#### Plotly code"
   ]
  },
  {
   "cell_type": "code",
   "execution_count": 5,
   "metadata": {
    "collapsed": true
   },
   "outputs": [],
   "source": [
    "trace1 = {\n",
    "  \"geo\": \"geo\", \n",
    "  \"hoverinfo\": \"text\", \n",
    "  \"lat\": unemp_list['latitude'], \n",
    "  \"lon\": unemp_list['longitude'], \n",
    "  \"marker\": {\n",
    "    \"color\": unemp_list['color'], \n",
    "    \"line\": {\n",
    "      \"color\": \"#202020\", \n",
    "      \"width\": 0.8\n",
    "    }, \n",
    "    \"opacity\": 0.5, \n",
    "    \"size\": unemp_list['size'], \n",
    "    \"symbol\": \"circle\"\n",
    "  }, \n",
    "  \"mode\": \"markers\", \n",
    "  \"name\": \"Unemployment Rate Change by Metro Area\", \n",
    "  \"opacity\": 1, \n",
    "  \"showlegend\": True, \n",
    "  \"text\": unemp_list['text'], \n",
    "  \"type\": \"scattergeo\", \n",
    "  \"visible\": True\n",
    "}\n",
    "data = Data([trace1])\n",
    "layout = {\n",
    "  \"annotations\": [\n",
    "    {\n",
    "      \"x\": 0.05, \n",
    "      \"y\": 0.925, \n",
    "      \"align\": \"left\", \n",
    "      \"font\": {\"size\": 14}, \n",
    "      \"showarrow\": False, \n",
    "      \"text\": \"<b>Change in Unemployment Rate by Metropolitan Statistical Area (MSA)</b><br><i>Change over level in same month of previous year, as of {}</i>\".format(date), \n",
    "      \"xref\": \"x\", \n",
    "      \"yref\": \"y\"\n",
    "    }, \n",
    "    {\n",
    "      \"x\": 0.05, \n",
    "      \"y\": 0.0725, \n",
    "      \"align\": \"left\", \n",
    "      \"showarrow\": False, \n",
    "      \"text\": \"Hover to see details. Green is decrease in unemployment rate, red is increase. Circle size shows amount of change.  <br><b>Source:</b> U.S. Bureau of Labor Statistics, Local Area Unemployment Statistics\", \n",
    "      \"xref\": \"x\", \n",
    "      \"yref\": \"y\"\n",
    "    }\n",
    "  ], \n",
    "  \"autosize\": True, \n",
    "  \"dragmode\": \"zoom\", \n",
    "  \"geo\": {\n",
    "    \"bgcolor\": \"#fff\", \n",
    "    \"countrycolor\": \"#808080\", \n",
    "    \"countrywidth\": 0.7, \n",
    "    \"domain\": {\n",
    "      \"x\": [0, 1.1], \n",
    "      \"y\": [0, 1.1]\n",
    "    }, \n",
    "    \"lataxis\": {\n",
    "      \"dtick\": 10, \n",
    "      \"range\": [20, 80], \n",
    "      \"showgrid\": False, \n",
    "      \"tick0\": 20\n",
    "    }, \n",
    "    \"lonaxis\": {\n",
    "      \"dtick\": 30, \n",
    "      \"range\": [-180, -50], \n",
    "      \"showgrid\": False, \n",
    "      \"tick0\": -180\n",
    "    }, \n",
    "    \"projection\": {\n",
    "      \"scale\": 1.03, \n",
    "      \"type\": \"albers usa\"\n",
    "    }, \n",
    "    \"resolution\": 50, \n",
    "    \"scope\": \"usa\", \n",
    "    \"showcountries\": True, \n",
    "    \"showlakes\": False, \n",
    "    \"showland\": False, \n",
    "    \"showrivers\": False, \n",
    "    \"showsubunits\": True, \n",
    "    \"subunitcolor\": \"#808080\", \n",
    "    \"subunitwidth\": 0.7\n",
    "  }, \n",
    "  \"hidesources\": False, \n",
    "  \"hovermode\": \"closest\", \n",
    "  \"paper_bgcolor\": \"#fff\", \n",
    "  \"separators\": \".,\", \n",
    "  \"showlegend\": False, \n",
    "  \"smith\": False, \n",
    "  \"margin\": {\n",
    "    \"r\": 0, \n",
    "    \"t\": 0, \n",
    "    \"b\": 0, \n",
    "    \"l\": 0\n",
    "  },\n",
    "}\n",
    "fig = Figure(data=data, layout=layout)\n",
    "plot_url = py.plot(fig, filename='MSA_Map')"
   ]
  },
  {
   "cell_type": "markdown",
   "metadata": {},
   "source": [
    "#### Generate an html table of results"
   ]
  },
  {
   "cell_type": "code",
   "execution_count": 6,
   "metadata": {
    "collapsed": true
   },
   "outputs": [],
   "source": [
    "# generate html table with data\n",
    "table = unemp_list[['MSA', 'value', 'value_ch']]\n",
    "table.columns = ['Metropolitan Statistical Area (MSA) Name', 'Unemp. rate', 'One-year change']\n",
    "table = table.sort_values('One-year change') \n",
    "# Sortable css class allows for js script to sort each column\n",
    "# https://www.kryogenix.org/code/browser/sorttable/\n",
    "table.to_html('C:/Working/bdecon.github.io/Dash/unemp_table.html', border=0, \n",
    "              index=False, classes='sortable')"
   ]
  }
 ],
 "metadata": {
  "kernelspec": {
   "display_name": "Python [conda root]",
   "language": "python",
   "name": "conda-root-py"
  },
  "language_info": {
   "codemirror_mode": {
    "name": "ipython",
    "version": 2
   },
   "file_extension": ".py",
   "mimetype": "text/x-python",
   "name": "python",
   "nbconvert_exporter": "python",
   "pygments_lexer": "ipython2",
   "version": "2.7.12"
  }
 },
 "nbformat": 4,
 "nbformat_minor": 2
}
