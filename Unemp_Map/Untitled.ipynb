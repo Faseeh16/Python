{
 "cells": [
  {
   "cell_type": "code",
   "execution_count": 1,
   "metadata": {
    "collapsed": true
   },
   "outputs": [],
   "source": [
    "import pandas as pd"
   ]
  },
  {
   "cell_type": "code",
   "execution_count": 4,
   "metadata": {},
   "outputs": [
    {
     "name": "stderr",
     "output_type": "stream",
     "text": [
      "c:\\users\\bdew\\anaconda2\\lib\\site-packages\\ipykernel\\__main__.py:3: ParserWarning: Falling back to the 'python' engine because the 'c' engine does not support regex separators (separators > 1 char and different from '\\s+' are interpreted as regex); you can avoid this warning by specifying engine='python'.\n",
      "  app.launch_new_instance()\n"
     ]
    }
   ],
   "source": [
    "url = 'https://download.bls.gov/pub/time.series/ln/ln.series'\n",
    "\n",
    "df = pd.read_table(url, sep='\\t+')"
   ]
  },
  {
   "cell_type": "code",
   "execution_count": 6,
   "metadata": {},
   "outputs": [
    {
     "data": {
      "text/plain": [
       "Index([u'series_id', u'lfst_code', u'periodicity_code', u'series_title',\n",
       "       u'absn_code', u'activity_code', u'ages_code', u'class_code',\n",
       "       u'duration_code', u'education_code', u'entr_code', u'expr_code',\n",
       "       u'hheader_code', u'hour_code', u'indy_code', u'jdes_code', u'look_code',\n",
       "       u'mari_code', u'mjhs_code', u'occupation_code', u'orig_code',\n",
       "       u'pcts_code', u'race_code', u'rjnw_code', u'rnlf_code', u'rwns_code',\n",
       "       u'seek_code', u'sexs_code', u'tdat_code', u'vets_code', u'wkst_code',\n",
       "       u'born_code', u'chld_code', u'disa_code', u'seasonal',\n",
       "       u'footnote_codes', u'begin_year', u'begin_period', u'end_year',\n",
       "       u'end_period'],\n",
       "      dtype='object')"
      ]
     },
     "execution_count": 6,
     "metadata": {},
     "output_type": "execute_result"
    }
   ],
   "source": [
    "df.keys()"
   ]
  },
  {
   "cell_type": "code",
   "execution_count": 68,
   "metadata": {},
   "outputs": [
    {
     "data": {
      "text/plain": [
       "array([0, 1, 2], dtype=int64)"
      ]
     },
     "execution_count": 68,
     "metadata": {},
     "output_type": "execute_result"
    }
   ],
   "source": [
    "df['sexs_code'].unique()"
   ]
  },
  {
   "cell_type": "code",
   "execution_count": 89,
   "metadata": {},
   "outputs": [
    {
     "data": {
      "text/html": [
       "<div>\n",
       "<style>\n",
       "    .dataframe thead tr:only-child th {\n",
       "        text-align: right;\n",
       "    }\n",
       "\n",
       "    .dataframe thead th {\n",
       "        text-align: left;\n",
       "    }\n",
       "\n",
       "    .dataframe tbody tr th {\n",
       "        vertical-align: top;\n",
       "    }\n",
       "</style>\n",
       "<table border=\"1\" class=\"dataframe\">\n",
       "  <thead>\n",
       "    <tr style=\"text-align: right;\">\n",
       "      <th></th>\n",
       "      <th>series_id</th>\n",
       "      <th>lfst_code</th>\n",
       "      <th>periodicity_code</th>\n",
       "      <th>series_title</th>\n",
       "      <th>absn_code</th>\n",
       "      <th>activity_code</th>\n",
       "      <th>ages_code</th>\n",
       "      <th>class_code</th>\n",
       "      <th>duration_code</th>\n",
       "      <th>education_code</th>\n",
       "      <th>...</th>\n",
       "      <th>wkst_code</th>\n",
       "      <th>born_code</th>\n",
       "      <th>chld_code</th>\n",
       "      <th>disa_code</th>\n",
       "      <th>seasonal</th>\n",
       "      <th>footnote_codes</th>\n",
       "      <th>begin_year</th>\n",
       "      <th>begin_period</th>\n",
       "      <th>end_year</th>\n",
       "      <th>end_period</th>\n",
       "    </tr>\n",
       "  </thead>\n",
       "  <tbody>\n",
       "    <tr>\n",
       "      <th>969</th>\n",
       "      <td>LNS14000035</td>\n",
       "      <td>40</td>\n",
       "      <td>M</td>\n",
       "      <td>(Seas) Unemployment Rate - 20 yrs. &amp; over, His...</td>\n",
       "      <td>0</td>\n",
       "      <td>0</td>\n",
       "      <td>17</td>\n",
       "      <td>0</td>\n",
       "      <td>0</td>\n",
       "      <td>0</td>\n",
       "      <td>...</td>\n",
       "      <td>0</td>\n",
       "      <td>0</td>\n",
       "      <td>0</td>\n",
       "      <td>0</td>\n",
       "      <td>S</td>\n",
       "      <td></td>\n",
       "      <td>2003</td>\n",
       "      <td>M01</td>\n",
       "      <td>2017</td>\n",
       "      <td>M11</td>\n",
       "    </tr>\n",
       "  </tbody>\n",
       "</table>\n",
       "<p>1 rows × 40 columns</p>\n",
       "</div>"
      ],
      "text/plain": [
       "             series_id  lfst_code periodicity_code  \\\n",
       "969  LNS14000035               40                M   \n",
       "\n",
       "                                          series_title  absn_code  \\\n",
       "969  (Seas) Unemployment Rate - 20 yrs. & over, His...          0   \n",
       "\n",
       "     activity_code  ages_code  class_code  duration_code  education_code  \\\n",
       "969              0         17           0              0               0   \n",
       "\n",
       "        ...      wkst_code  born_code  chld_code  disa_code  seasonal  \\\n",
       "969     ...              0          0          0          0         S   \n",
       "\n",
       "     footnote_codes  begin_year  begin_period  end_year  end_period  \n",
       "969                        2003           M01      2017         M11  \n",
       "\n",
       "[1 rows x 40 columns]"
      ]
     },
     "execution_count": 89,
     "metadata": {},
     "output_type": "execute_result"
    }
   ],
   "source": [
    "df[(df['orig_code'] == 1) & (df['ages_code'] == 17) & (df['sexs_code'] == 2) & (df['lfst_code'] == 40) & (df['periodicity_code'] == 'M') & (df['seasonal'] == 'S')]"
   ]
  },
  {
   "cell_type": "code",
   "execution_count": 34,
   "metadata": {
    "collapsed": true
   },
   "outputs": [],
   "source": [
    "url2 = 'https://download.bls.gov/pub/time.series/ln/ln.data.1.AllData'"
   ]
  },
  {
   "cell_type": "code",
   "execution_count": 35,
   "metadata": {},
   "outputs": [
    {
     "name": "stderr",
     "output_type": "stream",
     "text": [
      "c:\\users\\bdew\\anaconda2\\lib\\site-packages\\IPython\\core\\interactiveshell.py:2717: DtypeWarning: Columns (3) have mixed types. Specify dtype option on import or set low_memory=False.\n",
      "  interactivity=interactivity, compiler=compiler, result=result)\n"
     ]
    }
   ],
   "source": [
    "df2 = pd.read_table(url2, sep='\\s+')"
   ]
  },
  {
   "cell_type": "code",
   "execution_count": 90,
   "metadata": {},
   "outputs": [],
   "source": [
    "df2[(df2['series_id'] == 'LNS14000035')].to_csv('test11.csv')"
   ]
  }
 ],
 "metadata": {
  "kernelspec": {
   "display_name": "Python [default]",
   "language": "python",
   "name": "python2"
  },
  "language_info": {
   "codemirror_mode": {
    "name": "ipython",
    "version": 2
   },
   "file_extension": ".py",
   "mimetype": "text/x-python",
   "name": "python",
   "nbconvert_exporter": "python",
   "pygments_lexer": "ipython2",
   "version": "2.7.12"
  }
 },
 "nbformat": 4,
 "nbformat_minor": 2
}
