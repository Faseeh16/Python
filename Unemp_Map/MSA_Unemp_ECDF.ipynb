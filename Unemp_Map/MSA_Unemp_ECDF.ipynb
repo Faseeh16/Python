{
 "cells": [
  {
   "cell_type": "markdown",
   "metadata": {},
   "source": [
    "# Metro Area Labor Markets ECDFs\n",
    "\n",
    "January 15, 2017\n"
   ]
  },
  {
   "cell_type": "code",
   "execution_count": 87,
   "metadata": {
    "collapsed": true
   },
   "outputs": [],
   "source": [
    "import pandas as pd"
   ]
  },
  {
   "cell_type": "code",
   "execution_count": 25,
   "metadata": {
    "collapsed": true
   },
   "outputs": [],
   "source": [
    "# BLS flat file contains the unemployment rate by month since 2015\n",
    "url = 'https://download.bls.gov/pub/time.series/la/la.data.0.CurrentU15-19'"
   ]
  },
  {
   "cell_type": "code",
   "execution_count": null,
   "metadata": {
    "collapsed": true
   },
   "outputs": [],
   "source": [
    "# CSV file contains city names, their BLS codes (Metropolitan \n",
    "# MTAs/NECTAs only), and their latitude and longitude\n",
    "MSA = pd.read_csv('MSA.csv')"
   ]
  },
  {
   "cell_type": "code",
   "execution_count": 93,
   "metadata": {
    "collapsed": true
   },
   "outputs": [],
   "source": [
    "# Read in huge text file from BLS site. Updated 1-4 hours after release\n",
    "df = pd.read_table(url, sep='\\s+', na_values=['-'])"
   ]
  },
  {
   "cell_type": "code",
   "execution_count": 104,
   "metadata": {
    "collapsed": true
   },
   "outputs": [],
   "source": [
    "# Filter huge text file to include only metro area unemployment rates\n",
    "dft = df[df['series_id'].isin(MSA['fullcode'])]\n",
    "dft.loc[:,'value_ch'] = dft['value'].diff(periods=24) # Calc two year change\n",
    "dft = dft.reset_index().groupby(['series_id']).tail(1) # One obs per MSA\n",
    "dft['prevvalue'] = dft['value'].subtract(dft['value_ch']) # Value 2 years ago\n",
    "dft.sort_values('value').reset_index()['value'].to_csv('MSAempval.csv') \n",
    "dft.sort_values('value').reset_index()['prevvalue'].to_csv('MSAempprevval.csv')"
   ]
  },
  {
   "cell_type": "code",
   "execution_count": null,
   "metadata": {
    "collapsed": true
   },
   "outputs": [],
   "source": []
  }
 ],
 "metadata": {
  "kernelspec": {
   "display_name": "Python [default]",
   "language": "python",
   "name": "python2"
  },
  "language_info": {
   "codemirror_mode": {
    "name": "ipython",
    "version": 2
   },
   "file_extension": ".py",
   "mimetype": "text/x-python",
   "name": "python",
   "nbconvert_exporter": "python",
   "pygments_lexer": "ipython2",
   "version": "2.7.12"
  }
 },
 "nbformat": 4,
 "nbformat_minor": 2
}
