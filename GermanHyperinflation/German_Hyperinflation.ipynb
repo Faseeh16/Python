{
 "cells": [
  {
   "cell_type": "markdown",
   "metadata": {},
   "source": [
    "# German Hyperinflation Data"
   ]
  },
  {
   "cell_type": "markdown",
   "metadata": {},
   "source": [
    "date\n",
    "  year-month-day (ISO format)\n",
    "  (day is set to 01 arbitrarily)\n",
    "\n",
    "ENDF_S_E\n",
    "  matching forward premium (F-S) for the Mark,\n",
    "  it is F-S (not the percentage premium)\n",
    "  Source: Einzig.\n",
    "\n",
    "ENDS_E\n",
    "  end of month (last reported) spot rate (marks per pound)\n",
    "  Source: Einzig.\n",
    "\n",
    "MIDM_FG\n",
    "  mid-month money totals in millions of marks\n",
    "  Source: Flood and Garber"
   ]
  },
  {
   "cell_type": "code",
   "execution_count": 5,
   "metadata": {
    "collapsed": false
   },
   "outputs": [],
   "source": [
    "##preliminaries\n",
    "#standard library imports\n",
    "import datetime, os\n",
    "#other common imports\n",
    "import numpy as np\n",
    "import matplotlib as mpl\n",
    "import matplotlib.pyplot as plt\n",
    "%matplotlib inline\n",
    "import pandas as pd\n",
    "import pandas.io.data as webdata\n",
    "#from pandas_datareader import data as webdata\n",
    "datadir = \"../data\""
   ]
  },
  {
   "cell_type": "code",
   "execution_count": 6,
   "metadata": {
    "collapsed": false
   },
   "outputs": [
    {
     "data": {
      "text/html": [
       "<div>\n",
       "<table border=\"1\" class=\"dataframe\">\n",
       "  <thead>\n",
       "    <tr style=\"text-align: right;\">\n",
       "      <th></th>\n",
       "      <th>ENDF_S_E</th>\n",
       "      <th>ENDS_E</th>\n",
       "      <th>MIDM_FG</th>\n",
       "    </tr>\n",
       "    <tr>\n",
       "      <th>date</th>\n",
       "      <th></th>\n",
       "      <th></th>\n",
       "      <th></th>\n",
       "    </tr>\n",
       "  </thead>\n",
       "  <tbody>\n",
       "    <tr>\n",
       "      <th>1923-04-01</th>\n",
       "      <td>15000</td>\n",
       "      <td>136000</td>\n",
       "      <td>5838000</td>\n",
       "    </tr>\n",
       "    <tr>\n",
       "      <th>1923-05-01</th>\n",
       "      <td>36000</td>\n",
       "      <td>251000</td>\n",
       "      <td>7113000</td>\n",
       "    </tr>\n",
       "    <tr>\n",
       "      <th>1923-06-01</th>\n",
       "      <td>170000</td>\n",
       "      <td>850000</td>\n",
       "      <td>10906000</td>\n",
       "    </tr>\n",
       "    <tr>\n",
       "      <th>1923-07-01</th>\n",
       "      <td>1600000</td>\n",
       "      <td>4500000</td>\n",
       "      <td>25492000</td>\n",
       "    </tr>\n",
       "    <tr>\n",
       "      <th>1923-08-01</th>\n",
       "      <td>7000000</td>\n",
       "      <td>21000000</td>\n",
       "      <td>116403000</td>\n",
       "    </tr>\n",
       "  </tbody>\n",
       "</table>\n",
       "</div>"
      ],
      "text/plain": [
       "            ENDF_S_E    ENDS_E    MIDM_FG\n",
       "date                                     \n",
       "1923-04-01     15000    136000    5838000\n",
       "1923-05-01     36000    251000    7113000\n",
       "1923-06-01    170000    850000   10906000\n",
       "1923-07-01   1600000   4500000   25492000\n",
       "1923-08-01   7000000  21000000  116403000"
      ]
     },
     "execution_count": 6,
     "metadata": {},
     "output_type": "execute_result"
    }
   ],
   "source": [
    "raw = pd.read_csv('gh.csv', index_col=0, parse_dates=True)\n",
    "raw.tail()"
   ]
  },
  {
   "cell_type": "markdown",
   "metadata": {},
   "source": [
    "import urllib2\n",
    "fin = urllib2.urlopen(\"https://subversion.american.edu/aisaac/hw/data/gh.hdr\")\n",
    "print(\"\".join(fin.read()))\n",
    "fin.close()"
   ]
  },
  {
   "cell_type": "markdown",
   "metadata": {
    "collapsed": false
   },
   "source": [
    "Short names are as follows:\n",
    "\n",
    "ls is the log spot rate (s)\n",
    "\n",
    "lf is the log forward rate (f)\n",
    "\n",
    "lm is the money suppy (m)\n",
    "\n",
    "fd is the diffence between the forward and spot rates (f - s)"
   ]
  },
  {
   "cell_type": "code",
   "execution_count": 7,
   "metadata": {
    "collapsed": false
   },
   "outputs": [
    {
     "data": {
      "text/plain": [
       "<matplotlib.axes._subplots.AxesSubplot at 0xc111860>"
      ]
     },
     "execution_count": 7,
     "metadata": {},
     "output_type": "execute_result"
    },
    {
     "data": {
      "image/png": "[encoded data removed]",
      "text/plain": [
       "<matplotlib.figure.Figure at 0x4182c18>"
      ]
     },
     "metadata": {},
     "output_type": "display_data"
    }
   ],
   "source": [
    "ls = np.log(raw.ENDS_E);\n",
    "lf = np.log(raw.ENDF_S_E+raw.ENDS_E);\n",
    "lm = np.log(raw.MIDM_FG)\n",
    "fd = lf - ls\n",
    "ldata = pd.DataFrame({\"s\":ls,\"f\":lf,\"m\":lm,\"fd\":fd})\n",
    "ldata.plot(secondary_y=['fd'])"
   ]
  },
  {
   "cell_type": "markdown",
   "metadata": {},
   "source": [
    "Model:\n",
    "\n",
    "$ls \\ = \\ \\alpha + \\beta_1 lm + \\beta_2 fd$\n",
    "\n",
    "Result:\n",
    "\n",
    "$ls = -8.8 + 1.3 lm + 4.6 fd$"
   ]
  },
  {
   "cell_type": "code",
   "execution_count": 8,
   "metadata": {
    "collapsed": false
   },
   "outputs": [
    {
     "name": "stdout",
     "output_type": "stream",
     "text": [
      "            const          m        fd\n",
      "date                                  \n",
      "1921-02-01      1  11.264759 -0.008333\n",
      "1921-03-01      1  11.279656 -0.010173\n",
      "1921-04-01      1  11.278759 -0.006702\n",
      "1921-05-01      1  11.297948 -0.007258\n",
      "1921-06-01      1  11.305741 -0.005550\n",
      "                            OLS Regression Results                            \n",
      "==============================================================================\n",
      "Dep. Variable:                 ENDS_E   R-squared:                       0.964\n",
      "Model:                            OLS   Adj. R-squared:                  0.961\n",
      "Method:                 Least Squares   F-statistic:                     373.7\n",
      "Date:                Sat, 20 Feb 2016   Prob (F-statistic):           6.40e-21\n",
      "Time:                        01:36:22   Log-Likelihood:                -27.404\n",
      "No. Observations:                  31   AIC:                             60.81\n",
      "Df Residuals:                      28   BIC:                             65.11\n",
      "Df Model:                           2                                         \n",
      "Covariance Type:            nonrobust                                         \n",
      "==============================================================================\n",
      "                 coef    std err          t      P>|t|      [95.0% Conf. Int.]\n",
      "------------------------------------------------------------------------------\n",
      "const         -8.8058      1.469     -5.996      0.000       -11.814    -5.798\n",
      "m              1.3325      0.123     10.799      0.000         1.080     1.585\n",
      "fd             4.6198      2.597      1.779      0.086        -0.700     9.939\n",
      "==============================================================================\n",
      "Omnibus:                        2.457   Durbin-Watson:                   0.626\n",
      "Prob(Omnibus):                  0.293   Jarque-Bera (JB):                2.200\n",
      "Skew:                           0.578   Prob(JB):                        0.333\n",
      "Kurtosis:                       2.393   Cond. No.                         345.\n",
      "==============================================================================\n",
      "\n",
      "Warnings:\n",
      "[1] Standard Errors assume that the covariance matrix of the errors is correctly specified.\n"
     ]
    }
   ],
   "source": [
    "import statsmodels.api as sm\n",
    "import statsmodels.tools.tools as smtools\n",
    "X = pd.concat((lm,fd), keys=(\"m\",\"fd\"), axis=1)\n",
    "X = smtools.add_constant(X)\n",
    "print(X.head())\n",
    "model = sm.OLS(ls,X,missing=\"drop\")\n",
    "results = model.fit()\n",
    "print(results.summary())\n"
   ]
  }
 ],
 "metadata": {
  "kernelspec": {
   "display_name": "Python [default]",
   "language": "python",
   "name": "python2"
  },
  "language_info": {
   "codemirror_mode": {
    "name": "ipython",
    "version": 2
   },
   "file_extension": ".py",
   "mimetype": "text/x-python",
   "name": "python",
   "nbconvert_exporter": "python",
   "pygments_lexer": "ipython2",
   "version": "2.7.12"
  }
 },
 "nbformat": 4,
 "nbformat_minor": 0
}
