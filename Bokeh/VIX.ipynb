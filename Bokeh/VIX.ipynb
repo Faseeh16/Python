{
 "cells": [
  {
   "cell_type": "code",
   "execution_count": 1,
   "metadata": {
    "collapsed": true
   },
   "outputs": [],
   "source": [
    "import pandas as pd\n",
    "\n",
    "# Volatility index (VIX) from CBOE\n",
    "vixurl = 'http://www.cboe.com/publish/scheduledtask/mktdata/datahouse/vixcurrent.csv'\n",
    "vixcol = ['Date', 'Open', 'High', 'Low', 'VIXCLS']\n",
    "df = pd.read_csv(vixurl, skiprows=3023, names=vixcol, parse_dates=['Date']).set_index('Date')['VIXCLS']"
   ]
  },
  {
   "cell_type": "code",
   "execution_count": 2,
   "metadata": {
    "collapsed": false
   },
   "outputs": [],
   "source": [
    "lvalue = df[-1]\n",
    "ldate = str(df.index[-1].strftime('%b %d, %Y'))\n",
    "onemo = round((lvalue - df[-21]) / df[-21] * 100, 2)\n",
    "onemoar = '<i class=\"fa fa-caret-up\" aria-hidden=\"true\"></i>'\n",
    "if onemo < -0.01:\n",
    "    onemoar = '<i class=\"fa fa-caret-down\" aria-hidden=\"true\"></i>'\n",
    "latest = ' Latest: {}: {} <br>  One month change: {} {}%'.format(ldate, lvalue, onemoar, onemo)"
   ]
  },
  {
   "cell_type": "code",
   "execution_count": 3,
   "metadata": {
    "collapsed": false
   },
   "outputs": [],
   "source": [
    "from datetime import datetime as dt\n",
    "import time\n",
    "xlabel = time.mktime(dt(2016, 7, 3, 2, 0, 0).timetuple())*1000"
   ]
  },
  {
   "cell_type": "code",
   "execution_count": 4,
   "metadata": {
    "collapsed": false
   },
   "outputs": [],
   "source": [
    "from bokeh.plotting import figure, show\n",
    "from bokeh.models import ColumnDataSource, Span, Label, HoverTool\n",
    "from bokeh.embed import components\n",
    "\n",
    "source = ColumnDataSource({'x': df.index, 'y': df.values, 'Date': df.index.strftime('%b %d, %Y')})\n",
    "tooltips = \"\"\"\n",
    "            <div>\n",
    "                <span style=\"font-size: 12px;\">@Date:</span>\n",
    "                <span style=\"font-size: 12px; font-weight: bold;\">@y{1.1}</span>\n",
    "            </div>\n",
    "\"\"\"\n",
    "# horizontal line at zero\n",
    "hline = Span(location=0, dimension='width', line_color='gray', line_width=1)\n",
    "p = figure(width=700,height=300,x_axis_type='datetime',\n",
    "           tools=['pan,wheel_zoom,box_zoom,reset'], logo=None, \n",
    "           toolbar_location=\"below\", toolbar_sticky=False)\n",
    "p.add_layout(hline)\n",
    "p.sizing_mode = 'scale_width'\n",
    "p.line('x', 'y', source = source, line_width=3, color='Green', alpha=1.0, level='overlay')\n",
    "p.xgrid.grid_line_color = None\n",
    "p.outline_line_color = 'white'\n",
    "p.axis.axis_line_color = 'white'\n",
    "citation = Label(x=xlabel, y=26.8, render_mode='css', x_units='data', text_font_size='9pt', \n",
    "                 text_color='#686868', text=latest, background_fill_color='white', background_fill_alpha=1.0)\n",
    "p.add_layout(citation)\n",
    "p.add_tools(HoverTool(tooltips=tooltips, line_policy='nearest', show_arrow=False))\n",
    "script, div = components(p)"
   ]
  },
  {
   "cell_type": "code",
   "execution_count": 5,
   "metadata": {
    "collapsed": false
   },
   "outputs": [],
   "source": [
    "with open('C:/Working/bdecon.github.io/plots/vix.html', 'w') as text_file:\n",
    "    text_file.write(                  # txt file created\n",
    "        '{} {}'.format(script, div)\n",
    "    )"
   ]
  }
 ],
 "metadata": {
  "kernelspec": {
   "display_name": "Python [conda root]",
   "language": "python",
   "name": "conda-root-py"
  },
  "language_info": {
   "codemirror_mode": {
    "name": "ipython",
    "version": 2
   },
   "file_extension": ".py",
   "mimetype": "text/x-python",
   "name": "python",
   "nbconvert_exporter": "python",
   "pygments_lexer": "ipython2",
   "version": "2.7.12"
  }
 },
 "nbformat": 4,
 "nbformat_minor": 1
}
