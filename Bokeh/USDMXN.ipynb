{
 "cells": [
  {
   "cell_type": "markdown",
   "metadata": {},
   "source": [
    "#### Import data from quandl"
   ]
  },
  {
   "cell_type": "code",
   "execution_count": 1,
   "metadata": {
    "collapsed": false
   },
   "outputs": [],
   "source": [
    "import pandas as pd\n",
    "url = 'https://www.quandl.com/api/v3/datasets/CURRFX/USDMXN.csv?api_key=x7q1kgMKv96cXx83GtSN&start_date=2016-01-01'\n",
    "df = pd.read_csv(url, parse_dates=['Date'], index_col='Date')"
   ]
  },
  {
   "cell_type": "markdown",
   "metadata": {},
   "source": [
    "#### Calculate and format latest and one month change text"
   ]
  },
  {
   "cell_type": "code",
   "execution_count": 2,
   "metadata": {
    "collapsed": false
   },
   "outputs": [],
   "source": [
    "lvalue = round(df.iloc[0]['Rate'],3)\n",
    "ldate = str(df.index[0].strftime('%b %d, %Y'))\n",
    "onemo = round((lvalue - df.iloc[21]['Rate']) / df.iloc[21]['Rate'] * 100, 2)\n",
    "onemoar = '<i class=\"fa fa-caret-up\" aria-hidden=\"true\"></i>'\n",
    "if onemo < -0.01:\n",
    "    onemoar = '<i class=\"fa fa-caret-down\" aria-hidden=\"true\"></i>'\n",
    "latest = ' Latest: {}: {} <br>  One month change: {} {}%'.format(ldate, lvalue, onemoar, onemo)"
   ]
  },
  {
   "cell_type": "markdown",
   "metadata": {},
   "source": [
    "#### Generate bokeh plot"
   ]
  },
  {
   "cell_type": "code",
   "execution_count": 3,
   "metadata": {
    "collapsed": false
   },
   "outputs": [],
   "source": [
    "from bokeh.io import output_file, show #output_notebook\n",
    "from bokeh.plotting import figure\n",
    "from bokeh.models import HoverTool, ColumnDataSource, Label\n",
    "from bokeh.embed import components\n",
    "import bokeh.layouts\n",
    "\n",
    "source = ColumnDataSource({'x': df.index, 'y': df['Rate'], 'Date': df.index.format()})\n",
    "tooltips = \"\"\"\n",
    "            <div>\n",
    "                <span style=\"font-size: 12px;\">@Date:</span>\n",
    "                <span style=\"font-size: 12px; font-weight: bold;\">@y</span>\n",
    "            </div>\n",
    "\"\"\"\n",
    "p = figure(width=700,height=300,x_axis_type='datetime',tools=['pan, wheel_zoom,box_zoom,reset'], \n",
    "           logo=None, toolbar_location=\"below\", toolbar_sticky=False)\n",
    "#p.title.text = 'Mexican Pesos (MXN) per U.S. Dollar (USD)'\n",
    "p.title.text_font_size='14pt'\n",
    "p.yaxis.axis_label = 'MXN/USD'\n",
    "citation = Label(x=60, y=21.1, render_mode='css', x_units='screen', text_font_size='9pt', \n",
    "                 text_color='#686868', text=latest, background_fill_color='white', background_fill_alpha=1.0)\n",
    "p.add_layout(citation)\n",
    "p.sizing_mode = 'scale_width'\n",
    "p.line('x', 'y', source = source, line_width=3, color='Blue')\n",
    "p.xgrid.grid_line_color = None\n",
    "p.outline_line_color = 'white'\n",
    "p.axis.axis_line_color = 'white'\n",
    "p.add_tools(HoverTool(tooltips=tooltips, show_arrow=False, point_policy='snap_to_data'))\n",
    "p.toolbar.active_drag = None\n",
    "script, div = components(p)"
   ]
  },
  {
   "cell_type": "markdown",
   "metadata": {},
   "source": [
    "#### Save script and div to html file in subfolder"
   ]
  },
  {
   "cell_type": "code",
   "execution_count": 4,
   "metadata": {
    "collapsed": false,
    "scrolled": true
   },
   "outputs": [],
   "source": [
    "with open('C:/Working/bdecon.github.io/plots/usdmxn.html', 'w') as text_file:\n",
    "    text_file.write(                  # txt file created\n",
    "        '{} {}'.format(script, div)\n",
    "    )"
   ]
  }
 ],
 "metadata": {
  "kernelspec": {
   "display_name": "Python [conda root]",
   "language": "python",
   "name": "conda-root-py"
  },
  "language_info": {
   "codemirror_mode": {
    "name": "ipython",
    "version": 2
   },
   "file_extension": ".py",
   "mimetype": "text/x-python",
   "name": "python",
   "nbconvert_exporter": "python",
   "pygments_lexer": "ipython2",
   "version": "2.7.12"
  }
 },
 "nbformat": 4,
 "nbformat_minor": 1
}
