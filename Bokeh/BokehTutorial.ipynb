{
 "cells": [
  {
   "cell_type": "code",
   "execution_count": 7,
   "metadata": {
    "collapsed": false
   },
   "outputs": [],
   "source": [
    "from bokeh.charts import Scatter, output_notebook, show\n",
    "import pandas as pd\n",
    "\n",
    "df = pd.DataFrame(columns=['X','Y'])\n",
    "df['X'] = [1,2,3,4,5]\n",
    "df['Y'] = [2,6,3,4,4]\n",
    "\n",
    "p = Scatter(df, x='X', y='Y', title='Temperature Observations', xlabel='Day of observations', ylabel='Temperature')\n",
    "\n",
    "output_file('Scatter_charts.html')\n",
    "\n",
    "show(p)"
   ]
  },
  {
   "cell_type": "code",
   "execution_count": 36,
   "metadata": {
    "collapsed": false
   },
   "outputs": [
    {
     "name": "stderr",
     "output_type": "stream",
     "text": [
      "INFO:bokeh.core.state:Session output file 'Scatter_plotting.html' already exists, will be overwritten.\n"
     ]
    }
   ],
   "source": [
    "from bokeh.plotting import figure, output_file, show\n",
    "\n",
    "p = figure(plot_width=500,plot_height=400, tools='pan', logo=None)\n",
    "\n",
    "p.title.text = 'Earthquakes'\n",
    "p.title.text_font_size='14pt'\n",
    "#p.title.text_color='Gray'\n",
    "#p.title.text_font='times'\n",
    "#p.title.text_font_style='italic'\n",
    "\n",
    "p.xaxis.axis_label = 'Instances'\n",
    "p.yaxis.axis_label = 'Time'\n",
    "\n",
    "p.line([1,2,3,4,5],[2,6,4,5,3],line_width=2, color='blue',alpha=0.5)\n",
    "p.line([1,2,3,4,5],[2,6,4,5,3],line_width=2, color='blue',alpha=0.5)\n",
    "\n",
    "output_file('Scatter_plotting.html')\n",
    "\n",
    "show(p)"
   ]
  },
  {
   "cell_type": "code",
   "execution_count": 46,
   "metadata": {
    "collapsed": true
   },
   "outputs": [],
   "source": [
    "from bokeh.models import HoverTool"
   ]
  },
  {
   "cell_type": "code",
   "execution_count": 51,
   "metadata": {
    "collapsed": false
   },
   "outputs": [
    {
     "name": "stderr",
     "output_type": "stream",
     "text": [
      "INFO:bokeh.core.state:Session output file 'USDMXN.html' already exists, will be overwritten.\n"
     ]
    }
   ],
   "source": [
    "url = 'https://www.quandl.com/api/v3/datasets/CURRFX/USDMXN.csv?api_key=x7q1kgMKv96cXx83GtSN&start_date=1995-01-01'\n",
    "df = pd.read_csv(url, parse_dates=['Date'], index_col='Date')['Rate']\n",
    "\n",
    "p = figure(width=800,height=300,x_axis_type='datetime',responsive=True,tools=['pan,wheel_zoom,box_zoom,reset,resize',HoverTool()], logo=None)\n",
    "p.title.text = 'Mexico New Pesos per U.S. Dollar'\n",
    "p.title.text_font_size='14pt'\n",
    "p.yaxis.axis_label = 'MXN/USD'\n",
    "\n",
    "p.line(df.index,df.values,line_width=2,color='Orange')\n",
    "\n",
    "output_file('USDMXN.html')\n",
    "\n",
    "show(p)"
   ]
  },
  {
   "cell_type": "code",
   "execution_count": 40,
   "metadata": {
    "collapsed": false
   },
   "outputs": [
    {
     "data": {
      "text/plain": [
       "array([ 21.76939964,  21.81310081,  21.36940002, ...,   3.09312   ,\n",
       "         3.09338   ,   3.09338   ])"
      ]
     },
     "execution_count": 40,
     "metadata": {},
     "output_type": "execute_result"
    }
   ],
   "source": [
    "df.values"
   ]
  }
 ],
 "metadata": {
  "kernelspec": {
   "display_name": "Python [conda root]",
   "language": "python",
   "name": "conda-root-py"
  },
  "language_info": {
   "codemirror_mode": {
    "name": "ipython",
    "version": 2
   },
   "file_extension": ".py",
   "mimetype": "text/x-python",
   "name": "python",
   "nbconvert_exporter": "python",
   "pygments_lexer": "ipython2",
   "version": "2.7.12"
  }
 },
 "nbformat": 4,
 "nbformat_minor": 1
}
