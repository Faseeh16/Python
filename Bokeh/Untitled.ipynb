{
 "cells": [
  {
   "cell_type": "code",
   "execution_count": 3,
   "metadata": {
    "collapsed": true
   },
   "outputs": [],
   "source": [
    "from bokeh.models import FuncTickFormatter\n",
    "from bokeh.plotting import figure, show, output_file\n",
    "\n",
    "output_file(\"formatter.html\")\n",
    "\n",
    "p = figure(plot_width=500, plot_height=500)\n",
    "p.circle([0, 2, 4, 6, 8, 10], [6, 2, 4, 10, 8, 0], size=30)\n",
    "\n",
    "p.yaxis.formatter = FuncTickFormatter(code=\"\"\"\n",
    "    return Math.floor(tick) + \" + \" + (tick % 1).toFixed(2)\n",
    "\"\"\")\n",
    "\n",
    "show(p)"
   ]
  }
 ],
 "metadata": {
  "kernelspec": {
   "display_name": "Python [conda root]",
   "language": "python",
   "name": "conda-root-py"
  },
  "language_info": {
   "codemirror_mode": {
    "name": "ipython",
    "version": 2
   },
   "file_extension": ".py",
   "mimetype": "text/x-python",
   "name": "python",
   "nbconvert_exporter": "python",
   "pygments_lexer": "ipython2",
   "version": "2.7.12"
  }
 },
 "nbformat": 4,
 "nbformat_minor": 2
}
