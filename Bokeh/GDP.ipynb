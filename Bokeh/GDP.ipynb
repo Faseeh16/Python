{
 "cells": [
  {
   "cell_type": "code",
   "execution_count": 4,
   "metadata": {
    "collapsed": false
   },
   "outputs": [],
   "source": [
    "# Import libraries\n",
    "import pandas as pd\n",
    "import pandas_datareader.data as web\n",
    "import datetime\n",
    "import datetime as dt\n",
    "from datetime import datetime as dt\n",
    "import time\n",
    "\n",
    "# Updated inputs to pandas datareader:\n",
    "source = 'fred' \n",
    "start = datetime.datetime(2010,1,1)\n",
    "series = ['GDPC1']\n",
    "\n",
    "# Retrieve data as pandas dataframe named df\n",
    "df = web.DataReader(series[0], source, start, )\n",
    "\n",
    "# Calculate growth rate\n",
    "df['Y'] = ((1 + (df[series[0]] - df[series[0]].shift(1))/df[series[0]].shift(1))**4 - 1) * 100\n",
    "df['Y'] = df['Y'].round(1)\n",
    "# String Date column\n",
    "df['quarter'] = df.index.quarter\n",
    "df['year'] = df.index.strftime('%Y')\n",
    "df['strdate'] = df.year.map(str) + \" Q\" + df.quarter.map(str)\n",
    "\n",
    "# Declare variables for chart label\n",
    "Y = (df[series[0]][-1] / 1000).round(decimals=1)\n",
    "q = df.quarter[-1]\n",
    "y = df.year[-1]\n",
    "ch = df['Y'][-1].round(decimals=1)\n",
    "\n",
    "df = df.dropna()\n",
    "\n",
    "latest = '{} Q{}: Real GDP: {}T; Growth: {}%'.format(y, q, Y, ch)"
   ]
  },
  {
   "cell_type": "code",
   "execution_count": 2,
   "metadata": {
    "collapsed": false
   },
   "outputs": [],
   "source": [
    "xlabel = time.mktime(dt(2010, 7, 3, 2, 0, 0).timetuple())*1000"
   ]
  },
  {
   "cell_type": "code",
   "execution_count": 3,
   "metadata": {
    "collapsed": false
   },
   "outputs": [],
   "source": [
    "from bokeh.plotting import figure, show\n",
    "from bokeh.models import ColumnDataSource, Span, Label, HoverTool, Range1d\n",
    "from bokeh.embed import components\n",
    "\n",
    "source = ColumnDataSource({'x': df.index, 'y': df['Y'], 'Date': df.strdate})\n",
    "\n",
    "def get_width():\n",
    "    mindate = min(source.data['x'])\n",
    "    maxdate = max(source.data['x'])\n",
    "    return 0.8 * (maxdate-mindate).total_seconds()*1000 / len(source.data['x'])\n",
    "\n",
    "tooltips = \"\"\"\n",
    "            <div>\n",
    "                <span style=\"font-size: 12px;\">@Date:</span>\n",
    "                <span style=\"font-size: 12px; font-weight: bold;\">@y{1.1}</span>\n",
    "            </div>\n",
    "\"\"\"\n",
    "# horizontal line at zero\n",
    "hline = Span(location=0, dimension='width', line_color='gray', line_width=1)\n",
    "p = figure(width=700,height=300,x_axis_type='datetime',\n",
    "           tools=['pan,wheel_zoom,box_zoom,reset'], logo=None, \n",
    "           toolbar_location=\"below\", toolbar_sticky=False, y_range=Range1d(-3, 6.5))\n",
    "p.add_layout(hline)\n",
    "p.sizing_mode = 'scale_width'\n",
    "p.vbar('x', width=get_width(), bottom=0, top='y', source = source, color='Red', alpha=1.0, level='overlay')\n",
    "p.xgrid.grid_line_color = None\n",
    "p.outline_line_color = 'white'\n",
    "p.axis.axis_line_color = 'white'\n",
    "citation = Label(x=xlabel, y=5, render_mode='css', x_units='data', text_font_size='9pt', \n",
    "                 text_color='#686868', text=latest, background_fill_color='white', background_fill_alpha=1.0)\n",
    "p.add_layout(citation)\n",
    "p.add_tools(HoverTool(tooltips=tooltips, show_arrow=False))\n",
    "p.toolbar.active_drag = None\n",
    "#p.set(y_range=Range1d(-3, 6))\n",
    "\n",
    "script, div = components(p)"
   ]
  },
  {
   "cell_type": "code",
   "execution_count": 4,
   "metadata": {
    "collapsed": false
   },
   "outputs": [],
   "source": [
    "with open('C:/Working/bdecon.github.io/plots/gdp.html', 'w') as text_file:\n",
    "    text_file.write(                  # txt file created\n",
    "        '{} {}'.format(script, div)\n",
    "    )"
   ]
  }
 ],
 "metadata": {
  "kernelspec": {
   "display_name": "Python [default]",
   "language": "python",
   "name": "python2"
  },
  "language_info": {
   "codemirror_mode": {
    "name": "ipython",
    "version": 2
   },
   "file_extension": ".py",
   "mimetype": "text/x-python",
   "name": "python",
   "nbconvert_exporter": "python",
   "pygments_lexer": "ipython2",
   "version": "2.7.12"
  }
 },
 "nbformat": 4,
 "nbformat_minor": 1
}
