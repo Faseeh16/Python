{
 "cells": [
  {
   "cell_type": "markdown",
   "metadata": {
    "ExecuteTime": {
     "end_time": "2018-03-21T16:37:16.108780Z",
     "start_time": "2018-03-21T16:37:16.077537Z"
    }
   },
   "source": [
    "# CPI Special Calculations over time with Python\n",
    "\n",
    "Brian Dew, @bd_econ, Center for Economic and Policy Research\n",
    "\n",
    "March 22, 2018\n",
    "\n",
    "----- \n",
    "Every two years the relative importance of CPI items is updated. I'd like to know how a few special aggregates contribute to inflation (unfortunately not seasonally adjusted), and to do this I need to compensate for the updates. BLS explains how to do this here: https://www.bls.gov/cpi/tables/relative-importance/home.htm\n",
    "\n",
    "\n",
    "TO DO: \n",
    "\n",
    "1. Fix HoverTools\n",
    "2. Export to HTML\n",
    "3. Add HTML header and footer\n"
   ]
  },
  {
   "cell_type": "code",
   "execution_count": 2,
   "metadata": {
    "ExecuteTime": {
     "end_time": "2018-03-22T13:14:54.593707Z",
     "start_time": "2018-03-22T13:14:52.680570Z"
    },
    "code_folding": [
     0
    ]
   },
   "outputs": [],
   "source": [
    "# Import preliminaries\n",
    "import pandas as pd\n",
    "import numpy as np\n",
    "import requests\n",
    "import json\n",
    "import config"
   ]
  },
  {
   "cell_type": "code",
   "execution_count": 4,
   "metadata": {
    "ExecuteTime": {
     "end_time": "2018-03-22T13:15:12.045583Z",
     "start_time": "2018-03-22T13:15:09.256518Z"
    },
    "code_folding": [
     0
    ]
   },
   "outputs": [],
   "source": [
    "# Use BLS Flat Files to find series IDs and series info\n",
    "s_url = 'https://download.bls.gov/pub/time.series/cu/cu.series'\n",
    "s = pd.read_table(s_url, sep='\\t')\n",
    "s2 = s[(s['seasonal'] == 'U') & \n",
    "       (s['base_code'] == 'S') &\n",
    "       (s['area_code'] == '0000') &\n",
    "       (s['periodicity_code'] == 'R')]"
   ]
  },
  {
   "cell_type": "code",
   "execution_count": 5,
   "metadata": {
    "ExecuteTime": {
     "end_time": "2018-03-22T13:15:15.684510Z",
     "start_time": "2018-03-22T13:15:15.661994Z"
    },
    "code_folding": [
     0
    ]
   },
   "outputs": [],
   "source": [
    "# Relative weights for series of interest, from here: \n",
    "# https://www.bls.gov/cpi/tables/relative-importance/home.htm\n",
    "rel_wgt = {'CUUR0000SAF1': [(('2013-12-01', '2015-12-01'), 13.891), \n",
    "                           (('2015-12-01', '2017-12-01'), 14.015), \n",
    "                           (('2017-12-01', '2019-12-01'), 13.384)],\n",
    "           'CUUR0000SA0': [(('2013-12-01', '2015-12-01'), 100.0), \n",
    "                           (('2015-12-01', '2017-12-01'), 100.0), \n",
    "                           (('2017-12-01', '2019-12-01'), 100.0)],\n",
    "           'CUUR0000SA0E': [(('2013-12-01', '2015-12-01'), 9.046), \n",
    "                            (('2015-12-01', '2017-12-01'), 6.816), \n",
    "                            (('2017-12-01', '2019-12-01'), 7.513)],\n",
    "           'CUUR0000SAH1': [(('2013-12-01', '2015-12-01'), 32.029), \n",
    "                            (('2015-12-01', '2017-12-01'), 33.15), \n",
    "                            (('2017-12-01', '2019-12-01'), 32.843)],\n",
    "           'CUUR0000SACL1E': [(('2013-12-01', '2015-12-01'), 19.71), \n",
    "                              (('2015-12-01', '2017-12-01'), 19.613), \n",
    "                              (('2017-12-01', '2019-12-01'), 19.849)],\n",
    "           'CUUR0000SASLE': [(('2013-12-01', '2015-12-01'), 57.353), \n",
    "                             (('2015-12-01', '2017-12-01'), 59.556), \n",
    "                             (('2017-12-01', '2019-12-01'), 59.254)]}\n",
    "\n",
    "# API access to Bureau of Labor Statistics data\n",
    "url = 'https://api.bls.gov/publicAPI/v2/timeseries/data/'\n",
    "# API key in config.py which contains: bls_key = 'key'\n",
    "key = '?registrationkey={}'.format(config.bls_key)\n",
    "\n",
    "headers = {'Content-type': 'application/json'}    # Request json fmt\n",
    "param = {\"seriesid\": list(rel_wgt.keys()),           \n",
    "         \"startyear\": \"2013\", \"endyear\": \"2018\"}"
   ]
  },
  {
   "cell_type": "code",
   "execution_count": 6,
   "metadata": {
    "ExecuteTime": {
     "end_time": "2018-03-22T13:15:20.052144Z",
     "start_time": "2018-03-22T13:15:19.350731Z"
    },
    "code_folding": [
     0
    ]
   },
   "outputs": [
    {
     "name": "stdout",
     "output_type": "stream",
     "text": [
      "Status: REQUEST_SUCCEEDED\n",
      "Latest: February 2018\n"
     ]
    }
   ],
   "source": [
    "# Request all of the series in s\n",
    "p = requests.post(f'{url}{key}', data=json.dumps(param), headers=headers).json()\n",
    "print(f\"Status: {p['status']}\") # Print request status\n",
    "p = p['Results']['series']  # Keep data portion of post results\n",
    "\n",
    "# Use first series to get the datetime values\n",
    "idx = pd.to_datetime([f\"{i['period']} {i['year']}\" for i in p[0]['data']])\n",
    "print(f'Latest: {idx[0]:%B %Y}') # Print latest value"
   ]
  },
  {
   "cell_type": "code",
   "execution_count": 7,
   "metadata": {
    "ExecuteTime": {
     "end_time": "2018-03-22T13:15:22.044000Z",
     "start_time": "2018-03-22T13:15:22.023492Z"
    },
    "code_folding": [
     0
    ]
   },
   "outputs": [],
   "source": [
    "# Convert API data to datetime date and float value\n",
    "data = {i['seriesID']: \n",
    "        [(pd.to_datetime(f'{r[\"year\"]}-{r[\"period\"][1:]}-01'), float(r['value'])) \n",
    "         for r in i['data']] for i in p}"
   ]
  },
  {
   "cell_type": "code",
   "execution_count": 8,
   "metadata": {
    "ExecuteTime": {
     "end_time": "2018-03-22T13:15:23.761618Z",
     "start_time": "2018-03-22T13:15:23.749608Z"
    },
    "code_folding": [
     0
    ]
   },
   "outputs": [],
   "source": [
    "# Dictionary combining all the info for each series\n",
    "d = {i: {'name': s2[s2['series_id'].str.strip() == i]['series_title'].values[0],\n",
    "         'values': data[i],\n",
    "         'rel_wgt': rel_wgt[i]} for i in list(rel_wgt.keys())}"
   ]
  },
  {
   "cell_type": "code",
   "execution_count": 9,
   "metadata": {
    "ExecuteTime": {
     "end_time": "2018-03-22T13:15:25.802592Z",
     "start_time": "2018-03-22T13:15:25.565571Z"
    },
    "code_folding": [
     0
    ]
   },
   "outputs": [],
   "source": [
    "# Adjust for changes to relative importance\n",
    "df1, df2, df3 = pd.DataFrame(), pd.DataFrame(), pd.DataFrame()\n",
    "for i, v in d.items():\n",
    "    start, end = v['rel_wgt'][0][0][0], v['rel_wgt'][0][0][1]\n",
    "    rwc, rwn = v['rel_wgt'][0][1], v['rel_wgt'][1][1]\n",
    "    df1.at[start: end, i] = (pd.DataFrame(v['values'])\n",
    "        .iloc[::-1].set_index(0).loc[start: end][1])\n",
    "    df1[i] = (df1[i].diff().cumsum() / df1.loc[start, i] + 1)\n",
    "    df1.at[start, i] = 1.0\n",
    "    df1[i] = (df1[i] * rwc)\n",
    "    link = (df1.loc[end, i] / rwn)\n",
    "    # Next set of dates\n",
    "    start, end = v['rel_wgt'][1][0][0], v['rel_wgt'][1][0][1]\n",
    "    rwc, rwn = v['rel_wgt'][1][1], v['rel_wgt'][2][1]\n",
    "    df2[i] = (pd.DataFrame(v['values'])\n",
    "        .iloc[::-1].set_index(0).loc[start: end][1])\n",
    "    df2[i] = df2[i].diff().cumsum() / df2.loc[start, i] + 1\n",
    "    df2.at[start, i] = 1.0\n",
    "    #df1.at[start: end, i] = (df1.loc[start: end, i] * rwc)\n",
    "    df2[i] = (df2[i] * rwc) * link\n",
    "    link = (df2.loc[end, i] / rwn)\n",
    "    # Next set of dates\n",
    "    start, end = v['rel_wgt'][2][0][0], v['rel_wgt'][2][0][1]\n",
    "    rwc = v['rel_wgt'][2][1]\n",
    "    df3[i] = (pd.DataFrame(v['values'])\n",
    "        .iloc[::-1].set_index(0).loc[start: end][1])\n",
    "    df3[i] = df3[i].diff().cumsum() / df3.loc[start, i] + 1\n",
    "    df3.at[start, i] = 1.0\n",
    "    df3[i] = (df3[i] * rwc) * link"
   ]
  },
  {
   "cell_type": "code",
   "execution_count": 42,
   "metadata": {
    "ExecuteTime": {
     "end_time": "2018-03-22T13:43:06.858878Z",
     "start_time": "2018-03-22T13:43:06.776287Z"
    },
    "code_folding": [
     0
    ]
   },
   "outputs": [],
   "source": [
    "# Calculate exactly what I want to show\n",
    "final = pd.concat([df1, df2, df3])\n",
    "final = final[~final.index.duplicated(keep='first')].diff(12)\n",
    "final['core_services'] = final['CUUR0000SASLE'] - final['CUUR0000SAH1']\n",
    "final['food_energy'] = final['CUUR0000SAF1'] + final['CUUR0000SA0E']\n",
    "final = final.dropna().round(2)\n",
    "d2 = final[['core_services', 'CUUR0000SAH1', 'CUUR0000SACL1E', 'food_energy']].loc['2015-01-01':]\n",
    "col_names = ['core services', 'shelter', 'core goods', 'food & energy']\n",
    "d2.columns = col_names\n",
    "d2['strdate'] = d2.index.strftime('%b %Y')"
   ]
  },
  {
   "cell_type": "code",
   "execution_count": 43,
   "metadata": {
    "ExecuteTime": {
     "end_time": "2018-03-22T13:43:08.184906Z",
     "start_time": "2018-03-22T13:43:08.175897Z"
    },
    "code_folding": [
     0
    ]
   },
   "outputs": [],
   "source": [
    "# Split positive and negative values\n",
    "infl = {i :[n if n > -0.0001 else 0 for n in list(d2[i])] for i in col_names}\n",
    "infl['dates'] = list(d2.index)\n",
    "infl['strdate'] = d2.index.strftime('%b %Y')\n",
    "defl = {i :[n  if n < -0.0001 else 0 for n in list(d2[i])] for i in col_names}\n",
    "defl['dates'] = list(d2.index)\n",
    "defl['strdate'] = d2.index.strftime('%b %Y')"
   ]
  },
  {
   "cell_type": "code",
   "execution_count": 14,
   "metadata": {
    "ExecuteTime": {
     "end_time": "2018-03-22T13:17:03.593860Z",
     "start_time": "2018-03-22T13:17:03.582360Z"
    },
    "code_folding": [
     0
    ]
   },
   "outputs": [
    {
     "data": {
      "text/html": [
       "\n",
       "    <div class=\"bk-root\">\n",
       "        <a href=\"https://bokeh.pydata.org\" target=\"_blank\" class=\"bk-logo bk-logo-small bk-logo-notebook\"></a>\n",
       "        <span id=\"a6ccbd0c-4f7e-4cea-b804-05d6e2e59002\">Loading BokehJS ...</span>\n",
       "    </div>"
      ]
     },
     "metadata": {},
     "output_type": "display_data"
    },
    {
     "data": {
      "application/javascript": [
       "\n",
       "(function(root) {\n",
       "  function now() {\n",
       "    return new Date();\n",
       "  }\n",
       "\n",
       "  var force = true;\n",
       "\n",
       "  if (typeof (root._bokeh_onload_callbacks) === \"undefined\" || force === true) {\n",
       "    root._bokeh_onload_callbacks = [];\n",
       "    root._bokeh_is_loading = undefined;\n",
       "  }\n",
       "\n",
       "  var JS_MIME_TYPE = 'application/javascript';\n",
       "  var HTML_MIME_TYPE = 'text/html';\n",
       "  var EXEC_MIME_TYPE = 'application/vnd.bokehjs_exec.v0+json';\n",
       "  var CLASS_NAME = 'output_bokeh rendered_html';\n",
       "\n",
       "  /**\n",
       "   * Render data to the DOM node\n",
       "   */\n",
       "  function render(props, node) {\n",
       "    var script = document.createElement(\"script\");\n",
       "    node.appendChild(script);\n",
       "  }\n",
       "\n",
       "  /**\n",
       "   * Handle when an output is cleared or removed\n",
       "   */\n",
       "  function handleClearOutput(event, handle) {\n",
       "    var cell = handle.cell;\n",
       "\n",
       "    var id = cell.output_area._bokeh_element_id;\n",
       "    var server_id = cell.output_area._bokeh_server_id;\n",
       "    // Clean up Bokeh references\n",
       "    if (id !== undefined) {\n",
       "      Bokeh.index[id].model.document.clear();\n",
       "      delete Bokeh.index[id];\n",
       "    }\n",
       "\n",
       "    if (server_id !== undefined) {\n",
       "      // Clean up Bokeh references\n",
       "      var cmd = \"from bokeh.io.state import curstate; print(curstate().uuid_to_server['\" + server_id + \"'].get_sessions()[0].document.roots[0]._id)\";\n",
       "      cell.notebook.kernel.execute(cmd, {\n",
       "        iopub: {\n",
       "          output: function(msg) {\n",
       "            var element_id = msg.content.text.trim();\n",
       "            Bokeh.index[element_id].model.document.clear();\n",
       "            delete Bokeh.index[element_id];\n",
       "          }\n",
       "        }\n",
       "      });\n",
       "      // Destroy server and session\n",
       "      var cmd = \"import bokeh.io.notebook as ion; ion.destroy_server('\" + server_id + \"')\";\n",
       "      cell.notebook.kernel.execute(cmd);\n",
       "    }\n",
       "  }\n",
       "\n",
       "  /**\n",
       "   * Handle when a new output is added\n",
       "   */\n",
       "  function handleAddOutput(event, handle) {\n",
       "    var output_area = handle.output_area;\n",
       "    var output = handle.output;\n",
       "\n",
       "    // limit handleAddOutput to display_data with EXEC_MIME_TYPE content only\n",
       "    if ((output.output_type != \"display_data\") || (!output.data.hasOwnProperty(EXEC_MIME_TYPE))) {\n",
       "      return\n",
       "    }\n",
       "\n",
       "    var toinsert = output_area.element.find(\".\" + CLASS_NAME.split(' ')[0]);\n",
       "\n",
       "    if (output.metadata[EXEC_MIME_TYPE][\"id\"] !== undefined) {\n",
       "      toinsert[0].firstChild.textContent = output.data[JS_MIME_TYPE];\n",
       "      // store reference to embed id on output_area\n",
       "      output_area._bokeh_element_id = output.metadata[EXEC_MIME_TYPE][\"id\"];\n",
       "    }\n",
       "    if (output.metadata[EXEC_MIME_TYPE][\"server_id\"] !== undefined) {\n",
       "      var bk_div = document.createElement(\"div\");\n",
       "      bk_div.innerHTML = output.data[HTML_MIME_TYPE];\n",
       "      var script_attrs = bk_div.children[0].attributes;\n",
       "      for (var i = 0; i < script_attrs.length; i++) {\n",
       "        toinsert[0].firstChild.setAttribute(script_attrs[i].name, script_attrs[i].value);\n",
       "      }\n",
       "      // store reference to server id on output_area\n",
       "      output_area._bokeh_server_id = output.metadata[EXEC_MIME_TYPE][\"server_id\"];\n",
       "    }\n",
       "  }\n",
       "\n",
       "  function register_renderer(events, OutputArea) {\n",
       "\n",
       "    function append_mime(data, metadata, element) {\n",
       "      // create a DOM node to render to\n",
       "      var toinsert = this.create_output_subarea(\n",
       "        metadata,\n",
       "        CLASS_NAME,\n",
       "        EXEC_MIME_TYPE\n",
       "      );\n",
       "      this.keyboard_manager.register_events(toinsert);\n",
       "      // Render to node\n",
       "      var props = {data: data, metadata: metadata[EXEC_MIME_TYPE]};\n",
       "      render(props, toinsert[0]);\n",
       "      element.append(toinsert);\n",
       "      return toinsert\n",
       "    }\n",
       "\n",
       "    /* Handle when an output is cleared or removed */\n",
       "    events.on('clear_output.CodeCell', handleClearOutput);\n",
       "    events.on('delete.Cell', handleClearOutput);\n",
       "\n",
       "    /* Handle when a new output is added */\n",
       "    events.on('output_added.OutputArea', handleAddOutput);\n",
       "\n",
       "    /**\n",
       "     * Register the mime type and append_mime function with output_area\n",
       "     */\n",
       "    OutputArea.prototype.register_mime_type(EXEC_MIME_TYPE, append_mime, {\n",
       "      /* Is output safe? */\n",
       "      safe: true,\n",
       "      /* Index of renderer in `output_area.display_order` */\n",
       "      index: 0\n",
       "    });\n",
       "  }\n",
       "\n",
       "  // register the mime type if in Jupyter Notebook environment and previously unregistered\n",
       "  if (root.Jupyter !== undefined) {\n",
       "    var events = require('base/js/events');\n",
       "    var OutputArea = require('notebook/js/outputarea').OutputArea;\n",
       "\n",
       "    if (OutputArea.prototype.mime_types().indexOf(EXEC_MIME_TYPE) == -1) {\n",
       "      register_renderer(events, OutputArea);\n",
       "    }\n",
       "  }\n",
       "\n",
       "  \n",
       "  if (typeof (root._bokeh_timeout) === \"undefined\" || force === true) {\n",
       "    root._bokeh_timeout = Date.now() + 5000;\n",
       "    root._bokeh_failed_load = false;\n",
       "  }\n",
       "\n",
       "  var NB_LOAD_WARNING = {'data': {'text/html':\n",
       "     \"<div style='background-color: #fdd'>\\n\"+\n",
       "     \"<p>\\n\"+\n",
       "     \"BokehJS does not appear to have successfully loaded. If loading BokehJS from CDN, this \\n\"+\n",
       "     \"may be due to a slow or bad network connection. Possible fixes:\\n\"+\n",
       "     \"</p>\\n\"+\n",
       "     \"<ul>\\n\"+\n",
       "     \"<li>re-rerun `output_notebook()` to attempt to load from CDN again, or</li>\\n\"+\n",
       "     \"<li>use INLINE resources instead, as so:</li>\\n\"+\n",
       "     \"</ul>\\n\"+\n",
       "     \"<code>\\n\"+\n",
       "     \"from bokeh.resources import INLINE\\n\"+\n",
       "     \"output_notebook(resources=INLINE)\\n\"+\n",
       "     \"</code>\\n\"+\n",
       "     \"</div>\"}};\n",
       "\n",
       "  function display_loaded() {\n",
       "    var el = document.getElementById(\"a6ccbd0c-4f7e-4cea-b804-05d6e2e59002\");\n",
       "    if (el != null) {\n",
       "      el.textContent = \"BokehJS is loading...\";\n",
       "    }\n",
       "    if (root.Bokeh !== undefined) {\n",
       "      if (el != null) {\n",
       "        el.textContent = \"BokehJS \" + root.Bokeh.version + \" successfully loaded.\";\n",
       "      }\n",
       "    } else if (Date.now() < root._bokeh_timeout) {\n",
       "      setTimeout(display_loaded, 100)\n",
       "    }\n",
       "  }\n",
       "\n",
       "\n",
       "  function run_callbacks() {\n",
       "    try {\n",
       "      root._bokeh_onload_callbacks.forEach(function(callback) { callback() });\n",
       "    }\n",
       "    finally {\n",
       "      delete root._bokeh_onload_callbacks\n",
       "    }\n",
       "    console.info(\"Bokeh: all callbacks have finished\");\n",
       "  }\n",
       "\n",
       "  function load_libs(js_urls, callback) {\n",
       "    root._bokeh_onload_callbacks.push(callback);\n",
       "    if (root._bokeh_is_loading > 0) {\n",
       "      console.log(\"Bokeh: BokehJS is being loaded, scheduling callback at\", now());\n",
       "      return null;\n",
       "    }\n",
       "    if (js_urls == null || js_urls.length === 0) {\n",
       "      run_callbacks();\n",
       "      return null;\n",
       "    }\n",
       "    console.log(\"Bokeh: BokehJS not loaded, scheduling load and callback at\", now());\n",
       "    root._bokeh_is_loading = js_urls.length;\n",
       "    for (var i = 0; i < js_urls.length; i++) {\n",
       "      var url = js_urls[i];\n",
       "      var s = document.createElement('script');\n",
       "      s.src = url;\n",
       "      s.async = false;\n",
       "      s.onreadystatechange = s.onload = function() {\n",
       "        root._bokeh_is_loading--;\n",
       "        if (root._bokeh_is_loading === 0) {\n",
       "          console.log(\"Bokeh: all BokehJS libraries loaded\");\n",
       "          run_callbacks()\n",
       "        }\n",
       "      };\n",
       "      s.onerror = function() {\n",
       "        console.warn(\"failed to load library \" + url);\n",
       "      };\n",
       "      console.log(\"Bokeh: injecting script tag for BokehJS library: \", url);\n",
       "      document.getElementsByTagName(\"head\")[0].appendChild(s);\n",
       "    }\n",
       "  };var element = document.getElementById(\"a6ccbd0c-4f7e-4cea-b804-05d6e2e59002\");\n",
       "  if (element == null) {\n",
       "    console.log(\"Bokeh: ERROR: autoload.js configured with elementid 'a6ccbd0c-4f7e-4cea-b804-05d6e2e59002' but no matching script tag was found. \")\n",
       "    return false;\n",
       "  }\n",
       "\n",
       "  var js_urls = [\"https://cdn.pydata.org/bokeh/release/bokeh-0.12.14.min.js\", \"https://cdn.pydata.org/bokeh/release/bokeh-widgets-0.12.14.min.js\", \"https://cdn.pydata.org/bokeh/release/bokeh-tables-0.12.14.min.js\", \"https://cdn.pydata.org/bokeh/release/bokeh-gl-0.12.14.min.js\"];\n",
       "\n",
       "  var inline_js = [\n",
       "    function(Bokeh) {\n",
       "      Bokeh.set_log_level(\"info\");\n",
       "    },\n",
       "    \n",
       "    function(Bokeh) {\n",
       "      \n",
       "    },\n",
       "    function(Bokeh) {\n",
       "      console.log(\"Bokeh: injecting CSS: https://cdn.pydata.org/bokeh/release/bokeh-0.12.14.min.css\");\n",
       "      Bokeh.embed.inject_css(\"https://cdn.pydata.org/bokeh/release/bokeh-0.12.14.min.css\");\n",
       "      console.log(\"Bokeh: injecting CSS: https://cdn.pydata.org/bokeh/release/bokeh-widgets-0.12.14.min.css\");\n",
       "      Bokeh.embed.inject_css(\"https://cdn.pydata.org/bokeh/release/bokeh-widgets-0.12.14.min.css\");\n",
       "      console.log(\"Bokeh: injecting CSS: https://cdn.pydata.org/bokeh/release/bokeh-tables-0.12.14.min.css\");\n",
       "      Bokeh.embed.inject_css(\"https://cdn.pydata.org/bokeh/release/bokeh-tables-0.12.14.min.css\");\n",
       "    }\n",
       "  ];\n",
       "\n",
       "  function run_inline_js() {\n",
       "    \n",
       "    if ((root.Bokeh !== undefined) || (force === true)) {\n",
       "      for (var i = 0; i < inline_js.length; i++) {\n",
       "        inline_js[i].call(root, root.Bokeh);\n",
       "      }if (force === true) {\n",
       "        display_loaded();\n",
       "      }} else if (Date.now() < root._bokeh_timeout) {\n",
       "      setTimeout(run_inline_js, 100);\n",
       "    } else if (!root._bokeh_failed_load) {\n",
       "      console.log(\"Bokeh: BokehJS failed to load within specified timeout.\");\n",
       "      root._bokeh_failed_load = true;\n",
       "    } else if (force !== true) {\n",
       "      var cell = $(document.getElementById(\"a6ccbd0c-4f7e-4cea-b804-05d6e2e59002\")).parents('.cell').data().cell;\n",
       "      cell.output_area.append_execute_result(NB_LOAD_WARNING)\n",
       "    }\n",
       "\n",
       "  }\n",
       "\n",
       "  if (root._bokeh_is_loading === 0) {\n",
       "    console.log(\"Bokeh: BokehJS loaded, going straight to plotting\");\n",
       "    run_inline_js();\n",
       "  } else {\n",
       "    load_libs(js_urls, function() {\n",
       "      console.log(\"Bokeh: BokehJS plotting callback run at\", now());\n",
       "      run_inline_js();\n",
       "    });\n",
       "  }\n",
       "}(window));"
      ],
      "application/vnd.bokehjs_load.v0+json": "\n(function(root) {\n  function now() {\n    return new Date();\n  }\n\n  var force = true;\n\n  if (typeof (root._bokeh_onload_callbacks) === \"undefined\" || force === true) {\n    root._bokeh_onload_callbacks = [];\n    root._bokeh_is_loading = undefined;\n  }\n\n  \n\n  \n  if (typeof (root._bokeh_timeout) === \"undefined\" || force === true) {\n    root._bokeh_timeout = Date.now() + 5000;\n    root._bokeh_failed_load = false;\n  }\n\n  var NB_LOAD_WARNING = {'data': {'text/html':\n     \"<div style='background-color: #fdd'>\\n\"+\n     \"<p>\\n\"+\n     \"BokehJS does not appear to have successfully loaded. If loading BokehJS from CDN, this \\n\"+\n     \"may be due to a slow or bad network connection. Possible fixes:\\n\"+\n     \"</p>\\n\"+\n     \"<ul>\\n\"+\n     \"<li>re-rerun `output_notebook()` to attempt to load from CDN again, or</li>\\n\"+\n     \"<li>use INLINE resources instead, as so:</li>\\n\"+\n     \"</ul>\\n\"+\n     \"<code>\\n\"+\n     \"from bokeh.resources import INLINE\\n\"+\n     \"output_notebook(resources=INLINE)\\n\"+\n     \"</code>\\n\"+\n     \"</div>\"}};\n\n  function display_loaded() {\n    var el = document.getElementById(\"a6ccbd0c-4f7e-4cea-b804-05d6e2e59002\");\n    if (el != null) {\n      el.textContent = \"BokehJS is loading...\";\n    }\n    if (root.Bokeh !== undefined) {\n      if (el != null) {\n        el.textContent = \"BokehJS \" + root.Bokeh.version + \" successfully loaded.\";\n      }\n    } else if (Date.now() < root._bokeh_timeout) {\n      setTimeout(display_loaded, 100)\n    }\n  }\n\n\n  function run_callbacks() {\n    try {\n      root._bokeh_onload_callbacks.forEach(function(callback) { callback() });\n    }\n    finally {\n      delete root._bokeh_onload_callbacks\n    }\n    console.info(\"Bokeh: all callbacks have finished\");\n  }\n\n  function load_libs(js_urls, callback) {\n    root._bokeh_onload_callbacks.push(callback);\n    if (root._bokeh_is_loading > 0) {\n      console.log(\"Bokeh: BokehJS is being loaded, scheduling callback at\", now());\n      return null;\n    }\n    if (js_urls == null || js_urls.length === 0) {\n      run_callbacks();\n      return null;\n    }\n    console.log(\"Bokeh: BokehJS not loaded, scheduling load and callback at\", now());\n    root._bokeh_is_loading = js_urls.length;\n    for (var i = 0; i < js_urls.length; i++) {\n      var url = js_urls[i];\n      var s = document.createElement('script');\n      s.src = url;\n      s.async = false;\n      s.onreadystatechange = s.onload = function() {\n        root._bokeh_is_loading--;\n        if (root._bokeh_is_loading === 0) {\n          console.log(\"Bokeh: all BokehJS libraries loaded\");\n          run_callbacks()\n        }\n      };\n      s.onerror = function() {\n        console.warn(\"failed to load library \" + url);\n      };\n      console.log(\"Bokeh: injecting script tag for BokehJS library: \", url);\n      document.getElementsByTagName(\"head\")[0].appendChild(s);\n    }\n  };var element = document.getElementById(\"a6ccbd0c-4f7e-4cea-b804-05d6e2e59002\");\n  if (element == null) {\n    console.log(\"Bokeh: ERROR: autoload.js configured with elementid 'a6ccbd0c-4f7e-4cea-b804-05d6e2e59002' but no matching script tag was found. \")\n    return false;\n  }\n\n  var js_urls = [\"https://cdn.pydata.org/bokeh/release/bokeh-0.12.14.min.js\", \"https://cdn.pydata.org/bokeh/release/bokeh-widgets-0.12.14.min.js\", \"https://cdn.pydata.org/bokeh/release/bokeh-tables-0.12.14.min.js\", \"https://cdn.pydata.org/bokeh/release/bokeh-gl-0.12.14.min.js\"];\n\n  var inline_js = [\n    function(Bokeh) {\n      Bokeh.set_log_level(\"info\");\n    },\n    \n    function(Bokeh) {\n      \n    },\n    function(Bokeh) {\n      console.log(\"Bokeh: injecting CSS: https://cdn.pydata.org/bokeh/release/bokeh-0.12.14.min.css\");\n      Bokeh.embed.inject_css(\"https://cdn.pydata.org/bokeh/release/bokeh-0.12.14.min.css\");\n      console.log(\"Bokeh: injecting CSS: https://cdn.pydata.org/bokeh/release/bokeh-widgets-0.12.14.min.css\");\n      Bokeh.embed.inject_css(\"https://cdn.pydata.org/bokeh/release/bokeh-widgets-0.12.14.min.css\");\n      console.log(\"Bokeh: injecting CSS: https://cdn.pydata.org/bokeh/release/bokeh-tables-0.12.14.min.css\");\n      Bokeh.embed.inject_css(\"https://cdn.pydata.org/bokeh/release/bokeh-tables-0.12.14.min.css\");\n    }\n  ];\n\n  function run_inline_js() {\n    \n    if ((root.Bokeh !== undefined) || (force === true)) {\n      for (var i = 0; i < inline_js.length; i++) {\n        inline_js[i].call(root, root.Bokeh);\n      }if (force === true) {\n        display_loaded();\n      }} else if (Date.now() < root._bokeh_timeout) {\n      setTimeout(run_inline_js, 100);\n    } else if (!root._bokeh_failed_load) {\n      console.log(\"Bokeh: BokehJS failed to load within specified timeout.\");\n      root._bokeh_failed_load = true;\n    } else if (force !== true) {\n      var cell = $(document.getElementById(\"a6ccbd0c-4f7e-4cea-b804-05d6e2e59002\")).parents('.cell').data().cell;\n      cell.output_area.append_execute_result(NB_LOAD_WARNING)\n    }\n\n  }\n\n  if (root._bokeh_is_loading === 0) {\n    console.log(\"Bokeh: BokehJS loaded, going straight to plotting\");\n    run_inline_js();\n  } else {\n    load_libs(js_urls, function() {\n      console.log(\"Bokeh: BokehJS plotting callback run at\", now());\n      run_inline_js();\n    });\n  }\n}(window));"
     },
     "metadata": {},
     "output_type": "display_data"
    }
   ],
   "source": [
    "# Bokeh settings\n",
    "from bokeh.plotting import figure, show\n",
    "import bokeh.models\n",
    "import bokeh.plotting\n",
    "from bokeh.models import ColumnDataSource, Span, Label, HoverTool, Range1d, CDSView\n",
    "from bokeh.embed import components\n",
    "from bokeh.io import output_notebook\n",
    "output_notebook()"
   ]
  },
  {
   "cell_type": "code",
   "execution_count": 45,
   "metadata": {
    "ExecuteTime": {
     "end_time": "2018-03-22T13:43:22.653377Z",
     "start_time": "2018-03-22T13:43:22.391139Z"
    },
    "code_folding": [
     0
    ]
   },
   "outputs": [
    {
     "data": {
      "text/html": [
       "\n",
       "<div class=\"bk-root\">\n",
       "    <div class=\"bk-plotdiv\" id=\"ff6a90d7-b873-43fc-a4e7-020bd810b296\"></div>\n",
       "</div>"
      ]
     },
     "metadata": {},
     "output_type": "display_data"
    },
    {
     "data": {
      "application/javascript": [
       "(function(root) {\n",
       "  function embed_document(root) {\n",
       "    \n",
       "  var docs_json = {\"ad29599b-3e2e-466a-989a-d91b3f5b47e8\":{\"roots\":{\"references\":[{\"attributes\":{\"label\":{\"value\":\"Food & energy\"},\"renderers\":[{\"id\":\"6b1e3f15-a552-40ef-b8c5-50baf4da7f77\",\"type\":\"GlyphRenderer\"}]},\"id\":\"b12b14e6-793b-4109-aae0-0aaa12180b59\",\"type\":\"LegendItem\"},{\"attributes\":{\"bottom\":{\"expr\":{\"id\":\"74d13f93-4307-4cb1-af06-369ee9c2ee3a\",\"type\":\"Stack\"}},\"fill_alpha\":{\"value\":0.1},\"fill_color\":{\"value\":\"#1f77b4\"},\"line_alpha\":{\"value\":0.1},\"line_color\":{\"value\":\"#1f77b4\"},\"top\":{\"expr\":{\"id\":\"d9e43d5d-9961-4102-86b3-85c296fe5e99\",\"type\":\"Stack\"}},\"width\":{\"value\":2049953684.2105262},\"x\":{\"field\":\"dates\"}},\"id\":\"67c0721f-19bc-4c28-a779-cd8afb24bc5b\",\"type\":\"VBar\"},{\"attributes\":{\"grid_line_color\":{\"value\":null},\"plot\":{\"id\":\"6f3e18ce-49ba-4f15-b574-1d0091616e78\",\"subtype\":\"Figure\",\"type\":\"Plot\"},\"ticker\":{\"id\":\"0746a3ef-bd54-4a8e-9f2b-b924239a8a64\",\"type\":\"DatetimeTicker\"}},\"id\":\"110bccb3-1472-40ad-b1df-7cab7fb41872\",\"type\":\"Grid\"},{\"attributes\":{\"bottom\":{\"expr\":{\"id\":\"efc17d0d-72c7-4139-baaf-bcacb8a301cc\",\"type\":\"Stack\"}},\"fill_color\":{\"value\":\"#80DEEA\"},\"line_alpha\":{\"value\":0},\"line_color\":{\"value\":\"#80DEEA\"},\"top\":{\"expr\":{\"id\":\"5c56707e-854a-450d-bc20-48424b4a31c8\",\"type\":\"Stack\"}},\"width\":{\"value\":2049953684.2105262},\"x\":{\"field\":\"dates\"}},\"id\":\"ab924f0a-4190-4c61-813d-211d65112158\",\"type\":\"VBar\"},{\"attributes\":{\"num_minor_ticks\":5,\"tickers\":[{\"id\":\"f2bd9b05-388b-4e3d-bec1-0b49c03dcdce\",\"type\":\"AdaptiveTicker\"},{\"id\":\"e3673247-f9bb-4e6e-a244-c7002c2cf77b\",\"type\":\"AdaptiveTicker\"},{\"id\":\"eb731c76-d602-46e8-be62-fcbe1c823aaf\",\"type\":\"AdaptiveTicker\"},{\"id\":\"66ad770f-8551-4afa-a116-739d3cb1e96d\",\"type\":\"DaysTicker\"},{\"id\":\"4fe84002-18d7-42c4-9589-117351e6bc52\",\"type\":\"DaysTicker\"},{\"id\":\"7b1e1360-ad36-4879-b9ca-bbc75f9ac54c\",\"type\":\"DaysTicker\"},{\"id\":\"7cf66c54-23db-49d7-afaa-3b2b56be1ee3\",\"type\":\"DaysTicker\"},{\"id\":\"e7228d9c-2e44-4c2d-a9e8-59c6b71711e4\",\"type\":\"MonthsTicker\"},{\"id\":\"7abb2e55-9b09-49bc-809c-4e3a8786c580\",\"type\":\"MonthsTicker\"},{\"id\":\"b47bf2aa-a656-4c38-a381-5f5313b1beb6\",\"type\":\"MonthsTicker\"},{\"id\":\"e6bae34c-3efd-48f5-9321-a06a975fa61e\",\"type\":\"MonthsTicker\"},{\"id\":\"7c65b7cc-92bc-4554-9895-fbb15a8fb2e9\",\"type\":\"YearsTicker\"}]},\"id\":\"0746a3ef-bd54-4a8e-9f2b-b924239a8a64\",\"type\":\"DatetimeTicker\"},{\"attributes\":{\"bottom\":{\"expr\":{\"id\":\"657a841a-ad8a-4391-bcbd-fc285c6fa550\",\"type\":\"Stack\"}},\"fill_color\":{\"value\":\"#304FFE\"},\"line_alpha\":{\"value\":0},\"line_color\":{\"value\":\"#304FFE\"},\"top\":{\"expr\":{\"id\":\"2d22664d-c273-40d7-bf2d-dbe244522141\",\"type\":\"Stack\"}},\"width\":{\"value\":2049953684.2105262},\"x\":{\"field\":\"dates\"}},\"id\":\"26129efa-2513-400d-b85d-9ad890148801\",\"type\":\"VBar\"},{\"attributes\":{},\"id\":\"895f4c5f-1ea0-4759-a451-c9aaef066965\",\"type\":\"DatetimeTickFormatter\"},{\"attributes\":{\"axis_line_color\":{\"value\":\"white\"},\"formatter\":{\"id\":\"641bb926-ed40-4e08-920a-3150b1847fa3\",\"type\":\"BasicTickFormatter\"},\"plot\":{\"id\":\"6f3e18ce-49ba-4f15-b574-1d0091616e78\",\"subtype\":\"Figure\",\"type\":\"Plot\"},\"ticker\":{\"id\":\"37a984ca-99ac-4d52-98e9-3a531ecf8786\",\"type\":\"BasicTicker\"}},\"id\":\"1dce7839-2b29-4136-a0c9-7ce1d1d793f7\",\"type\":\"LinearAxis\"},{\"attributes\":{\"bottom\":{\"expr\":{\"id\":\"8096373e-5264-4151-95d2-caa2255d528e\",\"type\":\"Stack\"}},\"fill_color\":{\"value\":\"#00c853\"},\"line_alpha\":{\"value\":0},\"line_color\":{\"value\":\"#00c853\"},\"top\":{\"expr\":{\"id\":\"ed83d617-ff0a-4982-8a49-1374bed5bb79\",\"type\":\"Stack\"}},\"width\":{\"value\":2049953684.2105262},\"x\":{\"field\":\"dates\"}},\"id\":\"65a60f70-34cd-4d08-8b47-c84f61745755\",\"type\":\"VBar\"},{\"attributes\":{\"data_source\":{\"id\":\"07917903-6115-4122-ab48-f26599de78a5\",\"type\":\"ColumnDataSource\"},\"glyph\":{\"id\":\"4c5e86a1-acd1-41b7-87cf-b7a7b6f92441\",\"type\":\"VBar\"},\"hover_glyph\":null,\"muted_glyph\":null,\"nonselection_glyph\":{\"id\":\"67c0721f-19bc-4c28-a779-cd8afb24bc5b\",\"type\":\"VBar\"},\"selection_glyph\":null,\"view\":{\"id\":\"0a54ecc8-9688-49b9-9860-a7c672d6f651\",\"type\":\"CDSView\"}},\"id\":\"0119df67-03be-4dbd-ae54-9976aad1ddbd\",\"type\":\"GlyphRenderer\"},{\"attributes\":{\"callback\":null,\"show_arrow\":false,\"tooltips\":[[\"Date\",\"@strdate\"],[\"Contribution\",\"@{core goods}{1.1}\"]]},\"id\":\"4c57b9ec-7237-4b0f-b1fe-ba8e588d3529\",\"type\":\"HoverTool\"},{\"attributes\":{\"fields\":[\"core services\"]},\"id\":\"50b2f371-24b2-4d8c-be02-f5babada06f8\",\"type\":\"Stack\"},{\"attributes\":{\"bottom\":{\"expr\":{\"id\":\"efc17d0d-72c7-4139-baaf-bcacb8a301cc\",\"type\":\"Stack\"}},\"fill_alpha\":{\"value\":0.1},\"fill_color\":{\"value\":\"#1f77b4\"},\"line_alpha\":{\"value\":0.1},\"line_color\":{\"value\":\"#1f77b4\"},\"top\":{\"expr\":{\"id\":\"5c56707e-854a-450d-bc20-48424b4a31c8\",\"type\":\"Stack\"}},\"width\":{\"value\":2049953684.2105262},\"x\":{\"field\":\"dates\"}},\"id\":\"8a2fd4ba-013e-454c-ae2f-90e502e7751b\",\"type\":\"VBar\"},{\"attributes\":{\"fields\":[]},\"id\":\"64b98e59-1861-4c74-b4ff-320cc895e724\",\"type\":\"Stack\"},{\"attributes\":{\"source\":{\"id\":\"07917903-6115-4122-ab48-f26599de78a5\",\"type\":\"ColumnDataSource\"}},\"id\":\"0a54ecc8-9688-49b9-9860-a7c672d6f651\",\"type\":\"CDSView\"},{\"attributes\":{},\"id\":\"c97c9c72-a45d-4e81-a0a1-4ed2dc92561e\",\"type\":\"PanTool\"},{\"attributes\":{\"bottom\":{\"expr\":{\"id\":\"657a841a-ad8a-4391-bcbd-fc285c6fa550\",\"type\":\"Stack\"}},\"fill_alpha\":{\"value\":0.1},\"fill_color\":{\"value\":\"#1f77b4\"},\"line_alpha\":{\"value\":0.1},\"line_color\":{\"value\":\"#1f77b4\"},\"top\":{\"expr\":{\"id\":\"2d22664d-c273-40d7-bf2d-dbe244522141\",\"type\":\"Stack\"}},\"width\":{\"value\":2049953684.2105262},\"x\":{\"field\":\"dates\"}},\"id\":\"1a46cc6c-7ba3-4a4e-bfc0-cd33d515ffc0\",\"type\":\"VBar\"},{\"attributes\":{\"fields\":[\"core services\"]},\"id\":\"cff67ad8-c271-4591-af7c-ab08e569951c\",\"type\":\"Stack\"},{\"attributes\":{},\"id\":\"2f54e1c5-b04e-4d3e-820d-f5c96296c657\",\"type\":\"WheelZoomTool\"},{\"attributes\":{\"bottom\":{\"expr\":{\"id\":\"8096373e-5264-4151-95d2-caa2255d528e\",\"type\":\"Stack\"}},\"fill_alpha\":{\"value\":0.1},\"fill_color\":{\"value\":\"#1f77b4\"},\"line_alpha\":{\"value\":0.1},\"line_color\":{\"value\":\"#1f77b4\"},\"top\":{\"expr\":{\"id\":\"ed83d617-ff0a-4982-8a49-1374bed5bb79\",\"type\":\"Stack\"}},\"width\":{\"value\":2049953684.2105262},\"x\":{\"field\":\"dates\"}},\"id\":\"093fe76b-dc2c-4818-b6b4-dda3d95cadb4\",\"type\":\"VBar\"},{\"attributes\":{\"overlay\":{\"id\":\"a5db9383-f45b-407f-bab3-eb6bb4e8f222\",\"type\":\"BoxAnnotation\"}},\"id\":\"59d3310f-095b-42ed-8ec6-317678337a43\",\"type\":\"BoxZoomTool\"},{\"attributes\":{},\"id\":\"a64f19c0-8ce2-48e0-b9cf-1f0887eed1ab\",\"type\":\"ResetTool\"},{\"attributes\":{\"bottom_units\":\"screen\",\"fill_alpha\":{\"value\":0.5},\"fill_color\":{\"value\":\"lightgrey\"},\"left_units\":\"screen\",\"level\":\"overlay\",\"line_alpha\":{\"value\":1.0},\"line_color\":{\"value\":\"black\"},\"line_dash\":[4,4],\"line_width\":{\"value\":2},\"plot\":null,\"render_mode\":\"css\",\"right_units\":\"screen\",\"top_units\":\"screen\"},\"id\":\"a5db9383-f45b-407f-bab3-eb6bb4e8f222\",\"type\":\"BoxAnnotation\"},{\"attributes\":{\"data_source\":{\"id\":\"07917903-6115-4122-ab48-f26599de78a5\",\"type\":\"ColumnDataSource\"},\"glyph\":{\"id\":\"ab924f0a-4190-4c61-813d-211d65112158\",\"type\":\"VBar\"},\"hover_glyph\":null,\"muted_glyph\":null,\"nonselection_glyph\":{\"id\":\"8a2fd4ba-013e-454c-ae2f-90e502e7751b\",\"type\":\"VBar\"},\"selection_glyph\":null,\"view\":{\"id\":\"bf5cac76-1a2f-4b68-b060-7f859d24c7fe\",\"type\":\"CDSView\"}},\"id\":\"9ed4bfe3-01e4-497c-a526-b4c7aa869aaa\",\"type\":\"GlyphRenderer\"},{\"attributes\":{},\"id\":\"37a984ca-99ac-4d52-98e9-3a531ecf8786\",\"type\":\"BasicTicker\"},{\"attributes\":{\"source\":{\"id\":\"07917903-6115-4122-ab48-f26599de78a5\",\"type\":\"ColumnDataSource\"}},\"id\":\"bf5cac76-1a2f-4b68-b060-7f859d24c7fe\",\"type\":\"CDSView\"},{\"attributes\":{\"dimension\":1,\"plot\":{\"id\":\"6f3e18ce-49ba-4f15-b574-1d0091616e78\",\"subtype\":\"Figure\",\"type\":\"Plot\"},\"ticker\":{\"id\":\"37a984ca-99ac-4d52-98e9-3a531ecf8786\",\"type\":\"BasicTicker\"}},\"id\":\"15b31664-039d-4cad-b630-1a291302f1aa\",\"type\":\"Grid\"},{\"attributes\":{\"fields\":[\"core services\",\"shelter\"]},\"id\":\"8e740bee-e34a-4576-9b0a-f5953609f527\",\"type\":\"Stack\"},{\"attributes\":{\"bottom\":{\"expr\":{\"id\":\"64b98e59-1861-4c74-b4ff-320cc895e724\",\"type\":\"Stack\"}},\"fill_color\":{\"value\":\"#FFEA00\"},\"line_alpha\":{\"value\":0},\"line_color\":{\"value\":\"#FFEA00\"},\"top\":{\"expr\":{\"id\":\"cff67ad8-c271-4591-af7c-ab08e569951c\",\"type\":\"Stack\"}},\"width\":{\"value\":2049953684.2105262},\"x\":{\"field\":\"dates\"}},\"id\":\"cbb55d7b-f890-4c45-9de5-57fd880324d4\",\"type\":\"VBar\"},{\"attributes\":{\"data_source\":{\"id\":\"07917903-6115-4122-ab48-f26599de78a5\",\"type\":\"ColumnDataSource\"},\"glyph\":{\"id\":\"65a60f70-34cd-4d08-8b47-c84f61745755\",\"type\":\"VBar\"},\"hover_glyph\":null,\"muted_glyph\":null,\"nonselection_glyph\":{\"id\":\"093fe76b-dc2c-4818-b6b4-dda3d95cadb4\",\"type\":\"VBar\"},\"selection_glyph\":null,\"view\":{\"id\":\"0b794889-65b2-405e-a295-464f414de6a8\",\"type\":\"CDSView\"}},\"id\":\"bbac9ebd-ecf7-4ab4-a3d8-10149c4f89be\",\"type\":\"GlyphRenderer\"},{\"attributes\":{\"fields\":[]},\"id\":\"74d13f93-4307-4cb1-af06-369ee9c2ee3a\",\"type\":\"Stack\"},{\"attributes\":{\"source\":{\"id\":\"07917903-6115-4122-ab48-f26599de78a5\",\"type\":\"ColumnDataSource\"}},\"id\":\"0b794889-65b2-405e-a295-464f414de6a8\",\"type\":\"CDSView\"},{\"attributes\":{\"fields\":[\"core services\",\"shelter\",\"core goods\"]},\"id\":\"c8938190-ee1e-4e92-b223-7fbc4bbfa99d\",\"type\":\"Stack\"},{\"attributes\":{\"fields\":[\"core services\",\"shelter\"]},\"id\":\"ff47b8dd-8d75-40d7-9b74-05632fe8efe8\",\"type\":\"Stack\"},{\"attributes\":{\"fields\":[\"core services\",\"shelter\",\"core goods\",\"food & energy\"]},\"id\":\"631cdba9-96c0-4d7d-a852-115bd8780d73\",\"type\":\"Stack\"},{\"attributes\":{\"fields\":[\"core services\",\"shelter\",\"core goods\"]},\"id\":\"6b01b0c8-dd92-43de-a1f7-e45cd462573d\",\"type\":\"Stack\"},{\"attributes\":{\"data_source\":{\"id\":\"07917903-6115-4122-ab48-f26599de78a5\",\"type\":\"ColumnDataSource\"},\"glyph\":{\"id\":\"26129efa-2513-400d-b85d-9ad890148801\",\"type\":\"VBar\"},\"hover_glyph\":null,\"muted_glyph\":null,\"nonselection_glyph\":{\"id\":\"1a46cc6c-7ba3-4a4e-bfc0-cd33d515ffc0\",\"type\":\"VBar\"},\"selection_glyph\":null,\"view\":{\"id\":\"85d1ad48-5361-4a49-b712-c18215da9cc4\",\"type\":\"CDSView\"}},\"id\":\"564d7094-3044-4d54-b8cb-f1fa7a92f8b5\",\"type\":\"GlyphRenderer\"},{\"attributes\":{\"bottom\":{\"expr\":{\"id\":\"64b98e59-1861-4c74-b4ff-320cc895e724\",\"type\":\"Stack\"}},\"fill_alpha\":{\"value\":0.1},\"fill_color\":{\"value\":\"#1f77b4\"},\"line_alpha\":{\"value\":0.1},\"line_color\":{\"value\":\"#1f77b4\"},\"top\":{\"expr\":{\"id\":\"cff67ad8-c271-4591-af7c-ab08e569951c\",\"type\":\"Stack\"}},\"width\":{\"value\":2049953684.2105262},\"x\":{\"field\":\"dates\"}},\"id\":\"be1a6329-130c-4a09-a8a3-1b5b4a614ccf\",\"type\":\"VBar\"},{\"attributes\":{\"bottom\":{\"expr\":{\"id\":\"ff47b8dd-8d75-40d7-9b74-05632fe8efe8\",\"type\":\"Stack\"}},\"fill_color\":{\"value\":\"#00c853\"},\"line_alpha\":{\"value\":0},\"line_color\":{\"value\":\"#00c853\"},\"top\":{\"expr\":{\"id\":\"c8938190-ee1e-4e92-b223-7fbc4bbfa99d\",\"type\":\"Stack\"}},\"width\":{\"value\":2049953684.2105262},\"x\":{\"field\":\"dates\"}},\"id\":\"e496b4b0-4fbd-48af-8ffa-218c68541478\",\"type\":\"VBar\"},{\"attributes\":{\"source\":{\"id\":\"07917903-6115-4122-ab48-f26599de78a5\",\"type\":\"ColumnDataSource\"}},\"id\":\"85d1ad48-5361-4a49-b712-c18215da9cc4\",\"type\":\"CDSView\"},{\"attributes\":{\"days\":[1,4,7,10,13,16,19,22,25,28]},\"id\":\"4fe84002-18d7-42c4-9589-117351e6bc52\",\"type\":\"DaysTicker\"},{\"attributes\":{\"base\":60,\"mantissas\":[1,2,5,10,15,20,30],\"max_interval\":1800000.0,\"min_interval\":1000.0,\"num_minor_ticks\":0},\"id\":\"e3673247-f9bb-4e6e-a244-c7002c2cf77b\",\"type\":\"AdaptiveTicker\"},{\"attributes\":{\"plot\":null,\"text\":\"\"},\"id\":\"1e8c6383-2ad4-4e7f-a30d-68ca00108a1a\",\"type\":\"Title\"},{\"attributes\":{\"days\":[1,15]},\"id\":\"7cf66c54-23db-49d7-afaa-3b2b56be1ee3\",\"type\":\"DaysTicker\"},{\"attributes\":{\"base\":24,\"mantissas\":[1,2,4,6,8,12],\"max_interval\":43200000.0,\"min_interval\":3600000.0,\"num_minor_ticks\":0},\"id\":\"eb731c76-d602-46e8-be62-fcbe1c823aaf\",\"type\":\"AdaptiveTicker\"},{\"attributes\":{\"days\":[1,8,15,22]},\"id\":\"7b1e1360-ad36-4879-b9ca-bbc75f9ac54c\",\"type\":\"DaysTicker\"},{\"attributes\":{\"mantissas\":[1,2,5],\"max_interval\":500.0,\"num_minor_ticks\":0},\"id\":\"f2bd9b05-388b-4e3d-bec1-0b49c03dcdce\",\"type\":\"AdaptiveTicker\"},{\"attributes\":{\"source\":{\"id\":\"818f9799-f72e-4485-a384-8a09ecc21095\",\"type\":\"ColumnDataSource\"}},\"id\":\"2f6f3566-3f34-4f77-8bf8-76b02a898b99\",\"type\":\"CDSView\"},{\"attributes\":{},\"id\":\"641bb926-ed40-4e08-920a-3150b1847fa3\",\"type\":\"BasicTickFormatter\"},{\"attributes\":{\"days\":[1,2,3,4,5,6,7,8,9,10,11,12,13,14,15,16,17,18,19,20,21,22,23,24,25,26,27,28,29,30,31]},\"id\":\"66ad770f-8551-4afa-a116-739d3cb1e96d\",\"type\":\"DaysTicker\"},{\"attributes\":{\"data_source\":{\"id\":\"818f9799-f72e-4485-a384-8a09ecc21095\",\"type\":\"ColumnDataSource\"},\"glyph\":{\"id\":\"cbb55d7b-f890-4c45-9de5-57fd880324d4\",\"type\":\"VBar\"},\"hover_glyph\":null,\"muted_glyph\":null,\"nonselection_glyph\":{\"id\":\"be1a6329-130c-4a09-a8a3-1b5b4a614ccf\",\"type\":\"VBar\"},\"selection_glyph\":null,\"view\":{\"id\":\"2f6f3566-3f34-4f77-8bf8-76b02a898b99\",\"type\":\"CDSView\"}},\"id\":\"1102733b-bcc9-4e60-a12c-18f0275b98bc\",\"type\":\"GlyphRenderer\"},{\"attributes\":{\"line_color\":{\"value\":\"gray\"},\"location\":0,\"plot\":{\"id\":\"6f3e18ce-49ba-4f15-b574-1d0091616e78\",\"subtype\":\"Figure\",\"type\":\"Plot\"}},\"id\":\"ab78faa2-9d5e-4a6d-a704-a16f27ee7de9\",\"type\":\"Span\"},{\"attributes\":{\"months\":[0,2,4,6,8,10]},\"id\":\"7abb2e55-9b09-49bc-809c-4e3a8786c580\",\"type\":\"MonthsTicker\"},{\"attributes\":{\"months\":[0,6]},\"id\":\"e6bae34c-3efd-48f5-9321-a06a975fa61e\",\"type\":\"MonthsTicker\"},{\"attributes\":{\"bottom\":{\"expr\":{\"id\":\"50b2f371-24b2-4d8c-be02-f5babada06f8\",\"type\":\"Stack\"}},\"fill_color\":{\"value\":\"#80DEEA\"},\"line_alpha\":{\"value\":0},\"line_color\":{\"value\":\"#80DEEA\"},\"top\":{\"expr\":{\"id\":\"8e740bee-e34a-4576-9b0a-f5953609f527\",\"type\":\"Stack\"}},\"width\":{\"value\":2049953684.2105262},\"x\":{\"field\":\"dates\"}},\"id\":\"153306c9-169b-41d2-90a7-fe7930d1aa2c\",\"type\":\"VBar\"},{\"attributes\":{\"fields\":[\"core services\",\"shelter\",\"core goods\"]},\"id\":\"657a841a-ad8a-4391-bcbd-fc285c6fa550\",\"type\":\"Stack\"},{\"attributes\":{\"bottom\":{\"expr\":{\"id\":\"50b2f371-24b2-4d8c-be02-f5babada06f8\",\"type\":\"Stack\"}},\"fill_alpha\":{\"value\":0.1},\"fill_color\":{\"value\":\"#1f77b4\"},\"line_alpha\":{\"value\":0.1},\"line_color\":{\"value\":\"#1f77b4\"},\"top\":{\"expr\":{\"id\":\"8e740bee-e34a-4576-9b0a-f5953609f527\",\"type\":\"Stack\"}},\"width\":{\"value\":2049953684.2105262},\"x\":{\"field\":\"dates\"}},\"id\":\"8a57f73a-f6ac-4f8d-811d-fed0482eadc6\",\"type\":\"VBar\"},{\"attributes\":{\"label\":{\"value\":\"Shelter\"},\"renderers\":[{\"id\":\"de01b0fe-581d-4f82-a2d5-b75ff078b12b\",\"type\":\"GlyphRenderer\"}]},\"id\":\"cfddf87a-6473-471f-9d58-c7947c5d3cc3\",\"type\":\"LegendItem\"},{\"attributes\":{\"data_source\":{\"id\":\"818f9799-f72e-4485-a384-8a09ecc21095\",\"type\":\"ColumnDataSource\"},\"glyph\":{\"id\":\"153306c9-169b-41d2-90a7-fe7930d1aa2c\",\"type\":\"VBar\"},\"hover_glyph\":null,\"muted_glyph\":null,\"nonselection_glyph\":{\"id\":\"8a57f73a-f6ac-4f8d-811d-fed0482eadc6\",\"type\":\"VBar\"},\"selection_glyph\":null,\"view\":{\"id\":\"7717b533-c654-40a4-8c16-6e4493de1ecb\",\"type\":\"CDSView\"}},\"id\":\"de01b0fe-581d-4f82-a2d5-b75ff078b12b\",\"type\":\"GlyphRenderer\"},{\"attributes\":{\"months\":[0,4,8]},\"id\":\"b47bf2aa-a656-4c38-a381-5f5313b1beb6\",\"type\":\"MonthsTicker\"},{\"attributes\":{\"background_fill_alpha\":{\"value\":0},\"border_line_alpha\":{\"value\":0},\"glyph_height\":14,\"glyph_width\":14,\"items\":[{\"id\":\"da16b7f6-6c61-4f2a-bc01-9d2ee1a85396\",\"type\":\"LegendItem\"},{\"id\":\"cfddf87a-6473-471f-9d58-c7947c5d3cc3\",\"type\":\"LegendItem\"},{\"id\":\"90828ccd-dfce-42c9-8777-ed8a506707a2\",\"type\":\"LegendItem\"},{\"id\":\"b12b14e6-793b-4109-aae0-0aaa12180b59\",\"type\":\"LegendItem\"}],\"label_text_font_size\":{\"value\":\"9pt\"},\"location\":\"top_left\",\"margin\":5,\"orientation\":\"horizontal\",\"padding\":0,\"plot\":{\"id\":\"6f3e18ce-49ba-4f15-b574-1d0091616e78\",\"subtype\":\"Figure\",\"type\":\"Plot\"},\"spacing\":10},\"id\":\"fb28ea4d-a89f-443e-941f-a00f7dd23c6c\",\"type\":\"Legend\"},{\"attributes\":{\"source\":{\"id\":\"818f9799-f72e-4485-a384-8a09ecc21095\",\"type\":\"ColumnDataSource\"}},\"id\":\"7717b533-c654-40a4-8c16-6e4493de1ecb\",\"type\":\"CDSView\"},{\"attributes\":{\"bottom\":{\"expr\":{\"id\":\"ff47b8dd-8d75-40d7-9b74-05632fe8efe8\",\"type\":\"Stack\"}},\"fill_alpha\":{\"value\":0.1},\"fill_color\":{\"value\":\"#1f77b4\"},\"line_alpha\":{\"value\":0.1},\"line_color\":{\"value\":\"#1f77b4\"},\"top\":{\"expr\":{\"id\":\"c8938190-ee1e-4e92-b223-7fbc4bbfa99d\",\"type\":\"Stack\"}},\"width\":{\"value\":2049953684.2105262},\"x\":{\"field\":\"dates\"}},\"id\":\"5e10e2a8-6a37-4792-9bda-1e2ac597c601\",\"type\":\"VBar\"},{\"attributes\":{\"below\":[{\"id\":\"44551738-99ef-4891-8b77-7927db8a8a91\",\"type\":\"DatetimeAxis\"}],\"left\":[{\"id\":\"1dce7839-2b29-4136-a0c9-7ce1d1d793f7\",\"type\":\"LinearAxis\"}],\"outline_line_color\":{\"value\":\"white\"},\"plot_height\":300,\"plot_width\":700,\"renderers\":[{\"id\":\"44551738-99ef-4891-8b77-7927db8a8a91\",\"type\":\"DatetimeAxis\"},{\"id\":\"110bccb3-1472-40ad-b1df-7cab7fb41872\",\"type\":\"Grid\"},{\"id\":\"1dce7839-2b29-4136-a0c9-7ce1d1d793f7\",\"type\":\"LinearAxis\"},{\"id\":\"15b31664-039d-4cad-b630-1a291302f1aa\",\"type\":\"Grid\"},{\"id\":\"a5db9383-f45b-407f-bab3-eb6bb4e8f222\",\"type\":\"BoxAnnotation\"},{\"id\":\"fb28ea4d-a89f-443e-941f-a00f7dd23c6c\",\"type\":\"Legend\"},{\"id\":\"1102733b-bcc9-4e60-a12c-18f0275b98bc\",\"type\":\"GlyphRenderer\"},{\"id\":\"de01b0fe-581d-4f82-a2d5-b75ff078b12b\",\"type\":\"GlyphRenderer\"},{\"id\":\"b6bc6c0c-976f-4497-86a8-32e7dca85009\",\"type\":\"GlyphRenderer\"},{\"id\":\"6b1e3f15-a552-40ef-b8c5-50baf4da7f77\",\"type\":\"GlyphRenderer\"},{\"id\":\"0119df67-03be-4dbd-ae54-9976aad1ddbd\",\"type\":\"GlyphRenderer\"},{\"id\":\"9ed4bfe3-01e4-497c-a526-b4c7aa869aaa\",\"type\":\"GlyphRenderer\"},{\"id\":\"bbac9ebd-ecf7-4ab4-a3d8-10149c4f89be\",\"type\":\"GlyphRenderer\"},{\"id\":\"564d7094-3044-4d54-b8cb-f1fa7a92f8b5\",\"type\":\"GlyphRenderer\"},{\"id\":\"ab78faa2-9d5e-4a6d-a704-a16f27ee7de9\",\"type\":\"Span\"}],\"sizing_mode\":\"scale_width\",\"title\":{\"id\":\"1e8c6383-2ad4-4e7f-a30d-68ca00108a1a\",\"type\":\"Title\"},\"toolbar\":{\"id\":\"f613a9b0-6d0b-4d8e-931c-cb8e93a39739\",\"type\":\"Toolbar\"},\"toolbar_location\":null,\"x_range\":{\"id\":\"fc4e4d3b-39da-4374-9433-51c8f829c0bb\",\"type\":\"DataRange1d\"},\"x_scale\":{\"id\":\"91f9a1df-1ff6-4d5b-925b-65e47cc17af0\",\"type\":\"LinearScale\"},\"y_range\":{\"id\":\"385d8d99-2ff3-4ee1-8bae-8c2ba19cce39\",\"type\":\"Range1d\"},\"y_scale\":{\"id\":\"eaa06ebc-75ed-4c5f-bd19-70fb4c421eaa\",\"type\":\"LinearScale\"}},\"id\":\"6f3e18ce-49ba-4f15-b574-1d0091616e78\",\"subtype\":\"Figure\",\"type\":\"Plot\"},{\"attributes\":{\"bottom\":{\"expr\":{\"id\":\"6b01b0c8-dd92-43de-a1f7-e45cd462573d\",\"type\":\"Stack\"}},\"fill_color\":{\"value\":\"#304FFE\"},\"line_alpha\":{\"value\":0},\"line_color\":{\"value\":\"#304FFE\"},\"top\":{\"expr\":{\"id\":\"631cdba9-96c0-4d7d-a852-115bd8780d73\",\"type\":\"Stack\"}},\"width\":{\"value\":2049953684.2105262},\"x\":{\"field\":\"dates\"}},\"id\":\"7ccf3d41-dd88-4c63-883d-52bc46cfce2f\",\"type\":\"VBar\"},{\"attributes\":{\"callback\":null,\"column_names\":[\"core services\",\"shelter\",\"core goods\",\"food & energy\",\"dates\",\"strdate\"],\"data\":{\"core goods\":[0,0,0,0,0,0,0,0,0,0,0,0,0,0.01,0,0,0,0,0,0,0,0,0,0,0,0,0,0,0,0,0,0,0,0,0,0,0,0],\"core services\":[0.49,0.45,0.45,0.47,0.46,0.48,0.49,0.51,0.54,0.59,0.64,0.66,0.68,0.73,0.74,0.73,0.76,0.76,0.76,0.8,0.73,0.64,0.63,0.65,0.67,0.69,0.56,0.47,0.41,0.39,0.41,0.4,0.46,0.52,0.47,0.47,0.5,0.51],\"dates\":[1420070400000.0,1422748800000.0,1425168000000.0,1427846400000.0,1430438400000.0,1433116800000.0,1435708800000.0,1438387200000.0,1441065600000.0,1443657600000.0,1446336000000.0,1448928000000.0,1451606400000.0,1454284800000.0,1456790400000.0,1459468800000.0,1462060800000.0,1464739200000.0,1467331200000.0,1470009600000.0,1472688000000.0,1475280000000.0,1477958400000.0,1480550400000.0,1483228800000.0,1485907200000.0,1488326400000.0,1491004800000.0,1493596800000.0,1496275200000.0,1498867200000.0,1501545600000.0,1504224000000.0,1506816000000.0,1509494400000.0,1512086400000.0,1514764800000.0,1517443200000.0],\"food & energy\":[0,0,0,0,0,0,0,0,0,0,0,0,0,0,0,0,0,0,0,0,0,0,0.03,0.35,0.73,1.01,0.82,0.74,0.53,0.3,0.41,0.64,0.95,0.67,0.89,0.74,0.67,0.79],\"shelter\":[0.94,0.96,0.96,0.97,0.94,0.98,1.02,1.01,1.04,1.05,1.05,1.06,1.07,1.09,1.06,1.07,1.13,1.16,1.11,1.15,1.16,1.19,1.21,1.23,1.21,1.21,1.19,1.19,1.15,1.13,1.1,1.15,1.13,1.14,1.11,1.13,1.13,1.11],\"strdate\":[\"Jan 2015\",\"Feb 2015\",\"Mar 2015\",\"Apr 2015\",\"May 2015\",\"Jun 2015\",\"Jul 2015\",\"Aug 2015\",\"Sep 2015\",\"Oct 2015\",\"Nov 2015\",\"Dec 2015\",\"Jan 2016\",\"Feb 2016\",\"Mar 2016\",\"Apr 2016\",\"May 2016\",\"Jun 2016\",\"Jul 2016\",\"Aug 2016\",\"Sep 2016\",\"Oct 2016\",\"Nov 2016\",\"Dec 2016\",\"Jan 2017\",\"Feb 2017\",\"Mar 2017\",\"Apr 2017\",\"May 2017\",\"Jun 2017\",\"Jul 2017\",\"Aug 2017\",\"Sep 2017\",\"Oct 2017\",\"Nov 2017\",\"Dec 2017\",\"Jan 2018\",\"Feb 2018\"]}},\"id\":\"818f9799-f72e-4485-a384-8a09ecc21095\",\"type\":\"ColumnDataSource\"},{\"attributes\":{\"fields\":[\"core services\"]},\"id\":\"d9e43d5d-9961-4102-86b3-85c296fe5e99\",\"type\":\"Stack\"},{\"attributes\":{\"data_source\":{\"id\":\"818f9799-f72e-4485-a384-8a09ecc21095\",\"type\":\"ColumnDataSource\"},\"glyph\":{\"id\":\"7ccf3d41-dd88-4c63-883d-52bc46cfce2f\",\"type\":\"VBar\"},\"hover_glyph\":null,\"muted_glyph\":null,\"nonselection_glyph\":{\"id\":\"ffcda80d-f9f9-4ffc-b4fc-201a14f1cf33\",\"type\":\"VBar\"},\"selection_glyph\":null,\"view\":{\"id\":\"8d376f81-9b3a-45a9-985a-7462678a4066\",\"type\":\"CDSView\"}},\"id\":\"6b1e3f15-a552-40ef-b8c5-50baf4da7f77\",\"type\":\"GlyphRenderer\"},{\"attributes\":{},\"id\":\"eaa06ebc-75ed-4c5f-bd19-70fb4c421eaa\",\"type\":\"LinearScale\"},{\"attributes\":{\"label\":{\"value\":\"Core services\"},\"renderers\":[{\"id\":\"1102733b-bcc9-4e60-a12c-18f0275b98bc\",\"type\":\"GlyphRenderer\"}]},\"id\":\"da16b7f6-6c61-4f2a-bc01-9d2ee1a85396\",\"type\":\"LegendItem\"},{\"attributes\":{\"fields\":[\"core services\",\"shelter\"]},\"id\":\"8096373e-5264-4151-95d2-caa2255d528e\",\"type\":\"Stack\"},{\"attributes\":{\"bottom\":{\"expr\":{\"id\":\"74d13f93-4307-4cb1-af06-369ee9c2ee3a\",\"type\":\"Stack\"}},\"fill_color\":{\"value\":\"#FFEA00\"},\"line_alpha\":{\"value\":0},\"line_color\":{\"value\":\"#FFEA00\"},\"top\":{\"expr\":{\"id\":\"d9e43d5d-9961-4102-86b3-85c296fe5e99\",\"type\":\"Stack\"}},\"width\":{\"value\":2049953684.2105262},\"x\":{\"field\":\"dates\"}},\"id\":\"4c5e86a1-acd1-41b7-87cf-b7a7b6f92441\",\"type\":\"VBar\"},{\"attributes\":{\"months\":[0,1,2,3,4,5,6,7,8,9,10,11]},\"id\":\"e7228d9c-2e44-4c2d-a9e8-59c6b71711e4\",\"type\":\"MonthsTicker\"},{\"attributes\":{\"bottom\":{\"expr\":{\"id\":\"6b01b0c8-dd92-43de-a1f7-e45cd462573d\",\"type\":\"Stack\"}},\"fill_alpha\":{\"value\":0.1},\"fill_color\":{\"value\":\"#1f77b4\"},\"line_alpha\":{\"value\":0.1},\"line_color\":{\"value\":\"#1f77b4\"},\"top\":{\"expr\":{\"id\":\"631cdba9-96c0-4d7d-a852-115bd8780d73\",\"type\":\"Stack\"}},\"width\":{\"value\":2049953684.2105262},\"x\":{\"field\":\"dates\"}},\"id\":\"ffcda80d-f9f9-4ffc-b4fc-201a14f1cf33\",\"type\":\"VBar\"},{\"attributes\":{},\"id\":\"91f9a1df-1ff6-4d5b-925b-65e47cc17af0\",\"type\":\"LinearScale\"},{\"attributes\":{\"label\":{\"value\":\"Core goods\"},\"renderers\":[{\"id\":\"b6bc6c0c-976f-4497-86a8-32e7dca85009\",\"type\":\"GlyphRenderer\"}]},\"id\":\"90828ccd-dfce-42c9-8777-ed8a506707a2\",\"type\":\"LegendItem\"},{\"attributes\":{\"data_source\":{\"id\":\"818f9799-f72e-4485-a384-8a09ecc21095\",\"type\":\"ColumnDataSource\"},\"glyph\":{\"id\":\"e496b4b0-4fbd-48af-8ffa-218c68541478\",\"type\":\"VBar\"},\"hover_glyph\":null,\"muted_glyph\":null,\"nonselection_glyph\":{\"id\":\"5e10e2a8-6a37-4792-9bda-1e2ac597c601\",\"type\":\"VBar\"},\"selection_glyph\":null,\"view\":{\"id\":\"d716c58e-114f-47f5-b9d5-403f94e6aacd\",\"type\":\"CDSView\"}},\"id\":\"b6bc6c0c-976f-4497-86a8-32e7dca85009\",\"type\":\"GlyphRenderer\"},{\"attributes\":{},\"id\":\"7c65b7cc-92bc-4554-9895-fbb15a8fb2e9\",\"type\":\"YearsTicker\"},{\"attributes\":{\"source\":{\"id\":\"818f9799-f72e-4485-a384-8a09ecc21095\",\"type\":\"ColumnDataSource\"}},\"id\":\"d716c58e-114f-47f5-b9d5-403f94e6aacd\",\"type\":\"CDSView\"},{\"attributes\":{\"axis_line_color\":{\"value\":\"white\"},\"formatter\":{\"id\":\"895f4c5f-1ea0-4759-a451-c9aaef066965\",\"type\":\"DatetimeTickFormatter\"},\"plot\":{\"id\":\"6f3e18ce-49ba-4f15-b574-1d0091616e78\",\"subtype\":\"Figure\",\"type\":\"Plot\"},\"ticker\":{\"id\":\"0746a3ef-bd54-4a8e-9f2b-b924239a8a64\",\"type\":\"DatetimeTicker\"}},\"id\":\"44551738-99ef-4891-8b77-7927db8a8a91\",\"type\":\"DatetimeAxis\"},{\"attributes\":{\"callback\":null,\"end\":3.8,\"start\":-2.4},\"id\":\"385d8d99-2ff3-4ee1-8bae-8c2ba19cce39\",\"type\":\"Range1d\"},{\"attributes\":{\"callback\":null},\"id\":\"fc4e4d3b-39da-4374-9433-51c8f829c0bb\",\"type\":\"DataRange1d\"},{\"attributes\":{\"fields\":[\"core services\",\"shelter\",\"core goods\",\"food & energy\"]},\"id\":\"2d22664d-c273-40d7-bf2d-dbe244522141\",\"type\":\"Stack\"},{\"attributes\":{\"source\":{\"id\":\"818f9799-f72e-4485-a384-8a09ecc21095\",\"type\":\"ColumnDataSource\"}},\"id\":\"8d376f81-9b3a-45a9-985a-7462678a4066\",\"type\":\"CDSView\"},{\"attributes\":{\"callback\":null,\"column_names\":[\"core services\",\"shelter\",\"core goods\",\"food & energy\",\"dates\",\"strdate\"],\"data\":{\"core goods\":[-0.16,-0.1,-0.05,-0.04,-0.06,-0.09,-0.1,-0.1,-0.1,-0.14,-0.11,-0.08,-0.02,0,-0.07,-0.1,-0.11,-0.12,-0.12,-0.09,-0.13,-0.11,-0.14,-0.12,-0.05,-0.1,-0.11,-0.12,-0.15,-0.13,-0.12,-0.17,-0.2,-0.19,-0.17,-0.14,-0.13,-0.1],\"core services\":[0,0,0,0,0,0,0,0,0,0,0,0,0,0,0,0,0,0,0,0,0,0,0,0,0,0,0,0,0,0,0,0,0,0,0,0,0,0],\"dates\":[1420070400000.0,1422748800000.0,1425168000000.0,1427846400000.0,1430438400000.0,1433116800000.0,1435708800000.0,1438387200000.0,1441065600000.0,1443657600000.0,1446336000000.0,1448928000000.0,1451606400000.0,1454284800000.0,1456790400000.0,1459468800000.0,1462060800000.0,1464739200000.0,1467331200000.0,1470009600000.0,1472688000000.0,1475280000000.0,1477958400000.0,1480550400000.0,1483228800000.0,1485907200000.0,1488326400000.0,1491004800000.0,1493596800000.0,1496275200000.0,1498867200000.0,1501545600000.0,1504224000000.0,1506816000000.0,1509494400000.0,1512086400000.0,1514764800000.0,1517443200000.0],\"food & energy\":[-1.36,-1.34,-1.44,-1.61,-1.38,-1.25,-1.24,-1.23,-1.52,-1.33,-1.07,-0.91,-0.36,-0.82,-0.88,-0.56,-0.74,-0.76,-0.89,-0.76,-0.27,-0.05,0,0,0,0,0,0,0,0,0,0,0,0,0,0,0,0],\"shelter\":[0,0,0,0,0,0,0,0,0,0,0,0,0,0,0,0,0,0,0,0,0,0,0,0,0,0,0,0,0,0,0,0,0,0,0,0,0,0],\"strdate\":[\"Jan 2015\",\"Feb 2015\",\"Mar 2015\",\"Apr 2015\",\"May 2015\",\"Jun 2015\",\"Jul 2015\",\"Aug 2015\",\"Sep 2015\",\"Oct 2015\",\"Nov 2015\",\"Dec 2015\",\"Jan 2016\",\"Feb 2016\",\"Mar 2016\",\"Apr 2016\",\"May 2016\",\"Jun 2016\",\"Jul 2016\",\"Aug 2016\",\"Sep 2016\",\"Oct 2016\",\"Nov 2016\",\"Dec 2016\",\"Jan 2017\",\"Feb 2017\",\"Mar 2017\",\"Apr 2017\",\"May 2017\",\"Jun 2017\",\"Jul 2017\",\"Aug 2017\",\"Sep 2017\",\"Oct 2017\",\"Nov 2017\",\"Dec 2017\",\"Jan 2018\",\"Feb 2018\"]}},\"id\":\"07917903-6115-4122-ab48-f26599de78a5\",\"type\":\"ColumnDataSource\"},{\"attributes\":{\"fields\":[\"core services\"]},\"id\":\"efc17d0d-72c7-4139-baaf-bcacb8a301cc\",\"type\":\"Stack\"},{\"attributes\":{\"active_drag\":null,\"active_inspect\":\"auto\",\"active_scroll\":\"auto\",\"active_tap\":\"auto\",\"logo\":null,\"tools\":[{\"id\":\"c97c9c72-a45d-4e81-a0a1-4ed2dc92561e\",\"type\":\"PanTool\"},{\"id\":\"2f54e1c5-b04e-4d3e-820d-f5c96296c657\",\"type\":\"WheelZoomTool\"},{\"id\":\"59d3310f-095b-42ed-8ec6-317678337a43\",\"type\":\"BoxZoomTool\"},{\"id\":\"a64f19c0-8ce2-48e0-b9cf-1f0887eed1ab\",\"type\":\"ResetTool\"},{\"id\":\"4c57b9ec-7237-4b0f-b1fe-ba8e588d3529\",\"type\":\"HoverTool\"}]},\"id\":\"f613a9b0-6d0b-4d8e-931c-cb8e93a39739\",\"type\":\"Toolbar\"},{\"attributes\":{\"fields\":[\"core services\",\"shelter\",\"core goods\"]},\"id\":\"ed83d617-ff0a-4982-8a49-1374bed5bb79\",\"type\":\"Stack\"},{\"attributes\":{\"fields\":[\"core services\",\"shelter\"]},\"id\":\"5c56707e-854a-450d-bc20-48424b4a31c8\",\"type\":\"Stack\"}],\"root_ids\":[\"6f3e18ce-49ba-4f15-b574-1d0091616e78\"]},\"title\":\"Bokeh Application\",\"version\":\"0.12.14\"}};\n",
       "  var render_items = [{\"docid\":\"ad29599b-3e2e-466a-989a-d91b3f5b47e8\",\"elementid\":\"ff6a90d7-b873-43fc-a4e7-020bd810b296\",\"modelid\":\"6f3e18ce-49ba-4f15-b574-1d0091616e78\"}];\n",
       "  root.Bokeh.embed.embed_items_notebook(docs_json, render_items);\n",
       "\n",
       "  }\n",
       "  if (root.Bokeh !== undefined) {\n",
       "    embed_document(root);\n",
       "  } else {\n",
       "    var attempts = 0;\n",
       "    var timer = setInterval(function(root) {\n",
       "      if (root.Bokeh !== undefined) {\n",
       "        embed_document(root);\n",
       "        clearInterval(timer);\n",
       "      }\n",
       "      attempts++;\n",
       "      if (attempts > 100) {\n",
       "        console.log(\"Bokeh: ERROR: Unable to run BokehJS code because BokehJS library is missing\")\n",
       "        clearInterval(timer);\n",
       "      }\n",
       "    }, 10, root)\n",
       "  }\n",
       "})(window);"
      ],
      "application/vnd.bokehjs_exec.v0+json": ""
     },
     "metadata": {
      "application/vnd.bokehjs_exec.v0+json": {
       "id": "6f3e18ce-49ba-4f15-b574-1d0091616e78"
      }
     },
     "output_type": "display_data"
    }
   ],
   "source": [
    "# Bar width determined by how many bars\n",
    "width = ((d2.index[-1] - d2.index[0]).total_seconds() \n",
    "         * 800.0 / len(d2.index))\n",
    "\n",
    "# horizontal line at zero\n",
    "zero_line = Span(location=0, dimension='width', \n",
    "                 line_color='gray', line_width=1)\n",
    "\n",
    "p = figure(plot_width=700, plot_height=300, \n",
    "           x_axis_type='datetime', \n",
    "           tools=['pan, wheel_zoom, box_zoom, reset'], \n",
    "           logo=None,\n",
    "           toolbar_location=None,  \n",
    "           y_range=Range1d(-2.4, 3.8))\n",
    "p.vbar_stack(col_names, x='dates', width=width, color=['#FFEA00', '#80DEEA', '#00c853', '#304FFE'], legend=['Core services', 'Shelter', 'Core goods', 'Food & energy'], line_alpha=0, source=ColumnDataSource(infl))\n",
    "p.vbar_stack(col_names, x='dates', width=width, color=['#FFEA00', '#80DEEA', '#00c853', '#304FFE'], line_alpha=0, source=ColumnDataSource(defl))\n",
    "p.add_layout(zero_line)\n",
    "p.sizing_mode = 'scale_width'\n",
    "p.xgrid.grid_line_color = None\n",
    "p.outline_line_color = 'white'\n",
    "p.axis.axis_line_color = 'white'\n",
    "p.toolbar.active_drag = None\n",
    "p.legend.orientation = \"horizontal\"\n",
    "p.legend.location = \"top_left\"\n",
    "p.legend.border_line_alpha = 0\n",
    "p.legend.background_fill_alpha = 0\n",
    "p.legend.margin = 5\n",
    "p.legend.padding = 0\n",
    "p.legend.spacing = 10\n",
    "p.legend.glyph_height = 14\n",
    "p.legend.glyph_width = 14\n",
    "p.legend.label_text_font_size = '9pt'\n",
    "\n",
    "p.add_tools(HoverTool(tooltips=[('Date', '@strdate'), ('Core goods',  '@{core goods}{1.1}')], show_arrow=False))\n",
    "\n",
    "#script, div = components(p)\n",
    "#with open('C:/Working/bdecon.github.io/plots/cpi_comp.html', 'w') as text_file:\n",
    "#    text_file.write(f'{script} {div}')\n",
    "\n",
    "show(p)"
   ]
  },
  {
   "cell_type": "code",
   "execution_count": 37,
   "metadata": {
    "ExecuteTime": {
     "end_time": "2018-03-22T13:39:15.250677Z",
     "start_time": "2018-03-22T13:39:15.239177Z"
    }
   },
   "outputs": [
    {
     "data": {
      "text/plain": [
       "[HoverTool(id='cacdb893-59c1-4002-8b00-ea2e9d6b46b2', ...)]"
      ]
     },
     "execution_count": 37,
     "metadata": {},
     "output_type": "execute_result"
    }
   ],
   "source": [
    "p.select(dict(type=HoverTool))"
   ]
  },
  {
   "cell_type": "code",
   "execution_count": 16,
   "metadata": {
    "ExecuteTime": {
     "end_time": "2018-03-22T13:17:17.990312Z",
     "start_time": "2018-03-22T13:17:17.981303Z"
    }
   },
   "outputs": [
    {
     "data": {
      "text/html": [
       "<div style=\"display: table;\"><div style=\"display: table-row;\"><div style=\"display: table-cell;\"><b title=\"bokeh.models.sources.CDSView\">CDSView</b>(</div><div style=\"display: table-cell;\">id&nbsp;=&nbsp;'14578ca6-f13a-404f-9655-b40d9cc3aa0f', <span id=\"8fe82814-7016-441f-93f9-e8e15a4ec4d8\" style=\"cursor: pointer;\">&hellip;)</span></div></div><div class=\"4f01381a-fef5-44e7-b044-b8eaf057839c\" style=\"display: none;\"><div style=\"display: table-cell;\"></div><div style=\"display: table-cell;\">filters&nbsp;=&nbsp;[],</div></div><div class=\"4f01381a-fef5-44e7-b044-b8eaf057839c\" style=\"display: none;\"><div style=\"display: table-cell;\"></div><div style=\"display: table-cell;\">js_event_callbacks&nbsp;=&nbsp;{},</div></div><div class=\"4f01381a-fef5-44e7-b044-b8eaf057839c\" style=\"display: none;\"><div style=\"display: table-cell;\"></div><div style=\"display: table-cell;\">js_property_callbacks&nbsp;=&nbsp;{},</div></div><div class=\"4f01381a-fef5-44e7-b044-b8eaf057839c\" style=\"display: none;\"><div style=\"display: table-cell;\"></div><div style=\"display: table-cell;\">name&nbsp;=&nbsp;None,</div></div><div class=\"4f01381a-fef5-44e7-b044-b8eaf057839c\" style=\"display: none;\"><div style=\"display: table-cell;\"></div><div style=\"display: table-cell;\">source&nbsp;=&nbsp;None,</div></div><div class=\"4f01381a-fef5-44e7-b044-b8eaf057839c\" style=\"display: none;\"><div style=\"display: table-cell;\"></div><div style=\"display: table-cell;\">subscribed_events&nbsp;=&nbsp;[],</div></div><div class=\"4f01381a-fef5-44e7-b044-b8eaf057839c\" style=\"display: none;\"><div style=\"display: table-cell;\"></div><div style=\"display: table-cell;\">tags&nbsp;=&nbsp;[])</div></div></div>\n",
       "<script>\n",
       "(function() {\n",
       "  var expanded = false;\n",
       "  var ellipsis = document.getElementById(\"8fe82814-7016-441f-93f9-e8e15a4ec4d8\");\n",
       "  ellipsis.addEventListener(\"click\", function() {\n",
       "    var rows = document.getElementsByClassName(\"4f01381a-fef5-44e7-b044-b8eaf057839c\");\n",
       "    for (var i = 0; i < rows.length; i++) {\n",
       "      var el = rows[i];\n",
       "      el.style.display = expanded ? \"none\" : \"table-row\";\n",
       "    }\n",
       "    ellipsis.innerHTML = expanded ? \"&hellip;)\" : \"&lsaquo;&lsaquo;&lsaquo;\";\n",
       "    expanded = !expanded;\n",
       "  });\n",
       "})();\n",
       "</script>\n"
      ],
      "text/plain": [
       "CDSView(id='14578ca6-f13a-404f-9655-b40d9cc3aa0f', ...)"
      ]
     },
     "execution_count": 16,
     "metadata": {},
     "output_type": "execute_result"
    }
   ],
   "source": [
    "CDSView()"
   ]
  },
  {
   "cell_type": "code",
   "execution_count": 44,
   "metadata": {
    "ExecuteTime": {
     "end_time": "2018-03-22T13:43:15.607235Z",
     "start_time": "2018-03-22T13:43:15.598228Z"
    }
   },
   "outputs": [
    {
     "ename": "AttributeError",
     "evalue": "'dict' object has no attribute 'melt'",
     "output_type": "error",
     "traceback": [
      "\u001b[1;31m---------------------------------------------------------------------------\u001b[0m",
      "\u001b[1;31mAttributeError\u001b[0m                            Traceback (most recent call last)",
      "\u001b[1;32m<ipython-input-44-b311ab770475>\u001b[0m in \u001b[0;36m<module>\u001b[1;34m()\u001b[0m\n\u001b[1;32m----> 1\u001b[1;33m \u001b[0mdefl\u001b[0m\u001b[1;33m.\u001b[0m\u001b[0mmelt\u001b[0m\u001b[1;33m(\u001b[0m\u001b[1;33m)\u001b[0m\u001b[1;33m\u001b[0m\u001b[0m\n\u001b[0m",
      "\u001b[1;31mAttributeError\u001b[0m: 'dict' object has no attribute 'melt'"
     ]
    }
   ],
   "source": []
  }
 ],
 "metadata": {
  "kernelspec": {
   "display_name": "Python 3",
   "language": "python",
   "name": "python3"
  },
  "language_info": {
   "codemirror_mode": {
    "name": "ipython",
    "version": 3
   },
   "file_extension": ".py",
   "mimetype": "text/x-python",
   "name": "python",
   "nbconvert_exporter": "python",
   "pygments_lexer": "ipython3",
   "version": "3.6.4"
  }
 },
 "nbformat": 4,
 "nbformat_minor": 2
}
