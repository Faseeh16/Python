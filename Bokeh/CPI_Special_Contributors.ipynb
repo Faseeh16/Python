{
 "cells": [
  {
   "cell_type": "markdown",
   "metadata": {
    "ExecuteTime": {
     "end_time": "2018-03-21T16:37:16.108780Z",
     "start_time": "2018-03-21T16:37:16.077537Z"
    }
   },
   "source": [
    "# CPI Special Calculations over time with Python\n",
    "\n",
    "Brian Dew, @bd_econ, Center for Economic and Policy Research\n",
    "\n",
    "May 10, 2018\n",
    "\n",
    "----- \n",
    "Every two years the relative importance of CPI items is updated. I'd like to know how a few special aggregates contribute to inflation (unfortunately not seasonally adjusted), and to do this I need to compensate for the updates. BLS explains how to do this here: https://www.bls.gov/cpi/tables/relative-importance/home.htm\n",
    "\n"
   ]
  },
  {
   "cell_type": "code",
   "execution_count": 1,
   "metadata": {
    "ExecuteTime": {
     "end_time": "2018-05-10T12:32:49.572395Z",
     "start_time": "2018-05-10T12:32:47.213265Z"
    },
    "code_folding": [
     0
    ]
   },
   "outputs": [],
   "source": [
    "# Import preliminaries\n",
    "import pandas as pd\n",
    "import numpy as np\n",
    "import requests\n",
    "import json\n",
    "import config"
   ]
  },
  {
   "cell_type": "markdown",
   "metadata": {},
   "source": [
    "#### Find series ids"
   ]
  },
  {
   "cell_type": "code",
   "execution_count": 2,
   "metadata": {
    "ExecuteTime": {
     "end_time": "2018-05-10T12:32:50.650343Z",
     "start_time": "2018-05-10T12:32:49.572395Z"
    },
    "code_folding": [
     0
    ]
   },
   "outputs": [],
   "source": [
    "# Use BLS Flat Files to find series IDs and series info\n",
    "s_url = 'https://download.bls.gov/pub/time.series/cu/cu.series'\n",
    "s = pd.read_table(s_url, sep='\\t')\n",
    "s2 = s[(s['seasonal'] == 'U') & \n",
    "       (s['base_code'] == 'S') &\n",
    "       (s['area_code'] == '0000') &\n",
    "       (s['periodicity_code'] == 'R')]"
   ]
  },
  {
   "cell_type": "markdown",
   "metadata": {},
   "source": [
    "#### Manually look up the relative importance"
   ]
  },
  {
   "cell_type": "code",
   "execution_count": 3,
   "metadata": {
    "ExecuteTime": {
     "end_time": "2018-05-10T12:32:50.665954Z",
     "start_time": "2018-05-10T12:32:50.650343Z"
    },
    "code_folding": [
     0
    ]
   },
   "outputs": [],
   "source": [
    "# Relative weights for series of interest, from here: \n",
    "# https://www.bls.gov/cpi/tables/relative-importance/home.htm\n",
    "rel_wgt = {'CUUR0000SAF1': [(('2013-12-01', '2015-12-01'), 13.891), \n",
    "                           (('2015-12-01', '2017-12-01'), 14.015), \n",
    "                           (('2017-12-01', '2019-12-01'), 13.384)],\n",
    "           'CUUR0000SA0': [(('2013-12-01', '2015-12-01'), 100.0), \n",
    "                           (('2015-12-01', '2017-12-01'), 100.0), \n",
    "                           (('2017-12-01', '2019-12-01'), 100.0)],\n",
    "           'CUUR0000SA0E': [(('2013-12-01', '2015-12-01'), 9.046), \n",
    "                            (('2015-12-01', '2017-12-01'), 6.816), \n",
    "                            (('2017-12-01', '2019-12-01'), 7.513)],\n",
    "           'CUUR0000SAH1': [(('2013-12-01', '2015-12-01'), 32.029), \n",
    "                            (('2015-12-01', '2017-12-01'), 33.15), \n",
    "                            (('2017-12-01', '2019-12-01'), 32.843)],\n",
    "           'CUUR0000SACL1E': [(('2013-12-01', '2015-12-01'), 19.71), \n",
    "                              (('2015-12-01', '2017-12-01'), 19.613), \n",
    "                              (('2017-12-01', '2019-12-01'), 19.849)],\n",
    "           'CUUR0000SASLE': [(('2013-12-01', '2015-12-01'), 57.353), \n",
    "                             (('2015-12-01', '2017-12-01'), 59.556), \n",
    "                             (('2017-12-01', '2019-12-01'), 59.254)]}"
   ]
  },
  {
   "cell_type": "markdown",
   "metadata": {},
   "source": [
    "#### Location of BLS API and parameters"
   ]
  },
  {
   "cell_type": "code",
   "execution_count": 4,
   "metadata": {
    "ExecuteTime": {
     "end_time": "2018-05-10T12:32:50.681576Z",
     "start_time": "2018-05-10T12:32:50.665954Z"
    },
    "code_folding": [
     0
    ]
   },
   "outputs": [],
   "source": [
    "# API access to Bureau of Labor Statistics data\n",
    "url = 'https://api.bls.gov/publicAPI/v2/timeseries/data/'\n",
    "# API key in config.py which contains: bls_key = 'key'\n",
    "key = '?registrationkey={}'.format(config.bls_key)\n",
    "\n",
    "headers = {'Content-type': 'application/json'}    # Request json fmt\n",
    "param = {\"seriesid\": list(rel_wgt.keys()),           \n",
    "         \"startyear\": \"2013\", \"endyear\": \"2018\"}"
   ]
  },
  {
   "cell_type": "markdown",
   "metadata": {},
   "source": [
    "#### Request data from BLS API "
   ]
  },
  {
   "cell_type": "code",
   "execution_count": 6,
   "metadata": {
    "ExecuteTime": {
     "end_time": "2018-05-10T12:35:36.023716Z",
     "start_time": "2018-05-10T12:35:32.430298Z"
    },
    "code_folding": [
     0
    ]
   },
   "outputs": [
    {
     "name": "stdout",
     "output_type": "stream",
     "text": [
      "Status: REQUEST_SUCCEEDED\n",
      "Latest: January 2018\n"
     ]
    }
   ],
   "source": [
    "# Request all of the series in s\n",
    "p = requests.post(f'{url}{key}', data=json.dumps(param), headers=headers).json()\n",
    "print(f\"Status: {p['status']}\") # Print request status\n",
    "p = p['Results']['series']  # Keep data portion of post results\n",
    "\n",
    "# Use first series to get the datetime values\n",
    "idx = pd.to_datetime([f\"{i['period']} {i['year']}\" for i in p[0]['data']])\n",
    "print(f'Latest: {idx[0]:%B %Y}') # Print latest value"
   ]
  },
  {
   "cell_type": "markdown",
   "metadata": {},
   "source": [
    "#### Store date and value for each series"
   ]
  },
  {
   "cell_type": "code",
   "execution_count": 7,
   "metadata": {
    "ExecuteTime": {
     "end_time": "2018-05-10T12:35:38.913922Z",
     "start_time": "2018-05-10T12:35:38.882688Z"
    },
    "code_folding": [
     0
    ]
   },
   "outputs": [],
   "source": [
    "# Convert API data to datetime date and float value\n",
    "data = {i['seriesID']: \n",
    "        [(pd.to_datetime(f'{r[\"year\"]}-{r[\"period\"][1:]}-01'), float(r['value'])) \n",
    "         for r in i['data']] for i in p}"
   ]
  },
  {
   "cell_type": "markdown",
   "metadata": {},
   "source": [
    "#### Store all the above in dictionary"
   ]
  },
  {
   "cell_type": "code",
   "execution_count": 8,
   "metadata": {
    "ExecuteTime": {
     "end_time": "2018-05-10T12:35:40.695017Z",
     "start_time": "2018-05-10T12:35:40.679381Z"
    },
    "code_folding": [
     0
    ]
   },
   "outputs": [],
   "source": [
    "# Dictionary combining all the info for each series\n",
    "d = {i: {'name': s2[s2['series_id'].str.strip() == i]['series_title'].values[0],\n",
    "         'values': data[i],\n",
    "         'rel_wgt': rel_wgt[i]} for i in list(rel_wgt.keys())}"
   ]
  },
  {
   "cell_type": "markdown",
   "metadata": {},
   "source": [
    "#### Adjust for changes to relative importance"
   ]
  },
  {
   "cell_type": "code",
   "execution_count": 9,
   "metadata": {
    "ExecuteTime": {
     "end_time": "2018-05-10T12:35:44.475810Z",
     "start_time": "2018-05-10T12:35:42.772875Z"
    },
    "code_folding": [
     0
    ]
   },
   "outputs": [],
   "source": [
    "# Adjust for changes to relative importance\n",
    "df1, df2, df3 = pd.DataFrame(), pd.DataFrame(), pd.DataFrame()\n",
    "for i, v in d.items():\n",
    "    start, end = v['rel_wgt'][0][0][0], v['rel_wgt'][0][0][1]\n",
    "    rwc, rwn = v['rel_wgt'][0][1], v['rel_wgt'][1][1]\n",
    "    df1.at[start: end, i] = (pd.DataFrame(v['values'])\n",
    "        .iloc[::-1].set_index(0).loc[start: end][1])\n",
    "    df1[i] = (df1[i].diff().cumsum() / df1.loc[start, i] + 1)\n",
    "    df1.at[start, i] = 1.0\n",
    "    df1[i] = (df1[i] * rwc)\n",
    "    link = (df1.loc[end, i] / rwn)\n",
    "    # Next set of dates\n",
    "    start, end = v['rel_wgt'][1][0][0], v['rel_wgt'][1][0][1]\n",
    "    rwc, rwn = v['rel_wgt'][1][1], v['rel_wgt'][2][1]\n",
    "    df2[i] = (pd.DataFrame(v['values'])\n",
    "        .iloc[::-1].set_index(0).loc[start: end][1])\n",
    "    df2[i] = df2[i].diff().cumsum() / df2.loc[start, i] + 1\n",
    "    df2.at[start, i] = 1.0\n",
    "    #df1.at[start: end, i] = (df1.loc[start: end, i] * rwc)\n",
    "    df2[i] = (df2[i] * rwc) * link\n",
    "    link = (df2.loc[end, i] / rwn)\n",
    "    # Next set of dates\n",
    "    start, end = v['rel_wgt'][2][0][0], v['rel_wgt'][2][0][1]\n",
    "    rwc = v['rel_wgt'][2][1]\n",
    "    df3[i] = (pd.DataFrame(v['values'])\n",
    "        .iloc[::-1].set_index(0).loc[start: end][1])\n",
    "    df3[i] = df3[i].diff().cumsum() / df3.loc[start, i] + 1\n",
    "    df3.at[start, i] = 1.0\n",
    "    df3[i] = (df3[i] * rwc) * link"
   ]
  },
  {
   "cell_type": "markdown",
   "metadata": {},
   "source": [
    "#### Calculate contribution to total"
   ]
  },
  {
   "cell_type": "code",
   "execution_count": 10,
   "metadata": {
    "ExecuteTime": {
     "end_time": "2018-05-10T12:35:45.960147Z",
     "start_time": "2018-05-10T12:35:45.897449Z"
    },
    "code_folding": [
     0
    ]
   },
   "outputs": [],
   "source": [
    "# Calculate exactly what I want to show\n",
    "final = pd.concat([df1, df2, df3])  # Combine the various relative importance dfs\n",
    "final = final[~final.index.duplicated(keep='first')].diff(12) # Drop duplicate pivot year data\n",
    "# Core services is services less food, energy, and shelter\n",
    "final['core_services'] = final['CUUR0000SASLE'] - final['CUUR0000SAH1']\n",
    "# Combine food and energy\n",
    "final['food_energy'] = final['CUUR0000SAF1'] + final['CUUR0000SA0E']\n",
    "final = final.dropna().round(2)\n",
    "d2 = final[['core_services', 'CUUR0000SACL1E', 'CUUR0000SAH1', 'food_energy']].loc['2015-01-01':]\n",
    "# Rename columns\n",
    "col_names = ['core services', 'core goods', 'shelter', 'food & energy']\n",
    "d2.columns = col_names\n",
    "d2['total'] = final['CUUR0000SA0'].loc['2015-01-01':]\n",
    "d2['strdate'] = d2.index.strftime('%B %Y')\n",
    "d2['date'] = d2.index"
   ]
  },
  {
   "cell_type": "markdown",
   "metadata": {},
   "source": [
    "#### Bokeh requires separate positive and negative values\n",
    "\n",
    "This seems to be a quirk with the stacked bar chart, explained here: https://bokeh.pydata.org/en/latest/docs/user_guide/categorical.html#stacked. Still worth trying to get it to work without the split."
   ]
  },
  {
   "cell_type": "code",
   "execution_count": 11,
   "metadata": {
    "ExecuteTime": {
     "end_time": "2018-05-10T12:35:48.616068Z",
     "start_time": "2018-05-10T12:35:48.600436Z"
    },
    "code_folding": [
     0
    ]
   },
   "outputs": [],
   "source": [
    "# Split positive and negative values\n",
    "infl = {i :[n if n > -0.0001 else 0 for n in list(d2[i])] for i in col_names}\n",
    "infl['dates'] = list(d2.index)\n",
    "infl['strdate'] = d2.index.strftime('%b %Y')\n",
    "defl = {i :[n  if n < -0.0001 else 0 for n in list(d2[i])] for i in col_names}\n",
    "defl['dates'] = list(d2.index)\n",
    "defl['strdate'] = d2.index.strftime('%b %Y')"
   ]
  },
  {
   "cell_type": "markdown",
   "metadata": {},
   "source": [
    "#### Bokeh settings"
   ]
  },
  {
   "cell_type": "code",
   "execution_count": 12,
   "metadata": {
    "ExecuteTime": {
     "end_time": "2018-05-10T12:35:50.740827Z",
     "start_time": "2018-05-10T12:35:49.865860Z"
    },
    "code_folding": [
     0
    ]
   },
   "outputs": [
    {
     "data": {
      "text/html": [
       "\n",
       "    <div class=\"bk-root\">\n",
       "        <a href=\"https://bokeh.pydata.org\" target=\"_blank\" class=\"bk-logo bk-logo-small bk-logo-notebook\"></a>\n",
       "        <span id=\"38f2e900-028c-434a-8750-758d06615bde\">Loading BokehJS ...</span>\n",
       "    </div>"
      ]
     },
     "metadata": {},
     "output_type": "display_data"
    },
    {
     "data": {
      "application/javascript": [
       "\n",
       "(function(root) {\n",
       "  function now() {\n",
       "    return new Date();\n",
       "  }\n",
       "\n",
       "  var force = true;\n",
       "\n",
       "  if (typeof (root._bokeh_onload_callbacks) === \"undefined\" || force === true) {\n",
       "    root._bokeh_onload_callbacks = [];\n",
       "    root._bokeh_is_loading = undefined;\n",
       "  }\n",
       "\n",
       "  var JS_MIME_TYPE = 'application/javascript';\n",
       "  var HTML_MIME_TYPE = 'text/html';\n",
       "  var EXEC_MIME_TYPE = 'application/vnd.bokehjs_exec.v0+json';\n",
       "  var CLASS_NAME = 'output_bokeh rendered_html';\n",
       "\n",
       "  /**\n",
       "   * Render data to the DOM node\n",
       "   */\n",
       "  function render(props, node) {\n",
       "    var script = document.createElement(\"script\");\n",
       "    node.appendChild(script);\n",
       "  }\n",
       "\n",
       "  /**\n",
       "   * Handle when an output is cleared or removed\n",
       "   */\n",
       "  function handleClearOutput(event, handle) {\n",
       "    var cell = handle.cell;\n",
       "\n",
       "    var id = cell.output_area._bokeh_element_id;\n",
       "    var server_id = cell.output_area._bokeh_server_id;\n",
       "    // Clean up Bokeh references\n",
       "    if (id !== undefined) {\n",
       "      Bokeh.index[id].model.document.clear();\n",
       "      delete Bokeh.index[id];\n",
       "    }\n",
       "\n",
       "    if (server_id !== undefined) {\n",
       "      // Clean up Bokeh references\n",
       "      var cmd = \"from bokeh.io.state import curstate; print(curstate().uuid_to_server['\" + server_id + \"'].get_sessions()[0].document.roots[0]._id)\";\n",
       "      cell.notebook.kernel.execute(cmd, {\n",
       "        iopub: {\n",
       "          output: function(msg) {\n",
       "            var element_id = msg.content.text.trim();\n",
       "            Bokeh.index[element_id].model.document.clear();\n",
       "            delete Bokeh.index[element_id];\n",
       "          }\n",
       "        }\n",
       "      });\n",
       "      // Destroy server and session\n",
       "      var cmd = \"import bokeh.io.notebook as ion; ion.destroy_server('\" + server_id + \"')\";\n",
       "      cell.notebook.kernel.execute(cmd);\n",
       "    }\n",
       "  }\n",
       "\n",
       "  /**\n",
       "   * Handle when a new output is added\n",
       "   */\n",
       "  function handleAddOutput(event, handle) {\n",
       "    var output_area = handle.output_area;\n",
       "    var output = handle.output;\n",
       "\n",
       "    // limit handleAddOutput to display_data with EXEC_MIME_TYPE content only\n",
       "    if ((output.output_type != \"display_data\") || (!output.data.hasOwnProperty(EXEC_MIME_TYPE))) {\n",
       "      return\n",
       "    }\n",
       "\n",
       "    var toinsert = output_area.element.find(\".\" + CLASS_NAME.split(' ')[0]);\n",
       "\n",
       "    if (output.metadata[EXEC_MIME_TYPE][\"id\"] !== undefined) {\n",
       "      toinsert[toinsert.length - 1].firstChild.textContent = output.data[JS_MIME_TYPE];\n",
       "      // store reference to embed id on output_area\n",
       "      output_area._bokeh_element_id = output.metadata[EXEC_MIME_TYPE][\"id\"];\n",
       "    }\n",
       "    if (output.metadata[EXEC_MIME_TYPE][\"server_id\"] !== undefined) {\n",
       "      var bk_div = document.createElement(\"div\");\n",
       "      bk_div.innerHTML = output.data[HTML_MIME_TYPE];\n",
       "      var script_attrs = bk_div.children[0].attributes;\n",
       "      for (var i = 0; i < script_attrs.length; i++) {\n",
       "        toinsert[toinsert.length - 1].firstChild.setAttribute(script_attrs[i].name, script_attrs[i].value);\n",
       "      }\n",
       "      // store reference to server id on output_area\n",
       "      output_area._bokeh_server_id = output.metadata[EXEC_MIME_TYPE][\"server_id\"];\n",
       "    }\n",
       "  }\n",
       "\n",
       "  function register_renderer(events, OutputArea) {\n",
       "\n",
       "    function append_mime(data, metadata, element) {\n",
       "      // create a DOM node to render to\n",
       "      var toinsert = this.create_output_subarea(\n",
       "        metadata,\n",
       "        CLASS_NAME,\n",
       "        EXEC_MIME_TYPE\n",
       "      );\n",
       "      this.keyboard_manager.register_events(toinsert);\n",
       "      // Render to node\n",
       "      var props = {data: data, metadata: metadata[EXEC_MIME_TYPE]};\n",
       "      render(props, toinsert[toinsert.length - 1]);\n",
       "      element.append(toinsert);\n",
       "      return toinsert\n",
       "    }\n",
       "\n",
       "    /* Handle when an output is cleared or removed */\n",
       "    events.on('clear_output.CodeCell', handleClearOutput);\n",
       "    events.on('delete.Cell', handleClearOutput);\n",
       "\n",
       "    /* Handle when a new output is added */\n",
       "    events.on('output_added.OutputArea', handleAddOutput);\n",
       "\n",
       "    /**\n",
       "     * Register the mime type and append_mime function with output_area\n",
       "     */\n",
       "    OutputArea.prototype.register_mime_type(EXEC_MIME_TYPE, append_mime, {\n",
       "      /* Is output safe? */\n",
       "      safe: true,\n",
       "      /* Index of renderer in `output_area.display_order` */\n",
       "      index: 0\n",
       "    });\n",
       "  }\n",
       "\n",
       "  // register the mime type if in Jupyter Notebook environment and previously unregistered\n",
       "  if (root.Jupyter !== undefined) {\n",
       "    var events = require('base/js/events');\n",
       "    var OutputArea = require('notebook/js/outputarea').OutputArea;\n",
       "\n",
       "    if (OutputArea.prototype.mime_types().indexOf(EXEC_MIME_TYPE) == -1) {\n",
       "      register_renderer(events, OutputArea);\n",
       "    }\n",
       "  }\n",
       "\n",
       "  \n",
       "  if (typeof (root._bokeh_timeout) === \"undefined\" || force === true) {\n",
       "    root._bokeh_timeout = Date.now() + 5000;\n",
       "    root._bokeh_failed_load = false;\n",
       "  }\n",
       "\n",
       "  var NB_LOAD_WARNING = {'data': {'text/html':\n",
       "     \"<div style='background-color: #fdd'>\\n\"+\n",
       "     \"<p>\\n\"+\n",
       "     \"BokehJS does not appear to have successfully loaded. If loading BokehJS from CDN, this \\n\"+\n",
       "     \"may be due to a slow or bad network connection. Possible fixes:\\n\"+\n",
       "     \"</p>\\n\"+\n",
       "     \"<ul>\\n\"+\n",
       "     \"<li>re-rerun `output_notebook()` to attempt to load from CDN again, or</li>\\n\"+\n",
       "     \"<li>use INLINE resources instead, as so:</li>\\n\"+\n",
       "     \"</ul>\\n\"+\n",
       "     \"<code>\\n\"+\n",
       "     \"from bokeh.resources import INLINE\\n\"+\n",
       "     \"output_notebook(resources=INLINE)\\n\"+\n",
       "     \"</code>\\n\"+\n",
       "     \"</div>\"}};\n",
       "\n",
       "  function display_loaded() {\n",
       "    var el = document.getElementById(\"38f2e900-028c-434a-8750-758d06615bde\");\n",
       "    if (el != null) {\n",
       "      el.textContent = \"BokehJS is loading...\";\n",
       "    }\n",
       "    if (root.Bokeh !== undefined) {\n",
       "      if (el != null) {\n",
       "        el.textContent = \"BokehJS \" + root.Bokeh.version + \" successfully loaded.\";\n",
       "      }\n",
       "    } else if (Date.now() < root._bokeh_timeout) {\n",
       "      setTimeout(display_loaded, 100)\n",
       "    }\n",
       "  }\n",
       "\n",
       "\n",
       "  function run_callbacks() {\n",
       "    try {\n",
       "      root._bokeh_onload_callbacks.forEach(function(callback) { callback() });\n",
       "    }\n",
       "    finally {\n",
       "      delete root._bokeh_onload_callbacks\n",
       "    }\n",
       "    console.info(\"Bokeh: all callbacks have finished\");\n",
       "  }\n",
       "\n",
       "  function load_libs(js_urls, callback) {\n",
       "    root._bokeh_onload_callbacks.push(callback);\n",
       "    if (root._bokeh_is_loading > 0) {\n",
       "      console.log(\"Bokeh: BokehJS is being loaded, scheduling callback at\", now());\n",
       "      return null;\n",
       "    }\n",
       "    if (js_urls == null || js_urls.length === 0) {\n",
       "      run_callbacks();\n",
       "      return null;\n",
       "    }\n",
       "    console.log(\"Bokeh: BokehJS not loaded, scheduling load and callback at\", now());\n",
       "    root._bokeh_is_loading = js_urls.length;\n",
       "    for (var i = 0; i < js_urls.length; i++) {\n",
       "      var url = js_urls[i];\n",
       "      var s = document.createElement('script');\n",
       "      s.src = url;\n",
       "      s.async = false;\n",
       "      s.onreadystatechange = s.onload = function() {\n",
       "        root._bokeh_is_loading--;\n",
       "        if (root._bokeh_is_loading === 0) {\n",
       "          console.log(\"Bokeh: all BokehJS libraries loaded\");\n",
       "          run_callbacks()\n",
       "        }\n",
       "      };\n",
       "      s.onerror = function() {\n",
       "        console.warn(\"failed to load library \" + url);\n",
       "      };\n",
       "      console.log(\"Bokeh: injecting script tag for BokehJS library: \", url);\n",
       "      document.getElementsByTagName(\"head\")[0].appendChild(s);\n",
       "    }\n",
       "  };var element = document.getElementById(\"38f2e900-028c-434a-8750-758d06615bde\");\n",
       "  if (element == null) {\n",
       "    console.log(\"Bokeh: ERROR: autoload.js configured with elementid '38f2e900-028c-434a-8750-758d06615bde' but no matching script tag was found. \")\n",
       "    return false;\n",
       "  }\n",
       "\n",
       "  var js_urls = [\"https://cdn.pydata.org/bokeh/release/bokeh-0.12.15.min.js\", \"https://cdn.pydata.org/bokeh/release/bokeh-widgets-0.12.15.min.js\", \"https://cdn.pydata.org/bokeh/release/bokeh-tables-0.12.15.min.js\", \"https://cdn.pydata.org/bokeh/release/bokeh-gl-0.12.15.min.js\"];\n",
       "\n",
       "  var inline_js = [\n",
       "    function(Bokeh) {\n",
       "      Bokeh.set_log_level(\"info\");\n",
       "    },\n",
       "    \n",
       "    function(Bokeh) {\n",
       "      \n",
       "    },\n",
       "    function(Bokeh) {\n",
       "      console.log(\"Bokeh: injecting CSS: https://cdn.pydata.org/bokeh/release/bokeh-0.12.15.min.css\");\n",
       "      Bokeh.embed.inject_css(\"https://cdn.pydata.org/bokeh/release/bokeh-0.12.15.min.css\");\n",
       "      console.log(\"Bokeh: injecting CSS: https://cdn.pydata.org/bokeh/release/bokeh-widgets-0.12.15.min.css\");\n",
       "      Bokeh.embed.inject_css(\"https://cdn.pydata.org/bokeh/release/bokeh-widgets-0.12.15.min.css\");\n",
       "      console.log(\"Bokeh: injecting CSS: https://cdn.pydata.org/bokeh/release/bokeh-tables-0.12.15.min.css\");\n",
       "      Bokeh.embed.inject_css(\"https://cdn.pydata.org/bokeh/release/bokeh-tables-0.12.15.min.css\");\n",
       "    }\n",
       "  ];\n",
       "\n",
       "  function run_inline_js() {\n",
       "    \n",
       "    if ((root.Bokeh !== undefined) || (force === true)) {\n",
       "      for (var i = 0; i < inline_js.length; i++) {\n",
       "        inline_js[i].call(root, root.Bokeh);\n",
       "      }if (force === true) {\n",
       "        display_loaded();\n",
       "      }} else if (Date.now() < root._bokeh_timeout) {\n",
       "      setTimeout(run_inline_js, 100);\n",
       "    } else if (!root._bokeh_failed_load) {\n",
       "      console.log(\"Bokeh: BokehJS failed to load within specified timeout.\");\n",
       "      root._bokeh_failed_load = true;\n",
       "    } else if (force !== true) {\n",
       "      var cell = $(document.getElementById(\"38f2e900-028c-434a-8750-758d06615bde\")).parents('.cell').data().cell;\n",
       "      cell.output_area.append_execute_result(NB_LOAD_WARNING)\n",
       "    }\n",
       "\n",
       "  }\n",
       "\n",
       "  if (root._bokeh_is_loading === 0) {\n",
       "    console.log(\"Bokeh: BokehJS loaded, going straight to plotting\");\n",
       "    run_inline_js();\n",
       "  } else {\n",
       "    load_libs(js_urls, function() {\n",
       "      console.log(\"Bokeh: BokehJS plotting callback run at\", now());\n",
       "      run_inline_js();\n",
       "    });\n",
       "  }\n",
       "}(window));"
      ],
      "application/vnd.bokehjs_load.v0+json": "\n(function(root) {\n  function now() {\n    return new Date();\n  }\n\n  var force = true;\n\n  if (typeof (root._bokeh_onload_callbacks) === \"undefined\" || force === true) {\n    root._bokeh_onload_callbacks = [];\n    root._bokeh_is_loading = undefined;\n  }\n\n  \n\n  \n  if (typeof (root._bokeh_timeout) === \"undefined\" || force === true) {\n    root._bokeh_timeout = Date.now() + 5000;\n    root._bokeh_failed_load = false;\n  }\n\n  var NB_LOAD_WARNING = {'data': {'text/html':\n     \"<div style='background-color: #fdd'>\\n\"+\n     \"<p>\\n\"+\n     \"BokehJS does not appear to have successfully loaded. If loading BokehJS from CDN, this \\n\"+\n     \"may be due to a slow or bad network connection. Possible fixes:\\n\"+\n     \"</p>\\n\"+\n     \"<ul>\\n\"+\n     \"<li>re-rerun `output_notebook()` to attempt to load from CDN again, or</li>\\n\"+\n     \"<li>use INLINE resources instead, as so:</li>\\n\"+\n     \"</ul>\\n\"+\n     \"<code>\\n\"+\n     \"from bokeh.resources import INLINE\\n\"+\n     \"output_notebook(resources=INLINE)\\n\"+\n     \"</code>\\n\"+\n     \"</div>\"}};\n\n  function display_loaded() {\n    var el = document.getElementById(\"38f2e900-028c-434a-8750-758d06615bde\");\n    if (el != null) {\n      el.textContent = \"BokehJS is loading...\";\n    }\n    if (root.Bokeh !== undefined) {\n      if (el != null) {\n        el.textContent = \"BokehJS \" + root.Bokeh.version + \" successfully loaded.\";\n      }\n    } else if (Date.now() < root._bokeh_timeout) {\n      setTimeout(display_loaded, 100)\n    }\n  }\n\n\n  function run_callbacks() {\n    try {\n      root._bokeh_onload_callbacks.forEach(function(callback) { callback() });\n    }\n    finally {\n      delete root._bokeh_onload_callbacks\n    }\n    console.info(\"Bokeh: all callbacks have finished\");\n  }\n\n  function load_libs(js_urls, callback) {\n    root._bokeh_onload_callbacks.push(callback);\n    if (root._bokeh_is_loading > 0) {\n      console.log(\"Bokeh: BokehJS is being loaded, scheduling callback at\", now());\n      return null;\n    }\n    if (js_urls == null || js_urls.length === 0) {\n      run_callbacks();\n      return null;\n    }\n    console.log(\"Bokeh: BokehJS not loaded, scheduling load and callback at\", now());\n    root._bokeh_is_loading = js_urls.length;\n    for (var i = 0; i < js_urls.length; i++) {\n      var url = js_urls[i];\n      var s = document.createElement('script');\n      s.src = url;\n      s.async = false;\n      s.onreadystatechange = s.onload = function() {\n        root._bokeh_is_loading--;\n        if (root._bokeh_is_loading === 0) {\n          console.log(\"Bokeh: all BokehJS libraries loaded\");\n          run_callbacks()\n        }\n      };\n      s.onerror = function() {\n        console.warn(\"failed to load library \" + url);\n      };\n      console.log(\"Bokeh: injecting script tag for BokehJS library: \", url);\n      document.getElementsByTagName(\"head\")[0].appendChild(s);\n    }\n  };var element = document.getElementById(\"38f2e900-028c-434a-8750-758d06615bde\");\n  if (element == null) {\n    console.log(\"Bokeh: ERROR: autoload.js configured with elementid '38f2e900-028c-434a-8750-758d06615bde' but no matching script tag was found. \")\n    return false;\n  }\n\n  var js_urls = [\"https://cdn.pydata.org/bokeh/release/bokeh-0.12.15.min.js\", \"https://cdn.pydata.org/bokeh/release/bokeh-widgets-0.12.15.min.js\", \"https://cdn.pydata.org/bokeh/release/bokeh-tables-0.12.15.min.js\", \"https://cdn.pydata.org/bokeh/release/bokeh-gl-0.12.15.min.js\"];\n\n  var inline_js = [\n    function(Bokeh) {\n      Bokeh.set_log_level(\"info\");\n    },\n    \n    function(Bokeh) {\n      \n    },\n    function(Bokeh) {\n      console.log(\"Bokeh: injecting CSS: https://cdn.pydata.org/bokeh/release/bokeh-0.12.15.min.css\");\n      Bokeh.embed.inject_css(\"https://cdn.pydata.org/bokeh/release/bokeh-0.12.15.min.css\");\n      console.log(\"Bokeh: injecting CSS: https://cdn.pydata.org/bokeh/release/bokeh-widgets-0.12.15.min.css\");\n      Bokeh.embed.inject_css(\"https://cdn.pydata.org/bokeh/release/bokeh-widgets-0.12.15.min.css\");\n      console.log(\"Bokeh: injecting CSS: https://cdn.pydata.org/bokeh/release/bokeh-tables-0.12.15.min.css\");\n      Bokeh.embed.inject_css(\"https://cdn.pydata.org/bokeh/release/bokeh-tables-0.12.15.min.css\");\n    }\n  ];\n\n  function run_inline_js() {\n    \n    if ((root.Bokeh !== undefined) || (force === true)) {\n      for (var i = 0; i < inline_js.length; i++) {\n        inline_js[i].call(root, root.Bokeh);\n      }if (force === true) {\n        display_loaded();\n      }} else if (Date.now() < root._bokeh_timeout) {\n      setTimeout(run_inline_js, 100);\n    } else if (!root._bokeh_failed_load) {\n      console.log(\"Bokeh: BokehJS failed to load within specified timeout.\");\n      root._bokeh_failed_load = true;\n    } else if (force !== true) {\n      var cell = $(document.getElementById(\"38f2e900-028c-434a-8750-758d06615bde\")).parents('.cell').data().cell;\n      cell.output_area.append_execute_result(NB_LOAD_WARNING)\n    }\n\n  }\n\n  if (root._bokeh_is_loading === 0) {\n    console.log(\"Bokeh: BokehJS loaded, going straight to plotting\");\n    run_inline_js();\n  } else {\n    load_libs(js_urls, function() {\n      console.log(\"Bokeh: BokehJS plotting callback run at\", now());\n      run_inline_js();\n    });\n  }\n}(window));"
     },
     "metadata": {},
     "output_type": "display_data"
    }
   ],
   "source": [
    "# Bokeh settings\n",
    "from bokeh.plotting import figure, show\n",
    "import bokeh.models\n",
    "import bokeh.plotting\n",
    "from bokeh.models import ColumnDataSource, Span, Label, HoverTool, Range1d, CDSView\n",
    "from bokeh.embed import components\n",
    "from bokeh.io import output_notebook\n",
    "output_notebook()"
   ]
  },
  {
   "cell_type": "markdown",
   "metadata": {},
   "source": [
    "#### Plot in bokeh\n",
    "\n",
    "To get the hover to show up, I added a hidden line that shows the all-items CPI and set the hover to show up when the cursor location has the same x value as the line. The problem is that the first and last bars only allow hover on their inner portions. "
   ]
  },
  {
   "cell_type": "code",
   "execution_count": 13,
   "metadata": {
    "ExecuteTime": {
     "end_time": "2018-05-10T12:35:52.896921Z",
     "start_time": "2018-05-10T12:35:52.662595Z"
    },
    "code_folding": [
     0
    ],
    "scrolled": false
   },
   "outputs": [
    {
     "data": {
      "text/html": [
       "\n",
       "<div class=\"bk-root\">\n",
       "    <div class=\"bk-plotdiv\" id=\"391dea83-9e58-45d3-9364-c05b0dbb7d15\"></div>\n",
       "</div>"
      ]
     },
     "metadata": {},
     "output_type": "display_data"
    },
    {
     "data": {
      "application/javascript": [
       "(function(root) {\n",
       "  function embed_document(root) {\n",
       "    \n",
       "  var docs_json = {\"bba00d4a-8e34-4ca6-adc3-caff19035b40\":{\"roots\":{\"references\":[{\"attributes\":{\"callback\":null,\"column_names\":[\"core services\",\"core goods\",\"shelter\",\"food & energy\",\"total\",\"strdate\",\"date\",\"index\"],\"data\":{\"core goods\":{\"__ndarray__\":\"exSuR+F6xL+amZmZmZm5v5qZmZmZmam/exSuR+F6pL+4HoXrUbiuvwrXo3A9Cre/mpmZmZmZub+amZmZmZm5v5qZmZmZmbm/7FG4HoXrwb8pXI/C9Si8v3sUrkfherS/exSuR+F6lL97FK5H4XqEP+xRuB6F67G/mpmZmZmZub8pXI/C9Si8v7gehetRuL6/uB6F61G4vr8K16NwPQq3v6RwPQrXo8C/KVyPwvUovL/sUbgehevBv7gehetRuL6/mpmZmZmZqb+amZmZmZm5vylcj8L1KLy/uB6F61G4vr8zMzMzMzPDv6RwPQrXo8C/uB6F61G4vr/D9Shcj8LFv5qZmZmZmcm/UrgehetRyL/D9Shcj8LFv+xRuB6F68G/pHA9CtejwL+amZmZmZm5v7gehetRuK6/7FG4HoXrsb8=\",\"dtype\":\"float64\",\"shape\":[40]},\"core services\":{\"__ndarray__\":\"XI/C9Shc3z/NzMzMzMzcP83MzMzMzNw/FK5H4XoU3j9xPQrXo3DdP7gehetRuN4/XI/C9Shc3z9SuB6F61HgP0jhehSuR+E/4XoUrkfh4j97FK5H4XrkPx+F61G4HuU/w/UoXI/C5T9cj8L1KFznP65H4XoUruc/XI/C9Shc5z9SuB6F61HoP1K4HoXrUeg/UrgehetR6D+amZmZmZnpP1yPwvUoXOc/exSuR+F65D8pXI/C9SjkP83MzMzMzOQ/cT0K16Nw5T8UrkfhehTmP+xRuB6F6+E/FK5H4XoU3j89CtejcD3aP/YoXI/C9dg/PQrXo3A92j+amZmZmZnZP3E9CtejcN0/pHA9Ctej4D8UrkfhehTePxSuR+F6FN4/AAAAAAAA4D9SuB6F61HgPylcj8L1KOQ/exSuR+F65D8=\",\"dtype\":\"float64\",\"shape\":[40]},\"date\":{\"__ndarray__\":\"AAAAqyyqdEIAAED9JrR0QgAAQB4qvXRCAACAcCTHdEIAAABdzNB0QgAAQK/G2nRCAADAm27kdEIAAADuaO50QgAAQEBj+HRCAADALAsCdUIAAAB/BQx1QgAAgGutFXVCAADAvacfdUIAAAAQoil1QgAAwJb3MnVCAAAA6fE8dUIAAIDVmUZ1QgAAwCeUUHVCAABAFDxadUIAAIBmNmR1QgAAwLgwbnVCAABApdh3dUIAAID30oF1QgAAAOR6i3VCAABANnWVdUIAAICIb591QgAAgKlyqHVCAADA+2yydUIAAEDoFLx1QgAAgDoPxnVCAAAAJ7fPdUIAAEB5sdl1QgAAgMur43VCAAAAuFPtdUIAAEAKTvd1QgAAwPb1AHZCAAAASfAKdkIAAECb6hR2QgAAQLztHXZCAACADugndkI=\",\"dtype\":\"float64\",\"shape\":[40]},\"food & energy\":{\"__ndarray__\":\"w/UoXI/C9b9xPQrXo3D1vwrXo3A9Cve/w/UoXI/C+b8UrkfhehT2vwAAAAAAAPS/16NwPQrX87+uR+F6FK7zv1K4HoXrUfi/SOF6FK5H9b8fhetRuB7xvx+F61G4Hu2/CtejcD0K1789CtejcD3qvylcj8L1KOy/7FG4HoXr4b+uR+F6FK7nv1K4HoXrUei/exSuR+F67L9SuB6F61Hov0jhehSuR9G/mpmZmZmZqb+4HoXrUbieP2ZmZmZmZtY/XI/C9Shc5z8pXI/C9SjwPz0K16NwPeo/rkfhehSu5z/2KFyPwvXgPzMzMzMzM9M/PQrXo3A92j97FK5H4XrkP2ZmZmZmZu4/cT0K16Nw5T97FK5H4XrsP65H4XoUruc/cT0K16Nw5T9I4XoUrkfpP1yPwvUoXOc/PQrXo3A96j8=\",\"dtype\":\"float64\",\"shape\":[40]},\"index\":{\"__ndarray__\":\"AAAAqyyqdEIAAED9JrR0QgAAQB4qvXRCAACAcCTHdEIAAABdzNB0QgAAQK/G2nRCAADAm27kdEIAAADuaO50QgAAQEBj+HRCAADALAsCdUIAAAB/BQx1QgAAgGutFXVCAADAvacfdUIAAAAQoil1QgAAwJb3MnVCAAAA6fE8dUIAAIDVmUZ1QgAAwCeUUHVCAABAFDxadUIAAIBmNmR1QgAAwLgwbnVCAABApdh3dUIAAID30oF1QgAAAOR6i3VCAABANnWVdUIAAICIb591QgAAgKlyqHVCAADA+2yydUIAAEDoFLx1QgAAgDoPxnVCAAAAJ7fPdUIAAEB5sdl1QgAAgMur43VCAAAAuFPtdUIAAEAKTvd1QgAAwPb1AHZCAAAASfAKdkIAAECb6hR2QgAAQLztHXZCAACADugndkI=\",\"dtype\":\"float64\",\"shape\":[40]},\"shelter\":{\"__ndarray__\":\"FK5H4XoU7j+4HoXrUbjuP7gehetRuO4/CtejcD0K7z8UrkfhehTuP1yPwvUoXO8/UrgehetR8D8pXI/C9SjwP6RwPQrXo/A/zczMzMzM8D/NzMzMzMzwP/YoXI/C9fA/H4XrUbge8T9xPQrXo3DxP/YoXI/C9fA/H4XrUbge8T8UrkfhehTyP4/C9Shcj/I/w/UoXI/C8T9mZmZmZmbyP4/C9Shcj/I/CtejcD0K8z9cj8L1KFzzP65H4XoUrvM/XI/C9Shc8z9cj8L1KFzzPwrXo3A9CvM/CtejcD0K8z9mZmZmZmbyPxSuR+F6FPI/mpmZmZmZ8T9mZmZmZmbyPxSuR+F6FPI/PQrXo3A98j/D9Shcj8LxPxSuR+F6FPI/FK5H4XoU8j/D9Shcj8LxP+F6FK5H4fI/XI/C9Shc8z8=\",\"dtype\":\"float64\",\"shape\":[40]},\"strdate\":[\"January 2015\",\"February 2015\",\"March 2015\",\"April 2015\",\"May 2015\",\"June 2015\",\"July 2015\",\"August 2015\",\"September 2015\",\"October 2015\",\"November 2015\",\"December 2015\",\"January 2016\",\"February 2016\",\"March 2016\",\"April 2016\",\"May 2016\",\"June 2016\",\"July 2016\",\"August 2016\",\"September 2016\",\"October 2016\",\"November 2016\",\"December 2016\",\"January 2017\",\"February 2017\",\"March 2017\",\"April 2017\",\"May 2017\",\"June 2017\",\"July 2017\",\"August 2017\",\"September 2017\",\"October 2017\",\"November 2017\",\"December 2017\",\"January 2018\",\"February 2018\",\"March 2018\",\"April 2018\"],\"total\":{\"__ndarray__\":\"CtejcD0Kt7+4HoXrUbiev+xRuB6F67G/mpmZmZmZyb97FK5H4Xqkv6RwPQrXo8A/w/UoXI/CxT+amZmZmZnJP3sUrkfheqS/w/UoXI/CxT9SuB6F61HgP65H4XoUruc/FK5H4XoU9j97FK5H4XrwP4XrUbgehes/PQrXo3A98j+kcD0K16PwP1K4HoXrUfA/MzMzMzMz6z9xPQrXo3DxP9ejcD0K1/c/uB6F61G4+j+F61G4HoX7P+F6FK5H4QBAUrgehetRBEBSuB6F61EGQHE9CtejcANAFK5H4XoUAkDhehSuR+H+PwrXo3A9Cvs/exSuR+F6/D8AAAAAAAAAQHsUrkfhegJA9ihcj8L1AEA9CtejcD0CQHE9CtejcAFASOF6FK5HAUB7FK5H4XoCQMP1KFyPwgNApHA9CtejBEA=\",\"dtype\":\"float64\",\"shape\":[40]}},\"selected\":null,\"selection_policy\":null},\"id\":\"4d1e3173-15eb-4cc9-94a5-257a66788007\",\"type\":\"ColumnDataSource\"},{\"attributes\":{\"fields\":[]},\"id\":\"be5a7d3c-4509-44e7-b6ed-144bd5b68882\",\"type\":\"Stack\"},{\"attributes\":{\"source\":{\"id\":\"363518f2-f544-4b51-a488-4591adf72789\",\"type\":\"ColumnDataSource\"}},\"id\":\"30035ea0-8d60-43ac-ab65-a0532bcabfe9\",\"type\":\"CDSView\"},{\"attributes\":{\"label\":{\"value\":\"Food & energy\"},\"renderers\":[{\"id\":\"50ac1f30-7074-4b5f-a649-4c11cbf69a76\",\"type\":\"GlyphRenderer\"}]},\"id\":\"dd39474c-ae42-4865-ae46-32bc6447f991\",\"type\":\"LegendItem\"},{\"attributes\":{\"fields\":[\"core services\"]},\"id\":\"816fc8e2-14eb-444d-b4b1-a514aec590ba\",\"type\":\"Stack\"},{\"attributes\":{\"bottom\":{\"expr\":{\"id\":\"e6f591e1-18a6-4be5-a439-5cb93a4a429f\",\"type\":\"Stack\"}},\"fill_color\":{\"value\":\"#304FFE\"},\"line_alpha\":{\"value\":0},\"line_color\":{\"value\":\"#304FFE\"},\"top\":{\"expr\":{\"id\":\"3b19c116-7e5d-465b-979d-6baaa8d42519\",\"type\":\"Stack\"}},\"width\":{\"value\":1921320000.0},\"x\":{\"field\":\"dates\"}},\"id\":\"41bab279-9482-4d14-9c75-5e997aa5064d\",\"type\":\"VBar\"},{\"attributes\":{\"line_color\":{\"value\":\"gray\"},\"location\":0,\"plot\":{\"id\":\"5b589d99-19d7-488b-a1f9-0b32fb861da1\",\"subtype\":\"Figure\",\"type\":\"Plot\"}},\"id\":\"2e787a1d-3acc-49c9-8742-c6418942e857\",\"type\":\"Span\"},{\"attributes\":{\"bottom\":{\"expr\":{\"id\":\"e6f591e1-18a6-4be5-a439-5cb93a4a429f\",\"type\":\"Stack\"}},\"fill_alpha\":{\"value\":0.1},\"fill_color\":{\"value\":\"#1f77b4\"},\"line_alpha\":{\"value\":0.1},\"line_color\":{\"value\":\"#1f77b4\"},\"top\":{\"expr\":{\"id\":\"3b19c116-7e5d-465b-979d-6baaa8d42519\",\"type\":\"Stack\"}},\"width\":{\"value\":1921320000.0},\"x\":{\"field\":\"dates\"}},\"id\":\"116ed1f9-e93d-4832-8621-ce47542cd7b1\",\"type\":\"VBar\"},{\"attributes\":{\"fields\":[]},\"id\":\"b8b512b5-cb54-48fb-83d9-9a0175de2661\",\"type\":\"Stack\"},{\"attributes\":{\"callback\":null,\"end\":4.0,\"start\":-2.2},\"id\":\"38c35720-9853-47d6-850e-dcee00b15992\",\"type\":\"Range1d\"},{\"attributes\":{\"source\":{\"id\":\"363518f2-f544-4b51-a488-4591adf72789\",\"type\":\"ColumnDataSource\"}},\"id\":\"5e2bb280-290b-45c2-ac6a-30feec50e758\",\"type\":\"CDSView\"},{\"attributes\":{\"source\":{\"id\":\"363518f2-f544-4b51-a488-4591adf72789\",\"type\":\"ColumnDataSource\"}},\"id\":\"d4a24363-2162-4d90-92c9-7d0cb5ae36f5\",\"type\":\"CDSView\"},{\"attributes\":{\"fields\":[\"core services\",\"core goods\",\"shelter\"]},\"id\":\"9a972948-9a7a-43f9-bccf-4af1916b1336\",\"type\":\"Stack\"},{\"attributes\":{\"data_source\":{\"id\":\"363518f2-f544-4b51-a488-4591adf72789\",\"type\":\"ColumnDataSource\"},\"glyph\":{\"id\":\"41bab279-9482-4d14-9c75-5e997aa5064d\",\"type\":\"VBar\"},\"hover_glyph\":null,\"muted_glyph\":null,\"nonselection_glyph\":{\"id\":\"116ed1f9-e93d-4832-8621-ce47542cd7b1\",\"type\":\"VBar\"},\"selection_glyph\":null,\"view\":{\"id\":\"30035ea0-8d60-43ac-ab65-a0532bcabfe9\",\"type\":\"CDSView\"}},\"id\":\"50ac1f30-7074-4b5f-a649-4c11cbf69a76\",\"type\":\"GlyphRenderer\"},{\"attributes\":{\"bottom\":{\"expr\":{\"id\":\"bb8420e9-0a5e-40c9-8c62-297ff2397e60\",\"type\":\"Stack\"}},\"fill_color\":{\"value\":\"#00c853\"},\"line_alpha\":{\"value\":0},\"line_color\":{\"value\":\"#00c853\"},\"top\":{\"expr\":{\"id\":\"781dc675-b704-493b-8ffd-0d22f9e4f8f4\",\"type\":\"Stack\"}},\"width\":{\"value\":1921320000.0},\"x\":{\"field\":\"dates\"}},\"id\":\"5a8e843a-7cac-49f3-8e78-575aac444768\",\"type\":\"VBar\"},{\"attributes\":{\"label\":{\"value\":\"Shelter\"},\"renderers\":[{\"id\":\"26e291d0-02ec-44b4-843f-074b110c8eac\",\"type\":\"GlyphRenderer\"}]},\"id\":\"c378406d-b0e9-402d-9932-b6aa9680219e\",\"type\":\"LegendItem\"},{\"attributes\":{\"bottom\":{\"expr\":{\"id\":\"766eae99-4e8e-4575-9929-9779264935a4\",\"type\":\"Stack\"}},\"fill_color\":{\"value\":\"#80DEEA\"},\"line_alpha\":{\"value\":0},\"line_color\":{\"value\":\"#80DEEA\"},\"top\":{\"expr\":{\"id\":\"2bf8741a-41ba-46de-9040-c0b0e8c72223\",\"type\":\"Stack\"}},\"width\":{\"value\":1921320000.0},\"x\":{\"field\":\"dates\"}},\"id\":\"f1e888be-54cc-44a1-af61-5e8517a18beb\",\"type\":\"VBar\"},{\"attributes\":{\"below\":[{\"id\":\"56ca46d4-f614-4a17-84fa-19c57e1dfde1\",\"type\":\"DatetimeAxis\"}],\"left\":[{\"id\":\"aa1d465c-0322-460d-b544-27c954ea0510\",\"type\":\"LinearAxis\"}],\"outline_line_color\":{\"value\":\"white\"},\"plot_height\":300,\"plot_width\":700,\"renderers\":[{\"id\":\"56ca46d4-f614-4a17-84fa-19c57e1dfde1\",\"type\":\"DatetimeAxis\"},{\"id\":\"2333ac95-7618-4e3b-a300-5b10dbdccf0b\",\"type\":\"Grid\"},{\"id\":\"aa1d465c-0322-460d-b544-27c954ea0510\",\"type\":\"LinearAxis\"},{\"id\":\"4db666c3-4761-41ff-a01a-54488423c537\",\"type\":\"Grid\"},{\"id\":\"791eaffa-6f6d-4f72-a198-c8f8cb2b6344\",\"type\":\"BoxAnnotation\"},{\"id\":\"f33db7b2-39a2-47ff-8551-c17dbcf66aac\",\"type\":\"Legend\"},{\"id\":\"2e1bccbf-b5ca-4ae6-a61b-fb9c710a68a8\",\"type\":\"GlyphRenderer\"},{\"id\":\"9b771360-5feb-4fa9-b520-d3143fbb55c5\",\"type\":\"GlyphRenderer\"},{\"id\":\"26e291d0-02ec-44b4-843f-074b110c8eac\",\"type\":\"GlyphRenderer\"},{\"id\":\"50ac1f30-7074-4b5f-a649-4c11cbf69a76\",\"type\":\"GlyphRenderer\"},{\"id\":\"3c37b16c-e67f-42d4-b5d8-e1cdb224af69\",\"type\":\"GlyphRenderer\"},{\"id\":\"9acffe4b-8f7b-4cec-b8e8-227ba8e4579a\",\"type\":\"GlyphRenderer\"},{\"id\":\"39305cb3-15c3-4b2a-8fa9-8eeb0e25788c\",\"type\":\"GlyphRenderer\"},{\"id\":\"e9df83b2-558e-4176-bba7-56b5aca2a0b3\",\"type\":\"GlyphRenderer\"},{\"id\":\"2e787a1d-3acc-49c9-8742-c6418942e857\",\"type\":\"Span\"},{\"id\":\"692446e4-787a-457a-8058-6f8bae725e32\",\"type\":\"GlyphRenderer\"}],\"sizing_mode\":\"scale_width\",\"title\":{\"id\":\"05dbe5b3-2a6e-4ab7-b039-9f006da57a7b\",\"type\":\"Title\"},\"toolbar\":{\"id\":\"474ef9a9-f4e1-4be7-9c47-9a4f583a3c31\",\"type\":\"Toolbar\"},\"toolbar_location\":null,\"x_range\":{\"id\":\"62640ef5-0e67-43ef-a5f7-2312660798e7\",\"type\":\"DataRange1d\"},\"x_scale\":{\"id\":\"9a85d066-3b4b-40a3-a689-a1dd0c3489a5\",\"type\":\"LinearScale\"},\"y_range\":{\"id\":\"38c35720-9853-47d6-850e-dcee00b15992\",\"type\":\"Range1d\"},\"y_scale\":{\"id\":\"151efd09-e58f-4fd7-9db4-03fd7dcded4b\",\"type\":\"LinearScale\"}},\"id\":\"5b589d99-19d7-488b-a1f9-0b32fb861da1\",\"subtype\":\"Figure\",\"type\":\"Plot\"},{\"attributes\":{\"fields\":[\"core services\",\"core goods\"]},\"id\":\"766eae99-4e8e-4575-9929-9779264935a4\",\"type\":\"Stack\"},{\"attributes\":{\"active_drag\":null,\"active_inspect\":\"auto\",\"active_scroll\":\"auto\",\"active_tap\":\"auto\",\"logo\":null,\"tools\":[{\"id\":\"a60c7d8f-f227-4227-beee-b59c5d97c597\",\"type\":\"PanTool\"},{\"id\":\"3c06f736-0981-4285-bd4c-cdc5b9e177ce\",\"type\":\"WheelZoomTool\"},{\"id\":\"a6447aa8-aa87-4a3c-abc3-0bd6000d06bb\",\"type\":\"BoxZoomTool\"},{\"id\":\"b3782c4a-05ca-4406-91f6-2e3c5cc1d2b8\",\"type\":\"ResetTool\"},{\"id\":\"25d952ce-6629-47e1-981f-acd3adec9e29\",\"type\":\"HoverTool\"}]},\"id\":\"474ef9a9-f4e1-4be7-9c47-9a4f583a3c31\",\"type\":\"Toolbar\"},{\"attributes\":{},\"id\":\"a3387ec5-3bf2-4b61-a30c-d7a613eb76ff\",\"type\":\"BasicTickFormatter\"},{\"attributes\":{\"fields\":[\"core services\",\"core goods\",\"shelter\"]},\"id\":\"9cc7a94d-d0ee-489c-804e-25dfe43d5534\",\"type\":\"Stack\"},{\"attributes\":{},\"id\":\"151efd09-e58f-4fd7-9db4-03fd7dcded4b\",\"type\":\"LinearScale\"},{\"attributes\":{\"fields\":[\"core services\",\"core goods\",\"shelter\",\"food & energy\"]},\"id\":\"3b19c116-7e5d-465b-979d-6baaa8d42519\",\"type\":\"Stack\"},{\"attributes\":{\"callback\":null},\"id\":\"62640ef5-0e67-43ef-a5f7-2312660798e7\",\"type\":\"DataRange1d\"},{\"attributes\":{\"fields\":[\"core services\",\"core goods\"]},\"id\":\"df2b48c4-885f-4c25-8368-8b3e0adfd030\",\"type\":\"Stack\"},{\"attributes\":{},\"id\":\"9a85d066-3b4b-40a3-a689-a1dd0c3489a5\",\"type\":\"LinearScale\"},{\"attributes\":{\"fields\":[\"core services\",\"core goods\"]},\"id\":\"2e0cdb77-e442-4234-aa7e-c44590d074c0\",\"type\":\"Stack\"},{\"attributes\":{\"axis_line_color\":{\"value\":\"white\"},\"formatter\":{\"id\":\"56429cd8-4f0b-46e9-ab24-75edf16d5182\",\"type\":\"DatetimeTickFormatter\"},\"plot\":{\"id\":\"5b589d99-19d7-488b-a1f9-0b32fb861da1\",\"subtype\":\"Figure\",\"type\":\"Plot\"},\"ticker\":{\"id\":\"3529c5ba-aab1-4329-99ff-3054a09e81ae\",\"type\":\"DatetimeTicker\"}},\"id\":\"56ca46d4-f614-4a17-84fa-19c57e1dfde1\",\"type\":\"DatetimeAxis\"},{\"attributes\":{\"num_minor_ticks\":5,\"tickers\":[{\"id\":\"1301ffe5-8618-444f-adf3-cfb5f50db0cd\",\"type\":\"AdaptiveTicker\"},{\"id\":\"576843a5-82d4-4fbe-babe-12d23764fe6a\",\"type\":\"AdaptiveTicker\"},{\"id\":\"38e09b6e-2d0e-4ed1-85db-9a55ce72dc03\",\"type\":\"AdaptiveTicker\"},{\"id\":\"2dd0548f-6765-4d8f-bd1c-d59d2936bf6e\",\"type\":\"DaysTicker\"},{\"id\":\"4ebbffda-05bd-43dd-ae0a-c2dc5768ebad\",\"type\":\"DaysTicker\"},{\"id\":\"04a7a8f4-6c4f-4d83-ace9-86ae93e980dd\",\"type\":\"DaysTicker\"},{\"id\":\"db9b69ab-a080-462f-868e-5b0383176480\",\"type\":\"DaysTicker\"},{\"id\":\"cb64532f-973f-49b2-95a8-b9156f0e992f\",\"type\":\"MonthsTicker\"},{\"id\":\"72feda97-ceed-43a9-b467-aa545f23f738\",\"type\":\"MonthsTicker\"},{\"id\":\"0f553ce2-e359-44af-947e-280a2e32c92c\",\"type\":\"MonthsTicker\"},{\"id\":\"6f3b6d4b-c120-4776-9b43-8569929c2324\",\"type\":\"MonthsTicker\"},{\"id\":\"e0da02d0-d663-4b83-a4f1-57fbd6e0cf30\",\"type\":\"YearsTicker\"}]},\"id\":\"3529c5ba-aab1-4329-99ff-3054a09e81ae\",\"type\":\"DatetimeTicker\"},{\"attributes\":{\"data_source\":{\"id\":\"363518f2-f544-4b51-a488-4591adf72789\",\"type\":\"ColumnDataSource\"},\"glyph\":{\"id\":\"b57653c7-69a1-464b-b704-b0ea4717c2cc\",\"type\":\"VBar\"},\"hover_glyph\":null,\"muted_glyph\":null,\"nonselection_glyph\":{\"id\":\"797dfebe-86a3-433f-9f63-39b2b81d228c\",\"type\":\"VBar\"},\"selection_glyph\":null,\"view\":{\"id\":\"d4a24363-2162-4d90-92c9-7d0cb5ae36f5\",\"type\":\"CDSView\"}},\"id\":\"2e1bccbf-b5ca-4ae6-a61b-fb9c710a68a8\",\"type\":\"GlyphRenderer\"},{\"attributes\":{\"grid_line_color\":{\"value\":null},\"plot\":{\"id\":\"5b589d99-19d7-488b-a1f9-0b32fb861da1\",\"subtype\":\"Figure\",\"type\":\"Plot\"},\"ticker\":{\"id\":\"3529c5ba-aab1-4329-99ff-3054a09e81ae\",\"type\":\"DatetimeTicker\"}},\"id\":\"2333ac95-7618-4e3b-a300-5b10dbdccf0b\",\"type\":\"Grid\"},{\"attributes\":{\"axis_line_color\":{\"value\":\"white\"},\"formatter\":{\"id\":\"a3387ec5-3bf2-4b61-a30c-d7a613eb76ff\",\"type\":\"BasicTickFormatter\"},\"minor_tick_line_color\":{\"value\":null},\"plot\":{\"id\":\"5b589d99-19d7-488b-a1f9-0b32fb861da1\",\"subtype\":\"Figure\",\"type\":\"Plot\"},\"ticker\":{\"id\":\"778edc0b-4570-4b27-b501-7aeba39cc28b\",\"type\":\"BasicTicker\"}},\"id\":\"aa1d465c-0322-460d-b544-27c954ea0510\",\"type\":\"LinearAxis\"},{\"attributes\":{\"fields\":[\"core services\",\"core goods\",\"shelter\"]},\"id\":\"2bf8741a-41ba-46de-9040-c0b0e8c72223\",\"type\":\"Stack\"},{\"attributes\":{},\"id\":\"778edc0b-4570-4b27-b501-7aeba39cc28b\",\"type\":\"BasicTicker\"},{\"attributes\":{\"data_source\":{\"id\":\"363518f2-f544-4b51-a488-4591adf72789\",\"type\":\"ColumnDataSource\"},\"glyph\":{\"id\":\"3151dee9-7dfd-4a8d-89f2-54708dcfcf49\",\"type\":\"VBar\"},\"hover_glyph\":null,\"muted_glyph\":null,\"nonselection_glyph\":{\"id\":\"ce7462f9-580a-4e9e-a608-92dba85245eb\",\"type\":\"VBar\"},\"selection_glyph\":null,\"view\":{\"id\":\"739c7f1e-d74a-4e9a-be51-3208135303f6\",\"type\":\"CDSView\"}},\"id\":\"9b771360-5feb-4fa9-b520-d3143fbb55c5\",\"type\":\"GlyphRenderer\"},{\"attributes\":{\"dimension\":1,\"plot\":{\"id\":\"5b589d99-19d7-488b-a1f9-0b32fb861da1\",\"subtype\":\"Figure\",\"type\":\"Plot\"},\"ticker\":{\"id\":\"778edc0b-4570-4b27-b501-7aeba39cc28b\",\"type\":\"BasicTicker\"}},\"id\":\"4db666c3-4761-41ff-a01a-54488423c537\",\"type\":\"Grid\"},{\"attributes\":{\"plot\":null,\"text\":\"\"},\"id\":\"05dbe5b3-2a6e-4ab7-b039-9f006da57a7b\",\"type\":\"Title\"},{\"attributes\":{\"bottom\":{\"expr\":{\"id\":\"b8b512b5-cb54-48fb-83d9-9a0175de2661\",\"type\":\"Stack\"}},\"fill_alpha\":{\"value\":0.1},\"fill_color\":{\"value\":\"#1f77b4\"},\"line_alpha\":{\"value\":0.1},\"line_color\":{\"value\":\"#1f77b4\"},\"top\":{\"expr\":{\"id\":\"79b3badd-d37c-4a2c-ab12-002670742c72\",\"type\":\"Stack\"}},\"width\":{\"value\":1921320000.0},\"x\":{\"field\":\"dates\"}},\"id\":\"797dfebe-86a3-433f-9f63-39b2b81d228c\",\"type\":\"VBar\"},{\"attributes\":{\"fields\":[\"core services\",\"core goods\"]},\"id\":\"781dc675-b704-493b-8ffd-0d22f9e4f8f4\",\"type\":\"Stack\"},{\"attributes\":{\"fields\":[\"core services\",\"core goods\",\"shelter\",\"food & energy\"]},\"id\":\"4c9e5fc7-8605-41a3-ba34-bd60f6c35ef5\",\"type\":\"Stack\"},{\"attributes\":{\"bottom\":{\"expr\":{\"id\":\"be5a7d3c-4509-44e7-b6ed-144bd5b68882\",\"type\":\"Stack\"}},\"fill_alpha\":{\"value\":0.1},\"fill_color\":{\"value\":\"#1f77b4\"},\"line_alpha\":{\"value\":0.1},\"line_color\":{\"value\":\"#1f77b4\"},\"top\":{\"expr\":{\"id\":\"816fc8e2-14eb-444d-b4b1-a514aec590ba\",\"type\":\"Stack\"}},\"width\":{\"value\":1921320000.0},\"x\":{\"field\":\"dates\"}},\"id\":\"c109f630-f277-4d21-9f3e-63e35d1b7ea1\",\"type\":\"VBar\"},{\"attributes\":{},\"id\":\"a60c7d8f-f227-4227-beee-b59c5d97c597\",\"type\":\"PanTool\"},{\"attributes\":{},\"id\":\"3c06f736-0981-4285-bd4c-cdc5b9e177ce\",\"type\":\"WheelZoomTool\"},{\"attributes\":{\"overlay\":{\"id\":\"791eaffa-6f6d-4f72-a198-c8f8cb2b6344\",\"type\":\"BoxAnnotation\"}},\"id\":\"a6447aa8-aa87-4a3c-abc3-0bd6000d06bb\",\"type\":\"BoxZoomTool\"},{\"attributes\":{\"label\":{\"value\":\"Core goods\"},\"renderers\":[{\"id\":\"9b771360-5feb-4fa9-b520-d3143fbb55c5\",\"type\":\"GlyphRenderer\"}]},\"id\":\"f0d52d87-b9cf-40d2-a81d-42334a711a6b\",\"type\":\"LegendItem\"},{\"attributes\":{},\"id\":\"b3782c4a-05ca-4406-91f6-2e3c5cc1d2b8\",\"type\":\"ResetTool\"},{\"attributes\":{\"bottom_units\":\"screen\",\"fill_alpha\":{\"value\":0.5},\"fill_color\":{\"value\":\"lightgrey\"},\"left_units\":\"screen\",\"level\":\"overlay\",\"line_alpha\":{\"value\":1.0},\"line_color\":{\"value\":\"black\"},\"line_dash\":[4,4],\"line_width\":{\"value\":2},\"plot\":null,\"render_mode\":\"css\",\"right_units\":\"screen\",\"top_units\":\"screen\"},\"id\":\"791eaffa-6f6d-4f72-a198-c8f8cb2b6344\",\"type\":\"BoxAnnotation\"},{\"attributes\":{\"callback\":null,\"column_names\":[\"core services\",\"core goods\",\"shelter\",\"food & energy\",\"dates\",\"strdate\"],\"data\":{\"core goods\":[-0.16,-0.1,-0.05,-0.04,-0.06,-0.09,-0.1,-0.1,-0.1,-0.14,-0.11,-0.08,-0.02,0,-0.07,-0.1,-0.11,-0.12,-0.12,-0.09,-0.13,-0.11,-0.14,-0.12,-0.05,-0.1,-0.11,-0.12,-0.15,-0.13,-0.12,-0.17,-0.2,-0.19,-0.17,-0.14,-0.13,-0.1,-0.06,-0.07],\"core services\":[0,0,0,0,0,0,0,0,0,0,0,0,0,0,0,0,0,0,0,0,0,0,0,0,0,0,0,0,0,0,0,0,0,0,0,0,0,0,0,0],\"dates\":[1420070400000.0,1422748800000.0,1425168000000.0,1427846400000.0,1430438400000.0,1433116800000.0,1435708800000.0,1438387200000.0,1441065600000.0,1443657600000.0,1446336000000.0,1448928000000.0,1451606400000.0,1454284800000.0,1456790400000.0,1459468800000.0,1462060800000.0,1464739200000.0,1467331200000.0,1470009600000.0,1472688000000.0,1475280000000.0,1477958400000.0,1480550400000.0,1483228800000.0,1485907200000.0,1488326400000.0,1491004800000.0,1493596800000.0,1496275200000.0,1498867200000.0,1501545600000.0,1504224000000.0,1506816000000.0,1509494400000.0,1512086400000.0,1514764800000.0,1517443200000.0,1519862400000.0,1522540800000.0],\"food & energy\":[-1.36,-1.34,-1.44,-1.61,-1.38,-1.25,-1.24,-1.23,-1.52,-1.33,-1.07,-0.91,-0.36,-0.82,-0.88,-0.56,-0.74,-0.76,-0.89,-0.76,-0.27,-0.05,0,0,0,0,0,0,0,0,0,0,0,0,0,0,0,0,0,0],\"shelter\":[0,0,0,0,0,0,0,0,0,0,0,0,0,0,0,0,0,0,0,0,0,0,0,0,0,0,0,0,0,0,0,0,0,0,0,0,0,0,0,0],\"strdate\":[\"Jan 2015\",\"Feb 2015\",\"Mar 2015\",\"Apr 2015\",\"May 2015\",\"Jun 2015\",\"Jul 2015\",\"Aug 2015\",\"Sep 2015\",\"Oct 2015\",\"Nov 2015\",\"Dec 2015\",\"Jan 2016\",\"Feb 2016\",\"Mar 2016\",\"Apr 2016\",\"May 2016\",\"Jun 2016\",\"Jul 2016\",\"Aug 2016\",\"Sep 2016\",\"Oct 2016\",\"Nov 2016\",\"Dec 2016\",\"Jan 2017\",\"Feb 2017\",\"Mar 2017\",\"Apr 2017\",\"May 2017\",\"Jun 2017\",\"Jul 2017\",\"Aug 2017\",\"Sep 2017\",\"Oct 2017\",\"Nov 2017\",\"Dec 2017\",\"Jan 2018\",\"Feb 2018\",\"Mar 2018\",\"Apr 2018\"]},\"selected\":null,\"selection_policy\":null},\"id\":\"e0720990-8336-48ab-a9d5-0c8427495a38\",\"type\":\"ColumnDataSource\"},{\"attributes\":{\"callback\":null,\"column_names\":[\"core services\",\"core goods\",\"shelter\",\"food & energy\",\"dates\",\"strdate\"],\"data\":{\"core goods\":[0,0,0,0,0,0,0,0,0,0,0,0,0,0.01,0,0,0,0,0,0,0,0,0,0,0,0,0,0,0,0,0,0,0,0,0,0,0,0,0,0],\"core services\":[0.49,0.45,0.45,0.47,0.46,0.48,0.49,0.51,0.54,0.59,0.64,0.66,0.68,0.73,0.74,0.73,0.76,0.76,0.76,0.8,0.73,0.64,0.63,0.65,0.67,0.69,0.56,0.47,0.41,0.39,0.41,0.4,0.46,0.52,0.47,0.47,0.5,0.51,0.63,0.64],\"dates\":[1420070400000.0,1422748800000.0,1425168000000.0,1427846400000.0,1430438400000.0,1433116800000.0,1435708800000.0,1438387200000.0,1441065600000.0,1443657600000.0,1446336000000.0,1448928000000.0,1451606400000.0,1454284800000.0,1456790400000.0,1459468800000.0,1462060800000.0,1464739200000.0,1467331200000.0,1470009600000.0,1472688000000.0,1475280000000.0,1477958400000.0,1480550400000.0,1483228800000.0,1485907200000.0,1488326400000.0,1491004800000.0,1493596800000.0,1496275200000.0,1498867200000.0,1501545600000.0,1504224000000.0,1506816000000.0,1509494400000.0,1512086400000.0,1514764800000.0,1517443200000.0,1519862400000.0,1522540800000.0],\"food & energy\":[0,0,0,0,0,0,0,0,0,0,0,0,0,0,0,0,0,0,0,0,0,0,0.03,0.35,0.73,1.01,0.82,0.74,0.53,0.3,0.41,0.64,0.95,0.67,0.89,0.74,0.67,0.79,0.73,0.82],\"shelter\":[0.94,0.96,0.96,0.97,0.94,0.98,1.02,1.01,1.04,1.05,1.05,1.06,1.07,1.09,1.06,1.07,1.13,1.16,1.11,1.15,1.16,1.19,1.21,1.23,1.21,1.21,1.19,1.19,1.15,1.13,1.1,1.15,1.13,1.14,1.11,1.13,1.13,1.11,1.18,1.21],\"strdate\":[\"Jan 2015\",\"Feb 2015\",\"Mar 2015\",\"Apr 2015\",\"May 2015\",\"Jun 2015\",\"Jul 2015\",\"Aug 2015\",\"Sep 2015\",\"Oct 2015\",\"Nov 2015\",\"Dec 2015\",\"Jan 2016\",\"Feb 2016\",\"Mar 2016\",\"Apr 2016\",\"May 2016\",\"Jun 2016\",\"Jul 2016\",\"Aug 2016\",\"Sep 2016\",\"Oct 2016\",\"Nov 2016\",\"Dec 2016\",\"Jan 2017\",\"Feb 2017\",\"Mar 2017\",\"Apr 2017\",\"May 2017\",\"Jun 2017\",\"Jul 2017\",\"Aug 2017\",\"Sep 2017\",\"Oct 2017\",\"Nov 2017\",\"Dec 2017\",\"Jan 2018\",\"Feb 2018\",\"Mar 2018\",\"Apr 2018\"]},\"selected\":null,\"selection_policy\":null},\"id\":\"363518f2-f544-4b51-a488-4591adf72789\",\"type\":\"ColumnDataSource\"},{\"attributes\":{\"fields\":[\"core services\"]},\"id\":\"bb8420e9-0a5e-40c9-8c62-297ff2397e60\",\"type\":\"Stack\"},{\"attributes\":{\"fields\":[\"core services\"]},\"id\":\"79b3badd-d37c-4a2c-ab12-002670742c72\",\"type\":\"Stack\"},{\"attributes\":{\"fields\":[\"core services\",\"core goods\",\"shelter\"]},\"id\":\"e6f591e1-18a6-4be5-a439-5cb93a4a429f\",\"type\":\"Stack\"},{\"attributes\":{\"data_source\":{\"id\":\"4d1e3173-15eb-4cc9-94a5-257a66788007\",\"type\":\"ColumnDataSource\"},\"glyph\":{\"id\":\"7ec2a918-a8ac-4376-9f0f-d448f4dd05d4\",\"type\":\"Line\"},\"hover_glyph\":null,\"muted_glyph\":null,\"nonselection_glyph\":{\"id\":\"87e07573-3018-4c30-ab5e-4f792772e358\",\"type\":\"Line\"},\"selection_glyph\":null,\"view\":{\"id\":\"b6964eed-a503-4a1c-997a-ba78fb329459\",\"type\":\"CDSView\"}},\"id\":\"692446e4-787a-457a-8058-6f8bae725e32\",\"type\":\"GlyphRenderer\"},{\"attributes\":{\"bottom\":{\"expr\":{\"id\":\"8ed59b84-fa96-48fd-93ce-35bbb452fc24\",\"type\":\"Stack\"}},\"fill_color\":{\"value\":\"#00c853\"},\"line_alpha\":{\"value\":0},\"line_color\":{\"value\":\"#00c853\"},\"top\":{\"expr\":{\"id\":\"df2b48c4-885f-4c25-8368-8b3e0adfd030\",\"type\":\"Stack\"}},\"width\":{\"value\":1921320000.0},\"x\":{\"field\":\"dates\"}},\"id\":\"3151dee9-7dfd-4a8d-89f2-54708dcfcf49\",\"type\":\"VBar\"},{\"attributes\":{\"bottom\":{\"expr\":{\"id\":\"9cc7a94d-d0ee-489c-804e-25dfe43d5534\",\"type\":\"Stack\"}},\"fill_color\":{\"value\":\"#304FFE\"},\"line_alpha\":{\"value\":0},\"line_color\":{\"value\":\"#304FFE\"},\"top\":{\"expr\":{\"id\":\"4c9e5fc7-8605-41a3-ba34-bd60f6c35ef5\",\"type\":\"Stack\"}},\"width\":{\"value\":1921320000.0},\"x\":{\"field\":\"dates\"}},\"id\":\"478fefa9-accb-41ae-bac7-f848dcd7aee6\",\"type\":\"VBar\"},{\"attributes\":{\"bottom\":{\"expr\":{\"id\":\"be5a7d3c-4509-44e7-b6ed-144bd5b68882\",\"type\":\"Stack\"}},\"fill_color\":{\"value\":\"#FFEA00\"},\"line_alpha\":{\"value\":0},\"line_color\":{\"value\":\"#FFEA00\"},\"top\":{\"expr\":{\"id\":\"816fc8e2-14eb-444d-b4b1-a514aec590ba\",\"type\":\"Stack\"}},\"width\":{\"value\":1921320000.0},\"x\":{\"field\":\"dates\"}},\"id\":\"f019dc27-55ea-43b6-9af3-11cee770e1cd\",\"type\":\"VBar\"},{\"attributes\":{\"line_alpha\":0.1,\"line_color\":\"#1f77b4\",\"x\":{\"field\":\"date\"},\"y\":{\"field\":\"total\"}},\"id\":\"87e07573-3018-4c30-ab5e-4f792772e358\",\"type\":\"Line\"},{\"attributes\":{\"source\":{\"id\":\"363518f2-f544-4b51-a488-4591adf72789\",\"type\":\"ColumnDataSource\"}},\"id\":\"739c7f1e-d74a-4e9a-be51-3208135303f6\",\"type\":\"CDSView\"},{\"attributes\":{\"bottom\":{\"expr\":{\"id\":\"bb8420e9-0a5e-40c9-8c62-297ff2397e60\",\"type\":\"Stack\"}},\"fill_alpha\":{\"value\":0.1},\"fill_color\":{\"value\":\"#1f77b4\"},\"line_alpha\":{\"value\":0.1},\"line_color\":{\"value\":\"#1f77b4\"},\"top\":{\"expr\":{\"id\":\"781dc675-b704-493b-8ffd-0d22f9e4f8f4\",\"type\":\"Stack\"}},\"width\":{\"value\":1921320000.0},\"x\":{\"field\":\"dates\"}},\"id\":\"6453084f-1bd8-4977-b95b-4e8839818f1d\",\"type\":\"VBar\"},{\"attributes\":{\"bottom\":{\"expr\":{\"id\":\"8ed59b84-fa96-48fd-93ce-35bbb452fc24\",\"type\":\"Stack\"}},\"fill_alpha\":{\"value\":0.1},\"fill_color\":{\"value\":\"#1f77b4\"},\"line_alpha\":{\"value\":0.1},\"line_color\":{\"value\":\"#1f77b4\"},\"top\":{\"expr\":{\"id\":\"df2b48c4-885f-4c25-8368-8b3e0adfd030\",\"type\":\"Stack\"}},\"width\":{\"value\":1921320000.0},\"x\":{\"field\":\"dates\"}},\"id\":\"ce7462f9-580a-4e9e-a608-92dba85245eb\",\"type\":\"VBar\"},{\"attributes\":{\"data_source\":{\"id\":\"e0720990-8336-48ab-a9d5-0c8427495a38\",\"type\":\"ColumnDataSource\"},\"glyph\":{\"id\":\"f019dc27-55ea-43b6-9af3-11cee770e1cd\",\"type\":\"VBar\"},\"hover_glyph\":null,\"muted_glyph\":null,\"nonselection_glyph\":{\"id\":\"c109f630-f277-4d21-9f3e-63e35d1b7ea1\",\"type\":\"VBar\"},\"selection_glyph\":null,\"view\":{\"id\":\"2b6655f2-e761-4931-9f5a-31973c483b46\",\"type\":\"CDSView\"}},\"id\":\"3c37b16c-e67f-42d4-b5d8-e1cdb224af69\",\"type\":\"GlyphRenderer\"},{\"attributes\":{\"line_alpha\":0.0,\"line_color\":\"white\",\"x\":{\"field\":\"date\"},\"y\":{\"field\":\"total\"}},\"id\":\"7ec2a918-a8ac-4376-9f0f-d448f4dd05d4\",\"type\":\"Line\"},{\"attributes\":{\"source\":{\"id\":\"e0720990-8336-48ab-a9d5-0c8427495a38\",\"type\":\"ColumnDataSource\"}},\"id\":\"2b6655f2-e761-4931-9f5a-31973c483b46\",\"type\":\"CDSView\"},{\"attributes\":{\"bottom\":{\"expr\":{\"id\":\"2e0cdb77-e442-4234-aa7e-c44590d074c0\",\"type\":\"Stack\"}},\"fill_color\":{\"value\":\"#80DEEA\"},\"line_alpha\":{\"value\":0},\"line_color\":{\"value\":\"#80DEEA\"},\"top\":{\"expr\":{\"id\":\"9a972948-9a7a-43f9-bccf-4af1916b1336\",\"type\":\"Stack\"}},\"width\":{\"value\":1921320000.0},\"x\":{\"field\":\"dates\"}},\"id\":\"bd65d8f7-b25f-492a-b177-1b7024e93695\",\"type\":\"VBar\"},{\"attributes\":{\"base\":24,\"mantissas\":[1,2,4,6,8,12],\"max_interval\":43200000.0,\"min_interval\":3600000.0,\"num_minor_ticks\":0},\"id\":\"38e09b6e-2d0e-4ed1-85db-9a55ce72dc03\",\"type\":\"AdaptiveTicker\"},{\"attributes\":{\"bottom\":{\"expr\":{\"id\":\"9cc7a94d-d0ee-489c-804e-25dfe43d5534\",\"type\":\"Stack\"}},\"fill_alpha\":{\"value\":0.1},\"fill_color\":{\"value\":\"#1f77b4\"},\"line_alpha\":{\"value\":0.1},\"line_color\":{\"value\":\"#1f77b4\"},\"top\":{\"expr\":{\"id\":\"4c9e5fc7-8605-41a3-ba34-bd60f6c35ef5\",\"type\":\"Stack\"}},\"width\":{\"value\":1921320000.0},\"x\":{\"field\":\"dates\"}},\"id\":\"720a42c8-5f11-4849-a5c3-27dbd5c7c8c8\",\"type\":\"VBar\"},{\"attributes\":{\"data_source\":{\"id\":\"e0720990-8336-48ab-a9d5-0c8427495a38\",\"type\":\"ColumnDataSource\"},\"glyph\":{\"id\":\"5a8e843a-7cac-49f3-8e78-575aac444768\",\"type\":\"VBar\"},\"hover_glyph\":null,\"muted_glyph\":null,\"nonselection_glyph\":{\"id\":\"6453084f-1bd8-4977-b95b-4e8839818f1d\",\"type\":\"VBar\"},\"selection_glyph\":null,\"view\":{\"id\":\"4e4d8059-f1e7-4f8a-ae29-534371601ec0\",\"type\":\"CDSView\"}},\"id\":\"9acffe4b-8f7b-4cec-b8e8-227ba8e4579a\",\"type\":\"GlyphRenderer\"},{\"attributes\":{\"source\":{\"id\":\"e0720990-8336-48ab-a9d5-0c8427495a38\",\"type\":\"ColumnDataSource\"}},\"id\":\"4e4d8059-f1e7-4f8a-ae29-534371601ec0\",\"type\":\"CDSView\"},{\"attributes\":{\"bottom\":{\"expr\":{\"id\":\"2e0cdb77-e442-4234-aa7e-c44590d074c0\",\"type\":\"Stack\"}},\"fill_alpha\":{\"value\":0.1},\"fill_color\":{\"value\":\"#1f77b4\"},\"line_alpha\":{\"value\":0.1},\"line_color\":{\"value\":\"#1f77b4\"},\"top\":{\"expr\":{\"id\":\"9a972948-9a7a-43f9-bccf-4af1916b1336\",\"type\":\"Stack\"}},\"width\":{\"value\":1921320000.0},\"x\":{\"field\":\"dates\"}},\"id\":\"6ac1c20c-58d1-4947-8319-7b620a8d5da0\",\"type\":\"VBar\"},{\"attributes\":{\"callback\":null,\"mode\":\"vline\",\"renderers\":[{\"id\":\"692446e4-787a-457a-8058-6f8bae725e32\",\"type\":\"GlyphRenderer\"}],\"show_arrow\":false,\"tooltips\":\"\\n    <div style=\\\"line-height: 110%;\\\">\\n        <span style=\\\"font-size: 11px; font-style: italic;\\\">@strdate:</span><br>\\n        <span style=\\\"font-size: 10px; padding: 0 5px;\\\">CPI Inflation: </span>\\n        <span style=\\\"font-size: 11px; font-weight: bold;\\\">@total{1.1}%</span><br>\\n        <span style=\\\"font-size: 9px; font-style: italic;\\\">Contribution from:</span><br>\\n        <div style=\\\"text-align: right;\\\">\\n            <span style=\\\"font-size: 10px; padding: 0 5px;\\\">Core services: </span>\\n            <span style=\\\"display: inline-block; font-size: 11px; font-weight: bold; min-width: 26px;\\\">@{core services}{1.1}</span>\\n            <span style=\\\"display: inline-block; color: #FFEA00; width: 8px;\\\">\\u25ae</span><br> \\n            <span style=\\\"font-size: 10px; padding: 0 5px;\\\">Core goods: </span>\\n            <span style=\\\"display: inline-block; font-size: 11px; font-weight: bold; min-width: 26px;\\\">@{core goods}{1.1}</span>\\n            <span style=\\\"display: inline-block; color: #00c853; width: 8px;\\\">\\u25ae</span><br>\\n            <span style=\\\"font-size: 10px; padding: 0 5px;\\\">Shelter: </span>\\n            <span style=\\\"display: inline-block; font-size: 11px; font-weight: bold; min-width: 26px;\\\">@shelter{1.1}</span>\\n            <span style=\\\"display: inline-block; color: #80DEEA; width: 8px;\\\">\\u25ae</span><br>\\n            <span style=\\\"font-size: 10px; padding: 0 5px;\\\">Food & Energy: </span>\\n            <span style=\\\"display: inline-block; font-size: 11px; font-weight: bold; min-width: 26px;\\\">@{food & energy}{1.1}</span>\\n            <span style=\\\"display: inline-block; color: #304FFE; width: 8px;\\\">\\u25ae</span><br>\\n        </div>\\n    </div>\\n\"},\"id\":\"25d952ce-6629-47e1-981f-acd3adec9e29\",\"type\":\"HoverTool\"},{\"attributes\":{\"months\":[0,2,4,6,8,10]},\"id\":\"72feda97-ceed-43a9-b467-aa545f23f738\",\"type\":\"MonthsTicker\"},{\"attributes\":{\"mantissas\":[1,2,5],\"max_interval\":500.0,\"num_minor_ticks\":0},\"id\":\"1301ffe5-8618-444f-adf3-cfb5f50db0cd\",\"type\":\"AdaptiveTicker\"},{\"attributes\":{\"data_source\":{\"id\":\"e0720990-8336-48ab-a9d5-0c8427495a38\",\"type\":\"ColumnDataSource\"},\"glyph\":{\"id\":\"bd65d8f7-b25f-492a-b177-1b7024e93695\",\"type\":\"VBar\"},\"hover_glyph\":null,\"muted_glyph\":null,\"nonselection_glyph\":{\"id\":\"6ac1c20c-58d1-4947-8319-7b620a8d5da0\",\"type\":\"VBar\"},\"selection_glyph\":null,\"view\":{\"id\":\"1b06ef9d-9ab4-4838-836a-08e8d58e978e\",\"type\":\"CDSView\"}},\"id\":\"39305cb3-15c3-4b2a-8fa9-8eeb0e25788c\",\"type\":\"GlyphRenderer\"},{\"attributes\":{\"source\":{\"id\":\"e0720990-8336-48ab-a9d5-0c8427495a38\",\"type\":\"ColumnDataSource\"}},\"id\":\"1b06ef9d-9ab4-4838-836a-08e8d58e978e\",\"type\":\"CDSView\"},{\"attributes\":{\"data_source\":{\"id\":\"363518f2-f544-4b51-a488-4591adf72789\",\"type\":\"ColumnDataSource\"},\"glyph\":{\"id\":\"f1e888be-54cc-44a1-af61-5e8517a18beb\",\"type\":\"VBar\"},\"hover_glyph\":null,\"muted_glyph\":null,\"nonselection_glyph\":{\"id\":\"d4e0f112-34db-40f3-bd50-2a14883a7d9d\",\"type\":\"VBar\"},\"selection_glyph\":null,\"view\":{\"id\":\"5e2bb280-290b-45c2-ac6a-30feec50e758\",\"type\":\"CDSView\"}},\"id\":\"26e291d0-02ec-44b4-843f-074b110c8eac\",\"type\":\"GlyphRenderer\"},{\"attributes\":{},\"id\":\"56429cd8-4f0b-46e9-ab24-75edf16d5182\",\"type\":\"DatetimeTickFormatter\"},{\"attributes\":{\"source\":{\"id\":\"4d1e3173-15eb-4cc9-94a5-257a66788007\",\"type\":\"ColumnDataSource\"}},\"id\":\"b6964eed-a503-4a1c-997a-ba78fb329459\",\"type\":\"CDSView\"},{\"attributes\":{\"fields\":[\"core services\"]},\"id\":\"8ed59b84-fa96-48fd-93ce-35bbb452fc24\",\"type\":\"Stack\"},{\"attributes\":{\"days\":[1,2,3,4,5,6,7,8,9,10,11,12,13,14,15,16,17,18,19,20,21,22,23,24,25,26,27,28,29,30,31]},\"id\":\"2dd0548f-6765-4d8f-bd1c-d59d2936bf6e\",\"type\":\"DaysTicker\"},{\"attributes\":{\"data_source\":{\"id\":\"e0720990-8336-48ab-a9d5-0c8427495a38\",\"type\":\"ColumnDataSource\"},\"glyph\":{\"id\":\"478fefa9-accb-41ae-bac7-f848dcd7aee6\",\"type\":\"VBar\"},\"hover_glyph\":null,\"muted_glyph\":null,\"nonselection_glyph\":{\"id\":\"720a42c8-5f11-4849-a5c3-27dbd5c7c8c8\",\"type\":\"VBar\"},\"selection_glyph\":null,\"view\":{\"id\":\"fcc055ae-2b23-4acd-92c7-ba27c7a9c2c3\",\"type\":\"CDSView\"}},\"id\":\"e9df83b2-558e-4176-bba7-56b5aca2a0b3\",\"type\":\"GlyphRenderer\"},{\"attributes\":{\"source\":{\"id\":\"e0720990-8336-48ab-a9d5-0c8427495a38\",\"type\":\"ColumnDataSource\"}},\"id\":\"fcc055ae-2b23-4acd-92c7-ba27c7a9c2c3\",\"type\":\"CDSView\"},{\"attributes\":{\"base\":60,\"mantissas\":[1,2,5,10,15,20,30],\"max_interval\":1800000.0,\"min_interval\":1000.0,\"num_minor_ticks\":0},\"id\":\"576843a5-82d4-4fbe-babe-12d23764fe6a\",\"type\":\"AdaptiveTicker\"},{\"attributes\":{},\"id\":\"e0da02d0-d663-4b83-a4f1-57fbd6e0cf30\",\"type\":\"YearsTicker\"},{\"attributes\":{\"label\":{\"value\":\"Core services\"},\"renderers\":[{\"id\":\"2e1bccbf-b5ca-4ae6-a61b-fb9c710a68a8\",\"type\":\"GlyphRenderer\"}]},\"id\":\"b3459201-4c7c-4647-a2e4-cafe2999fb87\",\"type\":\"LegendItem\"},{\"attributes\":{\"months\":[0,4,8]},\"id\":\"0f553ce2-e359-44af-947e-280a2e32c92c\",\"type\":\"MonthsTicker\"},{\"attributes\":{\"days\":[1,8,15,22]},\"id\":\"04a7a8f4-6c4f-4d83-ace9-86ae93e980dd\",\"type\":\"DaysTicker\"},{\"attributes\":{\"background_fill_alpha\":{\"value\":0},\"border_line_alpha\":{\"value\":0},\"glyph_height\":16,\"glyph_width\":8,\"items\":[{\"id\":\"b3459201-4c7c-4647-a2e4-cafe2999fb87\",\"type\":\"LegendItem\"},{\"id\":\"f0d52d87-b9cf-40d2-a81d-42334a711a6b\",\"type\":\"LegendItem\"},{\"id\":\"c378406d-b0e9-402d-9932-b6aa9680219e\",\"type\":\"LegendItem\"},{\"id\":\"dd39474c-ae42-4865-ae46-32bc6447f991\",\"type\":\"LegendItem\"}],\"label_standoff\":1,\"label_text_font_size\":{\"value\":\"8.5pt\"},\"location\":\"top_left\",\"margin\":2,\"orientation\":\"horizontal\",\"padding\":0,\"plot\":{\"id\":\"5b589d99-19d7-488b-a1f9-0b32fb861da1\",\"subtype\":\"Figure\",\"type\":\"Plot\"},\"spacing\":5},\"id\":\"f33db7b2-39a2-47ff-8551-c17dbcf66aac\",\"type\":\"Legend\"},{\"attributes\":{\"bottom\":{\"expr\":{\"id\":\"766eae99-4e8e-4575-9929-9779264935a4\",\"type\":\"Stack\"}},\"fill_alpha\":{\"value\":0.1},\"fill_color\":{\"value\":\"#1f77b4\"},\"line_alpha\":{\"value\":0.1},\"line_color\":{\"value\":\"#1f77b4\"},\"top\":{\"expr\":{\"id\":\"2bf8741a-41ba-46de-9040-c0b0e8c72223\",\"type\":\"Stack\"}},\"width\":{\"value\":1921320000.0},\"x\":{\"field\":\"dates\"}},\"id\":\"d4e0f112-34db-40f3-bd50-2a14883a7d9d\",\"type\":\"VBar\"},{\"attributes\":{\"bottom\":{\"expr\":{\"id\":\"b8b512b5-cb54-48fb-83d9-9a0175de2661\",\"type\":\"Stack\"}},\"fill_color\":{\"value\":\"#FFEA00\"},\"line_alpha\":{\"value\":0},\"line_color\":{\"value\":\"#FFEA00\"},\"top\":{\"expr\":{\"id\":\"79b3badd-d37c-4a2c-ab12-002670742c72\",\"type\":\"Stack\"}},\"width\":{\"value\":1921320000.0},\"x\":{\"field\":\"dates\"}},\"id\":\"b57653c7-69a1-464b-b704-b0ea4717c2cc\",\"type\":\"VBar\"},{\"attributes\":{\"days\":[1,15]},\"id\":\"db9b69ab-a080-462f-868e-5b0383176480\",\"type\":\"DaysTicker\"},{\"attributes\":{\"months\":[0,1,2,3,4,5,6,7,8,9,10,11]},\"id\":\"cb64532f-973f-49b2-95a8-b9156f0e992f\",\"type\":\"MonthsTicker\"},{\"attributes\":{\"months\":[0,6]},\"id\":\"6f3b6d4b-c120-4776-9b43-8569929c2324\",\"type\":\"MonthsTicker\"},{\"attributes\":{\"days\":[1,4,7,10,13,16,19,22,25,28]},\"id\":\"4ebbffda-05bd-43dd-ae0a-c2dc5768ebad\",\"type\":\"DaysTicker\"}],\"root_ids\":[\"5b589d99-19d7-488b-a1f9-0b32fb861da1\"]},\"title\":\"Bokeh Application\",\"version\":\"0.12.15\"}};\n",
       "  var render_items = [{\"docid\":\"bba00d4a-8e34-4ca6-adc3-caff19035b40\",\"elementid\":\"391dea83-9e58-45d3-9364-c05b0dbb7d15\",\"modelid\":\"5b589d99-19d7-488b-a1f9-0b32fb861da1\"}];\n",
       "  root.Bokeh.embed.embed_items_notebook(docs_json, render_items);\n",
       "\n",
       "  }\n",
       "  if (root.Bokeh !== undefined) {\n",
       "    embed_document(root);\n",
       "  } else {\n",
       "    var attempts = 0;\n",
       "    var timer = setInterval(function(root) {\n",
       "      if (root.Bokeh !== undefined) {\n",
       "        embed_document(root);\n",
       "        clearInterval(timer);\n",
       "      }\n",
       "      attempts++;\n",
       "      if (attempts > 100) {\n",
       "        console.log(\"Bokeh: ERROR: Unable to run BokehJS code because BokehJS library is missing\")\n",
       "        clearInterval(timer);\n",
       "      }\n",
       "    }, 10, root)\n",
       "  }\n",
       "})(window);"
      ],
      "application/vnd.bokehjs_exec.v0+json": ""
     },
     "metadata": {
      "application/vnd.bokehjs_exec.v0+json": {
       "id": "5b589d99-19d7-488b-a1f9-0b32fb861da1"
      }
     },
     "output_type": "display_data"
    }
   ],
   "source": [
    "# HTML text that shows when hovering\n",
    "tooltips = \"\"\"\n",
    "    <div style=\"line-height: 110%;\">\n",
    "        <span style=\"font-size: 11px; font-style: italic;\">@strdate:</span><br>\n",
    "        <span style=\"font-size: 10px; padding: 0 5px;\">CPI Inflation: </span>\n",
    "        <span style=\"font-size: 11px; font-weight: bold;\">@total{1.1}%</span><br>\n",
    "        <span style=\"font-size: 9px; font-style: italic;\">Contribution from:</span><br>\n",
    "        <div style=\"text-align: right;\">\n",
    "            <span style=\"font-size: 10px; padding: 0 5px;\">Core services: </span>\n",
    "            <span style=\"display: inline-block; font-size: 11px; font-weight: bold; min-width: 26px;\">@{core services}{1.1}</span>\n",
    "            <span style=\"display: inline-block; color: #FFEA00; width: 8px;\">▮</span><br> \n",
    "            <span style=\"font-size: 10px; padding: 0 5px;\">Core goods: </span>\n",
    "            <span style=\"display: inline-block; font-size: 11px; font-weight: bold; min-width: 26px;\">@{core goods}{1.1}</span>\n",
    "            <span style=\"display: inline-block; color: #00c853; width: 8px;\">▮</span><br>\n",
    "            <span style=\"font-size: 10px; padding: 0 5px;\">Shelter: </span>\n",
    "            <span style=\"display: inline-block; font-size: 11px; font-weight: bold; min-width: 26px;\">@shelter{1.1}</span>\n",
    "            <span style=\"display: inline-block; color: #80DEEA; width: 8px;\">▮</span><br>\n",
    "            <span style=\"font-size: 10px; padding: 0 5px;\">Food & Energy: </span>\n",
    "            <span style=\"display: inline-block; font-size: 11px; font-weight: bold; min-width: 26px;\">@{food & energy}{1.1}</span>\n",
    "            <span style=\"display: inline-block; color: #304FFE; width: 8px;\">▮</span><br>\n",
    "        </div>\n",
    "    </div>\n",
    "\"\"\"\n",
    "# Bar width determined by how many bars\n",
    "width = ((d2.index[-1] - d2.index[0]).total_seconds() \n",
    "         * 750.0 / len(d2.index))\n",
    "\n",
    "# horizontal line at zero\n",
    "zero_line = Span(location=0, dimension='width', \n",
    "                 line_color='gray', line_width=1)\n",
    "\n",
    "p = figure(plot_width=700, plot_height=300, \n",
    "           x_axis_type='datetime', \n",
    "           tools=['pan, wheel_zoom, box_zoom, reset'], \n",
    "           logo=None,\n",
    "           toolbar_location=None,  \n",
    "           y_range=Range1d(-2.2, 4.0))\n",
    "p.vbar_stack(col_names, x='dates', width=width, \n",
    "             color=['#FFEA00', '#00c853', '#80DEEA', '#304FFE'], \n",
    "             legend=['Core services', 'Core goods', 'Shelter', 'Food & energy'], \n",
    "             line_alpha=0, source=ColumnDataSource(infl))\n",
    "p.vbar_stack(col_names, x='dates', width=width, \n",
    "             color=['#FFEA00', '#00c853', '#80DEEA', '#304FFE'], \n",
    "             line_alpha=0, source=ColumnDataSource(defl))\n",
    "\n",
    "p.add_layout(zero_line)\n",
    "\n",
    "r1 = p.line('date', 'total', color='white', alpha=0.0, source=ColumnDataSource(d2))\n",
    "\n",
    "p.sizing_mode = 'scale_width'\n",
    "p.xgrid.grid_line_color = None\n",
    "p.outline_line_color = 'white'\n",
    "p.axis.axis_line_color = 'white'\n",
    "p.yaxis.minor_tick_line_color = None\n",
    "p.toolbar.active_drag = None\n",
    "p.legend.orientation = \"horizontal\"\n",
    "p.legend.location = \"top_left\"\n",
    "p.legend.border_line_alpha = 0\n",
    "p.legend.background_fill_alpha = 0\n",
    "p.legend.margin = 2\n",
    "p.legend.padding = 0\n",
    "p.legend.spacing = 5\n",
    "p.legend.label_standoff = 1\n",
    "p.legend.glyph_height = 16\n",
    "p.legend.glyph_width = 8\n",
    "p.legend.label_text_font_size = '8.5pt'\n",
    "\n",
    "p.add_tools(HoverTool(tooltips=tooltips, show_arrow=False, mode='vline',  renderers=[r1]))\n",
    "\n",
    "script, div = components(p)\n",
    "with open('C:/Working/bdecon.github.io/plots/cpi_comp.html', 'w') as text_file:\n",
    "    text_file.write(f'{script} {div}')\n",
    "\n",
    "show(p)"
   ]
  }
 ],
 "metadata": {
  "kernelspec": {
   "display_name": "Python 3",
   "language": "python",
   "name": "python3"
  },
  "language_info": {
   "codemirror_mode": {
    "name": "ipython",
    "version": 3
   },
   "file_extension": ".py",
   "mimetype": "text/x-python",
   "name": "python",
   "nbconvert_exporter": "python",
   "pygments_lexer": "ipython3",
   "version": "3.6.5"
  }
 },
 "nbformat": 4,
 "nbformat_minor": 2
}
