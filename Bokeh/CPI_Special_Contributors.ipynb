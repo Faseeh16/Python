{
 "cells": [
  {
   "cell_type": "markdown",
   "metadata": {
    "ExecuteTime": {
     "end_time": "2018-03-21T16:37:16.108780Z",
     "start_time": "2018-03-21T16:37:16.077537Z"
    }
   },
   "source": [
    "# CPI Special Calculations over time with Python\n",
    "\n",
    "Brian Dew, @bd_econ, Center for Economic and Policy Research\n",
    "\n",
    "March 22, 2018\n",
    "\n",
    "----- \n",
    "Every two years the relative importance of CPI items is updated. I'd like to know how a few special aggregates contribute to inflation (unfortunately not seasonally adjusted), and to do this I need to compensate for the updates. BLS explains how to do this here: https://www.bls.gov/cpi/tables/relative-importance/home.htm\n",
    "\n"
   ]
  },
  {
   "cell_type": "code",
   "execution_count": 1,
   "metadata": {
    "ExecuteTime": {
     "end_time": "2018-03-23T22:44:45.717428Z",
     "start_time": "2018-03-23T22:44:45.312878Z"
    },
    "code_folding": [
     0
    ]
   },
   "outputs": [],
   "source": [
    "# Import preliminaries\n",
    "import pandas as pd\n",
    "import numpy as np\n",
    "import requests\n",
    "import json\n",
    "import config"
   ]
  },
  {
   "cell_type": "markdown",
   "metadata": {},
   "source": [
    "#### Find series ids"
   ]
  },
  {
   "cell_type": "code",
   "execution_count": 2,
   "metadata": {
    "ExecuteTime": {
     "end_time": "2018-03-23T22:44:46.855144Z",
     "start_time": "2018-03-23T22:44:45.718916Z"
    },
    "code_folding": [
     0
    ]
   },
   "outputs": [],
   "source": [
    "# Use BLS Flat Files to find series IDs and series info\n",
    "s_url = 'https://download.bls.gov/pub/time.series/cu/cu.series'\n",
    "s = pd.read_table(s_url, sep='\\t')\n",
    "s2 = s[(s['seasonal'] == 'U') & \n",
    "       (s['base_code'] == 'S') &\n",
    "       (s['area_code'] == '0000') &\n",
    "       (s['periodicity_code'] == 'R')]"
   ]
  },
  {
   "cell_type": "markdown",
   "metadata": {},
   "source": [
    "#### Manually look up the relative importance"
   ]
  },
  {
   "cell_type": "code",
   "execution_count": 3,
   "metadata": {
    "ExecuteTime": {
     "end_time": "2018-03-23T22:44:46.867129Z",
     "start_time": "2018-03-23T22:44:46.856629Z"
    },
    "code_folding": [
     0
    ]
   },
   "outputs": [],
   "source": [
    "# Relative weights for series of interest, from here: \n",
    "# https://www.bls.gov/cpi/tables/relative-importance/home.htm\n",
    "rel_wgt = {'CUUR0000SAF1': [(('2013-12-01', '2015-12-01'), 13.891), \n",
    "                           (('2015-12-01', '2017-12-01'), 14.015), \n",
    "                           (('2017-12-01', '2019-12-01'), 13.384)],\n",
    "           'CUUR0000SA0': [(('2013-12-01', '2015-12-01'), 100.0), \n",
    "                           (('2015-12-01', '2017-12-01'), 100.0), \n",
    "                           (('2017-12-01', '2019-12-01'), 100.0)],\n",
    "           'CUUR0000SA0E': [(('2013-12-01', '2015-12-01'), 9.046), \n",
    "                            (('2015-12-01', '2017-12-01'), 6.816), \n",
    "                            (('2017-12-01', '2019-12-01'), 7.513)],\n",
    "           'CUUR0000SAH1': [(('2013-12-01', '2015-12-01'), 32.029), \n",
    "                            (('2015-12-01', '2017-12-01'), 33.15), \n",
    "                            (('2017-12-01', '2019-12-01'), 32.843)],\n",
    "           'CUUR0000SACL1E': [(('2013-12-01', '2015-12-01'), 19.71), \n",
    "                              (('2015-12-01', '2017-12-01'), 19.613), \n",
    "                              (('2017-12-01', '2019-12-01'), 19.849)],\n",
    "           'CUUR0000SASLE': [(('2013-12-01', '2015-12-01'), 57.353), \n",
    "                             (('2015-12-01', '2017-12-01'), 59.556), \n",
    "                             (('2017-12-01', '2019-12-01'), 59.254)]}"
   ]
  },
  {
   "cell_type": "markdown",
   "metadata": {},
   "source": [
    "#### Location of BLS API and parameters"
   ]
  },
  {
   "cell_type": "code",
   "execution_count": 4,
   "metadata": {
    "ExecuteTime": {
     "end_time": "2018-03-23T22:44:46.894176Z",
     "start_time": "2018-03-23T22:44:46.869632Z"
    },
    "code_folding": [
     0
    ]
   },
   "outputs": [],
   "source": [
    "# API access to Bureau of Labor Statistics data\n",
    "url = 'https://api.bls.gov/publicAPI/v2/timeseries/data/'\n",
    "# API key in config.py which contains: bls_key = 'key'\n",
    "key = '?registrationkey={}'.format(config.bls_key)\n",
    "\n",
    "headers = {'Content-type': 'application/json'}    # Request json fmt\n",
    "param = {\"seriesid\": list(rel_wgt.keys()),           \n",
    "         \"startyear\": \"2013\", \"endyear\": \"2018\"}"
   ]
  },
  {
   "cell_type": "markdown",
   "metadata": {},
   "source": [
    "#### Request data from BLS API "
   ]
  },
  {
   "cell_type": "code",
   "execution_count": 5,
   "metadata": {
    "ExecuteTime": {
     "end_time": "2018-03-23T22:44:47.537877Z",
     "start_time": "2018-03-23T22:44:46.895679Z"
    },
    "code_folding": [
     0
    ]
   },
   "outputs": [
    {
     "name": "stdout",
     "output_type": "stream",
     "text": [
      "Status: REQUEST_SUCCEEDED\n",
      "Latest: February 2018\n"
     ]
    }
   ],
   "source": [
    "# Request all of the series in s\n",
    "p = requests.post(f'{url}{key}', data=json.dumps(param), headers=headers).json()\n",
    "print(f\"Status: {p['status']}\") # Print request status\n",
    "p = p['Results']['series']  # Keep data portion of post results\n",
    "\n",
    "# Use first series to get the datetime values\n",
    "idx = pd.to_datetime([f\"{i['period']} {i['year']}\" for i in p[0]['data']])\n",
    "print(f'Latest: {idx[0]:%B %Y}') # Print latest value"
   ]
  },
  {
   "cell_type": "markdown",
   "metadata": {},
   "source": [
    "#### Store date and value for each series"
   ]
  },
  {
   "cell_type": "code",
   "execution_count": 6,
   "metadata": {
    "ExecuteTime": {
     "end_time": "2018-03-23T22:44:47.559898Z",
     "start_time": "2018-03-23T22:44:47.539389Z"
    },
    "code_folding": [
     0
    ]
   },
   "outputs": [],
   "source": [
    "# Convert API data to datetime date and float value\n",
    "data = {i['seriesID']: \n",
    "        [(pd.to_datetime(f'{r[\"year\"]}-{r[\"period\"][1:]}-01'), float(r['value'])) \n",
    "         for r in i['data']] for i in p}"
   ]
  },
  {
   "cell_type": "markdown",
   "metadata": {},
   "source": [
    "#### Store all the above in dictionary"
   ]
  },
  {
   "cell_type": "code",
   "execution_count": 7,
   "metadata": {
    "ExecuteTime": {
     "end_time": "2018-03-23T22:44:47.587925Z",
     "start_time": "2018-03-23T22:44:47.561900Z"
    },
    "code_folding": [
     0
    ]
   },
   "outputs": [],
   "source": [
    "# Dictionary combining all the info for each series\n",
    "d = {i: {'name': s2[s2['series_id'].str.strip() == i]['series_title'].values[0],\n",
    "         'values': data[i],\n",
    "         'rel_wgt': rel_wgt[i]} for i in list(rel_wgt.keys())}"
   ]
  },
  {
   "cell_type": "markdown",
   "metadata": {},
   "source": [
    "#### Adjust for changes to relative importance"
   ]
  },
  {
   "cell_type": "code",
   "execution_count": 8,
   "metadata": {
    "ExecuteTime": {
     "end_time": "2018-03-23T22:44:47.840802Z",
     "start_time": "2018-03-23T22:44:47.590429Z"
    },
    "code_folding": [
     0
    ]
   },
   "outputs": [],
   "source": [
    "# Adjust for changes to relative importance\n",
    "df1, df2, df3 = pd.DataFrame(), pd.DataFrame(), pd.DataFrame()\n",
    "for i, v in d.items():\n",
    "    start, end = v['rel_wgt'][0][0][0], v['rel_wgt'][0][0][1]\n",
    "    rwc, rwn = v['rel_wgt'][0][1], v['rel_wgt'][1][1]\n",
    "    df1.at[start: end, i] = (pd.DataFrame(v['values'])\n",
    "        .iloc[::-1].set_index(0).loc[start: end][1])\n",
    "    df1[i] = (df1[i].diff().cumsum() / df1.loc[start, i] + 1)\n",
    "    df1.at[start, i] = 1.0\n",
    "    df1[i] = (df1[i] * rwc)\n",
    "    link = (df1.loc[end, i] / rwn)\n",
    "    # Next set of dates\n",
    "    start, end = v['rel_wgt'][1][0][0], v['rel_wgt'][1][0][1]\n",
    "    rwc, rwn = v['rel_wgt'][1][1], v['rel_wgt'][2][1]\n",
    "    df2[i] = (pd.DataFrame(v['values'])\n",
    "        .iloc[::-1].set_index(0).loc[start: end][1])\n",
    "    df2[i] = df2[i].diff().cumsum() / df2.loc[start, i] + 1\n",
    "    df2.at[start, i] = 1.0\n",
    "    #df1.at[start: end, i] = (df1.loc[start: end, i] * rwc)\n",
    "    df2[i] = (df2[i] * rwc) * link\n",
    "    link = (df2.loc[end, i] / rwn)\n",
    "    # Next set of dates\n",
    "    start, end = v['rel_wgt'][2][0][0], v['rel_wgt'][2][0][1]\n",
    "    rwc = v['rel_wgt'][2][1]\n",
    "    df3[i] = (pd.DataFrame(v['values'])\n",
    "        .iloc[::-1].set_index(0).loc[start: end][1])\n",
    "    df3[i] = df3[i].diff().cumsum() / df3.loc[start, i] + 1\n",
    "    df3.at[start, i] = 1.0\n",
    "    df3[i] = (df3[i] * rwc) * link"
   ]
  },
  {
   "cell_type": "markdown",
   "metadata": {},
   "source": [
    "#### Calculate contribution to total"
   ]
  },
  {
   "cell_type": "code",
   "execution_count": 9,
   "metadata": {
    "ExecuteTime": {
     "end_time": "2018-03-23T22:44:47.900375Z",
     "start_time": "2018-03-23T22:44:47.842305Z"
    },
    "code_folding": [
     0
    ]
   },
   "outputs": [],
   "source": [
    "# Calculate exactly what I want to show\n",
    "final = pd.concat([df1, df2, df3])\n",
    "final = final[~final.index.duplicated(keep='first')].diff(12)\n",
    "final['core_services'] = final['CUUR0000SASLE'] - final['CUUR0000SAH1']\n",
    "final['food_energy'] = final['CUUR0000SAF1'] + final['CUUR0000SA0E']\n",
    "final = final.dropna().round(2)\n",
    "d2 = final[['core_services', 'CUUR0000SAH1', 'CUUR0000SACL1E', 'food_energy']].loc['2015-01-01':]\n",
    "col_names = ['core services', 'shelter', 'core goods', 'food & energy']\n",
    "d2.columns = col_names\n",
    "d2['total'] = final['CUUR0000SA0'].loc['2015-01-01':]\n",
    "d2['strdate'] = d2.index.strftime('%B %Y')\n",
    "d2['date'] = d2.index"
   ]
  },
  {
   "cell_type": "markdown",
   "metadata": {},
   "source": [
    "#### Bokeh requires separate positive and negative values"
   ]
  },
  {
   "cell_type": "code",
   "execution_count": 10,
   "metadata": {
    "ExecuteTime": {
     "end_time": "2018-03-23T22:44:47.911371Z",
     "start_time": "2018-03-23T22:44:47.902362Z"
    },
    "code_folding": [
     0
    ]
   },
   "outputs": [],
   "source": [
    "# Split positive and negative values\n",
    "infl = {i :[n if n > -0.0001 else 0 for n in list(d2[i])] for i in col_names}\n",
    "infl['dates'] = list(d2.index)\n",
    "infl['strdate'] = d2.index.strftime('%b %Y')\n",
    "defl = {i :[n  if n < -0.0001 else 0 for n in list(d2[i])] for i in col_names}\n",
    "defl['dates'] = list(d2.index)\n",
    "defl['strdate'] = d2.index.strftime('%b %Y')"
   ]
  },
  {
   "cell_type": "markdown",
   "metadata": {},
   "source": [
    "#### Bokeh settings"
   ]
  },
  {
   "cell_type": "code",
   "execution_count": 11,
   "metadata": {
    "ExecuteTime": {
     "end_time": "2018-03-23T22:44:48.179500Z",
     "start_time": "2018-03-23T22:44:47.913372Z"
    },
    "code_folding": [
     0
    ]
   },
   "outputs": [
    {
     "data": {
      "text/html": [
       "\n",
       "    <div class=\"bk-root\">\n",
       "        <a href=\"https://bokeh.pydata.org\" target=\"_blank\" class=\"bk-logo bk-logo-small bk-logo-notebook\"></a>\n",
       "        <span id=\"f6770a76-7cfb-4589-9ed2-7a276195cc86\">Loading BokehJS ...</span>\n",
       "    </div>"
      ]
     },
     "metadata": {},
     "output_type": "display_data"
    },
    {
     "data": {
      "application/javascript": [
       "\n",
       "(function(root) {\n",
       "  function now() {\n",
       "    return new Date();\n",
       "  }\n",
       "\n",
       "  var force = true;\n",
       "\n",
       "  if (typeof (root._bokeh_onload_callbacks) === \"undefined\" || force === true) {\n",
       "    root._bokeh_onload_callbacks = [];\n",
       "    root._bokeh_is_loading = undefined;\n",
       "  }\n",
       "\n",
       "  var JS_MIME_TYPE = 'application/javascript';\n",
       "  var HTML_MIME_TYPE = 'text/html';\n",
       "  var EXEC_MIME_TYPE = 'application/vnd.bokehjs_exec.v0+json';\n",
       "  var CLASS_NAME = 'output_bokeh rendered_html';\n",
       "\n",
       "  /**\n",
       "   * Render data to the DOM node\n",
       "   */\n",
       "  function render(props, node) {\n",
       "    var script = document.createElement(\"script\");\n",
       "    node.appendChild(script);\n",
       "  }\n",
       "\n",
       "  /**\n",
       "   * Handle when an output is cleared or removed\n",
       "   */\n",
       "  function handleClearOutput(event, handle) {\n",
       "    var cell = handle.cell;\n",
       "\n",
       "    var id = cell.output_area._bokeh_element_id;\n",
       "    var server_id = cell.output_area._bokeh_server_id;\n",
       "    // Clean up Bokeh references\n",
       "    if (id !== undefined) {\n",
       "      Bokeh.index[id].model.document.clear();\n",
       "      delete Bokeh.index[id];\n",
       "    }\n",
       "\n",
       "    if (server_id !== undefined) {\n",
       "      // Clean up Bokeh references\n",
       "      var cmd = \"from bokeh.io.state import curstate; print(curstate().uuid_to_server['\" + server_id + \"'].get_sessions()[0].document.roots[0]._id)\";\n",
       "      cell.notebook.kernel.execute(cmd, {\n",
       "        iopub: {\n",
       "          output: function(msg) {\n",
       "            var element_id = msg.content.text.trim();\n",
       "            Bokeh.index[element_id].model.document.clear();\n",
       "            delete Bokeh.index[element_id];\n",
       "          }\n",
       "        }\n",
       "      });\n",
       "      // Destroy server and session\n",
       "      var cmd = \"import bokeh.io.notebook as ion; ion.destroy_server('\" + server_id + \"')\";\n",
       "      cell.notebook.kernel.execute(cmd);\n",
       "    }\n",
       "  }\n",
       "\n",
       "  /**\n",
       "   * Handle when a new output is added\n",
       "   */\n",
       "  function handleAddOutput(event, handle) {\n",
       "    var output_area = handle.output_area;\n",
       "    var output = handle.output;\n",
       "\n",
       "    // limit handleAddOutput to display_data with EXEC_MIME_TYPE content only\n",
       "    if ((output.output_type != \"display_data\") || (!output.data.hasOwnProperty(EXEC_MIME_TYPE))) {\n",
       "      return\n",
       "    }\n",
       "\n",
       "    var toinsert = output_area.element.find(\".\" + CLASS_NAME.split(' ')[0]);\n",
       "\n",
       "    if (output.metadata[EXEC_MIME_TYPE][\"id\"] !== undefined) {\n",
       "      toinsert[0].firstChild.textContent = output.data[JS_MIME_TYPE];\n",
       "      // store reference to embed id on output_area\n",
       "      output_area._bokeh_element_id = output.metadata[EXEC_MIME_TYPE][\"id\"];\n",
       "    }\n",
       "    if (output.metadata[EXEC_MIME_TYPE][\"server_id\"] !== undefined) {\n",
       "      var bk_div = document.createElement(\"div\");\n",
       "      bk_div.innerHTML = output.data[HTML_MIME_TYPE];\n",
       "      var script_attrs = bk_div.children[0].attributes;\n",
       "      for (var i = 0; i < script_attrs.length; i++) {\n",
       "        toinsert[0].firstChild.setAttribute(script_attrs[i].name, script_attrs[i].value);\n",
       "      }\n",
       "      // store reference to server id on output_area\n",
       "      output_area._bokeh_server_id = output.metadata[EXEC_MIME_TYPE][\"server_id\"];\n",
       "    }\n",
       "  }\n",
       "\n",
       "  function register_renderer(events, OutputArea) {\n",
       "\n",
       "    function append_mime(data, metadata, element) {\n",
       "      // create a DOM node to render to\n",
       "      var toinsert = this.create_output_subarea(\n",
       "        metadata,\n",
       "        CLASS_NAME,\n",
       "        EXEC_MIME_TYPE\n",
       "      );\n",
       "      this.keyboard_manager.register_events(toinsert);\n",
       "      // Render to node\n",
       "      var props = {data: data, metadata: metadata[EXEC_MIME_TYPE]};\n",
       "      render(props, toinsert[0]);\n",
       "      element.append(toinsert);\n",
       "      return toinsert\n",
       "    }\n",
       "\n",
       "    /* Handle when an output is cleared or removed */\n",
       "    events.on('clear_output.CodeCell', handleClearOutput);\n",
       "    events.on('delete.Cell', handleClearOutput);\n",
       "\n",
       "    /* Handle when a new output is added */\n",
       "    events.on('output_added.OutputArea', handleAddOutput);\n",
       "\n",
       "    /**\n",
       "     * Register the mime type and append_mime function with output_area\n",
       "     */\n",
       "    OutputArea.prototype.register_mime_type(EXEC_MIME_TYPE, append_mime, {\n",
       "      /* Is output safe? */\n",
       "      safe: true,\n",
       "      /* Index of renderer in `output_area.display_order` */\n",
       "      index: 0\n",
       "    });\n",
       "  }\n",
       "\n",
       "  // register the mime type if in Jupyter Notebook environment and previously unregistered\n",
       "  if (root.Jupyter !== undefined) {\n",
       "    var events = require('base/js/events');\n",
       "    var OutputArea = require('notebook/js/outputarea').OutputArea;\n",
       "\n",
       "    if (OutputArea.prototype.mime_types().indexOf(EXEC_MIME_TYPE) == -1) {\n",
       "      register_renderer(events, OutputArea);\n",
       "    }\n",
       "  }\n",
       "\n",
       "  \n",
       "  if (typeof (root._bokeh_timeout) === \"undefined\" || force === true) {\n",
       "    root._bokeh_timeout = Date.now() + 5000;\n",
       "    root._bokeh_failed_load = false;\n",
       "  }\n",
       "\n",
       "  var NB_LOAD_WARNING = {'data': {'text/html':\n",
       "     \"<div style='background-color: #fdd'>\\n\"+\n",
       "     \"<p>\\n\"+\n",
       "     \"BokehJS does not appear to have successfully loaded. If loading BokehJS from CDN, this \\n\"+\n",
       "     \"may be due to a slow or bad network connection. Possible fixes:\\n\"+\n",
       "     \"</p>\\n\"+\n",
       "     \"<ul>\\n\"+\n",
       "     \"<li>re-rerun `output_notebook()` to attempt to load from CDN again, or</li>\\n\"+\n",
       "     \"<li>use INLINE resources instead, as so:</li>\\n\"+\n",
       "     \"</ul>\\n\"+\n",
       "     \"<code>\\n\"+\n",
       "     \"from bokeh.resources import INLINE\\n\"+\n",
       "     \"output_notebook(resources=INLINE)\\n\"+\n",
       "     \"</code>\\n\"+\n",
       "     \"</div>\"}};\n",
       "\n",
       "  function display_loaded() {\n",
       "    var el = document.getElementById(\"f6770a76-7cfb-4589-9ed2-7a276195cc86\");\n",
       "    if (el != null) {\n",
       "      el.textContent = \"BokehJS is loading...\";\n",
       "    }\n",
       "    if (root.Bokeh !== undefined) {\n",
       "      if (el != null) {\n",
       "        el.textContent = \"BokehJS \" + root.Bokeh.version + \" successfully loaded.\";\n",
       "      }\n",
       "    } else if (Date.now() < root._bokeh_timeout) {\n",
       "      setTimeout(display_loaded, 100)\n",
       "    }\n",
       "  }\n",
       "\n",
       "\n",
       "  function run_callbacks() {\n",
       "    try {\n",
       "      root._bokeh_onload_callbacks.forEach(function(callback) { callback() });\n",
       "    }\n",
       "    finally {\n",
       "      delete root._bokeh_onload_callbacks\n",
       "    }\n",
       "    console.info(\"Bokeh: all callbacks have finished\");\n",
       "  }\n",
       "\n",
       "  function load_libs(js_urls, callback) {\n",
       "    root._bokeh_onload_callbacks.push(callback);\n",
       "    if (root._bokeh_is_loading > 0) {\n",
       "      console.log(\"Bokeh: BokehJS is being loaded, scheduling callback at\", now());\n",
       "      return null;\n",
       "    }\n",
       "    if (js_urls == null || js_urls.length === 0) {\n",
       "      run_callbacks();\n",
       "      return null;\n",
       "    }\n",
       "    console.log(\"Bokeh: BokehJS not loaded, scheduling load and callback at\", now());\n",
       "    root._bokeh_is_loading = js_urls.length;\n",
       "    for (var i = 0; i < js_urls.length; i++) {\n",
       "      var url = js_urls[i];\n",
       "      var s = document.createElement('script');\n",
       "      s.src = url;\n",
       "      s.async = false;\n",
       "      s.onreadystatechange = s.onload = function() {\n",
       "        root._bokeh_is_loading--;\n",
       "        if (root._bokeh_is_loading === 0) {\n",
       "          console.log(\"Bokeh: all BokehJS libraries loaded\");\n",
       "          run_callbacks()\n",
       "        }\n",
       "      };\n",
       "      s.onerror = function() {\n",
       "        console.warn(\"failed to load library \" + url);\n",
       "      };\n",
       "      console.log(\"Bokeh: injecting script tag for BokehJS library: \", url);\n",
       "      document.getElementsByTagName(\"head\")[0].appendChild(s);\n",
       "    }\n",
       "  };var element = document.getElementById(\"f6770a76-7cfb-4589-9ed2-7a276195cc86\");\n",
       "  if (element == null) {\n",
       "    console.log(\"Bokeh: ERROR: autoload.js configured with elementid 'f6770a76-7cfb-4589-9ed2-7a276195cc86' but no matching script tag was found. \")\n",
       "    return false;\n",
       "  }\n",
       "\n",
       "  var js_urls = [\"https://cdn.pydata.org/bokeh/release/bokeh-0.12.14.min.js\", \"https://cdn.pydata.org/bokeh/release/bokeh-widgets-0.12.14.min.js\", \"https://cdn.pydata.org/bokeh/release/bokeh-tables-0.12.14.min.js\", \"https://cdn.pydata.org/bokeh/release/bokeh-gl-0.12.14.min.js\"];\n",
       "\n",
       "  var inline_js = [\n",
       "    function(Bokeh) {\n",
       "      Bokeh.set_log_level(\"info\");\n",
       "    },\n",
       "    \n",
       "    function(Bokeh) {\n",
       "      \n",
       "    },\n",
       "    function(Bokeh) {\n",
       "      console.log(\"Bokeh: injecting CSS: https://cdn.pydata.org/bokeh/release/bokeh-0.12.14.min.css\");\n",
       "      Bokeh.embed.inject_css(\"https://cdn.pydata.org/bokeh/release/bokeh-0.12.14.min.css\");\n",
       "      console.log(\"Bokeh: injecting CSS: https://cdn.pydata.org/bokeh/release/bokeh-widgets-0.12.14.min.css\");\n",
       "      Bokeh.embed.inject_css(\"https://cdn.pydata.org/bokeh/release/bokeh-widgets-0.12.14.min.css\");\n",
       "      console.log(\"Bokeh: injecting CSS: https://cdn.pydata.org/bokeh/release/bokeh-tables-0.12.14.min.css\");\n",
       "      Bokeh.embed.inject_css(\"https://cdn.pydata.org/bokeh/release/bokeh-tables-0.12.14.min.css\");\n",
       "    }\n",
       "  ];\n",
       "\n",
       "  function run_inline_js() {\n",
       "    \n",
       "    if ((root.Bokeh !== undefined) || (force === true)) {\n",
       "      for (var i = 0; i < inline_js.length; i++) {\n",
       "        inline_js[i].call(root, root.Bokeh);\n",
       "      }if (force === true) {\n",
       "        display_loaded();\n",
       "      }} else if (Date.now() < root._bokeh_timeout) {\n",
       "      setTimeout(run_inline_js, 100);\n",
       "    } else if (!root._bokeh_failed_load) {\n",
       "      console.log(\"Bokeh: BokehJS failed to load within specified timeout.\");\n",
       "      root._bokeh_failed_load = true;\n",
       "    } else if (force !== true) {\n",
       "      var cell = $(document.getElementById(\"f6770a76-7cfb-4589-9ed2-7a276195cc86\")).parents('.cell').data().cell;\n",
       "      cell.output_area.append_execute_result(NB_LOAD_WARNING)\n",
       "    }\n",
       "\n",
       "  }\n",
       "\n",
       "  if (root._bokeh_is_loading === 0) {\n",
       "    console.log(\"Bokeh: BokehJS loaded, going straight to plotting\");\n",
       "    run_inline_js();\n",
       "  } else {\n",
       "    load_libs(js_urls, function() {\n",
       "      console.log(\"Bokeh: BokehJS plotting callback run at\", now());\n",
       "      run_inline_js();\n",
       "    });\n",
       "  }\n",
       "}(window));"
      ],
      "application/vnd.bokehjs_load.v0+json": "\n(function(root) {\n  function now() {\n    return new Date();\n  }\n\n  var force = true;\n\n  if (typeof (root._bokeh_onload_callbacks) === \"undefined\" || force === true) {\n    root._bokeh_onload_callbacks = [];\n    root._bokeh_is_loading = undefined;\n  }\n\n  \n\n  \n  if (typeof (root._bokeh_timeout) === \"undefined\" || force === true) {\n    root._bokeh_timeout = Date.now() + 5000;\n    root._bokeh_failed_load = false;\n  }\n\n  var NB_LOAD_WARNING = {'data': {'text/html':\n     \"<div style='background-color: #fdd'>\\n\"+\n     \"<p>\\n\"+\n     \"BokehJS does not appear to have successfully loaded. If loading BokehJS from CDN, this \\n\"+\n     \"may be due to a slow or bad network connection. Possible fixes:\\n\"+\n     \"</p>\\n\"+\n     \"<ul>\\n\"+\n     \"<li>re-rerun `output_notebook()` to attempt to load from CDN again, or</li>\\n\"+\n     \"<li>use INLINE resources instead, as so:</li>\\n\"+\n     \"</ul>\\n\"+\n     \"<code>\\n\"+\n     \"from bokeh.resources import INLINE\\n\"+\n     \"output_notebook(resources=INLINE)\\n\"+\n     \"</code>\\n\"+\n     \"</div>\"}};\n\n  function display_loaded() {\n    var el = document.getElementById(\"f6770a76-7cfb-4589-9ed2-7a276195cc86\");\n    if (el != null) {\n      el.textContent = \"BokehJS is loading...\";\n    }\n    if (root.Bokeh !== undefined) {\n      if (el != null) {\n        el.textContent = \"BokehJS \" + root.Bokeh.version + \" successfully loaded.\";\n      }\n    } else if (Date.now() < root._bokeh_timeout) {\n      setTimeout(display_loaded, 100)\n    }\n  }\n\n\n  function run_callbacks() {\n    try {\n      root._bokeh_onload_callbacks.forEach(function(callback) { callback() });\n    }\n    finally {\n      delete root._bokeh_onload_callbacks\n    }\n    console.info(\"Bokeh: all callbacks have finished\");\n  }\n\n  function load_libs(js_urls, callback) {\n    root._bokeh_onload_callbacks.push(callback);\n    if (root._bokeh_is_loading > 0) {\n      console.log(\"Bokeh: BokehJS is being loaded, scheduling callback at\", now());\n      return null;\n    }\n    if (js_urls == null || js_urls.length === 0) {\n      run_callbacks();\n      return null;\n    }\n    console.log(\"Bokeh: BokehJS not loaded, scheduling load and callback at\", now());\n    root._bokeh_is_loading = js_urls.length;\n    for (var i = 0; i < js_urls.length; i++) {\n      var url = js_urls[i];\n      var s = document.createElement('script');\n      s.src = url;\n      s.async = false;\n      s.onreadystatechange = s.onload = function() {\n        root._bokeh_is_loading--;\n        if (root._bokeh_is_loading === 0) {\n          console.log(\"Bokeh: all BokehJS libraries loaded\");\n          run_callbacks()\n        }\n      };\n      s.onerror = function() {\n        console.warn(\"failed to load library \" + url);\n      };\n      console.log(\"Bokeh: injecting script tag for BokehJS library: \", url);\n      document.getElementsByTagName(\"head\")[0].appendChild(s);\n    }\n  };var element = document.getElementById(\"f6770a76-7cfb-4589-9ed2-7a276195cc86\");\n  if (element == null) {\n    console.log(\"Bokeh: ERROR: autoload.js configured with elementid 'f6770a76-7cfb-4589-9ed2-7a276195cc86' but no matching script tag was found. \")\n    return false;\n  }\n\n  var js_urls = [\"https://cdn.pydata.org/bokeh/release/bokeh-0.12.14.min.js\", \"https://cdn.pydata.org/bokeh/release/bokeh-widgets-0.12.14.min.js\", \"https://cdn.pydata.org/bokeh/release/bokeh-tables-0.12.14.min.js\", \"https://cdn.pydata.org/bokeh/release/bokeh-gl-0.12.14.min.js\"];\n\n  var inline_js = [\n    function(Bokeh) {\n      Bokeh.set_log_level(\"info\");\n    },\n    \n    function(Bokeh) {\n      \n    },\n    function(Bokeh) {\n      console.log(\"Bokeh: injecting CSS: https://cdn.pydata.org/bokeh/release/bokeh-0.12.14.min.css\");\n      Bokeh.embed.inject_css(\"https://cdn.pydata.org/bokeh/release/bokeh-0.12.14.min.css\");\n      console.log(\"Bokeh: injecting CSS: https://cdn.pydata.org/bokeh/release/bokeh-widgets-0.12.14.min.css\");\n      Bokeh.embed.inject_css(\"https://cdn.pydata.org/bokeh/release/bokeh-widgets-0.12.14.min.css\");\n      console.log(\"Bokeh: injecting CSS: https://cdn.pydata.org/bokeh/release/bokeh-tables-0.12.14.min.css\");\n      Bokeh.embed.inject_css(\"https://cdn.pydata.org/bokeh/release/bokeh-tables-0.12.14.min.css\");\n    }\n  ];\n\n  function run_inline_js() {\n    \n    if ((root.Bokeh !== undefined) || (force === true)) {\n      for (var i = 0; i < inline_js.length; i++) {\n        inline_js[i].call(root, root.Bokeh);\n      }if (force === true) {\n        display_loaded();\n      }} else if (Date.now() < root._bokeh_timeout) {\n      setTimeout(run_inline_js, 100);\n    } else if (!root._bokeh_failed_load) {\n      console.log(\"Bokeh: BokehJS failed to load within specified timeout.\");\n      root._bokeh_failed_load = true;\n    } else if (force !== true) {\n      var cell = $(document.getElementById(\"f6770a76-7cfb-4589-9ed2-7a276195cc86\")).parents('.cell').data().cell;\n      cell.output_area.append_execute_result(NB_LOAD_WARNING)\n    }\n\n  }\n\n  if (root._bokeh_is_loading === 0) {\n    console.log(\"Bokeh: BokehJS loaded, going straight to plotting\");\n    run_inline_js();\n  } else {\n    load_libs(js_urls, function() {\n      console.log(\"Bokeh: BokehJS plotting callback run at\", now());\n      run_inline_js();\n    });\n  }\n}(window));"
     },
     "metadata": {},
     "output_type": "display_data"
    }
   ],
   "source": [
    "# Bokeh settings\n",
    "from bokeh.plotting import figure, show\n",
    "import bokeh.models\n",
    "import bokeh.plotting\n",
    "from bokeh.models import ColumnDataSource, Span, Label, HoverTool, Range1d, CDSView\n",
    "from bokeh.embed import components\n",
    "from bokeh.io import output_notebook\n",
    "output_notebook()"
   ]
  },
  {
   "cell_type": "markdown",
   "metadata": {},
   "source": [
    "#### Plot in bokeh"
   ]
  },
  {
   "cell_type": "code",
   "execution_count": 14,
   "metadata": {
    "ExecuteTime": {
     "end_time": "2018-03-23T22:48:58.809475Z",
     "start_time": "2018-03-23T22:48:58.522194Z"
    },
    "code_folding": [],
    "scrolled": false
   },
   "outputs": [
    {
     "data": {
      "text/html": [
       "\n",
       "<div class=\"bk-root\">\n",
       "    <div class=\"bk-plotdiv\" id=\"a7120274-c226-4469-a92b-dc5f6d8332c8\"></div>\n",
       "</div>"
      ]
     },
     "metadata": {},
     "output_type": "display_data"
    },
    {
     "data": {
      "application/javascript": [
       "(function(root) {\n",
       "  function embed_document(root) {\n",
       "    \n",
       "  var docs_json = {\"044ce361-091a-4aaa-8775-1b1e7656c85f\":{\"roots\":{\"references\":[{\"attributes\":{\"data_source\":{\"id\":\"b12b428f-24ae-4efc-bc8a-6b7adc91cc04\",\"type\":\"ColumnDataSource\"},\"glyph\":{\"id\":\"44adca35-3f20-46f4-96f1-f224b4a540ad\",\"type\":\"VBar\"},\"hover_glyph\":null,\"muted_glyph\":null,\"nonselection_glyph\":{\"id\":\"5b089a6c-c4c6-4914-b808-dbca9f5636be\",\"type\":\"VBar\"},\"selection_glyph\":null,\"view\":{\"id\":\"12edf057-9cd5-46a1-9796-540bedf1a097\",\"type\":\"CDSView\"}},\"id\":\"8428ee14-4168-441e-8cba-9e691c989de6\",\"type\":\"GlyphRenderer\"},{\"attributes\":{},\"id\":\"6a6f97c6-1cf2-4aea-b609-66956d150243\",\"type\":\"BasicTickFormatter\"},{\"attributes\":{\"fields\":[\"core services\",\"shelter\"]},\"id\":\"5ec1a0ef-1752-4816-ac0c-04ea8abe97cd\",\"type\":\"Stack\"},{\"attributes\":{},\"id\":\"d2644aad-b502-4441-be32-00a8aa21f54f\",\"type\":\"PanTool\"},{\"attributes\":{\"bottom_units\":\"screen\",\"fill_alpha\":{\"value\":0.5},\"fill_color\":{\"value\":\"lightgrey\"},\"left_units\":\"screen\",\"level\":\"overlay\",\"line_alpha\":{\"value\":1.0},\"line_color\":{\"value\":\"black\"},\"line_dash\":[4,4],\"line_width\":{\"value\":2},\"plot\":null,\"render_mode\":\"css\",\"right_units\":\"screen\",\"top_units\":\"screen\"},\"id\":\"50e665cc-aa3e-42ce-81fe-c74663f22ff7\",\"type\":\"BoxAnnotation\"},{\"attributes\":{\"source\":{\"id\":\"b12b428f-24ae-4efc-bc8a-6b7adc91cc04\",\"type\":\"ColumnDataSource\"}},\"id\":\"12edf057-9cd5-46a1-9796-540bedf1a097\",\"type\":\"CDSView\"},{\"attributes\":{},\"id\":\"90853bd0-4cd3-4e40-9402-b6a7978e238d\",\"type\":\"WheelZoomTool\"},{\"attributes\":{\"callback\":null,\"mode\":\"vline\",\"renderers\":[{\"id\":\"c9cedf1b-4cf8-4312-b869-df581f90c128\",\"type\":\"GlyphRenderer\"}],\"show_arrow\":false,\"tooltips\":\"\\n    <div style=\\\"line-height: 110%;\\\">\\n        <span style=\\\"font-size: 11px; font-style: italic;\\\">@strdate:</span><br>\\n        <span style=\\\"font-size: 10px; padding: 0 5px;\\\">CPI Inflation: </span>\\n        <span style=\\\"font-size: 11px; font-weight: bold;\\\">@total{1.1}%</span><br>\\n        <span style=\\\"font-size: 9px; font-style: italic;\\\">Contribution from:</span><br>\\n        <div style=\\\"text-align: right;\\\">\\n            <span style=\\\"font-size: 10px; padding: 0 5px;\\\">Core goods: </span>\\n            <span style=\\\"display: inline-block; font-size: 11px; font-weight: bold; min-width: 26px;\\\">@{core goods}{1.1}</span><br> \\n            <span style=\\\"font-size: 10px; padding: 0 5px;\\\">Core services: </span>\\n            <span style=\\\"display: inline-block; font-size: 11px; font-weight: bold; min-width: 26px;\\\">@{core services}{1.1}</span><br> \\n            <span style=\\\"font-size: 10px; padding: 0 5px;\\\">Shelter: </span>\\n            <span style=\\\"display: inline-block; font-size: 11px; font-weight: bold; min-width: 26px;\\\">@shelter{1.1}</span><br> \\n            <span style=\\\"font-size: 10px; padding: 0 5px;\\\">Food & Shelter: </span>\\n            <span style=\\\"display: inline-block; font-size: 11px; font-weight: bold; min-width: 26px;\\\">@{food & energy}{1.1}</span>\\n        </div>\\n    </div>\\n\"},\"id\":\"752289f0-c539-4cb4-8e71-d41b692dd49b\",\"type\":\"HoverTool\"},{\"attributes\":{\"overlay\":{\"id\":\"50e665cc-aa3e-42ce-81fe-c74663f22ff7\",\"type\":\"BoxAnnotation\"}},\"id\":\"097a1027-0879-47aa-88cf-799ca66f3143\",\"type\":\"BoxZoomTool\"},{\"attributes\":{\"bottom\":{\"expr\":{\"id\":\"5fc2cc5d-08be-45fb-a1f0-505a39548c64\",\"type\":\"Stack\"}},\"fill_color\":{\"value\":\"#FFEA00\"},\"line_alpha\":{\"value\":0},\"line_color\":{\"value\":\"#FFEA00\"},\"top\":{\"expr\":{\"id\":\"81134017-8fea-4084-8bc9-70c5e75046e5\",\"type\":\"Stack\"}},\"width\":{\"value\":1921831578.9473684},\"x\":{\"field\":\"dates\"}},\"id\":\"ca5ff4ad-755e-4d8a-831a-2f18434e6117\",\"type\":\"VBar\"},{\"attributes\":{\"fields\":[\"core services\",\"shelter\"]},\"id\":\"be802a05-994b-4ab4-8d6d-076a8c50f2bb\",\"type\":\"Stack\"},{\"attributes\":{\"source\":{\"id\":\"b12b428f-24ae-4efc-bc8a-6b7adc91cc04\",\"type\":\"ColumnDataSource\"}},\"id\":\"14a4a9e7-493d-463f-979a-301fe8f2d9e1\",\"type\":\"CDSView\"},{\"attributes\":{\"fields\":[\"core services\",\"shelter\",\"core goods\"]},\"id\":\"cca8a1ae-4958-44b4-8ac6-e27342a18e16\",\"type\":\"Stack\"},{\"attributes\":{\"data_source\":{\"id\":\"b12b428f-24ae-4efc-bc8a-6b7adc91cc04\",\"type\":\"ColumnDataSource\"},\"glyph\":{\"id\":\"30c29396-65c7-4a3e-9023-7297032119ac\",\"type\":\"VBar\"},\"hover_glyph\":null,\"muted_glyph\":null,\"nonselection_glyph\":{\"id\":\"3957b9ba-5fb8-4a8e-a7d4-f9b3abc692d3\",\"type\":\"VBar\"},\"selection_glyph\":null,\"view\":{\"id\":\"2fa62ce8-8310-4a6d-a041-fe5e94229c8e\",\"type\":\"CDSView\"}},\"id\":\"7257abad-ef99-40d0-b742-2c91301a842d\",\"type\":\"GlyphRenderer\"},{\"attributes\":{\"source\":{\"id\":\"e0345e81-97d4-4aea-b6c5-1111f45196d3\",\"type\":\"ColumnDataSource\"}},\"id\":\"dd95e1f2-0f75-4111-ba59-9a6789450474\",\"type\":\"CDSView\"},{\"attributes\":{\"bottom\":{\"expr\":{\"id\":\"cca8a1ae-4958-44b4-8ac6-e27342a18e16\",\"type\":\"Stack\"}},\"fill_color\":{\"value\":\"#304FFE\"},\"line_alpha\":{\"value\":0},\"line_color\":{\"value\":\"#304FFE\"},\"top\":{\"expr\":{\"id\":\"8402826a-bc84-4852-981f-ae0a7ca79807\",\"type\":\"Stack\"}},\"width\":{\"value\":1921831578.9473684},\"x\":{\"field\":\"dates\"}},\"id\":\"4c65b3b2-1b61-4454-ac19-c85a8c89b457\",\"type\":\"VBar\"},{\"attributes\":{\"bottom\":{\"expr\":{\"id\":\"b3c12137-b842-4cb9-9645-bc8c13d1f1f4\",\"type\":\"Stack\"}},\"fill_alpha\":{\"value\":0.1},\"fill_color\":{\"value\":\"#1f77b4\"},\"line_alpha\":{\"value\":0.1},\"line_color\":{\"value\":\"#1f77b4\"},\"top\":{\"expr\":{\"id\":\"6079f8a9-8848-46a9-8b46-a7ae3dd9240a\",\"type\":\"Stack\"}},\"width\":{\"value\":1921831578.9473684},\"x\":{\"field\":\"dates\"}},\"id\":\"3957b9ba-5fb8-4a8e-a7d4-f9b3abc692d3\",\"type\":\"VBar\"},{\"attributes\":{\"fields\":[\"core services\",\"shelter\",\"core goods\",\"food & energy\"]},\"id\":\"8402826a-bc84-4852-981f-ae0a7ca79807\",\"type\":\"Stack\"},{\"attributes\":{\"label\":{\"value\":\"Core services\"},\"renderers\":[{\"id\":\"62682496-4822-4477-9e57-002f671828b7\",\"type\":\"GlyphRenderer\"}]},\"id\":\"ae40e81a-894e-488f-bae9-d4b4b0831e6f\",\"type\":\"LegendItem\"},{\"attributes\":{\"bottom\":{\"expr\":{\"id\":\"5fc2cc5d-08be-45fb-a1f0-505a39548c64\",\"type\":\"Stack\"}},\"fill_alpha\":{\"value\":0.1},\"fill_color\":{\"value\":\"#1f77b4\"},\"line_alpha\":{\"value\":0.1},\"line_color\":{\"value\":\"#1f77b4\"},\"top\":{\"expr\":{\"id\":\"81134017-8fea-4084-8bc9-70c5e75046e5\",\"type\":\"Stack\"}},\"width\":{\"value\":1921831578.9473684},\"x\":{\"field\":\"dates\"}},\"id\":\"abaee668-d3c7-4062-809c-4b6b3e1830af\",\"type\":\"VBar\"},{\"attributes\":{\"bottom\":{\"expr\":{\"id\":\"be802a05-994b-4ab4-8d6d-076a8c50f2bb\",\"type\":\"Stack\"}},\"fill_alpha\":{\"value\":0.1},\"fill_color\":{\"value\":\"#1f77b4\"},\"line_alpha\":{\"value\":0.1},\"line_color\":{\"value\":\"#1f77b4\"},\"top\":{\"expr\":{\"id\":\"d514b056-2bfc-4c92-90f4-6732b9d2862f\",\"type\":\"Stack\"}},\"width\":{\"value\":1921831578.9473684},\"x\":{\"field\":\"dates\"}},\"id\":\"1b23b4d3-6f45-4a8c-9bcf-6579e2264898\",\"type\":\"VBar\"},{\"attributes\":{\"grid_line_color\":{\"value\":null},\"plot\":{\"id\":\"14a90716-fcc5-42d9-a106-b5e6aa10002f\",\"subtype\":\"Figure\",\"type\":\"Plot\"},\"ticker\":{\"id\":\"2fa37cda-1168-4eed-9b7c-ee1474f924d1\",\"type\":\"DatetimeTicker\"}},\"id\":\"14539877-9bee-4586-ba64-8ee60b6ad403\",\"type\":\"Grid\"},{\"attributes\":{\"fields\":[]},\"id\":\"11d70b9c-7a2e-41f9-9ac3-683d8cce8f1f\",\"type\":\"Stack\"},{\"attributes\":{\"bottom\":{\"expr\":{\"id\":\"e49dfe46-d590-4521-a294-aa3a1780fda1\",\"type\":\"Stack\"}},\"fill_alpha\":{\"value\":0.1},\"fill_color\":{\"value\":\"#1f77b4\"},\"line_alpha\":{\"value\":0.1},\"line_color\":{\"value\":\"#1f77b4\"},\"top\":{\"expr\":{\"id\":\"5ec1a0ef-1752-4816-ac0c-04ea8abe97cd\",\"type\":\"Stack\"}},\"width\":{\"value\":1921831578.9473684},\"x\":{\"field\":\"dates\"}},\"id\":\"1d3bb081-d38b-4728-81f4-fe9f6b6d1af5\",\"type\":\"VBar\"},{\"attributes\":{\"source\":{\"id\":\"e0345e81-97d4-4aea-b6c5-1111f45196d3\",\"type\":\"ColumnDataSource\"}},\"id\":\"46257bb6-349c-4033-87fc-0b42e266da42\",\"type\":\"CDSView\"},{\"attributes\":{\"callback\":null,\"column_names\":[\"core services\",\"shelter\",\"core goods\",\"food & energy\",\"total\",\"strdate\",\"date\",\"index\"],\"data\":{\"core goods\":{\"__ndarray__\":\"exSuR+F6xL+amZmZmZm5v5qZmZmZmam/exSuR+F6pL+4HoXrUbiuvwrXo3A9Cre/mpmZmZmZub+amZmZmZm5v5qZmZmZmbm/7FG4HoXrwb8pXI/C9Si8v3sUrkfherS/exSuR+F6lL97FK5H4XqEP+xRuB6F67G/mpmZmZmZub8pXI/C9Si8v7gehetRuL6/uB6F61G4vr8K16NwPQq3v6RwPQrXo8C/KVyPwvUovL/sUbgehevBv7gehetRuL6/mpmZmZmZqb+amZmZmZm5vylcj8L1KLy/uB6F61G4vr8zMzMzMzPDv6RwPQrXo8C/uB6F61G4vr/D9Shcj8LFv5qZmZmZmcm/UrgehetRyL/D9Shcj8LFv+xRuB6F68G/pHA9CtejwL+amZmZmZm5vw==\",\"dtype\":\"float64\",\"shape\":[38]},\"core services\":{\"__ndarray__\":\"XI/C9Shc3z/NzMzMzMzcP83MzMzMzNw/FK5H4XoU3j9xPQrXo3DdP7gehetRuN4/XI/C9Shc3z9SuB6F61HgP0jhehSuR+E/4XoUrkfh4j97FK5H4XrkPx+F61G4HuU/w/UoXI/C5T9cj8L1KFznP65H4XoUruc/XI/C9Shc5z9SuB6F61HoP1K4HoXrUeg/UrgehetR6D+amZmZmZnpP1yPwvUoXOc/exSuR+F65D8pXI/C9SjkP83MzMzMzOQ/cT0K16Nw5T8UrkfhehTmP+xRuB6F6+E/FK5H4XoU3j89CtejcD3aP/YoXI/C9dg/PQrXo3A92j+amZmZmZnZP3E9CtejcN0/pHA9Ctej4D8UrkfhehTePxSuR+F6FN4/AAAAAAAA4D9SuB6F61HgPw==\",\"dtype\":\"float64\",\"shape\":[38]},\"date\":{\"__ndarray__\":\"AAAAqyyqdEIAAED9JrR0QgAAQB4qvXRCAACAcCTHdEIAAABdzNB0QgAAQK/G2nRCAADAm27kdEIAAADuaO50QgAAQEBj+HRCAADALAsCdUIAAAB/BQx1QgAAgGutFXVCAADAvacfdUIAAAAQoil1QgAAwJb3MnVCAAAA6fE8dUIAAIDVmUZ1QgAAwCeUUHVCAABAFDxadUIAAIBmNmR1QgAAwLgwbnVCAABApdh3dUIAAID30oF1QgAAAOR6i3VCAABANnWVdUIAAICIb591QgAAgKlyqHVCAADA+2yydUIAAEDoFLx1QgAAgDoPxnVCAAAAJ7fPdUIAAEB5sdl1QgAAgMur43VCAAAAuFPtdUIAAEAKTvd1QgAAwPb1AHZCAAAASfAKdkIAAECb6hR2Qg==\",\"dtype\":\"float64\",\"shape\":[38]},\"food & energy\":{\"__ndarray__\":\"w/UoXI/C9b9xPQrXo3D1vwrXo3A9Cve/w/UoXI/C+b8UrkfhehT2vwAAAAAAAPS/16NwPQrX87+uR+F6FK7zv1K4HoXrUfi/SOF6FK5H9b8fhetRuB7xvx+F61G4Hu2/CtejcD0K1789CtejcD3qvylcj8L1KOy/7FG4HoXr4b+uR+F6FK7nv1K4HoXrUei/exSuR+F67L9SuB6F61Hov0jhehSuR9G/mpmZmZmZqb+4HoXrUbieP2ZmZmZmZtY/XI/C9Shc5z8pXI/C9SjwPz0K16NwPeo/rkfhehSu5z/2KFyPwvXgPzMzMzMzM9M/PQrXo3A92j97FK5H4XrkP2ZmZmZmZu4/cT0K16Nw5T97FK5H4XrsP65H4XoUruc/cT0K16Nw5T9I4XoUrkfpPw==\",\"dtype\":\"float64\",\"shape\":[38]},\"index\":{\"__ndarray__\":\"AAAAqyyqdEIAAED9JrR0QgAAQB4qvXRCAACAcCTHdEIAAABdzNB0QgAAQK/G2nRCAADAm27kdEIAAADuaO50QgAAQEBj+HRCAADALAsCdUIAAAB/BQx1QgAAgGutFXVCAADAvacfdUIAAAAQoil1QgAAwJb3MnVCAAAA6fE8dUIAAIDVmUZ1QgAAwCeUUHVCAABAFDxadUIAAIBmNmR1QgAAwLgwbnVCAABApdh3dUIAAID30oF1QgAAAOR6i3VCAABANnWVdUIAAICIb591QgAAgKlyqHVCAADA+2yydUIAAEDoFLx1QgAAgDoPxnVCAAAAJ7fPdUIAAEB5sdl1QgAAgMur43VCAAAAuFPtdUIAAEAKTvd1QgAAwPb1AHZCAAAASfAKdkIAAECb6hR2Qg==\",\"dtype\":\"float64\",\"shape\":[38]},\"shelter\":{\"__ndarray__\":\"FK5H4XoU7j+4HoXrUbjuP7gehetRuO4/CtejcD0K7z8UrkfhehTuP1yPwvUoXO8/UrgehetR8D8pXI/C9SjwP6RwPQrXo/A/zczMzMzM8D/NzMzMzMzwP/YoXI/C9fA/H4XrUbge8T9xPQrXo3DxP/YoXI/C9fA/H4XrUbge8T8UrkfhehTyP4/C9Shcj/I/w/UoXI/C8T9mZmZmZmbyP4/C9Shcj/I/CtejcD0K8z9cj8L1KFzzP65H4XoUrvM/XI/C9Shc8z9cj8L1KFzzPwrXo3A9CvM/CtejcD0K8z9mZmZmZmbyPxSuR+F6FPI/mpmZmZmZ8T9mZmZmZmbyPxSuR+F6FPI/PQrXo3A98j/D9Shcj8LxPxSuR+F6FPI/FK5H4XoU8j/D9Shcj8LxPw==\",\"dtype\":\"float64\",\"shape\":[38]},\"strdate\":[\"January 2015\",\"February 2015\",\"March 2015\",\"April 2015\",\"May 2015\",\"June 2015\",\"July 2015\",\"August 2015\",\"September 2015\",\"October 2015\",\"November 2015\",\"December 2015\",\"January 2016\",\"February 2016\",\"March 2016\",\"April 2016\",\"May 2016\",\"June 2016\",\"July 2016\",\"August 2016\",\"September 2016\",\"October 2016\",\"November 2016\",\"December 2016\",\"January 2017\",\"February 2017\",\"March 2017\",\"April 2017\",\"May 2017\",\"June 2017\",\"July 2017\",\"August 2017\",\"September 2017\",\"October 2017\",\"November 2017\",\"December 2017\",\"January 2018\",\"February 2018\"],\"total\":{\"__ndarray__\":\"CtejcD0Kt7+4HoXrUbiev+xRuB6F67G/mpmZmZmZyb97FK5H4Xqkv6RwPQrXo8A/w/UoXI/CxT+amZmZmZnJP3sUrkfheqS/w/UoXI/CxT9SuB6F61HgP65H4XoUruc/FK5H4XoU9j97FK5H4XrwP4XrUbgehes/PQrXo3A98j+kcD0K16PwP1K4HoXrUfA/MzMzMzMz6z9xPQrXo3DxP9ejcD0K1/c/uB6F61G4+j+F61G4HoX7P+F6FK5H4QBAUrgehetRBEBSuB6F61EGQHE9CtejcANAFK5H4XoUAkDhehSuR+H+PwrXo3A9Cvs/exSuR+F6/D8AAAAAAAAAQHsUrkfhegJA9ihcj8L1AEA9CtejcD0CQHE9CtejcAFASOF6FK5HAUB7FK5H4XoCQA==\",\"dtype\":\"float64\",\"shape\":[38]}}},\"id\":\"72ef64b3-3e73-4efd-a52a-74f3a162c798\",\"type\":\"ColumnDataSource\"},{\"attributes\":{\"fields\":[\"core services\"]},\"id\":\"d9794a42-b483-4ed6-b827-37c4aef1c004\",\"type\":\"Stack\"},{\"attributes\":{\"data_source\":{\"id\":\"e0345e81-97d4-4aea-b6c5-1111f45196d3\",\"type\":\"ColumnDataSource\"},\"glyph\":{\"id\":\"0f44ced5-2077-4a7f-90d9-8fabe0930310\",\"type\":\"VBar\"},\"hover_glyph\":null,\"muted_glyph\":null,\"nonselection_glyph\":{\"id\":\"1b23b4d3-6f45-4a8c-9bcf-6579e2264898\",\"type\":\"VBar\"},\"selection_glyph\":null,\"view\":{\"id\":\"46257bb6-349c-4033-87fc-0b42e266da42\",\"type\":\"CDSView\"}},\"id\":\"f5d8ebef-1361-4893-890a-a74b29b2f0d4\",\"type\":\"GlyphRenderer\"},{\"attributes\":{\"bottom\":{\"expr\":{\"id\":\"11d70b9c-7a2e-41f9-9ac3-683d8cce8f1f\",\"type\":\"Stack\"}},\"fill_alpha\":{\"value\":0.1},\"fill_color\":{\"value\":\"#1f77b4\"},\"line_alpha\":{\"value\":0.1},\"line_color\":{\"value\":\"#1f77b4\"},\"top\":{\"expr\":{\"id\":\"d9794a42-b483-4ed6-b827-37c4aef1c004\",\"type\":\"Stack\"}},\"width\":{\"value\":1921831578.9473684},\"x\":{\"field\":\"dates\"}},\"id\":\"dd0d7a82-539e-4cf1-9608-b9a74c6bbc31\",\"type\":\"VBar\"},{\"attributes\":{\"fields\":[\"core services\",\"shelter\"]},\"id\":\"b3c12137-b842-4cb9-9645-bc8c13d1f1f4\",\"type\":\"Stack\"},{\"attributes\":{\"fields\":[\"core services\"]},\"id\":\"e49dfe46-d590-4521-a294-aa3a1780fda1\",\"type\":\"Stack\"},{\"attributes\":{\"fields\":[\"core services\",\"shelter\"]},\"id\":\"2c236e9a-bdd6-4831-8814-823456eb9b5d\",\"type\":\"Stack\"},{\"attributes\":{\"data_source\":{\"id\":\"e0345e81-97d4-4aea-b6c5-1111f45196d3\",\"type\":\"ColumnDataSource\"},\"glyph\":{\"id\":\"eab0a254-e331-496f-86cd-98bda2b81c38\",\"type\":\"VBar\"},\"hover_glyph\":null,\"muted_glyph\":null,\"nonselection_glyph\":{\"id\":\"1d3bb081-d38b-4728-81f4-fe9f6b6d1af5\",\"type\":\"VBar\"},\"selection_glyph\":null,\"view\":{\"id\":\"db8cefb9-ad45-45cb-a197-f6e36fb0670b\",\"type\":\"CDSView\"}},\"id\":\"7f219308-4f22-404e-a4d8-5c20ad7c6ce7\",\"type\":\"GlyphRenderer\"},{\"attributes\":{\"fields\":[\"core services\",\"shelter\",\"core goods\"]},\"id\":\"0ca41fd1-5585-491d-80a0-eb5e0ac543fc\",\"type\":\"Stack\"},{\"attributes\":{\"source\":{\"id\":\"e0345e81-97d4-4aea-b6c5-1111f45196d3\",\"type\":\"ColumnDataSource\"}},\"id\":\"db8cefb9-ad45-45cb-a197-f6e36fb0670b\",\"type\":\"CDSView\"},{\"attributes\":{\"bottom\":{\"expr\":{\"id\":\"de86df06-18d0-4938-bf1b-e2e0e8b14f52\",\"type\":\"Stack\"}},\"fill_color\":{\"value\":\"#80DEEA\"},\"line_alpha\":{\"value\":0},\"line_color\":{\"value\":\"#80DEEA\"},\"top\":{\"expr\":{\"id\":\"2c236e9a-bdd6-4831-8814-823456eb9b5d\",\"type\":\"Stack\"}},\"width\":{\"value\":1921831578.9473684},\"x\":{\"field\":\"dates\"}},\"id\":\"44adca35-3f20-46f4-96f1-f224b4a540ad\",\"type\":\"VBar\"},{\"attributes\":{\"bottom\":{\"expr\":{\"id\":\"cca8a1ae-4958-44b4-8ac6-e27342a18e16\",\"type\":\"Stack\"}},\"fill_alpha\":{\"value\":0.1},\"fill_color\":{\"value\":\"#1f77b4\"},\"line_alpha\":{\"value\":0.1},\"line_color\":{\"value\":\"#1f77b4\"},\"top\":{\"expr\":{\"id\":\"8402826a-bc84-4852-981f-ae0a7ca79807\",\"type\":\"Stack\"}},\"width\":{\"value\":1921831578.9473684},\"x\":{\"field\":\"dates\"}},\"id\":\"18e93174-5c37-4c3b-aac9-a9f77d2e4b6a\",\"type\":\"VBar\"},{\"attributes\":{\"fields\":[\"core services\",\"shelter\",\"core goods\",\"food & energy\"]},\"id\":\"a5f10cf9-8d70-403e-a104-a39fe515719d\",\"type\":\"Stack\"},{\"attributes\":{\"data_source\":{\"id\":\"e0345e81-97d4-4aea-b6c5-1111f45196d3\",\"type\":\"ColumnDataSource\"},\"glyph\":{\"id\":\"4c65b3b2-1b61-4454-ac19-c85a8c89b457\",\"type\":\"VBar\"},\"hover_glyph\":null,\"muted_glyph\":null,\"nonselection_glyph\":{\"id\":\"18e93174-5c37-4c3b-aac9-a9f77d2e4b6a\",\"type\":\"VBar\"},\"selection_glyph\":null,\"view\":{\"id\":\"dd95e1f2-0f75-4111-ba59-9a6789450474\",\"type\":\"CDSView\"}},\"id\":\"68317edc-e128-4359-998b-6385efe250f1\",\"type\":\"GlyphRenderer\"},{\"attributes\":{\"label\":{\"value\":\"Core goods\"},\"renderers\":[{\"id\":\"f5d8ebef-1361-4893-890a-a74b29b2f0d4\",\"type\":\"GlyphRenderer\"}]},\"id\":\"bd57259c-af37-405a-9eb5-21b417f2e347\",\"type\":\"LegendItem\"},{\"attributes\":{\"bottom\":{\"expr\":{\"id\":\"11d70b9c-7a2e-41f9-9ac3-683d8cce8f1f\",\"type\":\"Stack\"}},\"fill_color\":{\"value\":\"#FFEA00\"},\"line_alpha\":{\"value\":0},\"line_color\":{\"value\":\"#FFEA00\"},\"top\":{\"expr\":{\"id\":\"d9794a42-b483-4ed6-b827-37c4aef1c004\",\"type\":\"Stack\"}},\"width\":{\"value\":1921831578.9473684},\"x\":{\"field\":\"dates\"}},\"id\":\"80914e73-2c51-46b0-bc74-01d3e30bd03f\",\"type\":\"VBar\"},{\"attributes\":{\"bottom\":{\"expr\":{\"id\":\"0ca41fd1-5585-491d-80a0-eb5e0ac543fc\",\"type\":\"Stack\"}},\"fill_color\":{\"value\":\"#304FFE\"},\"line_alpha\":{\"value\":0},\"line_color\":{\"value\":\"#304FFE\"},\"top\":{\"expr\":{\"id\":\"a5f10cf9-8d70-403e-a104-a39fe515719d\",\"type\":\"Stack\"}},\"width\":{\"value\":1921831578.9473684},\"x\":{\"field\":\"dates\"}},\"id\":\"d6a1dfe7-2b1f-480d-a807-d18b3b0bd032\",\"type\":\"VBar\"},{\"attributes\":{\"fields\":[\"core services\",\"shelter\",\"core goods\"]},\"id\":\"6079f8a9-8848-46a9-8b46-a7ae3dd9240a\",\"type\":\"Stack\"},{\"attributes\":{\"label\":{\"value\":\"Shelter\"},\"renderers\":[{\"id\":\"7f219308-4f22-404e-a4d8-5c20ad7c6ce7\",\"type\":\"GlyphRenderer\"}]},\"id\":\"3fd7f0b0-ab25-4c64-93ea-9086f07231d4\",\"type\":\"LegendItem\"},{\"attributes\":{\"bottom\":{\"expr\":{\"id\":\"e49dfe46-d590-4521-a294-aa3a1780fda1\",\"type\":\"Stack\"}},\"fill_color\":{\"value\":\"#80DEEA\"},\"line_alpha\":{\"value\":0},\"line_color\":{\"value\":\"#80DEEA\"},\"top\":{\"expr\":{\"id\":\"5ec1a0ef-1752-4816-ac0c-04ea8abe97cd\",\"type\":\"Stack\"}},\"width\":{\"value\":1921831578.9473684},\"x\":{\"field\":\"dates\"}},\"id\":\"eab0a254-e331-496f-86cd-98bda2b81c38\",\"type\":\"VBar\"},{\"attributes\":{\"bottom\":{\"expr\":{\"id\":\"b3c12137-b842-4cb9-9645-bc8c13d1f1f4\",\"type\":\"Stack\"}},\"fill_color\":{\"value\":\"#00c853\"},\"line_alpha\":{\"value\":0},\"line_color\":{\"value\":\"#00c853\"},\"top\":{\"expr\":{\"id\":\"6079f8a9-8848-46a9-8b46-a7ae3dd9240a\",\"type\":\"Stack\"}},\"width\":{\"value\":1921831578.9473684},\"x\":{\"field\":\"dates\"}},\"id\":\"30c29396-65c7-4a3e-9023-7297032119ac\",\"type\":\"VBar\"},{\"attributes\":{\"bottom\":{\"expr\":{\"id\":\"de86df06-18d0-4938-bf1b-e2e0e8b14f52\",\"type\":\"Stack\"}},\"fill_alpha\":{\"value\":0.1},\"fill_color\":{\"value\":\"#1f77b4\"},\"line_alpha\":{\"value\":0.1},\"line_color\":{\"value\":\"#1f77b4\"},\"top\":{\"expr\":{\"id\":\"2c236e9a-bdd6-4831-8814-823456eb9b5d\",\"type\":\"Stack\"}},\"width\":{\"value\":1921831578.9473684},\"x\":{\"field\":\"dates\"}},\"id\":\"5b089a6c-c4c6-4914-b808-dbca9f5636be\",\"type\":\"VBar\"},{\"attributes\":{\"bottom\":{\"expr\":{\"id\":\"be802a05-994b-4ab4-8d6d-076a8c50f2bb\",\"type\":\"Stack\"}},\"fill_color\":{\"value\":\"#00c853\"},\"line_alpha\":{\"value\":0},\"line_color\":{\"value\":\"#00c853\"},\"top\":{\"expr\":{\"id\":\"d514b056-2bfc-4c92-90f4-6732b9d2862f\",\"type\":\"Stack\"}},\"width\":{\"value\":1921831578.9473684},\"x\":{\"field\":\"dates\"}},\"id\":\"0f44ced5-2077-4a7f-90d9-8fabe0930310\",\"type\":\"VBar\"},{\"attributes\":{\"source\":{\"id\":\"b12b428f-24ae-4efc-bc8a-6b7adc91cc04\",\"type\":\"ColumnDataSource\"}},\"id\":\"e32c54d8-268f-4850-8853-d817dbd906a7\",\"type\":\"CDSView\"},{\"attributes\":{\"background_fill_alpha\":{\"value\":0},\"border_line_alpha\":{\"value\":0},\"glyph_height\":14,\"glyph_width\":14,\"items\":[{\"id\":\"ae40e81a-894e-488f-bae9-d4b4b0831e6f\",\"type\":\"LegendItem\"},{\"id\":\"3fd7f0b0-ab25-4c64-93ea-9086f07231d4\",\"type\":\"LegendItem\"},{\"id\":\"bd57259c-af37-405a-9eb5-21b417f2e347\",\"type\":\"LegendItem\"},{\"id\":\"925b8cba-0eef-4d30-a4b9-ff57693719cf\",\"type\":\"LegendItem\"}],\"label_text_font_size\":{\"value\":\"9pt\"},\"location\":\"top_left\",\"margin\":5,\"orientation\":\"horizontal\",\"padding\":0,\"plot\":{\"id\":\"14a90716-fcc5-42d9-a106-b5e6aa10002f\",\"subtype\":\"Figure\",\"type\":\"Plot\"},\"spacing\":10},\"id\":\"6cda230d-5525-4d16-919c-1d7d47abe901\",\"type\":\"Legend\"},{\"attributes\":{\"data_source\":{\"id\":\"b12b428f-24ae-4efc-bc8a-6b7adc91cc04\",\"type\":\"ColumnDataSource\"},\"glyph\":{\"id\":\"80914e73-2c51-46b0-bc74-01d3e30bd03f\",\"type\":\"VBar\"},\"hover_glyph\":null,\"muted_glyph\":null,\"nonselection_glyph\":{\"id\":\"dd0d7a82-539e-4cf1-9608-b9a74c6bbc31\",\"type\":\"VBar\"},\"selection_glyph\":null,\"view\":{\"id\":\"e32c54d8-268f-4850-8853-d817dbd906a7\",\"type\":\"CDSView\"}},\"id\":\"090b751d-6382-47d8-89cc-d17b1be052ce\",\"type\":\"GlyphRenderer\"},{\"attributes\":{\"fields\":[\"core services\"]},\"id\":\"de86df06-18d0-4938-bf1b-e2e0e8b14f52\",\"type\":\"Stack\"},{\"attributes\":{\"months\":[0,1,2,3,4,5,6,7,8,9,10,11]},\"id\":\"d76052ec-5d64-48a4-8e12-332bdaaaa091\",\"type\":\"MonthsTicker\"},{\"attributes\":{\"dimension\":1,\"plot\":{\"id\":\"14a90716-fcc5-42d9-a106-b5e6aa10002f\",\"subtype\":\"Figure\",\"type\":\"Plot\"},\"ticker\":{\"id\":\"bf84ba41-71a0-47c8-9f8a-4a49a6c8763b\",\"type\":\"BasicTicker\"}},\"id\":\"0cb62511-dd40-4db7-b6d7-b56543e12316\",\"type\":\"Grid\"},{\"attributes\":{\"months\":[0,2,4,6,8,10]},\"id\":\"d1123c08-73c0-419d-a72c-ceec4844b290\",\"type\":\"MonthsTicker\"},{\"attributes\":{},\"id\":\"6d38fe9f-bb2d-4bb8-8aa1-317447cf815c\",\"type\":\"YearsTicker\"},{\"attributes\":{\"months\":[0,4,8]},\"id\":\"bc8c25e0-03c4-469e-89e3-761db9b11f15\",\"type\":\"MonthsTicker\"},{\"attributes\":{\"months\":[0,6]},\"id\":\"e4002fd4-cef4-4c45-810b-5798c758abca\",\"type\":\"MonthsTicker\"},{\"attributes\":{\"source\":{\"id\":\"e0345e81-97d4-4aea-b6c5-1111f45196d3\",\"type\":\"ColumnDataSource\"}},\"id\":\"3e7ef002-8161-475f-a204-88e8bfb00621\",\"type\":\"CDSView\"},{\"attributes\":{\"data_source\":{\"id\":\"72ef64b3-3e73-4efd-a52a-74f3a162c798\",\"type\":\"ColumnDataSource\"},\"glyph\":{\"id\":\"3674a084-9f75-43c4-9e55-5059c644a5da\",\"type\":\"Line\"},\"hover_glyph\":null,\"muted_glyph\":null,\"nonselection_glyph\":{\"id\":\"e7644b4e-817c-4997-84ac-a325070f5521\",\"type\":\"Line\"},\"selection_glyph\":null,\"view\":{\"id\":\"88a08a97-1b5d-415b-9b24-bd387b711e29\",\"type\":\"CDSView\"}},\"id\":\"c9cedf1b-4cf8-4312-b869-df581f90c128\",\"type\":\"GlyphRenderer\"},{\"attributes\":{\"base\":24,\"mantissas\":[1,2,4,6,8,12],\"max_interval\":43200000.0,\"min_interval\":3600000.0,\"num_minor_ticks\":0},\"id\":\"955ec17a-3ad8-4817-bd52-b123337c0d93\",\"type\":\"AdaptiveTicker\"},{\"attributes\":{\"line_alpha\":0.1,\"line_color\":\"#1f77b4\",\"x\":{\"field\":\"date\"},\"y\":{\"field\":\"total\"}},\"id\":\"e7644b4e-817c-4997-84ac-a325070f5521\",\"type\":\"Line\"},{\"attributes\":{\"days\":[1,8,15,22]},\"id\":\"46ac9352-f413-42b5-ae73-60ed07f4fb93\",\"type\":\"DaysTicker\"},{\"attributes\":{\"days\":[1,15]},\"id\":\"bd5d3d6b-cc19-409a-8151-21a183773cf6\",\"type\":\"DaysTicker\"},{\"attributes\":{\"base\":60,\"mantissas\":[1,2,5,10,15,20,30],\"max_interval\":1800000.0,\"min_interval\":1000.0,\"num_minor_ticks\":0},\"id\":\"3850e2a7-13dc-4836-b935-49fe26103ca1\",\"type\":\"AdaptiveTicker\"},{\"attributes\":{},\"id\":\"42003abc-af0f-4cbe-9247-78323bd90d5d\",\"type\":\"ResetTool\"},{\"attributes\":{\"plot\":null,\"text\":\"\"},\"id\":\"eace6834-4e81-4443-85f8-34ad8bf3bbba\",\"type\":\"Title\"},{\"attributes\":{\"fields\":[\"core services\"]},\"id\":\"81134017-8fea-4084-8bc9-70c5e75046e5\",\"type\":\"Stack\"},{\"attributes\":{\"callback\":null,\"end\":3.8,\"start\":-2.4},\"id\":\"6ea82029-b4ec-4930-af87-81b4fb9064af\",\"type\":\"Range1d\"},{\"attributes\":{\"fields\":[]},\"id\":\"5fc2cc5d-08be-45fb-a1f0-505a39548c64\",\"type\":\"Stack\"},{\"attributes\":{},\"id\":\"bf84ba41-71a0-47c8-9f8a-4a49a6c8763b\",\"type\":\"BasicTicker\"},{\"attributes\":{\"callback\":null},\"id\":\"e249f7b1-0da9-4b87-971d-b86a60324481\",\"type\":\"DataRange1d\"},{\"attributes\":{\"data_source\":{\"id\":\"b12b428f-24ae-4efc-bc8a-6b7adc91cc04\",\"type\":\"ColumnDataSource\"},\"glyph\":{\"id\":\"d6a1dfe7-2b1f-480d-a807-d18b3b0bd032\",\"type\":\"VBar\"},\"hover_glyph\":null,\"muted_glyph\":null,\"nonselection_glyph\":{\"id\":\"6a5f382e-f494-459b-8d2c-9c19e1c7a631\",\"type\":\"VBar\"},\"selection_glyph\":null,\"view\":{\"id\":\"14a4a9e7-493d-463f-979a-301fe8f2d9e1\",\"type\":\"CDSView\"}},\"id\":\"6fe9d4e8-9afe-4013-9638-5635d0ef1ad3\",\"type\":\"GlyphRenderer\"},{\"attributes\":{\"active_drag\":null,\"active_inspect\":\"auto\",\"active_scroll\":\"auto\",\"active_tap\":\"auto\",\"logo\":null,\"tools\":[{\"id\":\"d2644aad-b502-4441-be32-00a8aa21f54f\",\"type\":\"PanTool\"},{\"id\":\"90853bd0-4cd3-4e40-9402-b6a7978e238d\",\"type\":\"WheelZoomTool\"},{\"id\":\"097a1027-0879-47aa-88cf-799ca66f3143\",\"type\":\"BoxZoomTool\"},{\"id\":\"42003abc-af0f-4cbe-9247-78323bd90d5d\",\"type\":\"ResetTool\"},{\"id\":\"752289f0-c539-4cb4-8e71-d41b692dd49b\",\"type\":\"HoverTool\"}]},\"id\":\"5f234fc4-2312-4d1f-b071-861eeecc3cee\",\"type\":\"Toolbar\"},{\"attributes\":{},\"id\":\"e7923441-a88e-4c09-b42f-7f2091defa3a\",\"type\":\"LinearScale\"},{\"attributes\":{\"bottom\":{\"expr\":{\"id\":\"0ca41fd1-5585-491d-80a0-eb5e0ac543fc\",\"type\":\"Stack\"}},\"fill_alpha\":{\"value\":0.1},\"fill_color\":{\"value\":\"#1f77b4\"},\"line_alpha\":{\"value\":0.1},\"line_color\":{\"value\":\"#1f77b4\"},\"top\":{\"expr\":{\"id\":\"a5f10cf9-8d70-403e-a104-a39fe515719d\",\"type\":\"Stack\"}},\"width\":{\"value\":1921831578.9473684},\"x\":{\"field\":\"dates\"}},\"id\":\"6a5f382e-f494-459b-8d2c-9c19e1c7a631\",\"type\":\"VBar\"},{\"attributes\":{\"callback\":null,\"column_names\":[\"core services\",\"shelter\",\"core goods\",\"food & energy\",\"dates\",\"strdate\"],\"data\":{\"core goods\":[-0.16,-0.1,-0.05,-0.04,-0.06,-0.09,-0.1,-0.1,-0.1,-0.14,-0.11,-0.08,-0.02,0,-0.07,-0.1,-0.11,-0.12,-0.12,-0.09,-0.13,-0.11,-0.14,-0.12,-0.05,-0.1,-0.11,-0.12,-0.15,-0.13,-0.12,-0.17,-0.2,-0.19,-0.17,-0.14,-0.13,-0.1],\"core services\":[0,0,0,0,0,0,0,0,0,0,0,0,0,0,0,0,0,0,0,0,0,0,0,0,0,0,0,0,0,0,0,0,0,0,0,0,0,0],\"dates\":[1420070400000.0,1422748800000.0,1425168000000.0,1427846400000.0,1430438400000.0,1433116800000.0,1435708800000.0,1438387200000.0,1441065600000.0,1443657600000.0,1446336000000.0,1448928000000.0,1451606400000.0,1454284800000.0,1456790400000.0,1459468800000.0,1462060800000.0,1464739200000.0,1467331200000.0,1470009600000.0,1472688000000.0,1475280000000.0,1477958400000.0,1480550400000.0,1483228800000.0,1485907200000.0,1488326400000.0,1491004800000.0,1493596800000.0,1496275200000.0,1498867200000.0,1501545600000.0,1504224000000.0,1506816000000.0,1509494400000.0,1512086400000.0,1514764800000.0,1517443200000.0],\"food & energy\":[-1.36,-1.34,-1.44,-1.61,-1.38,-1.25,-1.24,-1.23,-1.52,-1.33,-1.07,-0.91,-0.36,-0.82,-0.88,-0.56,-0.74,-0.76,-0.89,-0.76,-0.27,-0.05,0,0,0,0,0,0,0,0,0,0,0,0,0,0,0,0],\"shelter\":[0,0,0,0,0,0,0,0,0,0,0,0,0,0,0,0,0,0,0,0,0,0,0,0,0,0,0,0,0,0,0,0,0,0,0,0,0,0],\"strdate\":[\"Jan 2015\",\"Feb 2015\",\"Mar 2015\",\"Apr 2015\",\"May 2015\",\"Jun 2015\",\"Jul 2015\",\"Aug 2015\",\"Sep 2015\",\"Oct 2015\",\"Nov 2015\",\"Dec 2015\",\"Jan 2016\",\"Feb 2016\",\"Mar 2016\",\"Apr 2016\",\"May 2016\",\"Jun 2016\",\"Jul 2016\",\"Aug 2016\",\"Sep 2016\",\"Oct 2016\",\"Nov 2016\",\"Dec 2016\",\"Jan 2017\",\"Feb 2017\",\"Mar 2017\",\"Apr 2017\",\"May 2017\",\"Jun 2017\",\"Jul 2017\",\"Aug 2017\",\"Sep 2017\",\"Oct 2017\",\"Nov 2017\",\"Dec 2017\",\"Jan 2018\",\"Feb 2018\"]}},\"id\":\"b12b428f-24ae-4efc-bc8a-6b7adc91cc04\",\"type\":\"ColumnDataSource\"},{\"attributes\":{\"axis_line_color\":{\"value\":\"white\"},\"formatter\":{\"id\":\"6a6f97c6-1cf2-4aea-b609-66956d150243\",\"type\":\"BasicTickFormatter\"},\"plot\":{\"id\":\"14a90716-fcc5-42d9-a106-b5e6aa10002f\",\"subtype\":\"Figure\",\"type\":\"Plot\"},\"ticker\":{\"id\":\"bf84ba41-71a0-47c8-9f8a-4a49a6c8763b\",\"type\":\"BasicTicker\"}},\"id\":\"fd6ead74-5d04-4b6f-9d98-935437f4062e\",\"type\":\"LinearAxis\"},{\"attributes\":{\"source\":{\"id\":\"72ef64b3-3e73-4efd-a52a-74f3a162c798\",\"type\":\"ColumnDataSource\"}},\"id\":\"88a08a97-1b5d-415b-9b24-bd387b711e29\",\"type\":\"CDSView\"},{\"attributes\":{\"num_minor_ticks\":5,\"tickers\":[{\"id\":\"c8acd321-0dda-4016-ab92-5af1d0c21783\",\"type\":\"AdaptiveTicker\"},{\"id\":\"3850e2a7-13dc-4836-b935-49fe26103ca1\",\"type\":\"AdaptiveTicker\"},{\"id\":\"955ec17a-3ad8-4817-bd52-b123337c0d93\",\"type\":\"AdaptiveTicker\"},{\"id\":\"4fc05d0c-8f65-4ebd-b7bc-9a042b173bf7\",\"type\":\"DaysTicker\"},{\"id\":\"a600ea74-8295-4cd6-9122-c0164522a476\",\"type\":\"DaysTicker\"},{\"id\":\"46ac9352-f413-42b5-ae73-60ed07f4fb93\",\"type\":\"DaysTicker\"},{\"id\":\"bd5d3d6b-cc19-409a-8151-21a183773cf6\",\"type\":\"DaysTicker\"},{\"id\":\"d76052ec-5d64-48a4-8e12-332bdaaaa091\",\"type\":\"MonthsTicker\"},{\"id\":\"d1123c08-73c0-419d-a72c-ceec4844b290\",\"type\":\"MonthsTicker\"},{\"id\":\"bc8c25e0-03c4-469e-89e3-761db9b11f15\",\"type\":\"MonthsTicker\"},{\"id\":\"e4002fd4-cef4-4c45-810b-5798c758abca\",\"type\":\"MonthsTicker\"},{\"id\":\"6d38fe9f-bb2d-4bb8-8aa1-317447cf815c\",\"type\":\"YearsTicker\"}]},\"id\":\"2fa37cda-1168-4eed-9b7c-ee1474f924d1\",\"type\":\"DatetimeTicker\"},{\"attributes\":{\"line_color\":{\"value\":\"gray\"},\"location\":0,\"plot\":{\"id\":\"14a90716-fcc5-42d9-a106-b5e6aa10002f\",\"subtype\":\"Figure\",\"type\":\"Plot\"}},\"id\":\"a45f147a-70bc-46fb-a1cc-f0918c22c51e\",\"type\":\"Span\"},{\"attributes\":{\"below\":[{\"id\":\"b64f8b03-82ef-45aa-be12-02dae2ea0abc\",\"type\":\"DatetimeAxis\"}],\"left\":[{\"id\":\"fd6ead74-5d04-4b6f-9d98-935437f4062e\",\"type\":\"LinearAxis\"}],\"outline_line_color\":{\"value\":\"white\"},\"plot_height\":300,\"plot_width\":700,\"renderers\":[{\"id\":\"b64f8b03-82ef-45aa-be12-02dae2ea0abc\",\"type\":\"DatetimeAxis\"},{\"id\":\"14539877-9bee-4586-ba64-8ee60b6ad403\",\"type\":\"Grid\"},{\"id\":\"fd6ead74-5d04-4b6f-9d98-935437f4062e\",\"type\":\"LinearAxis\"},{\"id\":\"0cb62511-dd40-4db7-b6d7-b56543e12316\",\"type\":\"Grid\"},{\"id\":\"50e665cc-aa3e-42ce-81fe-c74663f22ff7\",\"type\":\"BoxAnnotation\"},{\"id\":\"6cda230d-5525-4d16-919c-1d7d47abe901\",\"type\":\"Legend\"},{\"id\":\"62682496-4822-4477-9e57-002f671828b7\",\"type\":\"GlyphRenderer\"},{\"id\":\"7f219308-4f22-404e-a4d8-5c20ad7c6ce7\",\"type\":\"GlyphRenderer\"},{\"id\":\"f5d8ebef-1361-4893-890a-a74b29b2f0d4\",\"type\":\"GlyphRenderer\"},{\"id\":\"68317edc-e128-4359-998b-6385efe250f1\",\"type\":\"GlyphRenderer\"},{\"id\":\"090b751d-6382-47d8-89cc-d17b1be052ce\",\"type\":\"GlyphRenderer\"},{\"id\":\"8428ee14-4168-441e-8cba-9e691c989de6\",\"type\":\"GlyphRenderer\"},{\"id\":\"7257abad-ef99-40d0-b742-2c91301a842d\",\"type\":\"GlyphRenderer\"},{\"id\":\"6fe9d4e8-9afe-4013-9638-5635d0ef1ad3\",\"type\":\"GlyphRenderer\"},{\"id\":\"a45f147a-70bc-46fb-a1cc-f0918c22c51e\",\"type\":\"Span\"},{\"id\":\"c9cedf1b-4cf8-4312-b869-df581f90c128\",\"type\":\"GlyphRenderer\"}],\"sizing_mode\":\"scale_width\",\"title\":{\"id\":\"eace6834-4e81-4443-85f8-34ad8bf3bbba\",\"type\":\"Title\"},\"toolbar\":{\"id\":\"5f234fc4-2312-4d1f-b071-861eeecc3cee\",\"type\":\"Toolbar\"},\"toolbar_location\":null,\"x_range\":{\"id\":\"e249f7b1-0da9-4b87-971d-b86a60324481\",\"type\":\"DataRange1d\"},\"x_scale\":{\"id\":\"e7923441-a88e-4c09-b42f-7f2091defa3a\",\"type\":\"LinearScale\"},\"y_range\":{\"id\":\"6ea82029-b4ec-4930-af87-81b4fb9064af\",\"type\":\"Range1d\"},\"y_scale\":{\"id\":\"d46b79f4-2532-4877-8c09-cdb788470c4b\",\"type\":\"LinearScale\"}},\"id\":\"14a90716-fcc5-42d9-a106-b5e6aa10002f\",\"subtype\":\"Figure\",\"type\":\"Plot\"},{\"attributes\":{\"axis_line_color\":{\"value\":\"white\"},\"formatter\":{\"id\":\"e93f192c-b575-49e2-821a-19b9e5d09910\",\"type\":\"DatetimeTickFormatter\"},\"plot\":{\"id\":\"14a90716-fcc5-42d9-a106-b5e6aa10002f\",\"subtype\":\"Figure\",\"type\":\"Plot\"},\"ticker\":{\"id\":\"2fa37cda-1168-4eed-9b7c-ee1474f924d1\",\"type\":\"DatetimeTicker\"}},\"id\":\"b64f8b03-82ef-45aa-be12-02dae2ea0abc\",\"type\":\"DatetimeAxis\"},{\"attributes\":{\"line_alpha\":0.0,\"line_color\":\"white\",\"x\":{\"field\":\"date\"},\"y\":{\"field\":\"total\"}},\"id\":\"3674a084-9f75-43c4-9e55-5059c644a5da\",\"type\":\"Line\"},{\"attributes\":{},\"id\":\"d46b79f4-2532-4877-8c09-cdb788470c4b\",\"type\":\"LinearScale\"},{\"attributes\":{\"fields\":[\"core services\",\"shelter\",\"core goods\"]},\"id\":\"d514b056-2bfc-4c92-90f4-6732b9d2862f\",\"type\":\"Stack\"},{\"attributes\":{\"callback\":null,\"column_names\":[\"core services\",\"shelter\",\"core goods\",\"food & energy\",\"dates\",\"strdate\"],\"data\":{\"core goods\":[0,0,0,0,0,0,0,0,0,0,0,0,0,0.01,0,0,0,0,0,0,0,0,0,0,0,0,0,0,0,0,0,0,0,0,0,0,0,0],\"core services\":[0.49,0.45,0.45,0.47,0.46,0.48,0.49,0.51,0.54,0.59,0.64,0.66,0.68,0.73,0.74,0.73,0.76,0.76,0.76,0.8,0.73,0.64,0.63,0.65,0.67,0.69,0.56,0.47,0.41,0.39,0.41,0.4,0.46,0.52,0.47,0.47,0.5,0.51],\"dates\":[1420070400000.0,1422748800000.0,1425168000000.0,1427846400000.0,1430438400000.0,1433116800000.0,1435708800000.0,1438387200000.0,1441065600000.0,1443657600000.0,1446336000000.0,1448928000000.0,1451606400000.0,1454284800000.0,1456790400000.0,1459468800000.0,1462060800000.0,1464739200000.0,1467331200000.0,1470009600000.0,1472688000000.0,1475280000000.0,1477958400000.0,1480550400000.0,1483228800000.0,1485907200000.0,1488326400000.0,1491004800000.0,1493596800000.0,1496275200000.0,1498867200000.0,1501545600000.0,1504224000000.0,1506816000000.0,1509494400000.0,1512086400000.0,1514764800000.0,1517443200000.0],\"food & energy\":[0,0,0,0,0,0,0,0,0,0,0,0,0,0,0,0,0,0,0,0,0,0,0.03,0.35,0.73,1.01,0.82,0.74,0.53,0.3,0.41,0.64,0.95,0.67,0.89,0.74,0.67,0.79],\"shelter\":[0.94,0.96,0.96,0.97,0.94,0.98,1.02,1.01,1.04,1.05,1.05,1.06,1.07,1.09,1.06,1.07,1.13,1.16,1.11,1.15,1.16,1.19,1.21,1.23,1.21,1.21,1.19,1.19,1.15,1.13,1.1,1.15,1.13,1.14,1.11,1.13,1.13,1.11],\"strdate\":[\"Jan 2015\",\"Feb 2015\",\"Mar 2015\",\"Apr 2015\",\"May 2015\",\"Jun 2015\",\"Jul 2015\",\"Aug 2015\",\"Sep 2015\",\"Oct 2015\",\"Nov 2015\",\"Dec 2015\",\"Jan 2016\",\"Feb 2016\",\"Mar 2016\",\"Apr 2016\",\"May 2016\",\"Jun 2016\",\"Jul 2016\",\"Aug 2016\",\"Sep 2016\",\"Oct 2016\",\"Nov 2016\",\"Dec 2016\",\"Jan 2017\",\"Feb 2017\",\"Mar 2017\",\"Apr 2017\",\"May 2017\",\"Jun 2017\",\"Jul 2017\",\"Aug 2017\",\"Sep 2017\",\"Oct 2017\",\"Nov 2017\",\"Dec 2017\",\"Jan 2018\",\"Feb 2018\"]}},\"id\":\"e0345e81-97d4-4aea-b6c5-1111f45196d3\",\"type\":\"ColumnDataSource\"},{\"attributes\":{\"source\":{\"id\":\"b12b428f-24ae-4efc-bc8a-6b7adc91cc04\",\"type\":\"ColumnDataSource\"}},\"id\":\"2fa62ce8-8310-4a6d-a041-fe5e94229c8e\",\"type\":\"CDSView\"},{\"attributes\":{\"label\":{\"value\":\"Food & energy\"},\"renderers\":[{\"id\":\"68317edc-e128-4359-998b-6385efe250f1\",\"type\":\"GlyphRenderer\"}]},\"id\":\"925b8cba-0eef-4d30-a4b9-ff57693719cf\",\"type\":\"LegendItem\"},{\"attributes\":{\"mantissas\":[1,2,5],\"max_interval\":500.0,\"num_minor_ticks\":0},\"id\":\"c8acd321-0dda-4016-ab92-5af1d0c21783\",\"type\":\"AdaptiveTicker\"},{\"attributes\":{},\"id\":\"e93f192c-b575-49e2-821a-19b9e5d09910\",\"type\":\"DatetimeTickFormatter\"},{\"attributes\":{\"data_source\":{\"id\":\"e0345e81-97d4-4aea-b6c5-1111f45196d3\",\"type\":\"ColumnDataSource\"},\"glyph\":{\"id\":\"ca5ff4ad-755e-4d8a-831a-2f18434e6117\",\"type\":\"VBar\"},\"hover_glyph\":null,\"muted_glyph\":null,\"nonselection_glyph\":{\"id\":\"abaee668-d3c7-4062-809c-4b6b3e1830af\",\"type\":\"VBar\"},\"selection_glyph\":null,\"view\":{\"id\":\"3e7ef002-8161-475f-a204-88e8bfb00621\",\"type\":\"CDSView\"}},\"id\":\"62682496-4822-4477-9e57-002f671828b7\",\"type\":\"GlyphRenderer\"},{\"attributes\":{\"days\":[1,2,3,4,5,6,7,8,9,10,11,12,13,14,15,16,17,18,19,20,21,22,23,24,25,26,27,28,29,30,31]},\"id\":\"4fc05d0c-8f65-4ebd-b7bc-9a042b173bf7\",\"type\":\"DaysTicker\"},{\"attributes\":{\"days\":[1,4,7,10,13,16,19,22,25,28]},\"id\":\"a600ea74-8295-4cd6-9122-c0164522a476\",\"type\":\"DaysTicker\"}],\"root_ids\":[\"14a90716-fcc5-42d9-a106-b5e6aa10002f\"]},\"title\":\"Bokeh Application\",\"version\":\"0.12.14\"}};\n",
       "  var render_items = [{\"docid\":\"044ce361-091a-4aaa-8775-1b1e7656c85f\",\"elementid\":\"a7120274-c226-4469-a92b-dc5f6d8332c8\",\"modelid\":\"14a90716-fcc5-42d9-a106-b5e6aa10002f\"}];\n",
       "  root.Bokeh.embed.embed_items_notebook(docs_json, render_items);\n",
       "\n",
       "  }\n",
       "  if (root.Bokeh !== undefined) {\n",
       "    embed_document(root);\n",
       "  } else {\n",
       "    var attempts = 0;\n",
       "    var timer = setInterval(function(root) {\n",
       "      if (root.Bokeh !== undefined) {\n",
       "        embed_document(root);\n",
       "        clearInterval(timer);\n",
       "      }\n",
       "      attempts++;\n",
       "      if (attempts > 100) {\n",
       "        console.log(\"Bokeh: ERROR: Unable to run BokehJS code because BokehJS library is missing\")\n",
       "        clearInterval(timer);\n",
       "      }\n",
       "    }, 10, root)\n",
       "  }\n",
       "})(window);"
      ],
      "application/vnd.bokehjs_exec.v0+json": ""
     },
     "metadata": {
      "application/vnd.bokehjs_exec.v0+json": {
       "id": "14a90716-fcc5-42d9-a106-b5e6aa10002f"
      }
     },
     "output_type": "display_data"
    }
   ],
   "source": [
    "# HTML text that shows when hovering\n",
    "tooltips = \"\"\"\n",
    "    <div style=\"line-height: 110%;\">\n",
    "        <span style=\"font-size: 11px; font-style: italic;\">@strdate:</span><br>\n",
    "        <span style=\"font-size: 10px; padding: 0 5px;\">CPI Inflation: </span>\n",
    "        <span style=\"font-size: 11px; font-weight: bold;\">@total{1.1}%</span><br>\n",
    "        <span style=\"font-size: 9px; font-style: italic;\">Contribution from:</span><br>\n",
    "        <div style=\"text-align: right;\">\n",
    "            <span style=\"font-size: 10px; padding: 0 5px;\">Core goods: </span>\n",
    "            <span style=\"display: inline-block; font-size: 11px; font-weight: bold; min-width: 26px;\">@{core goods}{1.1}</span><br> \n",
    "            <span style=\"font-size: 10px; padding: 0 5px;\">Core services: </span>\n",
    "            <span style=\"display: inline-block; font-size: 11px; font-weight: bold; min-width: 26px;\">@{core services}{1.1}</span><br> \n",
    "            <span style=\"font-size: 10px; padding: 0 5px;\">Shelter: </span>\n",
    "            <span style=\"display: inline-block; font-size: 11px; font-weight: bold; min-width: 26px;\">@shelter{1.1}</span><br> \n",
    "            <span style=\"font-size: 10px; padding: 0 5px;\">Food & Shelter: </span>\n",
    "            <span style=\"display: inline-block; font-size: 11px; font-weight: bold; min-width: 26px;\">@{food & energy}{1.1}</span>\n",
    "        </div>\n",
    "    </div>\n",
    "\"\"\"\n",
    "# Bar width determined by how many bars\n",
    "width = ((d2.index[-1] - d2.index[0]).total_seconds() \n",
    "         * 750.0 / len(d2.index))\n",
    "\n",
    "# horizontal line at zero\n",
    "zero_line = Span(location=0, dimension='width', \n",
    "                 line_color='gray', line_width=1)\n",
    "\n",
    "p = figure(plot_width=700, plot_height=300, \n",
    "           x_axis_type='datetime', \n",
    "           tools=['pan, wheel_zoom, box_zoom, reset'], \n",
    "           logo=None,\n",
    "           toolbar_location=None,  \n",
    "           y_range=Range1d(-2.4, 3.8))\n",
    "p.vbar_stack(col_names, x='dates', width=width, \n",
    "             color=['#FFEA00', '#80DEEA', '#00c853', '#304FFE'], \n",
    "             legend=['Core services', 'Shelter', 'Core goods', 'Food & energy'], \n",
    "             line_alpha=0, source=ColumnDataSource(infl))\n",
    "p.vbar_stack(col_names, x='dates', width=width, \n",
    "             color=['#FFEA00', '#80DEEA', '#00c853', '#304FFE'], \n",
    "             line_alpha=0, source=ColumnDataSource(defl))\n",
    "\n",
    "p.add_layout(zero_line)\n",
    "\n",
    "r1 = p.line('date', 'total', color='white', alpha=0.0, source=ColumnDataSource(d2))\n",
    "\n",
    "p.sizing_mode = 'scale_width'\n",
    "p.xgrid.grid_line_color = None\n",
    "p.outline_line_color = 'white'\n",
    "p.axis.axis_line_color = 'white'\n",
    "p.toolbar.active_drag = None\n",
    "p.legend.orientation = \"horizontal\"\n",
    "p.legend.location = \"top_left\"\n",
    "p.legend.border_line_alpha = 0\n",
    "p.legend.background_fill_alpha = 0\n",
    "p.legend.margin = 5\n",
    "p.legend.padding = 0\n",
    "p.legend.spacing = 10\n",
    "p.legend.glyph_height = 14\n",
    "p.legend.glyph_width = 14\n",
    "p.legend.label_text_font_size = '9pt'\n",
    "\n",
    "p.add_tools(HoverTool(tooltips=tooltips, show_arrow=False, mode='vline',  renderers=[r1]))\n",
    "\n",
    "script, div = components(p)\n",
    "with open('C:/Working/bdecon.github.io/plots/cpi_comp.html', 'w') as text_file:\n",
    "    text_file.write(f'{script} {div}')\n",
    "\n",
    "show(p)"
   ]
  }
 ],
 "metadata": {
  "kernelspec": {
   "display_name": "Python 3",
   "language": "python",
   "name": "python3"
  },
  "language_info": {
   "codemirror_mode": {
    "name": "ipython",
    "version": 3
   },
   "file_extension": ".py",
   "mimetype": "text/x-python",
   "name": "python",
   "nbconvert_exporter": "python",
   "pygments_lexer": "ipython3",
   "version": "3.6.4"
  }
 },
 "nbformat": 4,
 "nbformat_minor": 2
}
