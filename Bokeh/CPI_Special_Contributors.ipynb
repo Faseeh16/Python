{
 "cells": [
  {
   "cell_type": "markdown",
   "metadata": {
    "ExecuteTime": {
     "end_time": "2018-03-21T16:37:16.108780Z",
     "start_time": "2018-03-21T16:37:16.077537Z"
    }
   },
   "source": [
    "# CPI Special Calculations over time with Python\n",
    "\n",
    "Brian Dew, @bd_econ\n",
    "\n",
    "March 21, 2018\n",
    "\n",
    "----- \n",
    "Every two years the relative importance of CPI items is updated. I'd like to know how a few special aggregates contribute to inflation (unfortunately not seasonally adjusted), and to do this I need to compensate for the updates. BLS explains how to do this here: https://www.bls.gov/cpi/tables/relative-importance/home.htm\n"
   ]
  },
  {
   "cell_type": "code",
   "execution_count": 318,
   "metadata": {
    "ExecuteTime": {
     "end_time": "2018-03-22T02:58:18.721325Z",
     "start_time": "2018-03-22T02:58:18.705698Z"
    },
    "code_folding": [
     0
    ]
   },
   "outputs": [],
   "source": [
    "# Import preliminaries\n",
    "import pandas as pd\n",
    "import numpy as np\n",
    "import requests\n",
    "import json\n",
    "import config"
   ]
  },
  {
   "cell_type": "code",
   "execution_count": 47,
   "metadata": {
    "ExecuteTime": {
     "end_time": "2018-03-21T17:31:32.529959Z",
     "start_time": "2018-03-21T17:31:31.889282Z"
    },
    "code_folding": [
     0
    ]
   },
   "outputs": [],
   "source": [
    "# Use BLS Flat Files to find series IDs and series info\n",
    "s_url = 'https://download.bls.gov/pub/time.series/cu/cu.series'\n",
    "s = pd.read_table(series_list_url, sep='\\t')\n",
    "s2 = s[(s['seasonal'] == 'U') & \n",
    "       (s['base_code'] == 'S') &\n",
    "       (s['area_code'] == '0000') &\n",
    "       (s['periodicity_code'] == 'R')]"
   ]
  },
  {
   "cell_type": "code",
   "execution_count": 109,
   "metadata": {
    "ExecuteTime": {
     "end_time": "2018-03-21T19:53:22.923310Z",
     "start_time": "2018-03-21T19:53:22.896285Z"
    },
    "code_folding": [
     0
    ]
   },
   "outputs": [],
   "source": [
    "# Relative weights for series of interest, from here: \n",
    "# https://www.bls.gov/cpi/tables/relative-importance/home.htm\n",
    "rel_wgt = {'CUUR0000SAF1': [(('2013-12-01', '2015-12-01'), 13.891), \n",
    "                           (('2015-12-01', '2017-12-01'), 14.015), \n",
    "                           (('2017-12-01', '2019-12-01'), 13.384)],\n",
    "           'CUUR0000SA0': [(('2013-12-01', '2015-12-01'), 100.0), \n",
    "                           (('2015-12-01', '2017-12-01'), 100.0), \n",
    "                           (('2017-12-01', '2019-12-01'), 100.0)],\n",
    "           'CUUR0000SA0E': [(('2013-12-01', '2015-12-01'), 9.046), \n",
    "                            (('2015-12-01', '2017-12-01'), 6.816), \n",
    "                            (('2017-12-01', '2019-12-01'), 7.513)],\n",
    "           'CUUR0000SAH1': [(('2013-12-01', '2015-12-01'), 32.029), \n",
    "                            (('2015-12-01', '2017-12-01'), 33.15), \n",
    "                            (('2017-12-01', '2019-12-01'), 32.843)],\n",
    "           'CUUR0000SACL1E': [(('2013-12-01', '2015-12-01'), 19.71), \n",
    "                              (('2015-12-01', '2017-12-01'), 19.613), \n",
    "                              (('2017-12-01', '2019-12-01'), 19.849)],\n",
    "           'CUUR0000SASLE': [(('2013-12-01', '2015-12-01'), 57.353), \n",
    "                             (('2015-12-01', '2017-12-01'), 59.556), \n",
    "                             (('2017-12-01', '2019-12-01'), 59.254)]}\n",
    "\n",
    "# API access to Bureau of Labor Statistics data\n",
    "url = 'https://api.bls.gov/publicAPI/v2/timeseries/data/'\n",
    "# API key in config.py which contains: bls_key = 'key'\n",
    "key = '?registrationkey={}'.format(config.bls_key)\n",
    "\n",
    "headers = {'Content-type': 'application/json'}    # Request json fmt\n",
    "param = {\"seriesid\": list(rel_wgt.keys()),           \n",
    "         \"startyear\": \"2013\", \"endyear\": \"2018\"}"
   ]
  },
  {
   "cell_type": "code",
   "execution_count": 110,
   "metadata": {
    "ExecuteTime": {
     "end_time": "2018-03-21T19:53:26.814550Z",
     "start_time": "2018-03-21T19:53:26.105538Z"
    },
    "code_folding": [
     0
    ]
   },
   "outputs": [
    {
     "name": "stdout",
     "output_type": "stream",
     "text": [
      "Status: REQUEST_SUCCEEDED\n",
      "Latest: February 2018\n"
     ]
    }
   ],
   "source": [
    "# Request all of the series in s\n",
    "p = requests.post(f'{url}{key}', data=json.dumps(param), headers=headers).json()\n",
    "print(f\"Status: {p['status']}\") # Print request status\n",
    "p = p['Results']['series']  # Keep data portion of post results\n",
    "\n",
    "# Use first series to get the datetime values\n",
    "idx = pd.to_datetime([f\"{i['period']} {i['year']}\" for i in p[0]['data']])\n",
    "print(f'Latest: {idx[0]:%B %Y}') # Print latest value"
   ]
  },
  {
   "cell_type": "code",
   "execution_count": 111,
   "metadata": {
    "ExecuteTime": {
     "end_time": "2018-03-21T19:53:28.726023Z",
     "start_time": "2018-03-21T19:53:28.704978Z"
    },
    "code_folding": [
     0
    ]
   },
   "outputs": [],
   "source": [
    "# Convert API data to datetime date and float value\n",
    "data = {i['seriesID']: \n",
    "        [(pd.to_datetime(f'{r[\"year\"]}-{r[\"period\"][1:]}-01'), float(r['value'])) \n",
    "         for r in i['data']] for i in p}"
   ]
  },
  {
   "cell_type": "code",
   "execution_count": 113,
   "metadata": {
    "ExecuteTime": {
     "end_time": "2018-03-21T19:56:17.940789Z",
     "start_time": "2018-03-21T19:56:17.927776Z"
    },
    "code_folding": [
     0
    ]
   },
   "outputs": [],
   "source": [
    "# Dictionary combining all the info for each series\n",
    "d = {i: {'name': s2[s2['series_id'].str.strip() == i]['series_title'].values[0],\n",
    "         'values': data[i],\n",
    "         'rel_wgt': rel_wgt[i]} for i in list(rel_wgt.keys())}"
   ]
  },
  {
   "cell_type": "code",
   "execution_count": 237,
   "metadata": {
    "ExecuteTime": {
     "end_time": "2018-03-22T00:59:52.573988Z",
     "start_time": "2018-03-22T00:59:52.351914Z"
    },
    "code_folding": [
     0
    ]
   },
   "outputs": [],
   "source": [
    "# Adjust for changes to relative importance\n",
    "df1, df2, df3 = pd.DataFrame(), pd.DataFrame(), pd.DataFrame()\n",
    "for i, v in d.items():\n",
    "    start, end = v['rel_wgt'][0][0][0], v['rel_wgt'][0][0][1]\n",
    "    rwc, rwn = v['rel_wgt'][0][1], v['rel_wgt'][1][1]\n",
    "    df1.at[start: end, i] = (pd.DataFrame(v['values'])\n",
    "        .iloc[::-1].set_index(0).loc[start: end][1])\n",
    "    df1[i] = (df1[i].diff().cumsum() / df1.loc[start, i] + 1)\n",
    "    df1.at[start, i] = 1.0\n",
    "    df1[i] = (df1[i] * rwc)\n",
    "    link = (df1.loc[end, i] / rwn)\n",
    "    # Next set of dates\n",
    "    start, end = v['rel_wgt'][1][0][0], v['rel_wgt'][1][0][1]\n",
    "    rwc, rwn = v['rel_wgt'][1][1], v['rel_wgt'][2][1]\n",
    "    df2[i] = (pd.DataFrame(v['values'])\n",
    "        .iloc[::-1].set_index(0).loc[start: end][1])\n",
    "    df2[i] = df2[i].diff().cumsum() / df2.loc[start, i] + 1\n",
    "    df2.at[start, i] = 1.0\n",
    "    #df1.at[start: end, i] = (df1.loc[start: end, i] * rwc)\n",
    "    df2[i] = (df2[i] * rwc) * link\n",
    "    link = (df2.loc[end, i] / rwn)\n",
    "    # Next set of dates\n",
    "    start, end = v['rel_wgt'][2][0][0], v['rel_wgt'][2][0][1]\n",
    "    rwc = v['rel_wgt'][2][1]\n",
    "    df3[i] = (pd.DataFrame(v['values'])\n",
    "        .iloc[::-1].set_index(0).loc[start: end][1])\n",
    "    df3[i] = df3[i].diff().cumsum() / df3.loc[start, i] + 1\n",
    "    df3.at[start, i] = 1.0\n",
    "    df3[i] = (df3[i] * rwc) * link"
   ]
  },
  {
   "cell_type": "code",
   "execution_count": 339,
   "metadata": {
    "ExecuteTime": {
     "end_time": "2018-03-22T03:04:38.779185Z",
     "start_time": "2018-03-22T03:04:38.747944Z"
    },
    "code_folding": [
     0
    ]
   },
   "outputs": [],
   "source": [
    "# Calculate exactly what I want to show\n",
    "final = pd.concat([df1, df2, df3])\n",
    "final = final[~final.index.duplicated(keep='first')].diff(12)\n",
    "final['core_services'] = final['CUUR0000SASLE'] - final['CUUR0000SAH1']\n",
    "final['food_energy'] = final['CUUR0000SAF1'] + final['CUUR0000SA0E']\n",
    "final = final.dropna().round(2)\n",
    "d2 = final[['core_services', 'CUUR0000SAH1', 'CUUR0000SACL1E', 'food_energy']].loc['2015-01-01':]\n",
    "col_names = ['core services', 'shelter', 'core goods', 'food & energy']\n",
    "d2.columns = col_names"
   ]
  },
  {
   "cell_type": "code",
   "execution_count": 347,
   "metadata": {
    "ExecuteTime": {
     "end_time": "2018-03-22T03:08:42.960566Z",
     "start_time": "2018-03-22T03:08:42.944929Z"
    },
    "code_folding": [
     0
    ]
   },
   "outputs": [],
   "source": [
    "# Split positive and negative values\n",
    "infl = {i :[n if n > -0.0001 else 0 for n in list(d2[i])] for i in col_names}\n",
    "infl['dates'] = list(d2.index)\n",
    "defl = {i :[n  if n < -0.0001 else 0 for n in list(d2[i])] for i in col_names}\n",
    "defl['dates'] = list(d2.index)"
   ]
  },
  {
   "cell_type": "code",
   "execution_count": 291,
   "metadata": {
    "ExecuteTime": {
     "end_time": "2018-03-22T02:26:38.290259Z",
     "start_time": "2018-03-22T02:26:37.868350Z"
    },
    "code_folding": [
     0
    ]
   },
   "outputs": [
    {
     "data": {
      "text/html": [
       "\n",
       "    <div class=\"bk-root\">\n",
       "        <a href=\"https://bokeh.pydata.org\" target=\"_blank\" class=\"bk-logo bk-logo-small bk-logo-notebook\"></a>\n",
       "        <span id=\"20613c89-4254-4a56-a8d3-c03683496931\">Loading BokehJS ...</span>\n",
       "    </div>"
      ]
     },
     "metadata": {},
     "output_type": "display_data"
    },
    {
     "data": {
      "application/javascript": [
       "\n",
       "(function(root) {\n",
       "  function now() {\n",
       "    return new Date();\n",
       "  }\n",
       "\n",
       "  var force = true;\n",
       "\n",
       "  if (typeof (root._bokeh_onload_callbacks) === \"undefined\" || force === true) {\n",
       "    root._bokeh_onload_callbacks = [];\n",
       "    root._bokeh_is_loading = undefined;\n",
       "  }\n",
       "\n",
       "  var JS_MIME_TYPE = 'application/javascript';\n",
       "  var HTML_MIME_TYPE = 'text/html';\n",
       "  var EXEC_MIME_TYPE = 'application/vnd.bokehjs_exec.v0+json';\n",
       "  var CLASS_NAME = 'output_bokeh rendered_html';\n",
       "\n",
       "  /**\n",
       "   * Render data to the DOM node\n",
       "   */\n",
       "  function render(props, node) {\n",
       "    var script = document.createElement(\"script\");\n",
       "    node.appendChild(script);\n",
       "  }\n",
       "\n",
       "  /**\n",
       "   * Handle when an output is cleared or removed\n",
       "   */\n",
       "  function handleClearOutput(event, handle) {\n",
       "    var cell = handle.cell;\n",
       "\n",
       "    var id = cell.output_area._bokeh_element_id;\n",
       "    var server_id = cell.output_area._bokeh_server_id;\n",
       "    // Clean up Bokeh references\n",
       "    if (id !== undefined) {\n",
       "      Bokeh.index[id].model.document.clear();\n",
       "      delete Bokeh.index[id];\n",
       "    }\n",
       "\n",
       "    if (server_id !== undefined) {\n",
       "      // Clean up Bokeh references\n",
       "      var cmd = \"from bokeh.io.state import curstate; print(curstate().uuid_to_server['\" + server_id + \"'].get_sessions()[0].document.roots[0]._id)\";\n",
       "      cell.notebook.kernel.execute(cmd, {\n",
       "        iopub: {\n",
       "          output: function(msg) {\n",
       "            var element_id = msg.content.text.trim();\n",
       "            Bokeh.index[element_id].model.document.clear();\n",
       "            delete Bokeh.index[element_id];\n",
       "          }\n",
       "        }\n",
       "      });\n",
       "      // Destroy server and session\n",
       "      var cmd = \"import bokeh.io.notebook as ion; ion.destroy_server('\" + server_id + \"')\";\n",
       "      cell.notebook.kernel.execute(cmd);\n",
       "    }\n",
       "  }\n",
       "\n",
       "  /**\n",
       "   * Handle when a new output is added\n",
       "   */\n",
       "  function handleAddOutput(event, handle) {\n",
       "    var output_area = handle.output_area;\n",
       "    var output = handle.output;\n",
       "\n",
       "    // limit handleAddOutput to display_data with EXEC_MIME_TYPE content only\n",
       "    if ((output.output_type != \"display_data\") || (!output.data.hasOwnProperty(EXEC_MIME_TYPE))) {\n",
       "      return\n",
       "    }\n",
       "\n",
       "    var toinsert = output_area.element.find(\".\" + CLASS_NAME.split(' ')[0]);\n",
       "\n",
       "    if (output.metadata[EXEC_MIME_TYPE][\"id\"] !== undefined) {\n",
       "      toinsert[0].firstChild.textContent = output.data[JS_MIME_TYPE];\n",
       "      // store reference to embed id on output_area\n",
       "      output_area._bokeh_element_id = output.metadata[EXEC_MIME_TYPE][\"id\"];\n",
       "    }\n",
       "    if (output.metadata[EXEC_MIME_TYPE][\"server_id\"] !== undefined) {\n",
       "      var bk_div = document.createElement(\"div\");\n",
       "      bk_div.innerHTML = output.data[HTML_MIME_TYPE];\n",
       "      var script_attrs = bk_div.children[0].attributes;\n",
       "      for (var i = 0; i < script_attrs.length; i++) {\n",
       "        toinsert[0].firstChild.setAttribute(script_attrs[i].name, script_attrs[i].value);\n",
       "      }\n",
       "      // store reference to server id on output_area\n",
       "      output_area._bokeh_server_id = output.metadata[EXEC_MIME_TYPE][\"server_id\"];\n",
       "    }\n",
       "  }\n",
       "\n",
       "  function register_renderer(events, OutputArea) {\n",
       "\n",
       "    function append_mime(data, metadata, element) {\n",
       "      // create a DOM node to render to\n",
       "      var toinsert = this.create_output_subarea(\n",
       "        metadata,\n",
       "        CLASS_NAME,\n",
       "        EXEC_MIME_TYPE\n",
       "      );\n",
       "      this.keyboard_manager.register_events(toinsert);\n",
       "      // Render to node\n",
       "      var props = {data: data, metadata: metadata[EXEC_MIME_TYPE]};\n",
       "      render(props, toinsert[0]);\n",
       "      element.append(toinsert);\n",
       "      return toinsert\n",
       "    }\n",
       "\n",
       "    /* Handle when an output is cleared or removed */\n",
       "    events.on('clear_output.CodeCell', handleClearOutput);\n",
       "    events.on('delete.Cell', handleClearOutput);\n",
       "\n",
       "    /* Handle when a new output is added */\n",
       "    events.on('output_added.OutputArea', handleAddOutput);\n",
       "\n",
       "    /**\n",
       "     * Register the mime type and append_mime function with output_area\n",
       "     */\n",
       "    OutputArea.prototype.register_mime_type(EXEC_MIME_TYPE, append_mime, {\n",
       "      /* Is output safe? */\n",
       "      safe: true,\n",
       "      /* Index of renderer in `output_area.display_order` */\n",
       "      index: 0\n",
       "    });\n",
       "  }\n",
       "\n",
       "  // register the mime type if in Jupyter Notebook environment and previously unregistered\n",
       "  if (root.Jupyter !== undefined) {\n",
       "    var events = require('base/js/events');\n",
       "    var OutputArea = require('notebook/js/outputarea').OutputArea;\n",
       "\n",
       "    if (OutputArea.prototype.mime_types().indexOf(EXEC_MIME_TYPE) == -1) {\n",
       "      register_renderer(events, OutputArea);\n",
       "    }\n",
       "  }\n",
       "\n",
       "  \n",
       "  if (typeof (root._bokeh_timeout) === \"undefined\" || force === true) {\n",
       "    root._bokeh_timeout = Date.now() + 5000;\n",
       "    root._bokeh_failed_load = false;\n",
       "  }\n",
       "\n",
       "  var NB_LOAD_WARNING = {'data': {'text/html':\n",
       "     \"<div style='background-color: #fdd'>\\n\"+\n",
       "     \"<p>\\n\"+\n",
       "     \"BokehJS does not appear to have successfully loaded. If loading BokehJS from CDN, this \\n\"+\n",
       "     \"may be due to a slow or bad network connection. Possible fixes:\\n\"+\n",
       "     \"</p>\\n\"+\n",
       "     \"<ul>\\n\"+\n",
       "     \"<li>re-rerun `output_notebook()` to attempt to load from CDN again, or</li>\\n\"+\n",
       "     \"<li>use INLINE resources instead, as so:</li>\\n\"+\n",
       "     \"</ul>\\n\"+\n",
       "     \"<code>\\n\"+\n",
       "     \"from bokeh.resources import INLINE\\n\"+\n",
       "     \"output_notebook(resources=INLINE)\\n\"+\n",
       "     \"</code>\\n\"+\n",
       "     \"</div>\"}};\n",
       "\n",
       "  function display_loaded() {\n",
       "    var el = document.getElementById(\"20613c89-4254-4a56-a8d3-c03683496931\");\n",
       "    if (el != null) {\n",
       "      el.textContent = \"BokehJS is loading...\";\n",
       "    }\n",
       "    if (root.Bokeh !== undefined) {\n",
       "      if (el != null) {\n",
       "        el.textContent = \"BokehJS \" + root.Bokeh.version + \" successfully loaded.\";\n",
       "      }\n",
       "    } else if (Date.now() < root._bokeh_timeout) {\n",
       "      setTimeout(display_loaded, 100)\n",
       "    }\n",
       "  }\n",
       "\n",
       "\n",
       "  function run_callbacks() {\n",
       "    try {\n",
       "      root._bokeh_onload_callbacks.forEach(function(callback) { callback() });\n",
       "    }\n",
       "    finally {\n",
       "      delete root._bokeh_onload_callbacks\n",
       "    }\n",
       "    console.info(\"Bokeh: all callbacks have finished\");\n",
       "  }\n",
       "\n",
       "  function load_libs(js_urls, callback) {\n",
       "    root._bokeh_onload_callbacks.push(callback);\n",
       "    if (root._bokeh_is_loading > 0) {\n",
       "      console.log(\"Bokeh: BokehJS is being loaded, scheduling callback at\", now());\n",
       "      return null;\n",
       "    }\n",
       "    if (js_urls == null || js_urls.length === 0) {\n",
       "      run_callbacks();\n",
       "      return null;\n",
       "    }\n",
       "    console.log(\"Bokeh: BokehJS not loaded, scheduling load and callback at\", now());\n",
       "    root._bokeh_is_loading = js_urls.length;\n",
       "    for (var i = 0; i < js_urls.length; i++) {\n",
       "      var url = js_urls[i];\n",
       "      var s = document.createElement('script');\n",
       "      s.src = url;\n",
       "      s.async = false;\n",
       "      s.onreadystatechange = s.onload = function() {\n",
       "        root._bokeh_is_loading--;\n",
       "        if (root._bokeh_is_loading === 0) {\n",
       "          console.log(\"Bokeh: all BokehJS libraries loaded\");\n",
       "          run_callbacks()\n",
       "        }\n",
       "      };\n",
       "      s.onerror = function() {\n",
       "        console.warn(\"failed to load library \" + url);\n",
       "      };\n",
       "      console.log(\"Bokeh: injecting script tag for BokehJS library: \", url);\n",
       "      document.getElementsByTagName(\"head\")[0].appendChild(s);\n",
       "    }\n",
       "  };var element = document.getElementById(\"20613c89-4254-4a56-a8d3-c03683496931\");\n",
       "  if (element == null) {\n",
       "    console.log(\"Bokeh: ERROR: autoload.js configured with elementid '20613c89-4254-4a56-a8d3-c03683496931' but no matching script tag was found. \")\n",
       "    return false;\n",
       "  }\n",
       "\n",
       "  var js_urls = [\"https://cdn.pydata.org/bokeh/release/bokeh-0.12.14.min.js\", \"https://cdn.pydata.org/bokeh/release/bokeh-widgets-0.12.14.min.js\", \"https://cdn.pydata.org/bokeh/release/bokeh-tables-0.12.14.min.js\", \"https://cdn.pydata.org/bokeh/release/bokeh-gl-0.12.14.min.js\"];\n",
       "\n",
       "  var inline_js = [\n",
       "    function(Bokeh) {\n",
       "      Bokeh.set_log_level(\"info\");\n",
       "    },\n",
       "    \n",
       "    function(Bokeh) {\n",
       "      \n",
       "    },\n",
       "    function(Bokeh) {\n",
       "      console.log(\"Bokeh: injecting CSS: https://cdn.pydata.org/bokeh/release/bokeh-0.12.14.min.css\");\n",
       "      Bokeh.embed.inject_css(\"https://cdn.pydata.org/bokeh/release/bokeh-0.12.14.min.css\");\n",
       "      console.log(\"Bokeh: injecting CSS: https://cdn.pydata.org/bokeh/release/bokeh-widgets-0.12.14.min.css\");\n",
       "      Bokeh.embed.inject_css(\"https://cdn.pydata.org/bokeh/release/bokeh-widgets-0.12.14.min.css\");\n",
       "      console.log(\"Bokeh: injecting CSS: https://cdn.pydata.org/bokeh/release/bokeh-tables-0.12.14.min.css\");\n",
       "      Bokeh.embed.inject_css(\"https://cdn.pydata.org/bokeh/release/bokeh-tables-0.12.14.min.css\");\n",
       "    }\n",
       "  ];\n",
       "\n",
       "  function run_inline_js() {\n",
       "    \n",
       "    if ((root.Bokeh !== undefined) || (force === true)) {\n",
       "      for (var i = 0; i < inline_js.length; i++) {\n",
       "        inline_js[i].call(root, root.Bokeh);\n",
       "      }if (force === true) {\n",
       "        display_loaded();\n",
       "      }} else if (Date.now() < root._bokeh_timeout) {\n",
       "      setTimeout(run_inline_js, 100);\n",
       "    } else if (!root._bokeh_failed_load) {\n",
       "      console.log(\"Bokeh: BokehJS failed to load within specified timeout.\");\n",
       "      root._bokeh_failed_load = true;\n",
       "    } else if (force !== true) {\n",
       "      var cell = $(document.getElementById(\"20613c89-4254-4a56-a8d3-c03683496931\")).parents('.cell').data().cell;\n",
       "      cell.output_area.append_execute_result(NB_LOAD_WARNING)\n",
       "    }\n",
       "\n",
       "  }\n",
       "\n",
       "  if (root._bokeh_is_loading === 0) {\n",
       "    console.log(\"Bokeh: BokehJS loaded, going straight to plotting\");\n",
       "    run_inline_js();\n",
       "  } else {\n",
       "    load_libs(js_urls, function() {\n",
       "      console.log(\"Bokeh: BokehJS plotting callback run at\", now());\n",
       "      run_inline_js();\n",
       "    });\n",
       "  }\n",
       "}(window));"
      ],
      "application/vnd.bokehjs_load.v0+json": "\n(function(root) {\n  function now() {\n    return new Date();\n  }\n\n  var force = true;\n\n  if (typeof (root._bokeh_onload_callbacks) === \"undefined\" || force === true) {\n    root._bokeh_onload_callbacks = [];\n    root._bokeh_is_loading = undefined;\n  }\n\n  \n\n  \n  if (typeof (root._bokeh_timeout) === \"undefined\" || force === true) {\n    root._bokeh_timeout = Date.now() + 5000;\n    root._bokeh_failed_load = false;\n  }\n\n  var NB_LOAD_WARNING = {'data': {'text/html':\n     \"<div style='background-color: #fdd'>\\n\"+\n     \"<p>\\n\"+\n     \"BokehJS does not appear to have successfully loaded. If loading BokehJS from CDN, this \\n\"+\n     \"may be due to a slow or bad network connection. Possible fixes:\\n\"+\n     \"</p>\\n\"+\n     \"<ul>\\n\"+\n     \"<li>re-rerun `output_notebook()` to attempt to load from CDN again, or</li>\\n\"+\n     \"<li>use INLINE resources instead, as so:</li>\\n\"+\n     \"</ul>\\n\"+\n     \"<code>\\n\"+\n     \"from bokeh.resources import INLINE\\n\"+\n     \"output_notebook(resources=INLINE)\\n\"+\n     \"</code>\\n\"+\n     \"</div>\"}};\n\n  function display_loaded() {\n    var el = document.getElementById(\"20613c89-4254-4a56-a8d3-c03683496931\");\n    if (el != null) {\n      el.textContent = \"BokehJS is loading...\";\n    }\n    if (root.Bokeh !== undefined) {\n      if (el != null) {\n        el.textContent = \"BokehJS \" + root.Bokeh.version + \" successfully loaded.\";\n      }\n    } else if (Date.now() < root._bokeh_timeout) {\n      setTimeout(display_loaded, 100)\n    }\n  }\n\n\n  function run_callbacks() {\n    try {\n      root._bokeh_onload_callbacks.forEach(function(callback) { callback() });\n    }\n    finally {\n      delete root._bokeh_onload_callbacks\n    }\n    console.info(\"Bokeh: all callbacks have finished\");\n  }\n\n  function load_libs(js_urls, callback) {\n    root._bokeh_onload_callbacks.push(callback);\n    if (root._bokeh_is_loading > 0) {\n      console.log(\"Bokeh: BokehJS is being loaded, scheduling callback at\", now());\n      return null;\n    }\n    if (js_urls == null || js_urls.length === 0) {\n      run_callbacks();\n      return null;\n    }\n    console.log(\"Bokeh: BokehJS not loaded, scheduling load and callback at\", now());\n    root._bokeh_is_loading = js_urls.length;\n    for (var i = 0; i < js_urls.length; i++) {\n      var url = js_urls[i];\n      var s = document.createElement('script');\n      s.src = url;\n      s.async = false;\n      s.onreadystatechange = s.onload = function() {\n        root._bokeh_is_loading--;\n        if (root._bokeh_is_loading === 0) {\n          console.log(\"Bokeh: all BokehJS libraries loaded\");\n          run_callbacks()\n        }\n      };\n      s.onerror = function() {\n        console.warn(\"failed to load library \" + url);\n      };\n      console.log(\"Bokeh: injecting script tag for BokehJS library: \", url);\n      document.getElementsByTagName(\"head\")[0].appendChild(s);\n    }\n  };var element = document.getElementById(\"20613c89-4254-4a56-a8d3-c03683496931\");\n  if (element == null) {\n    console.log(\"Bokeh: ERROR: autoload.js configured with elementid '20613c89-4254-4a56-a8d3-c03683496931' but no matching script tag was found. \")\n    return false;\n  }\n\n  var js_urls = [\"https://cdn.pydata.org/bokeh/release/bokeh-0.12.14.min.js\", \"https://cdn.pydata.org/bokeh/release/bokeh-widgets-0.12.14.min.js\", \"https://cdn.pydata.org/bokeh/release/bokeh-tables-0.12.14.min.js\", \"https://cdn.pydata.org/bokeh/release/bokeh-gl-0.12.14.min.js\"];\n\n  var inline_js = [\n    function(Bokeh) {\n      Bokeh.set_log_level(\"info\");\n    },\n    \n    function(Bokeh) {\n      \n    },\n    function(Bokeh) {\n      console.log(\"Bokeh: injecting CSS: https://cdn.pydata.org/bokeh/release/bokeh-0.12.14.min.css\");\n      Bokeh.embed.inject_css(\"https://cdn.pydata.org/bokeh/release/bokeh-0.12.14.min.css\");\n      console.log(\"Bokeh: injecting CSS: https://cdn.pydata.org/bokeh/release/bokeh-widgets-0.12.14.min.css\");\n      Bokeh.embed.inject_css(\"https://cdn.pydata.org/bokeh/release/bokeh-widgets-0.12.14.min.css\");\n      console.log(\"Bokeh: injecting CSS: https://cdn.pydata.org/bokeh/release/bokeh-tables-0.12.14.min.css\");\n      Bokeh.embed.inject_css(\"https://cdn.pydata.org/bokeh/release/bokeh-tables-0.12.14.min.css\");\n    }\n  ];\n\n  function run_inline_js() {\n    \n    if ((root.Bokeh !== undefined) || (force === true)) {\n      for (var i = 0; i < inline_js.length; i++) {\n        inline_js[i].call(root, root.Bokeh);\n      }if (force === true) {\n        display_loaded();\n      }} else if (Date.now() < root._bokeh_timeout) {\n      setTimeout(run_inline_js, 100);\n    } else if (!root._bokeh_failed_load) {\n      console.log(\"Bokeh: BokehJS failed to load within specified timeout.\");\n      root._bokeh_failed_load = true;\n    } else if (force !== true) {\n      var cell = $(document.getElementById(\"20613c89-4254-4a56-a8d3-c03683496931\")).parents('.cell').data().cell;\n      cell.output_area.append_execute_result(NB_LOAD_WARNING)\n    }\n\n  }\n\n  if (root._bokeh_is_loading === 0) {\n    console.log(\"Bokeh: BokehJS loaded, going straight to plotting\");\n    run_inline_js();\n  } else {\n    load_libs(js_urls, function() {\n      console.log(\"Bokeh: BokehJS plotting callback run at\", now());\n      run_inline_js();\n    });\n  }\n}(window));"
     },
     "metadata": {},
     "output_type": "display_data"
    }
   ],
   "source": [
    "# Bokeh settings\n",
    "from bokeh.plotting import figure, show\n",
    "import bokeh.models\n",
    "import bokeh.plotting\n",
    "from bokeh.models import ColumnDataSource, Span, Label, HoverTool, Range1d\n",
    "from bokeh.embed import components\n",
    "from bokeh.io import output_notebook\n",
    "output_notebook()"
   ]
  },
  {
   "cell_type": "code",
   "execution_count": 431,
   "metadata": {
    "ExecuteTime": {
     "end_time": "2018-03-22T04:13:08.684024Z",
     "start_time": "2018-03-22T04:13:07.855832Z"
    },
    "code_folding": [
     0
    ]
   },
   "outputs": [
    {
     "data": {
      "text/html": [
       "\n",
       "<div class=\"bk-root\">\n",
       "    <div class=\"bk-plotdiv\" id=\"cde3d793-73dc-4f9b-8503-e391c1c207e8\"></div>\n",
       "</div>"
      ]
     },
     "metadata": {},
     "output_type": "display_data"
    },
    {
     "data": {
      "application/javascript": [
       "(function(root) {\n",
       "  function embed_document(root) {\n",
       "    \n",
       "  var docs_json = {\"1b8ebe98-5720-4d5d-a757-f659fc8c32ba\":{\"roots\":{\"references\":[{\"attributes\":{\"bottom\":{\"expr\":{\"id\":\"ea694c5a-5ebe-435e-8200-c778e6b503fa\",\"type\":\"Stack\"}},\"fill_alpha\":{\"value\":0.1},\"fill_color\":{\"value\":\"#1f77b4\"},\"line_alpha\":{\"value\":0.1},\"line_color\":{\"value\":\"#1f77b4\"},\"top\":{\"expr\":{\"id\":\"8c94d4ff-e96e-4f28-9364-82cf607782e4\",\"type\":\"Stack\"}},\"width\":{\"value\":2049953684.2105262},\"x\":{\"field\":\"dates\"}},\"id\":\"a98adec6-2b59-4edd-acc3-24a9db8c9072\",\"type\":\"VBar\"},{\"attributes\":{\"bottom\":{\"expr\":{\"id\":\"e5bab03e-9d91-473f-9685-04340b3bffaf\",\"type\":\"Stack\"}},\"fill_color\":{\"value\":\"#FFEA00\"},\"line_alpha\":{\"value\":0},\"line_color\":{\"value\":\"#FFEA00\"},\"top\":{\"expr\":{\"id\":\"21c36b7c-c668-486a-a3d6-036790b98afe\",\"type\":\"Stack\"}},\"width\":{\"value\":2049953684.2105262},\"x\":{\"field\":\"dates\"}},\"id\":\"6769b920-94d3-48ed-a3d4-04dfe1ff89a7\",\"type\":\"VBar\"},{\"attributes\":{\"bottom\":{\"expr\":{\"id\":\"bc663041-3557-40ca-b934-6218adf5e848\",\"type\":\"Stack\"}},\"fill_color\":{\"value\":\"#00c853\"},\"line_alpha\":{\"value\":0},\"line_color\":{\"value\":\"#00c853\"},\"top\":{\"expr\":{\"id\":\"b1362552-e419-455b-8822-c68dc07015c8\",\"type\":\"Stack\"}},\"width\":{\"value\":2049953684.2105262},\"x\":{\"field\":\"dates\"}},\"id\":\"8ea02469-acbb-4b75-9587-4efeb47d9b55\",\"type\":\"VBar\"},{\"attributes\":{\"bottom\":{\"expr\":{\"id\":\"e5bab03e-9d91-473f-9685-04340b3bffaf\",\"type\":\"Stack\"}},\"fill_alpha\":{\"value\":0.1},\"fill_color\":{\"value\":\"#1f77b4\"},\"line_alpha\":{\"value\":0.1},\"line_color\":{\"value\":\"#1f77b4\"},\"top\":{\"expr\":{\"id\":\"21c36b7c-c668-486a-a3d6-036790b98afe\",\"type\":\"Stack\"}},\"width\":{\"value\":2049953684.2105262},\"x\":{\"field\":\"dates\"}},\"id\":\"48a84375-6d13-4264-a233-1006b8b900b9\",\"type\":\"VBar\"},{\"attributes\":{},\"id\":\"696ef738-965a-4df6-8196-9ee3fc465804\",\"type\":\"DatetimeTickFormatter\"},{\"attributes\":{\"label\":{\"value\":\"Core services\"},\"renderers\":[{\"id\":\"47338abe-7ab6-465c-95c4-4c5a17117f2f\",\"type\":\"GlyphRenderer\"}]},\"id\":\"1e2f3e07-e761-4f06-bde5-dc6867dba3ce\",\"type\":\"LegendItem\"},{\"attributes\":{\"callback\":null,\"column_names\":[\"core services\",\"shelter\",\"core goods\",\"food & energy\",\"dates\"],\"data\":{\"core goods\":[0,0,0,0,0,0,0,0,0,0,0,0,0,0.01,0,0,0,0,0,0,0,0,0,0,0,0,0,0,0,0,0,0,0,0,0,0,0,0],\"core services\":[0.49,0.45,0.45,0.47,0.46,0.48,0.49,0.51,0.54,0.59,0.64,0.66,0.68,0.73,0.74,0.73,0.76,0.76,0.76,0.8,0.73,0.64,0.63,0.65,0.67,0.69,0.56,0.47,0.41,0.39,0.41,0.4,0.46,0.52,0.47,0.47,0.5,0.51],\"dates\":[1420070400000.0,1422748800000.0,1425168000000.0,1427846400000.0,1430438400000.0,1433116800000.0,1435708800000.0,1438387200000.0,1441065600000.0,1443657600000.0,1446336000000.0,1448928000000.0,1451606400000.0,1454284800000.0,1456790400000.0,1459468800000.0,1462060800000.0,1464739200000.0,1467331200000.0,1470009600000.0,1472688000000.0,1475280000000.0,1477958400000.0,1480550400000.0,1483228800000.0,1485907200000.0,1488326400000.0,1491004800000.0,1493596800000.0,1496275200000.0,1498867200000.0,1501545600000.0,1504224000000.0,1506816000000.0,1509494400000.0,1512086400000.0,1514764800000.0,1517443200000.0],\"food & energy\":[0,0,0,0,0,0,0,0,0,0,0,0,0,0,0,0,0,0,0,0,0,0,0.03,0.35,0.73,1.01,0.82,0.74,0.53,0.3,0.41,0.64,0.95,0.67,0.89,0.74,0.67,0.79],\"shelter\":[0.94,0.96,0.96,0.97,0.94,0.98,1.02,1.01,1.04,1.05,1.05,1.06,1.07,1.09,1.06,1.07,1.13,1.16,1.11,1.15,1.16,1.19,1.21,1.23,1.21,1.21,1.19,1.19,1.15,1.13,1.1,1.15,1.13,1.14,1.11,1.13,1.13,1.11]}},\"id\":\"c025da1b-9d43-4df3-bd3b-a5d1956b29ea\",\"type\":\"ColumnDataSource\"},{\"attributes\":{},\"id\":\"d196c659-7782-4411-a824-1fab72ea691b\",\"type\":\"BasicTickFormatter\"},{\"attributes\":{\"plot\":null,\"text\":\"\"},\"id\":\"0daf65f8-b7d9-4bed-aa95-e76ae7a66804\",\"type\":\"Title\"},{\"attributes\":{\"mantissas\":[1,2,5],\"max_interval\":500.0,\"num_minor_ticks\":0},\"id\":\"a0b16daa-f0d6-43e0-96b7-176c171c1550\",\"type\":\"AdaptiveTicker\"},{\"attributes\":{\"data_source\":{\"id\":\"c025da1b-9d43-4df3-bd3b-a5d1956b29ea\",\"type\":\"ColumnDataSource\"},\"glyph\":{\"id\":\"6769b920-94d3-48ed-a3d4-04dfe1ff89a7\",\"type\":\"VBar\"},\"hover_glyph\":null,\"muted_glyph\":null,\"nonselection_glyph\":{\"id\":\"48a84375-6d13-4264-a233-1006b8b900b9\",\"type\":\"VBar\"},\"selection_glyph\":null,\"view\":{\"id\":\"10016925-7fe6-41aa-9827-5083971107ff\",\"type\":\"CDSView\"}},\"id\":\"47338abe-7ab6-465c-95c4-4c5a17117f2f\",\"type\":\"GlyphRenderer\"},{\"attributes\":{\"source\":{\"id\":\"c025da1b-9d43-4df3-bd3b-a5d1956b29ea\",\"type\":\"ColumnDataSource\"}},\"id\":\"10016925-7fe6-41aa-9827-5083971107ff\",\"type\":\"CDSView\"},{\"attributes\":{\"base\":24,\"mantissas\":[1,2,4,6,8,12],\"max_interval\":43200000.0,\"min_interval\":3600000.0,\"num_minor_ticks\":0},\"id\":\"77ef036b-c4e9-4969-90d3-08d58e0d1b6b\",\"type\":\"AdaptiveTicker\"},{\"attributes\":{\"line_color\":{\"value\":\"gray\"},\"location\":0,\"plot\":{\"id\":\"436ff3cb-7b26-432f-9d68-94614e054c98\",\"subtype\":\"Figure\",\"type\":\"Plot\"}},\"id\":\"6b81790a-3ddc-4012-bb19-e8c85cf3fd93\",\"type\":\"Span\"},{\"attributes\":{\"base\":60,\"mantissas\":[1,2,5,10,15,20,30],\"max_interval\":1800000.0,\"min_interval\":1000.0,\"num_minor_ticks\":0},\"id\":\"ff7a597d-2d51-4266-97d9-e275f0c31f66\",\"type\":\"AdaptiveTicker\"},{\"attributes\":{\"days\":[1,4,7,10,13,16,19,22,25,28]},\"id\":\"05409991-7901-46f1-ae1d-14526194f0a5\",\"type\":\"DaysTicker\"},{\"attributes\":{\"days\":[1,2,3,4,5,6,7,8,9,10,11,12,13,14,15,16,17,18,19,20,21,22,23,24,25,26,27,28,29,30,31]},\"id\":\"1b963430-b53b-467f-a5d9-8a73512ff1a4\",\"type\":\"DaysTicker\"},{\"attributes\":{\"days\":[1,8,15,22]},\"id\":\"a38e359f-8437-4a67-9d05-44a1366404c8\",\"type\":\"DaysTicker\"},{\"attributes\":{\"days\":[1,15]},\"id\":\"866e191c-525f-4625-9d1e-00f4e182bb17\",\"type\":\"DaysTicker\"},{\"attributes\":{\"months\":[0,1,2,3,4,5,6,7,8,9,10,11]},\"id\":\"c31ae114-3414-4029-b6ce-145c3519748b\",\"type\":\"MonthsTicker\"},{\"attributes\":{\"months\":[0,2,4,6,8,10]},\"id\":\"d637c249-b29e-45ae-9efe-bc555cb693eb\",\"type\":\"MonthsTicker\"},{\"attributes\":{\"months\":[0,4,8]},\"id\":\"225a014f-f4db-40a8-8063-4fd19563310c\",\"type\":\"MonthsTicker\"},{\"attributes\":{\"fields\":[\"core services\",\"shelter\",\"core goods\",\"food & energy\"]},\"id\":\"9f11a529-277e-4a00-9298-854e800c58a7\",\"type\":\"Stack\"},{\"attributes\":{\"months\":[0,6]},\"id\":\"eafd8a2a-8889-4e1d-bc3e-afbe3d716596\",\"type\":\"MonthsTicker\"},{\"attributes\":{},\"id\":\"32aa5e2d-f189-4596-83d3-8acb86b7daae\",\"type\":\"YearsTicker\"},{\"attributes\":{\"background_fill_alpha\":{\"value\":0},\"border_line_alpha\":{\"value\":0},\"glyph_height\":14,\"glyph_width\":14,\"items\":[{\"id\":\"1e2f3e07-e761-4f06-bde5-dc6867dba3ce\",\"type\":\"LegendItem\"},{\"id\":\"240f27e0-6839-42e3-aad2-c7e3389d40b1\",\"type\":\"LegendItem\"},{\"id\":\"8955f58a-a1b9-41d6-be23-d718ee9e5c76\",\"type\":\"LegendItem\"},{\"id\":\"96005f50-5d0c-4e1a-a7b9-70697f9277dd\",\"type\":\"LegendItem\"}],\"label_text_font_size\":{\"value\":\"9pt\"},\"location\":\"top_left\",\"margin\":5,\"orientation\":\"horizontal\",\"padding\":0,\"plot\":{\"id\":\"436ff3cb-7b26-432f-9d68-94614e054c98\",\"subtype\":\"Figure\",\"type\":\"Plot\"},\"spacing\":10},\"id\":\"0230115d-cd3e-4372-957e-cc33447a23dd\",\"type\":\"Legend\"},{\"attributes\":{\"data_source\":{\"id\":\"c025da1b-9d43-4df3-bd3b-a5d1956b29ea\",\"type\":\"ColumnDataSource\"},\"glyph\":{\"id\":\"522458eb-bf54-49f3-8126-edb3ec67a6f1\",\"type\":\"VBar\"},\"hover_glyph\":null,\"muted_glyph\":null,\"nonselection_glyph\":{\"id\":\"041825d5-f348-4d8d-9584-6cb3524fa19e\",\"type\":\"VBar\"},\"selection_glyph\":null,\"view\":{\"id\":\"67b212dd-3ffd-46c9-b4ac-86506a781799\",\"type\":\"CDSView\"}},\"id\":\"8086f4e1-270f-4898-85be-e853f9130e93\",\"type\":\"GlyphRenderer\"},{\"attributes\":{\"fields\":[\"core services\",\"shelter\",\"core goods\"]},\"id\":\"47c85a08-0843-4c0a-8486-434d3b647b2d\",\"type\":\"Stack\"},{\"attributes\":{\"label\":{\"value\":\"Shelter\"},\"renderers\":[{\"id\":\"5faa6696-9172-4010-8900-a544387ba064\",\"type\":\"GlyphRenderer\"}]},\"id\":\"240f27e0-6839-42e3-aad2-c7e3389d40b1\",\"type\":\"LegendItem\"},{\"attributes\":{\"bottom\":{\"expr\":{\"id\":\"aecf1dee-fd52-4501-bdc2-e339c08477a2\",\"type\":\"Stack\"}},\"fill_alpha\":{\"value\":0.1},\"fill_color\":{\"value\":\"#1f77b4\"},\"line_alpha\":{\"value\":0.1},\"line_color\":{\"value\":\"#1f77b4\"},\"top\":{\"expr\":{\"id\":\"14765605-d40e-4e1f-bfac-d42a21f621e1\",\"type\":\"Stack\"}},\"width\":{\"value\":2049953684.2105262},\"x\":{\"field\":\"dates\"}},\"id\":\"d908ca07-debd-4ac6-b0ec-14fdd1eb62f8\",\"type\":\"VBar\"},{\"attributes\":{\"bottom\":{\"expr\":{\"id\":\"bc663041-3557-40ca-b934-6218adf5e848\",\"type\":\"Stack\"}},\"fill_alpha\":{\"value\":0.1},\"fill_color\":{\"value\":\"#1f77b4\"},\"line_alpha\":{\"value\":0.1},\"line_color\":{\"value\":\"#1f77b4\"},\"top\":{\"expr\":{\"id\":\"b1362552-e419-455b-8822-c68dc07015c8\",\"type\":\"Stack\"}},\"width\":{\"value\":2049953684.2105262},\"x\":{\"field\":\"dates\"}},\"id\":\"f5d8a05b-2283-4e22-a3ad-3e740946e042\",\"type\":\"VBar\"},{\"attributes\":{\"bottom\":{\"expr\":{\"id\":\"10902df8-aa0f-4bb2-9046-403161219664\",\"type\":\"Stack\"}},\"fill_alpha\":{\"value\":0.1},\"fill_color\":{\"value\":\"#1f77b4\"},\"line_alpha\":{\"value\":0.1},\"line_color\":{\"value\":\"#1f77b4\"},\"top\":{\"expr\":{\"id\":\"9f11a529-277e-4a00-9298-854e800c58a7\",\"type\":\"Stack\"}},\"width\":{\"value\":2049953684.2105262},\"x\":{\"field\":\"dates\"}},\"id\":\"041825d5-f348-4d8d-9584-6cb3524fa19e\",\"type\":\"VBar\"},{\"attributes\":{\"bottom\":{\"expr\":{\"id\":\"e5038684-4adb-4a30-92c5-88267d5d5791\",\"type\":\"Stack\"}},\"fill_color\":{\"value\":\"#80DEEA\"},\"line_alpha\":{\"value\":0},\"line_color\":{\"value\":\"#80DEEA\"},\"top\":{\"expr\":{\"id\":\"7ec5aa42-1012-4a19-a32e-f4cf8fc7fb3b\",\"type\":\"Stack\"}},\"width\":{\"value\":2049953684.2105262},\"x\":{\"field\":\"dates\"}},\"id\":\"85ffb82a-e8e4-4853-a432-2e655b30cee3\",\"type\":\"VBar\"},{\"attributes\":{},\"id\":\"380b551a-acf4-4a92-a266-ac04ea11bdd5\",\"type\":\"PanTool\"},{\"attributes\":{\"bottom\":{\"expr\":{\"id\":\"aecf1dee-fd52-4501-bdc2-e339c08477a2\",\"type\":\"Stack\"}},\"fill_color\":{\"value\":\"#80DEEA\"},\"line_alpha\":{\"value\":0},\"line_color\":{\"value\":\"#80DEEA\"},\"top\":{\"expr\":{\"id\":\"14765605-d40e-4e1f-bfac-d42a21f621e1\",\"type\":\"Stack\"}},\"width\":{\"value\":2049953684.2105262},\"x\":{\"field\":\"dates\"}},\"id\":\"c6d6165f-8924-40f0-b317-6e8ae1c7af80\",\"type\":\"VBar\"},{\"attributes\":{\"fields\":[\"core services\"]},\"id\":\"aecf1dee-fd52-4501-bdc2-e339c08477a2\",\"type\":\"Stack\"},{\"attributes\":{\"fields\":[\"core services\",\"shelter\"]},\"id\":\"7ec5aa42-1012-4a19-a32e-f4cf8fc7fb3b\",\"type\":\"Stack\"},{\"attributes\":{\"fields\":[\"core services\"]},\"id\":\"8c94d4ff-e96e-4f28-9364-82cf607782e4\",\"type\":\"Stack\"},{\"attributes\":{\"label\":{\"value\":\"Core goods\"},\"renderers\":[{\"id\":\"522f05cd-13de-44ba-928a-83949cc21bde\",\"type\":\"GlyphRenderer\"}]},\"id\":\"8955f58a-a1b9-41d6-be23-d718ee9e5c76\",\"type\":\"LegendItem\"},{\"attributes\":{\"data_source\":{\"id\":\"c025da1b-9d43-4df3-bd3b-a5d1956b29ea\",\"type\":\"ColumnDataSource\"},\"glyph\":{\"id\":\"8ea02469-acbb-4b75-9587-4efeb47d9b55\",\"type\":\"VBar\"},\"hover_glyph\":null,\"muted_glyph\":null,\"nonselection_glyph\":{\"id\":\"f5d8a05b-2283-4e22-a3ad-3e740946e042\",\"type\":\"VBar\"},\"selection_glyph\":null,\"view\":{\"id\":\"9b4c19d7-122e-4e5b-92bc-8d6ddd4ae3ec\",\"type\":\"CDSView\"}},\"id\":\"522f05cd-13de-44ba-928a-83949cc21bde\",\"type\":\"GlyphRenderer\"},{\"attributes\":{},\"id\":\"817fc9fb-99cc-4d0d-b4e5-c743f9ba07ce\",\"type\":\"ResetTool\"},{\"attributes\":{\"data_source\":{\"id\":\"c025da1b-9d43-4df3-bd3b-a5d1956b29ea\",\"type\":\"ColumnDataSource\"},\"glyph\":{\"id\":\"c6d6165f-8924-40f0-b317-6e8ae1c7af80\",\"type\":\"VBar\"},\"hover_glyph\":null,\"muted_glyph\":null,\"nonselection_glyph\":{\"id\":\"d908ca07-debd-4ac6-b0ec-14fdd1eb62f8\",\"type\":\"VBar\"},\"selection_glyph\":null,\"view\":{\"id\":\"c1c439b2-de88-4589-87eb-39e44800c12a\",\"type\":\"CDSView\"}},\"id\":\"5faa6696-9172-4010-8900-a544387ba064\",\"type\":\"GlyphRenderer\"},{\"attributes\":{\"source\":{\"id\":\"c025da1b-9d43-4df3-bd3b-a5d1956b29ea\",\"type\":\"ColumnDataSource\"}},\"id\":\"c1c439b2-de88-4589-87eb-39e44800c12a\",\"type\":\"CDSView\"},{\"attributes\":{\"fields\":[]},\"id\":\"ea694c5a-5ebe-435e-8200-c778e6b503fa\",\"type\":\"Stack\"},{\"attributes\":{\"source\":{\"id\":\"c025da1b-9d43-4df3-bd3b-a5d1956b29ea\",\"type\":\"ColumnDataSource\"}},\"id\":\"9b4c19d7-122e-4e5b-92bc-8d6ddd4ae3ec\",\"type\":\"CDSView\"},{\"attributes\":{\"source\":{\"id\":\"c025da1b-9d43-4df3-bd3b-a5d1956b29ea\",\"type\":\"ColumnDataSource\"}},\"id\":\"67b212dd-3ffd-46c9-b4ac-86506a781799\",\"type\":\"CDSView\"},{\"attributes\":{\"label\":{\"value\":\"Food & energy\"},\"renderers\":[{\"id\":\"8086f4e1-270f-4898-85be-e853f9130e93\",\"type\":\"GlyphRenderer\"}]},\"id\":\"96005f50-5d0c-4e1a-a7b9-70697f9277dd\",\"type\":\"LegendItem\"},{\"attributes\":{\"num_minor_ticks\":5,\"tickers\":[{\"id\":\"a0b16daa-f0d6-43e0-96b7-176c171c1550\",\"type\":\"AdaptiveTicker\"},{\"id\":\"ff7a597d-2d51-4266-97d9-e275f0c31f66\",\"type\":\"AdaptiveTicker\"},{\"id\":\"77ef036b-c4e9-4969-90d3-08d58e0d1b6b\",\"type\":\"AdaptiveTicker\"},{\"id\":\"1b963430-b53b-467f-a5d9-8a73512ff1a4\",\"type\":\"DaysTicker\"},{\"id\":\"05409991-7901-46f1-ae1d-14526194f0a5\",\"type\":\"DaysTicker\"},{\"id\":\"a38e359f-8437-4a67-9d05-44a1366404c8\",\"type\":\"DaysTicker\"},{\"id\":\"866e191c-525f-4625-9d1e-00f4e182bb17\",\"type\":\"DaysTicker\"},{\"id\":\"c31ae114-3414-4029-b6ce-145c3519748b\",\"type\":\"MonthsTicker\"},{\"id\":\"d637c249-b29e-45ae-9efe-bc555cb693eb\",\"type\":\"MonthsTicker\"},{\"id\":\"225a014f-f4db-40a8-8063-4fd19563310c\",\"type\":\"MonthsTicker\"},{\"id\":\"eafd8a2a-8889-4e1d-bc3e-afbe3d716596\",\"type\":\"MonthsTicker\"},{\"id\":\"32aa5e2d-f189-4596-83d3-8acb86b7daae\",\"type\":\"YearsTicker\"}]},\"id\":\"6994512f-2bf6-4771-836d-d22e1289fcf1\",\"type\":\"DatetimeTicker\"},{\"attributes\":{\"fields\":[\"core services\",\"shelter\"]},\"id\":\"bba64c4d-51dc-4d4f-bc8c-9f5aeab31829\",\"type\":\"Stack\"},{\"attributes\":{\"fields\":[\"core services\",\"shelter\",\"core goods\"]},\"id\":\"10902df8-aa0f-4bb2-9046-403161219664\",\"type\":\"Stack\"},{\"attributes\":{\"fields\":[\"core services\",\"shelter\",\"core goods\"]},\"id\":\"31dedf4e-12b5-4cbb-829b-eb792bbe1de8\",\"type\":\"Stack\"},{\"attributes\":{\"bottom_units\":\"screen\",\"fill_alpha\":{\"value\":0.5},\"fill_color\":{\"value\":\"lightgrey\"},\"left_units\":\"screen\",\"level\":\"overlay\",\"line_alpha\":{\"value\":1.0},\"line_color\":{\"value\":\"black\"},\"line_dash\":[4,4],\"line_width\":{\"value\":2},\"plot\":null,\"render_mode\":\"css\",\"right_units\":\"screen\",\"top_units\":\"screen\"},\"id\":\"a466ed94-3b38-45af-82be-da7f5365ad9d\",\"type\":\"BoxAnnotation\"},{\"attributes\":{\"fields\":[\"core services\"]},\"id\":\"e5038684-4adb-4a30-92c5-88267d5d5791\",\"type\":\"Stack\"},{\"attributes\":{\"fields\":[\"core services\",\"shelter\",\"core goods\",\"food & energy\"]},\"id\":\"10b7e498-395a-497c-8696-fa6843fd839e\",\"type\":\"Stack\"},{\"attributes\":{\"bottom\":{\"expr\":{\"id\":\"ea694c5a-5ebe-435e-8200-c778e6b503fa\",\"type\":\"Stack\"}},\"fill_color\":{\"value\":\"#FFEA00\"},\"line_alpha\":{\"value\":0},\"line_color\":{\"value\":\"#FFEA00\"},\"top\":{\"expr\":{\"id\":\"8c94d4ff-e96e-4f28-9364-82cf607782e4\",\"type\":\"Stack\"}},\"width\":{\"value\":2049953684.2105262},\"x\":{\"field\":\"dates\"}},\"id\":\"a6ac422b-e82b-4541-a4d6-5d6b2bf37cb0\",\"type\":\"VBar\"},{\"attributes\":{\"axis_line_color\":{\"value\":\"white\"},\"formatter\":{\"id\":\"696ef738-965a-4df6-8196-9ee3fc465804\",\"type\":\"DatetimeTickFormatter\"},\"plot\":{\"id\":\"436ff3cb-7b26-432f-9d68-94614e054c98\",\"subtype\":\"Figure\",\"type\":\"Plot\"},\"ticker\":{\"id\":\"6994512f-2bf6-4771-836d-d22e1289fcf1\",\"type\":\"DatetimeTicker\"}},\"id\":\"31aced83-3c25-4898-a5f8-58f5634ab8d9\",\"type\":\"DatetimeAxis\"},{\"attributes\":{\"bottom\":{\"expr\":{\"id\":\"47c85a08-0843-4c0a-8486-434d3b647b2d\",\"type\":\"Stack\"}},\"fill_color\":{\"value\":\"#304FFE\"},\"line_alpha\":{\"value\":0},\"line_color\":{\"value\":\"#304FFE\"},\"top\":{\"expr\":{\"id\":\"10b7e498-395a-497c-8696-fa6843fd839e\",\"type\":\"Stack\"}},\"width\":{\"value\":2049953684.2105262},\"x\":{\"field\":\"dates\"}},\"id\":\"fedd2bff-6dd1-4646-b9a4-68cf6d1cd3f8\",\"type\":\"VBar\"},{\"attributes\":{\"bottom\":{\"expr\":{\"id\":\"bba64c4d-51dc-4d4f-bc8c-9f5aeab31829\",\"type\":\"Stack\"}},\"fill_color\":{\"value\":\"#00c853\"},\"line_alpha\":{\"value\":0},\"line_color\":{\"value\":\"#00c853\"},\"top\":{\"expr\":{\"id\":\"31dedf4e-12b5-4cbb-829b-eb792bbe1de8\",\"type\":\"Stack\"}},\"width\":{\"value\":2049953684.2105262},\"x\":{\"field\":\"dates\"}},\"id\":\"07d3e4da-8d41-44ba-9a8e-4df0f9b30702\",\"type\":\"VBar\"},{\"attributes\":{\"callback\":null,\"column_names\":[\"core services\",\"shelter\",\"core goods\",\"food & energy\",\"dates\"],\"data\":{\"core goods\":[-0.16,-0.1,-0.05,-0.04,-0.06,-0.09,-0.1,-0.1,-0.1,-0.14,-0.11,-0.08,-0.02,0,-0.07,-0.1,-0.11,-0.12,-0.12,-0.09,-0.13,-0.11,-0.14,-0.12,-0.05,-0.1,-0.11,-0.12,-0.15,-0.13,-0.12,-0.17,-0.2,-0.19,-0.17,-0.14,-0.13,-0.1],\"core services\":[0,0,0,0,0,0,0,0,0,0,0,0,0,0,0,0,0,0,0,0,0,0,0,0,0,0,0,0,0,0,0,0,0,0,0,0,0,0],\"dates\":[1420070400000.0,1422748800000.0,1425168000000.0,1427846400000.0,1430438400000.0,1433116800000.0,1435708800000.0,1438387200000.0,1441065600000.0,1443657600000.0,1446336000000.0,1448928000000.0,1451606400000.0,1454284800000.0,1456790400000.0,1459468800000.0,1462060800000.0,1464739200000.0,1467331200000.0,1470009600000.0,1472688000000.0,1475280000000.0,1477958400000.0,1480550400000.0,1483228800000.0,1485907200000.0,1488326400000.0,1491004800000.0,1493596800000.0,1496275200000.0,1498867200000.0,1501545600000.0,1504224000000.0,1506816000000.0,1509494400000.0,1512086400000.0,1514764800000.0,1517443200000.0],\"food & energy\":[-1.36,-1.34,-1.44,-1.61,-1.38,-1.25,-1.24,-1.23,-1.52,-1.33,-1.07,-0.91,-0.36,-0.82,-0.88,-0.56,-0.74,-0.76,-0.89,-0.76,-0.27,-0.05,0,0,0,0,0,0,0,0,0,0,0,0,0,0,0,0],\"shelter\":[0,0,0,0,0,0,0,0,0,0,0,0,0,0,0,0,0,0,0,0,0,0,0,0,0,0,0,0,0,0,0,0,0,0,0,0,0,0]}},\"id\":\"0296402b-d764-445b-9f12-d6ad7765442a\",\"type\":\"ColumnDataSource\"},{\"attributes\":{\"bottom\":{\"expr\":{\"id\":\"e5038684-4adb-4a30-92c5-88267d5d5791\",\"type\":\"Stack\"}},\"fill_alpha\":{\"value\":0.1},\"fill_color\":{\"value\":\"#1f77b4\"},\"line_alpha\":{\"value\":0.1},\"line_color\":{\"value\":\"#1f77b4\"},\"top\":{\"expr\":{\"id\":\"7ec5aa42-1012-4a19-a32e-f4cf8fc7fb3b\",\"type\":\"Stack\"}},\"width\":{\"value\":2049953684.2105262},\"x\":{\"field\":\"dates\"}},\"id\":\"cfc3c110-ad70-4b99-ac61-abf4a374331d\",\"type\":\"VBar\"},{\"attributes\":{\"data_source\":{\"id\":\"0296402b-d764-445b-9f12-d6ad7765442a\",\"type\":\"ColumnDataSource\"},\"glyph\":{\"id\":\"a6ac422b-e82b-4541-a4d6-5d6b2bf37cb0\",\"type\":\"VBar\"},\"hover_glyph\":null,\"muted_glyph\":null,\"nonselection_glyph\":{\"id\":\"a98adec6-2b59-4edd-acc3-24a9db8c9072\",\"type\":\"VBar\"},\"selection_glyph\":null,\"view\":{\"id\":\"1404edbf-9404-4398-9023-3713ba0c5983\",\"type\":\"CDSView\"}},\"id\":\"3ac5b713-0b27-4599-bd4d-31c7367c3de0\",\"type\":\"GlyphRenderer\"},{\"attributes\":{\"source\":{\"id\":\"0296402b-d764-445b-9f12-d6ad7765442a\",\"type\":\"ColumnDataSource\"}},\"id\":\"1404edbf-9404-4398-9023-3713ba0c5983\",\"type\":\"CDSView\"},{\"attributes\":{\"fields\":[\"core services\",\"shelter\"]},\"id\":\"14765605-d40e-4e1f-bfac-d42a21f621e1\",\"type\":\"Stack\"},{\"attributes\":{\"bottom\":{\"expr\":{\"id\":\"bba64c4d-51dc-4d4f-bc8c-9f5aeab31829\",\"type\":\"Stack\"}},\"fill_alpha\":{\"value\":0.1},\"fill_color\":{\"value\":\"#1f77b4\"},\"line_alpha\":{\"value\":0.1},\"line_color\":{\"value\":\"#1f77b4\"},\"top\":{\"expr\":{\"id\":\"31dedf4e-12b5-4cbb-829b-eb792bbe1de8\",\"type\":\"Stack\"}},\"width\":{\"value\":2049953684.2105262},\"x\":{\"field\":\"dates\"}},\"id\":\"5feae206-d9a1-4feb-8820-dfbbbd7d698f\",\"type\":\"VBar\"},{\"attributes\":{\"data_source\":{\"id\":\"0296402b-d764-445b-9f12-d6ad7765442a\",\"type\":\"ColumnDataSource\"},\"glyph\":{\"id\":\"85ffb82a-e8e4-4853-a432-2e655b30cee3\",\"type\":\"VBar\"},\"hover_glyph\":null,\"muted_glyph\":null,\"nonselection_glyph\":{\"id\":\"cfc3c110-ad70-4b99-ac61-abf4a374331d\",\"type\":\"VBar\"},\"selection_glyph\":null,\"view\":{\"id\":\"981cc730-0a25-4cd8-9c28-ecfbdf9969b8\",\"type\":\"CDSView\"}},\"id\":\"d5db0052-9f76-4959-8d88-cfc1812df2fd\",\"type\":\"GlyphRenderer\"},{\"attributes\":{\"fields\":[]},\"id\":\"e5bab03e-9d91-473f-9685-04340b3bffaf\",\"type\":\"Stack\"},{\"attributes\":{},\"id\":\"62a24597-9f53-409c-9622-674d0f68bb35\",\"type\":\"BasicTicker\"},{\"attributes\":{\"source\":{\"id\":\"0296402b-d764-445b-9f12-d6ad7765442a\",\"type\":\"ColumnDataSource\"}},\"id\":\"981cc730-0a25-4cd8-9c28-ecfbdf9969b8\",\"type\":\"CDSView\"},{\"attributes\":{\"overlay\":{\"id\":\"a466ed94-3b38-45af-82be-da7f5365ad9d\",\"type\":\"BoxAnnotation\"}},\"id\":\"adbaa9a9-f1c7-411d-8fee-0e2ccc7d178a\",\"type\":\"BoxZoomTool\"},{\"attributes\":{\"axis_line_color\":{\"value\":\"white\"},\"formatter\":{\"id\":\"d196c659-7782-4411-a824-1fab72ea691b\",\"type\":\"BasicTickFormatter\"},\"plot\":{\"id\":\"436ff3cb-7b26-432f-9d68-94614e054c98\",\"subtype\":\"Figure\",\"type\":\"Plot\"},\"ticker\":{\"id\":\"62a24597-9f53-409c-9622-674d0f68bb35\",\"type\":\"BasicTicker\"}},\"id\":\"5008ffd0-7454-48d1-81d0-01c520dae88c\",\"type\":\"LinearAxis\"},{\"attributes\":{},\"id\":\"aa1d5c6e-38cb-4f2b-90e0-3bd5442ff8d1\",\"type\":\"LinearScale\"},{\"attributes\":{\"bottom\":{\"expr\":{\"id\":\"10902df8-aa0f-4bb2-9046-403161219664\",\"type\":\"Stack\"}},\"fill_color\":{\"value\":\"#304FFE\"},\"line_alpha\":{\"value\":0},\"line_color\":{\"value\":\"#304FFE\"},\"top\":{\"expr\":{\"id\":\"9f11a529-277e-4a00-9298-854e800c58a7\",\"type\":\"Stack\"}},\"width\":{\"value\":2049953684.2105262},\"x\":{\"field\":\"dates\"}},\"id\":\"522458eb-bf54-49f3-8126-edb3ec67a6f1\",\"type\":\"VBar\"},{\"attributes\":{\"data_source\":{\"id\":\"0296402b-d764-445b-9f12-d6ad7765442a\",\"type\":\"ColumnDataSource\"},\"glyph\":{\"id\":\"07d3e4da-8d41-44ba-9a8e-4df0f9b30702\",\"type\":\"VBar\"},\"hover_glyph\":null,\"muted_glyph\":null,\"nonselection_glyph\":{\"id\":\"5feae206-d9a1-4feb-8820-dfbbbd7d698f\",\"type\":\"VBar\"},\"selection_glyph\":null,\"view\":{\"id\":\"918fe89f-5b7c-4ba2-9327-1ce807be9765\",\"type\":\"CDSView\"}},\"id\":\"dfed76fd-1b08-442b-bf5d-312be266d3b8\",\"type\":\"GlyphRenderer\"},{\"attributes\":{\"fields\":[\"core services\",\"shelter\",\"core goods\"]},\"id\":\"b1362552-e419-455b-8822-c68dc07015c8\",\"type\":\"Stack\"},{\"attributes\":{\"dimension\":1,\"plot\":{\"id\":\"436ff3cb-7b26-432f-9d68-94614e054c98\",\"subtype\":\"Figure\",\"type\":\"Plot\"},\"ticker\":{\"id\":\"62a24597-9f53-409c-9622-674d0f68bb35\",\"type\":\"BasicTicker\"}},\"id\":\"f1cd4645-1ec8-4992-a7d7-80b3a90d08e8\",\"type\":\"Grid\"},{\"attributes\":{\"source\":{\"id\":\"0296402b-d764-445b-9f12-d6ad7765442a\",\"type\":\"ColumnDataSource\"}},\"id\":\"918fe89f-5b7c-4ba2-9327-1ce807be9765\",\"type\":\"CDSView\"},{\"attributes\":{\"bottom\":{\"expr\":{\"id\":\"47c85a08-0843-4c0a-8486-434d3b647b2d\",\"type\":\"Stack\"}},\"fill_alpha\":{\"value\":0.1},\"fill_color\":{\"value\":\"#1f77b4\"},\"line_alpha\":{\"value\":0.1},\"line_color\":{\"value\":\"#1f77b4\"},\"top\":{\"expr\":{\"id\":\"10b7e498-395a-497c-8696-fa6843fd839e\",\"type\":\"Stack\"}},\"width\":{\"value\":2049953684.2105262},\"x\":{\"field\":\"dates\"}},\"id\":\"84221f84-ae69-4067-ba58-052f161f3e2d\",\"type\":\"VBar\"},{\"attributes\":{\"callback\":null},\"id\":\"78d1fbc3-ba41-4ac4-8b1d-b34c4563610d\",\"type\":\"HoverTool\"},{\"attributes\":{\"fields\":[\"core services\"]},\"id\":\"21c36b7c-c668-486a-a3d6-036790b98afe\",\"type\":\"Stack\"},{\"attributes\":{\"grid_line_color\":{\"value\":null},\"plot\":{\"id\":\"436ff3cb-7b26-432f-9d68-94614e054c98\",\"subtype\":\"Figure\",\"type\":\"Plot\"},\"ticker\":{\"id\":\"6994512f-2bf6-4771-836d-d22e1289fcf1\",\"type\":\"DatetimeTicker\"}},\"id\":\"ab60ac7b-0d3a-4805-abec-cd059103b334\",\"type\":\"Grid\"},{\"attributes\":{\"below\":[{\"id\":\"31aced83-3c25-4898-a5f8-58f5634ab8d9\",\"type\":\"DatetimeAxis\"}],\"left\":[{\"id\":\"5008ffd0-7454-48d1-81d0-01c520dae88c\",\"type\":\"LinearAxis\"}],\"outline_line_color\":{\"value\":\"white\"},\"plot_height\":300,\"plot_width\":700,\"renderers\":[{\"id\":\"31aced83-3c25-4898-a5f8-58f5634ab8d9\",\"type\":\"DatetimeAxis\"},{\"id\":\"ab60ac7b-0d3a-4805-abec-cd059103b334\",\"type\":\"Grid\"},{\"id\":\"5008ffd0-7454-48d1-81d0-01c520dae88c\",\"type\":\"LinearAxis\"},{\"id\":\"f1cd4645-1ec8-4992-a7d7-80b3a90d08e8\",\"type\":\"Grid\"},{\"id\":\"a466ed94-3b38-45af-82be-da7f5365ad9d\",\"type\":\"BoxAnnotation\"},{\"id\":\"0230115d-cd3e-4372-957e-cc33447a23dd\",\"type\":\"Legend\"},{\"id\":\"47338abe-7ab6-465c-95c4-4c5a17117f2f\",\"type\":\"GlyphRenderer\"},{\"id\":\"5faa6696-9172-4010-8900-a544387ba064\",\"type\":\"GlyphRenderer\"},{\"id\":\"522f05cd-13de-44ba-928a-83949cc21bde\",\"type\":\"GlyphRenderer\"},{\"id\":\"8086f4e1-270f-4898-85be-e853f9130e93\",\"type\":\"GlyphRenderer\"},{\"id\":\"3ac5b713-0b27-4599-bd4d-31c7367c3de0\",\"type\":\"GlyphRenderer\"},{\"id\":\"d5db0052-9f76-4959-8d88-cfc1812df2fd\",\"type\":\"GlyphRenderer\"},{\"id\":\"dfed76fd-1b08-442b-bf5d-312be266d3b8\",\"type\":\"GlyphRenderer\"},{\"id\":\"c683c1ef-ef02-4b11-a11d-48473e7826c6\",\"type\":\"GlyphRenderer\"},{\"id\":\"6b81790a-3ddc-4012-bb19-e8c85cf3fd93\",\"type\":\"Span\"}],\"sizing_mode\":\"scale_width\",\"title\":{\"id\":\"0daf65f8-b7d9-4bed-aa95-e76ae7a66804\",\"type\":\"Title\"},\"toolbar\":{\"id\":\"c2946c4d-25ca-415e-a608-56f1dbf415e7\",\"type\":\"Toolbar\"},\"toolbar_location\":null,\"x_range\":{\"id\":\"5473f40b-fbfd-46ec-bcb7-799c74a2557c\",\"type\":\"DataRange1d\"},\"x_scale\":{\"id\":\"e6589ce0-10f8-419d-8f34-ba505592ce8b\",\"type\":\"LinearScale\"},\"y_range\":{\"id\":\"3276017b-ccba-4d99-8e57-9d65a89fd698\",\"type\":\"Range1d\"},\"y_scale\":{\"id\":\"aa1d5c6e-38cb-4f2b-90e0-3bd5442ff8d1\",\"type\":\"LinearScale\"}},\"id\":\"436ff3cb-7b26-432f-9d68-94614e054c98\",\"subtype\":\"Figure\",\"type\":\"Plot\"},{\"attributes\":{\"data_source\":{\"id\":\"0296402b-d764-445b-9f12-d6ad7765442a\",\"type\":\"ColumnDataSource\"},\"glyph\":{\"id\":\"fedd2bff-6dd1-4646-b9a4-68cf6d1cd3f8\",\"type\":\"VBar\"},\"hover_glyph\":null,\"muted_glyph\":null,\"nonselection_glyph\":{\"id\":\"84221f84-ae69-4067-ba58-052f161f3e2d\",\"type\":\"VBar\"},\"selection_glyph\":null,\"view\":{\"id\":\"36365199-7fe0-45e4-8a55-8be40e81f8f6\",\"type\":\"CDSView\"}},\"id\":\"c683c1ef-ef02-4b11-a11d-48473e7826c6\",\"type\":\"GlyphRenderer\"},{\"attributes\":{},\"id\":\"e6589ce0-10f8-419d-8f34-ba505592ce8b\",\"type\":\"LinearScale\"},{\"attributes\":{\"source\":{\"id\":\"0296402b-d764-445b-9f12-d6ad7765442a\",\"type\":\"ColumnDataSource\"}},\"id\":\"36365199-7fe0-45e4-8a55-8be40e81f8f6\",\"type\":\"CDSView\"},{\"attributes\":{},\"id\":\"cf34a730-49f0-4ab5-aec8-140beb1d0e1e\",\"type\":\"WheelZoomTool\"},{\"attributes\":{\"callback\":null},\"id\":\"5473f40b-fbfd-46ec-bcb7-799c74a2557c\",\"type\":\"DataRange1d\"},{\"attributes\":{\"fields\":[\"core services\",\"shelter\"]},\"id\":\"bc663041-3557-40ca-b934-6218adf5e848\",\"type\":\"Stack\"},{\"attributes\":{\"callback\":null,\"end\":3.8,\"start\":-2.4},\"id\":\"3276017b-ccba-4d99-8e57-9d65a89fd698\",\"type\":\"Range1d\"},{\"attributes\":{\"active_drag\":null,\"active_inspect\":\"auto\",\"active_scroll\":\"auto\",\"active_tap\":\"auto\",\"logo\":null,\"tools\":[{\"id\":\"380b551a-acf4-4a92-a266-ac04ea11bdd5\",\"type\":\"PanTool\"},{\"id\":\"cf34a730-49f0-4ab5-aec8-140beb1d0e1e\",\"type\":\"WheelZoomTool\"},{\"id\":\"adbaa9a9-f1c7-411d-8fee-0e2ccc7d178a\",\"type\":\"BoxZoomTool\"},{\"id\":\"817fc9fb-99cc-4d0d-b4e5-c743f9ba07ce\",\"type\":\"ResetTool\"},{\"id\":\"78d1fbc3-ba41-4ac4-8b1d-b34c4563610d\",\"type\":\"HoverTool\"}]},\"id\":\"c2946c4d-25ca-415e-a608-56f1dbf415e7\",\"type\":\"Toolbar\"}],\"root_ids\":[\"436ff3cb-7b26-432f-9d68-94614e054c98\"]},\"title\":\"Bokeh Application\",\"version\":\"0.12.14\"}};\n",
       "  var render_items = [{\"docid\":\"1b8ebe98-5720-4d5d-a757-f659fc8c32ba\",\"elementid\":\"cde3d793-73dc-4f9b-8503-e391c1c207e8\",\"modelid\":\"436ff3cb-7b26-432f-9d68-94614e054c98\"}];\n",
       "  root.Bokeh.embed.embed_items_notebook(docs_json, render_items);\n",
       "\n",
       "  }\n",
       "  if (root.Bokeh !== undefined) {\n",
       "    embed_document(root);\n",
       "  } else {\n",
       "    var attempts = 0;\n",
       "    var timer = setInterval(function(root) {\n",
       "      if (root.Bokeh !== undefined) {\n",
       "        embed_document(root);\n",
       "        clearInterval(timer);\n",
       "      }\n",
       "      attempts++;\n",
       "      if (attempts > 100) {\n",
       "        console.log(\"Bokeh: ERROR: Unable to run BokehJS code because BokehJS library is missing\")\n",
       "        clearInterval(timer);\n",
       "      }\n",
       "    }, 10, root)\n",
       "  }\n",
       "})(window);"
      ],
      "application/vnd.bokehjs_exec.v0+json": ""
     },
     "metadata": {
      "application/vnd.bokehjs_exec.v0+json": {
       "id": "436ff3cb-7b26-432f-9d68-94614e054c98"
      }
     },
     "output_type": "display_data"
    }
   ],
   "source": [
    "# CPI Contributions\n",
    "source = ColumnDataSource(d2)\n",
    "\n",
    "# Bar width determined by how many bars\n",
    "width = ((d2.index[-1] - d2.index[0]).total_seconds() \n",
    "         * 800.0 / len(d2.index))\n",
    "\n",
    "# horizontal line at zero\n",
    "zero_line = Span(location=0, dimension='width', \n",
    "                 line_color='gray', line_width=1)\n",
    "\n",
    "p = figure(plot_width=700, plot_height=300, \n",
    "           x_axis_type='datetime', \n",
    "           tools=['pan, wheel_zoom, box_zoom, reset'], \n",
    "           logo=None,\n",
    "           toolbar_location=None,  \n",
    "           y_range=Range1d(-2.4, 3.8))\n",
    "p.vbar_stack(col_names, x='dates', width=width, color=['#FFEA00', '#80DEEA', '#00c853', '#304FFE'], legend=['Core services', 'Shelter', 'Core goods', 'Food & energy'], line_alpha=0, source=ColumnDataSource(infl))\n",
    "p.vbar_stack(col_names, x='dates', width=width, color=['#FFEA00', '#80DEEA', '#00c853', '#304FFE'], line_alpha=0, source=ColumnDataSource(defl))\n",
    "p.add_layout(zero_line)\n",
    "p.sizing_mode = 'scale_width'\n",
    "p.xgrid.grid_line_color = None\n",
    "p.outline_line_color = 'white'\n",
    "p.axis.axis_line_color = 'white'\n",
    "p.toolbar.active_drag = None\n",
    "p.legend.orientation = \"horizontal\"\n",
    "p.legend.location = \"top_left\"\n",
    "p.legend.border_line_alpha = 0\n",
    "p.legend.background_fill_alpha = 0\n",
    "p.legend.margin = 5\n",
    "p.legend.padding = 0\n",
    "p.legend.spacing = 10\n",
    "p.legend.glyph_height = 14\n",
    "p.legend.glyph_width = 14\n",
    "p.legend.label_text_font_size = '9pt'\n",
    "\n",
    "p.add_tools(HoverTool())\n",
    "\n",
    "#script, div = components(p)\n",
    "#with open('C:/Working/bdecon.github.io/plots/gdp.html', 'w') as text_file:\n",
    "#    text_file.write(f'{script} {div}')\n",
    "\n",
    "show(p)"
   ]
  },
  {
   "cell_type": "code",
   "execution_count": null,
   "metadata": {},
   "outputs": [],
   "source": []
  },
  {
   "cell_type": "code",
   "execution_count": null,
   "metadata": {},
   "outputs": [],
   "source": []
  }
 ],
 "metadata": {
  "kernelspec": {
   "display_name": "Python 3",
   "language": "python",
   "name": "python3"
  },
  "language_info": {
   "codemirror_mode": {
    "name": "ipython",
    "version": 3
   },
   "file_extension": ".py",
   "mimetype": "text/x-python",
   "name": "python",
   "nbconvert_exporter": "python",
   "pygments_lexer": "ipython3",
   "version": "3.6.4"
  }
 },
 "nbformat": 4,
 "nbformat_minor": 2
}
