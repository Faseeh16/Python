{
 "cells": [
  {
   "cell_type": "markdown",
   "metadata": {
    "ExecuteTime": {
     "end_time": "2018-03-21T16:37:16.108780Z",
     "start_time": "2018-03-21T16:37:16.077537Z"
    }
   },
   "source": [
    "# CPI Special Calculations over time with Python\n",
    "\n",
    "Brian Dew, @bd_econ, Center for Economic and Policy Research\n",
    "\n",
    "March 22, 2018\n",
    "\n",
    "----- \n",
    "Every two years the relative importance of CPI items is updated. I'd like to know how a few special aggregates contribute to inflation (unfortunately not seasonally adjusted), and to do this I need to compensate for the updates. BLS explains how to do this here: https://www.bls.gov/cpi/tables/relative-importance/home.htm\n",
    "\n"
   ]
  },
  {
   "cell_type": "code",
   "execution_count": 1,
   "metadata": {
    "ExecuteTime": {
     "end_time": "2018-03-23T00:09:27.672866Z",
     "start_time": "2018-03-23T00:09:27.281675Z"
    },
    "code_folding": [
     0
    ]
   },
   "outputs": [],
   "source": [
    "# Import preliminaries\n",
    "import pandas as pd\n",
    "import numpy as np\n",
    "import requests\n",
    "import json\n",
    "import config"
   ]
  },
  {
   "cell_type": "markdown",
   "metadata": {},
   "source": [
    "#### Find series ids"
   ]
  },
  {
   "cell_type": "code",
   "execution_count": 2,
   "metadata": {
    "ExecuteTime": {
     "end_time": "2018-03-23T00:09:30.901900Z",
     "start_time": "2018-03-23T00:09:29.701560Z"
    },
    "code_folding": [
     0
    ]
   },
   "outputs": [],
   "source": [
    "# Use BLS Flat Files to find series IDs and series info\n",
    "s_url = 'https://download.bls.gov/pub/time.series/cu/cu.series'\n",
    "s = pd.read_table(s_url, sep='\\t')\n",
    "s2 = s[(s['seasonal'] == 'U') & \n",
    "       (s['base_code'] == 'S') &\n",
    "       (s['area_code'] == '0000') &\n",
    "       (s['periodicity_code'] == 'R')]"
   ]
  },
  {
   "cell_type": "markdown",
   "metadata": {},
   "source": [
    "#### Manually look up the relative importance"
   ]
  },
  {
   "cell_type": "code",
   "execution_count": 3,
   "metadata": {
    "ExecuteTime": {
     "end_time": "2018-03-23T00:09:32.749557Z",
     "start_time": "2018-03-23T00:09:32.726524Z"
    },
    "code_folding": [
     0
    ]
   },
   "outputs": [],
   "source": [
    "# Relative weights for series of interest, from here: \n",
    "# https://www.bls.gov/cpi/tables/relative-importance/home.htm\n",
    "rel_wgt = {'CUUR0000SAF1': [(('2013-12-01', '2015-12-01'), 13.891), \n",
    "                           (('2015-12-01', '2017-12-01'), 14.015), \n",
    "                           (('2017-12-01', '2019-12-01'), 13.384)],\n",
    "           'CUUR0000SA0': [(('2013-12-01', '2015-12-01'), 100.0), \n",
    "                           (('2015-12-01', '2017-12-01'), 100.0), \n",
    "                           (('2017-12-01', '2019-12-01'), 100.0)],\n",
    "           'CUUR0000SA0E': [(('2013-12-01', '2015-12-01'), 9.046), \n",
    "                            (('2015-12-01', '2017-12-01'), 6.816), \n",
    "                            (('2017-12-01', '2019-12-01'), 7.513)],\n",
    "           'CUUR0000SAH1': [(('2013-12-01', '2015-12-01'), 32.029), \n",
    "                            (('2015-12-01', '2017-12-01'), 33.15), \n",
    "                            (('2017-12-01', '2019-12-01'), 32.843)],\n",
    "           'CUUR0000SACL1E': [(('2013-12-01', '2015-12-01'), 19.71), \n",
    "                              (('2015-12-01', '2017-12-01'), 19.613), \n",
    "                              (('2017-12-01', '2019-12-01'), 19.849)],\n",
    "           'CUUR0000SASLE': [(('2013-12-01', '2015-12-01'), 57.353), \n",
    "                             (('2015-12-01', '2017-12-01'), 59.556), \n",
    "                             (('2017-12-01', '2019-12-01'), 59.254)]}"
   ]
  },
  {
   "cell_type": "markdown",
   "metadata": {},
   "source": [
    "#### Location of BLS API and parameters"
   ]
  },
  {
   "cell_type": "code",
   "execution_count": 13,
   "metadata": {
    "ExecuteTime": {
     "end_time": "2018-03-23T01:46:54.049621Z",
     "start_time": "2018-03-23T01:46:54.018380Z"
    },
    "code_folding": [
     0
    ]
   },
   "outputs": [],
   "source": [
    "# API access to Bureau of Labor Statistics data\n",
    "url = 'https://api.bls.gov/publicAPI/v2/timeseries/data/'\n",
    "# API key in config.py which contains: bls_key = 'key'\n",
    "key = '?registrationkey={}'.format(config.bls_key)\n",
    "\n",
    "headers = {'Content-type': 'application/json'}    # Request json fmt\n",
    "param = {\"seriesid\": list(rel_wgt.keys()),           \n",
    "         \"startyear\": \"2013\", \"endyear\": \"2018\"}"
   ]
  },
  {
   "cell_type": "markdown",
   "metadata": {},
   "source": [
    "#### Request data from BLS API "
   ]
  },
  {
   "cell_type": "code",
   "execution_count": 4,
   "metadata": {
    "ExecuteTime": {
     "end_time": "2018-03-23T00:09:37.918213Z",
     "start_time": "2018-03-23T00:09:34.872592Z"
    },
    "code_folding": [
     0
    ]
   },
   "outputs": [
    {
     "name": "stdout",
     "output_type": "stream",
     "text": [
      "Status: REQUEST_SUCCEEDED\n",
      "Latest: February 2018\n"
     ]
    }
   ],
   "source": [
    "# Request all of the series in s\n",
    "p = requests.post(f'{url}{key}', data=json.dumps(param), headers=headers).json()\n",
    "print(f\"Status: {p['status']}\") # Print request status\n",
    "p = p['Results']['series']  # Keep data portion of post results\n",
    "\n",
    "# Use first series to get the datetime values\n",
    "idx = pd.to_datetime([f\"{i['period']} {i['year']}\" for i in p[0]['data']])\n",
    "print(f'Latest: {idx[0]:%B %Y}') # Print latest value"
   ]
  },
  {
   "cell_type": "markdown",
   "metadata": {},
   "source": [
    "#### Store date and value for each series"
   ]
  },
  {
   "cell_type": "code",
   "execution_count": 5,
   "metadata": {
    "ExecuteTime": {
     "end_time": "2018-03-23T00:09:42.244174Z",
     "start_time": "2018-03-23T00:09:42.222663Z"
    },
    "code_folding": [
     0
    ]
   },
   "outputs": [],
   "source": [
    "# Convert API data to datetime date and float value\n",
    "data = {i['seriesID']: \n",
    "        [(pd.to_datetime(f'{r[\"year\"]}-{r[\"period\"][1:]}-01'), float(r['value'])) \n",
    "         for r in i['data']] for i in p}"
   ]
  },
  {
   "cell_type": "markdown",
   "metadata": {},
   "source": [
    "#### Store all the above in dictionary"
   ]
  },
  {
   "cell_type": "code",
   "execution_count": 6,
   "metadata": {
    "ExecuteTime": {
     "end_time": "2018-03-23T00:09:44.407529Z",
     "start_time": "2018-03-23T00:09:44.397520Z"
    },
    "code_folding": [
     0
    ]
   },
   "outputs": [],
   "source": [
    "# Dictionary combining all the info for each series\n",
    "d = {i: {'name': s2[s2['series_id'].str.strip() == i]['series_title'].values[0],\n",
    "         'values': data[i],\n",
    "         'rel_wgt': rel_wgt[i]} for i in list(rel_wgt.keys())}"
   ]
  },
  {
   "cell_type": "markdown",
   "metadata": {},
   "source": [
    "#### Adjust for changes to relative importance"
   ]
  },
  {
   "cell_type": "code",
   "execution_count": 7,
   "metadata": {
    "ExecuteTime": {
     "end_time": "2018-03-23T00:09:47.360237Z",
     "start_time": "2018-03-23T00:09:47.189537Z"
    },
    "code_folding": [
     0
    ]
   },
   "outputs": [],
   "source": [
    "# Adjust for changes to relative importance\n",
    "df1, df2, df3 = pd.DataFrame(), pd.DataFrame(), pd.DataFrame()\n",
    "for i, v in d.items():\n",
    "    start, end = v['rel_wgt'][0][0][0], v['rel_wgt'][0][0][1]\n",
    "    rwc, rwn = v['rel_wgt'][0][1], v['rel_wgt'][1][1]\n",
    "    df1.at[start: end, i] = (pd.DataFrame(v['values'])\n",
    "        .iloc[::-1].set_index(0).loc[start: end][1])\n",
    "    df1[i] = (df1[i].diff().cumsum() / df1.loc[start, i] + 1)\n",
    "    df1.at[start, i] = 1.0\n",
    "    df1[i] = (df1[i] * rwc)\n",
    "    link = (df1.loc[end, i] / rwn)\n",
    "    # Next set of dates\n",
    "    start, end = v['rel_wgt'][1][0][0], v['rel_wgt'][1][0][1]\n",
    "    rwc, rwn = v['rel_wgt'][1][1], v['rel_wgt'][2][1]\n",
    "    df2[i] = (pd.DataFrame(v['values'])\n",
    "        .iloc[::-1].set_index(0).loc[start: end][1])\n",
    "    df2[i] = df2[i].diff().cumsum() / df2.loc[start, i] + 1\n",
    "    df2.at[start, i] = 1.0\n",
    "    #df1.at[start: end, i] = (df1.loc[start: end, i] * rwc)\n",
    "    df2[i] = (df2[i] * rwc) * link\n",
    "    link = (df2.loc[end, i] / rwn)\n",
    "    # Next set of dates\n",
    "    start, end = v['rel_wgt'][2][0][0], v['rel_wgt'][2][0][1]\n",
    "    rwc = v['rel_wgt'][2][1]\n",
    "    df3[i] = (pd.DataFrame(v['values'])\n",
    "        .iloc[::-1].set_index(0).loc[start: end][1])\n",
    "    df3[i] = df3[i].diff().cumsum() / df3.loc[start, i] + 1\n",
    "    df3.at[start, i] = 1.0\n",
    "    df3[i] = (df3[i] * rwc) * link"
   ]
  },
  {
   "cell_type": "markdown",
   "metadata": {},
   "source": [
    "#### Calculate contribution to total"
   ]
  },
  {
   "cell_type": "code",
   "execution_count": 53,
   "metadata": {
    "ExecuteTime": {
     "end_time": "2018-03-23T02:39:15.842573Z",
     "start_time": "2018-03-23T02:39:15.768992Z"
    },
    "code_folding": [
     0
    ]
   },
   "outputs": [],
   "source": [
    "# Calculate exactly what I want to show\n",
    "final = pd.concat([df1, df2, df3])\n",
    "final = final[~final.index.duplicated(keep='first')].diff(12)\n",
    "final['core_services'] = final['CUUR0000SASLE'] - final['CUUR0000SAH1']\n",
    "final['food_energy'] = final['CUUR0000SAF1'] + final['CUUR0000SA0E']\n",
    "final = final.dropna().round(2)\n",
    "d2 = final[['core_services', 'CUUR0000SAH1', 'CUUR0000SACL1E', 'food_energy']].loc['2015-01-01':]\n",
    "col_names = ['core services', 'shelter', 'core goods', 'food & energy']\n",
    "d2.columns = col_names\n",
    "d2['total'] = final['CUUR0000SA0'].loc['2015-01-01':]\n",
    "d2['strdate'] = d2.index.strftime('%B %Y')\n",
    "d2['date'] = d2.index"
   ]
  },
  {
   "cell_type": "markdown",
   "metadata": {},
   "source": [
    "#### Bokeh requires separate positive and negative values"
   ]
  },
  {
   "cell_type": "code",
   "execution_count": 9,
   "metadata": {
    "ExecuteTime": {
     "end_time": "2018-03-23T00:09:51.477284Z",
     "start_time": "2018-03-23T00:09:51.469286Z"
    },
    "code_folding": [
     0
    ]
   },
   "outputs": [],
   "source": [
    "# Split positive and negative values\n",
    "infl = {i :[n if n > -0.0001 else 0 for n in list(d2[i])] for i in col_names}\n",
    "infl['dates'] = list(d2.index)\n",
    "infl['strdate'] = d2.index.strftime('%b %Y')\n",
    "defl = {i :[n  if n < -0.0001 else 0 for n in list(d2[i])] for i in col_names}\n",
    "defl['dates'] = list(d2.index)\n",
    "defl['strdate'] = d2.index.strftime('%b %Y')"
   ]
  },
  {
   "cell_type": "markdown",
   "metadata": {},
   "source": [
    "#### Bokeh settings"
   ]
  },
  {
   "cell_type": "code",
   "execution_count": 10,
   "metadata": {
    "ExecuteTime": {
     "end_time": "2018-03-23T00:09:54.873237Z",
     "start_time": "2018-03-23T00:09:53.686091Z"
    },
    "code_folding": [
     0
    ]
   },
   "outputs": [
    {
     "data": {
      "text/html": [
       "\n",
       "    <div class=\"bk-root\">\n",
       "        <a href=\"https://bokeh.pydata.org\" target=\"_blank\" class=\"bk-logo bk-logo-small bk-logo-notebook\"></a>\n",
       "        <span id=\"805d3578-18e9-4c23-935f-0dfe730a25ef\">Loading BokehJS ...</span>\n",
       "    </div>"
      ]
     },
     "metadata": {},
     "output_type": "display_data"
    },
    {
     "data": {
      "application/javascript": [
       "\n",
       "(function(root) {\n",
       "  function now() {\n",
       "    return new Date();\n",
       "  }\n",
       "\n",
       "  var force = true;\n",
       "\n",
       "  if (typeof (root._bokeh_onload_callbacks) === \"undefined\" || force === true) {\n",
       "    root._bokeh_onload_callbacks = [];\n",
       "    root._bokeh_is_loading = undefined;\n",
       "  }\n",
       "\n",
       "  var JS_MIME_TYPE = 'application/javascript';\n",
       "  var HTML_MIME_TYPE = 'text/html';\n",
       "  var EXEC_MIME_TYPE = 'application/vnd.bokehjs_exec.v0+json';\n",
       "  var CLASS_NAME = 'output_bokeh rendered_html';\n",
       "\n",
       "  /**\n",
       "   * Render data to the DOM node\n",
       "   */\n",
       "  function render(props, node) {\n",
       "    var script = document.createElement(\"script\");\n",
       "    node.appendChild(script);\n",
       "  }\n",
       "\n",
       "  /**\n",
       "   * Handle when an output is cleared or removed\n",
       "   */\n",
       "  function handleClearOutput(event, handle) {\n",
       "    var cell = handle.cell;\n",
       "\n",
       "    var id = cell.output_area._bokeh_element_id;\n",
       "    var server_id = cell.output_area._bokeh_server_id;\n",
       "    // Clean up Bokeh references\n",
       "    if (id !== undefined) {\n",
       "      Bokeh.index[id].model.document.clear();\n",
       "      delete Bokeh.index[id];\n",
       "    }\n",
       "\n",
       "    if (server_id !== undefined) {\n",
       "      // Clean up Bokeh references\n",
       "      var cmd = \"from bokeh.io.state import curstate; print(curstate().uuid_to_server['\" + server_id + \"'].get_sessions()[0].document.roots[0]._id)\";\n",
       "      cell.notebook.kernel.execute(cmd, {\n",
       "        iopub: {\n",
       "          output: function(msg) {\n",
       "            var element_id = msg.content.text.trim();\n",
       "            Bokeh.index[element_id].model.document.clear();\n",
       "            delete Bokeh.index[element_id];\n",
       "          }\n",
       "        }\n",
       "      });\n",
       "      // Destroy server and session\n",
       "      var cmd = \"import bokeh.io.notebook as ion; ion.destroy_server('\" + server_id + \"')\";\n",
       "      cell.notebook.kernel.execute(cmd);\n",
       "    }\n",
       "  }\n",
       "\n",
       "  /**\n",
       "   * Handle when a new output is added\n",
       "   */\n",
       "  function handleAddOutput(event, handle) {\n",
       "    var output_area = handle.output_area;\n",
       "    var output = handle.output;\n",
       "\n",
       "    // limit handleAddOutput to display_data with EXEC_MIME_TYPE content only\n",
       "    if ((output.output_type != \"display_data\") || (!output.data.hasOwnProperty(EXEC_MIME_TYPE))) {\n",
       "      return\n",
       "    }\n",
       "\n",
       "    var toinsert = output_area.element.find(\".\" + CLASS_NAME.split(' ')[0]);\n",
       "\n",
       "    if (output.metadata[EXEC_MIME_TYPE][\"id\"] !== undefined) {\n",
       "      toinsert[0].firstChild.textContent = output.data[JS_MIME_TYPE];\n",
       "      // store reference to embed id on output_area\n",
       "      output_area._bokeh_element_id = output.metadata[EXEC_MIME_TYPE][\"id\"];\n",
       "    }\n",
       "    if (output.metadata[EXEC_MIME_TYPE][\"server_id\"] !== undefined) {\n",
       "      var bk_div = document.createElement(\"div\");\n",
       "      bk_div.innerHTML = output.data[HTML_MIME_TYPE];\n",
       "      var script_attrs = bk_div.children[0].attributes;\n",
       "      for (var i = 0; i < script_attrs.length; i++) {\n",
       "        toinsert[0].firstChild.setAttribute(script_attrs[i].name, script_attrs[i].value);\n",
       "      }\n",
       "      // store reference to server id on output_area\n",
       "      output_area._bokeh_server_id = output.metadata[EXEC_MIME_TYPE][\"server_id\"];\n",
       "    }\n",
       "  }\n",
       "\n",
       "  function register_renderer(events, OutputArea) {\n",
       "\n",
       "    function append_mime(data, metadata, element) {\n",
       "      // create a DOM node to render to\n",
       "      var toinsert = this.create_output_subarea(\n",
       "        metadata,\n",
       "        CLASS_NAME,\n",
       "        EXEC_MIME_TYPE\n",
       "      );\n",
       "      this.keyboard_manager.register_events(toinsert);\n",
       "      // Render to node\n",
       "      var props = {data: data, metadata: metadata[EXEC_MIME_TYPE]};\n",
       "      render(props, toinsert[0]);\n",
       "      element.append(toinsert);\n",
       "      return toinsert\n",
       "    }\n",
       "\n",
       "    /* Handle when an output is cleared or removed */\n",
       "    events.on('clear_output.CodeCell', handleClearOutput);\n",
       "    events.on('delete.Cell', handleClearOutput);\n",
       "\n",
       "    /* Handle when a new output is added */\n",
       "    events.on('output_added.OutputArea', handleAddOutput);\n",
       "\n",
       "    /**\n",
       "     * Register the mime type and append_mime function with output_area\n",
       "     */\n",
       "    OutputArea.prototype.register_mime_type(EXEC_MIME_TYPE, append_mime, {\n",
       "      /* Is output safe? */\n",
       "      safe: true,\n",
       "      /* Index of renderer in `output_area.display_order` */\n",
       "      index: 0\n",
       "    });\n",
       "  }\n",
       "\n",
       "  // register the mime type if in Jupyter Notebook environment and previously unregistered\n",
       "  if (root.Jupyter !== undefined) {\n",
       "    var events = require('base/js/events');\n",
       "    var OutputArea = require('notebook/js/outputarea').OutputArea;\n",
       "\n",
       "    if (OutputArea.prototype.mime_types().indexOf(EXEC_MIME_TYPE) == -1) {\n",
       "      register_renderer(events, OutputArea);\n",
       "    }\n",
       "  }\n",
       "\n",
       "  \n",
       "  if (typeof (root._bokeh_timeout) === \"undefined\" || force === true) {\n",
       "    root._bokeh_timeout = Date.now() + 5000;\n",
       "    root._bokeh_failed_load = false;\n",
       "  }\n",
       "\n",
       "  var NB_LOAD_WARNING = {'data': {'text/html':\n",
       "     \"<div style='background-color: #fdd'>\\n\"+\n",
       "     \"<p>\\n\"+\n",
       "     \"BokehJS does not appear to have successfully loaded. If loading BokehJS from CDN, this \\n\"+\n",
       "     \"may be due to a slow or bad network connection. Possible fixes:\\n\"+\n",
       "     \"</p>\\n\"+\n",
       "     \"<ul>\\n\"+\n",
       "     \"<li>re-rerun `output_notebook()` to attempt to load from CDN again, or</li>\\n\"+\n",
       "     \"<li>use INLINE resources instead, as so:</li>\\n\"+\n",
       "     \"</ul>\\n\"+\n",
       "     \"<code>\\n\"+\n",
       "     \"from bokeh.resources import INLINE\\n\"+\n",
       "     \"output_notebook(resources=INLINE)\\n\"+\n",
       "     \"</code>\\n\"+\n",
       "     \"</div>\"}};\n",
       "\n",
       "  function display_loaded() {\n",
       "    var el = document.getElementById(\"805d3578-18e9-4c23-935f-0dfe730a25ef\");\n",
       "    if (el != null) {\n",
       "      el.textContent = \"BokehJS is loading...\";\n",
       "    }\n",
       "    if (root.Bokeh !== undefined) {\n",
       "      if (el != null) {\n",
       "        el.textContent = \"BokehJS \" + root.Bokeh.version + \" successfully loaded.\";\n",
       "      }\n",
       "    } else if (Date.now() < root._bokeh_timeout) {\n",
       "      setTimeout(display_loaded, 100)\n",
       "    }\n",
       "  }\n",
       "\n",
       "\n",
       "  function run_callbacks() {\n",
       "    try {\n",
       "      root._bokeh_onload_callbacks.forEach(function(callback) { callback() });\n",
       "    }\n",
       "    finally {\n",
       "      delete root._bokeh_onload_callbacks\n",
       "    }\n",
       "    console.info(\"Bokeh: all callbacks have finished\");\n",
       "  }\n",
       "\n",
       "  function load_libs(js_urls, callback) {\n",
       "    root._bokeh_onload_callbacks.push(callback);\n",
       "    if (root._bokeh_is_loading > 0) {\n",
       "      console.log(\"Bokeh: BokehJS is being loaded, scheduling callback at\", now());\n",
       "      return null;\n",
       "    }\n",
       "    if (js_urls == null || js_urls.length === 0) {\n",
       "      run_callbacks();\n",
       "      return null;\n",
       "    }\n",
       "    console.log(\"Bokeh: BokehJS not loaded, scheduling load and callback at\", now());\n",
       "    root._bokeh_is_loading = js_urls.length;\n",
       "    for (var i = 0; i < js_urls.length; i++) {\n",
       "      var url = js_urls[i];\n",
       "      var s = document.createElement('script');\n",
       "      s.src = url;\n",
       "      s.async = false;\n",
       "      s.onreadystatechange = s.onload = function() {\n",
       "        root._bokeh_is_loading--;\n",
       "        if (root._bokeh_is_loading === 0) {\n",
       "          console.log(\"Bokeh: all BokehJS libraries loaded\");\n",
       "          run_callbacks()\n",
       "        }\n",
       "      };\n",
       "      s.onerror = function() {\n",
       "        console.warn(\"failed to load library \" + url);\n",
       "      };\n",
       "      console.log(\"Bokeh: injecting script tag for BokehJS library: \", url);\n",
       "      document.getElementsByTagName(\"head\")[0].appendChild(s);\n",
       "    }\n",
       "  };var element = document.getElementById(\"805d3578-18e9-4c23-935f-0dfe730a25ef\");\n",
       "  if (element == null) {\n",
       "    console.log(\"Bokeh: ERROR: autoload.js configured with elementid '805d3578-18e9-4c23-935f-0dfe730a25ef' but no matching script tag was found. \")\n",
       "    return false;\n",
       "  }\n",
       "\n",
       "  var js_urls = [\"https://cdn.pydata.org/bokeh/release/bokeh-0.12.14.min.js\", \"https://cdn.pydata.org/bokeh/release/bokeh-widgets-0.12.14.min.js\", \"https://cdn.pydata.org/bokeh/release/bokeh-tables-0.12.14.min.js\", \"https://cdn.pydata.org/bokeh/release/bokeh-gl-0.12.14.min.js\"];\n",
       "\n",
       "  var inline_js = [\n",
       "    function(Bokeh) {\n",
       "      Bokeh.set_log_level(\"info\");\n",
       "    },\n",
       "    \n",
       "    function(Bokeh) {\n",
       "      \n",
       "    },\n",
       "    function(Bokeh) {\n",
       "      console.log(\"Bokeh: injecting CSS: https://cdn.pydata.org/bokeh/release/bokeh-0.12.14.min.css\");\n",
       "      Bokeh.embed.inject_css(\"https://cdn.pydata.org/bokeh/release/bokeh-0.12.14.min.css\");\n",
       "      console.log(\"Bokeh: injecting CSS: https://cdn.pydata.org/bokeh/release/bokeh-widgets-0.12.14.min.css\");\n",
       "      Bokeh.embed.inject_css(\"https://cdn.pydata.org/bokeh/release/bokeh-widgets-0.12.14.min.css\");\n",
       "      console.log(\"Bokeh: injecting CSS: https://cdn.pydata.org/bokeh/release/bokeh-tables-0.12.14.min.css\");\n",
       "      Bokeh.embed.inject_css(\"https://cdn.pydata.org/bokeh/release/bokeh-tables-0.12.14.min.css\");\n",
       "    }\n",
       "  ];\n",
       "\n",
       "  function run_inline_js() {\n",
       "    \n",
       "    if ((root.Bokeh !== undefined) || (force === true)) {\n",
       "      for (var i = 0; i < inline_js.length; i++) {\n",
       "        inline_js[i].call(root, root.Bokeh);\n",
       "      }if (force === true) {\n",
       "        display_loaded();\n",
       "      }} else if (Date.now() < root._bokeh_timeout) {\n",
       "      setTimeout(run_inline_js, 100);\n",
       "    } else if (!root._bokeh_failed_load) {\n",
       "      console.log(\"Bokeh: BokehJS failed to load within specified timeout.\");\n",
       "      root._bokeh_failed_load = true;\n",
       "    } else if (force !== true) {\n",
       "      var cell = $(document.getElementById(\"805d3578-18e9-4c23-935f-0dfe730a25ef\")).parents('.cell').data().cell;\n",
       "      cell.output_area.append_execute_result(NB_LOAD_WARNING)\n",
       "    }\n",
       "\n",
       "  }\n",
       "\n",
       "  if (root._bokeh_is_loading === 0) {\n",
       "    console.log(\"Bokeh: BokehJS loaded, going straight to plotting\");\n",
       "    run_inline_js();\n",
       "  } else {\n",
       "    load_libs(js_urls, function() {\n",
       "      console.log(\"Bokeh: BokehJS plotting callback run at\", now());\n",
       "      run_inline_js();\n",
       "    });\n",
       "  }\n",
       "}(window));"
      ],
      "application/vnd.bokehjs_load.v0+json": "\n(function(root) {\n  function now() {\n    return new Date();\n  }\n\n  var force = true;\n\n  if (typeof (root._bokeh_onload_callbacks) === \"undefined\" || force === true) {\n    root._bokeh_onload_callbacks = [];\n    root._bokeh_is_loading = undefined;\n  }\n\n  \n\n  \n  if (typeof (root._bokeh_timeout) === \"undefined\" || force === true) {\n    root._bokeh_timeout = Date.now() + 5000;\n    root._bokeh_failed_load = false;\n  }\n\n  var NB_LOAD_WARNING = {'data': {'text/html':\n     \"<div style='background-color: #fdd'>\\n\"+\n     \"<p>\\n\"+\n     \"BokehJS does not appear to have successfully loaded. If loading BokehJS from CDN, this \\n\"+\n     \"may be due to a slow or bad network connection. Possible fixes:\\n\"+\n     \"</p>\\n\"+\n     \"<ul>\\n\"+\n     \"<li>re-rerun `output_notebook()` to attempt to load from CDN again, or</li>\\n\"+\n     \"<li>use INLINE resources instead, as so:</li>\\n\"+\n     \"</ul>\\n\"+\n     \"<code>\\n\"+\n     \"from bokeh.resources import INLINE\\n\"+\n     \"output_notebook(resources=INLINE)\\n\"+\n     \"</code>\\n\"+\n     \"</div>\"}};\n\n  function display_loaded() {\n    var el = document.getElementById(\"805d3578-18e9-4c23-935f-0dfe730a25ef\");\n    if (el != null) {\n      el.textContent = \"BokehJS is loading...\";\n    }\n    if (root.Bokeh !== undefined) {\n      if (el != null) {\n        el.textContent = \"BokehJS \" + root.Bokeh.version + \" successfully loaded.\";\n      }\n    } else if (Date.now() < root._bokeh_timeout) {\n      setTimeout(display_loaded, 100)\n    }\n  }\n\n\n  function run_callbacks() {\n    try {\n      root._bokeh_onload_callbacks.forEach(function(callback) { callback() });\n    }\n    finally {\n      delete root._bokeh_onload_callbacks\n    }\n    console.info(\"Bokeh: all callbacks have finished\");\n  }\n\n  function load_libs(js_urls, callback) {\n    root._bokeh_onload_callbacks.push(callback);\n    if (root._bokeh_is_loading > 0) {\n      console.log(\"Bokeh: BokehJS is being loaded, scheduling callback at\", now());\n      return null;\n    }\n    if (js_urls == null || js_urls.length === 0) {\n      run_callbacks();\n      return null;\n    }\n    console.log(\"Bokeh: BokehJS not loaded, scheduling load and callback at\", now());\n    root._bokeh_is_loading = js_urls.length;\n    for (var i = 0; i < js_urls.length; i++) {\n      var url = js_urls[i];\n      var s = document.createElement('script');\n      s.src = url;\n      s.async = false;\n      s.onreadystatechange = s.onload = function() {\n        root._bokeh_is_loading--;\n        if (root._bokeh_is_loading === 0) {\n          console.log(\"Bokeh: all BokehJS libraries loaded\");\n          run_callbacks()\n        }\n      };\n      s.onerror = function() {\n        console.warn(\"failed to load library \" + url);\n      };\n      console.log(\"Bokeh: injecting script tag for BokehJS library: \", url);\n      document.getElementsByTagName(\"head\")[0].appendChild(s);\n    }\n  };var element = document.getElementById(\"805d3578-18e9-4c23-935f-0dfe730a25ef\");\n  if (element == null) {\n    console.log(\"Bokeh: ERROR: autoload.js configured with elementid '805d3578-18e9-4c23-935f-0dfe730a25ef' but no matching script tag was found. \")\n    return false;\n  }\n\n  var js_urls = [\"https://cdn.pydata.org/bokeh/release/bokeh-0.12.14.min.js\", \"https://cdn.pydata.org/bokeh/release/bokeh-widgets-0.12.14.min.js\", \"https://cdn.pydata.org/bokeh/release/bokeh-tables-0.12.14.min.js\", \"https://cdn.pydata.org/bokeh/release/bokeh-gl-0.12.14.min.js\"];\n\n  var inline_js = [\n    function(Bokeh) {\n      Bokeh.set_log_level(\"info\");\n    },\n    \n    function(Bokeh) {\n      \n    },\n    function(Bokeh) {\n      console.log(\"Bokeh: injecting CSS: https://cdn.pydata.org/bokeh/release/bokeh-0.12.14.min.css\");\n      Bokeh.embed.inject_css(\"https://cdn.pydata.org/bokeh/release/bokeh-0.12.14.min.css\");\n      console.log(\"Bokeh: injecting CSS: https://cdn.pydata.org/bokeh/release/bokeh-widgets-0.12.14.min.css\");\n      Bokeh.embed.inject_css(\"https://cdn.pydata.org/bokeh/release/bokeh-widgets-0.12.14.min.css\");\n      console.log(\"Bokeh: injecting CSS: https://cdn.pydata.org/bokeh/release/bokeh-tables-0.12.14.min.css\");\n      Bokeh.embed.inject_css(\"https://cdn.pydata.org/bokeh/release/bokeh-tables-0.12.14.min.css\");\n    }\n  ];\n\n  function run_inline_js() {\n    \n    if ((root.Bokeh !== undefined) || (force === true)) {\n      for (var i = 0; i < inline_js.length; i++) {\n        inline_js[i].call(root, root.Bokeh);\n      }if (force === true) {\n        display_loaded();\n      }} else if (Date.now() < root._bokeh_timeout) {\n      setTimeout(run_inline_js, 100);\n    } else if (!root._bokeh_failed_load) {\n      console.log(\"Bokeh: BokehJS failed to load within specified timeout.\");\n      root._bokeh_failed_load = true;\n    } else if (force !== true) {\n      var cell = $(document.getElementById(\"805d3578-18e9-4c23-935f-0dfe730a25ef\")).parents('.cell').data().cell;\n      cell.output_area.append_execute_result(NB_LOAD_WARNING)\n    }\n\n  }\n\n  if (root._bokeh_is_loading === 0) {\n    console.log(\"Bokeh: BokehJS loaded, going straight to plotting\");\n    run_inline_js();\n  } else {\n    load_libs(js_urls, function() {\n      console.log(\"Bokeh: BokehJS plotting callback run at\", now());\n      run_inline_js();\n    });\n  }\n}(window));"
     },
     "metadata": {},
     "output_type": "display_data"
    }
   ],
   "source": [
    "# Bokeh settings\n",
    "from bokeh.plotting import figure, show\n",
    "import bokeh.models\n",
    "import bokeh.plotting\n",
    "from bokeh.models import ColumnDataSource, Span, Label, HoverTool, Range1d, CDSView\n",
    "from bokeh.embed import components\n",
    "from bokeh.io import output_notebook\n",
    "output_notebook()"
   ]
  },
  {
   "cell_type": "markdown",
   "metadata": {},
   "source": [
    "#### Plot in bokeh"
   ]
  },
  {
   "cell_type": "code",
   "execution_count": 62,
   "metadata": {
    "ExecuteTime": {
     "end_time": "2018-03-23T02:55:09.505943Z",
     "start_time": "2018-03-23T02:55:09.012937Z"
    },
    "code_folding": [
     0
    ],
    "scrolled": false
   },
   "outputs": [
    {
     "data": {
      "text/html": [
       "\n",
       "<div class=\"bk-root\">\n",
       "    <div class=\"bk-plotdiv\" id=\"8c7058f5-ff41-4800-b35d-b202d867f2eb\"></div>\n",
       "</div>"
      ]
     },
     "metadata": {},
     "output_type": "display_data"
    },
    {
     "data": {
      "application/javascript": [
       "(function(root) {\n",
       "  function embed_document(root) {\n",
       "    \n",
       "  var docs_json = {\"6c5077db-8cb8-4a5f-8076-848ee01fdad3\":{\"roots\":{\"references\":[{\"attributes\":{},\"id\":\"6d694baf-eda9-4ca4-8822-92053f7ccdaf\",\"type\":\"LinearScale\"},{\"attributes\":{\"mantissas\":[1,2,5],\"max_interval\":500.0,\"num_minor_ticks\":0},\"id\":\"8163739a-5465-4cb6-a356-74c05dc2c377\",\"type\":\"AdaptiveTicker\"},{\"attributes\":{\"num_minor_ticks\":5,\"tickers\":[{\"id\":\"8163739a-5465-4cb6-a356-74c05dc2c377\",\"type\":\"AdaptiveTicker\"},{\"id\":\"aca35921-f4b1-42fa-afd4-98145b6ac689\",\"type\":\"AdaptiveTicker\"},{\"id\":\"540fb14c-b3a8-4d67-b5c3-97f00a37e9b0\",\"type\":\"AdaptiveTicker\"},{\"id\":\"0f9d4ecd-5c97-4252-8b65-3c78dcdd6905\",\"type\":\"DaysTicker\"},{\"id\":\"c520d436-1707-4244-aa4b-6c4f5c8b8d9f\",\"type\":\"DaysTicker\"},{\"id\":\"8c949b93-f52e-4c94-9655-5cca7db053b2\",\"type\":\"DaysTicker\"},{\"id\":\"c6d96130-0f63-4af8-b924-6302eb0e4b77\",\"type\":\"DaysTicker\"},{\"id\":\"1e081baa-1a43-431a-9338-46cb78c069c0\",\"type\":\"MonthsTicker\"},{\"id\":\"987f784e-4a04-4609-96a5-0f6e1bbfd3c2\",\"type\":\"MonthsTicker\"},{\"id\":\"3bbce050-eebc-44fa-8fc4-992c81601309\",\"type\":\"MonthsTicker\"},{\"id\":\"34061162-42ab-4528-9376-d3471ae41187\",\"type\":\"MonthsTicker\"},{\"id\":\"0fb25741-0329-40bd-bd8f-6a16ae2aa944\",\"type\":\"YearsTicker\"}]},\"id\":\"8591caf1-54f2-4898-aa0e-ce881a338fa3\",\"type\":\"DatetimeTicker\"},{\"attributes\":{\"base\":60,\"mantissas\":[1,2,5,10,15,20,30],\"max_interval\":1800000.0,\"min_interval\":1000.0,\"num_minor_ticks\":0},\"id\":\"aca35921-f4b1-42fa-afd4-98145b6ac689\",\"type\":\"AdaptiveTicker\"},{\"attributes\":{\"fields\":[]},\"id\":\"b15029bd-5a4f-4848-8a8a-0bbd6ebdb8c2\",\"type\":\"Stack\"},{\"attributes\":{\"callback\":null,\"end\":3.8,\"start\":-2.4},\"id\":\"6c63a2f9-b267-43a2-beb3-dcc383ce7cda\",\"type\":\"Range1d\"},{\"attributes\":{\"label\":{\"value\":\"Core services\"},\"renderers\":[{\"id\":\"1d3ab596-2bb6-4d76-a498-80344989d6b9\",\"type\":\"GlyphRenderer\"}]},\"id\":\"98ebe1dd-7245-43b5-87ac-69a5ae19b2c0\",\"type\":\"LegendItem\"},{\"attributes\":{\"base\":24,\"mantissas\":[1,2,4,6,8,12],\"max_interval\":43200000.0,\"min_interval\":3600000.0,\"num_minor_ticks\":0},\"id\":\"540fb14c-b3a8-4d67-b5c3-97f00a37e9b0\",\"type\":\"AdaptiveTicker\"},{\"attributes\":{\"days\":[1,2,3,4,5,6,7,8,9,10,11,12,13,14,15,16,17,18,19,20,21,22,23,24,25,26,27,28,29,30,31]},\"id\":\"0f9d4ecd-5c97-4252-8b65-3c78dcdd6905\",\"type\":\"DaysTicker\"},{\"attributes\":{\"days\":[1,4,7,10,13,16,19,22,25,28]},\"id\":\"c520d436-1707-4244-aa4b-6c4f5c8b8d9f\",\"type\":\"DaysTicker\"},{\"attributes\":{\"callback\":null},\"id\":\"59946695-0d2c-48e5-80f9-6a6f19a413bb\",\"type\":\"DataRange1d\"},{\"attributes\":{\"days\":[1,8,15,22]},\"id\":\"8c949b93-f52e-4c94-9655-5cca7db053b2\",\"type\":\"DaysTicker\"},{\"attributes\":{\"callback\":null,\"column_names\":[\"core services\",\"shelter\",\"core goods\",\"food & energy\",\"dates\",\"strdate\"],\"data\":{\"core goods\":[0,0,0,0,0,0,0,0,0,0,0,0,0,0.01,0,0,0,0,0,0,0,0,0,0,0,0,0,0,0,0,0,0,0,0,0,0,0,0],\"core services\":[0.49,0.45,0.45,0.47,0.46,0.48,0.49,0.51,0.54,0.59,0.64,0.66,0.68,0.73,0.74,0.73,0.76,0.76,0.76,0.8,0.73,0.64,0.63,0.65,0.67,0.69,0.56,0.47,0.41,0.39,0.41,0.4,0.46,0.52,0.47,0.47,0.5,0.51],\"dates\":[1420070400000.0,1422748800000.0,1425168000000.0,1427846400000.0,1430438400000.0,1433116800000.0,1435708800000.0,1438387200000.0,1441065600000.0,1443657600000.0,1446336000000.0,1448928000000.0,1451606400000.0,1454284800000.0,1456790400000.0,1459468800000.0,1462060800000.0,1464739200000.0,1467331200000.0,1470009600000.0,1472688000000.0,1475280000000.0,1477958400000.0,1480550400000.0,1483228800000.0,1485907200000.0,1488326400000.0,1491004800000.0,1493596800000.0,1496275200000.0,1498867200000.0,1501545600000.0,1504224000000.0,1506816000000.0,1509494400000.0,1512086400000.0,1514764800000.0,1517443200000.0],\"food & energy\":[0,0,0,0,0,0,0,0,0,0,0,0,0,0,0,0,0,0,0,0,0,0,0.03,0.35,0.73,1.01,0.82,0.74,0.53,0.3,0.41,0.64,0.95,0.67,0.89,0.74,0.67,0.79],\"shelter\":[0.94,0.96,0.96,0.97,0.94,0.98,1.02,1.01,1.04,1.05,1.05,1.06,1.07,1.09,1.06,1.07,1.13,1.16,1.11,1.15,1.16,1.19,1.21,1.23,1.21,1.21,1.19,1.19,1.15,1.13,1.1,1.15,1.13,1.14,1.11,1.13,1.13,1.11],\"strdate\":[\"Jan 2015\",\"Feb 2015\",\"Mar 2015\",\"Apr 2015\",\"May 2015\",\"Jun 2015\",\"Jul 2015\",\"Aug 2015\",\"Sep 2015\",\"Oct 2015\",\"Nov 2015\",\"Dec 2015\",\"Jan 2016\",\"Feb 2016\",\"Mar 2016\",\"Apr 2016\",\"May 2016\",\"Jun 2016\",\"Jul 2016\",\"Aug 2016\",\"Sep 2016\",\"Oct 2016\",\"Nov 2016\",\"Dec 2016\",\"Jan 2017\",\"Feb 2017\",\"Mar 2017\",\"Apr 2017\",\"May 2017\",\"Jun 2017\",\"Jul 2017\",\"Aug 2017\",\"Sep 2017\",\"Oct 2017\",\"Nov 2017\",\"Dec 2017\",\"Jan 2018\",\"Feb 2018\"]}},\"id\":\"5101f19d-1274-426b-b2a2-44fa5826ad32\",\"type\":\"ColumnDataSource\"},{\"attributes\":{\"days\":[1,15]},\"id\":\"c6d96130-0f63-4af8-b924-6302eb0e4b77\",\"type\":\"DaysTicker\"},{\"attributes\":{\"months\":[0,1,2,3,4,5,6,7,8,9,10,11]},\"id\":\"1e081baa-1a43-431a-9338-46cb78c069c0\",\"type\":\"MonthsTicker\"},{\"attributes\":{\"axis_line_color\":{\"value\":\"white\"},\"formatter\":{\"id\":\"f93e5f23-96fa-47a3-852b-f3f69c1716c4\",\"type\":\"DatetimeTickFormatter\"},\"plot\":{\"id\":\"480fcab4-c5e4-458b-aa8d-39f94168d489\",\"subtype\":\"Figure\",\"type\":\"Plot\"},\"ticker\":{\"id\":\"8591caf1-54f2-4898-aa0e-ce881a338fa3\",\"type\":\"DatetimeTicker\"}},\"id\":\"633ca215-7c55-43ee-b713-535490e6c036\",\"type\":\"DatetimeAxis\"},{\"attributes\":{\"months\":[0,2,4,6,8,10]},\"id\":\"987f784e-4a04-4609-96a5-0f6e1bbfd3c2\",\"type\":\"MonthsTicker\"},{\"attributes\":{\"months\":[0,4,8]},\"id\":\"3bbce050-eebc-44fa-8fc4-992c81601309\",\"type\":\"MonthsTicker\"},{\"attributes\":{\"months\":[0,6]},\"id\":\"34061162-42ab-4528-9376-d3471ae41187\",\"type\":\"MonthsTicker\"},{\"attributes\":{\"overlay\":{\"id\":\"14cdbcc0-ddf8-47f4-adaf-b7b861c23bcf\",\"type\":\"BoxAnnotation\"}},\"id\":\"89f98702-1e8d-44d8-ad18-8e2bf37571cd\",\"type\":\"BoxZoomTool\"},{\"attributes\":{},\"id\":\"0fb25741-0329-40bd-bd8f-6a16ae2aa944\",\"type\":\"YearsTicker\"},{\"attributes\":{\"bottom_units\":\"screen\",\"fill_alpha\":{\"value\":0.5},\"fill_color\":{\"value\":\"lightgrey\"},\"left_units\":\"screen\",\"level\":\"overlay\",\"line_alpha\":{\"value\":1.0},\"line_color\":{\"value\":\"black\"},\"line_dash\":[4,4],\"line_width\":{\"value\":2},\"plot\":null,\"render_mode\":\"css\",\"right_units\":\"screen\",\"top_units\":\"screen\"},\"id\":\"14cdbcc0-ddf8-47f4-adaf-b7b861c23bcf\",\"type\":\"BoxAnnotation\"},{\"attributes\":{\"background_fill_alpha\":{\"value\":0},\"border_line_alpha\":{\"value\":0},\"glyph_height\":14,\"glyph_width\":14,\"items\":[{\"id\":\"98ebe1dd-7245-43b5-87ac-69a5ae19b2c0\",\"type\":\"LegendItem\"},{\"id\":\"03404a66-e838-4995-a664-fb622002a061\",\"type\":\"LegendItem\"},{\"id\":\"a21f8888-12f0-4735-808e-7b31a8330a4b\",\"type\":\"LegendItem\"},{\"id\":\"1377ec3f-91de-4cb2-8699-1fa6aed0b69f\",\"type\":\"LegendItem\"}],\"label_text_font_size\":{\"value\":\"9pt\"},\"location\":\"top_left\",\"margin\":5,\"orientation\":\"horizontal\",\"padding\":0,\"plot\":{\"id\":\"480fcab4-c5e4-458b-aa8d-39f94168d489\",\"subtype\":\"Figure\",\"type\":\"Plot\"},\"spacing\":10},\"id\":\"13b45a62-8cc3-41c7-8395-d578666de16a\",\"type\":\"Legend\"},{\"attributes\":{\"label\":{\"value\":\"Food & energy\"},\"renderers\":[{\"id\":\"be1cfb42-30f3-46fe-8823-57dd42044c5a\",\"type\":\"GlyphRenderer\"}]},\"id\":\"1377ec3f-91de-4cb2-8699-1fa6aed0b69f\",\"type\":\"LegendItem\"},{\"attributes\":{\"bottom\":{\"expr\":{\"id\":\"d79798a8-15b7-4431-993f-20de686c4e31\",\"type\":\"Stack\"}},\"fill_color\":{\"value\":\"#00c853\"},\"line_alpha\":{\"value\":0},\"line_color\":{\"value\":\"#00c853\"},\"top\":{\"expr\":{\"id\":\"1bff4f94-da69-417f-82ca-4bb3151f48f9\",\"type\":\"Stack\"}},\"width\":{\"value\":1921831578.9473684},\"x\":{\"field\":\"dates\"}},\"id\":\"ace151ec-174f-4ac7-bf46-96572414f58d\",\"type\":\"VBar\"},{\"attributes\":{},\"id\":\"ebb0fcd3-fd32-4161-b3f3-c553bb4faf2a\",\"type\":\"WheelZoomTool\"},{\"attributes\":{},\"id\":\"a3ea7df6-df00-42f9-89fe-1e5e49b78d96\",\"type\":\"LinearScale\"},{\"attributes\":{\"bottom\":{\"expr\":{\"id\":\"d79798a8-15b7-4431-993f-20de686c4e31\",\"type\":\"Stack\"}},\"fill_alpha\":{\"value\":0.1},\"fill_color\":{\"value\":\"#1f77b4\"},\"line_alpha\":{\"value\":0.1},\"line_color\":{\"value\":\"#1f77b4\"},\"top\":{\"expr\":{\"id\":\"1bff4f94-da69-417f-82ca-4bb3151f48f9\",\"type\":\"Stack\"}},\"width\":{\"value\":1921831578.9473684},\"x\":{\"field\":\"dates\"}},\"id\":\"696aad54-7114-4d64-b48a-037b38ee2abb\",\"type\":\"VBar\"},{\"attributes\":{\"bottom\":{\"expr\":{\"id\":\"8feab277-3a9b-49f3-98ca-9141b622e635\",\"type\":\"Stack\"}},\"fill_alpha\":{\"value\":0.1},\"fill_color\":{\"value\":\"#1f77b4\"},\"line_alpha\":{\"value\":0.1},\"line_color\":{\"value\":\"#1f77b4\"},\"top\":{\"expr\":{\"id\":\"a029d91b-4d51-4f98-b800-51ee8e1365b0\",\"type\":\"Stack\"}},\"width\":{\"value\":1921831578.9473684},\"x\":{\"field\":\"dates\"}},\"id\":\"75a65802-bc76-4a9f-b8ee-7910c7be6316\",\"type\":\"VBar\"},{\"attributes\":{\"callback\":null,\"column_names\":[\"core services\",\"shelter\",\"core goods\",\"food & energy\",\"dates\",\"strdate\"],\"data\":{\"core goods\":[-0.16,-0.1,-0.05,-0.04,-0.06,-0.09,-0.1,-0.1,-0.1,-0.14,-0.11,-0.08,-0.02,0,-0.07,-0.1,-0.11,-0.12,-0.12,-0.09,-0.13,-0.11,-0.14,-0.12,-0.05,-0.1,-0.11,-0.12,-0.15,-0.13,-0.12,-0.17,-0.2,-0.19,-0.17,-0.14,-0.13,-0.1],\"core services\":[0,0,0,0,0,0,0,0,0,0,0,0,0,0,0,0,0,0,0,0,0,0,0,0,0,0,0,0,0,0,0,0,0,0,0,0,0,0],\"dates\":[1420070400000.0,1422748800000.0,1425168000000.0,1427846400000.0,1430438400000.0,1433116800000.0,1435708800000.0,1438387200000.0,1441065600000.0,1443657600000.0,1446336000000.0,1448928000000.0,1451606400000.0,1454284800000.0,1456790400000.0,1459468800000.0,1462060800000.0,1464739200000.0,1467331200000.0,1470009600000.0,1472688000000.0,1475280000000.0,1477958400000.0,1480550400000.0,1483228800000.0,1485907200000.0,1488326400000.0,1491004800000.0,1493596800000.0,1496275200000.0,1498867200000.0,1501545600000.0,1504224000000.0,1506816000000.0,1509494400000.0,1512086400000.0,1514764800000.0,1517443200000.0],\"food & energy\":[-1.36,-1.34,-1.44,-1.61,-1.38,-1.25,-1.24,-1.23,-1.52,-1.33,-1.07,-0.91,-0.36,-0.82,-0.88,-0.56,-0.74,-0.76,-0.89,-0.76,-0.27,-0.05,0,0,0,0,0,0,0,0,0,0,0,0,0,0,0,0],\"shelter\":[0,0,0,0,0,0,0,0,0,0,0,0,0,0,0,0,0,0,0,0,0,0,0,0,0,0,0,0,0,0,0,0,0,0,0,0,0,0],\"strdate\":[\"Jan 2015\",\"Feb 2015\",\"Mar 2015\",\"Apr 2015\",\"May 2015\",\"Jun 2015\",\"Jul 2015\",\"Aug 2015\",\"Sep 2015\",\"Oct 2015\",\"Nov 2015\",\"Dec 2015\",\"Jan 2016\",\"Feb 2016\",\"Mar 2016\",\"Apr 2016\",\"May 2016\",\"Jun 2016\",\"Jul 2016\",\"Aug 2016\",\"Sep 2016\",\"Oct 2016\",\"Nov 2016\",\"Dec 2016\",\"Jan 2017\",\"Feb 2017\",\"Mar 2017\",\"Apr 2017\",\"May 2017\",\"Jun 2017\",\"Jul 2017\",\"Aug 2017\",\"Sep 2017\",\"Oct 2017\",\"Nov 2017\",\"Dec 2017\",\"Jan 2018\",\"Feb 2018\"]}},\"id\":\"4c1f08c5-71d5-4415-90b4-484c4d4ec798\",\"type\":\"ColumnDataSource\"},{\"attributes\":{\"active_drag\":null,\"active_inspect\":\"auto\",\"active_scroll\":\"auto\",\"active_tap\":\"auto\",\"logo\":null,\"tools\":[{\"id\":\"252e04f9-3f15-416e-807c-a0aec637e8dd\",\"type\":\"PanTool\"},{\"id\":\"ebb0fcd3-fd32-4161-b3f3-c553bb4faf2a\",\"type\":\"WheelZoomTool\"},{\"id\":\"89f98702-1e8d-44d8-ad18-8e2bf37571cd\",\"type\":\"BoxZoomTool\"},{\"id\":\"050a732b-8ca4-4b3e-bfe4-456bdfec4fb5\",\"type\":\"ResetTool\"},{\"id\":\"7bc78cc2-ca40-4f20-a66c-2f9c2c90d515\",\"type\":\"HoverTool\"}]},\"id\":\"2a893a84-88c8-49ed-bd68-f60882a0f59a\",\"type\":\"Toolbar\"},{\"attributes\":{\"fields\":[]},\"id\":\"da9d273b-919a-43d6-9055-5b14ca6a137a\",\"type\":\"Stack\"},{\"attributes\":{\"label\":{\"value\":\"Shelter\"},\"renderers\":[{\"id\":\"0470f17f-d9e7-4476-a8e5-2286abff1534\",\"type\":\"GlyphRenderer\"}]},\"id\":\"03404a66-e838-4995-a664-fb622002a061\",\"type\":\"LegendItem\"},{\"attributes\":{\"bottom\":{\"expr\":{\"id\":\"da267fbf-71a9-42f7-bd74-73a42fb565bf\",\"type\":\"Stack\"}},\"fill_alpha\":{\"value\":0.1},\"fill_color\":{\"value\":\"#1f77b4\"},\"line_alpha\":{\"value\":0.1},\"line_color\":{\"value\":\"#1f77b4\"},\"top\":{\"expr\":{\"id\":\"1a1caecd-e9c2-499f-a785-abcda77913bd\",\"type\":\"Stack\"}},\"width\":{\"value\":1921831578.9473684},\"x\":{\"field\":\"dates\"}},\"id\":\"48ad7eb3-c867-4d25-80c3-8bd43106b390\",\"type\":\"VBar\"},{\"attributes\":{\"below\":[{\"id\":\"633ca215-7c55-43ee-b713-535490e6c036\",\"type\":\"DatetimeAxis\"}],\"left\":[{\"id\":\"4fecc8df-0067-421f-b9f0-0f72d8ec2fc4\",\"type\":\"LinearAxis\"}],\"outline_line_color\":{\"value\":\"white\"},\"plot_height\":300,\"plot_width\":700,\"renderers\":[{\"id\":\"633ca215-7c55-43ee-b713-535490e6c036\",\"type\":\"DatetimeAxis\"},{\"id\":\"a23bc9de-9218-405d-9503-50631702fccc\",\"type\":\"Grid\"},{\"id\":\"4fecc8df-0067-421f-b9f0-0f72d8ec2fc4\",\"type\":\"LinearAxis\"},{\"id\":\"7a92d273-5072-4fef-91ba-f5fe1e32079a\",\"type\":\"Grid\"},{\"id\":\"14cdbcc0-ddf8-47f4-adaf-b7b861c23bcf\",\"type\":\"BoxAnnotation\"},{\"id\":\"13b45a62-8cc3-41c7-8395-d578666de16a\",\"type\":\"Legend\"},{\"id\":\"1d3ab596-2bb6-4d76-a498-80344989d6b9\",\"type\":\"GlyphRenderer\"},{\"id\":\"0470f17f-d9e7-4476-a8e5-2286abff1534\",\"type\":\"GlyphRenderer\"},{\"id\":\"aa6cd8f1-0a6a-48bc-abc9-51a2c1659289\",\"type\":\"GlyphRenderer\"},{\"id\":\"be1cfb42-30f3-46fe-8823-57dd42044c5a\",\"type\":\"GlyphRenderer\"},{\"id\":\"531f98f8-d176-4d22-a5d7-08b1b3494703\",\"type\":\"GlyphRenderer\"},{\"id\":\"0a3b5750-1208-4a39-8387-13e7e899e41c\",\"type\":\"GlyphRenderer\"},{\"id\":\"113a930d-b1dc-44f7-908e-358254908c88\",\"type\":\"GlyphRenderer\"},{\"id\":\"116921b6-3191-4df8-9c5e-6b2828661d0a\",\"type\":\"GlyphRenderer\"},{\"id\":\"61a8114e-c415-4944-8ba0-fc4a75312a15\",\"type\":\"Span\"},{\"id\":\"af34db21-7b72-4155-98b6-05d0fd235503\",\"type\":\"GlyphRenderer\"}],\"sizing_mode\":\"scale_width\",\"title\":{\"id\":\"0ba40197-c53a-4df8-8852-33a9237a7ea9\",\"type\":\"Title\"},\"toolbar\":{\"id\":\"2a893a84-88c8-49ed-bd68-f60882a0f59a\",\"type\":\"Toolbar\"},\"toolbar_location\":null,\"x_range\":{\"id\":\"59946695-0d2c-48e5-80f9-6a6f19a413bb\",\"type\":\"DataRange1d\"},\"x_scale\":{\"id\":\"a3ea7df6-df00-42f9-89fe-1e5e49b78d96\",\"type\":\"LinearScale\"},\"y_range\":{\"id\":\"6c63a2f9-b267-43a2-beb3-dcc383ce7cda\",\"type\":\"Range1d\"},\"y_scale\":{\"id\":\"6d694baf-eda9-4ca4-8822-92053f7ccdaf\",\"type\":\"LinearScale\"}},\"id\":\"480fcab4-c5e4-458b-aa8d-39f94168d489\",\"subtype\":\"Figure\",\"type\":\"Plot\"},{\"attributes\":{\"fields\":[\"core services\",\"shelter\"]},\"id\":\"603423cc-e3c2-4e89-bf8e-dbb29a3e7d1b\",\"type\":\"Stack\"},{\"attributes\":{\"data_source\":{\"id\":\"5101f19d-1274-426b-b2a2-44fa5826ad32\",\"type\":\"ColumnDataSource\"},\"glyph\":{\"id\":\"866e8747-86b3-449d-92db-b76621bd6b34\",\"type\":\"VBar\"},\"hover_glyph\":null,\"muted_glyph\":null,\"nonselection_glyph\":{\"id\":\"48ad7eb3-c867-4d25-80c3-8bd43106b390\",\"type\":\"VBar\"},\"selection_glyph\":null,\"view\":{\"id\":\"878de5c2-541f-4e50-9776-66fd23653b64\",\"type\":\"CDSView\"}},\"id\":\"be1cfb42-30f3-46fe-8823-57dd42044c5a\",\"type\":\"GlyphRenderer\"},{\"attributes\":{\"line_color\":{\"value\":\"gray\"},\"location\":0,\"plot\":{\"id\":\"480fcab4-c5e4-458b-aa8d-39f94168d489\",\"subtype\":\"Figure\",\"type\":\"Plot\"}},\"id\":\"61a8114e-c415-4944-8ba0-fc4a75312a15\",\"type\":\"Span\"},{\"attributes\":{\"data_source\":{\"id\":\"5101f19d-1274-426b-b2a2-44fa5826ad32\",\"type\":\"ColumnDataSource\"},\"glyph\":{\"id\":\"b64eddda-8531-42e2-b61c-7f13a670f4bb\",\"type\":\"VBar\"},\"hover_glyph\":null,\"muted_glyph\":null,\"nonselection_glyph\":{\"id\":\"75a65802-bc76-4a9f-b8ee-7910c7be6316\",\"type\":\"VBar\"},\"selection_glyph\":null,\"view\":{\"id\":\"8375371c-8b74-4cfc-8848-55e8164ecc96\",\"type\":\"CDSView\"}},\"id\":\"0470f17f-d9e7-4476-a8e5-2286abff1534\",\"type\":\"GlyphRenderer\"},{\"attributes\":{\"bottom\":{\"expr\":{\"id\":\"da267fbf-71a9-42f7-bd74-73a42fb565bf\",\"type\":\"Stack\"}},\"fill_color\":{\"value\":\"#304FFE\"},\"line_alpha\":{\"value\":0},\"line_color\":{\"value\":\"#304FFE\"},\"top\":{\"expr\":{\"id\":\"1a1caecd-e9c2-499f-a785-abcda77913bd\",\"type\":\"Stack\"}},\"width\":{\"value\":1921831578.9473684},\"x\":{\"field\":\"dates\"}},\"id\":\"866e8747-86b3-449d-92db-b76621bd6b34\",\"type\":\"VBar\"},{\"attributes\":{\"axis_line_color\":{\"value\":\"white\"},\"formatter\":{\"id\":\"e2681c42-dc1e-4a4f-959d-ae84aa5b63c0\",\"type\":\"BasicTickFormatter\"},\"plot\":{\"id\":\"480fcab4-c5e4-458b-aa8d-39f94168d489\",\"subtype\":\"Figure\",\"type\":\"Plot\"},\"ticker\":{\"id\":\"56ca75bf-81f8-4bd7-af5a-65b338953882\",\"type\":\"BasicTicker\"}},\"id\":\"4fecc8df-0067-421f-b9f0-0f72d8ec2fc4\",\"type\":\"LinearAxis\"},{\"attributes\":{\"source\":{\"id\":\"5101f19d-1274-426b-b2a2-44fa5826ad32\",\"type\":\"ColumnDataSource\"}},\"id\":\"8375371c-8b74-4cfc-8848-55e8164ecc96\",\"type\":\"CDSView\"},{\"attributes\":{\"dimension\":1,\"plot\":{\"id\":\"480fcab4-c5e4-458b-aa8d-39f94168d489\",\"subtype\":\"Figure\",\"type\":\"Plot\"},\"ticker\":{\"id\":\"56ca75bf-81f8-4bd7-af5a-65b338953882\",\"type\":\"BasicTicker\"}},\"id\":\"7a92d273-5072-4fef-91ba-f5fe1e32079a\",\"type\":\"Grid\"},{\"attributes\":{\"bottom\":{\"expr\":{\"id\":\"da9d273b-919a-43d6-9055-5b14ca6a137a\",\"type\":\"Stack\"}},\"fill_alpha\":{\"value\":0.1},\"fill_color\":{\"value\":\"#1f77b4\"},\"line_alpha\":{\"value\":0.1},\"line_color\":{\"value\":\"#1f77b4\"},\"top\":{\"expr\":{\"id\":\"9949642e-4bbb-4da8-8052-5100c8b1ad17\",\"type\":\"Stack\"}},\"width\":{\"value\":1921831578.9473684},\"x\":{\"field\":\"dates\"}},\"id\":\"70e6cfd5-6e53-4f75-b593-172f750fc16a\",\"type\":\"VBar\"},{\"attributes\":{\"label\":{\"value\":\"Core goods\"},\"renderers\":[{\"id\":\"aa6cd8f1-0a6a-48bc-abc9-51a2c1659289\",\"type\":\"GlyphRenderer\"}]},\"id\":\"a21f8888-12f0-4735-808e-7b31a8330a4b\",\"type\":\"LegendItem\"},{\"attributes\":{\"fields\":[\"core services\"]},\"id\":\"0f3b7cd2-9f28-4756-b3a9-1b902718ce91\",\"type\":\"Stack\"},{\"attributes\":{\"fields\":[\"core services\",\"shelter\",\"core goods\"]},\"id\":\"8791973d-a72e-4f8e-a65d-2587e879d864\",\"type\":\"Stack\"},{\"attributes\":{},\"id\":\"56ca75bf-81f8-4bd7-af5a-65b338953882\",\"type\":\"BasicTicker\"},{\"attributes\":{\"fields\":[\"core services\",\"shelter\",\"core goods\"]},\"id\":\"99a67cf2-0369-4fdc-ba6f-da9370a959ee\",\"type\":\"Stack\"},{\"attributes\":{\"grid_line_color\":{\"value\":null},\"plot\":{\"id\":\"480fcab4-c5e4-458b-aa8d-39f94168d489\",\"subtype\":\"Figure\",\"type\":\"Plot\"},\"ticker\":{\"id\":\"8591caf1-54f2-4898-aa0e-ce881a338fa3\",\"type\":\"DatetimeTicker\"}},\"id\":\"a23bc9de-9218-405d-9503-50631702fccc\",\"type\":\"Grid\"},{\"attributes\":{\"bottom\":{\"expr\":{\"id\":\"bd8a787d-6fec-4e65-8c26-db86f0321cb5\",\"type\":\"Stack\"}},\"fill_color\":{\"value\":\"#80DEEA\"},\"line_alpha\":{\"value\":0},\"line_color\":{\"value\":\"#80DEEA\"},\"top\":{\"expr\":{\"id\":\"d8d0cfdb-89ac-4314-a1d3-ad2dc302a430\",\"type\":\"Stack\"}},\"width\":{\"value\":1921831578.9473684},\"x\":{\"field\":\"dates\"}},\"id\":\"2b9b87bf-7352-4dac-923d-171f323ba59c\",\"type\":\"VBar\"},{\"attributes\":{\"callback\":null,\"column_names\":[\"core services\",\"shelter\",\"core goods\",\"food & energy\",\"total\",\"strdate\",\"date\",\"index\"],\"data\":{\"core goods\":{\"__ndarray__\":\"exSuR+F6xL+amZmZmZm5v5qZmZmZmam/exSuR+F6pL+4HoXrUbiuvwrXo3A9Cre/mpmZmZmZub+amZmZmZm5v5qZmZmZmbm/7FG4HoXrwb8pXI/C9Si8v3sUrkfherS/exSuR+F6lL97FK5H4XqEP+xRuB6F67G/mpmZmZmZub8pXI/C9Si8v7gehetRuL6/uB6F61G4vr8K16NwPQq3v6RwPQrXo8C/KVyPwvUovL/sUbgehevBv7gehetRuL6/mpmZmZmZqb+amZmZmZm5vylcj8L1KLy/uB6F61G4vr8zMzMzMzPDv6RwPQrXo8C/uB6F61G4vr/D9Shcj8LFv5qZmZmZmcm/UrgehetRyL/D9Shcj8LFv+xRuB6F68G/pHA9CtejwL+amZmZmZm5vw==\",\"dtype\":\"float64\",\"shape\":[38]},\"core services\":{\"__ndarray__\":\"XI/C9Shc3z/NzMzMzMzcP83MzMzMzNw/FK5H4XoU3j9xPQrXo3DdP7gehetRuN4/XI/C9Shc3z9SuB6F61HgP0jhehSuR+E/4XoUrkfh4j97FK5H4XrkPx+F61G4HuU/w/UoXI/C5T9cj8L1KFznP65H4XoUruc/XI/C9Shc5z9SuB6F61HoP1K4HoXrUeg/UrgehetR6D+amZmZmZnpP1yPwvUoXOc/exSuR+F65D8pXI/C9SjkP83MzMzMzOQ/cT0K16Nw5T8UrkfhehTmP+xRuB6F6+E/FK5H4XoU3j89CtejcD3aP/YoXI/C9dg/PQrXo3A92j+amZmZmZnZP3E9CtejcN0/pHA9Ctej4D8UrkfhehTePxSuR+F6FN4/AAAAAAAA4D9SuB6F61HgPw==\",\"dtype\":\"float64\",\"shape\":[38]},\"date\":{\"__ndarray__\":\"AAAAqyyqdEIAAED9JrR0QgAAQB4qvXRCAACAcCTHdEIAAABdzNB0QgAAQK/G2nRCAADAm27kdEIAAADuaO50QgAAQEBj+HRCAADALAsCdUIAAAB/BQx1QgAAgGutFXVCAADAvacfdUIAAAAQoil1QgAAwJb3MnVCAAAA6fE8dUIAAIDVmUZ1QgAAwCeUUHVCAABAFDxadUIAAIBmNmR1QgAAwLgwbnVCAABApdh3dUIAAID30oF1QgAAAOR6i3VCAABANnWVdUIAAICIb591QgAAgKlyqHVCAADA+2yydUIAAEDoFLx1QgAAgDoPxnVCAAAAJ7fPdUIAAEB5sdl1QgAAgMur43VCAAAAuFPtdUIAAEAKTvd1QgAAwPb1AHZCAAAASfAKdkIAAECb6hR2Qg==\",\"dtype\":\"float64\",\"shape\":[38]},\"food & energy\":{\"__ndarray__\":\"w/UoXI/C9b9xPQrXo3D1vwrXo3A9Cve/w/UoXI/C+b8UrkfhehT2vwAAAAAAAPS/16NwPQrX87+uR+F6FK7zv1K4HoXrUfi/SOF6FK5H9b8fhetRuB7xvx+F61G4Hu2/CtejcD0K1789CtejcD3qvylcj8L1KOy/7FG4HoXr4b+uR+F6FK7nv1K4HoXrUei/exSuR+F67L9SuB6F61Hov0jhehSuR9G/mpmZmZmZqb+4HoXrUbieP2ZmZmZmZtY/XI/C9Shc5z8pXI/C9SjwPz0K16NwPeo/rkfhehSu5z/2KFyPwvXgPzMzMzMzM9M/PQrXo3A92j97FK5H4XrkP2ZmZmZmZu4/cT0K16Nw5T97FK5H4XrsP65H4XoUruc/cT0K16Nw5T9I4XoUrkfpPw==\",\"dtype\":\"float64\",\"shape\":[38]},\"index\":{\"__ndarray__\":\"AAAAqyyqdEIAAED9JrR0QgAAQB4qvXRCAACAcCTHdEIAAABdzNB0QgAAQK/G2nRCAADAm27kdEIAAADuaO50QgAAQEBj+HRCAADALAsCdUIAAAB/BQx1QgAAgGutFXVCAADAvacfdUIAAAAQoil1QgAAwJb3MnVCAAAA6fE8dUIAAIDVmUZ1QgAAwCeUUHVCAABAFDxadUIAAIBmNmR1QgAAwLgwbnVCAABApdh3dUIAAID30oF1QgAAAOR6i3VCAABANnWVdUIAAICIb591QgAAgKlyqHVCAADA+2yydUIAAEDoFLx1QgAAgDoPxnVCAAAAJ7fPdUIAAEB5sdl1QgAAgMur43VCAAAAuFPtdUIAAEAKTvd1QgAAwPb1AHZCAAAASfAKdkIAAECb6hR2Qg==\",\"dtype\":\"float64\",\"shape\":[38]},\"shelter\":{\"__ndarray__\":\"FK5H4XoU7j+4HoXrUbjuP7gehetRuO4/CtejcD0K7z8UrkfhehTuP1yPwvUoXO8/UrgehetR8D8pXI/C9SjwP6RwPQrXo/A/zczMzMzM8D/NzMzMzMzwP/YoXI/C9fA/H4XrUbge8T9xPQrXo3DxP/YoXI/C9fA/H4XrUbge8T8UrkfhehTyP4/C9Shcj/I/w/UoXI/C8T9mZmZmZmbyP4/C9Shcj/I/CtejcD0K8z9cj8L1KFzzP65H4XoUrvM/XI/C9Shc8z9cj8L1KFzzPwrXo3A9CvM/CtejcD0K8z9mZmZmZmbyPxSuR+F6FPI/mpmZmZmZ8T9mZmZmZmbyPxSuR+F6FPI/PQrXo3A98j/D9Shcj8LxPxSuR+F6FPI/FK5H4XoU8j/D9Shcj8LxPw==\",\"dtype\":\"float64\",\"shape\":[38]},\"strdate\":[\"January 2015\",\"February 2015\",\"March 2015\",\"April 2015\",\"May 2015\",\"June 2015\",\"July 2015\",\"August 2015\",\"September 2015\",\"October 2015\",\"November 2015\",\"December 2015\",\"January 2016\",\"February 2016\",\"March 2016\",\"April 2016\",\"May 2016\",\"June 2016\",\"July 2016\",\"August 2016\",\"September 2016\",\"October 2016\",\"November 2016\",\"December 2016\",\"January 2017\",\"February 2017\",\"March 2017\",\"April 2017\",\"May 2017\",\"June 2017\",\"July 2017\",\"August 2017\",\"September 2017\",\"October 2017\",\"November 2017\",\"December 2017\",\"January 2018\",\"February 2018\"],\"total\":{\"__ndarray__\":\"CtejcD0Kt7+4HoXrUbiev+xRuB6F67G/mpmZmZmZyb97FK5H4Xqkv6RwPQrXo8A/w/UoXI/CxT+amZmZmZnJP3sUrkfheqS/w/UoXI/CxT9SuB6F61HgP65H4XoUruc/FK5H4XoU9j97FK5H4XrwP4XrUbgehes/PQrXo3A98j+kcD0K16PwP1K4HoXrUfA/MzMzMzMz6z9xPQrXo3DxP9ejcD0K1/c/uB6F61G4+j+F61G4HoX7P+F6FK5H4QBAUrgehetRBEBSuB6F61EGQHE9CtejcANAFK5H4XoUAkDhehSuR+H+PwrXo3A9Cvs/exSuR+F6/D8AAAAAAAAAQHsUrkfhegJA9ihcj8L1AEA9CtejcD0CQHE9CtejcAFASOF6FK5HAUB7FK5H4XoCQA==\",\"dtype\":\"float64\",\"shape\":[38]}}},\"id\":\"a6d06741-2e83-4383-b8a9-e95cd7953033\",\"type\":\"ColumnDataSource\"},{\"attributes\":{\"fields\":[\"core services\",\"shelter\"]},\"id\":\"d79798a8-15b7-4431-993f-20de686c4e31\",\"type\":\"Stack\"},{\"attributes\":{\"data_source\":{\"id\":\"5101f19d-1274-426b-b2a2-44fa5826ad32\",\"type\":\"ColumnDataSource\"},\"glyph\":{\"id\":\"ace151ec-174f-4ac7-bf46-96572414f58d\",\"type\":\"VBar\"},\"hover_glyph\":null,\"muted_glyph\":null,\"nonselection_glyph\":{\"id\":\"696aad54-7114-4d64-b48a-037b38ee2abb\",\"type\":\"VBar\"},\"selection_glyph\":null,\"view\":{\"id\":\"e0823205-0173-431a-a478-b5342b3f6512\",\"type\":\"CDSView\"}},\"id\":\"aa6cd8f1-0a6a-48bc-abc9-51a2c1659289\",\"type\":\"GlyphRenderer\"},{\"attributes\":{\"fields\":[\"core services\",\"shelter\",\"core goods\"]},\"id\":\"1bff4f94-da69-417f-82ca-4bb3151f48f9\",\"type\":\"Stack\"},{\"attributes\":{\"source\":{\"id\":\"5101f19d-1274-426b-b2a2-44fa5826ad32\",\"type\":\"ColumnDataSource\"}},\"id\":\"e0823205-0173-431a-a478-b5342b3f6512\",\"type\":\"CDSView\"},{\"attributes\":{\"fields\":[\"core services\",\"shelter\"]},\"id\":\"a029d91b-4d51-4f98-b800-51ee8e1365b0\",\"type\":\"Stack\"},{\"attributes\":{},\"id\":\"050a732b-8ca4-4b3e-bfe4-456bdfec4fb5\",\"type\":\"ResetTool\"},{\"attributes\":{\"fields\":[\"core services\"]},\"id\":\"9949642e-4bbb-4da8-8052-5100c8b1ad17\",\"type\":\"Stack\"},{\"attributes\":{},\"id\":\"252e04f9-3f15-416e-807c-a0aec637e8dd\",\"type\":\"PanTool\"},{\"attributes\":{\"source\":{\"id\":\"5101f19d-1274-426b-b2a2-44fa5826ad32\",\"type\":\"ColumnDataSource\"}},\"id\":\"878de5c2-541f-4e50-9776-66fd23653b64\",\"type\":\"CDSView\"},{\"attributes\":{\"fields\":[\"core services\"]},\"id\":\"8feab277-3a9b-49f3-98ca-9141b622e635\",\"type\":\"Stack\"},{\"attributes\":{\"bottom\":{\"expr\":{\"id\":\"8feab277-3a9b-49f3-98ca-9141b622e635\",\"type\":\"Stack\"}},\"fill_color\":{\"value\":\"#80DEEA\"},\"line_alpha\":{\"value\":0},\"line_color\":{\"value\":\"#80DEEA\"},\"top\":{\"expr\":{\"id\":\"a029d91b-4d51-4f98-b800-51ee8e1365b0\",\"type\":\"Stack\"}},\"width\":{\"value\":1921831578.9473684},\"x\":{\"field\":\"dates\"}},\"id\":\"b64eddda-8531-42e2-b61c-7f13a670f4bb\",\"type\":\"VBar\"},{\"attributes\":{\"fields\":[\"core services\"]},\"id\":\"bd8a787d-6fec-4e65-8c26-db86f0321cb5\",\"type\":\"Stack\"},{\"attributes\":{\"fields\":[\"core services\",\"shelter\"]},\"id\":\"d8d0cfdb-89ac-4314-a1d3-ad2dc302a430\",\"type\":\"Stack\"},{\"attributes\":{\"fields\":[\"core services\",\"shelter\",\"core goods\",\"food & energy\"]},\"id\":\"015146f5-b3ff-4bb9-93c3-2b78da18ed56\",\"type\":\"Stack\"},{\"attributes\":{\"bottom\":{\"expr\":{\"id\":\"da9d273b-919a-43d6-9055-5b14ca6a137a\",\"type\":\"Stack\"}},\"fill_color\":{\"value\":\"#FFEA00\"},\"line_alpha\":{\"value\":0},\"line_color\":{\"value\":\"#FFEA00\"},\"top\":{\"expr\":{\"id\":\"9949642e-4bbb-4da8-8052-5100c8b1ad17\",\"type\":\"Stack\"}},\"width\":{\"value\":1921831578.9473684},\"x\":{\"field\":\"dates\"}},\"id\":\"3ef6167a-5b70-495f-ad9b-aaca63200915\",\"type\":\"VBar\"},{\"attributes\":{\"fields\":[\"core services\",\"shelter\",\"core goods\"]},\"id\":\"da267fbf-71a9-42f7-bd74-73a42fb565bf\",\"type\":\"Stack\"},{\"attributes\":{\"bottom\":{\"expr\":{\"id\":\"8791973d-a72e-4f8e-a65d-2587e879d864\",\"type\":\"Stack\"}},\"fill_color\":{\"value\":\"#304FFE\"},\"line_alpha\":{\"value\":0},\"line_color\":{\"value\":\"#304FFE\"},\"top\":{\"expr\":{\"id\":\"015146f5-b3ff-4bb9-93c3-2b78da18ed56\",\"type\":\"Stack\"}},\"width\":{\"value\":1921831578.9473684},\"x\":{\"field\":\"dates\"}},\"id\":\"02fb2416-4543-4e0a-a0ee-fb87ef614b9e\",\"type\":\"VBar\"},{\"attributes\":{\"data_source\":{\"id\":\"5101f19d-1274-426b-b2a2-44fa5826ad32\",\"type\":\"ColumnDataSource\"},\"glyph\":{\"id\":\"e6d81c15-2ee6-4830-b79d-19ed92c49a44\",\"type\":\"VBar\"},\"hover_glyph\":null,\"muted_glyph\":null,\"nonselection_glyph\":{\"id\":\"6be4fe71-5667-47cc-9810-8fe74d46f8df\",\"type\":\"VBar\"},\"selection_glyph\":null,\"view\":{\"id\":\"7dff49b9-873f-4c51-9e83-943cb85df8a4\",\"type\":\"CDSView\"}},\"id\":\"1d3ab596-2bb6-4d76-a498-80344989d6b9\",\"type\":\"GlyphRenderer\"},{\"attributes\":{\"bottom\":{\"expr\":{\"id\":\"bd8a787d-6fec-4e65-8c26-db86f0321cb5\",\"type\":\"Stack\"}},\"fill_alpha\":{\"value\":0.1},\"fill_color\":{\"value\":\"#1f77b4\"},\"line_alpha\":{\"value\":0.1},\"line_color\":{\"value\":\"#1f77b4\"},\"top\":{\"expr\":{\"id\":\"d8d0cfdb-89ac-4314-a1d3-ad2dc302a430\",\"type\":\"Stack\"}},\"width\":{\"value\":1921831578.9473684},\"x\":{\"field\":\"dates\"}},\"id\":\"c9735c91-e0d1-43d3-83a1-ac4016e0ac4b\",\"type\":\"VBar\"},{\"attributes\":{\"fields\":[\"core services\",\"shelter\",\"core goods\",\"food & energy\"]},\"id\":\"1a1caecd-e9c2-499f-a785-abcda77913bd\",\"type\":\"Stack\"},{\"attributes\":{\"data_source\":{\"id\":\"4c1f08c5-71d5-4415-90b4-484c4d4ec798\",\"type\":\"ColumnDataSource\"},\"glyph\":{\"id\":\"3ef6167a-5b70-495f-ad9b-aaca63200915\",\"type\":\"VBar\"},\"hover_glyph\":null,\"muted_glyph\":null,\"nonselection_glyph\":{\"id\":\"70e6cfd5-6e53-4f75-b593-172f750fc16a\",\"type\":\"VBar\"},\"selection_glyph\":null,\"view\":{\"id\":\"215b67b1-369c-451d-988f-1acd9c638b7c\",\"type\":\"CDSView\"}},\"id\":\"531f98f8-d176-4d22-a5d7-08b1b3494703\",\"type\":\"GlyphRenderer\"},{\"attributes\":{\"source\":{\"id\":\"4c1f08c5-71d5-4415-90b4-484c4d4ec798\",\"type\":\"ColumnDataSource\"}},\"id\":\"215b67b1-369c-451d-988f-1acd9c638b7c\",\"type\":\"CDSView\"},{\"attributes\":{\"bottom\":{\"expr\":{\"id\":\"b15029bd-5a4f-4848-8a8a-0bbd6ebdb8c2\",\"type\":\"Stack\"}},\"fill_color\":{\"value\":\"#FFEA00\"},\"line_alpha\":{\"value\":0},\"line_color\":{\"value\":\"#FFEA00\"},\"top\":{\"expr\":{\"id\":\"0f3b7cd2-9f28-4756-b3a9-1b902718ce91\",\"type\":\"Stack\"}},\"width\":{\"value\":1921831578.9473684},\"x\":{\"field\":\"dates\"}},\"id\":\"e6d81c15-2ee6-4830-b79d-19ed92c49a44\",\"type\":\"VBar\"},{\"attributes\":{\"bottom\":{\"expr\":{\"id\":\"603423cc-e3c2-4e89-bf8e-dbb29a3e7d1b\",\"type\":\"Stack\"}},\"fill_color\":{\"value\":\"#00c853\"},\"line_alpha\":{\"value\":0},\"line_color\":{\"value\":\"#00c853\"},\"top\":{\"expr\":{\"id\":\"99a67cf2-0369-4fdc-ba6f-da9370a959ee\",\"type\":\"Stack\"}},\"width\":{\"value\":1921831578.9473684},\"x\":{\"field\":\"dates\"}},\"id\":\"2288af18-da3b-4bf8-a917-44100f58e93b\",\"type\":\"VBar\"},{\"attributes\":{\"bottom\":{\"expr\":{\"id\":\"b15029bd-5a4f-4848-8a8a-0bbd6ebdb8c2\",\"type\":\"Stack\"}},\"fill_alpha\":{\"value\":0.1},\"fill_color\":{\"value\":\"#1f77b4\"},\"line_alpha\":{\"value\":0.1},\"line_color\":{\"value\":\"#1f77b4\"},\"top\":{\"expr\":{\"id\":\"0f3b7cd2-9f28-4756-b3a9-1b902718ce91\",\"type\":\"Stack\"}},\"width\":{\"value\":1921831578.9473684},\"x\":{\"field\":\"dates\"}},\"id\":\"6be4fe71-5667-47cc-9810-8fe74d46f8df\",\"type\":\"VBar\"},{\"attributes\":{\"plot\":null,\"text\":\"\"},\"id\":\"0ba40197-c53a-4df8-8852-33a9237a7ea9\",\"type\":\"Title\"},{\"attributes\":{\"bottom\":{\"expr\":{\"id\":\"8791973d-a72e-4f8e-a65d-2587e879d864\",\"type\":\"Stack\"}},\"fill_alpha\":{\"value\":0.1},\"fill_color\":{\"value\":\"#1f77b4\"},\"line_alpha\":{\"value\":0.1},\"line_color\":{\"value\":\"#1f77b4\"},\"top\":{\"expr\":{\"id\":\"015146f5-b3ff-4bb9-93c3-2b78da18ed56\",\"type\":\"Stack\"}},\"width\":{\"value\":1921831578.9473684},\"x\":{\"field\":\"dates\"}},\"id\":\"5ba0acb9-1d69-4586-bdf0-595590cad64b\",\"type\":\"VBar\"},{\"attributes\":{\"data_source\":{\"id\":\"4c1f08c5-71d5-4415-90b4-484c4d4ec798\",\"type\":\"ColumnDataSource\"},\"glyph\":{\"id\":\"2b9b87bf-7352-4dac-923d-171f323ba59c\",\"type\":\"VBar\"},\"hover_glyph\":null,\"muted_glyph\":null,\"nonselection_glyph\":{\"id\":\"c9735c91-e0d1-43d3-83a1-ac4016e0ac4b\",\"type\":\"VBar\"},\"selection_glyph\":null,\"view\":{\"id\":\"63a67c24-cef6-4789-b04e-cf6935287b6c\",\"type\":\"CDSView\"}},\"id\":\"0a3b5750-1208-4a39-8387-13e7e899e41c\",\"type\":\"GlyphRenderer\"},{\"attributes\":{\"source\":{\"id\":\"4c1f08c5-71d5-4415-90b4-484c4d4ec798\",\"type\":\"ColumnDataSource\"}},\"id\":\"63a67c24-cef6-4789-b04e-cf6935287b6c\",\"type\":\"CDSView\"},{\"attributes\":{\"bottom\":{\"expr\":{\"id\":\"603423cc-e3c2-4e89-bf8e-dbb29a3e7d1b\",\"type\":\"Stack\"}},\"fill_alpha\":{\"value\":0.1},\"fill_color\":{\"value\":\"#1f77b4\"},\"line_alpha\":{\"value\":0.1},\"line_color\":{\"value\":\"#1f77b4\"},\"top\":{\"expr\":{\"id\":\"99a67cf2-0369-4fdc-ba6f-da9370a959ee\",\"type\":\"Stack\"}},\"width\":{\"value\":1921831578.9473684},\"x\":{\"field\":\"dates\"}},\"id\":\"51c2f511-22fa-4f86-9f94-531da7c8e08e\",\"type\":\"VBar\"},{\"attributes\":{\"callback\":null,\"mode\":\"vline\",\"renderers\":[{\"id\":\"af34db21-7b72-4155-98b6-05d0fd235503\",\"type\":\"GlyphRenderer\"}],\"show_arrow\":false,\"tooltips\":\"\\n    <div style=\\\"line-height: 110%;\\\">\\n        <span style=\\\"font-size: 11px; font-style: italic;\\\">@strdate:</span><br>\\n        <span style=\\\"font-size: 10px; padding: 0 5px;\\\">CPI Inflation: </span>\\n        <span style=\\\"font-size: 11px; font-weight: bold;\\\">@total{1.1}%</span><br>\\n        <span style=\\\"font-size: 9px; font-style: italic;\\\">Contribution from:</span><br>        \\n        <span style=\\\"font-size: 10px; padding: 0 5px;\\\">Core goods: </span>\\n        <span>@{core goods}{1.1}</span><br> \\n        <span style=\\\"font-size: 10px; padding: 0 5px;\\\">Core services: </span>\\n        <span>@{core services}{1.1}</span><br> \\n        <span style=\\\"font-size: 10px; padding: 0 5px;\\\">Shelter: </span>\\n        <span>@shelter{1.1}</span><br> \\n        <span style=\\\"font-size: 10px; padding: 0 5px;\\\">Food & Shelter: </span>\\n        <span>@{food & energy}{1.1}</span>\\n    </div>\\n\"},\"id\":\"7bc78cc2-ca40-4f20-a66c-2f9c2c90d515\",\"type\":\"HoverTool\"},{\"attributes\":{\"data_source\":{\"id\":\"4c1f08c5-71d5-4415-90b4-484c4d4ec798\",\"type\":\"ColumnDataSource\"},\"glyph\":{\"id\":\"2288af18-da3b-4bf8-a917-44100f58e93b\",\"type\":\"VBar\"},\"hover_glyph\":null,\"muted_glyph\":null,\"nonselection_glyph\":{\"id\":\"51c2f511-22fa-4f86-9f94-531da7c8e08e\",\"type\":\"VBar\"},\"selection_glyph\":null,\"view\":{\"id\":\"275fb53d-26b1-479d-847d-981ae4d0dcc6\",\"type\":\"CDSView\"}},\"id\":\"113a930d-b1dc-44f7-908e-358254908c88\",\"type\":\"GlyphRenderer\"},{\"attributes\":{\"source\":{\"id\":\"4c1f08c5-71d5-4415-90b4-484c4d4ec798\",\"type\":\"ColumnDataSource\"}},\"id\":\"275fb53d-26b1-479d-847d-981ae4d0dcc6\",\"type\":\"CDSView\"},{\"attributes\":{\"source\":{\"id\":\"a6d06741-2e83-4383-b8a9-e95cd7953033\",\"type\":\"ColumnDataSource\"}},\"id\":\"ab40b3cf-ce52-4a89-9e42-1758bc71fd6e\",\"type\":\"CDSView\"},{\"attributes\":{\"line_alpha\":0.0,\"line_color\":\"white\",\"x\":{\"field\":\"date\"},\"y\":{\"field\":\"total\"}},\"id\":\"c7b255a1-6c59-450b-bccb-481b9ee4fe52\",\"type\":\"Line\"},{\"attributes\":{\"data_source\":{\"id\":\"4c1f08c5-71d5-4415-90b4-484c4d4ec798\",\"type\":\"ColumnDataSource\"},\"glyph\":{\"id\":\"02fb2416-4543-4e0a-a0ee-fb87ef614b9e\",\"type\":\"VBar\"},\"hover_glyph\":null,\"muted_glyph\":null,\"nonselection_glyph\":{\"id\":\"5ba0acb9-1d69-4586-bdf0-595590cad64b\",\"type\":\"VBar\"},\"selection_glyph\":null,\"view\":{\"id\":\"aae8cb5b-b64d-4769-8a3b-07c6a8579c93\",\"type\":\"CDSView\"}},\"id\":\"116921b6-3191-4df8-9c5e-6b2828661d0a\",\"type\":\"GlyphRenderer\"},{\"attributes\":{},\"id\":\"f93e5f23-96fa-47a3-852b-f3f69c1716c4\",\"type\":\"DatetimeTickFormatter\"},{\"attributes\":{\"source\":{\"id\":\"4c1f08c5-71d5-4415-90b4-484c4d4ec798\",\"type\":\"ColumnDataSource\"}},\"id\":\"aae8cb5b-b64d-4769-8a3b-07c6a8579c93\",\"type\":\"CDSView\"},{\"attributes\":{\"data_source\":{\"id\":\"a6d06741-2e83-4383-b8a9-e95cd7953033\",\"type\":\"ColumnDataSource\"},\"glyph\":{\"id\":\"c7b255a1-6c59-450b-bccb-481b9ee4fe52\",\"type\":\"Line\"},\"hover_glyph\":null,\"muted_glyph\":null,\"nonselection_glyph\":{\"id\":\"2f781a39-f9b2-4148-83e8-19b85457d344\",\"type\":\"Line\"},\"selection_glyph\":null,\"view\":{\"id\":\"ab40b3cf-ce52-4a89-9e42-1758bc71fd6e\",\"type\":\"CDSView\"}},\"id\":\"af34db21-7b72-4155-98b6-05d0fd235503\",\"type\":\"GlyphRenderer\"},{\"attributes\":{\"line_alpha\":0.1,\"line_color\":\"#1f77b4\",\"x\":{\"field\":\"date\"},\"y\":{\"field\":\"total\"}},\"id\":\"2f781a39-f9b2-4148-83e8-19b85457d344\",\"type\":\"Line\"},{\"attributes\":{},\"id\":\"e2681c42-dc1e-4a4f-959d-ae84aa5b63c0\",\"type\":\"BasicTickFormatter\"},{\"attributes\":{\"source\":{\"id\":\"5101f19d-1274-426b-b2a2-44fa5826ad32\",\"type\":\"ColumnDataSource\"}},\"id\":\"7dff49b9-873f-4c51-9e83-943cb85df8a4\",\"type\":\"CDSView\"}],\"root_ids\":[\"480fcab4-c5e4-458b-aa8d-39f94168d489\"]},\"title\":\"Bokeh Application\",\"version\":\"0.12.14\"}};\n",
       "  var render_items = [{\"docid\":\"6c5077db-8cb8-4a5f-8076-848ee01fdad3\",\"elementid\":\"8c7058f5-ff41-4800-b35d-b202d867f2eb\",\"modelid\":\"480fcab4-c5e4-458b-aa8d-39f94168d489\"}];\n",
       "  root.Bokeh.embed.embed_items_notebook(docs_json, render_items);\n",
       "\n",
       "  }\n",
       "  if (root.Bokeh !== undefined) {\n",
       "    embed_document(root);\n",
       "  } else {\n",
       "    var attempts = 0;\n",
       "    var timer = setInterval(function(root) {\n",
       "      if (root.Bokeh !== undefined) {\n",
       "        embed_document(root);\n",
       "        clearInterval(timer);\n",
       "      }\n",
       "      attempts++;\n",
       "      if (attempts > 100) {\n",
       "        console.log(\"Bokeh: ERROR: Unable to run BokehJS code because BokehJS library is missing\")\n",
       "        clearInterval(timer);\n",
       "      }\n",
       "    }, 10, root)\n",
       "  }\n",
       "})(window);"
      ],
      "application/vnd.bokehjs_exec.v0+json": ""
     },
     "metadata": {
      "application/vnd.bokehjs_exec.v0+json": {
       "id": "480fcab4-c5e4-458b-aa8d-39f94168d489"
      }
     },
     "output_type": "display_data"
    }
   ],
   "source": [
    "# HTML text that shows when hovering\n",
    "tooltips = \"\"\"\n",
    "    <div style=\"line-height: 110%;\">\n",
    "        <span style=\"font-size: 11px; font-style: italic;\">@strdate:</span><br>\n",
    "        <span style=\"font-size: 10px; padding: 0 5px;\">CPI Inflation: </span>\n",
    "        <span style=\"font-size: 11px; font-weight: bold;\">@total{1.1}%</span><br>\n",
    "        <span style=\"font-size: 9px; font-style: italic;\">Contribution from:</span><br>        \n",
    "        <span style=\"font-size: 10px; padding: 0 5px;\">Core goods: </span>\n",
    "        <span>@{core goods}{1.1}</span><br> \n",
    "        <span style=\"font-size: 10px; padding: 0 5px;\">Core services: </span>\n",
    "        <span>@{core services}{1.1}</span><br> \n",
    "        <span style=\"font-size: 10px; padding: 0 5px;\">Shelter: </span>\n",
    "        <span>@shelter{1.1}</span><br> \n",
    "        <span style=\"font-size: 10px; padding: 0 5px;\">Food & Shelter: </span>\n",
    "        <span>@{food & energy}{1.1}</span>\n",
    "    </div>\n",
    "\"\"\"\n",
    "# Bar width determined by how many bars\n",
    "width = ((d2.index[-1] - d2.index[0]).total_seconds() \n",
    "         * 750.0 / len(d2.index))\n",
    "\n",
    "# horizontal line at zero\n",
    "zero_line = Span(location=0, dimension='width', \n",
    "                 line_color='gray', line_width=1)\n",
    "\n",
    "p = figure(plot_width=700, plot_height=300, \n",
    "           x_axis_type='datetime', \n",
    "           tools=['pan, wheel_zoom, box_zoom, reset'], \n",
    "           logo=None,\n",
    "           toolbar_location=None,  \n",
    "           y_range=Range1d(-2.4, 3.8))\n",
    "p.vbar_stack(col_names, x='dates', width=width, \n",
    "             color=['#FFEA00', '#80DEEA', '#00c853', '#304FFE'], \n",
    "             legend=['Core services', 'Shelter', 'Core goods', 'Food & energy'], \n",
    "             line_alpha=0, source=ColumnDataSource(infl))\n",
    "p.vbar_stack(col_names, x='dates', width=width, \n",
    "             color=['#FFEA00', '#80DEEA', '#00c853', '#304FFE'], \n",
    "             line_alpha=0, source=ColumnDataSource(defl))\n",
    "\n",
    "p.add_layout(zero_line)\n",
    "\n",
    "r1 = p.line('date', 'total', color='white', alpha=0.0, source=ColumnDataSource(d2))\n",
    "\n",
    "p.sizing_mode = 'scale_width'\n",
    "p.xgrid.grid_line_color = None\n",
    "p.outline_line_color = 'white'\n",
    "p.axis.axis_line_color = 'white'\n",
    "p.toolbar.active_drag = None\n",
    "p.legend.orientation = \"horizontal\"\n",
    "p.legend.location = \"top_left\"\n",
    "p.legend.border_line_alpha = 0\n",
    "p.legend.background_fill_alpha = 0\n",
    "p.legend.margin = 5\n",
    "p.legend.padding = 0\n",
    "p.legend.spacing = 10\n",
    "p.legend.glyph_height = 14\n",
    "p.legend.glyph_width = 14\n",
    "p.legend.label_text_font_size = '9pt'\n",
    "\n",
    "p.add_tools(HoverTool(tooltips=tooltips, show_arrow=False, mode='vline',  renderers=[r1]))\n",
    "\n",
    "script, div = components(p)\n",
    "with open('C:/Working/bdecon.github.io/plots/cpi_comp.html', 'w') as text_file:\n",
    "    text_file.write(f'{script} {div}')\n",
    "\n",
    "show(p)"
   ]
  }
 ],
 "metadata": {
  "kernelspec": {
   "display_name": "Python 3",
   "language": "python",
   "name": "python3"
  },
  "language_info": {
   "codemirror_mode": {
    "name": "ipython",
    "version": 3
   },
   "file_extension": ".py",
   "mimetype": "text/x-python",
   "name": "python",
   "nbconvert_exporter": "python",
   "pygments_lexer": "ipython3",
   "version": "3.6.4"
  }
 },
 "nbformat": 4,
 "nbformat_minor": 2
}
