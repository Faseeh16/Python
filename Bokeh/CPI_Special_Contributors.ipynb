{
 "cells": [
  {
   "cell_type": "markdown",
   "metadata": {
    "ExecuteTime": {
     "end_time": "2018-03-21T16:37:16.108780Z",
     "start_time": "2018-03-21T16:37:16.077537Z"
    }
   },
   "source": [
    "# CPI Special Calculations over time with Python\n",
    "\n",
    "Brian Dew, @bd_econ, Center for Economic and Policy Research\n",
    "\n",
    "March 24, 2018\n",
    "\n",
    "----- \n",
    "Every two years the relative importance of CPI items is updated. I'd like to know how a few special aggregates contribute to inflation (unfortunately not seasonally adjusted), and to do this I need to compensate for the updates. BLS explains how to do this here: https://www.bls.gov/cpi/tables/relative-importance/home.htm\n",
    "\n"
   ]
  },
  {
   "cell_type": "code",
   "execution_count": 1,
   "metadata": {
    "ExecuteTime": {
     "end_time": "2018-03-27T12:28:12.132758Z",
     "start_time": "2018-03-27T12:28:09.367516Z"
    },
    "code_folding": [
     0
    ]
   },
   "outputs": [],
   "source": [
    "# Import preliminaries\n",
    "import pandas as pd\n",
    "import numpy as np\n",
    "import requests\n",
    "import json\n",
    "import config"
   ]
  },
  {
   "cell_type": "markdown",
   "metadata": {},
   "source": [
    "#### Find series ids"
   ]
  },
  {
   "cell_type": "code",
   "execution_count": 2,
   "metadata": {
    "ExecuteTime": {
     "end_time": "2018-03-27T12:28:13.398219Z",
     "start_time": "2018-03-27T12:28:12.132758Z"
    },
    "code_folding": [
     0
    ]
   },
   "outputs": [],
   "source": [
    "# Use BLS Flat Files to find series IDs and series info\n",
    "s_url = 'https://download.bls.gov/pub/time.series/cu/cu.series'\n",
    "s = pd.read_table(s_url, sep='\\t')\n",
    "s2 = s[(s['seasonal'] == 'U') & \n",
    "       (s['base_code'] == 'S') &\n",
    "       (s['area_code'] == '0000') &\n",
    "       (s['periodicity_code'] == 'R')]"
   ]
  },
  {
   "cell_type": "markdown",
   "metadata": {},
   "source": [
    "#### Manually look up the relative importance"
   ]
  },
  {
   "cell_type": "code",
   "execution_count": 3,
   "metadata": {
    "ExecuteTime": {
     "end_time": "2018-03-27T12:28:13.413830Z",
     "start_time": "2018-03-27T12:28:13.398219Z"
    },
    "code_folding": [
     0
    ]
   },
   "outputs": [],
   "source": [
    "# Relative weights for series of interest, from here: \n",
    "# https://www.bls.gov/cpi/tables/relative-importance/home.htm\n",
    "rel_wgt = {'CUUR0000SAF1': [(('2013-12-01', '2015-12-01'), 13.891), \n",
    "                           (('2015-12-01', '2017-12-01'), 14.015), \n",
    "                           (('2017-12-01', '2019-12-01'), 13.384)],\n",
    "           'CUUR0000SA0': [(('2013-12-01', '2015-12-01'), 100.0), \n",
    "                           (('2015-12-01', '2017-12-01'), 100.0), \n",
    "                           (('2017-12-01', '2019-12-01'), 100.0)],\n",
    "           'CUUR0000SA0E': [(('2013-12-01', '2015-12-01'), 9.046), \n",
    "                            (('2015-12-01', '2017-12-01'), 6.816), \n",
    "                            (('2017-12-01', '2019-12-01'), 7.513)],\n",
    "           'CUUR0000SAH1': [(('2013-12-01', '2015-12-01'), 32.029), \n",
    "                            (('2015-12-01', '2017-12-01'), 33.15), \n",
    "                            (('2017-12-01', '2019-12-01'), 32.843)],\n",
    "           'CUUR0000SACL1E': [(('2013-12-01', '2015-12-01'), 19.71), \n",
    "                              (('2015-12-01', '2017-12-01'), 19.613), \n",
    "                              (('2017-12-01', '2019-12-01'), 19.849)],\n",
    "           'CUUR0000SASLE': [(('2013-12-01', '2015-12-01'), 57.353), \n",
    "                             (('2015-12-01', '2017-12-01'), 59.556), \n",
    "                             (('2017-12-01', '2019-12-01'), 59.254)]}"
   ]
  },
  {
   "cell_type": "markdown",
   "metadata": {},
   "source": [
    "#### Location of BLS API and parameters"
   ]
  },
  {
   "cell_type": "code",
   "execution_count": 4,
   "metadata": {
    "ExecuteTime": {
     "end_time": "2018-03-27T12:28:13.445075Z",
     "start_time": "2018-03-27T12:28:13.413830Z"
    },
    "code_folding": [
     0
    ]
   },
   "outputs": [],
   "source": [
    "# API access to Bureau of Labor Statistics data\n",
    "url = 'https://api.bls.gov/publicAPI/v2/timeseries/data/'\n",
    "# API key in config.py which contains: bls_key = 'key'\n",
    "key = '?registrationkey={}'.format(config.bls_key)\n",
    "\n",
    "headers = {'Content-type': 'application/json'}    # Request json fmt\n",
    "param = {\"seriesid\": list(rel_wgt.keys()),           \n",
    "         \"startyear\": \"2013\", \"endyear\": \"2018\"}"
   ]
  },
  {
   "cell_type": "markdown",
   "metadata": {},
   "source": [
    "#### Request data from BLS API "
   ]
  },
  {
   "cell_type": "code",
   "execution_count": 5,
   "metadata": {
    "ExecuteTime": {
     "end_time": "2018-03-27T12:28:14.210607Z",
     "start_time": "2018-03-27T12:28:13.445075Z"
    },
    "code_folding": [
     0
    ]
   },
   "outputs": [
    {
     "name": "stdout",
     "output_type": "stream",
     "text": [
      "Status: REQUEST_SUCCEEDED\n",
      "Latest: January 2018\n"
     ]
    }
   ],
   "source": [
    "# Request all of the series in s\n",
    "p = requests.post(f'{url}{key}', data=json.dumps(param), headers=headers).json()\n",
    "print(f\"Status: {p['status']}\") # Print request status\n",
    "p = p['Results']['series']  # Keep data portion of post results\n",
    "\n",
    "# Use first series to get the datetime values\n",
    "idx = pd.to_datetime([f\"{i['period']} {i['year']}\" for i in p[0]['data']])\n",
    "print(f'Latest: {idx[0]:%B %Y}') # Print latest value"
   ]
  },
  {
   "cell_type": "markdown",
   "metadata": {},
   "source": [
    "#### Store date and value for each series"
   ]
  },
  {
   "cell_type": "code",
   "execution_count": 6,
   "metadata": {
    "ExecuteTime": {
     "end_time": "2018-03-27T12:28:14.241848Z",
     "start_time": "2018-03-27T12:28:14.210607Z"
    },
    "code_folding": [
     0
    ]
   },
   "outputs": [],
   "source": [
    "# Convert API data to datetime date and float value\n",
    "data = {i['seriesID']: \n",
    "        [(pd.to_datetime(f'{r[\"year\"]}-{r[\"period\"][1:]}-01'), float(r['value'])) \n",
    "         for r in i['data']] for i in p}"
   ]
  },
  {
   "cell_type": "markdown",
   "metadata": {},
   "source": [
    "#### Store all the above in dictionary"
   ]
  },
  {
   "cell_type": "code",
   "execution_count": 7,
   "metadata": {
    "ExecuteTime": {
     "end_time": "2018-03-27T12:28:14.257475Z",
     "start_time": "2018-03-27T12:28:14.241848Z"
    },
    "code_folding": [
     0
    ]
   },
   "outputs": [],
   "source": [
    "# Dictionary combining all the info for each series\n",
    "d = {i: {'name': s2[s2['series_id'].str.strip() == i]['series_title'].values[0],\n",
    "         'values': data[i],\n",
    "         'rel_wgt': rel_wgt[i]} for i in list(rel_wgt.keys())}"
   ]
  },
  {
   "cell_type": "markdown",
   "metadata": {},
   "source": [
    "#### Adjust for changes to relative importance"
   ]
  },
  {
   "cell_type": "code",
   "execution_count": 8,
   "metadata": {
    "ExecuteTime": {
     "end_time": "2018-03-27T12:28:14.569923Z",
     "start_time": "2018-03-27T12:28:14.257475Z"
    },
    "code_folding": [
     0
    ]
   },
   "outputs": [],
   "source": [
    "# Adjust for changes to relative importance\n",
    "df1, df2, df3 = pd.DataFrame(), pd.DataFrame(), pd.DataFrame()\n",
    "for i, v in d.items():\n",
    "    start, end = v['rel_wgt'][0][0][0], v['rel_wgt'][0][0][1]\n",
    "    rwc, rwn = v['rel_wgt'][0][1], v['rel_wgt'][1][1]\n",
    "    df1.at[start: end, i] = (pd.DataFrame(v['values'])\n",
    "        .iloc[::-1].set_index(0).loc[start: end][1])\n",
    "    df1[i] = (df1[i].diff().cumsum() / df1.loc[start, i] + 1)\n",
    "    df1.at[start, i] = 1.0\n",
    "    df1[i] = (df1[i] * rwc)\n",
    "    link = (df1.loc[end, i] / rwn)\n",
    "    # Next set of dates\n",
    "    start, end = v['rel_wgt'][1][0][0], v['rel_wgt'][1][0][1]\n",
    "    rwc, rwn = v['rel_wgt'][1][1], v['rel_wgt'][2][1]\n",
    "    df2[i] = (pd.DataFrame(v['values'])\n",
    "        .iloc[::-1].set_index(0).loc[start: end][1])\n",
    "    df2[i] = df2[i].diff().cumsum() / df2.loc[start, i] + 1\n",
    "    df2.at[start, i] = 1.0\n",
    "    #df1.at[start: end, i] = (df1.loc[start: end, i] * rwc)\n",
    "    df2[i] = (df2[i] * rwc) * link\n",
    "    link = (df2.loc[end, i] / rwn)\n",
    "    # Next set of dates\n",
    "    start, end = v['rel_wgt'][2][0][0], v['rel_wgt'][2][0][1]\n",
    "    rwc = v['rel_wgt'][2][1]\n",
    "    df3[i] = (pd.DataFrame(v['values'])\n",
    "        .iloc[::-1].set_index(0).loc[start: end][1])\n",
    "    df3[i] = df3[i].diff().cumsum() / df3.loc[start, i] + 1\n",
    "    df3.at[start, i] = 1.0\n",
    "    df3[i] = (df3[i] * rwc) * link"
   ]
  },
  {
   "cell_type": "markdown",
   "metadata": {},
   "source": [
    "#### Calculate contribution to total"
   ]
  },
  {
   "cell_type": "code",
   "execution_count": 9,
   "metadata": {
    "ExecuteTime": {
     "end_time": "2018-03-27T12:28:14.648034Z",
     "start_time": "2018-03-27T12:28:14.569923Z"
    },
    "code_folding": []
   },
   "outputs": [],
   "source": [
    "# Calculate exactly what I want to show\n",
    "final = pd.concat([df1, df2, df3])  # Combine the various relative importance dfs\n",
    "final = final[~final.index.duplicated(keep='first')].diff(12) # Drop duplicate pivot year data\n",
    "# Core services is services less food, energy, and shelter\n",
    "final['core_services'] = final['CUUR0000SASLE'] - final['CUUR0000SAH1']\n",
    "# Combine food and energy\n",
    "final['food_energy'] = final['CUUR0000SAF1'] + final['CUUR0000SA0E']\n",
    "final = final.dropna().round(2)\n",
    "d2 = final[['core_services', 'CUUR0000SACL1E', 'CUUR0000SAH1', 'food_energy']].loc['2015-01-01':]\n",
    "# Rename columns\n",
    "col_names = ['core services', 'core goods', 'shelter', 'food & energy']\n",
    "d2.columns = col_names\n",
    "d2['total'] = final['CUUR0000SA0'].loc['2015-01-01':]\n",
    "d2['strdate'] = d2.index.strftime('%B %Y')\n",
    "d2['date'] = d2.index"
   ]
  },
  {
   "cell_type": "markdown",
   "metadata": {},
   "source": [
    "#### Bokeh requires separate positive and negative values\n",
    "\n",
    "This seems to be a quirk with the stacked bar chart, explained here: https://bokeh.pydata.org/en/latest/docs/user_guide/categorical.html#stacked. Still worth trying to get it to work without the split."
   ]
  },
  {
   "cell_type": "code",
   "execution_count": 10,
   "metadata": {
    "ExecuteTime": {
     "end_time": "2018-03-27T12:28:14.663660Z",
     "start_time": "2018-03-27T12:28:14.648034Z"
    },
    "code_folding": []
   },
   "outputs": [],
   "source": [
    "# Split positive and negative values\n",
    "infl = {i :[n if n > -0.0001 else 0 for n in list(d2[i])] for i in col_names}\n",
    "infl['dates'] = list(d2.index)\n",
    "infl['strdate'] = d2.index.strftime('%b %Y')\n",
    "defl = {i :[n  if n < -0.0001 else 0 for n in list(d2[i])] for i in col_names}\n",
    "defl['dates'] = list(d2.index)\n",
    "defl['strdate'] = d2.index.strftime('%b %Y')"
   ]
  },
  {
   "cell_type": "markdown",
   "metadata": {},
   "source": [
    "#### Bokeh settings"
   ]
  },
  {
   "cell_type": "code",
   "execution_count": 11,
   "metadata": {
    "ExecuteTime": {
     "end_time": "2018-03-27T12:28:15.741632Z",
     "start_time": "2018-03-27T12:28:14.663660Z"
    },
    "code_folding": []
   },
   "outputs": [
    {
     "data": {
      "text/html": [
       "\n",
       "    <div class=\"bk-root\">\n",
       "        <a href=\"https://bokeh.pydata.org\" target=\"_blank\" class=\"bk-logo bk-logo-small bk-logo-notebook\"></a>\n",
       "        <span id=\"f479d542-4d60-461a-a2c0-44e757da6fd3\">Loading BokehJS ...</span>\n",
       "    </div>"
      ]
     },
     "metadata": {},
     "output_type": "display_data"
    },
    {
     "data": {
      "application/javascript": [
       "\n",
       "(function(root) {\n",
       "  function now() {\n",
       "    return new Date();\n",
       "  }\n",
       "\n",
       "  var force = true;\n",
       "\n",
       "  if (typeof (root._bokeh_onload_callbacks) === \"undefined\" || force === true) {\n",
       "    root._bokeh_onload_callbacks = [];\n",
       "    root._bokeh_is_loading = undefined;\n",
       "  }\n",
       "\n",
       "  var JS_MIME_TYPE = 'application/javascript';\n",
       "  var HTML_MIME_TYPE = 'text/html';\n",
       "  var EXEC_MIME_TYPE = 'application/vnd.bokehjs_exec.v0+json';\n",
       "  var CLASS_NAME = 'output_bokeh rendered_html';\n",
       "\n",
       "  /**\n",
       "   * Render data to the DOM node\n",
       "   */\n",
       "  function render(props, node) {\n",
       "    var script = document.createElement(\"script\");\n",
       "    node.appendChild(script);\n",
       "  }\n",
       "\n",
       "  /**\n",
       "   * Handle when an output is cleared or removed\n",
       "   */\n",
       "  function handleClearOutput(event, handle) {\n",
       "    var cell = handle.cell;\n",
       "\n",
       "    var id = cell.output_area._bokeh_element_id;\n",
       "    var server_id = cell.output_area._bokeh_server_id;\n",
       "    // Clean up Bokeh references\n",
       "    if (id !== undefined) {\n",
       "      Bokeh.index[id].model.document.clear();\n",
       "      delete Bokeh.index[id];\n",
       "    }\n",
       "\n",
       "    if (server_id !== undefined) {\n",
       "      // Clean up Bokeh references\n",
       "      var cmd = \"from bokeh.io.state import curstate; print(curstate().uuid_to_server['\" + server_id + \"'].get_sessions()[0].document.roots[0]._id)\";\n",
       "      cell.notebook.kernel.execute(cmd, {\n",
       "        iopub: {\n",
       "          output: function(msg) {\n",
       "            var element_id = msg.content.text.trim();\n",
       "            Bokeh.index[element_id].model.document.clear();\n",
       "            delete Bokeh.index[element_id];\n",
       "          }\n",
       "        }\n",
       "      });\n",
       "      // Destroy server and session\n",
       "      var cmd = \"import bokeh.io.notebook as ion; ion.destroy_server('\" + server_id + \"')\";\n",
       "      cell.notebook.kernel.execute(cmd);\n",
       "    }\n",
       "  }\n",
       "\n",
       "  /**\n",
       "   * Handle when a new output is added\n",
       "   */\n",
       "  function handleAddOutput(event, handle) {\n",
       "    var output_area = handle.output_area;\n",
       "    var output = handle.output;\n",
       "\n",
       "    // limit handleAddOutput to display_data with EXEC_MIME_TYPE content only\n",
       "    if ((output.output_type != \"display_data\") || (!output.data.hasOwnProperty(EXEC_MIME_TYPE))) {\n",
       "      return\n",
       "    }\n",
       "\n",
       "    var toinsert = output_area.element.find(\".\" + CLASS_NAME.split(' ')[0]);\n",
       "\n",
       "    if (output.metadata[EXEC_MIME_TYPE][\"id\"] !== undefined) {\n",
       "      toinsert[0].firstChild.textContent = output.data[JS_MIME_TYPE];\n",
       "      // store reference to embed id on output_area\n",
       "      output_area._bokeh_element_id = output.metadata[EXEC_MIME_TYPE][\"id\"];\n",
       "    }\n",
       "    if (output.metadata[EXEC_MIME_TYPE][\"server_id\"] !== undefined) {\n",
       "      var bk_div = document.createElement(\"div\");\n",
       "      bk_div.innerHTML = output.data[HTML_MIME_TYPE];\n",
       "      var script_attrs = bk_div.children[0].attributes;\n",
       "      for (var i = 0; i < script_attrs.length; i++) {\n",
       "        toinsert[0].firstChild.setAttribute(script_attrs[i].name, script_attrs[i].value);\n",
       "      }\n",
       "      // store reference to server id on output_area\n",
       "      output_area._bokeh_server_id = output.metadata[EXEC_MIME_TYPE][\"server_id\"];\n",
       "    }\n",
       "  }\n",
       "\n",
       "  function register_renderer(events, OutputArea) {\n",
       "\n",
       "    function append_mime(data, metadata, element) {\n",
       "      // create a DOM node to render to\n",
       "      var toinsert = this.create_output_subarea(\n",
       "        metadata,\n",
       "        CLASS_NAME,\n",
       "        EXEC_MIME_TYPE\n",
       "      );\n",
       "      this.keyboard_manager.register_events(toinsert);\n",
       "      // Render to node\n",
       "      var props = {data: data, metadata: metadata[EXEC_MIME_TYPE]};\n",
       "      render(props, toinsert[0]);\n",
       "      element.append(toinsert);\n",
       "      return toinsert\n",
       "    }\n",
       "\n",
       "    /* Handle when an output is cleared or removed */\n",
       "    events.on('clear_output.CodeCell', handleClearOutput);\n",
       "    events.on('delete.Cell', handleClearOutput);\n",
       "\n",
       "    /* Handle when a new output is added */\n",
       "    events.on('output_added.OutputArea', handleAddOutput);\n",
       "\n",
       "    /**\n",
       "     * Register the mime type and append_mime function with output_area\n",
       "     */\n",
       "    OutputArea.prototype.register_mime_type(EXEC_MIME_TYPE, append_mime, {\n",
       "      /* Is output safe? */\n",
       "      safe: true,\n",
       "      /* Index of renderer in `output_area.display_order` */\n",
       "      index: 0\n",
       "    });\n",
       "  }\n",
       "\n",
       "  // register the mime type if in Jupyter Notebook environment and previously unregistered\n",
       "  if (root.Jupyter !== undefined) {\n",
       "    var events = require('base/js/events');\n",
       "    var OutputArea = require('notebook/js/outputarea').OutputArea;\n",
       "\n",
       "    if (OutputArea.prototype.mime_types().indexOf(EXEC_MIME_TYPE) == -1) {\n",
       "      register_renderer(events, OutputArea);\n",
       "    }\n",
       "  }\n",
       "\n",
       "  \n",
       "  if (typeof (root._bokeh_timeout) === \"undefined\" || force === true) {\n",
       "    root._bokeh_timeout = Date.now() + 5000;\n",
       "    root._bokeh_failed_load = false;\n",
       "  }\n",
       "\n",
       "  var NB_LOAD_WARNING = {'data': {'text/html':\n",
       "     \"<div style='background-color: #fdd'>\\n\"+\n",
       "     \"<p>\\n\"+\n",
       "     \"BokehJS does not appear to have successfully loaded. If loading BokehJS from CDN, this \\n\"+\n",
       "     \"may be due to a slow or bad network connection. Possible fixes:\\n\"+\n",
       "     \"</p>\\n\"+\n",
       "     \"<ul>\\n\"+\n",
       "     \"<li>re-rerun `output_notebook()` to attempt to load from CDN again, or</li>\\n\"+\n",
       "     \"<li>use INLINE resources instead, as so:</li>\\n\"+\n",
       "     \"</ul>\\n\"+\n",
       "     \"<code>\\n\"+\n",
       "     \"from bokeh.resources import INLINE\\n\"+\n",
       "     \"output_notebook(resources=INLINE)\\n\"+\n",
       "     \"</code>\\n\"+\n",
       "     \"</div>\"}};\n",
       "\n",
       "  function display_loaded() {\n",
       "    var el = document.getElementById(\"f479d542-4d60-461a-a2c0-44e757da6fd3\");\n",
       "    if (el != null) {\n",
       "      el.textContent = \"BokehJS is loading...\";\n",
       "    }\n",
       "    if (root.Bokeh !== undefined) {\n",
       "      if (el != null) {\n",
       "        el.textContent = \"BokehJS \" + root.Bokeh.version + \" successfully loaded.\";\n",
       "      }\n",
       "    } else if (Date.now() < root._bokeh_timeout) {\n",
       "      setTimeout(display_loaded, 100)\n",
       "    }\n",
       "  }\n",
       "\n",
       "\n",
       "  function run_callbacks() {\n",
       "    try {\n",
       "      root._bokeh_onload_callbacks.forEach(function(callback) { callback() });\n",
       "    }\n",
       "    finally {\n",
       "      delete root._bokeh_onload_callbacks\n",
       "    }\n",
       "    console.info(\"Bokeh: all callbacks have finished\");\n",
       "  }\n",
       "\n",
       "  function load_libs(js_urls, callback) {\n",
       "    root._bokeh_onload_callbacks.push(callback);\n",
       "    if (root._bokeh_is_loading > 0) {\n",
       "      console.log(\"Bokeh: BokehJS is being loaded, scheduling callback at\", now());\n",
       "      return null;\n",
       "    }\n",
       "    if (js_urls == null || js_urls.length === 0) {\n",
       "      run_callbacks();\n",
       "      return null;\n",
       "    }\n",
       "    console.log(\"Bokeh: BokehJS not loaded, scheduling load and callback at\", now());\n",
       "    root._bokeh_is_loading = js_urls.length;\n",
       "    for (var i = 0; i < js_urls.length; i++) {\n",
       "      var url = js_urls[i];\n",
       "      var s = document.createElement('script');\n",
       "      s.src = url;\n",
       "      s.async = false;\n",
       "      s.onreadystatechange = s.onload = function() {\n",
       "        root._bokeh_is_loading--;\n",
       "        if (root._bokeh_is_loading === 0) {\n",
       "          console.log(\"Bokeh: all BokehJS libraries loaded\");\n",
       "          run_callbacks()\n",
       "        }\n",
       "      };\n",
       "      s.onerror = function() {\n",
       "        console.warn(\"failed to load library \" + url);\n",
       "      };\n",
       "      console.log(\"Bokeh: injecting script tag for BokehJS library: \", url);\n",
       "      document.getElementsByTagName(\"head\")[0].appendChild(s);\n",
       "    }\n",
       "  };var element = document.getElementById(\"f479d542-4d60-461a-a2c0-44e757da6fd3\");\n",
       "  if (element == null) {\n",
       "    console.log(\"Bokeh: ERROR: autoload.js configured with elementid 'f479d542-4d60-461a-a2c0-44e757da6fd3' but no matching script tag was found. \")\n",
       "    return false;\n",
       "  }\n",
       "\n",
       "  var js_urls = [\"https://cdn.pydata.org/bokeh/release/bokeh-0.12.14.min.js\", \"https://cdn.pydata.org/bokeh/release/bokeh-widgets-0.12.14.min.js\", \"https://cdn.pydata.org/bokeh/release/bokeh-tables-0.12.14.min.js\", \"https://cdn.pydata.org/bokeh/release/bokeh-gl-0.12.14.min.js\"];\n",
       "\n",
       "  var inline_js = [\n",
       "    function(Bokeh) {\n",
       "      Bokeh.set_log_level(\"info\");\n",
       "    },\n",
       "    \n",
       "    function(Bokeh) {\n",
       "      \n",
       "    },\n",
       "    function(Bokeh) {\n",
       "      console.log(\"Bokeh: injecting CSS: https://cdn.pydata.org/bokeh/release/bokeh-0.12.14.min.css\");\n",
       "      Bokeh.embed.inject_css(\"https://cdn.pydata.org/bokeh/release/bokeh-0.12.14.min.css\");\n",
       "      console.log(\"Bokeh: injecting CSS: https://cdn.pydata.org/bokeh/release/bokeh-widgets-0.12.14.min.css\");\n",
       "      Bokeh.embed.inject_css(\"https://cdn.pydata.org/bokeh/release/bokeh-widgets-0.12.14.min.css\");\n",
       "      console.log(\"Bokeh: injecting CSS: https://cdn.pydata.org/bokeh/release/bokeh-tables-0.12.14.min.css\");\n",
       "      Bokeh.embed.inject_css(\"https://cdn.pydata.org/bokeh/release/bokeh-tables-0.12.14.min.css\");\n",
       "    }\n",
       "  ];\n",
       "\n",
       "  function run_inline_js() {\n",
       "    \n",
       "    if ((root.Bokeh !== undefined) || (force === true)) {\n",
       "      for (var i = 0; i < inline_js.length; i++) {\n",
       "        inline_js[i].call(root, root.Bokeh);\n",
       "      }if (force === true) {\n",
       "        display_loaded();\n",
       "      }} else if (Date.now() < root._bokeh_timeout) {\n",
       "      setTimeout(run_inline_js, 100);\n",
       "    } else if (!root._bokeh_failed_load) {\n",
       "      console.log(\"Bokeh: BokehJS failed to load within specified timeout.\");\n",
       "      root._bokeh_failed_load = true;\n",
       "    } else if (force !== true) {\n",
       "      var cell = $(document.getElementById(\"f479d542-4d60-461a-a2c0-44e757da6fd3\")).parents('.cell').data().cell;\n",
       "      cell.output_area.append_execute_result(NB_LOAD_WARNING)\n",
       "    }\n",
       "\n",
       "  }\n",
       "\n",
       "  if (root._bokeh_is_loading === 0) {\n",
       "    console.log(\"Bokeh: BokehJS loaded, going straight to plotting\");\n",
       "    run_inline_js();\n",
       "  } else {\n",
       "    load_libs(js_urls, function() {\n",
       "      console.log(\"Bokeh: BokehJS plotting callback run at\", now());\n",
       "      run_inline_js();\n",
       "    });\n",
       "  }\n",
       "}(window));"
      ],
      "application/vnd.bokehjs_load.v0+json": "\n(function(root) {\n  function now() {\n    return new Date();\n  }\n\n  var force = true;\n\n  if (typeof (root._bokeh_onload_callbacks) === \"undefined\" || force === true) {\n    root._bokeh_onload_callbacks = [];\n    root._bokeh_is_loading = undefined;\n  }\n\n  \n\n  \n  if (typeof (root._bokeh_timeout) === \"undefined\" || force === true) {\n    root._bokeh_timeout = Date.now() + 5000;\n    root._bokeh_failed_load = false;\n  }\n\n  var NB_LOAD_WARNING = {'data': {'text/html':\n     \"<div style='background-color: #fdd'>\\n\"+\n     \"<p>\\n\"+\n     \"BokehJS does not appear to have successfully loaded. If loading BokehJS from CDN, this \\n\"+\n     \"may be due to a slow or bad network connection. Possible fixes:\\n\"+\n     \"</p>\\n\"+\n     \"<ul>\\n\"+\n     \"<li>re-rerun `output_notebook()` to attempt to load from CDN again, or</li>\\n\"+\n     \"<li>use INLINE resources instead, as so:</li>\\n\"+\n     \"</ul>\\n\"+\n     \"<code>\\n\"+\n     \"from bokeh.resources import INLINE\\n\"+\n     \"output_notebook(resources=INLINE)\\n\"+\n     \"</code>\\n\"+\n     \"</div>\"}};\n\n  function display_loaded() {\n    var el = document.getElementById(\"f479d542-4d60-461a-a2c0-44e757da6fd3\");\n    if (el != null) {\n      el.textContent = \"BokehJS is loading...\";\n    }\n    if (root.Bokeh !== undefined) {\n      if (el != null) {\n        el.textContent = \"BokehJS \" + root.Bokeh.version + \" successfully loaded.\";\n      }\n    } else if (Date.now() < root._bokeh_timeout) {\n      setTimeout(display_loaded, 100)\n    }\n  }\n\n\n  function run_callbacks() {\n    try {\n      root._bokeh_onload_callbacks.forEach(function(callback) { callback() });\n    }\n    finally {\n      delete root._bokeh_onload_callbacks\n    }\n    console.info(\"Bokeh: all callbacks have finished\");\n  }\n\n  function load_libs(js_urls, callback) {\n    root._bokeh_onload_callbacks.push(callback);\n    if (root._bokeh_is_loading > 0) {\n      console.log(\"Bokeh: BokehJS is being loaded, scheduling callback at\", now());\n      return null;\n    }\n    if (js_urls == null || js_urls.length === 0) {\n      run_callbacks();\n      return null;\n    }\n    console.log(\"Bokeh: BokehJS not loaded, scheduling load and callback at\", now());\n    root._bokeh_is_loading = js_urls.length;\n    for (var i = 0; i < js_urls.length; i++) {\n      var url = js_urls[i];\n      var s = document.createElement('script');\n      s.src = url;\n      s.async = false;\n      s.onreadystatechange = s.onload = function() {\n        root._bokeh_is_loading--;\n        if (root._bokeh_is_loading === 0) {\n          console.log(\"Bokeh: all BokehJS libraries loaded\");\n          run_callbacks()\n        }\n      };\n      s.onerror = function() {\n        console.warn(\"failed to load library \" + url);\n      };\n      console.log(\"Bokeh: injecting script tag for BokehJS library: \", url);\n      document.getElementsByTagName(\"head\")[0].appendChild(s);\n    }\n  };var element = document.getElementById(\"f479d542-4d60-461a-a2c0-44e757da6fd3\");\n  if (element == null) {\n    console.log(\"Bokeh: ERROR: autoload.js configured with elementid 'f479d542-4d60-461a-a2c0-44e757da6fd3' but no matching script tag was found. \")\n    return false;\n  }\n\n  var js_urls = [\"https://cdn.pydata.org/bokeh/release/bokeh-0.12.14.min.js\", \"https://cdn.pydata.org/bokeh/release/bokeh-widgets-0.12.14.min.js\", \"https://cdn.pydata.org/bokeh/release/bokeh-tables-0.12.14.min.js\", \"https://cdn.pydata.org/bokeh/release/bokeh-gl-0.12.14.min.js\"];\n\n  var inline_js = [\n    function(Bokeh) {\n      Bokeh.set_log_level(\"info\");\n    },\n    \n    function(Bokeh) {\n      \n    },\n    function(Bokeh) {\n      console.log(\"Bokeh: injecting CSS: https://cdn.pydata.org/bokeh/release/bokeh-0.12.14.min.css\");\n      Bokeh.embed.inject_css(\"https://cdn.pydata.org/bokeh/release/bokeh-0.12.14.min.css\");\n      console.log(\"Bokeh: injecting CSS: https://cdn.pydata.org/bokeh/release/bokeh-widgets-0.12.14.min.css\");\n      Bokeh.embed.inject_css(\"https://cdn.pydata.org/bokeh/release/bokeh-widgets-0.12.14.min.css\");\n      console.log(\"Bokeh: injecting CSS: https://cdn.pydata.org/bokeh/release/bokeh-tables-0.12.14.min.css\");\n      Bokeh.embed.inject_css(\"https://cdn.pydata.org/bokeh/release/bokeh-tables-0.12.14.min.css\");\n    }\n  ];\n\n  function run_inline_js() {\n    \n    if ((root.Bokeh !== undefined) || (force === true)) {\n      for (var i = 0; i < inline_js.length; i++) {\n        inline_js[i].call(root, root.Bokeh);\n      }if (force === true) {\n        display_loaded();\n      }} else if (Date.now() < root._bokeh_timeout) {\n      setTimeout(run_inline_js, 100);\n    } else if (!root._bokeh_failed_load) {\n      console.log(\"Bokeh: BokehJS failed to load within specified timeout.\");\n      root._bokeh_failed_load = true;\n    } else if (force !== true) {\n      var cell = $(document.getElementById(\"f479d542-4d60-461a-a2c0-44e757da6fd3\")).parents('.cell').data().cell;\n      cell.output_area.append_execute_result(NB_LOAD_WARNING)\n    }\n\n  }\n\n  if (root._bokeh_is_loading === 0) {\n    console.log(\"Bokeh: BokehJS loaded, going straight to plotting\");\n    run_inline_js();\n  } else {\n    load_libs(js_urls, function() {\n      console.log(\"Bokeh: BokehJS plotting callback run at\", now());\n      run_inline_js();\n    });\n  }\n}(window));"
     },
     "metadata": {},
     "output_type": "display_data"
    }
   ],
   "source": [
    "# Bokeh settings\n",
    "from bokeh.plotting import figure, show\n",
    "import bokeh.models\n",
    "import bokeh.plotting\n",
    "from bokeh.models import ColumnDataSource, Span, Label, HoverTool, Range1d, CDSView\n",
    "from bokeh.embed import components\n",
    "from bokeh.io import output_notebook\n",
    "output_notebook()"
   ]
  },
  {
   "cell_type": "markdown",
   "metadata": {},
   "source": [
    "#### Plot in bokeh\n",
    "\n",
    "To get the hover to show up, I added a hidden line that shows the all-items CPI and set the hover to show up when the cursor location has the same x value as the line. The problem is that the first and last bars only allow hover on their inner portions. "
   ]
  },
  {
   "cell_type": "code",
   "execution_count": 14,
   "metadata": {
    "ExecuteTime": {
     "end_time": "2018-03-27T12:30:21.840052Z",
     "start_time": "2018-03-27T12:30:21.527586Z"
    },
    "code_folding": [],
    "scrolled": false
   },
   "outputs": [
    {
     "data": {
      "text/html": [
       "\n",
       "<div class=\"bk-root\">\n",
       "    <div class=\"bk-plotdiv\" id=\"07a034cd-b7d5-4414-a4ed-e31b63ff690d\"></div>\n",
       "</div>"
      ]
     },
     "metadata": {},
     "output_type": "display_data"
    },
    {
     "data": {
      "application/javascript": [
       "(function(root) {\n",
       "  function embed_document(root) {\n",
       "    \n",
       "  var docs_json = {\"1e995bae-3da8-4af3-b834-4c025eff2533\":{\"roots\":{\"references\":[{\"attributes\":{\"background_fill_alpha\":{\"value\":0},\"border_line_alpha\":{\"value\":0},\"glyph_height\":16,\"glyph_width\":8,\"items\":[{\"id\":\"67aefe39-8959-41cb-86b6-08f92c90deae\",\"type\":\"LegendItem\"},{\"id\":\"5baff3aa-afff-425a-9912-d7a38b42ddab\",\"type\":\"LegendItem\"},{\"id\":\"c42a95ed-3359-4405-bb21-566ba579329a\",\"type\":\"LegendItem\"},{\"id\":\"828e6501-9b34-4eaf-93f7-22aa6c765ece\",\"type\":\"LegendItem\"}],\"label_standoff\":1,\"label_text_font_size\":{\"value\":\"8.5pt\"},\"location\":\"top_left\",\"margin\":2,\"orientation\":\"horizontal\",\"padding\":0,\"plot\":{\"id\":\"234ec665-78fe-460e-a709-c91e4def012d\",\"subtype\":\"Figure\",\"type\":\"Plot\"},\"spacing\":5},\"id\":\"4695629d-4ab4-4d72-a4cb-b427176c96d6\",\"type\":\"Legend\"},{\"attributes\":{\"fields\":[\"core services\"]},\"id\":\"d40199f5-aeb8-4696-9554-c3fc6950b1b8\",\"type\":\"Stack\"},{\"attributes\":{\"days\":[1,15]},\"id\":\"76fb65a9-3832-4c3c-9d4c-ddf9c4d919ff\",\"type\":\"DaysTicker\"},{\"attributes\":{\"label\":{\"value\":\"Core services\"},\"renderers\":[{\"id\":\"c979d380-7033-4d8e-9e6c-5cb35df84200\",\"type\":\"GlyphRenderer\"}]},\"id\":\"67aefe39-8959-41cb-86b6-08f92c90deae\",\"type\":\"LegendItem\"},{\"attributes\":{\"callback\":null,\"column_names\":[\"core services\",\"core goods\",\"shelter\",\"food & energy\",\"dates\",\"strdate\"],\"data\":{\"core goods\":[0,0,0,0,0,0,0,0,0,0,0,0,0,0.01,0,0,0,0,0,0,0,0,0,0,0,0,0,0,0,0,0,0,0,0,0,0,0,0],\"core services\":[0.49,0.45,0.45,0.47,0.46,0.48,0.49,0.51,0.54,0.59,0.64,0.66,0.68,0.73,0.74,0.73,0.76,0.76,0.76,0.8,0.73,0.64,0.63,0.65,0.67,0.69,0.56,0.47,0.41,0.39,0.41,0.4,0.46,0.52,0.47,0.47,0.5,0.51],\"dates\":[1420070400000.0,1422748800000.0,1425168000000.0,1427846400000.0,1430438400000.0,1433116800000.0,1435708800000.0,1438387200000.0,1441065600000.0,1443657600000.0,1446336000000.0,1448928000000.0,1451606400000.0,1454284800000.0,1456790400000.0,1459468800000.0,1462060800000.0,1464739200000.0,1467331200000.0,1470009600000.0,1472688000000.0,1475280000000.0,1477958400000.0,1480550400000.0,1483228800000.0,1485907200000.0,1488326400000.0,1491004800000.0,1493596800000.0,1496275200000.0,1498867200000.0,1501545600000.0,1504224000000.0,1506816000000.0,1509494400000.0,1512086400000.0,1514764800000.0,1517443200000.0],\"food & energy\":[0,0,0,0,0,0,0,0,0,0,0,0,0,0,0,0,0,0,0,0,0,0,0.03,0.35,0.73,1.01,0.82,0.74,0.53,0.3,0.41,0.64,0.95,0.67,0.89,0.74,0.67,0.79],\"shelter\":[0.94,0.96,0.96,0.97,0.94,0.98,1.02,1.01,1.04,1.05,1.05,1.06,1.07,1.09,1.06,1.07,1.13,1.16,1.11,1.15,1.16,1.19,1.21,1.23,1.21,1.21,1.19,1.19,1.15,1.13,1.1,1.15,1.13,1.14,1.11,1.13,1.13,1.11],\"strdate\":[\"Jan 2015\",\"Feb 2015\",\"Mar 2015\",\"Apr 2015\",\"May 2015\",\"Jun 2015\",\"Jul 2015\",\"Aug 2015\",\"Sep 2015\",\"Oct 2015\",\"Nov 2015\",\"Dec 2015\",\"Jan 2016\",\"Feb 2016\",\"Mar 2016\",\"Apr 2016\",\"May 2016\",\"Jun 2016\",\"Jul 2016\",\"Aug 2016\",\"Sep 2016\",\"Oct 2016\",\"Nov 2016\",\"Dec 2016\",\"Jan 2017\",\"Feb 2017\",\"Mar 2017\",\"Apr 2017\",\"May 2017\",\"Jun 2017\",\"Jul 2017\",\"Aug 2017\",\"Sep 2017\",\"Oct 2017\",\"Nov 2017\",\"Dec 2017\",\"Jan 2018\",\"Feb 2018\"]}},\"id\":\"72401d80-2587-4d43-983a-47c5896339c2\",\"type\":\"ColumnDataSource\"},{\"attributes\":{\"months\":[0,4,8]},\"id\":\"99ca7272-24ed-4c97-945d-6f2a8908910e\",\"type\":\"MonthsTicker\"},{\"attributes\":{\"bottom\":{\"expr\":{\"id\":\"2ec56013-529b-4855-92ae-f0a525c68857\",\"type\":\"Stack\"}},\"fill_color\":{\"value\":\"#00c853\"},\"line_alpha\":{\"value\":0},\"line_color\":{\"value\":\"#00c853\"},\"top\":{\"expr\":{\"id\":\"3f40b3af-cc45-4933-b6ae-deaa969d37eb\",\"type\":\"Stack\"}},\"width\":{\"value\":1921831578.9473684},\"x\":{\"field\":\"dates\"}},\"id\":\"096cf7bb-ed69-413e-a937-9ac70b592d5a\",\"type\":\"VBar\"},{\"attributes\":{\"below\":[{\"id\":\"5a394f4e-c816-49f5-ace4-6466061d4233\",\"type\":\"DatetimeAxis\"}],\"left\":[{\"id\":\"b0a52a01-eba8-4503-9853-2254749a3fec\",\"type\":\"LinearAxis\"}],\"outline_line_color\":{\"value\":\"white\"},\"plot_height\":300,\"plot_width\":700,\"renderers\":[{\"id\":\"5a394f4e-c816-49f5-ace4-6466061d4233\",\"type\":\"DatetimeAxis\"},{\"id\":\"623e1901-f34d-4ea8-8ccf-55c646a06aeb\",\"type\":\"Grid\"},{\"id\":\"b0a52a01-eba8-4503-9853-2254749a3fec\",\"type\":\"LinearAxis\"},{\"id\":\"846eae8c-58e4-4fd5-b142-2c19ecc58050\",\"type\":\"Grid\"},{\"id\":\"5598826c-b432-4d5f-b6fc-68ca1b4f0f29\",\"type\":\"BoxAnnotation\"},{\"id\":\"4695629d-4ab4-4d72-a4cb-b427176c96d6\",\"type\":\"Legend\"},{\"id\":\"c979d380-7033-4d8e-9e6c-5cb35df84200\",\"type\":\"GlyphRenderer\"},{\"id\":\"5d0c20b0-d977-45ea-bc7c-1459f8d9ff79\",\"type\":\"GlyphRenderer\"},{\"id\":\"7116f3d5-7cf8-47c8-a4f7-33621bd6765b\",\"type\":\"GlyphRenderer\"},{\"id\":\"5e2cc01c-a240-4cd2-aad0-624b83482795\",\"type\":\"GlyphRenderer\"},{\"id\":\"4af61b77-b20e-488b-ae22-cd273defff62\",\"type\":\"GlyphRenderer\"},{\"id\":\"87e28e06-e7b2-465c-b251-08feab87626e\",\"type\":\"GlyphRenderer\"},{\"id\":\"f23d80ed-9012-43a9-83ac-eff1d57b8690\",\"type\":\"GlyphRenderer\"},{\"id\":\"7b071862-01fc-492e-a262-5db956566c2e\",\"type\":\"GlyphRenderer\"},{\"id\":\"2595eb02-f948-4677-8e28-d19f840364f3\",\"type\":\"Span\"},{\"id\":\"3e46b04e-747a-4a45-b26c-738e9ce607e8\",\"type\":\"GlyphRenderer\"}],\"sizing_mode\":\"scale_width\",\"title\":{\"id\":\"91caddab-250c-40c2-a7ba-68084fa32639\",\"type\":\"Title\"},\"toolbar\":{\"id\":\"cbc1226f-7a90-401a-b3be-b406fa431953\",\"type\":\"Toolbar\"},\"toolbar_location\":null,\"x_range\":{\"id\":\"32188fc5-793c-4cc6-9257-af82c8fa287e\",\"type\":\"DataRange1d\"},\"x_scale\":{\"id\":\"85cc8f01-45aa-408c-9f1e-5c3395d78986\",\"type\":\"LinearScale\"},\"y_range\":{\"id\":\"fad05d0c-a03b-4208-9fd5-8c4a484940c9\",\"type\":\"Range1d\"},\"y_scale\":{\"id\":\"2e672953-4997-429b-a64b-18eb00add7e4\",\"type\":\"LinearScale\"}},\"id\":\"234ec665-78fe-460e-a709-c91e4def012d\",\"subtype\":\"Figure\",\"type\":\"Plot\"},{\"attributes\":{},\"id\":\"a23b89c1-e184-469f-a56d-47f0434deebd\",\"type\":\"ResetTool\"},{\"attributes\":{\"bottom\":{\"expr\":{\"id\":\"2ec56013-529b-4855-92ae-f0a525c68857\",\"type\":\"Stack\"}},\"fill_alpha\":{\"value\":0.1},\"fill_color\":{\"value\":\"#1f77b4\"},\"line_alpha\":{\"value\":0.1},\"line_color\":{\"value\":\"#1f77b4\"},\"top\":{\"expr\":{\"id\":\"3f40b3af-cc45-4933-b6ae-deaa969d37eb\",\"type\":\"Stack\"}},\"width\":{\"value\":1921831578.9473684},\"x\":{\"field\":\"dates\"}},\"id\":\"56b1bf3d-a6b5-40cf-a7fd-d8552f4695b9\",\"type\":\"VBar\"},{\"attributes\":{\"bottom\":{\"expr\":{\"id\":\"c3960ad8-3455-4cfb-80c7-b76054e09bf1\",\"type\":\"Stack\"}},\"fill_color\":{\"value\":\"#80DEEA\"},\"line_alpha\":{\"value\":0},\"line_color\":{\"value\":\"#80DEEA\"},\"top\":{\"expr\":{\"id\":\"33cb162a-cb93-4001-9aa5-1d8610b0c7e1\",\"type\":\"Stack\"}},\"width\":{\"value\":1921831578.9473684},\"x\":{\"field\":\"dates\"}},\"id\":\"9c7abfcc-5aa6-4500-8182-4de5787210eb\",\"type\":\"VBar\"},{\"attributes\":{\"bottom\":{\"expr\":{\"id\":\"7b6e0b61-9f40-47c8-8925-c9bc6dcaa852\",\"type\":\"Stack\"}},\"fill_alpha\":{\"value\":0.1},\"fill_color\":{\"value\":\"#1f77b4\"},\"line_alpha\":{\"value\":0.1},\"line_color\":{\"value\":\"#1f77b4\"},\"top\":{\"expr\":{\"id\":\"ac4a90e4-450e-4a1b-8dca-f1707312178c\",\"type\":\"Stack\"}},\"width\":{\"value\":1921831578.9473684},\"x\":{\"field\":\"dates\"}},\"id\":\"7aa4e5ff-8a09-4ba2-9983-458e7260ae1a\",\"type\":\"VBar\"},{\"attributes\":{\"label\":{\"value\":\"Food & energy\"},\"renderers\":[{\"id\":\"5e2cc01c-a240-4cd2-aad0-624b83482795\",\"type\":\"GlyphRenderer\"}]},\"id\":\"828e6501-9b34-4eaf-93f7-22aa6c765ece\",\"type\":\"LegendItem\"},{\"attributes\":{\"months\":[0,1,2,3,4,5,6,7,8,9,10,11]},\"id\":\"ea4a4f65-f16e-4e2d-b8bb-3c636c22f906\",\"type\":\"MonthsTicker\"},{\"attributes\":{\"label\":{\"value\":\"Core goods\"},\"renderers\":[{\"id\":\"5d0c20b0-d977-45ea-bc7c-1459f8d9ff79\",\"type\":\"GlyphRenderer\"}]},\"id\":\"5baff3aa-afff-425a-9912-d7a38b42ddab\",\"type\":\"LegendItem\"},{\"attributes\":{\"overlay\":{\"id\":\"5598826c-b432-4d5f-b6fc-68ca1b4f0f29\",\"type\":\"BoxAnnotation\"}},\"id\":\"3a3ee072-330b-4326-9fd5-0ba698cb1e23\",\"type\":\"BoxZoomTool\"},{\"attributes\":{\"fields\":[\"core services\",\"core goods\"]},\"id\":\"ac4a90e4-450e-4a1b-8dca-f1707312178c\",\"type\":\"Stack\"},{\"attributes\":{\"fields\":[\"core services\",\"core goods\"]},\"id\":\"3f40b3af-cc45-4933-b6ae-deaa969d37eb\",\"type\":\"Stack\"},{\"attributes\":{\"callback\":null},\"id\":\"32188fc5-793c-4cc6-9257-af82c8fa287e\",\"type\":\"DataRange1d\"},{\"attributes\":{\"source\":{\"id\":\"7f604f20-e562-4fdf-88e8-f60a4fce061f\",\"type\":\"ColumnDataSource\"}},\"id\":\"c3fa8a7a-9adc-4c6c-9844-4a17cded84ce\",\"type\":\"CDSView\"},{\"attributes\":{\"data_source\":{\"id\":\"72401d80-2587-4d43-983a-47c5896339c2\",\"type\":\"ColumnDataSource\"},\"glyph\":{\"id\":\"096cf7bb-ed69-413e-a937-9ac70b592d5a\",\"type\":\"VBar\"},\"hover_glyph\":null,\"muted_glyph\":null,\"nonselection_glyph\":{\"id\":\"56b1bf3d-a6b5-40cf-a7fd-d8552f4695b9\",\"type\":\"VBar\"},\"selection_glyph\":null,\"view\":{\"id\":\"d9d11d31-30cd-4b47-965d-25a5005964e9\",\"type\":\"CDSView\"}},\"id\":\"5d0c20b0-d977-45ea-bc7c-1459f8d9ff79\",\"type\":\"GlyphRenderer\"},{\"attributes\":{\"months\":[0,6]},\"id\":\"639cd5ba-2647-466c-b702-70baab1e2e50\",\"type\":\"MonthsTicker\"},{\"attributes\":{\"source\":{\"id\":\"72401d80-2587-4d43-983a-47c5896339c2\",\"type\":\"ColumnDataSource\"}},\"id\":\"d9d11d31-30cd-4b47-965d-25a5005964e9\",\"type\":\"CDSView\"},{\"attributes\":{\"months\":[0,2,4,6,8,10]},\"id\":\"2662e35f-c6e6-4b3e-8e6c-bf5054156b32\",\"type\":\"MonthsTicker\"},{\"attributes\":{\"label\":{\"value\":\"Shelter\"},\"renderers\":[{\"id\":\"7116f3d5-7cf8-47c8-a4f7-33621bd6765b\",\"type\":\"GlyphRenderer\"}]},\"id\":\"c42a95ed-3359-4405-bb21-566ba579329a\",\"type\":\"LegendItem\"},{\"attributes\":{\"bottom\":{\"expr\":{\"id\":\"7ca29c32-be4f-4939-9f39-c6140c848243\",\"type\":\"Stack\"}},\"fill_color\":{\"value\":\"#304FFE\"},\"line_alpha\":{\"value\":0},\"line_color\":{\"value\":\"#304FFE\"},\"top\":{\"expr\":{\"id\":\"7efc990b-d959-4c2d-ad1a-74505bec5ea2\",\"type\":\"Stack\"}},\"width\":{\"value\":1921831578.9473684},\"x\":{\"field\":\"dates\"}},\"id\":\"a5fd2383-899c-4aff-b6dc-15d4f5446c71\",\"type\":\"VBar\"},{\"attributes\":{\"fields\":[\"core services\",\"core goods\"]},\"id\":\"717f29a8-243a-4618-80d6-87142564ed53\",\"type\":\"Stack\"},{\"attributes\":{\"source\":{\"id\":\"72401d80-2587-4d43-983a-47c5896339c2\",\"type\":\"ColumnDataSource\"}},\"id\":\"39198309-7ac5-4935-92d1-0a1f9149e8ad\",\"type\":\"CDSView\"},{\"attributes\":{\"line_color\":{\"value\":\"gray\"},\"location\":0,\"plot\":{\"id\":\"234ec665-78fe-460e-a709-c91e4def012d\",\"subtype\":\"Figure\",\"type\":\"Plot\"}},\"id\":\"2595eb02-f948-4677-8e28-d19f840364f3\",\"type\":\"Span\"},{\"attributes\":{\"fields\":[\"core services\"]},\"id\":\"91b80a75-7adc-456f-a186-1644dcaa7c5b\",\"type\":\"Stack\"},{\"attributes\":{\"bottom\":{\"expr\":{\"id\":\"c3960ad8-3455-4cfb-80c7-b76054e09bf1\",\"type\":\"Stack\"}},\"fill_alpha\":{\"value\":0.1},\"fill_color\":{\"value\":\"#1f77b4\"},\"line_alpha\":{\"value\":0.1},\"line_color\":{\"value\":\"#1f77b4\"},\"top\":{\"expr\":{\"id\":\"33cb162a-cb93-4001-9aa5-1d8610b0c7e1\",\"type\":\"Stack\"}},\"width\":{\"value\":1921831578.9473684},\"x\":{\"field\":\"dates\"}},\"id\":\"74ef10b2-7064-4fe7-ac12-8434827827d9\",\"type\":\"VBar\"},{\"attributes\":{\"bottom\":{\"expr\":{\"id\":\"ee7462b5-03dc-43e6-aded-b08a07fcd090\",\"type\":\"Stack\"}},\"fill_color\":{\"value\":\"#304FFE\"},\"line_alpha\":{\"value\":0},\"line_color\":{\"value\":\"#304FFE\"},\"top\":{\"expr\":{\"id\":\"d447bbe4-efa7-4b92-8bc3-4c63c7f6fd49\",\"type\":\"Stack\"}},\"width\":{\"value\":1921831578.9473684},\"x\":{\"field\":\"dates\"}},\"id\":\"bf39ca5c-1465-49f3-9d56-e1d8be19cdd6\",\"type\":\"VBar\"},{\"attributes\":{},\"id\":\"85cc8f01-45aa-408c-9f1e-5c3395d78986\",\"type\":\"LinearScale\"},{\"attributes\":{},\"id\":\"6ae0d0e3-8f04-4995-a925-9d509c02255c\",\"type\":\"WheelZoomTool\"},{\"attributes\":{\"data_source\":{\"id\":\"72401d80-2587-4d43-983a-47c5896339c2\",\"type\":\"ColumnDataSource\"},\"glyph\":{\"id\":\"9c7abfcc-5aa6-4500-8182-4de5787210eb\",\"type\":\"VBar\"},\"hover_glyph\":null,\"muted_glyph\":null,\"nonselection_glyph\":{\"id\":\"74ef10b2-7064-4fe7-ac12-8434827827d9\",\"type\":\"VBar\"},\"selection_glyph\":null,\"view\":{\"id\":\"4c635fcc-2b25-424d-9871-19cd453e5675\",\"type\":\"CDSView\"}},\"id\":\"7116f3d5-7cf8-47c8-a4f7-33621bd6765b\",\"type\":\"GlyphRenderer\"},{\"attributes\":{\"bottom\":{\"expr\":{\"id\":\"6e4c02b2-9de3-41c5-b6d5-314a7fdfbae8\",\"type\":\"Stack\"}},\"fill_color\":{\"value\":\"#FFEA00\"},\"line_alpha\":{\"value\":0},\"line_color\":{\"value\":\"#FFEA00\"},\"top\":{\"expr\":{\"id\":\"d40199f5-aeb8-4696-9554-c3fc6950b1b8\",\"type\":\"Stack\"}},\"width\":{\"value\":1921831578.9473684},\"x\":{\"field\":\"dates\"}},\"id\":\"a8cec4f7-23c9-4371-a25d-a925a2823137\",\"type\":\"VBar\"},{\"attributes\":{\"source\":{\"id\":\"72401d80-2587-4d43-983a-47c5896339c2\",\"type\":\"ColumnDataSource\"}},\"id\":\"4c635fcc-2b25-424d-9871-19cd453e5675\",\"type\":\"CDSView\"},{\"attributes\":{\"bottom\":{\"expr\":{\"id\":\"ee7462b5-03dc-43e6-aded-b08a07fcd090\",\"type\":\"Stack\"}},\"fill_alpha\":{\"value\":0.1},\"fill_color\":{\"value\":\"#1f77b4\"},\"line_alpha\":{\"value\":0.1},\"line_color\":{\"value\":\"#1f77b4\"},\"top\":{\"expr\":{\"id\":\"d447bbe4-efa7-4b92-8bc3-4c63c7f6fd49\",\"type\":\"Stack\"}},\"width\":{\"value\":1921831578.9473684},\"x\":{\"field\":\"dates\"}},\"id\":\"64787548-5c44-43e6-93c9-189649b593d4\",\"type\":\"VBar\"},{\"attributes\":{\"bottom\":{\"expr\":{\"id\":\"6e4c02b2-9de3-41c5-b6d5-314a7fdfbae8\",\"type\":\"Stack\"}},\"fill_alpha\":{\"value\":0.1},\"fill_color\":{\"value\":\"#1f77b4\"},\"line_alpha\":{\"value\":0.1},\"line_color\":{\"value\":\"#1f77b4\"},\"top\":{\"expr\":{\"id\":\"d40199f5-aeb8-4696-9554-c3fc6950b1b8\",\"type\":\"Stack\"}},\"width\":{\"value\":1921831578.9473684},\"x\":{\"field\":\"dates\"}},\"id\":\"4924f75c-16de-4c6b-98e5-f602765857b9\",\"type\":\"VBar\"},{\"attributes\":{\"callback\":null,\"column_names\":[\"core services\",\"core goods\",\"shelter\",\"food & energy\",\"total\",\"strdate\",\"date\",\"index\"],\"data\":{\"core goods\":{\"__ndarray__\":\"exSuR+F6xL+amZmZmZm5v5qZmZmZmam/exSuR+F6pL+4HoXrUbiuvwrXo3A9Cre/mpmZmZmZub+amZmZmZm5v5qZmZmZmbm/7FG4HoXrwb8pXI/C9Si8v3sUrkfherS/exSuR+F6lL97FK5H4XqEP+xRuB6F67G/mpmZmZmZub8pXI/C9Si8v7gehetRuL6/uB6F61G4vr8K16NwPQq3v6RwPQrXo8C/KVyPwvUovL/sUbgehevBv7gehetRuL6/mpmZmZmZqb+amZmZmZm5vylcj8L1KLy/uB6F61G4vr8zMzMzMzPDv6RwPQrXo8C/uB6F61G4vr/D9Shcj8LFv5qZmZmZmcm/UrgehetRyL/D9Shcj8LFv+xRuB6F68G/pHA9CtejwL+amZmZmZm5vw==\",\"dtype\":\"float64\",\"shape\":[38]},\"core services\":{\"__ndarray__\":\"XI/C9Shc3z/NzMzMzMzcP83MzMzMzNw/FK5H4XoU3j9xPQrXo3DdP7gehetRuN4/XI/C9Shc3z9SuB6F61HgP0jhehSuR+E/4XoUrkfh4j97FK5H4XrkPx+F61G4HuU/w/UoXI/C5T9cj8L1KFznP65H4XoUruc/XI/C9Shc5z9SuB6F61HoP1K4HoXrUeg/UrgehetR6D+amZmZmZnpP1yPwvUoXOc/exSuR+F65D8pXI/C9SjkP83MzMzMzOQ/cT0K16Nw5T8UrkfhehTmP+xRuB6F6+E/FK5H4XoU3j89CtejcD3aP/YoXI/C9dg/PQrXo3A92j+amZmZmZnZP3E9CtejcN0/pHA9Ctej4D8UrkfhehTePxSuR+F6FN4/AAAAAAAA4D9SuB6F61HgPw==\",\"dtype\":\"float64\",\"shape\":[38]},\"date\":{\"__ndarray__\":\"AAAAqyyqdEIAAED9JrR0QgAAQB4qvXRCAACAcCTHdEIAAABdzNB0QgAAQK/G2nRCAADAm27kdEIAAADuaO50QgAAQEBj+HRCAADALAsCdUIAAAB/BQx1QgAAgGutFXVCAADAvacfdUIAAAAQoil1QgAAwJb3MnVCAAAA6fE8dUIAAIDVmUZ1QgAAwCeUUHVCAABAFDxadUIAAIBmNmR1QgAAwLgwbnVCAABApdh3dUIAAID30oF1QgAAAOR6i3VCAABANnWVdUIAAICIb591QgAAgKlyqHVCAADA+2yydUIAAEDoFLx1QgAAgDoPxnVCAAAAJ7fPdUIAAEB5sdl1QgAAgMur43VCAAAAuFPtdUIAAEAKTvd1QgAAwPb1AHZCAAAASfAKdkIAAECb6hR2Qg==\",\"dtype\":\"float64\",\"shape\":[38]},\"food & energy\":{\"__ndarray__\":\"w/UoXI/C9b9xPQrXo3D1vwrXo3A9Cve/w/UoXI/C+b8UrkfhehT2vwAAAAAAAPS/16NwPQrX87+uR+F6FK7zv1K4HoXrUfi/SOF6FK5H9b8fhetRuB7xvx+F61G4Hu2/CtejcD0K1789CtejcD3qvylcj8L1KOy/7FG4HoXr4b+uR+F6FK7nv1K4HoXrUei/exSuR+F67L9SuB6F61Hov0jhehSuR9G/mpmZmZmZqb+4HoXrUbieP2ZmZmZmZtY/XI/C9Shc5z8pXI/C9SjwPz0K16NwPeo/rkfhehSu5z/2KFyPwvXgPzMzMzMzM9M/PQrXo3A92j97FK5H4XrkP2ZmZmZmZu4/cT0K16Nw5T97FK5H4XrsP65H4XoUruc/cT0K16Nw5T9I4XoUrkfpPw==\",\"dtype\":\"float64\",\"shape\":[38]},\"index\":{\"__ndarray__\":\"AAAAqyyqdEIAAED9JrR0QgAAQB4qvXRCAACAcCTHdEIAAABdzNB0QgAAQK/G2nRCAADAm27kdEIAAADuaO50QgAAQEBj+HRCAADALAsCdUIAAAB/BQx1QgAAgGutFXVCAADAvacfdUIAAAAQoil1QgAAwJb3MnVCAAAA6fE8dUIAAIDVmUZ1QgAAwCeUUHVCAABAFDxadUIAAIBmNmR1QgAAwLgwbnVCAABApdh3dUIAAID30oF1QgAAAOR6i3VCAABANnWVdUIAAICIb591QgAAgKlyqHVCAADA+2yydUIAAEDoFLx1QgAAgDoPxnVCAAAAJ7fPdUIAAEB5sdl1QgAAgMur43VCAAAAuFPtdUIAAEAKTvd1QgAAwPb1AHZCAAAASfAKdkIAAECb6hR2Qg==\",\"dtype\":\"float64\",\"shape\":[38]},\"shelter\":{\"__ndarray__\":\"FK5H4XoU7j+4HoXrUbjuP7gehetRuO4/CtejcD0K7z8UrkfhehTuP1yPwvUoXO8/UrgehetR8D8pXI/C9SjwP6RwPQrXo/A/zczMzMzM8D/NzMzMzMzwP/YoXI/C9fA/H4XrUbge8T9xPQrXo3DxP/YoXI/C9fA/H4XrUbge8T8UrkfhehTyP4/C9Shcj/I/w/UoXI/C8T9mZmZmZmbyP4/C9Shcj/I/CtejcD0K8z9cj8L1KFzzP65H4XoUrvM/XI/C9Shc8z9cj8L1KFzzPwrXo3A9CvM/CtejcD0K8z9mZmZmZmbyPxSuR+F6FPI/mpmZmZmZ8T9mZmZmZmbyPxSuR+F6FPI/PQrXo3A98j/D9Shcj8LxPxSuR+F6FPI/FK5H4XoU8j/D9Shcj8LxPw==\",\"dtype\":\"float64\",\"shape\":[38]},\"strdate\":[\"January 2015\",\"February 2015\",\"March 2015\",\"April 2015\",\"May 2015\",\"June 2015\",\"July 2015\",\"August 2015\",\"September 2015\",\"October 2015\",\"November 2015\",\"December 2015\",\"January 2016\",\"February 2016\",\"March 2016\",\"April 2016\",\"May 2016\",\"June 2016\",\"July 2016\",\"August 2016\",\"September 2016\",\"October 2016\",\"November 2016\",\"December 2016\",\"January 2017\",\"February 2017\",\"March 2017\",\"April 2017\",\"May 2017\",\"June 2017\",\"July 2017\",\"August 2017\",\"September 2017\",\"October 2017\",\"November 2017\",\"December 2017\",\"January 2018\",\"February 2018\"],\"total\":{\"__ndarray__\":\"CtejcD0Kt7+4HoXrUbiev+xRuB6F67G/mpmZmZmZyb97FK5H4Xqkv6RwPQrXo8A/w/UoXI/CxT+amZmZmZnJP3sUrkfheqS/w/UoXI/CxT9SuB6F61HgP65H4XoUruc/FK5H4XoU9j97FK5H4XrwP4XrUbgehes/PQrXo3A98j+kcD0K16PwP1K4HoXrUfA/MzMzMzMz6z9xPQrXo3DxP9ejcD0K1/c/uB6F61G4+j+F61G4HoX7P+F6FK5H4QBAUrgehetRBEBSuB6F61EGQHE9CtejcANAFK5H4XoUAkDhehSuR+H+PwrXo3A9Cvs/exSuR+F6/D8AAAAAAAAAQHsUrkfhegJA9ihcj8L1AEA9CtejcD0CQHE9CtejcAFASOF6FK5HAUB7FK5H4XoCQA==\",\"dtype\":\"float64\",\"shape\":[38]}}},\"id\":\"e1bd4b75-034b-403c-be3e-d606d180bb87\",\"type\":\"ColumnDataSource\"},{\"attributes\":{\"mantissas\":[1,2,5],\"max_interval\":500.0,\"num_minor_ticks\":0},\"id\":\"126016c6-9b5d-489f-af42-986c3944c8e4\",\"type\":\"AdaptiveTicker\"},{\"attributes\":{\"fields\":[\"core services\",\"core goods\",\"shelter\"]},\"id\":\"d21c242c-f918-4ad1-b114-eab6bddedafc\",\"type\":\"Stack\"},{\"attributes\":{\"fields\":[\"core services\",\"core goods\",\"shelter\",\"food & energy\"]},\"id\":\"d447bbe4-efa7-4b92-8bc3-4c63c7f6fd49\",\"type\":\"Stack\"},{\"attributes\":{\"bottom\":{\"expr\":{\"id\":\"f84f5338-ed97-4254-b90e-9865e745feb8\",\"type\":\"Stack\"}},\"fill_alpha\":{\"value\":0.1},\"fill_color\":{\"value\":\"#1f77b4\"},\"line_alpha\":{\"value\":0.1},\"line_color\":{\"value\":\"#1f77b4\"},\"top\":{\"expr\":{\"id\":\"91b80a75-7adc-456f-a186-1644dcaa7c5b\",\"type\":\"Stack\"}},\"width\":{\"value\":1921831578.9473684},\"x\":{\"field\":\"dates\"}},\"id\":\"1adac2bf-7650-4a83-b689-b27843cb4d1d\",\"type\":\"VBar\"},{\"attributes\":{\"bottom_units\":\"screen\",\"fill_alpha\":{\"value\":0.5},\"fill_color\":{\"value\":\"lightgrey\"},\"left_units\":\"screen\",\"level\":\"overlay\",\"line_alpha\":{\"value\":1.0},\"line_color\":{\"value\":\"black\"},\"line_dash\":[4,4],\"line_width\":{\"value\":2},\"plot\":null,\"render_mode\":\"css\",\"right_units\":\"screen\",\"top_units\":\"screen\"},\"id\":\"5598826c-b432-4d5f-b6fc-68ca1b4f0f29\",\"type\":\"BoxAnnotation\"},{\"attributes\":{\"data_source\":{\"id\":\"72401d80-2587-4d43-983a-47c5896339c2\",\"type\":\"ColumnDataSource\"},\"glyph\":{\"id\":\"bf39ca5c-1465-49f3-9d56-e1d8be19cdd6\",\"type\":\"VBar\"},\"hover_glyph\":null,\"muted_glyph\":null,\"nonselection_glyph\":{\"id\":\"64787548-5c44-43e6-93c9-189649b593d4\",\"type\":\"VBar\"},\"selection_glyph\":null,\"view\":{\"id\":\"39198309-7ac5-4935-92d1-0a1f9149e8ad\",\"type\":\"CDSView\"}},\"id\":\"5e2cc01c-a240-4cd2-aad0-624b83482795\",\"type\":\"GlyphRenderer\"},{\"attributes\":{\"active_drag\":null,\"active_inspect\":\"auto\",\"active_scroll\":\"auto\",\"active_tap\":\"auto\",\"logo\":null,\"tools\":[{\"id\":\"44fac4a6-25f1-4e31-9894-a568a21716b7\",\"type\":\"PanTool\"},{\"id\":\"6ae0d0e3-8f04-4995-a925-9d509c02255c\",\"type\":\"WheelZoomTool\"},{\"id\":\"3a3ee072-330b-4326-9fd5-0ba698cb1e23\",\"type\":\"BoxZoomTool\"},{\"id\":\"a23b89c1-e184-469f-a56d-47f0434deebd\",\"type\":\"ResetTool\"},{\"id\":\"7d1006dd-6b54-4380-a71f-3108e32fc580\",\"type\":\"HoverTool\"}]},\"id\":\"cbc1226f-7a90-401a-b3be-b406fa431953\",\"type\":\"Toolbar\"},{\"attributes\":{\"bottom\":{\"expr\":{\"id\":\"7b6e0b61-9f40-47c8-8925-c9bc6dcaa852\",\"type\":\"Stack\"}},\"fill_color\":{\"value\":\"#00c853\"},\"line_alpha\":{\"value\":0},\"line_color\":{\"value\":\"#00c853\"},\"top\":{\"expr\":{\"id\":\"ac4a90e4-450e-4a1b-8dca-f1707312178c\",\"type\":\"Stack\"}},\"width\":{\"value\":1921831578.9473684},\"x\":{\"field\":\"dates\"}},\"id\":\"c7e29317-27bc-4330-b036-523e9551f2a7\",\"type\":\"VBar\"},{\"attributes\":{\"fields\":[]},\"id\":\"f84f5338-ed97-4254-b90e-9865e745feb8\",\"type\":\"Stack\"},{\"attributes\":{\"fields\":[\"core services\"]},\"id\":\"2ec56013-529b-4855-92ae-f0a525c68857\",\"type\":\"Stack\"},{\"attributes\":{\"plot\":null,\"text\":\"\"},\"id\":\"91caddab-250c-40c2-a7ba-68084fa32639\",\"type\":\"Title\"},{\"attributes\":{\"fields\":[\"core services\"]},\"id\":\"7b6e0b61-9f40-47c8-8925-c9bc6dcaa852\",\"type\":\"Stack\"},{\"attributes\":{\"num_minor_ticks\":5,\"tickers\":[{\"id\":\"126016c6-9b5d-489f-af42-986c3944c8e4\",\"type\":\"AdaptiveTicker\"},{\"id\":\"ad34c1da-08a3-4a69-8c61-47ba37054556\",\"type\":\"AdaptiveTicker\"},{\"id\":\"d336a145-581d-4669-9e20-d0d3db9fe387\",\"type\":\"AdaptiveTicker\"},{\"id\":\"efaa83f5-6416-4127-8e0a-2b6f2f3437d3\",\"type\":\"DaysTicker\"},{\"id\":\"d8c5494b-4c4a-451e-81d3-67e282a7048e\",\"type\":\"DaysTicker\"},{\"id\":\"1f9f249b-eacb-4311-b09f-995897a2ea2a\",\"type\":\"DaysTicker\"},{\"id\":\"76fb65a9-3832-4c3c-9d4c-ddf9c4d919ff\",\"type\":\"DaysTicker\"},{\"id\":\"ea4a4f65-f16e-4e2d-b8bb-3c636c22f906\",\"type\":\"MonthsTicker\"},{\"id\":\"2662e35f-c6e6-4b3e-8e6c-bf5054156b32\",\"type\":\"MonthsTicker\"},{\"id\":\"99ca7272-24ed-4c97-945d-6f2a8908910e\",\"type\":\"MonthsTicker\"},{\"id\":\"639cd5ba-2647-466c-b702-70baab1e2e50\",\"type\":\"MonthsTicker\"},{\"id\":\"fc1c3052-aa33-4241-9f2b-25ff671141fc\",\"type\":\"YearsTicker\"}]},\"id\":\"a499585f-5d34-47c9-a490-aa6efdea892e\",\"type\":\"DatetimeTicker\"},{\"attributes\":{\"fields\":[\"core services\",\"core goods\",\"shelter\"]},\"id\":\"33cb162a-cb93-4001-9aa5-1d8610b0c7e1\",\"type\":\"Stack\"},{\"attributes\":{\"fields\":[\"core services\",\"core goods\",\"shelter\"]},\"id\":\"7ca29c32-be4f-4939-9f39-c6140c848243\",\"type\":\"Stack\"},{\"attributes\":{\"fields\":[\"core services\",\"core goods\",\"shelter\",\"food & energy\"]},\"id\":\"7efc990b-d959-4c2d-ad1a-74505bec5ea2\",\"type\":\"Stack\"},{\"attributes\":{\"fields\":[\"core services\",\"core goods\",\"shelter\"]},\"id\":\"ee7462b5-03dc-43e6-aded-b08a07fcd090\",\"type\":\"Stack\"},{\"attributes\":{\"data_source\":{\"id\":\"7f604f20-e562-4fdf-88e8-f60a4fce061f\",\"type\":\"ColumnDataSource\"},\"glyph\":{\"id\":\"a5fd2383-899c-4aff-b6dc-15d4f5446c71\",\"type\":\"VBar\"},\"hover_glyph\":null,\"muted_glyph\":null,\"nonselection_glyph\":{\"id\":\"6c7cd0be-790d-432f-ba68-246ff16d6482\",\"type\":\"VBar\"},\"selection_glyph\":null,\"view\":{\"id\":\"c3fa8a7a-9adc-4c6c-9844-4a17cded84ce\",\"type\":\"CDSView\"}},\"id\":\"7b071862-01fc-492e-a262-5db956566c2e\",\"type\":\"GlyphRenderer\"},{\"attributes\":{\"days\":[1,8,15,22]},\"id\":\"1f9f249b-eacb-4311-b09f-995897a2ea2a\",\"type\":\"DaysTicker\"},{\"attributes\":{\"bottom\":{\"expr\":{\"id\":\"f84f5338-ed97-4254-b90e-9865e745feb8\",\"type\":\"Stack\"}},\"fill_color\":{\"value\":\"#FFEA00\"},\"line_alpha\":{\"value\":0},\"line_color\":{\"value\":\"#FFEA00\"},\"top\":{\"expr\":{\"id\":\"91b80a75-7adc-456f-a186-1644dcaa7c5b\",\"type\":\"Stack\"}},\"width\":{\"value\":1921831578.9473684},\"x\":{\"field\":\"dates\"}},\"id\":\"464f80ae-2eb3-4382-8e3a-e005f7a6d25b\",\"type\":\"VBar\"},{\"attributes\":{\"days\":[1,2,3,4,5,6,7,8,9,10,11,12,13,14,15,16,17,18,19,20,21,22,23,24,25,26,27,28,29,30,31]},\"id\":\"efaa83f5-6416-4127-8e0a-2b6f2f3437d3\",\"type\":\"DaysTicker\"},{\"attributes\":{\"base\":60,\"mantissas\":[1,2,5,10,15,20,30],\"max_interval\":1800000.0,\"min_interval\":1000.0,\"num_minor_ticks\":0},\"id\":\"ad34c1da-08a3-4a69-8c61-47ba37054556\",\"type\":\"AdaptiveTicker\"},{\"attributes\":{\"axis_line_color\":{\"value\":\"white\"},\"formatter\":{\"id\":\"d832e5d8-538c-4a8a-997f-2fbad39ac881\",\"type\":\"DatetimeTickFormatter\"},\"plot\":{\"id\":\"234ec665-78fe-460e-a709-c91e4def012d\",\"subtype\":\"Figure\",\"type\":\"Plot\"},\"ticker\":{\"id\":\"a499585f-5d34-47c9-a490-aa6efdea892e\",\"type\":\"DatetimeTicker\"}},\"id\":\"5a394f4e-c816-49f5-ace4-6466061d4233\",\"type\":\"DatetimeAxis\"},{\"attributes\":{\"source\":{\"id\":\"72401d80-2587-4d43-983a-47c5896339c2\",\"type\":\"ColumnDataSource\"}},\"id\":\"bbd621c0-24ec-41b4-b69a-cf5e7ba1541b\",\"type\":\"CDSView\"},{\"attributes\":{},\"id\":\"d832e5d8-538c-4a8a-997f-2fbad39ac881\",\"type\":\"DatetimeTickFormatter\"},{\"attributes\":{\"data_source\":{\"id\":\"e1bd4b75-034b-403c-be3e-d606d180bb87\",\"type\":\"ColumnDataSource\"},\"glyph\":{\"id\":\"5409b709-7a26-47b3-9b69-75b6f3dae529\",\"type\":\"Line\"},\"hover_glyph\":null,\"muted_glyph\":null,\"nonselection_glyph\":{\"id\":\"d2795982-fdc2-4352-a234-be04292568a6\",\"type\":\"Line\"},\"selection_glyph\":null,\"view\":{\"id\":\"ddd693aa-1e8c-450b-aab6-8d98eae17f0d\",\"type\":\"CDSView\"}},\"id\":\"3e46b04e-747a-4a45-b26c-738e9ce607e8\",\"type\":\"GlyphRenderer\"},{\"attributes\":{\"base\":24,\"mantissas\":[1,2,4,6,8,12],\"max_interval\":43200000.0,\"min_interval\":3600000.0,\"num_minor_ticks\":0},\"id\":\"d336a145-581d-4669-9e20-d0d3db9fe387\",\"type\":\"AdaptiveTicker\"},{\"attributes\":{\"data_source\":{\"id\":\"7f604f20-e562-4fdf-88e8-f60a4fce061f\",\"type\":\"ColumnDataSource\"},\"glyph\":{\"id\":\"464f80ae-2eb3-4382-8e3a-e005f7a6d25b\",\"type\":\"VBar\"},\"hover_glyph\":null,\"muted_glyph\":null,\"nonselection_glyph\":{\"id\":\"1adac2bf-7650-4a83-b689-b27843cb4d1d\",\"type\":\"VBar\"},\"selection_glyph\":null,\"view\":{\"id\":\"2984298e-293f-465b-816d-f9d1c9a1b6fb\",\"type\":\"CDSView\"}},\"id\":\"4af61b77-b20e-488b-ae22-cd273defff62\",\"type\":\"GlyphRenderer\"},{\"attributes\":{\"source\":{\"id\":\"7f604f20-e562-4fdf-88e8-f60a4fce061f\",\"type\":\"ColumnDataSource\"}},\"id\":\"2984298e-293f-465b-816d-f9d1c9a1b6fb\",\"type\":\"CDSView\"},{\"attributes\":{},\"id\":\"fc1c3052-aa33-4241-9f2b-25ff671141fc\",\"type\":\"YearsTicker\"},{\"attributes\":{\"bottom\":{\"expr\":{\"id\":\"717f29a8-243a-4618-80d6-87142564ed53\",\"type\":\"Stack\"}},\"fill_color\":{\"value\":\"#80DEEA\"},\"line_alpha\":{\"value\":0},\"line_color\":{\"value\":\"#80DEEA\"},\"top\":{\"expr\":{\"id\":\"d21c242c-f918-4ad1-b114-eab6bddedafc\",\"type\":\"Stack\"}},\"width\":{\"value\":1921831578.9473684},\"x\":{\"field\":\"dates\"}},\"id\":\"f3a40ec7-f23e-4983-a34a-71802afcf9b2\",\"type\":\"VBar\"},{\"attributes\":{\"data_source\":{\"id\":\"72401d80-2587-4d43-983a-47c5896339c2\",\"type\":\"ColumnDataSource\"},\"glyph\":{\"id\":\"a8cec4f7-23c9-4371-a25d-a925a2823137\",\"type\":\"VBar\"},\"hover_glyph\":null,\"muted_glyph\":null,\"nonselection_glyph\":{\"id\":\"4924f75c-16de-4c6b-98e5-f602765857b9\",\"type\":\"VBar\"},\"selection_glyph\":null,\"view\":{\"id\":\"bbd621c0-24ec-41b4-b69a-cf5e7ba1541b\",\"type\":\"CDSView\"}},\"id\":\"c979d380-7033-4d8e-9e6c-5cb35df84200\",\"type\":\"GlyphRenderer\"},{\"attributes\":{\"data_source\":{\"id\":\"7f604f20-e562-4fdf-88e8-f60a4fce061f\",\"type\":\"ColumnDataSource\"},\"glyph\":{\"id\":\"c7e29317-27bc-4330-b036-523e9551f2a7\",\"type\":\"VBar\"},\"hover_glyph\":null,\"muted_glyph\":null,\"nonselection_glyph\":{\"id\":\"7aa4e5ff-8a09-4ba2-9983-458e7260ae1a\",\"type\":\"VBar\"},\"selection_glyph\":null,\"view\":{\"id\":\"6f8b87d4-ed33-44a3-9913-b427948fa45e\",\"type\":\"CDSView\"}},\"id\":\"87e28e06-e7b2-465c-b251-08feab87626e\",\"type\":\"GlyphRenderer\"},{\"attributes\":{\"source\":{\"id\":\"7f604f20-e562-4fdf-88e8-f60a4fce061f\",\"type\":\"ColumnDataSource\"}},\"id\":\"6f8b87d4-ed33-44a3-9913-b427948fa45e\",\"type\":\"CDSView\"},{\"attributes\":{\"dimension\":1,\"plot\":{\"id\":\"234ec665-78fe-460e-a709-c91e4def012d\",\"subtype\":\"Figure\",\"type\":\"Plot\"},\"ticker\":{\"id\":\"5ea14eb1-44b0-40ec-b383-5287b637839e\",\"type\":\"BasicTicker\"}},\"id\":\"846eae8c-58e4-4fd5-b142-2c19ecc58050\",\"type\":\"Grid\"},{\"attributes\":{\"bottom\":{\"expr\":{\"id\":\"717f29a8-243a-4618-80d6-87142564ed53\",\"type\":\"Stack\"}},\"fill_alpha\":{\"value\":0.1},\"fill_color\":{\"value\":\"#1f77b4\"},\"line_alpha\":{\"value\":0.1},\"line_color\":{\"value\":\"#1f77b4\"},\"top\":{\"expr\":{\"id\":\"d21c242c-f918-4ad1-b114-eab6bddedafc\",\"type\":\"Stack\"}},\"width\":{\"value\":1921831578.9473684},\"x\":{\"field\":\"dates\"}},\"id\":\"36c9071c-b33d-4efb-bc49-def634c6e822\",\"type\":\"VBar\"},{\"attributes\":{},\"id\":\"44fac4a6-25f1-4e31-9894-a568a21716b7\",\"type\":\"PanTool\"},{\"attributes\":{\"data_source\":{\"id\":\"7f604f20-e562-4fdf-88e8-f60a4fce061f\",\"type\":\"ColumnDataSource\"},\"glyph\":{\"id\":\"f3a40ec7-f23e-4983-a34a-71802afcf9b2\",\"type\":\"VBar\"},\"hover_glyph\":null,\"muted_glyph\":null,\"nonselection_glyph\":{\"id\":\"36c9071c-b33d-4efb-bc49-def634c6e822\",\"type\":\"VBar\"},\"selection_glyph\":null,\"view\":{\"id\":\"202c3108-2482-44a7-afe7-615ea3e1b322\",\"type\":\"CDSView\"}},\"id\":\"f23d80ed-9012-43a9-83ac-eff1d57b8690\",\"type\":\"GlyphRenderer\"},{\"attributes\":{\"source\":{\"id\":\"7f604f20-e562-4fdf-88e8-f60a4fce061f\",\"type\":\"ColumnDataSource\"}},\"id\":\"202c3108-2482-44a7-afe7-615ea3e1b322\",\"type\":\"CDSView\"},{\"attributes\":{\"bottom\":{\"expr\":{\"id\":\"7ca29c32-be4f-4939-9f39-c6140c848243\",\"type\":\"Stack\"}},\"fill_alpha\":{\"value\":0.1},\"fill_color\":{\"value\":\"#1f77b4\"},\"line_alpha\":{\"value\":0.1},\"line_color\":{\"value\":\"#1f77b4\"},\"top\":{\"expr\":{\"id\":\"7efc990b-d959-4c2d-ad1a-74505bec5ea2\",\"type\":\"Stack\"}},\"width\":{\"value\":1921831578.9473684},\"x\":{\"field\":\"dates\"}},\"id\":\"6c7cd0be-790d-432f-ba68-246ff16d6482\",\"type\":\"VBar\"},{\"attributes\":{\"line_alpha\":0.0,\"line_color\":\"white\",\"x\":{\"field\":\"date\"},\"y\":{\"field\":\"total\"}},\"id\":\"5409b709-7a26-47b3-9b69-75b6f3dae529\",\"type\":\"Line\"},{\"attributes\":{\"source\":{\"id\":\"e1bd4b75-034b-403c-be3e-d606d180bb87\",\"type\":\"ColumnDataSource\"}},\"id\":\"ddd693aa-1e8c-450b-aab6-8d98eae17f0d\",\"type\":\"CDSView\"},{\"attributes\":{\"days\":[1,4,7,10,13,16,19,22,25,28]},\"id\":\"d8c5494b-4c4a-451e-81d3-67e282a7048e\",\"type\":\"DaysTicker\"},{\"attributes\":{\"line_alpha\":0.1,\"line_color\":\"#1f77b4\",\"x\":{\"field\":\"date\"},\"y\":{\"field\":\"total\"}},\"id\":\"d2795982-fdc2-4352-a234-be04292568a6\",\"type\":\"Line\"},{\"attributes\":{\"axis_line_color\":{\"value\":\"white\"},\"formatter\":{\"id\":\"3a32695c-35eb-4188-9ad3-663d71596447\",\"type\":\"BasicTickFormatter\"},\"plot\":{\"id\":\"234ec665-78fe-460e-a709-c91e4def012d\",\"subtype\":\"Figure\",\"type\":\"Plot\"},\"ticker\":{\"id\":\"5ea14eb1-44b0-40ec-b383-5287b637839e\",\"type\":\"BasicTicker\"}},\"id\":\"b0a52a01-eba8-4503-9853-2254749a3fec\",\"type\":\"LinearAxis\"},{\"attributes\":{\"fields\":[]},\"id\":\"6e4c02b2-9de3-41c5-b6d5-314a7fdfbae8\",\"type\":\"Stack\"},{\"attributes\":{},\"id\":\"5ea14eb1-44b0-40ec-b383-5287b637839e\",\"type\":\"BasicTicker\"},{\"attributes\":{\"fields\":[\"core services\",\"core goods\"]},\"id\":\"c3960ad8-3455-4cfb-80c7-b76054e09bf1\",\"type\":\"Stack\"},{\"attributes\":{},\"id\":\"3a32695c-35eb-4188-9ad3-663d71596447\",\"type\":\"BasicTickFormatter\"},{\"attributes\":{\"grid_line_color\":{\"value\":null},\"plot\":{\"id\":\"234ec665-78fe-460e-a709-c91e4def012d\",\"subtype\":\"Figure\",\"type\":\"Plot\"},\"ticker\":{\"id\":\"a499585f-5d34-47c9-a490-aa6efdea892e\",\"type\":\"DatetimeTicker\"}},\"id\":\"623e1901-f34d-4ea8-8ccf-55c646a06aeb\",\"type\":\"Grid\"},{\"attributes\":{},\"id\":\"2e672953-4997-429b-a64b-18eb00add7e4\",\"type\":\"LinearScale\"},{\"attributes\":{\"callback\":null,\"column_names\":[\"core services\",\"core goods\",\"shelter\",\"food & energy\",\"dates\",\"strdate\"],\"data\":{\"core goods\":[-0.16,-0.1,-0.05,-0.04,-0.06,-0.09,-0.1,-0.1,-0.1,-0.14,-0.11,-0.08,-0.02,0,-0.07,-0.1,-0.11,-0.12,-0.12,-0.09,-0.13,-0.11,-0.14,-0.12,-0.05,-0.1,-0.11,-0.12,-0.15,-0.13,-0.12,-0.17,-0.2,-0.19,-0.17,-0.14,-0.13,-0.1],\"core services\":[0,0,0,0,0,0,0,0,0,0,0,0,0,0,0,0,0,0,0,0,0,0,0,0,0,0,0,0,0,0,0,0,0,0,0,0,0,0],\"dates\":[1420070400000.0,1422748800000.0,1425168000000.0,1427846400000.0,1430438400000.0,1433116800000.0,1435708800000.0,1438387200000.0,1441065600000.0,1443657600000.0,1446336000000.0,1448928000000.0,1451606400000.0,1454284800000.0,1456790400000.0,1459468800000.0,1462060800000.0,1464739200000.0,1467331200000.0,1470009600000.0,1472688000000.0,1475280000000.0,1477958400000.0,1480550400000.0,1483228800000.0,1485907200000.0,1488326400000.0,1491004800000.0,1493596800000.0,1496275200000.0,1498867200000.0,1501545600000.0,1504224000000.0,1506816000000.0,1509494400000.0,1512086400000.0,1514764800000.0,1517443200000.0],\"food & energy\":[-1.36,-1.34,-1.44,-1.61,-1.38,-1.25,-1.24,-1.23,-1.52,-1.33,-1.07,-0.91,-0.36,-0.82,-0.88,-0.56,-0.74,-0.76,-0.89,-0.76,-0.27,-0.05,0,0,0,0,0,0,0,0,0,0,0,0,0,0,0,0],\"shelter\":[0,0,0,0,0,0,0,0,0,0,0,0,0,0,0,0,0,0,0,0,0,0,0,0,0,0,0,0,0,0,0,0,0,0,0,0,0,0],\"strdate\":[\"Jan 2015\",\"Feb 2015\",\"Mar 2015\",\"Apr 2015\",\"May 2015\",\"Jun 2015\",\"Jul 2015\",\"Aug 2015\",\"Sep 2015\",\"Oct 2015\",\"Nov 2015\",\"Dec 2015\",\"Jan 2016\",\"Feb 2016\",\"Mar 2016\",\"Apr 2016\",\"May 2016\",\"Jun 2016\",\"Jul 2016\",\"Aug 2016\",\"Sep 2016\",\"Oct 2016\",\"Nov 2016\",\"Dec 2016\",\"Jan 2017\",\"Feb 2017\",\"Mar 2017\",\"Apr 2017\",\"May 2017\",\"Jun 2017\",\"Jul 2017\",\"Aug 2017\",\"Sep 2017\",\"Oct 2017\",\"Nov 2017\",\"Dec 2017\",\"Jan 2018\",\"Feb 2018\"]}},\"id\":\"7f604f20-e562-4fdf-88e8-f60a4fce061f\",\"type\":\"ColumnDataSource\"},{\"attributes\":{\"callback\":null,\"end\":4.0,\"start\":-2.2},\"id\":\"fad05d0c-a03b-4208-9fd5-8c4a484940c9\",\"type\":\"Range1d\"},{\"attributes\":{\"callback\":null,\"mode\":\"vline\",\"renderers\":[{\"id\":\"3e46b04e-747a-4a45-b26c-738e9ce607e8\",\"type\":\"GlyphRenderer\"}],\"show_arrow\":false,\"tooltips\":\"\\n    <div style=\\\"line-height: 110%;\\\">\\n        <span style=\\\"font-size: 11px; font-style: italic;\\\">@strdate:</span><br>\\n        <span style=\\\"font-size: 10px; padding: 0 5px;\\\">CPI Inflation: </span>\\n        <span style=\\\"font-size: 11px; font-weight: bold;\\\">@total{1.1}%</span><br>\\n        <span style=\\\"font-size: 9px; font-style: italic;\\\">Contribution from:</span><br>\\n        <div style=\\\"text-align: right;\\\">\\n            <span style=\\\"font-size: 10px; padding: 0 5px;\\\">Core services: </span>\\n            <span style=\\\"display: inline-block; font-size: 11px; font-weight: bold; min-width: 26px;\\\">@{core services}{1.1}</span>\\n            <span style=\\\"display: inline-block; color: #FFEA00; width: 8px;\\\">\\u25ae</span><br> \\n            <span style=\\\"font-size: 10px; padding: 0 5px;\\\">Core goods: </span>\\n            <span style=\\\"display: inline-block; font-size: 11px; font-weight: bold; min-width: 26px;\\\">@{core goods}{1.1}</span>\\n            <span style=\\\"display: inline-block; color: #00c853; width: 8px;\\\">\\u25ae</span><br>\\n            <span style=\\\"font-size: 10px; padding: 0 5px;\\\">Shelter: </span>\\n            <span style=\\\"display: inline-block; font-size: 11px; font-weight: bold; min-width: 26px;\\\">@shelter{1.1}</span>\\n            <span style=\\\"display: inline-block; color: #80DEEA; width: 8px;\\\">\\u25ae</span><br>\\n            <span style=\\\"font-size: 10px; padding: 0 5px;\\\">Food & Energy: </span>\\n            <span style=\\\"display: inline-block; font-size: 11px; font-weight: bold; min-width: 26px;\\\">@{food & energy}{1.1}</span>\\n            <span style=\\\"display: inline-block; color: #304FFE; width: 8px;\\\">\\u25ae</span><br>\\n        </div>\\n    </div>\\n\"},\"id\":\"7d1006dd-6b54-4380-a71f-3108e32fc580\",\"type\":\"HoverTool\"}],\"root_ids\":[\"234ec665-78fe-460e-a709-c91e4def012d\"]},\"title\":\"Bokeh Application\",\"version\":\"0.12.14\"}};\n",
       "  var render_items = [{\"docid\":\"1e995bae-3da8-4af3-b834-4c025eff2533\",\"elementid\":\"07a034cd-b7d5-4414-a4ed-e31b63ff690d\",\"modelid\":\"234ec665-78fe-460e-a709-c91e4def012d\"}];\n",
       "  root.Bokeh.embed.embed_items_notebook(docs_json, render_items);\n",
       "\n",
       "  }\n",
       "  if (root.Bokeh !== undefined) {\n",
       "    embed_document(root);\n",
       "  } else {\n",
       "    var attempts = 0;\n",
       "    var timer = setInterval(function(root) {\n",
       "      if (root.Bokeh !== undefined) {\n",
       "        embed_document(root);\n",
       "        clearInterval(timer);\n",
       "      }\n",
       "      attempts++;\n",
       "      if (attempts > 100) {\n",
       "        console.log(\"Bokeh: ERROR: Unable to run BokehJS code because BokehJS library is missing\")\n",
       "        clearInterval(timer);\n",
       "      }\n",
       "    }, 10, root)\n",
       "  }\n",
       "})(window);"
      ],
      "application/vnd.bokehjs_exec.v0+json": ""
     },
     "metadata": {
      "application/vnd.bokehjs_exec.v0+json": {
       "id": "234ec665-78fe-460e-a709-c91e4def012d"
      }
     },
     "output_type": "display_data"
    }
   ],
   "source": [
    "# HTML text that shows when hovering\n",
    "tooltips = \"\"\"\n",
    "    <div style=\"line-height: 110%;\">\n",
    "        <span style=\"font-size: 11px; font-style: italic;\">@strdate:</span><br>\n",
    "        <span style=\"font-size: 10px; padding: 0 5px;\">CPI Inflation: </span>\n",
    "        <span style=\"font-size: 11px; font-weight: bold;\">@total{1.1}%</span><br>\n",
    "        <span style=\"font-size: 9px; font-style: italic;\">Contribution from:</span><br>\n",
    "        <div style=\"text-align: right;\">\n",
    "            <span style=\"font-size: 10px; padding: 0 5px;\">Core services: </span>\n",
    "            <span style=\"display: inline-block; font-size: 11px; font-weight: bold; min-width: 26px;\">@{core services}{1.1}</span>\n",
    "            <span style=\"display: inline-block; color: #FFEA00; width: 8px;\">▮</span><br> \n",
    "            <span style=\"font-size: 10px; padding: 0 5px;\">Core goods: </span>\n",
    "            <span style=\"display: inline-block; font-size: 11px; font-weight: bold; min-width: 26px;\">@{core goods}{1.1}</span>\n",
    "            <span style=\"display: inline-block; color: #00c853; width: 8px;\">▮</span><br>\n",
    "            <span style=\"font-size: 10px; padding: 0 5px;\">Shelter: </span>\n",
    "            <span style=\"display: inline-block; font-size: 11px; font-weight: bold; min-width: 26px;\">@shelter{1.1}</span>\n",
    "            <span style=\"display: inline-block; color: #80DEEA; width: 8px;\">▮</span><br>\n",
    "            <span style=\"font-size: 10px; padding: 0 5px;\">Food & Energy: </span>\n",
    "            <span style=\"display: inline-block; font-size: 11px; font-weight: bold; min-width: 26px;\">@{food & energy}{1.1}</span>\n",
    "            <span style=\"display: inline-block; color: #304FFE; width: 8px;\">▮</span><br>\n",
    "        </div>\n",
    "    </div>\n",
    "\"\"\"\n",
    "# Bar width determined by how many bars\n",
    "width = ((d2.index[-1] - d2.index[0]).total_seconds() \n",
    "         * 750.0 / len(d2.index))\n",
    "\n",
    "# horizontal line at zero\n",
    "zero_line = Span(location=0, dimension='width', \n",
    "                 line_color='gray', line_width=1)\n",
    "\n",
    "p = figure(plot_width=700, plot_height=300, \n",
    "           x_axis_type='datetime', \n",
    "           tools=['pan, wheel_zoom, box_zoom, reset'], \n",
    "           logo=None,\n",
    "           toolbar_location=None,  \n",
    "           y_range=Range1d(-2.2, 4.0))\n",
    "p.vbar_stack(col_names, x='dates', width=width, \n",
    "             color=['#FFEA00', '#00c853', '#80DEEA', '#304FFE'], \n",
    "             legend=['Core services', 'Core goods', 'Shelter', 'Food & energy'], \n",
    "             line_alpha=0, source=ColumnDataSource(infl))\n",
    "p.vbar_stack(col_names, x='dates', width=width, \n",
    "             color=['#FFEA00', '#00c853', '#80DEEA', '#304FFE'], \n",
    "             line_alpha=0, source=ColumnDataSource(defl))\n",
    "\n",
    "p.add_layout(zero_line)\n",
    "\n",
    "r1 = p.line('date', 'total', color='white', alpha=0.0, source=ColumnDataSource(d2))\n",
    "\n",
    "p.sizing_mode = 'scale_width'\n",
    "p.xgrid.grid_line_color = None\n",
    "p.outline_line_color = 'white'\n",
    "p.axis.axis_line_color = 'white'\n",
    "p.toolbar.active_drag = None\n",
    "p.legend.orientation = \"horizontal\"\n",
    "p.legend.location = \"top_left\"\n",
    "p.legend.border_line_alpha = 0\n",
    "p.legend.background_fill_alpha = 0\n",
    "p.legend.margin = 2\n",
    "p.legend.padding = 0\n",
    "p.legend.spacing = 5\n",
    "p.legend.label_standoff = 1\n",
    "p.legend.glyph_height = 16\n",
    "p.legend.glyph_width = 8\n",
    "p.legend.label_text_font_size = '8.5pt'\n",
    "\n",
    "p.add_tools(HoverTool(tooltips=tooltips, show_arrow=False, mode='vline',  renderers=[r1]))\n",
    "\n",
    "script, div = components(p)\n",
    "with open('C:/Working/bdecon.github.io/plots/cpi_comp.html', 'w') as text_file:\n",
    "    text_file.write(f'{script} {div}')\n",
    "\n",
    "show(p)"
   ]
  }
 ],
 "metadata": {
  "kernelspec": {
   "display_name": "Python 3",
   "language": "python",
   "name": "python3"
  },
  "language_info": {
   "codemirror_mode": {
    "name": "ipython",
    "version": 3
   },
   "file_extension": ".py",
   "mimetype": "text/x-python",
   "name": "python",
   "nbconvert_exporter": "python",
   "pygments_lexer": "ipython3",
   "version": "3.6.4"
  }
 },
 "nbformat": 4,
 "nbformat_minor": 2
}
