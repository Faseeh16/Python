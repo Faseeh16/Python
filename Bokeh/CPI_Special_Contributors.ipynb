{
 "cells": [
  {
   "cell_type": "markdown",
   "metadata": {
    "ExecuteTime": {
     "end_time": "2018-03-21T16:37:16.108780Z",
     "start_time": "2018-03-21T16:37:16.077537Z"
    }
   },
   "source": [
    "# CPI Special Calculations over time with Python\n",
    "\n",
    "Brian Dew, @bd_econ, Center for Economic and Policy Research\n",
    "\n",
    "May 10, 2018\n",
    "\n",
    "----- \n",
    "Every two years the relative importance of CPI items is updated. I'd like to know how a few special aggregates contribute to inflation (unfortunately not seasonally adjusted), and to do this I need to compensate for the updates. BLS explains how to do this here: https://www.bls.gov/cpi/tables/relative-importance/home.htm\n",
    "\n"
   ]
  },
  {
   "cell_type": "code",
   "execution_count": 1,
   "metadata": {
    "ExecuteTime": {
     "end_time": "2018-05-20T11:23:41.093123Z",
     "start_time": "2018-05-20T11:23:40.643240Z"
    },
    "code_folding": [
     0
    ]
   },
   "outputs": [],
   "source": [
    "# Import preliminaries\n",
    "import pandas as pd\n",
    "import numpy as np\n",
    "import requests\n",
    "import json\n",
    "import config"
   ]
  },
  {
   "cell_type": "markdown",
   "metadata": {},
   "source": [
    "#### Find series ids"
   ]
  },
  {
   "cell_type": "code",
   "execution_count": 2,
   "metadata": {
    "ExecuteTime": {
     "end_time": "2018-05-20T11:23:42.076735Z",
     "start_time": "2018-05-20T11:23:41.094118Z"
    },
    "code_folding": [
     0
    ]
   },
   "outputs": [],
   "source": [
    "# Use BLS Flat Files to find series IDs and series info\n",
    "s_url = 'https://download.bls.gov/pub/time.series/cu/cu.series'\n",
    "s = pd.read_table(s_url, sep='\\t')\n",
    "s2 = s[(s['seasonal'] == 'U') & \n",
    "       (s['base_code'] == 'S') &\n",
    "       (s['area_code'] == '0000') &\n",
    "       (s['periodicity_code'] == 'R')]"
   ]
  },
  {
   "cell_type": "markdown",
   "metadata": {},
   "source": [
    "#### Manually look up the relative importance"
   ]
  },
  {
   "cell_type": "code",
   "execution_count": 3,
   "metadata": {
    "ExecuteTime": {
     "end_time": "2018-05-20T11:23:42.087730Z",
     "start_time": "2018-05-20T11:23:42.077723Z"
    },
    "code_folding": [
     0
    ]
   },
   "outputs": [],
   "source": [
    "# Relative weights for series of interest, from here: \n",
    "# https://www.bls.gov/cpi/tables/relative-importance/home.htm\n",
    "rel_wgt = {'CUUR0000SAF1': [(('2013-12-01', '2015-12-01'), 13.891), \n",
    "                           (('2015-12-01', '2017-12-01'), 14.015), \n",
    "                           (('2017-12-01', '2019-12-01'), 13.384)],\n",
    "           'CUUR0000SA0': [(('2013-12-01', '2015-12-01'), 100.0), \n",
    "                           (('2015-12-01', '2017-12-01'), 100.0), \n",
    "                           (('2017-12-01', '2019-12-01'), 100.0)],\n",
    "           'CUUR0000SA0E': [(('2013-12-01', '2015-12-01'), 9.046), \n",
    "                            (('2015-12-01', '2017-12-01'), 6.816), \n",
    "                            (('2017-12-01', '2019-12-01'), 7.513)],\n",
    "           'CUUR0000SAH1': [(('2013-12-01', '2015-12-01'), 32.029), \n",
    "                            (('2015-12-01', '2017-12-01'), 33.15), \n",
    "                            (('2017-12-01', '2019-12-01'), 32.843)],\n",
    "           'CUUR0000SACL1E': [(('2013-12-01', '2015-12-01'), 19.71), \n",
    "                              (('2015-12-01', '2017-12-01'), 19.613), \n",
    "                              (('2017-12-01', '2019-12-01'), 19.849)],\n",
    "           'CUUR0000SASLE': [(('2013-12-01', '2015-12-01'), 57.353), \n",
    "                             (('2015-12-01', '2017-12-01'), 59.556), \n",
    "                             (('2017-12-01', '2019-12-01'), 59.254)]}"
   ]
  },
  {
   "cell_type": "markdown",
   "metadata": {},
   "source": [
    "#### Location of BLS API and parameters"
   ]
  },
  {
   "cell_type": "code",
   "execution_count": 4,
   "metadata": {
    "ExecuteTime": {
     "end_time": "2018-05-20T11:23:42.098717Z",
     "start_time": "2018-05-20T11:23:42.088720Z"
    },
    "code_folding": [
     0
    ]
   },
   "outputs": [],
   "source": [
    "# API access to Bureau of Labor Statistics data\n",
    "url = 'https://api.bls.gov/publicAPI/v2/timeseries/data/'\n",
    "# API key in config.py which contains: bls_key = 'key'\n",
    "key = '?registrationkey={}'.format(config.bls_key)\n",
    "\n",
    "headers = {'Content-type': 'application/json'}    # Request json fmt\n",
    "param = {\"seriesid\": list(rel_wgt.keys()),           \n",
    "         \"startyear\": \"2013\", \"endyear\": \"2018\"}"
   ]
  },
  {
   "cell_type": "markdown",
   "metadata": {},
   "source": [
    "#### Request data from BLS API "
   ]
  },
  {
   "cell_type": "code",
   "execution_count": 5,
   "metadata": {
    "ExecuteTime": {
     "end_time": "2018-05-20T11:23:42.662922Z",
     "start_time": "2018-05-20T11:23:42.100480Z"
    },
    "code_folding": [
     0
    ]
   },
   "outputs": [
    {
     "name": "stdout",
     "output_type": "stream",
     "text": [
      "Status: REQUEST_SUCCEEDED\n",
      "Latest: January 2018\n"
     ]
    }
   ],
   "source": [
    "# Request all of the series in s\n",
    "p = requests.post(f'{url}{key}', data=json.dumps(param), headers=headers).json()\n",
    "print(f\"Status: {p['status']}\") # Print request status\n",
    "p = p['Results']['series']  # Keep data portion of post results\n",
    "\n",
    "# Use first series to get the datetime values\n",
    "idx = pd.to_datetime([f\"{i['period']} {i['year']}\" for i in p[0]['data']])\n",
    "print(f'Latest: {idx[0]:%B %Y}') # Print latest value"
   ]
  },
  {
   "cell_type": "markdown",
   "metadata": {},
   "source": [
    "#### Store date and value for each series"
   ]
  },
  {
   "cell_type": "code",
   "execution_count": 6,
   "metadata": {
    "ExecuteTime": {
     "end_time": "2018-05-20T11:23:42.685905Z",
     "start_time": "2018-05-20T11:23:42.663912Z"
    },
    "code_folding": [
     0
    ]
   },
   "outputs": [],
   "source": [
    "# Convert API data to datetime date and float value\n",
    "data = {i['seriesID']: \n",
    "        [(pd.to_datetime(f'{r[\"year\"]}-{r[\"period\"][1:]}-01'), float(r['value'])) \n",
    "         for r in i['data']] for i in p}"
   ]
  },
  {
   "cell_type": "markdown",
   "metadata": {},
   "source": [
    "#### Store all the above in dictionary"
   ]
  },
  {
   "cell_type": "code",
   "execution_count": 7,
   "metadata": {
    "ExecuteTime": {
     "end_time": "2018-05-20T11:23:42.706901Z",
     "start_time": "2018-05-20T11:23:42.686905Z"
    },
    "code_folding": [
     0
    ]
   },
   "outputs": [],
   "source": [
    "# Dictionary combining all the info for each series\n",
    "d = {i: {'name': s2[s2['series_id'].str.strip() == i]['series_title'].values[0],\n",
    "         'values': data[i],\n",
    "         'rel_wgt': rel_wgt[i]} for i in list(rel_wgt.keys())}"
   ]
  },
  {
   "cell_type": "markdown",
   "metadata": {},
   "source": [
    "#### Adjust for changes to relative importance"
   ]
  },
  {
   "cell_type": "code",
   "execution_count": 8,
   "metadata": {
    "ExecuteTime": {
     "end_time": "2018-05-20T11:23:42.858769Z",
     "start_time": "2018-05-20T11:23:42.708898Z"
    },
    "code_folding": [
     0
    ]
   },
   "outputs": [],
   "source": [
    "# Adjust for changes to relative importance\n",
    "df1, df2, df3 = pd.DataFrame(), pd.DataFrame(), pd.DataFrame()\n",
    "for i, v in d.items():\n",
    "    start, end = v['rel_wgt'][0][0][0], v['rel_wgt'][0][0][1]\n",
    "    rwc, rwn = v['rel_wgt'][0][1], v['rel_wgt'][1][1]\n",
    "    df1.at[start: end, i] = (pd.DataFrame(v['values'])\n",
    "        .iloc[::-1].set_index(0).loc[start: end][1])\n",
    "    df1[i] = (df1[i].diff().cumsum() / df1.loc[start, i] + 1)\n",
    "    df1.at[start, i] = 1.0\n",
    "    df1[i] = (df1[i] * rwc)\n",
    "    link = (df1.loc[end, i] / rwn)\n",
    "    # Next set of dates\n",
    "    start, end = v['rel_wgt'][1][0][0], v['rel_wgt'][1][0][1]\n",
    "    rwc, rwn = v['rel_wgt'][1][1], v['rel_wgt'][2][1]\n",
    "    df2[i] = (pd.DataFrame(v['values'])\n",
    "        .iloc[::-1].set_index(0).loc[start: end][1])\n",
    "    df2[i] = df2[i].diff().cumsum() / df2.loc[start, i] + 1\n",
    "    df2.at[start, i] = 1.0\n",
    "    #df1.at[start: end, i] = (df1.loc[start: end, i] * rwc)\n",
    "    df2[i] = (df2[i] * rwc) * link\n",
    "    link = (df2.loc[end, i] / rwn)\n",
    "    # Next set of dates\n",
    "    start, end = v['rel_wgt'][2][0][0], v['rel_wgt'][2][0][1]\n",
    "    rwc = v['rel_wgt'][2][1]\n",
    "    df3[i] = (pd.DataFrame(v['values'])\n",
    "        .iloc[::-1].set_index(0).loc[start: end][1])\n",
    "    df3[i] = df3[i].diff().cumsum() / df3.loc[start, i] + 1\n",
    "    df3.at[start, i] = 1.0\n",
    "    df3[i] = (df3[i] * rwc) * link"
   ]
  },
  {
   "cell_type": "markdown",
   "metadata": {},
   "source": [
    "#### Calculate contribution to total"
   ]
  },
  {
   "cell_type": "code",
   "execution_count": 9,
   "metadata": {
    "ExecuteTime": {
     "end_time": "2018-05-20T11:23:42.904781Z",
     "start_time": "2018-05-20T11:23:42.859768Z"
    },
    "code_folding": [
     0
    ]
   },
   "outputs": [],
   "source": [
    "# Calculate exactly what I want to show\n",
    "final = pd.concat([df1, df2, df3])  # Combine the various relative importance dfs\n",
    "final = final[~final.index.duplicated(keep='first')].diff(12) # Drop duplicate pivot year data\n",
    "# Core services is services less food, energy, and shelter\n",
    "final['core_services'] = final['CUUR0000SASLE'] - final['CUUR0000SAH1']\n",
    "# Combine food and energy\n",
    "final['food_energy'] = final['CUUR0000SAF1'] + final['CUUR0000SA0E']\n",
    "final = final.dropna().round(2)\n",
    "d2 = final[['core_services', 'CUUR0000SACL1E', 'CUUR0000SAH1', 'food_energy']].loc['2015-01-01':]\n",
    "# Rename columns\n",
    "col_names = ['core services', 'core goods', 'shelter', 'food & energy']\n",
    "d2.columns = col_names\n",
    "d2['total'] = final['CUUR0000SA0'].loc['2015-01-01':]\n",
    "d2['strdate'] = d2.index.strftime('%B %Y')\n",
    "d2['date'] = d2.index"
   ]
  },
  {
   "cell_type": "markdown",
   "metadata": {},
   "source": [
    "#### Bokeh requires separate positive and negative values\n",
    "\n",
    "This seems to be a quirk with the stacked bar chart, explained here: https://bokeh.pydata.org/en/latest/docs/user_guide/categorical.html#stacked. Still worth trying to get it to work without the split."
   ]
  },
  {
   "cell_type": "code",
   "execution_count": 10,
   "metadata": {
    "ExecuteTime": {
     "end_time": "2018-05-20T11:23:42.912764Z",
     "start_time": "2018-05-20T11:23:42.905775Z"
    },
    "code_folding": [
     0
    ]
   },
   "outputs": [],
   "source": [
    "# Split positive and negative values\n",
    "infl = {i :[n if n > -0.0001 else 0 for n in list(d2[i])] for i in col_names}\n",
    "infl['dates'] = list(d2.index)\n",
    "infl['strdate'] = d2.index.strftime('%b %Y')\n",
    "defl = {i :[n  if n < -0.0001 else 0 for n in list(d2[i])] for i in col_names}\n",
    "defl['dates'] = list(d2.index)\n",
    "defl['strdate'] = d2.index.strftime('%b %Y')"
   ]
  },
  {
   "cell_type": "markdown",
   "metadata": {},
   "source": [
    "#### Bokeh settings"
   ]
  },
  {
   "cell_type": "code",
   "execution_count": 11,
   "metadata": {
    "ExecuteTime": {
     "end_time": "2018-05-20T11:23:43.480596Z",
     "start_time": "2018-05-20T11:23:42.913763Z"
    },
    "code_folding": [
     0
    ]
   },
   "outputs": [
    {
     "data": {
      "text/html": [
       "\n",
       "    <div class=\"bk-root\">\n",
       "        <a href=\"https://bokeh.pydata.org\" target=\"_blank\" class=\"bk-logo bk-logo-small bk-logo-notebook\"></a>\n",
       "        <span id=\"7a8d2a6e-7e63-4c22-b024-2d061ac79178\">Loading BokehJS ...</span>\n",
       "    </div>"
      ]
     },
     "metadata": {},
     "output_type": "display_data"
    },
    {
     "data": {
      "application/javascript": [
       "\n",
       "(function(root) {\n",
       "  function now() {\n",
       "    return new Date();\n",
       "  }\n",
       "\n",
       "  var force = true;\n",
       "\n",
       "  if (typeof (root._bokeh_onload_callbacks) === \"undefined\" || force === true) {\n",
       "    root._bokeh_onload_callbacks = [];\n",
       "    root._bokeh_is_loading = undefined;\n",
       "  }\n",
       "\n",
       "  var JS_MIME_TYPE = 'application/javascript';\n",
       "  var HTML_MIME_TYPE = 'text/html';\n",
       "  var EXEC_MIME_TYPE = 'application/vnd.bokehjs_exec.v0+json';\n",
       "  var CLASS_NAME = 'output_bokeh rendered_html';\n",
       "\n",
       "  /**\n",
       "   * Render data to the DOM node\n",
       "   */\n",
       "  function render(props, node) {\n",
       "    var script = document.createElement(\"script\");\n",
       "    node.appendChild(script);\n",
       "  }\n",
       "\n",
       "  /**\n",
       "   * Handle when an output is cleared or removed\n",
       "   */\n",
       "  function handleClearOutput(event, handle) {\n",
       "    var cell = handle.cell;\n",
       "\n",
       "    var id = cell.output_area._bokeh_element_id;\n",
       "    var server_id = cell.output_area._bokeh_server_id;\n",
       "    // Clean up Bokeh references\n",
       "    if (id !== undefined) {\n",
       "      Bokeh.index[id].model.document.clear();\n",
       "      delete Bokeh.index[id];\n",
       "    }\n",
       "\n",
       "    if (server_id !== undefined) {\n",
       "      // Clean up Bokeh references\n",
       "      var cmd = \"from bokeh.io.state import curstate; print(curstate().uuid_to_server['\" + server_id + \"'].get_sessions()[0].document.roots[0]._id)\";\n",
       "      cell.notebook.kernel.execute(cmd, {\n",
       "        iopub: {\n",
       "          output: function(msg) {\n",
       "            var element_id = msg.content.text.trim();\n",
       "            Bokeh.index[element_id].model.document.clear();\n",
       "            delete Bokeh.index[element_id];\n",
       "          }\n",
       "        }\n",
       "      });\n",
       "      // Destroy server and session\n",
       "      var cmd = \"import bokeh.io.notebook as ion; ion.destroy_server('\" + server_id + \"')\";\n",
       "      cell.notebook.kernel.execute(cmd);\n",
       "    }\n",
       "  }\n",
       "\n",
       "  /**\n",
       "   * Handle when a new output is added\n",
       "   */\n",
       "  function handleAddOutput(event, handle) {\n",
       "    var output_area = handle.output_area;\n",
       "    var output = handle.output;\n",
       "\n",
       "    // limit handleAddOutput to display_data with EXEC_MIME_TYPE content only\n",
       "    if ((output.output_type != \"display_data\") || (!output.data.hasOwnProperty(EXEC_MIME_TYPE))) {\n",
       "      return\n",
       "    }\n",
       "\n",
       "    var toinsert = output_area.element.find(\".\" + CLASS_NAME.split(' ')[0]);\n",
       "\n",
       "    if (output.metadata[EXEC_MIME_TYPE][\"id\"] !== undefined) {\n",
       "      toinsert[toinsert.length - 1].firstChild.textContent = output.data[JS_MIME_TYPE];\n",
       "      // store reference to embed id on output_area\n",
       "      output_area._bokeh_element_id = output.metadata[EXEC_MIME_TYPE][\"id\"];\n",
       "    }\n",
       "    if (output.metadata[EXEC_MIME_TYPE][\"server_id\"] !== undefined) {\n",
       "      var bk_div = document.createElement(\"div\");\n",
       "      bk_div.innerHTML = output.data[HTML_MIME_TYPE];\n",
       "      var script_attrs = bk_div.children[0].attributes;\n",
       "      for (var i = 0; i < script_attrs.length; i++) {\n",
       "        toinsert[toinsert.length - 1].firstChild.setAttribute(script_attrs[i].name, script_attrs[i].value);\n",
       "      }\n",
       "      // store reference to server id on output_area\n",
       "      output_area._bokeh_server_id = output.metadata[EXEC_MIME_TYPE][\"server_id\"];\n",
       "    }\n",
       "  }\n",
       "\n",
       "  function register_renderer(events, OutputArea) {\n",
       "\n",
       "    function append_mime(data, metadata, element) {\n",
       "      // create a DOM node to render to\n",
       "      var toinsert = this.create_output_subarea(\n",
       "        metadata,\n",
       "        CLASS_NAME,\n",
       "        EXEC_MIME_TYPE\n",
       "      );\n",
       "      this.keyboard_manager.register_events(toinsert);\n",
       "      // Render to node\n",
       "      var props = {data: data, metadata: metadata[EXEC_MIME_TYPE]};\n",
       "      render(props, toinsert[toinsert.length - 1]);\n",
       "      element.append(toinsert);\n",
       "      return toinsert\n",
       "    }\n",
       "\n",
       "    /* Handle when an output is cleared or removed */\n",
       "    events.on('clear_output.CodeCell', handleClearOutput);\n",
       "    events.on('delete.Cell', handleClearOutput);\n",
       "\n",
       "    /* Handle when a new output is added */\n",
       "    events.on('output_added.OutputArea', handleAddOutput);\n",
       "\n",
       "    /**\n",
       "     * Register the mime type and append_mime function with output_area\n",
       "     */\n",
       "    OutputArea.prototype.register_mime_type(EXEC_MIME_TYPE, append_mime, {\n",
       "      /* Is output safe? */\n",
       "      safe: true,\n",
       "      /* Index of renderer in `output_area.display_order` */\n",
       "      index: 0\n",
       "    });\n",
       "  }\n",
       "\n",
       "  // register the mime type if in Jupyter Notebook environment and previously unregistered\n",
       "  if (root.Jupyter !== undefined) {\n",
       "    var events = require('base/js/events');\n",
       "    var OutputArea = require('notebook/js/outputarea').OutputArea;\n",
       "\n",
       "    if (OutputArea.prototype.mime_types().indexOf(EXEC_MIME_TYPE) == -1) {\n",
       "      register_renderer(events, OutputArea);\n",
       "    }\n",
       "  }\n",
       "\n",
       "  \n",
       "  if (typeof (root._bokeh_timeout) === \"undefined\" || force === true) {\n",
       "    root._bokeh_timeout = Date.now() + 5000;\n",
       "    root._bokeh_failed_load = false;\n",
       "  }\n",
       "\n",
       "  var NB_LOAD_WARNING = {'data': {'text/html':\n",
       "     \"<div style='background-color: #fdd'>\\n\"+\n",
       "     \"<p>\\n\"+\n",
       "     \"BokehJS does not appear to have successfully loaded. If loading BokehJS from CDN, this \\n\"+\n",
       "     \"may be due to a slow or bad network connection. Possible fixes:\\n\"+\n",
       "     \"</p>\\n\"+\n",
       "     \"<ul>\\n\"+\n",
       "     \"<li>re-rerun `output_notebook()` to attempt to load from CDN again, or</li>\\n\"+\n",
       "     \"<li>use INLINE resources instead, as so:</li>\\n\"+\n",
       "     \"</ul>\\n\"+\n",
       "     \"<code>\\n\"+\n",
       "     \"from bokeh.resources import INLINE\\n\"+\n",
       "     \"output_notebook(resources=INLINE)\\n\"+\n",
       "     \"</code>\\n\"+\n",
       "     \"</div>\"}};\n",
       "\n",
       "  function display_loaded() {\n",
       "    var el = document.getElementById(\"7a8d2a6e-7e63-4c22-b024-2d061ac79178\");\n",
       "    if (el != null) {\n",
       "      el.textContent = \"BokehJS is loading...\";\n",
       "    }\n",
       "    if (root.Bokeh !== undefined) {\n",
       "      if (el != null) {\n",
       "        el.textContent = \"BokehJS \" + root.Bokeh.version + \" successfully loaded.\";\n",
       "      }\n",
       "    } else if (Date.now() < root._bokeh_timeout) {\n",
       "      setTimeout(display_loaded, 100)\n",
       "    }\n",
       "  }\n",
       "\n",
       "\n",
       "  function run_callbacks() {\n",
       "    try {\n",
       "      root._bokeh_onload_callbacks.forEach(function(callback) { callback() });\n",
       "    }\n",
       "    finally {\n",
       "      delete root._bokeh_onload_callbacks\n",
       "    }\n",
       "    console.info(\"Bokeh: all callbacks have finished\");\n",
       "  }\n",
       "\n",
       "  function load_libs(js_urls, callback) {\n",
       "    root._bokeh_onload_callbacks.push(callback);\n",
       "    if (root._bokeh_is_loading > 0) {\n",
       "      console.log(\"Bokeh: BokehJS is being loaded, scheduling callback at\", now());\n",
       "      return null;\n",
       "    }\n",
       "    if (js_urls == null || js_urls.length === 0) {\n",
       "      run_callbacks();\n",
       "      return null;\n",
       "    }\n",
       "    console.log(\"Bokeh: BokehJS not loaded, scheduling load and callback at\", now());\n",
       "    root._bokeh_is_loading = js_urls.length;\n",
       "    for (var i = 0; i < js_urls.length; i++) {\n",
       "      var url = js_urls[i];\n",
       "      var s = document.createElement('script');\n",
       "      s.src = url;\n",
       "      s.async = false;\n",
       "      s.onreadystatechange = s.onload = function() {\n",
       "        root._bokeh_is_loading--;\n",
       "        if (root._bokeh_is_loading === 0) {\n",
       "          console.log(\"Bokeh: all BokehJS libraries loaded\");\n",
       "          run_callbacks()\n",
       "        }\n",
       "      };\n",
       "      s.onerror = function() {\n",
       "        console.warn(\"failed to load library \" + url);\n",
       "      };\n",
       "      console.log(\"Bokeh: injecting script tag for BokehJS library: \", url);\n",
       "      document.getElementsByTagName(\"head\")[0].appendChild(s);\n",
       "    }\n",
       "  };var element = document.getElementById(\"7a8d2a6e-7e63-4c22-b024-2d061ac79178\");\n",
       "  if (element == null) {\n",
       "    console.log(\"Bokeh: ERROR: autoload.js configured with elementid '7a8d2a6e-7e63-4c22-b024-2d061ac79178' but no matching script tag was found. \")\n",
       "    return false;\n",
       "  }\n",
       "\n",
       "  var js_urls = [\"https://cdn.pydata.org/bokeh/release/bokeh-0.12.16.min.js\", \"https://cdn.pydata.org/bokeh/release/bokeh-widgets-0.12.16.min.js\", \"https://cdn.pydata.org/bokeh/release/bokeh-tables-0.12.16.min.js\", \"https://cdn.pydata.org/bokeh/release/bokeh-gl-0.12.16.min.js\"];\n",
       "\n",
       "  var inline_js = [\n",
       "    function(Bokeh) {\n",
       "      Bokeh.set_log_level(\"info\");\n",
       "    },\n",
       "    \n",
       "    function(Bokeh) {\n",
       "      \n",
       "    },\n",
       "    function(Bokeh) {\n",
       "      console.log(\"Bokeh: injecting CSS: https://cdn.pydata.org/bokeh/release/bokeh-0.12.16.min.css\");\n",
       "      Bokeh.embed.inject_css(\"https://cdn.pydata.org/bokeh/release/bokeh-0.12.16.min.css\");\n",
       "      console.log(\"Bokeh: injecting CSS: https://cdn.pydata.org/bokeh/release/bokeh-widgets-0.12.16.min.css\");\n",
       "      Bokeh.embed.inject_css(\"https://cdn.pydata.org/bokeh/release/bokeh-widgets-0.12.16.min.css\");\n",
       "      console.log(\"Bokeh: injecting CSS: https://cdn.pydata.org/bokeh/release/bokeh-tables-0.12.16.min.css\");\n",
       "      Bokeh.embed.inject_css(\"https://cdn.pydata.org/bokeh/release/bokeh-tables-0.12.16.min.css\");\n",
       "    }\n",
       "  ];\n",
       "\n",
       "  function run_inline_js() {\n",
       "    \n",
       "    if ((root.Bokeh !== undefined) || (force === true)) {\n",
       "      for (var i = 0; i < inline_js.length; i++) {\n",
       "        inline_js[i].call(root, root.Bokeh);\n",
       "      }if (force === true) {\n",
       "        display_loaded();\n",
       "      }} else if (Date.now() < root._bokeh_timeout) {\n",
       "      setTimeout(run_inline_js, 100);\n",
       "    } else if (!root._bokeh_failed_load) {\n",
       "      console.log(\"Bokeh: BokehJS failed to load within specified timeout.\");\n",
       "      root._bokeh_failed_load = true;\n",
       "    } else if (force !== true) {\n",
       "      var cell = $(document.getElementById(\"7a8d2a6e-7e63-4c22-b024-2d061ac79178\")).parents('.cell').data().cell;\n",
       "      cell.output_area.append_execute_result(NB_LOAD_WARNING)\n",
       "    }\n",
       "\n",
       "  }\n",
       "\n",
       "  if (root._bokeh_is_loading === 0) {\n",
       "    console.log(\"Bokeh: BokehJS loaded, going straight to plotting\");\n",
       "    run_inline_js();\n",
       "  } else {\n",
       "    load_libs(js_urls, function() {\n",
       "      console.log(\"Bokeh: BokehJS plotting callback run at\", now());\n",
       "      run_inline_js();\n",
       "    });\n",
       "  }\n",
       "}(window));"
      ],
      "application/vnd.bokehjs_load.v0+json": "\n(function(root) {\n  function now() {\n    return new Date();\n  }\n\n  var force = true;\n\n  if (typeof (root._bokeh_onload_callbacks) === \"undefined\" || force === true) {\n    root._bokeh_onload_callbacks = [];\n    root._bokeh_is_loading = undefined;\n  }\n\n  \n\n  \n  if (typeof (root._bokeh_timeout) === \"undefined\" || force === true) {\n    root._bokeh_timeout = Date.now() + 5000;\n    root._bokeh_failed_load = false;\n  }\n\n  var NB_LOAD_WARNING = {'data': {'text/html':\n     \"<div style='background-color: #fdd'>\\n\"+\n     \"<p>\\n\"+\n     \"BokehJS does not appear to have successfully loaded. If loading BokehJS from CDN, this \\n\"+\n     \"may be due to a slow or bad network connection. Possible fixes:\\n\"+\n     \"</p>\\n\"+\n     \"<ul>\\n\"+\n     \"<li>re-rerun `output_notebook()` to attempt to load from CDN again, or</li>\\n\"+\n     \"<li>use INLINE resources instead, as so:</li>\\n\"+\n     \"</ul>\\n\"+\n     \"<code>\\n\"+\n     \"from bokeh.resources import INLINE\\n\"+\n     \"output_notebook(resources=INLINE)\\n\"+\n     \"</code>\\n\"+\n     \"</div>\"}};\n\n  function display_loaded() {\n    var el = document.getElementById(\"7a8d2a6e-7e63-4c22-b024-2d061ac79178\");\n    if (el != null) {\n      el.textContent = \"BokehJS is loading...\";\n    }\n    if (root.Bokeh !== undefined) {\n      if (el != null) {\n        el.textContent = \"BokehJS \" + root.Bokeh.version + \" successfully loaded.\";\n      }\n    } else if (Date.now() < root._bokeh_timeout) {\n      setTimeout(display_loaded, 100)\n    }\n  }\n\n\n  function run_callbacks() {\n    try {\n      root._bokeh_onload_callbacks.forEach(function(callback) { callback() });\n    }\n    finally {\n      delete root._bokeh_onload_callbacks\n    }\n    console.info(\"Bokeh: all callbacks have finished\");\n  }\n\n  function load_libs(js_urls, callback) {\n    root._bokeh_onload_callbacks.push(callback);\n    if (root._bokeh_is_loading > 0) {\n      console.log(\"Bokeh: BokehJS is being loaded, scheduling callback at\", now());\n      return null;\n    }\n    if (js_urls == null || js_urls.length === 0) {\n      run_callbacks();\n      return null;\n    }\n    console.log(\"Bokeh: BokehJS not loaded, scheduling load and callback at\", now());\n    root._bokeh_is_loading = js_urls.length;\n    for (var i = 0; i < js_urls.length; i++) {\n      var url = js_urls[i];\n      var s = document.createElement('script');\n      s.src = url;\n      s.async = false;\n      s.onreadystatechange = s.onload = function() {\n        root._bokeh_is_loading--;\n        if (root._bokeh_is_loading === 0) {\n          console.log(\"Bokeh: all BokehJS libraries loaded\");\n          run_callbacks()\n        }\n      };\n      s.onerror = function() {\n        console.warn(\"failed to load library \" + url);\n      };\n      console.log(\"Bokeh: injecting script tag for BokehJS library: \", url);\n      document.getElementsByTagName(\"head\")[0].appendChild(s);\n    }\n  };var element = document.getElementById(\"7a8d2a6e-7e63-4c22-b024-2d061ac79178\");\n  if (element == null) {\n    console.log(\"Bokeh: ERROR: autoload.js configured with elementid '7a8d2a6e-7e63-4c22-b024-2d061ac79178' but no matching script tag was found. \")\n    return false;\n  }\n\n  var js_urls = [\"https://cdn.pydata.org/bokeh/release/bokeh-0.12.16.min.js\", \"https://cdn.pydata.org/bokeh/release/bokeh-widgets-0.12.16.min.js\", \"https://cdn.pydata.org/bokeh/release/bokeh-tables-0.12.16.min.js\", \"https://cdn.pydata.org/bokeh/release/bokeh-gl-0.12.16.min.js\"];\n\n  var inline_js = [\n    function(Bokeh) {\n      Bokeh.set_log_level(\"info\");\n    },\n    \n    function(Bokeh) {\n      \n    },\n    function(Bokeh) {\n      console.log(\"Bokeh: injecting CSS: https://cdn.pydata.org/bokeh/release/bokeh-0.12.16.min.css\");\n      Bokeh.embed.inject_css(\"https://cdn.pydata.org/bokeh/release/bokeh-0.12.16.min.css\");\n      console.log(\"Bokeh: injecting CSS: https://cdn.pydata.org/bokeh/release/bokeh-widgets-0.12.16.min.css\");\n      Bokeh.embed.inject_css(\"https://cdn.pydata.org/bokeh/release/bokeh-widgets-0.12.16.min.css\");\n      console.log(\"Bokeh: injecting CSS: https://cdn.pydata.org/bokeh/release/bokeh-tables-0.12.16.min.css\");\n      Bokeh.embed.inject_css(\"https://cdn.pydata.org/bokeh/release/bokeh-tables-0.12.16.min.css\");\n    }\n  ];\n\n  function run_inline_js() {\n    \n    if ((root.Bokeh !== undefined) || (force === true)) {\n      for (var i = 0; i < inline_js.length; i++) {\n        inline_js[i].call(root, root.Bokeh);\n      }if (force === true) {\n        display_loaded();\n      }} else if (Date.now() < root._bokeh_timeout) {\n      setTimeout(run_inline_js, 100);\n    } else if (!root._bokeh_failed_load) {\n      console.log(\"Bokeh: BokehJS failed to load within specified timeout.\");\n      root._bokeh_failed_load = true;\n    } else if (force !== true) {\n      var cell = $(document.getElementById(\"7a8d2a6e-7e63-4c22-b024-2d061ac79178\")).parents('.cell').data().cell;\n      cell.output_area.append_execute_result(NB_LOAD_WARNING)\n    }\n\n  }\n\n  if (root._bokeh_is_loading === 0) {\n    console.log(\"Bokeh: BokehJS loaded, going straight to plotting\");\n    run_inline_js();\n  } else {\n    load_libs(js_urls, function() {\n      console.log(\"Bokeh: BokehJS plotting callback run at\", now());\n      run_inline_js();\n    });\n  }\n}(window));"
     },
     "metadata": {},
     "output_type": "display_data"
    }
   ],
   "source": [
    "# Bokeh settings\n",
    "from bokeh.plotting import figure, show\n",
    "import bokeh.models\n",
    "import bokeh.plotting\n",
    "from bokeh.models import ColumnDataSource, Span, Label, HoverTool, Range1d, CDSView\n",
    "from bokeh.embed import components\n",
    "from bokeh.io import output_notebook\n",
    "output_notebook()"
   ]
  },
  {
   "cell_type": "markdown",
   "metadata": {},
   "source": [
    "#### Plot in bokeh\n",
    "\n",
    "To get the hover to show up, I added a hidden line that shows the all-items CPI and set the hover to show up when the cursor location has the same x value as the line. The problem is that the first and last bars only allow hover on their inner portions. "
   ]
  },
  {
   "cell_type": "code",
   "execution_count": 12,
   "metadata": {
    "ExecuteTime": {
     "end_time": "2018-05-20T11:23:43.655540Z",
     "start_time": "2018-05-20T11:23:43.481596Z"
    },
    "code_folding": [
     0
    ],
    "scrolled": false
   },
   "outputs": [
    {
     "data": {
      "text/html": [
       "\n",
       "<div class=\"bk-root\">\n",
       "    <div class=\"bk-plotdiv\" id=\"22ccdf9e-d649-4c1f-90a9-cc205c854d12\"></div>\n",
       "</div>"
      ]
     },
     "metadata": {},
     "output_type": "display_data"
    },
    {
     "data": {
      "application/javascript": [
       "(function(root) {\n",
       "  function embed_document(root) {\n",
       "    \n",
       "  var docs_json = {\"b84fa1dd-cb11-49ee-b610-25c7fa8915f7\":{\"roots\":{\"references\":[{\"attributes\":{\"callback\":null,\"data\":{\"core goods\":[0,0,0,0,0,0,0,0,0,0,0,0,0,0.01,0,0,0,0,0,0,0,0,0,0,0,0,0,0,0,0,0,0,0,0,0,0,0,0,0,0],\"core services\":[0.49,0.45,0.45,0.47,0.46,0.48,0.49,0.51,0.54,0.59,0.64,0.66,0.68,0.73,0.74,0.73,0.76,0.76,0.76,0.8,0.73,0.64,0.63,0.65,0.67,0.69,0.56,0.47,0.41,0.39,0.41,0.4,0.46,0.52,0.47,0.47,0.5,0.51,0.63,0.64],\"dates\":[1420070400000.0,1422748800000.0,1425168000000.0,1427846400000.0,1430438400000.0,1433116800000.0,1435708800000.0,1438387200000.0,1441065600000.0,1443657600000.0,1446336000000.0,1448928000000.0,1451606400000.0,1454284800000.0,1456790400000.0,1459468800000.0,1462060800000.0,1464739200000.0,1467331200000.0,1470009600000.0,1472688000000.0,1475280000000.0,1477958400000.0,1480550400000.0,1483228800000.0,1485907200000.0,1488326400000.0,1491004800000.0,1493596800000.0,1496275200000.0,1498867200000.0,1501545600000.0,1504224000000.0,1506816000000.0,1509494400000.0,1512086400000.0,1514764800000.0,1517443200000.0,1519862400000.0,1522540800000.0],\"food & energy\":[0,0,0,0,0,0,0,0,0,0,0,0,0,0,0,0,0,0,0,0,0,0,0.03,0.35,0.73,1.01,0.82,0.74,0.53,0.3,0.41,0.64,0.95,0.67,0.89,0.74,0.67,0.79,0.73,0.82],\"shelter\":[0.94,0.96,0.96,0.97,0.94,0.98,1.02,1.01,1.04,1.05,1.05,1.06,1.07,1.09,1.06,1.07,1.13,1.16,1.11,1.15,1.16,1.19,1.21,1.23,1.21,1.21,1.19,1.19,1.15,1.13,1.1,1.15,1.13,1.14,1.11,1.13,1.13,1.11,1.18,1.21],\"strdate\":[\"Jan 2015\",\"Feb 2015\",\"Mar 2015\",\"Apr 2015\",\"May 2015\",\"Jun 2015\",\"Jul 2015\",\"Aug 2015\",\"Sep 2015\",\"Oct 2015\",\"Nov 2015\",\"Dec 2015\",\"Jan 2016\",\"Feb 2016\",\"Mar 2016\",\"Apr 2016\",\"May 2016\",\"Jun 2016\",\"Jul 2016\",\"Aug 2016\",\"Sep 2016\",\"Oct 2016\",\"Nov 2016\",\"Dec 2016\",\"Jan 2017\",\"Feb 2017\",\"Mar 2017\",\"Apr 2017\",\"May 2017\",\"Jun 2017\",\"Jul 2017\",\"Aug 2017\",\"Sep 2017\",\"Oct 2017\",\"Nov 2017\",\"Dec 2017\",\"Jan 2018\",\"Feb 2018\",\"Mar 2018\",\"Apr 2018\"]},\"selected\":{\"id\":\"46370b36-d00e-43a1-b3f4-384867adc8bb\",\"type\":\"Selection\"},\"selection_policy\":{\"id\":\"c5451b30-9ac5-45f2-9d26-d5f186bfc615\",\"type\":\"UnionRenderers\"}},\"id\":\"f8c08198-0458-44a9-afce-c05ff514e662\",\"type\":\"ColumnDataSource\"},{\"attributes\":{\"plot\":null,\"text\":\"\"},\"id\":\"c28959ed-9fd0-4544-8f83-d5d13748100b\",\"type\":\"Title\"},{\"attributes\":{\"callback\":null,\"data\":{\"core goods\":[-0.16,-0.1,-0.05,-0.04,-0.06,-0.09,-0.1,-0.1,-0.1,-0.14,-0.11,-0.08,-0.02,0,-0.07,-0.1,-0.11,-0.12,-0.12,-0.09,-0.13,-0.11,-0.14,-0.12,-0.05,-0.1,-0.11,-0.12,-0.15,-0.13,-0.12,-0.17,-0.2,-0.19,-0.17,-0.14,-0.13,-0.1,-0.06,-0.07],\"core services\":[0,0,0,0,0,0,0,0,0,0,0,0,0,0,0,0,0,0,0,0,0,0,0,0,0,0,0,0,0,0,0,0,0,0,0,0,0,0,0,0],\"dates\":[1420070400000.0,1422748800000.0,1425168000000.0,1427846400000.0,1430438400000.0,1433116800000.0,1435708800000.0,1438387200000.0,1441065600000.0,1443657600000.0,1446336000000.0,1448928000000.0,1451606400000.0,1454284800000.0,1456790400000.0,1459468800000.0,1462060800000.0,1464739200000.0,1467331200000.0,1470009600000.0,1472688000000.0,1475280000000.0,1477958400000.0,1480550400000.0,1483228800000.0,1485907200000.0,1488326400000.0,1491004800000.0,1493596800000.0,1496275200000.0,1498867200000.0,1501545600000.0,1504224000000.0,1506816000000.0,1509494400000.0,1512086400000.0,1514764800000.0,1517443200000.0,1519862400000.0,1522540800000.0],\"food & energy\":[-1.36,-1.34,-1.44,-1.61,-1.38,-1.25,-1.24,-1.23,-1.52,-1.33,-1.07,-0.91,-0.36,-0.82,-0.88,-0.56,-0.74,-0.76,-0.89,-0.76,-0.27,-0.05,0,0,0,0,0,0,0,0,0,0,0,0,0,0,0,0,0,0],\"shelter\":[0,0,0,0,0,0,0,0,0,0,0,0,0,0,0,0,0,0,0,0,0,0,0,0,0,0,0,0,0,0,0,0,0,0,0,0,0,0,0,0],\"strdate\":[\"Jan 2015\",\"Feb 2015\",\"Mar 2015\",\"Apr 2015\",\"May 2015\",\"Jun 2015\",\"Jul 2015\",\"Aug 2015\",\"Sep 2015\",\"Oct 2015\",\"Nov 2015\",\"Dec 2015\",\"Jan 2016\",\"Feb 2016\",\"Mar 2016\",\"Apr 2016\",\"May 2016\",\"Jun 2016\",\"Jul 2016\",\"Aug 2016\",\"Sep 2016\",\"Oct 2016\",\"Nov 2016\",\"Dec 2016\",\"Jan 2017\",\"Feb 2017\",\"Mar 2017\",\"Apr 2017\",\"May 2017\",\"Jun 2017\",\"Jul 2017\",\"Aug 2017\",\"Sep 2017\",\"Oct 2017\",\"Nov 2017\",\"Dec 2017\",\"Jan 2018\",\"Feb 2018\",\"Mar 2018\",\"Apr 2018\"]},\"selected\":{\"id\":\"01330b00-b214-4ef0-a4aa-b363cb279b85\",\"type\":\"Selection\"},\"selection_policy\":{\"id\":\"216b55b0-bfa1-44a5-b5df-3d18adc0b471\",\"type\":\"UnionRenderers\"}},\"id\":\"3146e460-12ca-47f0-a038-3483eee39000\",\"type\":\"ColumnDataSource\"},{\"attributes\":{\"line_alpha\":0.0,\"line_color\":\"white\",\"x\":{\"field\":\"date\"},\"y\":{\"field\":\"total\"}},\"id\":\"c63338b8-d54e-4333-be74-cb5864debbf3\",\"type\":\"Line\"},{\"attributes\":{\"fields\":[\"core services\",\"core goods\"]},\"id\":\"24b86455-0910-4595-ab2c-cc3c50ef243b\",\"type\":\"Stack\"},{\"attributes\":{\"fields\":[\"core services\",\"core goods\",\"shelter\"]},\"id\":\"1ee21de7-1d40-42b5-886d-cda32366830e\",\"type\":\"Stack\"},{\"attributes\":{\"fields\":[\"core services\",\"core goods\",\"shelter\"]},\"id\":\"8c7fbeb0-35e7-4218-bfd7-c6a4c344b9c5\",\"type\":\"Stack\"},{\"attributes\":{\"source\":{\"id\":\"f8c08198-0458-44a9-afce-c05ff514e662\",\"type\":\"ColumnDataSource\"}},\"id\":\"60691bc1-3ce2-49a5-a2ae-8a5e2bb3917a\",\"type\":\"CDSView\"},{\"attributes\":{\"callback\":null,\"mode\":\"vline\",\"renderers\":[{\"id\":\"ec7dfb9d-8339-458b-b0a4-0c17716c1131\",\"type\":\"GlyphRenderer\"}],\"show_arrow\":false,\"tooltips\":\"\\n    <div style=\\\"line-height: 110%;\\\">\\n        <span style=\\\"font-size: 11px; font-style: italic;\\\">@strdate:</span><br>\\n        <span style=\\\"font-size: 10px; padding: 0 5px;\\\">CPI Inflation: </span>\\n        <span style=\\\"font-size: 11px; font-weight: bold;\\\">@total{1.1}%</span><br>\\n        <span style=\\\"font-size: 9px; font-style: italic;\\\">Contribution from:</span><br>\\n        <div style=\\\"text-align: right;\\\">\\n            <span style=\\\"font-size: 10px; padding: 0 5px;\\\">Core services: </span>\\n            <span style=\\\"display: inline-block; font-size: 11px; font-weight: bold; min-width: 26px;\\\">@{core services}{1.1}</span>\\n            <span style=\\\"display: inline-block; color: #FFEA00; width: 8px;\\\">\\u25ae</span><br> \\n            <span style=\\\"font-size: 10px; padding: 0 5px;\\\">Core goods: </span>\\n            <span style=\\\"display: inline-block; font-size: 11px; font-weight: bold; min-width: 26px;\\\">@{core goods}{1.1}</span>\\n            <span style=\\\"display: inline-block; color: #00c853; width: 8px;\\\">\\u25ae</span><br>\\n            <span style=\\\"font-size: 10px; padding: 0 5px;\\\">Shelter: </span>\\n            <span style=\\\"display: inline-block; font-size: 11px; font-weight: bold; min-width: 26px;\\\">@shelter{1.1}</span>\\n            <span style=\\\"display: inline-block; color: #80DEEA; width: 8px;\\\">\\u25ae</span><br>\\n            <span style=\\\"font-size: 10px; padding: 0 5px;\\\">Food & Energy: </span>\\n            <span style=\\\"display: inline-block; font-size: 11px; font-weight: bold; min-width: 26px;\\\">@{food & energy}{1.1}</span>\\n            <span style=\\\"display: inline-block; color: #304FFE; width: 8px;\\\">\\u25ae</span><br>\\n        </div>\\n    </div>\\n\"},\"id\":\"797403cb-f3ff-4f23-a7e6-e122cc0497a2\",\"type\":\"HoverTool\"},{\"attributes\":{\"fields\":[\"core services\",\"core goods\",\"shelter\",\"food & energy\"]},\"id\":\"6c6c80b5-c421-4ec9-a260-7b0d064888e7\",\"type\":\"Stack\"},{\"attributes\":{\"data_source\":{\"id\":\"f8c08198-0458-44a9-afce-c05ff514e662\",\"type\":\"ColumnDataSource\"},\"glyph\":{\"id\":\"31ae7501-7438-43b3-8c26-b5a9de651a5e\",\"type\":\"VBar\"},\"hover_glyph\":null,\"muted_glyph\":null,\"nonselection_glyph\":{\"id\":\"dcb5a24e-8386-438f-bf54-441fcab721f5\",\"type\":\"VBar\"},\"selection_glyph\":null,\"view\":{\"id\":\"e7a20c17-57f7-4db2-99e3-aea129c55ae9\",\"type\":\"CDSView\"}},\"id\":\"aab6acac-d530-472b-9554-5b5702957e10\",\"type\":\"GlyphRenderer\"},{\"attributes\":{\"line_alpha\":0.1,\"line_color\":\"#1f77b4\",\"x\":{\"field\":\"date\"},\"y\":{\"field\":\"total\"}},\"id\":\"b5bc0081-4569-4308-b4dd-cac405c4f32c\",\"type\":\"Line\"},{\"attributes\":{\"base\":24,\"mantissas\":[1,2,4,6,8,12],\"max_interval\":43200000.0,\"min_interval\":3600000.0,\"num_minor_ticks\":0},\"id\":\"156b657c-3f66-48dd-bb1d-a2da6bdf8930\",\"type\":\"AdaptiveTicker\"},{\"attributes\":{\"days\":[1,15]},\"id\":\"00192b37-69f6-49fc-a98e-b23b24bff702\",\"type\":\"DaysTicker\"},{\"attributes\":{\"days\":[1,8,15,22]},\"id\":\"cb167e8d-2ece-406e-8870-f1c785b9936d\",\"type\":\"DaysTicker\"},{\"attributes\":{},\"id\":\"473ace3b-2770-46d8-b803-a898ddd5cb1b\",\"type\":\"BasicTickFormatter\"},{\"attributes\":{\"base\":60,\"mantissas\":[1,2,5,10,15,20,30],\"max_interval\":1800000.0,\"min_interval\":1000.0,\"num_minor_ticks\":0},\"id\":\"256ee806-6699-4a3a-b6c1-9b3c4411a29a\",\"type\":\"AdaptiveTicker\"},{\"attributes\":{\"days\":[1,4,7,10,13,16,19,22,25,28]},\"id\":\"6a6283fb-8997-4109-b308-70f224696e90\",\"type\":\"DaysTicker\"},{\"attributes\":{\"source\":{\"id\":\"8da6d7e4-734d-45b8-9476-c44e53929a6a\",\"type\":\"ColumnDataSource\"}},\"id\":\"42d093f8-0343-475a-b49d-721146e5fb61\",\"type\":\"CDSView\"},{\"attributes\":{\"label\":{\"value\":\"Core goods\"},\"renderers\":[{\"id\":\"783d4e73-ef84-4775-86fe-0de89610b347\",\"type\":\"GlyphRenderer\"}]},\"id\":\"fe77b44b-e28f-4718-8519-f47750ebbd0a\",\"type\":\"LegendItem\"},{\"attributes\":{\"days\":[1,2,3,4,5,6,7,8,9,10,11,12,13,14,15,16,17,18,19,20,21,22,23,24,25,26,27,28,29,30,31]},\"id\":\"dba3da90-e7f3-4dac-8481-76c47abe4485\",\"type\":\"DaysTicker\"},{\"attributes\":{\"months\":[0,4,8]},\"id\":\"e186c1ca-db73-4987-a590-7b09de9913d6\",\"type\":\"MonthsTicker\"},{\"attributes\":{\"bottom\":{\"expr\":{\"id\":\"bc1937fe-69c1-4284-bce7-e16fab3e4a14\",\"type\":\"Stack\"}},\"fill_color\":{\"value\":\"#80DEEA\"},\"line_alpha\":{\"value\":0},\"line_color\":{\"value\":\"#80DEEA\"},\"top\":{\"expr\":{\"id\":\"34470bdd-719b-43d4-affd-a195017cd53b\",\"type\":\"Stack\"}},\"width\":{\"value\":1921320000.0},\"x\":{\"field\":\"dates\"}},\"id\":\"51b99bcd-42fe-4692-9a7c-77ae3ad4889b\",\"type\":\"VBar\"},{\"attributes\":{\"months\":[0,2,4,6,8,10]},\"id\":\"d37a15ed-b354-465d-832d-e7420c4b04ef\",\"type\":\"MonthsTicker\"},{\"attributes\":{\"months\":[0,1,2,3,4,5,6,7,8,9,10,11]},\"id\":\"f29bc878-1373-4679-a189-6c6026d160bc\",\"type\":\"MonthsTicker\"},{\"attributes\":{},\"id\":\"216b55b0-bfa1-44a5-b5df-3d18adc0b471\",\"type\":\"UnionRenderers\"},{\"attributes\":{\"label\":{\"value\":\"Core services\"},\"renderers\":[{\"id\":\"aab6acac-d530-472b-9554-5b5702957e10\",\"type\":\"GlyphRenderer\"}]},\"id\":\"55e6670c-1269-4252-b605-59d1a8eea78b\",\"type\":\"LegendItem\"},{\"attributes\":{\"bottom\":{\"expr\":{\"id\":\"34f63216-474e-4afa-b2e7-f63c2c206445\",\"type\":\"Stack\"}},\"fill_alpha\":{\"value\":0.1},\"fill_color\":{\"value\":\"#1f77b4\"},\"line_alpha\":{\"value\":0.1},\"line_color\":{\"value\":\"#1f77b4\"},\"top\":{\"expr\":{\"id\":\"fa9993ea-af30-4ae4-8141-76c9b9ba7169\",\"type\":\"Stack\"}},\"width\":{\"value\":1921320000.0},\"x\":{\"field\":\"dates\"}},\"id\":\"39fbc178-483c-4a66-9d1a-40c070e1f569\",\"type\":\"VBar\"},{\"attributes\":{\"background_fill_alpha\":{\"value\":0},\"border_line_alpha\":{\"value\":0},\"glyph_height\":16,\"glyph_width\":8,\"items\":[{\"id\":\"55e6670c-1269-4252-b605-59d1a8eea78b\",\"type\":\"LegendItem\"},{\"id\":\"fe77b44b-e28f-4718-8519-f47750ebbd0a\",\"type\":\"LegendItem\"},{\"id\":\"89a3d3cb-1b03-4f9d-8b22-8495decbf2ad\",\"type\":\"LegendItem\"},{\"id\":\"92637cc9-60bf-463e-9857-5507104f6eae\",\"type\":\"LegendItem\"}],\"label_standoff\":1,\"label_text_font_size\":{\"value\":\"8.5pt\"},\"location\":\"top_left\",\"margin\":2,\"orientation\":\"horizontal\",\"padding\":0,\"plot\":{\"id\":\"11e1e1b0-1653-4e95-9ef1-4ccbb1051993\",\"subtype\":\"Figure\",\"type\":\"Plot\"},\"spacing\":5},\"id\":\"b0d8d50e-0efa-42d7-86dc-b4aa9cde10c0\",\"type\":\"Legend\"},{\"attributes\":{\"data_source\":{\"id\":\"3146e460-12ca-47f0-a038-3483eee39000\",\"type\":\"ColumnDataSource\"},\"glyph\":{\"id\":\"c848021c-1389-46f1-8cb5-45f1c9fce54a\",\"type\":\"VBar\"},\"hover_glyph\":null,\"muted_glyph\":null,\"nonselection_glyph\":{\"id\":\"39fbc178-483c-4a66-9d1a-40c070e1f569\",\"type\":\"VBar\"},\"selection_glyph\":null,\"view\":{\"id\":\"9af0d77e-b53c-4949-ae9c-c4d0774e0a12\",\"type\":\"CDSView\"}},\"id\":\"50d02089-0a1c-44e9-8005-8a085be4f243\",\"type\":\"GlyphRenderer\"},{\"attributes\":{},\"id\":\"315e823b-e7dd-4389-9ab1-d9793dde6fc4\",\"type\":\"YearsTicker\"},{\"attributes\":{\"months\":[0,6]},\"id\":\"c7eae334-e022-4c08-8701-76aee8af5140\",\"type\":\"MonthsTicker\"},{\"attributes\":{\"bottom\":{\"expr\":{\"id\":\"433dee63-47e0-4fa9-b0a6-83699b524f91\",\"type\":\"Stack\"}},\"fill_alpha\":{\"value\":0.1},\"fill_color\":{\"value\":\"#1f77b4\"},\"line_alpha\":{\"value\":0.1},\"line_color\":{\"value\":\"#1f77b4\"},\"top\":{\"expr\":{\"id\":\"9f499abd-6d1c-42c8-9ab9-836e37c675b6\",\"type\":\"Stack\"}},\"width\":{\"value\":1921320000.0},\"x\":{\"field\":\"dates\"}},\"id\":\"13dea03b-6b0f-467e-bd14-58eaea67958b\",\"type\":\"VBar\"},{\"attributes\":{\"fields\":[]},\"id\":\"137de9c5-705e-46f4-a39f-2509027c8771\",\"type\":\"Stack\"},{\"attributes\":{\"fields\":[]},\"id\":\"9c3e69e6-9c80-4b1e-9464-d4ccd1150153\",\"type\":\"Stack\"},{\"attributes\":{\"line_color\":{\"value\":\"gray\"},\"location\":0,\"plot\":{\"id\":\"11e1e1b0-1653-4e95-9ef1-4ccbb1051993\",\"subtype\":\"Figure\",\"type\":\"Plot\"}},\"id\":\"2687820b-b07c-4608-a2c0-80db8614b1bb\",\"type\":\"Span\"},{\"attributes\":{},\"id\":\"46370b36-d00e-43a1-b3f4-384867adc8bb\",\"type\":\"Selection\"},{\"attributes\":{\"callback\":null,\"end\":4.0,\"start\":-2.2},\"id\":\"c3f45172-d050-4331-b4d6-0044df874055\",\"type\":\"Range1d\"},{\"attributes\":{\"data_source\":{\"id\":\"3146e460-12ca-47f0-a038-3483eee39000\",\"type\":\"ColumnDataSource\"},\"glyph\":{\"id\":\"51b99bcd-42fe-4692-9a7c-77ae3ad4889b\",\"type\":\"VBar\"},\"hover_glyph\":null,\"muted_glyph\":null,\"nonselection_glyph\":{\"id\":\"f90f74c6-df4b-4944-8f4d-2f35a56b5bcd\",\"type\":\"VBar\"},\"selection_glyph\":null,\"view\":{\"id\":\"3d766edd-31a0-4e20-a96a-fa3c47e575ae\",\"type\":\"CDSView\"}},\"id\":\"05358785-24e4-4cad-9401-a4a766cf0afb\",\"type\":\"GlyphRenderer\"},{\"attributes\":{\"fields\":[\"core services\"]},\"id\":\"41bb89cd-3164-45b3-919f-4e506b265a30\",\"type\":\"Stack\"},{\"attributes\":{\"bottom\":{\"expr\":{\"id\":\"433dee63-47e0-4fa9-b0a6-83699b524f91\",\"type\":\"Stack\"}},\"fill_color\":{\"value\":\"#00c853\"},\"line_alpha\":{\"value\":0},\"line_color\":{\"value\":\"#00c853\"},\"top\":{\"expr\":{\"id\":\"9f499abd-6d1c-42c8-9ab9-836e37c675b6\",\"type\":\"Stack\"}},\"width\":{\"value\":1921320000.0},\"x\":{\"field\":\"dates\"}},\"id\":\"50a4d372-1633-407f-81c0-7c402456256d\",\"type\":\"VBar\"},{\"attributes\":{\"fields\":[\"core services\",\"core goods\"]},\"id\":\"9f499abd-6d1c-42c8-9ab9-836e37c675b6\",\"type\":\"Stack\"},{\"attributes\":{\"data_source\":{\"id\":\"f8c08198-0458-44a9-afce-c05ff514e662\",\"type\":\"ColumnDataSource\"},\"glyph\":{\"id\":\"50a4d372-1633-407f-81c0-7c402456256d\",\"type\":\"VBar\"},\"hover_glyph\":null,\"muted_glyph\":null,\"nonselection_glyph\":{\"id\":\"13dea03b-6b0f-467e-bd14-58eaea67958b\",\"type\":\"VBar\"},\"selection_glyph\":null,\"view\":{\"id\":\"4836e1a8-7af1-4f17-8d26-d88a80c3ac99\",\"type\":\"CDSView\"}},\"id\":\"783d4e73-ef84-4775-86fe-0de89610b347\",\"type\":\"GlyphRenderer\"},{\"attributes\":{\"below\":[{\"id\":\"cde50686-073a-4d84-8979-9118296a1dc8\",\"type\":\"DatetimeAxis\"}],\"left\":[{\"id\":\"585aa3b4-e239-40be-b7df-461a2fbcf994\",\"type\":\"LinearAxis\"}],\"outline_line_color\":{\"value\":\"white\"},\"plot_height\":300,\"plot_width\":700,\"renderers\":[{\"id\":\"cde50686-073a-4d84-8979-9118296a1dc8\",\"type\":\"DatetimeAxis\"},{\"id\":\"38efb55b-9a69-4d02-87e1-af1db6699ad8\",\"type\":\"Grid\"},{\"id\":\"585aa3b4-e239-40be-b7df-461a2fbcf994\",\"type\":\"LinearAxis\"},{\"id\":\"86d540cc-b467-4908-ba9a-c27f1026d466\",\"type\":\"Grid\"},{\"id\":\"3d786823-a1fc-43bf-b401-dc2535337fb1\",\"type\":\"BoxAnnotation\"},{\"id\":\"b0d8d50e-0efa-42d7-86dc-b4aa9cde10c0\",\"type\":\"Legend\"},{\"id\":\"aab6acac-d530-472b-9554-5b5702957e10\",\"type\":\"GlyphRenderer\"},{\"id\":\"783d4e73-ef84-4775-86fe-0de89610b347\",\"type\":\"GlyphRenderer\"},{\"id\":\"07668a2f-ff09-4dd6-a4fd-171941507214\",\"type\":\"GlyphRenderer\"},{\"id\":\"2ae80ac6-cccd-4eb2-8f20-dd3c51c48c28\",\"type\":\"GlyphRenderer\"},{\"id\":\"48532dfe-5a5f-492b-8f94-da906807a266\",\"type\":\"GlyphRenderer\"},{\"id\":\"991b2314-3a27-442a-aaa7-97c60f54e79b\",\"type\":\"GlyphRenderer\"},{\"id\":\"05358785-24e4-4cad-9401-a4a766cf0afb\",\"type\":\"GlyphRenderer\"},{\"id\":\"50d02089-0a1c-44e9-8005-8a085be4f243\",\"type\":\"GlyphRenderer\"},{\"id\":\"2687820b-b07c-4608-a2c0-80db8614b1bb\",\"type\":\"Span\"},{\"id\":\"ec7dfb9d-8339-458b-b0a4-0c17716c1131\",\"type\":\"GlyphRenderer\"}],\"sizing_mode\":\"scale_width\",\"title\":{\"id\":\"c28959ed-9fd0-4544-8f83-d5d13748100b\",\"type\":\"Title\"},\"toolbar\":{\"id\":\"9e5e5100-eb1f-441c-94c0-b8d4b149995f\",\"type\":\"Toolbar\"},\"toolbar_location\":null,\"x_range\":{\"id\":\"74da2945-20bc-4b71-9f99-8a72dacd630e\",\"type\":\"DataRange1d\"},\"x_scale\":{\"id\":\"c4aa5566-c608-481c-989c-9fdf43ac852c\",\"type\":\"LinearScale\"},\"y_range\":{\"id\":\"c3f45172-d050-4331-b4d6-0044df874055\",\"type\":\"Range1d\"},\"y_scale\":{\"id\":\"201957c5-5c7b-4cb9-a706-00919a647297\",\"type\":\"LinearScale\"}},\"id\":\"11e1e1b0-1653-4e95-9ef1-4ccbb1051993\",\"subtype\":\"Figure\",\"type\":\"Plot\"},{\"attributes\":{\"source\":{\"id\":\"3146e460-12ca-47f0-a038-3483eee39000\",\"type\":\"ColumnDataSource\"}},\"id\":\"9af0d77e-b53c-4949-ae9c-c4d0774e0a12\",\"type\":\"CDSView\"},{\"attributes\":{\"fields\":[\"core services\"]},\"id\":\"b4c06fc0-c638-4e4a-81a7-11e3cb212278\",\"type\":\"Stack\"},{\"attributes\":{\"active_drag\":null,\"active_inspect\":\"auto\",\"active_scroll\":\"auto\",\"active_tap\":\"auto\",\"logo\":null,\"tools\":[{\"id\":\"2bd7f745-a39b-438f-9c6b-5cbdb3b6a44e\",\"type\":\"PanTool\"},{\"id\":\"6a794ba7-c33b-4944-8552-81e5e3baee3d\",\"type\":\"WheelZoomTool\"},{\"id\":\"5b1b575b-68c8-4484-a383-e9fa52b9d958\",\"type\":\"BoxZoomTool\"},{\"id\":\"12438365-4aaa-458c-99ca-04d4d222f2d4\",\"type\":\"ResetTool\"},{\"id\":\"797403cb-f3ff-4f23-a7e6-e122cc0497a2\",\"type\":\"HoverTool\"}]},\"id\":\"9e5e5100-eb1f-441c-94c0-b8d4b149995f\",\"type\":\"Toolbar\"},{\"attributes\":{\"source\":{\"id\":\"3146e460-12ca-47f0-a038-3483eee39000\",\"type\":\"ColumnDataSource\"}},\"id\":\"3d766edd-31a0-4e20-a96a-fa3c47e575ae\",\"type\":\"CDSView\"},{\"attributes\":{\"source\":{\"id\":\"f8c08198-0458-44a9-afce-c05ff514e662\",\"type\":\"ColumnDataSource\"}},\"id\":\"e7a20c17-57f7-4db2-99e3-aea129c55ae9\",\"type\":\"CDSView\"},{\"attributes\":{},\"id\":\"c5451b30-9ac5-45f2-9d26-d5f186bfc615\",\"type\":\"UnionRenderers\"},{\"attributes\":{\"bottom\":{\"expr\":{\"id\":\"24b86455-0910-4595-ab2c-cc3c50ef243b\",\"type\":\"Stack\"}},\"fill_color\":{\"value\":\"#80DEEA\"},\"line_alpha\":{\"value\":0},\"line_color\":{\"value\":\"#80DEEA\"},\"top\":{\"expr\":{\"id\":\"1ee21de7-1d40-42b5-886d-cda32366830e\",\"type\":\"Stack\"}},\"width\":{\"value\":1921320000.0},\"x\":{\"field\":\"dates\"}},\"id\":\"accb719a-143b-48f4-af4e-3f5d9e9ec49d\",\"type\":\"VBar\"},{\"attributes\":{},\"id\":\"201957c5-5c7b-4cb9-a706-00919a647297\",\"type\":\"LinearScale\"},{\"attributes\":{\"bottom\":{\"expr\":{\"id\":\"34f63216-474e-4afa-b2e7-f63c2c206445\",\"type\":\"Stack\"}},\"fill_color\":{\"value\":\"#304FFE\"},\"line_alpha\":{\"value\":0},\"line_color\":{\"value\":\"#304FFE\"},\"top\":{\"expr\":{\"id\":\"fa9993ea-af30-4ae4-8141-76c9b9ba7169\",\"type\":\"Stack\"}},\"width\":{\"value\":1921320000.0},\"x\":{\"field\":\"dates\"}},\"id\":\"c848021c-1389-46f1-8cb5-45f1c9fce54a\",\"type\":\"VBar\"},{\"attributes\":{},\"id\":\"345f71df-2a37-4854-99b1-e1ab761cdb38\",\"type\":\"UnionRenderers\"},{\"attributes\":{\"callback\":null},\"id\":\"74da2945-20bc-4b71-9f99-8a72dacd630e\",\"type\":\"DataRange1d\"},{\"attributes\":{\"bottom\":{\"expr\":{\"id\":\"137de9c5-705e-46f4-a39f-2509027c8771\",\"type\":\"Stack\"}},\"fill_alpha\":{\"value\":0.1},\"fill_color\":{\"value\":\"#1f77b4\"},\"line_alpha\":{\"value\":0.1},\"line_color\":{\"value\":\"#1f77b4\"},\"top\":{\"expr\":{\"id\":\"f8c5c336-7406-490f-8527-140d7fccb3e5\",\"type\":\"Stack\"}},\"width\":{\"value\":1921320000.0},\"x\":{\"field\":\"dates\"}},\"id\":\"dcb5a24e-8386-438f-bf54-441fcab721f5\",\"type\":\"VBar\"},{\"attributes\":{\"callback\":null,\"data\":{\"core goods\":{\"__ndarray__\":\"exSuR+F6xL+amZmZmZm5v5qZmZmZmam/exSuR+F6pL+4HoXrUbiuvwrXo3A9Cre/mpmZmZmZub+amZmZmZm5v5qZmZmZmbm/7FG4HoXrwb8pXI/C9Si8v3sUrkfherS/exSuR+F6lL97FK5H4XqEP+xRuB6F67G/mpmZmZmZub8pXI/C9Si8v7gehetRuL6/uB6F61G4vr8K16NwPQq3v6RwPQrXo8C/KVyPwvUovL/sUbgehevBv7gehetRuL6/mpmZmZmZqb+amZmZmZm5vylcj8L1KLy/uB6F61G4vr8zMzMzMzPDv6RwPQrXo8C/uB6F61G4vr/D9Shcj8LFv5qZmZmZmcm/UrgehetRyL/D9Shcj8LFv+xRuB6F68G/pHA9CtejwL+amZmZmZm5v7gehetRuK6/7FG4HoXrsb8=\",\"dtype\":\"float64\",\"shape\":[40]},\"core services\":{\"__ndarray__\":\"XI/C9Shc3z/NzMzMzMzcP83MzMzMzNw/FK5H4XoU3j9xPQrXo3DdP7gehetRuN4/XI/C9Shc3z9SuB6F61HgP0jhehSuR+E/4XoUrkfh4j97FK5H4XrkPx+F61G4HuU/w/UoXI/C5T9cj8L1KFznP65H4XoUruc/XI/C9Shc5z9SuB6F61HoP1K4HoXrUeg/UrgehetR6D+amZmZmZnpP1yPwvUoXOc/exSuR+F65D8pXI/C9SjkP83MzMzMzOQ/cT0K16Nw5T8UrkfhehTmP+xRuB6F6+E/FK5H4XoU3j89CtejcD3aP/YoXI/C9dg/PQrXo3A92j+amZmZmZnZP3E9CtejcN0/pHA9Ctej4D8UrkfhehTePxSuR+F6FN4/AAAAAAAA4D9SuB6F61HgPylcj8L1KOQ/exSuR+F65D8=\",\"dtype\":\"float64\",\"shape\":[40]},\"date\":{\"__ndarray__\":\"AAAAqyyqdEIAAED9JrR0QgAAQB4qvXRCAACAcCTHdEIAAABdzNB0QgAAQK/G2nRCAADAm27kdEIAAADuaO50QgAAQEBj+HRCAADALAsCdUIAAAB/BQx1QgAAgGutFXVCAADAvacfdUIAAAAQoil1QgAAwJb3MnVCAAAA6fE8dUIAAIDVmUZ1QgAAwCeUUHVCAABAFDxadUIAAIBmNmR1QgAAwLgwbnVCAABApdh3dUIAAID30oF1QgAAAOR6i3VCAABANnWVdUIAAICIb591QgAAgKlyqHVCAADA+2yydUIAAEDoFLx1QgAAgDoPxnVCAAAAJ7fPdUIAAEB5sdl1QgAAgMur43VCAAAAuFPtdUIAAEAKTvd1QgAAwPb1AHZCAAAASfAKdkIAAECb6hR2QgAAQLztHXZCAACADugndkI=\",\"dtype\":\"float64\",\"shape\":[40]},\"food & energy\":{\"__ndarray__\":\"w/UoXI/C9b9xPQrXo3D1vwrXo3A9Cve/w/UoXI/C+b8UrkfhehT2vwAAAAAAAPS/16NwPQrX87+uR+F6FK7zv1K4HoXrUfi/SOF6FK5H9b8fhetRuB7xvx+F61G4Hu2/CtejcD0K1789CtejcD3qvylcj8L1KOy/7FG4HoXr4b+uR+F6FK7nv1K4HoXrUei/exSuR+F67L9SuB6F61Hov0jhehSuR9G/mpmZmZmZqb+4HoXrUbieP2ZmZmZmZtY/XI/C9Shc5z8pXI/C9SjwPz0K16NwPeo/rkfhehSu5z/2KFyPwvXgPzMzMzMzM9M/PQrXo3A92j97FK5H4XrkP2ZmZmZmZu4/cT0K16Nw5T97FK5H4XrsP65H4XoUruc/cT0K16Nw5T9I4XoUrkfpP1yPwvUoXOc/PQrXo3A96j8=\",\"dtype\":\"float64\",\"shape\":[40]},\"index\":{\"__ndarray__\":\"AAAAqyyqdEIAAED9JrR0QgAAQB4qvXRCAACAcCTHdEIAAABdzNB0QgAAQK/G2nRCAADAm27kdEIAAADuaO50QgAAQEBj+HRCAADALAsCdUIAAAB/BQx1QgAAgGutFXVCAADAvacfdUIAAAAQoil1QgAAwJb3MnVCAAAA6fE8dUIAAIDVmUZ1QgAAwCeUUHVCAABAFDxadUIAAIBmNmR1QgAAwLgwbnVCAABApdh3dUIAAID30oF1QgAAAOR6i3VCAABANnWVdUIAAICIb591QgAAgKlyqHVCAADA+2yydUIAAEDoFLx1QgAAgDoPxnVCAAAAJ7fPdUIAAEB5sdl1QgAAgMur43VCAAAAuFPtdUIAAEAKTvd1QgAAwPb1AHZCAAAASfAKdkIAAECb6hR2QgAAQLztHXZCAACADugndkI=\",\"dtype\":\"float64\",\"shape\":[40]},\"shelter\":{\"__ndarray__\":\"FK5H4XoU7j+4HoXrUbjuP7gehetRuO4/CtejcD0K7z8UrkfhehTuP1yPwvUoXO8/UrgehetR8D8pXI/C9SjwP6RwPQrXo/A/zczMzMzM8D/NzMzMzMzwP/YoXI/C9fA/H4XrUbge8T9xPQrXo3DxP/YoXI/C9fA/H4XrUbge8T8UrkfhehTyP4/C9Shcj/I/w/UoXI/C8T9mZmZmZmbyP4/C9Shcj/I/CtejcD0K8z9cj8L1KFzzP65H4XoUrvM/XI/C9Shc8z9cj8L1KFzzPwrXo3A9CvM/CtejcD0K8z9mZmZmZmbyPxSuR+F6FPI/mpmZmZmZ8T9mZmZmZmbyPxSuR+F6FPI/PQrXo3A98j/D9Shcj8LxPxSuR+F6FPI/FK5H4XoU8j/D9Shcj8LxP+F6FK5H4fI/XI/C9Shc8z8=\",\"dtype\":\"float64\",\"shape\":[40]},\"strdate\":[\"January 2015\",\"February 2015\",\"March 2015\",\"April 2015\",\"May 2015\",\"June 2015\",\"July 2015\",\"August 2015\",\"September 2015\",\"October 2015\",\"November 2015\",\"December 2015\",\"January 2016\",\"February 2016\",\"March 2016\",\"April 2016\",\"May 2016\",\"June 2016\",\"July 2016\",\"August 2016\",\"September 2016\",\"October 2016\",\"November 2016\",\"December 2016\",\"January 2017\",\"February 2017\",\"March 2017\",\"April 2017\",\"May 2017\",\"June 2017\",\"July 2017\",\"August 2017\",\"September 2017\",\"October 2017\",\"November 2017\",\"December 2017\",\"January 2018\",\"February 2018\",\"March 2018\",\"April 2018\"],\"total\":{\"__ndarray__\":\"CtejcD0Kt7+4HoXrUbiev+xRuB6F67G/mpmZmZmZyb97FK5H4Xqkv6RwPQrXo8A/w/UoXI/CxT+amZmZmZnJP3sUrkfheqS/w/UoXI/CxT9SuB6F61HgP65H4XoUruc/FK5H4XoU9j97FK5H4XrwP4XrUbgehes/PQrXo3A98j+kcD0K16PwP1K4HoXrUfA/MzMzMzMz6z9xPQrXo3DxP9ejcD0K1/c/uB6F61G4+j+F61G4HoX7P+F6FK5H4QBAUrgehetRBEBSuB6F61EGQHE9CtejcANAFK5H4XoUAkDhehSuR+H+PwrXo3A9Cvs/exSuR+F6/D8AAAAAAAAAQHsUrkfhegJA9ihcj8L1AEA9CtejcD0CQHE9CtejcAFASOF6FK5HAUB7FK5H4XoCQMP1KFyPwgNApHA9CtejBEA=\",\"dtype\":\"float64\",\"shape\":[40]}},\"selected\":{\"id\":\"32a3ec3e-98a3-418c-a746-302d1a1ee2f3\",\"type\":\"Selection\"},\"selection_policy\":{\"id\":\"345f71df-2a37-4854-99b1-e1ab761cdb38\",\"type\":\"UnionRenderers\"}},\"id\":\"8da6d7e4-734d-45b8-9476-c44e53929a6a\",\"type\":\"ColumnDataSource\"},{\"attributes\":{},\"id\":\"c4aa5566-c608-481c-989c-9fdf43ac852c\",\"type\":\"LinearScale\"},{\"attributes\":{\"bottom\":{\"expr\":{\"id\":\"137de9c5-705e-46f4-a39f-2509027c8771\",\"type\":\"Stack\"}},\"fill_color\":{\"value\":\"#FFEA00\"},\"line_alpha\":{\"value\":0},\"line_color\":{\"value\":\"#FFEA00\"},\"top\":{\"expr\":{\"id\":\"f8c5c336-7406-490f-8527-140d7fccb3e5\",\"type\":\"Stack\"}},\"width\":{\"value\":1921320000.0},\"x\":{\"field\":\"dates\"}},\"id\":\"31ae7501-7438-43b3-8c26-b5a9de651a5e\",\"type\":\"VBar\"},{\"attributes\":{\"source\":{\"id\":\"f8c08198-0458-44a9-afce-c05ff514e662\",\"type\":\"ColumnDataSource\"}},\"id\":\"4836e1a8-7af1-4f17-8d26-d88a80c3ac99\",\"type\":\"CDSView\"},{\"attributes\":{\"fields\":[\"core services\"]},\"id\":\"f8c5c336-7406-490f-8527-140d7fccb3e5\",\"type\":\"Stack\"},{\"attributes\":{\"bottom\":{\"expr\":{\"id\":\"b4c06fc0-c638-4e4a-81a7-11e3cb212278\",\"type\":\"Stack\"}},\"fill_color\":{\"value\":\"#00c853\"},\"line_alpha\":{\"value\":0},\"line_color\":{\"value\":\"#00c853\"},\"top\":{\"expr\":{\"id\":\"3708715c-447e-4026-99d4-0da0d504c4f5\",\"type\":\"Stack\"}},\"width\":{\"value\":1921320000.0},\"x\":{\"field\":\"dates\"}},\"id\":\"cb4ead5d-5d80-467d-bdc2-1f5581d322f8\",\"type\":\"VBar\"},{\"attributes\":{\"axis_line_color\":{\"value\":\"white\"},\"formatter\":{\"id\":\"49fb2afb-138a-441f-8509-5eccb3677ebd\",\"type\":\"DatetimeTickFormatter\"},\"plot\":{\"id\":\"11e1e1b0-1653-4e95-9ef1-4ccbb1051993\",\"subtype\":\"Figure\",\"type\":\"Plot\"},\"ticker\":{\"id\":\"beacaed8-1a51-4f09-8724-d66a7c68ba2f\",\"type\":\"DatetimeTicker\"}},\"id\":\"cde50686-073a-4d84-8979-9118296a1dc8\",\"type\":\"DatetimeAxis\"},{\"attributes\":{\"label\":{\"value\":\"Shelter\"},\"renderers\":[{\"id\":\"07668a2f-ff09-4dd6-a4fd-171941507214\",\"type\":\"GlyphRenderer\"}]},\"id\":\"89a3d3cb-1b03-4f9d-8b22-8495decbf2ad\",\"type\":\"LegendItem\"},{\"attributes\":{\"num_minor_ticks\":5,\"tickers\":[{\"id\":\"3318c610-fb5e-47cb-8aca-892eca0ac984\",\"type\":\"AdaptiveTicker\"},{\"id\":\"256ee806-6699-4a3a-b6c1-9b3c4411a29a\",\"type\":\"AdaptiveTicker\"},{\"id\":\"156b657c-3f66-48dd-bb1d-a2da6bdf8930\",\"type\":\"AdaptiveTicker\"},{\"id\":\"dba3da90-e7f3-4dac-8481-76c47abe4485\",\"type\":\"DaysTicker\"},{\"id\":\"6a6283fb-8997-4109-b308-70f224696e90\",\"type\":\"DaysTicker\"},{\"id\":\"cb167e8d-2ece-406e-8870-f1c785b9936d\",\"type\":\"DaysTicker\"},{\"id\":\"00192b37-69f6-49fc-a98e-b23b24bff702\",\"type\":\"DaysTicker\"},{\"id\":\"f29bc878-1373-4679-a189-6c6026d160bc\",\"type\":\"MonthsTicker\"},{\"id\":\"d37a15ed-b354-465d-832d-e7420c4b04ef\",\"type\":\"MonthsTicker\"},{\"id\":\"e186c1ca-db73-4987-a590-7b09de9913d6\",\"type\":\"MonthsTicker\"},{\"id\":\"c7eae334-e022-4c08-8701-76aee8af5140\",\"type\":\"MonthsTicker\"},{\"id\":\"315e823b-e7dd-4389-9ab1-d9793dde6fc4\",\"type\":\"YearsTicker\"}]},\"id\":\"beacaed8-1a51-4f09-8724-d66a7c68ba2f\",\"type\":\"DatetimeTicker\"},{\"attributes\":{\"bottom\":{\"expr\":{\"id\":\"8c7fbeb0-35e7-4218-bfd7-c6a4c344b9c5\",\"type\":\"Stack\"}},\"fill_color\":{\"value\":\"#304FFE\"},\"line_alpha\":{\"value\":0},\"line_color\":{\"value\":\"#304FFE\"},\"top\":{\"expr\":{\"id\":\"6c6c80b5-c421-4ec9-a260-7b0d064888e7\",\"type\":\"Stack\"}},\"width\":{\"value\":1921320000.0},\"x\":{\"field\":\"dates\"}},\"id\":\"755a82a7-f530-49f3-af3e-95552d1dc740\",\"type\":\"VBar\"},{\"attributes\":{\"grid_line_color\":{\"value\":null},\"plot\":{\"id\":\"11e1e1b0-1653-4e95-9ef1-4ccbb1051993\",\"subtype\":\"Figure\",\"type\":\"Plot\"},\"ticker\":{\"id\":\"beacaed8-1a51-4f09-8724-d66a7c68ba2f\",\"type\":\"DatetimeTicker\"}},\"id\":\"38efb55b-9a69-4d02-87e1-af1db6699ad8\",\"type\":\"Grid\"},{\"attributes\":{\"bottom\":{\"expr\":{\"id\":\"24b86455-0910-4595-ab2c-cc3c50ef243b\",\"type\":\"Stack\"}},\"fill_alpha\":{\"value\":0.1},\"fill_color\":{\"value\":\"#1f77b4\"},\"line_alpha\":{\"value\":0.1},\"line_color\":{\"value\":\"#1f77b4\"},\"top\":{\"expr\":{\"id\":\"1ee21de7-1d40-42b5-886d-cda32366830e\",\"type\":\"Stack\"}},\"width\":{\"value\":1921320000.0},\"x\":{\"field\":\"dates\"}},\"id\":\"a76de816-f6e6-4765-9d9e-eafc5303b6ce\",\"type\":\"VBar\"},{\"attributes\":{\"fields\":[\"core services\"]},\"id\":\"433dee63-47e0-4fa9-b0a6-83699b524f91\",\"type\":\"Stack\"},{\"attributes\":{\"axis_line_color\":{\"value\":\"white\"},\"formatter\":{\"id\":\"473ace3b-2770-46d8-b803-a898ddd5cb1b\",\"type\":\"BasicTickFormatter\"},\"minor_tick_line_color\":{\"value\":null},\"plot\":{\"id\":\"11e1e1b0-1653-4e95-9ef1-4ccbb1051993\",\"subtype\":\"Figure\",\"type\":\"Plot\"},\"ticker\":{\"id\":\"2b3612df-ee30-4442-bcf4-ddd5b8b0eb0d\",\"type\":\"BasicTicker\"}},\"id\":\"585aa3b4-e239-40be-b7df-461a2fbcf994\",\"type\":\"LinearAxis\"},{\"attributes\":{},\"id\":\"01330b00-b214-4ef0-a4aa-b363cb279b85\",\"type\":\"Selection\"},{\"attributes\":{},\"id\":\"2b3612df-ee30-4442-bcf4-ddd5b8b0eb0d\",\"type\":\"BasicTicker\"},{\"attributes\":{\"bottom\":{\"expr\":{\"id\":\"bc1937fe-69c1-4284-bce7-e16fab3e4a14\",\"type\":\"Stack\"}},\"fill_alpha\":{\"value\":0.1},\"fill_color\":{\"value\":\"#1f77b4\"},\"line_alpha\":{\"value\":0.1},\"line_color\":{\"value\":\"#1f77b4\"},\"top\":{\"expr\":{\"id\":\"34470bdd-719b-43d4-affd-a195017cd53b\",\"type\":\"Stack\"}},\"width\":{\"value\":1921320000.0},\"x\":{\"field\":\"dates\"}},\"id\":\"f90f74c6-df4b-4944-8f4d-2f35a56b5bcd\",\"type\":\"VBar\"},{\"attributes\":{\"label\":{\"value\":\"Food & energy\"},\"renderers\":[{\"id\":\"2ae80ac6-cccd-4eb2-8f20-dd3c51c48c28\",\"type\":\"GlyphRenderer\"}]},\"id\":\"92637cc9-60bf-463e-9857-5507104f6eae\",\"type\":\"LegendItem\"},{\"attributes\":{\"dimension\":1,\"plot\":{\"id\":\"11e1e1b0-1653-4e95-9ef1-4ccbb1051993\",\"subtype\":\"Figure\",\"type\":\"Plot\"},\"ticker\":{\"id\":\"2b3612df-ee30-4442-bcf4-ddd5b8b0eb0d\",\"type\":\"BasicTicker\"}},\"id\":\"86d540cc-b467-4908-ba9a-c27f1026d466\",\"type\":\"Grid\"},{\"attributes\":{\"bottom\":{\"expr\":{\"id\":\"8c7fbeb0-35e7-4218-bfd7-c6a4c344b9c5\",\"type\":\"Stack\"}},\"fill_alpha\":{\"value\":0.1},\"fill_color\":{\"value\":\"#1f77b4\"},\"line_alpha\":{\"value\":0.1},\"line_color\":{\"value\":\"#1f77b4\"},\"top\":{\"expr\":{\"id\":\"6c6c80b5-c421-4ec9-a260-7b0d064888e7\",\"type\":\"Stack\"}},\"width\":{\"value\":1921320000.0},\"x\":{\"field\":\"dates\"}},\"id\":\"4e8fde1e-00b2-44b1-bccc-01ddcda0e202\",\"type\":\"VBar\"},{\"attributes\":{\"data_source\":{\"id\":\"f8c08198-0458-44a9-afce-c05ff514e662\",\"type\":\"ColumnDataSource\"},\"glyph\":{\"id\":\"accb719a-143b-48f4-af4e-3f5d9e9ec49d\",\"type\":\"VBar\"},\"hover_glyph\":null,\"muted_glyph\":null,\"nonselection_glyph\":{\"id\":\"a76de816-f6e6-4765-9d9e-eafc5303b6ce\",\"type\":\"VBar\"},\"selection_glyph\":null,\"view\":{\"id\":\"60691bc1-3ce2-49a5-a2ae-8a5e2bb3917a\",\"type\":\"CDSView\"}},\"id\":\"07668a2f-ff09-4dd6-a4fd-171941507214\",\"type\":\"GlyphRenderer\"},{\"attributes\":{\"fields\":[\"core services\",\"core goods\"]},\"id\":\"3708715c-447e-4026-99d4-0da0d504c4f5\",\"type\":\"Stack\"},{\"attributes\":{\"fields\":[\"core services\",\"core goods\"]},\"id\":\"bc1937fe-69c1-4284-bce7-e16fab3e4a14\",\"type\":\"Stack\"},{\"attributes\":{},\"id\":\"2bd7f745-a39b-438f-9c6b-5cbdb3b6a44e\",\"type\":\"PanTool\"},{\"attributes\":{\"source\":{\"id\":\"f8c08198-0458-44a9-afce-c05ff514e662\",\"type\":\"ColumnDataSource\"}},\"id\":\"85984698-d9c2-4b40-8e31-009ac57bf414\",\"type\":\"CDSView\"},{\"attributes\":{},\"id\":\"6a794ba7-c33b-4944-8552-81e5e3baee3d\",\"type\":\"WheelZoomTool\"},{\"attributes\":{\"data_source\":{\"id\":\"f8c08198-0458-44a9-afce-c05ff514e662\",\"type\":\"ColumnDataSource\"},\"glyph\":{\"id\":\"755a82a7-f530-49f3-af3e-95552d1dc740\",\"type\":\"VBar\"},\"hover_glyph\":null,\"muted_glyph\":null,\"nonselection_glyph\":{\"id\":\"4e8fde1e-00b2-44b1-bccc-01ddcda0e202\",\"type\":\"VBar\"},\"selection_glyph\":null,\"view\":{\"id\":\"85984698-d9c2-4b40-8e31-009ac57bf414\",\"type\":\"CDSView\"}},\"id\":\"2ae80ac6-cccd-4eb2-8f20-dd3c51c48c28\",\"type\":\"GlyphRenderer\"},{\"attributes\":{\"overlay\":{\"id\":\"3d786823-a1fc-43bf-b401-dc2535337fb1\",\"type\":\"BoxAnnotation\"}},\"id\":\"5b1b575b-68c8-4484-a383-e9fa52b9d958\",\"type\":\"BoxZoomTool\"},{\"attributes\":{},\"id\":\"32a3ec3e-98a3-418c-a746-302d1a1ee2f3\",\"type\":\"Selection\"},{\"attributes\":{},\"id\":\"12438365-4aaa-458c-99ca-04d4d222f2d4\",\"type\":\"ResetTool\"},{\"attributes\":{\"fields\":[\"core services\",\"core goods\",\"shelter\",\"food & energy\"]},\"id\":\"fa9993ea-af30-4ae4-8141-76c9b9ba7169\",\"type\":\"Stack\"},{\"attributes\":{\"data_source\":{\"id\":\"8da6d7e4-734d-45b8-9476-c44e53929a6a\",\"type\":\"ColumnDataSource\"},\"glyph\":{\"id\":\"c63338b8-d54e-4333-be74-cb5864debbf3\",\"type\":\"Line\"},\"hover_glyph\":null,\"muted_glyph\":null,\"nonselection_glyph\":{\"id\":\"b5bc0081-4569-4308-b4dd-cac405c4f32c\",\"type\":\"Line\"},\"selection_glyph\":null,\"view\":{\"id\":\"42d093f8-0343-475a-b49d-721146e5fb61\",\"type\":\"CDSView\"}},\"id\":\"ec7dfb9d-8339-458b-b0a4-0c17716c1131\",\"type\":\"GlyphRenderer\"},{\"attributes\":{\"bottom_units\":\"screen\",\"fill_alpha\":{\"value\":0.5},\"fill_color\":{\"value\":\"lightgrey\"},\"left_units\":\"screen\",\"level\":\"overlay\",\"line_alpha\":{\"value\":1.0},\"line_color\":{\"value\":\"black\"},\"line_dash\":[4,4],\"line_width\":{\"value\":2},\"plot\":null,\"render_mode\":\"css\",\"right_units\":\"screen\",\"top_units\":\"screen\"},\"id\":\"3d786823-a1fc-43bf-b401-dc2535337fb1\",\"type\":\"BoxAnnotation\"},{\"attributes\":{\"fields\":[\"core services\",\"core goods\",\"shelter\"]},\"id\":\"34f63216-474e-4afa-b2e7-f63c2c206445\",\"type\":\"Stack\"},{\"attributes\":{\"fields\":[\"core services\",\"core goods\",\"shelter\"]},\"id\":\"34470bdd-719b-43d4-affd-a195017cd53b\",\"type\":\"Stack\"},{\"attributes\":{\"bottom\":{\"expr\":{\"id\":\"b4c06fc0-c638-4e4a-81a7-11e3cb212278\",\"type\":\"Stack\"}},\"fill_alpha\":{\"value\":0.1},\"fill_color\":{\"value\":\"#1f77b4\"},\"line_alpha\":{\"value\":0.1},\"line_color\":{\"value\":\"#1f77b4\"},\"top\":{\"expr\":{\"id\":\"3708715c-447e-4026-99d4-0da0d504c4f5\",\"type\":\"Stack\"}},\"width\":{\"value\":1921320000.0},\"x\":{\"field\":\"dates\"}},\"id\":\"3dd9afc0-f625-4ea5-9efb-51a9175a15a6\",\"type\":\"VBar\"},{\"attributes\":{\"source\":{\"id\":\"3146e460-12ca-47f0-a038-3483eee39000\",\"type\":\"ColumnDataSource\"}},\"id\":\"8b21f3d1-8bfe-4236-a402-1be26e431595\",\"type\":\"CDSView\"},{\"attributes\":{},\"id\":\"49fb2afb-138a-441f-8509-5eccb3677ebd\",\"type\":\"DatetimeTickFormatter\"},{\"attributes\":{\"bottom\":{\"expr\":{\"id\":\"9c3e69e6-9c80-4b1e-9464-d4ccd1150153\",\"type\":\"Stack\"}},\"fill_alpha\":{\"value\":0.1},\"fill_color\":{\"value\":\"#1f77b4\"},\"line_alpha\":{\"value\":0.1},\"line_color\":{\"value\":\"#1f77b4\"},\"top\":{\"expr\":{\"id\":\"41bb89cd-3164-45b3-919f-4e506b265a30\",\"type\":\"Stack\"}},\"width\":{\"value\":1921320000.0},\"x\":{\"field\":\"dates\"}},\"id\":\"be8f45fc-ab2b-4de9-bf03-4a9d4eb1f880\",\"type\":\"VBar\"},{\"attributes\":{\"bottom\":{\"expr\":{\"id\":\"9c3e69e6-9c80-4b1e-9464-d4ccd1150153\",\"type\":\"Stack\"}},\"fill_color\":{\"value\":\"#FFEA00\"},\"line_alpha\":{\"value\":0},\"line_color\":{\"value\":\"#FFEA00\"},\"top\":{\"expr\":{\"id\":\"41bb89cd-3164-45b3-919f-4e506b265a30\",\"type\":\"Stack\"}},\"width\":{\"value\":1921320000.0},\"x\":{\"field\":\"dates\"}},\"id\":\"26068381-7e87-4b2b-b3da-aae0ef0c48fa\",\"type\":\"VBar\"},{\"attributes\":{\"source\":{\"id\":\"3146e460-12ca-47f0-a038-3483eee39000\",\"type\":\"ColumnDataSource\"}},\"id\":\"d050e1a3-986e-4c17-996c-b8e110e076a0\",\"type\":\"CDSView\"},{\"attributes\":{\"data_source\":{\"id\":\"3146e460-12ca-47f0-a038-3483eee39000\",\"type\":\"ColumnDataSource\"},\"glyph\":{\"id\":\"26068381-7e87-4b2b-b3da-aae0ef0c48fa\",\"type\":\"VBar\"},\"hover_glyph\":null,\"muted_glyph\":null,\"nonselection_glyph\":{\"id\":\"be8f45fc-ab2b-4de9-bf03-4a9d4eb1f880\",\"type\":\"VBar\"},\"selection_glyph\":null,\"view\":{\"id\":\"d050e1a3-986e-4c17-996c-b8e110e076a0\",\"type\":\"CDSView\"}},\"id\":\"48532dfe-5a5f-492b-8f94-da906807a266\",\"type\":\"GlyphRenderer\"},{\"attributes\":{\"data_source\":{\"id\":\"3146e460-12ca-47f0-a038-3483eee39000\",\"type\":\"ColumnDataSource\"},\"glyph\":{\"id\":\"cb4ead5d-5d80-467d-bdc2-1f5581d322f8\",\"type\":\"VBar\"},\"hover_glyph\":null,\"muted_glyph\":null,\"nonselection_glyph\":{\"id\":\"3dd9afc0-f625-4ea5-9efb-51a9175a15a6\",\"type\":\"VBar\"},\"selection_glyph\":null,\"view\":{\"id\":\"8b21f3d1-8bfe-4236-a402-1be26e431595\",\"type\":\"CDSView\"}},\"id\":\"991b2314-3a27-442a-aaa7-97c60f54e79b\",\"type\":\"GlyphRenderer\"},{\"attributes\":{\"mantissas\":[1,2,5],\"max_interval\":500.0,\"num_minor_ticks\":0},\"id\":\"3318c610-fb5e-47cb-8aca-892eca0ac984\",\"type\":\"AdaptiveTicker\"}],\"root_ids\":[\"11e1e1b0-1653-4e95-9ef1-4ccbb1051993\"]},\"title\":\"Bokeh Application\",\"version\":\"0.12.16\"}};\n",
       "  var render_items = [{\"docid\":\"b84fa1dd-cb11-49ee-b610-25c7fa8915f7\",\"elementid\":\"22ccdf9e-d649-4c1f-90a9-cc205c854d12\",\"modelid\":\"11e1e1b0-1653-4e95-9ef1-4ccbb1051993\"}];\n",
       "  root.Bokeh.embed.embed_items_notebook(docs_json, render_items);\n",
       "\n",
       "  }\n",
       "  if (root.Bokeh !== undefined) {\n",
       "    embed_document(root);\n",
       "  } else {\n",
       "    var attempts = 0;\n",
       "    var timer = setInterval(function(root) {\n",
       "      if (root.Bokeh !== undefined) {\n",
       "        embed_document(root);\n",
       "        clearInterval(timer);\n",
       "      }\n",
       "      attempts++;\n",
       "      if (attempts > 100) {\n",
       "        console.log(\"Bokeh: ERROR: Unable to run BokehJS code because BokehJS library is missing\")\n",
       "        clearInterval(timer);\n",
       "      }\n",
       "    }, 10, root)\n",
       "  }\n",
       "})(window);"
      ],
      "application/vnd.bokehjs_exec.v0+json": ""
     },
     "metadata": {
      "application/vnd.bokehjs_exec.v0+json": {
       "id": "11e1e1b0-1653-4e95-9ef1-4ccbb1051993"
      }
     },
     "output_type": "display_data"
    }
   ],
   "source": [
    "# HTML text that shows when hovering\n",
    "tooltips = \"\"\"\n",
    "    <div style=\"line-height: 110%;\">\n",
    "        <span style=\"font-size: 11px; font-style: italic;\">@strdate:</span><br>\n",
    "        <span style=\"font-size: 10px; padding: 0 5px;\">CPI Inflation: </span>\n",
    "        <span style=\"font-size: 11px; font-weight: bold;\">@total{1.1}%</span><br>\n",
    "        <span style=\"font-size: 9px; font-style: italic;\">Contribution from:</span><br>\n",
    "        <div style=\"text-align: right;\">\n",
    "            <span style=\"font-size: 10px; padding: 0 5px;\">Core services: </span>\n",
    "            <span style=\"display: inline-block; font-size: 11px; font-weight: bold; min-width: 26px;\">@{core services}{1.1}</span>\n",
    "            <span style=\"display: inline-block; color: #FFEA00; width: 8px;\">▮</span><br> \n",
    "            <span style=\"font-size: 10px; padding: 0 5px;\">Core goods: </span>\n",
    "            <span style=\"display: inline-block; font-size: 11px; font-weight: bold; min-width: 26px;\">@{core goods}{1.1}</span>\n",
    "            <span style=\"display: inline-block; color: #00c853; width: 8px;\">▮</span><br>\n",
    "            <span style=\"font-size: 10px; padding: 0 5px;\">Shelter: </span>\n",
    "            <span style=\"display: inline-block; font-size: 11px; font-weight: bold; min-width: 26px;\">@shelter{1.1}</span>\n",
    "            <span style=\"display: inline-block; color: #80DEEA; width: 8px;\">▮</span><br>\n",
    "            <span style=\"font-size: 10px; padding: 0 5px;\">Food & Energy: </span>\n",
    "            <span style=\"display: inline-block; font-size: 11px; font-weight: bold; min-width: 26px;\">@{food & energy}{1.1}</span>\n",
    "            <span style=\"display: inline-block; color: #304FFE; width: 8px;\">▮</span><br>\n",
    "        </div>\n",
    "    </div>\n",
    "\"\"\"\n",
    "# Bar width determined by how many bars\n",
    "width = ((d2.index[-1] - d2.index[0]).total_seconds() \n",
    "         * 750.0 / len(d2.index))\n",
    "\n",
    "# horizontal line at zero\n",
    "zero_line = Span(location=0, dimension='width', \n",
    "                 line_color='gray', line_width=1)\n",
    "\n",
    "p = figure(plot_width=700, plot_height=300, \n",
    "           x_axis_type='datetime', \n",
    "           tools=['pan, wheel_zoom, box_zoom, reset'], \n",
    "           logo=None,\n",
    "           toolbar_location=None,  \n",
    "           y_range=Range1d(-2.2, 4.0))\n",
    "p.vbar_stack(col_names, x='dates', width=width, \n",
    "             color=['#FFEA00', '#00c853', '#80DEEA', '#304FFE'], \n",
    "             legend=['Core services', 'Core goods', 'Shelter', 'Food & energy'], \n",
    "             line_alpha=0, source=ColumnDataSource(infl))\n",
    "p.vbar_stack(col_names, x='dates', width=width, \n",
    "             color=['#FFEA00', '#00c853', '#80DEEA', '#304FFE'], \n",
    "             line_alpha=0, source=ColumnDataSource(defl))\n",
    "\n",
    "p.add_layout(zero_line)\n",
    "\n",
    "r1 = p.line('date', 'total', color='white', alpha=0.0, source=ColumnDataSource(d2))\n",
    "\n",
    "p.sizing_mode = 'scale_width'\n",
    "p.xgrid.grid_line_color = None\n",
    "p.outline_line_color = 'white'\n",
    "p.axis.axis_line_color = 'white'\n",
    "p.yaxis.minor_tick_line_color = None\n",
    "p.toolbar.active_drag = None\n",
    "p.legend.orientation = \"horizontal\"\n",
    "p.legend.location = \"top_left\"\n",
    "p.legend.border_line_alpha = 0\n",
    "p.legend.background_fill_alpha = 0\n",
    "p.legend.margin = 2\n",
    "p.legend.padding = 0\n",
    "p.legend.spacing = 5\n",
    "p.legend.label_standoff = 1\n",
    "p.legend.glyph_height = 16\n",
    "p.legend.glyph_width = 8\n",
    "p.legend.label_text_font_size = '8.5pt'\n",
    "\n",
    "p.add_tools(HoverTool(tooltips=tooltips, show_arrow=False, mode='vline',  renderers=[r1]))\n",
    "\n",
    "script, div = components(p)\n",
    "with open('C:/Working/bdecon.github.io/plots/cpi_comp.html', 'w') as text_file:\n",
    "    text_file.write(f'{script} {div}')\n",
    "\n",
    "show(p)"
   ]
  }
 ],
 "metadata": {
  "kernelspec": {
   "display_name": "Python 3",
   "language": "python",
   "name": "python3"
  },
  "language_info": {
   "codemirror_mode": {
    "name": "ipython",
    "version": 3
   },
   "file_extension": ".py",
   "mimetype": "text/x-python",
   "name": "python",
   "nbconvert_exporter": "python",
   "pygments_lexer": "ipython3",
   "version": "3.6.5"
  }
 },
 "nbformat": 4,
 "nbformat_minor": 2
}
