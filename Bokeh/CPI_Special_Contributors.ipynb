{
 "cells": [
  {
   "cell_type": "markdown",
   "metadata": {
    "ExecuteTime": {
     "end_time": "2018-03-21T16:37:16.108780Z",
     "start_time": "2018-03-21T16:37:16.077537Z"
    }
   },
   "source": [
    "# CPI Special Calculations over time with Python\n",
    "\n",
    "Brian Dew, @bd_econ, Center for Economic and Policy Research\n",
    "\n",
    "May 10, 2018\n",
    "\n",
    "----- \n",
    "Every two years the relative importance of CPI items is updated. I'd like to know how a few special aggregates contribute to inflation (unfortunately not seasonally adjusted), and to do this I need to compensate for the updates. BLS explains how to do this here: https://www.bls.gov/cpi/tables/relative-importance/home.htm\n",
    "\n"
   ]
  },
  {
   "cell_type": "code",
   "execution_count": 1,
   "metadata": {
    "ExecuteTime": {
     "end_time": "2018-05-28T18:09:30.605987Z",
     "start_time": "2018-05-28T18:09:27.350486Z"
    },
    "code_folding": [
     0
    ]
   },
   "outputs": [],
   "source": [
    "# Import preliminaries\n",
    "import pandas as pd\n",
    "import numpy as np\n",
    "import requests\n",
    "import json\n",
    "import config"
   ]
  },
  {
   "cell_type": "markdown",
   "metadata": {},
   "source": [
    "#### Find series ids"
   ]
  },
  {
   "cell_type": "code",
   "execution_count": 2,
   "metadata": {
    "ExecuteTime": {
     "end_time": "2018-05-28T18:09:31.780242Z",
     "start_time": "2018-05-28T18:09:30.606420Z"
    },
    "code_folding": [
     0
    ]
   },
   "outputs": [],
   "source": [
    "# Use BLS Flat Files to find series IDs and series info\n",
    "s_url = 'https://download.bls.gov/pub/time.series/cu/cu.series'\n",
    "s = pd.read_table(s_url, sep='\\t')\n",
    "s2 = s[(s['seasonal'] == 'U') & \n",
    "       (s['base_code'] == 'S') &\n",
    "       (s['area_code'] == '0000') &\n",
    "       (s['periodicity_code'] == 'R')]"
   ]
  },
  {
   "cell_type": "markdown",
   "metadata": {},
   "source": [
    "#### Manually look up the relative importance"
   ]
  },
  {
   "cell_type": "code",
   "execution_count": 3,
   "metadata": {
    "ExecuteTime": {
     "end_time": "2018-05-28T18:09:31.791236Z",
     "start_time": "2018-05-28T18:09:31.781230Z"
    },
    "code_folding": [
     0
    ]
   },
   "outputs": [],
   "source": [
    "# Relative weights for series of interest, from here: \n",
    "# https://www.bls.gov/cpi/tables/relative-importance/home.htm\n",
    "rel_wgt = {'CUUR0000SAF1': [(('2013-12-01', '2015-12-01'), 13.891), \n",
    "                           (('2015-12-01', '2017-12-01'), 14.015), \n",
    "                           (('2017-12-01', '2019-12-01'), 13.384)],\n",
    "           'CUUR0000SA0': [(('2013-12-01', '2015-12-01'), 100.0), \n",
    "                           (('2015-12-01', '2017-12-01'), 100.0), \n",
    "                           (('2017-12-01', '2019-12-01'), 100.0)],\n",
    "           'CUUR0000SA0E': [(('2013-12-01', '2015-12-01'), 9.046), \n",
    "                            (('2015-12-01', '2017-12-01'), 6.816), \n",
    "                            (('2017-12-01', '2019-12-01'), 7.513)],\n",
    "           'CUUR0000SAH1': [(('2013-12-01', '2015-12-01'), 32.029), \n",
    "                            (('2015-12-01', '2017-12-01'), 33.15), \n",
    "                            (('2017-12-01', '2019-12-01'), 32.843)],\n",
    "           'CUUR0000SACL1E': [(('2013-12-01', '2015-12-01'), 19.71), \n",
    "                              (('2015-12-01', '2017-12-01'), 19.613), \n",
    "                              (('2017-12-01', '2019-12-01'), 19.849)],\n",
    "           'CUUR0000SASLE': [(('2013-12-01', '2015-12-01'), 57.353), \n",
    "                             (('2015-12-01', '2017-12-01'), 59.556), \n",
    "                             (('2017-12-01', '2019-12-01'), 59.254)]}"
   ]
  },
  {
   "cell_type": "markdown",
   "metadata": {},
   "source": [
    "#### Location of BLS API and parameters"
   ]
  },
  {
   "cell_type": "code",
   "execution_count": 4,
   "metadata": {
    "ExecuteTime": {
     "end_time": "2018-05-28T18:09:32.101434Z",
     "start_time": "2018-05-28T18:09:31.793227Z"
    },
    "code_folding": [
     0
    ]
   },
   "outputs": [],
   "source": [
    "# API access to Bureau of Labor Statistics data\n",
    "url = 'https://api.bls.gov/publicAPI/v2/timeseries/data/'\n",
    "# API key in config.py which contains: bls_key = 'key'\n",
    "key = '?registrationkey={}'.format(config.bls_key)\n",
    "\n",
    "headers = {'Content-type': 'application/json'}    # Request json fmt\n",
    "param = {\"seriesid\": list(rel_wgt.keys()),           \n",
    "         \"startyear\": \"2013\", \"endyear\": \"2018\"}"
   ]
  },
  {
   "cell_type": "markdown",
   "metadata": {},
   "source": [
    "#### Request data from BLS API "
   ]
  },
  {
   "cell_type": "code",
   "execution_count": 5,
   "metadata": {
    "ExecuteTime": {
     "end_time": "2018-05-28T18:09:32.720328Z",
     "start_time": "2018-05-28T18:09:32.102433Z"
    },
    "code_folding": [
     0
    ]
   },
   "outputs": [
    {
     "name": "stdout",
     "output_type": "stream",
     "text": [
      "Status: REQUEST_SUCCEEDED\n",
      "Latest: January 2018\n"
     ]
    }
   ],
   "source": [
    "# Request all of the series in s\n",
    "p = requests.post(f'{url}{key}', data=json.dumps(param), headers=headers).json()\n",
    "print(f\"Status: {p['status']}\") # Print request status\n",
    "p = p['Results']['series']  # Keep data portion of post results\n",
    "\n",
    "# Use first series to get the datetime values\n",
    "idx = pd.to_datetime([f\"{i['period']} {i['year']}\" for i in p[0]['data']])\n",
    "print(f'Latest: {idx[0]:%B %Y}') # Print latest value"
   ]
  },
  {
   "cell_type": "markdown",
   "metadata": {},
   "source": [
    "#### Store date and value for each series"
   ]
  },
  {
   "cell_type": "code",
   "execution_count": 6,
   "metadata": {
    "ExecuteTime": {
     "end_time": "2018-05-28T18:09:32.747319Z",
     "start_time": "2018-05-28T18:09:32.721327Z"
    },
    "code_folding": [
     0
    ]
   },
   "outputs": [],
   "source": [
    "# Convert API data to datetime date and float value\n",
    "data = {i['seriesID']: \n",
    "        [(pd.to_datetime(f'{r[\"year\"]}-{r[\"period\"][1:]}-01'), float(r['value'])) \n",
    "         for r in i['data']] for i in p}"
   ]
  },
  {
   "cell_type": "markdown",
   "metadata": {},
   "source": [
    "#### Store all the above in dictionary"
   ]
  },
  {
   "cell_type": "code",
   "execution_count": 7,
   "metadata": {
    "ExecuteTime": {
     "end_time": "2018-05-28T18:09:32.765314Z",
     "start_time": "2018-05-28T18:09:32.749319Z"
    },
    "code_folding": [
     0
    ]
   },
   "outputs": [],
   "source": [
    "# Dictionary combining all the info for each series\n",
    "d = {i: {'name': s2[s2['series_id'].str.strip() == i]['series_title'].values[0],\n",
    "         'values': data[i],\n",
    "         'rel_wgt': rel_wgt[i]} for i in list(rel_wgt.keys())}"
   ]
  },
  {
   "cell_type": "markdown",
   "metadata": {},
   "source": [
    "#### Adjust for changes to relative importance"
   ]
  },
  {
   "cell_type": "code",
   "execution_count": 8,
   "metadata": {
    "ExecuteTime": {
     "end_time": "2018-05-28T18:09:33.058256Z",
     "start_time": "2018-05-28T18:09:32.766313Z"
    },
    "code_folding": [
     0
    ]
   },
   "outputs": [],
   "source": [
    "# Adjust for changes to relative importance\n",
    "df1, df2, df3 = pd.DataFrame(), pd.DataFrame(), pd.DataFrame()\n",
    "for i, v in d.items():\n",
    "    start, end = v['rel_wgt'][0][0][0], v['rel_wgt'][0][0][1]\n",
    "    rwc, rwn = v['rel_wgt'][0][1], v['rel_wgt'][1][1]\n",
    "    df1.at[start: end, i] = (pd.DataFrame(v['values'])\n",
    "        .iloc[::-1].set_index(0).loc[start: end][1])\n",
    "    df1[i] = (df1[i].diff().cumsum() / df1.loc[start, i] + 1)\n",
    "    df1.at[start, i] = 1.0\n",
    "    df1[i] = (df1[i] * rwc)\n",
    "    link = (df1.loc[end, i] / rwn)\n",
    "    # Next set of dates\n",
    "    start, end = v['rel_wgt'][1][0][0], v['rel_wgt'][1][0][1]\n",
    "    rwc, rwn = v['rel_wgt'][1][1], v['rel_wgt'][2][1]\n",
    "    df2[i] = (pd.DataFrame(v['values'])\n",
    "        .iloc[::-1].set_index(0).loc[start: end][1])\n",
    "    df2[i] = df2[i].diff().cumsum() / df2.loc[start, i] + 1\n",
    "    df2.at[start, i] = 1.0\n",
    "    #df1.at[start: end, i] = (df1.loc[start: end, i] * rwc)\n",
    "    df2[i] = (df2[i] * rwc) * link\n",
    "    link = (df2.loc[end, i] / rwn)\n",
    "    # Next set of dates\n",
    "    start, end = v['rel_wgt'][2][0][0], v['rel_wgt'][2][0][1]\n",
    "    rwc = v['rel_wgt'][2][1]\n",
    "    df3[i] = (pd.DataFrame(v['values'])\n",
    "        .iloc[::-1].set_index(0).loc[start: end][1])\n",
    "    df3[i] = df3[i].diff().cumsum() / df3.loc[start, i] + 1\n",
    "    df3.at[start, i] = 1.0\n",
    "    df3[i] = (df3[i] * rwc) * link"
   ]
  },
  {
   "cell_type": "markdown",
   "metadata": {},
   "source": [
    "#### Calculate contribution to total"
   ]
  },
  {
   "cell_type": "code",
   "execution_count": 9,
   "metadata": {
    "ExecuteTime": {
     "end_time": "2018-05-28T18:09:33.111230Z",
     "start_time": "2018-05-28T18:09:33.061248Z"
    },
    "code_folding": []
   },
   "outputs": [],
   "source": [
    "# Calculate exactly what I want to show\n",
    "final = pd.concat([df1, df2, df3])  # Combine the various relative importance dfs\n",
    "final = final[~final.index.duplicated(keep='first')].diff(12) # Drop duplicate pivot year data\n",
    "# Core services is services less food, energy, and shelter\n",
    "final['core_services'] = final['CUUR0000SASLE'] - final['CUUR0000SAH1']\n",
    "# Combine food and energy\n",
    "final['food_energy'] = final['CUUR0000SAF1'] + final['CUUR0000SA0E']\n",
    "final = final.dropna().round(2)\n",
    "d2 = final[['core_services', 'CUUR0000SACL1E', 'CUUR0000SAH1', 'food_energy']].loc['2015-01-01':]\n",
    "# Rename columns\n",
    "col_names = ['core services', 'core goods', 'shelter', 'food & energy']\n",
    "d2.columns = col_names\n",
    "d2['total'] = final['CUUR0000SA0'].loc['2015-01-01':]\n",
    "d2['strdate'] = d2.index.strftime('%B %Y')\n",
    "d2['date'] = d2.index"
   ]
  },
  {
   "cell_type": "markdown",
   "metadata": {},
   "source": [
    "#### Bokeh requires separate positive and negative values\n",
    "\n",
    "This seems to be a quirk with the stacked bar chart, explained here: https://bokeh.pydata.org/en/latest/docs/user_guide/categorical.html#stacked. Still worth trying to get it to work without the split."
   ]
  },
  {
   "cell_type": "code",
   "execution_count": 10,
   "metadata": {
    "ExecuteTime": {
     "end_time": "2018-05-28T18:09:33.120227Z",
     "start_time": "2018-05-28T18:09:33.113229Z"
    },
    "code_folding": []
   },
   "outputs": [],
   "source": [
    "# Split positive and negative values\n",
    "infl = {i :[n if n > -0.0001 else 0 for n in list(d2[i])] for i in col_names}\n",
    "infl['dates'] = list(d2.index)\n",
    "infl['strdate'] = d2.index.strftime('%b %Y')\n",
    "defl = {i :[n  if n < -0.0001 else 0 for n in list(d2[i])] for i in col_names}\n",
    "defl['dates'] = list(d2.index)\n",
    "defl['strdate'] = d2.index.strftime('%b %Y')"
   ]
  },
  {
   "cell_type": "markdown",
   "metadata": {},
   "source": [
    "#### Bokeh settings"
   ]
  },
  {
   "cell_type": "code",
   "execution_count": 11,
   "metadata": {
    "ExecuteTime": {
     "end_time": "2018-05-28T18:09:35.571245Z",
     "start_time": "2018-05-28T18:09:33.121227Z"
    },
    "code_folding": []
   },
   "outputs": [
    {
     "data": {
      "text/html": [
       "\n",
       "    <div class=\"bk-root\">\n",
       "        <a href=\"https://bokeh.pydata.org\" target=\"_blank\" class=\"bk-logo bk-logo-small bk-logo-notebook\"></a>\n",
       "        <span id=\"96975fdd-2267-4062-852f-7f2778b256e0\">Loading BokehJS ...</span>\n",
       "    </div>"
      ]
     },
     "metadata": {},
     "output_type": "display_data"
    },
    {
     "data": {
      "application/javascript": [
       "\n",
       "(function(root) {\n",
       "  function now() {\n",
       "    return new Date();\n",
       "  }\n",
       "\n",
       "  var force = true;\n",
       "\n",
       "  if (typeof (root._bokeh_onload_callbacks) === \"undefined\" || force === true) {\n",
       "    root._bokeh_onload_callbacks = [];\n",
       "    root._bokeh_is_loading = undefined;\n",
       "  }\n",
       "\n",
       "  var JS_MIME_TYPE = 'application/javascript';\n",
       "  var HTML_MIME_TYPE = 'text/html';\n",
       "  var EXEC_MIME_TYPE = 'application/vnd.bokehjs_exec.v0+json';\n",
       "  var CLASS_NAME = 'output_bokeh rendered_html';\n",
       "\n",
       "  /**\n",
       "   * Render data to the DOM node\n",
       "   */\n",
       "  function render(props, node) {\n",
       "    var script = document.createElement(\"script\");\n",
       "    node.appendChild(script);\n",
       "  }\n",
       "\n",
       "  /**\n",
       "   * Handle when an output is cleared or removed\n",
       "   */\n",
       "  function handleClearOutput(event, handle) {\n",
       "    var cell = handle.cell;\n",
       "\n",
       "    var id = cell.output_area._bokeh_element_id;\n",
       "    var server_id = cell.output_area._bokeh_server_id;\n",
       "    // Clean up Bokeh references\n",
       "    if (id !== undefined) {\n",
       "      Bokeh.index[id].model.document.clear();\n",
       "      delete Bokeh.index[id];\n",
       "    }\n",
       "\n",
       "    if (server_id !== undefined) {\n",
       "      // Clean up Bokeh references\n",
       "      var cmd = \"from bokeh.io.state import curstate; print(curstate().uuid_to_server['\" + server_id + \"'].get_sessions()[0].document.roots[0]._id)\";\n",
       "      cell.notebook.kernel.execute(cmd, {\n",
       "        iopub: {\n",
       "          output: function(msg) {\n",
       "            var element_id = msg.content.text.trim();\n",
       "            Bokeh.index[element_id].model.document.clear();\n",
       "            delete Bokeh.index[element_id];\n",
       "          }\n",
       "        }\n",
       "      });\n",
       "      // Destroy server and session\n",
       "      var cmd = \"import bokeh.io.notebook as ion; ion.destroy_server('\" + server_id + \"')\";\n",
       "      cell.notebook.kernel.execute(cmd);\n",
       "    }\n",
       "  }\n",
       "\n",
       "  /**\n",
       "   * Handle when a new output is added\n",
       "   */\n",
       "  function handleAddOutput(event, handle) {\n",
       "    var output_area = handle.output_area;\n",
       "    var output = handle.output;\n",
       "\n",
       "    // limit handleAddOutput to display_data with EXEC_MIME_TYPE content only\n",
       "    if ((output.output_type != \"display_data\") || (!output.data.hasOwnProperty(EXEC_MIME_TYPE))) {\n",
       "      return\n",
       "    }\n",
       "\n",
       "    var toinsert = output_area.element.find(\".\" + CLASS_NAME.split(' ')[0]);\n",
       "\n",
       "    if (output.metadata[EXEC_MIME_TYPE][\"id\"] !== undefined) {\n",
       "      toinsert[toinsert.length - 1].firstChild.textContent = output.data[JS_MIME_TYPE];\n",
       "      // store reference to embed id on output_area\n",
       "      output_area._bokeh_element_id = output.metadata[EXEC_MIME_TYPE][\"id\"];\n",
       "    }\n",
       "    if (output.metadata[EXEC_MIME_TYPE][\"server_id\"] !== undefined) {\n",
       "      var bk_div = document.createElement(\"div\");\n",
       "      bk_div.innerHTML = output.data[HTML_MIME_TYPE];\n",
       "      var script_attrs = bk_div.children[0].attributes;\n",
       "      for (var i = 0; i < script_attrs.length; i++) {\n",
       "        toinsert[toinsert.length - 1].firstChild.setAttribute(script_attrs[i].name, script_attrs[i].value);\n",
       "      }\n",
       "      // store reference to server id on output_area\n",
       "      output_area._bokeh_server_id = output.metadata[EXEC_MIME_TYPE][\"server_id\"];\n",
       "    }\n",
       "  }\n",
       "\n",
       "  function register_renderer(events, OutputArea) {\n",
       "\n",
       "    function append_mime(data, metadata, element) {\n",
       "      // create a DOM node to render to\n",
       "      var toinsert = this.create_output_subarea(\n",
       "        metadata,\n",
       "        CLASS_NAME,\n",
       "        EXEC_MIME_TYPE\n",
       "      );\n",
       "      this.keyboard_manager.register_events(toinsert);\n",
       "      // Render to node\n",
       "      var props = {data: data, metadata: metadata[EXEC_MIME_TYPE]};\n",
       "      render(props, toinsert[toinsert.length - 1]);\n",
       "      element.append(toinsert);\n",
       "      return toinsert\n",
       "    }\n",
       "\n",
       "    /* Handle when an output is cleared or removed */\n",
       "    events.on('clear_output.CodeCell', handleClearOutput);\n",
       "    events.on('delete.Cell', handleClearOutput);\n",
       "\n",
       "    /* Handle when a new output is added */\n",
       "    events.on('output_added.OutputArea', handleAddOutput);\n",
       "\n",
       "    /**\n",
       "     * Register the mime type and append_mime function with output_area\n",
       "     */\n",
       "    OutputArea.prototype.register_mime_type(EXEC_MIME_TYPE, append_mime, {\n",
       "      /* Is output safe? */\n",
       "      safe: true,\n",
       "      /* Index of renderer in `output_area.display_order` */\n",
       "      index: 0\n",
       "    });\n",
       "  }\n",
       "\n",
       "  // register the mime type if in Jupyter Notebook environment and previously unregistered\n",
       "  if (root.Jupyter !== undefined) {\n",
       "    var events = require('base/js/events');\n",
       "    var OutputArea = require('notebook/js/outputarea').OutputArea;\n",
       "\n",
       "    if (OutputArea.prototype.mime_types().indexOf(EXEC_MIME_TYPE) == -1) {\n",
       "      register_renderer(events, OutputArea);\n",
       "    }\n",
       "  }\n",
       "\n",
       "  \n",
       "  if (typeof (root._bokeh_timeout) === \"undefined\" || force === true) {\n",
       "    root._bokeh_timeout = Date.now() + 5000;\n",
       "    root._bokeh_failed_load = false;\n",
       "  }\n",
       "\n",
       "  var NB_LOAD_WARNING = {'data': {'text/html':\n",
       "     \"<div style='background-color: #fdd'>\\n\"+\n",
       "     \"<p>\\n\"+\n",
       "     \"BokehJS does not appear to have successfully loaded. If loading BokehJS from CDN, this \\n\"+\n",
       "     \"may be due to a slow or bad network connection. Possible fixes:\\n\"+\n",
       "     \"</p>\\n\"+\n",
       "     \"<ul>\\n\"+\n",
       "     \"<li>re-rerun `output_notebook()` to attempt to load from CDN again, or</li>\\n\"+\n",
       "     \"<li>use INLINE resources instead, as so:</li>\\n\"+\n",
       "     \"</ul>\\n\"+\n",
       "     \"<code>\\n\"+\n",
       "     \"from bokeh.resources import INLINE\\n\"+\n",
       "     \"output_notebook(resources=INLINE)\\n\"+\n",
       "     \"</code>\\n\"+\n",
       "     \"</div>\"}};\n",
       "\n",
       "  function display_loaded() {\n",
       "    var el = document.getElementById(\"96975fdd-2267-4062-852f-7f2778b256e0\");\n",
       "    if (el != null) {\n",
       "      el.textContent = \"BokehJS is loading...\";\n",
       "    }\n",
       "    if (root.Bokeh !== undefined) {\n",
       "      if (el != null) {\n",
       "        el.textContent = \"BokehJS \" + root.Bokeh.version + \" successfully loaded.\";\n",
       "      }\n",
       "    } else if (Date.now() < root._bokeh_timeout) {\n",
       "      setTimeout(display_loaded, 100)\n",
       "    }\n",
       "  }\n",
       "\n",
       "\n",
       "  function run_callbacks() {\n",
       "    try {\n",
       "      root._bokeh_onload_callbacks.forEach(function(callback) { callback() });\n",
       "    }\n",
       "    finally {\n",
       "      delete root._bokeh_onload_callbacks\n",
       "    }\n",
       "    console.info(\"Bokeh: all callbacks have finished\");\n",
       "  }\n",
       "\n",
       "  function load_libs(js_urls, callback) {\n",
       "    root._bokeh_onload_callbacks.push(callback);\n",
       "    if (root._bokeh_is_loading > 0) {\n",
       "      console.log(\"Bokeh: BokehJS is being loaded, scheduling callback at\", now());\n",
       "      return null;\n",
       "    }\n",
       "    if (js_urls == null || js_urls.length === 0) {\n",
       "      run_callbacks();\n",
       "      return null;\n",
       "    }\n",
       "    console.log(\"Bokeh: BokehJS not loaded, scheduling load and callback at\", now());\n",
       "    root._bokeh_is_loading = js_urls.length;\n",
       "    for (var i = 0; i < js_urls.length; i++) {\n",
       "      var url = js_urls[i];\n",
       "      var s = document.createElement('script');\n",
       "      s.src = url;\n",
       "      s.async = false;\n",
       "      s.onreadystatechange = s.onload = function() {\n",
       "        root._bokeh_is_loading--;\n",
       "        if (root._bokeh_is_loading === 0) {\n",
       "          console.log(\"Bokeh: all BokehJS libraries loaded\");\n",
       "          run_callbacks()\n",
       "        }\n",
       "      };\n",
       "      s.onerror = function() {\n",
       "        console.warn(\"failed to load library \" + url);\n",
       "      };\n",
       "      console.log(\"Bokeh: injecting script tag for BokehJS library: \", url);\n",
       "      document.getElementsByTagName(\"head\")[0].appendChild(s);\n",
       "    }\n",
       "  };var element = document.getElementById(\"96975fdd-2267-4062-852f-7f2778b256e0\");\n",
       "  if (element == null) {\n",
       "    console.log(\"Bokeh: ERROR: autoload.js configured with elementid '96975fdd-2267-4062-852f-7f2778b256e0' but no matching script tag was found. \")\n",
       "    return false;\n",
       "  }\n",
       "\n",
       "  var js_urls = [\"https://cdn.pydata.org/bokeh/release/bokeh-0.12.16.min.js\", \"https://cdn.pydata.org/bokeh/release/bokeh-widgets-0.12.16.min.js\", \"https://cdn.pydata.org/bokeh/release/bokeh-tables-0.12.16.min.js\", \"https://cdn.pydata.org/bokeh/release/bokeh-gl-0.12.16.min.js\"];\n",
       "\n",
       "  var inline_js = [\n",
       "    function(Bokeh) {\n",
       "      Bokeh.set_log_level(\"info\");\n",
       "    },\n",
       "    \n",
       "    function(Bokeh) {\n",
       "      \n",
       "    },\n",
       "    function(Bokeh) {\n",
       "      console.log(\"Bokeh: injecting CSS: https://cdn.pydata.org/bokeh/release/bokeh-0.12.16.min.css\");\n",
       "      Bokeh.embed.inject_css(\"https://cdn.pydata.org/bokeh/release/bokeh-0.12.16.min.css\");\n",
       "      console.log(\"Bokeh: injecting CSS: https://cdn.pydata.org/bokeh/release/bokeh-widgets-0.12.16.min.css\");\n",
       "      Bokeh.embed.inject_css(\"https://cdn.pydata.org/bokeh/release/bokeh-widgets-0.12.16.min.css\");\n",
       "      console.log(\"Bokeh: injecting CSS: https://cdn.pydata.org/bokeh/release/bokeh-tables-0.12.16.min.css\");\n",
       "      Bokeh.embed.inject_css(\"https://cdn.pydata.org/bokeh/release/bokeh-tables-0.12.16.min.css\");\n",
       "    }\n",
       "  ];\n",
       "\n",
       "  function run_inline_js() {\n",
       "    \n",
       "    if ((root.Bokeh !== undefined) || (force === true)) {\n",
       "      for (var i = 0; i < inline_js.length; i++) {\n",
       "        inline_js[i].call(root, root.Bokeh);\n",
       "      }if (force === true) {\n",
       "        display_loaded();\n",
       "      }} else if (Date.now() < root._bokeh_timeout) {\n",
       "      setTimeout(run_inline_js, 100);\n",
       "    } else if (!root._bokeh_failed_load) {\n",
       "      console.log(\"Bokeh: BokehJS failed to load within specified timeout.\");\n",
       "      root._bokeh_failed_load = true;\n",
       "    } else if (force !== true) {\n",
       "      var cell = $(document.getElementById(\"96975fdd-2267-4062-852f-7f2778b256e0\")).parents('.cell').data().cell;\n",
       "      cell.output_area.append_execute_result(NB_LOAD_WARNING)\n",
       "    }\n",
       "\n",
       "  }\n",
       "\n",
       "  if (root._bokeh_is_loading === 0) {\n",
       "    console.log(\"Bokeh: BokehJS loaded, going straight to plotting\");\n",
       "    run_inline_js();\n",
       "  } else {\n",
       "    load_libs(js_urls, function() {\n",
       "      console.log(\"Bokeh: BokehJS plotting callback run at\", now());\n",
       "      run_inline_js();\n",
       "    });\n",
       "  }\n",
       "}(window));"
      ],
      "application/vnd.bokehjs_load.v0+json": "\n(function(root) {\n  function now() {\n    return new Date();\n  }\n\n  var force = true;\n\n  if (typeof (root._bokeh_onload_callbacks) === \"undefined\" || force === true) {\n    root._bokeh_onload_callbacks = [];\n    root._bokeh_is_loading = undefined;\n  }\n\n  \n\n  \n  if (typeof (root._bokeh_timeout) === \"undefined\" || force === true) {\n    root._bokeh_timeout = Date.now() + 5000;\n    root._bokeh_failed_load = false;\n  }\n\n  var NB_LOAD_WARNING = {'data': {'text/html':\n     \"<div style='background-color: #fdd'>\\n\"+\n     \"<p>\\n\"+\n     \"BokehJS does not appear to have successfully loaded. If loading BokehJS from CDN, this \\n\"+\n     \"may be due to a slow or bad network connection. Possible fixes:\\n\"+\n     \"</p>\\n\"+\n     \"<ul>\\n\"+\n     \"<li>re-rerun `output_notebook()` to attempt to load from CDN again, or</li>\\n\"+\n     \"<li>use INLINE resources instead, as so:</li>\\n\"+\n     \"</ul>\\n\"+\n     \"<code>\\n\"+\n     \"from bokeh.resources import INLINE\\n\"+\n     \"output_notebook(resources=INLINE)\\n\"+\n     \"</code>\\n\"+\n     \"</div>\"}};\n\n  function display_loaded() {\n    var el = document.getElementById(\"96975fdd-2267-4062-852f-7f2778b256e0\");\n    if (el != null) {\n      el.textContent = \"BokehJS is loading...\";\n    }\n    if (root.Bokeh !== undefined) {\n      if (el != null) {\n        el.textContent = \"BokehJS \" + root.Bokeh.version + \" successfully loaded.\";\n      }\n    } else if (Date.now() < root._bokeh_timeout) {\n      setTimeout(display_loaded, 100)\n    }\n  }\n\n\n  function run_callbacks() {\n    try {\n      root._bokeh_onload_callbacks.forEach(function(callback) { callback() });\n    }\n    finally {\n      delete root._bokeh_onload_callbacks\n    }\n    console.info(\"Bokeh: all callbacks have finished\");\n  }\n\n  function load_libs(js_urls, callback) {\n    root._bokeh_onload_callbacks.push(callback);\n    if (root._bokeh_is_loading > 0) {\n      console.log(\"Bokeh: BokehJS is being loaded, scheduling callback at\", now());\n      return null;\n    }\n    if (js_urls == null || js_urls.length === 0) {\n      run_callbacks();\n      return null;\n    }\n    console.log(\"Bokeh: BokehJS not loaded, scheduling load and callback at\", now());\n    root._bokeh_is_loading = js_urls.length;\n    for (var i = 0; i < js_urls.length; i++) {\n      var url = js_urls[i];\n      var s = document.createElement('script');\n      s.src = url;\n      s.async = false;\n      s.onreadystatechange = s.onload = function() {\n        root._bokeh_is_loading--;\n        if (root._bokeh_is_loading === 0) {\n          console.log(\"Bokeh: all BokehJS libraries loaded\");\n          run_callbacks()\n        }\n      };\n      s.onerror = function() {\n        console.warn(\"failed to load library \" + url);\n      };\n      console.log(\"Bokeh: injecting script tag for BokehJS library: \", url);\n      document.getElementsByTagName(\"head\")[0].appendChild(s);\n    }\n  };var element = document.getElementById(\"96975fdd-2267-4062-852f-7f2778b256e0\");\n  if (element == null) {\n    console.log(\"Bokeh: ERROR: autoload.js configured with elementid '96975fdd-2267-4062-852f-7f2778b256e0' but no matching script tag was found. \")\n    return false;\n  }\n\n  var js_urls = [\"https://cdn.pydata.org/bokeh/release/bokeh-0.12.16.min.js\", \"https://cdn.pydata.org/bokeh/release/bokeh-widgets-0.12.16.min.js\", \"https://cdn.pydata.org/bokeh/release/bokeh-tables-0.12.16.min.js\", \"https://cdn.pydata.org/bokeh/release/bokeh-gl-0.12.16.min.js\"];\n\n  var inline_js = [\n    function(Bokeh) {\n      Bokeh.set_log_level(\"info\");\n    },\n    \n    function(Bokeh) {\n      \n    },\n    function(Bokeh) {\n      console.log(\"Bokeh: injecting CSS: https://cdn.pydata.org/bokeh/release/bokeh-0.12.16.min.css\");\n      Bokeh.embed.inject_css(\"https://cdn.pydata.org/bokeh/release/bokeh-0.12.16.min.css\");\n      console.log(\"Bokeh: injecting CSS: https://cdn.pydata.org/bokeh/release/bokeh-widgets-0.12.16.min.css\");\n      Bokeh.embed.inject_css(\"https://cdn.pydata.org/bokeh/release/bokeh-widgets-0.12.16.min.css\");\n      console.log(\"Bokeh: injecting CSS: https://cdn.pydata.org/bokeh/release/bokeh-tables-0.12.16.min.css\");\n      Bokeh.embed.inject_css(\"https://cdn.pydata.org/bokeh/release/bokeh-tables-0.12.16.min.css\");\n    }\n  ];\n\n  function run_inline_js() {\n    \n    if ((root.Bokeh !== undefined) || (force === true)) {\n      for (var i = 0; i < inline_js.length; i++) {\n        inline_js[i].call(root, root.Bokeh);\n      }if (force === true) {\n        display_loaded();\n      }} else if (Date.now() < root._bokeh_timeout) {\n      setTimeout(run_inline_js, 100);\n    } else if (!root._bokeh_failed_load) {\n      console.log(\"Bokeh: BokehJS failed to load within specified timeout.\");\n      root._bokeh_failed_load = true;\n    } else if (force !== true) {\n      var cell = $(document.getElementById(\"96975fdd-2267-4062-852f-7f2778b256e0\")).parents('.cell').data().cell;\n      cell.output_area.append_execute_result(NB_LOAD_WARNING)\n    }\n\n  }\n\n  if (root._bokeh_is_loading === 0) {\n    console.log(\"Bokeh: BokehJS loaded, going straight to plotting\");\n    run_inline_js();\n  } else {\n    load_libs(js_urls, function() {\n      console.log(\"Bokeh: BokehJS plotting callback run at\", now());\n      run_inline_js();\n    });\n  }\n}(window));"
     },
     "metadata": {},
     "output_type": "display_data"
    }
   ],
   "source": [
    "# Bokeh settings\n",
    "from bokeh.plotting import figure, show\n",
    "import bokeh.models\n",
    "import bokeh.plotting\n",
    "from bokeh.models import ColumnDataSource, Span, Label, HoverTool, Range1d, CDSView, DatetimeTickFormatter\n",
    "from bokeh.embed import components\n",
    "from bokeh.io import output_notebook\n",
    "output_notebook()"
   ]
  },
  {
   "cell_type": "markdown",
   "metadata": {},
   "source": [
    "#### Plot in bokeh\n",
    "\n",
    "To get the hover to show up, I added a hidden line that shows the all-items CPI and set the hover to show up when the cursor location has the same x value as the line. The problem is that the first and last bars only allow hover on their inner portions. "
   ]
  },
  {
   "cell_type": "code",
   "execution_count": 13,
   "metadata": {
    "ExecuteTime": {
     "end_time": "2018-05-28T18:09:45.470149Z",
     "start_time": "2018-05-28T18:09:45.301203Z"
    },
    "code_folding": [],
    "scrolled": false
   },
   "outputs": [
    {
     "data": {
      "text/html": [
       "\n",
       "<div class=\"bk-root\">\n",
       "    <div class=\"bk-plotdiv\" id=\"8e969991-46b2-4f09-8457-fb205b8dcaa3\"></div>\n",
       "</div>"
      ]
     },
     "metadata": {},
     "output_type": "display_data"
    },
    {
     "data": {
      "application/javascript": [
       "(function(root) {\n",
       "  function embed_document(root) {\n",
       "    \n",
       "  var docs_json = {\"396eb729-a55e-46fb-a838-07680c0a37b8\":{\"roots\":{\"references\":[{\"attributes\":{\"callback\":null,\"data\":{\"core goods\":{\"__ndarray__\":\"exSuR+F6xL+amZmZmZm5v5qZmZmZmam/exSuR+F6pL+4HoXrUbiuvwrXo3A9Cre/mpmZmZmZub+amZmZmZm5v5qZmZmZmbm/7FG4HoXrwb8pXI/C9Si8v3sUrkfherS/exSuR+F6lL97FK5H4XqEP+xRuB6F67G/mpmZmZmZub8pXI/C9Si8v7gehetRuL6/uB6F61G4vr8K16NwPQq3v6RwPQrXo8C/KVyPwvUovL/sUbgehevBv7gehetRuL6/mpmZmZmZqb+amZmZmZm5vylcj8L1KLy/uB6F61G4vr8zMzMzMzPDv6RwPQrXo8C/uB6F61G4vr/D9Shcj8LFv5qZmZmZmcm/UrgehetRyL/D9Shcj8LFv+xRuB6F68G/pHA9CtejwL+amZmZmZm5v7gehetRuK6/7FG4HoXrsb8=\",\"dtype\":\"float64\",\"shape\":[40]},\"core services\":{\"__ndarray__\":\"XI/C9Shc3z/NzMzMzMzcP83MzMzMzNw/FK5H4XoU3j9xPQrXo3DdP7gehetRuN4/XI/C9Shc3z9SuB6F61HgP0jhehSuR+E/4XoUrkfh4j97FK5H4XrkPx+F61G4HuU/w/UoXI/C5T9cj8L1KFznP65H4XoUruc/XI/C9Shc5z9SuB6F61HoP1K4HoXrUeg/UrgehetR6D+amZmZmZnpP1yPwvUoXOc/exSuR+F65D8pXI/C9SjkP83MzMzMzOQ/cT0K16Nw5T8UrkfhehTmP+xRuB6F6+E/FK5H4XoU3j89CtejcD3aP/YoXI/C9dg/PQrXo3A92j+amZmZmZnZP3E9CtejcN0/pHA9Ctej4D8UrkfhehTePxSuR+F6FN4/AAAAAAAA4D9SuB6F61HgPylcj8L1KOQ/exSuR+F65D8=\",\"dtype\":\"float64\",\"shape\":[40]},\"date\":{\"__ndarray__\":\"AAAAqyyqdEIAAED9JrR0QgAAQB4qvXRCAACAcCTHdEIAAABdzNB0QgAAQK/G2nRCAADAm27kdEIAAADuaO50QgAAQEBj+HRCAADALAsCdUIAAAB/BQx1QgAAgGutFXVCAADAvacfdUIAAAAQoil1QgAAwJb3MnVCAAAA6fE8dUIAAIDVmUZ1QgAAwCeUUHVCAABAFDxadUIAAIBmNmR1QgAAwLgwbnVCAABApdh3dUIAAID30oF1QgAAAOR6i3VCAABANnWVdUIAAICIb591QgAAgKlyqHVCAADA+2yydUIAAEDoFLx1QgAAgDoPxnVCAAAAJ7fPdUIAAEB5sdl1QgAAgMur43VCAAAAuFPtdUIAAEAKTvd1QgAAwPb1AHZCAAAASfAKdkIAAECb6hR2QgAAQLztHXZCAACADugndkI=\",\"dtype\":\"float64\",\"shape\":[40]},\"food & energy\":{\"__ndarray__\":\"w/UoXI/C9b9xPQrXo3D1vwrXo3A9Cve/w/UoXI/C+b8UrkfhehT2vwAAAAAAAPS/16NwPQrX87+uR+F6FK7zv1K4HoXrUfi/SOF6FK5H9b8fhetRuB7xvx+F61G4Hu2/CtejcD0K1789CtejcD3qvylcj8L1KOy/7FG4HoXr4b+uR+F6FK7nv1K4HoXrUei/exSuR+F67L9SuB6F61Hov0jhehSuR9G/mpmZmZmZqb+4HoXrUbieP2ZmZmZmZtY/XI/C9Shc5z8pXI/C9SjwPz0K16NwPeo/rkfhehSu5z/2KFyPwvXgPzMzMzMzM9M/PQrXo3A92j97FK5H4XrkP2ZmZmZmZu4/cT0K16Nw5T97FK5H4XrsP65H4XoUruc/cT0K16Nw5T9I4XoUrkfpP1yPwvUoXOc/PQrXo3A96j8=\",\"dtype\":\"float64\",\"shape\":[40]},\"index\":{\"__ndarray__\":\"AAAAqyyqdEIAAED9JrR0QgAAQB4qvXRCAACAcCTHdEIAAABdzNB0QgAAQK/G2nRCAADAm27kdEIAAADuaO50QgAAQEBj+HRCAADALAsCdUIAAAB/BQx1QgAAgGutFXVCAADAvacfdUIAAAAQoil1QgAAwJb3MnVCAAAA6fE8dUIAAIDVmUZ1QgAAwCeUUHVCAABAFDxadUIAAIBmNmR1QgAAwLgwbnVCAABApdh3dUIAAID30oF1QgAAAOR6i3VCAABANnWVdUIAAICIb591QgAAgKlyqHVCAADA+2yydUIAAEDoFLx1QgAAgDoPxnVCAAAAJ7fPdUIAAEB5sdl1QgAAgMur43VCAAAAuFPtdUIAAEAKTvd1QgAAwPb1AHZCAAAASfAKdkIAAECb6hR2QgAAQLztHXZCAACADugndkI=\",\"dtype\":\"float64\",\"shape\":[40]},\"shelter\":{\"__ndarray__\":\"FK5H4XoU7j+4HoXrUbjuP7gehetRuO4/CtejcD0K7z8UrkfhehTuP1yPwvUoXO8/UrgehetR8D8pXI/C9SjwP6RwPQrXo/A/zczMzMzM8D/NzMzMzMzwP/YoXI/C9fA/H4XrUbge8T9xPQrXo3DxP/YoXI/C9fA/H4XrUbge8T8UrkfhehTyP4/C9Shcj/I/w/UoXI/C8T9mZmZmZmbyP4/C9Shcj/I/CtejcD0K8z9cj8L1KFzzP65H4XoUrvM/XI/C9Shc8z9cj8L1KFzzPwrXo3A9CvM/CtejcD0K8z9mZmZmZmbyPxSuR+F6FPI/mpmZmZmZ8T9mZmZmZmbyPxSuR+F6FPI/PQrXo3A98j/D9Shcj8LxPxSuR+F6FPI/FK5H4XoU8j/D9Shcj8LxP+F6FK5H4fI/XI/C9Shc8z8=\",\"dtype\":\"float64\",\"shape\":[40]},\"strdate\":[\"January 2015\",\"February 2015\",\"March 2015\",\"April 2015\",\"May 2015\",\"June 2015\",\"July 2015\",\"August 2015\",\"September 2015\",\"October 2015\",\"November 2015\",\"December 2015\",\"January 2016\",\"February 2016\",\"March 2016\",\"April 2016\",\"May 2016\",\"June 2016\",\"July 2016\",\"August 2016\",\"September 2016\",\"October 2016\",\"November 2016\",\"December 2016\",\"January 2017\",\"February 2017\",\"March 2017\",\"April 2017\",\"May 2017\",\"June 2017\",\"July 2017\",\"August 2017\",\"September 2017\",\"October 2017\",\"November 2017\",\"December 2017\",\"January 2018\",\"February 2018\",\"March 2018\",\"April 2018\"],\"total\":{\"__ndarray__\":\"CtejcD0Kt7+4HoXrUbiev+xRuB6F67G/mpmZmZmZyb97FK5H4Xqkv6RwPQrXo8A/w/UoXI/CxT+amZmZmZnJP3sUrkfheqS/w/UoXI/CxT9SuB6F61HgP65H4XoUruc/FK5H4XoU9j97FK5H4XrwP4XrUbgehes/PQrXo3A98j+kcD0K16PwP1K4HoXrUfA/MzMzMzMz6z9xPQrXo3DxP9ejcD0K1/c/uB6F61G4+j+F61G4HoX7P+F6FK5H4QBAUrgehetRBEBSuB6F61EGQHE9CtejcANAFK5H4XoUAkDhehSuR+H+PwrXo3A9Cvs/exSuR+F6/D8AAAAAAAAAQHsUrkfhegJA9ihcj8L1AEA9CtejcD0CQHE9CtejcAFASOF6FK5HAUB7FK5H4XoCQMP1KFyPwgNApHA9CtejBEA=\",\"dtype\":\"float64\",\"shape\":[40]}},\"selected\":{\"id\":\"c82c2b56-5cd2-4b46-aabd-3603460e7c61\",\"type\":\"Selection\"},\"selection_policy\":{\"id\":\"cf1aa7cf-5aa3-46e9-8c23-e52de1fe6b8c\",\"type\":\"UnionRenderers\"}},\"id\":\"5ff832ea-92e5-4803-b6bb-65ad5ea20a9c\",\"type\":\"ColumnDataSource\"},{\"attributes\":{\"bottom\":{\"expr\":{\"id\":\"4e676a72-e4c9-4234-aef9-007152be5e38\",\"type\":\"Stack\"}},\"fill_alpha\":{\"value\":0.1},\"fill_color\":{\"value\":\"#1f77b4\"},\"line_alpha\":{\"value\":0.1},\"line_color\":{\"value\":\"#1f77b4\"},\"top\":{\"expr\":{\"id\":\"0fc98781-65b4-4306-af4b-6449603f83ab\",\"type\":\"Stack\"}},\"width\":{\"value\":1921320000.0},\"x\":{\"field\":\"dates\"}},\"id\":\"d2324db7-3036-4eee-b789-d44ee3d88b88\",\"type\":\"VBar\"},{\"attributes\":{\"bottom\":{\"expr\":{\"id\":\"4e676a72-e4c9-4234-aef9-007152be5e38\",\"type\":\"Stack\"}},\"fill_color\":{\"value\":\"#ff0000\"},\"line_alpha\":{\"value\":0},\"line_color\":{\"value\":\"#ff0000\"},\"top\":{\"expr\":{\"id\":\"0fc98781-65b4-4306-af4b-6449603f83ab\",\"type\":\"Stack\"}},\"width\":{\"value\":1921320000.0},\"x\":{\"field\":\"dates\"}},\"id\":\"4dec80b6-d020-4f97-8b48-da46df410494\",\"type\":\"VBar\"},{\"attributes\":{},\"id\":\"ea3a2554-6d0d-46a7-a7de-1b9dc85b31e9\",\"type\":\"LinearScale\"},{\"attributes\":{\"bottom\":{\"expr\":{\"id\":\"18dd94f6-5911-4854-a5d4-a0de92657e0b\",\"type\":\"Stack\"}},\"fill_alpha\":{\"value\":0.1},\"fill_color\":{\"value\":\"#1f77b4\"},\"line_alpha\":{\"value\":0.1},\"line_color\":{\"value\":\"#1f77b4\"},\"top\":{\"expr\":{\"id\":\"9effa246-3345-4a52-b4a2-a8ffda095e3f\",\"type\":\"Stack\"}},\"width\":{\"value\":1921320000.0},\"x\":{\"field\":\"dates\"}},\"id\":\"7331cacd-5fac-4dbf-9771-c177f2f71c1f\",\"type\":\"VBar\"},{\"attributes\":{\"fields\":[]},\"id\":\"97641b81-2452-452f-b8a4-2e6654db2e5a\",\"type\":\"Stack\"},{\"attributes\":{\"fields\":[\"core services\",\"core goods\",\"shelter\"]},\"id\":\"4dce6431-44b0-4e33-b8a3-031ad33a1a76\",\"type\":\"Stack\"},{\"attributes\":{\"label\":{\"value\":\"Food & energy\"},\"renderers\":[{\"id\":\"9be59e35-6366-4837-9098-20e2d4eaa26b\",\"type\":\"GlyphRenderer\"}]},\"id\":\"ab96f097-4746-4b9b-8c96-9b69713be492\",\"type\":\"LegendItem\"},{\"attributes\":{\"callback\":null,\"data\":{\"core goods\":[0,0,0,0,0,0,0,0,0,0,0,0,0,0.01,0,0,0,0,0,0,0,0,0,0,0,0,0,0,0,0,0,0,0,0,0,0,0,0,0,0],\"core services\":[0.49,0.45,0.45,0.47,0.46,0.48,0.49,0.51,0.54,0.59,0.64,0.66,0.68,0.73,0.74,0.73,0.76,0.76,0.76,0.8,0.73,0.64,0.63,0.65,0.67,0.69,0.56,0.47,0.41,0.39,0.41,0.4,0.46,0.52,0.47,0.47,0.5,0.51,0.63,0.64],\"dates\":[1420070400000.0,1422748800000.0,1425168000000.0,1427846400000.0,1430438400000.0,1433116800000.0,1435708800000.0,1438387200000.0,1441065600000.0,1443657600000.0,1446336000000.0,1448928000000.0,1451606400000.0,1454284800000.0,1456790400000.0,1459468800000.0,1462060800000.0,1464739200000.0,1467331200000.0,1470009600000.0,1472688000000.0,1475280000000.0,1477958400000.0,1480550400000.0,1483228800000.0,1485907200000.0,1488326400000.0,1491004800000.0,1493596800000.0,1496275200000.0,1498867200000.0,1501545600000.0,1504224000000.0,1506816000000.0,1509494400000.0,1512086400000.0,1514764800000.0,1517443200000.0,1519862400000.0,1522540800000.0],\"food & energy\":[0,0,0,0,0,0,0,0,0,0,0,0,0,0,0,0,0,0,0,0,0,0,0.03,0.35,0.73,1.01,0.82,0.74,0.53,0.3,0.41,0.64,0.95,0.67,0.89,0.74,0.67,0.79,0.73,0.82],\"shelter\":[0.94,0.96,0.96,0.97,0.94,0.98,1.02,1.01,1.04,1.05,1.05,1.06,1.07,1.09,1.06,1.07,1.13,1.16,1.11,1.15,1.16,1.19,1.21,1.23,1.21,1.21,1.19,1.19,1.15,1.13,1.1,1.15,1.13,1.14,1.11,1.13,1.13,1.11,1.18,1.21],\"strdate\":[\"Jan 2015\",\"Feb 2015\",\"Mar 2015\",\"Apr 2015\",\"May 2015\",\"Jun 2015\",\"Jul 2015\",\"Aug 2015\",\"Sep 2015\",\"Oct 2015\",\"Nov 2015\",\"Dec 2015\",\"Jan 2016\",\"Feb 2016\",\"Mar 2016\",\"Apr 2016\",\"May 2016\",\"Jun 2016\",\"Jul 2016\",\"Aug 2016\",\"Sep 2016\",\"Oct 2016\",\"Nov 2016\",\"Dec 2016\",\"Jan 2017\",\"Feb 2017\",\"Mar 2017\",\"Apr 2017\",\"May 2017\",\"Jun 2017\",\"Jul 2017\",\"Aug 2017\",\"Sep 2017\",\"Oct 2017\",\"Nov 2017\",\"Dec 2017\",\"Jan 2018\",\"Feb 2018\",\"Mar 2018\",\"Apr 2018\"]},\"selected\":{\"id\":\"3a1c214c-096e-47ad-b7cd-19cb8d382a45\",\"type\":\"Selection\"},\"selection_policy\":{\"id\":\"64cac411-f9c2-46c8-b255-b9fd7818d810\",\"type\":\"UnionRenderers\"}},\"id\":\"14339d03-1bc3-4021-839f-03400745bd72\",\"type\":\"ColumnDataSource\"},{\"attributes\":{\"data_source\":{\"id\":\"14339d03-1bc3-4021-839f-03400745bd72\",\"type\":\"ColumnDataSource\"},\"glyph\":{\"id\":\"4dec80b6-d020-4f97-8b48-da46df410494\",\"type\":\"VBar\"},\"hover_glyph\":null,\"muted_glyph\":null,\"nonselection_glyph\":{\"id\":\"d2324db7-3036-4eee-b789-d44ee3d88b88\",\"type\":\"VBar\"},\"selection_glyph\":null,\"view\":{\"id\":\"e8d6c8be-58af-4711-a830-c775a0ab57f2\",\"type\":\"CDSView\"}},\"id\":\"9be59e35-6366-4837-9098-20e2d4eaa26b\",\"type\":\"GlyphRenderer\"},{\"attributes\":{\"line_color\":{\"value\":\"gray\"},\"location\":0,\"plot\":{\"id\":\"beab2da0-0554-431d-a3c9-622b454f9431\",\"subtype\":\"Figure\",\"type\":\"Plot\"}},\"id\":\"4c778abe-cbf6-42d1-9459-c761bdd430f5\",\"type\":\"Span\"},{\"attributes\":{\"callback\":null,\"end\":3.9,\"start\":-2.2},\"id\":\"da9ed935-06a1-4a2e-a2b9-57fc8721be85\",\"type\":\"Range1d\"},{\"attributes\":{\"source\":{\"id\":\"14339d03-1bc3-4021-839f-03400745bd72\",\"type\":\"ColumnDataSource\"}},\"id\":\"e8d6c8be-58af-4711-a830-c775a0ab57f2\",\"type\":\"CDSView\"},{\"attributes\":{\"fields\":[\"core services\",\"core goods\"]},\"id\":\"4856e8aa-aad5-4f1f-b1b5-2a0371c8dbee\",\"type\":\"Stack\"},{\"attributes\":{\"fields\":[]},\"id\":\"4b99382e-6691-4804-a428-9a01a398e1ed\",\"type\":\"Stack\"},{\"attributes\":{\"fields\":[\"core services\"]},\"id\":\"32dd5524-6256-44c1-ac6b-397fe002b4ff\",\"type\":\"Stack\"},{\"attributes\":{\"callback\":null,\"end\":1525132800000.0,\"start\":1417392000000.0},\"id\":\"0e0b085a-b29c-4940-9bf9-29e221ea4add\",\"type\":\"Range1d\"},{\"attributes\":{\"fields\":[\"core services\",\"core goods\"]},\"id\":\"9effa246-3345-4a52-b4a2-a8ffda095e3f\",\"type\":\"Stack\"},{\"attributes\":{\"below\":[{\"id\":\"bbfb1439-3baa-4042-aa4d-4807d896a36d\",\"type\":\"DatetimeAxis\"}],\"left\":[{\"id\":\"31f6990b-a06c-4ebd-b820-8a36d4a27bdb\",\"type\":\"LinearAxis\"}],\"outline_line_color\":{\"value\":\"white\"},\"plot_height\":400,\"plot_width\":720,\"renderers\":[{\"id\":\"bbfb1439-3baa-4042-aa4d-4807d896a36d\",\"type\":\"DatetimeAxis\"},{\"id\":\"fe8400a3-0640-4b8c-a275-e85d7bcd53a3\",\"type\":\"Grid\"},{\"id\":\"31f6990b-a06c-4ebd-b820-8a36d4a27bdb\",\"type\":\"LinearAxis\"},{\"id\":\"14c59399-b6eb-43c4-a738-9bcbe52a2b16\",\"type\":\"Grid\"},{\"id\":\"3cf59024-eda5-4432-ae3e-af1e5abe6131\",\"type\":\"BoxAnnotation\"},{\"id\":\"767ded9b-7c4a-4a8c-b238-1dbe4f83530c\",\"type\":\"Legend\"},{\"id\":\"7701e1f4-8134-4f85-aea8-4994b47af8b2\",\"type\":\"GlyphRenderer\"},{\"id\":\"e3e33aaa-d48b-4d20-82ba-7a9f660517fe\",\"type\":\"GlyphRenderer\"},{\"id\":\"6b550eeb-e4bc-432e-b50d-d37df3437f93\",\"type\":\"GlyphRenderer\"},{\"id\":\"9be59e35-6366-4837-9098-20e2d4eaa26b\",\"type\":\"GlyphRenderer\"},{\"id\":\"4b3ffa9e-dccb-447e-9548-999e307c49e4\",\"type\":\"GlyphRenderer\"},{\"id\":\"68c15875-0872-497f-94ff-f349a4f97e77\",\"type\":\"GlyphRenderer\"},{\"id\":\"dbdb87d9-9023-4588-b1ea-79d2129ac758\",\"type\":\"GlyphRenderer\"},{\"id\":\"2d531b62-6bde-459a-954c-78d2bb0c3734\",\"type\":\"GlyphRenderer\"},{\"id\":\"4c778abe-cbf6-42d1-9459-c761bdd430f5\",\"type\":\"Span\"},{\"id\":\"42246798-925a-46db-93a6-cc1a7b699a25\",\"type\":\"GlyphRenderer\"}],\"sizing_mode\":\"scale_width\",\"title\":{\"id\":\"c3075ef5-08bb-4d39-b92d-35f533b0cc45\",\"type\":\"Title\"},\"toolbar\":{\"id\":\"30d7bd7b-863e-4b71-8f71-07a0d4f2641c\",\"type\":\"Toolbar\"},\"toolbar_location\":null,\"x_range\":{\"id\":\"0e0b085a-b29c-4940-9bf9-29e221ea4add\",\"type\":\"Range1d\"},\"x_scale\":{\"id\":\"90ebc469-d18c-44c6-833b-275c6febf496\",\"type\":\"LinearScale\"},\"y_range\":{\"id\":\"da9ed935-06a1-4a2e-a2b9-57fc8721be85\",\"type\":\"Range1d\"},\"y_scale\":{\"id\":\"ea3a2554-6d0d-46a7-a7de-1b9dc85b31e9\",\"type\":\"LinearScale\"}},\"id\":\"beab2da0-0554-431d-a3c9-622b454f9431\",\"subtype\":\"Figure\",\"type\":\"Plot\"},{\"attributes\":{\"fields\":[\"core services\"]},\"id\":\"18dd94f6-5911-4854-a5d4-a0de92657e0b\",\"type\":\"Stack\"},{\"attributes\":{\"callback\":null,\"data\":{\"core goods\":[-0.16,-0.1,-0.05,-0.04,-0.06,-0.09,-0.1,-0.1,-0.1,-0.14,-0.11,-0.08,-0.02,0,-0.07,-0.1,-0.11,-0.12,-0.12,-0.09,-0.13,-0.11,-0.14,-0.12,-0.05,-0.1,-0.11,-0.12,-0.15,-0.13,-0.12,-0.17,-0.2,-0.19,-0.17,-0.14,-0.13,-0.1,-0.06,-0.07],\"core services\":[0,0,0,0,0,0,0,0,0,0,0,0,0,0,0,0,0,0,0,0,0,0,0,0,0,0,0,0,0,0,0,0,0,0,0,0,0,0,0,0],\"dates\":[1420070400000.0,1422748800000.0,1425168000000.0,1427846400000.0,1430438400000.0,1433116800000.0,1435708800000.0,1438387200000.0,1441065600000.0,1443657600000.0,1446336000000.0,1448928000000.0,1451606400000.0,1454284800000.0,1456790400000.0,1459468800000.0,1462060800000.0,1464739200000.0,1467331200000.0,1470009600000.0,1472688000000.0,1475280000000.0,1477958400000.0,1480550400000.0,1483228800000.0,1485907200000.0,1488326400000.0,1491004800000.0,1493596800000.0,1496275200000.0,1498867200000.0,1501545600000.0,1504224000000.0,1506816000000.0,1509494400000.0,1512086400000.0,1514764800000.0,1517443200000.0,1519862400000.0,1522540800000.0],\"food & energy\":[-1.36,-1.34,-1.44,-1.61,-1.38,-1.25,-1.24,-1.23,-1.52,-1.33,-1.07,-0.91,-0.36,-0.82,-0.88,-0.56,-0.74,-0.76,-0.89,-0.76,-0.27,-0.05,0,0,0,0,0,0,0,0,0,0,0,0,0,0,0,0,0,0],\"shelter\":[0,0,0,0,0,0,0,0,0,0,0,0,0,0,0,0,0,0,0,0,0,0,0,0,0,0,0,0,0,0,0,0,0,0,0,0,0,0,0,0],\"strdate\":[\"Jan 2015\",\"Feb 2015\",\"Mar 2015\",\"Apr 2015\",\"May 2015\",\"Jun 2015\",\"Jul 2015\",\"Aug 2015\",\"Sep 2015\",\"Oct 2015\",\"Nov 2015\",\"Dec 2015\",\"Jan 2016\",\"Feb 2016\",\"Mar 2016\",\"Apr 2016\",\"May 2016\",\"Jun 2016\",\"Jul 2016\",\"Aug 2016\",\"Sep 2016\",\"Oct 2016\",\"Nov 2016\",\"Dec 2016\",\"Jan 2017\",\"Feb 2017\",\"Mar 2017\",\"Apr 2017\",\"May 2017\",\"Jun 2017\",\"Jul 2017\",\"Aug 2017\",\"Sep 2017\",\"Oct 2017\",\"Nov 2017\",\"Dec 2017\",\"Jan 2018\",\"Feb 2018\",\"Mar 2018\",\"Apr 2018\"]},\"selected\":{\"id\":\"21094673-40f5-4a3d-9d54-2bb0a158c496\",\"type\":\"Selection\"},\"selection_policy\":{\"id\":\"747c1b14-15e8-425a-ba73-fe466bb4cbdb\",\"type\":\"UnionRenderers\"}},\"id\":\"dc4ca20c-4585-48a1-8883-483cc8f315b9\",\"type\":\"ColumnDataSource\"},{\"attributes\":{\"fields\":[\"core services\",\"core goods\",\"shelter\"]},\"id\":\"211ccd23-c71c-493f-b1f3-b17166fdde31\",\"type\":\"Stack\"},{\"attributes\":{\"bottom\":{\"expr\":{\"id\":\"97641b81-2452-452f-b8a4-2e6654db2e5a\",\"type\":\"Stack\"}},\"fill_alpha\":{\"value\":0.1},\"fill_color\":{\"value\":\"#1f77b4\"},\"line_alpha\":{\"value\":0.1},\"line_color\":{\"value\":\"#1f77b4\"},\"top\":{\"expr\":{\"id\":\"32dd5524-6256-44c1-ac6b-397fe002b4ff\",\"type\":\"Stack\"}},\"width\":{\"value\":1921320000.0},\"x\":{\"field\":\"dates\"}},\"id\":\"a542699b-3148-48fa-9562-cc41b300532a\",\"type\":\"VBar\"},{\"attributes\":{\"grid_line_color\":{\"value\":null},\"plot\":{\"id\":\"beab2da0-0554-431d-a3c9-622b454f9431\",\"subtype\":\"Figure\",\"type\":\"Plot\"},\"ticker\":{\"id\":\"0159f3d7-7b3b-437a-a564-0bebb59c813b\",\"type\":\"DatetimeTicker\"}},\"id\":\"fe8400a3-0640-4b8c-a275-e85d7bcd53a3\",\"type\":\"Grid\"},{\"attributes\":{\"fields\":[\"core services\",\"core goods\",\"shelter\",\"food & energy\"]},\"id\":\"e5e64d39-2d52-44fb-9e93-8ebbcf46a16f\",\"type\":\"Stack\"},{\"attributes\":{\"active_drag\":null,\"active_inspect\":\"auto\",\"active_scroll\":\"auto\",\"active_tap\":\"auto\",\"logo\":null,\"tools\":[{\"id\":\"a72b5180-6087-45ee-a3d6-46e6bc74fc21\",\"type\":\"PanTool\"},{\"id\":\"bb3abf34-be96-4857-87c1-25c7b3dd438b\",\"type\":\"WheelZoomTool\"},{\"id\":\"44bf2c91-e659-4b0e-8ff4-acf07733bef6\",\"type\":\"BoxZoomTool\"},{\"id\":\"1a1ec225-50c7-4163-8576-5cee3cf44bc7\",\"type\":\"ResetTool\"},{\"id\":\"dab00a6b-439f-4d5e-899c-0953e6eec493\",\"type\":\"HoverTool\"}]},\"id\":\"30d7bd7b-863e-4b71-8f71-07a0d4f2641c\",\"type\":\"Toolbar\"},{\"attributes\":{\"data_source\":{\"id\":\"dc4ca20c-4585-48a1-8883-483cc8f315b9\",\"type\":\"ColumnDataSource\"},\"glyph\":{\"id\":\"5779ffd8-c2cf-447a-9a01-617301d63382\",\"type\":\"VBar\"},\"hover_glyph\":null,\"muted_glyph\":null,\"nonselection_glyph\":{\"id\":\"a542699b-3148-48fa-9562-cc41b300532a\",\"type\":\"VBar\"},\"selection_glyph\":null,\"view\":{\"id\":\"a83c8735-928b-4ae6-a93f-618e44670ee3\",\"type\":\"CDSView\"}},\"id\":\"4b3ffa9e-dccb-447e-9548-999e307c49e4\",\"type\":\"GlyphRenderer\"},{\"attributes\":{},\"id\":\"90ebc469-d18c-44c6-833b-275c6febf496\",\"type\":\"LinearScale\"},{\"attributes\":{\"bottom\":{\"expr\":{\"id\":\"97641b81-2452-452f-b8a4-2e6654db2e5a\",\"type\":\"Stack\"}},\"fill_color\":{\"value\":\"#ffcc00\"},\"line_alpha\":{\"value\":0},\"line_color\":{\"value\":\"#ffcc00\"},\"top\":{\"expr\":{\"id\":\"32dd5524-6256-44c1-ac6b-397fe002b4ff\",\"type\":\"Stack\"}},\"width\":{\"value\":1921320000.0},\"x\":{\"field\":\"dates\"}},\"id\":\"5779ffd8-c2cf-447a-9a01-617301d63382\",\"type\":\"VBar\"},{\"attributes\":{\"num_minor_ticks\":5,\"tickers\":[{\"id\":\"7e554be0-ae11-472c-95f8-a97669d4fa72\",\"type\":\"AdaptiveTicker\"},{\"id\":\"afaffe5a-1bfe-4adb-b434-70a65f93e477\",\"type\":\"AdaptiveTicker\"},{\"id\":\"98433756-457f-4359-bf40-cd353d122909\",\"type\":\"AdaptiveTicker\"},{\"id\":\"67d9632e-4bb9-424f-986c-7d40994fb851\",\"type\":\"DaysTicker\"},{\"id\":\"36fee3e7-2e08-4e3d-8ea4-f767da6d8cbf\",\"type\":\"DaysTicker\"},{\"id\":\"7f6af977-ac3c-4185-abea-b8ffb9dde214\",\"type\":\"DaysTicker\"},{\"id\":\"573fcc38-577f-44df-9ab1-9c7df4238ec8\",\"type\":\"DaysTicker\"},{\"id\":\"228d7b44-080a-483d-845f-69076a718347\",\"type\":\"MonthsTicker\"},{\"id\":\"ff2b47ca-608f-40c4-922d-a17bdf2b3c03\",\"type\":\"MonthsTicker\"},{\"id\":\"6b76e488-330a-492e-88f9-21381a75e3b3\",\"type\":\"MonthsTicker\"},{\"id\":\"8e5bd39b-8e92-4dcf-be66-229d0d3b81e9\",\"type\":\"MonthsTicker\"},{\"id\":\"4949da91-410e-4d9f-a7e0-e9b8f9fa91ab\",\"type\":\"YearsTicker\"}]},\"id\":\"0159f3d7-7b3b-437a-a564-0bebb59c813b\",\"type\":\"DatetimeTicker\"},{\"attributes\":{\"axis_line_color\":{\"value\":\"white\"},\"formatter\":{\"id\":\"7970eca5-1709-4340-8051-ae2411198a35\",\"type\":\"BasicTickFormatter\"},\"minor_tick_line_color\":{\"value\":null},\"plot\":{\"id\":\"beab2da0-0554-431d-a3c9-622b454f9431\",\"subtype\":\"Figure\",\"type\":\"Plot\"},\"ticker\":{\"id\":\"2ec8324d-9c80-43ab-b859-aeeacfcc80df\",\"type\":\"BasicTicker\"}},\"id\":\"31f6990b-a06c-4ebd-b820-8a36d4a27bdb\",\"type\":\"LinearAxis\"},{\"attributes\":{\"bottom\":{\"expr\":{\"id\":\"4856e8aa-aad5-4f1f-b1b5-2a0371c8dbee\",\"type\":\"Stack\"}},\"fill_color\":{\"value\":\"#03a9f4\"},\"line_alpha\":{\"value\":0},\"line_color\":{\"value\":\"#03a9f4\"},\"top\":{\"expr\":{\"id\":\"4dce6431-44b0-4e33-b8a3-031ad33a1a76\",\"type\":\"Stack\"}},\"width\":{\"value\":1921320000.0},\"x\":{\"field\":\"dates\"}},\"id\":\"60b9bd01-451b-4f63-9e48-63808b203454\",\"type\":\"VBar\"},{\"attributes\":{},\"id\":\"2ec8324d-9c80-43ab-b859-aeeacfcc80df\",\"type\":\"BasicTicker\"},{\"attributes\":{\"bottom\":{\"expr\":{\"id\":\"18dd94f6-5911-4854-a5d4-a0de92657e0b\",\"type\":\"Stack\"}},\"fill_color\":{\"value\":\"#0000e6\"},\"line_alpha\":{\"value\":0},\"line_color\":{\"value\":\"#0000e6\"},\"top\":{\"expr\":{\"id\":\"9effa246-3345-4a52-b4a2-a8ffda095e3f\",\"type\":\"Stack\"}},\"width\":{\"value\":1921320000.0},\"x\":{\"field\":\"dates\"}},\"id\":\"36e2aec1-e899-4cde-83f8-d332fcb24cb1\",\"type\":\"VBar\"},{\"attributes\":{\"dimension\":1,\"plot\":{\"id\":\"beab2da0-0554-431d-a3c9-622b454f9431\",\"subtype\":\"Figure\",\"type\":\"Plot\"},\"ticker\":{\"id\":\"2ec8324d-9c80-43ab-b859-aeeacfcc80df\",\"type\":\"BasicTicker\"}},\"id\":\"14c59399-b6eb-43c4-a738-9bcbe52a2b16\",\"type\":\"Grid\"},{\"attributes\":{\"source\":{\"id\":\"dc4ca20c-4585-48a1-8883-483cc8f315b9\",\"type\":\"ColumnDataSource\"}},\"id\":\"a83c8735-928b-4ae6-a93f-618e44670ee3\",\"type\":\"CDSView\"},{\"attributes\":{\"days\":[\"%b %Y\"],\"hours\":[\"%b %Y\"],\"months\":[\"%b %Y\"],\"years\":[\"%b %Y\"]},\"id\":\"873c7cb9-cd4b-4e78-b58e-c7ca8d58e1d7\",\"type\":\"DatetimeTickFormatter\"},{\"attributes\":{\"bottom\":{\"expr\":{\"id\":\"4856e8aa-aad5-4f1f-b1b5-2a0371c8dbee\",\"type\":\"Stack\"}},\"fill_alpha\":{\"value\":0.1},\"fill_color\":{\"value\":\"#1f77b4\"},\"line_alpha\":{\"value\":0.1},\"line_color\":{\"value\":\"#1f77b4\"},\"top\":{\"expr\":{\"id\":\"4dce6431-44b0-4e33-b8a3-031ad33a1a76\",\"type\":\"Stack\"}},\"width\":{\"value\":1921320000.0},\"x\":{\"field\":\"dates\"}},\"id\":\"8109163e-cf02-4ff7-9253-c956ce0f30b5\",\"type\":\"VBar\"},{\"attributes\":{\"fields\":[\"core services\",\"core goods\"]},\"id\":\"0af9ce5f-a4dc-4ce0-a8fd-3d7a24f09a54\",\"type\":\"Stack\"},{\"attributes\":{},\"id\":\"a72b5180-6087-45ee-a3d6-46e6bc74fc21\",\"type\":\"PanTool\"},{\"attributes\":{\"bottom\":{\"expr\":{\"id\":\"211ccd23-c71c-493f-b1f3-b17166fdde31\",\"type\":\"Stack\"}},\"fill_color\":{\"value\":\"#ff0000\"},\"line_alpha\":{\"value\":0},\"line_color\":{\"value\":\"#ff0000\"},\"top\":{\"expr\":{\"id\":\"e5e64d39-2d52-44fb-9e93-8ebbcf46a16f\",\"type\":\"Stack\"}},\"width\":{\"value\":1921320000.0},\"x\":{\"field\":\"dates\"}},\"id\":\"daff8def-84c5-4d9d-a8da-6a4d73f39ac8\",\"type\":\"VBar\"},{\"attributes\":{\"fields\":[\"core services\",\"core goods\"]},\"id\":\"9bdc2b3c-b555-4111-a201-c81cc0502da4\",\"type\":\"Stack\"},{\"attributes\":{\"data_source\":{\"id\":\"dc4ca20c-4585-48a1-8883-483cc8f315b9\",\"type\":\"ColumnDataSource\"},\"glyph\":{\"id\":\"36e2aec1-e899-4cde-83f8-d332fcb24cb1\",\"type\":\"VBar\"},\"hover_glyph\":null,\"muted_glyph\":null,\"nonselection_glyph\":{\"id\":\"7331cacd-5fac-4dbf-9771-c177f2f71c1f\",\"type\":\"VBar\"},\"selection_glyph\":null,\"view\":{\"id\":\"e704d82a-fd27-4c80-8d28-bfd35c0d8e68\",\"type\":\"CDSView\"}},\"id\":\"68c15875-0872-497f-94ff-f349a4f97e77\",\"type\":\"GlyphRenderer\"},{\"attributes\":{},\"id\":\"bb3abf34-be96-4857-87c1-25c7b3dd438b\",\"type\":\"WheelZoomTool\"},{\"attributes\":{\"source\":{\"id\":\"dc4ca20c-4585-48a1-8883-483cc8f315b9\",\"type\":\"ColumnDataSource\"}},\"id\":\"e704d82a-fd27-4c80-8d28-bfd35c0d8e68\",\"type\":\"CDSView\"},{\"attributes\":{\"overlay\":{\"id\":\"3cf59024-eda5-4432-ae3e-af1e5abe6131\",\"type\":\"BoxAnnotation\"}},\"id\":\"44bf2c91-e659-4b0e-8ff4-acf07733bef6\",\"type\":\"BoxZoomTool\"},{\"attributes\":{\"axis_line_color\":{\"value\":\"white\"},\"formatter\":{\"id\":\"873c7cb9-cd4b-4e78-b58e-c7ca8d58e1d7\",\"type\":\"DatetimeTickFormatter\"},\"plot\":{\"id\":\"beab2da0-0554-431d-a3c9-622b454f9431\",\"subtype\":\"Figure\",\"type\":\"Plot\"},\"ticker\":{\"id\":\"0159f3d7-7b3b-437a-a564-0bebb59c813b\",\"type\":\"DatetimeTicker\"}},\"id\":\"bbfb1439-3baa-4042-aa4d-4807d896a36d\",\"type\":\"DatetimeAxis\"},{\"attributes\":{\"bottom\":{\"expr\":{\"id\":\"211ccd23-c71c-493f-b1f3-b17166fdde31\",\"type\":\"Stack\"}},\"fill_alpha\":{\"value\":0.1},\"fill_color\":{\"value\":\"#1f77b4\"},\"line_alpha\":{\"value\":0.1},\"line_color\":{\"value\":\"#1f77b4\"},\"top\":{\"expr\":{\"id\":\"e5e64d39-2d52-44fb-9e93-8ebbcf46a16f\",\"type\":\"Stack\"}},\"width\":{\"value\":1921320000.0},\"x\":{\"field\":\"dates\"}},\"id\":\"8b03b2f2-2b26-48af-b04c-e53358191c89\",\"type\":\"VBar\"},{\"attributes\":{},\"id\":\"1a1ec225-50c7-4163-8576-5cee3cf44bc7\",\"type\":\"ResetTool\"},{\"attributes\":{\"bottom_units\":\"screen\",\"fill_alpha\":{\"value\":0.5},\"fill_color\":{\"value\":\"lightgrey\"},\"left_units\":\"screen\",\"level\":\"overlay\",\"line_alpha\":{\"value\":1.0},\"line_color\":{\"value\":\"black\"},\"line_dash\":[4,4],\"line_width\":{\"value\":2},\"plot\":null,\"render_mode\":\"css\",\"right_units\":\"screen\",\"top_units\":\"screen\"},\"id\":\"3cf59024-eda5-4432-ae3e-af1e5abe6131\",\"type\":\"BoxAnnotation\"},{\"attributes\":{\"line_alpha\":0.0,\"line_color\":\"white\",\"x\":{\"field\":\"date\"},\"y\":{\"field\":\"total\"}},\"id\":\"a295ceb2-7cc2-4abb-86be-3351a429410f\",\"type\":\"Line\"},{\"attributes\":{\"fields\":[\"core services\"]},\"id\":\"28730398-d296-412f-97bd-4569d9f2b95f\",\"type\":\"Stack\"},{\"attributes\":{\"data_source\":{\"id\":\"dc4ca20c-4585-48a1-8883-483cc8f315b9\",\"type\":\"ColumnDataSource\"},\"glyph\":{\"id\":\"60b9bd01-451b-4f63-9e48-63808b203454\",\"type\":\"VBar\"},\"hover_glyph\":null,\"muted_glyph\":null,\"nonselection_glyph\":{\"id\":\"8109163e-cf02-4ff7-9253-c956ce0f30b5\",\"type\":\"VBar\"},\"selection_glyph\":null,\"view\":{\"id\":\"8a2404d6-92c3-4aac-b9dd-618dd0ec6fa6\",\"type\":\"CDSView\"}},\"id\":\"dbdb87d9-9023-4588-b1ea-79d2129ac758\",\"type\":\"GlyphRenderer\"},{\"attributes\":{\"fields\":[\"core services\"]},\"id\":\"a78c1b72-63b3-4416-a0f2-f10edcf7efbb\",\"type\":\"Stack\"},{\"attributes\":{\"source\":{\"id\":\"dc4ca20c-4585-48a1-8883-483cc8f315b9\",\"type\":\"ColumnDataSource\"}},\"id\":\"8a2404d6-92c3-4aac-b9dd-618dd0ec6fa6\",\"type\":\"CDSView\"},{\"attributes\":{\"fields\":[\"core services\",\"core goods\",\"shelter\"]},\"id\":\"aaae3dce-6c70-401f-8b5f-21ce49b5ae4f\",\"type\":\"Stack\"},{\"attributes\":{\"bottom\":{\"expr\":{\"id\":\"4b99382e-6691-4804-a428-9a01a398e1ed\",\"type\":\"Stack\"}},\"fill_alpha\":{\"value\":0.1},\"fill_color\":{\"value\":\"#1f77b4\"},\"line_alpha\":{\"value\":0.1},\"line_color\":{\"value\":\"#1f77b4\"},\"top\":{\"expr\":{\"id\":\"28730398-d296-412f-97bd-4569d9f2b95f\",\"type\":\"Stack\"}},\"width\":{\"value\":1921320000.0},\"x\":{\"field\":\"dates\"}},\"id\":\"42ce8e9f-539d-4d60-81cd-aacb9777f465\",\"type\":\"VBar\"},{\"attributes\":{\"fields\":[\"core services\",\"core goods\",\"shelter\",\"food & energy\"]},\"id\":\"0fc98781-65b4-4306-af4b-6449603f83ab\",\"type\":\"Stack\"},{\"attributes\":{\"fields\":[\"core services\",\"core goods\",\"shelter\"]},\"id\":\"4e676a72-e4c9-4234-aef9-007152be5e38\",\"type\":\"Stack\"},{\"attributes\":{\"data_source\":{\"id\":\"dc4ca20c-4585-48a1-8883-483cc8f315b9\",\"type\":\"ColumnDataSource\"},\"glyph\":{\"id\":\"daff8def-84c5-4d9d-a8da-6a4d73f39ac8\",\"type\":\"VBar\"},\"hover_glyph\":null,\"muted_glyph\":null,\"nonselection_glyph\":{\"id\":\"8b03b2f2-2b26-48af-b04c-e53358191c89\",\"type\":\"VBar\"},\"selection_glyph\":null,\"view\":{\"id\":\"ae4f771d-2115-4098-b492-a8583dc902d6\",\"type\":\"CDSView\"}},\"id\":\"2d531b62-6bde-459a-954c-78d2bb0c3734\",\"type\":\"GlyphRenderer\"},{\"attributes\":{\"bottom\":{\"expr\":{\"id\":\"4b99382e-6691-4804-a428-9a01a398e1ed\",\"type\":\"Stack\"}},\"fill_color\":{\"value\":\"#ffcc00\"},\"line_alpha\":{\"value\":0},\"line_color\":{\"value\":\"#ffcc00\"},\"top\":{\"expr\":{\"id\":\"28730398-d296-412f-97bd-4569d9f2b95f\",\"type\":\"Stack\"}},\"width\":{\"value\":1921320000.0},\"x\":{\"field\":\"dates\"}},\"id\":\"4d8b7e65-6c98-4b2b-9ca4-423745bacf3f\",\"type\":\"VBar\"},{\"attributes\":{\"data_source\":{\"id\":\"14339d03-1bc3-4021-839f-03400745bd72\",\"type\":\"ColumnDataSource\"},\"glyph\":{\"id\":\"4160adf2-16df-4ce2-8772-b4a7b0585b4e\",\"type\":\"VBar\"},\"hover_glyph\":null,\"muted_glyph\":null,\"nonselection_glyph\":{\"id\":\"3330cfe8-1d19-451d-9c02-5338cc2f5224\",\"type\":\"VBar\"},\"selection_glyph\":null,\"view\":{\"id\":\"85a7e879-2f76-43c8-a76d-17e29141e5fe\",\"type\":\"CDSView\"}},\"id\":\"6b550eeb-e4bc-432e-b50d-d37df3437f93\",\"type\":\"GlyphRenderer\"},{\"attributes\":{\"source\":{\"id\":\"dc4ca20c-4585-48a1-8883-483cc8f315b9\",\"type\":\"ColumnDataSource\"}},\"id\":\"ae4f771d-2115-4098-b492-a8583dc902d6\",\"type\":\"CDSView\"},{\"attributes\":{\"mantissas\":[1,2,5],\"max_interval\":500.0,\"num_minor_ticks\":0},\"id\":\"7e554be0-ae11-472c-95f8-a97669d4fa72\",\"type\":\"AdaptiveTicker\"},{\"attributes\":{\"callback\":null,\"mode\":\"vline\",\"renderers\":[{\"id\":\"42246798-925a-46db-93a6-cc1a7b699a25\",\"type\":\"GlyphRenderer\"}],\"show_arrow\":false,\"tooltips\":\"\\n    <div style=\\\"line-height: 110%;\\\">\\n        <span style=\\\"font-size: 11px; font-style: italic;\\\">@strdate:</span><br>\\n        <span style=\\\"font-size: 10px; padding: 0 5px;\\\">CPI Inflation: </span>\\n        <span style=\\\"font-size: 11px; font-weight: bold;\\\">@total{1.1}%</span><br>\\n        <span style=\\\"font-size: 9px; font-style: italic;\\\">Contribution from:</span><br>\\n        <div style=\\\"text-align: right;\\\">\\n            <span style=\\\"font-size: 10px; padding: 0 5px;\\\">Core services: </span>\\n            <span style=\\\"display: inline-block; font-size: 11px; font-weight: bold; min-width: 26px;\\\">@{core services}{1.1}</span>\\n            <span style=\\\"display: inline-block; color: #ffcc00; width: 8px;\\\">\\u25ae</span><br> \\n            <span style=\\\"font-size: 10px; padding: 0 5px;\\\">Core goods: </span>\\n            <span style=\\\"display: inline-block; font-size: 11px; font-weight: bold; min-width: 26px;\\\">@{core goods}{1.1}</span>\\n            <span style=\\\"display: inline-block; color: #0000e6; width: 8px;\\\">\\u25ae</span><br>\\n            <span style=\\\"font-size: 10px; padding: 0 5px;\\\">Shelter: </span>\\n            <span style=\\\"display: inline-block; font-size: 11px; font-weight: bold; min-width: 26px;\\\">@shelter{1.1}</span>\\n            <span style=\\\"display: inline-block; color: #03a9f4; width: 8px;\\\">\\u25ae</span><br>\\n            <span style=\\\"font-size: 10px; padding: 0 5px;\\\">Food & Energy: </span>\\n            <span style=\\\"display: inline-block; font-size: 11px; font-weight: bold; min-width: 26px;\\\">@{food & energy}{1.1}</span>\\n            <span style=\\\"display: inline-block; color: #ff0000; width: 8px;\\\">\\u25ae</span><br>\\n        </div>\\n    </div>\\n\"},\"id\":\"dab00a6b-439f-4d5e-899c-0953e6eec493\",\"type\":\"HoverTool\"},{\"attributes\":{\"source\":{\"id\":\"5ff832ea-92e5-4803-b6bb-65ad5ea20a9c\",\"type\":\"ColumnDataSource\"}},\"id\":\"55e93926-46f3-4fdc-bf5c-ce37994a1f17\",\"type\":\"CDSView\"},{\"attributes\":{\"base\":24,\"mantissas\":[1,2,4,6,8,12],\"max_interval\":43200000.0,\"min_interval\":3600000.0,\"num_minor_ticks\":0},\"id\":\"98433756-457f-4359-bf40-cd353d122909\",\"type\":\"AdaptiveTicker\"},{\"attributes\":{\"plot\":null,\"text\":\"\"},\"id\":\"c3075ef5-08bb-4d39-b92d-35f533b0cc45\",\"type\":\"Title\"},{\"attributes\":{\"data_source\":{\"id\":\"5ff832ea-92e5-4803-b6bb-65ad5ea20a9c\",\"type\":\"ColumnDataSource\"},\"glyph\":{\"id\":\"a295ceb2-7cc2-4abb-86be-3351a429410f\",\"type\":\"Line\"},\"hover_glyph\":null,\"muted_glyph\":null,\"nonselection_glyph\":{\"id\":\"d8e8c928-bb01-4e29-a24f-c5f5f4083c9f\",\"type\":\"Line\"},\"selection_glyph\":null,\"view\":{\"id\":\"55e93926-46f3-4fdc-bf5c-ce37994a1f17\",\"type\":\"CDSView\"}},\"id\":\"42246798-925a-46db-93a6-cc1a7b699a25\",\"type\":\"GlyphRenderer\"},{\"attributes\":{},\"id\":\"7970eca5-1709-4340-8051-ae2411198a35\",\"type\":\"BasicTickFormatter\"},{\"attributes\":{\"line_alpha\":0.1,\"line_color\":\"#1f77b4\",\"x\":{\"field\":\"date\"},\"y\":{\"field\":\"total\"}},\"id\":\"d8e8c928-bb01-4e29-a24f-c5f5f4083c9f\",\"type\":\"Line\"},{\"attributes\":{\"data_source\":{\"id\":\"14339d03-1bc3-4021-839f-03400745bd72\",\"type\":\"ColumnDataSource\"},\"glyph\":{\"id\":\"4d8b7e65-6c98-4b2b-9ca4-423745bacf3f\",\"type\":\"VBar\"},\"hover_glyph\":null,\"muted_glyph\":null,\"nonselection_glyph\":{\"id\":\"42ce8e9f-539d-4d60-81cd-aacb9777f465\",\"type\":\"VBar\"},\"selection_glyph\":null,\"view\":{\"id\":\"f34a4b94-a44c-4568-be99-8c06ae5eb678\",\"type\":\"CDSView\"}},\"id\":\"7701e1f4-8134-4f85-aea8-4994b47af8b2\",\"type\":\"GlyphRenderer\"},{\"attributes\":{\"source\":{\"id\":\"14339d03-1bc3-4021-839f-03400745bd72\",\"type\":\"ColumnDataSource\"}},\"id\":\"f34a4b94-a44c-4568-be99-8c06ae5eb678\",\"type\":\"CDSView\"},{\"attributes\":{\"days\":[1,4,7,10,13,16,19,22,25,28]},\"id\":\"36fee3e7-2e08-4e3d-8ea4-f767da6d8cbf\",\"type\":\"DaysTicker\"},{\"attributes\":{\"base\":60,\"mantissas\":[1,2,5,10,15,20,30],\"max_interval\":1800000.0,\"min_interval\":1000.0,\"num_minor_ticks\":0},\"id\":\"afaffe5a-1bfe-4adb-b434-70a65f93e477\",\"type\":\"AdaptiveTicker\"},{\"attributes\":{},\"id\":\"c82c2b56-5cd2-4b46-aabd-3603460e7c61\",\"type\":\"Selection\"},{\"attributes\":{\"days\":[1,2,3,4,5,6,7,8,9,10,11,12,13,14,15,16,17,18,19,20,21,22,23,24,25,26,27,28,29,30,31]},\"id\":\"67d9632e-4bb9-424f-986c-7d40994fb851\",\"type\":\"DaysTicker\"},{\"attributes\":{},\"id\":\"cf1aa7cf-5aa3-46e9-8c23-e52de1fe6b8c\",\"type\":\"UnionRenderers\"},{\"attributes\":{\"days\":[1,8,15,22]},\"id\":\"7f6af977-ac3c-4185-abea-b8ffb9dde214\",\"type\":\"DaysTicker\"},{\"attributes\":{\"days\":[1,15]},\"id\":\"573fcc38-577f-44df-9ab1-9c7df4238ec8\",\"type\":\"DaysTicker\"},{\"attributes\":{\"months\":[0,1,2,3,4,5,6,7,8,9,10,11]},\"id\":\"228d7b44-080a-483d-845f-69076a718347\",\"type\":\"MonthsTicker\"},{\"attributes\":{\"months\":[0,2,4,6,8,10]},\"id\":\"ff2b47ca-608f-40c4-922d-a17bdf2b3c03\",\"type\":\"MonthsTicker\"},{\"attributes\":{\"months\":[0,4,8]},\"id\":\"6b76e488-330a-492e-88f9-21381a75e3b3\",\"type\":\"MonthsTicker\"},{\"attributes\":{\"months\":[0,6]},\"id\":\"8e5bd39b-8e92-4dcf-be66-229d0d3b81e9\",\"type\":\"MonthsTicker\"},{\"attributes\":{},\"id\":\"4949da91-410e-4d9f-a7e0-e9b8f9fa91ab\",\"type\":\"YearsTicker\"},{\"attributes\":{\"background_fill_alpha\":{\"value\":0},\"border_line_alpha\":{\"value\":0},\"glyph_height\":16,\"glyph_width\":8,\"items\":[{\"id\":\"85288991-da8c-4eb1-845d-b8c65f3fc33f\",\"type\":\"LegendItem\"},{\"id\":\"d3a076d8-ff57-4851-93ee-f9ba9bc9cca9\",\"type\":\"LegendItem\"},{\"id\":\"715e282d-a11c-4940-ad9a-371d88165926\",\"type\":\"LegendItem\"},{\"id\":\"ab96f097-4746-4b9b-8c96-9b69713be492\",\"type\":\"LegendItem\"}],\"label_standoff\":1,\"label_text_font_size\":{\"value\":\"8.5pt\"},\"location\":\"top_left\",\"margin\":2,\"orientation\":\"horizontal\",\"padding\":0,\"plot\":{\"id\":\"beab2da0-0554-431d-a3c9-622b454f9431\",\"subtype\":\"Figure\",\"type\":\"Plot\"},\"spacing\":5},\"id\":\"767ded9b-7c4a-4a8c-b238-1dbe4f83530c\",\"type\":\"Legend\"},{\"attributes\":{},\"id\":\"21094673-40f5-4a3d-9d54-2bb0a158c496\",\"type\":\"Selection\"},{\"attributes\":{\"label\":{\"value\":\"Core services\"},\"renderers\":[{\"id\":\"7701e1f4-8134-4f85-aea8-4994b47af8b2\",\"type\":\"GlyphRenderer\"}]},\"id\":\"85288991-da8c-4eb1-845d-b8c65f3fc33f\",\"type\":\"LegendItem\"},{\"attributes\":{\"bottom\":{\"expr\":{\"id\":\"a78c1b72-63b3-4416-a0f2-f10edcf7efbb\",\"type\":\"Stack\"}},\"fill_color\":{\"value\":\"#0000e6\"},\"line_alpha\":{\"value\":0},\"line_color\":{\"value\":\"#0000e6\"},\"top\":{\"expr\":{\"id\":\"9bdc2b3c-b555-4111-a201-c81cc0502da4\",\"type\":\"Stack\"}},\"width\":{\"value\":1921320000.0},\"x\":{\"field\":\"dates\"}},\"id\":\"25338c39-ce69-4f9f-a6df-e394fe3d84e7\",\"type\":\"VBar\"},{\"attributes\":{\"label\":{\"value\":\"Core goods\"},\"renderers\":[{\"id\":\"e3e33aaa-d48b-4d20-82ba-7a9f660517fe\",\"type\":\"GlyphRenderer\"}]},\"id\":\"d3a076d8-ff57-4851-93ee-f9ba9bc9cca9\",\"type\":\"LegendItem\"},{\"attributes\":{\"source\":{\"id\":\"14339d03-1bc3-4021-839f-03400745bd72\",\"type\":\"ColumnDataSource\"}},\"id\":\"85a7e879-2f76-43c8-a76d-17e29141e5fe\",\"type\":\"CDSView\"},{\"attributes\":{\"bottom\":{\"expr\":{\"id\":\"a78c1b72-63b3-4416-a0f2-f10edcf7efbb\",\"type\":\"Stack\"}},\"fill_alpha\":{\"value\":0.1},\"fill_color\":{\"value\":\"#1f77b4\"},\"line_alpha\":{\"value\":0.1},\"line_color\":{\"value\":\"#1f77b4\"},\"top\":{\"expr\":{\"id\":\"9bdc2b3c-b555-4111-a201-c81cc0502da4\",\"type\":\"Stack\"}},\"width\":{\"value\":1921320000.0},\"x\":{\"field\":\"dates\"}},\"id\":\"581221b7-2d2c-49dc-a3d6-b9e9b8ac96aa\",\"type\":\"VBar\"},{\"attributes\":{},\"id\":\"64cac411-f9c2-46c8-b255-b9fd7818d810\",\"type\":\"UnionRenderers\"},{\"attributes\":{\"label\":{\"value\":\"Shelter\"},\"renderers\":[{\"id\":\"6b550eeb-e4bc-432e-b50d-d37df3437f93\",\"type\":\"GlyphRenderer\"}]},\"id\":\"715e282d-a11c-4940-ad9a-371d88165926\",\"type\":\"LegendItem\"},{\"attributes\":{},\"id\":\"3a1c214c-096e-47ad-b7cd-19cb8d382a45\",\"type\":\"Selection\"},{\"attributes\":{\"bottom\":{\"expr\":{\"id\":\"0af9ce5f-a4dc-4ce0-a8fd-3d7a24f09a54\",\"type\":\"Stack\"}},\"fill_color\":{\"value\":\"#03a9f4\"},\"line_alpha\":{\"value\":0},\"line_color\":{\"value\":\"#03a9f4\"},\"top\":{\"expr\":{\"id\":\"aaae3dce-6c70-401f-8b5f-21ce49b5ae4f\",\"type\":\"Stack\"}},\"width\":{\"value\":1921320000.0},\"x\":{\"field\":\"dates\"}},\"id\":\"4160adf2-16df-4ce2-8772-b4a7b0585b4e\",\"type\":\"VBar\"},{\"attributes\":{\"data_source\":{\"id\":\"14339d03-1bc3-4021-839f-03400745bd72\",\"type\":\"ColumnDataSource\"},\"glyph\":{\"id\":\"25338c39-ce69-4f9f-a6df-e394fe3d84e7\",\"type\":\"VBar\"},\"hover_glyph\":null,\"muted_glyph\":null,\"nonselection_glyph\":{\"id\":\"581221b7-2d2c-49dc-a3d6-b9e9b8ac96aa\",\"type\":\"VBar\"},\"selection_glyph\":null,\"view\":{\"id\":\"fe358d37-15f6-4f8b-8766-828d8ba6b5f1\",\"type\":\"CDSView\"}},\"id\":\"e3e33aaa-d48b-4d20-82ba-7a9f660517fe\",\"type\":\"GlyphRenderer\"},{\"attributes\":{\"source\":{\"id\":\"14339d03-1bc3-4021-839f-03400745bd72\",\"type\":\"ColumnDataSource\"}},\"id\":\"fe358d37-15f6-4f8b-8766-828d8ba6b5f1\",\"type\":\"CDSView\"},{\"attributes\":{},\"id\":\"747c1b14-15e8-425a-ba73-fe466bb4cbdb\",\"type\":\"UnionRenderers\"},{\"attributes\":{\"bottom\":{\"expr\":{\"id\":\"0af9ce5f-a4dc-4ce0-a8fd-3d7a24f09a54\",\"type\":\"Stack\"}},\"fill_alpha\":{\"value\":0.1},\"fill_color\":{\"value\":\"#1f77b4\"},\"line_alpha\":{\"value\":0.1},\"line_color\":{\"value\":\"#1f77b4\"},\"top\":{\"expr\":{\"id\":\"aaae3dce-6c70-401f-8b5f-21ce49b5ae4f\",\"type\":\"Stack\"}},\"width\":{\"value\":1921320000.0},\"x\":{\"field\":\"dates\"}},\"id\":\"3330cfe8-1d19-451d-9c02-5338cc2f5224\",\"type\":\"VBar\"}],\"root_ids\":[\"beab2da0-0554-431d-a3c9-622b454f9431\"]},\"title\":\"Bokeh Application\",\"version\":\"0.12.16\"}};\n",
       "  var render_items = [{\"docid\":\"396eb729-a55e-46fb-a838-07680c0a37b8\",\"elementid\":\"8e969991-46b2-4f09-8457-fb205b8dcaa3\",\"modelid\":\"beab2da0-0554-431d-a3c9-622b454f9431\"}];\n",
       "  root.Bokeh.embed.embed_items_notebook(docs_json, render_items);\n",
       "\n",
       "  }\n",
       "  if (root.Bokeh !== undefined) {\n",
       "    embed_document(root);\n",
       "  } else {\n",
       "    var attempts = 0;\n",
       "    var timer = setInterval(function(root) {\n",
       "      if (root.Bokeh !== undefined) {\n",
       "        embed_document(root);\n",
       "        clearInterval(timer);\n",
       "      }\n",
       "      attempts++;\n",
       "      if (attempts > 100) {\n",
       "        console.log(\"Bokeh: ERROR: Unable to run BokehJS code because BokehJS library is missing\")\n",
       "        clearInterval(timer);\n",
       "      }\n",
       "    }, 10, root)\n",
       "  }\n",
       "})(window);"
      ],
      "application/vnd.bokehjs_exec.v0+json": ""
     },
     "metadata": {
      "application/vnd.bokehjs_exec.v0+json": {
       "id": "beab2da0-0554-431d-a3c9-622b454f9431"
      }
     },
     "output_type": "display_data"
    }
   ],
   "source": [
    "# HTML text that shows when hovering\n",
    "tooltips = \"\"\"\n",
    "    <div style=\"line-height: 110%;\">\n",
    "        <span style=\"font-size: 11px; font-style: italic;\">@strdate:</span><br>\n",
    "        <span style=\"font-size: 10px; padding: 0 5px;\">CPI Inflation: </span>\n",
    "        <span style=\"font-size: 11px; font-weight: bold;\">@total{1.1}%</span><br>\n",
    "        <span style=\"font-size: 9px; font-style: italic;\">Contribution from:</span><br>\n",
    "        <div style=\"text-align: right;\">\n",
    "            <span style=\"font-size: 10px; padding: 0 5px;\">Core services: </span>\n",
    "            <span style=\"display: inline-block; font-size: 11px; font-weight: bold; min-width: 26px;\">@{core services}{1.1}</span>\n",
    "            <span style=\"display: inline-block; color: #ffcc00; width: 8px;\">▮</span><br> \n",
    "            <span style=\"font-size: 10px; padding: 0 5px;\">Core goods: </span>\n",
    "            <span style=\"display: inline-block; font-size: 11px; font-weight: bold; min-width: 26px;\">@{core goods}{1.1}</span>\n",
    "            <span style=\"display: inline-block; color: #0000e6; width: 8px;\">▮</span><br>\n",
    "            <span style=\"font-size: 10px; padding: 0 5px;\">Shelter: </span>\n",
    "            <span style=\"display: inline-block; font-size: 11px; font-weight: bold; min-width: 26px;\">@shelter{1.1}</span>\n",
    "            <span style=\"display: inline-block; color: #03a9f4; width: 8px;\">▮</span><br>\n",
    "            <span style=\"font-size: 10px; padding: 0 5px;\">Food & Energy: </span>\n",
    "            <span style=\"display: inline-block; font-size: 11px; font-weight: bold; min-width: 26px;\">@{food & energy}{1.1}</span>\n",
    "            <span style=\"display: inline-block; color: #ff0000; width: 8px;\">▮</span><br>\n",
    "        </div>\n",
    "    </div>\n",
    "\"\"\"\n",
    "# Bar width determined by how many bars\n",
    "width = ((d2.index[-1] - d2.index[0]).total_seconds() \n",
    "         * 750.0 / len(d2.index))\n",
    "\n",
    "# horizontal line at zero\n",
    "zero_line = Span(location=0, dimension='width', \n",
    "                 line_color='gray', line_width=1)\n",
    "\n",
    "p = figure(plot_width=720, plot_height=400, \n",
    "           x_axis_type='datetime', \n",
    "           tools=['pan, wheel_zoom, box_zoom, reset'], \n",
    "           logo=None,\n",
    "           toolbar_location=None,  \n",
    "           y_range=Range1d(-2.2, 3.9),\n",
    "           x_range=Range1d(pd.to_datetime('2014-12-01'), pd.to_datetime('2018-05-01')))\n",
    "p.vbar_stack(col_names, x='dates', width=width, \n",
    "             color=['#ffcc00', '#0000e6', '#03a9f4', '#ff0000'], \n",
    "             legend=['Core services', 'Core goods', 'Shelter', 'Food & energy'], \n",
    "             line_alpha=0, source=ColumnDataSource(infl))\n",
    "p.vbar_stack(col_names, x='dates', width=width, \n",
    "             color=['#ffcc00', '#0000e6', '#03a9f4', '#ff0000'], \n",
    "             line_alpha=0, source=ColumnDataSource(defl))\n",
    "\n",
    "p.add_layout(zero_line)\n",
    "\n",
    "r1 = p.line('date', 'total', color='white', alpha=0.0, source=ColumnDataSource(d2))\n",
    "\n",
    "p.sizing_mode = 'scale_width'\n",
    "p.xgrid.grid_line_color = None\n",
    "p.xaxis.formatter=DatetimeTickFormatter(\n",
    "        hours=[\"%b %Y\"],\n",
    "        days=[\"%b %Y\"],\n",
    "        months=[\"%b %Y\"],\n",
    "        years=[\"%b %Y\"],\n",
    "    )\n",
    "p.outline_line_color = 'white'\n",
    "p.axis.axis_line_color = 'white'\n",
    "p.yaxis.minor_tick_line_color = None\n",
    "p.toolbar.active_drag = None\n",
    "p.legend.orientation = \"horizontal\"\n",
    "p.legend.location = \"top_left\"\n",
    "p.legend.border_line_alpha = 0\n",
    "p.legend.background_fill_alpha = 0\n",
    "p.legend.margin = 2\n",
    "p.legend.padding = 0\n",
    "p.legend.spacing = 5\n",
    "p.legend.label_standoff = 1\n",
    "p.legend.glyph_height = 16\n",
    "p.legend.glyph_width = 8\n",
    "p.legend.label_text_font_size = '8.5pt'\n",
    "\n",
    "p.add_tools(HoverTool(tooltips=tooltips, show_arrow=False, mode='vline',  renderers=[r1]))\n",
    "\n",
    "script, div = components(p)\n",
    "with open('C:/Working/bdecon.github.io/plots/cpi_comp.html', 'w') as text_file:\n",
    "    text_file.write(f'{script} {div}')\n",
    "\n",
    "show(p)"
   ]
  }
 ],
 "metadata": {
  "kernelspec": {
   "display_name": "Python 3",
   "language": "python",
   "name": "python3"
  },
  "language_info": {
   "codemirror_mode": {
    "name": "ipython",
    "version": 3
   },
   "file_extension": ".py",
   "mimetype": "text/x-python",
   "name": "python",
   "nbconvert_exporter": "python",
   "pygments_lexer": "ipython3",
   "version": "3.6.5"
  }
 },
 "nbformat": 4,
 "nbformat_minor": 2
}
