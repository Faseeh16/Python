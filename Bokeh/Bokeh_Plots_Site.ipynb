{
 "cells": [
  {
   "cell_type": "markdown",
   "metadata": {},
   "source": [
    "### Bokeh_Plots_Site.ipynb\n",
    "\n",
    "Brian Dew, @bd_econ, March 17, 2018\n",
    "\n",
    "----\n",
    "\n",
    "Description: Retrieve GDP data and make a bar plot showing GDP growth."
   ]
  },
  {
   "cell_type": "code",
   "execution_count": 1,
   "metadata": {
    "ExecuteTime": {
     "end_time": "2018-03-21T14:26:46.200034Z",
     "start_time": "2018-03-21T14:26:43.246620Z"
    },
    "code_folding": [
     0
    ]
   },
   "outputs": [
    {
     "data": {
      "text/html": [
       "\n",
       "    <div class=\"bk-root\">\n",
       "        <a href=\"https://bokeh.pydata.org\" target=\"_blank\" class=\"bk-logo bk-logo-small bk-logo-notebook\"></a>\n",
       "        <span id=\"9cd46f20-34f9-4688-a42e-f4cb1beb8b03\">Loading BokehJS ...</span>\n",
       "    </div>"
      ]
     },
     "metadata": {},
     "output_type": "display_data"
    },
    {
     "data": {
      "application/javascript": [
       "\n",
       "(function(root) {\n",
       "  function now() {\n",
       "    return new Date();\n",
       "  }\n",
       "\n",
       "  var force = true;\n",
       "\n",
       "  if (typeof (root._bokeh_onload_callbacks) === \"undefined\" || force === true) {\n",
       "    root._bokeh_onload_callbacks = [];\n",
       "    root._bokeh_is_loading = undefined;\n",
       "  }\n",
       "\n",
       "  var JS_MIME_TYPE = 'application/javascript';\n",
       "  var HTML_MIME_TYPE = 'text/html';\n",
       "  var EXEC_MIME_TYPE = 'application/vnd.bokehjs_exec.v0+json';\n",
       "  var CLASS_NAME = 'output_bokeh rendered_html';\n",
       "\n",
       "  /**\n",
       "   * Render data to the DOM node\n",
       "   */\n",
       "  function render(props, node) {\n",
       "    var script = document.createElement(\"script\");\n",
       "    node.appendChild(script);\n",
       "  }\n",
       "\n",
       "  /**\n",
       "   * Handle when an output is cleared or removed\n",
       "   */\n",
       "  function handleClearOutput(event, handle) {\n",
       "    var cell = handle.cell;\n",
       "\n",
       "    var id = cell.output_area._bokeh_element_id;\n",
       "    var server_id = cell.output_area._bokeh_server_id;\n",
       "    // Clean up Bokeh references\n",
       "    if (id !== undefined) {\n",
       "      Bokeh.index[id].model.document.clear();\n",
       "      delete Bokeh.index[id];\n",
       "    }\n",
       "\n",
       "    if (server_id !== undefined) {\n",
       "      // Clean up Bokeh references\n",
       "      var cmd = \"from bokeh.io.state import curstate; print(curstate().uuid_to_server['\" + server_id + \"'].get_sessions()[0].document.roots[0]._id)\";\n",
       "      cell.notebook.kernel.execute(cmd, {\n",
       "        iopub: {\n",
       "          output: function(msg) {\n",
       "            var element_id = msg.content.text.trim();\n",
       "            Bokeh.index[element_id].model.document.clear();\n",
       "            delete Bokeh.index[element_id];\n",
       "          }\n",
       "        }\n",
       "      });\n",
       "      // Destroy server and session\n",
       "      var cmd = \"import bokeh.io.notebook as ion; ion.destroy_server('\" + server_id + \"')\";\n",
       "      cell.notebook.kernel.execute(cmd);\n",
       "    }\n",
       "  }\n",
       "\n",
       "  /**\n",
       "   * Handle when a new output is added\n",
       "   */\n",
       "  function handleAddOutput(event, handle) {\n",
       "    var output_area = handle.output_area;\n",
       "    var output = handle.output;\n",
       "\n",
       "    // limit handleAddOutput to display_data with EXEC_MIME_TYPE content only\n",
       "    if ((output.output_type != \"display_data\") || (!output.data.hasOwnProperty(EXEC_MIME_TYPE))) {\n",
       "      return\n",
       "    }\n",
       "\n",
       "    var toinsert = output_area.element.find(\".\" + CLASS_NAME.split(' ')[0]);\n",
       "\n",
       "    if (output.metadata[EXEC_MIME_TYPE][\"id\"] !== undefined) {\n",
       "      toinsert[0].firstChild.textContent = output.data[JS_MIME_TYPE];\n",
       "      // store reference to embed id on output_area\n",
       "      output_area._bokeh_element_id = output.metadata[EXEC_MIME_TYPE][\"id\"];\n",
       "    }\n",
       "    if (output.metadata[EXEC_MIME_TYPE][\"server_id\"] !== undefined) {\n",
       "      var bk_div = document.createElement(\"div\");\n",
       "      bk_div.innerHTML = output.data[HTML_MIME_TYPE];\n",
       "      var script_attrs = bk_div.children[0].attributes;\n",
       "      for (var i = 0; i < script_attrs.length; i++) {\n",
       "        toinsert[0].firstChild.setAttribute(script_attrs[i].name, script_attrs[i].value);\n",
       "      }\n",
       "      // store reference to server id on output_area\n",
       "      output_area._bokeh_server_id = output.metadata[EXEC_MIME_TYPE][\"server_id\"];\n",
       "    }\n",
       "  }\n",
       "\n",
       "  function register_renderer(events, OutputArea) {\n",
       "\n",
       "    function append_mime(data, metadata, element) {\n",
       "      // create a DOM node to render to\n",
       "      var toinsert = this.create_output_subarea(\n",
       "        metadata,\n",
       "        CLASS_NAME,\n",
       "        EXEC_MIME_TYPE\n",
       "      );\n",
       "      this.keyboard_manager.register_events(toinsert);\n",
       "      // Render to node\n",
       "      var props = {data: data, metadata: metadata[EXEC_MIME_TYPE]};\n",
       "      render(props, toinsert[0]);\n",
       "      element.append(toinsert);\n",
       "      return toinsert\n",
       "    }\n",
       "\n",
       "    /* Handle when an output is cleared or removed */\n",
       "    events.on('clear_output.CodeCell', handleClearOutput);\n",
       "    events.on('delete.Cell', handleClearOutput);\n",
       "\n",
       "    /* Handle when a new output is added */\n",
       "    events.on('output_added.OutputArea', handleAddOutput);\n",
       "\n",
       "    /**\n",
       "     * Register the mime type and append_mime function with output_area\n",
       "     */\n",
       "    OutputArea.prototype.register_mime_type(EXEC_MIME_TYPE, append_mime, {\n",
       "      /* Is output safe? */\n",
       "      safe: true,\n",
       "      /* Index of renderer in `output_area.display_order` */\n",
       "      index: 0\n",
       "    });\n",
       "  }\n",
       "\n",
       "  // register the mime type if in Jupyter Notebook environment and previously unregistered\n",
       "  if (root.Jupyter !== undefined) {\n",
       "    var events = require('base/js/events');\n",
       "    var OutputArea = require('notebook/js/outputarea').OutputArea;\n",
       "\n",
       "    if (OutputArea.prototype.mime_types().indexOf(EXEC_MIME_TYPE) == -1) {\n",
       "      register_renderer(events, OutputArea);\n",
       "    }\n",
       "  }\n",
       "\n",
       "  \n",
       "  if (typeof (root._bokeh_timeout) === \"undefined\" || force === true) {\n",
       "    root._bokeh_timeout = Date.now() + 5000;\n",
       "    root._bokeh_failed_load = false;\n",
       "  }\n",
       "\n",
       "  var NB_LOAD_WARNING = {'data': {'text/html':\n",
       "     \"<div style='background-color: #fdd'>\\n\"+\n",
       "     \"<p>\\n\"+\n",
       "     \"BokehJS does not appear to have successfully loaded. If loading BokehJS from CDN, this \\n\"+\n",
       "     \"may be due to a slow or bad network connection. Possible fixes:\\n\"+\n",
       "     \"</p>\\n\"+\n",
       "     \"<ul>\\n\"+\n",
       "     \"<li>re-rerun `output_notebook()` to attempt to load from CDN again, or</li>\\n\"+\n",
       "     \"<li>use INLINE resources instead, as so:</li>\\n\"+\n",
       "     \"</ul>\\n\"+\n",
       "     \"<code>\\n\"+\n",
       "     \"from bokeh.resources import INLINE\\n\"+\n",
       "     \"output_notebook(resources=INLINE)\\n\"+\n",
       "     \"</code>\\n\"+\n",
       "     \"</div>\"}};\n",
       "\n",
       "  function display_loaded() {\n",
       "    var el = document.getElementById(\"9cd46f20-34f9-4688-a42e-f4cb1beb8b03\");\n",
       "    if (el != null) {\n",
       "      el.textContent = \"BokehJS is loading...\";\n",
       "    }\n",
       "    if (root.Bokeh !== undefined) {\n",
       "      if (el != null) {\n",
       "        el.textContent = \"BokehJS \" + root.Bokeh.version + \" successfully loaded.\";\n",
       "      }\n",
       "    } else if (Date.now() < root._bokeh_timeout) {\n",
       "      setTimeout(display_loaded, 100)\n",
       "    }\n",
       "  }\n",
       "\n",
       "\n",
       "  function run_callbacks() {\n",
       "    try {\n",
       "      root._bokeh_onload_callbacks.forEach(function(callback) { callback() });\n",
       "    }\n",
       "    finally {\n",
       "      delete root._bokeh_onload_callbacks\n",
       "    }\n",
       "    console.info(\"Bokeh: all callbacks have finished\");\n",
       "  }\n",
       "\n",
       "  function load_libs(js_urls, callback) {\n",
       "    root._bokeh_onload_callbacks.push(callback);\n",
       "    if (root._bokeh_is_loading > 0) {\n",
       "      console.log(\"Bokeh: BokehJS is being loaded, scheduling callback at\", now());\n",
       "      return null;\n",
       "    }\n",
       "    if (js_urls == null || js_urls.length === 0) {\n",
       "      run_callbacks();\n",
       "      return null;\n",
       "    }\n",
       "    console.log(\"Bokeh: BokehJS not loaded, scheduling load and callback at\", now());\n",
       "    root._bokeh_is_loading = js_urls.length;\n",
       "    for (var i = 0; i < js_urls.length; i++) {\n",
       "      var url = js_urls[i];\n",
       "      var s = document.createElement('script');\n",
       "      s.src = url;\n",
       "      s.async = false;\n",
       "      s.onreadystatechange = s.onload = function() {\n",
       "        root._bokeh_is_loading--;\n",
       "        if (root._bokeh_is_loading === 0) {\n",
       "          console.log(\"Bokeh: all BokehJS libraries loaded\");\n",
       "          run_callbacks()\n",
       "        }\n",
       "      };\n",
       "      s.onerror = function() {\n",
       "        console.warn(\"failed to load library \" + url);\n",
       "      };\n",
       "      console.log(\"Bokeh: injecting script tag for BokehJS library: \", url);\n",
       "      document.getElementsByTagName(\"head\")[0].appendChild(s);\n",
       "    }\n",
       "  };var element = document.getElementById(\"9cd46f20-34f9-4688-a42e-f4cb1beb8b03\");\n",
       "  if (element == null) {\n",
       "    console.log(\"Bokeh: ERROR: autoload.js configured with elementid '9cd46f20-34f9-4688-a42e-f4cb1beb8b03' but no matching script tag was found. \")\n",
       "    return false;\n",
       "  }\n",
       "\n",
       "  var js_urls = [\"https://cdn.pydata.org/bokeh/release/bokeh-0.12.14.min.js\", \"https://cdn.pydata.org/bokeh/release/bokeh-widgets-0.12.14.min.js\", \"https://cdn.pydata.org/bokeh/release/bokeh-tables-0.12.14.min.js\", \"https://cdn.pydata.org/bokeh/release/bokeh-gl-0.12.14.min.js\"];\n",
       "\n",
       "  var inline_js = [\n",
       "    function(Bokeh) {\n",
       "      Bokeh.set_log_level(\"info\");\n",
       "    },\n",
       "    \n",
       "    function(Bokeh) {\n",
       "      \n",
       "    },\n",
       "    function(Bokeh) {\n",
       "      console.log(\"Bokeh: injecting CSS: https://cdn.pydata.org/bokeh/release/bokeh-0.12.14.min.css\");\n",
       "      Bokeh.embed.inject_css(\"https://cdn.pydata.org/bokeh/release/bokeh-0.12.14.min.css\");\n",
       "      console.log(\"Bokeh: injecting CSS: https://cdn.pydata.org/bokeh/release/bokeh-widgets-0.12.14.min.css\");\n",
       "      Bokeh.embed.inject_css(\"https://cdn.pydata.org/bokeh/release/bokeh-widgets-0.12.14.min.css\");\n",
       "      console.log(\"Bokeh: injecting CSS: https://cdn.pydata.org/bokeh/release/bokeh-tables-0.12.14.min.css\");\n",
       "      Bokeh.embed.inject_css(\"https://cdn.pydata.org/bokeh/release/bokeh-tables-0.12.14.min.css\");\n",
       "    }\n",
       "  ];\n",
       "\n",
       "  function run_inline_js() {\n",
       "    \n",
       "    if ((root.Bokeh !== undefined) || (force === true)) {\n",
       "      for (var i = 0; i < inline_js.length; i++) {\n",
       "        inline_js[i].call(root, root.Bokeh);\n",
       "      }if (force === true) {\n",
       "        display_loaded();\n",
       "      }} else if (Date.now() < root._bokeh_timeout) {\n",
       "      setTimeout(run_inline_js, 100);\n",
       "    } else if (!root._bokeh_failed_load) {\n",
       "      console.log(\"Bokeh: BokehJS failed to load within specified timeout.\");\n",
       "      root._bokeh_failed_load = true;\n",
       "    } else if (force !== true) {\n",
       "      var cell = $(document.getElementById(\"9cd46f20-34f9-4688-a42e-f4cb1beb8b03\")).parents('.cell').data().cell;\n",
       "      cell.output_area.append_execute_result(NB_LOAD_WARNING)\n",
       "    }\n",
       "\n",
       "  }\n",
       "\n",
       "  if (root._bokeh_is_loading === 0) {\n",
       "    console.log(\"Bokeh: BokehJS loaded, going straight to plotting\");\n",
       "    run_inline_js();\n",
       "  } else {\n",
       "    load_libs(js_urls, function() {\n",
       "      console.log(\"Bokeh: BokehJS plotting callback run at\", now());\n",
       "      run_inline_js();\n",
       "    });\n",
       "  }\n",
       "}(window));"
      ],
      "application/vnd.bokehjs_load.v0+json": "\n(function(root) {\n  function now() {\n    return new Date();\n  }\n\n  var force = true;\n\n  if (typeof (root._bokeh_onload_callbacks) === \"undefined\" || force === true) {\n    root._bokeh_onload_callbacks = [];\n    root._bokeh_is_loading = undefined;\n  }\n\n  \n\n  \n  if (typeof (root._bokeh_timeout) === \"undefined\" || force === true) {\n    root._bokeh_timeout = Date.now() + 5000;\n    root._bokeh_failed_load = false;\n  }\n\n  var NB_LOAD_WARNING = {'data': {'text/html':\n     \"<div style='background-color: #fdd'>\\n\"+\n     \"<p>\\n\"+\n     \"BokehJS does not appear to have successfully loaded. If loading BokehJS from CDN, this \\n\"+\n     \"may be due to a slow or bad network connection. Possible fixes:\\n\"+\n     \"</p>\\n\"+\n     \"<ul>\\n\"+\n     \"<li>re-rerun `output_notebook()` to attempt to load from CDN again, or</li>\\n\"+\n     \"<li>use INLINE resources instead, as so:</li>\\n\"+\n     \"</ul>\\n\"+\n     \"<code>\\n\"+\n     \"from bokeh.resources import INLINE\\n\"+\n     \"output_notebook(resources=INLINE)\\n\"+\n     \"</code>\\n\"+\n     \"</div>\"}};\n\n  function display_loaded() {\n    var el = document.getElementById(\"9cd46f20-34f9-4688-a42e-f4cb1beb8b03\");\n    if (el != null) {\n      el.textContent = \"BokehJS is loading...\";\n    }\n    if (root.Bokeh !== undefined) {\n      if (el != null) {\n        el.textContent = \"BokehJS \" + root.Bokeh.version + \" successfully loaded.\";\n      }\n    } else if (Date.now() < root._bokeh_timeout) {\n      setTimeout(display_loaded, 100)\n    }\n  }\n\n\n  function run_callbacks() {\n    try {\n      root._bokeh_onload_callbacks.forEach(function(callback) { callback() });\n    }\n    finally {\n      delete root._bokeh_onload_callbacks\n    }\n    console.info(\"Bokeh: all callbacks have finished\");\n  }\n\n  function load_libs(js_urls, callback) {\n    root._bokeh_onload_callbacks.push(callback);\n    if (root._bokeh_is_loading > 0) {\n      console.log(\"Bokeh: BokehJS is being loaded, scheduling callback at\", now());\n      return null;\n    }\n    if (js_urls == null || js_urls.length === 0) {\n      run_callbacks();\n      return null;\n    }\n    console.log(\"Bokeh: BokehJS not loaded, scheduling load and callback at\", now());\n    root._bokeh_is_loading = js_urls.length;\n    for (var i = 0; i < js_urls.length; i++) {\n      var url = js_urls[i];\n      var s = document.createElement('script');\n      s.src = url;\n      s.async = false;\n      s.onreadystatechange = s.onload = function() {\n        root._bokeh_is_loading--;\n        if (root._bokeh_is_loading === 0) {\n          console.log(\"Bokeh: all BokehJS libraries loaded\");\n          run_callbacks()\n        }\n      };\n      s.onerror = function() {\n        console.warn(\"failed to load library \" + url);\n      };\n      console.log(\"Bokeh: injecting script tag for BokehJS library: \", url);\n      document.getElementsByTagName(\"head\")[0].appendChild(s);\n    }\n  };var element = document.getElementById(\"9cd46f20-34f9-4688-a42e-f4cb1beb8b03\");\n  if (element == null) {\n    console.log(\"Bokeh: ERROR: autoload.js configured with elementid '9cd46f20-34f9-4688-a42e-f4cb1beb8b03' but no matching script tag was found. \")\n    return false;\n  }\n\n  var js_urls = [\"https://cdn.pydata.org/bokeh/release/bokeh-0.12.14.min.js\", \"https://cdn.pydata.org/bokeh/release/bokeh-widgets-0.12.14.min.js\", \"https://cdn.pydata.org/bokeh/release/bokeh-tables-0.12.14.min.js\", \"https://cdn.pydata.org/bokeh/release/bokeh-gl-0.12.14.min.js\"];\n\n  var inline_js = [\n    function(Bokeh) {\n      Bokeh.set_log_level(\"info\");\n    },\n    \n    function(Bokeh) {\n      \n    },\n    function(Bokeh) {\n      console.log(\"Bokeh: injecting CSS: https://cdn.pydata.org/bokeh/release/bokeh-0.12.14.min.css\");\n      Bokeh.embed.inject_css(\"https://cdn.pydata.org/bokeh/release/bokeh-0.12.14.min.css\");\n      console.log(\"Bokeh: injecting CSS: https://cdn.pydata.org/bokeh/release/bokeh-widgets-0.12.14.min.css\");\n      Bokeh.embed.inject_css(\"https://cdn.pydata.org/bokeh/release/bokeh-widgets-0.12.14.min.css\");\n      console.log(\"Bokeh: injecting CSS: https://cdn.pydata.org/bokeh/release/bokeh-tables-0.12.14.min.css\");\n      Bokeh.embed.inject_css(\"https://cdn.pydata.org/bokeh/release/bokeh-tables-0.12.14.min.css\");\n    }\n  ];\n\n  function run_inline_js() {\n    \n    if ((root.Bokeh !== undefined) || (force === true)) {\n      for (var i = 0; i < inline_js.length; i++) {\n        inline_js[i].call(root, root.Bokeh);\n      }if (force === true) {\n        display_loaded();\n      }} else if (Date.now() < root._bokeh_timeout) {\n      setTimeout(run_inline_js, 100);\n    } else if (!root._bokeh_failed_load) {\n      console.log(\"Bokeh: BokehJS failed to load within specified timeout.\");\n      root._bokeh_failed_load = true;\n    } else if (force !== true) {\n      var cell = $(document.getElementById(\"9cd46f20-34f9-4688-a42e-f4cb1beb8b03\")).parents('.cell').data().cell;\n      cell.output_area.append_execute_result(NB_LOAD_WARNING)\n    }\n\n  }\n\n  if (root._bokeh_is_loading === 0) {\n    console.log(\"Bokeh: BokehJS loaded, going straight to plotting\");\n    run_inline_js();\n  } else {\n    load_libs(js_urls, function() {\n      console.log(\"Bokeh: BokehJS plotting callback run at\", now());\n      run_inline_js();\n    });\n  }\n}(window));"
     },
     "metadata": {},
     "output_type": "display_data"
    }
   ],
   "source": [
    "#Import preliminaries\n",
    "import requests\n",
    "import pandas as pd\n",
    "\n",
    "# Local file with API key\n",
    "import config\n",
    "api_key = config.bea_key\n",
    "\n",
    "# Bokeh settings\n",
    "from bokeh.plotting import figure, show\n",
    "import bokeh.models\n",
    "import bokeh.plotting\n",
    "from bokeh.models import ColumnDataSource, Span, Label, HoverTool, Range1d\n",
    "from bokeh.embed import components\n",
    "from bokeh.io import output_notebook\n",
    "output_notebook()"
   ]
  },
  {
   "cell_type": "markdown",
   "metadata": {},
   "source": [
    "# US GDP"
   ]
  },
  {
   "cell_type": "code",
   "execution_count": 2,
   "metadata": {
    "ExecuteTime": {
     "end_time": "2018-03-17T21:55:35.126204Z",
     "start_time": "2018-03-17T21:55:34.829307Z"
    },
    "code_folding": [
     0
    ]
   },
   "outputs": [],
   "source": [
    "# Individual parameters of the request\n",
    "uri = f'https://www.bea.gov/api/data/?&UserID={api_key}'\n",
    "mdt = '&method=GetData&DataSetName=NIPA&TableName=T10101'\n",
    "yr = ','.join(map(str, range(2010, 2019)))\n",
    "\n",
    "# Construct URL from parameters above\n",
    "url = f'{uri}{mdt}&Frequency=Q&Year={yr}&ResultFormat=json'\n",
    "\n",
    "# Request parameter information from BEA API\n",
    "r = requests.get(url).json()['BEAAPI']['Results']\n",
    "\n",
    "# GDP data as a pandas dataframe\n",
    "df = pd.DataFrame(\n",
    "    [(pd.to_datetime(i['TimePeriod']), float(i['DataValue'])) \n",
    "     for i in r['Data'] if i['SeriesCode'] == 'A191RL'], \n",
    "    columns=['Date', 'Value']).set_index('Date')\n",
    "\n",
    "# String dates\n",
    "df['strdate'] = [f'{i.year} Q{i.quarter}' for i in df.index]"
   ]
  },
  {
   "cell_type": "code",
   "execution_count": 3,
   "metadata": {
    "ExecuteTime": {
     "end_time": "2018-03-17T21:55:38.579666Z",
     "start_time": "2018-03-17T21:55:38.454656Z"
    },
    "code_folding": [
     0
    ]
   },
   "outputs": [
    {
     "data": {
      "text/html": [
       "\n",
       "<div class=\"bk-root\">\n",
       "    <div class=\"bk-plotdiv\" id=\"94529e83-d0bd-45ee-9e4d-c81d5f914019\"></div>\n",
       "</div>"
      ]
     },
     "metadata": {},
     "output_type": "display_data"
    },
    {
     "data": {
      "application/javascript": [
       "(function(root) {\n",
       "  function embed_document(root) {\n",
       "    \n",
       "  var docs_json = {\"a6a86f23-8e73-440b-a370-a653d1b342c6\":{\"roots\":{\"references\":[{\"attributes\":{\"days\":[1,2,3,4,5,6,7,8,9,10,11,12,13,14,15,16,17,18,19,20,21,22,23,24,25,26,27,28,29,30,31]},\"id\":\"91a9bc7a-093e-44b3-8877-45c16b20a63d\",\"type\":\"DaysTicker\"},{\"attributes\":{\"mantissas\":[1,2,5],\"max_interval\":500.0,\"num_minor_ticks\":0},\"id\":\"5da39bff-e1d0-42df-8d9f-b6c997f6c7e2\",\"type\":\"AdaptiveTicker\"},{\"attributes\":{\"fill_alpha\":{\"value\":0.1},\"fill_color\":{\"value\":\"#1f77b4\"},\"line_alpha\":{\"value\":0.1},\"line_color\":{\"value\":\"#1f77b4\"},\"top\":{\"field\":\"y\"},\"width\":{\"value\":6112800000.000001},\"x\":{\"field\":\"x\"}},\"id\":\"03a18954-2219-4e05-a670-0d7d8d95a7ae\",\"type\":\"VBar\"},{\"attributes\":{\"days\":[1,4,7,10,13,16,19,22,25,28]},\"id\":\"e5660f49-8aab-46fd-9825-1ce0524aaf9c\",\"type\":\"DaysTicker\"},{\"attributes\":{\"days\":[1,8,15,22]},\"id\":\"ff5313ce-563c-41f4-93ca-bf2ee59f0172\",\"type\":\"DaysTicker\"},{\"attributes\":{\"callback\":null},\"id\":\"2f20b4fc-eb7a-42aa-a1b8-d0221a2d6487\",\"type\":\"DataRange1d\"},{\"attributes\":{\"days\":[1,15]},\"id\":\"a74e4a75-50f7-4245-ae9a-c4776d95cafc\",\"type\":\"DaysTicker\"},{\"attributes\":{\"source\":{\"id\":\"99e74755-717a-4b81-8d2c-59282cc0aa68\",\"type\":\"ColumnDataSource\"}},\"id\":\"4cbfe451-203c-4234-8ba0-3e4dfc498d6c\",\"type\":\"CDSView\"},{\"attributes\":{\"months\":[0,1,2,3,4,5,6,7,8,9,10,11]},\"id\":\"65c3cfc2-94a3-4ce2-92ff-e7a5b12e3735\",\"type\":\"MonthsTicker\"},{\"attributes\":{\"months\":[0,2,4,6,8,10]},\"id\":\"be9b4f2e-bc1f-4aa3-98c1-a8926a33ee23\",\"type\":\"MonthsTicker\"},{\"attributes\":{\"months\":[0,4,8]},\"id\":\"de8af751-02d5-487e-81ce-cca1a2c79d94\",\"type\":\"MonthsTicker\"},{\"attributes\":{\"months\":[0,6]},\"id\":\"00523664-7f81-4368-97d9-7b04a05f35bb\",\"type\":\"MonthsTicker\"},{\"attributes\":{},\"id\":\"61ceeeec-772f-417f-880d-6d76aeb12fae\",\"type\":\"YearsTicker\"},{\"attributes\":{},\"id\":\"3b0b6598-acb9-4bfa-9e4c-b2d9aa3a43ab\",\"type\":\"LinearScale\"},{\"attributes\":{\"below\":[{\"id\":\"990383fa-1636-463b-abdf-b0bf5b1d4d05\",\"type\":\"DatetimeAxis\"}],\"left\":[{\"id\":\"391cd5f0-bc32-410a-a298-8033386b5b0a\",\"type\":\"LinearAxis\"}],\"outline_line_color\":{\"value\":\"white\"},\"plot_height\":300,\"plot_width\":700,\"renderers\":[{\"id\":\"990383fa-1636-463b-abdf-b0bf5b1d4d05\",\"type\":\"DatetimeAxis\"},{\"id\":\"227d39f0-0af3-4404-b567-843aca893dba\",\"type\":\"Grid\"},{\"id\":\"391cd5f0-bc32-410a-a298-8033386b5b0a\",\"type\":\"LinearAxis\"},{\"id\":\"e1babe1d-a926-47a3-aa72-fe33ec3f3905\",\"type\":\"Grid\"},{\"id\":\"889e7779-c25b-473c-a654-99ae9b8200d1\",\"type\":\"BoxAnnotation\"},{\"id\":\"1e392e04-ec7a-440b-b4ff-71d0a92bc957\",\"type\":\"GlyphRenderer\"},{\"id\":\"8191e94c-6255-45bb-af5d-4141b8c453ce\",\"type\":\"Span\"}],\"sizing_mode\":\"scale_width\",\"title\":{\"id\":\"7bed673f-45b3-404a-aa5e-2d102bb38b78\",\"type\":\"Title\"},\"toolbar\":{\"id\":\"f5e20527-38c4-4267-aab1-a14d55231e17\",\"type\":\"Toolbar\"},\"toolbar_location\":null,\"x_range\":{\"id\":\"2f20b4fc-eb7a-42aa-a1b8-d0221a2d6487\",\"type\":\"DataRange1d\"},\"x_scale\":{\"id\":\"3b0b6598-acb9-4bfa-9e4c-b2d9aa3a43ab\",\"type\":\"LinearScale\"},\"y_range\":{\"id\":\"a54ca5e2-1fb9-41f6-9767-bf33f4cb24e3\",\"type\":\"Range1d\"},\"y_scale\":{\"id\":\"221fd303-f37b-437a-a72c-592b5c1108a5\",\"type\":\"LinearScale\"}},\"id\":\"4474fa67-62d2-4e1d-8b88-5e5aeadb3688\",\"subtype\":\"Figure\",\"type\":\"Plot\"},{\"attributes\":{\"data_source\":{\"id\":\"99e74755-717a-4b81-8d2c-59282cc0aa68\",\"type\":\"ColumnDataSource\"},\"glyph\":{\"id\":\"16d62e9b-0c21-4dee-9fb7-fe257794ff81\",\"type\":\"VBar\"},\"hover_glyph\":null,\"level\":\"overlay\",\"muted_glyph\":null,\"nonselection_glyph\":{\"id\":\"03a18954-2219-4e05-a670-0d7d8d95a7ae\",\"type\":\"VBar\"},\"selection_glyph\":null,\"view\":{\"id\":\"4cbfe451-203c-4234-8ba0-3e4dfc498d6c\",\"type\":\"CDSView\"}},\"id\":\"1e392e04-ec7a-440b-b4ff-71d0a92bc957\",\"type\":\"GlyphRenderer\"},{\"attributes\":{\"active_drag\":null,\"active_inspect\":\"auto\",\"active_scroll\":\"auto\",\"active_tap\":\"auto\",\"logo\":null,\"tools\":[{\"id\":\"3a2273a6-b5b7-408c-84a4-3afb9ed0dfc0\",\"type\":\"PanTool\"},{\"id\":\"11ac30ca-22cb-46a4-8dfa-296f232cee02\",\"type\":\"WheelZoomTool\"},{\"id\":\"d2df7454-e7df-4c1d-a8ea-b9471cda4607\",\"type\":\"BoxZoomTool\"},{\"id\":\"d0343a6f-fb90-4ba9-8fdb-8d2a547f35ac\",\"type\":\"ResetTool\"},{\"id\":\"f5ca805b-60c1-45f4-960f-4e0472be966d\",\"type\":\"HoverTool\"}]},\"id\":\"f5e20527-38c4-4267-aab1-a14d55231e17\",\"type\":\"Toolbar\"},{\"attributes\":{\"axis_line_color\":{\"value\":\"white\"},\"formatter\":{\"id\":\"2855df9d-7ce0-4d7c-b5e1-d70fe96d10fa\",\"type\":\"DatetimeTickFormatter\"},\"plot\":{\"id\":\"4474fa67-62d2-4e1d-8b88-5e5aeadb3688\",\"subtype\":\"Figure\",\"type\":\"Plot\"},\"ticker\":{\"id\":\"80e8164f-4fbc-4d8c-9f3a-b5cb517f37c7\",\"type\":\"DatetimeTicker\"}},\"id\":\"990383fa-1636-463b-abdf-b0bf5b1d4d05\",\"type\":\"DatetimeAxis\"},{\"attributes\":{},\"id\":\"221fd303-f37b-437a-a72c-592b5c1108a5\",\"type\":\"LinearScale\"},{\"attributes\":{\"callback\":null,\"show_arrow\":false,\"tooltips\":\"\\n    <div>\\n        <span style=\\\"font-size: 12px;\\\">@Date:</span>\\n        <span style=\\\"font-size: 12px; font-weight: bold;\\\">@y{1.1}%</span>\\n    </div>\\n\"},\"id\":\"f5ca805b-60c1-45f4-960f-4e0472be966d\",\"type\":\"HoverTool\"},{\"attributes\":{\"num_minor_ticks\":5,\"tickers\":[{\"id\":\"5da39bff-e1d0-42df-8d9f-b6c997f6c7e2\",\"type\":\"AdaptiveTicker\"},{\"id\":\"413711f5-e3de-4470-b259-83a1700b8189\",\"type\":\"AdaptiveTicker\"},{\"id\":\"4df4462a-7066-4d96-8359-3929f0b21ae1\",\"type\":\"AdaptiveTicker\"},{\"id\":\"91a9bc7a-093e-44b3-8877-45c16b20a63d\",\"type\":\"DaysTicker\"},{\"id\":\"e5660f49-8aab-46fd-9825-1ce0524aaf9c\",\"type\":\"DaysTicker\"},{\"id\":\"ff5313ce-563c-41f4-93ca-bf2ee59f0172\",\"type\":\"DaysTicker\"},{\"id\":\"a74e4a75-50f7-4245-ae9a-c4776d95cafc\",\"type\":\"DaysTicker\"},{\"id\":\"65c3cfc2-94a3-4ce2-92ff-e7a5b12e3735\",\"type\":\"MonthsTicker\"},{\"id\":\"be9b4f2e-bc1f-4aa3-98c1-a8926a33ee23\",\"type\":\"MonthsTicker\"},{\"id\":\"de8af751-02d5-487e-81ce-cca1a2c79d94\",\"type\":\"MonthsTicker\"},{\"id\":\"00523664-7f81-4368-97d9-7b04a05f35bb\",\"type\":\"MonthsTicker\"},{\"id\":\"61ceeeec-772f-417f-880d-6d76aeb12fae\",\"type\":\"YearsTicker\"}]},\"id\":\"80e8164f-4fbc-4d8c-9f3a-b5cb517f37c7\",\"type\":\"DatetimeTicker\"},{\"attributes\":{\"grid_line_color\":{\"value\":null},\"plot\":{\"id\":\"4474fa67-62d2-4e1d-8b88-5e5aeadb3688\",\"subtype\":\"Figure\",\"type\":\"Plot\"},\"ticker\":{\"id\":\"80e8164f-4fbc-4d8c-9f3a-b5cb517f37c7\",\"type\":\"DatetimeTicker\"}},\"id\":\"227d39f0-0af3-4404-b567-843aca893dba\",\"type\":\"Grid\"},{\"attributes\":{\"axis_line_color\":{\"value\":\"white\"},\"formatter\":{\"id\":\"47323b37-111f-4e11-9344-3fc7e6cd750c\",\"type\":\"BasicTickFormatter\"},\"plot\":{\"id\":\"4474fa67-62d2-4e1d-8b88-5e5aeadb3688\",\"subtype\":\"Figure\",\"type\":\"Plot\"},\"ticker\":{\"id\":\"d5661f2b-38bc-465b-9929-46b9a2b344d1\",\"type\":\"BasicTicker\"}},\"id\":\"391cd5f0-bc32-410a-a298-8033386b5b0a\",\"type\":\"LinearAxis\"},{\"attributes\":{\"plot\":null,\"text\":\"\"},\"id\":\"7bed673f-45b3-404a-aa5e-2d102bb38b78\",\"type\":\"Title\"},{\"attributes\":{},\"id\":\"d5661f2b-38bc-465b-9929-46b9a2b344d1\",\"type\":\"BasicTicker\"},{\"attributes\":{\"fill_color\":{\"value\":\"Red\"},\"line_color\":{\"value\":\"Red\"},\"top\":{\"field\":\"y\"},\"width\":{\"value\":6112800000.000001},\"x\":{\"field\":\"x\"}},\"id\":\"16d62e9b-0c21-4dee-9fb7-fe257794ff81\",\"type\":\"VBar\"},{\"attributes\":{\"dimension\":1,\"plot\":{\"id\":\"4474fa67-62d2-4e1d-8b88-5e5aeadb3688\",\"subtype\":\"Figure\",\"type\":\"Plot\"},\"ticker\":{\"id\":\"d5661f2b-38bc-465b-9929-46b9a2b344d1\",\"type\":\"BasicTicker\"}},\"id\":\"e1babe1d-a926-47a3-aa72-fe33ec3f3905\",\"type\":\"Grid\"},{\"attributes\":{},\"id\":\"2855df9d-7ce0-4d7c-b5e1-d70fe96d10fa\",\"type\":\"DatetimeTickFormatter\"},{\"attributes\":{},\"id\":\"3a2273a6-b5b7-408c-84a4-3afb9ed0dfc0\",\"type\":\"PanTool\"},{\"attributes\":{\"line_color\":{\"value\":\"gray\"},\"location\":0,\"plot\":{\"id\":\"4474fa67-62d2-4e1d-8b88-5e5aeadb3688\",\"subtype\":\"Figure\",\"type\":\"Plot\"}},\"id\":\"8191e94c-6255-45bb-af5d-4141b8c453ce\",\"type\":\"Span\"},{\"attributes\":{},\"id\":\"11ac30ca-22cb-46a4-8dfa-296f232cee02\",\"type\":\"WheelZoomTool\"},{\"attributes\":{\"overlay\":{\"id\":\"889e7779-c25b-473c-a654-99ae9b8200d1\",\"type\":\"BoxAnnotation\"}},\"id\":\"d2df7454-e7df-4c1d-a8ea-b9471cda4607\",\"type\":\"BoxZoomTool\"},{\"attributes\":{},\"id\":\"d0343a6f-fb90-4ba9-8fdb-8d2a547f35ac\",\"type\":\"ResetTool\"},{\"attributes\":{\"bottom_units\":\"screen\",\"fill_alpha\":{\"value\":0.5},\"fill_color\":{\"value\":\"lightgrey\"},\"left_units\":\"screen\",\"level\":\"overlay\",\"line_alpha\":{\"value\":1.0},\"line_color\":{\"value\":\"black\"},\"line_dash\":[4,4],\"line_width\":{\"value\":2},\"plot\":null,\"render_mode\":\"css\",\"right_units\":\"screen\",\"top_units\":\"screen\"},\"id\":\"889e7779-c25b-473c-a654-99ae9b8200d1\",\"type\":\"BoxAnnotation\"},{\"attributes\":{\"callback\":null,\"end\":6.2,\"start\":-2.6},\"id\":\"a54ca5e2-1fb9-41f6-9767-bf33f4cb24e3\",\"type\":\"Range1d\"},{\"attributes\":{\"callback\":null,\"column_names\":[\"x\",\"y\",\"Date\"],\"data\":{\"Date\":[\"2010 Q1\",\"2010 Q2\",\"2010 Q3\",\"2010 Q4\",\"2011 Q1\",\"2011 Q2\",\"2011 Q3\",\"2011 Q4\",\"2012 Q1\",\"2012 Q2\",\"2012 Q3\",\"2012 Q4\",\"2013 Q1\",\"2013 Q2\",\"2013 Q3\",\"2013 Q4\",\"2014 Q1\",\"2014 Q2\",\"2014 Q3\",\"2014 Q4\",\"2015 Q1\",\"2015 Q2\",\"2015 Q3\",\"2015 Q4\",\"2016 Q1\",\"2016 Q2\",\"2016 Q3\",\"2016 Q4\",\"2017 Q1\",\"2017 Q2\",\"2017 Q3\",\"2017 Q4\"],\"x\":{\"__ndarray__\":\"AACA53JeckIAAACtantyQgAAQNi0mHJCAABAaVG2ckIAAED67dNyQgAAwL/l8HJCAAAA6y8Oc0IAAAB8zCtzQgAAAA1pSXNCAABAOLNmc0IAAIBj/YNzQgAAgPSZoXNCAACAhTa/c0IAAABLLtxzQgAAQHZ4+XNCAABABxUXdEIAAECYsTR0QgAAwF2pUXRCAAAAifNudEIAAAAakIx0QgAAAKssqnRCAACAcCTHdEIAAMCbbuR0QgAAwCwLAnVCAADAvacfdUIAAADp8Tx1QgAAQBQ8WnVCAABApdh3dUIAAEA2dZV1QgAAwPtssnVCAAAAJ7fPdUIAAAC4U+11Qg==\",\"dtype\":\"float64\",\"shape\":[32]},\"y\":{\"__ndarray__\":\"MzMzMzMz+z8zMzMzMzMPQJqZmZmZmQVAAAAAAAAABEAAAAAAAAD4vzMzMzMzMwdAmpmZmZmZ6T9mZmZmZmYSQJqZmZmZmQVAZmZmZmZm/j8AAAAAAADgP5qZmZmZmbk/ZmZmZmZmBkCamZmZmZnpP83MzMzMzAhAAAAAAAAAEEDNzMzMzMzsv2ZmZmZmZhJAzczMzMzMFEAAAAAAAAAAQJqZmZmZmQlAmpmZmZmZBUCamZmZmZn5PwAAAAAAAOA/MzMzMzMz4z+amZmZmZkBQGZmZmZmZgZAzczMzMzM/D8zMzMzMzPzP83MzMzMzAhAmpmZmZmZCUAAAAAAAAAEQA==\",\"dtype\":\"float64\",\"shape\":[32]}}},\"id\":\"99e74755-717a-4b81-8d2c-59282cc0aa68\",\"type\":\"ColumnDataSource\"},{\"attributes\":{\"base\":60,\"mantissas\":[1,2,5,10,15,20,30],\"max_interval\":1800000.0,\"min_interval\":1000.0,\"num_minor_ticks\":0},\"id\":\"413711f5-e3de-4470-b259-83a1700b8189\",\"type\":\"AdaptiveTicker\"},{\"attributes\":{},\"id\":\"47323b37-111f-4e11-9344-3fc7e6cd750c\",\"type\":\"BasicTickFormatter\"},{\"attributes\":{\"base\":24,\"mantissas\":[1,2,4,6,8,12],\"max_interval\":43200000.0,\"min_interval\":3600000.0,\"num_minor_ticks\":0},\"id\":\"4df4462a-7066-4d96-8359-3929f0b21ae1\",\"type\":\"AdaptiveTicker\"}],\"root_ids\":[\"4474fa67-62d2-4e1d-8b88-5e5aeadb3688\"]},\"title\":\"Bokeh Application\",\"version\":\"0.12.14\"}};\n",
       "  var render_items = [{\"docid\":\"a6a86f23-8e73-440b-a370-a653d1b342c6\",\"elementid\":\"94529e83-d0bd-45ee-9e4d-c81d5f914019\",\"modelid\":\"4474fa67-62d2-4e1d-8b88-5e5aeadb3688\"}];\n",
       "  root.Bokeh.embed.embed_items_notebook(docs_json, render_items);\n",
       "\n",
       "  }\n",
       "  if (root.Bokeh !== undefined) {\n",
       "    embed_document(root);\n",
       "  } else {\n",
       "    var attempts = 0;\n",
       "    var timer = setInterval(function(root) {\n",
       "      if (root.Bokeh !== undefined) {\n",
       "        embed_document(root);\n",
       "        clearInterval(timer);\n",
       "      }\n",
       "      attempts++;\n",
       "      if (attempts > 100) {\n",
       "        console.log(\"Bokeh: ERROR: Unable to run BokehJS code because BokehJS library is missing\")\n",
       "        clearInterval(timer);\n",
       "      }\n",
       "    }, 10, root)\n",
       "  }\n",
       "})(window);"
      ],
      "application/vnd.bokehjs_exec.v0+json": ""
     },
     "metadata": {
      "application/vnd.bokehjs_exec.v0+json": {
       "id": "4474fa67-62d2-4e1d-8b88-5e5aeadb3688"
      }
     },
     "output_type": "display_data"
    }
   ],
   "source": [
    "# GDP plot in Bokeh\n",
    "source = ColumnDataSource({'x': df.index, \n",
    "                           'y': df['Value'], \n",
    "                           'Date': df['strdate']})\n",
    "\n",
    "tooltips = \"\"\"\n",
    "    <div>\n",
    "        <span style=\"font-size: 12px;\">@Date:</span>\n",
    "        <span style=\"font-size: 12px; font-weight: bold;\">@y{1.1}%</span>\n",
    "    </div>\n",
    "\"\"\"\n",
    "\n",
    "# Bar width determined by how many bars\n",
    "width = ((df.index[-1] - df.index[0]).total_seconds() \n",
    "         * 800.0 / len(df.index))\n",
    "\n",
    "# horizontal line at zero\n",
    "zero_line = Span(location=0, dimension='width', \n",
    "                 line_color='gray', line_width=1)\n",
    "\n",
    "p = figure(plot_width=700, plot_height=300, \n",
    "           x_axis_type='datetime', \n",
    "           tools=['pan, wheel_zoom, box_zoom, reset'], \n",
    "           logo=None,\n",
    "           toolbar_location=None,  \n",
    "           y_range=Range1d(-2.6, 6.2))\n",
    "p.vbar('x', width=width, bottom=0, top='y', \n",
    "       source=source, color='Red', alpha=1.0, \n",
    "       level='overlay')\n",
    "p.add_layout(zero_line)\n",
    "p.sizing_mode = 'scale_width'\n",
    "p.xgrid.grid_line_color = None\n",
    "p.outline_line_color = 'white'\n",
    "p.axis.axis_line_color = 'white'\n",
    "p.toolbar.active_drag = None\n",
    "p.add_tools(HoverTool(tooltips=tooltips, show_arrow=False))\n",
    "\n",
    "script, div = components(p)\n",
    "with open('C:/Working/bdecon.github.io/plots/gdp.html', 'w') as text_file:\n",
    "    text_file.write(f'{script} {div}')\n",
    "    \n",
    "show(p)"
   ]
  },
  {
   "cell_type": "markdown",
   "metadata": {},
   "source": [
    "# VIX"
   ]
  },
  {
   "cell_type": "code",
   "execution_count": 99,
   "metadata": {
    "ExecuteTime": {
     "end_time": "2018-03-17T20:06:58.354123Z",
     "start_time": "2018-03-17T20:06:58.338507Z"
    },
    "code_folding": [
     0
    ]
   },
   "outputs": [],
   "source": [
    "df = pd.read_csv('C:/Working/USA/datafiles/safe/vix.csv', \n",
    "                 parse_dates=['date']).set_index('date')['vixclose']"
   ]
  },
  {
   "cell_type": "code",
   "execution_count": 103,
   "metadata": {
    "ExecuteTime": {
     "end_time": "2018-03-17T20:36:26.710216Z",
     "start_time": "2018-03-17T20:36:26.397689Z"
    },
    "code_folding": [
     0
    ],
    "collapsed": true
   },
   "outputs": [
    {
     "data": {
      "text/html": [
       "\n",
       "<div class=\"bk-root\">\n",
       "    <div class=\"bk-plotdiv\" id=\"5a402eb9-1432-4657-8771-f4f8fee1e43c\"></div>\n",
       "</div>"
      ]
     },
     "metadata": {},
     "output_type": "display_data"
    },
    {
     "data": {
      "application/javascript": [
       "(function(root) {\n",
       "  function embed_document(root) {\n",
       "    \n",
       "  var docs_json = {\"9e90ed95-6f73-4203-9206-506e34f33a73\":{\"roots\":{\"references\":[{\"attributes\":{\"months\":[0,2,4,6,8,10]},\"id\":\"85fd01ab-5792-4b17-9b49-9fafd1dc60a8\",\"type\":\"MonthsTicker\"},{\"attributes\":{\"days\":[1,2,3,4,5,6,7,8,9,10,11,12,13,14,15,16,17,18,19,20,21,22,23,24,25,26,27,28,29,30,31]},\"id\":\"f9d6c407-c1ad-44b9-9ce3-c7dabf6c1af3\",\"type\":\"DaysTicker\"},{\"attributes\":{},\"id\":\"e9f777eb-c890-45bd-99d7-ffc280745f63\",\"type\":\"BasicTickFormatter\"},{\"attributes\":{},\"id\":\"f5fc2a9a-23fd-4aef-acb0-56547cfa7b6f\",\"type\":\"WheelZoomTool\"},{\"attributes\":{\"months\":[0,6]},\"id\":\"af9ecff2-84d0-436f-a1a9-5bea3ac47918\",\"type\":\"MonthsTicker\"},{\"attributes\":{\"grid_line_color\":{\"value\":null},\"plot\":{\"id\":\"5d38a37b-6aba-468c-98a0-b9314873611b\",\"subtype\":\"Figure\",\"type\":\"Plot\"},\"ticker\":{\"id\":\"880881eb-c1e2-415a-b3e6-e6ff437bc644\",\"type\":\"DatetimeTicker\"}},\"id\":\"266c5a0c-77f4-44ce-a563-583acf75d2b6\",\"type\":\"Grid\"},{\"attributes\":{},\"id\":\"cbcdb561-c957-49b4-b028-e136591984cc\",\"type\":\"ResetTool\"},{\"attributes\":{\"days\":[1,15]},\"id\":\"6022da40-b16b-4ba0-aa43-dd9e27415205\",\"type\":\"DaysTicker\"},{\"attributes\":{\"num_minor_ticks\":5,\"tickers\":[{\"id\":\"6da2b8f1-b6ae-4ff6-8acd-bedba213021c\",\"type\":\"AdaptiveTicker\"},{\"id\":\"84a9d228-afe6-409a-9c37-3b66aa56f115\",\"type\":\"AdaptiveTicker\"},{\"id\":\"ec06dcee-cb1a-4c5a-8066-a6140852cef7\",\"type\":\"AdaptiveTicker\"},{\"id\":\"f9d6c407-c1ad-44b9-9ce3-c7dabf6c1af3\",\"type\":\"DaysTicker\"},{\"id\":\"6fb51be3-aa2f-44c5-aff0-728d9b71cc9d\",\"type\":\"DaysTicker\"},{\"id\":\"6b1ee5ae-8948-4a54-bdab-bc81ebc6451d\",\"type\":\"DaysTicker\"},{\"id\":\"6022da40-b16b-4ba0-aa43-dd9e27415205\",\"type\":\"DaysTicker\"},{\"id\":\"846ee021-9349-4d4d-ba24-781a1da29b7e\",\"type\":\"MonthsTicker\"},{\"id\":\"85fd01ab-5792-4b17-9b49-9fafd1dc60a8\",\"type\":\"MonthsTicker\"},{\"id\":\"270f19d8-c8ff-4a87-aa8a-f7933fcc8c91\",\"type\":\"MonthsTicker\"},{\"id\":\"af9ecff2-84d0-436f-a1a9-5bea3ac47918\",\"type\":\"MonthsTicker\"},{\"id\":\"a19569f5-2970-4971-a750-ef602da1d61b\",\"type\":\"YearsTicker\"}]},\"id\":\"880881eb-c1e2-415a-b3e6-e6ff437bc644\",\"type\":\"DatetimeTicker\"},{\"attributes\":{},\"id\":\"c060b9d1-f1fc-4b4f-9391-c3d3f91873cf\",\"type\":\"BasicTicker\"},{\"attributes\":{\"days\":[1,8,15,22]},\"id\":\"6b1ee5ae-8948-4a54-bdab-bc81ebc6451d\",\"type\":\"DaysTicker\"},{\"attributes\":{\"base\":24,\"mantissas\":[1,2,4,6,8,12],\"max_interval\":43200000.0,\"min_interval\":3600000.0,\"num_minor_ticks\":0},\"id\":\"ec06dcee-cb1a-4c5a-8066-a6140852cef7\",\"type\":\"AdaptiveTicker\"},{\"attributes\":{},\"id\":\"f39aebd9-deb8-47e4-ae6f-66ece59f9529\",\"type\":\"DatetimeTickFormatter\"},{\"attributes\":{\"line_alpha\":0.1,\"line_color\":\"#1f77b4\",\"line_width\":3,\"x\":{\"field\":\"x\"},\"y\":{\"field\":\"y\"}},\"id\":\"bc45ef3d-5e29-4e93-8182-0ec254bebb5b\",\"type\":\"Line\"},{\"attributes\":{\"bottom_units\":\"screen\",\"fill_alpha\":{\"value\":0.5},\"fill_color\":{\"value\":\"lightgrey\"},\"left_units\":\"screen\",\"level\":\"overlay\",\"line_alpha\":{\"value\":1.0},\"line_color\":{\"value\":\"black\"},\"line_dash\":[4,4],\"line_width\":{\"value\":2},\"plot\":null,\"render_mode\":\"css\",\"right_units\":\"screen\",\"top_units\":\"screen\"},\"id\":\"b1dbc420-1052-4db8-a168-c8283e717d31\",\"type\":\"BoxAnnotation\"},{\"attributes\":{\"overlay\":{\"id\":\"b1dbc420-1052-4db8-a168-c8283e717d31\",\"type\":\"BoxAnnotation\"}},\"id\":\"dbcc163c-b4e6-4755-b4ea-17917f4738c5\",\"type\":\"BoxZoomTool\"},{\"attributes\":{\"line_color\":\"Green\",\"line_width\":3,\"x\":{\"field\":\"x\"},\"y\":{\"field\":\"y\"}},\"id\":\"a2215fa1-3bcc-474e-8c26-dca829589e93\",\"type\":\"Line\"},{\"attributes\":{\"source\":{\"id\":\"f1510d7c-9aaf-4980-8e84-b0c7024ef8f7\",\"type\":\"ColumnDataSource\"}},\"id\":\"457f9cc5-ea6c-47df-86a6-d5bc0b2582da\",\"type\":\"CDSView\"},{\"attributes\":{\"months\":[0,1,2,3,4,5,6,7,8,9,10,11]},\"id\":\"846ee021-9349-4d4d-ba24-781a1da29b7e\",\"type\":\"MonthsTicker\"},{\"attributes\":{\"callback\":null,\"show_arrow\":false,\"tooltips\":\"\\n            <div>\\n                <span style=\\\"font-size: 12px;\\\">@Date:</span>\\n                <span style=\\\"font-size: 12px; font-weight: bold;\\\">@y{1.1}</span>\\n            </div>\\n\"},\"id\":\"a8a2f573-6683-4a15-8608-dcfd103b99ce\",\"type\":\"HoverTool\"},{\"attributes\":{\"mantissas\":[1,2,5],\"max_interval\":500.0,\"num_minor_ticks\":0},\"id\":\"6da2b8f1-b6ae-4ff6-8acd-bedba213021c\",\"type\":\"AdaptiveTicker\"},{\"attributes\":{\"dimension\":1,\"plot\":{\"id\":\"5d38a37b-6aba-468c-98a0-b9314873611b\",\"subtype\":\"Figure\",\"type\":\"Plot\"},\"ticker\":{\"id\":\"c060b9d1-f1fc-4b4f-9391-c3d3f91873cf\",\"type\":\"BasicTicker\"}},\"id\":\"56544398-c585-4675-8a9f-9973cb4c2587\",\"type\":\"Grid\"},{\"attributes\":{\"callback\":null,\"column_names\":[\"x\",\"y\",\"Date\"],\"data\":{\"Date\":[\"Nov 30, 2015\",\"Dec 01, 2015\",\"Dec 02, 2015\",\"Dec 03, 2015\",\"Dec 04, 2015\",\"Dec 07, 2015\",\"Dec 08, 2015\",\"Dec 09, 2015\",\"Dec 10, 2015\",\"Dec 11, 2015\",\"Dec 14, 2015\",\"Dec 15, 2015\",\"Dec 16, 2015\",\"Dec 17, 2015\",\"Dec 18, 2015\",\"Dec 21, 2015\",\"Dec 22, 2015\",\"Dec 23, 2015\",\"Dec 24, 2015\",\"Dec 28, 2015\",\"Dec 29, 2015\",\"Dec 30, 2015\",\"Dec 31, 2015\",\"Jan 04, 2016\",\"Jan 05, 2016\",\"Jan 06, 2016\",\"Jan 07, 2016\",\"Jan 08, 2016\",\"Jan 11, 2016\",\"Jan 12, 2016\",\"Jan 13, 2016\",\"Jan 14, 2016\",\"Jan 15, 2016\",\"Jan 19, 2016\",\"Jan 20, 2016\",\"Jan 21, 2016\",\"Jan 22, 2016\",\"Jan 25, 2016\",\"Jan 26, 2016\",\"Jan 27, 2016\",\"Jan 28, 2016\",\"Jan 29, 2016\",\"Feb 01, 2016\",\"Feb 02, 2016\",\"Feb 03, 2016\",\"Feb 04, 2016\",\"Feb 05, 2016\",\"Feb 08, 2016\",\"Feb 09, 2016\",\"Feb 10, 2016\",\"Feb 11, 2016\",\"Feb 12, 2016\",\"Feb 16, 2016\",\"Feb 17, 2016\",\"Feb 18, 2016\",\"Feb 19, 2016\",\"Feb 22, 2016\",\"Feb 23, 2016\",\"Feb 24, 2016\",\"Feb 25, 2016\",\"Feb 26, 2016\",\"Feb 29, 2016\",\"Mar 01, 2016\",\"Mar 02, 2016\",\"Mar 03, 2016\",\"Mar 04, 2016\",\"Mar 07, 2016\",\"Mar 08, 2016\",\"Mar 09, 2016\",\"Mar 10, 2016\",\"Mar 11, 2016\",\"Mar 14, 2016\",\"Mar 15, 2016\",\"Mar 16, 2016\",\"Mar 17, 2016\",\"Mar 18, 2016\",\"Mar 21, 2016\",\"Mar 22, 2016\",\"Mar 23, 2016\",\"Mar 24, 2016\",\"Mar 28, 2016\",\"Mar 29, 2016\",\"Mar 30, 2016\",\"Mar 31, 2016\",\"Apr 01, 2016\",\"Apr 04, 2016\",\"Apr 05, 2016\",\"Apr 06, 2016\",\"Apr 07, 2016\",\"Apr 08, 2016\",\"Apr 11, 2016\",\"Apr 12, 2016\",\"Apr 13, 2016\",\"Apr 14, 2016\",\"Apr 15, 2016\",\"Apr 18, 2016\",\"Apr 19, 2016\",\"Apr 20, 2016\",\"Apr 21, 2016\",\"Apr 22, 2016\",\"Apr 25, 2016\",\"Apr 26, 2016\",\"Apr 27, 2016\",\"Apr 28, 2016\",\"Apr 29, 2016\",\"May 02, 2016\",\"May 03, 2016\",\"May 04, 2016\",\"May 05, 2016\",\"May 06, 2016\",\"May 09, 2016\",\"May 10, 2016\",\"May 11, 2016\",\"May 12, 2016\",\"May 13, 2016\",\"May 16, 2016\",\"May 17, 2016\",\"May 18, 2016\",\"May 19, 2016\",\"May 20, 2016\",\"May 23, 2016\",\"May 24, 2016\",\"May 25, 2016\",\"May 26, 2016\",\"May 27, 2016\",\"May 31, 2016\",\"Jun 01, 2016\",\"Jun 02, 2016\",\"Jun 03, 2016\",\"Jun 06, 2016\",\"Jun 07, 2016\",\"Jun 08, 2016\",\"Jun 09, 2016\",\"Jun 10, 2016\",\"Jun 13, 2016\",\"Jun 14, 2016\",\"Jun 15, 2016\",\"Jun 16, 2016\",\"Jun 17, 2016\",\"Jun 20, 2016\",\"Jun 21, 2016\",\"Jun 22, 2016\",\"Jun 23, 2016\",\"Jun 24, 2016\",\"Jun 27, 2016\",\"Jun 28, 2016\",\"Jun 29, 2016\",\"Jun 30, 2016\",\"Jul 01, 2016\",\"Jul 05, 2016\",\"Jul 06, 2016\",\"Jul 07, 2016\",\"Jul 08, 2016\",\"Jul 11, 2016\",\"Jul 12, 2016\",\"Jul 13, 2016\",\"Jul 14, 2016\",\"Jul 15, 2016\",\"Jul 18, 2016\",\"Jul 19, 2016\",\"Jul 20, 2016\",\"Jul 21, 2016\",\"Jul 22, 2016\",\"Jul 25, 2016\",\"Jul 26, 2016\",\"Jul 27, 2016\",\"Jul 28, 2016\",\"Jul 29, 2016\",\"Aug 01, 2016\",\"Aug 02, 2016\",\"Aug 03, 2016\",\"Aug 04, 2016\",\"Aug 05, 2016\",\"Aug 08, 2016\",\"Aug 09, 2016\",\"Aug 10, 2016\",\"Aug 11, 2016\",\"Aug 12, 2016\",\"Aug 15, 2016\",\"Aug 16, 2016\",\"Aug 17, 2016\",\"Aug 18, 2016\",\"Aug 19, 2016\",\"Aug 22, 2016\",\"Aug 23, 2016\",\"Aug 24, 2016\",\"Aug 25, 2016\",\"Aug 26, 2016\",\"Aug 29, 2016\",\"Aug 30, 2016\",\"Aug 31, 2016\",\"Sep 01, 2016\",\"Sep 02, 2016\",\"Sep 06, 2016\",\"Sep 07, 2016\",\"Sep 08, 2016\",\"Sep 09, 2016\",\"Sep 12, 2016\",\"Sep 13, 2016\",\"Sep 14, 2016\",\"Sep 15, 2016\",\"Sep 16, 2016\",\"Sep 19, 2016\",\"Sep 20, 2016\",\"Sep 21, 2016\",\"Sep 22, 2016\",\"Sep 23, 2016\",\"Sep 26, 2016\",\"Sep 27, 2016\",\"Sep 28, 2016\",\"Sep 29, 2016\",\"Sep 30, 2016\",\"Oct 03, 2016\",\"Oct 04, 2016\",\"Oct 05, 2016\",\"Oct 06, 2016\",\"Oct 07, 2016\",\"Oct 10, 2016\",\"Oct 11, 2016\",\"Oct 12, 2016\",\"Oct 13, 2016\",\"Oct 14, 2016\",\"Oct 17, 2016\",\"Oct 18, 2016\",\"Oct 19, 2016\",\"Oct 20, 2016\",\"Oct 21, 2016\",\"Oct 24, 2016\",\"Oct 25, 2016\",\"Oct 26, 2016\",\"Oct 27, 2016\",\"Oct 28, 2016\",\"Oct 31, 2016\",\"Nov 01, 2016\",\"Nov 02, 2016\",\"Nov 03, 2016\",\"Nov 04, 2016\",\"Nov 07, 2016\",\"Nov 08, 2016\",\"Nov 09, 2016\",\"Nov 10, 2016\",\"Nov 11, 2016\",\"Nov 14, 2016\",\"Nov 15, 2016\",\"Nov 16, 2016\",\"Nov 17, 2016\",\"Nov 18, 2016\",\"Nov 21, 2016\",\"Nov 22, 2016\",\"Nov 23, 2016\",\"Nov 25, 2016\",\"Nov 28, 2016\",\"Nov 29, 2016\",\"Nov 30, 2016\",\"Dec 01, 2016\",\"Dec 02, 2016\",\"Dec 05, 2016\",\"Dec 06, 2016\",\"Dec 07, 2016\",\"Dec 08, 2016\",\"Dec 09, 2016\",\"Dec 12, 2016\",\"Dec 13, 2016\",\"Dec 14, 2016\",\"Dec 15, 2016\",\"Dec 16, 2016\",\"Dec 19, 2016\",\"Dec 20, 2016\",\"Dec 21, 2016\",\"Dec 22, 2016\",\"Dec 23, 2016\",\"Dec 27, 2016\",\"Dec 28, 2016\",\"Dec 29, 2016\",\"Dec 30, 2016\",\"Jan 03, 2017\",\"Jan 04, 2017\",\"Jan 05, 2017\",\"Jan 06, 2017\",\"Jan 09, 2017\",\"Jan 10, 2017\",\"Jan 11, 2017\",\"Jan 12, 2017\",\"Jan 13, 2017\",\"Jan 17, 2017\",\"Jan 18, 2017\",\"Jan 19, 2017\",\"Jan 20, 2017\",\"Jan 23, 2017\",\"Jan 24, 2017\",\"Jan 25, 2017\",\"Jan 26, 2017\",\"Jan 27, 2017\",\"Jan 30, 2017\",\"Jan 31, 2017\",\"Feb 01, 2017\",\"Feb 02, 2017\",\"Feb 03, 2017\",\"Feb 06, 2017\",\"Feb 07, 2017\",\"Feb 08, 2017\",\"Feb 09, 2017\",\"Feb 10, 2017\",\"Feb 13, 2017\",\"Feb 14, 2017\",\"Feb 15, 2017\",\"Feb 16, 2017\",\"Feb 17, 2017\",\"Feb 21, 2017\",\"Feb 22, 2017\",\"Feb 23, 2017\",\"Feb 24, 2017\",\"Feb 27, 2017\",\"Feb 28, 2017\",\"Mar 01, 2017\",\"Mar 02, 2017\",\"Mar 03, 2017\",\"Mar 06, 2017\",\"Mar 07, 2017\",\"Mar 08, 2017\",\"Mar 09, 2017\",\"Mar 10, 2017\",\"Mar 13, 2017\",\"Mar 14, 2017\",\"Mar 15, 2017\",\"Mar 16, 2017\",\"Mar 17, 2017\",\"Mar 20, 2017\",\"Mar 21, 2017\",\"Mar 22, 2017\",\"Mar 23, 2017\",\"Mar 24, 2017\",\"Mar 27, 2017\",\"Mar 28, 2017\",\"Mar 29, 2017\",\"Mar 30, 2017\",\"Mar 31, 2017\",\"Apr 03, 2017\",\"Apr 04, 2017\",\"Apr 05, 2017\",\"Apr 06, 2017\",\"Apr 07, 2017\",\"Apr 10, 2017\",\"Apr 11, 2017\",\"Apr 12, 2017\",\"Apr 13, 2017\",\"Apr 17, 2017\",\"Apr 18, 2017\",\"Apr 19, 2017\",\"Apr 20, 2017\",\"Apr 21, 2017\",\"Apr 24, 2017\",\"Apr 25, 2017\",\"Apr 26, 2017\",\"Apr 27, 2017\",\"Apr 28, 2017\",\"May 01, 2017\",\"May 02, 2017\",\"May 03, 2017\",\"May 04, 2017\",\"May 05, 2017\",\"May 08, 2017\",\"May 09, 2017\",\"May 10, 2017\",\"May 11, 2017\",\"May 12, 2017\",\"May 15, 2017\",\"May 16, 2017\",\"May 17, 2017\",\"May 18, 2017\",\"May 19, 2017\",\"May 22, 2017\",\"May 23, 2017\",\"May 24, 2017\",\"May 25, 2017\",\"May 26, 2017\",\"May 30, 2017\",\"May 31, 2017\",\"Jun 01, 2017\",\"Jun 02, 2017\",\"Jun 05, 2017\",\"Jun 06, 2017\",\"Jun 07, 2017\",\"Jun 08, 2017\",\"Jun 09, 2017\",\"Jun 12, 2017\",\"Jun 13, 2017\",\"Jun 14, 2017\",\"Jun 15, 2017\",\"Jun 16, 2017\",\"Jun 19, 2017\",\"Jun 20, 2017\",\"Jun 21, 2017\",\"Jun 22, 2017\",\"Jun 23, 2017\",\"Jun 26, 2017\",\"Jun 27, 2017\",\"Jun 28, 2017\",\"Jun 29, 2017\",\"Jun 30, 2017\",\"Jul 03, 2017\",\"Jul 05, 2017\",\"Jul 06, 2017\",\"Jul 07, 2017\",\"Jul 10, 2017\",\"Jul 11, 2017\",\"Jul 12, 2017\",\"Jul 13, 2017\",\"Jul 14, 2017\",\"Jul 17, 2017\",\"Jul 18, 2017\",\"Jul 19, 2017\",\"Jul 20, 2017\",\"Jul 21, 2017\",\"Jul 24, 2017\",\"Jul 25, 2017\",\"Jul 26, 2017\",\"Jul 27, 2017\",\"Jul 28, 2017\",\"Jul 31, 2017\",\"Aug 01, 2017\",\"Aug 02, 2017\",\"Aug 03, 2017\",\"Aug 04, 2017\",\"Aug 07, 2017\",\"Aug 08, 2017\",\"Aug 09, 2017\",\"Aug 10, 2017\",\"Aug 11, 2017\",\"Aug 14, 2017\",\"Aug 15, 2017\",\"Aug 16, 2017\",\"Aug 17, 2017\",\"Aug 18, 2017\",\"Aug 21, 2017\",\"Aug 22, 2017\",\"Aug 23, 2017\",\"Aug 24, 2017\",\"Aug 25, 2017\",\"Aug 28, 2017\",\"Aug 29, 2017\",\"Aug 30, 2017\",\"Aug 31, 2017\",\"Sep 01, 2017\",\"Sep 05, 2017\",\"Sep 06, 2017\",\"Sep 07, 2017\",\"Sep 08, 2017\",\"Sep 11, 2017\",\"Sep 12, 2017\",\"Sep 13, 2017\",\"Sep 14, 2017\",\"Sep 15, 2017\",\"Sep 18, 2017\",\"Sep 19, 2017\",\"Sep 20, 2017\",\"Sep 21, 2017\",\"Sep 22, 2017\",\"Sep 25, 2017\",\"Sep 26, 2017\",\"Sep 27, 2017\",\"Sep 28, 2017\",\"Sep 29, 2017\",\"Oct 02, 2017\",\"Oct 03, 2017\",\"Oct 04, 2017\",\"Oct 05, 2017\",\"Oct 06, 2017\",\"Oct 09, 2017\",\"Oct 10, 2017\",\"Oct 11, 2017\",\"Oct 12, 2017\",\"Oct 13, 2017\",\"Oct 16, 2017\",\"Oct 17, 2017\",\"Oct 18, 2017\",\"Oct 19, 2017\",\"Oct 20, 2017\",\"Oct 23, 2017\",\"Oct 24, 2017\",\"Oct 25, 2017\",\"Oct 26, 2017\",\"Oct 27, 2017\",\"Oct 30, 2017\",\"Oct 31, 2017\",\"Nov 01, 2017\",\"Nov 02, 2017\",\"Nov 03, 2017\",\"Nov 06, 2017\",\"Nov 07, 2017\",\"Nov 08, 2017\",\"Nov 09, 2017\",\"Nov 10, 2017\",\"Nov 13, 2017\",\"Nov 14, 2017\",\"Nov 15, 2017\",\"Nov 16, 2017\",\"Nov 17, 2017\",\"Nov 20, 2017\",\"Nov 21, 2017\",\"Nov 22, 2017\",\"Nov 24, 2017\",\"Nov 27, 2017\",\"Nov 28, 2017\",\"Nov 29, 2017\",\"Nov 30, 2017\",\"Dec 01, 2017\",\"Dec 04, 2017\",\"Dec 05, 2017\",\"Dec 06, 2017\",\"Dec 07, 2017\",\"Dec 08, 2017\",\"Dec 11, 2017\",\"Dec 12, 2017\",\"Dec 13, 2017\",\"Dec 14, 2017\",\"Dec 15, 2017\",\"Dec 18, 2017\",\"Dec 19, 2017\",\"Dec 20, 2017\",\"Dec 21, 2017\",\"Dec 22, 2017\",\"Dec 26, 2017\",\"Dec 27, 2017\",\"Dec 28, 2017\",\"Dec 29, 2017\",\"Jan 02, 2018\",\"Jan 03, 2018\",\"Jan 04, 2018\",\"Jan 05, 2018\",\"Jan 08, 2018\",\"Jan 09, 2018\",\"Jan 10, 2018\",\"Jan 11, 2018\",\"Jan 12, 2018\",\"Jan 16, 2018\",\"Jan 17, 2018\",\"Jan 18, 2018\",\"Jan 19, 2018\",\"Jan 22, 2018\",\"Jan 23, 2018\",\"Jan 24, 2018\",\"Jan 25, 2018\",\"Jan 26, 2018\",\"Jan 29, 2018\",\"Jan 30, 2018\",\"Jan 31, 2018\",\"Feb 01, 2018\",\"Feb 02, 2018\",\"Feb 05, 2018\",\"Feb 06, 2018\",\"Feb 07, 2018\",\"Feb 08, 2018\",\"Feb 09, 2018\",\"Feb 12, 2018\",\"Feb 13, 2018\",\"Feb 14, 2018\",\"Feb 15, 2018\",\"Feb 16, 2018\",\"Feb 20, 2018\",\"Feb 21, 2018\",\"Feb 22, 2018\",\"Feb 23, 2018\",\"Feb 26, 2018\",\"Feb 27, 2018\",\"Feb 28, 2018\",\"Mar 01, 2018\",\"Mar 02, 2018\",\"Mar 05, 2018\",\"Mar 06, 2018\",\"Mar 07, 2018\",\"Mar 08, 2018\",\"Mar 09, 2018\",\"Mar 12, 2018\",\"Mar 13, 2018\",\"Mar 14, 2018\",\"Mar 15, 2018\",\"Mar 16, 2018\"],\"x\":{\"__ndarray__\":\"AADABVsVdUIAAIBrrRV1QgAAQNH/FXVCAAAAN1IWdUIAAMCcpBZ1QgAAAM6bF3VCAADAM+4XdUIAAICZQBh1QgAAQP+SGHVCAAAAZeUYdUIAAECW3Bl1QgAAAPwuGnVCAADAYYEadUIAAIDH0xp1QgAAQC0mG3VCAACAXh0cdUIAAEDEbxx1QgAAACrCHHVCAADAjxQddUIAAMAmXh51QgAAgIywHnVCAABA8gIfdUIAAABYVR91QgAAAO+eIHVCAADAVPEgdUIAAIC6QyF1QgAAQCCWIXVCAAAAhughdUIAAEC33yJ1QgAAAB0yI3VCAADAgoQjdUIAAIDo1iN1QgAAQE4pJHVCAABA5XIldUIAAABLxSV1QgAAwLAXJnVCAACAFmomdUIAAMBHYSd1QgAAgK2zJ3VCAABAEwYodUIAAAB5WCh1QgAAwN6qKHVCAAAAEKIpdUIAAMB19Cl1QgAAgNtGKnVCAABAQZkqdUIAAACn6yp1QgAAQNjiK3VCAAAAPjUsdUIAAMCjhyx1QgAAgAnaLHVCAABAbywtdUIAAEAGdi51QgAAAGzILnVCAADA0RovdUIAAIA3bS91QgAAwGhkMHVCAACAzrYwdUIAAEA0CTF1QgAAAJpbMXVCAADA/60xdUIAAAAxpTJ1QgAAwJb3MnVCAACA/EkzdUIAAEBinDN1QgAAAMjuM3VCAABA+eU0dUIAAABfODV1QgAAwMSKNXVCAACAKt01dUIAAECQLzZ1QgAAgMEmN3VCAABAJ3k3dUIAAACNyzd1QgAAwPIdOHVCAACAWHA4dUIAAMCJZzl1QgAAgO+5OXVCAABAVQw6dUIAAAC7Xjp1QgAAAFKoO3VCAADAt/o7dUIAAIAdTTx1QgAAQIOfPHVCAAAA6fE8dUIAAEAa6T11QgAAAIA7PnVCAADA5Y0+dUIAAIBL4D51QgAAQLEyP3VCAACA4ilAdUIAAEBIfEB1QgAAAK7OQHVCAADAEyFBdUIAAIB5c0F1QgAAwKpqQnVCAACAEL1CdUIAAEB2D0N1QgAAANxhQ3VCAADAQbRDdUIAAABzq0R1QgAAwNj9RHVCAACAPlBFdUIAAECkokV1QgAAAAr1RXVCAABAO+xGdUIAAAChPkd1QgAAwAaRR3VCAACAbONHdUIAAEDSNUh1QgAAgAMtSXVCAABAaX9JdUIAAADP0Ul1QgAAwDQkSnVCAACAmnZKdUIAAMDLbUt1QgAAgDHAS3VCAABAlxJMdUIAAAD9ZEx1QgAAwGK3THVCAAAAlK5NdUIAAMD5AE51QgAAgF9TTnVCAABAxaVOdUIAAAAr+E51QgAAAMJBUHVCAADAJ5RQdUIAAICN5lB1QgAAQPM4UXVCAACAJDBSdUIAAECKglJ1QgAAAPDUUnVCAADAVSdTdUIAAIC7eVN1QgAAwOxwVHVCAACAUsNUdUIAAEC4FVV1QgAAAB5oVXVCAADAg7pVdUIAAAC1sVZ1QgAAwBoEV3VCAACAgFZXdUIAAEDmqFd1QgAAAEz7V3VCAABAffJYdUIAAADjRFl1QgAAwEiXWXVCAACArulZdUIAAEAUPFp1QgAAQKuFW3VCAAAAEdhbdUIAAMB2Klx1QgAAgNx8XHVCAADADXRddUIAAIBzxl11QgAAQNkYXnVCAAAAP2tedUIAAMCkvV51QgAAANa0X3VCAADAOwdgdUIAAIChWWB1QgAAQAesYHVCAAAAbf5gdUIAAECe9WF1QgAAAARIYnVCAADAaZpidUIAAIDP7GJ1QgAAQDU/Y3VCAACAZjZkdUIAAEDMiGR1QgAAADLbZHVCAADAly1ldUIAAID9f2V1QgAAwC53ZnVCAACAlMlmdUIAAED6G2d1QgAAAGBuZ3VCAADAxcBndUIAAAD3t2h1QgAAwFwKaXVCAACAwlxpdUIAAEAor2l1QgAAAI4BanVCAABAv/hqdUIAAAAlS2t1QgAAwIqda3VCAACA8O9rdUIAAEBWQmx1QgAAgIc5bXVCAABA7YttdUIAAABT3m11QgAAwLgwbnVCAACAHoNudUIAAIC1zG91QgAAQBsfcHVCAAAAgXFwdUIAAMDmw3B1QgAAABi7cXVCAADAfQ1ydUIAAIDjX3J1QgAAQEmycnVCAAAArwRzdUIAAEDg+3N1QgAAAEZOdHVCAADAq6B0dUIAAIAR83R1QgAAQHdFdXVCAACAqDx2dUIAAEAOj3Z1QgAAAHThdnVCAADA2TN3dUIAAIA/hnd1QgAAwHB9eHVCAACA1s94dUIAAEA8Inl1QgAAAKJ0eXVCAADAB8d5dUIAAAA5vnp1QgAAwJ4Qe3VCAACABGN7dUIAAEBqtXt1QgAAANAHfHVCAABAAf98dUIAAABnUX11QgAAwMyjfXVCAACAMvZ9dUIAAECYSH51QgAAgMk/f3VCAABAL5J/dUIAAACV5H91QgAAwPo2gHVCAACAYImAdUIAAMCRgIF1QgAAgPfSgXVCAABAXSWCdUIAAADDd4J1QgAAwCjKgnVCAAAAWsGDdUIAAMC/E4R1QgAAgCVmhHVCAABAi7iEdUIAAADxCoV1QgAAQCIChnVCAAAAiFSGdUIAAMDtpoZ1QgAAgFP5hnVCAABAuUuHdUIAAIDqQoh1QgAAQFCViHVCAAAAtueIdUIAAICBjIl1QgAAwLKDinVCAACAGNaKdUIAAEB+KIt1QgAAAOR6i3VCAADASc2LdUIAAAB7xIx1QgAAwOAWjXVCAACARmmNdUIAAECsu411QgAAABIOjnVCAABAQwWPdUIAAACpV491QgAAwA6qj3VCAACAdPyPdUIAAEDaTpB1QgAAgAtGkXVCAABAcZiRdUIAAADX6pF1QgAAwDw9knVCAACAoo+SdUIAAIA52ZN1QgAAQJ8rlHVCAAAABX6UdUIAAMBq0JR1QgAAwAEalnVCAACAZ2yWdUIAAEDNvpZ1QgAAADMRl3VCAABAZAiYdUIAAADKWph1QgAAwC+tmHVCAACAlf+YdUIAAED7UZl1QgAAQJKbmnVCAAAA+O2adUIAAMBdQJt1QgAAgMOSm3VCAADA9ImcdUIAAIBa3Jx1QgAAQMAunXVCAAAAJoGddUIAAMCL0511QgAAAL3KnnVCAADAIh2fdUIAAICIb591QgAAQO7Bn3VCAAAAVBSgdUIAAECFC6F1QgAAAOtdoXVCAADAULChdUIAAIC2AqJ1QgAAQBxVonVCAACATUyjdUIAAECznqN1QgAAABnxo3VCAADAfkOkdUIAAIDklaR1QgAAgHvfpXVCAABA4TGmdUIAAABHhKZ1QgAAwKzWpnVCAAAA3s2ndUIAAMBDIKh1QgAAgKlyqHVCAABAD8WodUIAAAB1F6l1QgAAQKYOqnVCAAAADGGqdUIAAMBxs6p1QgAAgNcFq3VCAABAPVirdUIAAIBuT6x1QgAAQNShrHVCAAAAOvSsdUIAAMCfRq11QgAAgAWZrXVCAADANpCudUIAAICc4q51QgAAQAI1r3VCAAAAaIevdUIAAMDN2a91QgAAAP/QsHVCAADAZCOxdUIAAIDKdbF1QgAAQDDIsXVCAAAAlhqydUIAAEDHEbN1QgAAAC1ks3VCAADAkrazdUIAAID4CLR1QgAAQF5btHVCAACAj1K1dUIAAED1pLV1QgAAAFv3tXVCAADAwEm2dUIAAMBXk7d1QgAAgL3lt3VCAABAIzi4dUIAAACJirh1QgAAwO7cuHVCAAAAINS5dUIAAMCFJrp1QgAAgOt4unVCAABAUcu6dUIAAAC3Hbt1QgAAQOgUvHVCAAAATme8dUIAAMCzubx1QgAAgBkMvXVCAABAf169dUIAAICwVb51QgAAQBaovnVCAAAAfPq+dUIAAMDhTL91QgAAgEefv3VCAADAeJbAdUIAAIDe6MB1QgAAQEQ7wXVCAAAAqo3BdUIAAMAP4MF1QgAAAEHXwnVCAADApinDdUIAAIAMfMN1QgAAQHLOw3VCAAAA2CDEdUIAAABvasV1QgAAwNS8xXVCAACAOg/GdUIAAECgYcZ1QgAAgNFYx3VCAABAN6vHdUIAAACd/cd1QgAAwAJQyHVCAACAaKLIdUIAAMCZmcl1QgAAgP/ryXVCAABAZT7KdUIAAADLkMp1QgAAwDDjynVCAAAAYtrLdUIAAMDHLMx1QgAAgC1/zHVCAABAk9HMdUIAAAD5I811QgAAQCobznVCAAAAkG3OdUIAAMD1v851QgAAgFsSz3VCAABAwWTPdUIAAIDyW9B1QgAAAL4A0XVCAADAI1PRdUIAAICJpdF1QgAAwLqc0nVCAACAIO/SdUIAAECGQdN1QgAAAOyT03VCAADAUebTdUIAAACD3dR1QgAAwOgv1XVCAACAToLVdUIAAEC01NV1QgAAABon1nVCAABASx7XdUIAAACxcNd1QgAAwBbD13VCAACAfBXYdUIAAEDiZ9h1QgAAgBNf2XVCAABAebHZdUIAAADfA9p1QgAAwERW2nVCAACAqqjadUIAAMDbn9t1QgAAgEHy23VCAABAp0TcdUIAAAANl9x1QgAAwHLp3HVCAAAApODddUIAAMAJM951QgAAgG+F3nVCAABA1dfedUIAAAA7Kt91QgAAQGwh4HVCAAAA0nPgdUIAAMA3xuB1QgAAgJ0Y4XVCAABAA2vhdUIAAIA0YuJ1QgAAQJq04nVCAAAAAAfjdUIAAMBlWeN1QgAAgMur43VCAACAYvXkdUIAAEDIR+V1QgAAAC6a5XVCAADAk+zldUIAAADF4+Z1QgAAwCo253VCAACAkIjndUIAAED22ud1QgAAAFwt6HVCAABAjSTpdUIAAADzdul1QgAAwFjJ6XVCAACAvhvqdUIAAEAkbup1QgAAgFVl63VCAABAu7frdUIAAAAhCux1QgAAwIZc7HVCAACA7K7sdUIAAMAdpu11QgAAgIP47XVCAABA6UrudUIAAABPne51QgAAwLTv7nVCAAAA5ubvdUIAAMBLOfB1QgAAgLGL8HVCAABAF97wdUIAAAB9MPF1QgAAQK4n8nVCAAAAFHrydUIAAMB5zPJ1QgAAgN8e83VCAABARXHzdUIAAIB2aPR1QgAAQNy69HVCAAAAQg31dUIAAMCnX/V1QgAAgA2y9XVCAADAPqn2dUIAAICk+/Z1QgAAQApO93VCAAAAcKD3dUIAAMDV8vd1QgAAAAfq+HVCAADAbDz5dUIAAIDSjvl1QgAAQDjh+XVCAAAAnjP6dUIAAEDPKvt1QgAAADV9+3VCAADAms/7dUIAAIAAIvx1QgAAQGZ0/HVCAACAl2v9dUIAAED9vf11QgAAAGMQ/nVCAACALrX+dUIAAMBfrP91QgAAgMX+/3VCAABAK1EAdkIAAACRowB2QgAAwPb1AHZCAAAAKO0BdkIAAMCNPwJ2QgAAgPORAnZCAABAWeQCdkIAAAC/NgN2QgAAQPAtBHZCAAAAVoAEdkIAAMC70gR2QgAAgCElBXZCAABAh3cFdkIAAIC4bgZ2QgAAQB7BBnZCAAAAhBMHdkIAAMDpZQd2QgAAgE+4B3ZCAACA5gEJdkIAAEBMVAl2QgAAALKmCXZCAADAF/kJdkIAAMCuQgt2QgAAgBSVC3ZCAABAeucLdkIAAADgOQx2QgAAQBExDXZCAAAAd4MNdkIAAMDc1Q12QgAAgEIoDnZCAABAqHoOdkIAAEA/xA92QgAAAKUWEHZCAADACmkQdkIAAIBwuxB2QgAAwKGyEXZCAACABwUSdkIAAEBtVxJ2QgAAANOpEnZCAADAOPwSdkIAAABq8xN2QgAAwM9FFHZCAACANZgUdkIAAECb6hR2QgAAAAE9FXZCAABAMjQWdkIAAACYhhZ2QgAAwP3YFnZCAACAYysXdkIAAEDJfRd2QgAAgPp0GHZCAABAYMcYdkIAAADGGRl2QgAAwCtsGXZCAACAkb4ZdkIAAIAoCBt2QgAAQI5aG3ZCAAAA9KwbdkIAAMBZ/xt2QgAAAIv2HHZCAADA8EgddkIAAIBWmx12QgAAQLztHXZCAAAAIkAedkIAAEBTNx92QgAAALmJH3ZCAADAHtwfdkIAAICELiB2QgAAQOqAIHZCAACAG3ghdkIAAECByiF2QgAAAOccInZCAADATG8idkIAAICywSJ2Qg==\",\"dtype\":\"float64\",\"shape\":[578]},\"y\":{\"__ndarray__\":\"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\",\"dtype\":\"float64\",\"shape\":[578]}}},\"id\":\"f1510d7c-9aaf-4980-8e84-b0c7024ef8f7\",\"type\":\"ColumnDataSource\"},{\"attributes\":{},\"id\":\"1f6e18f9-ccba-4f1b-a3dd-5ad6f5294299\",\"type\":\"PanTool\"},{\"attributes\":{\"plot\":null,\"text\":\"\"},\"id\":\"ea027d2d-a550-47ba-96a9-91cfe89f64ec\",\"type\":\"Title\"},{\"attributes\":{\"line_color\":{\"value\":\"gray\"},\"location\":0,\"plot\":{\"id\":\"5d38a37b-6aba-468c-98a0-b9314873611b\",\"subtype\":\"Figure\",\"type\":\"Plot\"}},\"id\":\"7641385f-4ef5-45be-9882-6dead5046cbc\",\"type\":\"Span\"},{\"attributes\":{\"days\":[1,4,7,10,13,16,19,22,25,28]},\"id\":\"6fb51be3-aa2f-44c5-aff0-728d9b71cc9d\",\"type\":\"DaysTicker\"},{\"attributes\":{\"callback\":null},\"id\":\"14ca51c5-0d98-4a87-bd34-d62757dac5a9\",\"type\":\"DataRange1d\"},{\"attributes\":{\"data_source\":{\"id\":\"f1510d7c-9aaf-4980-8e84-b0c7024ef8f7\",\"type\":\"ColumnDataSource\"},\"glyph\":{\"id\":\"a2215fa1-3bcc-474e-8c26-dca829589e93\",\"type\":\"Line\"},\"hover_glyph\":null,\"level\":\"overlay\",\"muted_glyph\":null,\"nonselection_glyph\":{\"id\":\"bc45ef3d-5e29-4e93-8182-0ec254bebb5b\",\"type\":\"Line\"},\"selection_glyph\":null,\"view\":{\"id\":\"457f9cc5-ea6c-47df-86a6-d5bc0b2582da\",\"type\":\"CDSView\"}},\"id\":\"71b14354-7885-400c-b768-46f1d876058f\",\"type\":\"GlyphRenderer\"},{\"attributes\":{\"active_drag\":null,\"active_inspect\":\"auto\",\"active_scroll\":\"auto\",\"active_tap\":\"auto\",\"logo\":null,\"tools\":[{\"id\":\"1f6e18f9-ccba-4f1b-a3dd-5ad6f5294299\",\"type\":\"PanTool\"},{\"id\":\"f5fc2a9a-23fd-4aef-acb0-56547cfa7b6f\",\"type\":\"WheelZoomTool\"},{\"id\":\"dbcc163c-b4e6-4755-b4ea-17917f4738c5\",\"type\":\"BoxZoomTool\"},{\"id\":\"cbcdb561-c957-49b4-b028-e136591984cc\",\"type\":\"ResetTool\"},{\"id\":\"a8a2f573-6683-4a15-8608-dcfd103b99ce\",\"type\":\"HoverTool\"}]},\"id\":\"6e631758-defc-42f2-9194-2141bde0413f\",\"type\":\"Toolbar\"},{\"attributes\":{},\"id\":\"a19569f5-2970-4971-a750-ef602da1d61b\",\"type\":\"YearsTicker\"},{\"attributes\":{\"below\":[{\"id\":\"9040aead-361e-48dd-9981-de00845b33d8\",\"type\":\"DatetimeAxis\"}],\"left\":[{\"id\":\"de0b12f2-fd93-47d4-bb4f-9c6a75414767\",\"type\":\"LinearAxis\"}],\"outline_line_color\":{\"value\":\"white\"},\"plot_height\":300,\"plot_width\":700,\"renderers\":[{\"id\":\"9040aead-361e-48dd-9981-de00845b33d8\",\"type\":\"DatetimeAxis\"},{\"id\":\"266c5a0c-77f4-44ce-a563-583acf75d2b6\",\"type\":\"Grid\"},{\"id\":\"de0b12f2-fd93-47d4-bb4f-9c6a75414767\",\"type\":\"LinearAxis\"},{\"id\":\"56544398-c585-4675-8a9f-9973cb4c2587\",\"type\":\"Grid\"},{\"id\":\"b1dbc420-1052-4db8-a168-c8283e717d31\",\"type\":\"BoxAnnotation\"},{\"id\":\"7641385f-4ef5-45be-9882-6dead5046cbc\",\"type\":\"Span\"},{\"id\":\"71b14354-7885-400c-b768-46f1d876058f\",\"type\":\"GlyphRenderer\"}],\"sizing_mode\":\"scale_width\",\"title\":{\"id\":\"ea027d2d-a550-47ba-96a9-91cfe89f64ec\",\"type\":\"Title\"},\"toolbar\":{\"id\":\"6e631758-defc-42f2-9194-2141bde0413f\",\"type\":\"Toolbar\"},\"toolbar_location\":null,\"x_range\":{\"id\":\"14ca51c5-0d98-4a87-bd34-d62757dac5a9\",\"type\":\"DataRange1d\"},\"x_scale\":{\"id\":\"1d017857-0649-4bea-9755-1e3ae8d92927\",\"type\":\"LinearScale\"},\"y_range\":{\"id\":\"2ef4f595-970c-4263-800c-84670f968dcc\",\"type\":\"DataRange1d\"},\"y_scale\":{\"id\":\"1006d537-50e3-4c25-8531-c7e9cda0142d\",\"type\":\"LinearScale\"}},\"id\":\"5d38a37b-6aba-468c-98a0-b9314873611b\",\"subtype\":\"Figure\",\"type\":\"Plot\"},{\"attributes\":{\"axis_line_color\":{\"value\":\"white\"},\"formatter\":{\"id\":\"e9f777eb-c890-45bd-99d7-ffc280745f63\",\"type\":\"BasicTickFormatter\"},\"plot\":{\"id\":\"5d38a37b-6aba-468c-98a0-b9314873611b\",\"subtype\":\"Figure\",\"type\":\"Plot\"},\"ticker\":{\"id\":\"c060b9d1-f1fc-4b4f-9391-c3d3f91873cf\",\"type\":\"BasicTicker\"}},\"id\":\"de0b12f2-fd93-47d4-bb4f-9c6a75414767\",\"type\":\"LinearAxis\"},{\"attributes\":{},\"id\":\"1006d537-50e3-4c25-8531-c7e9cda0142d\",\"type\":\"LinearScale\"},{\"attributes\":{},\"id\":\"1d017857-0649-4bea-9755-1e3ae8d92927\",\"type\":\"LinearScale\"},{\"attributes\":{\"base\":60,\"mantissas\":[1,2,5,10,15,20,30],\"max_interval\":1800000.0,\"min_interval\":1000.0,\"num_minor_ticks\":0},\"id\":\"84a9d228-afe6-409a-9c37-3b66aa56f115\",\"type\":\"AdaptiveTicker\"},{\"attributes\":{\"months\":[0,4,8]},\"id\":\"270f19d8-c8ff-4a87-aa8a-f7933fcc8c91\",\"type\":\"MonthsTicker\"},{\"attributes\":{\"callback\":null},\"id\":\"2ef4f595-970c-4263-800c-84670f968dcc\",\"type\":\"DataRange1d\"},{\"attributes\":{\"axis_line_color\":{\"value\":\"white\"},\"formatter\":{\"id\":\"f39aebd9-deb8-47e4-ae6f-66ece59f9529\",\"type\":\"DatetimeTickFormatter\"},\"plot\":{\"id\":\"5d38a37b-6aba-468c-98a0-b9314873611b\",\"subtype\":\"Figure\",\"type\":\"Plot\"},\"ticker\":{\"id\":\"880881eb-c1e2-415a-b3e6-e6ff437bc644\",\"type\":\"DatetimeTicker\"}},\"id\":\"9040aead-361e-48dd-9981-de00845b33d8\",\"type\":\"DatetimeAxis\"}],\"root_ids\":[\"5d38a37b-6aba-468c-98a0-b9314873611b\"]},\"title\":\"Bokeh Application\",\"version\":\"0.12.14\"}};\n",
       "  var render_items = [{\"docid\":\"9e90ed95-6f73-4203-9206-506e34f33a73\",\"elementid\":\"5a402eb9-1432-4657-8771-f4f8fee1e43c\",\"modelid\":\"5d38a37b-6aba-468c-98a0-b9314873611b\"}];\n",
       "  root.Bokeh.embed.embed_items_notebook(docs_json, render_items);\n",
       "\n",
       "  }\n",
       "  if (root.Bokeh !== undefined) {\n",
       "    embed_document(root);\n",
       "  } else {\n",
       "    var attempts = 0;\n",
       "    var timer = setInterval(function(root) {\n",
       "      if (root.Bokeh !== undefined) {\n",
       "        embed_document(root);\n",
       "        clearInterval(timer);\n",
       "      }\n",
       "      attempts++;\n",
       "      if (attempts > 100) {\n",
       "        console.log(\"Bokeh: ERROR: Unable to run BokehJS code because BokehJS library is missing\")\n",
       "        clearInterval(timer);\n",
       "      }\n",
       "    }, 10, root)\n",
       "  }\n",
       "})(window);"
      ],
      "application/vnd.bokehjs_exec.v0+json": ""
     },
     "metadata": {
      "application/vnd.bokehjs_exec.v0+json": {
       "id": "5d38a37b-6aba-468c-98a0-b9314873611b"
      }
     },
     "output_type": "display_data"
    }
   ],
   "source": [
    "# VIX plot in bokeh\n",
    "source = ColumnDataSource({'x': df.index, 'y': df.values, 'Date': df.index.strftime('%b %d, %Y')})\n",
    "tooltips = \"\"\"\n",
    "            <div>\n",
    "                <span style=\"font-size: 12px;\">@Date:</span>\n",
    "                <span style=\"font-size: 12px; font-weight: bold;\">@y{1.1}</span>\n",
    "            </div>\n",
    "\"\"\"\n",
    "# horizontal line at zero\n",
    "hline = Span(location=0, dimension='width', line_color='gray', line_width=1)\n",
    "p = figure(width=700,height=300,x_axis_type='datetime',\n",
    "           tools=['pan, wheel_zoom, box_zoom, reset'], logo=None,\n",
    "           toolbar_location=None)\n",
    "p.add_layout(hline)\n",
    "p.sizing_mode = 'scale_width'\n",
    "p.line('x', 'y', source = source, line_width=3, color='Green', alpha=1.0, level='overlay')\n",
    "p.xgrid.grid_line_color = None\n",
    "p.outline_line_color = 'white'\n",
    "p.axis.axis_line_color = 'white'\n",
    "p.add_tools(HoverTool(tooltips=tooltips, line_policy='nearest', show_arrow=False))\n",
    "p.toolbar.active_drag = None\n",
    "script, div = components(p)\n",
    "\n",
    "with open('C:/Working/bdecon.github.io/plots/vix.html', 'w') as text_file:\n",
    "    text_file.write('{} {}'.format(script, div))\n",
    "    \n",
    "show(p)"
   ]
  },
  {
   "cell_type": "code",
   "execution_count": 2,
   "metadata": {
    "ExecuteTime": {
     "end_time": "2018-03-21T14:26:57.638679Z",
     "start_time": "2018-03-21T14:26:57.248011Z"
    },
    "code_folding": [
     0
    ]
   },
   "outputs": [],
   "source": [
    "# CPI Inflation Data from the IMF\n",
    "url = 'http://dataservices.imf.org/REST/SDMX_JSON.svc/'\n",
    "key = f\"CompactData/IFS/M.DE+GB+IT+FR.PCPI_PC_CP_A_PT\"\n",
    "data = requests.get(f'{url}{key}').json()\n",
    "\n",
    "df = pd.DataFrame({s['@REF_AREA'] : {pd.to_datetime(i['@TIME_PERIOD']) : \n",
    "     round(float(i['@OBS_VALUE']), 1) \n",
    "     for i in s['Obs'] if int(i['@TIME_PERIOD'][:4]) > 1991} \n",
    "     for s in data['CompactData']['DataSet']['Series']})"
   ]
  },
  {
   "cell_type": "code",
   "execution_count": 34,
   "metadata": {
    "ExecuteTime": {
     "end_time": "2018-03-21T15:16:13.073091Z",
     "start_time": "2018-03-21T15:16:12.760567Z"
    },
    "code_folding": [
     0
    ]
   },
   "outputs": [
    {
     "data": {
      "text/html": [
       "\n",
       "<div class=\"bk-root\">\n",
       "    <div class=\"bk-plotdiv\" id=\"743167f2-49ee-4498-89f3-88c6926f80c8\"></div>\n",
       "</div>"
      ]
     },
     "metadata": {},
     "output_type": "display_data"
    },
    {
     "data": {
      "application/javascript": [
       "(function(root) {\n",
       "  function embed_document(root) {\n",
       "    \n",
       "  var docs_json = {\"c03909ca-f803-48e0-b539-9bbcff0d3728\":{\"roots\":{\"references\":[{\"attributes\":{},\"id\":\"ac2fd063-f2e5-498c-9000-803dd4fbd399\",\"type\":\"BasicTicker\"},{\"attributes\":{\"callback\":null,\"renderers\":[{\"id\":\"9fc80ed0-e10d-4c38-bb77-6bd93098c59e\",\"type\":\"GlyphRenderer\"}],\"show_arrow\":false,\"tooltips\":\"\\n            <div>\\n                <span style=\\\"font-size: 12px; font-weight: bold;\\\">United Kingdom</span><br>\\n                <span style=\\\"font-size: 12px;\\\">@Date:</span>\\n                <span style=\\\"font-size: 12px; font-weight: bold;\\\">@yuk{1.1}%</span>\\n            </div>\\n\"},\"id\":\"0a92fe48-b49b-4922-b831-3e3008e851a1\",\"type\":\"HoverTool\"},{\"attributes\":{\"mantissas\":[1,2,5],\"max_interval\":500.0,\"num_minor_ticks\":0},\"id\":\"f0725d74-e99e-425e-921a-beb53ca3c369\",\"type\":\"AdaptiveTicker\"},{\"attributes\":{\"dimension\":1,\"plot\":{\"id\":\"840427b2-d069-4496-9516-5522422e756b\",\"subtype\":\"Figure\",\"type\":\"Plot\"},\"ticker\":{\"id\":\"ac2fd063-f2e5-498c-9000-803dd4fbd399\",\"type\":\"BasicTicker\"}},\"id\":\"36b32032-451c-4b2d-a5b7-965624ac6e86\",\"type\":\"Grid\"},{\"attributes\":{\"line_alpha\":0.1,\"line_color\":\"#1f77b4\",\"line_width\":2.5,\"x\":{\"field\":\"x\"},\"y\":{\"field\":\"yde\"}},\"id\":\"dbc01927-aa83-4e72-9aeb-8ae7f33fda7c\",\"type\":\"Line\"},{\"attributes\":{},\"id\":\"5255a284-73b8-4233-bcd5-f2bc62635620\",\"type\":\"PanTool\"},{\"attributes\":{\"source\":{\"id\":\"7531e3cf-fc7a-409f-8cf8-169730dfc276\",\"type\":\"ColumnDataSource\"}},\"id\":\"ce486854-8126-48a4-a574-4f5bddb70093\",\"type\":\"CDSView\"},{\"attributes\":{},\"id\":\"a83d1b5c-9d28-4c37-9a39-90d08b1a86bc\",\"type\":\"WheelZoomTool\"},{\"attributes\":{\"overlay\":{\"id\":\"3e284443-6ae4-487b-af03-01c1da3fbbdc\",\"type\":\"BoxAnnotation\"}},\"id\":\"c7274f94-ff9b-4e9e-b3c5-58cc4d4001c8\",\"type\":\"BoxZoomTool\"},{\"attributes\":{},\"id\":\"9f6a1a75-3f5a-444d-9131-63866434a29d\",\"type\":\"ResetTool\"},{\"attributes\":{\"bottom_units\":\"screen\",\"fill_alpha\":{\"value\":0.5},\"fill_color\":{\"value\":\"lightgrey\"},\"left_units\":\"screen\",\"level\":\"overlay\",\"line_alpha\":{\"value\":1.0},\"line_color\":{\"value\":\"black\"},\"line_dash\":[4,4],\"line_width\":{\"value\":2},\"plot\":null,\"render_mode\":\"css\",\"right_units\":\"screen\",\"top_units\":\"screen\"},\"id\":\"3e284443-6ae4-487b-af03-01c1da3fbbdc\",\"type\":\"BoxAnnotation\"},{\"attributes\":{\"data_source\":{\"id\":\"7531e3cf-fc7a-409f-8cf8-169730dfc276\",\"type\":\"ColumnDataSource\"},\"glyph\":{\"id\":\"f1c7d7e0-a4d2-4338-92d1-50eb3b0db21c\",\"type\":\"Line\"},\"hover_glyph\":null,\"level\":\"overlay\",\"muted_glyph\":null,\"nonselection_glyph\":{\"id\":\"dbc01927-aa83-4e72-9aeb-8ae7f33fda7c\",\"type\":\"Line\"},\"selection_glyph\":null,\"view\":{\"id\":\"ce486854-8126-48a4-a574-4f5bddb70093\",\"type\":\"CDSView\"}},\"id\":\"9d69479f-3ff4-48a2-b997-3a8fd542ff6a\",\"type\":\"GlyphRenderer\"},{\"attributes\":{},\"id\":\"3433d701-c5cc-4003-97c8-8dbd33fca7a6\",\"type\":\"BasicTickFormatter\"},{\"attributes\":{},\"id\":\"b1e93fdf-ddad-4a2b-8a35-41661442cf61\",\"type\":\"DatetimeTickFormatter\"},{\"attributes\":{\"line_color\":{\"value\":\"gray\"},\"location\":0,\"plot\":{\"id\":\"840427b2-d069-4496-9516-5522422e756b\",\"subtype\":\"Figure\",\"type\":\"Plot\"}},\"id\":\"dafb2fe1-fa99-4263-90c6-a30690e49a1e\",\"type\":\"Span\"},{\"attributes\":{\"source\":{\"id\":\"7531e3cf-fc7a-409f-8cf8-169730dfc276\",\"type\":\"ColumnDataSource\"}},\"id\":\"52e7e94e-5173-4cb7-98ca-5a0644016bc6\",\"type\":\"CDSView\"},{\"attributes\":{\"active_drag\":null,\"active_inspect\":\"auto\",\"active_scroll\":\"auto\",\"active_tap\":\"auto\",\"logo\":null,\"tools\":[{\"id\":\"5255a284-73b8-4233-bcd5-f2bc62635620\",\"type\":\"PanTool\"},{\"id\":\"a83d1b5c-9d28-4c37-9a39-90d08b1a86bc\",\"type\":\"WheelZoomTool\"},{\"id\":\"c7274f94-ff9b-4e9e-b3c5-58cc4d4001c8\",\"type\":\"BoxZoomTool\"},{\"id\":\"9f6a1a75-3f5a-444d-9131-63866434a29d\",\"type\":\"ResetTool\"},{\"id\":\"cb215adb-b936-4183-8353-addba9fd2ca9\",\"type\":\"HoverTool\"},{\"id\":\"0a92fe48-b49b-4922-b831-3e3008e851a1\",\"type\":\"HoverTool\"}]},\"id\":\"093a3b84-0ff5-4bf6-bc0a-eecb634e7aa9\",\"type\":\"Toolbar\"},{\"attributes\":{\"days\":[1,15]},\"id\":\"e001262c-03c2-4889-8600-06dd3a1104c5\",\"type\":\"DaysTicker\"},{\"attributes\":{\"days\":[1,8,15,22]},\"id\":\"9146a7e1-58e0-48a6-a047-15a4547f6457\",\"type\":\"DaysTicker\"},{\"attributes\":{\"plot\":null,\"text\":\"\"},\"id\":\"40c39413-0c62-42a7-8532-cd060d39e88d\",\"type\":\"Title\"},{\"attributes\":{\"callback\":null},\"id\":\"00031870-a6b0-449b-bf00-8547ac0a1394\",\"type\":\"DataRange1d\"},{\"attributes\":{\"base\":60,\"mantissas\":[1,2,5,10,15,20,30],\"max_interval\":1800000.0,\"min_interval\":1000.0,\"num_minor_ticks\":0},\"id\":\"bfce336f-8b75-4629-be26-06e4bc642364\",\"type\":\"AdaptiveTicker\"},{\"attributes\":{\"line_color\":\"#163172\",\"line_width\":2.5,\"x\":{\"field\":\"x\"},\"y\":{\"field\":\"yde\"}},\"id\":\"f1c7d7e0-a4d2-4338-92d1-50eb3b0db21c\",\"type\":\"Line\"},{\"attributes\":{\"base\":24,\"mantissas\":[1,2,4,6,8,12],\"max_interval\":43200000.0,\"min_interval\":3600000.0,\"num_minor_ticks\":0},\"id\":\"cf0e2ebc-3ce0-41bd-9754-fbc21346b858\",\"type\":\"AdaptiveTicker\"},{\"attributes\":{\"grid_line_color\":{\"value\":null},\"plot\":{\"id\":\"840427b2-d069-4496-9516-5522422e756b\",\"subtype\":\"Figure\",\"type\":\"Plot\"},\"ticker\":{\"id\":\"85be7c58-7331-4e88-b3c6-c0312d8e0d75\",\"type\":\"DatetimeTicker\"}},\"id\":\"3a0e355b-203b-4a27-a350-e6082f3d606e\",\"type\":\"Grid\"},{\"attributes\":{\"label\":{\"value\":\"United Kingdom\"},\"renderers\":[{\"id\":\"9fc80ed0-e10d-4c38-bb77-6bd93098c59e\",\"type\":\"GlyphRenderer\"}]},\"id\":\"4aff9529-0f93-4d71-b8e4-32e79672208e\",\"type\":\"LegendItem\"},{\"attributes\":{\"line_color\":\"#09a8fa\",\"line_width\":2.5,\"x\":{\"field\":\"x\"},\"y\":{\"field\":\"yuk\"}},\"id\":\"659e5625-38b3-4b27-81c9-0f43f680b8e4\",\"type\":\"Line\"},{\"attributes\":{\"days\":[1,2,3,4,5,6,7,8,9,10,11,12,13,14,15,16,17,18,19,20,21,22,23,24,25,26,27,28,29,30,31]},\"id\":\"8335448e-4705-4f3e-b939-72e0b975d522\",\"type\":\"DaysTicker\"},{\"attributes\":{\"days\":[1,4,7,10,13,16,19,22,25,28]},\"id\":\"5724d3a8-d8b5-4d07-8c18-0cafe562f396\",\"type\":\"DaysTicker\"},{\"attributes\":{\"callback\":null},\"id\":\"1e67f82f-43e5-4bc9-8715-70535f9b9fcc\",\"type\":\"DataRange1d\"},{\"attributes\":{\"months\":[0,1,2,3,4,5,6,7,8,9,10,11]},\"id\":\"8307d10b-312b-4610-a33a-7a8e71b7f52b\",\"type\":\"MonthsTicker\"},{\"attributes\":{\"months\":[0,2,4,6,8,10]},\"id\":\"da22a551-fc6e-4475-ae37-f3b3c3db3255\",\"type\":\"MonthsTicker\"},{\"attributes\":{\"below\":[{\"id\":\"7c78ab26-f579-4a84-a469-ef0d9899fb24\",\"type\":\"DatetimeAxis\"}],\"left\":[{\"id\":\"43323ece-388c-445c-a708-4b768be8d9cd\",\"type\":\"LinearAxis\"}],\"outline_line_color\":{\"value\":\"white\"},\"plot_height\":300,\"plot_width\":700,\"renderers\":[{\"id\":\"7c78ab26-f579-4a84-a469-ef0d9899fb24\",\"type\":\"DatetimeAxis\"},{\"id\":\"3a0e355b-203b-4a27-a350-e6082f3d606e\",\"type\":\"Grid\"},{\"id\":\"43323ece-388c-445c-a708-4b768be8d9cd\",\"type\":\"LinearAxis\"},{\"id\":\"36b32032-451c-4b2d-a5b7-965624ac6e86\",\"type\":\"Grid\"},{\"id\":\"3e284443-6ae4-487b-af03-01c1da3fbbdc\",\"type\":\"BoxAnnotation\"},{\"id\":\"dafb2fe1-fa99-4263-90c6-a30690e49a1e\",\"type\":\"Span\"},{\"id\":\"7d02683e-aa79-4c6c-9c4b-1aba001ae110\",\"type\":\"Legend\"},{\"id\":\"9d69479f-3ff4-48a2-b997-3a8fd542ff6a\",\"type\":\"GlyphRenderer\"},{\"id\":\"9fc80ed0-e10d-4c38-bb77-6bd93098c59e\",\"type\":\"GlyphRenderer\"}],\"sizing_mode\":\"scale_width\",\"title\":{\"id\":\"40c39413-0c62-42a7-8532-cd060d39e88d\",\"type\":\"Title\"},\"toolbar\":{\"id\":\"093a3b84-0ff5-4bf6-bc0a-eecb634e7aa9\",\"type\":\"Toolbar\"},\"toolbar_location\":null,\"toolbar_sticky\":false,\"x_range\":{\"id\":\"00031870-a6b0-449b-bf00-8547ac0a1394\",\"type\":\"DataRange1d\"},\"x_scale\":{\"id\":\"d9168ae6-270d-4d50-8ab2-6b6eebb9414b\",\"type\":\"LinearScale\"},\"y_range\":{\"id\":\"1e67f82f-43e5-4bc9-8715-70535f9b9fcc\",\"type\":\"DataRange1d\"},\"y_scale\":{\"id\":\"00e68670-a7c5-46cd-b2da-d6056b4d811f\",\"type\":\"LinearScale\"}},\"id\":\"840427b2-d069-4496-9516-5522422e756b\",\"subtype\":\"Figure\",\"type\":\"Plot\"},{\"attributes\":{\"months\":[0,4,8]},\"id\":\"0ad944cd-484e-4182-bc3f-c76905e5199c\",\"type\":\"MonthsTicker\"},{\"attributes\":{},\"id\":\"d9168ae6-270d-4d50-8ab2-6b6eebb9414b\",\"type\":\"LinearScale\"},{\"attributes\":{\"months\":[0,6]},\"id\":\"a5335a59-f904-45de-964d-824dabef6e9a\",\"type\":\"MonthsTicker\"},{\"attributes\":{},\"id\":\"7365fe0e-6b52-4cef-8ae5-4c2306e6d022\",\"type\":\"YearsTicker\"},{\"attributes\":{},\"id\":\"00e68670-a7c5-46cd-b2da-d6056b4d811f\",\"type\":\"LinearScale\"},{\"attributes\":{\"background_fill_alpha\":{\"value\":0},\"border_line_alpha\":{\"value\":0},\"items\":[{\"id\":\"d257e0ef-1684-43c6-9868-fd0900b776b3\",\"type\":\"LegendItem\"},{\"id\":\"4aff9529-0f93-4d71-b8e4-32e79672208e\",\"type\":\"LegendItem\"}],\"location\":\"top_center\",\"margin\":0,\"orientation\":\"horizontal\",\"padding\":0,\"plot\":{\"id\":\"840427b2-d069-4496-9516-5522422e756b\",\"subtype\":\"Figure\",\"type\":\"Plot\"},\"spacing\":15},\"id\":\"7d02683e-aa79-4c6c-9c4b-1aba001ae110\",\"type\":\"Legend\"},{\"attributes\":{\"data_source\":{\"id\":\"7531e3cf-fc7a-409f-8cf8-169730dfc276\",\"type\":\"ColumnDataSource\"},\"glyph\":{\"id\":\"659e5625-38b3-4b27-81c9-0f43f680b8e4\",\"type\":\"Line\"},\"hover_glyph\":null,\"level\":\"overlay\",\"muted_glyph\":null,\"nonselection_glyph\":{\"id\":\"9cd3e0c1-39cf-4d87-bbfa-273ce61d379c\",\"type\":\"Line\"},\"selection_glyph\":null,\"view\":{\"id\":\"52e7e94e-5173-4cb7-98ca-5a0644016bc6\",\"type\":\"CDSView\"}},\"id\":\"9fc80ed0-e10d-4c38-bb77-6bd93098c59e\",\"type\":\"GlyphRenderer\"},{\"attributes\":{\"num_minor_ticks\":5,\"tickers\":[{\"id\":\"f0725d74-e99e-425e-921a-beb53ca3c369\",\"type\":\"AdaptiveTicker\"},{\"id\":\"bfce336f-8b75-4629-be26-06e4bc642364\",\"type\":\"AdaptiveTicker\"},{\"id\":\"cf0e2ebc-3ce0-41bd-9754-fbc21346b858\",\"type\":\"AdaptiveTicker\"},{\"id\":\"8335448e-4705-4f3e-b939-72e0b975d522\",\"type\":\"DaysTicker\"},{\"id\":\"5724d3a8-d8b5-4d07-8c18-0cafe562f396\",\"type\":\"DaysTicker\"},{\"id\":\"9146a7e1-58e0-48a6-a047-15a4547f6457\",\"type\":\"DaysTicker\"},{\"id\":\"e001262c-03c2-4889-8600-06dd3a1104c5\",\"type\":\"DaysTicker\"},{\"id\":\"8307d10b-312b-4610-a33a-7a8e71b7f52b\",\"type\":\"MonthsTicker\"},{\"id\":\"da22a551-fc6e-4475-ae37-f3b3c3db3255\",\"type\":\"MonthsTicker\"},{\"id\":\"0ad944cd-484e-4182-bc3f-c76905e5199c\",\"type\":\"MonthsTicker\"},{\"id\":\"a5335a59-f904-45de-964d-824dabef6e9a\",\"type\":\"MonthsTicker\"},{\"id\":\"7365fe0e-6b52-4cef-8ae5-4c2306e6d022\",\"type\":\"YearsTicker\"}]},\"id\":\"85be7c58-7331-4e88-b3c6-c0312d8e0d75\",\"type\":\"DatetimeTicker\"},{\"attributes\":{\"label\":{\"value\":\"Germany\"},\"renderers\":[{\"id\":\"9d69479f-3ff4-48a2-b997-3a8fd542ff6a\",\"type\":\"GlyphRenderer\"}]},\"id\":\"d257e0ef-1684-43c6-9868-fd0900b776b3\",\"type\":\"LegendItem\"},{\"attributes\":{\"callback\":null,\"column_names\":[\"x\",\"yde\",\"yuk\",\"Date\"],\"data\":{\"Date\":[\"Jan 1992\",\"Feb 1992\",\"Mar 1992\",\"Apr 1992\",\"May 1992\",\"Jun 1992\",\"Jul 1992\",\"Aug 1992\",\"Sep 1992\",\"Oct 1992\",\"Nov 1992\",\"Dec 1992\",\"Jan 1993\",\"Feb 1993\",\"Mar 1993\",\"Apr 1993\",\"May 1993\",\"Jun 1993\",\"Jul 1993\",\"Aug 1993\",\"Sep 1993\",\"Oct 1993\",\"Nov 1993\",\"Dec 1993\",\"Jan 1994\",\"Feb 1994\",\"Mar 1994\",\"Apr 1994\",\"May 1994\",\"Jun 1994\",\"Jul 1994\",\"Aug 1994\",\"Sep 1994\",\"Oct 1994\",\"Nov 1994\",\"Dec 1994\",\"Jan 1995\",\"Feb 1995\",\"Mar 1995\",\"Apr 1995\",\"May 1995\",\"Jun 1995\",\"Jul 1995\",\"Aug 1995\",\"Sep 1995\",\"Oct 1995\",\"Nov 1995\",\"Dec 1995\",\"Jan 1996\",\"Feb 1996\",\"Mar 1996\",\"Apr 1996\",\"May 1996\",\"Jun 1996\",\"Jul 1996\",\"Aug 1996\",\"Sep 1996\",\"Oct 1996\",\"Nov 1996\",\"Dec 1996\",\"Jan 1997\",\"Feb 1997\",\"Mar 1997\",\"Apr 1997\",\"May 1997\",\"Jun 1997\",\"Jul 1997\",\"Aug 1997\",\"Sep 1997\",\"Oct 1997\",\"Nov 1997\",\"Dec 1997\",\"Jan 1998\",\"Feb 1998\",\"Mar 1998\",\"Apr 1998\",\"May 1998\",\"Jun 1998\",\"Jul 1998\",\"Aug 1998\",\"Sep 1998\",\"Oct 1998\",\"Nov 1998\",\"Dec 1998\",\"Jan 1999\",\"Feb 1999\",\"Mar 1999\",\"Apr 1999\",\"May 1999\",\"Jun 1999\",\"Jul 1999\",\"Aug 1999\",\"Sep 1999\",\"Oct 1999\",\"Nov 1999\",\"Dec 1999\",\"Jan 2000\",\"Feb 2000\",\"Mar 2000\",\"Apr 2000\",\"May 2000\",\"Jun 2000\",\"Jul 2000\",\"Aug 2000\",\"Sep 2000\",\"Oct 2000\",\"Nov 2000\",\"Dec 2000\",\"Jan 2001\",\"Feb 2001\",\"Mar 2001\",\"Apr 2001\",\"May 2001\",\"Jun 2001\",\"Jul 2001\",\"Aug 2001\",\"Sep 2001\",\"Oct 2001\",\"Nov 2001\",\"Dec 2001\",\"Jan 2002\",\"Feb 2002\",\"Mar 2002\",\"Apr 2002\",\"May 2002\",\"Jun 2002\",\"Jul 2002\",\"Aug 2002\",\"Sep 2002\",\"Oct 2002\",\"Nov 2002\",\"Dec 2002\",\"Jan 2003\",\"Feb 2003\",\"Mar 2003\",\"Apr 2003\",\"May 2003\",\"Jun 2003\",\"Jul 2003\",\"Aug 2003\",\"Sep 2003\",\"Oct 2003\",\"Nov 2003\",\"Dec 2003\",\"Jan 2004\",\"Feb 2004\",\"Mar 2004\",\"Apr 2004\",\"May 2004\",\"Jun 2004\",\"Jul 2004\",\"Aug 2004\",\"Sep 2004\",\"Oct 2004\",\"Nov 2004\",\"Dec 2004\",\"Jan 2005\",\"Feb 2005\",\"Mar 2005\",\"Apr 2005\",\"May 2005\",\"Jun 2005\",\"Jul 2005\",\"Aug 2005\",\"Sep 2005\",\"Oct 2005\",\"Nov 2005\",\"Dec 2005\",\"Jan 2006\",\"Feb 2006\",\"Mar 2006\",\"Apr 2006\",\"May 2006\",\"Jun 2006\",\"Jul 2006\",\"Aug 2006\",\"Sep 2006\",\"Oct 2006\",\"Nov 2006\",\"Dec 2006\",\"Jan 2007\",\"Feb 2007\",\"Mar 2007\",\"Apr 2007\",\"May 2007\",\"Jun 2007\",\"Jul 2007\",\"Aug 2007\",\"Sep 2007\",\"Oct 2007\",\"Nov 2007\",\"Dec 2007\",\"Jan 2008\",\"Feb 2008\",\"Mar 2008\",\"Apr 2008\",\"May 2008\",\"Jun 2008\",\"Jul 2008\",\"Aug 2008\",\"Sep 2008\",\"Oct 2008\",\"Nov 2008\",\"Dec 2008\",\"Jan 2009\",\"Feb 2009\",\"Mar 2009\",\"Apr 2009\",\"May 2009\",\"Jun 2009\",\"Jul 2009\",\"Aug 2009\",\"Sep 2009\",\"Oct 2009\",\"Nov 2009\",\"Dec 2009\",\"Jan 2010\",\"Feb 2010\",\"Mar 2010\",\"Apr 2010\",\"May 2010\",\"Jun 2010\",\"Jul 2010\",\"Aug 2010\",\"Sep 2010\",\"Oct 2010\",\"Nov 2010\",\"Dec 2010\",\"Jan 2011\",\"Feb 2011\",\"Mar 2011\",\"Apr 2011\",\"May 2011\",\"Jun 2011\",\"Jul 2011\",\"Aug 2011\",\"Sep 2011\",\"Oct 2011\",\"Nov 2011\",\"Dec 2011\",\"Jan 2012\",\"Feb 2012\",\"Mar 2012\",\"Apr 2012\",\"May 2012\",\"Jun 2012\",\"Jul 2012\",\"Aug 2012\",\"Sep 2012\",\"Oct 2012\",\"Nov 2012\",\"Dec 2012\",\"Jan 2013\",\"Feb 2013\",\"Mar 2013\",\"Apr 2013\",\"May 2013\",\"Jun 2013\",\"Jul 2013\",\"Aug 2013\",\"Sep 2013\",\"Oct 2013\",\"Nov 2013\",\"Dec 2013\",\"Jan 2014\",\"Feb 2014\",\"Mar 2014\",\"Apr 2014\",\"May 2014\",\"Jun 2014\",\"Jul 2014\",\"Aug 2014\",\"Sep 2014\",\"Oct 2014\",\"Nov 2014\",\"Dec 2014\",\"Jan 2015\",\"Feb 2015\",\"Mar 2015\",\"Apr 2015\",\"May 2015\",\"Jun 2015\",\"Jul 2015\",\"Aug 2015\",\"Sep 2015\",\"Oct 2015\",\"Nov 2015\",\"Dec 2015\",\"Jan 2016\",\"Feb 2016\",\"Mar 2016\",\"Apr 2016\",\"May 2016\",\"Jun 2016\",\"Jul 2016\",\"Aug 2016\",\"Sep 2016\",\"Oct 2016\",\"Nov 2016\",\"Dec 2016\",\"Jan 2017\",\"Feb 2017\",\"Mar 2017\",\"Apr 2017\",\"May 2017\",\"Jun 2017\",\"Jul 2017\",\"Aug 2017\",\"Sep 2017\",\"Oct 2017\",\"Nov 2017\",\"Dec 2017\",\"Jan 2018\",\"Feb 2018\"],\"x\":{\"__ndarray__\":\"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\",\"dtype\":\"float64\",\"shape\":[314]},\"yde\":{\"__ndarray__\":\"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\",\"dtype\":\"float64\",\"shape\":[314]},\"yuk\":{\"__ndarray__\":\"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\",\"dtype\":\"float64\",\"shape\":[314]}}},\"id\":\"7531e3cf-fc7a-409f-8cf8-169730dfc276\",\"type\":\"ColumnDataSource\"},{\"attributes\":{\"callback\":null,\"renderers\":[{\"id\":\"9d69479f-3ff4-48a2-b997-3a8fd542ff6a\",\"type\":\"GlyphRenderer\"}],\"show_arrow\":false,\"tooltips\":\"\\n            <div>\\n                <span style=\\\"font-size: 12px; font-weight: bold;\\\">Germany</span><br>\\n                <span style=\\\"font-size: 12px;\\\">@Date:</span>\\n                <span style=\\\"font-size: 12px; font-weight: bold;\\\">@yde{1.1}%</span>\\n            </div>\\n\"},\"id\":\"cb215adb-b936-4183-8353-addba9fd2ca9\",\"type\":\"HoverTool\"},{\"attributes\":{\"axis_line_color\":{\"value\":\"white\"},\"formatter\":{\"id\":\"b1e93fdf-ddad-4a2b-8a35-41661442cf61\",\"type\":\"DatetimeTickFormatter\"},\"plot\":{\"id\":\"840427b2-d069-4496-9516-5522422e756b\",\"subtype\":\"Figure\",\"type\":\"Plot\"},\"ticker\":{\"id\":\"85be7c58-7331-4e88-b3c6-c0312d8e0d75\",\"type\":\"DatetimeTicker\"}},\"id\":\"7c78ab26-f579-4a84-a469-ef0d9899fb24\",\"type\":\"DatetimeAxis\"},{\"attributes\":{\"line_alpha\":0.1,\"line_color\":\"#1f77b4\",\"line_width\":2.5,\"x\":{\"field\":\"x\"},\"y\":{\"field\":\"yuk\"}},\"id\":\"9cd3e0c1-39cf-4d87-bbfa-273ce61d379c\",\"type\":\"Line\"},{\"attributes\":{\"axis_line_color\":{\"value\":\"white\"},\"formatter\":{\"id\":\"3433d701-c5cc-4003-97c8-8dbd33fca7a6\",\"type\":\"BasicTickFormatter\"},\"plot\":{\"id\":\"840427b2-d069-4496-9516-5522422e756b\",\"subtype\":\"Figure\",\"type\":\"Plot\"},\"ticker\":{\"id\":\"ac2fd063-f2e5-498c-9000-803dd4fbd399\",\"type\":\"BasicTicker\"}},\"id\":\"43323ece-388c-445c-a708-4b768be8d9cd\",\"type\":\"LinearAxis\"}],\"root_ids\":[\"840427b2-d069-4496-9516-5522422e756b\"]},\"title\":\"Bokeh Application\",\"version\":\"0.12.14\"}};\n",
       "  var render_items = [{\"docid\":\"c03909ca-f803-48e0-b539-9bbcff0d3728\",\"elementid\":\"743167f2-49ee-4498-89f3-88c6926f80c8\",\"modelid\":\"840427b2-d069-4496-9516-5522422e756b\"}];\n",
       "  root.Bokeh.embed.embed_items_notebook(docs_json, render_items);\n",
       "\n",
       "  }\n",
       "  if (root.Bokeh !== undefined) {\n",
       "    embed_document(root);\n",
       "  } else {\n",
       "    var attempts = 0;\n",
       "    var timer = setInterval(function(root) {\n",
       "      if (root.Bokeh !== undefined) {\n",
       "        embed_document(root);\n",
       "        clearInterval(timer);\n",
       "      }\n",
       "      attempts++;\n",
       "      if (attempts > 100) {\n",
       "        console.log(\"Bokeh: ERROR: Unable to run BokehJS code because BokehJS library is missing\")\n",
       "        clearInterval(timer);\n",
       "      }\n",
       "    }, 10, root)\n",
       "  }\n",
       "})(window);"
      ],
      "application/vnd.bokehjs_exec.v0+json": ""
     },
     "metadata": {
      "application/vnd.bokehjs_exec.v0+json": {
       "id": "840427b2-d069-4496-9516-5522422e756b"
      }
     },
     "output_type": "display_data"
    }
   ],
   "source": [
    "#Plotting CPI for Germany and the UK\n",
    "source = ColumnDataSource({'x': df.index, 'yde': df.DE, 'yuk': df.GB, 'Date': df.index.strftime('%b %Y')})\n",
    "tooltipsde = \"\"\"\n",
    "            <div>\n",
    "                <span style=\"font-size: 12px; font-weight: bold;\">Germany</span><br>\n",
    "                <span style=\"font-size: 12px;\">@Date:</span>\n",
    "                <span style=\"font-size: 12px; font-weight: bold;\">@yde{1.1}%</span>\n",
    "            </div>\n",
    "\"\"\"\n",
    "tooltipsuk = \"\"\"\n",
    "            <div>\n",
    "                <span style=\"font-size: 12px; font-weight: bold;\">United Kingdom</span><br>\n",
    "                <span style=\"font-size: 12px;\">@Date:</span>\n",
    "                <span style=\"font-size: 12px; font-weight: bold;\">@yuk{1.1}%</span>\n",
    "            </div>\n",
    "\"\"\"\n",
    "# horizontal line at zero\n",
    "hline = Span(location=0, dimension='width', line_color='gray', line_width=1)\n",
    "p = figure(width=700,height=300,x_axis_type='datetime',\n",
    "           tools=['pan,wheel_zoom,box_zoom,reset'], logo=None,\n",
    "           toolbar_location=None, toolbar_sticky=False)\n",
    "p.add_layout(hline)\n",
    "p.sizing_mode = 'scale_width'\n",
    "r1 = p.line('x', 'yde', source=source, legend='Germany', \n",
    "            line_width=2.5, color='#163172', alpha=1.0, level='overlay')\n",
    "r2 = p.line('x', 'yuk', source=source, legend='United Kingdom', \n",
    "            line_width=2.5, color='#09a8fa', alpha=1.0, level='overlay')\n",
    "p.legend.orientation = \"horizontal\"\n",
    "p.legend.location = \"top_center\"\n",
    "p.legend.border_line_alpha = 0\n",
    "p.legend.background_fill_alpha = 0\n",
    "p.legend.margin = 0\n",
    "p.legend.padding = 0\n",
    "p.legend.spacing = 15\n",
    "p.xgrid.grid_line_color = None\n",
    "p.outline_line_color = 'white'\n",
    "p.axis.axis_line_color = 'white'\n",
    "p.add_tools(HoverTool(tooltips=tooltipsde, renderers=[r1], show_arrow=False))\n",
    "p.add_tools(HoverTool(tooltips=tooltipsuk, renderers=[r2], show_arrow=False))\n",
    "p.toolbar.active_drag = None\n",
    "script, div = components(p)\n",
    "\n",
    "with open('C:/Working/bdecon.github.io/plots/eu_cpi.html', 'w') as text_file:\n",
    "    text_file.write('{} {}'.format(script, div))\n",
    "    \n",
    "show(p)"
   ]
  },
  {
   "cell_type": "markdown",
   "metadata": {},
   "source": [
    "# German CPI"
   ]
  },
  {
   "cell_type": "code",
   "execution_count": 113,
   "metadata": {
    "ExecuteTime": {
     "end_time": "2018-03-17T20:47:54.725884Z",
     "start_time": "2018-03-17T20:47:54.147709Z"
    },
    "code_folding": [
     0
    ]
   },
   "outputs": [],
   "source": [
    "# Germany CPI in Bokeh plot\n",
    "url = 'http://dataservices.imf.org/REST/SDMX_JSON.svc/'\n",
    "key = 'CompactData/IFS/M.DE.PCPI_PC_CP_A_PT' # adjust as needed\n",
    "data = requests.get('{}{}'.format(url,key)).json()\n",
    "# Navigate to observations in JSON data\n",
    "obs = data['CompactData']['DataSet']['Series']['Obs']\n",
    "\n",
    "# Create pandas dataframe from the observations\n",
    "df = pd.DataFrame(obs)[['@OBS_VALUE','@TIME_PERIOD']]\n",
    "df.columns = ['value', 'date']\n",
    "df.loc[:,'value'] = df['value'].astype(float).round(1)\n",
    "df = df.set_index(pd.to_datetime(df['date']))['value']\n",
    "\n",
    "source = ColumnDataSource({'x': df.index, 'y': df.values, 'Date': df.index.strftime('%b %Y')})\n",
    "tooltips = \"\"\"\n",
    "            <div>\n",
    "                <span style=\"font-size: 12px;\">@Date:</span>\n",
    "                <span style=\"font-size: 12px; font-weight: bold;\">@y{1.1}%</span>\n",
    "            </div>\n",
    "\"\"\"\n",
    "# horizontal line at zero\n",
    "hline = Span(location=0, dimension='width', line_color='gray', line_width=1)\n",
    "p = figure(width=700,height=300,x_axis_type='datetime',\n",
    "           tools=['pan,wheel_zoom,box_zoom,reset'], logo=None,\n",
    "           toolbar_location=None, toolbar_sticky=False)\n",
    "p.add_layout(hline)\n",
    "p.sizing_mode = 'scale_width'\n",
    "p.line('x', 'y', source = source, line_width=3, color='Orange', alpha=1.0, level='overlay')\n",
    "p.xgrid.grid_line_color = None\n",
    "p.outline_line_color = 'white'\n",
    "p.axis.axis_line_color = 'white'\n",
    "p.add_tools(HoverTool(tooltips=tooltips, line_policy='nearest', show_arrow=False))\n",
    "p.toolbar.active_drag = None\n",
    "script, div = components(p)\n",
    "\n",
    "with open('C:/Working/bdecon.github.io/plots/de_cpi.html', 'w') as text_file:\n",
    "    text_file.write('{} {}'.format(script, div))\n",
    "    \n",
    "show(p)"
   ]
  },
  {
   "cell_type": "markdown",
   "metadata": {},
   "source": [
    "# MXN per USD"
   ]
  },
  {
   "cell_type": "code",
   "execution_count": 116,
   "metadata": {
    "ExecuteTime": {
     "end_time": "2018-03-17T21:08:26.373930Z",
     "start_time": "2018-03-17T21:08:25.701997Z"
    },
    "code_folding": [
     0
    ],
    "collapsed": true
   },
   "outputs": [
    {
     "data": {
      "text/html": [
       "\n",
       "<div class=\"bk-root\">\n",
       "    <div class=\"bk-plotdiv\" id=\"c7b026aa-8e79-4898-b9ab-8165cda3a23b\"></div>\n",
       "</div>"
      ]
     },
     "metadata": {},
     "output_type": "display_data"
    },
    {
     "data": {
      "application/javascript": [
       "(function(root) {\n",
       "  function embed_document(root) {\n",
       "    \n",
       "  var docs_json = {\"7fe0794d-e9e4-414d-829f-8009036af746\":{\"roots\":{\"references\":[{\"attributes\":{\"base\":24,\"mantissas\":[1,2,4,6,8,12],\"max_interval\":43200000.0,\"min_interval\":3600000.0,\"num_minor_ticks\":0},\"id\":\"f122656d-11d5-4b5b-874c-7ca1a2a5e3ae\",\"type\":\"AdaptiveTicker\"},{\"attributes\":{\"grid_line_color\":{\"value\":null},\"plot\":{\"id\":\"22ad4b17-5af5-463d-ad8b-994078232db6\",\"subtype\":\"Figure\",\"type\":\"Plot\"},\"ticker\":{\"id\":\"bdec73d7-07b2-4245-9592-83f76f29b6d1\",\"type\":\"DatetimeTicker\"}},\"id\":\"99e26d7c-44b3-4d40-b367-dce6c0204b72\",\"type\":\"Grid\"},{\"attributes\":{},\"id\":\"4516894a-50f8-4a5e-b7c1-91c18b469f65\",\"type\":\"BasicTickFormatter\"},{\"attributes\":{\"months\":[0,2,4,6,8,10]},\"id\":\"60eb18cf-f3a8-46dc-a129-f536acfd5f4f\",\"type\":\"MonthsTicker\"},{\"attributes\":{},\"id\":\"2a695015-5fb4-4b23-8e2b-9940b4f81bd2\",\"type\":\"BasicTicker\"},{\"attributes\":{\"days\":[1,8,15,22]},\"id\":\"b2c3284a-7e99-4497-b9a0-6943c1578bbc\",\"type\":\"DaysTicker\"},{\"attributes\":{\"below\":[{\"id\":\"c5170eee-19c3-4b31-9f53-1d6ebb1af699\",\"type\":\"DatetimeAxis\"}],\"left\":[{\"id\":\"556ae048-9f4b-4667-a313-725ab7f4d520\",\"type\":\"LinearAxis\"}],\"outline_line_color\":{\"value\":\"white\"},\"plot_height\":300,\"plot_width\":700,\"renderers\":[{\"id\":\"c5170eee-19c3-4b31-9f53-1d6ebb1af699\",\"type\":\"DatetimeAxis\"},{\"id\":\"99e26d7c-44b3-4d40-b367-dce6c0204b72\",\"type\":\"Grid\"},{\"id\":\"556ae048-9f4b-4667-a313-725ab7f4d520\",\"type\":\"LinearAxis\"},{\"id\":\"14e40f1d-a158-4dc7-bc6c-7551dda3662c\",\"type\":\"Grid\"},{\"id\":\"0d74f7df-0187-40e3-affb-901830135ef2\",\"type\":\"BoxAnnotation\"},{\"id\":\"92a7d0a5-bcb7-4320-837b-a1dff37eff19\",\"type\":\"GlyphRenderer\"}],\"sizing_mode\":\"scale_width\",\"title\":{\"id\":\"e305c72b-e5a5-4179-b8ad-cf2d4a98e8ae\",\"type\":\"Title\"},\"toolbar\":{\"id\":\"8d5cf5a4-1669-45a4-9e29-8e1b582c7a33\",\"type\":\"Toolbar\"},\"toolbar_location\":null,\"toolbar_sticky\":false,\"x_range\":{\"id\":\"baabe831-4c06-424d-986e-3da4ea297302\",\"type\":\"DataRange1d\"},\"x_scale\":{\"id\":\"d274b42a-0711-416b-a9f8-49b550666168\",\"type\":\"LinearScale\"},\"y_range\":{\"id\":\"5a9eedc4-7b8e-4f02-815c-8adc149873e1\",\"type\":\"DataRange1d\"},\"y_scale\":{\"id\":\"840ed082-a329-4954-b62c-3e1da367391c\",\"type\":\"LinearScale\"}},\"id\":\"22ad4b17-5af5-463d-ad8b-994078232db6\",\"subtype\":\"Figure\",\"type\":\"Plot\"},{\"attributes\":{\"months\":[0,1,2,3,4,5,6,7,8,9,10,11]},\"id\":\"b55e41e0-1508-4ae3-9796-c5b23565b8fc\",\"type\":\"MonthsTicker\"},{\"attributes\":{},\"id\":\"b162d54c-8fb0-42e1-a2c2-4fb8c459687b\",\"type\":\"DatetimeTickFormatter\"},{\"attributes\":{\"callback\":null,\"show_arrow\":false,\"tooltips\":\"\\n            <div>\\n                <span style=\\\"font-size: 12px;\\\">@Date:</span>\\n                <span style=\\\"font-size: 12px; font-weight: bold;\\\">@y</span>\\n            </div>\\n\"},\"id\":\"acf6009a-b6c1-4469-8dda-ee9d84fb2ac9\",\"type\":\"HoverTool\"},{\"attributes\":{},\"id\":\"d274b42a-0711-416b-a9f8-49b550666168\",\"type\":\"LinearScale\"},{\"attributes\":{\"days\":[1,2,3,4,5,6,7,8,9,10,11,12,13,14,15,16,17,18,19,20,21,22,23,24,25,26,27,28,29,30,31]},\"id\":\"33a032d2-07f9-40b2-8b64-0d9e2151df1c\",\"type\":\"DaysTicker\"},{\"attributes\":{\"days\":[1,15]},\"id\":\"8e8a1303-8eb5-4311-87ef-9b4af09173e4\",\"type\":\"DaysTicker\"},{\"attributes\":{},\"id\":\"b8be812f-68b7-455c-9a33-c9d353d9e99b\",\"type\":\"PanTool\"},{\"attributes\":{\"months\":[0,6]},\"id\":\"3189a3c7-d1da-42f3-be7b-01aa46e9c21f\",\"type\":\"MonthsTicker\"},{\"attributes\":{\"mantissas\":[1,2,5],\"max_interval\":500.0,\"num_minor_ticks\":0},\"id\":\"59d65698-c08f-4373-824a-4b2f69df3604\",\"type\":\"AdaptiveTicker\"},{\"attributes\":{\"months\":[0,4,8]},\"id\":\"176be7c7-7924-4b41-815e-b6c681651fa2\",\"type\":\"MonthsTicker\"},{\"attributes\":{},\"id\":\"b1eed8de-0ba0-4bed-aaa8-630a54109f31\",\"type\":\"YearsTicker\"},{\"attributes\":{\"days\":[1,4,7,10,13,16,19,22,25,28]},\"id\":\"82047da9-bd66-456f-9837-8ea8250fd636\",\"type\":\"DaysTicker\"},{\"attributes\":{\"bottom_units\":\"screen\",\"fill_alpha\":{\"value\":0.5},\"fill_color\":{\"value\":\"lightgrey\"},\"left_units\":\"screen\",\"level\":\"overlay\",\"line_alpha\":{\"value\":1.0},\"line_color\":{\"value\":\"black\"},\"line_dash\":[4,4],\"line_width\":{\"value\":2},\"plot\":null,\"render_mode\":\"css\",\"right_units\":\"screen\",\"top_units\":\"screen\"},\"id\":\"0d74f7df-0187-40e3-affb-901830135ef2\",\"type\":\"BoxAnnotation\"},{\"attributes\":{\"num_minor_ticks\":5,\"tickers\":[{\"id\":\"59d65698-c08f-4373-824a-4b2f69df3604\",\"type\":\"AdaptiveTicker\"},{\"id\":\"de48c079-9ad8-4570-99b7-15777a331463\",\"type\":\"AdaptiveTicker\"},{\"id\":\"f122656d-11d5-4b5b-874c-7ca1a2a5e3ae\",\"type\":\"AdaptiveTicker\"},{\"id\":\"33a032d2-07f9-40b2-8b64-0d9e2151df1c\",\"type\":\"DaysTicker\"},{\"id\":\"82047da9-bd66-456f-9837-8ea8250fd636\",\"type\":\"DaysTicker\"},{\"id\":\"b2c3284a-7e99-4497-b9a0-6943c1578bbc\",\"type\":\"DaysTicker\"},{\"id\":\"8e8a1303-8eb5-4311-87ef-9b4af09173e4\",\"type\":\"DaysTicker\"},{\"id\":\"b55e41e0-1508-4ae3-9796-c5b23565b8fc\",\"type\":\"MonthsTicker\"},{\"id\":\"60eb18cf-f3a8-46dc-a129-f536acfd5f4f\",\"type\":\"MonthsTicker\"},{\"id\":\"176be7c7-7924-4b41-815e-b6c681651fa2\",\"type\":\"MonthsTicker\"},{\"id\":\"3189a3c7-d1da-42f3-be7b-01aa46e9c21f\",\"type\":\"MonthsTicker\"},{\"id\":\"b1eed8de-0ba0-4bed-aaa8-630a54109f31\",\"type\":\"YearsTicker\"}]},\"id\":\"bdec73d7-07b2-4245-9592-83f76f29b6d1\",\"type\":\"DatetimeTicker\"},{\"attributes\":{},\"id\":\"840ed082-a329-4954-b62c-3e1da367391c\",\"type\":\"LinearScale\"},{\"attributes\":{\"axis_line_color\":{\"value\":\"white\"},\"formatter\":{\"id\":\"4516894a-50f8-4a5e-b7c1-91c18b469f65\",\"type\":\"BasicTickFormatter\"},\"plot\":{\"id\":\"22ad4b17-5af5-463d-ad8b-994078232db6\",\"subtype\":\"Figure\",\"type\":\"Plot\"},\"ticker\":{\"id\":\"2a695015-5fb4-4b23-8e2b-9940b4f81bd2\",\"type\":\"BasicTicker\"}},\"id\":\"556ae048-9f4b-4667-a313-725ab7f4d520\",\"type\":\"LinearAxis\"},{\"attributes\":{\"callback\":null},\"id\":\"baabe831-4c06-424d-986e-3da4ea297302\",\"type\":\"DataRange1d\"},{\"attributes\":{\"overlay\":{\"id\":\"0d74f7df-0187-40e3-affb-901830135ef2\",\"type\":\"BoxAnnotation\"}},\"id\":\"0e1ec420-4e67-4957-8d1b-c158dc736e67\",\"type\":\"BoxZoomTool\"},{\"attributes\":{\"callback\":null},\"id\":\"5a9eedc4-7b8e-4f02-815c-8adc149873e1\",\"type\":\"DataRange1d\"},{\"attributes\":{},\"id\":\"0c35f871-e3de-4f94-a86e-8020087a7e15\",\"type\":\"ResetTool\"},{\"attributes\":{\"axis_line_color\":{\"value\":\"white\"},\"formatter\":{\"id\":\"b162d54c-8fb0-42e1-a2c2-4fb8c459687b\",\"type\":\"DatetimeTickFormatter\"},\"plot\":{\"id\":\"22ad4b17-5af5-463d-ad8b-994078232db6\",\"subtype\":\"Figure\",\"type\":\"Plot\"},\"ticker\":{\"id\":\"bdec73d7-07b2-4245-9592-83f76f29b6d1\",\"type\":\"DatetimeTicker\"}},\"id\":\"c5170eee-19c3-4b31-9f53-1d6ebb1af699\",\"type\":\"DatetimeAxis\"},{\"attributes\":{\"source\":{\"id\":\"11c4a15e-1e2c-46c0-ae3b-76dd674afc9f\",\"type\":\"ColumnDataSource\"}},\"id\":\"f0c87deb-4af0-4585-9518-03cfd7f972ee\",\"type\":\"CDSView\"},{\"attributes\":{},\"id\":\"16f7f72a-021d-4b48-9026-c17b728f666f\",\"type\":\"WheelZoomTool\"},{\"attributes\":{\"base\":60,\"mantissas\":[1,2,5,10,15,20,30],\"max_interval\":1800000.0,\"min_interval\":1000.0,\"num_minor_ticks\":0},\"id\":\"de48c079-9ad8-4570-99b7-15777a331463\",\"type\":\"AdaptiveTicker\"},{\"attributes\":{\"dimension\":1,\"plot\":{\"id\":\"22ad4b17-5af5-463d-ad8b-994078232db6\",\"subtype\":\"Figure\",\"type\":\"Plot\"},\"ticker\":{\"id\":\"2a695015-5fb4-4b23-8e2b-9940b4f81bd2\",\"type\":\"BasicTicker\"}},\"id\":\"14e40f1d-a158-4dc7-bc6c-7551dda3662c\",\"type\":\"Grid\"},{\"attributes\":{\"plot\":null,\"text\":\"\",\"text_font_size\":{\"value\":\"14pt\"}},\"id\":\"e305c72b-e5a5-4179-b8ad-cf2d4a98e8ae\",\"type\":\"Title\"},{\"attributes\":{\"callback\":null,\"column_names\":[\"x\",\"y\",\"Date\"],\"data\":{\"Date\":[\"2018-02-28\",\"2018-02-27\",\"2018-02-26\",\"2018-02-23\",\"2018-02-22\",\"2018-02-21\",\"2018-02-20\",\"2018-02-19\",\"2018-02-16\",\"2018-02-15\",\"2018-02-14\",\"2018-02-13\",\"2018-02-12\",\"2018-02-09\",\"2018-02-08\",\"2018-02-07\",\"2018-02-06\",\"2018-02-05\",\"2018-02-02\",\"2018-02-01\",\"2018-01-31\",\"2018-01-30\",\"2018-01-29\",\"2018-01-26\",\"2018-01-25\",\"2018-01-24\",\"2018-01-23\",\"2018-01-22\",\"2018-01-19\",\"2018-01-18\",\"2018-01-17\",\"2018-01-16\",\"2018-01-15\",\"2018-01-12\",\"2018-01-11\",\"2018-01-10\",\"2018-01-09\",\"2018-01-08\",\"2018-01-05\",\"2018-01-04\",\"2018-01-03\",\"2018-01-02\",\"2018-01-01\",\"2017-12-29\",\"2017-12-28\",\"2017-12-27\",\"2017-12-26\",\"2017-12-25\",\"2017-12-22\",\"2017-12-21\",\"2017-12-20\",\"2017-12-19\",\"2017-12-18\",\"2017-12-15\",\"2017-12-14\",\"2017-12-13\",\"2017-12-12\",\"2017-12-11\",\"2017-12-08\",\"2017-12-07\",\"2017-12-06\",\"2017-12-05\",\"2017-12-04\",\"2017-12-01\",\"2017-11-30\",\"2017-11-29\",\"2017-11-28\",\"2017-11-27\",\"2017-11-24\",\"2017-11-23\",\"2017-11-22\",\"2017-11-21\",\"2017-11-20\",\"2017-11-15\",\"2017-11-14\",\"2017-11-13\",\"2017-11-10\",\"2017-11-09\",\"2017-11-08\",\"2017-11-07\",\"2017-11-06\",\"2017-11-03\",\"2017-11-02\",\"2017-11-01\",\"2017-10-31\",\"2017-10-30\",\"2017-10-27\",\"2017-10-26\",\"2017-10-25\",\"2017-10-24\",\"2017-10-23\",\"2017-10-20\",\"2017-10-19\",\"2017-10-18\",\"2017-10-17\",\"2017-10-16\",\"2017-10-13\",\"2017-10-12\",\"2017-10-11\",\"2017-10-10\",\"2017-10-09\",\"2017-10-06\",\"2017-10-05\",\"2017-10-04\",\"2017-10-03\",\"2017-10-02\",\"2017-09-29\",\"2017-09-28\",\"2017-09-27\",\"2017-09-26\",\"2017-09-25\",\"2017-09-22\",\"2017-09-21\",\"2017-09-20\",\"2017-09-19\",\"2017-09-18\",\"2017-09-15\",\"2017-09-14\",\"2017-09-13\",\"2017-09-12\",\"2017-09-11\",\"2017-09-08\",\"2017-09-07\",\"2017-09-06\",\"2017-09-05\",\"2017-09-04\",\"2017-09-01\",\"2017-08-31\",\"2017-08-30\",\"2017-08-29\",\"2017-08-28\",\"2017-08-25\",\"2017-08-24\",\"2017-08-23\",\"2017-08-22\",\"2017-08-21\",\"2017-08-18\",\"2017-08-17\",\"2017-08-16\",\"2017-08-15\",\"2017-08-14\",\"2017-08-11\",\"2017-08-10\",\"2017-08-09\",\"2017-08-08\",\"2017-08-07\",\"2017-08-04\",\"2017-08-03\",\"2017-08-02\",\"2017-08-01\",\"2017-07-31\",\"2017-07-28\",\"2017-07-27\",\"2017-07-26\",\"2017-07-25\",\"2017-07-24\",\"2017-07-21\",\"2017-07-20\",\"2017-07-19\",\"2017-07-18\",\"2017-07-17\",\"2017-07-14\",\"2017-07-13\",\"2017-07-12\",\"2017-07-10\",\"2017-07-07\",\"2017-07-06\",\"2017-07-05\",\"2017-07-04\",\"2017-07-03\",\"2017-06-30\",\"2017-06-29\",\"2017-06-28\",\"2017-06-27\",\"2017-06-26\",\"2017-06-23\",\"2017-06-22\",\"2017-06-21\",\"2017-06-20\",\"2017-06-19\",\"2017-06-16\",\"2017-06-15\",\"2017-06-14\",\"2017-06-13\",\"2017-06-12\",\"2017-06-09\",\"2017-06-08\",\"2017-06-07\",\"2017-06-06\",\"2017-06-05\",\"2017-06-02\",\"2017-06-01\",\"2017-05-31\",\"2017-05-30\",\"2017-05-29\",\"2017-05-26\",\"2017-05-25\",\"2017-05-24\",\"2017-05-23\",\"2017-05-22\",\"2017-05-19\",\"2017-05-18\",\"2017-05-17\",\"2017-05-16\",\"2017-05-15\",\"2017-05-12\",\"2017-05-11\",\"2017-05-10\",\"2017-05-09\",\"2017-05-08\",\"2017-05-05\",\"2017-05-04\",\"2017-05-03\",\"2017-05-02\",\"2017-05-01\",\"2017-04-28\",\"2017-04-27\",\"2017-04-26\",\"2017-04-25\",\"2017-04-24\",\"2017-04-21\",\"2017-04-20\",\"2017-04-19\",\"2017-04-18\",\"2017-04-17\",\"2017-04-14\",\"2017-04-13\",\"2017-04-12\",\"2017-04-11\",\"2017-04-10\",\"2017-04-07\",\"2017-04-06\",\"2017-04-05\",\"2017-04-04\",\"2017-04-03\",\"2017-03-31\",\"2017-03-30\",\"2017-03-29\",\"2017-03-28\",\"2017-03-27\",\"2017-03-24\",\"2017-03-23\",\"2017-03-22\",\"2017-03-21\",\"2017-03-20\",\"2017-03-17\",\"2017-03-16\",\"2017-03-15\",\"2017-03-14\",\"2017-03-13\",\"2017-03-10\",\"2017-03-09\",\"2017-03-08\",\"2017-03-07\",\"2017-03-06\",\"2017-03-03\",\"2017-03-02\",\"2017-03-01\",\"2017-02-28\",\"2017-02-27\",\"2017-02-24\",\"2017-02-23\",\"2017-02-22\",\"2017-02-21\",\"2017-02-20\",\"2017-02-17\",\"2017-02-16\",\"2017-02-15\",\"2017-02-14\",\"2017-02-13\",\"2017-02-10\",\"2017-02-09\",\"2017-02-08\",\"2017-02-07\",\"2017-02-06\",\"2017-02-03\",\"2017-02-02\",\"2017-02-01\",\"2017-01-31\",\"2017-01-30\",\"2017-01-27\",\"2017-01-26\",\"2017-01-25\",\"2017-01-24\",\"2017-01-23\",\"2017-01-20\",\"2017-01-19\",\"2017-01-18\",\"2017-01-17\",\"2017-01-16\",\"2017-01-13\",\"2017-01-12\",\"2017-01-11\",\"2017-01-10\",\"2017-01-09\",\"2017-01-06\",\"2017-01-05\",\"2017-01-04\",\"2017-01-03\",\"2017-01-02\",\"2016-12-30\",\"2016-12-29\",\"2016-12-28\",\"2016-12-27\",\"2016-12-26\",\"2016-12-23\",\"2016-12-22\",\"2016-12-21\",\"2016-12-20\",\"2016-12-19\",\"2016-12-16\",\"2016-12-15\",\"2016-12-14\",\"2016-12-13\",\"2016-12-12\",\"2016-12-09\",\"2016-12-08\",\"2016-12-07\",\"2016-12-06\",\"2016-12-05\",\"2016-12-02\",\"2016-12-01\",\"2016-11-30\",\"2016-11-29\",\"2016-11-28\",\"2016-11-25\",\"2016-11-24\",\"2016-11-23\",\"2016-11-22\",\"2016-11-21\",\"2016-11-18\",\"2016-11-17\",\"2016-11-16\",\"2016-11-15\",\"2016-11-14\",\"2016-11-11\",\"2016-11-10\",\"2016-11-09\",\"2016-11-08\",\"2016-11-07\",\"2016-11-04\",\"2016-11-03\",\"2016-11-02\",\"2016-11-01\",\"2016-10-31\",\"2016-10-28\",\"2016-10-27\",\"2016-10-26\",\"2016-10-25\",\"2016-10-24\",\"2016-10-21\",\"2016-10-20\",\"2016-10-19\",\"2016-10-18\",\"2016-10-17\",\"2016-10-14\",\"2016-10-13\",\"2016-10-12\",\"2016-10-11\",\"2016-10-10\",\"2016-10-07\",\"2016-10-06\",\"2016-10-05\",\"2016-10-04\",\"2016-10-03\",\"2016-09-30\",\"2016-09-29\",\"2016-09-28\",\"2016-09-27\",\"2016-09-26\",\"2016-09-23\",\"2016-09-22\",\"2016-09-21\",\"2016-09-20\",\"2016-09-19\",\"2016-09-16\",\"2016-09-15\",\"2016-09-14\",\"2016-09-13\",\"2016-09-12\",\"2016-09-09\",\"2016-09-08\",\"2016-09-07\",\"2016-09-06\",\"2016-09-05\",\"2016-09-02\",\"2016-09-01\",\"2016-08-31\",\"2016-08-30\",\"2016-08-29\",\"2016-08-26\",\"2016-08-25\",\"2016-08-24\",\"2016-08-23\",\"2016-08-22\",\"2016-08-19\",\"2016-08-18\",\"2016-08-17\",\"2016-08-16\",\"2016-08-15\",\"2016-08-12\",\"2016-08-11\",\"2016-08-10\",\"2016-08-09\",\"2016-08-08\",\"2016-08-05\",\"2016-08-04\",\"2016-08-03\",\"2016-08-02\",\"2016-08-01\",\"2016-07-29\",\"2016-07-28\",\"2016-07-27\",\"2016-07-26\",\"2016-07-25\",\"2016-07-22\",\"2016-07-21\",\"2016-07-20\",\"2016-07-19\",\"2016-07-18\",\"2016-07-15\",\"2016-07-14\",\"2016-07-13\",\"2016-07-12\",\"2016-07-11\",\"2016-07-08\",\"2016-07-07\",\"2016-07-06\",\"2016-07-05\",\"2016-07-04\",\"2016-07-01\",\"2016-06-30\",\"2016-06-29\",\"2016-06-28\",\"2016-06-27\",\"2016-06-24\",\"2016-06-23\",\"2016-06-22\",\"2016-06-21\",\"2016-06-20\",\"2016-06-17\",\"2016-06-16\",\"2016-06-15\",\"2016-06-14\",\"2016-06-13\",\"2016-06-10\",\"2016-06-09\",\"2016-06-08\",\"2016-06-07\",\"2016-06-06\",\"2016-06-03\",\"2016-06-02\",\"2016-06-01\",\"2016-05-31\",\"2016-05-30\",\"2016-05-27\",\"2016-05-26\",\"2016-05-25\",\"2016-05-24\",\"2016-05-23\",\"2016-05-20\",\"2016-05-19\",\"2016-05-18\",\"2016-05-17\",\"2016-05-16\",\"2016-05-13\",\"2016-05-12\",\"2016-05-11\",\"2016-05-10\",\"2016-05-09\",\"2016-05-06\",\"2016-05-05\",\"2016-05-04\",\"2016-05-03\",\"2016-05-02\",\"2016-04-29\",\"2016-04-28\",\"2016-04-27\",\"2016-04-26\",\"2016-04-25\",\"2016-04-22\",\"2016-04-21\",\"2016-04-20\",\"2016-04-19\",\"2016-04-18\",\"2016-04-17\",\"2016-04-15\",\"2016-04-14\",\"2016-04-13\",\"2016-04-12\",\"2016-04-11\",\"2016-04-10\",\"2016-04-08\",\"2016-04-07\",\"2016-04-06\",\"2016-04-05\",\"2016-04-04\",\"2016-04-03\",\"2016-04-01\",\"2016-03-31\",\"2016-03-30\",\"2016-03-29\",\"2016-03-28\",\"2016-03-27\",\"2016-03-25\",\"2016-03-24\",\"2016-03-23\",\"2016-03-22\",\"2016-03-21\",\"2016-03-20\",\"2016-03-18\",\"2016-03-17\",\"2016-03-16\",\"2016-03-15\",\"2016-03-14\",\"2016-03-13\",\"2016-03-11\",\"2016-03-10\",\"2016-03-09\",\"2016-03-08\",\"2016-03-07\",\"2016-03-06\",\"2016-03-04\",\"2016-03-03\",\"2016-03-02\",\"2016-03-01\",\"2016-02-29\",\"2016-02-28\",\"2016-02-26\",\"2016-02-25\",\"2016-02-24\",\"2016-02-23\",\"2016-02-22\",\"2016-02-21\",\"2016-02-19\",\"2016-02-18\",\"2016-02-17\",\"2016-02-16\",\"2016-02-15\",\"2016-02-14\",\"2016-02-12\",\"2016-02-11\",\"2016-02-10\",\"2016-02-09\",\"2016-02-08\",\"2016-02-07\",\"2016-02-05\",\"2016-02-04\",\"2016-02-03\",\"2016-02-02\",\"2016-02-01\",\"2016-01-31\",\"2016-01-29\",\"2016-01-28\",\"2016-01-27\",\"2016-01-26\",\"2016-01-25\",\"2016-01-24\",\"2016-01-22\",\"2016-01-21\",\"2016-01-20\",\"2016-01-19\",\"2016-01-18\",\"2016-01-17\",\"2016-01-15\",\"2016-01-14\",\"2016-01-13\",\"2016-01-12\",\"2016-01-11\",\"2016-01-10\",\"2016-01-08\",\"2016-01-07\",\"2016-01-06\",\"2016-01-05\",\"2016-01-04\",\"2016-01-03\",\"2016-01-01\"],\"x\":{\"__ndarray__\":\"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\",\"dtype\":\"float64\",\"shape\":[577]},\"y\":{\"__ndarray__\":\"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\",\"dtype\":\"float64\",\"shape\":[577]}}},\"id\":\"11c4a15e-1e2c-46c0-ae3b-76dd674afc9f\",\"type\":\"ColumnDataSource\"},{\"attributes\":{\"active_drag\":null,\"active_inspect\":\"auto\",\"active_scroll\":\"auto\",\"active_tap\":\"auto\",\"logo\":null,\"tools\":[{\"id\":\"b8be812f-68b7-455c-9a33-c9d353d9e99b\",\"type\":\"PanTool\"},{\"id\":\"16f7f72a-021d-4b48-9026-c17b728f666f\",\"type\":\"WheelZoomTool\"},{\"id\":\"0e1ec420-4e67-4957-8d1b-c158dc736e67\",\"type\":\"BoxZoomTool\"},{\"id\":\"0c35f871-e3de-4f94-a86e-8020087a7e15\",\"type\":\"ResetTool\"},{\"id\":\"acf6009a-b6c1-4469-8dda-ee9d84fb2ac9\",\"type\":\"HoverTool\"}]},\"id\":\"8d5cf5a4-1669-45a4-9e29-8e1b582c7a33\",\"type\":\"Toolbar\"},{\"attributes\":{\"line_color\":\"Blue\",\"line_width\":3,\"x\":{\"field\":\"x\"},\"y\":{\"field\":\"y\"}},\"id\":\"50fd0af2-7352-4ac6-b5da-146e7b87553c\",\"type\":\"Line\"},{\"attributes\":{\"data_source\":{\"id\":\"11c4a15e-1e2c-46c0-ae3b-76dd674afc9f\",\"type\":\"ColumnDataSource\"},\"glyph\":{\"id\":\"50fd0af2-7352-4ac6-b5da-146e7b87553c\",\"type\":\"Line\"},\"hover_glyph\":null,\"muted_glyph\":null,\"nonselection_glyph\":{\"id\":\"f265fea0-cdd5-4d57-9c20-4075d92ec19b\",\"type\":\"Line\"},\"selection_glyph\":null,\"view\":{\"id\":\"f0c87deb-4af0-4585-9518-03cfd7f972ee\",\"type\":\"CDSView\"}},\"id\":\"92a7d0a5-bcb7-4320-837b-a1dff37eff19\",\"type\":\"GlyphRenderer\"},{\"attributes\":{\"line_alpha\":0.1,\"line_color\":\"#1f77b4\",\"line_width\":3,\"x\":{\"field\":\"x\"},\"y\":{\"field\":\"y\"}},\"id\":\"f265fea0-cdd5-4d57-9c20-4075d92ec19b\",\"type\":\"Line\"}],\"root_ids\":[\"22ad4b17-5af5-463d-ad8b-994078232db6\"]},\"title\":\"Bokeh Application\",\"version\":\"0.12.14\"}};\n",
       "  var render_items = [{\"docid\":\"7fe0794d-e9e4-414d-829f-8009036af746\",\"elementid\":\"c7b026aa-8e79-4898-b9ab-8165cda3a23b\",\"modelid\":\"22ad4b17-5af5-463d-ad8b-994078232db6\"}];\n",
       "  root.Bokeh.embed.embed_items_notebook(docs_json, render_items);\n",
       "\n",
       "  }\n",
       "  if (root.Bokeh !== undefined) {\n",
       "    embed_document(root);\n",
       "  } else {\n",
       "    var attempts = 0;\n",
       "    var timer = setInterval(function(root) {\n",
       "      if (root.Bokeh !== undefined) {\n",
       "        embed_document(root);\n",
       "        clearInterval(timer);\n",
       "      }\n",
       "      attempts++;\n",
       "      if (attempts > 100) {\n",
       "        console.log(\"Bokeh: ERROR: Unable to run BokehJS code because BokehJS library is missing\")\n",
       "        clearInterval(timer);\n",
       "      }\n",
       "    }, 10, root)\n",
       "  }\n",
       "})(window);"
      ],
      "application/vnd.bokehjs_exec.v0+json": ""
     },
     "metadata": {
      "application/vnd.bokehjs_exec.v0+json": {
       "id": "22ad4b17-5af5-463d-ad8b-994078232db6"
      }
     },
     "output_type": "display_data"
    }
   ],
   "source": [
    "# USD MXN exchange rate\n",
    "url = f'https://www.quandl.com/api/v3/datasets/CURRFX/USDMXN.csv?api_key={config.key}&start_date=2016-01-01'\n",
    "df = pd.read_csv(url, parse_dates=['Date'], index_col='Date')\n",
    "\n",
    "source = ColumnDataSource({'x': df.index, 'y': df['Rate'], 'Date': df.index.format()})\n",
    "tooltips = \"\"\"\n",
    "            <div>\n",
    "                <span style=\"font-size: 12px;\">@Date:</span>\n",
    "                <span style=\"font-size: 12px; font-weight: bold;\">@y</span>\n",
    "            </div>\n",
    "\"\"\"\n",
    "p = figure(width=700,height=300,x_axis_type='datetime',tools=['pan, wheel_zoom,box_zoom,reset'],\n",
    "           logo=None, toolbar_location=None, toolbar_sticky=False)\n",
    "#p.title.text = 'Mexican Pesos (MXN) per U.S. Dollar (USD)'\n",
    "p.title.text_font_size='14pt'\n",
    "#p.yaxis.axis_label = 'MXN/USD'\n",
    "p.sizing_mode = 'scale_width'\n",
    "p.line('x', 'y', source = source, line_width=3, color='Blue')\n",
    "p.xgrid.grid_line_color = None\n",
    "p.outline_line_color = 'white'\n",
    "p.axis.axis_line_color = 'white'\n",
    "p.add_tools(HoverTool(tooltips=tooltips, show_arrow=False, point_policy='snap_to_data'))\n",
    "p.toolbar.active_drag = None\n",
    "script, div = components(p)\n",
    "\n",
    "with open('C:/Working/bdecon.github.io/plots/usdmxn.html', 'w') as text_file:\n",
    "    text_file.write('{} {}'.format(script, div))\n",
    "    \n",
    "show(p)"
   ]
  },
  {
   "cell_type": "code",
   "execution_count": null,
   "metadata": {},
   "outputs": [],
   "source": []
  }
 ],
 "metadata": {
  "kernelspec": {
   "display_name": "Python 3",
   "language": "python",
   "name": "python3"
  },
  "language_info": {
   "codemirror_mode": {
    "name": "ipython",
    "version": 3
   },
   "file_extension": ".py",
   "mimetype": "text/x-python",
   "name": "python",
   "nbconvert_exporter": "python",
   "pygments_lexer": "ipython3",
   "version": "3.6.4"
  }
 },
 "nbformat": 4,
 "nbformat_minor": 2
}
