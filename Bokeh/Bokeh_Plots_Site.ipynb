{
 "cells": [
  {
   "cell_type": "markdown",
   "metadata": {},
   "source": [
    "### Bokeh_Plots_Site.ipynb\n",
    "\n",
    "Brian Dew, @bd_econ, March 17, 2018\n",
    "\n",
    "----\n",
    "\n",
    "Description: Retrieve GDP data and make a bar plot showing GDP growth."
   ]
  },
  {
   "cell_type": "code",
   "execution_count": 16,
   "metadata": {
    "ExecuteTime": {
     "end_time": "2018-03-31T16:48:46.387450Z",
     "start_time": "2018-03-31T16:48:46.371823Z"
    },
    "code_folding": []
   },
   "outputs": [
    {
     "data": {
      "text/html": [
       "\n",
       "    <div class=\"bk-root\">\n",
       "        <a href=\"https://bokeh.pydata.org\" target=\"_blank\" class=\"bk-logo bk-logo-small bk-logo-notebook\"></a>\n",
       "        <span id=\"20d55a3e-e5e6-4ddc-8f56-23ffc5b07605\">Loading BokehJS ...</span>\n",
       "    </div>"
      ]
     },
     "metadata": {},
     "output_type": "display_data"
    },
    {
     "data": {
      "application/javascript": [
       "\n",
       "(function(root) {\n",
       "  function now() {\n",
       "    return new Date();\n",
       "  }\n",
       "\n",
       "  var force = true;\n",
       "\n",
       "  if (typeof (root._bokeh_onload_callbacks) === \"undefined\" || force === true) {\n",
       "    root._bokeh_onload_callbacks = [];\n",
       "    root._bokeh_is_loading = undefined;\n",
       "  }\n",
       "\n",
       "  var JS_MIME_TYPE = 'application/javascript';\n",
       "  var HTML_MIME_TYPE = 'text/html';\n",
       "  var EXEC_MIME_TYPE = 'application/vnd.bokehjs_exec.v0+json';\n",
       "  var CLASS_NAME = 'output_bokeh rendered_html';\n",
       "\n",
       "  /**\n",
       "   * Render data to the DOM node\n",
       "   */\n",
       "  function render(props, node) {\n",
       "    var script = document.createElement(\"script\");\n",
       "    node.appendChild(script);\n",
       "  }\n",
       "\n",
       "  /**\n",
       "   * Handle when an output is cleared or removed\n",
       "   */\n",
       "  function handleClearOutput(event, handle) {\n",
       "    var cell = handle.cell;\n",
       "\n",
       "    var id = cell.output_area._bokeh_element_id;\n",
       "    var server_id = cell.output_area._bokeh_server_id;\n",
       "    // Clean up Bokeh references\n",
       "    if (id !== undefined) {\n",
       "      Bokeh.index[id].model.document.clear();\n",
       "      delete Bokeh.index[id];\n",
       "    }\n",
       "\n",
       "    if (server_id !== undefined) {\n",
       "      // Clean up Bokeh references\n",
       "      var cmd = \"from bokeh.io.state import curstate; print(curstate().uuid_to_server['\" + server_id + \"'].get_sessions()[0].document.roots[0]._id)\";\n",
       "      cell.notebook.kernel.execute(cmd, {\n",
       "        iopub: {\n",
       "          output: function(msg) {\n",
       "            var element_id = msg.content.text.trim();\n",
       "            Bokeh.index[element_id].model.document.clear();\n",
       "            delete Bokeh.index[element_id];\n",
       "          }\n",
       "        }\n",
       "      });\n",
       "      // Destroy server and session\n",
       "      var cmd = \"import bokeh.io.notebook as ion; ion.destroy_server('\" + server_id + \"')\";\n",
       "      cell.notebook.kernel.execute(cmd);\n",
       "    }\n",
       "  }\n",
       "\n",
       "  /**\n",
       "   * Handle when a new output is added\n",
       "   */\n",
       "  function handleAddOutput(event, handle) {\n",
       "    var output_area = handle.output_area;\n",
       "    var output = handle.output;\n",
       "\n",
       "    // limit handleAddOutput to display_data with EXEC_MIME_TYPE content only\n",
       "    if ((output.output_type != \"display_data\") || (!output.data.hasOwnProperty(EXEC_MIME_TYPE))) {\n",
       "      return\n",
       "    }\n",
       "\n",
       "    var toinsert = output_area.element.find(\".\" + CLASS_NAME.split(' ')[0]);\n",
       "\n",
       "    if (output.metadata[EXEC_MIME_TYPE][\"id\"] !== undefined) {\n",
       "      toinsert[0].firstChild.textContent = output.data[JS_MIME_TYPE];\n",
       "      // store reference to embed id on output_area\n",
       "      output_area._bokeh_element_id = output.metadata[EXEC_MIME_TYPE][\"id\"];\n",
       "    }\n",
       "    if (output.metadata[EXEC_MIME_TYPE][\"server_id\"] !== undefined) {\n",
       "      var bk_div = document.createElement(\"div\");\n",
       "      bk_div.innerHTML = output.data[HTML_MIME_TYPE];\n",
       "      var script_attrs = bk_div.children[0].attributes;\n",
       "      for (var i = 0; i < script_attrs.length; i++) {\n",
       "        toinsert[0].firstChild.setAttribute(script_attrs[i].name, script_attrs[i].value);\n",
       "      }\n",
       "      // store reference to server id on output_area\n",
       "      output_area._bokeh_server_id = output.metadata[EXEC_MIME_TYPE][\"server_id\"];\n",
       "    }\n",
       "  }\n",
       "\n",
       "  function register_renderer(events, OutputArea) {\n",
       "\n",
       "    function append_mime(data, metadata, element) {\n",
       "      // create a DOM node to render to\n",
       "      var toinsert = this.create_output_subarea(\n",
       "        metadata,\n",
       "        CLASS_NAME,\n",
       "        EXEC_MIME_TYPE\n",
       "      );\n",
       "      this.keyboard_manager.register_events(toinsert);\n",
       "      // Render to node\n",
       "      var props = {data: data, metadata: metadata[EXEC_MIME_TYPE]};\n",
       "      render(props, toinsert[0]);\n",
       "      element.append(toinsert);\n",
       "      return toinsert\n",
       "    }\n",
       "\n",
       "    /* Handle when an output is cleared or removed */\n",
       "    events.on('clear_output.CodeCell', handleClearOutput);\n",
       "    events.on('delete.Cell', handleClearOutput);\n",
       "\n",
       "    /* Handle when a new output is added */\n",
       "    events.on('output_added.OutputArea', handleAddOutput);\n",
       "\n",
       "    /**\n",
       "     * Register the mime type and append_mime function with output_area\n",
       "     */\n",
       "    OutputArea.prototype.register_mime_type(EXEC_MIME_TYPE, append_mime, {\n",
       "      /* Is output safe? */\n",
       "      safe: true,\n",
       "      /* Index of renderer in `output_area.display_order` */\n",
       "      index: 0\n",
       "    });\n",
       "  }\n",
       "\n",
       "  // register the mime type if in Jupyter Notebook environment and previously unregistered\n",
       "  if (root.Jupyter !== undefined) {\n",
       "    var events = require('base/js/events');\n",
       "    var OutputArea = require('notebook/js/outputarea').OutputArea;\n",
       "\n",
       "    if (OutputArea.prototype.mime_types().indexOf(EXEC_MIME_TYPE) == -1) {\n",
       "      register_renderer(events, OutputArea);\n",
       "    }\n",
       "  }\n",
       "\n",
       "  \n",
       "  if (typeof (root._bokeh_timeout) === \"undefined\" || force === true) {\n",
       "    root._bokeh_timeout = Date.now() + 5000;\n",
       "    root._bokeh_failed_load = false;\n",
       "  }\n",
       "\n",
       "  var NB_LOAD_WARNING = {'data': {'text/html':\n",
       "     \"<div style='background-color: #fdd'>\\n\"+\n",
       "     \"<p>\\n\"+\n",
       "     \"BokehJS does not appear to have successfully loaded. If loading BokehJS from CDN, this \\n\"+\n",
       "     \"may be due to a slow or bad network connection. Possible fixes:\\n\"+\n",
       "     \"</p>\\n\"+\n",
       "     \"<ul>\\n\"+\n",
       "     \"<li>re-rerun `output_notebook()` to attempt to load from CDN again, or</li>\\n\"+\n",
       "     \"<li>use INLINE resources instead, as so:</li>\\n\"+\n",
       "     \"</ul>\\n\"+\n",
       "     \"<code>\\n\"+\n",
       "     \"from bokeh.resources import INLINE\\n\"+\n",
       "     \"output_notebook(resources=INLINE)\\n\"+\n",
       "     \"</code>\\n\"+\n",
       "     \"</div>\"}};\n",
       "\n",
       "  function display_loaded() {\n",
       "    var el = document.getElementById(\"20d55a3e-e5e6-4ddc-8f56-23ffc5b07605\");\n",
       "    if (el != null) {\n",
       "      el.textContent = \"BokehJS is loading...\";\n",
       "    }\n",
       "    if (root.Bokeh !== undefined) {\n",
       "      if (el != null) {\n",
       "        el.textContent = \"BokehJS \" + root.Bokeh.version + \" successfully loaded.\";\n",
       "      }\n",
       "    } else if (Date.now() < root._bokeh_timeout) {\n",
       "      setTimeout(display_loaded, 100)\n",
       "    }\n",
       "  }\n",
       "\n",
       "\n",
       "  function run_callbacks() {\n",
       "    try {\n",
       "      root._bokeh_onload_callbacks.forEach(function(callback) { callback() });\n",
       "    }\n",
       "    finally {\n",
       "      delete root._bokeh_onload_callbacks\n",
       "    }\n",
       "    console.info(\"Bokeh: all callbacks have finished\");\n",
       "  }\n",
       "\n",
       "  function load_libs(js_urls, callback) {\n",
       "    root._bokeh_onload_callbacks.push(callback);\n",
       "    if (root._bokeh_is_loading > 0) {\n",
       "      console.log(\"Bokeh: BokehJS is being loaded, scheduling callback at\", now());\n",
       "      return null;\n",
       "    }\n",
       "    if (js_urls == null || js_urls.length === 0) {\n",
       "      run_callbacks();\n",
       "      return null;\n",
       "    }\n",
       "    console.log(\"Bokeh: BokehJS not loaded, scheduling load and callback at\", now());\n",
       "    root._bokeh_is_loading = js_urls.length;\n",
       "    for (var i = 0; i < js_urls.length; i++) {\n",
       "      var url = js_urls[i];\n",
       "      var s = document.createElement('script');\n",
       "      s.src = url;\n",
       "      s.async = false;\n",
       "      s.onreadystatechange = s.onload = function() {\n",
       "        root._bokeh_is_loading--;\n",
       "        if (root._bokeh_is_loading === 0) {\n",
       "          console.log(\"Bokeh: all BokehJS libraries loaded\");\n",
       "          run_callbacks()\n",
       "        }\n",
       "      };\n",
       "      s.onerror = function() {\n",
       "        console.warn(\"failed to load library \" + url);\n",
       "      };\n",
       "      console.log(\"Bokeh: injecting script tag for BokehJS library: \", url);\n",
       "      document.getElementsByTagName(\"head\")[0].appendChild(s);\n",
       "    }\n",
       "  };var element = document.getElementById(\"20d55a3e-e5e6-4ddc-8f56-23ffc5b07605\");\n",
       "  if (element == null) {\n",
       "    console.log(\"Bokeh: ERROR: autoload.js configured with elementid '20d55a3e-e5e6-4ddc-8f56-23ffc5b07605' but no matching script tag was found. \")\n",
       "    return false;\n",
       "  }\n",
       "\n",
       "  var js_urls = [\"https://cdn.pydata.org/bokeh/release/bokeh-0.12.14.min.js\", \"https://cdn.pydata.org/bokeh/release/bokeh-widgets-0.12.14.min.js\", \"https://cdn.pydata.org/bokeh/release/bokeh-tables-0.12.14.min.js\", \"https://cdn.pydata.org/bokeh/release/bokeh-gl-0.12.14.min.js\"];\n",
       "\n",
       "  var inline_js = [\n",
       "    function(Bokeh) {\n",
       "      Bokeh.set_log_level(\"info\");\n",
       "    },\n",
       "    \n",
       "    function(Bokeh) {\n",
       "      \n",
       "    },\n",
       "    function(Bokeh) {\n",
       "      console.log(\"Bokeh: injecting CSS: https://cdn.pydata.org/bokeh/release/bokeh-0.12.14.min.css\");\n",
       "      Bokeh.embed.inject_css(\"https://cdn.pydata.org/bokeh/release/bokeh-0.12.14.min.css\");\n",
       "      console.log(\"Bokeh: injecting CSS: https://cdn.pydata.org/bokeh/release/bokeh-widgets-0.12.14.min.css\");\n",
       "      Bokeh.embed.inject_css(\"https://cdn.pydata.org/bokeh/release/bokeh-widgets-0.12.14.min.css\");\n",
       "      console.log(\"Bokeh: injecting CSS: https://cdn.pydata.org/bokeh/release/bokeh-tables-0.12.14.min.css\");\n",
       "      Bokeh.embed.inject_css(\"https://cdn.pydata.org/bokeh/release/bokeh-tables-0.12.14.min.css\");\n",
       "    }\n",
       "  ];\n",
       "\n",
       "  function run_inline_js() {\n",
       "    \n",
       "    if ((root.Bokeh !== undefined) || (force === true)) {\n",
       "      for (var i = 0; i < inline_js.length; i++) {\n",
       "        inline_js[i].call(root, root.Bokeh);\n",
       "      }if (force === true) {\n",
       "        display_loaded();\n",
       "      }} else if (Date.now() < root._bokeh_timeout) {\n",
       "      setTimeout(run_inline_js, 100);\n",
       "    } else if (!root._bokeh_failed_load) {\n",
       "      console.log(\"Bokeh: BokehJS failed to load within specified timeout.\");\n",
       "      root._bokeh_failed_load = true;\n",
       "    } else if (force !== true) {\n",
       "      var cell = $(document.getElementById(\"20d55a3e-e5e6-4ddc-8f56-23ffc5b07605\")).parents('.cell').data().cell;\n",
       "      cell.output_area.append_execute_result(NB_LOAD_WARNING)\n",
       "    }\n",
       "\n",
       "  }\n",
       "\n",
       "  if (root._bokeh_is_loading === 0) {\n",
       "    console.log(\"Bokeh: BokehJS loaded, going straight to plotting\");\n",
       "    run_inline_js();\n",
       "  } else {\n",
       "    load_libs(js_urls, function() {\n",
       "      console.log(\"Bokeh: BokehJS plotting callback run at\", now());\n",
       "      run_inline_js();\n",
       "    });\n",
       "  }\n",
       "}(window));"
      ],
      "application/vnd.bokehjs_load.v0+json": "\n(function(root) {\n  function now() {\n    return new Date();\n  }\n\n  var force = true;\n\n  if (typeof (root._bokeh_onload_callbacks) === \"undefined\" || force === true) {\n    root._bokeh_onload_callbacks = [];\n    root._bokeh_is_loading = undefined;\n  }\n\n  \n\n  \n  if (typeof (root._bokeh_timeout) === \"undefined\" || force === true) {\n    root._bokeh_timeout = Date.now() + 5000;\n    root._bokeh_failed_load = false;\n  }\n\n  var NB_LOAD_WARNING = {'data': {'text/html':\n     \"<div style='background-color: #fdd'>\\n\"+\n     \"<p>\\n\"+\n     \"BokehJS does not appear to have successfully loaded. If loading BokehJS from CDN, this \\n\"+\n     \"may be due to a slow or bad network connection. Possible fixes:\\n\"+\n     \"</p>\\n\"+\n     \"<ul>\\n\"+\n     \"<li>re-rerun `output_notebook()` to attempt to load from CDN again, or</li>\\n\"+\n     \"<li>use INLINE resources instead, as so:</li>\\n\"+\n     \"</ul>\\n\"+\n     \"<code>\\n\"+\n     \"from bokeh.resources import INLINE\\n\"+\n     \"output_notebook(resources=INLINE)\\n\"+\n     \"</code>\\n\"+\n     \"</div>\"}};\n\n  function display_loaded() {\n    var el = document.getElementById(\"20d55a3e-e5e6-4ddc-8f56-23ffc5b07605\");\n    if (el != null) {\n      el.textContent = \"BokehJS is loading...\";\n    }\n    if (root.Bokeh !== undefined) {\n      if (el != null) {\n        el.textContent = \"BokehJS \" + root.Bokeh.version + \" successfully loaded.\";\n      }\n    } else if (Date.now() < root._bokeh_timeout) {\n      setTimeout(display_loaded, 100)\n    }\n  }\n\n\n  function run_callbacks() {\n    try {\n      root._bokeh_onload_callbacks.forEach(function(callback) { callback() });\n    }\n    finally {\n      delete root._bokeh_onload_callbacks\n    }\n    console.info(\"Bokeh: all callbacks have finished\");\n  }\n\n  function load_libs(js_urls, callback) {\n    root._bokeh_onload_callbacks.push(callback);\n    if (root._bokeh_is_loading > 0) {\n      console.log(\"Bokeh: BokehJS is being loaded, scheduling callback at\", now());\n      return null;\n    }\n    if (js_urls == null || js_urls.length === 0) {\n      run_callbacks();\n      return null;\n    }\n    console.log(\"Bokeh: BokehJS not loaded, scheduling load and callback at\", now());\n    root._bokeh_is_loading = js_urls.length;\n    for (var i = 0; i < js_urls.length; i++) {\n      var url = js_urls[i];\n      var s = document.createElement('script');\n      s.src = url;\n      s.async = false;\n      s.onreadystatechange = s.onload = function() {\n        root._bokeh_is_loading--;\n        if (root._bokeh_is_loading === 0) {\n          console.log(\"Bokeh: all BokehJS libraries loaded\");\n          run_callbacks()\n        }\n      };\n      s.onerror = function() {\n        console.warn(\"failed to load library \" + url);\n      };\n      console.log(\"Bokeh: injecting script tag for BokehJS library: \", url);\n      document.getElementsByTagName(\"head\")[0].appendChild(s);\n    }\n  };var element = document.getElementById(\"20d55a3e-e5e6-4ddc-8f56-23ffc5b07605\");\n  if (element == null) {\n    console.log(\"Bokeh: ERROR: autoload.js configured with elementid '20d55a3e-e5e6-4ddc-8f56-23ffc5b07605' but no matching script tag was found. \")\n    return false;\n  }\n\n  var js_urls = [\"https://cdn.pydata.org/bokeh/release/bokeh-0.12.14.min.js\", \"https://cdn.pydata.org/bokeh/release/bokeh-widgets-0.12.14.min.js\", \"https://cdn.pydata.org/bokeh/release/bokeh-tables-0.12.14.min.js\", \"https://cdn.pydata.org/bokeh/release/bokeh-gl-0.12.14.min.js\"];\n\n  var inline_js = [\n    function(Bokeh) {\n      Bokeh.set_log_level(\"info\");\n    },\n    \n    function(Bokeh) {\n      \n    },\n    function(Bokeh) {\n      console.log(\"Bokeh: injecting CSS: https://cdn.pydata.org/bokeh/release/bokeh-0.12.14.min.css\");\n      Bokeh.embed.inject_css(\"https://cdn.pydata.org/bokeh/release/bokeh-0.12.14.min.css\");\n      console.log(\"Bokeh: injecting CSS: https://cdn.pydata.org/bokeh/release/bokeh-widgets-0.12.14.min.css\");\n      Bokeh.embed.inject_css(\"https://cdn.pydata.org/bokeh/release/bokeh-widgets-0.12.14.min.css\");\n      console.log(\"Bokeh: injecting CSS: https://cdn.pydata.org/bokeh/release/bokeh-tables-0.12.14.min.css\");\n      Bokeh.embed.inject_css(\"https://cdn.pydata.org/bokeh/release/bokeh-tables-0.12.14.min.css\");\n    }\n  ];\n\n  function run_inline_js() {\n    \n    if ((root.Bokeh !== undefined) || (force === true)) {\n      for (var i = 0; i < inline_js.length; i++) {\n        inline_js[i].call(root, root.Bokeh);\n      }if (force === true) {\n        display_loaded();\n      }} else if (Date.now() < root._bokeh_timeout) {\n      setTimeout(run_inline_js, 100);\n    } else if (!root._bokeh_failed_load) {\n      console.log(\"Bokeh: BokehJS failed to load within specified timeout.\");\n      root._bokeh_failed_load = true;\n    } else if (force !== true) {\n      var cell = $(document.getElementById(\"20d55a3e-e5e6-4ddc-8f56-23ffc5b07605\")).parents('.cell').data().cell;\n      cell.output_area.append_execute_result(NB_LOAD_WARNING)\n    }\n\n  }\n\n  if (root._bokeh_is_loading === 0) {\n    console.log(\"Bokeh: BokehJS loaded, going straight to plotting\");\n    run_inline_js();\n  } else {\n    load_libs(js_urls, function() {\n      console.log(\"Bokeh: BokehJS plotting callback run at\", now());\n      run_inline_js();\n    });\n  }\n}(window));"
     },
     "metadata": {},
     "output_type": "display_data"
    }
   ],
   "source": [
    "#Import preliminaries\n",
    "import requests\n",
    "import pandas as pd\n",
    "from datetime import datetime as dt\n",
    "import time\n",
    "\n",
    "# Local file with API key\n",
    "import config\n",
    "api_key = config.bea_key\n",
    "\n",
    "# Bokeh settings\n",
    "from bokeh.plotting import figure, show\n",
    "import bokeh.models\n",
    "import bokeh.plotting\n",
    "from bokeh.models import ColumnDataSource, Span, Label, HoverTool, Range1d, BoxAnnotation\n",
    "from bokeh.embed import components\n",
    "from bokeh.io import output_notebook\n",
    "output_notebook()"
   ]
  },
  {
   "cell_type": "markdown",
   "metadata": {},
   "source": [
    "# US GDP"
   ]
  },
  {
   "cell_type": "code",
   "execution_count": 2,
   "metadata": {
    "ExecuteTime": {
     "end_time": "2018-03-30T00:59:33.587481Z",
     "start_time": "2018-03-30T00:59:33.289282Z"
    },
    "code_folding": [
     0
    ]
   },
   "outputs": [],
   "source": [
    "# Individual parameters of the request\n",
    "uri = f'https://www.bea.gov/api/data/?&UserID={api_key}'\n",
    "mdt = '&method=GetData&DataSetName=NIPA&TableName=T10101'\n",
    "yr = ','.join(map(str, range(2010, 2019)))\n",
    "\n",
    "# Construct URL from parameters above\n",
    "url = f'{uri}{mdt}&Frequency=Q&Year={yr}&ResultFormat=json'\n",
    "\n",
    "# Request parameter information from BEA API\n",
    "r = requests.get(url).json()['BEAAPI']['Results']\n",
    "\n",
    "# GDP data as a pandas dataframe\n",
    "df = pd.DataFrame(\n",
    "    [(pd.to_datetime(i['TimePeriod']), float(i['DataValue'])) \n",
    "     for i in r['Data'] if i['SeriesCode'] == 'A191RL'], \n",
    "    columns=['Date', 'Value']).set_index('Date')\n",
    "\n",
    "# String dates\n",
    "df['strdate'] = [f'{i.year} Q{i.quarter}' for i in df.index]"
   ]
  },
  {
   "cell_type": "code",
   "execution_count": 3,
   "metadata": {
    "ExecuteTime": {
     "end_time": "2018-03-30T00:59:37.733912Z",
     "start_time": "2018-03-30T00:59:37.597892Z"
    },
    "code_folding": []
   },
   "outputs": [
    {
     "data": {
      "text/html": [
       "\n",
       "<div class=\"bk-root\">\n",
       "    <div class=\"bk-plotdiv\" id=\"3d87abf9-0a7b-4cfb-afe6-d4fb212c0afb\"></div>\n",
       "</div>"
      ]
     },
     "metadata": {},
     "output_type": "display_data"
    },
    {
     "data": {
      "application/javascript": [
       "(function(root) {\n",
       "  function embed_document(root) {\n",
       "    \n",
       "  var docs_json = {\"feaadd66-c9ba-493c-a56f-f89a154413b0\":{\"roots\":{\"references\":[{\"attributes\":{\"num_minor_ticks\":5,\"tickers\":[{\"id\":\"9f495f61-8690-4932-9225-5415516bb5d1\",\"type\":\"AdaptiveTicker\"},{\"id\":\"cab9d56b-051c-40a2-b99d-337e53aa131e\",\"type\":\"AdaptiveTicker\"},{\"id\":\"80d4c131-e739-4db0-ac38-ef46bae6fbf8\",\"type\":\"AdaptiveTicker\"},{\"id\":\"5d0f06ca-90db-4aba-9a61-c9aab29ab893\",\"type\":\"DaysTicker\"},{\"id\":\"e7055d66-6bdc-426f-b24f-366ae68c8e58\",\"type\":\"DaysTicker\"},{\"id\":\"f492b177-fe0e-4311-bb82-16174fa02791\",\"type\":\"DaysTicker\"},{\"id\":\"cb2cd987-9f84-449f-949f-a153afc88feb\",\"type\":\"DaysTicker\"},{\"id\":\"71610782-bb62-46d6-86da-7305f5d354af\",\"type\":\"MonthsTicker\"},{\"id\":\"941a8efb-58d0-42c5-b071-eb30418add2a\",\"type\":\"MonthsTicker\"},{\"id\":\"195fd3b2-a3f4-438a-86df-def1537a5f61\",\"type\":\"MonthsTicker\"},{\"id\":\"0ef18f58-abc9-46da-989e-5667005d74ef\",\"type\":\"MonthsTicker\"},{\"id\":\"66357467-c3e6-4529-93aa-7dd521aafd9c\",\"type\":\"YearsTicker\"}]},\"id\":\"1975b336-a861-4b3e-834d-03b7a8d749a5\",\"type\":\"DatetimeTicker\"},{\"attributes\":{\"callback\":null,\"show_arrow\":false,\"tooltips\":\"\\n    <div>\\n        <span style=\\\"font-size: 12px;\\\">@Date:</span>\\n        <span style=\\\"font-size: 12px; font-weight: bold;\\\">@y{1.1}%</span>\\n    </div>\\n\"},\"id\":\"5ea3f0ae-f8fc-4072-ac0f-51d0fdc7e78e\",\"type\":\"HoverTool\"},{\"attributes\":{\"grid_line_color\":{\"value\":null},\"plot\":{\"id\":\"17b00717-b410-4982-a47b-29b21032219b\",\"subtype\":\"Figure\",\"type\":\"Plot\"},\"ticker\":{\"id\":\"1975b336-a861-4b3e-834d-03b7a8d749a5\",\"type\":\"DatetimeTicker\"}},\"id\":\"4bf4f9db-66f6-4787-8d8e-16b5365231bf\",\"type\":\"Grid\"},{\"attributes\":{\"axis_line_color\":{\"value\":\"white\"},\"formatter\":{\"id\":\"90c78d2c-8305-4649-b7a2-d895cdd78777\",\"type\":\"BasicTickFormatter\"},\"plot\":{\"id\":\"17b00717-b410-4982-a47b-29b21032219b\",\"subtype\":\"Figure\",\"type\":\"Plot\"},\"ticker\":{\"id\":\"ee2b18e5-c113-4456-8274-0ecb34e2835d\",\"type\":\"BasicTicker\"}},\"id\":\"03f0136e-8d88-4c8c-bfc0-03e40618fd37\",\"type\":\"LinearAxis\"},{\"attributes\":{},\"id\":\"ee2b18e5-c113-4456-8274-0ecb34e2835d\",\"type\":\"BasicTicker\"},{\"attributes\":{\"dimension\":1,\"plot\":{\"id\":\"17b00717-b410-4982-a47b-29b21032219b\",\"subtype\":\"Figure\",\"type\":\"Plot\"},\"ticker\":{\"id\":\"ee2b18e5-c113-4456-8274-0ecb34e2835d\",\"type\":\"BasicTicker\"}},\"id\":\"d3d75073-eae2-4b53-815a-423fdd8b18a1\",\"type\":\"Grid\"},{\"attributes\":{},\"id\":\"90c78d2c-8305-4649-b7a2-d895cdd78777\",\"type\":\"BasicTickFormatter\"},{\"attributes\":{\"fill_color\":{\"value\":\"Red\"},\"line_color\":{\"value\":\"Red\"},\"top\":{\"field\":\"y\"},\"width\":{\"value\":6112800000.000001},\"x\":{\"field\":\"x\"}},\"id\":\"a64f03e7-a9e9-435d-a242-58dfbbd1f90f\",\"type\":\"VBar\"},{\"attributes\":{},\"id\":\"4bc7dac0-1e35-41e4-9fb1-c154588da8a1\",\"type\":\"DatetimeTickFormatter\"},{\"attributes\":{\"data_source\":{\"id\":\"3bae6e91-8bae-408c-9539-1efef4be0d33\",\"type\":\"ColumnDataSource\"},\"glyph\":{\"id\":\"a64f03e7-a9e9-435d-a242-58dfbbd1f90f\",\"type\":\"VBar\"},\"hover_glyph\":null,\"level\":\"overlay\",\"muted_glyph\":null,\"nonselection_glyph\":{\"id\":\"9620180a-8769-4231-917c-46e1fedf87b2\",\"type\":\"VBar\"},\"selection_glyph\":null,\"view\":{\"id\":\"540a8d5d-b375-4234-88a2-71241cadb713\",\"type\":\"CDSView\"}},\"id\":\"93172cec-8bac-4979-9dca-8f52b9ad75f0\",\"type\":\"GlyphRenderer\"},{\"attributes\":{},\"id\":\"b28f7028-ee04-4679-8ff6-51f11098a374\",\"type\":\"PanTool\"},{\"attributes\":{\"fill_alpha\":{\"value\":0.1},\"fill_color\":{\"value\":\"#1f77b4\"},\"line_alpha\":{\"value\":0.1},\"line_color\":{\"value\":\"#1f77b4\"},\"top\":{\"field\":\"y\"},\"width\":{\"value\":6112800000.000001},\"x\":{\"field\":\"x\"}},\"id\":\"9620180a-8769-4231-917c-46e1fedf87b2\",\"type\":\"VBar\"},{\"attributes\":{},\"id\":\"3ea34c91-dfee-4403-b248-4068e87e7db6\",\"type\":\"WheelZoomTool\"},{\"attributes\":{},\"id\":\"f25e5683-e728-4086-b0b1-a7a55dad7d81\",\"type\":\"LinearScale\"},{\"attributes\":{\"overlay\":{\"id\":\"46411f8e-0ba7-48b5-b0a5-60a567ca8983\",\"type\":\"BoxAnnotation\"}},\"id\":\"e2232cdb-e12a-4f63-bdbf-f66f63848598\",\"type\":\"BoxZoomTool\"},{\"attributes\":{},\"id\":\"2ddf4b15-2243-44d7-bf35-e7c62750d098\",\"type\":\"ResetTool\"},{\"attributes\":{\"bottom_units\":\"screen\",\"fill_alpha\":{\"value\":0.5},\"fill_color\":{\"value\":\"lightgrey\"},\"left_units\":\"screen\",\"level\":\"overlay\",\"line_alpha\":{\"value\":1.0},\"line_color\":{\"value\":\"black\"},\"line_dash\":[4,4],\"line_width\":{\"value\":2},\"plot\":null,\"render_mode\":\"css\",\"right_units\":\"screen\",\"top_units\":\"screen\"},\"id\":\"46411f8e-0ba7-48b5-b0a5-60a567ca8983\",\"type\":\"BoxAnnotation\"},{\"attributes\":{\"callback\":null,\"end\":6.2,\"start\":-2.6},\"id\":\"d24f112a-dd2e-49ce-b155-885d87462c5b\",\"type\":\"Range1d\"},{\"attributes\":{\"days\":[1,4,7,10,13,16,19,22,25,28]},\"id\":\"e7055d66-6bdc-426f-b24f-366ae68c8e58\",\"type\":\"DaysTicker\"},{\"attributes\":{\"below\":[{\"id\":\"d8eb1911-91dc-4e72-bd5b-7f58dddf23c9\",\"type\":\"DatetimeAxis\"}],\"left\":[{\"id\":\"03f0136e-8d88-4c8c-bfc0-03e40618fd37\",\"type\":\"LinearAxis\"}],\"outline_line_color\":{\"value\":\"white\"},\"plot_height\":300,\"plot_width\":700,\"renderers\":[{\"id\":\"d8eb1911-91dc-4e72-bd5b-7f58dddf23c9\",\"type\":\"DatetimeAxis\"},{\"id\":\"4bf4f9db-66f6-4787-8d8e-16b5365231bf\",\"type\":\"Grid\"},{\"id\":\"03f0136e-8d88-4c8c-bfc0-03e40618fd37\",\"type\":\"LinearAxis\"},{\"id\":\"d3d75073-eae2-4b53-815a-423fdd8b18a1\",\"type\":\"Grid\"},{\"id\":\"46411f8e-0ba7-48b5-b0a5-60a567ca8983\",\"type\":\"BoxAnnotation\"},{\"id\":\"93172cec-8bac-4979-9dca-8f52b9ad75f0\",\"type\":\"GlyphRenderer\"},{\"id\":\"33ba52a0-cf88-455c-8a9c-6f1461742d6f\",\"type\":\"Span\"}],\"sizing_mode\":\"scale_width\",\"title\":{\"id\":\"3bcd6646-0548-4ef5-bfc3-3dff384a7beb\",\"type\":\"Title\"},\"toolbar\":{\"id\":\"40eddedf-9256-4521-92c9-ddc7825c6cdf\",\"type\":\"Toolbar\"},\"toolbar_location\":null,\"x_range\":{\"id\":\"3bc7b175-0762-438b-b47e-1b4999479542\",\"type\":\"DataRange1d\"},\"x_scale\":{\"id\":\"5c890675-9776-49e6-950a-f033d9200c8a\",\"type\":\"LinearScale\"},\"y_range\":{\"id\":\"d24f112a-dd2e-49ce-b155-885d87462c5b\",\"type\":\"Range1d\"},\"y_scale\":{\"id\":\"f25e5683-e728-4086-b0b1-a7a55dad7d81\",\"type\":\"LinearScale\"}},\"id\":\"17b00717-b410-4982-a47b-29b21032219b\",\"subtype\":\"Figure\",\"type\":\"Plot\"},{\"attributes\":{\"base\":60,\"mantissas\":[1,2,5,10,15,20,30],\"max_interval\":1800000.0,\"min_interval\":1000.0,\"num_minor_ticks\":0},\"id\":\"cab9d56b-051c-40a2-b99d-337e53aa131e\",\"type\":\"AdaptiveTicker\"},{\"attributes\":{\"callback\":null,\"column_names\":[\"x\",\"y\",\"Date\"],\"data\":{\"Date\":[\"2010 Q1\",\"2010 Q2\",\"2010 Q3\",\"2010 Q4\",\"2011 Q1\",\"2011 Q2\",\"2011 Q3\",\"2011 Q4\",\"2012 Q1\",\"2012 Q2\",\"2012 Q3\",\"2012 Q4\",\"2013 Q1\",\"2013 Q2\",\"2013 Q3\",\"2013 Q4\",\"2014 Q1\",\"2014 Q2\",\"2014 Q3\",\"2014 Q4\",\"2015 Q1\",\"2015 Q2\",\"2015 Q3\",\"2015 Q4\",\"2016 Q1\",\"2016 Q2\",\"2016 Q3\",\"2016 Q4\",\"2017 Q1\",\"2017 Q2\",\"2017 Q3\",\"2017 Q4\"],\"x\":{\"__ndarray__\":\"AACA53JeckIAAACtantyQgAAQNi0mHJCAABAaVG2ckIAAED67dNyQgAAwL/l8HJCAAAA6y8Oc0IAAAB8zCtzQgAAAA1pSXNCAABAOLNmc0IAAIBj/YNzQgAAgPSZoXNCAACAhTa/c0IAAABLLtxzQgAAQHZ4+XNCAABABxUXdEIAAECYsTR0QgAAwF2pUXRCAAAAifNudEIAAAAakIx0QgAAAKssqnRCAACAcCTHdEIAAMCbbuR0QgAAwCwLAnVCAADAvacfdUIAAADp8Tx1QgAAQBQ8WnVCAABApdh3dUIAAEA2dZV1QgAAwPtssnVCAAAAJ7fPdUIAAAC4U+11Qg==\",\"dtype\":\"float64\",\"shape\":[32]},\"y\":{\"__ndarray__\":\"MzMzMzMz+z8zMzMzMzMPQJqZmZmZmQVAAAAAAAAABEAAAAAAAAD4vzMzMzMzMwdAmpmZmZmZ6T9mZmZmZmYSQJqZmZmZmQVAZmZmZmZm/j8AAAAAAADgP5qZmZmZmbk/ZmZmZmZmBkCamZmZmZnpP83MzMzMzAhAAAAAAAAAEEDNzMzMzMzsv2ZmZmZmZhJAzczMzMzMFEAAAAAAAAAAQJqZmZmZmQlAmpmZmZmZBUCamZmZmZn5PwAAAAAAAOA/MzMzMzMz4z+amZmZmZkBQGZmZmZmZgZAzczMzMzM/D8zMzMzMzPzP83MzMzMzAhAmpmZmZmZCUAzMzMzMzMHQA==\",\"dtype\":\"float64\",\"shape\":[32]}}},\"id\":\"3bae6e91-8bae-408c-9539-1efef4be0d33\",\"type\":\"ColumnDataSource\"},{\"attributes\":{\"mantissas\":[1,2,5],\"max_interval\":500.0,\"num_minor_ticks\":0},\"id\":\"9f495f61-8690-4932-9225-5415516bb5d1\",\"type\":\"AdaptiveTicker\"},{\"attributes\":{\"plot\":null,\"text\":\"\"},\"id\":\"3bcd6646-0548-4ef5-bfc3-3dff384a7beb\",\"type\":\"Title\"},{\"attributes\":{\"active_drag\":null,\"active_inspect\":\"auto\",\"active_scroll\":\"auto\",\"active_tap\":\"auto\",\"logo\":null,\"tools\":[{\"id\":\"b28f7028-ee04-4679-8ff6-51f11098a374\",\"type\":\"PanTool\"},{\"id\":\"3ea34c91-dfee-4403-b248-4068e87e7db6\",\"type\":\"WheelZoomTool\"},{\"id\":\"e2232cdb-e12a-4f63-bdbf-f66f63848598\",\"type\":\"BoxZoomTool\"},{\"id\":\"2ddf4b15-2243-44d7-bf35-e7c62750d098\",\"type\":\"ResetTool\"},{\"id\":\"5ea3f0ae-f8fc-4072-ac0f-51d0fdc7e78e\",\"type\":\"HoverTool\"}]},\"id\":\"40eddedf-9256-4521-92c9-ddc7825c6cdf\",\"type\":\"Toolbar\"},{\"attributes\":{\"base\":24,\"mantissas\":[1,2,4,6,8,12],\"max_interval\":43200000.0,\"min_interval\":3600000.0,\"num_minor_ticks\":0},\"id\":\"80d4c131-e739-4db0-ac38-ef46bae6fbf8\",\"type\":\"AdaptiveTicker\"},{\"attributes\":{\"days\":[1,2,3,4,5,6,7,8,9,10,11,12,13,14,15,16,17,18,19,20,21,22,23,24,25,26,27,28,29,30,31]},\"id\":\"5d0f06ca-90db-4aba-9a61-c9aab29ab893\",\"type\":\"DaysTicker\"},{\"attributes\":{\"days\":[1,8,15,22]},\"id\":\"f492b177-fe0e-4311-bb82-16174fa02791\",\"type\":\"DaysTicker\"},{\"attributes\":{\"days\":[1,15]},\"id\":\"cb2cd987-9f84-449f-949f-a153afc88feb\",\"type\":\"DaysTicker\"},{\"attributes\":{\"source\":{\"id\":\"3bae6e91-8bae-408c-9539-1efef4be0d33\",\"type\":\"ColumnDataSource\"}},\"id\":\"540a8d5d-b375-4234-88a2-71241cadb713\",\"type\":\"CDSView\"},{\"attributes\":{\"months\":[0,1,2,3,4,5,6,7,8,9,10,11]},\"id\":\"71610782-bb62-46d6-86da-7305f5d354af\",\"type\":\"MonthsTicker\"},{\"attributes\":{\"line_color\":{\"value\":\"gray\"},\"location\":0,\"plot\":{\"id\":\"17b00717-b410-4982-a47b-29b21032219b\",\"subtype\":\"Figure\",\"type\":\"Plot\"}},\"id\":\"33ba52a0-cf88-455c-8a9c-6f1461742d6f\",\"type\":\"Span\"},{\"attributes\":{\"months\":[0,2,4,6,8,10]},\"id\":\"941a8efb-58d0-42c5-b071-eb30418add2a\",\"type\":\"MonthsTicker\"},{\"attributes\":{},\"id\":\"5c890675-9776-49e6-950a-f033d9200c8a\",\"type\":\"LinearScale\"},{\"attributes\":{\"months\":[0,4,8]},\"id\":\"195fd3b2-a3f4-438a-86df-def1537a5f61\",\"type\":\"MonthsTicker\"},{\"attributes\":{\"months\":[0,6]},\"id\":\"0ef18f58-abc9-46da-989e-5667005d74ef\",\"type\":\"MonthsTicker\"},{\"attributes\":{},\"id\":\"66357467-c3e6-4529-93aa-7dd521aafd9c\",\"type\":\"YearsTicker\"},{\"attributes\":{\"callback\":null},\"id\":\"3bc7b175-0762-438b-b47e-1b4999479542\",\"type\":\"DataRange1d\"},{\"attributes\":{\"axis_line_color\":{\"value\":\"white\"},\"formatter\":{\"id\":\"4bc7dac0-1e35-41e4-9fb1-c154588da8a1\",\"type\":\"DatetimeTickFormatter\"},\"plot\":{\"id\":\"17b00717-b410-4982-a47b-29b21032219b\",\"subtype\":\"Figure\",\"type\":\"Plot\"},\"ticker\":{\"id\":\"1975b336-a861-4b3e-834d-03b7a8d749a5\",\"type\":\"DatetimeTicker\"}},\"id\":\"d8eb1911-91dc-4e72-bd5b-7f58dddf23c9\",\"type\":\"DatetimeAxis\"}],\"root_ids\":[\"17b00717-b410-4982-a47b-29b21032219b\"]},\"title\":\"Bokeh Application\",\"version\":\"0.12.14\"}};\n",
       "  var render_items = [{\"docid\":\"feaadd66-c9ba-493c-a56f-f89a154413b0\",\"elementid\":\"3d87abf9-0a7b-4cfb-afe6-d4fb212c0afb\",\"modelid\":\"17b00717-b410-4982-a47b-29b21032219b\"}];\n",
       "  root.Bokeh.embed.embed_items_notebook(docs_json, render_items);\n",
       "\n",
       "  }\n",
       "  if (root.Bokeh !== undefined) {\n",
       "    embed_document(root);\n",
       "  } else {\n",
       "    var attempts = 0;\n",
       "    var timer = setInterval(function(root) {\n",
       "      if (root.Bokeh !== undefined) {\n",
       "        embed_document(root);\n",
       "        clearInterval(timer);\n",
       "      }\n",
       "      attempts++;\n",
       "      if (attempts > 100) {\n",
       "        console.log(\"Bokeh: ERROR: Unable to run BokehJS code because BokehJS library is missing\")\n",
       "        clearInterval(timer);\n",
       "      }\n",
       "    }, 10, root)\n",
       "  }\n",
       "})(window);"
      ],
      "application/vnd.bokehjs_exec.v0+json": ""
     },
     "metadata": {
      "application/vnd.bokehjs_exec.v0+json": {
       "id": "17b00717-b410-4982-a47b-29b21032219b"
      }
     },
     "output_type": "display_data"
    }
   ],
   "source": [
    "# GDP plot in Bokeh\n",
    "source = ColumnDataSource({'x': df.index, \n",
    "                           'y': df['Value'], \n",
    "                           'Date': df['strdate']})\n",
    "\n",
    "tooltips = \"\"\"\n",
    "    <div>\n",
    "        <span style=\"font-size: 12px;\">@Date:</span>\n",
    "        <span style=\"font-size: 12px; font-weight: bold;\">@y{1.1}%</span>\n",
    "    </div>\n",
    "\"\"\"\n",
    "\n",
    "# Bar width determined by how many bars\n",
    "width = ((df.index[-1] - df.index[0]).total_seconds() \n",
    "         * 800.0 / len(df.index))\n",
    "\n",
    "# horizontal line at zero\n",
    "zero_line = Span(location=0, dimension='width', \n",
    "                 line_color='gray', line_width=1)\n",
    "\n",
    "p = figure(plot_width=700, plot_height=300, \n",
    "           x_axis_type='datetime', \n",
    "           tools=['pan, wheel_zoom, box_zoom, reset'], \n",
    "           logo=None,\n",
    "           toolbar_location=None,  \n",
    "           y_range=Range1d(-2.6, 6.2))\n",
    "p.vbar('x', width=width, bottom=0, top='y', \n",
    "       source=source, color='Red', alpha=1.0, \n",
    "       level='overlay')\n",
    "p.add_layout(zero_line)\n",
    "p.sizing_mode = 'scale_width'\n",
    "p.xgrid.grid_line_color = None\n",
    "p.outline_line_color = 'white'\n",
    "p.axis.axis_line_color = 'white'\n",
    "p.toolbar.active_drag = None\n",
    "p.add_tools(HoverTool(tooltips=tooltips, show_arrow=False))\n",
    "\n",
    "script, div = components(p)\n",
    "with open('C:/Working/bdecon.github.io/plots/gdp.html', 'w') as text_file:\n",
    "    text_file.write(f'{script} {div}')\n",
    "    \n",
    "show(p)"
   ]
  },
  {
   "cell_type": "markdown",
   "metadata": {},
   "source": [
    "# VIX"
   ]
  },
  {
   "cell_type": "code",
   "execution_count": 5,
   "metadata": {
    "ExecuteTime": {
     "end_time": "2018-03-25T11:48:53.127002Z",
     "start_time": "2018-03-25T11:48:53.080123Z"
    },
    "code_folding": [
     0,
     1
    ]
   },
   "outputs": [],
   "source": [
    "# VIX retrieved elsewhere, use data since 2015\n",
    "df = pd.read_csv('C:/Working/USA/datafiles/safe/vix.csv', \n",
    "                 parse_dates=['date']).set_index('date')['vixclose']\n",
    "\n",
    "df = df.loc['2015-01-01':]"
   ]
  },
  {
   "cell_type": "code",
   "execution_count": 6,
   "metadata": {
    "ExecuteTime": {
     "end_time": "2018-03-25T11:48:54.210353Z",
     "start_time": "2018-03-25T11:48:54.085334Z"
    },
    "code_folding": [
     0
    ]
   },
   "outputs": [
    {
     "data": {
      "text/html": [
       "\n",
       "<div class=\"bk-root\">\n",
       "    <div class=\"bk-plotdiv\" id=\"83a36bb1-27b1-477b-98e4-8b40743887d4\"></div>\n",
       "</div>"
      ]
     },
     "metadata": {},
     "output_type": "display_data"
    },
    {
     "data": {
      "application/javascript": [
       "(function(root) {\n",
       "  function embed_document(root) {\n",
       "    \n",
       "  var docs_json = {\"bf59d073-412d-46ae-88a6-fedfcc173ca8\":{\"roots\":{\"references\":[{\"attributes\":{\"callback\":null,\"show_arrow\":false,\"tooltips\":\"\\n            <div>\\n                <span style=\\\"font-size: 12px;\\\">@Date:</span>\\n                <span style=\\\"font-size: 12px; font-weight: bold;\\\">@y{1.1}</span>\\n            </div>\\n\"},\"id\":\"258ce006-f548-45f2-bec7-921b1fe86b87\",\"type\":\"HoverTool\"},{\"attributes\":{\"months\":[0,4,8]},\"id\":\"cc697ec4-ecd5-4845-8882-ad8a702fce78\",\"type\":\"MonthsTicker\"},{\"attributes\":{\"grid_line_color\":{\"value\":null},\"plot\":{\"id\":\"3decddf7-23d1-4752-b7cb-9a5776933e68\",\"subtype\":\"Figure\",\"type\":\"Plot\"},\"ticker\":{\"id\":\"f44608d0-2fe1-49b6-a9cd-a7b885981f3a\",\"type\":\"DatetimeTicker\"}},\"id\":\"a91a5532-6f2a-41eb-a9b2-f449ce4eb4ee\",\"type\":\"Grid\"},{\"attributes\":{\"line_color\":{\"value\":\"gray\"},\"location\":0,\"plot\":{\"id\":\"3decddf7-23d1-4752-b7cb-9a5776933e68\",\"subtype\":\"Figure\",\"type\":\"Plot\"}},\"id\":\"e202658b-a11d-4353-b33b-f0cfc4bbdf47\",\"type\":\"Span\"},{\"attributes\":{\"num_minor_ticks\":5,\"tickers\":[{\"id\":\"42fc9b89-fbaf-48c6-904a-923efa2c1cb5\",\"type\":\"AdaptiveTicker\"},{\"id\":\"fae5ae91-029e-4cf8-a799-355a6ade3619\",\"type\":\"AdaptiveTicker\"},{\"id\":\"145d66d3-ecfd-46d8-8221-99eb1a6229e7\",\"type\":\"AdaptiveTicker\"},{\"id\":\"89559c75-8dac-445e-a517-b4a948ec953b\",\"type\":\"DaysTicker\"},{\"id\":\"f7219b84-e123-4d19-9890-d6f1ae5aef11\",\"type\":\"DaysTicker\"},{\"id\":\"c763f9a3-2e78-44ec-98c3-b628fbe5ed53\",\"type\":\"DaysTicker\"},{\"id\":\"23eaf10a-1c08-4dce-82d7-65a087eae75f\",\"type\":\"DaysTicker\"},{\"id\":\"47073cca-c583-4ca3-b1c4-9b116c165302\",\"type\":\"MonthsTicker\"},{\"id\":\"cedaea6b-aec0-49c5-aea1-a29abc2b50ab\",\"type\":\"MonthsTicker\"},{\"id\":\"cc697ec4-ecd5-4845-8882-ad8a702fce78\",\"type\":\"MonthsTicker\"},{\"id\":\"6c240a3a-b2ad-402e-8a17-45d114c2b7ec\",\"type\":\"MonthsTicker\"},{\"id\":\"35d1ea5a-d67b-47e1-8000-d6966700c3be\",\"type\":\"YearsTicker\"}]},\"id\":\"f44608d0-2fe1-49b6-a9cd-a7b885981f3a\",\"type\":\"DatetimeTicker\"},{\"attributes\":{\"below\":[{\"id\":\"d3ec7faa-559e-4033-9224-71a85dbd0297\",\"type\":\"DatetimeAxis\"}],\"left\":[{\"id\":\"c0a3b2c5-85b0-42fe-a325-73319e78d8c0\",\"type\":\"LinearAxis\"}],\"outline_line_color\":{\"value\":\"white\"},\"plot_height\":300,\"plot_width\":700,\"renderers\":[{\"id\":\"d3ec7faa-559e-4033-9224-71a85dbd0297\",\"type\":\"DatetimeAxis\"},{\"id\":\"a91a5532-6f2a-41eb-a9b2-f449ce4eb4ee\",\"type\":\"Grid\"},{\"id\":\"c0a3b2c5-85b0-42fe-a325-73319e78d8c0\",\"type\":\"LinearAxis\"},{\"id\":\"81ba3272-4897-405f-8945-e58049ab0d3e\",\"type\":\"Grid\"},{\"id\":\"41bd7f6b-c957-4d28-80c1-836724db5ea7\",\"type\":\"BoxAnnotation\"},{\"id\":\"e202658b-a11d-4353-b33b-f0cfc4bbdf47\",\"type\":\"Span\"},{\"id\":\"f3bc25e0-0f75-4c6a-94b0-29cfa5a2e558\",\"type\":\"GlyphRenderer\"}],\"sizing_mode\":\"scale_width\",\"title\":{\"id\":\"9bdc3b17-205f-42e6-a60e-ef63dddda809\",\"type\":\"Title\"},\"toolbar\":{\"id\":\"9a8c0099-a845-406e-b2cd-47df0846afde\",\"type\":\"Toolbar\"},\"toolbar_location\":null,\"x_range\":{\"id\":\"1b4bfcac-386c-49a8-98dc-7ed45ac49a3a\",\"type\":\"DataRange1d\"},\"x_scale\":{\"id\":\"d44773c7-e79d-415a-ac1d-0c9c0fa506bf\",\"type\":\"LinearScale\"},\"y_range\":{\"id\":\"0259601f-c202-4bad-83d2-266a0c4608a8\",\"type\":\"DataRange1d\"},\"y_scale\":{\"id\":\"8091794b-fbb0-4f0d-8c9a-449ce0309230\",\"type\":\"LinearScale\"}},\"id\":\"3decddf7-23d1-4752-b7cb-9a5776933e68\",\"subtype\":\"Figure\",\"type\":\"Plot\"},{\"attributes\":{\"axis_line_color\":{\"value\":\"white\"},\"formatter\":{\"id\":\"a5d82ec2-75cb-435c-8fb6-9b9720212124\",\"type\":\"BasicTickFormatter\"},\"plot\":{\"id\":\"3decddf7-23d1-4752-b7cb-9a5776933e68\",\"subtype\":\"Figure\",\"type\":\"Plot\"},\"ticker\":{\"id\":\"7d54b1a0-d99e-40e2-b0bb-355ab527df4c\",\"type\":\"BasicTicker\"}},\"id\":\"c0a3b2c5-85b0-42fe-a325-73319e78d8c0\",\"type\":\"LinearAxis\"},{\"attributes\":{},\"id\":\"d44773c7-e79d-415a-ac1d-0c9c0fa506bf\",\"type\":\"LinearScale\"},{\"attributes\":{},\"id\":\"7d54b1a0-d99e-40e2-b0bb-355ab527df4c\",\"type\":\"BasicTicker\"},{\"attributes\":{},\"id\":\"8091794b-fbb0-4f0d-8c9a-449ce0309230\",\"type\":\"LinearScale\"},{\"attributes\":{\"dimension\":1,\"plot\":{\"id\":\"3decddf7-23d1-4752-b7cb-9a5776933e68\",\"subtype\":\"Figure\",\"type\":\"Plot\"},\"ticker\":{\"id\":\"7d54b1a0-d99e-40e2-b0bb-355ab527df4c\",\"type\":\"BasicTicker\"}},\"id\":\"81ba3272-4897-405f-8945-e58049ab0d3e\",\"type\":\"Grid\"},{\"attributes\":{\"callback\":null,\"column_names\":[\"x\",\"y\",\"Date\"],\"data\":{\"Date\":[\"Jan 02, 2015\",\"Jan 05, 2015\",\"Jan 06, 2015\",\"Jan 07, 2015\",\"Jan 08, 2015\",\"Jan 09, 2015\",\"Jan 12, 2015\",\"Jan 13, 2015\",\"Jan 14, 2015\",\"Jan 15, 2015\",\"Jan 16, 2015\",\"Jan 20, 2015\",\"Jan 21, 2015\",\"Jan 22, 2015\",\"Jan 23, 2015\",\"Jan 26, 2015\",\"Jan 27, 2015\",\"Jan 28, 2015\",\"Jan 29, 2015\",\"Jan 30, 2015\",\"Feb 02, 2015\",\"Feb 03, 2015\",\"Feb 04, 2015\",\"Feb 05, 2015\",\"Feb 06, 2015\",\"Feb 09, 2015\",\"Feb 10, 2015\",\"Feb 11, 2015\",\"Feb 12, 2015\",\"Feb 13, 2015\",\"Feb 17, 2015\",\"Feb 18, 2015\",\"Feb 19, 2015\",\"Feb 20, 2015\",\"Feb 23, 2015\",\"Feb 24, 2015\",\"Feb 25, 2015\",\"Feb 26, 2015\",\"Feb 27, 2015\",\"Mar 02, 2015\",\"Mar 03, 2015\",\"Mar 04, 2015\",\"Mar 05, 2015\",\"Mar 06, 2015\",\"Mar 09, 2015\",\"Mar 10, 2015\",\"Mar 11, 2015\",\"Mar 12, 2015\",\"Mar 13, 2015\",\"Mar 16, 2015\",\"Mar 17, 2015\",\"Mar 18, 2015\",\"Mar 19, 2015\",\"Mar 20, 2015\",\"Mar 23, 2015\",\"Mar 24, 2015\",\"Mar 25, 2015\",\"Mar 26, 2015\",\"Mar 27, 2015\",\"Mar 30, 2015\",\"Mar 31, 2015\",\"Apr 01, 2015\",\"Apr 02, 2015\",\"Apr 06, 2015\",\"Apr 07, 2015\",\"Apr 08, 2015\",\"Apr 09, 2015\",\"Apr 10, 2015\",\"Apr 13, 2015\",\"Apr 14, 2015\",\"Apr 15, 2015\",\"Apr 16, 2015\",\"Apr 17, 2015\",\"Apr 20, 2015\",\"Apr 21, 2015\",\"Apr 22, 2015\",\"Apr 23, 2015\",\"Apr 24, 2015\",\"Apr 27, 2015\",\"Apr 28, 2015\",\"Apr 29, 2015\",\"Apr 30, 2015\",\"May 01, 2015\",\"May 04, 2015\",\"May 05, 2015\",\"May 06, 2015\",\"May 07, 2015\",\"May 08, 2015\",\"May 11, 2015\",\"May 12, 2015\",\"May 13, 2015\",\"May 14, 2015\",\"May 15, 2015\",\"May 18, 2015\",\"May 19, 2015\",\"May 20, 2015\",\"May 21, 2015\",\"May 22, 2015\",\"May 26, 2015\",\"May 27, 2015\",\"May 28, 2015\",\"May 29, 2015\",\"Jun 01, 2015\",\"Jun 02, 2015\",\"Jun 03, 2015\",\"Jun 04, 2015\",\"Jun 05, 2015\",\"Jun 08, 2015\",\"Jun 09, 2015\",\"Jun 10, 2015\",\"Jun 11, 2015\",\"Jun 12, 2015\",\"Jun 15, 2015\",\"Jun 16, 2015\",\"Jun 17, 2015\",\"Jun 18, 2015\",\"Jun 19, 2015\",\"Jun 22, 2015\",\"Jun 23, 2015\",\"Jun 24, 2015\",\"Jun 25, 2015\",\"Jun 26, 2015\",\"Jun 29, 2015\",\"Jun 30, 2015\",\"Jul 01, 2015\",\"Jul 02, 2015\",\"Jul 06, 2015\",\"Jul 07, 2015\",\"Jul 08, 2015\",\"Jul 09, 2015\",\"Jul 10, 2015\",\"Jul 13, 2015\",\"Jul 14, 2015\",\"Jul 15, 2015\",\"Jul 16, 2015\",\"Jul 17, 2015\",\"Jul 20, 2015\",\"Jul 21, 2015\",\"Jul 22, 2015\",\"Jul 23, 2015\",\"Jul 24, 2015\",\"Jul 27, 2015\",\"Jul 28, 2015\",\"Jul 29, 2015\",\"Jul 30, 2015\",\"Jul 31, 2015\",\"Aug 03, 2015\",\"Aug 04, 2015\",\"Aug 05, 2015\",\"Aug 06, 2015\",\"Aug 07, 2015\",\"Aug 10, 2015\",\"Aug 11, 2015\",\"Aug 12, 2015\",\"Aug 13, 2015\",\"Aug 14, 2015\",\"Aug 17, 2015\",\"Aug 18, 2015\",\"Aug 19, 2015\",\"Aug 20, 2015\",\"Aug 21, 2015\",\"Aug 24, 2015\",\"Aug 25, 2015\",\"Aug 26, 2015\",\"Aug 27, 2015\",\"Aug 28, 2015\",\"Aug 31, 2015\",\"Sep 01, 2015\",\"Sep 02, 2015\",\"Sep 03, 2015\",\"Sep 04, 2015\",\"Sep 08, 2015\",\"Sep 09, 2015\",\"Sep 10, 2015\",\"Sep 11, 2015\",\"Sep 14, 2015\",\"Sep 15, 2015\",\"Sep 16, 2015\",\"Sep 17, 2015\",\"Sep 18, 2015\",\"Sep 21, 2015\",\"Sep 22, 2015\",\"Sep 23, 2015\",\"Sep 24, 2015\",\"Sep 25, 2015\",\"Sep 28, 2015\",\"Sep 29, 2015\",\"Sep 30, 2015\",\"Oct 01, 2015\",\"Oct 02, 2015\",\"Oct 05, 2015\",\"Oct 06, 2015\",\"Oct 07, 2015\",\"Oct 08, 2015\",\"Oct 09, 2015\",\"Oct 12, 2015\",\"Oct 13, 2015\",\"Oct 14, 2015\",\"Oct 15, 2015\",\"Oct 16, 2015\",\"Oct 19, 2015\",\"Oct 20, 2015\",\"Oct 21, 2015\",\"Oct 22, 2015\",\"Oct 23, 2015\",\"Oct 26, 2015\",\"Oct 27, 2015\",\"Oct 28, 2015\",\"Oct 29, 2015\",\"Oct 30, 2015\",\"Nov 02, 2015\",\"Nov 03, 2015\",\"Nov 04, 2015\",\"Nov 05, 2015\",\"Nov 06, 2015\",\"Nov 09, 2015\",\"Nov 10, 2015\",\"Nov 11, 2015\",\"Nov 12, 2015\",\"Nov 13, 2015\",\"Nov 16, 2015\",\"Nov 17, 2015\",\"Nov 18, 2015\",\"Nov 19, 2015\",\"Nov 20, 2015\",\"Nov 23, 2015\",\"Nov 24, 2015\",\"Nov 25, 2015\",\"Nov 27, 2015\",\"Nov 30, 2015\",\"Dec 01, 2015\",\"Dec 02, 2015\",\"Dec 03, 2015\",\"Dec 04, 2015\",\"Dec 07, 2015\",\"Dec 08, 2015\",\"Dec 09, 2015\",\"Dec 10, 2015\",\"Dec 11, 2015\",\"Dec 14, 2015\",\"Dec 15, 2015\",\"Dec 16, 2015\",\"Dec 17, 2015\",\"Dec 18, 2015\",\"Dec 21, 2015\",\"Dec 22, 2015\",\"Dec 23, 2015\",\"Dec 24, 2015\",\"Dec 28, 2015\",\"Dec 29, 2015\",\"Dec 30, 2015\",\"Dec 31, 2015\",\"Jan 04, 2016\",\"Jan 05, 2016\",\"Jan 06, 2016\",\"Jan 07, 2016\",\"Jan 08, 2016\",\"Jan 11, 2016\",\"Jan 12, 2016\",\"Jan 13, 2016\",\"Jan 14, 2016\",\"Jan 15, 2016\",\"Jan 19, 2016\",\"Jan 20, 2016\",\"Jan 21, 2016\",\"Jan 22, 2016\",\"Jan 25, 2016\",\"Jan 26, 2016\",\"Jan 27, 2016\",\"Jan 28, 2016\",\"Jan 29, 2016\",\"Feb 01, 2016\",\"Feb 02, 2016\",\"Feb 03, 2016\",\"Feb 04, 2016\",\"Feb 05, 2016\",\"Feb 08, 2016\",\"Feb 09, 2016\",\"Feb 10, 2016\",\"Feb 11, 2016\",\"Feb 12, 2016\",\"Feb 16, 2016\",\"Feb 17, 2016\",\"Feb 18, 2016\",\"Feb 19, 2016\",\"Feb 22, 2016\",\"Feb 23, 2016\",\"Feb 24, 2016\",\"Feb 25, 2016\",\"Feb 26, 2016\",\"Feb 29, 2016\",\"Mar 01, 2016\",\"Mar 02, 2016\",\"Mar 03, 2016\",\"Mar 04, 2016\",\"Mar 07, 2016\",\"Mar 08, 2016\",\"Mar 09, 2016\",\"Mar 10, 2016\",\"Mar 11, 2016\",\"Mar 14, 2016\",\"Mar 15, 2016\",\"Mar 16, 2016\",\"Mar 17, 2016\",\"Mar 18, 2016\",\"Mar 21, 2016\",\"Mar 22, 2016\",\"Mar 23, 2016\",\"Mar 24, 2016\",\"Mar 28, 2016\",\"Mar 29, 2016\",\"Mar 30, 2016\",\"Mar 31, 2016\",\"Apr 01, 2016\",\"Apr 04, 2016\",\"Apr 05, 2016\",\"Apr 06, 2016\",\"Apr 07, 2016\",\"Apr 08, 2016\",\"Apr 11, 2016\",\"Apr 12, 2016\",\"Apr 13, 2016\",\"Apr 14, 2016\",\"Apr 15, 2016\",\"Apr 18, 2016\",\"Apr 19, 2016\",\"Apr 20, 2016\",\"Apr 21, 2016\",\"Apr 22, 2016\",\"Apr 25, 2016\",\"Apr 26, 2016\",\"Apr 27, 2016\",\"Apr 28, 2016\",\"Apr 29, 2016\",\"May 02, 2016\",\"May 03, 2016\",\"May 04, 2016\",\"May 05, 2016\",\"May 06, 2016\",\"May 09, 2016\",\"May 10, 2016\",\"May 11, 2016\",\"May 12, 2016\",\"May 13, 2016\",\"May 16, 2016\",\"May 17, 2016\",\"May 18, 2016\",\"May 19, 2016\",\"May 20, 2016\",\"May 23, 2016\",\"May 24, 2016\",\"May 25, 2016\",\"May 26, 2016\",\"May 27, 2016\",\"May 31, 2016\",\"Jun 01, 2016\",\"Jun 02, 2016\",\"Jun 03, 2016\",\"Jun 06, 2016\",\"Jun 07, 2016\",\"Jun 08, 2016\",\"Jun 09, 2016\",\"Jun 10, 2016\",\"Jun 13, 2016\",\"Jun 14, 2016\",\"Jun 15, 2016\",\"Jun 16, 2016\",\"Jun 17, 2016\",\"Jun 20, 2016\",\"Jun 21, 2016\",\"Jun 22, 2016\",\"Jun 23, 2016\",\"Jun 24, 2016\",\"Jun 27, 2016\",\"Jun 28, 2016\",\"Jun 29, 2016\",\"Jun 30, 2016\",\"Jul 01, 2016\",\"Jul 05, 2016\",\"Jul 06, 2016\",\"Jul 07, 2016\",\"Jul 08, 2016\",\"Jul 11, 2016\",\"Jul 12, 2016\",\"Jul 13, 2016\",\"Jul 14, 2016\",\"Jul 15, 2016\",\"Jul 18, 2016\",\"Jul 19, 2016\",\"Jul 20, 2016\",\"Jul 21, 2016\",\"Jul 22, 2016\",\"Jul 25, 2016\",\"Jul 26, 2016\",\"Jul 27, 2016\",\"Jul 28, 2016\",\"Jul 29, 2016\",\"Aug 01, 2016\",\"Aug 02, 2016\",\"Aug 03, 2016\",\"Aug 04, 2016\",\"Aug 05, 2016\",\"Aug 08, 2016\",\"Aug 09, 2016\",\"Aug 10, 2016\",\"Aug 11, 2016\",\"Aug 12, 2016\",\"Aug 15, 2016\",\"Aug 16, 2016\",\"Aug 17, 2016\",\"Aug 18, 2016\",\"Aug 19, 2016\",\"Aug 22, 2016\",\"Aug 23, 2016\",\"Aug 24, 2016\",\"Aug 25, 2016\",\"Aug 26, 2016\",\"Aug 29, 2016\",\"Aug 30, 2016\",\"Aug 31, 2016\",\"Sep 01, 2016\",\"Sep 02, 2016\",\"Sep 06, 2016\",\"Sep 07, 2016\",\"Sep 08, 2016\",\"Sep 09, 2016\",\"Sep 12, 2016\",\"Sep 13, 2016\",\"Sep 14, 2016\",\"Sep 15, 2016\",\"Sep 16, 2016\",\"Sep 19, 2016\",\"Sep 20, 2016\",\"Sep 21, 2016\",\"Sep 22, 2016\",\"Sep 23, 2016\",\"Sep 26, 2016\",\"Sep 27, 2016\",\"Sep 28, 2016\",\"Sep 29, 2016\",\"Sep 30, 2016\",\"Oct 03, 2016\",\"Oct 04, 2016\",\"Oct 05, 2016\",\"Oct 06, 2016\",\"Oct 07, 2016\",\"Oct 10, 2016\",\"Oct 11, 2016\",\"Oct 12, 2016\",\"Oct 13, 2016\",\"Oct 14, 2016\",\"Oct 17, 2016\",\"Oct 18, 2016\",\"Oct 19, 2016\",\"Oct 20, 2016\",\"Oct 21, 2016\",\"Oct 24, 2016\",\"Oct 25, 2016\",\"Oct 26, 2016\",\"Oct 27, 2016\",\"Oct 28, 2016\",\"Oct 31, 2016\",\"Nov 01, 2016\",\"Nov 02, 2016\",\"Nov 03, 2016\",\"Nov 04, 2016\",\"Nov 07, 2016\",\"Nov 08, 2016\",\"Nov 09, 2016\",\"Nov 10, 2016\",\"Nov 11, 2016\",\"Nov 14, 2016\",\"Nov 15, 2016\",\"Nov 16, 2016\",\"Nov 17, 2016\",\"Nov 18, 2016\",\"Nov 21, 2016\",\"Nov 22, 2016\",\"Nov 23, 2016\",\"Nov 25, 2016\",\"Nov 28, 2016\",\"Nov 29, 2016\",\"Nov 30, 2016\",\"Dec 01, 2016\",\"Dec 02, 2016\",\"Dec 05, 2016\",\"Dec 06, 2016\",\"Dec 07, 2016\",\"Dec 08, 2016\",\"Dec 09, 2016\",\"Dec 12, 2016\",\"Dec 13, 2016\",\"Dec 14, 2016\",\"Dec 15, 2016\",\"Dec 16, 2016\",\"Dec 19, 2016\",\"Dec 20, 2016\",\"Dec 21, 2016\",\"Dec 22, 2016\",\"Dec 23, 2016\",\"Dec 27, 2016\",\"Dec 28, 2016\",\"Dec 29, 2016\",\"Dec 30, 2016\",\"Jan 03, 2017\",\"Jan 04, 2017\",\"Jan 05, 2017\",\"Jan 06, 2017\",\"Jan 09, 2017\",\"Jan 10, 2017\",\"Jan 11, 2017\",\"Jan 12, 2017\",\"Jan 13, 2017\",\"Jan 17, 2017\",\"Jan 18, 2017\",\"Jan 19, 2017\",\"Jan 20, 2017\",\"Jan 23, 2017\",\"Jan 24, 2017\",\"Jan 25, 2017\",\"Jan 26, 2017\",\"Jan 27, 2017\",\"Jan 30, 2017\",\"Jan 31, 2017\",\"Feb 01, 2017\",\"Feb 02, 2017\",\"Feb 03, 2017\",\"Feb 06, 2017\",\"Feb 07, 2017\",\"Feb 08, 2017\",\"Feb 09, 2017\",\"Feb 10, 2017\",\"Feb 13, 2017\",\"Feb 14, 2017\",\"Feb 15, 2017\",\"Feb 16, 2017\",\"Feb 17, 2017\",\"Feb 21, 2017\",\"Feb 22, 2017\",\"Feb 23, 2017\",\"Feb 24, 2017\",\"Feb 27, 2017\",\"Feb 28, 2017\",\"Mar 01, 2017\",\"Mar 02, 2017\",\"Mar 03, 2017\",\"Mar 06, 2017\",\"Mar 07, 2017\",\"Mar 08, 2017\",\"Mar 09, 2017\",\"Mar 10, 2017\",\"Mar 13, 2017\",\"Mar 14, 2017\",\"Mar 15, 2017\",\"Mar 16, 2017\",\"Mar 17, 2017\",\"Mar 20, 2017\",\"Mar 21, 2017\",\"Mar 22, 2017\",\"Mar 23, 2017\",\"Mar 24, 2017\",\"Mar 27, 2017\",\"Mar 28, 2017\",\"Mar 29, 2017\",\"Mar 30, 2017\",\"Mar 31, 2017\",\"Apr 03, 2017\",\"Apr 04, 2017\",\"Apr 05, 2017\",\"Apr 06, 2017\",\"Apr 07, 2017\",\"Apr 10, 2017\",\"Apr 11, 2017\",\"Apr 12, 2017\",\"Apr 13, 2017\",\"Apr 17, 2017\",\"Apr 18, 2017\",\"Apr 19, 2017\",\"Apr 20, 2017\",\"Apr 21, 2017\",\"Apr 24, 2017\",\"Apr 25, 2017\",\"Apr 26, 2017\",\"Apr 27, 2017\",\"Apr 28, 2017\",\"May 01, 2017\",\"May 02, 2017\",\"May 03, 2017\",\"May 04, 2017\",\"May 05, 2017\",\"May 08, 2017\",\"May 09, 2017\",\"May 10, 2017\",\"May 11, 2017\",\"May 12, 2017\",\"May 15, 2017\",\"May 16, 2017\",\"May 17, 2017\",\"May 18, 2017\",\"May 19, 2017\",\"May 22, 2017\",\"May 23, 2017\",\"May 24, 2017\",\"May 25, 2017\",\"May 26, 2017\",\"May 30, 2017\",\"May 31, 2017\",\"Jun 01, 2017\",\"Jun 02, 2017\",\"Jun 05, 2017\",\"Jun 06, 2017\",\"Jun 07, 2017\",\"Jun 08, 2017\",\"Jun 09, 2017\",\"Jun 12, 2017\",\"Jun 13, 2017\",\"Jun 14, 2017\",\"Jun 15, 2017\",\"Jun 16, 2017\",\"Jun 19, 2017\",\"Jun 20, 2017\",\"Jun 21, 2017\",\"Jun 22, 2017\",\"Jun 23, 2017\",\"Jun 26, 2017\",\"Jun 27, 2017\",\"Jun 28, 2017\",\"Jun 29, 2017\",\"Jun 30, 2017\",\"Jul 03, 2017\",\"Jul 05, 2017\",\"Jul 06, 2017\",\"Jul 07, 2017\",\"Jul 10, 2017\",\"Jul 11, 2017\",\"Jul 12, 2017\",\"Jul 13, 2017\",\"Jul 14, 2017\",\"Jul 17, 2017\",\"Jul 18, 2017\",\"Jul 19, 2017\",\"Jul 20, 2017\",\"Jul 21, 2017\",\"Jul 24, 2017\",\"Jul 25, 2017\",\"Jul 26, 2017\",\"Jul 27, 2017\",\"Jul 28, 2017\",\"Jul 31, 2017\",\"Aug 01, 2017\",\"Aug 02, 2017\",\"Aug 03, 2017\",\"Aug 04, 2017\",\"Aug 07, 2017\",\"Aug 08, 2017\",\"Aug 09, 2017\",\"Aug 10, 2017\",\"Aug 11, 2017\",\"Aug 14, 2017\",\"Aug 15, 2017\",\"Aug 16, 2017\",\"Aug 17, 2017\",\"Aug 18, 2017\",\"Aug 21, 2017\",\"Aug 22, 2017\",\"Aug 23, 2017\",\"Aug 24, 2017\",\"Aug 25, 2017\",\"Aug 28, 2017\",\"Aug 29, 2017\",\"Aug 30, 2017\",\"Aug 31, 2017\",\"Sep 01, 2017\",\"Sep 05, 2017\",\"Sep 06, 2017\",\"Sep 07, 2017\",\"Sep 08, 2017\",\"Sep 11, 2017\",\"Sep 12, 2017\",\"Sep 13, 2017\",\"Sep 14, 2017\",\"Sep 15, 2017\",\"Sep 18, 2017\",\"Sep 19, 2017\",\"Sep 20, 2017\",\"Sep 21, 2017\",\"Sep 22, 2017\",\"Sep 25, 2017\",\"Sep 26, 2017\",\"Sep 27, 2017\",\"Sep 28, 2017\",\"Sep 29, 2017\",\"Oct 02, 2017\",\"Oct 03, 2017\",\"Oct 04, 2017\",\"Oct 05, 2017\",\"Oct 06, 2017\",\"Oct 09, 2017\",\"Oct 10, 2017\",\"Oct 11, 2017\",\"Oct 12, 2017\",\"Oct 13, 2017\",\"Oct 16, 2017\",\"Oct 17, 2017\",\"Oct 18, 2017\",\"Oct 19, 2017\",\"Oct 20, 2017\",\"Oct 23, 2017\",\"Oct 24, 2017\",\"Oct 25, 2017\",\"Oct 26, 2017\",\"Oct 27, 2017\",\"Oct 30, 2017\",\"Oct 31, 2017\",\"Nov 01, 2017\",\"Nov 02, 2017\",\"Nov 03, 2017\",\"Nov 06, 2017\",\"Nov 07, 2017\",\"Nov 08, 2017\",\"Nov 09, 2017\",\"Nov 10, 2017\",\"Nov 13, 2017\",\"Nov 14, 2017\",\"Nov 15, 2017\",\"Nov 16, 2017\",\"Nov 17, 2017\",\"Nov 20, 2017\",\"Nov 21, 2017\",\"Nov 22, 2017\",\"Nov 24, 2017\",\"Nov 27, 2017\",\"Nov 28, 2017\",\"Nov 29, 2017\",\"Nov 30, 2017\",\"Dec 01, 2017\",\"Dec 04, 2017\",\"Dec 05, 2017\",\"Dec 06, 2017\",\"Dec 07, 2017\",\"Dec 08, 2017\",\"Dec 11, 2017\",\"Dec 12, 2017\",\"Dec 13, 2017\",\"Dec 14, 2017\",\"Dec 15, 2017\",\"Dec 18, 2017\",\"Dec 19, 2017\",\"Dec 20, 2017\",\"Dec 21, 2017\",\"Dec 22, 2017\",\"Dec 26, 2017\",\"Dec 27, 2017\",\"Dec 28, 2017\",\"Dec 29, 2017\",\"Jan 02, 2018\",\"Jan 03, 2018\",\"Jan 04, 2018\",\"Jan 05, 2018\",\"Jan 08, 2018\",\"Jan 09, 2018\",\"Jan 10, 2018\",\"Jan 11, 2018\",\"Jan 12, 2018\",\"Jan 16, 2018\",\"Jan 17, 2018\",\"Jan 18, 2018\",\"Jan 19, 2018\",\"Jan 22, 2018\",\"Jan 23, 2018\",\"Jan 24, 2018\",\"Jan 25, 2018\",\"Jan 26, 2018\",\"Jan 29, 2018\",\"Jan 30, 2018\",\"Jan 31, 2018\",\"Feb 01, 2018\",\"Feb 02, 2018\",\"Feb 05, 2018\",\"Feb 06, 2018\",\"Feb 07, 2018\",\"Feb 08, 2018\",\"Feb 09, 2018\",\"Feb 12, 2018\",\"Feb 13, 2018\",\"Feb 14, 2018\",\"Feb 15, 2018\",\"Feb 16, 2018\",\"Feb 20, 2018\",\"Feb 21, 2018\",\"Feb 22, 2018\",\"Feb 23, 2018\",\"Feb 26, 2018\",\"Feb 27, 2018\",\"Feb 28, 2018\",\"Mar 01, 2018\",\"Mar 02, 2018\",\"Mar 05, 2018\",\"Mar 06, 2018\",\"Mar 07, 2018\",\"Mar 08, 2018\",\"Mar 09, 2018\",\"Mar 12, 2018\",\"Mar 13, 2018\",\"Mar 14, 2018\",\"Mar 15, 2018\",\"Mar 16, 2018\",\"Mar 19, 2018\",\"Mar 20, 2018\",\"Mar 21, 2018\",\"Mar 22, 2018\",\"Mar 23, 2018\"],\"x\":{\"__ndarray__\":\"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\",\"dtype\":\"float64\",\"shape\":[812]},\"y\":{\"__ndarray__\":\"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\",\"dtype\":\"float64\",\"shape\":[812]}}},\"id\":\"1a3fdeab-19e3-4898-a487-7ff049af960a\",\"type\":\"ColumnDataSource\"},{\"attributes\":{\"line_color\":\"Green\",\"line_width\":2.5,\"x\":{\"field\":\"x\"},\"y\":{\"field\":\"y\"}},\"id\":\"0708f3c6-9c9f-44f8-9e1a-cf4665314511\",\"type\":\"Line\"},{\"attributes\":{},\"id\":\"911e721f-ddfb-42fb-a042-cff6f37b1960\",\"type\":\"DatetimeTickFormatter\"},{\"attributes\":{},\"id\":\"1c311689-71cd-4534-a918-5abb40af0175\",\"type\":\"PanTool\"},{\"attributes\":{\"source\":{\"id\":\"1a3fdeab-19e3-4898-a487-7ff049af960a\",\"type\":\"ColumnDataSource\"}},\"id\":\"09bfe96b-0adf-4141-b9a9-584ea724a687\",\"type\":\"CDSView\"},{\"attributes\":{\"axis_line_color\":{\"value\":\"white\"},\"formatter\":{\"id\":\"911e721f-ddfb-42fb-a042-cff6f37b1960\",\"type\":\"DatetimeTickFormatter\"},\"plot\":{\"id\":\"3decddf7-23d1-4752-b7cb-9a5776933e68\",\"subtype\":\"Figure\",\"type\":\"Plot\"},\"ticker\":{\"id\":\"f44608d0-2fe1-49b6-a9cd-a7b885981f3a\",\"type\":\"DatetimeTicker\"}},\"id\":\"d3ec7faa-559e-4033-9224-71a85dbd0297\",\"type\":\"DatetimeAxis\"},{\"attributes\":{},\"id\":\"57901f6a-9bc2-4510-8308-25450d369d80\",\"type\":\"WheelZoomTool\"},{\"attributes\":{\"overlay\":{\"id\":\"41bd7f6b-c957-4d28-80c1-836724db5ea7\",\"type\":\"BoxAnnotation\"}},\"id\":\"2ef6c093-b4d6-4841-b79b-f29369d11e2c\",\"type\":\"BoxZoomTool\"},{\"attributes\":{},\"id\":\"4088825e-5332-4e27-aba7-b621b6b6efe8\",\"type\":\"ResetTool\"},{\"attributes\":{\"bottom_units\":\"screen\",\"fill_alpha\":{\"value\":0.5},\"fill_color\":{\"value\":\"lightgrey\"},\"left_units\":\"screen\",\"level\":\"overlay\",\"line_alpha\":{\"value\":1.0},\"line_color\":{\"value\":\"black\"},\"line_dash\":[4,4],\"line_width\":{\"value\":2},\"plot\":null,\"render_mode\":\"css\",\"right_units\":\"screen\",\"top_units\":\"screen\"},\"id\":\"41bd7f6b-c957-4d28-80c1-836724db5ea7\",\"type\":\"BoxAnnotation\"},{\"attributes\":{\"line_alpha\":0.1,\"line_color\":\"#1f77b4\",\"line_width\":2.5,\"x\":{\"field\":\"x\"},\"y\":{\"field\":\"y\"}},\"id\":\"253dc81c-0ea5-481d-a8ac-534a023fbaa9\",\"type\":\"Line\"},{\"attributes\":{\"data_source\":{\"id\":\"1a3fdeab-19e3-4898-a487-7ff049af960a\",\"type\":\"ColumnDataSource\"},\"glyph\":{\"id\":\"0708f3c6-9c9f-44f8-9e1a-cf4665314511\",\"type\":\"Line\"},\"hover_glyph\":null,\"level\":\"overlay\",\"muted_glyph\":null,\"nonselection_glyph\":{\"id\":\"253dc81c-0ea5-481d-a8ac-534a023fbaa9\",\"type\":\"Line\"},\"selection_glyph\":null,\"view\":{\"id\":\"09bfe96b-0adf-4141-b9a9-584ea724a687\",\"type\":\"CDSView\"}},\"id\":\"f3bc25e0-0f75-4c6a-94b0-29cfa5a2e558\",\"type\":\"GlyphRenderer\"},{\"attributes\":{\"plot\":null,\"text\":\"\"},\"id\":\"9bdc3b17-205f-42e6-a60e-ef63dddda809\",\"type\":\"Title\"},{\"attributes\":{\"callback\":null},\"id\":\"0259601f-c202-4bad-83d2-266a0c4608a8\",\"type\":\"DataRange1d\"},{\"attributes\":{\"base\":24,\"mantissas\":[1,2,4,6,8,12],\"max_interval\":43200000.0,\"min_interval\":3600000.0,\"num_minor_ticks\":0},\"id\":\"145d66d3-ecfd-46d8-8221-99eb1a6229e7\",\"type\":\"AdaptiveTicker\"},{\"attributes\":{\"mantissas\":[1,2,5],\"max_interval\":500.0,\"num_minor_ticks\":0},\"id\":\"42fc9b89-fbaf-48c6-904a-923efa2c1cb5\",\"type\":\"AdaptiveTicker\"},{\"attributes\":{\"base\":60,\"mantissas\":[1,2,5,10,15,20,30],\"max_interval\":1800000.0,\"min_interval\":1000.0,\"num_minor_ticks\":0},\"id\":\"fae5ae91-029e-4cf8-a799-355a6ade3619\",\"type\":\"AdaptiveTicker\"},{\"attributes\":{},\"id\":\"a5d82ec2-75cb-435c-8fb6-9b9720212124\",\"type\":\"BasicTickFormatter\"},{\"attributes\":{\"days\":[1,2,3,4,5,6,7,8,9,10,11,12,13,14,15,16,17,18,19,20,21,22,23,24,25,26,27,28,29,30,31]},\"id\":\"89559c75-8dac-445e-a517-b4a948ec953b\",\"type\":\"DaysTicker\"},{\"attributes\":{\"days\":[1,4,7,10,13,16,19,22,25,28]},\"id\":\"f7219b84-e123-4d19-9890-d6f1ae5aef11\",\"type\":\"DaysTicker\"},{\"attributes\":{\"days\":[1,8,15,22]},\"id\":\"c763f9a3-2e78-44ec-98c3-b628fbe5ed53\",\"type\":\"DaysTicker\"},{\"attributes\":{\"days\":[1,15]},\"id\":\"23eaf10a-1c08-4dce-82d7-65a087eae75f\",\"type\":\"DaysTicker\"},{\"attributes\":{\"months\":[0,1,2,3,4,5,6,7,8,9,10,11]},\"id\":\"47073cca-c583-4ca3-b1c4-9b116c165302\",\"type\":\"MonthsTicker\"},{\"attributes\":{\"months\":[0,2,4,6,8,10]},\"id\":\"cedaea6b-aec0-49c5-aea1-a29abc2b50ab\",\"type\":\"MonthsTicker\"},{\"attributes\":{\"active_drag\":null,\"active_inspect\":\"auto\",\"active_scroll\":\"auto\",\"active_tap\":\"auto\",\"logo\":null,\"tools\":[{\"id\":\"1c311689-71cd-4534-a918-5abb40af0175\",\"type\":\"PanTool\"},{\"id\":\"57901f6a-9bc2-4510-8308-25450d369d80\",\"type\":\"WheelZoomTool\"},{\"id\":\"2ef6c093-b4d6-4841-b79b-f29369d11e2c\",\"type\":\"BoxZoomTool\"},{\"id\":\"4088825e-5332-4e27-aba7-b621b6b6efe8\",\"type\":\"ResetTool\"},{\"id\":\"258ce006-f548-45f2-bec7-921b1fe86b87\",\"type\":\"HoverTool\"}]},\"id\":\"9a8c0099-a845-406e-b2cd-47df0846afde\",\"type\":\"Toolbar\"},{\"attributes\":{\"callback\":null},\"id\":\"1b4bfcac-386c-49a8-98dc-7ed45ac49a3a\",\"type\":\"DataRange1d\"},{\"attributes\":{\"months\":[0,6]},\"id\":\"6c240a3a-b2ad-402e-8a17-45d114c2b7ec\",\"type\":\"MonthsTicker\"},{\"attributes\":{},\"id\":\"35d1ea5a-d67b-47e1-8000-d6966700c3be\",\"type\":\"YearsTicker\"}],\"root_ids\":[\"3decddf7-23d1-4752-b7cb-9a5776933e68\"]},\"title\":\"Bokeh Application\",\"version\":\"0.12.14\"}};\n",
       "  var render_items = [{\"docid\":\"bf59d073-412d-46ae-88a6-fedfcc173ca8\",\"elementid\":\"83a36bb1-27b1-477b-98e4-8b40743887d4\",\"modelid\":\"3decddf7-23d1-4752-b7cb-9a5776933e68\"}];\n",
       "  root.Bokeh.embed.embed_items_notebook(docs_json, render_items);\n",
       "\n",
       "  }\n",
       "  if (root.Bokeh !== undefined) {\n",
       "    embed_document(root);\n",
       "  } else {\n",
       "    var attempts = 0;\n",
       "    var timer = setInterval(function(root) {\n",
       "      if (root.Bokeh !== undefined) {\n",
       "        embed_document(root);\n",
       "        clearInterval(timer);\n",
       "      }\n",
       "      attempts++;\n",
       "      if (attempts > 100) {\n",
       "        console.log(\"Bokeh: ERROR: Unable to run BokehJS code because BokehJS library is missing\")\n",
       "        clearInterval(timer);\n",
       "      }\n",
       "    }, 10, root)\n",
       "  }\n",
       "})(window);"
      ],
      "application/vnd.bokehjs_exec.v0+json": ""
     },
     "metadata": {
      "application/vnd.bokehjs_exec.v0+json": {
       "id": "3decddf7-23d1-4752-b7cb-9a5776933e68"
      }
     },
     "output_type": "display_data"
    }
   ],
   "source": [
    "# VIX plot in bokeh\n",
    "source = ColumnDataSource({'x': df.index, 'y': df.values, 'Date': df.index.strftime('%b %d, %Y')})\n",
    "tooltips = \"\"\"\n",
    "            <div>\n",
    "                <span style=\"font-size: 12px;\">@Date:</span>\n",
    "                <span style=\"font-size: 12px; font-weight: bold;\">@y{1.1}</span>\n",
    "            </div>\n",
    "\"\"\"\n",
    "# horizontal line at zero\n",
    "hline = Span(location=0, dimension='width', line_color='gray', line_width=1)\n",
    "p = figure(width=700,height=300,x_axis_type='datetime',\n",
    "           tools=['pan, wheel_zoom, box_zoom, reset'], logo=None,\n",
    "           toolbar_location=None)\n",
    "p.add_layout(hline)\n",
    "p.sizing_mode = 'scale_width'\n",
    "p.line('x', 'y', source = source, line_width=2.5, color='Green', alpha=1.0, level='overlay')\n",
    "p.xgrid.grid_line_color = None\n",
    "p.outline_line_color = 'white'\n",
    "p.axis.axis_line_color = 'white'\n",
    "p.add_tools(HoverTool(tooltips=tooltips, line_policy='nearest', show_arrow=False))\n",
    "p.toolbar.active_drag = None\n",
    "script, div = components(p)\n",
    "\n",
    "with open('C:/Working/bdecon.github.io/plots/vix.html', 'w') as text_file:\n",
    "    text_file.write('{} {}'.format(script, div))\n",
    "    \n",
    "show(p)"
   ]
  },
  {
   "cell_type": "markdown",
   "metadata": {},
   "source": [
    "# Germany and UK CPI"
   ]
  },
  {
   "cell_type": "code",
   "execution_count": 2,
   "metadata": {
    "ExecuteTime": {
     "end_time": "2018-03-23T02:04:24.958082Z",
     "start_time": "2018-03-23T02:04:23.958014Z"
    },
    "code_folding": []
   },
   "outputs": [],
   "source": [
    "# CPI Inflation Data from the IMF\n",
    "url = 'http://dataservices.imf.org/REST/SDMX_JSON.svc/'\n",
    "key = f\"CompactData/IFS/M.DE+GB+IT+FR.PCPI_PC_CP_A_PT\"\n",
    "data = requests.get(f'{url}{key}').json()\n",
    "\n",
    "df = pd.DataFrame({s['@REF_AREA'] : {pd.to_datetime(i['@TIME_PERIOD']) : \n",
    "     round(float(i['@OBS_VALUE']), 1) \n",
    "     for i in s['Obs'] if int(i['@TIME_PERIOD'][:4]) > 1991} \n",
    "     for s in data['CompactData']['DataSet']['Series']})"
   ]
  },
  {
   "cell_type": "code",
   "execution_count": 34,
   "metadata": {
    "ExecuteTime": {
     "end_time": "2018-03-21T15:16:13.073091Z",
     "start_time": "2018-03-21T15:16:12.760567Z"
    },
    "code_folding": []
   },
   "outputs": [
    {
     "data": {
      "text/html": [
       "\n",
       "<div class=\"bk-root\">\n",
       "    <div class=\"bk-plotdiv\" id=\"743167f2-49ee-4498-89f3-88c6926f80c8\"></div>\n",
       "</div>"
      ]
     },
     "metadata": {},
     "output_type": "display_data"
    },
    {
     "data": {
      "application/javascript": [
       "(function(root) {\n",
       "  function embed_document(root) {\n",
       "    \n",
       "  var docs_json = {\"c03909ca-f803-48e0-b539-9bbcff0d3728\":{\"roots\":{\"references\":[{\"attributes\":{},\"id\":\"ac2fd063-f2e5-498c-9000-803dd4fbd399\",\"type\":\"BasicTicker\"},{\"attributes\":{\"callback\":null,\"renderers\":[{\"id\":\"9fc80ed0-e10d-4c38-bb77-6bd93098c59e\",\"type\":\"GlyphRenderer\"}],\"show_arrow\":false,\"tooltips\":\"\\n            <div>\\n                <span style=\\\"font-size: 12px; font-weight: bold;\\\">United Kingdom</span><br>\\n                <span style=\\\"font-size: 12px;\\\">@Date:</span>\\n                <span style=\\\"font-size: 12px; font-weight: bold;\\\">@yuk{1.1}%</span>\\n            </div>\\n\"},\"id\":\"0a92fe48-b49b-4922-b831-3e3008e851a1\",\"type\":\"HoverTool\"},{\"attributes\":{\"mantissas\":[1,2,5],\"max_interval\":500.0,\"num_minor_ticks\":0},\"id\":\"f0725d74-e99e-425e-921a-beb53ca3c369\",\"type\":\"AdaptiveTicker\"},{\"attributes\":{\"dimension\":1,\"plot\":{\"id\":\"840427b2-d069-4496-9516-5522422e756b\",\"subtype\":\"Figure\",\"type\":\"Plot\"},\"ticker\":{\"id\":\"ac2fd063-f2e5-498c-9000-803dd4fbd399\",\"type\":\"BasicTicker\"}},\"id\":\"36b32032-451c-4b2d-a5b7-965624ac6e86\",\"type\":\"Grid\"},{\"attributes\":{\"line_alpha\":0.1,\"line_color\":\"#1f77b4\",\"line_width\":2.5,\"x\":{\"field\":\"x\"},\"y\":{\"field\":\"yde\"}},\"id\":\"dbc01927-aa83-4e72-9aeb-8ae7f33fda7c\",\"type\":\"Line\"},{\"attributes\":{},\"id\":\"5255a284-73b8-4233-bcd5-f2bc62635620\",\"type\":\"PanTool\"},{\"attributes\":{\"source\":{\"id\":\"7531e3cf-fc7a-409f-8cf8-169730dfc276\",\"type\":\"ColumnDataSource\"}},\"id\":\"ce486854-8126-48a4-a574-4f5bddb70093\",\"type\":\"CDSView\"},{\"attributes\":{},\"id\":\"a83d1b5c-9d28-4c37-9a39-90d08b1a86bc\",\"type\":\"WheelZoomTool\"},{\"attributes\":{\"overlay\":{\"id\":\"3e284443-6ae4-487b-af03-01c1da3fbbdc\",\"type\":\"BoxAnnotation\"}},\"id\":\"c7274f94-ff9b-4e9e-b3c5-58cc4d4001c8\",\"type\":\"BoxZoomTool\"},{\"attributes\":{},\"id\":\"9f6a1a75-3f5a-444d-9131-63866434a29d\",\"type\":\"ResetTool\"},{\"attributes\":{\"bottom_units\":\"screen\",\"fill_alpha\":{\"value\":0.5},\"fill_color\":{\"value\":\"lightgrey\"},\"left_units\":\"screen\",\"level\":\"overlay\",\"line_alpha\":{\"value\":1.0},\"line_color\":{\"value\":\"black\"},\"line_dash\":[4,4],\"line_width\":{\"value\":2},\"plot\":null,\"render_mode\":\"css\",\"right_units\":\"screen\",\"top_units\":\"screen\"},\"id\":\"3e284443-6ae4-487b-af03-01c1da3fbbdc\",\"type\":\"BoxAnnotation\"},{\"attributes\":{\"data_source\":{\"id\":\"7531e3cf-fc7a-409f-8cf8-169730dfc276\",\"type\":\"ColumnDataSource\"},\"glyph\":{\"id\":\"f1c7d7e0-a4d2-4338-92d1-50eb3b0db21c\",\"type\":\"Line\"},\"hover_glyph\":null,\"level\":\"overlay\",\"muted_glyph\":null,\"nonselection_glyph\":{\"id\":\"dbc01927-aa83-4e72-9aeb-8ae7f33fda7c\",\"type\":\"Line\"},\"selection_glyph\":null,\"view\":{\"id\":\"ce486854-8126-48a4-a574-4f5bddb70093\",\"type\":\"CDSView\"}},\"id\":\"9d69479f-3ff4-48a2-b997-3a8fd542ff6a\",\"type\":\"GlyphRenderer\"},{\"attributes\":{},\"id\":\"3433d701-c5cc-4003-97c8-8dbd33fca7a6\",\"type\":\"BasicTickFormatter\"},{\"attributes\":{},\"id\":\"b1e93fdf-ddad-4a2b-8a35-41661442cf61\",\"type\":\"DatetimeTickFormatter\"},{\"attributes\":{\"line_color\":{\"value\":\"gray\"},\"location\":0,\"plot\":{\"id\":\"840427b2-d069-4496-9516-5522422e756b\",\"subtype\":\"Figure\",\"type\":\"Plot\"}},\"id\":\"dafb2fe1-fa99-4263-90c6-a30690e49a1e\",\"type\":\"Span\"},{\"attributes\":{\"source\":{\"id\":\"7531e3cf-fc7a-409f-8cf8-169730dfc276\",\"type\":\"ColumnDataSource\"}},\"id\":\"52e7e94e-5173-4cb7-98ca-5a0644016bc6\",\"type\":\"CDSView\"},{\"attributes\":{\"active_drag\":null,\"active_inspect\":\"auto\",\"active_scroll\":\"auto\",\"active_tap\":\"auto\",\"logo\":null,\"tools\":[{\"id\":\"5255a284-73b8-4233-bcd5-f2bc62635620\",\"type\":\"PanTool\"},{\"id\":\"a83d1b5c-9d28-4c37-9a39-90d08b1a86bc\",\"type\":\"WheelZoomTool\"},{\"id\":\"c7274f94-ff9b-4e9e-b3c5-58cc4d4001c8\",\"type\":\"BoxZoomTool\"},{\"id\":\"9f6a1a75-3f5a-444d-9131-63866434a29d\",\"type\":\"ResetTool\"},{\"id\":\"cb215adb-b936-4183-8353-addba9fd2ca9\",\"type\":\"HoverTool\"},{\"id\":\"0a92fe48-b49b-4922-b831-3e3008e851a1\",\"type\":\"HoverTool\"}]},\"id\":\"093a3b84-0ff5-4bf6-bc0a-eecb634e7aa9\",\"type\":\"Toolbar\"},{\"attributes\":{\"days\":[1,15]},\"id\":\"e001262c-03c2-4889-8600-06dd3a1104c5\",\"type\":\"DaysTicker\"},{\"attributes\":{\"days\":[1,8,15,22]},\"id\":\"9146a7e1-58e0-48a6-a047-15a4547f6457\",\"type\":\"DaysTicker\"},{\"attributes\":{\"plot\":null,\"text\":\"\"},\"id\":\"40c39413-0c62-42a7-8532-cd060d39e88d\",\"type\":\"Title\"},{\"attributes\":{\"callback\":null},\"id\":\"00031870-a6b0-449b-bf00-8547ac0a1394\",\"type\":\"DataRange1d\"},{\"attributes\":{\"base\":60,\"mantissas\":[1,2,5,10,15,20,30],\"max_interval\":1800000.0,\"min_interval\":1000.0,\"num_minor_ticks\":0},\"id\":\"bfce336f-8b75-4629-be26-06e4bc642364\",\"type\":\"AdaptiveTicker\"},{\"attributes\":{\"line_color\":\"#163172\",\"line_width\":2.5,\"x\":{\"field\":\"x\"},\"y\":{\"field\":\"yde\"}},\"id\":\"f1c7d7e0-a4d2-4338-92d1-50eb3b0db21c\",\"type\":\"Line\"},{\"attributes\":{\"base\":24,\"mantissas\":[1,2,4,6,8,12],\"max_interval\":43200000.0,\"min_interval\":3600000.0,\"num_minor_ticks\":0},\"id\":\"cf0e2ebc-3ce0-41bd-9754-fbc21346b858\",\"type\":\"AdaptiveTicker\"},{\"attributes\":{\"grid_line_color\":{\"value\":null},\"plot\":{\"id\":\"840427b2-d069-4496-9516-5522422e756b\",\"subtype\":\"Figure\",\"type\":\"Plot\"},\"ticker\":{\"id\":\"85be7c58-7331-4e88-b3c6-c0312d8e0d75\",\"type\":\"DatetimeTicker\"}},\"id\":\"3a0e355b-203b-4a27-a350-e6082f3d606e\",\"type\":\"Grid\"},{\"attributes\":{\"label\":{\"value\":\"United Kingdom\"},\"renderers\":[{\"id\":\"9fc80ed0-e10d-4c38-bb77-6bd93098c59e\",\"type\":\"GlyphRenderer\"}]},\"id\":\"4aff9529-0f93-4d71-b8e4-32e79672208e\",\"type\":\"LegendItem\"},{\"attributes\":{\"line_color\":\"#09a8fa\",\"line_width\":2.5,\"x\":{\"field\":\"x\"},\"y\":{\"field\":\"yuk\"}},\"id\":\"659e5625-38b3-4b27-81c9-0f43f680b8e4\",\"type\":\"Line\"},{\"attributes\":{\"days\":[1,2,3,4,5,6,7,8,9,10,11,12,13,14,15,16,17,18,19,20,21,22,23,24,25,26,27,28,29,30,31]},\"id\":\"8335448e-4705-4f3e-b939-72e0b975d522\",\"type\":\"DaysTicker\"},{\"attributes\":{\"days\":[1,4,7,10,13,16,19,22,25,28]},\"id\":\"5724d3a8-d8b5-4d07-8c18-0cafe562f396\",\"type\":\"DaysTicker\"},{\"attributes\":{\"callback\":null},\"id\":\"1e67f82f-43e5-4bc9-8715-70535f9b9fcc\",\"type\":\"DataRange1d\"},{\"attributes\":{\"months\":[0,1,2,3,4,5,6,7,8,9,10,11]},\"id\":\"8307d10b-312b-4610-a33a-7a8e71b7f52b\",\"type\":\"MonthsTicker\"},{\"attributes\":{\"months\":[0,2,4,6,8,10]},\"id\":\"da22a551-fc6e-4475-ae37-f3b3c3db3255\",\"type\":\"MonthsTicker\"},{\"attributes\":{\"below\":[{\"id\":\"7c78ab26-f579-4a84-a469-ef0d9899fb24\",\"type\":\"DatetimeAxis\"}],\"left\":[{\"id\":\"43323ece-388c-445c-a708-4b768be8d9cd\",\"type\":\"LinearAxis\"}],\"outline_line_color\":{\"value\":\"white\"},\"plot_height\":300,\"plot_width\":700,\"renderers\":[{\"id\":\"7c78ab26-f579-4a84-a469-ef0d9899fb24\",\"type\":\"DatetimeAxis\"},{\"id\":\"3a0e355b-203b-4a27-a350-e6082f3d606e\",\"type\":\"Grid\"},{\"id\":\"43323ece-388c-445c-a708-4b768be8d9cd\",\"type\":\"LinearAxis\"},{\"id\":\"36b32032-451c-4b2d-a5b7-965624ac6e86\",\"type\":\"Grid\"},{\"id\":\"3e284443-6ae4-487b-af03-01c1da3fbbdc\",\"type\":\"BoxAnnotation\"},{\"id\":\"dafb2fe1-fa99-4263-90c6-a30690e49a1e\",\"type\":\"Span\"},{\"id\":\"7d02683e-aa79-4c6c-9c4b-1aba001ae110\",\"type\":\"Legend\"},{\"id\":\"9d69479f-3ff4-48a2-b997-3a8fd542ff6a\",\"type\":\"GlyphRenderer\"},{\"id\":\"9fc80ed0-e10d-4c38-bb77-6bd93098c59e\",\"type\":\"GlyphRenderer\"}],\"sizing_mode\":\"scale_width\",\"title\":{\"id\":\"40c39413-0c62-42a7-8532-cd060d39e88d\",\"type\":\"Title\"},\"toolbar\":{\"id\":\"093a3b84-0ff5-4bf6-bc0a-eecb634e7aa9\",\"type\":\"Toolbar\"},\"toolbar_location\":null,\"toolbar_sticky\":false,\"x_range\":{\"id\":\"00031870-a6b0-449b-bf00-8547ac0a1394\",\"type\":\"DataRange1d\"},\"x_scale\":{\"id\":\"d9168ae6-270d-4d50-8ab2-6b6eebb9414b\",\"type\":\"LinearScale\"},\"y_range\":{\"id\":\"1e67f82f-43e5-4bc9-8715-70535f9b9fcc\",\"type\":\"DataRange1d\"},\"y_scale\":{\"id\":\"00e68670-a7c5-46cd-b2da-d6056b4d811f\",\"type\":\"LinearScale\"}},\"id\":\"840427b2-d069-4496-9516-5522422e756b\",\"subtype\":\"Figure\",\"type\":\"Plot\"},{\"attributes\":{\"months\":[0,4,8]},\"id\":\"0ad944cd-484e-4182-bc3f-c76905e5199c\",\"type\":\"MonthsTicker\"},{\"attributes\":{},\"id\":\"d9168ae6-270d-4d50-8ab2-6b6eebb9414b\",\"type\":\"LinearScale\"},{\"attributes\":{\"months\":[0,6]},\"id\":\"a5335a59-f904-45de-964d-824dabef6e9a\",\"type\":\"MonthsTicker\"},{\"attributes\":{},\"id\":\"7365fe0e-6b52-4cef-8ae5-4c2306e6d022\",\"type\":\"YearsTicker\"},{\"attributes\":{},\"id\":\"00e68670-a7c5-46cd-b2da-d6056b4d811f\",\"type\":\"LinearScale\"},{\"attributes\":{\"background_fill_alpha\":{\"value\":0},\"border_line_alpha\":{\"value\":0},\"items\":[{\"id\":\"d257e0ef-1684-43c6-9868-fd0900b776b3\",\"type\":\"LegendItem\"},{\"id\":\"4aff9529-0f93-4d71-b8e4-32e79672208e\",\"type\":\"LegendItem\"}],\"location\":\"top_center\",\"margin\":0,\"orientation\":\"horizontal\",\"padding\":0,\"plot\":{\"id\":\"840427b2-d069-4496-9516-5522422e756b\",\"subtype\":\"Figure\",\"type\":\"Plot\"},\"spacing\":15},\"id\":\"7d02683e-aa79-4c6c-9c4b-1aba001ae110\",\"type\":\"Legend\"},{\"attributes\":{\"data_source\":{\"id\":\"7531e3cf-fc7a-409f-8cf8-169730dfc276\",\"type\":\"ColumnDataSource\"},\"glyph\":{\"id\":\"659e5625-38b3-4b27-81c9-0f43f680b8e4\",\"type\":\"Line\"},\"hover_glyph\":null,\"level\":\"overlay\",\"muted_glyph\":null,\"nonselection_glyph\":{\"id\":\"9cd3e0c1-39cf-4d87-bbfa-273ce61d379c\",\"type\":\"Line\"},\"selection_glyph\":null,\"view\":{\"id\":\"52e7e94e-5173-4cb7-98ca-5a0644016bc6\",\"type\":\"CDSView\"}},\"id\":\"9fc80ed0-e10d-4c38-bb77-6bd93098c59e\",\"type\":\"GlyphRenderer\"},{\"attributes\":{\"num_minor_ticks\":5,\"tickers\":[{\"id\":\"f0725d74-e99e-425e-921a-beb53ca3c369\",\"type\":\"AdaptiveTicker\"},{\"id\":\"bfce336f-8b75-4629-be26-06e4bc642364\",\"type\":\"AdaptiveTicker\"},{\"id\":\"cf0e2ebc-3ce0-41bd-9754-fbc21346b858\",\"type\":\"AdaptiveTicker\"},{\"id\":\"8335448e-4705-4f3e-b939-72e0b975d522\",\"type\":\"DaysTicker\"},{\"id\":\"5724d3a8-d8b5-4d07-8c18-0cafe562f396\",\"type\":\"DaysTicker\"},{\"id\":\"9146a7e1-58e0-48a6-a047-15a4547f6457\",\"type\":\"DaysTicker\"},{\"id\":\"e001262c-03c2-4889-8600-06dd3a1104c5\",\"type\":\"DaysTicker\"},{\"id\":\"8307d10b-312b-4610-a33a-7a8e71b7f52b\",\"type\":\"MonthsTicker\"},{\"id\":\"da22a551-fc6e-4475-ae37-f3b3c3db3255\",\"type\":\"MonthsTicker\"},{\"id\":\"0ad944cd-484e-4182-bc3f-c76905e5199c\",\"type\":\"MonthsTicker\"},{\"id\":\"a5335a59-f904-45de-964d-824dabef6e9a\",\"type\":\"MonthsTicker\"},{\"id\":\"7365fe0e-6b52-4cef-8ae5-4c2306e6d022\",\"type\":\"YearsTicker\"}]},\"id\":\"85be7c58-7331-4e88-b3c6-c0312d8e0d75\",\"type\":\"DatetimeTicker\"},{\"attributes\":{\"label\":{\"value\":\"Germany\"},\"renderers\":[{\"id\":\"9d69479f-3ff4-48a2-b997-3a8fd542ff6a\",\"type\":\"GlyphRenderer\"}]},\"id\":\"d257e0ef-1684-43c6-9868-fd0900b776b3\",\"type\":\"LegendItem\"},{\"attributes\":{\"callback\":null,\"column_names\":[\"x\",\"yde\",\"yuk\",\"Date\"],\"data\":{\"Date\":[\"Jan 1992\",\"Feb 1992\",\"Mar 1992\",\"Apr 1992\",\"May 1992\",\"Jun 1992\",\"Jul 1992\",\"Aug 1992\",\"Sep 1992\",\"Oct 1992\",\"Nov 1992\",\"Dec 1992\",\"Jan 1993\",\"Feb 1993\",\"Mar 1993\",\"Apr 1993\",\"May 1993\",\"Jun 1993\",\"Jul 1993\",\"Aug 1993\",\"Sep 1993\",\"Oct 1993\",\"Nov 1993\",\"Dec 1993\",\"Jan 1994\",\"Feb 1994\",\"Mar 1994\",\"Apr 1994\",\"May 1994\",\"Jun 1994\",\"Jul 1994\",\"Aug 1994\",\"Sep 1994\",\"Oct 1994\",\"Nov 1994\",\"Dec 1994\",\"Jan 1995\",\"Feb 1995\",\"Mar 1995\",\"Apr 1995\",\"May 1995\",\"Jun 1995\",\"Jul 1995\",\"Aug 1995\",\"Sep 1995\",\"Oct 1995\",\"Nov 1995\",\"Dec 1995\",\"Jan 1996\",\"Feb 1996\",\"Mar 1996\",\"Apr 1996\",\"May 1996\",\"Jun 1996\",\"Jul 1996\",\"Aug 1996\",\"Sep 1996\",\"Oct 1996\",\"Nov 1996\",\"Dec 1996\",\"Jan 1997\",\"Feb 1997\",\"Mar 1997\",\"Apr 1997\",\"May 1997\",\"Jun 1997\",\"Jul 1997\",\"Aug 1997\",\"Sep 1997\",\"Oct 1997\",\"Nov 1997\",\"Dec 1997\",\"Jan 1998\",\"Feb 1998\",\"Mar 1998\",\"Apr 1998\",\"May 1998\",\"Jun 1998\",\"Jul 1998\",\"Aug 1998\",\"Sep 1998\",\"Oct 1998\",\"Nov 1998\",\"Dec 1998\",\"Jan 1999\",\"Feb 1999\",\"Mar 1999\",\"Apr 1999\",\"May 1999\",\"Jun 1999\",\"Jul 1999\",\"Aug 1999\",\"Sep 1999\",\"Oct 1999\",\"Nov 1999\",\"Dec 1999\",\"Jan 2000\",\"Feb 2000\",\"Mar 2000\",\"Apr 2000\",\"May 2000\",\"Jun 2000\",\"Jul 2000\",\"Aug 2000\",\"Sep 2000\",\"Oct 2000\",\"Nov 2000\",\"Dec 2000\",\"Jan 2001\",\"Feb 2001\",\"Mar 2001\",\"Apr 2001\",\"May 2001\",\"Jun 2001\",\"Jul 2001\",\"Aug 2001\",\"Sep 2001\",\"Oct 2001\",\"Nov 2001\",\"Dec 2001\",\"Jan 2002\",\"Feb 2002\",\"Mar 2002\",\"Apr 2002\",\"May 2002\",\"Jun 2002\",\"Jul 2002\",\"Aug 2002\",\"Sep 2002\",\"Oct 2002\",\"Nov 2002\",\"Dec 2002\",\"Jan 2003\",\"Feb 2003\",\"Mar 2003\",\"Apr 2003\",\"May 2003\",\"Jun 2003\",\"Jul 2003\",\"Aug 2003\",\"Sep 2003\",\"Oct 2003\",\"Nov 2003\",\"Dec 2003\",\"Jan 2004\",\"Feb 2004\",\"Mar 2004\",\"Apr 2004\",\"May 2004\",\"Jun 2004\",\"Jul 2004\",\"Aug 2004\",\"Sep 2004\",\"Oct 2004\",\"Nov 2004\",\"Dec 2004\",\"Jan 2005\",\"Feb 2005\",\"Mar 2005\",\"Apr 2005\",\"May 2005\",\"Jun 2005\",\"Jul 2005\",\"Aug 2005\",\"Sep 2005\",\"Oct 2005\",\"Nov 2005\",\"Dec 2005\",\"Jan 2006\",\"Feb 2006\",\"Mar 2006\",\"Apr 2006\",\"May 2006\",\"Jun 2006\",\"Jul 2006\",\"Aug 2006\",\"Sep 2006\",\"Oct 2006\",\"Nov 2006\",\"Dec 2006\",\"Jan 2007\",\"Feb 2007\",\"Mar 2007\",\"Apr 2007\",\"May 2007\",\"Jun 2007\",\"Jul 2007\",\"Aug 2007\",\"Sep 2007\",\"Oct 2007\",\"Nov 2007\",\"Dec 2007\",\"Jan 2008\",\"Feb 2008\",\"Mar 2008\",\"Apr 2008\",\"May 2008\",\"Jun 2008\",\"Jul 2008\",\"Aug 2008\",\"Sep 2008\",\"Oct 2008\",\"Nov 2008\",\"Dec 2008\",\"Jan 2009\",\"Feb 2009\",\"Mar 2009\",\"Apr 2009\",\"May 2009\",\"Jun 2009\",\"Jul 2009\",\"Aug 2009\",\"Sep 2009\",\"Oct 2009\",\"Nov 2009\",\"Dec 2009\",\"Jan 2010\",\"Feb 2010\",\"Mar 2010\",\"Apr 2010\",\"May 2010\",\"Jun 2010\",\"Jul 2010\",\"Aug 2010\",\"Sep 2010\",\"Oct 2010\",\"Nov 2010\",\"Dec 2010\",\"Jan 2011\",\"Feb 2011\",\"Mar 2011\",\"Apr 2011\",\"May 2011\",\"Jun 2011\",\"Jul 2011\",\"Aug 2011\",\"Sep 2011\",\"Oct 2011\",\"Nov 2011\",\"Dec 2011\",\"Jan 2012\",\"Feb 2012\",\"Mar 2012\",\"Apr 2012\",\"May 2012\",\"Jun 2012\",\"Jul 2012\",\"Aug 2012\",\"Sep 2012\",\"Oct 2012\",\"Nov 2012\",\"Dec 2012\",\"Jan 2013\",\"Feb 2013\",\"Mar 2013\",\"Apr 2013\",\"May 2013\",\"Jun 2013\",\"Jul 2013\",\"Aug 2013\",\"Sep 2013\",\"Oct 2013\",\"Nov 2013\",\"Dec 2013\",\"Jan 2014\",\"Feb 2014\",\"Mar 2014\",\"Apr 2014\",\"May 2014\",\"Jun 2014\",\"Jul 2014\",\"Aug 2014\",\"Sep 2014\",\"Oct 2014\",\"Nov 2014\",\"Dec 2014\",\"Jan 2015\",\"Feb 2015\",\"Mar 2015\",\"Apr 2015\",\"May 2015\",\"Jun 2015\",\"Jul 2015\",\"Aug 2015\",\"Sep 2015\",\"Oct 2015\",\"Nov 2015\",\"Dec 2015\",\"Jan 2016\",\"Feb 2016\",\"Mar 2016\",\"Apr 2016\",\"May 2016\",\"Jun 2016\",\"Jul 2016\",\"Aug 2016\",\"Sep 2016\",\"Oct 2016\",\"Nov 2016\",\"Dec 2016\",\"Jan 2017\",\"Feb 2017\",\"Mar 2017\",\"Apr 2017\",\"May 2017\",\"Jun 2017\",\"Jul 2017\",\"Aug 2017\",\"Sep 2017\",\"Oct 2017\",\"Nov 2017\",\"Dec 2017\",\"Jan 2018\",\"Feb 2018\"],\"x\":{\"__ndarray__\":\"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\",\"dtype\":\"float64\",\"shape\":[314]},\"yde\":{\"__ndarray__\":\"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\",\"dtype\":\"float64\",\"shape\":[314]},\"yuk\":{\"__ndarray__\":\"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\",\"dtype\":\"float64\",\"shape\":[314]}}},\"id\":\"7531e3cf-fc7a-409f-8cf8-169730dfc276\",\"type\":\"ColumnDataSource\"},{\"attributes\":{\"callback\":null,\"renderers\":[{\"id\":\"9d69479f-3ff4-48a2-b997-3a8fd542ff6a\",\"type\":\"GlyphRenderer\"}],\"show_arrow\":false,\"tooltips\":\"\\n            <div>\\n                <span style=\\\"font-size: 12px; font-weight: bold;\\\">Germany</span><br>\\n                <span style=\\\"font-size: 12px;\\\">@Date:</span>\\n                <span style=\\\"font-size: 12px; font-weight: bold;\\\">@yde{1.1}%</span>\\n            </div>\\n\"},\"id\":\"cb215adb-b936-4183-8353-addba9fd2ca9\",\"type\":\"HoverTool\"},{\"attributes\":{\"axis_line_color\":{\"value\":\"white\"},\"formatter\":{\"id\":\"b1e93fdf-ddad-4a2b-8a35-41661442cf61\",\"type\":\"DatetimeTickFormatter\"},\"plot\":{\"id\":\"840427b2-d069-4496-9516-5522422e756b\",\"subtype\":\"Figure\",\"type\":\"Plot\"},\"ticker\":{\"id\":\"85be7c58-7331-4e88-b3c6-c0312d8e0d75\",\"type\":\"DatetimeTicker\"}},\"id\":\"7c78ab26-f579-4a84-a469-ef0d9899fb24\",\"type\":\"DatetimeAxis\"},{\"attributes\":{\"line_alpha\":0.1,\"line_color\":\"#1f77b4\",\"line_width\":2.5,\"x\":{\"field\":\"x\"},\"y\":{\"field\":\"yuk\"}},\"id\":\"9cd3e0c1-39cf-4d87-bbfa-273ce61d379c\",\"type\":\"Line\"},{\"attributes\":{\"axis_line_color\":{\"value\":\"white\"},\"formatter\":{\"id\":\"3433d701-c5cc-4003-97c8-8dbd33fca7a6\",\"type\":\"BasicTickFormatter\"},\"plot\":{\"id\":\"840427b2-d069-4496-9516-5522422e756b\",\"subtype\":\"Figure\",\"type\":\"Plot\"},\"ticker\":{\"id\":\"ac2fd063-f2e5-498c-9000-803dd4fbd399\",\"type\":\"BasicTicker\"}},\"id\":\"43323ece-388c-445c-a708-4b768be8d9cd\",\"type\":\"LinearAxis\"}],\"root_ids\":[\"840427b2-d069-4496-9516-5522422e756b\"]},\"title\":\"Bokeh Application\",\"version\":\"0.12.14\"}};\n",
       "  var render_items = [{\"docid\":\"c03909ca-f803-48e0-b539-9bbcff0d3728\",\"elementid\":\"743167f2-49ee-4498-89f3-88c6926f80c8\",\"modelid\":\"840427b2-d069-4496-9516-5522422e756b\"}];\n",
       "  root.Bokeh.embed.embed_items_notebook(docs_json, render_items);\n",
       "\n",
       "  }\n",
       "  if (root.Bokeh !== undefined) {\n",
       "    embed_document(root);\n",
       "  } else {\n",
       "    var attempts = 0;\n",
       "    var timer = setInterval(function(root) {\n",
       "      if (root.Bokeh !== undefined) {\n",
       "        embed_document(root);\n",
       "        clearInterval(timer);\n",
       "      }\n",
       "      attempts++;\n",
       "      if (attempts > 100) {\n",
       "        console.log(\"Bokeh: ERROR: Unable to run BokehJS code because BokehJS library is missing\")\n",
       "        clearInterval(timer);\n",
       "      }\n",
       "    }, 10, root)\n",
       "  }\n",
       "})(window);"
      ],
      "application/vnd.bokehjs_exec.v0+json": ""
     },
     "metadata": {
      "application/vnd.bokehjs_exec.v0+json": {
       "id": "840427b2-d069-4496-9516-5522422e756b"
      }
     },
     "output_type": "display_data"
    }
   ],
   "source": [
    "#Plotting CPI for Germany and the UK\n",
    "source = ColumnDataSource({'x': df.index, 'yde': df.DE, 'yuk': df.GB, 'Date': df.index.strftime('%b %Y')})\n",
    "tooltipsde = \"\"\"\n",
    "            <div>\n",
    "                <span style=\"font-size: 12px; font-weight: bold;\">Germany</span><br>\n",
    "                <span style=\"font-size: 12px;\">@Date:</span>\n",
    "                <span style=\"font-size: 12px; font-weight: bold;\">@yde{1.1}%</span>\n",
    "            </div>\n",
    "\"\"\"\n",
    "tooltipsuk = \"\"\"\n",
    "            <div>\n",
    "                <span style=\"font-size: 12px; font-weight: bold;\">United Kingdom</span><br>\n",
    "                <span style=\"font-size: 12px;\">@Date:</span>\n",
    "                <span style=\"font-size: 12px; font-weight: bold;\">@yuk{1.1}%</span>\n",
    "            </div>\n",
    "\"\"\"\n",
    "# horizontal line at zero\n",
    "hline = Span(location=0, dimension='width', line_color='gray', line_width=1)\n",
    "p = figure(width=700,height=300,x_axis_type='datetime',\n",
    "           tools=['pan,wheel_zoom,box_zoom,reset'], logo=None,\n",
    "           toolbar_location=None, toolbar_sticky=False)\n",
    "p.add_layout(hline)\n",
    "p.sizing_mode = 'scale_width'\n",
    "r1 = p.line('x', 'yde', source=source, legend='Germany', \n",
    "            line_width=2.5, color='#163172', alpha=1.0, level='overlay')\n",
    "r2 = p.line('x', 'yuk', source=source, legend='United Kingdom', \n",
    "            line_width=2.5, color='#09a8fa', alpha=1.0, level='overlay')\n",
    "p.legend.orientation = \"horizontal\"\n",
    "p.legend.location = \"top_center\"\n",
    "p.legend.border_line_alpha = 0\n",
    "p.legend.background_fill_alpha = 0\n",
    "p.legend.margin = 0\n",
    "p.legend.padding = 0\n",
    "p.legend.spacing = 15\n",
    "p.xgrid.grid_line_color = None\n",
    "p.outline_line_color = 'white'\n",
    "p.axis.axis_line_color = 'white'\n",
    "p.add_tools(HoverTool(tooltips=tooltipsde, renderers=[r1], show_arrow=False))\n",
    "p.add_tools(HoverTool(tooltips=tooltipsuk, renderers=[r2], show_arrow=False))\n",
    "p.toolbar.active_drag = None\n",
    "script, div = components(p)\n",
    "\n",
    "with open('C:/Working/bdecon.github.io/plots/eu_cpi.html', 'w') as text_file:\n",
    "    text_file.write('{} {}'.format(script, div))\n",
    "    \n",
    "show(p)"
   ]
  },
  {
   "cell_type": "markdown",
   "metadata": {},
   "source": [
    "# German CPI"
   ]
  },
  {
   "cell_type": "code",
   "execution_count": 113,
   "metadata": {
    "ExecuteTime": {
     "end_time": "2018-03-17T20:47:54.725884Z",
     "start_time": "2018-03-17T20:47:54.147709Z"
    },
    "code_folding": []
   },
   "outputs": [],
   "source": [
    "# Germany CPI in Bokeh plot\n",
    "url = 'http://dataservices.imf.org/REST/SDMX_JSON.svc/'\n",
    "key = 'CompactData/IFS/M.DE.PCPI_PC_CP_A_PT' # adjust as needed\n",
    "data = requests.get('{}{}'.format(url,key)).json()\n",
    "# Navigate to observations in JSON data\n",
    "obs = data['CompactData']['DataSet']['Series']['Obs']\n",
    "\n",
    "# Create pandas dataframe from the observations\n",
    "df = pd.DataFrame(obs)[['@OBS_VALUE','@TIME_PERIOD']]\n",
    "df.columns = ['value', 'date']\n",
    "df.loc[:,'value'] = df['value'].astype(float).round(1)\n",
    "df = df.set_index(pd.to_datetime(df['date']))['value']\n",
    "\n",
    "source = ColumnDataSource({'x': df.index, 'y': df.values, 'Date': df.index.strftime('%b %Y')})\n",
    "tooltips = \"\"\"\n",
    "            <div>\n",
    "                <span style=\"font-size: 12px;\">@Date:</span>\n",
    "                <span style=\"font-size: 12px; font-weight: bold;\">@y{1.1}%</span>\n",
    "            </div>\n",
    "\"\"\"\n",
    "# horizontal line at zero\n",
    "hline = Span(location=0, dimension='width', line_color='gray', line_width=1)\n",
    "p = figure(width=700,height=300,x_axis_type='datetime',\n",
    "           tools=['pan,wheel_zoom,box_zoom,reset'], logo=None,\n",
    "           toolbar_location=None, toolbar_sticky=False)\n",
    "p.add_layout(hline)\n",
    "p.sizing_mode = 'scale_width'\n",
    "p.line('x', 'y', source = source, line_width=3, color='Orange', alpha=1.0, level='overlay')\n",
    "p.xgrid.grid_line_color = None\n",
    "p.outline_line_color = 'white'\n",
    "p.axis.axis_line_color = 'white'\n",
    "p.add_tools(HoverTool(tooltips=tooltips, line_policy='nearest', show_arrow=False))\n",
    "p.toolbar.active_drag = None\n",
    "script, div = components(p)\n",
    "\n",
    "with open('C:/Working/bdecon.github.io/plots/de_cpi.html', 'w') as text_file:\n",
    "    text_file.write('{} {}'.format(script, div))\n",
    "    \n",
    "show(p)"
   ]
  },
  {
   "cell_type": "markdown",
   "metadata": {},
   "source": [
    "# MXN per USD"
   ]
  },
  {
   "cell_type": "code",
   "execution_count": 116,
   "metadata": {
    "ExecuteTime": {
     "end_time": "2018-03-17T21:08:26.373930Z",
     "start_time": "2018-03-17T21:08:25.701997Z"
    },
    "code_folding": [
     0
    ],
    "collapsed": true
   },
   "outputs": [
    {
     "data": {
      "text/html": [
       "\n",
       "<div class=\"bk-root\">\n",
       "    <div class=\"bk-plotdiv\" id=\"c7b026aa-8e79-4898-b9ab-8165cda3a23b\"></div>\n",
       "</div>"
      ]
     },
     "metadata": {},
     "output_type": "display_data"
    },
    {
     "data": {
      "application/javascript": [
       "(function(root) {\n",
       "  function embed_document(root) {\n",
       "    \n",
       "  var docs_json = {\"7fe0794d-e9e4-414d-829f-8009036af746\":{\"roots\":{\"references\":[{\"attributes\":{\"base\":24,\"mantissas\":[1,2,4,6,8,12],\"max_interval\":43200000.0,\"min_interval\":3600000.0,\"num_minor_ticks\":0},\"id\":\"f122656d-11d5-4b5b-874c-7ca1a2a5e3ae\",\"type\":\"AdaptiveTicker\"},{\"attributes\":{\"grid_line_color\":{\"value\":null},\"plot\":{\"id\":\"22ad4b17-5af5-463d-ad8b-994078232db6\",\"subtype\":\"Figure\",\"type\":\"Plot\"},\"ticker\":{\"id\":\"bdec73d7-07b2-4245-9592-83f76f29b6d1\",\"type\":\"DatetimeTicker\"}},\"id\":\"99e26d7c-44b3-4d40-b367-dce6c0204b72\",\"type\":\"Grid\"},{\"attributes\":{},\"id\":\"4516894a-50f8-4a5e-b7c1-91c18b469f65\",\"type\":\"BasicTickFormatter\"},{\"attributes\":{\"months\":[0,2,4,6,8,10]},\"id\":\"60eb18cf-f3a8-46dc-a129-f536acfd5f4f\",\"type\":\"MonthsTicker\"},{\"attributes\":{},\"id\":\"2a695015-5fb4-4b23-8e2b-9940b4f81bd2\",\"type\":\"BasicTicker\"},{\"attributes\":{\"days\":[1,8,15,22]},\"id\":\"b2c3284a-7e99-4497-b9a0-6943c1578bbc\",\"type\":\"DaysTicker\"},{\"attributes\":{\"below\":[{\"id\":\"c5170eee-19c3-4b31-9f53-1d6ebb1af699\",\"type\":\"DatetimeAxis\"}],\"left\":[{\"id\":\"556ae048-9f4b-4667-a313-725ab7f4d520\",\"type\":\"LinearAxis\"}],\"outline_line_color\":{\"value\":\"white\"},\"plot_height\":300,\"plot_width\":700,\"renderers\":[{\"id\":\"c5170eee-19c3-4b31-9f53-1d6ebb1af699\",\"type\":\"DatetimeAxis\"},{\"id\":\"99e26d7c-44b3-4d40-b367-dce6c0204b72\",\"type\":\"Grid\"},{\"id\":\"556ae048-9f4b-4667-a313-725ab7f4d520\",\"type\":\"LinearAxis\"},{\"id\":\"14e40f1d-a158-4dc7-bc6c-7551dda3662c\",\"type\":\"Grid\"},{\"id\":\"0d74f7df-0187-40e3-affb-901830135ef2\",\"type\":\"BoxAnnotation\"},{\"id\":\"92a7d0a5-bcb7-4320-837b-a1dff37eff19\",\"type\":\"GlyphRenderer\"}],\"sizing_mode\":\"scale_width\",\"title\":{\"id\":\"e305c72b-e5a5-4179-b8ad-cf2d4a98e8ae\",\"type\":\"Title\"},\"toolbar\":{\"id\":\"8d5cf5a4-1669-45a4-9e29-8e1b582c7a33\",\"type\":\"Toolbar\"},\"toolbar_location\":null,\"toolbar_sticky\":false,\"x_range\":{\"id\":\"baabe831-4c06-424d-986e-3da4ea297302\",\"type\":\"DataRange1d\"},\"x_scale\":{\"id\":\"d274b42a-0711-416b-a9f8-49b550666168\",\"type\":\"LinearScale\"},\"y_range\":{\"id\":\"5a9eedc4-7b8e-4f02-815c-8adc149873e1\",\"type\":\"DataRange1d\"},\"y_scale\":{\"id\":\"840ed082-a329-4954-b62c-3e1da367391c\",\"type\":\"LinearScale\"}},\"id\":\"22ad4b17-5af5-463d-ad8b-994078232db6\",\"subtype\":\"Figure\",\"type\":\"Plot\"},{\"attributes\":{\"months\":[0,1,2,3,4,5,6,7,8,9,10,11]},\"id\":\"b55e41e0-1508-4ae3-9796-c5b23565b8fc\",\"type\":\"MonthsTicker\"},{\"attributes\":{},\"id\":\"b162d54c-8fb0-42e1-a2c2-4fb8c459687b\",\"type\":\"DatetimeTickFormatter\"},{\"attributes\":{\"callback\":null,\"show_arrow\":false,\"tooltips\":\"\\n            <div>\\n                <span style=\\\"font-size: 12px;\\\">@Date:</span>\\n                <span style=\\\"font-size: 12px; font-weight: bold;\\\">@y</span>\\n            </div>\\n\"},\"id\":\"acf6009a-b6c1-4469-8dda-ee9d84fb2ac9\",\"type\":\"HoverTool\"},{\"attributes\":{},\"id\":\"d274b42a-0711-416b-a9f8-49b550666168\",\"type\":\"LinearScale\"},{\"attributes\":{\"days\":[1,2,3,4,5,6,7,8,9,10,11,12,13,14,15,16,17,18,19,20,21,22,23,24,25,26,27,28,29,30,31]},\"id\":\"33a032d2-07f9-40b2-8b64-0d9e2151df1c\",\"type\":\"DaysTicker\"},{\"attributes\":{\"days\":[1,15]},\"id\":\"8e8a1303-8eb5-4311-87ef-9b4af09173e4\",\"type\":\"DaysTicker\"},{\"attributes\":{},\"id\":\"b8be812f-68b7-455c-9a33-c9d353d9e99b\",\"type\":\"PanTool\"},{\"attributes\":{\"months\":[0,6]},\"id\":\"3189a3c7-d1da-42f3-be7b-01aa46e9c21f\",\"type\":\"MonthsTicker\"},{\"attributes\":{\"mantissas\":[1,2,5],\"max_interval\":500.0,\"num_minor_ticks\":0},\"id\":\"59d65698-c08f-4373-824a-4b2f69df3604\",\"type\":\"AdaptiveTicker\"},{\"attributes\":{\"months\":[0,4,8]},\"id\":\"176be7c7-7924-4b41-815e-b6c681651fa2\",\"type\":\"MonthsTicker\"},{\"attributes\":{},\"id\":\"b1eed8de-0ba0-4bed-aaa8-630a54109f31\",\"type\":\"YearsTicker\"},{\"attributes\":{\"days\":[1,4,7,10,13,16,19,22,25,28]},\"id\":\"82047da9-bd66-456f-9837-8ea8250fd636\",\"type\":\"DaysTicker\"},{\"attributes\":{\"bottom_units\":\"screen\",\"fill_alpha\":{\"value\":0.5},\"fill_color\":{\"value\":\"lightgrey\"},\"left_units\":\"screen\",\"level\":\"overlay\",\"line_alpha\":{\"value\":1.0},\"line_color\":{\"value\":\"black\"},\"line_dash\":[4,4],\"line_width\":{\"value\":2},\"plot\":null,\"render_mode\":\"css\",\"right_units\":\"screen\",\"top_units\":\"screen\"},\"id\":\"0d74f7df-0187-40e3-affb-901830135ef2\",\"type\":\"BoxAnnotation\"},{\"attributes\":{\"num_minor_ticks\":5,\"tickers\":[{\"id\":\"59d65698-c08f-4373-824a-4b2f69df3604\",\"type\":\"AdaptiveTicker\"},{\"id\":\"de48c079-9ad8-4570-99b7-15777a331463\",\"type\":\"AdaptiveTicker\"},{\"id\":\"f122656d-11d5-4b5b-874c-7ca1a2a5e3ae\",\"type\":\"AdaptiveTicker\"},{\"id\":\"33a032d2-07f9-40b2-8b64-0d9e2151df1c\",\"type\":\"DaysTicker\"},{\"id\":\"82047da9-bd66-456f-9837-8ea8250fd636\",\"type\":\"DaysTicker\"},{\"id\":\"b2c3284a-7e99-4497-b9a0-6943c1578bbc\",\"type\":\"DaysTicker\"},{\"id\":\"8e8a1303-8eb5-4311-87ef-9b4af09173e4\",\"type\":\"DaysTicker\"},{\"id\":\"b55e41e0-1508-4ae3-9796-c5b23565b8fc\",\"type\":\"MonthsTicker\"},{\"id\":\"60eb18cf-f3a8-46dc-a129-f536acfd5f4f\",\"type\":\"MonthsTicker\"},{\"id\":\"176be7c7-7924-4b41-815e-b6c681651fa2\",\"type\":\"MonthsTicker\"},{\"id\":\"3189a3c7-d1da-42f3-be7b-01aa46e9c21f\",\"type\":\"MonthsTicker\"},{\"id\":\"b1eed8de-0ba0-4bed-aaa8-630a54109f31\",\"type\":\"YearsTicker\"}]},\"id\":\"bdec73d7-07b2-4245-9592-83f76f29b6d1\",\"type\":\"DatetimeTicker\"},{\"attributes\":{},\"id\":\"840ed082-a329-4954-b62c-3e1da367391c\",\"type\":\"LinearScale\"},{\"attributes\":{\"axis_line_color\":{\"value\":\"white\"},\"formatter\":{\"id\":\"4516894a-50f8-4a5e-b7c1-91c18b469f65\",\"type\":\"BasicTickFormatter\"},\"plot\":{\"id\":\"22ad4b17-5af5-463d-ad8b-994078232db6\",\"subtype\":\"Figure\",\"type\":\"Plot\"},\"ticker\":{\"id\":\"2a695015-5fb4-4b23-8e2b-9940b4f81bd2\",\"type\":\"BasicTicker\"}},\"id\":\"556ae048-9f4b-4667-a313-725ab7f4d520\",\"type\":\"LinearAxis\"},{\"attributes\":{\"callback\":null},\"id\":\"baabe831-4c06-424d-986e-3da4ea297302\",\"type\":\"DataRange1d\"},{\"attributes\":{\"overlay\":{\"id\":\"0d74f7df-0187-40e3-affb-901830135ef2\",\"type\":\"BoxAnnotation\"}},\"id\":\"0e1ec420-4e67-4957-8d1b-c158dc736e67\",\"type\":\"BoxZoomTool\"},{\"attributes\":{\"callback\":null},\"id\":\"5a9eedc4-7b8e-4f02-815c-8adc149873e1\",\"type\":\"DataRange1d\"},{\"attributes\":{},\"id\":\"0c35f871-e3de-4f94-a86e-8020087a7e15\",\"type\":\"ResetTool\"},{\"attributes\":{\"axis_line_color\":{\"value\":\"white\"},\"formatter\":{\"id\":\"b162d54c-8fb0-42e1-a2c2-4fb8c459687b\",\"type\":\"DatetimeTickFormatter\"},\"plot\":{\"id\":\"22ad4b17-5af5-463d-ad8b-994078232db6\",\"subtype\":\"Figure\",\"type\":\"Plot\"},\"ticker\":{\"id\":\"bdec73d7-07b2-4245-9592-83f76f29b6d1\",\"type\":\"DatetimeTicker\"}},\"id\":\"c5170eee-19c3-4b31-9f53-1d6ebb1af699\",\"type\":\"DatetimeAxis\"},{\"attributes\":{\"source\":{\"id\":\"11c4a15e-1e2c-46c0-ae3b-76dd674afc9f\",\"type\":\"ColumnDataSource\"}},\"id\":\"f0c87deb-4af0-4585-9518-03cfd7f972ee\",\"type\":\"CDSView\"},{\"attributes\":{},\"id\":\"16f7f72a-021d-4b48-9026-c17b728f666f\",\"type\":\"WheelZoomTool\"},{\"attributes\":{\"base\":60,\"mantissas\":[1,2,5,10,15,20,30],\"max_interval\":1800000.0,\"min_interval\":1000.0,\"num_minor_ticks\":0},\"id\":\"de48c079-9ad8-4570-99b7-15777a331463\",\"type\":\"AdaptiveTicker\"},{\"attributes\":{\"dimension\":1,\"plot\":{\"id\":\"22ad4b17-5af5-463d-ad8b-994078232db6\",\"subtype\":\"Figure\",\"type\":\"Plot\"},\"ticker\":{\"id\":\"2a695015-5fb4-4b23-8e2b-9940b4f81bd2\",\"type\":\"BasicTicker\"}},\"id\":\"14e40f1d-a158-4dc7-bc6c-7551dda3662c\",\"type\":\"Grid\"},{\"attributes\":{\"plot\":null,\"text\":\"\",\"text_font_size\":{\"value\":\"14pt\"}},\"id\":\"e305c72b-e5a5-4179-b8ad-cf2d4a98e8ae\",\"type\":\"Title\"},{\"attributes\":{\"callback\":null,\"column_names\":[\"x\",\"y\",\"Date\"],\"data\":{\"Date\":[\"2018-02-28\",\"2018-02-27\",\"2018-02-26\",\"2018-02-23\",\"2018-02-22\",\"2018-02-21\",\"2018-02-20\",\"2018-02-19\",\"2018-02-16\",\"2018-02-15\",\"2018-02-14\",\"2018-02-13\",\"2018-02-12\",\"2018-02-09\",\"2018-02-08\",\"2018-02-07\",\"2018-02-06\",\"2018-02-05\",\"2018-02-02\",\"2018-02-01\",\"2018-01-31\",\"2018-01-30\",\"2018-01-29\",\"2018-01-26\",\"2018-01-25\",\"2018-01-24\",\"2018-01-23\",\"2018-01-22\",\"2018-01-19\",\"2018-01-18\",\"2018-01-17\",\"2018-01-16\",\"2018-01-15\",\"2018-01-12\",\"2018-01-11\",\"2018-01-10\",\"2018-01-09\",\"2018-01-08\",\"2018-01-05\",\"2018-01-04\",\"2018-01-03\",\"2018-01-02\",\"2018-01-01\",\"2017-12-29\",\"2017-12-28\",\"2017-12-27\",\"2017-12-26\",\"2017-12-25\",\"2017-12-22\",\"2017-12-21\",\"2017-12-20\",\"2017-12-19\",\"2017-12-18\",\"2017-12-15\",\"2017-12-14\",\"2017-12-13\",\"2017-12-12\",\"2017-12-11\",\"2017-12-08\",\"2017-12-07\",\"2017-12-06\",\"2017-12-05\",\"2017-12-04\",\"2017-12-01\",\"2017-11-30\",\"2017-11-29\",\"2017-11-28\",\"2017-11-27\",\"2017-11-24\",\"2017-11-23\",\"2017-11-22\",\"2017-11-21\",\"2017-11-20\",\"2017-11-15\",\"2017-11-14\",\"2017-11-13\",\"2017-11-10\",\"2017-11-09\",\"2017-11-08\",\"2017-11-07\",\"2017-11-06\",\"2017-11-03\",\"2017-11-02\",\"2017-11-01\",\"2017-10-31\",\"2017-10-30\",\"2017-10-27\",\"2017-10-26\",\"2017-10-25\",\"2017-10-24\",\"2017-10-23\",\"2017-10-20\",\"2017-10-19\",\"2017-10-18\",\"2017-10-17\",\"2017-10-16\",\"2017-10-13\",\"2017-10-12\",\"2017-10-11\",\"2017-10-10\",\"2017-10-09\",\"2017-10-06\",\"2017-10-05\",\"2017-10-04\",\"2017-10-03\",\"2017-10-02\",\"2017-09-29\",\"2017-09-28\",\"2017-09-27\",\"2017-09-26\",\"2017-09-25\",\"2017-09-22\",\"2017-09-21\",\"2017-09-20\",\"2017-09-19\",\"2017-09-18\",\"2017-09-15\",\"2017-09-14\",\"2017-09-13\",\"2017-09-12\",\"2017-09-11\",\"2017-09-08\",\"2017-09-07\",\"2017-09-06\",\"2017-09-05\",\"2017-09-04\",\"2017-09-01\",\"2017-08-31\",\"2017-08-30\",\"2017-08-29\",\"2017-08-28\",\"2017-08-25\",\"2017-08-24\",\"2017-08-23\",\"2017-08-22\",\"2017-08-21\",\"2017-08-18\",\"2017-08-17\",\"2017-08-16\",\"2017-08-15\",\"2017-08-14\",\"2017-08-11\",\"2017-08-10\",\"2017-08-09\",\"2017-08-08\",\"2017-08-07\",\"2017-08-04\",\"2017-08-03\",\"2017-08-02\",\"2017-08-01\",\"2017-07-31\",\"2017-07-28\",\"2017-07-27\",\"2017-07-26\",\"2017-07-25\",\"2017-07-24\",\"2017-07-21\",\"2017-07-20\",\"2017-07-19\",\"2017-07-18\",\"2017-07-17\",\"2017-07-14\",\"2017-07-13\",\"2017-07-12\",\"2017-07-10\",\"2017-07-07\",\"2017-07-06\",\"2017-07-05\",\"2017-07-04\",\"2017-07-03\",\"2017-06-30\",\"2017-06-29\",\"2017-06-28\",\"2017-06-27\",\"2017-06-26\",\"2017-06-23\",\"2017-06-22\",\"2017-06-21\",\"2017-06-20\",\"2017-06-19\",\"2017-06-16\",\"2017-06-15\",\"2017-06-14\",\"2017-06-13\",\"2017-06-12\",\"2017-06-09\",\"2017-06-08\",\"2017-06-07\",\"2017-06-06\",\"2017-06-05\",\"2017-06-02\",\"2017-06-01\",\"2017-05-31\",\"2017-05-30\",\"2017-05-29\",\"2017-05-26\",\"2017-05-25\",\"2017-05-24\",\"2017-05-23\",\"2017-05-22\",\"2017-05-19\",\"2017-05-18\",\"2017-05-17\",\"2017-05-16\",\"2017-05-15\",\"2017-05-12\",\"2017-05-11\",\"2017-05-10\",\"2017-05-09\",\"2017-05-08\",\"2017-05-05\",\"2017-05-04\",\"2017-05-03\",\"2017-05-02\",\"2017-05-01\",\"2017-04-28\",\"2017-04-27\",\"2017-04-26\",\"2017-04-25\",\"2017-04-24\",\"2017-04-21\",\"2017-04-20\",\"2017-04-19\",\"2017-04-18\",\"2017-04-17\",\"2017-04-14\",\"2017-04-13\",\"2017-04-12\",\"2017-04-11\",\"2017-04-10\",\"2017-04-07\",\"2017-04-06\",\"2017-04-05\",\"2017-04-04\",\"2017-04-03\",\"2017-03-31\",\"2017-03-30\",\"2017-03-29\",\"2017-03-28\",\"2017-03-27\",\"2017-03-24\",\"2017-03-23\",\"2017-03-22\",\"2017-03-21\",\"2017-03-20\",\"2017-03-17\",\"2017-03-16\",\"2017-03-15\",\"2017-03-14\",\"2017-03-13\",\"2017-03-10\",\"2017-03-09\",\"2017-03-08\",\"2017-03-07\",\"2017-03-06\",\"2017-03-03\",\"2017-03-02\",\"2017-03-01\",\"2017-02-28\",\"2017-02-27\",\"2017-02-24\",\"2017-02-23\",\"2017-02-22\",\"2017-02-21\",\"2017-02-20\",\"2017-02-17\",\"2017-02-16\",\"2017-02-15\",\"2017-02-14\",\"2017-02-13\",\"2017-02-10\",\"2017-02-09\",\"2017-02-08\",\"2017-02-07\",\"2017-02-06\",\"2017-02-03\",\"2017-02-02\",\"2017-02-01\",\"2017-01-31\",\"2017-01-30\",\"2017-01-27\",\"2017-01-26\",\"2017-01-25\",\"2017-01-24\",\"2017-01-23\",\"2017-01-20\",\"2017-01-19\",\"2017-01-18\",\"2017-01-17\",\"2017-01-16\",\"2017-01-13\",\"2017-01-12\",\"2017-01-11\",\"2017-01-10\",\"2017-01-09\",\"2017-01-06\",\"2017-01-05\",\"2017-01-04\",\"2017-01-03\",\"2017-01-02\",\"2016-12-30\",\"2016-12-29\",\"2016-12-28\",\"2016-12-27\",\"2016-12-26\",\"2016-12-23\",\"2016-12-22\",\"2016-12-21\",\"2016-12-20\",\"2016-12-19\",\"2016-12-16\",\"2016-12-15\",\"2016-12-14\",\"2016-12-13\",\"2016-12-12\",\"2016-12-09\",\"2016-12-08\",\"2016-12-07\",\"2016-12-06\",\"2016-12-05\",\"2016-12-02\",\"2016-12-01\",\"2016-11-30\",\"2016-11-29\",\"2016-11-28\",\"2016-11-25\",\"2016-11-24\",\"2016-11-23\",\"2016-11-22\",\"2016-11-21\",\"2016-11-18\",\"2016-11-17\",\"2016-11-16\",\"2016-11-15\",\"2016-11-14\",\"2016-11-11\",\"2016-11-10\",\"2016-11-09\",\"2016-11-08\",\"2016-11-07\",\"2016-11-04\",\"2016-11-03\",\"2016-11-02\",\"2016-11-01\",\"2016-10-31\",\"2016-10-28\",\"2016-10-27\",\"2016-10-26\",\"2016-10-25\",\"2016-10-24\",\"2016-10-21\",\"2016-10-20\",\"2016-10-19\",\"2016-10-18\",\"2016-10-17\",\"2016-10-14\",\"2016-10-13\",\"2016-10-12\",\"2016-10-11\",\"2016-10-10\",\"2016-10-07\",\"2016-10-06\",\"2016-10-05\",\"2016-10-04\",\"2016-10-03\",\"2016-09-30\",\"2016-09-29\",\"2016-09-28\",\"2016-09-27\",\"2016-09-26\",\"2016-09-23\",\"2016-09-22\",\"2016-09-21\",\"2016-09-20\",\"2016-09-19\",\"2016-09-16\",\"2016-09-15\",\"2016-09-14\",\"2016-09-13\",\"2016-09-12\",\"2016-09-09\",\"2016-09-08\",\"2016-09-07\",\"2016-09-06\",\"2016-09-05\",\"2016-09-02\",\"2016-09-01\",\"2016-08-31\",\"2016-08-30\",\"2016-08-29\",\"2016-08-26\",\"2016-08-25\",\"2016-08-24\",\"2016-08-23\",\"2016-08-22\",\"2016-08-19\",\"2016-08-18\",\"2016-08-17\",\"2016-08-16\",\"2016-08-15\",\"2016-08-12\",\"2016-08-11\",\"2016-08-10\",\"2016-08-09\",\"2016-08-08\",\"2016-08-05\",\"2016-08-04\",\"2016-08-03\",\"2016-08-02\",\"2016-08-01\",\"2016-07-29\",\"2016-07-28\",\"2016-07-27\",\"2016-07-26\",\"2016-07-25\",\"2016-07-22\",\"2016-07-21\",\"2016-07-20\",\"2016-07-19\",\"2016-07-18\",\"2016-07-15\",\"2016-07-14\",\"2016-07-13\",\"2016-07-12\",\"2016-07-11\",\"2016-07-08\",\"2016-07-07\",\"2016-07-06\",\"2016-07-05\",\"2016-07-04\",\"2016-07-01\",\"2016-06-30\",\"2016-06-29\",\"2016-06-28\",\"2016-06-27\",\"2016-06-24\",\"2016-06-23\",\"2016-06-22\",\"2016-06-21\",\"2016-06-20\",\"2016-06-17\",\"2016-06-16\",\"2016-06-15\",\"2016-06-14\",\"2016-06-13\",\"2016-06-10\",\"2016-06-09\",\"2016-06-08\",\"2016-06-07\",\"2016-06-06\",\"2016-06-03\",\"2016-06-02\",\"2016-06-01\",\"2016-05-31\",\"2016-05-30\",\"2016-05-27\",\"2016-05-26\",\"2016-05-25\",\"2016-05-24\",\"2016-05-23\",\"2016-05-20\",\"2016-05-19\",\"2016-05-18\",\"2016-05-17\",\"2016-05-16\",\"2016-05-13\",\"2016-05-12\",\"2016-05-11\",\"2016-05-10\",\"2016-05-09\",\"2016-05-06\",\"2016-05-05\",\"2016-05-04\",\"2016-05-03\",\"2016-05-02\",\"2016-04-29\",\"2016-04-28\",\"2016-04-27\",\"2016-04-26\",\"2016-04-25\",\"2016-04-22\",\"2016-04-21\",\"2016-04-20\",\"2016-04-19\",\"2016-04-18\",\"2016-04-17\",\"2016-04-15\",\"2016-04-14\",\"2016-04-13\",\"2016-04-12\",\"2016-04-11\",\"2016-04-10\",\"2016-04-08\",\"2016-04-07\",\"2016-04-06\",\"2016-04-05\",\"2016-04-04\",\"2016-04-03\",\"2016-04-01\",\"2016-03-31\",\"2016-03-30\",\"2016-03-29\",\"2016-03-28\",\"2016-03-27\",\"2016-03-25\",\"2016-03-24\",\"2016-03-23\",\"2016-03-22\",\"2016-03-21\",\"2016-03-20\",\"2016-03-18\",\"2016-03-17\",\"2016-03-16\",\"2016-03-15\",\"2016-03-14\",\"2016-03-13\",\"2016-03-11\",\"2016-03-10\",\"2016-03-09\",\"2016-03-08\",\"2016-03-07\",\"2016-03-06\",\"2016-03-04\",\"2016-03-03\",\"2016-03-02\",\"2016-03-01\",\"2016-02-29\",\"2016-02-28\",\"2016-02-26\",\"2016-02-25\",\"2016-02-24\",\"2016-02-23\",\"2016-02-22\",\"2016-02-21\",\"2016-02-19\",\"2016-02-18\",\"2016-02-17\",\"2016-02-16\",\"2016-02-15\",\"2016-02-14\",\"2016-02-12\",\"2016-02-11\",\"2016-02-10\",\"2016-02-09\",\"2016-02-08\",\"2016-02-07\",\"2016-02-05\",\"2016-02-04\",\"2016-02-03\",\"2016-02-02\",\"2016-02-01\",\"2016-01-31\",\"2016-01-29\",\"2016-01-28\",\"2016-01-27\",\"2016-01-26\",\"2016-01-25\",\"2016-01-24\",\"2016-01-22\",\"2016-01-21\",\"2016-01-20\",\"2016-01-19\",\"2016-01-18\",\"2016-01-17\",\"2016-01-15\",\"2016-01-14\",\"2016-01-13\",\"2016-01-12\",\"2016-01-11\",\"2016-01-10\",\"2016-01-08\",\"2016-01-07\",\"2016-01-06\",\"2016-01-05\",\"2016-01-04\",\"2016-01-03\",\"2016-01-01\"],\"x\":{\"__ndarray__\":\"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\",\"dtype\":\"float64\",\"shape\":[577]},\"y\":{\"__ndarray__\":\"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\",\"dtype\":\"float64\",\"shape\":[577]}}},\"id\":\"11c4a15e-1e2c-46c0-ae3b-76dd674afc9f\",\"type\":\"ColumnDataSource\"},{\"attributes\":{\"active_drag\":null,\"active_inspect\":\"auto\",\"active_scroll\":\"auto\",\"active_tap\":\"auto\",\"logo\":null,\"tools\":[{\"id\":\"b8be812f-68b7-455c-9a33-c9d353d9e99b\",\"type\":\"PanTool\"},{\"id\":\"16f7f72a-021d-4b48-9026-c17b728f666f\",\"type\":\"WheelZoomTool\"},{\"id\":\"0e1ec420-4e67-4957-8d1b-c158dc736e67\",\"type\":\"BoxZoomTool\"},{\"id\":\"0c35f871-e3de-4f94-a86e-8020087a7e15\",\"type\":\"ResetTool\"},{\"id\":\"acf6009a-b6c1-4469-8dda-ee9d84fb2ac9\",\"type\":\"HoverTool\"}]},\"id\":\"8d5cf5a4-1669-45a4-9e29-8e1b582c7a33\",\"type\":\"Toolbar\"},{\"attributes\":{\"line_color\":\"Blue\",\"line_width\":3,\"x\":{\"field\":\"x\"},\"y\":{\"field\":\"y\"}},\"id\":\"50fd0af2-7352-4ac6-b5da-146e7b87553c\",\"type\":\"Line\"},{\"attributes\":{\"data_source\":{\"id\":\"11c4a15e-1e2c-46c0-ae3b-76dd674afc9f\",\"type\":\"ColumnDataSource\"},\"glyph\":{\"id\":\"50fd0af2-7352-4ac6-b5da-146e7b87553c\",\"type\":\"Line\"},\"hover_glyph\":null,\"muted_glyph\":null,\"nonselection_glyph\":{\"id\":\"f265fea0-cdd5-4d57-9c20-4075d92ec19b\",\"type\":\"Line\"},\"selection_glyph\":null,\"view\":{\"id\":\"f0c87deb-4af0-4585-9518-03cfd7f972ee\",\"type\":\"CDSView\"}},\"id\":\"92a7d0a5-bcb7-4320-837b-a1dff37eff19\",\"type\":\"GlyphRenderer\"},{\"attributes\":{\"line_alpha\":0.1,\"line_color\":\"#1f77b4\",\"line_width\":3,\"x\":{\"field\":\"x\"},\"y\":{\"field\":\"y\"}},\"id\":\"f265fea0-cdd5-4d57-9c20-4075d92ec19b\",\"type\":\"Line\"}],\"root_ids\":[\"22ad4b17-5af5-463d-ad8b-994078232db6\"]},\"title\":\"Bokeh Application\",\"version\":\"0.12.14\"}};\n",
       "  var render_items = [{\"docid\":\"7fe0794d-e9e4-414d-829f-8009036af746\",\"elementid\":\"c7b026aa-8e79-4898-b9ab-8165cda3a23b\",\"modelid\":\"22ad4b17-5af5-463d-ad8b-994078232db6\"}];\n",
       "  root.Bokeh.embed.embed_items_notebook(docs_json, render_items);\n",
       "\n",
       "  }\n",
       "  if (root.Bokeh !== undefined) {\n",
       "    embed_document(root);\n",
       "  } else {\n",
       "    var attempts = 0;\n",
       "    var timer = setInterval(function(root) {\n",
       "      if (root.Bokeh !== undefined) {\n",
       "        embed_document(root);\n",
       "        clearInterval(timer);\n",
       "      }\n",
       "      attempts++;\n",
       "      if (attempts > 100) {\n",
       "        console.log(\"Bokeh: ERROR: Unable to run BokehJS code because BokehJS library is missing\")\n",
       "        clearInterval(timer);\n",
       "      }\n",
       "    }, 10, root)\n",
       "  }\n",
       "})(window);"
      ],
      "application/vnd.bokehjs_exec.v0+json": ""
     },
     "metadata": {
      "application/vnd.bokehjs_exec.v0+json": {
       "id": "22ad4b17-5af5-463d-ad8b-994078232db6"
      }
     },
     "output_type": "display_data"
    }
   ],
   "source": [
    "# USD MXN exchange rate\n",
    "url = f'https://www.quandl.com/api/v3/datasets/CURRFX/USDMXN.csv?api_key={config.key}&start_date=2016-01-01'\n",
    "df = pd.read_csv(url, parse_dates=['Date'], index_col='Date')\n",
    "\n",
    "source = ColumnDataSource({'x': df.index, 'y': df['Rate'], 'Date': df.index.format()})\n",
    "tooltips = \"\"\"\n",
    "            <div>\n",
    "                <span style=\"font-size: 12px;\">@Date:</span>\n",
    "                <span style=\"font-size: 12px; font-weight: bold;\">@y</span>\n",
    "            </div>\n",
    "\"\"\"\n",
    "p = figure(width=700,height=300,x_axis_type='datetime',tools=['pan, wheel_zoom,box_zoom,reset'],\n",
    "           logo=None, toolbar_location=None, toolbar_sticky=False)\n",
    "#p.title.text = 'Mexican Pesos (MXN) per U.S. Dollar (USD)'\n",
    "p.title.text_font_size='14pt'\n",
    "#p.yaxis.axis_label = 'MXN/USD'\n",
    "p.sizing_mode = 'scale_width'\n",
    "p.line('x', 'y', source = source, line_width=3, color='Blue')\n",
    "p.xgrid.grid_line_color = None\n",
    "p.outline_line_color = 'white'\n",
    "p.axis.axis_line_color = 'white'\n",
    "p.add_tools(HoverTool(tooltips=tooltips, show_arrow=False, point_policy='snap_to_data'))\n",
    "p.toolbar.active_drag = None\n",
    "script, div = components(p)\n",
    "\n",
    "with open('C:/Working/bdecon.github.io/plots/usdmxn.html', 'w') as text_file:\n",
    "    text_file.write('{} {}'.format(script, div))\n",
    "    \n",
    "show(p)"
   ]
  },
  {
   "cell_type": "markdown",
   "metadata": {},
   "source": [
    "# New Orders"
   ]
  },
  {
   "cell_type": "code",
   "execution_count": 3,
   "metadata": {
    "ExecuteTime": {
     "end_time": "2018-03-23T21:42:10.545124Z",
     "start_time": "2018-03-23T21:42:09.841966Z"
    },
    "code_folding": [
     0
    ]
   },
   "outputs": [],
   "source": [
    "# New orders for capital goods excluding defense or aircraft\n",
    "key = config.census_key\n",
    "base = 'https://api.census.gov/data/timeseries/eits/m3'\n",
    "param = 'cell_value,time_slot_id'\n",
    "time = '&time=from+2015'\n",
    "cat = '&category_code=NXA'\n",
    "dtc = '&data_type_code=MPCNO'\n",
    "oth = '&for=us&seasonally_adj=yes'\n",
    "\n",
    "url = f'{base}?get={param}&key={key}{cat}{dtc}{time}{oth}'\n",
    "\n",
    "r = requests.get(url).json()\n",
    "\n",
    "df = pd.DataFrame({'date': [pd.to_datetime(i[4]) for i in r[1:]], \n",
    "                   'value': [float(i[0]) for i in r[1:]]}).sort_values('date')"
   ]
  },
  {
   "cell_type": "code",
   "execution_count": 5,
   "metadata": {
    "ExecuteTime": {
     "end_time": "2018-03-23T21:44:49.831232Z",
     "start_time": "2018-03-23T21:44:49.799981Z"
    },
    "code_folding": [
     0
    ]
   },
   "outputs": [],
   "source": [
    "# Manually input values from advanced report\n",
    "df = df.set_index('date')\n",
    "df.at[pd.to_datetime('2018-01-01')] = -0.4\n",
    "df.at[pd.to_datetime('2018-02-01')] = 1.8"
   ]
  },
  {
   "cell_type": "code",
   "execution_count": 34,
   "metadata": {
    "ExecuteTime": {
     "end_time": "2018-03-23T22:31:34.954908Z",
     "start_time": "2018-03-23T22:31:34.723910Z"
    },
    "code_folding": [
     0
    ]
   },
   "outputs": [
    {
     "data": {
      "text/html": [
       "\n",
       "<div class=\"bk-root\">\n",
       "    <div class=\"bk-plotdiv\" id=\"2039f930-b525-499a-b44b-70ca608e0059\"></div>\n",
       "</div>"
      ]
     },
     "metadata": {},
     "output_type": "display_data"
    },
    {
     "data": {
      "application/javascript": [
       "(function(root) {\n",
       "  function embed_document(root) {\n",
       "    \n",
       "  var docs_json = {\"f0e636fa-1731-43ec-9f0d-113a3d9c4278\":{\"roots\":{\"references\":[{\"attributes\":{\"mantissas\":[1,2,5],\"max_interval\":500.0,\"num_minor_ticks\":0},\"id\":\"aaee7417-d5d6-40e3-b7c5-96b65fe2857d\",\"type\":\"AdaptiveTicker\"},{\"attributes\":{\"source\":{\"id\":\"022c9d66-0622-4faf-94b2-ff5df6940241\",\"type\":\"ColumnDataSource\"}},\"id\":\"8a4aadf7-fa1e-43dc-8447-a167b1863d2c\",\"type\":\"CDSView\"},{\"attributes\":{\"days\":[1,15]},\"id\":\"ec7a002f-69cf-4ad0-8c60-8bfd7f9abbfa\",\"type\":\"DaysTicker\"},{\"attributes\":{\"days\":[1,8,15,22]},\"id\":\"f6a7440a-df1f-42f1-bc9c-e84391eb4ad7\",\"type\":\"DaysTicker\"},{\"attributes\":{\"base\":24,\"mantissas\":[1,2,4,6,8,12],\"max_interval\":43200000.0,\"min_interval\":3600000.0,\"num_minor_ticks\":0},\"id\":\"3cb5f2fa-7810-4a67-9e78-d1814f76e63d\",\"type\":\"AdaptiveTicker\"},{\"attributes\":{\"days\":[1,2,3,4,5,6,7,8,9,10,11,12,13,14,15,16,17,18,19,20,21,22,23,24,25,26,27,28,29,30,31]},\"id\":\"9072b008-a9db-43ac-9b63-f7abf061b194\",\"type\":\"DaysTicker\"},{\"attributes\":{\"days\":[1,4,7,10,13,16,19,22,25,28]},\"id\":\"f6b826c5-cd9b-4512-bed1-d73a8e693763\",\"type\":\"DaysTicker\"},{\"attributes\":{\"line_color\":{\"value\":\"gray\"},\"location\":0,\"plot\":null},\"id\":\"229f55ce-0c71-4808-93b5-b1cc87871e74\",\"type\":\"Span\"},{\"attributes\":{\"months\":[0,1,2,3,4,5,6,7,8,9,10,11]},\"id\":\"924013f2-85c1-45c7-9d65-3c2a38458999\",\"type\":\"MonthsTicker\"},{\"attributes\":{\"callback\":null,\"column_names\":[\"x\",\"y\",\"Date\"],\"data\":{\"Date\":[\"Jan 2015\",\"Feb 2015\",\"Mar 2015\",\"Apr 2015\",\"May 2015\",\"Jun 2015\",\"Jul 2015\",\"Aug 2015\",\"Sep 2015\",\"Oct 2015\",\"Nov 2015\",\"Dec 2015\",\"Jan 2016\",\"Feb 2016\",\"Mar 2016\",\"Apr 2016\",\"May 2016\",\"Jun 2016\",\"Jul 2016\",\"Aug 2016\",\"Sep 2016\",\"Oct 2016\",\"Nov 2016\",\"Dec 2016\",\"Jan 2017\",\"Feb 2017\",\"Mar 2017\",\"Apr 2017\",\"May 2017\",\"Jun 2017\",\"Jul 2017\",\"Aug 2017\",\"Sep 2017\",\"Oct 2017\",\"Nov 2017\",\"Dec 2017\",\"Jan 2018\",\"Feb 2018\"],\"x\":{\"__ndarray__\":\"AAAAqyyqdEIAAED9JrR0QgAAQB4qvXRCAACAcCTHdEIAAABdzNB0QgAAQK/G2nRCAADAm27kdEIAAADuaO50QgAAQEBj+HRCAADALAsCdUIAAAB/BQx1QgAAgGutFXVCAADAvacfdUIAAAAQoil1QgAAwJb3MnVCAAAA6fE8dUIAAIDVmUZ1QgAAwCeUUHVCAABAFDxadUIAAIBmNmR1QgAAwLgwbnVCAABApdh3dUIAAID30oF1QgAAAOR6i3VCAABANnWVdUIAAICIb591QgAAgKlyqHVCAADA+2yydUIAAEDoFLx1QgAAgDoPxnVCAAAAJ7fPdUIAAEB5sdl1QgAAgMur43VCAAAAuFPtdUIAAEAKTvd1QgAAwPb1AHZCAAAASfAKdkIAAECb6hR2Qg==\",\"dtype\":\"float64\",\"shape\":[38]},\"y\":{\"__ndarray__\":\"AAAAAAAA4D/NzMzMzMwEwAAAAAAAAPA/zczMzMzM9L/NzMzMzMzsv5qZmZmZmdk/ZmZmZmZm/j8zMzMzMzPzvwAAAAAAAOA/mpmZmZmZyb8zMzMzMzPzvwAAAAAAABLAzczMzMzMCECamZmZmZkFwJqZmZmZmbk/MzMzMzMz078AAAAAAAAAwDMzMzMzM9M/mpmZmZmZBUBmZmZmZmb2P83MzMzMzADAAAAAAAAAAAAAAAAAAAD4PzMzMzMzM9O/zczMzMzM9D+amZmZmZm5PwAAAAAAAAAAMzMzMzMz0z+amZmZmZnpP5qZmZmZmbm/zczMzMzM9D9mZmZmZmb2P2ZmZmZmZgJAmpmZmZmZ6T+amZmZmZm5PwAAAAAAAOC/mpmZmZmZ2b/NzMzMzMz8Pw==\",\"dtype\":\"float64\",\"shape\":[38]}}},\"id\":\"022c9d66-0622-4faf-94b2-ff5df6940241\",\"type\":\"ColumnDataSource\"},{\"attributes\":{\"months\":[0,2,4,6,8,10]},\"id\":\"d611fb19-f498-428f-b0c7-2025e7413691\",\"type\":\"MonthsTicker\"},{\"attributes\":{\"dimension\":\"height\",\"line_color\":{\"value\":\"gray\"},\"line_dash\":[6],\"line_width\":{\"value\":3},\"location\":1510722000000.0,\"plot\":null},\"id\":\"13763f98-10a8-4ca5-809c-f636256d1aaa\",\"type\":\"Span\"},{\"attributes\":{\"months\":[0,4,8]},\"id\":\"5f781c8b-3e09-4fd1-bb25-9afa63ccabed\",\"type\":\"MonthsTicker\"},{\"attributes\":{\"callback\":null,\"end\":3.5,\"start\":-5.0},\"id\":\"53679d96-68c4-41e5-98c6-acd39b8d090b\",\"type\":\"Range1d\"},{\"attributes\":{\"months\":[0,6]},\"id\":\"410844ed-bd8c-414e-8acb-5c4cb6f61a32\",\"type\":\"MonthsTicker\"},{\"attributes\":{\"fill_alpha\":{\"value\":0.1},\"fill_color\":{\"value\":\"#1f77b4\"},\"line_alpha\":{\"value\":0.1},\"line_color\":{\"value\":\"#1f77b4\"},\"top\":{\"field\":\"y\"},\"width\":{\"value\":2049953684.2105262},\"x\":{\"field\":\"x\"}},\"id\":\"759eeff1-5717-441a-b86d-c08c9d6e4da1\",\"type\":\"VBar\"},{\"attributes\":{},\"id\":\"07b78be5-66f7-4832-bfb0-8b686a8b0c6c\",\"type\":\"YearsTicker\"},{\"attributes\":{\"base\":60,\"mantissas\":[1,2,5,10,15,20,30],\"max_interval\":1800000.0,\"min_interval\":1000.0,\"num_minor_ticks\":0},\"id\":\"451daa07-11ef-413a-a2c8-07862ac348cb\",\"type\":\"AdaptiveTicker\"},{\"attributes\":{\"data_source\":{\"id\":\"022c9d66-0622-4faf-94b2-ff5df6940241\",\"type\":\"ColumnDataSource\"},\"glyph\":{\"id\":\"e6002fcf-4678-46a1-940c-28a359b65cd8\",\"type\":\"VBar\"},\"hover_glyph\":null,\"level\":\"overlay\",\"muted_glyph\":null,\"nonselection_glyph\":{\"id\":\"759eeff1-5717-441a-b86d-c08c9d6e4da1\",\"type\":\"VBar\"},\"selection_glyph\":null,\"view\":{\"id\":\"8a4aadf7-fa1e-43dc-8447-a167b1863d2c\",\"type\":\"CDSView\"}},\"id\":\"bffab5d1-acc5-45f5-b92b-20182550f7d5\",\"type\":\"GlyphRenderer\"},{\"attributes\":{},\"id\":\"ddb10d58-82b1-4c65-a5c2-d06935bab389\",\"type\":\"DatetimeTickFormatter\"},{\"attributes\":{\"callback\":null,\"show_arrow\":false,\"tooltips\":\"\\n    <div>\\n        <span style=\\\"font-size: 12px;\\\">@Date:</span>\\n        <span style=\\\"font-size: 12px; font-weight: bold;\\\">@y{1.1}%</span>\\n    </div>\\n\"},\"id\":\"e9a3f330-56ce-469e-8237-773eb8fbaa8b\",\"type\":\"HoverTool\"},{\"attributes\":{\"below\":[{\"id\":\"952140f2-cf46-42db-99db-499cb6a000e1\",\"type\":\"DatetimeAxis\"}],\"left\":[{\"id\":\"9a01b196-55e1-405a-9e8e-f20a3d1a852d\",\"type\":\"LinearAxis\"}],\"outline_line_color\":{\"value\":\"white\"},\"plot_height\":300,\"plot_width\":700,\"renderers\":[{\"id\":\"952140f2-cf46-42db-99db-499cb6a000e1\",\"type\":\"DatetimeAxis\"},{\"id\":\"0d404790-98a6-499d-a8ae-ad2072a9518e\",\"type\":\"Grid\"},{\"id\":\"9a01b196-55e1-405a-9e8e-f20a3d1a852d\",\"type\":\"LinearAxis\"},{\"id\":\"9d0646fe-77c4-4802-9055-c2113e394cf8\",\"type\":\"Grid\"},{\"id\":\"3cf75a31-d635-4f94-a1ae-4ca48c351724\",\"type\":\"BoxAnnotation\"},{\"id\":\"bffab5d1-acc5-45f5-b92b-20182550f7d5\",\"type\":\"GlyphRenderer\"},{\"id\":\"9e322e32-9430-44d4-9ec1-c9311594ef4c\",\"type\":\"Label\"},{\"id\":\"13763f98-10a8-4ca5-809c-f636256d1aaa\",\"type\":\"Span\"},{\"id\":\"229f55ce-0c71-4808-93b5-b1cc87871e74\",\"type\":\"Span\"}],\"sizing_mode\":\"scale_width\",\"title\":{\"id\":\"e4f77027-1fb0-4122-a614-67cff59d98ce\",\"type\":\"Title\"},\"toolbar\":{\"id\":\"04cd22c1-4499-45fa-8e2d-4f5cc75b1a50\",\"type\":\"Toolbar\"},\"toolbar_location\":null,\"x_range\":{\"id\":\"bf5a7328-e539-4c04-9798-8c333f0b200f\",\"type\":\"DataRange1d\"},\"x_scale\":{\"id\":\"5c5cab9e-7f3d-4120-b396-f70155dc17a8\",\"type\":\"LinearScale\"},\"y_range\":{\"id\":\"53679d96-68c4-41e5-98c6-acd39b8d090b\",\"type\":\"Range1d\"},\"y_scale\":{\"id\":\"c4c7bfb4-08e3-4ab4-a7a7-ef51e9dd73dc\",\"type\":\"LinearScale\"}},\"id\":\"fd72343d-d010-4485-a148-b76e402373a9\",\"subtype\":\"Figure\",\"type\":\"Plot\"},{\"attributes\":{},\"id\":\"c4c7bfb4-08e3-4ab4-a7a7-ef51e9dd73dc\",\"type\":\"LinearScale\"},{\"attributes\":{\"callback\":null},\"id\":\"bf5a7328-e539-4c04-9798-8c333f0b200f\",\"type\":\"DataRange1d\"},{\"attributes\":{\"active_drag\":null,\"active_inspect\":\"auto\",\"active_scroll\":\"auto\",\"active_tap\":\"auto\",\"logo\":null,\"tools\":[{\"id\":\"8b5d18ef-9128-437d-883b-678f70a8f28a\",\"type\":\"PanTool\"},{\"id\":\"8920d8db-de31-4677-932e-fb0647df26b3\",\"type\":\"WheelZoomTool\"},{\"id\":\"0bdf11e4-1749-475e-94a2-d9e6d71c6c23\",\"type\":\"BoxZoomTool\"},{\"id\":\"0bd4de3c-ea77-429c-96e6-c5123480c379\",\"type\":\"ResetTool\"},{\"id\":\"e9a3f330-56ce-469e-8237-773eb8fbaa8b\",\"type\":\"HoverTool\"}]},\"id\":\"04cd22c1-4499-45fa-8e2d-4f5cc75b1a50\",\"type\":\"Toolbar\"},{\"attributes\":{\"background_fill_alpha\":{\"value\":0.0},\"background_fill_color\":{\"value\":\"white\"},\"border_line_alpha\":{\"value\":0.0},\"border_line_color\":{\"value\":\"white\"},\"plot\":{\"id\":\"fd72343d-d010-4485-a148-b76e402373a9\",\"subtype\":\"Figure\",\"type\":\"Plot\"},\"text\":\"TCJA\",\"text_font_size\":{\"value\":\"12px\"},\"x\":1512104400000.0,\"y\":2.5},\"id\":\"9e322e32-9430-44d4-9ec1-c9311594ef4c\",\"type\":\"Label\"},{\"attributes\":{},\"id\":\"5c5cab9e-7f3d-4120-b396-f70155dc17a8\",\"type\":\"LinearScale\"},{\"attributes\":{\"grid_line_color\":{\"value\":null},\"plot\":{\"id\":\"fd72343d-d010-4485-a148-b76e402373a9\",\"subtype\":\"Figure\",\"type\":\"Plot\"},\"ticker\":{\"id\":\"17974555-b775-4e2a-966a-ef121a01e703\",\"type\":\"DatetimeTicker\"}},\"id\":\"0d404790-98a6-499d-a8ae-ad2072a9518e\",\"type\":\"Grid\"},{\"attributes\":{\"axis_line_color\":{\"value\":\"white\"},\"formatter\":{\"id\":\"ddb10d58-82b1-4c65-a5c2-d06935bab389\",\"type\":\"DatetimeTickFormatter\"},\"plot\":{\"id\":\"fd72343d-d010-4485-a148-b76e402373a9\",\"subtype\":\"Figure\",\"type\":\"Plot\"},\"ticker\":{\"id\":\"17974555-b775-4e2a-966a-ef121a01e703\",\"type\":\"DatetimeTicker\"}},\"id\":\"952140f2-cf46-42db-99db-499cb6a000e1\",\"type\":\"DatetimeAxis\"},{\"attributes\":{\"num_minor_ticks\":5,\"tickers\":[{\"id\":\"aaee7417-d5d6-40e3-b7c5-96b65fe2857d\",\"type\":\"AdaptiveTicker\"},{\"id\":\"451daa07-11ef-413a-a2c8-07862ac348cb\",\"type\":\"AdaptiveTicker\"},{\"id\":\"3cb5f2fa-7810-4a67-9e78-d1814f76e63d\",\"type\":\"AdaptiveTicker\"},{\"id\":\"9072b008-a9db-43ac-9b63-f7abf061b194\",\"type\":\"DaysTicker\"},{\"id\":\"f6b826c5-cd9b-4512-bed1-d73a8e693763\",\"type\":\"DaysTicker\"},{\"id\":\"f6a7440a-df1f-42f1-bc9c-e84391eb4ad7\",\"type\":\"DaysTicker\"},{\"id\":\"ec7a002f-69cf-4ad0-8c60-8bfd7f9abbfa\",\"type\":\"DaysTicker\"},{\"id\":\"924013f2-85c1-45c7-9d65-3c2a38458999\",\"type\":\"MonthsTicker\"},{\"id\":\"d611fb19-f498-428f-b0c7-2025e7413691\",\"type\":\"MonthsTicker\"},{\"id\":\"5f781c8b-3e09-4fd1-bb25-9afa63ccabed\",\"type\":\"MonthsTicker\"},{\"id\":\"410844ed-bd8c-414e-8acb-5c4cb6f61a32\",\"type\":\"MonthsTicker\"},{\"id\":\"07b78be5-66f7-4832-bfb0-8b686a8b0c6c\",\"type\":\"YearsTicker\"}]},\"id\":\"17974555-b775-4e2a-966a-ef121a01e703\",\"type\":\"DatetimeTicker\"},{\"attributes\":{\"axis_line_color\":{\"value\":\"white\"},\"formatter\":{\"id\":\"0e909903-30c4-4bbe-b4e7-8f9cf78ae1b2\",\"type\":\"BasicTickFormatter\"},\"plot\":{\"id\":\"fd72343d-d010-4485-a148-b76e402373a9\",\"subtype\":\"Figure\",\"type\":\"Plot\"},\"ticker\":{\"id\":\"9ea7cfea-3b36-4569-a4e6-677a72df4eb3\",\"type\":\"BasicTicker\"}},\"id\":\"9a01b196-55e1-405a-9e8e-f20a3d1a852d\",\"type\":\"LinearAxis\"},{\"attributes\":{},\"id\":\"9ea7cfea-3b36-4569-a4e6-677a72df4eb3\",\"type\":\"BasicTicker\"},{\"attributes\":{\"dimension\":1,\"plot\":{\"id\":\"fd72343d-d010-4485-a148-b76e402373a9\",\"subtype\":\"Figure\",\"type\":\"Plot\"},\"ticker\":{\"id\":\"9ea7cfea-3b36-4569-a4e6-677a72df4eb3\",\"type\":\"BasicTicker\"}},\"id\":\"9d0646fe-77c4-4802-9055-c2113e394cf8\",\"type\":\"Grid\"},{\"attributes\":{\"fill_color\":{\"value\":\"Orange\"},\"line_color\":{\"value\":\"Orange\"},\"top\":{\"field\":\"y\"},\"width\":{\"value\":2049953684.2105262},\"x\":{\"field\":\"x\"}},\"id\":\"e6002fcf-4678-46a1-940c-28a359b65cd8\",\"type\":\"VBar\"},{\"attributes\":{},\"id\":\"0e909903-30c4-4bbe-b4e7-8f9cf78ae1b2\",\"type\":\"BasicTickFormatter\"},{\"attributes\":{},\"id\":\"8b5d18ef-9128-437d-883b-678f70a8f28a\",\"type\":\"PanTool\"},{\"attributes\":{},\"id\":\"8920d8db-de31-4677-932e-fb0647df26b3\",\"type\":\"WheelZoomTool\"},{\"attributes\":{\"overlay\":{\"id\":\"3cf75a31-d635-4f94-a1ae-4ca48c351724\",\"type\":\"BoxAnnotation\"}},\"id\":\"0bdf11e4-1749-475e-94a2-d9e6d71c6c23\",\"type\":\"BoxZoomTool\"},{\"attributes\":{},\"id\":\"0bd4de3c-ea77-429c-96e6-c5123480c379\",\"type\":\"ResetTool\"},{\"attributes\":{\"bottom_units\":\"screen\",\"fill_alpha\":{\"value\":0.5},\"fill_color\":{\"value\":\"lightgrey\"},\"left_units\":\"screen\",\"level\":\"overlay\",\"line_alpha\":{\"value\":1.0},\"line_color\":{\"value\":\"black\"},\"line_dash\":[4,4],\"line_width\":{\"value\":2},\"plot\":null,\"render_mode\":\"css\",\"right_units\":\"screen\",\"top_units\":\"screen\"},\"id\":\"3cf75a31-d635-4f94-a1ae-4ca48c351724\",\"type\":\"BoxAnnotation\"},{\"attributes\":{\"plot\":null,\"text\":\"\"},\"id\":\"e4f77027-1fb0-4122-a614-67cff59d98ce\",\"type\":\"Title\"}],\"root_ids\":[\"fd72343d-d010-4485-a148-b76e402373a9\"]},\"title\":\"Bokeh Application\",\"version\":\"0.12.14\"}};\n",
       "  var render_items = [{\"docid\":\"f0e636fa-1731-43ec-9f0d-113a3d9c4278\",\"elementid\":\"2039f930-b525-499a-b44b-70ca608e0059\",\"modelid\":\"fd72343d-d010-4485-a148-b76e402373a9\"}];\n",
       "  root.Bokeh.embed.embed_items_notebook(docs_json, render_items);\n",
       "\n",
       "  }\n",
       "  if (root.Bokeh !== undefined) {\n",
       "    embed_document(root);\n",
       "  } else {\n",
       "    var attempts = 0;\n",
       "    var timer = setInterval(function(root) {\n",
       "      if (root.Bokeh !== undefined) {\n",
       "        embed_document(root);\n",
       "        clearInterval(timer);\n",
       "      }\n",
       "      attempts++;\n",
       "      if (attempts > 100) {\n",
       "        console.log(\"Bokeh: ERROR: Unable to run BokehJS code because BokehJS library is missing\")\n",
       "        clearInterval(timer);\n",
       "      }\n",
       "    }, 10, root)\n",
       "  }\n",
       "})(window);"
      ],
      "application/vnd.bokehjs_exec.v0+json": ""
     },
     "metadata": {
      "application/vnd.bokehjs_exec.v0+json": {
       "id": "fd72343d-d010-4485-a148-b76e402373a9"
      }
     },
     "output_type": "display_data"
    }
   ],
   "source": [
    "# New Orders plot in Bokeh\n",
    "source = ColumnDataSource({'x': df.index, \n",
    "                           'y': df['value'], \n",
    "                           'Date': df.index.strftime('%b %Y')})\n",
    "\n",
    "tooltips = \"\"\"\n",
    "    <div>\n",
    "        <span style=\"font-size: 12px;\">@Date:</span>\n",
    "        <span style=\"font-size: 12px; font-weight: bold;\">@y{1.1}%</span>\n",
    "    </div>\n",
    "\"\"\"\n",
    "\n",
    "# Bar width determined by how many bars\n",
    "width = ((df.index[-1] - df.index[0]).total_seconds() \n",
    "         * 800.0 / len(df.index))\n",
    "\n",
    "# horizontal line at zero\n",
    "zero_line = Span(location=0, dimension='width', \n",
    "                 line_color='gray', line_width=1)\n",
    "\n",
    "# horizontal line at zero\n",
    "tcja_start = time.mktime(dt(2017, 11, 15, 0, 0, 0).timetuple())*1000\n",
    "tcja_label = time.mktime(dt(2017, 12, 1, 0, 0, 0).timetuple())*1000\n",
    "tcja = Span(location=tcja_start, dimension='height', \n",
    "                 line_color='gray', line_dash='dashed', line_width=3)\n",
    "\n",
    "p = figure(plot_width=700, plot_height=300, \n",
    "           x_axis_type='datetime', \n",
    "           tools=['pan, wheel_zoom, box_zoom, reset'], \n",
    "           logo=None,\n",
    "           toolbar_location=None,  \n",
    "           y_range=Range1d(-5.0, 3.5))\n",
    "p.vbar('x', width=width, bottom=0, top='y', \n",
    "       source=source, color='Orange', alpha=1.0, \n",
    "       level='overlay')\n",
    "#p.add_layout(zero_line)\n",
    "citation = Label(x=tcja_label, y=2.5, #x_units='screen', y_units='screen',\n",
    "                 text='TCJA', text_font_size='12px',#render_mode='css',\n",
    "                 border_line_color='white', border_line_alpha=0.0,\n",
    "                 background_fill_color='white', background_fill_alpha=0.0)\n",
    "p.add_layout(citation)\n",
    "p.renderers.extend([tcja, zero_line])#p.add_layout(tcja)\n",
    "p.sizing_mode = 'scale_width'\n",
    "p.xgrid.grid_line_color = None\n",
    "p.outline_line_color = 'white'\n",
    "p.axis.axis_line_color = 'white'\n",
    "p.toolbar.active_drag = None\n",
    "p.add_tools(HoverTool(tooltips=tooltips, show_arrow=False))\n",
    "\n",
    "script, div = components(p)\n",
    "with open('C:/Working/bdecon.github.io/plots/neworders.html', 'w') as text_file:\n",
    "    text_file.write(f'{script} {div}')\n",
    "    \n",
    "show(p)"
   ]
  },
  {
   "cell_type": "markdown",
   "metadata": {},
   "source": [
    "# Employed Share of Population"
   ]
  },
  {
   "cell_type": "code",
   "execution_count": 26,
   "metadata": {
    "ExecuteTime": {
     "end_time": "2018-03-31T17:16:56.917624Z",
     "start_time": "2018-03-31T17:16:56.605312Z"
    },
    "code_folding": [
     0
    ]
   },
   "outputs": [
    {
     "data": {
      "text/html": [
       "\n",
       "<div class=\"bk-root\">\n",
       "    <div class=\"bk-plotdiv\" id=\"bee24ad0-caa2-4573-9417-9f6b8bd85356\"></div>\n",
       "</div>"
      ]
     },
     "metadata": {},
     "output_type": "display_data"
    },
    {
     "data": {
      "application/javascript": [
       "(function(root) {\n",
       "  function embed_document(root) {\n",
       "    \n",
       "  var docs_json = {\"c21f2dc4-2474-4ddf-962c-6fa3552a14ff\":{\"roots\":{\"references\":[{\"attributes\":{\"line_alpha\":0.1,\"line_color\":\"#1f77b4\",\"line_width\":3,\"x\":{\"field\":\"x\"},\"y\":{\"field\":\"y\"}},\"id\":\"97530b7a-49d0-4b87-99e8-ae6f6fc04eb2\",\"type\":\"Line\"},{\"attributes\":{\"fill_alpha\":{\"value\":0.1},\"fill_color\":{\"value\":\"gray\"},\"left\":1199145600000.0,\"line_alpha\":{\"value\":0},\"plot\":{\"id\":\"9ccfcd6a-c771-401d-ae06-a98c633b80bb\",\"subtype\":\"Figure\",\"type\":\"Plot\"},\"right\":1246406400000.0},\"id\":\"db02729d-6e58-4ac2-b262-aca7e7fe9cf8\",\"type\":\"BoxAnnotation\"},{\"attributes\":{\"days\":[1,2,3,4,5,6,7,8,9,10,11,12,13,14,15,16,17,18,19,20,21,22,23,24,25,26,27,28,29,30,31]},\"id\":\"6352861e-2d7c-4ae1-9ae6-c1afda8b8a6b\",\"type\":\"DaysTicker\"},{\"attributes\":{\"base\":24,\"mantissas\":[1,2,4,6,8,12],\"max_interval\":43200000.0,\"min_interval\":3600000.0,\"num_minor_ticks\":0},\"id\":\"33c05f24-1bd6-490c-80c3-576332daa1a6\",\"type\":\"AdaptiveTicker\"},{\"attributes\":{\"callback\":null,\"end\":83,\"start\":74},\"id\":\"9401e970-262e-4a4f-b3c9-f797c6119dac\",\"type\":\"Range1d\"},{\"attributes\":{\"below\":[{\"id\":\"c4e95b0e-bc91-4040-b164-3815427893be\",\"type\":\"DatetimeAxis\"}],\"left\":[{\"id\":\"b08b993d-3540-4ce0-ab65-8db40c3a76c3\",\"type\":\"LinearAxis\"}],\"outline_line_color\":{\"value\":\"white\"},\"plot_height\":300,\"plot_width\":700,\"renderers\":[{\"id\":\"c4e95b0e-bc91-4040-b164-3815427893be\",\"type\":\"DatetimeAxis\"},{\"id\":\"2d418e79-2d25-4442-9779-5a9425d7df02\",\"type\":\"Grid\"},{\"id\":\"b08b993d-3540-4ce0-ab65-8db40c3a76c3\",\"type\":\"LinearAxis\"},{\"id\":\"5671ddee-ada6-4547-9862-52b70df5a89e\",\"type\":\"Grid\"},{\"id\":\"85a142b0-fcb4-40e8-8b50-a5f197606831\",\"type\":\"BoxAnnotation\"},{\"id\":\"fb4b1cb5-61b1-4c04-a5bf-88f56d2d5f33\",\"type\":\"BoxAnnotation\"},{\"id\":\"db02729d-6e58-4ac2-b262-aca7e7fe9cf8\",\"type\":\"BoxAnnotation\"},{\"id\":\"5d68633c-eb3b-45da-b632-73a752bf8790\",\"type\":\"GlyphRenderer\"}],\"sizing_mode\":\"scale_width\",\"title\":{\"id\":\"fae889b6-7fdc-4600-8598-5b734880d6bc\",\"type\":\"Title\"},\"toolbar\":{\"id\":\"a70f7ef2-007c-4f20-bd15-2008d194ea26\",\"type\":\"Toolbar\"},\"toolbar_location\":null,\"toolbar_sticky\":false,\"x_range\":{\"id\":\"4f0d44a1-8f46-4a33-8dd7-abd39e620957\",\"type\":\"DataRange1d\"},\"x_scale\":{\"id\":\"af3ef697-e96e-4c24-933b-79070be71089\",\"type\":\"LinearScale\"},\"y_range\":{\"id\":\"9401e970-262e-4a4f-b3c9-f797c6119dac\",\"type\":\"Range1d\"},\"y_scale\":{\"id\":\"aadb47f9-2e04-4248-bc14-2558f758f10e\",\"type\":\"LinearScale\"}},\"id\":\"9ccfcd6a-c771-401d-ae06-a98c633b80bb\",\"subtype\":\"Figure\",\"type\":\"Plot\"},{\"attributes\":{\"callback\":null},\"id\":\"4f0d44a1-8f46-4a33-8dd7-abd39e620957\",\"type\":\"DataRange1d\"},{\"attributes\":{\"callback\":null,\"column_names\":[\"x\",\"y\",\"Date\"],\"data\":{\"Date\":[\"Jan 2000\",\"Feb 2000\",\"Mar 2000\",\"Apr 2000\",\"May 2000\",\"Jun 2000\",\"Jul 2000\",\"Aug 2000\",\"Sep 2000\",\"Oct 2000\",\"Nov 2000\",\"Dec 2000\",\"Jan 2001\",\"Feb 2001\",\"Mar 2001\",\"Apr 2001\",\"May 2001\",\"Jun 2001\",\"Jul 2001\",\"Aug 2001\",\"Sep 2001\",\"Oct 2001\",\"Nov 2001\",\"Dec 2001\",\"Jan 2002\",\"Feb 2002\",\"Mar 2002\",\"Apr 2002\",\"May 2002\",\"Jun 2002\",\"Jul 2002\",\"Aug 2002\",\"Sep 2002\",\"Oct 2002\",\"Nov 2002\",\"Dec 2002\",\"Jan 2003\",\"Feb 2003\",\"Mar 2003\",\"Apr 2003\",\"May 2003\",\"Jun 2003\",\"Jul 2003\",\"Aug 2003\",\"Sep 2003\",\"Oct 2003\",\"Nov 2003\",\"Dec 2003\",\"Jan 2004\",\"Feb 2004\",\"Mar 2004\",\"Apr 2004\",\"May 2004\",\"Jun 2004\",\"Jul 2004\",\"Aug 2004\",\"Sep 2004\",\"Oct 2004\",\"Nov 2004\",\"Dec 2004\",\"Jan 2005\",\"Feb 2005\",\"Mar 2005\",\"Apr 2005\",\"May 2005\",\"Jun 2005\",\"Jul 2005\",\"Aug 2005\",\"Sep 2005\",\"Oct 2005\",\"Nov 2005\",\"Dec 2005\",\"Jan 2006\",\"Feb 2006\",\"Mar 2006\",\"Apr 2006\",\"May 2006\",\"Jun 2006\",\"Jul 2006\",\"Aug 2006\",\"Sep 2006\",\"Oct 2006\",\"Nov 2006\",\"Dec 2006\",\"Jan 2007\",\"Feb 2007\",\"Mar 2007\",\"Apr 2007\",\"May 2007\",\"Jun 2007\",\"Jul 2007\",\"Aug 2007\",\"Sep 2007\",\"Oct 2007\",\"Nov 2007\",\"Dec 2007\",\"Jan 2008\",\"Feb 2008\",\"Mar 2008\",\"Apr 2008\",\"May 2008\",\"Jun 2008\",\"Jul 2008\",\"Aug 2008\",\"Sep 2008\",\"Oct 2008\",\"Nov 2008\",\"Dec 2008\",\"Jan 2009\",\"Feb 2009\",\"Mar 2009\",\"Apr 2009\",\"May 2009\",\"Jun 2009\",\"Jul 2009\",\"Aug 2009\",\"Sep 2009\",\"Oct 2009\",\"Nov 2009\",\"Dec 2009\",\"Jan 2010\",\"Feb 2010\",\"Mar 2010\",\"Apr 2010\",\"May 2010\",\"Jun 2010\",\"Jul 2010\",\"Aug 2010\",\"Sep 2010\",\"Oct 2010\",\"Nov 2010\",\"Dec 2010\",\"Jan 2011\",\"Feb 2011\",\"Mar 2011\",\"Apr 2011\",\"May 2011\",\"Jun 2011\",\"Jul 2011\",\"Aug 2011\",\"Sep 2011\",\"Oct 2011\",\"Nov 2011\",\"Dec 2011\",\"Jan 2012\",\"Feb 2012\",\"Mar 2012\",\"Apr 2012\",\"May 2012\",\"Jun 2012\",\"Jul 2012\",\"Aug 2012\",\"Sep 2012\",\"Oct 2012\",\"Nov 2012\",\"Dec 2012\",\"Jan 2013\",\"Feb 2013\",\"Mar 2013\",\"Apr 2013\",\"May 2013\",\"Jun 2013\",\"Jul 2013\",\"Aug 2013\",\"Sep 2013\",\"Oct 2013\",\"Nov 2013\",\"Dec 2013\",\"Jan 2014\",\"Feb 2014\",\"Mar 2014\",\"Apr 2014\",\"May 2014\",\"Jun 2014\",\"Jul 2014\",\"Aug 2014\",\"Sep 2014\",\"Oct 2014\",\"Nov 2014\",\"Dec 2014\",\"Jan 2015\",\"Feb 2015\",\"Mar 2015\",\"Apr 2015\",\"May 2015\",\"Jun 2015\",\"Jul 2015\",\"Aug 2015\",\"Sep 2015\",\"Oct 2015\",\"Nov 2015\",\"Dec 2015\",\"Jan 2016\",\"Feb 2016\",\"Mar 2016\",\"Apr 2016\",\"May 2016\",\"Jun 2016\",\"Jul 2016\",\"Aug 2016\",\"Sep 2016\",\"Oct 2016\",\"Nov 2016\",\"Dec 2016\",\"Jan 2017\",\"Feb 2017\",\"Mar 2017\",\"Apr 2017\",\"May 2017\",\"Jun 2017\",\"Jul 2017\",\"Aug 2017\",\"Sep 2017\",\"Oct 2017\",\"Nov 2017\",\"Dec 2017\",\"Jan 2018\",\"Feb 2018\"],\"x\":{\"__ndarray__\":\"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\",\"dtype\":\"float64\",\"shape\":[218]},\"y\":{\"__ndarray__\":\"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\",\"dtype\":\"float64\",\"shape\":[218]}}},\"id\":\"d647aaa5-9175-46b1-81b5-28238ea35518\",\"type\":\"ColumnDataSource\"},{\"attributes\":{\"days\":[1,4,7,10,13,16,19,22,25,28]},\"id\":\"3926673e-987d-4284-8d8a-4684fe2de59c\",\"type\":\"DaysTicker\"},{\"attributes\":{\"active_drag\":null,\"active_inspect\":\"auto\",\"active_scroll\":\"auto\",\"active_tap\":\"auto\",\"logo\":null,\"tools\":[{\"id\":\"394822a8-3b2d-4817-9e5d-c773e8bbcfc8\",\"type\":\"PanTool\"},{\"id\":\"d8b8995b-56ff-40bc-9cab-024f1bd17b28\",\"type\":\"WheelZoomTool\"},{\"id\":\"4fb8605f-2560-44ce-83c9-ea16d28f38bf\",\"type\":\"BoxZoomTool\"},{\"id\":\"fd7247a3-8e5d-4adb-b931-301ba14c7d52\",\"type\":\"ResetTool\"},{\"id\":\"a6c87ba8-2301-4987-9778-d06f9473f1bf\",\"type\":\"HoverTool\"}]},\"id\":\"a70f7ef2-007c-4f20-bd15-2008d194ea26\",\"type\":\"Toolbar\"},{\"attributes\":{\"days\":[1,8,15,22]},\"id\":\"c1345d57-5bf7-47be-ba6b-38f3487714cc\",\"type\":\"DaysTicker\"},{\"attributes\":{},\"id\":\"af3ef697-e96e-4c24-933b-79070be71089\",\"type\":\"LinearScale\"},{\"attributes\":{},\"id\":\"6dbe14fc-3762-4a5a-9158-5a788751aedf\",\"type\":\"DatetimeTickFormatter\"},{\"attributes\":{\"days\":[1,15]},\"id\":\"9fe37773-fe22-4c5d-aa8f-1caf3b802c59\",\"type\":\"DaysTicker\"},{\"attributes\":{},\"id\":\"aadb47f9-2e04-4248-bc14-2558f758f10e\",\"type\":\"LinearScale\"},{\"attributes\":{\"grid_line_color\":{\"value\":null},\"plot\":{\"id\":\"9ccfcd6a-c771-401d-ae06-a98c633b80bb\",\"subtype\":\"Figure\",\"type\":\"Plot\"},\"ticker\":{\"id\":\"3f77e93f-18d9-40fc-8447-79bdae8ccedf\",\"type\":\"DatetimeTicker\"}},\"id\":\"2d418e79-2d25-4442-9779-5a9425d7df02\",\"type\":\"Grid\"},{\"attributes\":{\"months\":[0,1,2,3,4,5,6,7,8,9,10,11]},\"id\":\"a750644f-e7f0-4caf-b023-5121c30084fe\",\"type\":\"MonthsTicker\"},{\"attributes\":{\"axis_line_color\":{\"value\":\"white\"},\"formatter\":{\"id\":\"6dbe14fc-3762-4a5a-9158-5a788751aedf\",\"type\":\"DatetimeTickFormatter\"},\"plot\":{\"id\":\"9ccfcd6a-c771-401d-ae06-a98c633b80bb\",\"subtype\":\"Figure\",\"type\":\"Plot\"},\"ticker\":{\"id\":\"3f77e93f-18d9-40fc-8447-79bdae8ccedf\",\"type\":\"DatetimeTicker\"}},\"id\":\"c4e95b0e-bc91-4040-b164-3815427893be\",\"type\":\"DatetimeAxis\"},{\"attributes\":{\"num_minor_ticks\":5,\"tickers\":[{\"id\":\"b9a16ca3-077b-4ed6-a82d-39d9b8f8ff01\",\"type\":\"AdaptiveTicker\"},{\"id\":\"6516dc49-9323-4707-a565-a828e921b46b\",\"type\":\"AdaptiveTicker\"},{\"id\":\"33c05f24-1bd6-490c-80c3-576332daa1a6\",\"type\":\"AdaptiveTicker\"},{\"id\":\"6352861e-2d7c-4ae1-9ae6-c1afda8b8a6b\",\"type\":\"DaysTicker\"},{\"id\":\"3926673e-987d-4284-8d8a-4684fe2de59c\",\"type\":\"DaysTicker\"},{\"id\":\"c1345d57-5bf7-47be-ba6b-38f3487714cc\",\"type\":\"DaysTicker\"},{\"id\":\"9fe37773-fe22-4c5d-aa8f-1caf3b802c59\",\"type\":\"DaysTicker\"},{\"id\":\"a750644f-e7f0-4caf-b023-5121c30084fe\",\"type\":\"MonthsTicker\"},{\"id\":\"dbbf4b3d-94b6-4e29-a7aa-5d219cc27a0a\",\"type\":\"MonthsTicker\"},{\"id\":\"6c99a694-84ed-416f-a277-900d4fb423dc\",\"type\":\"MonthsTicker\"},{\"id\":\"b2a9aa1d-b757-4a9e-a5ec-af9b81d568cd\",\"type\":\"MonthsTicker\"},{\"id\":\"dd14419f-f4f3-4702-941c-0ab271b3a03e\",\"type\":\"YearsTicker\"}]},\"id\":\"3f77e93f-18d9-40fc-8447-79bdae8ccedf\",\"type\":\"DatetimeTicker\"},{\"attributes\":{\"months\":[0,2,4,6,8,10]},\"id\":\"dbbf4b3d-94b6-4e29-a7aa-5d219cc27a0a\",\"type\":\"MonthsTicker\"},{\"attributes\":{\"axis_line_color\":{\"value\":\"white\"},\"formatter\":{\"id\":\"b359e1ab-3549-4561-8ee8-4576041033c3\",\"type\":\"BasicTickFormatter\"},\"plot\":{\"id\":\"9ccfcd6a-c771-401d-ae06-a98c633b80bb\",\"subtype\":\"Figure\",\"type\":\"Plot\"},\"ticker\":{\"id\":\"17a7dd9d-8e15-46f9-81da-d296521a6a37\",\"type\":\"BasicTicker\"}},\"id\":\"b08b993d-3540-4ce0-ab65-8db40c3a76c3\",\"type\":\"LinearAxis\"},{\"attributes\":{},\"id\":\"17a7dd9d-8e15-46f9-81da-d296521a6a37\",\"type\":\"BasicTicker\"},{\"attributes\":{\"months\":[0,4,8]},\"id\":\"6c99a694-84ed-416f-a277-900d4fb423dc\",\"type\":\"MonthsTicker\"},{\"attributes\":{\"dimension\":1,\"plot\":{\"id\":\"9ccfcd6a-c771-401d-ae06-a98c633b80bb\",\"subtype\":\"Figure\",\"type\":\"Plot\"},\"ticker\":{\"id\":\"17a7dd9d-8e15-46f9-81da-d296521a6a37\",\"type\":\"BasicTicker\"}},\"id\":\"5671ddee-ada6-4547-9862-52b70df5a89e\",\"type\":\"Grid\"},{\"attributes\":{\"fill_alpha\":{\"value\":0.1},\"fill_color\":{\"value\":\"gray\"},\"left\":986083200000.0,\"line_alpha\":{\"value\":0},\"plot\":{\"id\":\"9ccfcd6a-c771-401d-ae06-a98c633b80bb\",\"subtype\":\"Figure\",\"type\":\"Plot\"},\"right\":1007164800000.0},\"id\":\"fb4b1cb5-61b1-4c04-a5bf-88f56d2d5f33\",\"type\":\"BoxAnnotation\"},{\"attributes\":{\"months\":[0,6]},\"id\":\"b2a9aa1d-b757-4a9e-a5ec-af9b81d568cd\",\"type\":\"MonthsTicker\"},{\"attributes\":{\"mantissas\":[1,2,5],\"max_interval\":500.0,\"num_minor_ticks\":0},\"id\":\"b9a16ca3-077b-4ed6-a82d-39d9b8f8ff01\",\"type\":\"AdaptiveTicker\"},{\"attributes\":{},\"id\":\"394822a8-3b2d-4817-9e5d-c773e8bbcfc8\",\"type\":\"PanTool\"},{\"attributes\":{},\"id\":\"dd14419f-f4f3-4702-941c-0ab271b3a03e\",\"type\":\"YearsTicker\"},{\"attributes\":{\"plot\":null,\"text\":\"\"},\"id\":\"fae889b6-7fdc-4600-8598-5b734880d6bc\",\"type\":\"Title\"},{\"attributes\":{},\"id\":\"d8b8995b-56ff-40bc-9cab-024f1bd17b28\",\"type\":\"WheelZoomTool\"},{\"attributes\":{\"callback\":null,\"show_arrow\":false,\"tooltips\":\"\\n            <div>\\n                <span style=\\\"font-size: 12px;\\\">@Date:</span>\\n                <span style=\\\"font-size: 12px; font-weight: bold;\\\">@y{1.1}%</span>\\n            </div>\\n\"},\"id\":\"a6c87ba8-2301-4987-9778-d06f9473f1bf\",\"type\":\"HoverTool\"},{\"attributes\":{\"overlay\":{\"id\":\"85a142b0-fcb4-40e8-8b50-a5f197606831\",\"type\":\"BoxAnnotation\"}},\"id\":\"4fb8605f-2560-44ce-83c9-ea16d28f38bf\",\"type\":\"BoxZoomTool\"},{\"attributes\":{},\"id\":\"fd7247a3-8e5d-4adb-b931-301ba14c7d52\",\"type\":\"ResetTool\"},{\"attributes\":{\"bottom_units\":\"screen\",\"fill_alpha\":{\"value\":0.5},\"fill_color\":{\"value\":\"lightgrey\"},\"left_units\":\"screen\",\"level\":\"overlay\",\"line_alpha\":{\"value\":1.0},\"line_color\":{\"value\":\"black\"},\"line_dash\":[4,4],\"line_width\":{\"value\":2},\"plot\":null,\"render_mode\":\"css\",\"right_units\":\"screen\",\"top_units\":\"screen\"},\"id\":\"85a142b0-fcb4-40e8-8b50-a5f197606831\",\"type\":\"BoxAnnotation\"},{\"attributes\":{\"line_color\":\"Blue\",\"line_width\":3,\"x\":{\"field\":\"x\"},\"y\":{\"field\":\"y\"}},\"id\":\"ef4a4660-637a-4164-b3e7-0c548ce39555\",\"type\":\"Line\"},{\"attributes\":{},\"id\":\"b359e1ab-3549-4561-8ee8-4576041033c3\",\"type\":\"BasicTickFormatter\"},{\"attributes\":{\"data_source\":{\"id\":\"d647aaa5-9175-46b1-81b5-28238ea35518\",\"type\":\"ColumnDataSource\"},\"glyph\":{\"id\":\"ef4a4660-637a-4164-b3e7-0c548ce39555\",\"type\":\"Line\"},\"hover_glyph\":null,\"muted_glyph\":null,\"nonselection_glyph\":{\"id\":\"97530b7a-49d0-4b87-99e8-ae6f6fc04eb2\",\"type\":\"Line\"},\"selection_glyph\":null,\"view\":{\"id\":\"b0f4da0f-1723-4c1b-872d-297698d8f0f9\",\"type\":\"CDSView\"}},\"id\":\"5d68633c-eb3b-45da-b632-73a752bf8790\",\"type\":\"GlyphRenderer\"},{\"attributes\":{\"source\":{\"id\":\"d647aaa5-9175-46b1-81b5-28238ea35518\",\"type\":\"ColumnDataSource\"}},\"id\":\"b0f4da0f-1723-4c1b-872d-297698d8f0f9\",\"type\":\"CDSView\"},{\"attributes\":{\"base\":60,\"mantissas\":[1,2,5,10,15,20,30],\"max_interval\":1800000.0,\"min_interval\":1000.0,\"num_minor_ticks\":0},\"id\":\"6516dc49-9323-4707-a565-a828e921b46b\",\"type\":\"AdaptiveTicker\"}],\"root_ids\":[\"9ccfcd6a-c771-401d-ae06-a98c633b80bb\"]},\"title\":\"Bokeh Application\",\"version\":\"0.12.14\"}};\n",
       "  var render_items = [{\"docid\":\"c21f2dc4-2474-4ddf-962c-6fa3552a14ff\",\"elementid\":\"bee24ad0-caa2-4573-9417-9f6b8bd85356\",\"modelid\":\"9ccfcd6a-c771-401d-ae06-a98c633b80bb\"}];\n",
       "  root.Bokeh.embed.embed_items_notebook(docs_json, render_items);\n",
       "\n",
       "  }\n",
       "  if (root.Bokeh !== undefined) {\n",
       "    embed_document(root);\n",
       "  } else {\n",
       "    var attempts = 0;\n",
       "    var timer = setInterval(function(root) {\n",
       "      if (root.Bokeh !== undefined) {\n",
       "        embed_document(root);\n",
       "        clearInterval(timer);\n",
       "      }\n",
       "      attempts++;\n",
       "      if (attempts > 100) {\n",
       "        console.log(\"Bokeh: ERROR: Unable to run BokehJS code because BokehJS library is missing\")\n",
       "        clearInterval(timer);\n",
       "      }\n",
       "    }, 10, root)\n",
       "  }\n",
       "})(window);"
      ],
      "application/vnd.bokehjs_exec.v0+json": ""
     },
     "metadata": {
      "application/vnd.bokehjs_exec.v0+json": {
       "id": "9ccfcd6a-c771-401d-ae06-a98c633b80bb"
      }
     },
     "output_type": "display_data"
    }
   ],
   "source": [
    "# Employment rate\n",
    "epop = pd.read_csv('C:/Working/Python/ChartBook/LNS12300060.csv')#.set_index('DATE')\n",
    "epop = epop.set_index(pd.to_datetime(epop['DATE']))['LNS12300060']\n",
    "\n",
    "source = ColumnDataSource({'x': epop.index, 'y': epop.values, 'Date': epop.index.strftime('%b %Y')})\n",
    "tooltips = \"\"\"\n",
    "            <div>\n",
    "                <span style=\"font-size: 12px;\">@Date:</span>\n",
    "                <span style=\"font-size: 12px; font-weight: bold;\">@y{1.1}%</span>\n",
    "            </div>\n",
    "\"\"\"\n",
    "p = figure(width=700,height=300,x_axis_type='datetime',tools=['pan, wheel_zoom,box_zoom,reset'],\n",
    "           logo=None, toolbar_location=None, toolbar_sticky=False, y_range=Range1d(74, 83))\n",
    "p.sizing_mode = 'scale_width'\n",
    "p.add_layout(BoxAnnotation(left=pd.to_datetime('2001-04-01'), right=pd.to_datetime('2001-12-01'), fill_alpha=0.1, line_alpha=0, fill_color='gray'))\n",
    "p.add_layout(BoxAnnotation(left=pd.to_datetime('2008-01-01'), right=pd.to_datetime('2009-07-01'), fill_alpha=0.1, line_alpha=0, fill_color='gray'))\n",
    "p.line('x', 'y', source = source, line_width=3, color='Blue')\n",
    "p.xgrid.grid_line_color = None\n",
    "#p.grid.grid_line_color = None\n",
    "p.outline_line_color = 'white'\n",
    "p.axis.axis_line_color = 'white'\n",
    "p.add_tools(HoverTool(tooltips=tooltips, show_arrow=False, point_policy='snap_to_data'))\n",
    "p.toolbar.active_drag = None\n",
    "script, div = components(p)\n",
    "\n",
    "with open('C:/Working/bdecon.github.io/plots/epop.html', 'w') as text_file:\n",
    "    text_file.write('{} {}'.format(script, div))\n",
    "    \n",
    "show(p)"
   ]
  },
  {
   "cell_type": "code",
   "execution_count": null,
   "metadata": {},
   "outputs": [],
   "source": []
  },
  {
   "cell_type": "code",
   "execution_count": null,
   "metadata": {},
   "outputs": [],
   "source": []
  }
 ],
 "metadata": {
  "kernelspec": {
   "display_name": "Python 3",
   "language": "python",
   "name": "python3"
  },
  "language_info": {
   "codemirror_mode": {
    "name": "ipython",
    "version": 3
   },
   "file_extension": ".py",
   "mimetype": "text/x-python",
   "name": "python",
   "nbconvert_exporter": "python",
   "pygments_lexer": "ipython3",
   "version": "3.6.4"
  }
 },
 "nbformat": 4,
 "nbformat_minor": 2
}
