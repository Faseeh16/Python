{
 "cells": [
  {
   "cell_type": "markdown",
   "metadata": {},
   "source": [
    "### Bokeh_Plots_Site.ipynb\n",
    "\n",
    "Brian Dew, @bd_econ, April 22, 2018\n",
    "\n",
    "----\n",
    "\n",
    "Description: Retrieve GDP data and make a bar plot showing GDP growth."
   ]
  },
  {
   "cell_type": "code",
   "execution_count": 2,
   "metadata": {
    "ExecuteTime": {
     "end_time": "2018-04-26T12:40:29.674267Z",
     "start_time": "2018-04-26T12:40:25.465568Z"
    },
    "code_folding": [
     0
    ]
   },
   "outputs": [
    {
     "data": {
      "text/html": [
       "\n",
       "    <div class=\"bk-root\">\n",
       "        <a href=\"https://bokeh.pydata.org\" target=\"_blank\" class=\"bk-logo bk-logo-small bk-logo-notebook\"></a>\n",
       "        <span id=\"27ec395d-9488-4ffa-b3d3-0f4b17530011\">Loading BokehJS ...</span>\n",
       "    </div>"
      ]
     },
     "metadata": {},
     "output_type": "display_data"
    },
    {
     "data": {
      "application/javascript": [
       "\n",
       "(function(root) {\n",
       "  function now() {\n",
       "    return new Date();\n",
       "  }\n",
       "\n",
       "  var force = true;\n",
       "\n",
       "  if (typeof (root._bokeh_onload_callbacks) === \"undefined\" || force === true) {\n",
       "    root._bokeh_onload_callbacks = [];\n",
       "    root._bokeh_is_loading = undefined;\n",
       "  }\n",
       "\n",
       "  var JS_MIME_TYPE = 'application/javascript';\n",
       "  var HTML_MIME_TYPE = 'text/html';\n",
       "  var EXEC_MIME_TYPE = 'application/vnd.bokehjs_exec.v0+json';\n",
       "  var CLASS_NAME = 'output_bokeh rendered_html';\n",
       "\n",
       "  /**\n",
       "   * Render data to the DOM node\n",
       "   */\n",
       "  function render(props, node) {\n",
       "    var script = document.createElement(\"script\");\n",
       "    node.appendChild(script);\n",
       "  }\n",
       "\n",
       "  /**\n",
       "   * Handle when an output is cleared or removed\n",
       "   */\n",
       "  function handleClearOutput(event, handle) {\n",
       "    var cell = handle.cell;\n",
       "\n",
       "    var id = cell.output_area._bokeh_element_id;\n",
       "    var server_id = cell.output_area._bokeh_server_id;\n",
       "    // Clean up Bokeh references\n",
       "    if (id !== undefined) {\n",
       "      Bokeh.index[id].model.document.clear();\n",
       "      delete Bokeh.index[id];\n",
       "    }\n",
       "\n",
       "    if (server_id !== undefined) {\n",
       "      // Clean up Bokeh references\n",
       "      var cmd = \"from bokeh.io.state import curstate; print(curstate().uuid_to_server['\" + server_id + \"'].get_sessions()[0].document.roots[0]._id)\";\n",
       "      cell.notebook.kernel.execute(cmd, {\n",
       "        iopub: {\n",
       "          output: function(msg) {\n",
       "            var element_id = msg.content.text.trim();\n",
       "            Bokeh.index[element_id].model.document.clear();\n",
       "            delete Bokeh.index[element_id];\n",
       "          }\n",
       "        }\n",
       "      });\n",
       "      // Destroy server and session\n",
       "      var cmd = \"import bokeh.io.notebook as ion; ion.destroy_server('\" + server_id + \"')\";\n",
       "      cell.notebook.kernel.execute(cmd);\n",
       "    }\n",
       "  }\n",
       "\n",
       "  /**\n",
       "   * Handle when a new output is added\n",
       "   */\n",
       "  function handleAddOutput(event, handle) {\n",
       "    var output_area = handle.output_area;\n",
       "    var output = handle.output;\n",
       "\n",
       "    // limit handleAddOutput to display_data with EXEC_MIME_TYPE content only\n",
       "    if ((output.output_type != \"display_data\") || (!output.data.hasOwnProperty(EXEC_MIME_TYPE))) {\n",
       "      return\n",
       "    }\n",
       "\n",
       "    var toinsert = output_area.element.find(\".\" + CLASS_NAME.split(' ')[0]);\n",
       "\n",
       "    if (output.metadata[EXEC_MIME_TYPE][\"id\"] !== undefined) {\n",
       "      toinsert[toinsert.length - 1].firstChild.textContent = output.data[JS_MIME_TYPE];\n",
       "      // store reference to embed id on output_area\n",
       "      output_area._bokeh_element_id = output.metadata[EXEC_MIME_TYPE][\"id\"];\n",
       "    }\n",
       "    if (output.metadata[EXEC_MIME_TYPE][\"server_id\"] !== undefined) {\n",
       "      var bk_div = document.createElement(\"div\");\n",
       "      bk_div.innerHTML = output.data[HTML_MIME_TYPE];\n",
       "      var script_attrs = bk_div.children[0].attributes;\n",
       "      for (var i = 0; i < script_attrs.length; i++) {\n",
       "        toinsert[toinsert.length - 1].firstChild.setAttribute(script_attrs[i].name, script_attrs[i].value);\n",
       "      }\n",
       "      // store reference to server id on output_area\n",
       "      output_area._bokeh_server_id = output.metadata[EXEC_MIME_TYPE][\"server_id\"];\n",
       "    }\n",
       "  }\n",
       "\n",
       "  function register_renderer(events, OutputArea) {\n",
       "\n",
       "    function append_mime(data, metadata, element) {\n",
       "      // create a DOM node to render to\n",
       "      var toinsert = this.create_output_subarea(\n",
       "        metadata,\n",
       "        CLASS_NAME,\n",
       "        EXEC_MIME_TYPE\n",
       "      );\n",
       "      this.keyboard_manager.register_events(toinsert);\n",
       "      // Render to node\n",
       "      var props = {data: data, metadata: metadata[EXEC_MIME_TYPE]};\n",
       "      render(props, toinsert[toinsert.length - 1]);\n",
       "      element.append(toinsert);\n",
       "      return toinsert\n",
       "    }\n",
       "\n",
       "    /* Handle when an output is cleared or removed */\n",
       "    events.on('clear_output.CodeCell', handleClearOutput);\n",
       "    events.on('delete.Cell', handleClearOutput);\n",
       "\n",
       "    /* Handle when a new output is added */\n",
       "    events.on('output_added.OutputArea', handleAddOutput);\n",
       "\n",
       "    /**\n",
       "     * Register the mime type and append_mime function with output_area\n",
       "     */\n",
       "    OutputArea.prototype.register_mime_type(EXEC_MIME_TYPE, append_mime, {\n",
       "      /* Is output safe? */\n",
       "      safe: true,\n",
       "      /* Index of renderer in `output_area.display_order` */\n",
       "      index: 0\n",
       "    });\n",
       "  }\n",
       "\n",
       "  // register the mime type if in Jupyter Notebook environment and previously unregistered\n",
       "  if (root.Jupyter !== undefined) {\n",
       "    var events = require('base/js/events');\n",
       "    var OutputArea = require('notebook/js/outputarea').OutputArea;\n",
       "\n",
       "    if (OutputArea.prototype.mime_types().indexOf(EXEC_MIME_TYPE) == -1) {\n",
       "      register_renderer(events, OutputArea);\n",
       "    }\n",
       "  }\n",
       "\n",
       "  \n",
       "  if (typeof (root._bokeh_timeout) === \"undefined\" || force === true) {\n",
       "    root._bokeh_timeout = Date.now() + 5000;\n",
       "    root._bokeh_failed_load = false;\n",
       "  }\n",
       "\n",
       "  var NB_LOAD_WARNING = {'data': {'text/html':\n",
       "     \"<div style='background-color: #fdd'>\\n\"+\n",
       "     \"<p>\\n\"+\n",
       "     \"BokehJS does not appear to have successfully loaded. If loading BokehJS from CDN, this \\n\"+\n",
       "     \"may be due to a slow or bad network connection. Possible fixes:\\n\"+\n",
       "     \"</p>\\n\"+\n",
       "     \"<ul>\\n\"+\n",
       "     \"<li>re-rerun `output_notebook()` to attempt to load from CDN again, or</li>\\n\"+\n",
       "     \"<li>use INLINE resources instead, as so:</li>\\n\"+\n",
       "     \"</ul>\\n\"+\n",
       "     \"<code>\\n\"+\n",
       "     \"from bokeh.resources import INLINE\\n\"+\n",
       "     \"output_notebook(resources=INLINE)\\n\"+\n",
       "     \"</code>\\n\"+\n",
       "     \"</div>\"}};\n",
       "\n",
       "  function display_loaded() {\n",
       "    var el = document.getElementById(\"27ec395d-9488-4ffa-b3d3-0f4b17530011\");\n",
       "    if (el != null) {\n",
       "      el.textContent = \"BokehJS is loading...\";\n",
       "    }\n",
       "    if (root.Bokeh !== undefined) {\n",
       "      if (el != null) {\n",
       "        el.textContent = \"BokehJS \" + root.Bokeh.version + \" successfully loaded.\";\n",
       "      }\n",
       "    } else if (Date.now() < root._bokeh_timeout) {\n",
       "      setTimeout(display_loaded, 100)\n",
       "    }\n",
       "  }\n",
       "\n",
       "\n",
       "  function run_callbacks() {\n",
       "    try {\n",
       "      root._bokeh_onload_callbacks.forEach(function(callback) { callback() });\n",
       "    }\n",
       "    finally {\n",
       "      delete root._bokeh_onload_callbacks\n",
       "    }\n",
       "    console.info(\"Bokeh: all callbacks have finished\");\n",
       "  }\n",
       "\n",
       "  function load_libs(js_urls, callback) {\n",
       "    root._bokeh_onload_callbacks.push(callback);\n",
       "    if (root._bokeh_is_loading > 0) {\n",
       "      console.log(\"Bokeh: BokehJS is being loaded, scheduling callback at\", now());\n",
       "      return null;\n",
       "    }\n",
       "    if (js_urls == null || js_urls.length === 0) {\n",
       "      run_callbacks();\n",
       "      return null;\n",
       "    }\n",
       "    console.log(\"Bokeh: BokehJS not loaded, scheduling load and callback at\", now());\n",
       "    root._bokeh_is_loading = js_urls.length;\n",
       "    for (var i = 0; i < js_urls.length; i++) {\n",
       "      var url = js_urls[i];\n",
       "      var s = document.createElement('script');\n",
       "      s.src = url;\n",
       "      s.async = false;\n",
       "      s.onreadystatechange = s.onload = function() {\n",
       "        root._bokeh_is_loading--;\n",
       "        if (root._bokeh_is_loading === 0) {\n",
       "          console.log(\"Bokeh: all BokehJS libraries loaded\");\n",
       "          run_callbacks()\n",
       "        }\n",
       "      };\n",
       "      s.onerror = function() {\n",
       "        console.warn(\"failed to load library \" + url);\n",
       "      };\n",
       "      console.log(\"Bokeh: injecting script tag for BokehJS library: \", url);\n",
       "      document.getElementsByTagName(\"head\")[0].appendChild(s);\n",
       "    }\n",
       "  };var element = document.getElementById(\"27ec395d-9488-4ffa-b3d3-0f4b17530011\");\n",
       "  if (element == null) {\n",
       "    console.log(\"Bokeh: ERROR: autoload.js configured with elementid '27ec395d-9488-4ffa-b3d3-0f4b17530011' but no matching script tag was found. \")\n",
       "    return false;\n",
       "  }\n",
       "\n",
       "  var js_urls = [\"https://cdn.pydata.org/bokeh/release/bokeh-0.12.15.min.js\", \"https://cdn.pydata.org/bokeh/release/bokeh-widgets-0.12.15.min.js\", \"https://cdn.pydata.org/bokeh/release/bokeh-tables-0.12.15.min.js\", \"https://cdn.pydata.org/bokeh/release/bokeh-gl-0.12.15.min.js\"];\n",
       "\n",
       "  var inline_js = [\n",
       "    function(Bokeh) {\n",
       "      Bokeh.set_log_level(\"info\");\n",
       "    },\n",
       "    \n",
       "    function(Bokeh) {\n",
       "      \n",
       "    },\n",
       "    function(Bokeh) {\n",
       "      console.log(\"Bokeh: injecting CSS: https://cdn.pydata.org/bokeh/release/bokeh-0.12.15.min.css\");\n",
       "      Bokeh.embed.inject_css(\"https://cdn.pydata.org/bokeh/release/bokeh-0.12.15.min.css\");\n",
       "      console.log(\"Bokeh: injecting CSS: https://cdn.pydata.org/bokeh/release/bokeh-widgets-0.12.15.min.css\");\n",
       "      Bokeh.embed.inject_css(\"https://cdn.pydata.org/bokeh/release/bokeh-widgets-0.12.15.min.css\");\n",
       "      console.log(\"Bokeh: injecting CSS: https://cdn.pydata.org/bokeh/release/bokeh-tables-0.12.15.min.css\");\n",
       "      Bokeh.embed.inject_css(\"https://cdn.pydata.org/bokeh/release/bokeh-tables-0.12.15.min.css\");\n",
       "    }\n",
       "  ];\n",
       "\n",
       "  function run_inline_js() {\n",
       "    \n",
       "    if ((root.Bokeh !== undefined) || (force === true)) {\n",
       "      for (var i = 0; i < inline_js.length; i++) {\n",
       "        inline_js[i].call(root, root.Bokeh);\n",
       "      }if (force === true) {\n",
       "        display_loaded();\n",
       "      }} else if (Date.now() < root._bokeh_timeout) {\n",
       "      setTimeout(run_inline_js, 100);\n",
       "    } else if (!root._bokeh_failed_load) {\n",
       "      console.log(\"Bokeh: BokehJS failed to load within specified timeout.\");\n",
       "      root._bokeh_failed_load = true;\n",
       "    } else if (force !== true) {\n",
       "      var cell = $(document.getElementById(\"27ec395d-9488-4ffa-b3d3-0f4b17530011\")).parents('.cell').data().cell;\n",
       "      cell.output_area.append_execute_result(NB_LOAD_WARNING)\n",
       "    }\n",
       "\n",
       "  }\n",
       "\n",
       "  if (root._bokeh_is_loading === 0) {\n",
       "    console.log(\"Bokeh: BokehJS loaded, going straight to plotting\");\n",
       "    run_inline_js();\n",
       "  } else {\n",
       "    load_libs(js_urls, function() {\n",
       "      console.log(\"Bokeh: BokehJS plotting callback run at\", now());\n",
       "      run_inline_js();\n",
       "    });\n",
       "  }\n",
       "}(window));"
      ],
      "application/vnd.bokehjs_load.v0+json": "\n(function(root) {\n  function now() {\n    return new Date();\n  }\n\n  var force = true;\n\n  if (typeof (root._bokeh_onload_callbacks) === \"undefined\" || force === true) {\n    root._bokeh_onload_callbacks = [];\n    root._bokeh_is_loading = undefined;\n  }\n\n  \n\n  \n  if (typeof (root._bokeh_timeout) === \"undefined\" || force === true) {\n    root._bokeh_timeout = Date.now() + 5000;\n    root._bokeh_failed_load = false;\n  }\n\n  var NB_LOAD_WARNING = {'data': {'text/html':\n     \"<div style='background-color: #fdd'>\\n\"+\n     \"<p>\\n\"+\n     \"BokehJS does not appear to have successfully loaded. If loading BokehJS from CDN, this \\n\"+\n     \"may be due to a slow or bad network connection. Possible fixes:\\n\"+\n     \"</p>\\n\"+\n     \"<ul>\\n\"+\n     \"<li>re-rerun `output_notebook()` to attempt to load from CDN again, or</li>\\n\"+\n     \"<li>use INLINE resources instead, as so:</li>\\n\"+\n     \"</ul>\\n\"+\n     \"<code>\\n\"+\n     \"from bokeh.resources import INLINE\\n\"+\n     \"output_notebook(resources=INLINE)\\n\"+\n     \"</code>\\n\"+\n     \"</div>\"}};\n\n  function display_loaded() {\n    var el = document.getElementById(\"27ec395d-9488-4ffa-b3d3-0f4b17530011\");\n    if (el != null) {\n      el.textContent = \"BokehJS is loading...\";\n    }\n    if (root.Bokeh !== undefined) {\n      if (el != null) {\n        el.textContent = \"BokehJS \" + root.Bokeh.version + \" successfully loaded.\";\n      }\n    } else if (Date.now() < root._bokeh_timeout) {\n      setTimeout(display_loaded, 100)\n    }\n  }\n\n\n  function run_callbacks() {\n    try {\n      root._bokeh_onload_callbacks.forEach(function(callback) { callback() });\n    }\n    finally {\n      delete root._bokeh_onload_callbacks\n    }\n    console.info(\"Bokeh: all callbacks have finished\");\n  }\n\n  function load_libs(js_urls, callback) {\n    root._bokeh_onload_callbacks.push(callback);\n    if (root._bokeh_is_loading > 0) {\n      console.log(\"Bokeh: BokehJS is being loaded, scheduling callback at\", now());\n      return null;\n    }\n    if (js_urls == null || js_urls.length === 0) {\n      run_callbacks();\n      return null;\n    }\n    console.log(\"Bokeh: BokehJS not loaded, scheduling load and callback at\", now());\n    root._bokeh_is_loading = js_urls.length;\n    for (var i = 0; i < js_urls.length; i++) {\n      var url = js_urls[i];\n      var s = document.createElement('script');\n      s.src = url;\n      s.async = false;\n      s.onreadystatechange = s.onload = function() {\n        root._bokeh_is_loading--;\n        if (root._bokeh_is_loading === 0) {\n          console.log(\"Bokeh: all BokehJS libraries loaded\");\n          run_callbacks()\n        }\n      };\n      s.onerror = function() {\n        console.warn(\"failed to load library \" + url);\n      };\n      console.log(\"Bokeh: injecting script tag for BokehJS library: \", url);\n      document.getElementsByTagName(\"head\")[0].appendChild(s);\n    }\n  };var element = document.getElementById(\"27ec395d-9488-4ffa-b3d3-0f4b17530011\");\n  if (element == null) {\n    console.log(\"Bokeh: ERROR: autoload.js configured with elementid '27ec395d-9488-4ffa-b3d3-0f4b17530011' but no matching script tag was found. \")\n    return false;\n  }\n\n  var js_urls = [\"https://cdn.pydata.org/bokeh/release/bokeh-0.12.15.min.js\", \"https://cdn.pydata.org/bokeh/release/bokeh-widgets-0.12.15.min.js\", \"https://cdn.pydata.org/bokeh/release/bokeh-tables-0.12.15.min.js\", \"https://cdn.pydata.org/bokeh/release/bokeh-gl-0.12.15.min.js\"];\n\n  var inline_js = [\n    function(Bokeh) {\n      Bokeh.set_log_level(\"info\");\n    },\n    \n    function(Bokeh) {\n      \n    },\n    function(Bokeh) {\n      console.log(\"Bokeh: injecting CSS: https://cdn.pydata.org/bokeh/release/bokeh-0.12.15.min.css\");\n      Bokeh.embed.inject_css(\"https://cdn.pydata.org/bokeh/release/bokeh-0.12.15.min.css\");\n      console.log(\"Bokeh: injecting CSS: https://cdn.pydata.org/bokeh/release/bokeh-widgets-0.12.15.min.css\");\n      Bokeh.embed.inject_css(\"https://cdn.pydata.org/bokeh/release/bokeh-widgets-0.12.15.min.css\");\n      console.log(\"Bokeh: injecting CSS: https://cdn.pydata.org/bokeh/release/bokeh-tables-0.12.15.min.css\");\n      Bokeh.embed.inject_css(\"https://cdn.pydata.org/bokeh/release/bokeh-tables-0.12.15.min.css\");\n    }\n  ];\n\n  function run_inline_js() {\n    \n    if ((root.Bokeh !== undefined) || (force === true)) {\n      for (var i = 0; i < inline_js.length; i++) {\n        inline_js[i].call(root, root.Bokeh);\n      }if (force === true) {\n        display_loaded();\n      }} else if (Date.now() < root._bokeh_timeout) {\n      setTimeout(run_inline_js, 100);\n    } else if (!root._bokeh_failed_load) {\n      console.log(\"Bokeh: BokehJS failed to load within specified timeout.\");\n      root._bokeh_failed_load = true;\n    } else if (force !== true) {\n      var cell = $(document.getElementById(\"27ec395d-9488-4ffa-b3d3-0f4b17530011\")).parents('.cell').data().cell;\n      cell.output_area.append_execute_result(NB_LOAD_WARNING)\n    }\n\n  }\n\n  if (root._bokeh_is_loading === 0) {\n    console.log(\"Bokeh: BokehJS loaded, going straight to plotting\");\n    run_inline_js();\n  } else {\n    load_libs(js_urls, function() {\n      console.log(\"Bokeh: BokehJS plotting callback run at\", now());\n      run_inline_js();\n    });\n  }\n}(window));"
     },
     "metadata": {},
     "output_type": "display_data"
    }
   ],
   "source": [
    "#Import preliminaries\n",
    "import requests\n",
    "import pandas as pd\n",
    "from datetime import datetime as dt\n",
    "import time\n",
    "\n",
    "# Local file with API key\n",
    "import config\n",
    "api_key = config.bea_key\n",
    "\n",
    "# Bokeh settings\n",
    "from bokeh.plotting import figure, show\n",
    "import bokeh.models\n",
    "import bokeh.plotting\n",
    "from bokeh.models import ColumnDataSource, Span, Label, HoverTool, Range1d, BoxAnnotation\n",
    "from bokeh.embed import components\n",
    "from bokeh.io import output_notebook\n",
    "output_notebook()"
   ]
  },
  {
   "cell_type": "markdown",
   "metadata": {},
   "source": [
    "# US GDP"
   ]
  },
  {
   "cell_type": "code",
   "execution_count": 2,
   "metadata": {
    "ExecuteTime": {
     "end_time": "2018-04-22T23:43:59.299324Z",
     "start_time": "2018-04-22T23:43:49.246059Z"
    },
    "code_folding": [
     0
    ]
   },
   "outputs": [],
   "source": [
    "# Individual parameters of the request\n",
    "uri = f'https://www.bea.gov/api/data/?&UserID={api_key}'\n",
    "mdt = '&method=GetData&DataSetName=NIPA&TableName=T10101'\n",
    "yr = ','.join(map(str, range(2010, 2019)))\n",
    "\n",
    "# Construct URL from parameters above\n",
    "url = f'{uri}{mdt}&Frequency=Q&Year={yr}&ResultFormat=json'\n",
    "\n",
    "# Request parameter information from BEA API\n",
    "r = requests.get(url).json()['BEAAPI']['Results']\n",
    "\n",
    "# GDP data as a pandas dataframe\n",
    "df = pd.DataFrame(\n",
    "    [(pd.to_datetime(i['TimePeriod']), float(i['DataValue'])) \n",
    "     for i in r['Data'] if i['SeriesCode'] == 'A191RL'], \n",
    "    columns=['Date', 'Value']).set_index('Date')\n",
    "\n",
    "# String dates\n",
    "df['strdate'] = [f'{i.year} Q{i.quarter}' for i in df.index]"
   ]
  },
  {
   "cell_type": "code",
   "execution_count": 3,
   "metadata": {
    "ExecuteTime": {
     "end_time": "2018-04-22T23:44:01.970333Z",
     "start_time": "2018-04-22T23:44:01.768330Z"
    },
    "code_folding": [
     0
    ]
   },
   "outputs": [
    {
     "data": {
      "text/html": [
       "\n",
       "<div class=\"bk-root\">\n",
       "    <div class=\"bk-plotdiv\" id=\"68851008-f07e-4eff-9417-92b10463a79c\"></div>\n",
       "</div>"
      ]
     },
     "metadata": {},
     "output_type": "display_data"
    },
    {
     "data": {
      "application/javascript": [
       "(function(root) {\n",
       "  function embed_document(root) {\n",
       "    \n",
       "  var docs_json = {\"55cc41ce-f315-4943-bb21-069f0b1e25ad\":{\"roots\":{\"references\":[{\"attributes\":{},\"id\":\"34c39c39-1cbb-42e7-87ef-c49c1e28e2f3\",\"type\":\"BasicTickFormatter\"},{\"attributes\":{\"mantissas\":[1,2,5],\"max_interval\":500.0,\"num_minor_ticks\":0},\"id\":\"2af65644-34b1-4c53-93f8-2bef30c41683\",\"type\":\"AdaptiveTicker\"},{\"attributes\":{\"base\":60,\"mantissas\":[1,2,5,10,15,20,30],\"max_interval\":1800000.0,\"min_interval\":1000.0,\"num_minor_ticks\":0},\"id\":\"a245eb5c-dd0e-49d6-9150-419b835ff4f1\",\"type\":\"AdaptiveTicker\"},{\"attributes\":{\"days\":[1,4,7,10,13,16,19,22,25,28]},\"id\":\"ccda60c5-4469-420e-9b3c-1754a47eb0d3\",\"type\":\"DaysTicker\"},{\"attributes\":{\"source\":{\"id\":\"efb2c851-0924-4cf8-a3c4-d9492cf4f5db\",\"type\":\"ColumnDataSource\"}},\"id\":\"c622c82b-c667-4328-9bee-218c30878e83\",\"type\":\"CDSView\"},{\"attributes\":{\"base\":24,\"mantissas\":[1,2,4,6,8,12],\"max_interval\":43200000.0,\"min_interval\":3600000.0,\"num_minor_ticks\":0},\"id\":\"e11c90a0-789d-42c4-86b0-1f322b5a47fb\",\"type\":\"AdaptiveTicker\"},{\"attributes\":{\"days\":[1,8,15,22]},\"id\":\"cd44ff69-f8a3-4dcb-9e37-09dd2fcb10d9\",\"type\":\"DaysTicker\"},{\"attributes\":{\"days\":[1,2,3,4,5,6,7,8,9,10,11,12,13,14,15,16,17,18,19,20,21,22,23,24,25,26,27,28,29,30,31]},\"id\":\"0100fa97-06c5-4a45-a69d-6979d3c09550\",\"type\":\"DaysTicker\"},{\"attributes\":{\"days\":[1,15]},\"id\":\"6163551e-7717-4e6b-a0a4-cde20e3ff95e\",\"type\":\"DaysTicker\"},{\"attributes\":{\"months\":[0,1,2,3,4,5,6,7,8,9,10,11]},\"id\":\"5db8073f-7028-42b5-aa60-2844bd963a23\",\"type\":\"MonthsTicker\"},{\"attributes\":{\"months\":[0,2,4,6,8,10]},\"id\":\"46557ba3-c1ec-44cd-826f-dfe20c4b9cf6\",\"type\":\"MonthsTicker\"},{\"attributes\":{\"data_source\":{\"id\":\"efb2c851-0924-4cf8-a3c4-d9492cf4f5db\",\"type\":\"ColumnDataSource\"},\"glyph\":{\"id\":\"b240c702-dfdb-4471-8bf6-e26a9dcff3b4\",\"type\":\"VBar\"},\"hover_glyph\":null,\"level\":\"overlay\",\"muted_glyph\":null,\"nonselection_glyph\":{\"id\":\"30717549-cde5-4207-816d-eebafe52540f\",\"type\":\"VBar\"},\"selection_glyph\":null,\"view\":{\"id\":\"c622c82b-c667-4328-9bee-218c30878e83\",\"type\":\"CDSView\"}},\"id\":\"c8613928-70ef-46da-89c6-d438ed1ef470\",\"type\":\"GlyphRenderer\"},{\"attributes\":{\"fill_alpha\":{\"value\":0.1},\"fill_color\":{\"value\":\"#1f77b4\"},\"line_alpha\":{\"value\":0.1},\"line_color\":{\"value\":\"#1f77b4\"},\"top\":{\"field\":\"y\"},\"width\":{\"value\":6112800000.000001},\"x\":{\"field\":\"x\"}},\"id\":\"30717549-cde5-4207-816d-eebafe52540f\",\"type\":\"VBar\"},{\"attributes\":{\"months\":[0,4,8]},\"id\":\"b23f8c74-bf32-4941-af08-153851a8e4ef\",\"type\":\"MonthsTicker\"},{\"attributes\":{},\"id\":\"b615a9c2-9fd7-4f8b-bd81-8188939b902b\",\"type\":\"DatetimeTickFormatter\"},{\"attributes\":{\"months\":[0,6]},\"id\":\"16a1e7fd-a48b-45cf-96f8-c4e12baf8193\",\"type\":\"MonthsTicker\"},{\"attributes\":{},\"id\":\"1f5239eb-8411-4f76-934f-4bb07cd416ba\",\"type\":\"YearsTicker\"},{\"attributes\":{\"below\":[{\"id\":\"5223df22-b73b-4c9c-baa7-14800c0534c8\",\"type\":\"DatetimeAxis\"}],\"left\":[{\"id\":\"3318e745-b3c1-4283-84b2-fc4998c86a0e\",\"type\":\"LinearAxis\"}],\"outline_line_color\":{\"value\":\"white\"},\"plot_height\":300,\"plot_width\":700,\"renderers\":[{\"id\":\"5223df22-b73b-4c9c-baa7-14800c0534c8\",\"type\":\"DatetimeAxis\"},{\"id\":\"afe17206-c0b4-45e3-8441-b6b512f8b65a\",\"type\":\"Grid\"},{\"id\":\"3318e745-b3c1-4283-84b2-fc4998c86a0e\",\"type\":\"LinearAxis\"},{\"id\":\"c7848f45-aae5-40a2-b055-59c6a04b21a6\",\"type\":\"Grid\"},{\"id\":\"ded4578a-ea47-4e49-963d-83d1691688fc\",\"type\":\"BoxAnnotation\"},{\"id\":\"c8613928-70ef-46da-89c6-d438ed1ef470\",\"type\":\"GlyphRenderer\"},{\"id\":\"94d05cae-b891-4e5f-805f-ac0e682560e6\",\"type\":\"Span\"}],\"sizing_mode\":\"scale_width\",\"title\":{\"id\":\"2f00d6b8-6b40-40b3-8b8c-044eddaf7306\",\"type\":\"Title\"},\"toolbar\":{\"id\":\"f3355587-eef1-40fd-a3dc-e9a9a2381050\",\"type\":\"Toolbar\"},\"toolbar_location\":null,\"x_range\":{\"id\":\"7a53fb48-b8da-4aa3-b25a-a58d8a0bf9ad\",\"type\":\"DataRange1d\"},\"x_scale\":{\"id\":\"a1e5d711-1521-47dd-b50a-f9cea7b70357\",\"type\":\"LinearScale\"},\"y_range\":{\"id\":\"f3857048-35e3-4f63-9984-239269b499e5\",\"type\":\"Range1d\"},\"y_scale\":{\"id\":\"79ff635a-cb68-4d63-a1b3-a1323cc44d9f\",\"type\":\"LinearScale\"}},\"id\":\"a349863b-6fb6-462c-9332-07e64ae5cf42\",\"subtype\":\"Figure\",\"type\":\"Plot\"},{\"attributes\":{\"active_drag\":null,\"active_inspect\":\"auto\",\"active_scroll\":\"auto\",\"active_tap\":\"auto\",\"logo\":null,\"tools\":[{\"id\":\"5f25ed21-11a2-4f2a-98cb-18a08fe8fa1d\",\"type\":\"PanTool\"},{\"id\":\"63d0d306-2269-41e0-9bcc-30573f83fb09\",\"type\":\"WheelZoomTool\"},{\"id\":\"dc5aee28-742a-4516-a410-0a102428ca98\",\"type\":\"BoxZoomTool\"},{\"id\":\"e047e7a7-8027-428a-9047-9c80523ecd01\",\"type\":\"ResetTool\"},{\"id\":\"456b8218-8f5e-46ee-95f5-136e99828d52\",\"type\":\"HoverTool\"}]},\"id\":\"f3355587-eef1-40fd-a3dc-e9a9a2381050\",\"type\":\"Toolbar\"},{\"attributes\":{\"callback\":null,\"show_arrow\":false,\"tooltips\":\"\\n    <div>\\n        <span style=\\\"font-size: 12px;\\\">@Date:</span>\\n        <span style=\\\"font-size: 12px; font-weight: bold;\\\">@y{1.1}%</span>\\n    </div>\\n\"},\"id\":\"456b8218-8f5e-46ee-95f5-136e99828d52\",\"type\":\"HoverTool\"},{\"attributes\":{},\"id\":\"79ff635a-cb68-4d63-a1b3-a1323cc44d9f\",\"type\":\"LinearScale\"},{\"attributes\":{\"callback\":null},\"id\":\"7a53fb48-b8da-4aa3-b25a-a58d8a0bf9ad\",\"type\":\"DataRange1d\"},{\"attributes\":{},\"id\":\"a1e5d711-1521-47dd-b50a-f9cea7b70357\",\"type\":\"LinearScale\"},{\"attributes\":{\"axis_line_color\":{\"value\":\"white\"},\"formatter\":{\"id\":\"b615a9c2-9fd7-4f8b-bd81-8188939b902b\",\"type\":\"DatetimeTickFormatter\"},\"plot\":{\"id\":\"a349863b-6fb6-462c-9332-07e64ae5cf42\",\"subtype\":\"Figure\",\"type\":\"Plot\"},\"ticker\":{\"id\":\"9d371e0a-84ba-4c57-89e4-7f85c3c7fc02\",\"type\":\"DatetimeTicker\"}},\"id\":\"5223df22-b73b-4c9c-baa7-14800c0534c8\",\"type\":\"DatetimeAxis\"},{\"attributes\":{\"line_color\":{\"value\":\"gray\"},\"location\":0,\"plot\":{\"id\":\"a349863b-6fb6-462c-9332-07e64ae5cf42\",\"subtype\":\"Figure\",\"type\":\"Plot\"}},\"id\":\"94d05cae-b891-4e5f-805f-ac0e682560e6\",\"type\":\"Span\"},{\"attributes\":{\"plot\":null,\"text\":\"\"},\"id\":\"2f00d6b8-6b40-40b3-8b8c-044eddaf7306\",\"type\":\"Title\"},{\"attributes\":{\"num_minor_ticks\":5,\"tickers\":[{\"id\":\"2af65644-34b1-4c53-93f8-2bef30c41683\",\"type\":\"AdaptiveTicker\"},{\"id\":\"a245eb5c-dd0e-49d6-9150-419b835ff4f1\",\"type\":\"AdaptiveTicker\"},{\"id\":\"e11c90a0-789d-42c4-86b0-1f322b5a47fb\",\"type\":\"AdaptiveTicker\"},{\"id\":\"0100fa97-06c5-4a45-a69d-6979d3c09550\",\"type\":\"DaysTicker\"},{\"id\":\"ccda60c5-4469-420e-9b3c-1754a47eb0d3\",\"type\":\"DaysTicker\"},{\"id\":\"cd44ff69-f8a3-4dcb-9e37-09dd2fcb10d9\",\"type\":\"DaysTicker\"},{\"id\":\"6163551e-7717-4e6b-a0a4-cde20e3ff95e\",\"type\":\"DaysTicker\"},{\"id\":\"5db8073f-7028-42b5-aa60-2844bd963a23\",\"type\":\"MonthsTicker\"},{\"id\":\"46557ba3-c1ec-44cd-826f-dfe20c4b9cf6\",\"type\":\"MonthsTicker\"},{\"id\":\"b23f8c74-bf32-4941-af08-153851a8e4ef\",\"type\":\"MonthsTicker\"},{\"id\":\"16a1e7fd-a48b-45cf-96f8-c4e12baf8193\",\"type\":\"MonthsTicker\"},{\"id\":\"1f5239eb-8411-4f76-934f-4bb07cd416ba\",\"type\":\"YearsTicker\"}]},\"id\":\"9d371e0a-84ba-4c57-89e4-7f85c3c7fc02\",\"type\":\"DatetimeTicker\"},{\"attributes\":{\"grid_line_color\":{\"value\":null},\"plot\":{\"id\":\"a349863b-6fb6-462c-9332-07e64ae5cf42\",\"subtype\":\"Figure\",\"type\":\"Plot\"},\"ticker\":{\"id\":\"9d371e0a-84ba-4c57-89e4-7f85c3c7fc02\",\"type\":\"DatetimeTicker\"}},\"id\":\"afe17206-c0b4-45e3-8441-b6b512f8b65a\",\"type\":\"Grid\"},{\"attributes\":{\"axis_line_color\":{\"value\":\"white\"},\"formatter\":{\"id\":\"34c39c39-1cbb-42e7-87ef-c49c1e28e2f3\",\"type\":\"BasicTickFormatter\"},\"minor_tick_line_color\":{\"value\":null},\"plot\":{\"id\":\"a349863b-6fb6-462c-9332-07e64ae5cf42\",\"subtype\":\"Figure\",\"type\":\"Plot\"},\"ticker\":{\"id\":\"a2874d59-a602-441d-bf54-866362958bae\",\"type\":\"BasicTicker\"}},\"id\":\"3318e745-b3c1-4283-84b2-fc4998c86a0e\",\"type\":\"LinearAxis\"},{\"attributes\":{},\"id\":\"a2874d59-a602-441d-bf54-866362958bae\",\"type\":\"BasicTicker\"},{\"attributes\":{\"dimension\":1,\"plot\":{\"id\":\"a349863b-6fb6-462c-9332-07e64ae5cf42\",\"subtype\":\"Figure\",\"type\":\"Plot\"},\"ticker\":{\"id\":\"a2874d59-a602-441d-bf54-866362958bae\",\"type\":\"BasicTicker\"}},\"id\":\"c7848f45-aae5-40a2-b055-59c6a04b21a6\",\"type\":\"Grid\"},{\"attributes\":{\"bottom_units\":\"screen\",\"fill_alpha\":{\"value\":0.5},\"fill_color\":{\"value\":\"lightgrey\"},\"left_units\":\"screen\",\"level\":\"overlay\",\"line_alpha\":{\"value\":1.0},\"line_color\":{\"value\":\"black\"},\"line_dash\":[4,4],\"line_width\":{\"value\":2},\"plot\":null,\"render_mode\":\"css\",\"right_units\":\"screen\",\"top_units\":\"screen\"},\"id\":\"ded4578a-ea47-4e49-963d-83d1691688fc\",\"type\":\"BoxAnnotation\"},{\"attributes\":{\"callback\":null,\"end\":6.2,\"start\":-2.6},\"id\":\"f3857048-35e3-4f63-9984-239269b499e5\",\"type\":\"Range1d\"},{\"attributes\":{\"fill_color\":{\"value\":\"Red\"},\"line_color\":{\"value\":\"Red\"},\"top\":{\"field\":\"y\"},\"width\":{\"value\":6112800000.000001},\"x\":{\"field\":\"x\"}},\"id\":\"b240c702-dfdb-4471-8bf6-e26a9dcff3b4\",\"type\":\"VBar\"},{\"attributes\":{},\"id\":\"5f25ed21-11a2-4f2a-98cb-18a08fe8fa1d\",\"type\":\"PanTool\"},{\"attributes\":{},\"id\":\"63d0d306-2269-41e0-9bcc-30573f83fb09\",\"type\":\"WheelZoomTool\"},{\"attributes\":{\"callback\":null,\"column_names\":[\"x\",\"y\",\"Date\"],\"data\":{\"Date\":[\"2010 Q1\",\"2010 Q2\",\"2010 Q3\",\"2010 Q4\",\"2011 Q1\",\"2011 Q2\",\"2011 Q3\",\"2011 Q4\",\"2012 Q1\",\"2012 Q2\",\"2012 Q3\",\"2012 Q4\",\"2013 Q1\",\"2013 Q2\",\"2013 Q3\",\"2013 Q4\",\"2014 Q1\",\"2014 Q2\",\"2014 Q3\",\"2014 Q4\",\"2015 Q1\",\"2015 Q2\",\"2015 Q3\",\"2015 Q4\",\"2016 Q1\",\"2016 Q2\",\"2016 Q3\",\"2016 Q4\",\"2017 Q1\",\"2017 Q2\",\"2017 Q3\",\"2017 Q4\"],\"x\":{\"__ndarray__\":\"AACA53JeckIAAACtantyQgAAQNi0mHJCAABAaVG2ckIAAED67dNyQgAAwL/l8HJCAAAA6y8Oc0IAAAB8zCtzQgAAAA1pSXNCAABAOLNmc0IAAIBj/YNzQgAAgPSZoXNCAACAhTa/c0IAAABLLtxzQgAAQHZ4+XNCAABABxUXdEIAAECYsTR0QgAAwF2pUXRCAAAAifNudEIAAAAakIx0QgAAAKssqnRCAACAcCTHdEIAAMCbbuR0QgAAwCwLAnVCAADAvacfdUIAAADp8Tx1QgAAQBQ8WnVCAABApdh3dUIAAEA2dZV1QgAAwPtssnVCAAAAJ7fPdUIAAAC4U+11Qg==\",\"dtype\":\"float64\",\"shape\":[32]},\"y\":{\"__ndarray__\":\"MzMzMzMz+z8zMzMzMzMPQJqZmZmZmQVAAAAAAAAABEAAAAAAAAD4vzMzMzMzMwdAmpmZmZmZ6T9mZmZmZmYSQJqZmZmZmQVAZmZmZmZm/j8AAAAAAADgP5qZmZmZmbk/ZmZmZmZmBkCamZmZmZnpP83MzMzMzAhAAAAAAAAAEEDNzMzMzMzsv2ZmZmZmZhJAzczMzMzMFEAAAAAAAAAAQJqZmZmZmQlAmpmZmZmZBUCamZmZmZn5PwAAAAAAAOA/MzMzMzMz4z+amZmZmZkBQGZmZmZmZgZAzczMzMzM/D8zMzMzMzPzP83MzMzMzAhAmpmZmZmZCUAzMzMzMzMHQA==\",\"dtype\":\"float64\",\"shape\":[32]}},\"selected\":null,\"selection_policy\":null},\"id\":\"efb2c851-0924-4cf8-a3c4-d9492cf4f5db\",\"type\":\"ColumnDataSource\"},{\"attributes\":{\"overlay\":{\"id\":\"ded4578a-ea47-4e49-963d-83d1691688fc\",\"type\":\"BoxAnnotation\"}},\"id\":\"dc5aee28-742a-4516-a410-0a102428ca98\",\"type\":\"BoxZoomTool\"},{\"attributes\":{},\"id\":\"e047e7a7-8027-428a-9047-9c80523ecd01\",\"type\":\"ResetTool\"}],\"root_ids\":[\"a349863b-6fb6-462c-9332-07e64ae5cf42\"]},\"title\":\"Bokeh Application\",\"version\":\"0.12.15\"}};\n",
       "  var render_items = [{\"docid\":\"55cc41ce-f315-4943-bb21-069f0b1e25ad\",\"elementid\":\"68851008-f07e-4eff-9417-92b10463a79c\",\"modelid\":\"a349863b-6fb6-462c-9332-07e64ae5cf42\"}];\n",
       "  root.Bokeh.embed.embed_items_notebook(docs_json, render_items);\n",
       "\n",
       "  }\n",
       "  if (root.Bokeh !== undefined) {\n",
       "    embed_document(root);\n",
       "  } else {\n",
       "    var attempts = 0;\n",
       "    var timer = setInterval(function(root) {\n",
       "      if (root.Bokeh !== undefined) {\n",
       "        embed_document(root);\n",
       "        clearInterval(timer);\n",
       "      }\n",
       "      attempts++;\n",
       "      if (attempts > 100) {\n",
       "        console.log(\"Bokeh: ERROR: Unable to run BokehJS code because BokehJS library is missing\")\n",
       "        clearInterval(timer);\n",
       "      }\n",
       "    }, 10, root)\n",
       "  }\n",
       "})(window);"
      ],
      "application/vnd.bokehjs_exec.v0+json": ""
     },
     "metadata": {
      "application/vnd.bokehjs_exec.v0+json": {
       "id": "a349863b-6fb6-462c-9332-07e64ae5cf42"
      }
     },
     "output_type": "display_data"
    }
   ],
   "source": [
    "# GDP plot in Bokeh\n",
    "source = ColumnDataSource({'x': df.index, \n",
    "                           'y': df['Value'], \n",
    "                           'Date': df['strdate']})\n",
    "\n",
    "tooltips = \"\"\"\n",
    "    <div>\n",
    "        <span style=\"font-size: 12px;\">@Date:</span>\n",
    "        <span style=\"font-size: 12px; font-weight: bold;\">@y{1.1}%</span>\n",
    "    </div>\n",
    "\"\"\"\n",
    "\n",
    "# Bar width determined by how many bars\n",
    "width = ((df.index[-1] - df.index[0]).total_seconds() \n",
    "         * 800.0 / len(df.index))\n",
    "\n",
    "# horizontal line at zero\n",
    "zero_line = Span(location=0, dimension='width', \n",
    "                 line_color='gray', line_width=1)\n",
    "\n",
    "p = figure(plot_width=700, plot_height=300, \n",
    "           x_axis_type='datetime', \n",
    "           tools=['pan, wheel_zoom, box_zoom, reset'], \n",
    "           logo=None,\n",
    "           toolbar_location=None,  \n",
    "           y_range=Range1d(-2.6, 6.2))\n",
    "p.vbar('x', width=width, bottom=0, top='y', \n",
    "       source=source, color='Red', alpha=1.0, \n",
    "       level='overlay')\n",
    "p.add_layout(zero_line)\n",
    "p.sizing_mode = 'scale_width'\n",
    "p.xgrid.grid_line_color = None\n",
    "p.outline_line_color = 'white'\n",
    "p.axis.axis_line_color = 'white'\n",
    "p.yaxis.minor_tick_line_color = None\n",
    "p.toolbar.active_drag = None\n",
    "p.add_tools(HoverTool(tooltips=tooltips, show_arrow=False))\n",
    "\n",
    "script, div = components(p)\n",
    "with open('C:/Working/bdecon.github.io/plots/gdp.html', 'w') as text_file:\n",
    "    text_file.write(f'{script} {div}')\n",
    "    \n",
    "show(p)"
   ]
  },
  {
   "cell_type": "markdown",
   "metadata": {},
   "source": [
    "# VIX"
   ]
  },
  {
   "cell_type": "code",
   "execution_count": 4,
   "metadata": {
    "ExecuteTime": {
     "end_time": "2018-04-22T23:44:16.494967Z",
     "start_time": "2018-04-22T23:44:16.409153Z"
    },
    "code_folding": [
     0,
     1
    ]
   },
   "outputs": [],
   "source": [
    "# VIX retrieved elsewhere, use data since 2015\n",
    "df = pd.read_csv('C:/Working/USA/datafiles/safe/vix.csv', \n",
    "                 parse_dates=['date']).set_index('date')['vixclose']\n",
    "\n",
    "df = df.loc['2015-01-01':]"
   ]
  },
  {
   "cell_type": "code",
   "execution_count": 5,
   "metadata": {
    "ExecuteTime": {
     "end_time": "2018-04-22T23:44:24.780351Z",
     "start_time": "2018-04-22T23:44:24.687564Z"
    },
    "code_folding": [
     0
    ]
   },
   "outputs": [
    {
     "data": {
      "text/html": [
       "\n",
       "<div class=\"bk-root\">\n",
       "    <div class=\"bk-plotdiv\" id=\"ab826b35-9502-49ee-9454-1d1d4582e00a\"></div>\n",
       "</div>"
      ]
     },
     "metadata": {},
     "output_type": "display_data"
    },
    {
     "data": {
      "application/javascript": [
       "(function(root) {\n",
       "  function embed_document(root) {\n",
       "    \n",
       "  var docs_json = {\"3edbfeea-653b-4d50-8a07-609ad9ae1d03\":{\"roots\":{\"references\":[{\"attributes\":{},\"id\":\"6b18383c-a75d-45b0-8921-1856ec399ba6\",\"type\":\"LinearScale\"},{\"attributes\":{\"axis_line_color\":{\"value\":\"white\"},\"formatter\":{\"id\":\"f7bdeccf-bd4c-4410-a102-ddd5955f1936\",\"type\":\"DatetimeTickFormatter\"},\"plot\":{\"id\":\"ae4d10ff-d097-487f-abab-f6c61c255791\",\"subtype\":\"Figure\",\"type\":\"Plot\"},\"ticker\":{\"id\":\"db962f36-f0d7-40dd-907b-5f90f77c4319\",\"type\":\"DatetimeTicker\"}},\"id\":\"45506d92-0b29-4180-b9c6-0aa521250a33\",\"type\":\"DatetimeAxis\"},{\"attributes\":{\"callback\":null},\"id\":\"766ef774-c6f7-4587-aa7e-64672bc24da0\",\"type\":\"DataRange1d\"},{\"attributes\":{\"num_minor_ticks\":5,\"tickers\":[{\"id\":\"8266d756-5fac-49e5-b5be-c0433eca1fc5\",\"type\":\"AdaptiveTicker\"},{\"id\":\"6ff5fe2b-0c40-410c-88b9-9e10efe73585\",\"type\":\"AdaptiveTicker\"},{\"id\":\"5473b256-6750-43a5-b08d-ec185f114aff\",\"type\":\"AdaptiveTicker\"},{\"id\":\"f28cb34b-bc40-453b-a76d-be091a8ada97\",\"type\":\"DaysTicker\"},{\"id\":\"f4a782c5-a071-4809-9ac0-c40802ee3327\",\"type\":\"DaysTicker\"},{\"id\":\"11c9f6f0-b873-44b7-b94b-93279fac55f7\",\"type\":\"DaysTicker\"},{\"id\":\"2859579a-245d-48d2-908b-1a6ce8e895d1\",\"type\":\"DaysTicker\"},{\"id\":\"d16da7de-9cf4-48a1-8ba2-c744f2103759\",\"type\":\"MonthsTicker\"},{\"id\":\"b1e810c8-5bce-47e4-84c8-bd89ffb19e0b\",\"type\":\"MonthsTicker\"},{\"id\":\"f7e58c0b-c9c2-40ef-ae61-cbdb1167cf77\",\"type\":\"MonthsTicker\"},{\"id\":\"d6b23589-068e-469a-b23f-644a2c5dfa57\",\"type\":\"MonthsTicker\"},{\"id\":\"9be6221f-76cd-4ff4-856e-49ee109dd0d4\",\"type\":\"YearsTicker\"}]},\"id\":\"db962f36-f0d7-40dd-907b-5f90f77c4319\",\"type\":\"DatetimeTicker\"},{\"attributes\":{\"axis_line_color\":{\"value\":\"white\"},\"formatter\":{\"id\":\"a9342064-3ab9-4863-b631-3e51957ad286\",\"type\":\"BasicTickFormatter\"},\"minor_tick_line_color\":{\"value\":null},\"plot\":{\"id\":\"ae4d10ff-d097-487f-abab-f6c61c255791\",\"subtype\":\"Figure\",\"type\":\"Plot\"},\"ticker\":{\"id\":\"82798569-acbc-4a63-a657-e45fd4cadf6d\",\"type\":\"BasicTicker\"}},\"id\":\"c3da157e-86e1-4646-8817-8b7984deae2f\",\"type\":\"LinearAxis\"},{\"attributes\":{\"active_drag\":null,\"active_inspect\":\"auto\",\"active_scroll\":\"auto\",\"active_tap\":\"auto\",\"logo\":null,\"tools\":[{\"id\":\"80690116-0dae-4b37-8b82-f555fde7448d\",\"type\":\"PanTool\"},{\"id\":\"1bc9a20e-4d93-4b7d-a88b-a723eb0db59e\",\"type\":\"WheelZoomTool\"},{\"id\":\"03d6f347-f8bb-4542-bca1-c056d3425edc\",\"type\":\"BoxZoomTool\"},{\"id\":\"e176fd39-8c49-4ede-bb7b-6ff9eede4a0e\",\"type\":\"ResetTool\"},{\"id\":\"08b90ee3-5e62-41da-ba84-843c5c9afc9f\",\"type\":\"HoverTool\"}]},\"id\":\"884d1a2e-627e-4ec4-8f2a-0f6a2a5491bb\",\"type\":\"Toolbar\"},{\"attributes\":{},\"id\":\"82798569-acbc-4a63-a657-e45fd4cadf6d\",\"type\":\"BasicTicker\"},{\"attributes\":{\"dimension\":1,\"plot\":{\"id\":\"ae4d10ff-d097-487f-abab-f6c61c255791\",\"subtype\":\"Figure\",\"type\":\"Plot\"},\"ticker\":{\"id\":\"82798569-acbc-4a63-a657-e45fd4cadf6d\",\"type\":\"BasicTicker\"}},\"id\":\"37346d03-d692-4f64-85c3-1119b49cce3e\",\"type\":\"Grid\"},{\"attributes\":{\"line_color\":\"Green\",\"line_width\":2.5,\"x\":{\"field\":\"x\"},\"y\":{\"field\":\"y\"}},\"id\":\"3eb75020-8f9a-439a-8cae-114a21ed340f\",\"type\":\"Line\"},{\"attributes\":{\"callback\":null},\"id\":\"b409b69d-c783-43c5-ade9-29934be488ac\",\"type\":\"DataRange1d\"},{\"attributes\":{\"mantissas\":[1,2,5],\"max_interval\":500.0,\"num_minor_ticks\":0},\"id\":\"8266d756-5fac-49e5-b5be-c0433eca1fc5\",\"type\":\"AdaptiveTicker\"},{\"attributes\":{},\"id\":\"80690116-0dae-4b37-8b82-f555fde7448d\",\"type\":\"PanTool\"},{\"attributes\":{\"source\":{\"id\":\"c0e3578e-e72d-48bd-836c-c0dadb22c1ca\",\"type\":\"ColumnDataSource\"}},\"id\":\"242dbcc4-836b-49a0-b2f2-6aea0f7c1ff7\",\"type\":\"CDSView\"},{\"attributes\":{},\"id\":\"1bc9a20e-4d93-4b7d-a88b-a723eb0db59e\",\"type\":\"WheelZoomTool\"},{\"attributes\":{\"overlay\":{\"id\":\"e671806e-be82-4527-9933-b8013b9e26c7\",\"type\":\"BoxAnnotation\"}},\"id\":\"03d6f347-f8bb-4542-bca1-c056d3425edc\",\"type\":\"BoxZoomTool\"},{\"attributes\":{},\"id\":\"e176fd39-8c49-4ede-bb7b-6ff9eede4a0e\",\"type\":\"ResetTool\"},{\"attributes\":{\"bottom_units\":\"screen\",\"fill_alpha\":{\"value\":0.5},\"fill_color\":{\"value\":\"lightgrey\"},\"left_units\":\"screen\",\"level\":\"overlay\",\"line_alpha\":{\"value\":1.0},\"line_color\":{\"value\":\"black\"},\"line_dash\":[4,4],\"line_width\":{\"value\":2},\"plot\":null,\"render_mode\":\"css\",\"right_units\":\"screen\",\"top_units\":\"screen\"},\"id\":\"e671806e-be82-4527-9933-b8013b9e26c7\",\"type\":\"BoxAnnotation\"},{\"attributes\":{\"line_alpha\":0.1,\"line_color\":\"#1f77b4\",\"line_width\":2.5,\"x\":{\"field\":\"x\"},\"y\":{\"field\":\"y\"}},\"id\":\"71383e9a-4623-44f1-a49a-faec0c1b1f44\",\"type\":\"Line\"},{\"attributes\":{\"data_source\":{\"id\":\"c0e3578e-e72d-48bd-836c-c0dadb22c1ca\",\"type\":\"ColumnDataSource\"},\"glyph\":{\"id\":\"3eb75020-8f9a-439a-8cae-114a21ed340f\",\"type\":\"Line\"},\"hover_glyph\":null,\"level\":\"overlay\",\"muted_glyph\":null,\"nonselection_glyph\":{\"id\":\"71383e9a-4623-44f1-a49a-faec0c1b1f44\",\"type\":\"Line\"},\"selection_glyph\":null,\"view\":{\"id\":\"242dbcc4-836b-49a0-b2f2-6aea0f7c1ff7\",\"type\":\"CDSView\"}},\"id\":\"6af71f48-e6eb-4337-a179-f5d3624d4a9e\",\"type\":\"GlyphRenderer\"},{\"attributes\":{\"plot\":null,\"text\":\"\"},\"id\":\"906d5090-e26e-4011-a762-86a84c879a32\",\"type\":\"Title\"},{\"attributes\":{\"base\":24,\"mantissas\":[1,2,4,6,8,12],\"max_interval\":43200000.0,\"min_interval\":3600000.0,\"num_minor_ticks\":0},\"id\":\"5473b256-6750-43a5-b08d-ec185f114aff\",\"type\":\"AdaptiveTicker\"},{\"attributes\":{},\"id\":\"a9342064-3ab9-4863-b631-3e51957ad286\",\"type\":\"BasicTickFormatter\"},{\"attributes\":{\"days\":[1,8,15,22]},\"id\":\"11c9f6f0-b873-44b7-b94b-93279fac55f7\",\"type\":\"DaysTicker\"},{\"attributes\":{\"line_color\":{\"value\":\"gray\"},\"location\":0,\"plot\":{\"id\":\"ae4d10ff-d097-487f-abab-f6c61c255791\",\"subtype\":\"Figure\",\"type\":\"Plot\"}},\"id\":\"53466cf4-494d-4636-bd34-295618a4cf19\",\"type\":\"Span\"},{\"attributes\":{\"days\":[1,4,7,10,13,16,19,22,25,28]},\"id\":\"f4a782c5-a071-4809-9ac0-c40802ee3327\",\"type\":\"DaysTicker\"},{\"attributes\":{\"base\":60,\"mantissas\":[1,2,5,10,15,20,30],\"max_interval\":1800000.0,\"min_interval\":1000.0,\"num_minor_ticks\":0},\"id\":\"6ff5fe2b-0c40-410c-88b9-9e10efe73585\",\"type\":\"AdaptiveTicker\"},{\"attributes\":{\"callback\":null,\"show_arrow\":false,\"tooltips\":\"\\n            <div>\\n                <span style=\\\"font-size: 12px;\\\">@Date:</span>\\n                <span style=\\\"font-size: 12px; font-weight: bold;\\\">@y{1.1}</span>\\n            </div>\\n\"},\"id\":\"08b90ee3-5e62-41da-ba84-843c5c9afc9f\",\"type\":\"HoverTool\"},{\"attributes\":{\"below\":[{\"id\":\"45506d92-0b29-4180-b9c6-0aa521250a33\",\"type\":\"DatetimeAxis\"}],\"left\":[{\"id\":\"c3da157e-86e1-4646-8817-8b7984deae2f\",\"type\":\"LinearAxis\"}],\"outline_line_color\":{\"value\":\"white\"},\"plot_height\":300,\"plot_width\":700,\"renderers\":[{\"id\":\"45506d92-0b29-4180-b9c6-0aa521250a33\",\"type\":\"DatetimeAxis\"},{\"id\":\"ccdda4eb-1374-4866-bc9f-7286c316282f\",\"type\":\"Grid\"},{\"id\":\"c3da157e-86e1-4646-8817-8b7984deae2f\",\"type\":\"LinearAxis\"},{\"id\":\"37346d03-d692-4f64-85c3-1119b49cce3e\",\"type\":\"Grid\"},{\"id\":\"e671806e-be82-4527-9933-b8013b9e26c7\",\"type\":\"BoxAnnotation\"},{\"id\":\"53466cf4-494d-4636-bd34-295618a4cf19\",\"type\":\"Span\"},{\"id\":\"6af71f48-e6eb-4337-a179-f5d3624d4a9e\",\"type\":\"GlyphRenderer\"}],\"sizing_mode\":\"scale_width\",\"title\":{\"id\":\"906d5090-e26e-4011-a762-86a84c879a32\",\"type\":\"Title\"},\"toolbar\":{\"id\":\"884d1a2e-627e-4ec4-8f2a-0f6a2a5491bb\",\"type\":\"Toolbar\"},\"toolbar_location\":null,\"x_range\":{\"id\":\"b409b69d-c783-43c5-ade9-29934be488ac\",\"type\":\"DataRange1d\"},\"x_scale\":{\"id\":\"6b18383c-a75d-45b0-8921-1856ec399ba6\",\"type\":\"LinearScale\"},\"y_range\":{\"id\":\"766ef774-c6f7-4587-aa7e-64672bc24da0\",\"type\":\"DataRange1d\"},\"y_scale\":{\"id\":\"95b18389-9978-463c-838a-9b547393a1bf\",\"type\":\"LinearScale\"}},\"id\":\"ae4d10ff-d097-487f-abab-f6c61c255791\",\"subtype\":\"Figure\",\"type\":\"Plot\"},{\"attributes\":{\"days\":[1,2,3,4,5,6,7,8,9,10,11,12,13,14,15,16,17,18,19,20,21,22,23,24,25,26,27,28,29,30,31]},\"id\":\"f28cb34b-bc40-453b-a76d-be091a8ada97\",\"type\":\"DaysTicker\"},{\"attributes\":{\"days\":[1,15]},\"id\":\"2859579a-245d-48d2-908b-1a6ce8e895d1\",\"type\":\"DaysTicker\"},{\"attributes\":{\"months\":[0,1,2,3,4,5,6,7,8,9,10,11]},\"id\":\"d16da7de-9cf4-48a1-8ba2-c744f2103759\",\"type\":\"MonthsTicker\"},{\"attributes\":{\"months\":[0,2,4,6,8,10]},\"id\":\"b1e810c8-5bce-47e4-84c8-bd89ffb19e0b\",\"type\":\"MonthsTicker\"},{\"attributes\":{},\"id\":\"95b18389-9978-463c-838a-9b547393a1bf\",\"type\":\"LinearScale\"},{\"attributes\":{\"months\":[0,4,8]},\"id\":\"f7e58c0b-c9c2-40ef-ae61-cbdb1167cf77\",\"type\":\"MonthsTicker\"},{\"attributes\":{\"months\":[0,6]},\"id\":\"d6b23589-068e-469a-b23f-644a2c5dfa57\",\"type\":\"MonthsTicker\"},{\"attributes\":{},\"id\":\"9be6221f-76cd-4ff4-856e-49ee109dd0d4\",\"type\":\"YearsTicker\"},{\"attributes\":{\"callback\":null,\"column_names\":[\"x\",\"y\",\"Date\"],\"data\":{\"Date\":[\"Jan 02, 2015\",\"Jan 05, 2015\",\"Jan 06, 2015\",\"Jan 07, 2015\",\"Jan 08, 2015\",\"Jan 09, 2015\",\"Jan 12, 2015\",\"Jan 13, 2015\",\"Jan 14, 2015\",\"Jan 15, 2015\",\"Jan 16, 2015\",\"Jan 20, 2015\",\"Jan 21, 2015\",\"Jan 22, 2015\",\"Jan 23, 2015\",\"Jan 26, 2015\",\"Jan 27, 2015\",\"Jan 28, 2015\",\"Jan 29, 2015\",\"Jan 30, 2015\",\"Feb 02, 2015\",\"Feb 03, 2015\",\"Feb 04, 2015\",\"Feb 05, 2015\",\"Feb 06, 2015\",\"Feb 09, 2015\",\"Feb 10, 2015\",\"Feb 11, 2015\",\"Feb 12, 2015\",\"Feb 13, 2015\",\"Feb 17, 2015\",\"Feb 18, 2015\",\"Feb 19, 2015\",\"Feb 20, 2015\",\"Feb 23, 2015\",\"Feb 24, 2015\",\"Feb 25, 2015\",\"Feb 26, 2015\",\"Feb 27, 2015\",\"Mar 02, 2015\",\"Mar 03, 2015\",\"Mar 04, 2015\",\"Mar 05, 2015\",\"Mar 06, 2015\",\"Mar 09, 2015\",\"Mar 10, 2015\",\"Mar 11, 2015\",\"Mar 12, 2015\",\"Mar 13, 2015\",\"Mar 16, 2015\",\"Mar 17, 2015\",\"Mar 18, 2015\",\"Mar 19, 2015\",\"Mar 20, 2015\",\"Mar 23, 2015\",\"Mar 24, 2015\",\"Mar 25, 2015\",\"Mar 26, 2015\",\"Mar 27, 2015\",\"Mar 30, 2015\",\"Mar 31, 2015\",\"Apr 01, 2015\",\"Apr 02, 2015\",\"Apr 06, 2015\",\"Apr 07, 2015\",\"Apr 08, 2015\",\"Apr 09, 2015\",\"Apr 10, 2015\",\"Apr 13, 2015\",\"Apr 14, 2015\",\"Apr 15, 2015\",\"Apr 16, 2015\",\"Apr 17, 2015\",\"Apr 20, 2015\",\"Apr 21, 2015\",\"Apr 22, 2015\",\"Apr 23, 2015\",\"Apr 24, 2015\",\"Apr 27, 2015\",\"Apr 28, 2015\",\"Apr 29, 2015\",\"Apr 30, 2015\",\"May 01, 2015\",\"May 04, 2015\",\"May 05, 2015\",\"May 06, 2015\",\"May 07, 2015\",\"May 08, 2015\",\"May 11, 2015\",\"May 12, 2015\",\"May 13, 2015\",\"May 14, 2015\",\"May 15, 2015\",\"May 18, 2015\",\"May 19, 2015\",\"May 20, 2015\",\"May 21, 2015\",\"May 22, 2015\",\"May 26, 2015\",\"May 27, 2015\",\"May 28, 2015\",\"May 29, 2015\",\"Jun 01, 2015\",\"Jun 02, 2015\",\"Jun 03, 2015\",\"Jun 04, 2015\",\"Jun 05, 2015\",\"Jun 08, 2015\",\"Jun 09, 2015\",\"Jun 10, 2015\",\"Jun 11, 2015\",\"Jun 12, 2015\",\"Jun 15, 2015\",\"Jun 16, 2015\",\"Jun 17, 2015\",\"Jun 18, 2015\",\"Jun 19, 2015\",\"Jun 22, 2015\",\"Jun 23, 2015\",\"Jun 24, 2015\",\"Jun 25, 2015\",\"Jun 26, 2015\",\"Jun 29, 2015\",\"Jun 30, 2015\",\"Jul 01, 2015\",\"Jul 02, 2015\",\"Jul 06, 2015\",\"Jul 07, 2015\",\"Jul 08, 2015\",\"Jul 09, 2015\",\"Jul 10, 2015\",\"Jul 13, 2015\",\"Jul 14, 2015\",\"Jul 15, 2015\",\"Jul 16, 2015\",\"Jul 17, 2015\",\"Jul 20, 2015\",\"Jul 21, 2015\",\"Jul 22, 2015\",\"Jul 23, 2015\",\"Jul 24, 2015\",\"Jul 27, 2015\",\"Jul 28, 2015\",\"Jul 29, 2015\",\"Jul 30, 2015\",\"Jul 31, 2015\",\"Aug 03, 2015\",\"Aug 04, 2015\",\"Aug 05, 2015\",\"Aug 06, 2015\",\"Aug 07, 2015\",\"Aug 10, 2015\",\"Aug 11, 2015\",\"Aug 12, 2015\",\"Aug 13, 2015\",\"Aug 14, 2015\",\"Aug 17, 2015\",\"Aug 18, 2015\",\"Aug 19, 2015\",\"Aug 20, 2015\",\"Aug 21, 2015\",\"Aug 24, 2015\",\"Aug 25, 2015\",\"Aug 26, 2015\",\"Aug 27, 2015\",\"Aug 28, 2015\",\"Aug 31, 2015\",\"Sep 01, 2015\",\"Sep 02, 2015\",\"Sep 03, 2015\",\"Sep 04, 2015\",\"Sep 08, 2015\",\"Sep 09, 2015\",\"Sep 10, 2015\",\"Sep 11, 2015\",\"Sep 14, 2015\",\"Sep 15, 2015\",\"Sep 16, 2015\",\"Sep 17, 2015\",\"Sep 18, 2015\",\"Sep 21, 2015\",\"Sep 22, 2015\",\"Sep 23, 2015\",\"Sep 24, 2015\",\"Sep 25, 2015\",\"Sep 28, 2015\",\"Sep 29, 2015\",\"Sep 30, 2015\",\"Oct 01, 2015\",\"Oct 02, 2015\",\"Oct 05, 2015\",\"Oct 06, 2015\",\"Oct 07, 2015\",\"Oct 08, 2015\",\"Oct 09, 2015\",\"Oct 12, 2015\",\"Oct 13, 2015\",\"Oct 14, 2015\",\"Oct 15, 2015\",\"Oct 16, 2015\",\"Oct 19, 2015\",\"Oct 20, 2015\",\"Oct 21, 2015\",\"Oct 22, 2015\",\"Oct 23, 2015\",\"Oct 26, 2015\",\"Oct 27, 2015\",\"Oct 28, 2015\",\"Oct 29, 2015\",\"Oct 30, 2015\",\"Nov 02, 2015\",\"Nov 03, 2015\",\"Nov 04, 2015\",\"Nov 05, 2015\",\"Nov 06, 2015\",\"Nov 09, 2015\",\"Nov 10, 2015\",\"Nov 11, 2015\",\"Nov 12, 2015\",\"Nov 13, 2015\",\"Nov 16, 2015\",\"Nov 17, 2015\",\"Nov 18, 2015\",\"Nov 19, 2015\",\"Nov 20, 2015\",\"Nov 23, 2015\",\"Nov 24, 2015\",\"Nov 25, 2015\",\"Nov 27, 2015\",\"Nov 30, 2015\",\"Dec 01, 2015\",\"Dec 02, 2015\",\"Dec 03, 2015\",\"Dec 04, 2015\",\"Dec 07, 2015\",\"Dec 08, 2015\",\"Dec 09, 2015\",\"Dec 10, 2015\",\"Dec 11, 2015\",\"Dec 14, 2015\",\"Dec 15, 2015\",\"Dec 16, 2015\",\"Dec 17, 2015\",\"Dec 18, 2015\",\"Dec 21, 2015\",\"Dec 22, 2015\",\"Dec 23, 2015\",\"Dec 24, 2015\",\"Dec 28, 2015\",\"Dec 29, 2015\",\"Dec 30, 2015\",\"Dec 31, 2015\",\"Jan 04, 2016\",\"Jan 05, 2016\",\"Jan 06, 2016\",\"Jan 07, 2016\",\"Jan 08, 2016\",\"Jan 11, 2016\",\"Jan 12, 2016\",\"Jan 13, 2016\",\"Jan 14, 2016\",\"Jan 15, 2016\",\"Jan 19, 2016\",\"Jan 20, 2016\",\"Jan 21, 2016\",\"Jan 22, 2016\",\"Jan 25, 2016\",\"Jan 26, 2016\",\"Jan 27, 2016\",\"Jan 28, 2016\",\"Jan 29, 2016\",\"Feb 01, 2016\",\"Feb 02, 2016\",\"Feb 03, 2016\",\"Feb 04, 2016\",\"Feb 05, 2016\",\"Feb 08, 2016\",\"Feb 09, 2016\",\"Feb 10, 2016\",\"Feb 11, 2016\",\"Feb 12, 2016\",\"Feb 16, 2016\",\"Feb 17, 2016\",\"Feb 18, 2016\",\"Feb 19, 2016\",\"Feb 22, 2016\",\"Feb 23, 2016\",\"Feb 24, 2016\",\"Feb 25, 2016\",\"Feb 26, 2016\",\"Feb 29, 2016\",\"Mar 01, 2016\",\"Mar 02, 2016\",\"Mar 03, 2016\",\"Mar 04, 2016\",\"Mar 07, 2016\",\"Mar 08, 2016\",\"Mar 09, 2016\",\"Mar 10, 2016\",\"Mar 11, 2016\",\"Mar 14, 2016\",\"Mar 15, 2016\",\"Mar 16, 2016\",\"Mar 17, 2016\",\"Mar 18, 2016\",\"Mar 21, 2016\",\"Mar 22, 2016\",\"Mar 23, 2016\",\"Mar 24, 2016\",\"Mar 28, 2016\",\"Mar 29, 2016\",\"Mar 30, 2016\",\"Mar 31, 2016\",\"Apr 01, 2016\",\"Apr 04, 2016\",\"Apr 05, 2016\",\"Apr 06, 2016\",\"Apr 07, 2016\",\"Apr 08, 2016\",\"Apr 11, 2016\",\"Apr 12, 2016\",\"Apr 13, 2016\",\"Apr 14, 2016\",\"Apr 15, 2016\",\"Apr 18, 2016\",\"Apr 19, 2016\",\"Apr 20, 2016\",\"Apr 21, 2016\",\"Apr 22, 2016\",\"Apr 25, 2016\",\"Apr 26, 2016\",\"Apr 27, 2016\",\"Apr 28, 2016\",\"Apr 29, 2016\",\"May 02, 2016\",\"May 03, 2016\",\"May 04, 2016\",\"May 05, 2016\",\"May 06, 2016\",\"May 09, 2016\",\"May 10, 2016\",\"May 11, 2016\",\"May 12, 2016\",\"May 13, 2016\",\"May 16, 2016\",\"May 17, 2016\",\"May 18, 2016\",\"May 19, 2016\",\"May 20, 2016\",\"May 23, 2016\",\"May 24, 2016\",\"May 25, 2016\",\"May 26, 2016\",\"May 27, 2016\",\"May 31, 2016\",\"Jun 01, 2016\",\"Jun 02, 2016\",\"Jun 03, 2016\",\"Jun 06, 2016\",\"Jun 07, 2016\",\"Jun 08, 2016\",\"Jun 09, 2016\",\"Jun 10, 2016\",\"Jun 13, 2016\",\"Jun 14, 2016\",\"Jun 15, 2016\",\"Jun 16, 2016\",\"Jun 17, 2016\",\"Jun 20, 2016\",\"Jun 21, 2016\",\"Jun 22, 2016\",\"Jun 23, 2016\",\"Jun 24, 2016\",\"Jun 27, 2016\",\"Jun 28, 2016\",\"Jun 29, 2016\",\"Jun 30, 2016\",\"Jul 01, 2016\",\"Jul 05, 2016\",\"Jul 06, 2016\",\"Jul 07, 2016\",\"Jul 08, 2016\",\"Jul 11, 2016\",\"Jul 12, 2016\",\"Jul 13, 2016\",\"Jul 14, 2016\",\"Jul 15, 2016\",\"Jul 18, 2016\",\"Jul 19, 2016\",\"Jul 20, 2016\",\"Jul 21, 2016\",\"Jul 22, 2016\",\"Jul 25, 2016\",\"Jul 26, 2016\",\"Jul 27, 2016\",\"Jul 28, 2016\",\"Jul 29, 2016\",\"Aug 01, 2016\",\"Aug 02, 2016\",\"Aug 03, 2016\",\"Aug 04, 2016\",\"Aug 05, 2016\",\"Aug 08, 2016\",\"Aug 09, 2016\",\"Aug 10, 2016\",\"Aug 11, 2016\",\"Aug 12, 2016\",\"Aug 15, 2016\",\"Aug 16, 2016\",\"Aug 17, 2016\",\"Aug 18, 2016\",\"Aug 19, 2016\",\"Aug 22, 2016\",\"Aug 23, 2016\",\"Aug 24, 2016\",\"Aug 25, 2016\",\"Aug 26, 2016\",\"Aug 29, 2016\",\"Aug 30, 2016\",\"Aug 31, 2016\",\"Sep 01, 2016\",\"Sep 02, 2016\",\"Sep 06, 2016\",\"Sep 07, 2016\",\"Sep 08, 2016\",\"Sep 09, 2016\",\"Sep 12, 2016\",\"Sep 13, 2016\",\"Sep 14, 2016\",\"Sep 15, 2016\",\"Sep 16, 2016\",\"Sep 19, 2016\",\"Sep 20, 2016\",\"Sep 21, 2016\",\"Sep 22, 2016\",\"Sep 23, 2016\",\"Sep 26, 2016\",\"Sep 27, 2016\",\"Sep 28, 2016\",\"Sep 29, 2016\",\"Sep 30, 2016\",\"Oct 03, 2016\",\"Oct 04, 2016\",\"Oct 05, 2016\",\"Oct 06, 2016\",\"Oct 07, 2016\",\"Oct 10, 2016\",\"Oct 11, 2016\",\"Oct 12, 2016\",\"Oct 13, 2016\",\"Oct 14, 2016\",\"Oct 17, 2016\",\"Oct 18, 2016\",\"Oct 19, 2016\",\"Oct 20, 2016\",\"Oct 21, 2016\",\"Oct 24, 2016\",\"Oct 25, 2016\",\"Oct 26, 2016\",\"Oct 27, 2016\",\"Oct 28, 2016\",\"Oct 31, 2016\",\"Nov 01, 2016\",\"Nov 02, 2016\",\"Nov 03, 2016\",\"Nov 04, 2016\",\"Nov 07, 2016\",\"Nov 08, 2016\",\"Nov 09, 2016\",\"Nov 10, 2016\",\"Nov 11, 2016\",\"Nov 14, 2016\",\"Nov 15, 2016\",\"Nov 16, 2016\",\"Nov 17, 2016\",\"Nov 18, 2016\",\"Nov 21, 2016\",\"Nov 22, 2016\",\"Nov 23, 2016\",\"Nov 25, 2016\",\"Nov 28, 2016\",\"Nov 29, 2016\",\"Nov 30, 2016\",\"Dec 01, 2016\",\"Dec 02, 2016\",\"Dec 05, 2016\",\"Dec 06, 2016\",\"Dec 07, 2016\",\"Dec 08, 2016\",\"Dec 09, 2016\",\"Dec 12, 2016\",\"Dec 13, 2016\",\"Dec 14, 2016\",\"Dec 15, 2016\",\"Dec 16, 2016\",\"Dec 19, 2016\",\"Dec 20, 2016\",\"Dec 21, 2016\",\"Dec 22, 2016\",\"Dec 23, 2016\",\"Dec 27, 2016\",\"Dec 28, 2016\",\"Dec 29, 2016\",\"Dec 30, 2016\",\"Jan 03, 2017\",\"Jan 04, 2017\",\"Jan 05, 2017\",\"Jan 06, 2017\",\"Jan 09, 2017\",\"Jan 10, 2017\",\"Jan 11, 2017\",\"Jan 12, 2017\",\"Jan 13, 2017\",\"Jan 17, 2017\",\"Jan 18, 2017\",\"Jan 19, 2017\",\"Jan 20, 2017\",\"Jan 23, 2017\",\"Jan 24, 2017\",\"Jan 25, 2017\",\"Jan 26, 2017\",\"Jan 27, 2017\",\"Jan 30, 2017\",\"Jan 31, 2017\",\"Feb 01, 2017\",\"Feb 02, 2017\",\"Feb 03, 2017\",\"Feb 06, 2017\",\"Feb 07, 2017\",\"Feb 08, 2017\",\"Feb 09, 2017\",\"Feb 10, 2017\",\"Feb 13, 2017\",\"Feb 14, 2017\",\"Feb 15, 2017\",\"Feb 16, 2017\",\"Feb 17, 2017\",\"Feb 21, 2017\",\"Feb 22, 2017\",\"Feb 23, 2017\",\"Feb 24, 2017\",\"Feb 27, 2017\",\"Feb 28, 2017\",\"Mar 01, 2017\",\"Mar 02, 2017\",\"Mar 03, 2017\",\"Mar 06, 2017\",\"Mar 07, 2017\",\"Mar 08, 2017\",\"Mar 09, 2017\",\"Mar 10, 2017\",\"Mar 13, 2017\",\"Mar 14, 2017\",\"Mar 15, 2017\",\"Mar 16, 2017\",\"Mar 17, 2017\",\"Mar 20, 2017\",\"Mar 21, 2017\",\"Mar 22, 2017\",\"Mar 23, 2017\",\"Mar 24, 2017\",\"Mar 27, 2017\",\"Mar 28, 2017\",\"Mar 29, 2017\",\"Mar 30, 2017\",\"Mar 31, 2017\",\"Apr 03, 2017\",\"Apr 04, 2017\",\"Apr 05, 2017\",\"Apr 06, 2017\",\"Apr 07, 2017\",\"Apr 10, 2017\",\"Apr 11, 2017\",\"Apr 12, 2017\",\"Apr 13, 2017\",\"Apr 17, 2017\",\"Apr 18, 2017\",\"Apr 19, 2017\",\"Apr 20, 2017\",\"Apr 21, 2017\",\"Apr 24, 2017\",\"Apr 25, 2017\",\"Apr 26, 2017\",\"Apr 27, 2017\",\"Apr 28, 2017\",\"May 01, 2017\",\"May 02, 2017\",\"May 03, 2017\",\"May 04, 2017\",\"May 05, 2017\",\"May 08, 2017\",\"May 09, 2017\",\"May 10, 2017\",\"May 11, 2017\",\"May 12, 2017\",\"May 15, 2017\",\"May 16, 2017\",\"May 17, 2017\",\"May 18, 2017\",\"May 19, 2017\",\"May 22, 2017\",\"May 23, 2017\",\"May 24, 2017\",\"May 25, 2017\",\"May 26, 2017\",\"May 30, 2017\",\"May 31, 2017\",\"Jun 01, 2017\",\"Jun 02, 2017\",\"Jun 05, 2017\",\"Jun 06, 2017\",\"Jun 07, 2017\",\"Jun 08, 2017\",\"Jun 09, 2017\",\"Jun 12, 2017\",\"Jun 13, 2017\",\"Jun 14, 2017\",\"Jun 15, 2017\",\"Jun 16, 2017\",\"Jun 19, 2017\",\"Jun 20, 2017\",\"Jun 21, 2017\",\"Jun 22, 2017\",\"Jun 23, 2017\",\"Jun 26, 2017\",\"Jun 27, 2017\",\"Jun 28, 2017\",\"Jun 29, 2017\",\"Jun 30, 2017\",\"Jul 03, 2017\",\"Jul 05, 2017\",\"Jul 06, 2017\",\"Jul 07, 2017\",\"Jul 10, 2017\",\"Jul 11, 2017\",\"Jul 12, 2017\",\"Jul 13, 2017\",\"Jul 14, 2017\",\"Jul 17, 2017\",\"Jul 18, 2017\",\"Jul 19, 2017\",\"Jul 20, 2017\",\"Jul 21, 2017\",\"Jul 24, 2017\",\"Jul 25, 2017\",\"Jul 26, 2017\",\"Jul 27, 2017\",\"Jul 28, 2017\",\"Jul 31, 2017\",\"Aug 01, 2017\",\"Aug 02, 2017\",\"Aug 03, 2017\",\"Aug 04, 2017\",\"Aug 07, 2017\",\"Aug 08, 2017\",\"Aug 09, 2017\",\"Aug 10, 2017\",\"Aug 11, 2017\",\"Aug 14, 2017\",\"Aug 15, 2017\",\"Aug 16, 2017\",\"Aug 17, 2017\",\"Aug 18, 2017\",\"Aug 21, 2017\",\"Aug 22, 2017\",\"Aug 23, 2017\",\"Aug 24, 2017\",\"Aug 25, 2017\",\"Aug 28, 2017\",\"Aug 29, 2017\",\"Aug 30, 2017\",\"Aug 31, 2017\",\"Sep 01, 2017\",\"Sep 05, 2017\",\"Sep 06, 2017\",\"Sep 07, 2017\",\"Sep 08, 2017\",\"Sep 11, 2017\",\"Sep 12, 2017\",\"Sep 13, 2017\",\"Sep 14, 2017\",\"Sep 15, 2017\",\"Sep 18, 2017\",\"Sep 19, 2017\",\"Sep 20, 2017\",\"Sep 21, 2017\",\"Sep 22, 2017\",\"Sep 25, 2017\",\"Sep 26, 2017\",\"Sep 27, 2017\",\"Sep 28, 2017\",\"Sep 29, 2017\",\"Oct 02, 2017\",\"Oct 03, 2017\",\"Oct 04, 2017\",\"Oct 05, 2017\",\"Oct 06, 2017\",\"Oct 09, 2017\",\"Oct 10, 2017\",\"Oct 11, 2017\",\"Oct 12, 2017\",\"Oct 13, 2017\",\"Oct 16, 2017\",\"Oct 17, 2017\",\"Oct 18, 2017\",\"Oct 19, 2017\",\"Oct 20, 2017\",\"Oct 23, 2017\",\"Oct 24, 2017\",\"Oct 25, 2017\",\"Oct 26, 2017\",\"Oct 27, 2017\",\"Oct 30, 2017\",\"Oct 31, 2017\",\"Nov 01, 2017\",\"Nov 02, 2017\",\"Nov 03, 2017\",\"Nov 06, 2017\",\"Nov 07, 2017\",\"Nov 08, 2017\",\"Nov 09, 2017\",\"Nov 10, 2017\",\"Nov 13, 2017\",\"Nov 14, 2017\",\"Nov 15, 2017\",\"Nov 16, 2017\",\"Nov 17, 2017\",\"Nov 20, 2017\",\"Nov 21, 2017\",\"Nov 22, 2017\",\"Nov 24, 2017\",\"Nov 27, 2017\",\"Nov 28, 2017\",\"Nov 29, 2017\",\"Nov 30, 2017\",\"Dec 01, 2017\",\"Dec 04, 2017\",\"Dec 05, 2017\",\"Dec 06, 2017\",\"Dec 07, 2017\",\"Dec 08, 2017\",\"Dec 11, 2017\",\"Dec 12, 2017\",\"Dec 13, 2017\",\"Dec 14, 2017\",\"Dec 15, 2017\",\"Dec 18, 2017\",\"Dec 19, 2017\",\"Dec 20, 2017\",\"Dec 21, 2017\",\"Dec 22, 2017\",\"Dec 26, 2017\",\"Dec 27, 2017\",\"Dec 28, 2017\",\"Dec 29, 2017\",\"Jan 02, 2018\",\"Jan 03, 2018\",\"Jan 04, 2018\",\"Jan 05, 2018\",\"Jan 08, 2018\",\"Jan 09, 2018\",\"Jan 10, 2018\",\"Jan 11, 2018\",\"Jan 12, 2018\",\"Jan 16, 2018\",\"Jan 17, 2018\",\"Jan 18, 2018\",\"Jan 19, 2018\",\"Jan 22, 2018\",\"Jan 23, 2018\",\"Jan 24, 2018\",\"Jan 25, 2018\",\"Jan 26, 2018\",\"Jan 29, 2018\",\"Jan 30, 2018\",\"Jan 31, 2018\",\"Feb 01, 2018\",\"Feb 02, 2018\",\"Feb 05, 2018\",\"Feb 06, 2018\",\"Feb 07, 2018\",\"Feb 08, 2018\",\"Feb 09, 2018\",\"Feb 12, 2018\",\"Feb 13, 2018\",\"Feb 14, 2018\",\"Feb 15, 2018\",\"Feb 16, 2018\",\"Feb 20, 2018\",\"Feb 21, 2018\",\"Feb 22, 2018\",\"Feb 23, 2018\",\"Feb 26, 2018\",\"Feb 27, 2018\",\"Feb 28, 2018\",\"Mar 01, 2018\",\"Mar 02, 2018\",\"Mar 05, 2018\",\"Mar 06, 2018\",\"Mar 07, 2018\",\"Mar 08, 2018\",\"Mar 09, 2018\",\"Mar 12, 2018\",\"Mar 13, 2018\",\"Mar 14, 2018\",\"Mar 15, 2018\",\"Mar 16, 2018\",\"Mar 19, 2018\",\"Mar 20, 2018\",\"Mar 21, 2018\",\"Mar 22, 2018\",\"Mar 23, 2018\",\"Mar 26, 2018\",\"Mar 27, 2018\",\"Mar 28, 2018\",\"Mar 29, 2018\",\"Apr 02, 2018\",\"Apr 03, 2018\",\"Apr 04, 2018\",\"Apr 05, 2018\",\"Apr 06, 2018\",\"Apr 09, 2018\",\"Apr 10, 2018\",\"Apr 11, 2018\",\"Apr 12, 2018\",\"Apr 13, 2018\",\"Apr 16, 2018\",\"Apr 17, 2018\",\"Apr 18, 2018\",\"Apr 19, 2018\",\"Apr 20, 2018\"],\"x\":{\"__ndarray__\":\"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\",\"dtype\":\"float64\",\"shape\":[831]},\"y\":{\"__ndarray__\":\"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\",\"dtype\":\"float64\",\"shape\":[831]}},\"selected\":null,\"selection_policy\":null},\"id\":\"c0e3578e-e72d-48bd-836c-c0dadb22c1ca\",\"type\":\"ColumnDataSource\"},{\"attributes\":{},\"id\":\"f7bdeccf-bd4c-4410-a102-ddd5955f1936\",\"type\":\"DatetimeTickFormatter\"},{\"attributes\":{\"grid_line_color\":{\"value\":null},\"plot\":{\"id\":\"ae4d10ff-d097-487f-abab-f6c61c255791\",\"subtype\":\"Figure\",\"type\":\"Plot\"},\"ticker\":{\"id\":\"db962f36-f0d7-40dd-907b-5f90f77c4319\",\"type\":\"DatetimeTicker\"}},\"id\":\"ccdda4eb-1374-4866-bc9f-7286c316282f\",\"type\":\"Grid\"}],\"root_ids\":[\"ae4d10ff-d097-487f-abab-f6c61c255791\"]},\"title\":\"Bokeh Application\",\"version\":\"0.12.15\"}};\n",
       "  var render_items = [{\"docid\":\"3edbfeea-653b-4d50-8a07-609ad9ae1d03\",\"elementid\":\"ab826b35-9502-49ee-9454-1d1d4582e00a\",\"modelid\":\"ae4d10ff-d097-487f-abab-f6c61c255791\"}];\n",
       "  root.Bokeh.embed.embed_items_notebook(docs_json, render_items);\n",
       "\n",
       "  }\n",
       "  if (root.Bokeh !== undefined) {\n",
       "    embed_document(root);\n",
       "  } else {\n",
       "    var attempts = 0;\n",
       "    var timer = setInterval(function(root) {\n",
       "      if (root.Bokeh !== undefined) {\n",
       "        embed_document(root);\n",
       "        clearInterval(timer);\n",
       "      }\n",
       "      attempts++;\n",
       "      if (attempts > 100) {\n",
       "        console.log(\"Bokeh: ERROR: Unable to run BokehJS code because BokehJS library is missing\")\n",
       "        clearInterval(timer);\n",
       "      }\n",
       "    }, 10, root)\n",
       "  }\n",
       "})(window);"
      ],
      "application/vnd.bokehjs_exec.v0+json": ""
     },
     "metadata": {
      "application/vnd.bokehjs_exec.v0+json": {
       "id": "ae4d10ff-d097-487f-abab-f6c61c255791"
      }
     },
     "output_type": "display_data"
    }
   ],
   "source": [
    "# VIX plot in bokeh\n",
    "source = ColumnDataSource({'x': df.index, 'y': df.values, 'Date': df.index.strftime('%b %d, %Y')})\n",
    "tooltips = \"\"\"\n",
    "            <div>\n",
    "                <span style=\"font-size: 12px;\">@Date:</span>\n",
    "                <span style=\"font-size: 12px; font-weight: bold;\">@y{1.1}</span>\n",
    "            </div>\n",
    "\"\"\"\n",
    "# horizontal line at zero\n",
    "hline = Span(location=0, dimension='width', line_color='gray', line_width=1)\n",
    "p = figure(width=700,height=300,x_axis_type='datetime',\n",
    "           tools=['pan, wheel_zoom, box_zoom, reset'], logo=None,\n",
    "           toolbar_location=None)\n",
    "p.add_layout(hline)\n",
    "p.sizing_mode = 'scale_width'\n",
    "p.line('x', 'y', source = source, line_width=2.5, color='Green', alpha=1.0, level='overlay')\n",
    "p.xgrid.grid_line_color = None\n",
    "p.outline_line_color = 'white'\n",
    "p.axis.axis_line_color = 'white'\n",
    "p.yaxis.minor_tick_line_color = None\n",
    "p.add_tools(HoverTool(tooltips=tooltips, line_policy='nearest', show_arrow=False))\n",
    "p.toolbar.active_drag = None\n",
    "script, div = components(p)\n",
    "\n",
    "with open('C:/Working/bdecon.github.io/plots/vix.html', 'w') as text_file:\n",
    "    text_file.write('{} {}'.format(script, div))\n",
    "    \n",
    "show(p)"
   ]
  },
  {
   "cell_type": "markdown",
   "metadata": {},
   "source": [
    "# Germany and UK CPI"
   ]
  },
  {
   "cell_type": "code",
   "execution_count": 6,
   "metadata": {
    "ExecuteTime": {
     "end_time": "2018-04-22T23:44:30.556533Z",
     "start_time": "2018-04-22T23:44:29.996732Z"
    },
    "code_folding": [
     0
    ]
   },
   "outputs": [],
   "source": [
    "# CPI Inflation Data from the IMF\n",
    "url = 'http://dataservices.imf.org/REST/SDMX_JSON.svc/'\n",
    "key = f\"CompactData/IFS/M.DE+GB+IT+FR.PCPI_PC_CP_A_PT\"\n",
    "data = requests.get(f'{url}{key}').json()\n",
    "\n",
    "df = pd.DataFrame({s['@REF_AREA'] : {pd.to_datetime(i['@TIME_PERIOD']) : \n",
    "     round(float(i['@OBS_VALUE']), 1) \n",
    "     for i in s['Obs'] if int(i['@TIME_PERIOD'][:4]) > 1991} \n",
    "     for s in data['CompactData']['DataSet']['Series']})"
   ]
  },
  {
   "cell_type": "code",
   "execution_count": 7,
   "metadata": {
    "ExecuteTime": {
     "end_time": "2018-04-22T23:44:37.753372Z",
     "start_time": "2018-04-22T23:44:37.637270Z"
    },
    "code_folding": [
     0
    ]
   },
   "outputs": [
    {
     "data": {
      "text/html": [
       "\n",
       "<div class=\"bk-root\">\n",
       "    <div class=\"bk-plotdiv\" id=\"4916996f-91c3-4669-9762-619859c7f814\"></div>\n",
       "</div>"
      ]
     },
     "metadata": {},
     "output_type": "display_data"
    },
    {
     "data": {
      "application/javascript": [
       "(function(root) {\n",
       "  function embed_document(root) {\n",
       "    \n",
       "  var docs_json = {\"b07bc8c7-b15b-404d-bf60-1dd4522de41e\":{\"roots\":{\"references\":[{\"attributes\":{\"label\":{\"value\":\"Germany\"},\"renderers\":[{\"id\":\"f42a2d32-dbee-4032-bde0-3bbb0a8982ca\",\"type\":\"GlyphRenderer\"}]},\"id\":\"0aea06fa-85cc-4f09-8af9-dcf17b25ca38\",\"type\":\"LegendItem\"},{\"attributes\":{\"active_drag\":null,\"active_inspect\":\"auto\",\"active_scroll\":\"auto\",\"active_tap\":\"auto\",\"logo\":null,\"tools\":[{\"id\":\"eeb597b3-6099-41fe-811e-58998cb886f8\",\"type\":\"PanTool\"},{\"id\":\"35796070-5007-489b-bbce-948d9a01ca74\",\"type\":\"WheelZoomTool\"},{\"id\":\"f65aa8d0-2f5f-45ae-85e9-00fb12e2bcdb\",\"type\":\"BoxZoomTool\"},{\"id\":\"debca038-c773-481a-bbc3-ad0a83a2e953\",\"type\":\"ResetTool\"},{\"id\":\"d169c2a3-7799-4470-b4e5-f45758ee56e9\",\"type\":\"HoverTool\"},{\"id\":\"710dc747-25da-4e39-a57a-474a186f1c81\",\"type\":\"HoverTool\"}]},\"id\":\"c8d96fcb-4c92-4ecb-8b4f-f73854916afd\",\"type\":\"Toolbar\"},{\"attributes\":{\"days\":[1,8,15,22]},\"id\":\"a09f3214-5294-4161-b0f7-a364012b578c\",\"type\":\"DaysTicker\"},{\"attributes\":{\"base\":60,\"mantissas\":[1,2,5,10,15,20,30],\"max_interval\":1800000.0,\"min_interval\":1000.0,\"num_minor_ticks\":0},\"id\":\"5acb3269-853e-4f61-aa95-f463b4bfec95\",\"type\":\"AdaptiveTicker\"},{\"attributes\":{\"callback\":null},\"id\":\"e04f22f5-b998-45b5-a9b2-286d65fb523c\",\"type\":\"DataRange1d\"},{\"attributes\":{\"days\":[1,2,3,4,5,6,7,8,9,10,11,12,13,14,15,16,17,18,19,20,21,22,23,24,25,26,27,28,29,30,31]},\"id\":\"06c4bfa9-ee92-425f-824c-8f219851a878\",\"type\":\"DaysTicker\"},{\"attributes\":{\"callback\":null},\"id\":\"ffe0723e-b567-43b6-8eb8-f75386f23d77\",\"type\":\"DataRange1d\"},{\"attributes\":{\"base\":24,\"mantissas\":[1,2,4,6,8,12],\"max_interval\":43200000.0,\"min_interval\":3600000.0,\"num_minor_ticks\":0},\"id\":\"4062a35f-1507-4393-854d-8dc45d32ac0a\",\"type\":\"AdaptiveTicker\"},{\"attributes\":{},\"id\":\"2fbff12d-c304-41da-bf6a-21ddbc380b14\",\"type\":\"LinearScale\"},{\"attributes\":{\"days\":[1,15]},\"id\":\"f85b12bf-9141-49e5-86f6-f470516f0c15\",\"type\":\"DaysTicker\"},{\"attributes\":{\"grid_line_color\":{\"value\":null},\"plot\":{\"id\":\"fe1e9e26-9759-408e-b410-6ff0039fd532\",\"subtype\":\"Figure\",\"type\":\"Plot\"},\"ticker\":{\"id\":\"43aa68a5-8b2c-4dee-bfd4-873522f8e37f\",\"type\":\"DatetimeTicker\"}},\"id\":\"b9b3c0ab-2972-4d60-bd2d-e7834dfd7ddb\",\"type\":\"Grid\"},{\"attributes\":{\"months\":[0,1,2,3,4,5,6,7,8,9,10,11]},\"id\":\"82cca0f0-72b2-4556-9288-029a24b231b6\",\"type\":\"MonthsTicker\"},{\"attributes\":{\"months\":[0,2,4,6,8,10]},\"id\":\"b71b8feb-6ca2-49c3-b5ac-49035c41b882\",\"type\":\"MonthsTicker\"},{\"attributes\":{},\"id\":\"b3cf1a71-1ec3-4893-8c41-c5d178e2dfc4\",\"type\":\"LinearScale\"},{\"attributes\":{\"months\":[0,4,8]},\"id\":\"15c60020-dd74-4699-b0e2-af8b5a3e2d4b\",\"type\":\"MonthsTicker\"},{\"attributes\":{\"axis_line_color\":{\"value\":\"white\"},\"formatter\":{\"id\":\"3b3d8186-ecd0-4c48-86be-05f9462359b5\",\"type\":\"DatetimeTickFormatter\"},\"plot\":{\"id\":\"fe1e9e26-9759-408e-b410-6ff0039fd532\",\"subtype\":\"Figure\",\"type\":\"Plot\"},\"ticker\":{\"id\":\"43aa68a5-8b2c-4dee-bfd4-873522f8e37f\",\"type\":\"DatetimeTicker\"}},\"id\":\"e4946e19-c0f1-4cab-bd77-3e4f9340f2cb\",\"type\":\"DatetimeAxis\"},{\"attributes\":{\"months\":[0,6]},\"id\":\"85e92e2e-184d-4517-a152-3aaa53b27a75\",\"type\":\"MonthsTicker\"},{\"attributes\":{\"num_minor_ticks\":5,\"tickers\":[{\"id\":\"e25be116-594b-4683-b462-f0414a48723a\",\"type\":\"AdaptiveTicker\"},{\"id\":\"5acb3269-853e-4f61-aa95-f463b4bfec95\",\"type\":\"AdaptiveTicker\"},{\"id\":\"4062a35f-1507-4393-854d-8dc45d32ac0a\",\"type\":\"AdaptiveTicker\"},{\"id\":\"06c4bfa9-ee92-425f-824c-8f219851a878\",\"type\":\"DaysTicker\"},{\"id\":\"1f50a1d4-7006-4c70-bfbf-7f82bb642e2d\",\"type\":\"DaysTicker\"},{\"id\":\"a09f3214-5294-4161-b0f7-a364012b578c\",\"type\":\"DaysTicker\"},{\"id\":\"f85b12bf-9141-49e5-86f6-f470516f0c15\",\"type\":\"DaysTicker\"},{\"id\":\"82cca0f0-72b2-4556-9288-029a24b231b6\",\"type\":\"MonthsTicker\"},{\"id\":\"b71b8feb-6ca2-49c3-b5ac-49035c41b882\",\"type\":\"MonthsTicker\"},{\"id\":\"15c60020-dd74-4699-b0e2-af8b5a3e2d4b\",\"type\":\"MonthsTicker\"},{\"id\":\"85e92e2e-184d-4517-a152-3aaa53b27a75\",\"type\":\"MonthsTicker\"},{\"id\":\"8a3d9875-7465-4e32-99b1-4dbdd392bfa4\",\"type\":\"YearsTicker\"}]},\"id\":\"43aa68a5-8b2c-4dee-bfd4-873522f8e37f\",\"type\":\"DatetimeTicker\"},{\"attributes\":{},\"id\":\"8a3d9875-7465-4e32-99b1-4dbdd392bfa4\",\"type\":\"YearsTicker\"},{\"attributes\":{\"axis_line_color\":{\"value\":\"white\"},\"formatter\":{\"id\":\"625521d3-de7b-4a88-9089-d7ae078166d6\",\"type\":\"BasicTickFormatter\"},\"minor_tick_line_color\":{\"value\":null},\"plot\":{\"id\":\"fe1e9e26-9759-408e-b410-6ff0039fd532\",\"subtype\":\"Figure\",\"type\":\"Plot\"},\"ticker\":{\"id\":\"1300045d-1fa6-4ac5-8301-85e4d743663d\",\"type\":\"BasicTicker\"}},\"id\":\"abd5fbc0-2cc6-4ecf-9c9b-b32bd87e9204\",\"type\":\"LinearAxis\"},{\"attributes\":{\"background_fill_alpha\":{\"value\":0},\"border_line_alpha\":{\"value\":0},\"items\":[{\"id\":\"0aea06fa-85cc-4f09-8af9-dcf17b25ca38\",\"type\":\"LegendItem\"},{\"id\":\"44dd4e17-8ad4-435f-ba80-43714190da6a\",\"type\":\"LegendItem\"}],\"location\":\"top_center\",\"margin\":0,\"orientation\":\"horizontal\",\"padding\":0,\"plot\":{\"id\":\"fe1e9e26-9759-408e-b410-6ff0039fd532\",\"subtype\":\"Figure\",\"type\":\"Plot\"},\"spacing\":15},\"id\":\"62494eb0-acf7-4cf2-8177-9b568c850afe\",\"type\":\"Legend\"},{\"attributes\":{},\"id\":\"1300045d-1fa6-4ac5-8301-85e4d743663d\",\"type\":\"BasicTicker\"},{\"attributes\":{\"dimension\":1,\"plot\":{\"id\":\"fe1e9e26-9759-408e-b410-6ff0039fd532\",\"subtype\":\"Figure\",\"type\":\"Plot\"},\"ticker\":{\"id\":\"1300045d-1fa6-4ac5-8301-85e4d743663d\",\"type\":\"BasicTicker\"}},\"id\":\"8d025bcd-0b84-46ce-ba29-217ebd048fcc\",\"type\":\"Grid\"},{\"attributes\":{\"callback\":null,\"renderers\":[{\"id\":\"5b9a4f07-fb6a-40e9-9019-741251896b9e\",\"type\":\"GlyphRenderer\"}],\"show_arrow\":false,\"tooltips\":\"\\n            <div>\\n                <span style=\\\"font-size: 12px; font-weight: bold;\\\">United Kingdom</span><br>\\n                <span style=\\\"font-size: 12px;\\\">@Date:</span>\\n                <span style=\\\"font-size: 12px; font-weight: bold;\\\">@yuk{1.1}%</span>\\n            </div>\\n\"},\"id\":\"710dc747-25da-4e39-a57a-474a186f1c81\",\"type\":\"HoverTool\"},{\"attributes\":{\"line_color\":\"#09a8fa\",\"line_width\":2.5,\"x\":{\"field\":\"x\"},\"y\":{\"field\":\"yuk\"}},\"id\":\"9f66e621-ad45-4592-9b2a-42f38b1ed478\",\"type\":\"Line\"},{\"attributes\":{\"label\":{\"value\":\"United Kingdom\"},\"renderers\":[{\"id\":\"5b9a4f07-fb6a-40e9-9019-741251896b9e\",\"type\":\"GlyphRenderer\"}]},\"id\":\"44dd4e17-8ad4-435f-ba80-43714190da6a\",\"type\":\"LegendItem\"},{\"attributes\":{},\"id\":\"eeb597b3-6099-41fe-811e-58998cb886f8\",\"type\":\"PanTool\"},{\"attributes\":{\"line_alpha\":0.1,\"line_color\":\"#1f77b4\",\"line_width\":2.5,\"x\":{\"field\":\"x\"},\"y\":{\"field\":\"yuk\"}},\"id\":\"1c8ec079-e53b-492b-92b5-5524e4ef2838\",\"type\":\"Line\"},{\"attributes\":{},\"id\":\"35796070-5007-489b-bbce-948d9a01ca74\",\"type\":\"WheelZoomTool\"},{\"attributes\":{\"data_source\":{\"id\":\"79080d02-715b-4a83-b17e-58ae0b3024f0\",\"type\":\"ColumnDataSource\"},\"glyph\":{\"id\":\"9f66e621-ad45-4592-9b2a-42f38b1ed478\",\"type\":\"Line\"},\"hover_glyph\":null,\"level\":\"overlay\",\"muted_glyph\":null,\"nonselection_glyph\":{\"id\":\"1c8ec079-e53b-492b-92b5-5524e4ef2838\",\"type\":\"Line\"},\"selection_glyph\":null,\"view\":{\"id\":\"b1b36022-917f-4e10-8ba9-a2c2bc129178\",\"type\":\"CDSView\"}},\"id\":\"5b9a4f07-fb6a-40e9-9019-741251896b9e\",\"type\":\"GlyphRenderer\"},{\"attributes\":{\"overlay\":{\"id\":\"90be046a-a226-4ca6-b993-d38b6bc5d174\",\"type\":\"BoxAnnotation\"}},\"id\":\"f65aa8d0-2f5f-45ae-85e9-00fb12e2bcdb\",\"type\":\"BoxZoomTool\"},{\"attributes\":{\"source\":{\"id\":\"79080d02-715b-4a83-b17e-58ae0b3024f0\",\"type\":\"ColumnDataSource\"}},\"id\":\"b1b36022-917f-4e10-8ba9-a2c2bc129178\",\"type\":\"CDSView\"},{\"attributes\":{},\"id\":\"debca038-c773-481a-bbc3-ad0a83a2e953\",\"type\":\"ResetTool\"},{\"attributes\":{\"callback\":null,\"renderers\":[{\"id\":\"f42a2d32-dbee-4032-bde0-3bbb0a8982ca\",\"type\":\"GlyphRenderer\"}],\"show_arrow\":false,\"tooltips\":\"\\n            <div>\\n                <span style=\\\"font-size: 12px; font-weight: bold;\\\">Germany</span><br>\\n                <span style=\\\"font-size: 12px;\\\">@Date:</span>\\n                <span style=\\\"font-size: 12px; font-weight: bold;\\\">@yde{1.1}%</span>\\n            </div>\\n\"},\"id\":\"d169c2a3-7799-4470-b4e5-f45758ee56e9\",\"type\":\"HoverTool\"},{\"attributes\":{\"bottom_units\":\"screen\",\"fill_alpha\":{\"value\":0.5},\"fill_color\":{\"value\":\"lightgrey\"},\"left_units\":\"screen\",\"level\":\"overlay\",\"line_alpha\":{\"value\":1.0},\"line_color\":{\"value\":\"black\"},\"line_dash\":[4,4],\"line_width\":{\"value\":2},\"plot\":null,\"render_mode\":\"css\",\"right_units\":\"screen\",\"top_units\":\"screen\"},\"id\":\"90be046a-a226-4ca6-b993-d38b6bc5d174\",\"type\":\"BoxAnnotation\"},{\"attributes\":{\"line_alpha\":0.1,\"line_color\":\"#1f77b4\",\"line_width\":2.5,\"x\":{\"field\":\"x\"},\"y\":{\"field\":\"yde\"}},\"id\":\"ef2c93ab-ecfc-4a2b-9fbe-1e4b06bef079\",\"type\":\"Line\"},{\"attributes\":{\"line_color\":\"#163172\",\"line_width\":2.5,\"x\":{\"field\":\"x\"},\"y\":{\"field\":\"yde\"}},\"id\":\"f98c159d-2600-425c-97e7-99d1ef8c60f4\",\"type\":\"Line\"},{\"attributes\":{\"mantissas\":[1,2,5],\"max_interval\":500.0,\"num_minor_ticks\":0},\"id\":\"e25be116-594b-4683-b462-f0414a48723a\",\"type\":\"AdaptiveTicker\"},{\"attributes\":{\"line_color\":{\"value\":\"gray\"},\"location\":0,\"plot\":{\"id\":\"fe1e9e26-9759-408e-b410-6ff0039fd532\",\"subtype\":\"Figure\",\"type\":\"Plot\"}},\"id\":\"bcba63a4-edd3-4b4e-ab8c-7705280e5125\",\"type\":\"Span\"},{\"attributes\":{\"data_source\":{\"id\":\"79080d02-715b-4a83-b17e-58ae0b3024f0\",\"type\":\"ColumnDataSource\"},\"glyph\":{\"id\":\"f98c159d-2600-425c-97e7-99d1ef8c60f4\",\"type\":\"Line\"},\"hover_glyph\":null,\"level\":\"overlay\",\"muted_glyph\":null,\"nonselection_glyph\":{\"id\":\"ef2c93ab-ecfc-4a2b-9fbe-1e4b06bef079\",\"type\":\"Line\"},\"selection_glyph\":null,\"view\":{\"id\":\"33541759-2a06-410d-a841-895730351dbb\",\"type\":\"CDSView\"}},\"id\":\"f42a2d32-dbee-4032-bde0-3bbb0a8982ca\",\"type\":\"GlyphRenderer\"},{\"attributes\":{\"source\":{\"id\":\"79080d02-715b-4a83-b17e-58ae0b3024f0\",\"type\":\"ColumnDataSource\"}},\"id\":\"33541759-2a06-410d-a841-895730351dbb\",\"type\":\"CDSView\"},{\"attributes\":{\"callback\":null,\"column_names\":[\"x\",\"yde\",\"yuk\",\"Date\"],\"data\":{\"Date\":[\"Jan 1992\",\"Feb 1992\",\"Mar 1992\",\"Apr 1992\",\"May 1992\",\"Jun 1992\",\"Jul 1992\",\"Aug 1992\",\"Sep 1992\",\"Oct 1992\",\"Nov 1992\",\"Dec 1992\",\"Jan 1993\",\"Feb 1993\",\"Mar 1993\",\"Apr 1993\",\"May 1993\",\"Jun 1993\",\"Jul 1993\",\"Aug 1993\",\"Sep 1993\",\"Oct 1993\",\"Nov 1993\",\"Dec 1993\",\"Jan 1994\",\"Feb 1994\",\"Mar 1994\",\"Apr 1994\",\"May 1994\",\"Jun 1994\",\"Jul 1994\",\"Aug 1994\",\"Sep 1994\",\"Oct 1994\",\"Nov 1994\",\"Dec 1994\",\"Jan 1995\",\"Feb 1995\",\"Mar 1995\",\"Apr 1995\",\"May 1995\",\"Jun 1995\",\"Jul 1995\",\"Aug 1995\",\"Sep 1995\",\"Oct 1995\",\"Nov 1995\",\"Dec 1995\",\"Jan 1996\",\"Feb 1996\",\"Mar 1996\",\"Apr 1996\",\"May 1996\",\"Jun 1996\",\"Jul 1996\",\"Aug 1996\",\"Sep 1996\",\"Oct 1996\",\"Nov 1996\",\"Dec 1996\",\"Jan 1997\",\"Feb 1997\",\"Mar 1997\",\"Apr 1997\",\"May 1997\",\"Jun 1997\",\"Jul 1997\",\"Aug 1997\",\"Sep 1997\",\"Oct 1997\",\"Nov 1997\",\"Dec 1997\",\"Jan 1998\",\"Feb 1998\",\"Mar 1998\",\"Apr 1998\",\"May 1998\",\"Jun 1998\",\"Jul 1998\",\"Aug 1998\",\"Sep 1998\",\"Oct 1998\",\"Nov 1998\",\"Dec 1998\",\"Jan 1999\",\"Feb 1999\",\"Mar 1999\",\"Apr 1999\",\"May 1999\",\"Jun 1999\",\"Jul 1999\",\"Aug 1999\",\"Sep 1999\",\"Oct 1999\",\"Nov 1999\",\"Dec 1999\",\"Jan 2000\",\"Feb 2000\",\"Mar 2000\",\"Apr 2000\",\"May 2000\",\"Jun 2000\",\"Jul 2000\",\"Aug 2000\",\"Sep 2000\",\"Oct 2000\",\"Nov 2000\",\"Dec 2000\",\"Jan 2001\",\"Feb 2001\",\"Mar 2001\",\"Apr 2001\",\"May 2001\",\"Jun 2001\",\"Jul 2001\",\"Aug 2001\",\"Sep 2001\",\"Oct 2001\",\"Nov 2001\",\"Dec 2001\",\"Jan 2002\",\"Feb 2002\",\"Mar 2002\",\"Apr 2002\",\"May 2002\",\"Jun 2002\",\"Jul 2002\",\"Aug 2002\",\"Sep 2002\",\"Oct 2002\",\"Nov 2002\",\"Dec 2002\",\"Jan 2003\",\"Feb 2003\",\"Mar 2003\",\"Apr 2003\",\"May 2003\",\"Jun 2003\",\"Jul 2003\",\"Aug 2003\",\"Sep 2003\",\"Oct 2003\",\"Nov 2003\",\"Dec 2003\",\"Jan 2004\",\"Feb 2004\",\"Mar 2004\",\"Apr 2004\",\"May 2004\",\"Jun 2004\",\"Jul 2004\",\"Aug 2004\",\"Sep 2004\",\"Oct 2004\",\"Nov 2004\",\"Dec 2004\",\"Jan 2005\",\"Feb 2005\",\"Mar 2005\",\"Apr 2005\",\"May 2005\",\"Jun 2005\",\"Jul 2005\",\"Aug 2005\",\"Sep 2005\",\"Oct 2005\",\"Nov 2005\",\"Dec 2005\",\"Jan 2006\",\"Feb 2006\",\"Mar 2006\",\"Apr 2006\",\"May 2006\",\"Jun 2006\",\"Jul 2006\",\"Aug 2006\",\"Sep 2006\",\"Oct 2006\",\"Nov 2006\",\"Dec 2006\",\"Jan 2007\",\"Feb 2007\",\"Mar 2007\",\"Apr 2007\",\"May 2007\",\"Jun 2007\",\"Jul 2007\",\"Aug 2007\",\"Sep 2007\",\"Oct 2007\",\"Nov 2007\",\"Dec 2007\",\"Jan 2008\",\"Feb 2008\",\"Mar 2008\",\"Apr 2008\",\"May 2008\",\"Jun 2008\",\"Jul 2008\",\"Aug 2008\",\"Sep 2008\",\"Oct 2008\",\"Nov 2008\",\"Dec 2008\",\"Jan 2009\",\"Feb 2009\",\"Mar 2009\",\"Apr 2009\",\"May 2009\",\"Jun 2009\",\"Jul 2009\",\"Aug 2009\",\"Sep 2009\",\"Oct 2009\",\"Nov 2009\",\"Dec 2009\",\"Jan 2010\",\"Feb 2010\",\"Mar 2010\",\"Apr 2010\",\"May 2010\",\"Jun 2010\",\"Jul 2010\",\"Aug 2010\",\"Sep 2010\",\"Oct 2010\",\"Nov 2010\",\"Dec 2010\",\"Jan 2011\",\"Feb 2011\",\"Mar 2011\",\"Apr 2011\",\"May 2011\",\"Jun 2011\",\"Jul 2011\",\"Aug 2011\",\"Sep 2011\",\"Oct 2011\",\"Nov 2011\",\"Dec 2011\",\"Jan 2012\",\"Feb 2012\",\"Mar 2012\",\"Apr 2012\",\"May 2012\",\"Jun 2012\",\"Jul 2012\",\"Aug 2012\",\"Sep 2012\",\"Oct 2012\",\"Nov 2012\",\"Dec 2012\",\"Jan 2013\",\"Feb 2013\",\"Mar 2013\",\"Apr 2013\",\"May 2013\",\"Jun 2013\",\"Jul 2013\",\"Aug 2013\",\"Sep 2013\",\"Oct 2013\",\"Nov 2013\",\"Dec 2013\",\"Jan 2014\",\"Feb 2014\",\"Mar 2014\",\"Apr 2014\",\"May 2014\",\"Jun 2014\",\"Jul 2014\",\"Aug 2014\",\"Sep 2014\",\"Oct 2014\",\"Nov 2014\",\"Dec 2014\",\"Jan 2015\",\"Feb 2015\",\"Mar 2015\",\"Apr 2015\",\"May 2015\",\"Jun 2015\",\"Jul 2015\",\"Aug 2015\",\"Sep 2015\",\"Oct 2015\",\"Nov 2015\",\"Dec 2015\",\"Jan 2016\",\"Feb 2016\",\"Mar 2016\",\"Apr 2016\",\"May 2016\",\"Jun 2016\",\"Jul 2016\",\"Aug 2016\",\"Sep 2016\",\"Oct 2016\",\"Nov 2016\",\"Dec 2016\",\"Jan 2017\",\"Feb 2017\",\"Mar 2017\",\"Apr 2017\",\"May 2017\",\"Jun 2017\",\"Jul 2017\",\"Aug 2017\",\"Sep 2017\",\"Oct 2017\",\"Nov 2017\",\"Dec 2017\",\"Jan 2018\",\"Feb 2018\",\"Mar 2018\"],\"x\":{\"__ndarray__\":\"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\",\"dtype\":\"float64\",\"shape\":[315]},\"yde\":{\"__ndarray__\":\"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\",\"dtype\":\"float64\",\"shape\":[315]},\"yuk\":{\"__ndarray__\":\"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\",\"dtype\":\"float64\",\"shape\":[315]}},\"selected\":null,\"selection_policy\":null},\"id\":\"79080d02-715b-4a83-b17e-58ae0b3024f0\",\"type\":\"ColumnDataSource\"},{\"attributes\":{\"plot\":null,\"text\":\"\"},\"id\":\"1ab2aab8-ff89-448a-af1c-1a56a159ab3f\",\"type\":\"Title\"},{\"attributes\":{\"days\":[1,4,7,10,13,16,19,22,25,28]},\"id\":\"1f50a1d4-7006-4c70-bfbf-7f82bb642e2d\",\"type\":\"DaysTicker\"},{\"attributes\":{\"below\":[{\"id\":\"e4946e19-c0f1-4cab-bd77-3e4f9340f2cb\",\"type\":\"DatetimeAxis\"}],\"left\":[{\"id\":\"abd5fbc0-2cc6-4ecf-9c9b-b32bd87e9204\",\"type\":\"LinearAxis\"}],\"outline_line_color\":{\"value\":\"white\"},\"plot_height\":300,\"plot_width\":700,\"renderers\":[{\"id\":\"e4946e19-c0f1-4cab-bd77-3e4f9340f2cb\",\"type\":\"DatetimeAxis\"},{\"id\":\"b9b3c0ab-2972-4d60-bd2d-e7834dfd7ddb\",\"type\":\"Grid\"},{\"id\":\"abd5fbc0-2cc6-4ecf-9c9b-b32bd87e9204\",\"type\":\"LinearAxis\"},{\"id\":\"8d025bcd-0b84-46ce-ba29-217ebd048fcc\",\"type\":\"Grid\"},{\"id\":\"90be046a-a226-4ca6-b993-d38b6bc5d174\",\"type\":\"BoxAnnotation\"},{\"id\":\"bcba63a4-edd3-4b4e-ab8c-7705280e5125\",\"type\":\"Span\"},{\"id\":\"62494eb0-acf7-4cf2-8177-9b568c850afe\",\"type\":\"Legend\"},{\"id\":\"f42a2d32-dbee-4032-bde0-3bbb0a8982ca\",\"type\":\"GlyphRenderer\"},{\"id\":\"5b9a4f07-fb6a-40e9-9019-741251896b9e\",\"type\":\"GlyphRenderer\"}],\"sizing_mode\":\"scale_width\",\"title\":{\"id\":\"1ab2aab8-ff89-448a-af1c-1a56a159ab3f\",\"type\":\"Title\"},\"toolbar\":{\"id\":\"c8d96fcb-4c92-4ecb-8b4f-f73854916afd\",\"type\":\"Toolbar\"},\"toolbar_location\":null,\"toolbar_sticky\":false,\"x_range\":{\"id\":\"e04f22f5-b998-45b5-a9b2-286d65fb523c\",\"type\":\"DataRange1d\"},\"x_scale\":{\"id\":\"b3cf1a71-1ec3-4893-8c41-c5d178e2dfc4\",\"type\":\"LinearScale\"},\"y_range\":{\"id\":\"ffe0723e-b567-43b6-8eb8-f75386f23d77\",\"type\":\"DataRange1d\"},\"y_scale\":{\"id\":\"2fbff12d-c304-41da-bf6a-21ddbc380b14\",\"type\":\"LinearScale\"}},\"id\":\"fe1e9e26-9759-408e-b410-6ff0039fd532\",\"subtype\":\"Figure\",\"type\":\"Plot\"},{\"attributes\":{},\"id\":\"3b3d8186-ecd0-4c48-86be-05f9462359b5\",\"type\":\"DatetimeTickFormatter\"},{\"attributes\":{},\"id\":\"625521d3-de7b-4a88-9089-d7ae078166d6\",\"type\":\"BasicTickFormatter\"}],\"root_ids\":[\"fe1e9e26-9759-408e-b410-6ff0039fd532\"]},\"title\":\"Bokeh Application\",\"version\":\"0.12.15\"}};\n",
       "  var render_items = [{\"docid\":\"b07bc8c7-b15b-404d-bf60-1dd4522de41e\",\"elementid\":\"4916996f-91c3-4669-9762-619859c7f814\",\"modelid\":\"fe1e9e26-9759-408e-b410-6ff0039fd532\"}];\n",
       "  root.Bokeh.embed.embed_items_notebook(docs_json, render_items);\n",
       "\n",
       "  }\n",
       "  if (root.Bokeh !== undefined) {\n",
       "    embed_document(root);\n",
       "  } else {\n",
       "    var attempts = 0;\n",
       "    var timer = setInterval(function(root) {\n",
       "      if (root.Bokeh !== undefined) {\n",
       "        embed_document(root);\n",
       "        clearInterval(timer);\n",
       "      }\n",
       "      attempts++;\n",
       "      if (attempts > 100) {\n",
       "        console.log(\"Bokeh: ERROR: Unable to run BokehJS code because BokehJS library is missing\")\n",
       "        clearInterval(timer);\n",
       "      }\n",
       "    }, 10, root)\n",
       "  }\n",
       "})(window);"
      ],
      "application/vnd.bokehjs_exec.v0+json": ""
     },
     "metadata": {
      "application/vnd.bokehjs_exec.v0+json": {
       "id": "fe1e9e26-9759-408e-b410-6ff0039fd532"
      }
     },
     "output_type": "display_data"
    }
   ],
   "source": [
    "#Plotting CPI for Germany and the UK\n",
    "source = ColumnDataSource({'x': df.index, 'yde': df.DE, 'yuk': df.GB, 'Date': df.index.strftime('%b %Y')})\n",
    "tooltipsde = \"\"\"\n",
    "            <div>\n",
    "                <span style=\"font-size: 12px; font-weight: bold;\">Germany</span><br>\n",
    "                <span style=\"font-size: 12px;\">@Date:</span>\n",
    "                <span style=\"font-size: 12px; font-weight: bold;\">@yde{1.1}%</span>\n",
    "            </div>\n",
    "\"\"\"\n",
    "tooltipsuk = \"\"\"\n",
    "            <div>\n",
    "                <span style=\"font-size: 12px; font-weight: bold;\">United Kingdom</span><br>\n",
    "                <span style=\"font-size: 12px;\">@Date:</span>\n",
    "                <span style=\"font-size: 12px; font-weight: bold;\">@yuk{1.1}%</span>\n",
    "            </div>\n",
    "\"\"\"\n",
    "# horizontal line at zero\n",
    "hline = Span(location=0, dimension='width', line_color='gray', line_width=1)\n",
    "p = figure(width=700,height=300,x_axis_type='datetime',\n",
    "           tools=['pan,wheel_zoom,box_zoom,reset'], logo=None,\n",
    "           toolbar_location=None, toolbar_sticky=False)\n",
    "p.add_layout(hline)\n",
    "p.sizing_mode = 'scale_width'\n",
    "r1 = p.line('x', 'yde', source=source, legend='Germany', \n",
    "            line_width=2.5, color='#163172', alpha=1.0, level='overlay')\n",
    "r2 = p.line('x', 'yuk', source=source, legend='United Kingdom', \n",
    "            line_width=2.5, color='#09a8fa', alpha=1.0, level='overlay')\n",
    "p.legend.orientation = \"horizontal\"\n",
    "p.legend.location = \"top_center\"\n",
    "p.legend.border_line_alpha = 0\n",
    "p.legend.background_fill_alpha = 0\n",
    "p.legend.margin = 0\n",
    "p.legend.padding = 0\n",
    "p.legend.spacing = 15\n",
    "p.xgrid.grid_line_color = None\n",
    "p.outline_line_color = 'white'\n",
    "p.axis.axis_line_color = 'white'\n",
    "p.yaxis.minor_tick_line_color = None\n",
    "p.add_tools(HoverTool(tooltips=tooltipsde, renderers=[r1], show_arrow=False))\n",
    "p.add_tools(HoverTool(tooltips=tooltipsuk, renderers=[r2], show_arrow=False))\n",
    "p.toolbar.active_drag = None\n",
    "script, div = components(p)\n",
    "\n",
    "with open('C:/Working/bdecon.github.io/plots/eu_cpi.html', 'w') as text_file:\n",
    "    text_file.write('{} {}'.format(script, div))\n",
    "    \n",
    "show(p)"
   ]
  },
  {
   "cell_type": "markdown",
   "metadata": {},
   "source": [
    "# German CPI"
   ]
  },
  {
   "cell_type": "code",
   "execution_count": 8,
   "metadata": {
    "ExecuteTime": {
     "end_time": "2018-03-31T22:36:29.954911Z",
     "start_time": "2018-03-31T22:36:29.642395Z"
    },
    "code_folding": [
     0
    ]
   },
   "outputs": [
    {
     "data": {
      "text/html": [
       "\n",
       "<div class=\"bk-root\">\n",
       "    <div class=\"bk-plotdiv\" id=\"6d121808-1e6d-4623-ba5c-228d7eb24c2d\"></div>\n",
       "</div>"
      ]
     },
     "metadata": {},
     "output_type": "display_data"
    },
    {
     "data": {
      "application/javascript": [
       "(function(root) {\n",
       "  function embed_document(root) {\n",
       "    \n",
       "  var docs_json = {\"749bdb42-740c-4f75-b678-3c868aa5341f\":{\"roots\":{\"references\":[{\"attributes\":{},\"id\":\"65756a1c-d35d-4e6e-8802-756ff0441e63\",\"type\":\"DatetimeTickFormatter\"},{\"attributes\":{},\"id\":\"475b2d9a-89f4-4ee7-ab8c-39da80d1df78\",\"type\":\"BasicTickFormatter\"},{\"attributes\":{},\"id\":\"6073227c-e9e3-4269-8cd1-9762123fb718\",\"type\":\"PanTool\"},{\"attributes\":{\"source\":{\"id\":\"821f100b-365a-4345-bdef-996da3e0f4a8\",\"type\":\"ColumnDataSource\"}},\"id\":\"db02406a-1832-4dbb-9d7d-dbd429f992fd\",\"type\":\"CDSView\"},{\"attributes\":{},\"id\":\"a2bbefb7-6b0b-43a1-b30b-b380e8671eca\",\"type\":\"WheelZoomTool\"},{\"attributes\":{\"line_color\":\"Orange\",\"line_width\":3,\"x\":{\"field\":\"x\"},\"y\":{\"field\":\"y\"}},\"id\":\"427f4028-cb2c-4718-af9a-15544a367156\",\"type\":\"Line\"},{\"attributes\":{\"overlay\":{\"id\":\"8764bfe4-7a95-4f5f-8598-64624554fd44\",\"type\":\"BoxAnnotation\"}},\"id\":\"262b77e7-505a-4c71-a78d-906d454b6e87\",\"type\":\"BoxZoomTool\"},{\"attributes\":{},\"id\":\"b8432244-29ef-4540-b9f5-102a2f226d8b\",\"type\":\"ResetTool\"},{\"attributes\":{\"line_alpha\":0.1,\"line_color\":\"#1f77b4\",\"line_width\":3,\"x\":{\"field\":\"x\"},\"y\":{\"field\":\"y\"}},\"id\":\"36c9835d-7d11-498b-aaa4-70c86c6b0f14\",\"type\":\"Line\"},{\"attributes\":{\"bottom_units\":\"screen\",\"fill_alpha\":{\"value\":0.5},\"fill_color\":{\"value\":\"lightgrey\"},\"left_units\":\"screen\",\"level\":\"overlay\",\"line_alpha\":{\"value\":1.0},\"line_color\":{\"value\":\"black\"},\"line_dash\":[4,4],\"line_width\":{\"value\":2},\"plot\":null,\"render_mode\":\"css\",\"right_units\":\"screen\",\"top_units\":\"screen\"},\"id\":\"8764bfe4-7a95-4f5f-8598-64624554fd44\",\"type\":\"BoxAnnotation\"},{\"attributes\":{\"data_source\":{\"id\":\"821f100b-365a-4345-bdef-996da3e0f4a8\",\"type\":\"ColumnDataSource\"},\"glyph\":{\"id\":\"427f4028-cb2c-4718-af9a-15544a367156\",\"type\":\"Line\"},\"hover_glyph\":null,\"level\":\"overlay\",\"muted_glyph\":null,\"nonselection_glyph\":{\"id\":\"36c9835d-7d11-498b-aaa4-70c86c6b0f14\",\"type\":\"Line\"},\"selection_glyph\":null,\"view\":{\"id\":\"db02406a-1832-4dbb-9d7d-dbd429f992fd\",\"type\":\"CDSView\"}},\"id\":\"b3de2b4d-96e9-47a6-806d-083caaaf892f\",\"type\":\"GlyphRenderer\"},{\"attributes\":{\"plot\":null,\"text\":\"\"},\"id\":\"1bf3e27d-c44a-4bc1-a0cd-c1a86b18c086\",\"type\":\"Title\"},{\"attributes\":{\"callback\":null,\"column_names\":[\"x\",\"y\",\"Date\"],\"data\":{\"Date\":[\"Jan 1992\",\"Feb 1992\",\"Mar 1992\",\"Apr 1992\",\"May 1992\",\"Jun 1992\",\"Jul 1992\",\"Aug 1992\",\"Sep 1992\",\"Oct 1992\",\"Nov 1992\",\"Dec 1992\",\"Jan 1993\",\"Feb 1993\",\"Mar 1993\",\"Apr 1993\",\"May 1993\",\"Jun 1993\",\"Jul 1993\",\"Aug 1993\",\"Sep 1993\",\"Oct 1993\",\"Nov 1993\",\"Dec 1993\",\"Jan 1994\",\"Feb 1994\",\"Mar 1994\",\"Apr 1994\",\"May 1994\",\"Jun 1994\",\"Jul 1994\",\"Aug 1994\",\"Sep 1994\",\"Oct 1994\",\"Nov 1994\",\"Dec 1994\",\"Jan 1995\",\"Feb 1995\",\"Mar 1995\",\"Apr 1995\",\"May 1995\",\"Jun 1995\",\"Jul 1995\",\"Aug 1995\",\"Sep 1995\",\"Oct 1995\",\"Nov 1995\",\"Dec 1995\",\"Jan 1996\",\"Feb 1996\",\"Mar 1996\",\"Apr 1996\",\"May 1996\",\"Jun 1996\",\"Jul 1996\",\"Aug 1996\",\"Sep 1996\",\"Oct 1996\",\"Nov 1996\",\"Dec 1996\",\"Jan 1997\",\"Feb 1997\",\"Mar 1997\",\"Apr 1997\",\"May 1997\",\"Jun 1997\",\"Jul 1997\",\"Aug 1997\",\"Sep 1997\",\"Oct 1997\",\"Nov 1997\",\"Dec 1997\",\"Jan 1998\",\"Feb 1998\",\"Mar 1998\",\"Apr 1998\",\"May 1998\",\"Jun 1998\",\"Jul 1998\",\"Aug 1998\",\"Sep 1998\",\"Oct 1998\",\"Nov 1998\",\"Dec 1998\",\"Jan 1999\",\"Feb 1999\",\"Mar 1999\",\"Apr 1999\",\"May 1999\",\"Jun 1999\",\"Jul 1999\",\"Aug 1999\",\"Sep 1999\",\"Oct 1999\",\"Nov 1999\",\"Dec 1999\",\"Jan 2000\",\"Feb 2000\",\"Mar 2000\",\"Apr 2000\",\"May 2000\",\"Jun 2000\",\"Jul 2000\",\"Aug 2000\",\"Sep 2000\",\"Oct 2000\",\"Nov 2000\",\"Dec 2000\",\"Jan 2001\",\"Feb 2001\",\"Mar 2001\",\"Apr 2001\",\"May 2001\",\"Jun 2001\",\"Jul 2001\",\"Aug 2001\",\"Sep 2001\",\"Oct 2001\",\"Nov 2001\",\"Dec 2001\",\"Jan 2002\",\"Feb 2002\",\"Mar 2002\",\"Apr 2002\",\"May 2002\",\"Jun 2002\",\"Jul 2002\",\"Aug 2002\",\"Sep 2002\",\"Oct 2002\",\"Nov 2002\",\"Dec 2002\",\"Jan 2003\",\"Feb 2003\",\"Mar 2003\",\"Apr 2003\",\"May 2003\",\"Jun 2003\",\"Jul 2003\",\"Aug 2003\",\"Sep 2003\",\"Oct 2003\",\"Nov 2003\",\"Dec 2003\",\"Jan 2004\",\"Feb 2004\",\"Mar 2004\",\"Apr 2004\",\"May 2004\",\"Jun 2004\",\"Jul 2004\",\"Aug 2004\",\"Sep 2004\",\"Oct 2004\",\"Nov 2004\",\"Dec 2004\",\"Jan 2005\",\"Feb 2005\",\"Mar 2005\",\"Apr 2005\",\"May 2005\",\"Jun 2005\",\"Jul 2005\",\"Aug 2005\",\"Sep 2005\",\"Oct 2005\",\"Nov 2005\",\"Dec 2005\",\"Jan 2006\",\"Feb 2006\",\"Mar 2006\",\"Apr 2006\",\"May 2006\",\"Jun 2006\",\"Jul 2006\",\"Aug 2006\",\"Sep 2006\",\"Oct 2006\",\"Nov 2006\",\"Dec 2006\",\"Jan 2007\",\"Feb 2007\",\"Mar 2007\",\"Apr 2007\",\"May 2007\",\"Jun 2007\",\"Jul 2007\",\"Aug 2007\",\"Sep 2007\",\"Oct 2007\",\"Nov 2007\",\"Dec 2007\",\"Jan 2008\",\"Feb 2008\",\"Mar 2008\",\"Apr 2008\",\"May 2008\",\"Jun 2008\",\"Jul 2008\",\"Aug 2008\",\"Sep 2008\",\"Oct 2008\",\"Nov 2008\",\"Dec 2008\",\"Jan 2009\",\"Feb 2009\",\"Mar 2009\",\"Apr 2009\",\"May 2009\",\"Jun 2009\",\"Jul 2009\",\"Aug 2009\",\"Sep 2009\",\"Oct 2009\",\"Nov 2009\",\"Dec 2009\",\"Jan 2010\",\"Feb 2010\",\"Mar 2010\",\"Apr 2010\",\"May 2010\",\"Jun 2010\",\"Jul 2010\",\"Aug 2010\",\"Sep 2010\",\"Oct 2010\",\"Nov 2010\",\"Dec 2010\",\"Jan 2011\",\"Feb 2011\",\"Mar 2011\",\"Apr 2011\",\"May 2011\",\"Jun 2011\",\"Jul 2011\",\"Aug 2011\",\"Sep 2011\",\"Oct 2011\",\"Nov 2011\",\"Dec 2011\",\"Jan 2012\",\"Feb 2012\",\"Mar 2012\",\"Apr 2012\",\"May 2012\",\"Jun 2012\",\"Jul 2012\",\"Aug 2012\",\"Sep 2012\",\"Oct 2012\",\"Nov 2012\",\"Dec 2012\",\"Jan 2013\",\"Feb 2013\",\"Mar 2013\",\"Apr 2013\",\"May 2013\",\"Jun 2013\",\"Jul 2013\",\"Aug 2013\",\"Sep 2013\",\"Oct 2013\",\"Nov 2013\",\"Dec 2013\",\"Jan 2014\",\"Feb 2014\",\"Mar 2014\",\"Apr 2014\",\"May 2014\",\"Jun 2014\",\"Jul 2014\",\"Aug 2014\",\"Sep 2014\",\"Oct 2014\",\"Nov 2014\",\"Dec 2014\",\"Jan 2015\",\"Feb 2015\",\"Mar 2015\",\"Apr 2015\",\"May 2015\",\"Jun 2015\",\"Jul 2015\",\"Aug 2015\",\"Sep 2015\",\"Oct 2015\",\"Nov 2015\",\"Dec 2015\",\"Jan 2016\",\"Feb 2016\",\"Mar 2016\",\"Apr 2016\",\"May 2016\",\"Jun 2016\",\"Jul 2016\",\"Aug 2016\",\"Sep 2016\",\"Oct 2016\",\"Nov 2016\",\"Dec 2016\",\"Jan 2017\",\"Feb 2017\",\"Mar 2017\",\"Apr 2017\",\"May 2017\",\"Jun 2017\",\"Jul 2017\",\"Aug 2017\",\"Sep 2017\",\"Oct 2017\",\"Nov 2017\",\"Dec 2017\",\"Jan 2018\"],\"x\":{\"__ndarray__\":\"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\",\"dtype\":\"float64\",\"shape\":[313]},\"y\":{\"__ndarray__\":\"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\",\"dtype\":\"float64\",\"shape\":[313]}},\"selected\":null,\"selection_policy\":null},\"id\":\"821f100b-365a-4345-bdef-996da3e0f4a8\",\"type\":\"ColumnDataSource\"},{\"attributes\":{\"dimension\":1,\"plot\":{\"id\":\"04e2d0b0-5f64-4dbf-95f1-115b1d8fe60f\",\"subtype\":\"Figure\",\"type\":\"Plot\"},\"ticker\":{\"id\":\"39855340-fc35-445d-a6f9-dc10a993abe1\",\"type\":\"BasicTicker\"}},\"id\":\"f2a925a2-d291-4fc3-985c-48ab2dcfa7fc\",\"type\":\"Grid\"},{\"attributes\":{\"base\":24,\"mantissas\":[1,2,4,6,8,12],\"max_interval\":43200000.0,\"min_interval\":3600000.0,\"num_minor_ticks\":0},\"id\":\"9aa6b935-4989-4f59-8daf-694e7580a552\",\"type\":\"AdaptiveTicker\"},{\"attributes\":{\"days\":[1,2,3,4,5,6,7,8,9,10,11,12,13,14,15,16,17,18,19,20,21,22,23,24,25,26,27,28,29,30,31]},\"id\":\"8bdad9cf-b525-4ae9-9710-040b84901895\",\"type\":\"DaysTicker\"},{\"attributes\":{\"grid_line_color\":{\"value\":null},\"plot\":{\"id\":\"04e2d0b0-5f64-4dbf-95f1-115b1d8fe60f\",\"subtype\":\"Figure\",\"type\":\"Plot\"},\"ticker\":{\"id\":\"b8e56a3f-cd0f-4d1e-a6b1-c472c0282fec\",\"type\":\"DatetimeTicker\"}},\"id\":\"311eb4dd-87ef-4385-910d-928ebf83238d\",\"type\":\"Grid\"},{\"attributes\":{\"mantissas\":[1,2,5],\"max_interval\":500.0,\"num_minor_ticks\":0},\"id\":\"2ba669e4-43ed-4c73-8a5d-5e4b399c1a55\",\"type\":\"AdaptiveTicker\"},{\"attributes\":{\"base\":60,\"mantissas\":[1,2,5,10,15,20,30],\"max_interval\":1800000.0,\"min_interval\":1000.0,\"num_minor_ticks\":0},\"id\":\"dd16adc8-d700-415d-aa5d-ddddfa85649f\",\"type\":\"AdaptiveTicker\"},{\"attributes\":{\"days\":[1,4,7,10,13,16,19,22,25,28]},\"id\":\"024d22d6-fc69-4868-a41c-cb88dba7a2a0\",\"type\":\"DaysTicker\"},{\"attributes\":{\"active_drag\":null,\"active_inspect\":\"auto\",\"active_scroll\":\"auto\",\"active_tap\":\"auto\",\"logo\":null,\"tools\":[{\"id\":\"6073227c-e9e3-4269-8cd1-9762123fb718\",\"type\":\"PanTool\"},{\"id\":\"a2bbefb7-6b0b-43a1-b30b-b380e8671eca\",\"type\":\"WheelZoomTool\"},{\"id\":\"262b77e7-505a-4c71-a78d-906d454b6e87\",\"type\":\"BoxZoomTool\"},{\"id\":\"b8432244-29ef-4540-b9f5-102a2f226d8b\",\"type\":\"ResetTool\"},{\"id\":\"004eafca-f72a-49d9-87d0-b7e1bb1dbec6\",\"type\":\"HoverTool\"}]},\"id\":\"4e80af8d-b2ab-4d3a-826a-f4d2365557c1\",\"type\":\"Toolbar\"},{\"attributes\":{\"days\":[1,8,15,22]},\"id\":\"cfcff3b1-45c9-4e9e-9d1a-d27a143bfc4b\",\"type\":\"DaysTicker\"},{\"attributes\":{\"days\":[1,15]},\"id\":\"bd122dd3-a7ab-4039-bc56-e2325b5e1b05\",\"type\":\"DaysTicker\"},{\"attributes\":{\"months\":[0,1,2,3,4,5,6,7,8,9,10,11]},\"id\":\"dcc6766e-235a-4a67-8b01-916422327bd5\",\"type\":\"MonthsTicker\"},{\"attributes\":{\"axis_line_color\":{\"value\":\"white\"},\"formatter\":{\"id\":\"475b2d9a-89f4-4ee7-ab8c-39da80d1df78\",\"type\":\"BasicTickFormatter\"},\"plot\":{\"id\":\"04e2d0b0-5f64-4dbf-95f1-115b1d8fe60f\",\"subtype\":\"Figure\",\"type\":\"Plot\"},\"ticker\":{\"id\":\"39855340-fc35-445d-a6f9-dc10a993abe1\",\"type\":\"BasicTicker\"}},\"id\":\"f3816d06-827c-43a0-95e3-890514d31eaa\",\"type\":\"LinearAxis\"},{\"attributes\":{\"months\":[0,2,4,6,8,10]},\"id\":\"9346531d-918c-4a4e-b79d-a3b9b9baef70\",\"type\":\"MonthsTicker\"},{\"attributes\":{\"num_minor_ticks\":5,\"tickers\":[{\"id\":\"2ba669e4-43ed-4c73-8a5d-5e4b399c1a55\",\"type\":\"AdaptiveTicker\"},{\"id\":\"dd16adc8-d700-415d-aa5d-ddddfa85649f\",\"type\":\"AdaptiveTicker\"},{\"id\":\"9aa6b935-4989-4f59-8daf-694e7580a552\",\"type\":\"AdaptiveTicker\"},{\"id\":\"8bdad9cf-b525-4ae9-9710-040b84901895\",\"type\":\"DaysTicker\"},{\"id\":\"024d22d6-fc69-4868-a41c-cb88dba7a2a0\",\"type\":\"DaysTicker\"},{\"id\":\"cfcff3b1-45c9-4e9e-9d1a-d27a143bfc4b\",\"type\":\"DaysTicker\"},{\"id\":\"bd122dd3-a7ab-4039-bc56-e2325b5e1b05\",\"type\":\"DaysTicker\"},{\"id\":\"dcc6766e-235a-4a67-8b01-916422327bd5\",\"type\":\"MonthsTicker\"},{\"id\":\"9346531d-918c-4a4e-b79d-a3b9b9baef70\",\"type\":\"MonthsTicker\"},{\"id\":\"38a09aa8-acf0-4698-8687-96a1a288530d\",\"type\":\"MonthsTicker\"},{\"id\":\"64225723-b24a-4a01-9990-4a541b304df2\",\"type\":\"MonthsTicker\"},{\"id\":\"c405eb66-fd28-4384-83f0-26d7d3db00c3\",\"type\":\"YearsTicker\"}]},\"id\":\"b8e56a3f-cd0f-4d1e-a6b1-c472c0282fec\",\"type\":\"DatetimeTicker\"},{\"attributes\":{\"months\":[0,6]},\"id\":\"64225723-b24a-4a01-9990-4a541b304df2\",\"type\":\"MonthsTicker\"},{\"attributes\":{\"months\":[0,4,8]},\"id\":\"38a09aa8-acf0-4698-8687-96a1a288530d\",\"type\":\"MonthsTicker\"},{\"attributes\":{},\"id\":\"f13b91bc-408e-43d2-a30f-4014e1d7a900\",\"type\":\"LinearScale\"},{\"attributes\":{},\"id\":\"c405eb66-fd28-4384-83f0-26d7d3db00c3\",\"type\":\"YearsTicker\"},{\"attributes\":{\"callback\":null},\"id\":\"25fd5277-4720-4ab5-b556-473e764d2454\",\"type\":\"DataRange1d\"},{\"attributes\":{\"callback\":null,\"show_arrow\":false,\"tooltips\":\"\\n            <div>\\n                <span style=\\\"font-size: 12px;\\\">@Date:</span>\\n                <span style=\\\"font-size: 12px; font-weight: bold;\\\">@y{1.1}%</span>\\n            </div>\\n\"},\"id\":\"004eafca-f72a-49d9-87d0-b7e1bb1dbec6\",\"type\":\"HoverTool\"},{\"attributes\":{},\"id\":\"2f60a8b0-cd22-451b-adef-ab644af3ad32\",\"type\":\"LinearScale\"},{\"attributes\":{\"callback\":null},\"id\":\"9a56870a-3775-40bb-abe1-1a93b36ad472\",\"type\":\"DataRange1d\"},{\"attributes\":{},\"id\":\"39855340-fc35-445d-a6f9-dc10a993abe1\",\"type\":\"BasicTicker\"},{\"attributes\":{\"axis_line_color\":{\"value\":\"white\"},\"formatter\":{\"id\":\"65756a1c-d35d-4e6e-8802-756ff0441e63\",\"type\":\"DatetimeTickFormatter\"},\"plot\":{\"id\":\"04e2d0b0-5f64-4dbf-95f1-115b1d8fe60f\",\"subtype\":\"Figure\",\"type\":\"Plot\"},\"ticker\":{\"id\":\"b8e56a3f-cd0f-4d1e-a6b1-c472c0282fec\",\"type\":\"DatetimeTicker\"}},\"id\":\"7b176fdf-3d49-42e1-8013-7b0e45210232\",\"type\":\"DatetimeAxis\"},{\"attributes\":{\"below\":[{\"id\":\"7b176fdf-3d49-42e1-8013-7b0e45210232\",\"type\":\"DatetimeAxis\"}],\"left\":[{\"id\":\"f3816d06-827c-43a0-95e3-890514d31eaa\",\"type\":\"LinearAxis\"}],\"outline_line_color\":{\"value\":\"white\"},\"plot_height\":300,\"plot_width\":700,\"renderers\":[{\"id\":\"7b176fdf-3d49-42e1-8013-7b0e45210232\",\"type\":\"DatetimeAxis\"},{\"id\":\"311eb4dd-87ef-4385-910d-928ebf83238d\",\"type\":\"Grid\"},{\"id\":\"f3816d06-827c-43a0-95e3-890514d31eaa\",\"type\":\"LinearAxis\"},{\"id\":\"f2a925a2-d291-4fc3-985c-48ab2dcfa7fc\",\"type\":\"Grid\"},{\"id\":\"8764bfe4-7a95-4f5f-8598-64624554fd44\",\"type\":\"BoxAnnotation\"},{\"id\":\"88472758-8165-4bab-bef2-f444bf89a4e9\",\"type\":\"Span\"},{\"id\":\"b3de2b4d-96e9-47a6-806d-083caaaf892f\",\"type\":\"GlyphRenderer\"}],\"sizing_mode\":\"scale_width\",\"title\":{\"id\":\"1bf3e27d-c44a-4bc1-a0cd-c1a86b18c086\",\"type\":\"Title\"},\"toolbar\":{\"id\":\"4e80af8d-b2ab-4d3a-826a-f4d2365557c1\",\"type\":\"Toolbar\"},\"toolbar_location\":null,\"toolbar_sticky\":false,\"x_range\":{\"id\":\"9a56870a-3775-40bb-abe1-1a93b36ad472\",\"type\":\"DataRange1d\"},\"x_scale\":{\"id\":\"f13b91bc-408e-43d2-a30f-4014e1d7a900\",\"type\":\"LinearScale\"},\"y_range\":{\"id\":\"25fd5277-4720-4ab5-b556-473e764d2454\",\"type\":\"DataRange1d\"},\"y_scale\":{\"id\":\"2f60a8b0-cd22-451b-adef-ab644af3ad32\",\"type\":\"LinearScale\"}},\"id\":\"04e2d0b0-5f64-4dbf-95f1-115b1d8fe60f\",\"subtype\":\"Figure\",\"type\":\"Plot\"},{\"attributes\":{\"line_color\":{\"value\":\"gray\"},\"location\":0,\"plot\":{\"id\":\"04e2d0b0-5f64-4dbf-95f1-115b1d8fe60f\",\"subtype\":\"Figure\",\"type\":\"Plot\"}},\"id\":\"88472758-8165-4bab-bef2-f444bf89a4e9\",\"type\":\"Span\"}],\"root_ids\":[\"04e2d0b0-5f64-4dbf-95f1-115b1d8fe60f\"]},\"title\":\"Bokeh Application\",\"version\":\"0.12.15\"}};\n",
       "  var render_items = [{\"docid\":\"749bdb42-740c-4f75-b678-3c868aa5341f\",\"elementid\":\"6d121808-1e6d-4623-ba5c-228d7eb24c2d\",\"modelid\":\"04e2d0b0-5f64-4dbf-95f1-115b1d8fe60f\"}];\n",
       "  root.Bokeh.embed.embed_items_notebook(docs_json, render_items);\n",
       "\n",
       "  }\n",
       "  if (root.Bokeh !== undefined) {\n",
       "    embed_document(root);\n",
       "  } else {\n",
       "    var attempts = 0;\n",
       "    var timer = setInterval(function(root) {\n",
       "      if (root.Bokeh !== undefined) {\n",
       "        embed_document(root);\n",
       "        clearInterval(timer);\n",
       "      }\n",
       "      attempts++;\n",
       "      if (attempts > 100) {\n",
       "        console.log(\"Bokeh: ERROR: Unable to run BokehJS code because BokehJS library is missing\")\n",
       "        clearInterval(timer);\n",
       "      }\n",
       "    }, 10, root)\n",
       "  }\n",
       "})(window);"
      ],
      "application/vnd.bokehjs_exec.v0+json": ""
     },
     "metadata": {
      "application/vnd.bokehjs_exec.v0+json": {
       "id": "04e2d0b0-5f64-4dbf-95f1-115b1d8fe60f"
      }
     },
     "output_type": "display_data"
    }
   ],
   "source": [
    "# Germany CPI in Bokeh plot\n",
    "url = 'http://dataservices.imf.org/REST/SDMX_JSON.svc/'\n",
    "key = 'CompactData/IFS/M.DE.PCPI_PC_CP_A_PT' # adjust as needed\n",
    "data = requests.get('{}{}'.format(url,key)).json()\n",
    "# Navigate to observations in JSON data\n",
    "obs = data['CompactData']['DataSet']['Series']['Obs']\n",
    "\n",
    "# Create pandas dataframe from the observations\n",
    "df = pd.DataFrame(obs)[['@OBS_VALUE','@TIME_PERIOD']]\n",
    "df.columns = ['value', 'date']\n",
    "df.loc[:,'value'] = df['value'].astype(float).round(1)\n",
    "df = df.set_index(pd.to_datetime(df['date']))['value']\n",
    "\n",
    "source = ColumnDataSource({'x': df.index, 'y': df.values, 'Date': df.index.strftime('%b %Y')})\n",
    "tooltips = \"\"\"\n",
    "            <div>\n",
    "                <span style=\"font-size: 12px;\">@Date:</span>\n",
    "                <span style=\"font-size: 12px; font-weight: bold;\">@y{1.1}%</span>\n",
    "            </div>\n",
    "\"\"\"\n",
    "# horizontal line at zero\n",
    "hline = Span(location=0, dimension='width', line_color='gray', line_width=1)\n",
    "p = figure(width=700,height=300,x_axis_type='datetime',\n",
    "           tools=['pan,wheel_zoom,box_zoom,reset'], logo=None,\n",
    "           toolbar_location=None, toolbar_sticky=False)\n",
    "p.add_layout(hline)\n",
    "p.sizing_mode = 'scale_width'\n",
    "p.line('x', 'y', source = source, line_width=3, color='Orange', alpha=1.0, level='overlay')\n",
    "p.xgrid.grid_line_color = None\n",
    "p.outline_line_color = 'white'\n",
    "p.axis.axis_line_color = 'white'\n",
    "p.add_tools(HoverTool(tooltips=tooltips, line_policy='nearest', show_arrow=False))\n",
    "p.toolbar.active_drag = None\n",
    "script, div = components(p)\n",
    "\n",
    "with open('C:/Working/bdecon.github.io/plots/de_cpi.html', 'w') as text_file:\n",
    "    text_file.write('{} {}'.format(script, div))\n",
    "    \n",
    "show(p)"
   ]
  },
  {
   "cell_type": "markdown",
   "metadata": {},
   "source": [
    "# MXN per USD"
   ]
  },
  {
   "cell_type": "code",
   "execution_count": 9,
   "metadata": {
    "ExecuteTime": {
     "end_time": "2018-03-31T22:36:31.425119Z",
     "start_time": "2018-03-31T22:36:29.954911Z"
    },
    "code_folding": [
     0
    ]
   },
   "outputs": [
    {
     "data": {
      "text/html": [
       "\n",
       "<div class=\"bk-root\">\n",
       "    <div class=\"bk-plotdiv\" id=\"5e4f5255-3340-454e-9653-b491ae4d1f13\"></div>\n",
       "</div>"
      ]
     },
     "metadata": {},
     "output_type": "display_data"
    },
    {
     "data": {
      "application/javascript": [
       "(function(root) {\n",
       "  function embed_document(root) {\n",
       "    \n",
       "  var docs_json = {\"3616942c-392a-4737-b163-71a6e69eff57\":{\"roots\":{\"references\":[{\"attributes\":{\"callback\":null},\"id\":\"abc5f647-9941-4b36-a2ea-b9d595d22de9\",\"type\":\"DataRange1d\"},{\"attributes\":{\"callback\":null},\"id\":\"7d583ac9-f5b1-4e97-b9f7-ebf91865b30a\",\"type\":\"DataRange1d\"},{\"attributes\":{\"overlay\":{\"id\":\"f35e6f1f-2a08-4ae1-ab29-6b4f13e3e35d\",\"type\":\"BoxAnnotation\"}},\"id\":\"e9ef9248-9b5e-449a-b6ed-0ff98fe94349\",\"type\":\"BoxZoomTool\"},{\"attributes\":{\"below\":[{\"id\":\"2fcec95f-74bb-4344-ba53-2c7fefba7a24\",\"type\":\"DatetimeAxis\"}],\"left\":[{\"id\":\"b9e1471b-d71f-4de9-8cc6-cf71da94fe5d\",\"type\":\"LinearAxis\"}],\"outline_line_color\":{\"value\":\"white\"},\"plot_height\":300,\"plot_width\":700,\"renderers\":[{\"id\":\"2fcec95f-74bb-4344-ba53-2c7fefba7a24\",\"type\":\"DatetimeAxis\"},{\"id\":\"3d5456c2-7ee9-44c1-bf11-4916a88a4cb1\",\"type\":\"Grid\"},{\"id\":\"b9e1471b-d71f-4de9-8cc6-cf71da94fe5d\",\"type\":\"LinearAxis\"},{\"id\":\"79dc9bce-3b0c-4cc9-8f97-9fe8762cdf3d\",\"type\":\"Grid\"},{\"id\":\"f35e6f1f-2a08-4ae1-ab29-6b4f13e3e35d\",\"type\":\"BoxAnnotation\"},{\"id\":\"5b35f5e2-cfcd-428f-8c06-bcfb1c5bf4b4\",\"type\":\"GlyphRenderer\"}],\"sizing_mode\":\"scale_width\",\"title\":{\"id\":\"1f8cbba2-ffd0-42d9-9530-8aaccf65d5bf\",\"type\":\"Title\"},\"toolbar\":{\"id\":\"514422b0-2491-40bc-856c-f841261fb92b\",\"type\":\"Toolbar\"},\"toolbar_location\":null,\"toolbar_sticky\":false,\"x_range\":{\"id\":\"7d583ac9-f5b1-4e97-b9f7-ebf91865b30a\",\"type\":\"DataRange1d\"},\"x_scale\":{\"id\":\"3235acf9-4167-4b82-b7d0-3d0647d3d5b9\",\"type\":\"LinearScale\"},\"y_range\":{\"id\":\"abc5f647-9941-4b36-a2ea-b9d595d22de9\",\"type\":\"DataRange1d\"},\"y_scale\":{\"id\":\"1c289356-de69-41ed-84db-3208620b0530\",\"type\":\"LinearScale\"}},\"id\":\"2ae0ca72-2734-49f3-aec4-7f686433cc63\",\"subtype\":\"Figure\",\"type\":\"Plot\"},{\"attributes\":{\"active_drag\":null,\"active_inspect\":\"auto\",\"active_scroll\":\"auto\",\"active_tap\":\"auto\",\"logo\":null,\"tools\":[{\"id\":\"d9502011-f577-4d6b-a823-507cd3f287e2\",\"type\":\"PanTool\"},{\"id\":\"790d4893-143b-4ad2-83b6-40376b2f1c32\",\"type\":\"WheelZoomTool\"},{\"id\":\"e9ef9248-9b5e-449a-b6ed-0ff98fe94349\",\"type\":\"BoxZoomTool\"},{\"id\":\"7f02c2bb-9ab1-49ee-8de7-5c2ca5e57c1e\",\"type\":\"ResetTool\"},{\"id\":\"c763fb84-1895-4f50-835c-c54d13c2c169\",\"type\":\"HoverTool\"}]},\"id\":\"514422b0-2491-40bc-856c-f841261fb92b\",\"type\":\"Toolbar\"},{\"attributes\":{\"months\":[0,1,2,3,4,5,6,7,8,9,10,11]},\"id\":\"2a89931f-362c-4c43-8044-5b586daa33ac\",\"type\":\"MonthsTicker\"},{\"attributes\":{\"callback\":null,\"show_arrow\":false,\"tooltips\":\"\\n            <div>\\n                <span style=\\\"font-size: 12px;\\\">@Date:</span>\\n                <span style=\\\"font-size: 12px; font-weight: bold;\\\">@y</span>\\n            </div>\\n\"},\"id\":\"c763fb84-1895-4f50-835c-c54d13c2c169\",\"type\":\"HoverTool\"},{\"attributes\":{\"axis_line_color\":{\"value\":\"white\"},\"formatter\":{\"id\":\"4bc17104-15df-412f-852b-12b8e5801fbd\",\"type\":\"DatetimeTickFormatter\"},\"plot\":{\"id\":\"2ae0ca72-2734-49f3-aec4-7f686433cc63\",\"subtype\":\"Figure\",\"type\":\"Plot\"},\"ticker\":{\"id\":\"8e7bdf1b-f71b-4e80-8204-7ffbac8f75c9\",\"type\":\"DatetimeTicker\"}},\"id\":\"2fcec95f-74bb-4344-ba53-2c7fefba7a24\",\"type\":\"DatetimeAxis\"},{\"attributes\":{\"months\":[0,6]},\"id\":\"a9a5a3fb-06d1-47bf-922a-979c02c24c99\",\"type\":\"MonthsTicker\"},{\"attributes\":{\"callback\":null,\"column_names\":[\"x\",\"y\",\"Date\"],\"data\":{\"Date\":[\"2018-02-28\",\"2018-02-27\",\"2018-02-26\",\"2018-02-23\",\"2018-02-22\",\"2018-02-21\",\"2018-02-20\",\"2018-02-19\",\"2018-02-16\",\"2018-02-15\",\"2018-02-14\",\"2018-02-13\",\"2018-02-12\",\"2018-02-09\",\"2018-02-08\",\"2018-02-07\",\"2018-02-06\",\"2018-02-05\",\"2018-02-02\",\"2018-02-01\",\"2018-01-31\",\"2018-01-30\",\"2018-01-29\",\"2018-01-26\",\"2018-01-25\",\"2018-01-24\",\"2018-01-23\",\"2018-01-22\",\"2018-01-19\",\"2018-01-18\",\"2018-01-17\",\"2018-01-16\",\"2018-01-15\",\"2018-01-12\",\"2018-01-11\",\"2018-01-10\",\"2018-01-09\",\"2018-01-08\",\"2018-01-05\",\"2018-01-04\",\"2018-01-03\",\"2018-01-02\",\"2018-01-01\",\"2017-12-29\",\"2017-12-28\",\"2017-12-27\",\"2017-12-26\",\"2017-12-25\",\"2017-12-22\",\"2017-12-21\",\"2017-12-20\",\"2017-12-19\",\"2017-12-18\",\"2017-12-15\",\"2017-12-14\",\"2017-12-13\",\"2017-12-12\",\"2017-12-11\",\"2017-12-08\",\"2017-12-07\",\"2017-12-06\",\"2017-12-05\",\"2017-12-04\",\"2017-12-01\",\"2017-11-30\",\"2017-11-29\",\"2017-11-28\",\"2017-11-27\",\"2017-11-24\",\"2017-11-23\",\"2017-11-22\",\"2017-11-21\",\"2017-11-20\",\"2017-11-15\",\"2017-11-14\",\"2017-11-13\",\"2017-11-10\",\"2017-11-09\",\"2017-11-08\",\"2017-11-07\",\"2017-11-06\",\"2017-11-03\",\"2017-11-02\",\"2017-11-01\",\"2017-10-31\",\"2017-10-30\",\"2017-10-27\",\"2017-10-26\",\"2017-10-25\",\"2017-10-24\",\"2017-10-23\",\"2017-10-20\",\"2017-10-19\",\"2017-10-18\",\"2017-10-17\",\"2017-10-16\",\"2017-10-13\",\"2017-10-12\",\"2017-10-11\",\"2017-10-10\",\"2017-10-09\",\"2017-10-06\",\"2017-10-05\",\"2017-10-04\",\"2017-10-03\",\"2017-10-02\",\"2017-09-29\",\"2017-09-28\",\"2017-09-27\",\"2017-09-26\",\"2017-09-25\",\"2017-09-22\",\"2017-09-21\",\"2017-09-20\",\"2017-09-19\",\"2017-09-18\",\"2017-09-15\",\"2017-09-14\",\"2017-09-13\",\"2017-09-12\",\"2017-09-11\",\"2017-09-08\",\"2017-09-07\",\"2017-09-06\",\"2017-09-05\",\"2017-09-04\",\"2017-09-01\",\"2017-08-31\",\"2017-08-30\",\"2017-08-29\",\"2017-08-28\",\"2017-08-25\",\"2017-08-24\",\"2017-08-23\",\"2017-08-22\",\"2017-08-21\",\"2017-08-18\",\"2017-08-17\",\"2017-08-16\",\"2017-08-15\",\"2017-08-14\",\"2017-08-11\",\"2017-08-10\",\"2017-08-09\",\"2017-08-08\",\"2017-08-07\",\"2017-08-04\",\"2017-08-03\",\"2017-08-02\",\"2017-08-01\",\"2017-07-31\",\"2017-07-28\",\"2017-07-27\",\"2017-07-26\",\"2017-07-25\",\"2017-07-24\",\"2017-07-21\",\"2017-07-20\",\"2017-07-19\",\"2017-07-18\",\"2017-07-17\",\"2017-07-14\",\"2017-07-13\",\"2017-07-12\",\"2017-07-10\",\"2017-07-07\",\"2017-07-06\",\"2017-07-05\",\"2017-07-04\",\"2017-07-03\",\"2017-06-30\",\"2017-06-29\",\"2017-06-28\",\"2017-06-27\",\"2017-06-26\",\"2017-06-23\",\"2017-06-22\",\"2017-06-21\",\"2017-06-20\",\"2017-06-19\",\"2017-06-16\",\"2017-06-15\",\"2017-06-14\",\"2017-06-13\",\"2017-06-12\",\"2017-06-09\",\"2017-06-08\",\"2017-06-07\",\"2017-06-06\",\"2017-06-05\",\"2017-06-02\",\"2017-06-01\",\"2017-05-31\",\"2017-05-30\",\"2017-05-29\",\"2017-05-26\",\"2017-05-25\",\"2017-05-24\",\"2017-05-23\",\"2017-05-22\",\"2017-05-19\",\"2017-05-18\",\"2017-05-17\",\"2017-05-16\",\"2017-05-15\",\"2017-05-12\",\"2017-05-11\",\"2017-05-10\",\"2017-05-09\",\"2017-05-08\",\"2017-05-05\",\"2017-05-04\",\"2017-05-03\",\"2017-05-02\",\"2017-05-01\",\"2017-04-28\",\"2017-04-27\",\"2017-04-26\",\"2017-04-25\",\"2017-04-24\",\"2017-04-21\",\"2017-04-20\",\"2017-04-19\",\"2017-04-18\",\"2017-04-17\",\"2017-04-14\",\"2017-04-13\",\"2017-04-12\",\"2017-04-11\",\"2017-04-10\",\"2017-04-07\",\"2017-04-06\",\"2017-04-05\",\"2017-04-04\",\"2017-04-03\",\"2017-03-31\",\"2017-03-30\",\"2017-03-29\",\"2017-03-28\",\"2017-03-27\",\"2017-03-24\",\"2017-03-23\",\"2017-03-22\",\"2017-03-21\",\"2017-03-20\",\"2017-03-17\",\"2017-03-16\",\"2017-03-15\",\"2017-03-14\",\"2017-03-13\",\"2017-03-10\",\"2017-03-09\",\"2017-03-08\",\"2017-03-07\",\"2017-03-06\",\"2017-03-03\",\"2017-03-02\",\"2017-03-01\",\"2017-02-28\",\"2017-02-27\",\"2017-02-24\",\"2017-02-23\",\"2017-02-22\",\"2017-02-21\",\"2017-02-20\",\"2017-02-17\",\"2017-02-16\",\"2017-02-15\",\"2017-02-14\",\"2017-02-13\",\"2017-02-10\",\"2017-02-09\",\"2017-02-08\",\"2017-02-07\",\"2017-02-06\",\"2017-02-03\",\"2017-02-02\",\"2017-02-01\",\"2017-01-31\",\"2017-01-30\",\"2017-01-27\",\"2017-01-26\",\"2017-01-25\",\"2017-01-24\",\"2017-01-23\",\"2017-01-20\",\"2017-01-19\",\"2017-01-18\",\"2017-01-17\",\"2017-01-16\",\"2017-01-13\",\"2017-01-12\",\"2017-01-11\",\"2017-01-10\",\"2017-01-09\",\"2017-01-06\",\"2017-01-05\",\"2017-01-04\",\"2017-01-03\",\"2017-01-02\",\"2016-12-30\",\"2016-12-29\",\"2016-12-28\",\"2016-12-27\",\"2016-12-26\",\"2016-12-23\",\"2016-12-22\",\"2016-12-21\",\"2016-12-20\",\"2016-12-19\",\"2016-12-16\",\"2016-12-15\",\"2016-12-14\",\"2016-12-13\",\"2016-12-12\",\"2016-12-09\",\"2016-12-08\",\"2016-12-07\",\"2016-12-06\",\"2016-12-05\",\"2016-12-02\",\"2016-12-01\",\"2016-11-30\",\"2016-11-29\",\"2016-11-28\",\"2016-11-25\",\"2016-11-24\",\"2016-11-23\",\"2016-11-22\",\"2016-11-21\",\"2016-11-18\",\"2016-11-17\",\"2016-11-16\",\"2016-11-15\",\"2016-11-14\",\"2016-11-11\",\"2016-11-10\",\"2016-11-09\",\"2016-11-08\",\"2016-11-07\",\"2016-11-04\",\"2016-11-03\",\"2016-11-02\",\"2016-11-01\",\"2016-10-31\",\"2016-10-28\",\"2016-10-27\",\"2016-10-26\",\"2016-10-25\",\"2016-10-24\",\"2016-10-21\",\"2016-10-20\",\"2016-10-19\",\"2016-10-18\",\"2016-10-17\",\"2016-10-14\",\"2016-10-13\",\"2016-10-12\",\"2016-10-11\",\"2016-10-10\",\"2016-10-07\",\"2016-10-06\",\"2016-10-05\",\"2016-10-04\",\"2016-10-03\",\"2016-09-30\",\"2016-09-29\",\"2016-09-28\",\"2016-09-27\",\"2016-09-26\",\"2016-09-23\",\"2016-09-22\",\"2016-09-21\",\"2016-09-20\",\"2016-09-19\",\"2016-09-16\",\"2016-09-15\",\"2016-09-14\",\"2016-09-13\",\"2016-09-12\",\"2016-09-09\",\"2016-09-08\",\"2016-09-07\",\"2016-09-06\",\"2016-09-05\",\"2016-09-02\",\"2016-09-01\",\"2016-08-31\",\"2016-08-30\",\"2016-08-29\",\"2016-08-26\",\"2016-08-25\",\"2016-08-24\",\"2016-08-23\",\"2016-08-22\",\"2016-08-19\",\"2016-08-18\",\"2016-08-17\",\"2016-08-16\",\"2016-08-15\",\"2016-08-12\",\"2016-08-11\",\"2016-08-10\",\"2016-08-09\",\"2016-08-08\",\"2016-08-05\",\"2016-08-04\",\"2016-08-03\",\"2016-08-02\",\"2016-08-01\",\"2016-07-29\",\"2016-07-28\",\"2016-07-27\",\"2016-07-26\",\"2016-07-25\",\"2016-07-22\",\"2016-07-21\",\"2016-07-20\",\"2016-07-19\",\"2016-07-18\",\"2016-07-15\",\"2016-07-14\",\"2016-07-13\",\"2016-07-12\",\"2016-07-11\",\"2016-07-08\",\"2016-07-07\",\"2016-07-06\",\"2016-07-05\",\"2016-07-04\",\"2016-07-01\",\"2016-06-30\",\"2016-06-29\",\"2016-06-28\",\"2016-06-27\",\"2016-06-24\",\"2016-06-23\",\"2016-06-22\",\"2016-06-21\",\"2016-06-20\",\"2016-06-17\",\"2016-06-16\",\"2016-06-15\",\"2016-06-14\",\"2016-06-13\",\"2016-06-10\",\"2016-06-09\",\"2016-06-08\",\"2016-06-07\",\"2016-06-06\",\"2016-06-03\",\"2016-06-02\",\"2016-06-01\",\"2016-05-31\",\"2016-05-30\",\"2016-05-27\",\"2016-05-26\",\"2016-05-25\",\"2016-05-24\",\"2016-05-23\",\"2016-05-20\",\"2016-05-19\",\"2016-05-18\",\"2016-05-17\",\"2016-05-16\",\"2016-05-13\",\"2016-05-12\",\"2016-05-11\",\"2016-05-10\",\"2016-05-09\",\"2016-05-06\",\"2016-05-05\",\"2016-05-04\",\"2016-05-03\",\"2016-05-02\",\"2016-04-29\",\"2016-04-28\",\"2016-04-27\",\"2016-04-26\",\"2016-04-25\",\"2016-04-22\",\"2016-04-21\",\"2016-04-20\",\"2016-04-19\",\"2016-04-18\",\"2016-04-17\",\"2016-04-15\",\"2016-04-14\",\"2016-04-13\",\"2016-04-12\",\"2016-04-11\",\"2016-04-10\",\"2016-04-08\",\"2016-04-07\",\"2016-04-06\",\"2016-04-05\",\"2016-04-04\",\"2016-04-03\",\"2016-04-01\",\"2016-03-31\",\"2016-03-30\",\"2016-03-29\",\"2016-03-28\",\"2016-03-27\",\"2016-03-25\",\"2016-03-24\",\"2016-03-23\",\"2016-03-22\",\"2016-03-21\",\"2016-03-20\",\"2016-03-18\",\"2016-03-17\",\"2016-03-16\",\"2016-03-15\",\"2016-03-14\",\"2016-03-13\",\"2016-03-11\",\"2016-03-10\",\"2016-03-09\",\"2016-03-08\",\"2016-03-07\",\"2016-03-06\",\"2016-03-04\",\"2016-03-03\",\"2016-03-02\",\"2016-03-01\",\"2016-02-29\",\"2016-02-28\",\"2016-02-26\",\"2016-02-25\",\"2016-02-24\",\"2016-02-23\",\"2016-02-22\",\"2016-02-21\",\"2016-02-19\",\"2016-02-18\",\"2016-02-17\",\"2016-02-16\",\"2016-02-15\",\"2016-02-14\",\"2016-02-12\",\"2016-02-11\",\"2016-02-10\",\"2016-02-09\",\"2016-02-08\",\"2016-02-07\",\"2016-02-05\",\"2016-02-04\",\"2016-02-03\",\"2016-02-02\",\"2016-02-01\",\"2016-01-31\",\"2016-01-29\",\"2016-01-28\",\"2016-01-27\",\"2016-01-26\",\"2016-01-25\",\"2016-01-24\",\"2016-01-22\",\"2016-01-21\",\"2016-01-20\",\"2016-01-19\",\"2016-01-18\",\"2016-01-17\",\"2016-01-15\",\"2016-01-14\",\"2016-01-13\",\"2016-01-12\",\"2016-01-11\",\"2016-01-10\",\"2016-01-08\",\"2016-01-07\",\"2016-01-06\",\"2016-01-05\",\"2016-01-04\",\"2016-01-03\",\"2016-01-01\"],\"x\":{\"__ndarray__\":\"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\",\"dtype\":\"float64\",\"shape\":[577]},\"y\":{\"__ndarray__\":\"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\",\"dtype\":\"float64\",\"shape\":[577]}},\"selected\":null,\"selection_policy\":null},\"id\":\"8cfcbafb-808c-48a2-b9cf-880fcac23dca\",\"type\":\"ColumnDataSource\"},{\"attributes\":{\"axis_line_color\":{\"value\":\"white\"},\"formatter\":{\"id\":\"b4eeb156-cc07-4e10-a1a9-bc7f7071a9fa\",\"type\":\"BasicTickFormatter\"},\"plot\":{\"id\":\"2ae0ca72-2734-49f3-aec4-7f686433cc63\",\"subtype\":\"Figure\",\"type\":\"Plot\"},\"ticker\":{\"id\":\"a3eaf30b-d562-4efe-a49c-66edbb340e2e\",\"type\":\"BasicTicker\"}},\"id\":\"b9e1471b-d71f-4de9-8cc6-cf71da94fe5d\",\"type\":\"LinearAxis\"},{\"attributes\":{},\"id\":\"ee09a264-9844-4cba-a6da-d70d549d9eab\",\"type\":\"YearsTicker\"},{\"attributes\":{\"grid_line_color\":{\"value\":null},\"plot\":{\"id\":\"2ae0ca72-2734-49f3-aec4-7f686433cc63\",\"subtype\":\"Figure\",\"type\":\"Plot\"},\"ticker\":{\"id\":\"8e7bdf1b-f71b-4e80-8204-7ffbac8f75c9\",\"type\":\"DatetimeTicker\"}},\"id\":\"3d5456c2-7ee9-44c1-bf11-4916a88a4cb1\",\"type\":\"Grid\"},{\"attributes\":{},\"id\":\"4bc17104-15df-412f-852b-12b8e5801fbd\",\"type\":\"DatetimeTickFormatter\"},{\"attributes\":{\"days\":[1,15]},\"id\":\"f2b4d01a-b5fe-4d11-9026-97fb232756f5\",\"type\":\"DaysTicker\"},{\"attributes\":{},\"id\":\"b4eeb156-cc07-4e10-a1a9-bc7f7071a9fa\",\"type\":\"BasicTickFormatter\"},{\"attributes\":{},\"id\":\"1c289356-de69-41ed-84db-3208620b0530\",\"type\":\"LinearScale\"},{\"attributes\":{\"days\":[1,4,7,10,13,16,19,22,25,28]},\"id\":\"16299453-9603-4676-a60c-fce470756695\",\"type\":\"DaysTicker\"},{\"attributes\":{\"line_alpha\":0.1,\"line_color\":\"#1f77b4\",\"line_width\":3,\"x\":{\"field\":\"x\"},\"y\":{\"field\":\"y\"}},\"id\":\"7f82163f-6c77-47d0-b429-749b6a054f5a\",\"type\":\"Line\"},{\"attributes\":{\"mantissas\":[1,2,5],\"max_interval\":500.0,\"num_minor_ticks\":0},\"id\":\"ba06b9b4-9fa9-4653-8136-f730fcb62a98\",\"type\":\"AdaptiveTicker\"},{\"attributes\":{\"data_source\":{\"id\":\"8cfcbafb-808c-48a2-b9cf-880fcac23dca\",\"type\":\"ColumnDataSource\"},\"glyph\":{\"id\":\"2f0af896-f1f2-4605-a18d-21f6af21327b\",\"type\":\"Line\"},\"hover_glyph\":null,\"muted_glyph\":null,\"nonselection_glyph\":{\"id\":\"7f82163f-6c77-47d0-b429-749b6a054f5a\",\"type\":\"Line\"},\"selection_glyph\":null,\"view\":{\"id\":\"f2e397e4-c8e4-498a-89de-5ca1c4eab29e\",\"type\":\"CDSView\"}},\"id\":\"5b35f5e2-cfcd-428f-8c06-bcfb1c5bf4b4\",\"type\":\"GlyphRenderer\"},{\"attributes\":{\"base\":24,\"mantissas\":[1,2,4,6,8,12],\"max_interval\":43200000.0,\"min_interval\":3600000.0,\"num_minor_ticks\":0},\"id\":\"370c5b4c-ee58-47bd-b764-98754415a1c5\",\"type\":\"AdaptiveTicker\"},{\"attributes\":{},\"id\":\"790d4893-143b-4ad2-83b6-40376b2f1c32\",\"type\":\"WheelZoomTool\"},{\"attributes\":{\"months\":[0,2,4,6,8,10]},\"id\":\"eaddd4d4-6416-417b-ac79-2e422d46c3ac\",\"type\":\"MonthsTicker\"},{\"attributes\":{\"dimension\":1,\"plot\":{\"id\":\"2ae0ca72-2734-49f3-aec4-7f686433cc63\",\"subtype\":\"Figure\",\"type\":\"Plot\"},\"ticker\":{\"id\":\"a3eaf30b-d562-4efe-a49c-66edbb340e2e\",\"type\":\"BasicTicker\"}},\"id\":\"79dc9bce-3b0c-4cc9-8f97-9fe8762cdf3d\",\"type\":\"Grid\"},{\"attributes\":{\"base\":60,\"mantissas\":[1,2,5,10,15,20,30],\"max_interval\":1800000.0,\"min_interval\":1000.0,\"num_minor_ticks\":0},\"id\":\"7af64ab5-c01a-456a-b6e3-88b04c0c5fba\",\"type\":\"AdaptiveTicker\"},{\"attributes\":{\"bottom_units\":\"screen\",\"fill_alpha\":{\"value\":0.5},\"fill_color\":{\"value\":\"lightgrey\"},\"left_units\":\"screen\",\"level\":\"overlay\",\"line_alpha\":{\"value\":1.0},\"line_color\":{\"value\":\"black\"},\"line_dash\":[4,4],\"line_width\":{\"value\":2},\"plot\":null,\"render_mode\":\"css\",\"right_units\":\"screen\",\"top_units\":\"screen\"},\"id\":\"f35e6f1f-2a08-4ae1-ab29-6b4f13e3e35d\",\"type\":\"BoxAnnotation\"},{\"attributes\":{\"source\":{\"id\":\"8cfcbafb-808c-48a2-b9cf-880fcac23dca\",\"type\":\"ColumnDataSource\"}},\"id\":\"f2e397e4-c8e4-498a-89de-5ca1c4eab29e\",\"type\":\"CDSView\"},{\"attributes\":{},\"id\":\"d9502011-f577-4d6b-a823-507cd3f287e2\",\"type\":\"PanTool\"},{\"attributes\":{\"days\":[1,8,15,22]},\"id\":\"08b5c173-c6dd-4e0a-95f7-33e07dd1990f\",\"type\":\"DaysTicker\"},{\"attributes\":{\"months\":[0,4,8]},\"id\":\"e7909e93-cee1-4006-8adf-7a4638d1dc34\",\"type\":\"MonthsTicker\"},{\"attributes\":{\"days\":[1,2,3,4,5,6,7,8,9,10,11,12,13,14,15,16,17,18,19,20,21,22,23,24,25,26,27,28,29,30,31]},\"id\":\"f923df53-a172-43c0-9d93-c6758a9a41e7\",\"type\":\"DaysTicker\"},{\"attributes\":{},\"id\":\"7f02c2bb-9ab1-49ee-8de7-5c2ca5e57c1e\",\"type\":\"ResetTool\"},{\"attributes\":{},\"id\":\"3235acf9-4167-4b82-b7d0-3d0647d3d5b9\",\"type\":\"LinearScale\"},{\"attributes\":{\"plot\":null,\"text\":\"\",\"text_font_size\":{\"value\":\"14pt\"}},\"id\":\"1f8cbba2-ffd0-42d9-9530-8aaccf65d5bf\",\"type\":\"Title\"},{\"attributes\":{\"num_minor_ticks\":5,\"tickers\":[{\"id\":\"ba06b9b4-9fa9-4653-8136-f730fcb62a98\",\"type\":\"AdaptiveTicker\"},{\"id\":\"7af64ab5-c01a-456a-b6e3-88b04c0c5fba\",\"type\":\"AdaptiveTicker\"},{\"id\":\"370c5b4c-ee58-47bd-b764-98754415a1c5\",\"type\":\"AdaptiveTicker\"},{\"id\":\"f923df53-a172-43c0-9d93-c6758a9a41e7\",\"type\":\"DaysTicker\"},{\"id\":\"16299453-9603-4676-a60c-fce470756695\",\"type\":\"DaysTicker\"},{\"id\":\"08b5c173-c6dd-4e0a-95f7-33e07dd1990f\",\"type\":\"DaysTicker\"},{\"id\":\"f2b4d01a-b5fe-4d11-9026-97fb232756f5\",\"type\":\"DaysTicker\"},{\"id\":\"2a89931f-362c-4c43-8044-5b586daa33ac\",\"type\":\"MonthsTicker\"},{\"id\":\"eaddd4d4-6416-417b-ac79-2e422d46c3ac\",\"type\":\"MonthsTicker\"},{\"id\":\"e7909e93-cee1-4006-8adf-7a4638d1dc34\",\"type\":\"MonthsTicker\"},{\"id\":\"a9a5a3fb-06d1-47bf-922a-979c02c24c99\",\"type\":\"MonthsTicker\"},{\"id\":\"ee09a264-9844-4cba-a6da-d70d549d9eab\",\"type\":\"YearsTicker\"}]},\"id\":\"8e7bdf1b-f71b-4e80-8204-7ffbac8f75c9\",\"type\":\"DatetimeTicker\"},{\"attributes\":{\"line_color\":\"Blue\",\"line_width\":3,\"x\":{\"field\":\"x\"},\"y\":{\"field\":\"y\"}},\"id\":\"2f0af896-f1f2-4605-a18d-21f6af21327b\",\"type\":\"Line\"},{\"attributes\":{},\"id\":\"a3eaf30b-d562-4efe-a49c-66edbb340e2e\",\"type\":\"BasicTicker\"}],\"root_ids\":[\"2ae0ca72-2734-49f3-aec4-7f686433cc63\"]},\"title\":\"Bokeh Application\",\"version\":\"0.12.15\"}};\n",
       "  var render_items = [{\"docid\":\"3616942c-392a-4737-b163-71a6e69eff57\",\"elementid\":\"5e4f5255-3340-454e-9653-b491ae4d1f13\",\"modelid\":\"2ae0ca72-2734-49f3-aec4-7f686433cc63\"}];\n",
       "  root.Bokeh.embed.embed_items_notebook(docs_json, render_items);\n",
       "\n",
       "  }\n",
       "  if (root.Bokeh !== undefined) {\n",
       "    embed_document(root);\n",
       "  } else {\n",
       "    var attempts = 0;\n",
       "    var timer = setInterval(function(root) {\n",
       "      if (root.Bokeh !== undefined) {\n",
       "        embed_document(root);\n",
       "        clearInterval(timer);\n",
       "      }\n",
       "      attempts++;\n",
       "      if (attempts > 100) {\n",
       "        console.log(\"Bokeh: ERROR: Unable to run BokehJS code because BokehJS library is missing\")\n",
       "        clearInterval(timer);\n",
       "      }\n",
       "    }, 10, root)\n",
       "  }\n",
       "})(window);"
      ],
      "application/vnd.bokehjs_exec.v0+json": ""
     },
     "metadata": {
      "application/vnd.bokehjs_exec.v0+json": {
       "id": "2ae0ca72-2734-49f3-aec4-7f686433cc63"
      }
     },
     "output_type": "display_data"
    }
   ],
   "source": [
    "# USD MXN exchange rate\n",
    "url = f'https://www.quandl.com/api/v3/datasets/CURRFX/USDMXN.csv?api_key={config.key}&start_date=2016-01-01'\n",
    "df = pd.read_csv(url, parse_dates=['Date'], index_col='Date')\n",
    "\n",
    "source = ColumnDataSource({'x': df.index, 'y': df['Rate'], 'Date': df.index.format()})\n",
    "tooltips = \"\"\"\n",
    "            <div>\n",
    "                <span style=\"font-size: 12px;\">@Date:</span>\n",
    "                <span style=\"font-size: 12px; font-weight: bold;\">@y</span>\n",
    "            </div>\n",
    "\"\"\"\n",
    "p = figure(width=700,height=300,x_axis_type='datetime',tools=['pan, wheel_zoom,box_zoom,reset'],\n",
    "           logo=None, toolbar_location=None, toolbar_sticky=False)\n",
    "#p.title.text = 'Mexican Pesos (MXN) per U.S. Dollar (USD)'\n",
    "p.title.text_font_size='14pt'\n",
    "#p.yaxis.axis_label = 'MXN/USD'\n",
    "p.sizing_mode = 'scale_width'\n",
    "p.line('x', 'y', source = source, line_width=3, color='Blue')\n",
    "p.xgrid.grid_line_color = None\n",
    "p.outline_line_color = 'white'\n",
    "p.axis.axis_line_color = 'white'\n",
    "p.add_tools(HoverTool(tooltips=tooltips, show_arrow=False, point_policy='snap_to_data'))\n",
    "p.toolbar.active_drag = None\n",
    "script, div = components(p)\n",
    "\n",
    "with open('C:/Working/bdecon.github.io/plots/usdmxn.html', 'w') as text_file:\n",
    "    text_file.write('{} {}'.format(script, div))\n",
    "    \n",
    "show(p)"
   ]
  },
  {
   "cell_type": "markdown",
   "metadata": {},
   "source": [
    "# New Orders"
   ]
  },
  {
   "cell_type": "code",
   "execution_count": 3,
   "metadata": {
    "ExecuteTime": {
     "end_time": "2018-04-26T12:40:34.974598Z",
     "start_time": "2018-04-26T12:40:34.295395Z"
    },
    "code_folding": []
   },
   "outputs": [],
   "source": [
    "# New orders for capital goods excluding defense or aircraft\n",
    "key = config.census_key\n",
    "base = 'https://api.census.gov/data/timeseries/eits/m3'\n",
    "param = 'cell_value,time_slot_id'\n",
    "t = '&time=from+2015'\n",
    "cat = '&category_code=NXA'\n",
    "dtc = '&data_type_code=MPCNO'\n",
    "oth = '&for=us&seasonally_adj=yes'\n",
    "\n",
    "url = f'{base}?get={param}&key={key}{cat}{dtc}{t}{oth}'\n",
    "\n",
    "r = requests.get(url).json()\n",
    "\n",
    "df = pd.DataFrame({'date': [pd.to_datetime(i[4]) for i in r[1:]], \n",
    "                   'value': [float(i[0]) for i in r[1:]]}).sort_values('date')"
   ]
  },
  {
   "cell_type": "code",
   "execution_count": 4,
   "metadata": {
    "ExecuteTime": {
     "end_time": "2018-04-26T12:41:05.817248Z",
     "start_time": "2018-04-26T12:41:05.805738Z"
    },
    "code_folding": []
   },
   "outputs": [],
   "source": [
    "# Manually input values from advanced report\n",
    "df = df.set_index('date')\n",
    "df.at[pd.to_datetime('2018-02-01')] = 0.9\n",
    "df.at[pd.to_datetime('2018-03-01')] = -0.1"
   ]
  },
  {
   "cell_type": "code",
   "execution_count": 5,
   "metadata": {
    "ExecuteTime": {
     "end_time": "2018-04-26T12:41:10.028106Z",
     "start_time": "2018-04-26T12:41:09.929268Z"
    },
    "code_folding": []
   },
   "outputs": [
    {
     "data": {
      "text/html": [
       "\n",
       "<div class=\"bk-root\">\n",
       "    <div class=\"bk-plotdiv\" id=\"569f9b80-3114-4310-bb2d-aa77762daf16\"></div>\n",
       "</div>"
      ]
     },
     "metadata": {},
     "output_type": "display_data"
    },
    {
     "data": {
      "application/javascript": [
       "(function(root) {\n",
       "  function embed_document(root) {\n",
       "    \n",
       "  var docs_json = {\"64f423a6-a328-4008-8782-e93dc8240287\":{\"roots\":{\"references\":[{\"attributes\":{\"days\":[1,2,3,4,5,6,7,8,9,10,11,12,13,14,15,16,17,18,19,20,21,22,23,24,25,26,27,28,29,30,31]},\"id\":\"3bddf955-a7b0-4698-a7eb-bc13fc2825fe\",\"type\":\"DaysTicker\"},{\"attributes\":{\"fill_alpha\":{\"value\":0.1},\"fill_color\":{\"value\":\"#1f77b4\"},\"line_alpha\":{\"value\":0.1},\"line_color\":{\"value\":\"#1f77b4\"},\"top\":{\"field\":\"y\"},\"width\":{\"value\":2047015384.6153846},\"x\":{\"field\":\"x\"}},\"id\":\"414485a0-bb63-48a9-86d6-c0d80d00e980\",\"type\":\"VBar\"},{\"attributes\":{\"days\":[1,4,7,10,13,16,19,22,25,28]},\"id\":\"89f4aeef-bc24-4961-a889-6d061bc247ff\",\"type\":\"DaysTicker\"},{\"attributes\":{\"base\":60,\"mantissas\":[1,2,5,10,15,20,30],\"max_interval\":1800000.0,\"min_interval\":1000.0,\"num_minor_ticks\":0},\"id\":\"2ac85c8b-0eb2-4973-99f8-f0911484d8dd\",\"type\":\"AdaptiveTicker\"},{\"attributes\":{\"months\":[0,1,2,3,4,5,6,7,8,9,10,11]},\"id\":\"fd5b8149-efc1-48b6-b9f3-214efa6b4ebb\",\"type\":\"MonthsTicker\"},{\"attributes\":{\"months\":[0,2,4,6,8,10]},\"id\":\"150641ea-bb7f-4b75-91df-43dd6e51c4b4\",\"type\":\"MonthsTicker\"},{\"attributes\":{\"below\":[{\"id\":\"6fe79735-6028-4a74-acf8-3bb1f75c6e21\",\"type\":\"DatetimeAxis\"}],\"left\":[{\"id\":\"f45f17dc-ad36-4e33-b0f5-0dad11faaf53\",\"type\":\"LinearAxis\"}],\"outline_line_color\":{\"value\":\"white\"},\"plot_height\":300,\"plot_width\":700,\"renderers\":[{\"id\":\"6fe79735-6028-4a74-acf8-3bb1f75c6e21\",\"type\":\"DatetimeAxis\"},{\"id\":\"79283798-7f1e-4aad-8968-1001626a6e82\",\"type\":\"Grid\"},{\"id\":\"f45f17dc-ad36-4e33-b0f5-0dad11faaf53\",\"type\":\"LinearAxis\"},{\"id\":\"1a28b2d4-933d-4e27-98ac-42ecb11cb59f\",\"type\":\"Grid\"},{\"id\":\"ce446cc4-4119-49b4-849c-f65523a8b7aa\",\"type\":\"BoxAnnotation\"},{\"id\":\"83993c47-4e8f-4efc-8fb6-f37d68f37403\",\"type\":\"GlyphRenderer\"},{\"id\":\"e1a4e1d8-fe8a-4667-a6b6-466909f17736\",\"type\":\"Label\"},{\"id\":\"3f731b6b-7c4a-4c91-9359-5143b3fab4f7\",\"type\":\"Span\"},{\"id\":\"a7633c7a-a53c-496f-8396-5c7b2e95f795\",\"type\":\"Span\"}],\"sizing_mode\":\"scale_width\",\"title\":{\"id\":\"feb9dbf6-39e2-4a9f-9248-a4e6dfa13395\",\"type\":\"Title\"},\"toolbar\":{\"id\":\"42124a95-f19e-4c7d-831a-c01cd08e1061\",\"type\":\"Toolbar\"},\"toolbar_location\":null,\"x_range\":{\"id\":\"1c07b309-e71e-44d4-870c-980026e0f51f\",\"type\":\"DataRange1d\"},\"x_scale\":{\"id\":\"c01770d4-5fa8-4888-b7d2-95678e823aaa\",\"type\":\"LinearScale\"},\"y_range\":{\"id\":\"ab1f4e01-14b8-4efb-a87d-e2c8ec3a0306\",\"type\":\"Range1d\"},\"y_scale\":{\"id\":\"42245744-bced-40c2-9301-035e7e9ab005\",\"type\":\"LinearScale\"}},\"id\":\"4c2bcbcf-bf14-4d31-903a-c2a037b6b993\",\"subtype\":\"Figure\",\"type\":\"Plot\"},{\"attributes\":{\"months\":[0,4,8]},\"id\":\"d4e28613-1886-46bc-ae4e-a1753ca94d4a\",\"type\":\"MonthsTicker\"},{\"attributes\":{},\"id\":\"c01770d4-5fa8-4888-b7d2-95678e823aaa\",\"type\":\"LinearScale\"},{\"attributes\":{\"months\":[0,6]},\"id\":\"b9338289-7a6f-411b-b04b-8e7769046e10\",\"type\":\"MonthsTicker\"},{\"attributes\":{},\"id\":\"1db74c74-3c23-4874-8cea-d90d1803f7ad\",\"type\":\"YearsTicker\"},{\"attributes\":{\"active_drag\":null,\"active_inspect\":\"auto\",\"active_scroll\":\"auto\",\"active_tap\":\"auto\",\"logo\":null,\"tools\":[{\"id\":\"0fcd55a6-a157-4bd9-9e13-3b8d037df8bf\",\"type\":\"PanTool\"},{\"id\":\"a4a9686d-18e8-4397-b06c-f4f29558c681\",\"type\":\"WheelZoomTool\"},{\"id\":\"a709aa7f-7c8c-4f66-9a36-cd8ee3b03b3a\",\"type\":\"BoxZoomTool\"},{\"id\":\"c2a0c745-2da5-4cf1-bab1-64663162cdc5\",\"type\":\"ResetTool\"},{\"id\":\"8d108924-e8cc-4b58-8e51-65eba7c52b21\",\"type\":\"HoverTool\"}]},\"id\":\"42124a95-f19e-4c7d-831a-c01cd08e1061\",\"type\":\"Toolbar\"},{\"attributes\":{\"callback\":null,\"end\":3.5,\"start\":-5.0},\"id\":\"ab1f4e01-14b8-4efb-a87d-e2c8ec3a0306\",\"type\":\"Range1d\"},{\"attributes\":{\"callback\":null,\"show_arrow\":false,\"tooltips\":\"\\n    <div>\\n        <span style=\\\"font-size: 12px;\\\">@Date:</span>\\n        <span style=\\\"font-size: 12px; font-weight: bold;\\\">@y{1.1}%</span>\\n    </div>\\n\"},\"id\":\"8d108924-e8cc-4b58-8e51-65eba7c52b21\",\"type\":\"HoverTool\"},{\"attributes\":{},\"id\":\"42245744-bced-40c2-9301-035e7e9ab005\",\"type\":\"LinearScale\"},{\"attributes\":{\"background_fill_alpha\":{\"value\":0.0},\"background_fill_color\":{\"value\":\"white\"},\"border_line_alpha\":{\"value\":0.0},\"border_line_color\":{\"value\":\"white\"},\"plot\":{\"id\":\"4c2bcbcf-bf14-4d31-903a-c2a037b6b993\",\"subtype\":\"Figure\",\"type\":\"Plot\"},\"text\":\"TCJA\",\"text_font_size\":{\"value\":\"12px\"},\"x\":1512104400000.0,\"y\":2.5},\"id\":\"e1a4e1d8-fe8a-4667-a6b6-466909f17736\",\"type\":\"Label\"},{\"attributes\":{\"axis_line_color\":{\"value\":\"white\"},\"formatter\":{\"id\":\"39bac06e-8dc8-46f4-9961-cef6719ba459\",\"type\":\"DatetimeTickFormatter\"},\"plot\":{\"id\":\"4c2bcbcf-bf14-4d31-903a-c2a037b6b993\",\"subtype\":\"Figure\",\"type\":\"Plot\"},\"ticker\":{\"id\":\"2451e732-fe27-4394-8f0f-225a5382a046\",\"type\":\"DatetimeTicker\"}},\"id\":\"6fe79735-6028-4a74-acf8-3bb1f75c6e21\",\"type\":\"DatetimeAxis\"},{\"attributes\":{\"num_minor_ticks\":5,\"tickers\":[{\"id\":\"8f33c891-06eb-49af-9960-6140630bf9d0\",\"type\":\"AdaptiveTicker\"},{\"id\":\"2ac85c8b-0eb2-4973-99f8-f0911484d8dd\",\"type\":\"AdaptiveTicker\"},{\"id\":\"869044fb-14b7-47fd-9f25-5d82677c1db1\",\"type\":\"AdaptiveTicker\"},{\"id\":\"3bddf955-a7b0-4698-a7eb-bc13fc2825fe\",\"type\":\"DaysTicker\"},{\"id\":\"89f4aeef-bc24-4961-a889-6d061bc247ff\",\"type\":\"DaysTicker\"},{\"id\":\"52ae4a44-64ed-4477-8f32-66bc642177e4\",\"type\":\"DaysTicker\"},{\"id\":\"51bb674f-cd6d-401a-b38d-3806ff616561\",\"type\":\"DaysTicker\"},{\"id\":\"fd5b8149-efc1-48b6-b9f3-214efa6b4ebb\",\"type\":\"MonthsTicker\"},{\"id\":\"150641ea-bb7f-4b75-91df-43dd6e51c4b4\",\"type\":\"MonthsTicker\"},{\"id\":\"d4e28613-1886-46bc-ae4e-a1753ca94d4a\",\"type\":\"MonthsTicker\"},{\"id\":\"b9338289-7a6f-411b-b04b-8e7769046e10\",\"type\":\"MonthsTicker\"},{\"id\":\"1db74c74-3c23-4874-8cea-d90d1803f7ad\",\"type\":\"YearsTicker\"}]},\"id\":\"2451e732-fe27-4394-8f0f-225a5382a046\",\"type\":\"DatetimeTicker\"},{\"attributes\":{\"grid_line_color\":{\"value\":null},\"plot\":{\"id\":\"4c2bcbcf-bf14-4d31-903a-c2a037b6b993\",\"subtype\":\"Figure\",\"type\":\"Plot\"},\"ticker\":{\"id\":\"2451e732-fe27-4394-8f0f-225a5382a046\",\"type\":\"DatetimeTicker\"}},\"id\":\"79283798-7f1e-4aad-8968-1001626a6e82\",\"type\":\"Grid\"},{\"attributes\":{\"callback\":null},\"id\":\"1c07b309-e71e-44d4-870c-980026e0f51f\",\"type\":\"DataRange1d\"},{\"attributes\":{\"axis_line_color\":{\"value\":\"white\"},\"formatter\":{\"id\":\"33a84aef-59cd-485a-976e-5accedbfbe5a\",\"type\":\"BasicTickFormatter\"},\"minor_tick_line_color\":{\"value\":null},\"plot\":{\"id\":\"4c2bcbcf-bf14-4d31-903a-c2a037b6b993\",\"subtype\":\"Figure\",\"type\":\"Plot\"},\"ticker\":{\"id\":\"76b577a2-d6f4-41f8-b28f-fdbe3eb7170f\",\"type\":\"BasicTicker\"}},\"id\":\"f45f17dc-ad36-4e33-b0f5-0dad11faaf53\",\"type\":\"LinearAxis\"},{\"attributes\":{},\"id\":\"76b577a2-d6f4-41f8-b28f-fdbe3eb7170f\",\"type\":\"BasicTicker\"},{\"attributes\":{\"dimension\":1,\"plot\":{\"id\":\"4c2bcbcf-bf14-4d31-903a-c2a037b6b993\",\"subtype\":\"Figure\",\"type\":\"Plot\"},\"ticker\":{\"id\":\"76b577a2-d6f4-41f8-b28f-fdbe3eb7170f\",\"type\":\"BasicTicker\"}},\"id\":\"1a28b2d4-933d-4e27-98ac-42ecb11cb59f\",\"type\":\"Grid\"},{\"attributes\":{\"plot\":null,\"text\":\"\"},\"id\":\"feb9dbf6-39e2-4a9f-9248-a4e6dfa13395\",\"type\":\"Title\"},{\"attributes\":{\"fill_color\":{\"value\":\"Orange\"},\"line_color\":{\"value\":\"Orange\"},\"top\":{\"field\":\"y\"},\"width\":{\"value\":2047015384.6153846},\"x\":{\"field\":\"x\"}},\"id\":\"faee1f01-8641-4b66-ba59-277f4812a2b3\",\"type\":\"VBar\"},{\"attributes\":{},\"id\":\"0fcd55a6-a157-4bd9-9e13-3b8d037df8bf\",\"type\":\"PanTool\"},{\"attributes\":{},\"id\":\"a4a9686d-18e8-4397-b06c-f4f29558c681\",\"type\":\"WheelZoomTool\"},{\"attributes\":{\"overlay\":{\"id\":\"ce446cc4-4119-49b4-849c-f65523a8b7aa\",\"type\":\"BoxAnnotation\"}},\"id\":\"a709aa7f-7c8c-4f66-9a36-cd8ee3b03b3a\",\"type\":\"BoxZoomTool\"},{\"attributes\":{},\"id\":\"c2a0c745-2da5-4cf1-bab1-64663162cdc5\",\"type\":\"ResetTool\"},{\"attributes\":{\"bottom_units\":\"screen\",\"fill_alpha\":{\"value\":0.5},\"fill_color\":{\"value\":\"lightgrey\"},\"left_units\":\"screen\",\"level\":\"overlay\",\"line_alpha\":{\"value\":1.0},\"line_color\":{\"value\":\"black\"},\"line_dash\":[4,4],\"line_width\":{\"value\":2},\"plot\":null,\"render_mode\":\"css\",\"right_units\":\"screen\",\"top_units\":\"screen\"},\"id\":\"ce446cc4-4119-49b4-849c-f65523a8b7aa\",\"type\":\"BoxAnnotation\"},{\"attributes\":{},\"id\":\"33a84aef-59cd-485a-976e-5accedbfbe5a\",\"type\":\"BasicTickFormatter\"},{\"attributes\":{\"data_source\":{\"id\":\"a19448b2-2661-4079-b5b1-6f22814ed583\",\"type\":\"ColumnDataSource\"},\"glyph\":{\"id\":\"faee1f01-8641-4b66-ba59-277f4812a2b3\",\"type\":\"VBar\"},\"hover_glyph\":null,\"level\":\"overlay\",\"muted_glyph\":null,\"nonselection_glyph\":{\"id\":\"414485a0-bb63-48a9-86d6-c0d80d00e980\",\"type\":\"VBar\"},\"selection_glyph\":null,\"view\":{\"id\":\"b55c3868-a793-4995-adba-f23c4ce7717c\",\"type\":\"CDSView\"}},\"id\":\"83993c47-4e8f-4efc-8fb6-f37d68f37403\",\"type\":\"GlyphRenderer\"},{\"attributes\":{},\"id\":\"39bac06e-8dc8-46f4-9961-cef6719ba459\",\"type\":\"DatetimeTickFormatter\"},{\"attributes\":{\"days\":[1,15]},\"id\":\"51bb674f-cd6d-401a-b38d-3806ff616561\",\"type\":\"DaysTicker\"},{\"attributes\":{\"line_color\":{\"value\":\"gray\"},\"location\":0,\"plot\":null},\"id\":\"a7633c7a-a53c-496f-8396-5c7b2e95f795\",\"type\":\"Span\"},{\"attributes\":{\"source\":{\"id\":\"a19448b2-2661-4079-b5b1-6f22814ed583\",\"type\":\"ColumnDataSource\"}},\"id\":\"b55c3868-a793-4995-adba-f23c4ce7717c\",\"type\":\"CDSView\"},{\"attributes\":{\"callback\":null,\"column_names\":[\"x\",\"y\",\"Date\"],\"data\":{\"Date\":[\"Jan 2015\",\"Feb 2015\",\"Mar 2015\",\"Apr 2015\",\"May 2015\",\"Jun 2015\",\"Jul 2015\",\"Aug 2015\",\"Sep 2015\",\"Oct 2015\",\"Nov 2015\",\"Dec 2015\",\"Jan 2016\",\"Feb 2016\",\"Mar 2016\",\"Apr 2016\",\"May 2016\",\"Jun 2016\",\"Jul 2016\",\"Aug 2016\",\"Sep 2016\",\"Oct 2016\",\"Nov 2016\",\"Dec 2016\",\"Jan 2017\",\"Feb 2017\",\"Mar 2017\",\"Apr 2017\",\"May 2017\",\"Jun 2017\",\"Jul 2017\",\"Aug 2017\",\"Sep 2017\",\"Oct 2017\",\"Nov 2017\",\"Dec 2017\",\"Jan 2018\",\"Feb 2018\",\"Mar 2018\"],\"x\":{\"__ndarray__\":\"AAAAqyyqdEIAAED9JrR0QgAAQB4qvXRCAACAcCTHdEIAAABdzNB0QgAAQK/G2nRCAADAm27kdEIAAADuaO50QgAAQEBj+HRCAADALAsCdUIAAAB/BQx1QgAAgGutFXVCAADAvacfdUIAAAAQoil1QgAAwJb3MnVCAAAA6fE8dUIAAIDVmUZ1QgAAwCeUUHVCAABAFDxadUIAAIBmNmR1QgAAwLgwbnVCAABApdh3dUIAAID30oF1QgAAAOR6i3VCAABANnWVdUIAAICIb591QgAAgKlyqHVCAADA+2yydUIAAEDoFLx1QgAAgDoPxnVCAAAAJ7fPdUIAAEB5sdl1QgAAgMur43VCAAAAuFPtdUIAAEAKTvd1QgAAwPb1AHZCAAAASfAKdkIAAECb6hR2QgAAQLztHXZC\",\"dtype\":\"float64\",\"shape\":[39]},\"y\":{\"__ndarray__\":\"AAAAAAAA4D/NzMzMzMwEwAAAAAAAAPA/zczMzMzM9L/NzMzMzMzsv5qZmZmZmdk/ZmZmZmZm/j8zMzMzMzPzvwAAAAAAAOA/mpmZmZmZyb8zMzMzMzPzvwAAAAAAABLAzczMzMzMCECamZmZmZkFwJqZmZmZmbk/MzMzMzMz078AAAAAAAAAwDMzMzMzM9M/mpmZmZmZBUBmZmZmZmb2P83MzMzMzADAAAAAAAAAAAAAAAAAAAD4PzMzMzMzM9O/zczMzMzM9D+amZmZmZm5PwAAAAAAAAAAMzMzMzMz0z+amZmZmZnpP5qZmZmZmbm/zczMzMzM9D9mZmZmZmb2P2ZmZmZmZgJAmpmZmZmZ6T+amZmZmZm5PwAAAAAAAOC/MzMzMzMz07/NzMzMzMzsP5qZmZmZmbm/\",\"dtype\":\"float64\",\"shape\":[39]}},\"selected\":null,\"selection_policy\":null},\"id\":\"a19448b2-2661-4079-b5b1-6f22814ed583\",\"type\":\"ColumnDataSource\"},{\"attributes\":{\"mantissas\":[1,2,5],\"max_interval\":500.0,\"num_minor_ticks\":0},\"id\":\"8f33c891-06eb-49af-9960-6140630bf9d0\",\"type\":\"AdaptiveTicker\"},{\"attributes\":{\"dimension\":\"height\",\"line_color\":{\"value\":\"gray\"},\"line_dash\":[6],\"line_width\":{\"value\":3},\"location\":1510722000000.0,\"plot\":null},\"id\":\"3f731b6b-7c4a-4c91-9359-5143b3fab4f7\",\"type\":\"Span\"},{\"attributes\":{\"base\":24,\"mantissas\":[1,2,4,6,8,12],\"max_interval\":43200000.0,\"min_interval\":3600000.0,\"num_minor_ticks\":0},\"id\":\"869044fb-14b7-47fd-9f25-5d82677c1db1\",\"type\":\"AdaptiveTicker\"},{\"attributes\":{\"days\":[1,8,15,22]},\"id\":\"52ae4a44-64ed-4477-8f32-66bc642177e4\",\"type\":\"DaysTicker\"}],\"root_ids\":[\"4c2bcbcf-bf14-4d31-903a-c2a037b6b993\"]},\"title\":\"Bokeh Application\",\"version\":\"0.12.15\"}};\n",
       "  var render_items = [{\"docid\":\"64f423a6-a328-4008-8782-e93dc8240287\",\"elementid\":\"569f9b80-3114-4310-bb2d-aa77762daf16\",\"modelid\":\"4c2bcbcf-bf14-4d31-903a-c2a037b6b993\"}];\n",
       "  root.Bokeh.embed.embed_items_notebook(docs_json, render_items);\n",
       "\n",
       "  }\n",
       "  if (root.Bokeh !== undefined) {\n",
       "    embed_document(root);\n",
       "  } else {\n",
       "    var attempts = 0;\n",
       "    var timer = setInterval(function(root) {\n",
       "      if (root.Bokeh !== undefined) {\n",
       "        embed_document(root);\n",
       "        clearInterval(timer);\n",
       "      }\n",
       "      attempts++;\n",
       "      if (attempts > 100) {\n",
       "        console.log(\"Bokeh: ERROR: Unable to run BokehJS code because BokehJS library is missing\")\n",
       "        clearInterval(timer);\n",
       "      }\n",
       "    }, 10, root)\n",
       "  }\n",
       "})(window);"
      ],
      "application/vnd.bokehjs_exec.v0+json": ""
     },
     "metadata": {
      "application/vnd.bokehjs_exec.v0+json": {
       "id": "4c2bcbcf-bf14-4d31-903a-c2a037b6b993"
      }
     },
     "output_type": "display_data"
    }
   ],
   "source": [
    "# New Orders plot in Bokeh\n",
    "source = ColumnDataSource({'x': df.index, \n",
    "                           'y': df['value'], \n",
    "                           'Date': df.index.strftime('%b %Y')})\n",
    "\n",
    "tooltips = \"\"\"\n",
    "    <div>\n",
    "        <span style=\"font-size: 12px;\">@Date:</span>\n",
    "        <span style=\"font-size: 12px; font-weight: bold;\">@y{1.1}%</span>\n",
    "    </div>\n",
    "\"\"\"\n",
    "\n",
    "# Bar width determined by how many bars\n",
    "width = ((df.index[-1] - df.index[0]).total_seconds() \n",
    "         * 800.0 / len(df.index))\n",
    "\n",
    "# horizontal line at zero\n",
    "zero_line = Span(location=0, dimension='width', \n",
    "                 line_color='gray', line_width=1)\n",
    "\n",
    "# horizontal line at zero\n",
    "tcja_start = time.mktime(dt(2017, 11, 15, 0, 0, 0).timetuple())*1000\n",
    "tcja_label = time.mktime(dt(2017, 12, 1, 0, 0, 0).timetuple())*1000\n",
    "tcja = Span(location=tcja_start, dimension='height', \n",
    "                 line_color='gray', line_dash='dashed', line_width=3)\n",
    "\n",
    "p = figure(plot_width=700, plot_height=300, \n",
    "           x_axis_type='datetime', \n",
    "           tools=['pan, wheel_zoom, box_zoom, reset'], \n",
    "           logo=None,\n",
    "           toolbar_location=None,  \n",
    "           y_range=Range1d(-5.0, 3.5))\n",
    "p.vbar('x', width=width, bottom=0, top='y', \n",
    "       source=source, color='Orange', alpha=1.0, \n",
    "       level='overlay')\n",
    "#p.add_layout(zero_line)\n",
    "citation = Label(x=tcja_label, y=2.5, #x_units='screen', y_units='screen',\n",
    "                 text='TCJA', text_font_size='12px',#render_mode='css',\n",
    "                 border_line_color='white', border_line_alpha=0.0,\n",
    "                 background_fill_color='white', background_fill_alpha=0.0)\n",
    "p.add_layout(citation)\n",
    "p.renderers.extend([tcja, zero_line])#p.add_layout(tcja)\n",
    "p.sizing_mode = 'scale_width'\n",
    "p.xgrid.grid_line_color = None\n",
    "p.outline_line_color = 'white'\n",
    "p.axis.axis_line_color = 'white'\n",
    "p.yaxis.minor_tick_line_color = None\n",
    "p.toolbar.active_drag = None\n",
    "p.add_tools(HoverTool(tooltips=tooltips, show_arrow=False))\n",
    "\n",
    "script, div = components(p)\n",
    "with open('C:/Working/bdecon.github.io/plots/neworders.html', 'w') as text_file:\n",
    "    text_file.write(f'{script} {div}')\n",
    "    \n",
    "show(p)"
   ]
  },
  {
   "cell_type": "markdown",
   "metadata": {},
   "source": [
    "# Employed Share of Population"
   ]
  },
  {
   "cell_type": "code",
   "execution_count": 11,
   "metadata": {
    "ExecuteTime": {
     "end_time": "2018-04-22T23:45:16.658882Z",
     "start_time": "2018-04-22T23:45:16.549721Z"
    },
    "code_folding": [
     0
    ]
   },
   "outputs": [
    {
     "data": {
      "text/html": [
       "\n",
       "<div class=\"bk-root\">\n",
       "    <div class=\"bk-plotdiv\" id=\"2fbcf976-7175-4508-a54c-4eb08963059f\"></div>\n",
       "</div>"
      ]
     },
     "metadata": {},
     "output_type": "display_data"
    },
    {
     "data": {
      "application/javascript": [
       "(function(root) {\n",
       "  function embed_document(root) {\n",
       "    \n",
       "  var docs_json = {\"80445f24-9247-45d2-bec5-e82048257d24\":{\"roots\":{\"references\":[{\"attributes\":{\"below\":[{\"id\":\"751eac08-2a79-408a-8292-68e9d4bcf3b9\",\"type\":\"DatetimeAxis\"}],\"left\":[{\"id\":\"d5f01d4f-d1c4-4895-bb77-669391a1ad05\",\"type\":\"LinearAxis\"}],\"outline_line_color\":{\"value\":\"white\"},\"plot_height\":300,\"plot_width\":700,\"renderers\":[{\"id\":\"751eac08-2a79-408a-8292-68e9d4bcf3b9\",\"type\":\"DatetimeAxis\"},{\"id\":\"fdc966b5-83a3-4d4d-8a25-a79b497ee75a\",\"type\":\"Grid\"},{\"id\":\"d5f01d4f-d1c4-4895-bb77-669391a1ad05\",\"type\":\"LinearAxis\"},{\"id\":\"09e810a0-640e-4fb8-8c4e-9f8b41489f31\",\"type\":\"Grid\"},{\"id\":\"f295c360-3160-4a12-9e5a-3edf53f6a7c0\",\"type\":\"BoxAnnotation\"},{\"id\":\"98d3e3c4-2486-4b9d-9128-fb162f555786\",\"type\":\"BoxAnnotation\"},{\"id\":\"dd097e8b-1224-4158-98f9-2e93eb745a1b\",\"type\":\"BoxAnnotation\"},{\"id\":\"90407e94-7e34-41bb-816e-af2274c22ef7\",\"type\":\"GlyphRenderer\"}],\"sizing_mode\":\"scale_width\",\"title\":{\"id\":\"8b331e45-720d-4d63-b23f-e51a350dadcf\",\"type\":\"Title\"},\"toolbar\":{\"id\":\"28597d15-4e80-4191-94b2-75f3d08317af\",\"type\":\"Toolbar\"},\"toolbar_location\":null,\"toolbar_sticky\":false,\"x_range\":{\"id\":\"3705c310-9254-44e1-9641-a154e96376a9\",\"type\":\"DataRange1d\"},\"x_scale\":{\"id\":\"67337eff-9201-4043-a5a8-f11033aa49e4\",\"type\":\"LinearScale\"},\"y_range\":{\"id\":\"69e80dcd-5e35-4bdc-a273-f560fe8d5cd6\",\"type\":\"Range1d\"},\"y_scale\":{\"id\":\"70a7aea1-4e09-47e8-a8cd-d5a7a1e76f62\",\"type\":\"LinearScale\"}},\"id\":\"8a98a870-69a0-4e9e-9399-386b01595906\",\"subtype\":\"Figure\",\"type\":\"Plot\"},{\"attributes\":{\"data_source\":{\"id\":\"d3bec959-7b5c-4d7f-89a9-d8981e13e847\",\"type\":\"ColumnDataSource\"},\"glyph\":{\"id\":\"c29ed43b-34b3-4e0b-93df-f7065496b1f7\",\"type\":\"Line\"},\"hover_glyph\":null,\"muted_glyph\":null,\"nonselection_glyph\":{\"id\":\"4f55156d-21cf-451c-a427-554012f8669e\",\"type\":\"Line\"},\"selection_glyph\":null,\"view\":{\"id\":\"a20421d7-bff5-4a6d-a5c6-69c8b5cd0196\",\"type\":\"CDSView\"}},\"id\":\"90407e94-7e34-41bb-816e-af2274c22ef7\",\"type\":\"GlyphRenderer\"},{\"attributes\":{},\"id\":\"431b2325-79c3-4f3b-8cae-f5809470838d\",\"type\":\"BasicTickFormatter\"},{\"attributes\":{\"source\":{\"id\":\"d3bec959-7b5c-4d7f-89a9-d8981e13e847\",\"type\":\"ColumnDataSource\"}},\"id\":\"a20421d7-bff5-4a6d-a5c6-69c8b5cd0196\",\"type\":\"CDSView\"},{\"attributes\":{\"fill_alpha\":{\"value\":0.1},\"fill_color\":{\"value\":\"gray\"},\"left\":986083200000.0,\"line_alpha\":{\"value\":0},\"plot\":{\"id\":\"8a98a870-69a0-4e9e-9399-386b01595906\",\"subtype\":\"Figure\",\"type\":\"Plot\"},\"right\":1007164800000.0},\"id\":\"98d3e3c4-2486-4b9d-9128-fb162f555786\",\"type\":\"BoxAnnotation\"},{\"attributes\":{\"days\":[1,8,15,22]},\"id\":\"e572c25b-6a67-4273-bc2a-59884544648a\",\"type\":\"DaysTicker\"},{\"attributes\":{\"fill_alpha\":{\"value\":0.1},\"fill_color\":{\"value\":\"gray\"},\"left\":1199145600000.0,\"line_alpha\":{\"value\":0},\"plot\":{\"id\":\"8a98a870-69a0-4e9e-9399-386b01595906\",\"subtype\":\"Figure\",\"type\":\"Plot\"},\"right\":1246406400000.0},\"id\":\"dd097e8b-1224-4158-98f9-2e93eb745a1b\",\"type\":\"BoxAnnotation\"},{\"attributes\":{\"num_minor_ticks\":5,\"tickers\":[{\"id\":\"c4353e93-836b-45fa-be25-3976c2b9d98e\",\"type\":\"AdaptiveTicker\"},{\"id\":\"d2258298-b896-4fbb-9ec6-12aedfb5e711\",\"type\":\"AdaptiveTicker\"},{\"id\":\"dde47e37-07d3-441e-afec-81d1b66e1565\",\"type\":\"AdaptiveTicker\"},{\"id\":\"dc9e9809-14aa-40d7-bb79-4a8f69c1a33f\",\"type\":\"DaysTicker\"},{\"id\":\"ca2e7e23-027f-4016-99dd-96e7dcba98b4\",\"type\":\"DaysTicker\"},{\"id\":\"e572c25b-6a67-4273-bc2a-59884544648a\",\"type\":\"DaysTicker\"},{\"id\":\"877533b0-0d54-452e-a1f7-199c8a9b69de\",\"type\":\"DaysTicker\"},{\"id\":\"7a1adcdd-0ba4-4609-956c-3123c2b627b9\",\"type\":\"MonthsTicker\"},{\"id\":\"19f45a10-f99d-42d7-a454-092fcd4dd7ab\",\"type\":\"MonthsTicker\"},{\"id\":\"28cb1448-3ed4-44ae-b2a7-a0eb738727bf\",\"type\":\"MonthsTicker\"},{\"id\":\"94fbf359-4ffa-4642-adfb-07253f5de4f5\",\"type\":\"MonthsTicker\"},{\"id\":\"5921c717-80fe-41c9-85ae-e3d90bde5881\",\"type\":\"YearsTicker\"}]},\"id\":\"2cb2fea6-ca3a-4ddc-a506-1334ef601685\",\"type\":\"DatetimeTicker\"},{\"attributes\":{\"months\":[0,2,4,6,8,10]},\"id\":\"19f45a10-f99d-42d7-a454-092fcd4dd7ab\",\"type\":\"MonthsTicker\"},{\"attributes\":{\"callback\":null,\"end\":83,\"start\":74},\"id\":\"69e80dcd-5e35-4bdc-a273-f560fe8d5cd6\",\"type\":\"Range1d\"},{\"attributes\":{\"active_drag\":null,\"active_inspect\":\"auto\",\"active_scroll\":\"auto\",\"active_tap\":\"auto\",\"logo\":null,\"tools\":[{\"id\":\"868ba41f-fb99-4294-856f-d8d16166cf9a\",\"type\":\"PanTool\"},{\"id\":\"468fc68e-b0c5-4ef9-beae-a586d7b5d766\",\"type\":\"WheelZoomTool\"},{\"id\":\"92eb48b0-4c75-4971-83dd-df34173af58d\",\"type\":\"BoxZoomTool\"},{\"id\":\"eb5d8351-05b3-4f05-b93d-7a3eec4741fc\",\"type\":\"ResetTool\"},{\"id\":\"13bc9cef-f08d-4fd5-b1c8-16ed6198ac8d\",\"type\":\"HoverTool\"}]},\"id\":\"28597d15-4e80-4191-94b2-75f3d08317af\",\"type\":\"Toolbar\"},{\"attributes\":{},\"id\":\"5921c717-80fe-41c9-85ae-e3d90bde5881\",\"type\":\"YearsTicker\"},{\"attributes\":{\"callback\":null,\"column_names\":[\"x\",\"y\",\"Date\"],\"data\":{\"Date\":[\"Jan 2000\",\"Feb 2000\",\"Mar 2000\",\"Apr 2000\",\"May 2000\",\"Jun 2000\",\"Jul 2000\",\"Aug 2000\",\"Sep 2000\",\"Oct 2000\",\"Nov 2000\",\"Dec 2000\",\"Jan 2001\",\"Feb 2001\",\"Mar 2001\",\"Apr 2001\",\"May 2001\",\"Jun 2001\",\"Jul 2001\",\"Aug 2001\",\"Sep 2001\",\"Oct 2001\",\"Nov 2001\",\"Dec 2001\",\"Jan 2002\",\"Feb 2002\",\"Mar 2002\",\"Apr 2002\",\"May 2002\",\"Jun 2002\",\"Jul 2002\",\"Aug 2002\",\"Sep 2002\",\"Oct 2002\",\"Nov 2002\",\"Dec 2002\",\"Jan 2003\",\"Feb 2003\",\"Mar 2003\",\"Apr 2003\",\"May 2003\",\"Jun 2003\",\"Jul 2003\",\"Aug 2003\",\"Sep 2003\",\"Oct 2003\",\"Nov 2003\",\"Dec 2003\",\"Jan 2004\",\"Feb 2004\",\"Mar 2004\",\"Apr 2004\",\"May 2004\",\"Jun 2004\",\"Jul 2004\",\"Aug 2004\",\"Sep 2004\",\"Oct 2004\",\"Nov 2004\",\"Dec 2004\",\"Jan 2005\",\"Feb 2005\",\"Mar 2005\",\"Apr 2005\",\"May 2005\",\"Jun 2005\",\"Jul 2005\",\"Aug 2005\",\"Sep 2005\",\"Oct 2005\",\"Nov 2005\",\"Dec 2005\",\"Jan 2006\",\"Feb 2006\",\"Mar 2006\",\"Apr 2006\",\"May 2006\",\"Jun 2006\",\"Jul 2006\",\"Aug 2006\",\"Sep 2006\",\"Oct 2006\",\"Nov 2006\",\"Dec 2006\",\"Jan 2007\",\"Feb 2007\",\"Mar 2007\",\"Apr 2007\",\"May 2007\",\"Jun 2007\",\"Jul 2007\",\"Aug 2007\",\"Sep 2007\",\"Oct 2007\",\"Nov 2007\",\"Dec 2007\",\"Jan 2008\",\"Feb 2008\",\"Mar 2008\",\"Apr 2008\",\"May 2008\",\"Jun 2008\",\"Jul 2008\",\"Aug 2008\",\"Sep 2008\",\"Oct 2008\",\"Nov 2008\",\"Dec 2008\",\"Jan 2009\",\"Feb 2009\",\"Mar 2009\",\"Apr 2009\",\"May 2009\",\"Jun 2009\",\"Jul 2009\",\"Aug 2009\",\"Sep 2009\",\"Oct 2009\",\"Nov 2009\",\"Dec 2009\",\"Jan 2010\",\"Feb 2010\",\"Mar 2010\",\"Apr 2010\",\"May 2010\",\"Jun 2010\",\"Jul 2010\",\"Aug 2010\",\"Sep 2010\",\"Oct 2010\",\"Nov 2010\",\"Dec 2010\",\"Jan 2011\",\"Feb 2011\",\"Mar 2011\",\"Apr 2011\",\"May 2011\",\"Jun 2011\",\"Jul 2011\",\"Aug 2011\",\"Sep 2011\",\"Oct 2011\",\"Nov 2011\",\"Dec 2011\",\"Jan 2012\",\"Feb 2012\",\"Mar 2012\",\"Apr 2012\",\"May 2012\",\"Jun 2012\",\"Jul 2012\",\"Aug 2012\",\"Sep 2012\",\"Oct 2012\",\"Nov 2012\",\"Dec 2012\",\"Jan 2013\",\"Feb 2013\",\"Mar 2013\",\"Apr 2013\",\"May 2013\",\"Jun 2013\",\"Jul 2013\",\"Aug 2013\",\"Sep 2013\",\"Oct 2013\",\"Nov 2013\",\"Dec 2013\",\"Jan 2014\",\"Feb 2014\",\"Mar 2014\",\"Apr 2014\",\"May 2014\",\"Jun 2014\",\"Jul 2014\",\"Aug 2014\",\"Sep 2014\",\"Oct 2014\",\"Nov 2014\",\"Dec 2014\",\"Jan 2015\",\"Feb 2015\",\"Mar 2015\",\"Apr 2015\",\"May 2015\",\"Jun 2015\",\"Jul 2015\",\"Aug 2015\",\"Sep 2015\",\"Oct 2015\",\"Nov 2015\",\"Dec 2015\",\"Jan 2016\",\"Feb 2016\",\"Mar 2016\",\"Apr 2016\",\"May 2016\",\"Jun 2016\",\"Jul 2016\",\"Aug 2016\",\"Sep 2016\",\"Oct 2016\",\"Nov 2016\",\"Dec 2016\",\"Jan 2017\",\"Feb 2017\",\"Mar 2017\",\"Apr 2017\",\"May 2017\",\"Jun 2017\",\"Jul 2017\",\"Aug 2017\",\"Sep 2017\",\"Oct 2017\",\"Nov 2017\",\"Dec 2017\",\"Jan 2018\",\"Feb 2018\",\"Mar 2018\"],\"x\":{\"__ndarray__\":\"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\",\"dtype\":\"float64\",\"shape\":[219]},\"y\":{\"__ndarray__\":\"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\",\"dtype\":\"float64\",\"shape\":[219]}},\"selected\":null,\"selection_policy\":null},\"id\":\"d3bec959-7b5c-4d7f-89a9-d8981e13e847\",\"type\":\"ColumnDataSource\"},{\"attributes\":{\"callback\":null},\"id\":\"3705c310-9254-44e1-9641-a154e96376a9\",\"type\":\"DataRange1d\"},{\"attributes\":{\"months\":[0,6]},\"id\":\"94fbf359-4ffa-4642-adfb-07253f5de4f5\",\"type\":\"MonthsTicker\"},{\"attributes\":{\"callback\":null,\"show_arrow\":false,\"tooltips\":\"\\n            <div>\\n                <span style=\\\"font-size: 12px;\\\">@Date:</span>\\n                <span style=\\\"font-size: 12px; font-weight: bold;\\\">@y{1.1}%</span>\\n            </div>\\n\"},\"id\":\"13bc9cef-f08d-4fd5-b1c8-16ed6198ac8d\",\"type\":\"HoverTool\"},{\"attributes\":{},\"id\":\"67337eff-9201-4043-a5a8-f11033aa49e4\",\"type\":\"LinearScale\"},{\"attributes\":{\"grid_line_color\":{\"value\":null},\"plot\":{\"id\":\"8a98a870-69a0-4e9e-9399-386b01595906\",\"subtype\":\"Figure\",\"type\":\"Plot\"},\"ticker\":{\"id\":\"2cb2fea6-ca3a-4ddc-a506-1334ef601685\",\"type\":\"DatetimeTicker\"}},\"id\":\"fdc966b5-83a3-4d4d-8a25-a79b497ee75a\",\"type\":\"Grid\"},{\"attributes\":{\"axis_line_color\":{\"value\":\"white\"},\"formatter\":{\"id\":\"29c59a33-8eb7-44e9-8b86-e8643510ee7e\",\"type\":\"DatetimeTickFormatter\"},\"plot\":{\"id\":\"8a98a870-69a0-4e9e-9399-386b01595906\",\"subtype\":\"Figure\",\"type\":\"Plot\"},\"ticker\":{\"id\":\"2cb2fea6-ca3a-4ddc-a506-1334ef601685\",\"type\":\"DatetimeTicker\"}},\"id\":\"751eac08-2a79-408a-8292-68e9d4bcf3b9\",\"type\":\"DatetimeAxis\"},{\"attributes\":{\"base\":24,\"mantissas\":[1,2,4,6,8,12],\"max_interval\":43200000.0,\"min_interval\":3600000.0,\"num_minor_ticks\":0},\"id\":\"dde47e37-07d3-441e-afec-81d1b66e1565\",\"type\":\"AdaptiveTicker\"},{\"attributes\":{},\"id\":\"70a7aea1-4e09-47e8-a8cd-d5a7a1e76f62\",\"type\":\"LinearScale\"},{\"attributes\":{\"axis_line_color\":{\"value\":\"white\"},\"formatter\":{\"id\":\"431b2325-79c3-4f3b-8cae-f5809470838d\",\"type\":\"BasicTickFormatter\"},\"minor_tick_line_color\":{\"value\":null},\"plot\":{\"id\":\"8a98a870-69a0-4e9e-9399-386b01595906\",\"subtype\":\"Figure\",\"type\":\"Plot\"},\"ticker\":{\"id\":\"e4ff5008-7e18-4891-9b81-373351fc9e45\",\"type\":\"BasicTicker\"}},\"id\":\"d5f01d4f-d1c4-4895-bb77-669391a1ad05\",\"type\":\"LinearAxis\"},{\"attributes\":{},\"id\":\"e4ff5008-7e18-4891-9b81-373351fc9e45\",\"type\":\"BasicTicker\"},{\"attributes\":{\"line_alpha\":0.1,\"line_color\":\"#1f77b4\",\"line_width\":3,\"x\":{\"field\":\"x\"},\"y\":{\"field\":\"y\"}},\"id\":\"4f55156d-21cf-451c-a427-554012f8669e\",\"type\":\"Line\"},{\"attributes\":{\"overlay\":{\"id\":\"f295c360-3160-4a12-9e5a-3edf53f6a7c0\",\"type\":\"BoxAnnotation\"}},\"id\":\"92eb48b0-4c75-4971-83dd-df34173af58d\",\"type\":\"BoxZoomTool\"},{\"attributes\":{\"days\":[1,15]},\"id\":\"877533b0-0d54-452e-a1f7-199c8a9b69de\",\"type\":\"DaysTicker\"},{\"attributes\":{\"days\":[1,2,3,4,5,6,7,8,9,10,11,12,13,14,15,16,17,18,19,20,21,22,23,24,25,26,27,28,29,30,31]},\"id\":\"dc9e9809-14aa-40d7-bb79-4a8f69c1a33f\",\"type\":\"DaysTicker\"},{\"attributes\":{},\"id\":\"868ba41f-fb99-4294-856f-d8d16166cf9a\",\"type\":\"PanTool\"},{\"attributes\":{},\"id\":\"29c59a33-8eb7-44e9-8b86-e8643510ee7e\",\"type\":\"DatetimeTickFormatter\"},{\"attributes\":{},\"id\":\"eb5d8351-05b3-4f05-b93d-7a3eec4741fc\",\"type\":\"ResetTool\"},{\"attributes\":{\"plot\":null,\"text\":\"\"},\"id\":\"8b331e45-720d-4d63-b23f-e51a350dadcf\",\"type\":\"Title\"},{\"attributes\":{\"line_color\":\"Blue\",\"line_width\":3,\"x\":{\"field\":\"x\"},\"y\":{\"field\":\"y\"}},\"id\":\"c29ed43b-34b3-4e0b-93df-f7065496b1f7\",\"type\":\"Line\"},{\"attributes\":{\"months\":[0,1,2,3,4,5,6,7,8,9,10,11]},\"id\":\"7a1adcdd-0ba4-4609-956c-3123c2b627b9\",\"type\":\"MonthsTicker\"},{\"attributes\":{\"base\":60,\"mantissas\":[1,2,5,10,15,20,30],\"max_interval\":1800000.0,\"min_interval\":1000.0,\"num_minor_ticks\":0},\"id\":\"d2258298-b896-4fbb-9ec6-12aedfb5e711\",\"type\":\"AdaptiveTicker\"},{\"attributes\":{\"dimension\":1,\"plot\":{\"id\":\"8a98a870-69a0-4e9e-9399-386b01595906\",\"subtype\":\"Figure\",\"type\":\"Plot\"},\"ticker\":{\"id\":\"e4ff5008-7e18-4891-9b81-373351fc9e45\",\"type\":\"BasicTicker\"}},\"id\":\"09e810a0-640e-4fb8-8c4e-9f8b41489f31\",\"type\":\"Grid\"},{\"attributes\":{\"months\":[0,4,8]},\"id\":\"28cb1448-3ed4-44ae-b2a7-a0eb738727bf\",\"type\":\"MonthsTicker\"},{\"attributes\":{},\"id\":\"468fc68e-b0c5-4ef9-beae-a586d7b5d766\",\"type\":\"WheelZoomTool\"},{\"attributes\":{\"mantissas\":[1,2,5],\"max_interval\":500.0,\"num_minor_ticks\":0},\"id\":\"c4353e93-836b-45fa-be25-3976c2b9d98e\",\"type\":\"AdaptiveTicker\"},{\"attributes\":{\"bottom_units\":\"screen\",\"fill_alpha\":{\"value\":0.5},\"fill_color\":{\"value\":\"lightgrey\"},\"left_units\":\"screen\",\"level\":\"overlay\",\"line_alpha\":{\"value\":1.0},\"line_color\":{\"value\":\"black\"},\"line_dash\":[4,4],\"line_width\":{\"value\":2},\"plot\":null,\"render_mode\":\"css\",\"right_units\":\"screen\",\"top_units\":\"screen\"},\"id\":\"f295c360-3160-4a12-9e5a-3edf53f6a7c0\",\"type\":\"BoxAnnotation\"},{\"attributes\":{\"days\":[1,4,7,10,13,16,19,22,25,28]},\"id\":\"ca2e7e23-027f-4016-99dd-96e7dcba98b4\",\"type\":\"DaysTicker\"}],\"root_ids\":[\"8a98a870-69a0-4e9e-9399-386b01595906\"]},\"title\":\"Bokeh Application\",\"version\":\"0.12.15\"}};\n",
       "  var render_items = [{\"docid\":\"80445f24-9247-45d2-bec5-e82048257d24\",\"elementid\":\"2fbcf976-7175-4508-a54c-4eb08963059f\",\"modelid\":\"8a98a870-69a0-4e9e-9399-386b01595906\"}];\n",
       "  root.Bokeh.embed.embed_items_notebook(docs_json, render_items);\n",
       "\n",
       "  }\n",
       "  if (root.Bokeh !== undefined) {\n",
       "    embed_document(root);\n",
       "  } else {\n",
       "    var attempts = 0;\n",
       "    var timer = setInterval(function(root) {\n",
       "      if (root.Bokeh !== undefined) {\n",
       "        embed_document(root);\n",
       "        clearInterval(timer);\n",
       "      }\n",
       "      attempts++;\n",
       "      if (attempts > 100) {\n",
       "        console.log(\"Bokeh: ERROR: Unable to run BokehJS code because BokehJS library is missing\")\n",
       "        clearInterval(timer);\n",
       "      }\n",
       "    }, 10, root)\n",
       "  }\n",
       "})(window);"
      ],
      "application/vnd.bokehjs_exec.v0+json": ""
     },
     "metadata": {
      "application/vnd.bokehjs_exec.v0+json": {
       "id": "8a98a870-69a0-4e9e-9399-386b01595906"
      }
     },
     "output_type": "display_data"
    }
   ],
   "source": [
    "# Employment rate\n",
    "epop = pd.read_csv('C:/Working/Python/ChartBook/LNS12300060.csv')#.set_index('DATE')\n",
    "epop = epop.set_index(pd.to_datetime(epop['DATE']))['LNS12300060']\n",
    "\n",
    "source = ColumnDataSource({'x': epop.index, 'y': epop.values, 'Date': epop.index.strftime('%b %Y')})\n",
    "tooltips = \"\"\"\n",
    "            <div>\n",
    "                <span style=\"font-size: 12px;\">@Date:</span>\n",
    "                <span style=\"font-size: 12px; font-weight: bold;\">@y{1.1}%</span>\n",
    "            </div>\n",
    "\"\"\"\n",
    "p = figure(width=700,height=300,x_axis_type='datetime',tools=['pan, wheel_zoom,box_zoom,reset'],\n",
    "           logo=None, toolbar_location=None, toolbar_sticky=False, y_range=Range1d(74, 83))\n",
    "p.sizing_mode = 'scale_width'\n",
    "p.add_layout(BoxAnnotation(left=pd.to_datetime('2001-04-01'), right=pd.to_datetime('2001-12-01'), fill_alpha=0.1, line_alpha=0, fill_color='gray'))\n",
    "p.add_layout(BoxAnnotation(left=pd.to_datetime('2008-01-01'), right=pd.to_datetime('2009-07-01'), fill_alpha=0.1, line_alpha=0, fill_color='gray'))\n",
    "p.line('x', 'y', source = source, line_width=3, color='Blue')\n",
    "p.xgrid.grid_line_color = None\n",
    "#p.grid.grid_line_color = None\n",
    "p.outline_line_color = 'white'\n",
    "p.axis.axis_line_color = 'white'\n",
    "p.yaxis.minor_tick_line_color = None\n",
    "p.add_tools(HoverTool(tooltips=tooltips, show_arrow=False, point_policy='snap_to_data'))\n",
    "p.toolbar.active_drag = None\n",
    "script, div = components(p)\n",
    "\n",
    "with open('C:/Working/bdecon.github.io/plots/epop.html', 'w') as text_file:\n",
    "    text_file.write('{} {}'.format(script, div))\n",
    "    \n",
    "show(p)"
   ]
  },
  {
   "cell_type": "code",
   "execution_count": null,
   "metadata": {},
   "outputs": [],
   "source": []
  },
  {
   "cell_type": "code",
   "execution_count": null,
   "metadata": {},
   "outputs": [],
   "source": []
  },
  {
   "cell_type": "code",
   "execution_count": null,
   "metadata": {},
   "outputs": [],
   "source": []
  },
  {
   "cell_type": "code",
   "execution_count": null,
   "metadata": {},
   "outputs": [],
   "source": []
  },
  {
   "cell_type": "code",
   "execution_count": null,
   "metadata": {},
   "outputs": [],
   "source": []
  },
  {
   "cell_type": "code",
   "execution_count": null,
   "metadata": {},
   "outputs": [],
   "source": []
  },
  {
   "cell_type": "code",
   "execution_count": null,
   "metadata": {},
   "outputs": [],
   "source": []
  },
  {
   "cell_type": "code",
   "execution_count": null,
   "metadata": {},
   "outputs": [],
   "source": []
  },
  {
   "cell_type": "code",
   "execution_count": null,
   "metadata": {},
   "outputs": [],
   "source": []
  },
  {
   "cell_type": "code",
   "execution_count": null,
   "metadata": {},
   "outputs": [],
   "source": []
  }
 ],
 "metadata": {
  "kernelspec": {
   "display_name": "Python 3",
   "language": "python",
   "name": "python3"
  },
  "language_info": {
   "codemirror_mode": {
    "name": "ipython",
    "version": 3
   },
   "file_extension": ".py",
   "mimetype": "text/x-python",
   "name": "python",
   "nbconvert_exporter": "python",
   "pygments_lexer": "ipython3",
   "version": "3.6.5"
  }
 },
 "nbformat": 4,
 "nbformat_minor": 2
}
