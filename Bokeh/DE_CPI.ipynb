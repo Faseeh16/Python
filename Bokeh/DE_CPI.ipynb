{
 "cells": [
  {
   "cell_type": "code",
   "execution_count": 1,
   "metadata": {},
   "outputs": [
    {
     "name": "stdout",
     "output_type": "stream",
     "text": [
      "{u'@TIME_PERIOD': u'2017-02', u'@OBS_VALUE': u'2.15962441314554'}\n"
     ]
    }
   ],
   "source": [
    "import requests # Python 2.7, requests version 2.12.4\n",
    "import pandas as pd          # pandas version 0.18.1\n",
    "\n",
    "url = 'http://dataservices.imf.org/REST/SDMX_JSON.svc/'\n",
    "key = 'CompactData/IFS/M.DE.PCPI_PC_CP_A_PT' # adjust as needed\n",
    "data = requests.get('{}{}'.format(url,key)).json()\n",
    "print data['CompactData']['DataSet']['Series']['Obs'][-1]\n",
    "# Navigate to observations in JSON data\n",
    "obs = data['CompactData']['DataSet']['Series']['Obs']"
   ]
  },
  {
   "cell_type": "code",
   "execution_count": 2,
   "metadata": {},
   "outputs": [],
   "source": [
    "# Create pandas dataframe from the observations\n",
    "df = pd.DataFrame(obs)[['@OBS_VALUE','@TIME_PERIOD']]\n",
    "df.columns = ['value', 'date']\n",
    "df.loc[:,'value'] = df['value'].astype(float).round(1)\n",
    "df = df.set_index(pd.to_datetime(df['date']))['value']"
   ]
  },
  {
   "cell_type": "code",
   "execution_count": 8,
   "metadata": {},
   "outputs": [],
   "source": [
    "lvalue = df[-1]\n",
    "ldate = str(df.index[-1].strftime('%b %Y'))\n",
    "onemo = round(lvalue - df[-2], 2)\n",
    "onemoar = '<i class=\"fa fa-caret-up\" aria-hidden=\"true\"></i>'\n",
    "if onemo < -0.01:\n",
    "    onemoar = '<i class=\"fa fa-caret-down\" aria-hidden=\"true\"></i>'\n",
    "latest = ' Latest: {}: {}% <br>  One month change: {} {}'.format(ldate, lvalue, onemoar, onemo)"
   ]
  },
  {
   "cell_type": "code",
   "execution_count": 4,
   "metadata": {
    "collapsed": true
   },
   "outputs": [],
   "source": [
    "from datetime import datetime as dt\n",
    "import time\n",
    "xlabel = time.mktime(dt(1995, 2, 1, 2, 0, 0).timetuple())*1000"
   ]
  },
  {
   "cell_type": "code",
   "execution_count": 5,
   "metadata": {},
   "outputs": [],
   "source": [
    "from bokeh.plotting import figure, show\n",
    "from bokeh.models import ColumnDataSource, Span, Label, HoverTool\n",
    "from bokeh.embed import components\n",
    "\n",
    "source = ColumnDataSource({'x': df.index, 'y': df.values, 'Date': df.index.strftime('%b %Y')})\n",
    "tooltips = \"\"\"\n",
    "            <div>\n",
    "                <span style=\"font-size: 12px;\">@Date:</span>\n",
    "                <span style=\"font-size: 12px; font-weight: bold;\">@y{1.1}</span>\n",
    "            </div>\n",
    "\"\"\"\n",
    "# horizontal line at zero\n",
    "hline = Span(location=0, dimension='width', line_color='gray', line_width=1)\n",
    "p = figure(width=700,height=300,x_axis_type='datetime',\n",
    "           tools=['pan,wheel_zoom,box_zoom,reset'], logo=None, \n",
    "           toolbar_location=\"below\", toolbar_sticky=False)\n",
    "p.add_layout(hline)\n",
    "p.sizing_mode = 'scale_width'\n",
    "p.line('x', 'y', source = source, line_width=3, color='Orange', alpha=1.0, level='overlay')\n",
    "p.xgrid.grid_line_color = None\n",
    "p.outline_line_color = 'white'\n",
    "p.axis.axis_line_color = 'white'\n",
    "citation = Label(x=xlabel, y=5.5, render_mode='css', x_units='data', text_font_size='9pt', \n",
    "                 text_color='#686868', text=latest, background_fill_color='white', background_fill_alpha=1.0)\n",
    "p.add_layout(citation)\n",
    "p.add_tools(HoverTool(tooltips=tooltips, line_policy='nearest', show_arrow=False))\n",
    "p.toolbar.active_drag = None\n",
    "script, div = components(p)"
   ]
  },
  {
   "cell_type": "code",
   "execution_count": 6,
   "metadata": {},
   "outputs": [],
   "source": [
    "with open('C:/Working/bdecon.github.io/plots/de_cpi.html', 'w') as text_file:\n",
    "    text_file.write(                  # txt file created\n",
    "        '{} {}'.format(script, div)\n",
    "    )"
   ]
  }
 ],
 "metadata": {
  "kernelspec": {
   "display_name": "Python [conda root]",
   "language": "python",
   "name": "conda-root-py"
  },
  "language_info": {
   "codemirror_mode": {
    "name": "ipython",
    "version": 2
   },
   "file_extension": ".py",
   "mimetype": "text/x-python",
   "name": "python",
   "nbconvert_exporter": "python",
   "pygments_lexer": "ipython2",
   "version": "2.7.12"
  }
 },
 "nbformat": 4,
 "nbformat_minor": 1
}
