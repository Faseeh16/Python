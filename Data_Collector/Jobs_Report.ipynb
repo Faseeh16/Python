{
 "cells": [
  {
   "cell_type": "markdown",
   "metadata": {},
   "source": [
    "# Data_Collector: Jobs Report\n",
    "------\n",
    "\n",
    "Updated: January 23, 2018\n",
    "\n",
    "Status: Collects series, need to do calculations and export\n",
    "\n",
    "Descr: Python code for reading the BLS jobs report on the first friday of the month, at 8:30am. [PDF release](https://www.bls.gov/news.release/pdf/empsit.pdf)\n",
    "\n",
    "To Do: Text calculations. Make charts. combine charts and save as picture.\n",
    "\n",
    "------\n",
    "\n",
    "\n"
   ]
  },
  {
   "cell_type": "markdown",
   "metadata": {},
   "source": [
    "#### Packages - Run early"
   ]
  },
  {
   "cell_type": "code",
   "execution_count": 1,
   "metadata": {},
   "outputs": [
    {
     "name": "stdout",
     "output_type": "stream",
     "text": [
      "python 3.6\n",
      "pandas 0.22.0\n"
     ]
    }
   ],
   "source": [
    "import sys # Check which version of python is being used\n",
    "print(f'python {sys.version_info[0]}.{sys.version_info[1]}')\n",
    "import pandas as pd    # Pandas to organize and make calcs\n",
    "print(f'pandas {pd.__version__}')\n",
    "from pandas_datareader.data import DataReader as pdr \n",
    "import requests        # Make requests to econ data APIs\n",
    "import json            # Work with JSON data\n",
    "import config          # Local file config.py with BLS API key"
   ]
  },
  {
   "cell_type": "markdown",
   "metadata": {},
   "source": [
    "#### Define custom functions - run early"
   ]
  },
  {
   "cell_type": "code",
   "execution_count": 2,
   "metadata": {
    "collapsed": true
   },
   "outputs": [],
   "source": [
    "# Define some tools to use later in calculations\n",
    "def pr(series):\n",
    "    '''Multiply by 100 and round'''\n",
    "    return (series * 100).round(1)\n",
    "\n",
    "def agr(series):\n",
    "    '''Calculate percent change from year ago'''\n",
    "    return pr(series.pct_change(12))\n",
    "\n",
    "def gr3(series):\n",
    "    '''Calculate 3 month moving average and annualize'''\n",
    "    return pr(((series.rolling(3).sum().pct_change(3) + 1) ** 4) - 1)\n",
    "\n",
    "# Write text for chart annotations\n",
    "def wt(filename, filetext):\n",
    "    '''Write string to txt file'''\n",
    "    with open(filename, 'w') as text_file:\n",
    "        text_file.write(filetext)"
   ]
  },
  {
   "cell_type": "markdown",
   "metadata": {},
   "source": [
    "#### Parameters - Inspect and run early"
   ]
  },
  {
   "cell_type": "code",
   "execution_count": 3,
   "metadata": {
    "collapsed": true
   },
   "outputs": [],
   "source": [
    "# API access to Bureau of Labor Statistics data\n",
    "url = 'https://api.bls.gov/publicAPI/v2/timeseries/data/'\n",
    "# API key in config.py which contains: bls_key = 'key'\n",
    "key = '?registrationkey={}'.format(config.bls_key)\n",
    "# Series of interest, format is: ('Fred ID', 'BLS ID')\n",
    "s = [('PAYEMS', 'CES0000000001'), ('UNRATE', 'LNS14000000'), \n",
    "     ('U6RATE', 'LNS13327709'), ('LNS12300060', 'LNS12300060'), \n",
    "     ('AHETPI', 'CES0500000008'), ('LNS12032197', 'LNS12032197'), \n",
    "     ('LNS12032200', 'LNS12032200'), ('LNS12035019', 'LNS12035019'),\n",
    "     ('LNS13025703', 'LNS13025703')]\n",
    "\n",
    "headers = {'Content-type': 'application/json'}    # Request json fmt\n",
    "param = {\"seriesid\": [i[1] for i in s],           \n",
    "         \"startyear\": \"2016\", \"endyear\": \"2017\"}  # Update for 2018"
   ]
  },
  {
   "cell_type": "markdown",
   "metadata": {},
   "source": [
    "#### Use BLS text table with series info to collect the name of each series in s - run early"
   ]
  },
  {
   "cell_type": "code",
   "execution_count": 4,
   "metadata": {
    "collapsed": true
   },
   "outputs": [],
   "source": [
    "d = {}    # Dictionary to fill with series names\n",
    "for i in ['ln', 'ce']:\n",
    "    url = f'https://download.bls.gov/pub/time.series/{i}/{i}.series'\n",
    "    t = pd.read_table(url, sep=r'\\s*\\t', engine='python')\n",
    "    t = t[t['series_id'].isin([i[1] for i in s])].set_index('series_id')['series_title']\n",
    "    for k, v in t.items(): d[k] = v"
   ]
  },
  {
   "cell_type": "markdown",
   "metadata": {},
   "source": [
    "#### Get long-term values from FRED - Inspect and run early"
   ]
  },
  {
   "cell_type": "code",
   "execution_count": null,
   "metadata": {
    "collapsed": true
   },
   "outputs": [],
   "source": [
    "# Start and end date in datetime format\n",
    "rng = pd.to_datetime(['1973-01-01', '2015-12-31', '2017-12-31'])\n",
    "dft = pdr([i[0] for i in s], 'fred', rng[0], rng[1])\n",
    "dft.columns = [i[1] for i in s]  # Rename to match with BLS"
   ]
  },
  {
   "cell_type": "markdown",
   "metadata": {},
   "source": [
    "#### Request Jobs Report data from BLS API - run at 8:31"
   ]
  },
  {
   "cell_type": "code",
   "execution_count": null,
   "metadata": {
    "collapsed": true
   },
   "outputs": [],
   "source": [
    "# Request all of the series in s\n",
    "p = requests.post(f'{url}{key}', data=json.dumps(param), headers=headers).json()\n",
    "print(f\"Status: {p['status']}\") # Print request status\n",
    "p = p['Results']['series']  # Keep data portion of post results\n",
    "\n",
    "# Use first series to get the datetime values\n",
    "idx = pd.to_datetime([f\"{i['period']} {i['year']}\" for i in p[0]['data']])\n",
    "print(f'Latest: {idx[0]:%B %Y}') # Print latest value"
   ]
  },
  {
   "cell_type": "markdown",
   "metadata": {},
   "source": [
    "#### Clean up and make calculations for series of interest"
   ]
  },
  {
   "cell_type": "code",
   "execution_count": null,
   "metadata": {
    "collapsed": true
   },
   "outputs": [],
   "source": [
    "# Build empty dataframe df from the API results, p\n",
    "df = pd.DataFrame()\n",
    "for s in p: df[s['seriesID']] = pd.Series(index = idx, \n",
    "    data = [i['value'] for i in s['data']], dtype='float').iloc[::-1]\n",
    "df = dft.append(df) # Merge previous data with new BLS data\n",
    "\n",
    "# Calculate indicators of interest (pr, gr3, agr defined above)\n",
    "df['ptec'] = pr(df['LNS12032197'] / df['LNS12035019']) #PT economic\n",
    "df['ptnec'] = pr(df['LNS12032200'] / df['LNS12035019']) #PT non-econ\n",
    "df['payroll'] = df['CES0000000001'].diff() # Payroll growth\n",
    "df['ahe'] = gr3(df['CES0500000008'])     # AHE 3m/3m annualized\n",
    "df['ahe2'] = agr(df['CES0500000008'])    # AHE 12m pct change\n",
    "df['cpi'] = agr(pdr('CPIAUCSL', 'fred', rng[0], rng[2]))  # CPI"
   ]
  },
  {
   "cell_type": "markdown",
   "metadata": {},
   "source": [
    "#### Chart data and annotation text"
   ]
  },
  {
   "cell_type": "code",
   "execution_count": null,
   "metadata": {
    "collapsed": true
   },
   "outputs": [],
   "source": []
  },
  {
   "cell_type": "code",
   "execution_count": null,
   "metadata": {
    "collapsed": true
   },
   "outputs": [],
   "source": []
  },
  {
   "cell_type": "code",
   "execution_count": null,
   "metadata": {
    "collapsed": true
   },
   "outputs": [],
   "source": []
  },
  {
   "cell_type": "code",
   "execution_count": null,
   "metadata": {
    "collapsed": true
   },
   "outputs": [],
   "source": []
  },
  {
   "cell_type": "markdown",
   "metadata": {},
   "source": [
    "#### Use BLS text files to look up series IDs"
   ]
  },
  {
   "cell_type": "code",
   "execution_count": null,
   "metadata": {
    "collapsed": true
   },
   "outputs": [],
   "source": [
    "ln_series = 'https://download.bls.gov/pub/time.series/ln/ln.series'\n",
    "ln = pd.read_table(ln_series, sep=r'\\s*\\t', engine='python')"
   ]
  },
  {
   "cell_type": "code",
   "execution_count": 21,
   "metadata": {},
   "outputs": [
    {
     "data": {
      "text/html": [
       "<div>\n",
       "<style scoped>\n",
       "    .dataframe tbody tr th:only-of-type {\n",
       "        vertical-align: middle;\n",
       "    }\n",
       "\n",
       "    .dataframe tbody tr th {\n",
       "        vertical-align: top;\n",
       "    }\n",
       "\n",
       "    .dataframe thead th {\n",
       "        text-align: right;\n",
       "    }\n",
       "</style>\n",
       "<table border=\"1\" class=\"dataframe\">\n",
       "  <thead>\n",
       "    <tr style=\"text-align: right;\">\n",
       "      <th></th>\n",
       "      <th>series_id</th>\n",
       "      <th>series_title</th>\n",
       "    </tr>\n",
       "  </thead>\n",
       "  <tbody>\n",
       "    <tr>\n",
       "      <th>915</th>\n",
       "      <td>LNS14000006</td>\n",
       "      <td>(Seas) Unemployment Rate - Black or African Am...</td>\n",
       "    </tr>\n",
       "    <tr>\n",
       "      <th>917</th>\n",
       "      <td>LNS14000007</td>\n",
       "      <td>(Seas) Unemployment Rate - Black or African Am...</td>\n",
       "    </tr>\n",
       "    <tr>\n",
       "      <th>919</th>\n",
       "      <td>LNS14000008</td>\n",
       "      <td>(Seas) Unemployment Rate - Black or African Am...</td>\n",
       "    </tr>\n",
       "    <tr>\n",
       "      <th>935</th>\n",
       "      <td>LNS14000018</td>\n",
       "      <td>(Seas) Unemployment Rate - 16-19 yrs., Black o...</td>\n",
       "    </tr>\n",
       "    <tr>\n",
       "      <th>937</th>\n",
       "      <td>LNS14000019</td>\n",
       "      <td>(Seas) Unemployment Rate - 16-19 yrs., Black o...</td>\n",
       "    </tr>\n",
       "    <tr>\n",
       "      <th>939</th>\n",
       "      <td>LNS14000020</td>\n",
       "      <td>(Seas) Unemployment Rate - 16-19 yrs., Black o...</td>\n",
       "    </tr>\n",
       "    <tr>\n",
       "      <th>959</th>\n",
       "      <td>LNS14000030</td>\n",
       "      <td>(Seas) Unemployment Rate - 20 yrs. &amp; over, Bla...</td>\n",
       "    </tr>\n",
       "    <tr>\n",
       "      <th>961</th>\n",
       "      <td>LNS14000031</td>\n",
       "      <td>(Seas) Unemployment Rate - 20 yrs. &amp; over, Bla...</td>\n",
       "    </tr>\n",
       "    <tr>\n",
       "      <th>963</th>\n",
       "      <td>LNS14000032</td>\n",
       "      <td>(Seas) Unemployment Rate - 20 yrs. &amp; over, Bla...</td>\n",
       "    </tr>\n",
       "  </tbody>\n",
       "</table>\n",
       "</div>"
      ],
      "text/plain": [
       "       series_id                                       series_title\n",
       "915  LNS14000006  (Seas) Unemployment Rate - Black or African Am...\n",
       "917  LNS14000007  (Seas) Unemployment Rate - Black or African Am...\n",
       "919  LNS14000008  (Seas) Unemployment Rate - Black or African Am...\n",
       "935  LNS14000018  (Seas) Unemployment Rate - 16-19 yrs., Black o...\n",
       "937  LNS14000019  (Seas) Unemployment Rate - 16-19 yrs., Black o...\n",
       "939  LNS14000020  (Seas) Unemployment Rate - 16-19 yrs., Black o...\n",
       "959  LNS14000030  (Seas) Unemployment Rate - 20 yrs. & over, Bla...\n",
       "961  LNS14000031  (Seas) Unemployment Rate - 20 yrs. & over, Bla...\n",
       "963  LNS14000032  (Seas) Unemployment Rate - 20 yrs. & over, Bla..."
      ]
     },
     "execution_count": 21,
     "metadata": {},
     "output_type": "execute_result"
    }
   ],
   "source": [
    "ln[(ln['series_title'].str.contains('Unemployment Rate')) & \n",
    "   (ln['series_title'].str.contains('Black')) & \n",
    "   (ln['periodicity_code'] == 'M') & \n",
    "   (ln['seasonal'] == 'S')][['series_id', 'series_title']]"
   ]
  },
  {
   "cell_type": "code",
   "execution_count": null,
   "metadata": {
    "collapsed": true
   },
   "outputs": [],
   "source": []
  },
  {
   "cell_type": "code",
   "execution_count": null,
   "metadata": {
    "collapsed": true
   },
   "outputs": [],
   "source": []
  },
  {
   "cell_type": "code",
   "execution_count": null,
   "metadata": {
    "collapsed": true
   },
   "outputs": [],
   "source": []
  },
  {
   "cell_type": "code",
   "execution_count": null,
   "metadata": {
    "collapsed": true
   },
   "outputs": [],
   "source": []
  },
  {
   "cell_type": "code",
   "execution_count": null,
   "metadata": {
    "collapsed": true
   },
   "outputs": [],
   "source": []
  },
  {
   "cell_type": "code",
   "execution_count": null,
   "metadata": {
    "collapsed": true
   },
   "outputs": [],
   "source": []
  },
  {
   "cell_type": "code",
   "execution_count": 15,
   "metadata": {
    "collapsed": true
   },
   "outputs": [],
   "source": [
    "ln_series = 'https://download.bls.gov/pub/time.series/ln/ln.series'\n",
    "ln = pd.read_table(ln_series, sep=r'\\s*\\t', engine='python')"
   ]
  },
  {
   "cell_type": "code",
   "execution_count": null,
   "metadata": {
    "collapsed": true
   },
   "outputs": [],
   "source": [
    "ce['series_id'].str"
   ]
  },
  {
   "cell_type": "code",
   "execution_count": 9,
   "metadata": {
    "collapsed": true
   },
   "outputs": [],
   "source": [
    "ce_series = 'https://download.bls.gov/pub/time.series/ce/ce.series'\n",
    "ln_series = 'https://download.bls.gov/pub/time.series/ln/ln.series'"
   ]
  },
  {
   "cell_type": "code",
   "execution_count": null,
   "metadata": {
    "collapsed": true
   },
   "outputs": [],
   "source": [
    "s[0][1]"
   ]
  },
  {
   "cell_type": "code",
   "execution_count": null,
   "metadata": {
    "collapsed": true
   },
   "outputs": [],
   "source": [
    "d = {}\n",
    "for i in ['ln', 'ce']:\n",
    "    url = f'https://download.bls.gov/pub/time.series/{i}/{i}.series'\n",
    "    t = pd.read_table(url, sep=r'\\s*\\t', engine='python')\n",
    "    t = t[t['series_id'].isin([i[1] for i in s])].set_index('series_id')['series_title']\n",
    "    for k, v in t.items(): d[k] = v"
   ]
  },
  {
   "cell_type": "code",
   "execution_count": null,
   "metadata": {
    "collapsed": true
   },
   "outputs": [],
   "source": [
    "t[t['series_id'].isin([i[1] for i in s])].set_index('series_id')['series_title']"
   ]
  },
  {
   "cell_type": "code",
   "execution_count": null,
   "metadata": {
    "collapsed": true
   },
   "outputs": [],
   "source": [
    "    \n",
    "ce_series = 'https://download.bls.gov/pub/time.series/ce/ce.series'\n",
    "ln_series = 'https://download.bls.gov/pub/time.series/ln/ln.series'\n",
    "ce = pd.read_table(ce_series, sep=r'\\s*\\t', engine='python')[['series_id', 'series_title']]\n",
    "ln = pd.read_table(ln_series, sep=r'\\s*\\t', engine='python')[['series_id', 'series_title']]\n",
    "\n",
    "ce[ce['series_id'].isin([i[1] for i in s])].append(ln[ln['series_id'].isin([i[1] for i in s])])"
   ]
  },
  {
   "cell_type": "code",
   "execution_count": null,
   "metadata": {
    "collapsed": true
   },
   "outputs": [],
   "source": [
    "ce['series_id'][0]"
   ]
  },
  {
   "cell_type": "code",
   "execution_count": null,
   "metadata": {
    "collapsed": true
   },
   "outputs": [],
   "source": [
    "ce[ce['series_id'].isin([i[1] for i in s])].append(ln[ln['series_id'].isin([i[1] for i in s])])"
   ]
  },
  {
   "cell_type": "code",
   "execution_count": null,
   "metadata": {
    "collapsed": true
   },
   "outputs": [],
   "source": [
    "ce['series_id'][0]"
   ]
  },
  {
   "cell_type": "code",
   "execution_count": null,
   "metadata": {
    "collapsed": true
   },
   "outputs": [],
   "source": [
    "ce.iloc[0]['series_title']"
   ]
  },
  {
   "cell_type": "code",
   "execution_count": null,
   "metadata": {
    "collapsed": true
   },
   "outputs": [],
   "source": [
    "ce"
   ]
  },
  {
   "cell_type": "code",
   "execution_count": null,
   "metadata": {
    "collapsed": true
   },
   "outputs": [],
   "source": []
  },
  {
   "cell_type": "code",
   "execution_count": null,
   "metadata": {
    "collapsed": true
   },
   "outputs": [],
   "source": [
    "df['ahe'] = df['CES0500000008'].rolling(3).sum().pct_change(3)\n",
    "df['ahe'] = ((((df['ahe']+1)**4)-1)*100).round(1) # annualize"
   ]
  },
  {
   "cell_type": "code",
   "execution_count": null,
   "metadata": {
    "collapsed": true
   },
   "outputs": [],
   "source": [
    "(((df['CES0500000008'].rolling(3).sum().pct_change(3)+1)**4)-1)*100 "
   ]
  },
  {
   "cell_type": "code",
   "execution_count": null,
   "metadata": {
    "collapsed": true
   },
   "outputs": [],
   "source": [
    "df['ahe3'] = agr(df['CES0500000008'])\n",
    "df['ahe2'] = (df['CES0500000008'].pct_change(12) * 100).round(1)\n",
    "\n",
    "df[['ahe2', 'ahe3']].tail()"
   ]
  },
  {
   "cell_type": "code",
   "execution_count": null,
   "metadata": {
    "collapsed": true
   },
   "outputs": [],
   "source": []
  },
  {
   "cell_type": "code",
   "execution_count": null,
   "metadata": {
    "collapsed": true
   },
   "outputs": [],
   "source": [
    "d"
   ]
  },
  {
   "cell_type": "code",
   "execution_count": null,
   "metadata": {
    "collapsed": true
   },
   "outputs": [],
   "source": [
    "cpi.columns = ['cpi']"
   ]
  },
  {
   "cell_type": "code",
   "execution_count": null,
   "metadata": {
    "collapsed": true
   },
   "outputs": [],
   "source": [
    "cpi"
   ]
  },
  {
   "cell_type": "code",
   "execution_count": null,
   "metadata": {
    "collapsed": true
   },
   "outputs": [],
   "source": []
  },
  {
   "cell_type": "code",
   "execution_count": null,
   "metadata": {
    "collapsed": true
   },
   "outputs": [],
   "source": []
  },
  {
   "cell_type": "code",
   "execution_count": null,
   "metadata": {
    "collapsed": true
   },
   "outputs": [],
   "source": []
  },
  {
   "cell_type": "code",
   "execution_count": null,
   "metadata": {
    "collapsed": true
   },
   "outputs": [],
   "source": []
  },
  {
   "cell_type": "code",
   "execution_count": null,
   "metadata": {
    "collapsed": true
   },
   "outputs": [],
   "source": []
  },
  {
   "cell_type": "code",
   "execution_count": null,
   "metadata": {
    "collapsed": true
   },
   "outputs": [],
   "source": []
  },
  {
   "cell_type": "code",
   "execution_count": null,
   "metadata": {
    "collapsed": true
   },
   "outputs": [],
   "source": []
  },
  {
   "cell_type": "code",
   "execution_count": null,
   "metadata": {
    "collapsed": true
   },
   "outputs": [],
   "source": [
    "cpi = pdr(['CPIAUCSL'], 'fred', rng[0], pd.to_datetime('2017-12-31'))"
   ]
  },
  {
   "cell_type": "code",
   "execution_count": null,
   "metadata": {
    "collapsed": true
   },
   "outputs": [],
   "source": [
    "cpi"
   ]
  },
  {
   "cell_type": "code",
   "execution_count": null,
   "metadata": {
    "collapsed": true
   },
   "outputs": [],
   "source": [
    "df = df.join(cpi.pct_change(12) * 100)"
   ]
  },
  {
   "cell_type": "code",
   "execution_count": null,
   "metadata": {
    "collapsed": true
   },
   "outputs": [],
   "source": [
    "df['ahe2'] = df['CES0500000008'].pct_change(12) * 100"
   ]
  },
  {
   "cell_type": "code",
   "execution_count": null,
   "metadata": {
    "collapsed": true
   },
   "outputs": [],
   "source": []
  },
  {
   "cell_type": "code",
   "execution_count": null,
   "metadata": {
    "collapsed": true
   },
   "outputs": [],
   "source": [
    "%matplotlib inline\n",
    "df.loc['1995-01-01':,['LNS14000000', 'LNS13327709']].plot()"
   ]
  },
  {
   "cell_type": "code",
   "execution_count": null,
   "metadata": {
    "collapsed": true
   },
   "outputs": [],
   "source": [
    "df.loc['1995-01-01':,'LNS12300060'].plot()"
   ]
  },
  {
   "cell_type": "code",
   "execution_count": null,
   "metadata": {
    "collapsed": true
   },
   "outputs": [],
   "source": [
    "df.loc['1995-01-01':,['ahe2', 'ahe', 'CWSR0000SA0']].plot()"
   ]
  },
  {
   "cell_type": "code",
   "execution_count": null,
   "metadata": {
    "collapsed": true
   },
   "outputs": [],
   "source": [
    "df.loc['1994-01-01':,['ptnec', 'ptec']].rolling(12).mean().plot()"
   ]
  },
  {
   "cell_type": "code",
   "execution_count": null,
   "metadata": {
    "collapsed": true
   },
   "outputs": [],
   "source": [
    "df.loc['1995-01-01':,'payroll'].plot()"
   ]
  },
  {
   "cell_type": "code",
   "execution_count": null,
   "metadata": {
    "collapsed": true
   },
   "outputs": [],
   "source": []
  },
  {
   "cell_type": "code",
   "execution_count": null,
   "metadata": {
    "collapsed": true
   },
   "outputs": [],
   "source": []
  },
  {
   "cell_type": "code",
   "execution_count": null,
   "metadata": {
    "collapsed": true
   },
   "outputs": [],
   "source": []
  },
  {
   "cell_type": "code",
   "execution_count": null,
   "metadata": {
    "collapsed": true
   },
   "outputs": [],
   "source": []
  },
  {
   "cell_type": "code",
   "execution_count": null,
   "metadata": {
    "collapsed": true
   },
   "outputs": [],
   "source": [
    "df = df_prev.append(df)"
   ]
  },
  {
   "cell_type": "code",
   "execution_count": null,
   "metadata": {
    "collapsed": true
   },
   "outputs": [],
   "source": [
    "(df['CES0500000003'].rolling(3).mean().pct_change(3)\n",
    "             .add(1).pow(4).subtract(1).multiply(100).round(1))"
   ]
  },
  {
   "cell_type": "code",
   "execution_count": null,
   "metadata": {
    "collapsed": true
   },
   "outputs": [],
   "source": [
    "df_prev.columns = [s_id for name, s_id in s]"
   ]
  },
  {
   "cell_type": "code",
   "execution_count": null,
   "metadata": {
    "collapsed": true
   },
   "outputs": [],
   "source": [
    "df_prev"
   ]
  },
  {
   "cell_type": "code",
   "execution_count": null,
   "metadata": {
    "collapsed": true
   },
   "outputs": [],
   "source": []
  },
  {
   "cell_type": "code",
   "execution_count": null,
   "metadata": {
    "collapsed": true
   },
   "outputs": [],
   "source": []
  },
  {
   "cell_type": "code",
   "execution_count": null,
   "metadata": {
    "collapsed": true
   },
   "outputs": [],
   "source": []
  },
  {
   "cell_type": "code",
   "execution_count": null,
   "metadata": {
    "collapsed": true
   },
   "outputs": [],
   "source": [
    "df"
   ]
  },
  {
   "cell_type": "code",
   "execution_count": null,
   "metadata": {
    "collapsed": true
   },
   "outputs": [],
   "source": []
  },
  {
   "cell_type": "code",
   "execution_count": null,
   "metadata": {
    "collapsed": true
   },
   "outputs": [],
   "source": []
  },
  {
   "cell_type": "code",
   "execution_count": null,
   "metadata": {
    "collapsed": true
   },
   "outputs": [],
   "source": [
    "pd.to_datetime(['1973-01-01', '2015-12-31'])[0]"
   ]
  },
  {
   "cell_type": "code",
   "execution_count": null,
   "metadata": {
    "collapsed": true
   },
   "outputs": [],
   "source": []
  },
  {
   "cell_type": "code",
   "execution_count": null,
   "metadata": {
    "collapsed": true
   },
   "outputs": [],
   "source": []
  },
  {
   "cell_type": "code",
   "execution_count": null,
   "metadata": {
    "collapsed": true
   },
   "outputs": [],
   "source": []
  },
  {
   "cell_type": "code",
   "execution_count": null,
   "metadata": {
    "collapsed": true
   },
   "outputs": [],
   "source": []
  },
  {
   "cell_type": "code",
   "execution_count": null,
   "metadata": {
    "collapsed": true
   },
   "outputs": [],
   "source": []
  },
  {
   "cell_type": "markdown",
   "metadata": {},
   "source": [
    "### Turn json data into a pandas dataframe"
   ]
  },
  {
   "cell_type": "code",
   "execution_count": null,
   "metadata": {
    "collapsed": true
   },
   "outputs": [],
   "source": [
    "# Build dataframe df from the API results, p\n",
    "df = pd.DataFrame() # Empty dataframe to fill with values\n",
    "for s in p: df[s['seriesID']] = pd.Series(index = idx, \n",
    "        data = [i['value'] for i in s['data']]\n",
    "        ).astype(float).iloc[::-1]"
   ]
  },
  {
   "cell_type": "markdown",
   "metadata": {},
   "source": [
    "### Calculate series for graphs"
   ]
  },
  {
   "cell_type": "code",
   "execution_count": null,
   "metadata": {
    "collapsed": true
   },
   "outputs": [],
   "source": []
  },
  {
   "cell_type": "code",
   "execution_count": null,
   "metadata": {
    "collapsed": true
   },
   "outputs": [],
   "source": [
    "print(f\"Latest: {idx[0]:%B %Y}\") "
   ]
  },
  {
   "cell_type": "code",
   "execution_count": null,
   "metadata": {
    "collapsed": true
   },
   "outputs": [],
   "source": []
  },
  {
   "cell_type": "code",
   "execution_count": null,
   "metadata": {
    "collapsed": true
   },
   "outputs": [],
   "source": []
  },
  {
   "cell_type": "code",
   "execution_count": null,
   "metadata": {
    "collapsed": true
   },
   "outputs": [],
   "source": []
  },
  {
   "cell_type": "code",
   "execution_count": null,
   "metadata": {
    "collapsed": true
   },
   "outputs": [],
   "source": []
  },
  {
   "cell_type": "code",
   "execution_count": null,
   "metadata": {
    "collapsed": true
   },
   "outputs": [],
   "source": [
    "today = datetime.datetime.now()\n",
    "print(f'Cell run: {today:%b %d, %Y}')"
   ]
  },
  {
   "cell_type": "code",
   "execution_count": null,
   "metadata": {
    "collapsed": true
   },
   "outputs": [],
   "source": [
    "['{} {}'.format(i['period'], i['year']) for i in r]"
   ]
  },
  {
   "cell_type": "code",
   "execution_count": null,
   "metadata": {
    "collapsed": true
   },
   "outputs": [],
   "source": [
    "idx = pd.to_datetime([f\"{i['period']} {i['year']}\" for i in p[0]['data']])"
   ]
  },
  {
   "cell_type": "code",
   "execution_count": null,
   "metadata": {
    "collapsed": true
   },
   "outputs": [],
   "source": [
    "dd = {}\n",
    "for x, y in s:\n",
    "    if \n",
    "    dd[x]\n",
    "    data = {param['seriesid'][0]: [float(i['value']) for i in r]}"
   ]
  },
  {
   "cell_type": "code",
   "execution_count": null,
   "metadata": {
    "collapsed": true
   },
   "outputs": [],
   "source": [
    "# Empty dictionary to fill with values\n",
    "dd = {}\n",
    "\n",
    "# Build a pandas series from the API results, p\n",
    "for s in p:\n",
    "    dd[s['seriesID']] = pd.Series(index = idx, \n",
    "        data = [i['value'] for i in s['data']]\n",
    "        ).astype(float).iloc[::-1]\n",
    "\n",
    "# Combine series into one pandas dataframe\n",
    "df = pd.DataFrame(dd)"
   ]
  },
  {
   "cell_type": "code",
   "execution_count": null,
   "metadata": {
    "collapsed": true
   },
   "outputs": [],
   "source": [
    "p"
   ]
  },
  {
   "cell_type": "code",
   "execution_count": null,
   "metadata": {
    "collapsed": true
   },
   "outputs": [],
   "source": []
  },
  {
   "cell_type": "code",
   "execution_count": null,
   "metadata": {
    "collapsed": true
   },
   "outputs": [],
   "source": [
    "# List comprehensions - clean json data and covert the \n",
    "# date, value, and footnote into pandas dataframe columns\n",
    "dates = ['{} {}'.format(i['period'], i['year']) for i in r]\n",
    "index = pd.to_datetime(dates)\n",
    "data = {param['seriesid'][0]: [float(i['value']) for i in r]}\n",
    "# .iloc[::-1] reverses the sorting/order of the dataframe\n",
    "df = pd.DataFrame(index=index, data=data).iloc[::-1]"
   ]
  },
  {
   "cell_type": "code",
   "execution_count": null,
   "metadata": {
    "collapsed": true
   },
   "outputs": [],
   "source": []
  },
  {
   "cell_type": "code",
   "execution_count": null,
   "metadata": {
    "collapsed": true
   },
   "outputs": [],
   "source": []
  },
  {
   "cell_type": "code",
   "execution_count": null,
   "metadata": {
    "collapsed": true
   },
   "outputs": [],
   "source": []
  },
  {
   "cell_type": "code",
   "execution_count": null,
   "metadata": {
    "collapsed": true
   },
   "outputs": [],
   "source": []
  }
 ],
 "metadata": {
  "kernelspec": {
   "display_name": "Python [conda env:py36]",
   "language": "python",
   "name": "conda-env-py36-py"
  },
  "language_info": {
   "codemirror_mode": {
    "name": "ipython",
    "version": 3
   },
   "file_extension": ".py",
   "mimetype": "text/x-python",
   "name": "python",
   "nbconvert_exporter": "python",
   "pygments_lexer": "ipython3",
   "version": "3.6.4"
  }
 },
 "nbformat": 4,
 "nbformat_minor": 2
}
