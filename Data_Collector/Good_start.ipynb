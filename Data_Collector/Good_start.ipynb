{
 "cells": [
  {
   "cell_type": "code",
   "execution_count": 3,
   "metadata": {},
   "outputs": [],
   "source": [
    "# Import python packages\n",
    "import requests\n",
    "import sqlite3\n",
    "import json\n",
    "import config   # Local file config.py with BLS API key\n",
    "#from api_readers import bls_api # BLS API reader\n",
    "from datetime import datetime\n",
    "today = datetime.now().date()"
   ]
  },
  {
   "cell_type": "code",
   "execution_count": 4,
   "metadata": {},
   "outputs": [
    {
     "name": "stdout",
     "output_type": "stream",
     "text": [
      "CES0000000001: Series Available!\n",
      "CES3000000001: Series Available!\n",
      "CES0500000003: Series Available!\n"
     ]
    }
   ],
   "source": [
    "s_list = ['CES0000000001', 'CES3000000001', 'CES0500000003']\n",
    "#s_list = ['LNS12300060', 'LES1252881600', 'LNS14000000']\n",
    "dur = 65\n",
    "source = 'BLS'\n",
    "bls_key = config.bls_key\n",
    "\n",
    "# Connect to SQL database and check for series\n",
    "conn = sqlite3.connect('macro_data.db')\n",
    "c = conn.cursor()\n",
    "c.execute(\"SELECT name FROM sqlite_master WHERE type='table';\")\n",
    "res = c.fetchall()\n",
    "for s_id in s_list:\n",
    "    if s_id in [i[0] for i in res]:\n",
    "        print('{}: Series Available!'.format(s_id))\n",
    "        #ld = c.execute(\"select * from {}\".format(s_id)).fetchall()[0][0]\n",
    "        #ld = datetime.strptime(ld, '%Y-%m-%d').date()\n",
    "        #if (today - ld).days > dur:\n",
    "            #print('Needs updating, though...')\n",
    "            #bls_api(s_id, bls_key, exists=True)\n",
    "        #else:\n",
    "            #print('And up-to-date!')\n",
    "        #bls_api(s_id, bls_key)\n",
    "\n",
    "        # Save and close\n",
    "        #conn.commit()\n",
    "    else: \n",
    "        print('{}: New table'.format(s_id))\n",
    "        #bls_api(s_id, bls_key)\n",
    "\n",
    "        # Save and close\n",
    "        conn.commit()\n",
    "conn.close()"
   ]
  },
  {
   "cell_type": "code",
   "execution_count": null,
   "metadata": {
    "collapsed": true
   },
   "outputs": [],
   "source": []
  },
  {
   "cell_type": "code",
   "execution_count": 9,
   "metadata": {
    "collapsed": true
   },
   "outputs": [],
   "source": [
    "conn.close()"
   ]
  },
  {
   "cell_type": "code",
   "execution_count": 10,
   "metadata": {},
   "outputs": [
    {
     "data": {
      "text/plain": [
       "[(u'epop',),\n",
       " (u'data',),\n",
       " (u'LNS12300060',),\n",
       " (u'LES1252881600',),\n",
       " (u'LNS14000000',),\n",
       " (u'CES0000000001',),\n",
       " (u'CES3000000001',),\n",
       " (u'CES0500000003',),\n",
       " (u'LNS12300061',),\n",
       " (u'LNS12300062',)]"
      ]
     },
     "execution_count": 10,
     "metadata": {},
     "output_type": "execute_result"
    }
   ],
   "source": [
    "conn = sqlite3.connect('macro_data.db')\n",
    "c = conn.cursor()\n",
    "c.execute(\"SELECT name FROM sqlite_master WHERE type='table';\")\n",
    "c.fetchall()"
   ]
  },
  {
   "cell_type": "code",
   "execution_count": 4,
   "metadata": {},
   "outputs": [],
   "source": [
    "conn = sqlite3.connect('macro_data.db')\n",
    "c = conn.cursor()"
   ]
  },
  {
   "cell_type": "code",
   "execution_count": 13,
   "metadata": {},
   "outputs": [
    {
     "data": {
      "text/plain": [
       "[(u'2017-11-01', 26.55),\n",
       " (u'2017-10-01', 26.5),\n",
       " (u'2017-09-01', 26.53),\n",
       " (u'2017-08-01', 26.42),\n",
       " (u'2017-07-01', 26.39),\n",
       " (u'2017-06-01', 26.27),\n",
       " (u'2017-05-01', 26.22),\n",
       " (u'2017-04-01', 26.18),\n",
       " (u'2017-03-01', 26.13),\n",
       " (u'2017-02-01', 26.1),\n",
       " (u'2017-01-01', 26.02),\n",
       " (u'2016-12-01', 25.98),\n",
       " (u'2016-11-01', 25.91),\n",
       " (u'2016-10-01', 25.9),\n",
       " (u'2016-09-01', 25.81),\n",
       " (u'2016-08-01', 25.74),\n",
       " (u'2016-07-01', 25.71),\n",
       " (u'2016-06-01', 25.62),\n",
       " (u'2016-05-01', 25.59),\n",
       " (u'2016-04-01', 25.54),\n",
       " (u'2016-03-01', 25.46),\n",
       " (u'2016-02-01', 25.38),\n",
       " (u'2016-01-01', 25.37),\n",
       " (u'2015-12-01', 25.26),\n",
       " (u'2015-11-01', 25.24),\n",
       " (u'2015-10-01', 25.21),\n",
       " (u'2015-09-01', 25.12),\n",
       " (u'2015-08-01', 25.1),\n",
       " (u'2015-07-01', 25.02),\n",
       " (u'2015-06-01', 24.96),\n",
       " (u'2015-05-01', 24.96),\n",
       " (u'2015-04-01', 24.89),\n",
       " (u'2015-03-01', 24.85),\n",
       " (u'2015-02-01', 24.79),\n",
       " (u'2015-01-01', 24.75),\n",
       " (u'2014-12-01', 24.64),\n",
       " (u'2014-11-01', 24.65),\n",
       " (u'2014-10-01', 24.58),\n",
       " (u'2014-09-01', 24.55),\n",
       " (u'2014-08-01', 24.55),\n",
       " (u'2014-07-01', 24.48),\n",
       " (u'2014-06-01', 24.45),\n",
       " (u'2014-05-01', 24.4),\n",
       " (u'2014-04-01', 24.34),\n",
       " (u'2014-03-01', 24.31),\n",
       " (u'2014-02-01', 24.32),\n",
       " (u'2014-01-01', 24.22),\n",
       " (u'2013-12-01', 24.19),\n",
       " (u'2013-11-01', 24.16),\n",
       " (u'2013-10-01', 24.09),\n",
       " (u'2013-09-01', 24.06),\n",
       " (u'2013-08-01', 24.02),\n",
       " (u'2013-07-01', 23.98),\n",
       " (u'2013-06-01', 23.97),\n",
       " (u'2013-05-01', 23.89),\n",
       " (u'2013-04-01', 23.86),\n",
       " (u'2013-03-01', 23.8),\n",
       " (u'2013-02-01', 23.79),\n",
       " (u'2013-01-01', 23.74),\n",
       " (u'2012-12-01', 23.72),\n",
       " (u'2012-11-01', 23.64),\n",
       " (u'2012-10-01', 23.56),\n",
       " (u'2012-09-01', 23.57),\n",
       " (u'2012-08-01', 23.49),\n",
       " (u'2012-07-01', 23.5),\n",
       " (u'2012-06-01', 23.46),\n",
       " (u'2012-05-01', 23.39),\n",
       " (u'2012-04-01', 23.4),\n",
       " (u'2012-03-01', 23.36),\n",
       " (u'2012-02-01', 23.28),\n",
       " (u'2012-01-01', 23.26),\n",
       " (u'2011-12-01', 23.23),\n",
       " (u'2011-11-01', 23.19),\n",
       " (u'2011-10-01', 23.21),\n",
       " (u'2011-09-01', 23.11),\n",
       " (u'2011-08-01', 23.06),\n",
       " (u'2011-07-01', 23.11),\n",
       " (u'2011-06-01', 23.01),\n",
       " (u'2011-05-01', 22.99),\n",
       " (u'2011-04-01', 22.92),\n",
       " (u'2011-03-01', 22.87),\n",
       " (u'2011-02-01', 22.87),\n",
       " (u'2011-01-01', 22.85),\n",
       " (u'2010-12-01', 22.76),\n",
       " (u'2010-11-01', 22.74),\n",
       " (u'2010-10-01', 22.74),\n",
       " (u'2010-09-01', 22.67),\n",
       " (u'2010-08-01', 22.62),\n",
       " (u'2010-07-01', 22.59),\n",
       " (u'2010-06-01', 22.53),\n",
       " (u'2010-05-01', 22.53),\n",
       " (u'2010-04-01', 22.5),\n",
       " (u'2010-03-01', 22.46),\n",
       " (u'2010-02-01', 22.46),\n",
       " (u'2010-01-01', 22.42),\n",
       " (u'2009-12-01', 22.37),\n",
       " (u'2009-11-01', 22.34),\n",
       " (u'2009-10-01', 22.31),\n",
       " (u'2009-09-01', 22.26),\n",
       " (u'2009-08-01', 22.23),\n",
       " (u'2009-07-01', 22.18),\n",
       " (u'2009-06-01', 22.14),\n",
       " (u'2009-05-01', 22.11),\n",
       " (u'2009-04-01', 22.1),\n",
       " (u'2009-03-01', 22.06),\n",
       " (u'2009-02-01', 22.0),\n",
       " (u'2009-01-01', 21.96),\n",
       " (u'2008-12-01', 21.94),\n",
       " (u'2008-11-01', 21.87),\n",
       " (u'2008-10-01', 21.76),\n",
       " (u'2008-09-01', 21.73),\n",
       " (u'2008-08-01', 21.7),\n",
       " (u'2008-07-01', 21.6),\n",
       " (u'2008-06-01', 21.52),\n",
       " (u'2008-05-01', 21.48),\n",
       " (u'2008-04-01', 21.38),\n",
       " (u'2008-03-01', 21.36),\n",
       " (u'2008-02-01', 21.27),\n",
       " (u'2008-01-01', 21.2),\n",
       " (u'2007-12-01', 21.18),\n",
       " (u'2007-11-01', 21.13),\n",
       " (u'2007-10-01', 21.06),\n",
       " (u'2007-09-01', 21.04),\n",
       " (u'2007-08-01', 21.0),\n",
       " (u'2007-07-01', 20.96),\n",
       " (u'2007-06-01', 20.96),\n",
       " (u'2007-05-01', 20.84),\n",
       " (u'2007-04-01', 20.78),\n",
       " (u'2007-03-01', 20.73),\n",
       " (u'2007-02-01', 20.68),\n",
       " (u'2007-01-01', 20.6),\n",
       " (u'2006-12-01', 20.58),\n",
       " (u'2006-11-01', 20.5),\n",
       " (u'2006-10-01', 20.44),\n",
       " (u'2006-09-01', 20.41),\n",
       " (u'2006-08-01', 20.32),\n",
       " (u'2006-07-01', 20.3),\n",
       " (u'2006-06-01', 20.23),\n",
       " (u'2006-05-01', 20.13),\n",
       " (u'2006-04-01', 20.15),\n",
       " (u'2006-03-01', 20.04)]"
      ]
     },
     "execution_count": 13,
     "metadata": {},
     "output_type": "execute_result"
    }
   ],
   "source": [
    "c.execute(\"select * from {}\".format('CES0500000003')).fetchall()"
   ]
  },
  {
   "cell_type": "code",
   "execution_count": null,
   "metadata": {
    "collapsed": true
   },
   "outputs": [],
   "source": [
    "conn = sqlite3.connect('macro_data.db')\n",
    "c = conn.cursor()\n",
    "#c.execute(\"SELECT name FROM sqlite_master WHERE type='table';\")"
   ]
  },
  {
   "cell_type": "code",
   "execution_count": null,
   "metadata": {
    "collapsed": true
   },
   "outputs": [],
   "source": [
    "[i[0] for i in c.fetchall()]\n",
    "for s_id in s_list:\n",
    "    if s_id in [i[0] for i in c.fetchall()]:\n",
    "        print('{}: Series Available!'.format(s_id))"
   ]
  },
  {
   "cell_type": "code",
   "execution_count": null,
   "metadata": {
    "collapsed": true
   },
   "outputs": [],
   "source": [
    "c = conn.cursor()\n",
    "ld = c.execute(\"select * from {}\".format(s_id))\n",
    "ld.fetchall()"
   ]
  },
  {
   "cell_type": "code",
   "execution_count": null,
   "metadata": {
    "collapsed": true
   },
   "outputs": [],
   "source": [
    "ld.fetchall()"
   ]
  },
  {
   "cell_type": "code",
   "execution_count": null,
   "metadata": {
    "collapsed": true
   },
   "outputs": [],
   "source": [
    "def bls_api(s_id, exists=False):\n",
    "    \"\"\"Collect data from the BLS API\"\"\"\n",
    "    # BLS API v2 - access using key from registration\n",
    "    api = 'https://api.bls.gov/publicAPI/v2/timeseries/data/'\n",
    "    url = '{}?registrationkey={}'.format(api, config.bls_key)\n",
    "\n",
    "    # Info for sending with post request\n",
    "    headers = {'Content-type': 'application/json'}\n",
    "    data = json.dumps({\"seriesid\": [s_id],  # BLS series ID\n",
    "             \"startyear\": \"2010\", \"endyear\": \"2017\"})\n",
    "\n",
    "    # Request json data from BLS API\n",
    "    p = requests.post(url, data=data, headers=headers).json()\n",
    "    print(p['status'])  # Print whether API request was successful\n",
    "\n",
    "    # Location within API results of time series and footnotes\n",
    "    r = p['Results']['series'][0]['data']\n",
    "\n",
    "    # json date and value to list of tuples\n",
    "    dates = ['{}-{}-01'.format(i['year'], i['period'][1:]) for i in r]\n",
    "    data = zip(dates, [float(i['value']) for i in r])\n",
    "\n",
    "    # Create and fill the table\n",
    "    conn.execute(\"create table if not exists {}(Date, Value)\".format(s_id))\n",
    "    conn.executemany(\"insert into {}(Date, Value) values (?, ?)\".format(s_id), data)"
   ]
  },
  {
   "cell_type": "code",
   "execution_count": null,
   "metadata": {
    "collapsed": true
   },
   "outputs": [],
   "source": []
  },
  {
   "cell_type": "code",
   "execution_count": null,
   "metadata": {
    "collapsed": true
   },
   "outputs": [],
   "source": []
  },
  {
   "cell_type": "code",
   "execution_count": null,
   "metadata": {
    "collapsed": true
   },
   "outputs": [],
   "source": [
    "c = conn.cursor()\n",
    "c.execute(\"SELECT name FROM sqlite_master WHERE type='table';\")"
   ]
  },
  {
   "cell_type": "code",
   "execution_count": null,
   "metadata": {
    "collapsed": true
   },
   "outputs": [],
   "source": [
    "c.fetchall()"
   ]
  },
  {
   "cell_type": "code",
   "execution_count": null,
   "metadata": {
    "collapsed": true
   },
   "outputs": [],
   "source": []
  },
  {
   "cell_type": "code",
   "execution_count": null,
   "metadata": {
    "collapsed": true
   },
   "outputs": [],
   "source": [
    "conn.close()"
   ]
  },
  {
   "cell_type": "code",
   "execution_count": null,
   "metadata": {
    "collapsed": true
   },
   "outputs": [],
   "source": [
    "print(p['status'])"
   ]
  },
  {
   "cell_type": "code",
   "execution_count": null,
   "metadata": {
    "collapsed": true
   },
   "outputs": [],
   "source": [
    "c = conn.cursor()\n",
    "c.execute(\"SELECT name FROM sqlite_master WHERE type='table';\")\n",
    "c.fetchall()"
   ]
  },
  {
   "cell_type": "code",
   "execution_count": null,
   "metadata": {
    "collapsed": true
   },
   "outputs": [],
   "source": []
  },
  {
   "cell_type": "code",
   "execution_count": null,
   "metadata": {
    "collapsed": true
   },
   "outputs": [],
   "source": []
  },
  {
   "cell_type": "code",
   "execution_count": null,
   "metadata": {
    "collapsed": true
   },
   "outputs": [],
   "source": []
  },
  {
   "cell_type": "code",
   "execution_count": null,
   "metadata": {
    "collapsed": true
   },
   "outputs": [],
   "source": [
    "# BLS API v2 - access using key from registration\n",
    "api = 'https://api.bls.gov/publicAPI/v2/timeseries/data/'\n",
    "url = '{}?registrationkey={}'.format(api, config.bls_key)\n",
    "\n",
    "# Info for sending with post request\n",
    "headers = {'Content-type': 'application/json'}\n",
    "data = json.dumps({\"seriesid\": [s_id],  # BLS series ID\n",
    "         \"startyear\": \"2010\", \"endyear\": \"2017\"})\n",
    "\n",
    "# Request json data from BLS API\n",
    "p = requests.post(url, data=data, headers=headers).json()\n",
    "print(p['status'])  # Print whether API request was successful\n",
    "\n",
    "# Location within API results of time series and footnotes\n",
    "r = p['Results']['series'][0]['data']\n",
    "\n",
    "# json date and value to list of tuples\n",
    "dates = ['{}-{}-01'.format(i['year'], i['period'][1:]) for i in r]\n",
    "data = zip(dates, [float(i['value']) for i in r])\n",
    "\n",
    "# Create and fill the table\n",
    "conn.execute(\"create table if not exists {}(Date, Value)\".format(s_id))\n",
    "conn.executemany(\"insert into {}(Date, Value) values (?, ?)\".format(s_id), data)\n",
    "\n",
    "# Save and close\n",
    "conn.commit()\n",
    "conn.close()"
   ]
  },
  {
   "cell_type": "code",
   "execution_count": null,
   "metadata": {
    "collapsed": true
   },
   "outputs": [],
   "source": [
    "# Connect to SQL database\n",
    "#conn = sqlite3.connect('macro_data.db')\n",
    "\n",
    "# Create the table\n",
    "conn.execute(\"create table if not exists {}(Date, Value)\".format(s_id))\n",
    "\n",
    "# Fill the table\n",
    "conn.executemany(\"insert into {}(Date, Value) values (?, ?)\".format(s_id), data)\n",
    "\n",
    "# Save and close\n",
    "conn.commit()\n",
    "conn.close()"
   ]
  },
  {
   "cell_type": "code",
   "execution_count": null,
   "metadata": {
    "collapsed": true
   },
   "outputs": [],
   "source": []
  },
  {
   "cell_type": "code",
   "execution_count": null,
   "metadata": {
    "collapsed": true
   },
   "outputs": [],
   "source": []
  },
  {
   "cell_type": "code",
   "execution_count": null,
   "metadata": {
    "collapsed": true
   },
   "outputs": [],
   "source": []
  },
  {
   "cell_type": "code",
   "execution_count": null,
   "metadata": {
    "collapsed": true
   },
   "outputs": [],
   "source": []
  },
  {
   "cell_type": "code",
   "execution_count": null,
   "metadata": {
    "collapsed": true
   },
   "outputs": [],
   "source": [
    "#s_id = 'LNS12300060' # BLS series ID of interest\n",
    "#s_id2 = 'LES1252881600'\n",
    "#s_id3 = 'LNS14000000'"
   ]
  },
  {
   "cell_type": "code",
   "execution_count": null,
   "metadata": {
    "collapsed": true
   },
   "outputs": [],
   "source": [
    "#c = conn.cursor()\n",
    "#print(c.execute(\"select * from {}\".format(s_id)).fetchall())\n",
    "#names = [tup[0] for tup in c.fetchall()]\n",
    "#print(names)"
   ]
  },
  {
   "cell_type": "code",
   "execution_count": null,
   "metadata": {
    "collapsed": true
   },
   "outputs": [],
   "source": [
    "#c.fetchall()"
   ]
  },
  {
   "cell_type": "code",
   "execution_count": null,
   "metadata": {
    "collapsed": true
   },
   "outputs": [],
   "source": [
    "#con = sqlite3.connect('macro_data.db')\n",
    "#c = conn.cursor()\n",
    "#c.execute(\"SELECT name FROM sqlite_master WHERE type='table';\")\n",
    "#print(cursor.fetchall())"
   ]
  },
  {
   "cell_type": "code",
   "execution_count": null,
   "metadata": {
    "collapsed": true
   },
   "outputs": [],
   "source": []
  },
  {
   "cell_type": "code",
   "execution_count": null,
   "metadata": {
    "collapsed": true
   },
   "outputs": [],
   "source": [
    "#print(c.fetchall())\n",
    "#table = c.execute(\"select * from {}\".format(s_id)).fetchall()\n",
    "\n",
    "#if len(table) == 0:\n",
    "    #Get full data and create new table\n",
    "    \n",
    "#elif \n",
    "\n",
    "#print(table)\n",
    "#print(len(table))\n",
    "# Save string with data of latest datapoint\n",
    "#ldate = table[0][0]"
   ]
  }
 ],
 "metadata": {
  "kernelspec": {
   "display_name": "Python [conda root]",
   "language": "python",
   "name": "conda-root-py"
  },
  "language_info": {
   "codemirror_mode": {
    "name": "ipython",
    "version": 2
   },
   "file_extension": ".py",
   "mimetype": "text/x-python",
   "name": "python",
   "nbconvert_exporter": "python",
   "pygments_lexer": "ipython2",
   "version": "2.7.12"
  }
 },
 "nbformat": 4,
 "nbformat_minor": 2
}
