{
 "cells": [
  {
   "cell_type": "markdown",
   "metadata": {},
   "source": [
    "### Read the GDP release with Python"
   ]
  },
  {
   "cell_type": "code",
   "execution_count": 1,
   "metadata": {
    "collapsed": true
   },
   "outputs": [],
   "source": [
    "import requests\n",
    "import pandas as pd\n",
    "import config   ## File with API key\n",
    "\n",
    "def write_txt(filename, filetext):\n",
    "    '''Write label to txt file'''\n",
    "    with open(filename, 'w') as text_file:\n",
    "        text_file.write(filetext)"
   ]
  },
  {
   "cell_type": "code",
   "execution_count": 3,
   "metadata": {},
   "outputs": [],
   "source": [
    "# Components of request\n",
    "base = f'https://www.bea.gov/api/data/?&UserID={config.bea_key}'\n",
    "dset = '&method=GetData&datasetname=NIPA'\n",
    "tbl = [('T10102', ['A191RL', 'DPCERY', 'A006RY', 'A019RY', 'A822RY']),\n",
    "       ('T50302', ['A008RZ', 'B009RZ', 'Y033RZ', 'Y001RZ'])]\n",
    "       #('T50100', ['W170RC', 'W988RC', 'W987RC', 'A782RC']),\n",
    "       #('T10106', ['A191RX', 'RPCERX', 'A005RX', 'A019RX', 'A822RX'])]\n",
    "freq = '&Frequency=Q'\n",
    "year = f'&Year={\",\".join([str(i) for i in range(2005,2018)])}'\n",
    "fmt = '&ResultFormat=json'\n",
    "\n",
    "s1,s2,s3,s4 = '\\scriptsize{','}\\\\\\\\\\scriptsize{','}\\\\\\\\\\\\textbf{','}'"
   ]
  },
  {
   "cell_type": "code",
   "execution_count": 74,
   "metadata": {},
   "outputs": [],
   "source": [
    "for t in tbl:\n",
    "    # Build url from components\n",
    "    url = f'{base}{dset}&TableName={t[0]}{freq}{year}{fmt}'\n",
    "    # Request data\n",
    "    full_table = requests.get(url).json()['BEAAPI']['Results']['Data']\n",
    "    r = [s for s in full_table if s['SeriesCode'] in t[1]]\n",
    "    idx1 = [pd.to_datetime(i['TimePeriod']) for i in r]\n",
    "    idx2 = [i['SeriesCode'] for i in r]\n",
    "    df = pd.DataFrame(r, index=[idx1, idx2], columns=['DataValue']).unstack(1)\n",
    "    df['DataValue'].loc['2006-01-01':].to_csv(f'{t[0]}.csv', index_label='DATE')\n",
    "\n",
    "    # Write chart label to txt\n",
    "    lt_dt = r[-1]['TimePeriod']\n",
    "    lt_val = round(float(df['DataValue'][t[1][0]].iloc[-1:][0].replace(',','')), 1)\n",
    "    lbl = f'{s1}{lt_dt[:4]}{s2}{lt_dt[4:]}{s3}{lt_val}{s4}'\n",
    "    write_txt(f'{t[0]}.txt', lbl)"
   ]
  },
  {
   "cell_type": "code",
   "execution_count": 64,
   "metadata": {},
   "outputs": [
    {
     "data": {
      "text/plain": [
       "'2017Q4'"
      ]
     },
     "execution_count": 64,
     "metadata": {},
     "output_type": "execute_result"
    }
   ],
   "source": [
    "r[-1]['TimePeriod']"
   ]
  },
  {
   "cell_type": "code",
   "execution_count": 65,
   "metadata": {},
   "outputs": [],
   "source": [
    "lt_dt = r[-1]['TimePeriod']\n",
    "lt_val = round(float(df['DataValue']['A191RL'].iloc[-1:][0]), 2)"
   ]
  },
  {
   "cell_type": "code",
   "execution_count": 61,
   "metadata": {},
   "outputs": [
    {
     "data": {
      "text/plain": [
       "Timestamp('2017-10-01 00:00:00')"
      ]
     },
     "execution_count": 61,
     "metadata": {},
     "output_type": "execute_result"
    }
   ],
   "source": [
    "lt_dt"
   ]
  },
  {
   "cell_type": "code",
   "execution_count": 72,
   "metadata": {},
   "outputs": [
    {
     "data": {
      "text/html": [
       "<div>\n",
       "<style scoped>\n",
       "    .dataframe tbody tr th:only-of-type {\n",
       "        vertical-align: middle;\n",
       "    }\n",
       "\n",
       "    .dataframe tbody tr th {\n",
       "        vertical-align: top;\n",
       "    }\n",
       "\n",
       "    .dataframe thead th {\n",
       "        text-align: right;\n",
       "    }\n",
       "</style>\n",
       "<table border=\"1\" class=\"dataframe\">\n",
       "  <thead>\n",
       "    <tr style=\"text-align: right;\">\n",
       "      <th></th>\n",
       "      <th>A019RX</th>\n",
       "      <th>A191RX</th>\n",
       "      <th>A822RX</th>\n",
       "    </tr>\n",
       "  </thead>\n",
       "  <tbody>\n",
       "    <tr>\n",
       "      <th>2005-01-01</th>\n",
       "      <td>-774,147</td>\n",
       "      <td>14,099,081</td>\n",
       "      <td>2,814,091</td>\n",
       "    </tr>\n",
       "    <tr>\n",
       "      <th>2005-04-01</th>\n",
       "      <td>-773,540</td>\n",
       "      <td>14,172,695</td>\n",
       "      <td>2,818,942</td>\n",
       "    </tr>\n",
       "    <tr>\n",
       "      <th>2005-07-01</th>\n",
       "      <td>-777,679</td>\n",
       "      <td>14,291,757</td>\n",
       "      <td>2,840,970</td>\n",
       "    </tr>\n",
       "    <tr>\n",
       "      <th>2005-10-01</th>\n",
       "      <td>-803,875</td>\n",
       "      <td>14,373,438</td>\n",
       "      <td>2,830,703</td>\n",
       "    </tr>\n",
       "    <tr>\n",
       "      <th>2006-01-01</th>\n",
       "      <td>-798,980</td>\n",
       "      <td>14,546,119</td>\n",
       "      <td>2,853,496</td>\n",
       "    </tr>\n",
       "    <tr>\n",
       "      <th>2006-04-01</th>\n",
       "      <td>-799,103</td>\n",
       "      <td>14,589,585</td>\n",
       "      <td>2,864,122</td>\n",
       "    </tr>\n",
       "    <tr>\n",
       "      <th>2006-07-01</th>\n",
       "      <td>-819,709</td>\n",
       "      <td>14,602,633</td>\n",
       "      <td>2,870,426</td>\n",
       "    </tr>\n",
       "    <tr>\n",
       "      <th>2006-10-01</th>\n",
       "      <td>-759,291</td>\n",
       "      <td>14,716,930</td>\n",
       "      <td>2,889,085</td>\n",
       "    </tr>\n",
       "    <tr>\n",
       "      <th>2007-01-01</th>\n",
       "      <td>-771,013</td>\n",
       "      <td>14,726,022</td>\n",
       "      <td>2,882,744</td>\n",
       "    </tr>\n",
       "    <tr>\n",
       "      <th>2007-04-01</th>\n",
       "      <td>-753,725</td>\n",
       "      <td>14,838,664</td>\n",
       "      <td>2,907,034</td>\n",
       "    </tr>\n",
       "    <tr>\n",
       "      <th>2007-07-01</th>\n",
       "      <td>-703,152</td>\n",
       "      <td>14,938,467</td>\n",
       "      <td>2,928,048</td>\n",
       "    </tr>\n",
       "    <tr>\n",
       "      <th>2007-10-01</th>\n",
       "      <td>-622,583</td>\n",
       "      <td>14,991,784</td>\n",
       "      <td>2,939,810</td>\n",
       "    </tr>\n",
       "    <tr>\n",
       "      <th>2008-01-01</th>\n",
       "      <td>-623,695</td>\n",
       "      <td>14,889,450</td>\n",
       "      <td>2,951,988</td>\n",
       "    </tr>\n",
       "    <tr>\n",
       "      <th>2008-04-01</th>\n",
       "      <td>-550,382</td>\n",
       "      <td>14,963,357</td>\n",
       "      <td>2,974,981</td>\n",
       "    </tr>\n",
       "    <tr>\n",
       "      <th>2008-07-01</th>\n",
       "      <td>-526,919</td>\n",
       "      <td>14,891,643</td>\n",
       "      <td>3,016,161</td>\n",
       "    </tr>\n",
       "    <tr>\n",
       "      <th>2008-10-01</th>\n",
       "      <td>-530,282</td>\n",
       "      <td>14,576,985</td>\n",
       "      <td>3,035,882</td>\n",
       "    </tr>\n",
       "    <tr>\n",
       "      <th>2009-01-01</th>\n",
       "      <td>-451,324</td>\n",
       "      <td>14,375,018</td>\n",
       "      <td>3,040,542</td>\n",
       "    </tr>\n",
       "    <tr>\n",
       "      <th>2009-04-01</th>\n",
       "      <td>-366,333</td>\n",
       "      <td>14,355,558</td>\n",
       "      <td>3,096,001</td>\n",
       "    </tr>\n",
       "    <tr>\n",
       "      <th>2009-07-01</th>\n",
       "      <td>-383,643</td>\n",
       "      <td>14,402,477</td>\n",
       "      <td>3,112,999</td>\n",
       "    </tr>\n",
       "    <tr>\n",
       "      <th>2009-10-01</th>\n",
       "      <td>-380,448</td>\n",
       "      <td>14,541,901</td>\n",
       "      <td>3,106,822</td>\n",
       "    </tr>\n",
       "    <tr>\n",
       "      <th>2010-01-01</th>\n",
       "      <td>-408,776</td>\n",
       "      <td>14,604,845</td>\n",
       "      <td>3,084,280</td>\n",
       "    </tr>\n",
       "    <tr>\n",
       "      <th>2010-04-01</th>\n",
       "      <td>-469,707</td>\n",
       "      <td>14,745,933</td>\n",
       "      <td>3,106,209</td>\n",
       "    </tr>\n",
       "    <tr>\n",
       "      <th>2010-07-01</th>\n",
       "      <td>-498,445</td>\n",
       "      <td>14,845,458</td>\n",
       "      <td>3,103,533</td>\n",
       "    </tr>\n",
       "    <tr>\n",
       "      <th>2010-10-01</th>\n",
       "      <td>-458,094</td>\n",
       "      <td>14,939,001</td>\n",
       "      <td>3,071,524</td>\n",
       "    </tr>\n",
       "    <tr>\n",
       "      <th>2011-01-01</th>\n",
       "      <td>-466,181</td>\n",
       "      <td>14,881,301</td>\n",
       "      <td>3,012,216</td>\n",
       "    </tr>\n",
       "    <tr>\n",
       "      <th>2011-04-01</th>\n",
       "      <td>-455,249</td>\n",
       "      <td>14,989,555</td>\n",
       "      <td>3,008,995</td>\n",
       "    </tr>\n",
       "    <tr>\n",
       "      <th>2011-07-01</th>\n",
       "      <td>-454,323</td>\n",
       "      <td>15,021,149</td>\n",
       "      <td>2,990,006</td>\n",
       "    </tr>\n",
       "    <tr>\n",
       "      <th>2011-10-01</th>\n",
       "      <td>-461,679</td>\n",
       "      <td>15,190,255</td>\n",
       "      <td>2,978,279</td>\n",
       "    </tr>\n",
       "    <tr>\n",
       "      <th>2012-01-01</th>\n",
       "      <td>-462,696</td>\n",
       "      <td>15,291,035</td>\n",
       "      <td>2,963,714</td>\n",
       "    </tr>\n",
       "    <tr>\n",
       "      <th>2012-04-01</th>\n",
       "      <td>-452,688</td>\n",
       "      <td>15,362,415</td>\n",
       "      <td>2,949,378</td>\n",
       "    </tr>\n",
       "    <tr>\n",
       "      <th>2012-07-01</th>\n",
       "      <td>-446,802</td>\n",
       "      <td>15,380,802</td>\n",
       "      <td>2,940,856</td>\n",
       "    </tr>\n",
       "    <tr>\n",
       "      <th>2012-10-01</th>\n",
       "      <td>-426,044</td>\n",
       "      <td>15,384,254</td>\n",
       "      <td>2,912,269</td>\n",
       "    </tr>\n",
       "    <tr>\n",
       "      <th>2013-01-01</th>\n",
       "      <td>-414,359</td>\n",
       "      <td>15,491,878</td>\n",
       "      <td>2,880,574</td>\n",
       "    </tr>\n",
       "    <tr>\n",
       "      <th>2013-04-01</th>\n",
       "      <td>-421,097</td>\n",
       "      <td>15,521,559</td>\n",
       "      <td>2,866,231</td>\n",
       "    </tr>\n",
       "    <tr>\n",
       "      <th>2013-07-01</th>\n",
       "      <td>-416,098</td>\n",
       "      <td>15,641,336</td>\n",
       "      <td>2,851,955</td>\n",
       "    </tr>\n",
       "    <tr>\n",
       "      <th>2013-10-01</th>\n",
       "      <td>-368,072</td>\n",
       "      <td>15,793,928</td>\n",
       "      <td>2,831,451</td>\n",
       "    </tr>\n",
       "    <tr>\n",
       "      <th>2014-01-01</th>\n",
       "      <td>-410,995</td>\n",
       "      <td>15,757,570</td>\n",
       "      <td>2,827,201</td>\n",
       "    </tr>\n",
       "    <tr>\n",
       "      <th>2014-04-01</th>\n",
       "      <td>-426,161</td>\n",
       "      <td>15,935,825</td>\n",
       "      <td>2,834,668</td>\n",
       "    </tr>\n",
       "    <tr>\n",
       "      <th>2014-07-01</th>\n",
       "      <td>-416,660</td>\n",
       "      <td>16,139,513</td>\n",
       "      <td>2,849,507</td>\n",
       "    </tr>\n",
       "    <tr>\n",
       "      <th>2014-10-01</th>\n",
       "      <td>-456,928</td>\n",
       "      <td>16,220,222</td>\n",
       "      <td>2,845,038</td>\n",
       "    </tr>\n",
       "    <tr>\n",
       "      <th>2015-01-01</th>\n",
       "      <td>-524,144</td>\n",
       "      <td>16,349,970</td>\n",
       "      <td>2,855,726</td>\n",
       "    </tr>\n",
       "    <tr>\n",
       "      <th>2015-04-01</th>\n",
       "      <td>-526,215</td>\n",
       "      <td>16,460,889</td>\n",
       "      <td>2,879,885</td>\n",
       "    </tr>\n",
       "    <tr>\n",
       "      <th>2015-07-01</th>\n",
       "      <td>-559,309</td>\n",
       "      <td>16,527,587</td>\n",
       "      <td>2,888,251</td>\n",
       "    </tr>\n",
       "    <tr>\n",
       "      <th>2015-10-01</th>\n",
       "      <td>-571,524</td>\n",
       "      <td>16,547,619</td>\n",
       "      <td>2,890,238</td>\n",
       "    </tr>\n",
       "    <tr>\n",
       "      <th>2016-01-01</th>\n",
       "      <td>-584,218</td>\n",
       "      <td>16,571,573</td>\n",
       "      <td>2,903,187</td>\n",
       "    </tr>\n",
       "    <tr>\n",
       "      <th>2016-04-01</th>\n",
       "      <td>-572,408</td>\n",
       "      <td>16,663,516</td>\n",
       "      <td>2,896,332</td>\n",
       "    </tr>\n",
       "    <tr>\n",
       "      <th>2016-07-01</th>\n",
       "      <td>-557,294</td>\n",
       "      <td>16,778,148</td>\n",
       "      <td>2,899,936</td>\n",
       "    </tr>\n",
       "    <tr>\n",
       "      <th>2016-10-01</th>\n",
       "      <td>-631,079</td>\n",
       "      <td>16,851,420</td>\n",
       "      <td>2,901,184</td>\n",
       "    </tr>\n",
       "    <tr>\n",
       "      <th>2017-01-01</th>\n",
       "      <td>-622,219</td>\n",
       "      <td>16,903,240</td>\n",
       "      <td>2,896,627</td>\n",
       "    </tr>\n",
       "    <tr>\n",
       "      <th>2017-04-01</th>\n",
       "      <td>-613,633</td>\n",
       "      <td>17,031,085</td>\n",
       "      <td>2,895,230</td>\n",
       "    </tr>\n",
       "    <tr>\n",
       "      <th>2017-07-01</th>\n",
       "      <td>-597,547</td>\n",
       "      <td>17,163,894</td>\n",
       "      <td>2,899,965</td>\n",
       "    </tr>\n",
       "    <tr>\n",
       "      <th>2017-10-01</th>\n",
       "      <td>-652,607</td>\n",
       "      <td>17,272,468</td>\n",
       "      <td>2,921,132</td>\n",
       "    </tr>\n",
       "  </tbody>\n",
       "</table>\n",
       "</div>"
      ],
      "text/plain": [
       "              A019RX      A191RX     A822RX\n",
       "2005-01-01  -774,147  14,099,081  2,814,091\n",
       "2005-04-01  -773,540  14,172,695  2,818,942\n",
       "2005-07-01  -777,679  14,291,757  2,840,970\n",
       "2005-10-01  -803,875  14,373,438  2,830,703\n",
       "2006-01-01  -798,980  14,546,119  2,853,496\n",
       "2006-04-01  -799,103  14,589,585  2,864,122\n",
       "2006-07-01  -819,709  14,602,633  2,870,426\n",
       "2006-10-01  -759,291  14,716,930  2,889,085\n",
       "2007-01-01  -771,013  14,726,022  2,882,744\n",
       "2007-04-01  -753,725  14,838,664  2,907,034\n",
       "2007-07-01  -703,152  14,938,467  2,928,048\n",
       "2007-10-01  -622,583  14,991,784  2,939,810\n",
       "2008-01-01  -623,695  14,889,450  2,951,988\n",
       "2008-04-01  -550,382  14,963,357  2,974,981\n",
       "2008-07-01  -526,919  14,891,643  3,016,161\n",
       "2008-10-01  -530,282  14,576,985  3,035,882\n",
       "2009-01-01  -451,324  14,375,018  3,040,542\n",
       "2009-04-01  -366,333  14,355,558  3,096,001\n",
       "2009-07-01  -383,643  14,402,477  3,112,999\n",
       "2009-10-01  -380,448  14,541,901  3,106,822\n",
       "2010-01-01  -408,776  14,604,845  3,084,280\n",
       "2010-04-01  -469,707  14,745,933  3,106,209\n",
       "2010-07-01  -498,445  14,845,458  3,103,533\n",
       "2010-10-01  -458,094  14,939,001  3,071,524\n",
       "2011-01-01  -466,181  14,881,301  3,012,216\n",
       "2011-04-01  -455,249  14,989,555  3,008,995\n",
       "2011-07-01  -454,323  15,021,149  2,990,006\n",
       "2011-10-01  -461,679  15,190,255  2,978,279\n",
       "2012-01-01  -462,696  15,291,035  2,963,714\n",
       "2012-04-01  -452,688  15,362,415  2,949,378\n",
       "2012-07-01  -446,802  15,380,802  2,940,856\n",
       "2012-10-01  -426,044  15,384,254  2,912,269\n",
       "2013-01-01  -414,359  15,491,878  2,880,574\n",
       "2013-04-01  -421,097  15,521,559  2,866,231\n",
       "2013-07-01  -416,098  15,641,336  2,851,955\n",
       "2013-10-01  -368,072  15,793,928  2,831,451\n",
       "2014-01-01  -410,995  15,757,570  2,827,201\n",
       "2014-04-01  -426,161  15,935,825  2,834,668\n",
       "2014-07-01  -416,660  16,139,513  2,849,507\n",
       "2014-10-01  -456,928  16,220,222  2,845,038\n",
       "2015-01-01  -524,144  16,349,970  2,855,726\n",
       "2015-04-01  -526,215  16,460,889  2,879,885\n",
       "2015-07-01  -559,309  16,527,587  2,888,251\n",
       "2015-10-01  -571,524  16,547,619  2,890,238\n",
       "2016-01-01  -584,218  16,571,573  2,903,187\n",
       "2016-04-01  -572,408  16,663,516  2,896,332\n",
       "2016-07-01  -557,294  16,778,148  2,899,936\n",
       "2016-10-01  -631,079  16,851,420  2,901,184\n",
       "2017-01-01  -622,219  16,903,240  2,896,627\n",
       "2017-04-01  -613,633  17,031,085  2,895,230\n",
       "2017-07-01  -597,547  17,163,894  2,899,965\n",
       "2017-10-01  -652,607  17,272,468  2,921,132"
      ]
     },
     "execution_count": 72,
     "metadata": {},
     "output_type": "execute_result"
    }
   ],
   "source": [
    "df['DataValue']"
   ]
  },
  {
   "cell_type": "code",
   "execution_count": null,
   "metadata": {
    "collapsed": true
   },
   "outputs": [],
   "source": []
  },
  {
   "cell_type": "code",
   "execution_count": null,
   "metadata": {},
   "outputs": [],
   "source": [
    "f'{df.iloc[-1].name: %Y %}'#df.iloc[-1].name"
   ]
  },
  {
   "cell_type": "code",
   "execution_count": null,
   "metadata": {},
   "outputs": [],
   "source": [
    "lt_date = r[-1]['TimePeriod']\n",
    "\n",
    "s1, s2, s3, s4 = '\\scriptsize{', '}\\\\\\scriptsize{', '}\\\\\\textbf{', '}'\n",
    "lbl = f'{s1}{lt_date[:4]}{s2}{lt_date[4:]}{s3}{df[\"A191RL\"][-1]}{s4}'"
   ]
  },
  {
   "cell_type": "code",
   "execution_count": null,
   "metadata": {},
   "outputs": [],
   "source": [
    "lt_date[4:]"
   ]
  },
  {
   "cell_type": "code",
   "execution_count": null,
   "metadata": {},
   "outputs": [],
   "source": [
    "lbl = f'{s1}{lt_date[:4]}{s2}{lt_date[4:]}{s3}{df[\"A191RL\"][-1]}{s4}'"
   ]
  },
  {
   "cell_type": "code",
   "execution_count": null,
   "metadata": {},
   "outputs": [],
   "source": [
    "# Build url from components\n",
    "url = f'{base}{dset}&TableName={tbl[0][0]}{freq}{year}{fmt}'\n",
    "\n",
    "# Request data and and convert to pandas dataframe\n",
    "r = requests.get(url).json()['BEAAPI']['Results']['Data']\n",
    "dates = [pd.to_datetime(v['TimePeriod']) for v in r]\n",
    "df = pd.DataFrame(r, index=[dates, 'SeriesCode'])\n",
    "df = df[df['SeriesCode'].isin(tbl[0][1])].set_index(['date', 'SeriesCode'])\n",
    "df = df['DataValue'].unstack(1).loc['2006-01-01':]\n",
    "df.to_csv('gdp_comp.csv', index_label='DATE')\n",
    "\n",
    "write_txt('gdp_comp.txt', df['A191RL'][-1]) # Write chart label to txt"
   ]
  },
  {
   "cell_type": "code",
   "execution_count": null,
   "metadata": {},
   "outputs": [],
   "source": [
    "# Build url from components\n",
    "url = f'{base}{dset}&TableName={tbl[1][0]}{freq}{year}{fmt}'\n",
    "\n",
    "# Request data and and convert to pandas dataframe\n",
    "r = requests.get(url).json()['BEAAPI']['Results']['Data']\n",
    "df = pd.DataFrame(r, index=[pd.to_datetime(v['TimePeriod']) for v in r])"
   ]
  },
  {
   "cell_type": "code",
   "execution_count": null,
   "metadata": {
    "collapsed": true
   },
   "outputs": [],
   "source": [
    "# Build url from components\n",
    "url = f'{base}{dset}&TableName={tbl[3][0]}{freq}{year}{fmt}'\n",
    "\n",
    "# Request data and and convert to pandas dataframe\n",
    "r = requests.get(url).json()['BEAAPI']['Results']['Data']\n",
    "df = pd.DataFrame(r, index=[pd.to_datetime(v['TimePeriod']) for v in r])"
   ]
  },
  {
   "cell_type": "code",
   "execution_count": null,
   "metadata": {},
   "outputs": [],
   "source": [
    "df['2017-10-01']#['LineDescription'].unique()"
   ]
  },
  {
   "cell_type": "code",
   "execution_count": null,
   "metadata": {},
   "outputs": [],
   "source": [
    "r = [x for x in r if x['SeriesCode'] in tbl[0][1]]\n",
    "idx1 = [pd.to_datetime(i['TimePeriod']) for i in r]\n",
    "idx2 = [i['SeriesCode'] for i in r]\n",
    "df = pd.DataFrame(r, index=[idx1, idx2])['DataValue'].unstack(1)"
   ]
  },
  {
   "cell_type": "code",
   "execution_count": null,
   "metadata": {},
   "outputs": [],
   "source": [
    "pd.DataFrame(r, index=[idx1, idx2])['DataValue'].unstack(1)"
   ]
  },
  {
   "cell_type": "code",
   "execution_count": null,
   "metadata": {},
   "outputs": [],
   "source": [
    "df"
   ]
  },
  {
   "cell_type": "code",
   "execution_count": null,
   "metadata": {
    "collapsed": true
   },
   "outputs": [],
   "source": []
  },
  {
   "cell_type": "code",
   "execution_count": null,
   "metadata": {
    "collapsed": true
   },
   "outputs": [],
   "source": []
  },
  {
   "cell_type": "code",
   "execution_count": null,
   "metadata": {
    "collapsed": true
   },
   "outputs": [],
   "source": [
    "com = 'T10102'\n",
    "inv = 'T50302'\n",
    "gdi = 'T50100'"
   ]
  },
  {
   "cell_type": "code",
   "execution_count": null,
   "metadata": {
    "collapsed": true
   },
   "outputs": [],
   "source": [
    "url = '{}&datasetname={}&TableName={}&Frequency={}&Year={}&ResultFormat=json'.format(\n",
    "    base, 'NIPA', 'T10105', 'Q', 'ALL')    # Adjust here as needed\n",
    "df = pd.DataFrame(requests.get(url).json()['BEAAPI']['Results']['Data'])"
   ]
  },
  {
   "cell_type": "code",
   "execution_count": null,
   "metadata": {
    "collapsed": true
   },
   "outputs": [],
   "source": [
    "float(Y.replace(',', ''))"
   ]
  },
  {
   "cell_type": "code",
   "execution_count": null,
   "metadata": {},
   "outputs": [],
   "source": [
    "(df[df['SeriesCode'] == 'A191RC'].set_index('TimePeriod')['DataValue'].str.replace(',', '').astype('float') * 1000).loc['2006-01-01':]"
   ]
  },
  {
   "cell_type": "code",
   "execution_count": null,
   "metadata": {},
   "outputs": [],
   "source": [
    "[x for x in r if x['SeriesCode'] in tbl[0][1]]"
   ]
  },
  {
   "cell_type": "code",
   "execution_count": null,
   "metadata": {},
   "outputs": [],
   "source": [
    "tbl[0][1]"
   ]
  },
  {
   "cell_type": "code",
   "execution_count": null,
   "metadata": {},
   "outputs": [],
   "source": [
    "r"
   ]
  },
  {
   "cell_type": "code",
   "execution_count": null,
   "metadata": {
    "collapsed": true
   },
   "outputs": [],
   "source": [
    "import requests\n",
    "import config   ## File with API key\n",
    "bea_key = config.bea_key\n",
    "\n",
    "# Components of request\n",
    "base = 'https://www.bea.gov/api/data/?&UserID={}'.format(bea_key)\n",
    "m = '&method=GetData'\n",
    "dsn = '&datasetname=NIPA'\n",
    "ind = '&TableId=2'\n",
    "freq = '&Frequency=Q'\n",
    "year = '&Year=LAST12'\n",
    "fmt = '&ResultFormat=json'\n",
    "\n",
    "# Combined url for request\n",
    "url = '{}{}{}{}{}{}{}'.format(base, m, dsn, ind, freq, year, fmt)\n",
    "r = requests.get(url).json()\n",
    "#f = pd.DataFrame(r['BEAAPI']['Results']['Data'])"
   ]
  },
  {
   "cell_type": "code",
   "execution_count": null,
   "metadata": {},
   "outputs": [],
   "source": [
    "r"
   ]
  }
 ],
 "metadata": {
  "kernelspec": {
   "display_name": "Python [conda env:py36]",
   "language": "python",
   "name": "conda-env-py36-py"
  },
  "language_info": {
   "codemirror_mode": {
    "name": "ipython",
    "version": 3
   },
   "file_extension": ".py",
   "mimetype": "text/x-python",
   "name": "python",
   "nbconvert_exporter": "python",
   "pygments_lexer": "ipython3",
   "version": "3.6.4"
  }
 },
 "nbformat": 4,
 "nbformat_minor": 2
}
