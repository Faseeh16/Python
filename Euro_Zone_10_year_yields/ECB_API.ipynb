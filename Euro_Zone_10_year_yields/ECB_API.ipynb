{
 "cells": [
  {
   "cell_type": "markdown",
   "metadata": {},
   "source": [
    "### European Central Bank API\n",
    "\n",
    "This notebook retrieves monthly data on the yield of comparable 10-year government bonds of Eurozone countries from the [ECB API](https://sdw-wsrest.ecb.europa.eu/web/generator/index.html), along with the one year high and low values."
   ]
  },
  {
   "cell_type": "code",
   "execution_count": 1,
   "metadata": {
    "collapsed": true
   },
   "outputs": [],
   "source": [
    "import requests\n",
    "import pandas as pd\n",
    "\n",
    "# API in JSON data format returns series index as strings\n",
    "# tiny function below used to convert to ints during sort\n",
    "def asint(s):\n",
    "    return int(s)\n",
    "\n",
    "# Short script to write labels to txt files for charts\n",
    "def write_txt(filename, filetext):\n",
    "    with open(filename, 'w') as text_file:\n",
    "        text_file.write(filetext)"
   ]
  },
  {
   "cell_type": "code",
   "execution_count": 2,
   "metadata": {
    "collapsed": true
   },
   "outputs": [],
   "source": [
    "url = 'https://sdw-wsrest.ecb.europa.eu/service/data/'\n",
    "# headers used as content negotiation to return data in json format\n",
    "headers = {'Accept':'application/json'}\n",
    "clist = ['DE', 'FR', 'IT', 'ES', 'PT', 'GR', 'NL', 'BE', 'AT', 'IE']\n",
    "\n",
    "d = {}    # Empty dictionary used to store important values\n",
    "for country in clist:\n",
    "    key = 'IRS/M.{}.L.L40.CI.0000.EUR.N.Z?startPeriod=2012-01-01'.format(country)\n",
    "    response = requests.get('{}{}'.format(url,key), headers=headers).json()\n",
    "    # API returns data series in one dictionary and dates in another\n",
    "    series = response['dataSets'][0]['series'][u'0:0:0:0:0:0:0:0:0']['observations']\n",
    "    slist = [series[k][0] for k in sorted(series, key=asint)]\n",
    "    dates = response['structure']['dimensions']['observation'][0]['values']\n",
    "    dlist = [i['start'][:10] for i in dates]\n",
    "    area = response['structure']['dimensions']['series'][1]['values'][0]['name']\n",
    "    # Convert two lists into pandas dataframe\n",
    "    df = pd.DataFrame({'date': dlist, area: slist}).set_index('date')\n",
    "    d[country] = {}     # Create key in dictionary for each country\n",
    "    d[country]['mark'] = df[area][-1]\n",
    "    d[country]['A'] = area\n",
    "    d[country]['min'] = df[area][-60:].min()  #Most recent year only\n",
    "    d[country]['max'] = df[area][-60:].max()\n",
    "recent_date = pd.to_datetime(df.index[-1]).strftime('%B %Y')  # Latest date as text"
   ]
  },
  {
   "cell_type": "code",
   "execution_count": 3,
   "metadata": {
    "collapsed": true
   },
   "outputs": [],
   "source": [
    "# Convert dictionary to pandas dataframe\n",
    "df = pd.DataFrame(d).transpose().sort_values('mark')\n",
    "# For plot, separate positive and negative minima\n",
    "df['neg'] = df['min'].clip_upper(0)\n",
    "df.loc[:,'min'] = df['min'].clip_lower(0)\n",
    "df['max'] = df['max'].subtract(df['min'], fill_value=0)\n",
    "# Reorder dataframe\n",
    "df = df[['A', 'mark', 'max', 'min', 'neg']]\n",
    "# Write to csv and write date to text file\n",
    "df.to_csv('int.csv', index=False)\n",
    "write_txt('int.txt', recent_date)"
   ]
  },
  {
   "cell_type": "code",
   "execution_count": 4,
   "metadata": {},
   "outputs": [
    {
     "data": {
      "text/plain": [
       "'October 2017'"
      ]
     },
     "execution_count": 4,
     "metadata": {},
     "output_type": "execute_result"
    }
   ],
   "source": [
    "recent_date"
   ]
  }
 ],
 "metadata": {
  "kernelspec": {
   "display_name": "Python [conda root]",
   "language": "python",
   "name": "conda-root-py"
  },
  "language_info": {
   "codemirror_mode": {
    "name": "ipython",
    "version": 2
   },
   "file_extension": ".py",
   "mimetype": "text/x-python",
   "name": "python",
   "nbconvert_exporter": "python",
   "pygments_lexer": "ipython2",
   "version": "2.7.12"
  }
 },
 "nbformat": 4,
 "nbformat_minor": 2
}
