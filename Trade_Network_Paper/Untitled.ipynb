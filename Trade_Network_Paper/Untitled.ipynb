{
 "cells": [
  {
   "cell_type": "code",
   "execution_count": 5,
   "metadata": {
    "collapsed": false
   },
   "outputs": [
    {
     "name": "stdout",
     "output_type": "stream",
     "text": [
      "http://comtrade.un.org/api/get?max=50000&type=C&freq=A&px=HS&ps=2013&cc=540710&r=all&p=all&rg=2\n"
     ]
    }
   ],
   "source": [
    "import requests\n",
    "\n",
    "url = 'http://comtrade.un.org/api/get?max=50000&type=C&freq=A&px=HS&ps=2013&cc=540710&r=all&p=all&rg=2'\n",
    "print url"
   ]
  }
 ],
 "metadata": {
  "kernelspec": {
   "display_name": "Python [conda root]",
   "language": "python",
   "name": "conda-root-py"
  },
  "language_info": {
   "codemirror_mode": {
    "name": "ipython",
    "version": 2
   },
   "file_extension": ".py",
   "mimetype": "text/x-python",
   "name": "python",
   "nbconvert_exporter": "python",
   "pygments_lexer": "ipython2",
   "version": "2.7.12"
  }
 },
 "nbformat": 4,
 "nbformat_minor": 1
}
