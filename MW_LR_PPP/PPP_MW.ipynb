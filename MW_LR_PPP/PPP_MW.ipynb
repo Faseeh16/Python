{
 "cells": [
  {
   "cell_type": "code",
   "execution_count": 9,
   "metadata": {
    "collapsed": false
   },
   "outputs": [
    {
     "ename": "SyntaxError",
     "evalue": "EOL while scanning string literal (<ipython-input-9-177a914cfdd9>, line 7)",
     "output_type": "error",
     "traceback": [
      "\u001b[1;36m  File \u001b[1;32m\"<ipython-input-9-177a914cfdd9>\"\u001b[1;36m, line \u001b[1;32m7\u001b[0m\n\u001b[1;33m    datadir = 'C:\\Files\\School\\Python\\'\u001b[0m\n\u001b[1;37m                                      ^\u001b[0m\n\u001b[1;31mSyntaxError\u001b[0m\u001b[1;31m:\u001b[0m EOL while scanning string literal\n"
     ]
    }
   ],
   "source": [
    "import numpy as np \n",
    "import matplotlib as mpl\n",
    "import matplotlib.pyplot as plt\n",
    "%matplotlib inline\n",
    "from itertools import islice"
   ]
  },
  {
   "cell_type": "code",
   "execution_count": 13,
   "metadata": {
    "collapsed": false
   },
   "outputs": [
    {
     "name": "stdout",
     "output_type": "stream",
     "text": [
      "The table presents for each year the number of U.S. dollars per British pound.\n",
      "\"Note: Current data is only available till 2014.\n",
      "\"\n",
      "\"Citation: Lawrence H. Officer, 'Dollar-Pound Exchange Rate From 1791,' MeasuringWorth, 2016. \"\n",
      "\"Year\",\"Unit\",\"Rate\"\n",
      "\"1791\",\"$\",\"4.55\"\n",
      "\n",
      "\"Citation: Lawrence H. Officer, 'What Were the UK Earnings and Prices Then?' MeasuringWorth, 2016. \"\n",
      "\"Year\",\"Retail Price Index (2010 = 100)\"\n",
      "\"1209\",\"0.091\"\n",
      "\"1210\",\"0.092\"\n",
      "\"1211\",\"0.102\"\n",
      "\"1212\",\"0.091\"\n",
      "\n",
      "\"* Average 1982-84 = 100.\"\n",
      "\"Citation: Lawrence H. Officer and Samuel H. Williamson, 'The Annual Consumer Price Index for the United States, 1774-2014,' MeasuringWorth, 2016. \"\n",
      "\"Year\",\"U.S. Consumer Price Index *\"\n",
      "\"1774\",\"7.82\"\n",
      "\"1775\",\"7.41\"\n",
      "\"1776\",\"8.46\"\n",
      "\n"
     ]
    }
   ],
   "source": [
    "csvfile = [\"EXCHANGEPOUND_1791-2015.csv\",\"UKCPI_1209-2015.csv\",\"USCPI_1774-2015.csv\"]\n",
    "\n",
    "for csvfile in csvfile:\n",
    "    with open(csvfile, \"r\") as fin:\n",
    "        for line in islice(fin,6):\n",
    "            print(line.strip())\n",
    "    print"
   ]
  },
  {
   "cell_type": "code",
   "execution_count": 14,
   "metadata": {
    "collapsed": true
   },
   "outputs": [],
   "source": [
    "def mwDataDict(pth, processor, skiplines):\n",
    "    data = dict()\n",
    "    with open(pth) as fin:\n",
    "        for line in islice(fin,skiplines,None):\n",
    "            try:\n",
    "                year, yeardata = processor(line)\n",
    "                data[year] = yeardata\n",
    "            except ValueError, TypeError:\n",
    "                break\n",
    "    return data"
   ]
  },
  {
   "cell_type": "code",
   "execution_count": 16,
   "metadata": {
    "collapsed": true
   },
   "outputs": [],
   "source": [
    "def getYearDatum(line, fieldnum, dtype):\n",
    "    line = line.strip().replace('\"','')\n",
    "    line = line.split(\",\")\n",
    "    year = int(line[0])\n",
    "    datum = dtype(dtype(line[fieldnum]))\n",
    "    return year, datum"
   ]
  },
  {
   "cell_type": "code",
   "execution_count": 21,
   "metadata": {
    "collapsed": false
   },
   "outputs": [],
   "source": [
    "def getCPI(line): return getYearDatum(line, 1, float)\n",
    "uscpi = mwDataDict(\"USCPI_1774-2015.csv\", getCPI, skiplines=3)\n",
    "getRPI = getCPI\n",
    "ukrpi = mwDataDict(\"UKCPI_1209-2015.csv\", getRPI, skiplines=2)\n",
    "def getGBPUSD(line): return getYearDatum(line, 2, float)\n",
    "gbpusd = mwDataDict(\"EXCHANGEPOUND_1791-2015.csv\", getGBPUSD, skiplines=5)"
   ]
  },
  {
   "cell_type": "markdown",
   "metadata": {},
   "source": [
    "RER 1900 = 1"
   ]
  },
  {
   "cell_type": "code",
   "execution_count": 23,
   "metadata": {
    "collapsed": false
   },
   "outputs": [],
   "source": [
    "rer1900 = gbpusd[1900] * ukrpi[1900] / uscpi[1900]"
   ]
  },
  {
   "cell_type": "code",
   "execution_count": 24,
   "metadata": {
    "collapsed": false
   },
   "outputs": [
    {
     "data": {
      "image/png": "[encoded data removed]",
      "text/plain": [
       "<matplotlib.figure.Figure at 0x94d6d68>"
      ]
     },
     "metadata": {},
     "output_type": "display_data"
    }
   ],
   "source": [
    "dates = range(1791,2015)\n",
    "rer = list()\n",
    "for yr in dates:\n",
    "    rer.append( gbpusd[yr] * ukrpi[yr] / uscpi[yr] / rer1900)\n",
    "\n",
    "fig, ax = plt.subplots(1,1)\n",
    "ax.plot(dates,rer);"
   ]
  },
  {
   "cell_type": "code",
   "execution_count": 27,
   "metadata": {
    "collapsed": false
   },
   "outputs": [
    {
     "name": "stdout",
     "output_type": "stream",
     "text": [
      "t-rate=-3.87896916298\n",
      "{'5%': -2.874648939216792, '1%': -3.4601541637510409, '10%': -2.5737567259151044}\n",
      "                            OLS Regression Results                            \n",
      "==============================================================================\n",
      "Dep. Variable:                      y   R-squared:                       0.077\n",
      "Model:                            OLS   Adj. R-squared:                  0.068\n",
      "Method:                 Least Squares   F-statistic:                     9.079\n",
      "Date:                Tue, 29 Mar 2016   Prob (F-statistic):           0.000163\n",
      "Time:                        18:54:31   Log-Likelihood:                 304.79\n",
      "No. Observations:                 222   AIC:                            -603.6\n",
      "Df Residuals:                     219   BIC:                            -593.4\n",
      "Df Model:                           2                                         \n",
      "Covariance Type:            nonrobust                                         \n",
      "==============================================================================\n",
      "                 coef    std err          t      P>|t|      [95.0% Conf. Int.]\n",
      "------------------------------------------------------------------------------\n",
      "x1            -0.1126      0.029     -3.879      0.000        -0.170    -0.055\n",
      "x2             0.1698      0.067      2.551      0.011         0.039     0.301\n",
      "const          0.1071      0.027      3.896      0.000         0.053     0.161\n",
      "==============================================================================\n",
      "Omnibus:                       22.524   Durbin-Watson:                   1.960\n",
      "Prob(Omnibus):                  0.000   Jarque-Bera (JB):               50.597\n",
      "Skew:                          -0.461   Prob(JB):                     1.03e-11\n",
      "Kurtosis:                       5.149   Cond. No.                         22.3\n",
      "==============================================================================\n",
      "\n",
      "Warnings:\n",
      "[1] Standard Errors assume that the covariance matrix of the errors is correctly specified.\n"
     ]
    }
   ],
   "source": [
    "import statsmodels\n",
    "import statsmodels.tsa.stattools as ts\n",
    "\n",
    "results = ts.adfuller(rer,maxlag=5, store=True)\n",
    "\n",
    "print(\"t-rate={}\".format(results[-1].adfstat))\n",
    "print(results[-1].critvalues)\n",
    "print results[-1].resols.summary()"
   ]
  },
  {
   "cell_type": "markdown",
   "metadata": {},
   "source": [
    "Therefore reject null hypothesis of unit root. Therefore evidence of LR real exchange rate."
   ]
  }
 ],
 "metadata": {
  "kernelspec": {
   "display_name": "Python 2",
   "language": "python",
   "name": "python2"
  },
  "language_info": {
   "codemirror_mode": {
    "name": "ipython",
    "version": 2
   },
   "file_extension": ".py",
   "mimetype": "text/x-python",
   "name": "python",
   "nbconvert_exporter": "python",
   "pygments_lexer": "ipython2",
   "version": "2.7.10"
  }
 },
 "nbformat": 4,
 "nbformat_minor": 0
}
