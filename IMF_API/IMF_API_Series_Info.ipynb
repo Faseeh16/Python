{
 "cells": [
  {
   "cell_type": "markdown",
   "metadata": {
    "deletable": true,
    "editable": true
   },
   "source": [
    "# IMF API 2\n",
    "\n",
    "The method presented in the part 1 provides access to data from the IMF API. Here in part 2, techniques for finding the right codes to make successful API requests are presented, using the requests package and Python 2.7. \n",
    "\n",
    "### Find the series list\n",
    "The 'Dataflow' method offers JSON formatted information on which series are available through the API. To find the series of interest (for example Direction of Trade Statistics) with Python, we can search a dictionary with the series names and their IDs. "
   ]
  },
  {
   "cell_type": "code",
   "execution_count": 4,
   "metadata": {
    "collapsed": false,
    "deletable": true,
    "editable": true
   },
   "outputs": [
    {
     "name": "stdout",
     "output_type": "stream",
     "text": [
      "International Reserves and Foreign Currency Liquidity (IRFCL): IRFCL\n",
      "Currency Composition of Official Foreign Exchange Reserves (COFER): COFER\n"
     ]
    }
   ],
   "source": [
    "import requests  # Python 2.7, requests version 2.12.4\n",
    "\n",
    "url = 'http://dataservices.imf.org/REST/SDMX_JSON.svc/'\n",
    "key = 'Dataflow'  # Method with series information\n",
    "search_term = ''  # Term to find in series names\n",
    "series_list = requests.get('{}{}'.format(url, key)).json()\\\n",
    "            ['Structure']['Dataflows']['Dataflow']\n",
    "# Use dict keys to navigate through results:\n",
    "for series in series_list:\n",
    "    if search_term in series['Name']['#text']:\n",
    "        print '{}: {}'.format(series['Name']['#text'],\n",
    "                              series['KeyFamilyRef']['KeyFamilyID'])"
   ]
  },
  {
   "cell_type": "markdown",
   "metadata": {
    "deletable": true,
    "editable": true
   },
   "source": [
    "### Finding the dimensions of the series\n",
    "\n",
    "The exact format of the key in our API request is determined by the structure of the series. Direction of Trade Statistics, which are grouped by importer and exporter pair rather than by country exemplifies the need to first determine series structure.\n",
    "\n",
    "The dimensions of the data are found with the DataStructure method and series specific, so that the full key becomes 'DataStructure/DOT'"
   ]
  },
  {
   "cell_type": "code",
   "execution_count": 2,
   "metadata": {
    "collapsed": false,
    "deletable": true,
    "editable": true
   },
   "outputs": [
    {
     "name": "stdout",
     "output_type": "stream",
     "text": [
      "Dimension 1: CL_FREQ\n",
      "Dimension 2: CL_AREA_DOT\n",
      "Dimension 3: CL_INDICATOR_DOT\n",
      "Dimension 4: CL_COUNTERPART_AREA_DOT\n"
     ]
    }
   ],
   "source": [
    "key = 'DataStructure/DOT'  # Method / series\n",
    "dimension_list = requests.get('{}{}'.format(url, key)).json()\\\n",
    "            ['Structure']['KeyFamilies']['KeyFamily']\\\n",
    "            ['Components']['Dimension']\n",
    "for n, dimension in enumerate(dimension_list):\n",
    "    print 'Dimension {}: {}'.format(n+1, dimension['@codelist'])"
   ]
  },
  {
   "cell_type": "markdown",
   "metadata": {
    "deletable": true,
    "editable": true
   },
   "source": [
    "In this case, the dimensions correspond to: 1) frequency, 2) country or reference area 1, 3) indicator (such as total exports), and 4) country or reference area 2. That is, the monthly value of goods exports from Italy to France would be M.IT.TXG_FOB.FR\n",
    "\n",
    "### Finding the codes for each dimension\n",
    "\n",
    "The codes which correspond to the dimensions identified above are combined, in order, and separated by periods, to complete the API request url. To find the list of possible codes for each dimension, we can use the CodeList method, shown below for dimension 1, frequency. "
   ]
  },
  {
   "cell_type": "code",
   "execution_count": 3,
   "metadata": {
    "collapsed": false,
    "deletable": true,
    "editable": true
   },
   "outputs": [
    {
     "name": "stdout",
     "output_type": "stream",
     "text": [
      "Goods, Value of Exports, Free on board (FOB), US Dollars: TXG_FOB_USD\n",
      "Goods, Value of Imports, Cost, Insurance, Freight (CIF), US Dollars: TMG_CIF_USD\n",
      "Goods, Value of Imports, Free on board (FOB), US Dollars: TMG_FOB_USD\n",
      "Goods, Value of Trade Balance, US Dollars: TBG_USD\n"
     ]
    }
   ],
   "source": [
    "# Example: codes for third dimension, which is 2 in python\n",
    "key = 'CodeList/{}'.format(dimension_list[2]['@codelist'])\n",
    "code_list = requests.get('{}{}'.format(url, key)).json()\\\n",
    "            ['Structure']['CodeLists']['CodeList']['Code']\n",
    "for code in code_list:\n",
    "    print '{}: {}'.format(code['Description']['#text'], code['@value'])"
   ]
  },
  {
   "cell_type": "markdown",
   "metadata": {
    "deletable": true,
    "editable": true
   },
   "source": [
    "### Variations and notes\n",
    "Once a series has been identified, it can be a challenge to determine which combination of keys returns valid data. Often an indicator has data available at only one frequency--whichever frequency of compilation occurs in the source country, though there are exceptions. \n",
    "\n",
    "The number of indicators varies by series. In the case of International Financial Statistics (IFS), there are more than 2500 indicators, which there are four indicators in the Direction of Trade Statistics series. The same search technique used to find the series names can be used to filter IFS indicators.\n",
    "\n",
    "Part 3 shows how to retrieve metadata and make a request with more than one reference area (country)."
   ]
  }
 ],
 "metadata": {
  "kernelspec": {
   "display_name": "Python [conda root]",
   "language": "python",
   "name": "conda-root-py"
  },
  "language_info": {
   "codemirror_mode": {
    "name": "ipython",
    "version": 2
   },
   "file_extension": ".py",
   "mimetype": "text/x-python",
   "name": "python",
   "nbconvert_exporter": "python",
   "pygments_lexer": "ipython2",
   "version": "2.7.12"
  }
 },
 "nbformat": 4,
 "nbformat_minor": 1
}
