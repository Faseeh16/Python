{
 "cells": [
  {
   "cell_type": "markdown",
   "metadata": {},
   "source": [
    "# Machine Reading IMF Data: Data Retrieval with Python\n",
    "## Brian Dew, brianwdew@gmail.com"
   ]
  },
  {
   "cell_type": "markdown",
   "metadata": {},
   "source": [
    "## Introduction\n",
    "The International Monetary Fund (IMF) Statistics Department (STA) allows API access to their economic time series. Well-known datasets such as International Financial Statistics (IFS) can be machine read through the API. This example will use python to retrieve data from STA's JSON RESTful Web Service so that we can examine how Bulgaria's foreign direct investment assets have evolved over time. \n",
    "\n",
    "\n",
    "The [IMF knowledge base](http://datahelp.imf.org/knowledgebase/articles/630877-data-services) provides more information on the three avaiable API formats and IMF data services. For more information on the work of STA, see their PDF [annual report (PDF)](https://www.imf.org/external/np/sta/pdf/aglance.pdf}{https://www.imf.org/external/np/sta/pdf/aglance.pdf), STA at a glance 2015."
   ]
  },
  {
   "cell_type": "markdown",
   "metadata": {},
   "source": [
    "## Gathering series and data dimension information\n",
    "First, we will need to import the json, urllib2, and requests libraries, as well as pandas and numpy. The first three allow us to read json data, open urls, and request information from the web. The latter two help us to work with the resultant data."
   ]
  },
  {
   "cell_type": "code",
   "execution_count": 1,
   "metadata": {
    "collapsed": true
   },
   "outputs": [],
   "source": [
    "# Import libraries\n",
    "import json\n",
    "import urllib2\n",
    "import requests\n",
    "import pandas as pd\n",
    "import numpy as np"
   ]
  },
  {
   "cell_type": "markdown",
   "metadata": {},
   "source": [
    "Since we are using the JSON RESTful API, we start by using the 'Dataflow' endpoint URL to look at what series are available and find the series id of interest. The full output is long, so I've removed the data unrelated to this example. The IMF has many more series than what is shown below. "
   ]
  },
  {
   "cell_type": "code",
   "execution_count": 2,
   "metadata": {},
   "outputs": [
    {
     "name": "stdout",
     "output_type": "stream",
     "text": [
      "FSIRE: Financial Soundness Indicators (FSI), Reporting Entities\n",
      "FAS: Financial Access Survey (FAS)\n",
      "IFS: International Financial Statistics (IFS)\n",
      "MCDREO: Middle East and Central Asia Regional Economic Outlook (MCDREO)\n"
     ]
    }
   ],
   "source": [
    "# Find the series id and text name.\n",
    "url = \"http://dataservices.imf.org/REST/SDMX_JSON.svc/Dataflow/\"\n",
    "seriesids = json.load(urllib2.urlopen(url))\n",
    "df = pd.DataFrame(seriesids['Structure']['KeyFamilies']['KeyFamily'])\n",
    "for x in range(0, 4):    \n",
    "    items = (str(df['@id'][x]), str(df['Name'][x]['#text']))\n",
    "    print ': '.join(items)"
   ]
  },
  {
   "cell_type": "markdown",
   "metadata": {},
   "source": [
    "We found above that the id for International Financial Statistics is, unsurprisingly, IFS. We can use this id to read notes about the series. We will next need to identify the *dimensions* of the data. "
   ]
  },
  {
   "cell_type": "code",
   "execution_count": 3,
   "metadata": {},
   "outputs": [
    {
     "name": "stdout",
     "output_type": "stream",
     "text": [
      "Latest Update Date: 03/25/2016\n",
      "Name: International Financial Statistics (IFS)\n",
      "Temporal Coverage: Data available starting in the 1948 for many IMF member countries. Varies by country.\n"
     ]
    }
   ],
   "source": [
    "# Annotations for the series\n",
    "url = \"http://dataservices.imf.org/REST/SDMX_JSON.svc/DataStructure/IFS\"\n",
    "dotstruct = json.load(urllib2.urlopen(url))\n",
    "df = pd.DataFrame(dotstruct['Structure']['KeyFamilies']\\\n",
    "                  ['KeyFamily']['Annotations'])\n",
    "for x in range(0, 3):    \n",
    "    items = (str(df['Annotation'][x]['AnnotationTitle']), \\\n",
    "             str(df['Annotation'][x]['AnnotationText']['#text']))\n",
    "    print ': '.join(items)"
   ]
  },
  {
   "cell_type": "code",
   "execution_count": 4,
   "metadata": {},
   "outputs": [
    {
     "name": "stdout",
     "output_type": "stream",
     "text": [
      "Dimension: 1: CL_AREA|IFS\n",
      "Dimension: 2: CL_INDICATOR|IFS\n",
      "Dimension: 3: CL_FREQ|IFS\n",
      "Dimension: 4: CL_UNIT_MULT|IFS\n"
     ]
    }
   ],
   "source": [
    "# Look at structure of DOTS data to find the dimensions for our data request\n",
    "url = \"http://dataservices.imf.org/REST/SDMX_JSON.svc/DataStructure/IFS\"\n",
    "dotstruct = json.load(urllib2.urlopen(url))\n",
    "df = pd.DataFrame(dotstruct['Structure']['KeyFamilies']['KeyFamily']\\\n",
    "                  ['Components']['Dimension'])\n",
    "for x in range(0, 4):    \n",
    "    items = (\"Dimension\", str(x+1), str(df['@codelist'][x]))\n",
    "    print ': '.join(items)"
   ]
  },
  {
   "cell_type": "markdown",
   "metadata": {},
   "source": [
    "We can now copy the code for each dimension into the CodeList Method to view the list of possible values. For example, we will need to identify the value of the first dimension, CL_COUNTRY, for Bulgaria. Below, we show that the code is 918. I've manually shortened the output range, to save space, but you can replace [30, 35] with [0, 247] to get the full list of country/area codes."
   ]
  },
  {
   "cell_type": "code",
   "execution_count": 5,
   "metadata": {},
   "outputs": [
    {
     "ename": "TypeError",
     "evalue": "'NoneType' object has no attribute '__getitem__'",
     "output_type": "error",
     "traceback": [
      "\u001b[1;31m---------------------------------------------------------------------------\u001b[0m",
      "\u001b[1;31mTypeError\u001b[0m                                 Traceback (most recent call last)",
      "\u001b[1;32m<ipython-input-5-74fa9d50fdc6>\u001b[0m in \u001b[0;36m<module>\u001b[1;34m()\u001b[0m\n\u001b[0;32m      2\u001b[0m \u001b[0murl\u001b[0m \u001b[1;33m=\u001b[0m \u001b[1;34m\"http://dataservices.imf.org/REST/SDMX_JSON.svc/CodeList/CL_COUNTRY|IFS\"\u001b[0m\u001b[1;33m\u001b[0m\u001b[0m\n\u001b[0;32m      3\u001b[0m \u001b[0mcountry\u001b[0m \u001b[1;33m=\u001b[0m \u001b[0mjson\u001b[0m\u001b[1;33m.\u001b[0m\u001b[0mload\u001b[0m\u001b[1;33m(\u001b[0m\u001b[0murllib2\u001b[0m\u001b[1;33m.\u001b[0m\u001b[0murlopen\u001b[0m\u001b[1;33m(\u001b[0m\u001b[0murl\u001b[0m\u001b[1;33m)\u001b[0m\u001b[1;33m)\u001b[0m\u001b[1;33m\u001b[0m\u001b[0m\n\u001b[1;32m----> 4\u001b[1;33m \u001b[0mdf\u001b[0m \u001b[1;33m=\u001b[0m \u001b[0mpd\u001b[0m\u001b[1;33m.\u001b[0m\u001b[0mDataFrame\u001b[0m\u001b[1;33m(\u001b[0m\u001b[0mcountry\u001b[0m\u001b[1;33m[\u001b[0m\u001b[1;34m'Structure'\u001b[0m\u001b[1;33m]\u001b[0m\u001b[1;33m[\u001b[0m\u001b[1;34m'CodeLists'\u001b[0m\u001b[1;33m]\u001b[0m\u001b[1;33m[\u001b[0m\u001b[1;34m'CodeList'\u001b[0m\u001b[1;33m]\u001b[0m\u001b[1;33m[\u001b[0m\u001b[1;34m'Code'\u001b[0m\u001b[1;33m]\u001b[0m\u001b[1;33m)\u001b[0m\u001b[1;33m\u001b[0m\u001b[0m\n\u001b[0m\u001b[0;32m      5\u001b[0m \u001b[1;32mfor\u001b[0m \u001b[0mx\u001b[0m \u001b[1;32min\u001b[0m \u001b[0mrange\u001b[0m\u001b[1;33m(\u001b[0m\u001b[1;36m30\u001b[0m\u001b[1;33m,\u001b[0m \u001b[1;36m35\u001b[0m\u001b[1;33m)\u001b[0m\u001b[1;33m:\u001b[0m\u001b[1;33m\u001b[0m\u001b[0m\n\u001b[0;32m      6\u001b[0m     \u001b[0mitems\u001b[0m \u001b[1;33m=\u001b[0m \u001b[1;33m(\u001b[0m\u001b[0mstr\u001b[0m\u001b[1;33m(\u001b[0m\u001b[0mdf\u001b[0m\u001b[1;33m[\u001b[0m\u001b[1;34m'@value'\u001b[0m\u001b[1;33m]\u001b[0m\u001b[1;33m[\u001b[0m\u001b[0mx\u001b[0m\u001b[1;33m]\u001b[0m\u001b[1;33m)\u001b[0m\u001b[1;33m,\u001b[0m \u001b[0mstr\u001b[0m\u001b[1;33m(\u001b[0m\u001b[0mdf\u001b[0m\u001b[1;33m[\u001b[0m\u001b[1;34m'Description'\u001b[0m\u001b[1;33m]\u001b[0m\u001b[1;33m[\u001b[0m\u001b[0mx\u001b[0m\u001b[1;33m]\u001b[0m\u001b[1;33m[\u001b[0m\u001b[1;34m'#text'\u001b[0m\u001b[1;33m]\u001b[0m\u001b[1;33m)\u001b[0m\u001b[1;33m)\u001b[0m\u001b[1;33m\u001b[0m\u001b[0m\n",
      "\u001b[1;31mTypeError\u001b[0m: 'NoneType' object has no attribute '__getitem__'"
     ]
    }
   ],
   "source": [
    "# Obtain country codes\n",
    "url = \"http://dataservices.imf.org/REST/SDMX_JSON.svc/CodeList/CL_COUNTRY|IFS\"\n",
    "country = json.load(urllib2.urlopen(url))\n",
    "df = pd.DataFrame(country['Structure']['CodeLists']['CodeList']['Code'])\n",
    "for x in range(30, 35):    \n",
    "    items = (str(df['@value'][x]), str(df['Description'][x]['#text']))\n",
    "    print ': '.join(items)"
   ]
  },
  {
   "cell_type": "markdown",
   "metadata": {},
   "source": [
    "The series ID is IFS and the country code of interest is 918. We see below that IFS contains thousands of individual indicators (data series), but our code of interest is IAD_BP6_USD, direct investment assets, in US Dollars, compiled based on the Balance of Payments and International Investment Position Manual, 6th edition (BPM6) methodology."
   ]
  },
  {
   "cell_type": "code",
   "execution_count": 6,
   "metadata": {},
   "outputs": [
    {
     "name": "stdout",
     "output_type": "stream",
     "text": [
      "IADD_BP6_USD: Assets, Direct investment, Debt instruments, US Dollars\n",
      "IADE_BP6_USD: Assets, Direct investment, Equity and investment fund shares , US Dollars\n",
      "IAD_BP6_USD: Assets, Direct investment, US Dollars\n",
      "IAD_USD: Assets, FDI Abroad (BPM5), US Dollars\n",
      "IADF_BP6_USD: Assets, Financial derivatives (other than reserves) and employee stock options , US Dollars\n"
     ]
    }
   ],
   "source": [
    "# Obtain series info and ids\n",
    "url = \"http://dataservices.imf.org/REST/SDMX_JSON.svc/CodeList/CL_INDICATOR|IFS\"\n",
    "series = json.load(urllib2.urlopen(url))\n",
    "df = pd.DataFrame(series['Structure']['CodeLists']['CodeList']['Code'])\n",
    "for x in range(3, 8):    \n",
    "    items = (str(df['@value'][x]), str(df['Description'][x]['#text']))\n",
    "    print ': '.join(items)"
   ]
  },
  {
   "cell_type": "markdown",
   "metadata": {},
   "source": [
    "## Retrieving Data\n",
    "The guide to STA's API shows how we can combine information from the previous steps to call and retrieve data. For our example, we see that the dimensions are as follows:\n",
    "\n",
    "* Dimension 1: CL_COUNTRY (the primary country) - 918\n",
    "* Dimension 2: CL_INDICATOR (the measure/series of interest) - IAD_BP6_USD\n",
    "* Dimension 4: CL_FREQ (the frequency of the data--we want to use quarterly data) - Q \n",
    "* Dimension 5: CL_UNIT_MULT (the units of measure--we can leave this blank)\n",
    "\n",
    "The JSON RESTful API method for requesting the data is the CompactData Method. The format for putting together dimension and time period information is shown on the Web Service knowledge base as:\n",
    "\n",
    "    http://dataservices.imf.org/REST/SDMX_JSON.svc/CompactData/{database ID}/ {item1 from dimension1}+{item2 from dimension1}{item N from dimension1}.{item1 from dimension2} +{item2 from dimension2}+{item M from dimension2}? startPeriod={start date}&endPeriod={end date}\n",
    "\n",
    "Putting all of this information together, the URL to retrieve a JSON dictionary for Bulgaria's direct investment assets is:\n",
    "\n",
    "http://dataservices.imf.org/REST/SDMX_JSON.svc/CompactData/IFS/918.IAD_BP6_USD.Q.?startPeriod=1998&endPeriod=2016\n",
    "\n",
    "The python code which gets the data and saves it as a dictionary is as follows:"
   ]
  },
  {
   "cell_type": "code",
   "execution_count": 7,
   "metadata": {
    "scrolled": true
   },
   "outputs": [
    {
     "ename": "KeyError",
     "evalue": "'Series'",
     "output_type": "error",
     "traceback": [
      "\u001b[1;31m---------------------------------------------------------------------------\u001b[0m",
      "\u001b[1;31mKeyError\u001b[0m                                  Traceback (most recent call last)",
      "\u001b[1;32m<ipython-input-7-8730926f6de4>\u001b[0m in \u001b[0;36m<module>\u001b[1;34m()\u001b[0m\n\u001b[0;32m      1\u001b[0m \u001b[0murl\u001b[0m \u001b[1;33m=\u001b[0m \u001b[1;34m'http://dataservices.imf.org/REST/SDMX_JSON.svc/CompactData/IFS/918.IAD_BP6_USD.Q.?startPeriod=1998&endPeriod=2016'\u001b[0m\u001b[1;33m\u001b[0m\u001b[0m\n\u001b[0;32m      2\u001b[0m \u001b[0mdata\u001b[0m \u001b[1;33m=\u001b[0m \u001b[0mjson\u001b[0m\u001b[1;33m.\u001b[0m\u001b[0mloads\u001b[0m\u001b[1;33m(\u001b[0m\u001b[0mrequests\u001b[0m\u001b[1;33m.\u001b[0m\u001b[0mget\u001b[0m\u001b[1;33m(\u001b[0m\u001b[0murl\u001b[0m\u001b[1;33m)\u001b[0m\u001b[1;33m.\u001b[0m\u001b[0mtext\u001b[0m\u001b[1;33m)\u001b[0m\u001b[1;33m\u001b[0m\u001b[0m\n\u001b[1;32m----> 3\u001b[1;33m \u001b[0mbgfdi\u001b[0m \u001b[1;33m=\u001b[0m \u001b[0mpd\u001b[0m\u001b[1;33m.\u001b[0m\u001b[0mDataFrame\u001b[0m\u001b[1;33m(\u001b[0m\u001b[0mdata\u001b[0m\u001b[1;33m[\u001b[0m\u001b[1;34m'CompactData'\u001b[0m\u001b[1;33m]\u001b[0m\u001b[1;33m[\u001b[0m\u001b[1;34m'DataSet'\u001b[0m\u001b[1;33m]\u001b[0m\u001b[1;33m[\u001b[0m\u001b[1;34m'Series'\u001b[0m\u001b[1;33m]\u001b[0m\u001b[1;33m[\u001b[0m\u001b[1;34m'Obs'\u001b[0m\u001b[1;33m]\u001b[0m\u001b[1;33m)\u001b[0m\u001b[1;33m\u001b[0m\u001b[0m\n\u001b[0m\u001b[0;32m      4\u001b[0m \u001b[1;32mdel\u001b[0m \u001b[0mbgfdi\u001b[0m\u001b[1;33m[\u001b[0m\u001b[1;34m'@OBS_STATUS'\u001b[0m\u001b[1;33m]\u001b[0m\u001b[1;33m\u001b[0m\u001b[0m\n\u001b[0;32m      5\u001b[0m \u001b[0mbgfdi\u001b[0m\u001b[1;33m.\u001b[0m\u001b[0mcolumns\u001b[0m \u001b[1;33m=\u001b[0m \u001b[1;33m[\u001b[0m\u001b[1;34m'date'\u001b[0m\u001b[1;33m,\u001b[0m\u001b[1;34m'bgfdi'\u001b[0m\u001b[1;33m]\u001b[0m\u001b[1;33m\u001b[0m\u001b[0m\n",
      "\u001b[1;31mKeyError\u001b[0m: 'Series'"
     ]
    }
   ],
   "source": [
    "url = 'http://dataservices.imf.org/REST/SDMX_JSON.svc/CompactData/IFS/918.IAD_BP6_USD.Q.?startPeriod=1998&endPeriod=2016'\n",
    "data = json.loads(requests.get(url).text)\n",
    "bgfdi = pd.DataFrame(data['CompactData']['DataSet']['Series']['Obs'])\n",
    "del bgfdi['@OBS_STATUS']\n",
    "bgfdi.columns = ['date','bgfdi']\n",
    "bgfdi.bgfdi = bgfdi.bgfdi.astype(float)\n",
    "rng = pd.date_range('1/1/2007', periods=34, freq='QS')\n",
    "bgfdi = bgfdi.set_index(pd.DatetimeIndex(rng))\n",
    "bgfdi.tail()"
   ]
  },
  {
   "cell_type": "markdown",
   "metadata": {},
   "source": [
    "## Graphing the data\n",
    "Let's use matplotlib to view the result of our work."
   ]
  },
  {
   "cell_type": "code",
   "execution_count": null,
   "metadata": {
    "scrolled": true
   },
   "outputs": [],
   "source": [
    "import matplotlib as mpl\n",
    "import matplotlib.pyplot as plt\n",
    "%matplotlib inline\n",
    "txt = '''Source: International Monetary Fund'''\n",
    "\n",
    "# Plot Bulgaria Assets - Direct Investment\n",
    "bgfdi.bgfdi.plot(grid=True, figsize=(9, 5), color=\"blue\", linewidth=2,)\n",
    "plt.ylabel('U.S. Dollars')\n",
    "plt.xlabel('Year')\n",
    "plt.text(147,400000000,txt)\n",
    "plt.title('Bulgaria: Direct Investment Assets');"
   ]
  },
  {
   "cell_type": "markdown",
   "metadata": {},
   "source": [
    "##  Export dataset to .csv\n",
    "Let's save the dataset in a portable format that can be read by any statistical software. My preference is to create a .csv file, which can be achieved using the following code:"
   ]
  },
  {
   "cell_type": "code",
   "execution_count": null,
   "metadata": {},
   "outputs": [],
   "source": [
    "bgfdi.to_csv('bgfdi.csv')"
   ]
  }
 ],
 "metadata": {
  "kernelspec": {
   "display_name": "Python [default]",
   "language": "python",
   "name": "python2"
  },
  "language_info": {
   "codemirror_mode": {
    "name": "ipython",
    "version": 2
   },
   "file_extension": ".py",
   "mimetype": "text/x-python",
   "name": "python",
   "nbconvert_exporter": "python",
   "pygments_lexer": "ipython2",
   "version": "2.7.12"
  }
 },
 "nbformat": 4,
 "nbformat_minor": 1
}
