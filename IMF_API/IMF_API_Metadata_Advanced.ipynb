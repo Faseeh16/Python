{
 "cells": [
  {
   "cell_type": "code",
   "execution_count": null,
   "metadata": {
    "collapsed": true
   },
   "outputs": [],
   "source": [
    "%matplotlib inline"
   ]
  },
  {
   "cell_type": "markdown",
   "metadata": {},
   "source": [
    "# IMF API 3\n",
    "\n",
    "Part 3 covers how to obtain metadata and how to make a more complicated API request.\n",
    "\n",
    "\n",
    "### Obtaining the metadata\n",
    "Part 2 explains how to generalize the example in part 1 by finding the codes which correspond to our data of interest and return successful API requests. However, the CompactData method used in part 1 does not return any metadata, such as full country names, the units of measure, or the indicator name.\n",
    "\n",
    "Metadata are obtained by using the GenericMetadata method, demonstrated for the U.K. import price example from part 1 as follows:"
   ]
  },
  {
   "cell_type": "code",
   "execution_count": null,
   "metadata": {
    "collapsed": false
   },
   "outputs": [],
   "source": [
    "import requests # Python 2.7, requests version 2.12.4\n",
    "\n",
    "url = 'http://dataservices.imf.org/REST/SDMX_JSON.svc/'\n",
    "key = 'GenericMetadata/IFS/M.GB.PMP_IX'\n",
    "metadata = requests.get('{}{}'.format(url,key)).json()\n",
    "country = metadata['GenericMetadata']['MetadataSet']\\\n",
    "            ['AttributeValueSet'][0]['ReportedAttribute']\\\n",
    "            [1]['ReportedAttribute'][3]['Value']['#text']\n",
    "indicator = metadata['GenericMetadata']['MetadataSet']\\\n",
    "            ['AttributeValueSet'][1]['ReportedAttribute']\\\n",
    "            [1]['ReportedAttribute'][4]['Value']['#text']\n",
    "print 'Country: {}; Indicator: {}'.format(country, indicator)"
   ]
  },
  {
   "cell_type": "markdown",
   "metadata": {},
   "source": [
    "The GenericMetadata method returns several options for country and indicator names, so it may be helpful to step into the JSON data and examine what is available directly. \n",
    "\n",
    "### More complex requests\n",
    "\n",
    "Perhaps we are interested in the share of goods the U.K. imports from the European Union, which requires information on both trade between the U.K and the EU, and on total U.K. trade. The API allows you to combine along a single dimension by adding '+'. For example, searching for the dimension 2 code in part 2 gives us B0 as the code for the EU, and W00 as the code for the world (total trade). \n",
    "\n",
    "Pandas is used for calculations and to make a simple line plot of the result."
   ]
  },
  {
   "cell_type": "code",
   "execution_count": null,
   "metadata": {
    "collapsed": false,
    "scrolled": true
   },
   "outputs": [],
   "source": [
    "import pandas as pd           # pandas version 0.18.1\n",
    "\n",
    "# key includes two partners, B0 and W00 for EU and world\n",
    "key = 'CompactData/DOT/M.GB.TMG_CIF_USD.B0+W00'\n",
    "dates = '?startPeriod=2010'     # limit start date\n",
    "\n",
    "data = requests.get('{}{}{}'.format(url, key, dates)).json()\\\n",
    "# Create a dict of counterpart area code: its pandas dataframe\n",
    "d = {partner['@COUNTERPART_AREA']: pd.DataFrame(partner['Obs'])\n",
    "     .set_index('@TIME_PERIOD')['@OBS_VALUE'] for partner in data}\n",
    "df = pd.concat(d, axis=1).astype(float).reset_index()  \n",
    "df = df.set_index(pd.to_datetime(df['@TIME_PERIOD']))\n",
    "eu_share = df['B0'].div(df['W00'])\n",
    "\n",
    "# Create a line plot and print most recent value as x label\n",
    "title = \"U.K. imports of goods: European Union share of total\"\n",
    "recentdt = d['B0'].index[-1]\n",
    "recentval = (eu_share[-1] * 100).round(1)\n",
    "recent = 'Most recent: {}: {}%'.format(recentdt, recentval)\n",
    "ax = eu_share.plot(title=title, colormap='jet')\n",
    "ax.set_xlabel(recent)"
   ]
  },
  {
   "cell_type": "markdown",
   "metadata": {},
   "source": [
    "### Additional resources\n",
    "\n",
    "On the IMF API side: \n",
    "\n",
    "The Data Services section of the IMF's website offers useful guidance on the APIs, and has a separate news section, which is a good place to check if something breaks. Finally, some guidance on handling large queries is available here:\n",
    "\n",
    "On the Python side:\n",
    "\n",
    "\n",
    "R package by Mingjer Lee to access the IMF API: \n",
    "https://github.com/mingjerli/IMFData"
   ]
  }
 ],
 "metadata": {
  "kernelspec": {
   "display_name": "Python [conda root]",
   "language": "python",
   "name": "conda-root-py"
  },
  "language_info": {
   "codemirror_mode": {
    "name": "ipython",
    "version": 2
   },
   "file_extension": ".py",
   "mimetype": "text/x-python",
   "name": "python",
   "nbconvert_exporter": "python",
   "pygments_lexer": "ipython2",
   "version": "2.7.12"
  }
 },
 "nbformat": 4,
 "nbformat_minor": 1
}
