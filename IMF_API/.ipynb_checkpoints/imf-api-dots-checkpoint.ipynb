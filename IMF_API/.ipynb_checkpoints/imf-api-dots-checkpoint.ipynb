{
 "cells": [
  {
   "cell_type": "markdown",
   "metadata": {},
   "source": [
    "# Machine Reading IMF Data: Data Retrieval with Python\n",
    "## Brian Dew, brianwdew@gmail.com"
   ]
  },
  {
   "cell_type": "markdown",
   "metadata": {},
   "source": [
    "## Introduction\n",
    "The International Monetary Fund (IMF) Statistics Department (STA) allows API access to their economic time series. Well-known datasets such as International Financial Statistics (IFS) and the World Economic Outlook (WEO) can be machine read through the API. This example will use python to read collect from STA's JSON RESTful Web Service so that we can determine the United States' share of world exports over the past 50 years. \n",
    "\n",
    "\n",
    "The [IMF knowledge base](http://datahelp.imf.org/knowledgebase/articles/630877-data-services) provides more information on the three avaiable API formats and IMF data services. For more information on the work of STA, see their PDF [annual report (PDF)](https://www.imf.org/external/np/sta/pdf/aglance.pdf}{https://www.imf.org/external/np/sta/pdf/aglance.pdf), STA at a glance 2015."
   ]
  },
  {
   "cell_type": "markdown",
   "metadata": {},
   "source": [
    "## Gathering series and dimension information\n",
    "First, we will need to import the json, urllib2, and requests libraries, as well as pandas. These will allow us to read json data, open urls, and request information from the web. "
   ]
  },
  {
   "cell_type": "code",
   "execution_count": 1,
   "metadata": {
    "collapsed": true
   },
   "outputs": [],
   "source": [
    "# Import libraries\n",
    "import json\n",
    "import urllib2\n",
    "import requests\n",
    "import pandas as pd\n",
    "import numpy as np"
   ]
  },
  {
   "cell_type": "markdown",
   "metadata": {},
   "source": [
    "Since we are using the JSON RESTful API, we start by using the 'Dataflow' endpoint URL to look at what series are available and find the series id of interest. The full output is long, so I've removed the data unrelated to this example. The IMF has many more series than what is shown below. "
   ]
  },
  {
   "cell_type": "code",
   "execution_count": 2,
   "metadata": {
    "collapsed": false
   },
   "outputs": [
    {
     "name": "stdout",
     "output_type": "stream",
     "text": [
      "DOT: Direction of Trade Statistics (DOTS)\n",
      "FSIREM: Financial Soundness Indicators (FSI), Reporting Entities - Multidimensional\n",
      "CDIS: Coordinated Direct Investment Survey (CDIS)\n",
      "GFS01M: Government Finance Statistics (GFS 2001) - Multidimensional\n",
      "GFS01: Government Finance Statistics (GFS 2001)\n",
      "BOP: Balance of Payments (BOP)\n",
      "BOPAGG: Balance of Payments (BOP), World and Regional Aggregates\n"
     ]
    }
   ],
   "source": [
    "# Find the series id and text name.\n",
    "url = \"http://dataservices.imf.org/REST/SDMX_JSON.svc/Dataflow/\"\n",
    "seriesids = json.load(urllib2.urlopen(url))\n",
    "df = pd.DataFrame(seriesids['Structure']['KeyFamilies']['KeyFamily'])\n",
    "for x in range(6, 13):    \n",
    "    items = (str(df['@id'][x]), str(df['Name'][x]['#text']))\n",
    "    print ': '.join(items)"
   ]
  },
  {
   "cell_type": "markdown",
   "metadata": {},
   "source": [
    "We found above that the id for Direction of Trade Statistics is DOT. We can use this id to read notes about the series. We will next need to identify the *dimensions* of the data. For example, direction of trade data is based on a home country a flow and measure and a counterpart country. The data also has multiple frequencies and units of measurement. All of this information will be needed to later make our data request. "
   ]
  },
  {
   "cell_type": "code",
   "execution_count": 3,
   "metadata": {
    "collapsed": false
   },
   "outputs": [
    {
     "name": "stdout",
     "output_type": "stream",
     "text": [
      "Latest Update Date: 04/26/2016\n",
      "Name: Direction of Trade Statistics (DOTS)\n",
      "Temporal Coverage: Monthly and quarterly data are available starting 1960. Annual data are available starting 1947.\n",
      "Geographic Coverage: DOTS covers 184 countries, the world, and major areas.\n",
      "Methodology: Guide to Direction of Trade Statistics, 1993. See Documents tab.\n",
      "Definition: The <B>Direction of Trade Statistics (DOTS)</B> presents current figures on the value of merchandise exports and imports disaggregated according to a country's primary trading partners. Area and world aggregates are included in the display of trade flows between major areas of the world. Reported data is supplemented by estimates whenever such data is not available or current. Imports are reported on a cost, insurance and freight (CIF) basis and exports are reported on a free on board (FOB) basis, with the exception of a few countries for which imports are also available FOB. Time series data includes estimates derived from reports of partner countries for non-reporting and slow-reporting countries.\n",
      "Code: DOT\n"
     ]
    }
   ],
   "source": [
    "# Annotations for the series\n",
    "url = \"http://dataservices.imf.org/REST/SDMX_JSON.svc/DataStructure/DOT\"\n",
    "dotstruct = json.load(urllib2.urlopen(url))\n",
    "df = pd.DataFrame(dotstruct['Structure']['KeyFamilies']\\\n",
    "                  ['KeyFamily']['Annotations'])\n",
    "for x in range(0, 7):    \n",
    "    items = (str(df['Annotation'][x]['AnnotationTitle']), \\\n",
    "             str(df['Annotation'][x]['AnnotationText']['#text']))\n",
    "    print ': '.join(items)"
   ]
  },
  {
   "cell_type": "code",
   "execution_count": 4,
   "metadata": {
    "collapsed": false
   },
   "outputs": [
    {
     "name": "stdout",
     "output_type": "stream",
     "text": [
      "Dimension: 1: CL_AREA|DOT\n",
      "Dimension: 2: CL_INDICATOR|DOT\n",
      "Dimension: 3: CL_COUNTERPART_AREA|DOT\n",
      "Dimension: 4: CL_FREQ|DOT\n",
      "Dimension: 5: CL_UNIT_MULT|DOT\n"
     ]
    }
   ],
   "source": [
    "# Look at structure of DOTS data to find the dimensions for our data request\n",
    "url = \"http://dataservices.imf.org/REST/SDMX_JSON.svc/DataStructure/DOT\"\n",
    "dotstruct = json.load(urllib2.urlopen(url))\n",
    "df = pd.DataFrame(dotstruct['Structure']['KeyFamilies']['KeyFamily']\\\n",
    "                  ['Components']['Dimension'])\n",
    "for x in range(0, 5):    \n",
    "    items = (\"Dimension\", str(x+1), str(df['@codelist'][x]))\n",
    "    print ': '.join(items)"
   ]
  },
  {
   "cell_type": "markdown",
   "metadata": {
    "collapsed": false
   },
   "source": [
    "We can now copy the code for each dimension into the CodeList Method to get the list of possible values. For example, we will need to identify the value of the first dimension, CL_COUNTRY, for the United States. Below, we show that the code is 111. I've manually placed the index number for the U.S. and World codes (again to save space), however, you can replace [200, 247] with [0, 247] to get the full list of country/area codes."
   ]
  },
  {
   "cell_type": "code",
   "execution_count": 5,
   "metadata": {
    "collapsed": false
   },
   "outputs": [
    {
     "name": "stdout",
     "output_type": "stream",
     "text": [
      "US: United States\n",
      "W00: All Countries, excluding the IO\n"
     ]
    }
   ],
   "source": [
    "# Obtain country codes\n",
    "url = \"http://dataservices.imf.org/REST/SDMX_JSON.svc/CodeList/CL_AREA|DOT\"\n",
    "country = json.load(urllib2.urlopen(url))\n",
    "df = pd.DataFrame(country['Structure']['CodeLists']['CodeList']['Code'])\n",
    "for x in [200, 248]:    \n",
    "    items = (str(df['@value'][x]), str(df['Description'][x]['#text']))\n",
    "    print ': '.join(items)"
   ]
  },
  {
   "cell_type": "markdown",
   "metadata": {},
   "source": [
    "The series ID is DOT and the country codes (we will use this with the exporting country, CL_COUNTRY, and the counterpart, CL_COUNTERPART_COUNTRY) of interest are 001 for world and 111 for the US. We see below that the indicator of interest is TXG_FOB_USD, Goods, Value of Exports, Free on board (FOB), US Dollars."
   ]
  },
  {
   "cell_type": "code",
   "execution_count": 6,
   "metadata": {
    "collapsed": false
   },
   "outputs": [
    {
     "name": "stdout",
     "output_type": "stream",
     "text": [
      "TXG_FOB_USD: Goods, Value of Exports, Free on board (FOB), US Dollars\n",
      "TMG_CIF_USD: Goods, Value of Imports, Cost, Insurance, Freight (CIF), US Dollars\n",
      "TMG_FOB_USD: Goods, Value of Imports, Free on board (FOB), US Dollars\n",
      "All Indicators: All Indicators\n"
     ]
    }
   ],
   "source": [
    "# Obtain series info and ids\n",
    "url = \"http://dataservices.imf.org/REST/SDMX_JSON.svc/CodeList/CL_INDICATOR|DOT\"\n",
    "series = json.load(urllib2.urlopen(url))\n",
    "df = pd.DataFrame(series['Structure']['CodeLists']['CodeList']['Code'])\n",
    "for x in range(0, 4):    \n",
    "    items = (str(df['@value'][x]), str(df['Description'][x]['#text']))\n",
    "    print ': '.join(items)"
   ]
  },
  {
   "cell_type": "markdown",
   "metadata": {},
   "source": [
    "We repeat the above steps for each dimension and record which series values are of interest to us. "
   ]
  },
  {
   "cell_type": "markdown",
   "metadata": {},
   "source": [
    "## Retrieving Data\n",
    "The guide to STA's API shows how we can combine information from the previous steps to call and retrieve data. For direction of trade statistics, we see that the dimensions are as follows:\n",
    "\n",
    "* Dimension 1: REF_AREA (the primary country) - 111\n",
    "* Dimension 2: INDICATOR (the measure--we want to look at exports free of board) - TXG_FOB_USD\n",
    "* Dimension 3: VIS_AREA (the counterpart country) - 001\n",
    "* Dimension 4: FREQ (the frequency of the data--we want to use monthly data) - M \n",
    "* Dimension 5: SCALE (the units of measure--we can leave this blank)\n",
    "\n",
    "The JSON RESTful API method for requesting the data is the CompactData Method. The format for putting together dimension and time period information is shown on the Web Service knowledge base as:\n",
    "\n",
    "    http://dataservices.imf.org/REST/SDMX_JSON.svc/CompactData/{database ID}/ {item1 from dimension1}+{item2 from dimension1}{item N from dimension1}.{item1 from dimension2} +{item2 from dimension2}+{item M from dimension2}? startPeriod={start date}&endPeriod={end date}\n",
    "\n",
    "Putting all of this information together, the URL to retrieve a JSON dictionary for 1966-2016 US exports to the world data is:\n",
    "\n",
    "http://dataservices.imf.org/REST/SDMX_JSON.svc/CompactData/DOT/111.TXG_FOB_USD.001.M.?startPeriod=1966&endPeriod=2016\n",
    "\n",
    "The python code which gets the data and saves it as a dictionary is as follows:"
   ]
  },
  {
   "cell_type": "code",
   "execution_count": 7,
   "metadata": {
    "collapsed": false,
    "scrolled": true
   },
   "outputs": [
    {
     "data": {
      "text/html": [
       "<div>\n",
       "<table border=\"1\" class=\"dataframe\">\n",
       "  <thead>\n",
       "    <tr style=\"text-align: right;\">\n",
       "      <th></th>\n",
       "      <th>date</th>\n",
       "      <th>usexports</th>\n",
       "    </tr>\n",
       "  </thead>\n",
       "  <tbody>\n",
       "    <tr>\n",
       "      <th>415</th>\n",
       "      <td>2015-08</td>\n",
       "      <td>123065777734</td>\n",
       "    </tr>\n",
       "    <tr>\n",
       "      <th>416</th>\n",
       "      <td>2015-09</td>\n",
       "      <td>125394024247</td>\n",
       "    </tr>\n",
       "    <tr>\n",
       "      <th>417</th>\n",
       "      <td>2015-10</td>\n",
       "      <td>130599515853</td>\n",
       "    </tr>\n",
       "    <tr>\n",
       "      <th>418</th>\n",
       "      <td>2015-11</td>\n",
       "      <td>120731632371</td>\n",
       "    </tr>\n",
       "    <tr>\n",
       "      <th>419</th>\n",
       "      <td>2015-12</td>\n",
       "      <td>119907169367</td>\n",
       "    </tr>\n",
       "  </tbody>\n",
       "</table>\n",
       "</div>"
      ],
      "text/plain": [
       "        date     usexports\n",
       "415  2015-08  123065777734\n",
       "416  2015-09  125394024247\n",
       "417  2015-10  130599515853\n",
       "418  2015-11  120731632371\n",
       "419  2015-12  119907169367"
      ]
     },
     "execution_count": 7,
     "metadata": {},
     "output_type": "execute_result"
    }
   ],
   "source": [
    "url = 'http://dataservices.imf.org/REST/SDMX_JSON.svc/CompactData/DOT/US.TXG_FOB_USD.W00.M.?startPeriod=1981&endPeriod=2016'\n",
    "data = json.loads(requests.get(url).text)\n",
    "usexp = pd.DataFrame(data['CompactData']['DataSet']['Series']['Obs'])\n",
    "usexp.columns = ['date','usexports'];\n",
    "usexp.tail()"
   ]
  },
  {
   "cell_type": "markdown",
   "metadata": {},
   "source": [
    "Now we can do the same for the world exports. We combine the request for several series into one URL, by adding '+code_2+code3'. For example, '001+998.TXG..'"
   ]
  },
  {
   "cell_type": "code",
   "execution_count": 8,
   "metadata": {
    "collapsed": false
   },
   "outputs": [],
   "source": [
    "ourl = 'http://dataservices.imf.org/REST/SDMX_JSON.svc/CompactData/DOT/US+CN+JP+W00.TXG_FOB_USD.W00.M.?startPeriod=1972&endPeriod=2016'\n",
    "odata = json.loads(requests.get(ourl).text);"
   ]
  },
  {
   "cell_type": "code",
   "execution_count": 9,
   "metadata": {
    "collapsed": false
   },
   "outputs": [],
   "source": [
    "wexp = pd.DataFrame(odata['CompactData']['DataSet']['Series'][0]['Obs'])\n",
    "wexp.columns = ['observ','date','wexports']\n",
    "del wexp['date']\n",
    "del wexp['observ']\n",
    "chexp = pd.DataFrame(odata['CompactData']['DataSet']['Series'][1]['Obs'])\n",
    "chexp.columns = ['observ','date','chexports']\n",
    "del chexp['date']\n",
    "del chexp['observ']\n",
    "jpexp = pd.DataFrame(odata['CompactData']['DataSet']['Series'][2]['Obs'])\n",
    "jpexp.columns = ['date','jpexports']\n",
    "del jpexp['date']\n",
    "usexp = pd.DataFrame(odata['CompactData']['DataSet']['Series'][3]['Obs'])\n",
    "usexp.columns = ['date','usexports'];"
   ]
  },
  {
   "cell_type": "markdown",
   "metadata": {},
   "source": [
    "Now we combine the two series into one dataframe and tell our script to read the export value columns as numbers."
   ]
  },
  {
   "cell_type": "code",
   "execution_count": 10,
   "metadata": {
    "collapsed": false
   },
   "outputs": [],
   "source": [
    "combined = pd.concat([usexp, wexp, chexp, jpexp], axis=1)\n",
    "pd.to_datetime(combined.date)\n",
    "combined = combined.set_index(pd.DatetimeIndex(combined['date']))\n",
    "usexports = pd.to_numeric(combined.usexports)\n",
    "wexports = pd.to_numeric(combined.wexports)\n",
    "cexports = pd.to_numeric(combined.chexports)\n",
    "jexports = pd.to_numeric(combined.jpexports)"
   ]
  },
  {
   "cell_type": "markdown",
   "metadata": {},
   "source": [
    "Finally, we can calculate the U.S. percentage share of world exports. We simply divide the us exports by the world exports and multiply by 100. If using the data for economic research, we would likely take the log forms.\n",
    "\n",
    "\n",
    "$$ \\frac{\\text{EX}_{US}}{\\text{EX}_{world}} * 100 $$"
   ]
  },
  {
   "cell_type": "code",
   "execution_count": 11,
   "metadata": {
    "collapsed": false
   },
   "outputs": [
    {
     "data": {
      "text/html": [
       "<div>\n",
       "<table border=\"1\" class=\"dataframe\">\n",
       "  <thead>\n",
       "    <tr style=\"text-align: right;\">\n",
       "      <th></th>\n",
       "      <th>date</th>\n",
       "      <th>usexports</th>\n",
       "      <th>wexports</th>\n",
       "      <th>chexports</th>\n",
       "      <th>jpexports</th>\n",
       "      <th>usshare</th>\n",
       "      <th>chinashare</th>\n",
       "      <th>japanshare</th>\n",
       "    </tr>\n",
       "  </thead>\n",
       "  <tbody>\n",
       "    <tr>\n",
       "      <th>2015-08-01</th>\n",
       "      <td>2015-08</td>\n",
       "      <td>123065777734</td>\n",
       "      <td>1300831333674.29</td>\n",
       "      <td>196700577701</td>\n",
       "      <td>47716610285.1334</td>\n",
       "      <td>9.460548</td>\n",
       "      <td>15.121144</td>\n",
       "      <td>3.668163</td>\n",
       "    </tr>\n",
       "    <tr>\n",
       "      <th>2015-09-01</th>\n",
       "      <td>2015-09</td>\n",
       "      <td>125394024247</td>\n",
       "      <td>1420054595987.33</td>\n",
       "      <td>205276102549</td>\n",
       "      <td>53319008022.613</td>\n",
       "      <td>8.830226</td>\n",
       "      <td>14.455508</td>\n",
       "      <td>3.754715</td>\n",
       "    </tr>\n",
       "    <tr>\n",
       "      <th>2015-10-01</th>\n",
       "      <td>2015-10</td>\n",
       "      <td>130599515853</td>\n",
       "      <td>1399738092111.32</td>\n",
       "      <td>192284415511</td>\n",
       "      <td>54483932950.8587</td>\n",
       "      <td>9.330282</td>\n",
       "      <td>13.737171</td>\n",
       "      <td>3.892438</td>\n",
       "    </tr>\n",
       "    <tr>\n",
       "      <th>2015-11-01</th>\n",
       "      <td>2015-11</td>\n",
       "      <td>120731632371</td>\n",
       "      <td>1338655150972.6</td>\n",
       "      <td>196294864154</td>\n",
       "      <td>48795599792.1326</td>\n",
       "      <td>9.018875</td>\n",
       "      <td>14.663587</td>\n",
       "      <td>3.645121</td>\n",
       "    </tr>\n",
       "    <tr>\n",
       "      <th>2015-12-01</th>\n",
       "      <td>2015-12</td>\n",
       "      <td>119907169367</td>\n",
       "      <td>1366291055289.91</td>\n",
       "      <td>223564683168</td>\n",
       "      <td>51982674657.9836</td>\n",
       "      <td>8.776107</td>\n",
       "      <td>16.362889</td>\n",
       "      <td>3.804656</td>\n",
       "    </tr>\n",
       "  </tbody>\n",
       "</table>\n",
       "</div>"
      ],
      "text/plain": [
       "               date     usexports          wexports     chexports  \\\n",
       "2015-08-01  2015-08  123065777734  1300831333674.29  196700577701   \n",
       "2015-09-01  2015-09  125394024247  1420054595987.33  205276102549   \n",
       "2015-10-01  2015-10  130599515853  1399738092111.32  192284415511   \n",
       "2015-11-01  2015-11  120731632371   1338655150972.6  196294864154   \n",
       "2015-12-01  2015-12  119907169367  1366291055289.91  223564683168   \n",
       "\n",
       "                   jpexports   usshare  chinashare  japanshare  \n",
       "2015-08-01  47716610285.1334  9.460548   15.121144    3.668163  \n",
       "2015-09-01   53319008022.613  8.830226   14.455508    3.754715  \n",
       "2015-10-01  54483932950.8587  9.330282   13.737171    3.892438  \n",
       "2015-11-01  48795599792.1326  9.018875   14.663587    3.645121  \n",
       "2015-12-01  51982674657.9836  8.776107   16.362889    3.804656  "
      ]
     },
     "execution_count": 11,
     "metadata": {},
     "output_type": "execute_result"
    }
   ],
   "source": [
    "combined['usshare'] = usexports / wexports * 100\n",
    "combined['chinashare'] = cexports / wexports * 100\n",
    "combined['japanshare'] = jexports / wexports * 100\n",
    "combined.tail()"
   ]
  },
  {
   "cell_type": "markdown",
   "metadata": {},
   "source": [
    "## Graphing the data\n",
    "Let's use matplotlib to view the result of our work."
   ]
  },
  {
   "cell_type": "code",
   "execution_count": 12,
   "metadata": {
    "collapsed": false
   },
   "outputs": [
    {
     "data": {
      "image/png": "[encoded data removed]",
      "text/plain": [
       "<matplotlib.figure.Figure at 0xa34d8d0>"
      ]
     },
     "metadata": {},
     "output_type": "display_data"
    }
   ],
   "source": [
    "import matplotlib as mpl\n",
    "import matplotlib.pyplot as plt\n",
    "%matplotlib inline\n",
    "txt = '''Source: International Monetary Fund.'''\n",
    "\n",
    "# Plot US share of world exports\n",
    "combined.usshare.plot(grid=True, figsize=(9, 5), color=\"blue\", linewidth=2,)\n",
    "plt.ylabel('percentage of world exports')\n",
    "plt.xlabel('Year')\n",
    "plt.text(20,4.5,txt)\n",
    "plt.title('U.S. Share of World Exports');"
   ]
  },
  {
   "cell_type": "markdown",
   "metadata": {},
   "source": [
    "The graph shows a decrease in the U.S. share of exports from nearly 20 percent in 1966 to roughly 9 percent in 2015. We can also easily examine how changes in the U.S. share of exports compare with changes in the share of Japan and China."
   ]
  },
  {
   "cell_type": "code",
   "execution_count": 13,
   "metadata": {
    "collapsed": false
   },
   "outputs": [
    {
     "data": {
      "image/png": "[encoded data removed]",
      "text/plain": [
       "<matplotlib.figure.Figure at 0x75fc278>"
      ]
     },
     "metadata": {},
     "output_type": "display_data"
    }
   ],
   "source": [
    "combined['ussharema'] = combined['usshare'].rolling(12,12).mean()\n",
    "combined['chsharema'] = combined['chinashare'].rolling(12,12).mean()\n",
    "combined['jpsharema'] = combined['japanshare'].rolling(12,12).mean()\n",
    "\n",
    "combshares = combined[['ussharema', 'chsharema', 'jpsharema']]\n",
    "shares = list(combshares);\n",
    "# Plot various shares of world exports\n",
    "combined[shares][120:].plot(grid=True, figsize=(9, 5), linewidth=2)\n",
    "plt.ylabel('percentage of world exports')\n",
    "plt.xlabel('Year')\n",
    "plt.text(150,-2,txt)\n",
    "plt.title('Share of World Exports', );"
   ]
  },
  {
   "cell_type": "markdown",
   "metadata": {},
   "source": [
    "##  Export dataset to .csv\n",
    "Let's save the dataset in a portable format that can be read by any statistical software. My preference is to create a .csv file, which I will use for my U.S. Macroeconomic and Markets Dashboard. \n",
    "https://briandew.wordpress.com/dashboard_usa/"
   ]
  },
  {
   "cell_type": "code",
   "execution_count": 14,
   "metadata": {
    "collapsed": true
   },
   "outputs": [],
   "source": [
    "combined.to_csv('us_share_exports.csv')"
   ]
  }
 ],
 "metadata": {
  "kernelspec": {
   "display_name": "Python 2",
   "language": "python",
   "name": "python2"
  },
  "language_info": {
   "codemirror_mode": {
    "name": "ipython",
    "version": 2
   },
   "file_extension": ".py",
   "mimetype": "text/x-python",
   "name": "python",
   "nbconvert_exporter": "python",
   "pygments_lexer": "ipython2",
   "version": "2.7.11"
  }
 },
 "nbformat": 4,
 "nbformat_minor": 0
}
