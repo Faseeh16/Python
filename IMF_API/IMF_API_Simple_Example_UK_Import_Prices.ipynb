{
 "cells": [
  {
   "cell_type": "code",
   "execution_count": 1,
   "metadata": {
    "collapsed": true
   },
   "outputs": [],
   "source": [
    "# Notebook settings\n",
    "%matplotlib inline"
   ]
  },
  {
   "cell_type": "markdown",
   "metadata": {},
   "source": [
    "<img src=\"https://github.com/bdecon/bdecon.github.io/raw/master/images/01_bdlogo.png\" alt=\"BD Economics\" style=\"width: 100px;\"/>\n",
    "# IMF API Example \n",
    "Brian Dew, Principal, BD Economics, @bd_econ "
   ]
  },
  {
   "cell_type": "markdown",
   "metadata": {},
   "source": [
    "### Short example\n",
    "\n",
    "The IMF's API allows machine access to macroeconomic data covering more than 180 countries. Using python, it is easy to retrieve data from this API.\n",
    "\n",
    "A simple example below retrieves the latest available import price data for the U.K., including the base year of the index (the year in which values are indexed to 100), the observation values, and the time period for each value, in this case the year and month."
   ]
  },
  {
   "cell_type": "code",
   "execution_count": null,
   "metadata": {
    "collapsed": true
   },
   "outputs": [],
   "source": [
    "import requests # Python 2.7, requests version 2.12.4\n",
    "\n",
    "url = 'http://dataservices.imf.org/REST/SDMX_JSON.svc/'\n",
    "key = 'CompactData/IFS/M.GB.PCPI_IX' # adjust as needed\n",
    "data = requests.get('{}{}'.format(url,key)).json()\n",
    "data['CompactData']['DataSet']['Series']['Obs'][-1]"
   ]
  },
  {
   "cell_type": "markdown",
   "metadata": {},
   "source": [
    "### Pandas to clean, save, and plot the data\n",
    "\n",
    "Next, we'll use pandas to clean up the data obtained above, save it as a csv file, and produce a simple line plot."
   ]
  },
  {
   "cell_type": "code",
   "execution_count": 3,
   "metadata": {
    "scrolled": true
   },
   "outputs": [
    {
     "name": "stderr",
     "output_type": "stream",
     "text": [
      "C:\\Users\\BDew\\Anaconda2\\lib\\site-packages\\pandas\\core\\series.py:1342: RuntimeWarning: invalid value encountered in rint\n",
      "  result = _values_from_object(self).round(decimals)\n"
     ]
    }
   ],
   "source": [
    "import pandas as pd          # pandas version 0.18.1\n",
    "    \n",
    "# Navigate to observations in JSON data\n",
    "obs = data['CompactData']['DataSet']['Series']['Obs']\n",
    "baseyr = obs[-1]['@BASE_YEAR']  # Save the base year\n",
    "\n",
    "# Create pandas dataframe from the observations\n",
    "df = pd.DataFrame(obs)[['@OBS_VALUE','@TIME_PERIOD']]\n",
    "df.columns = ['value', 'date']\n",
    "df.loc[:,'value'] = df['value'].astype(float).round(1)\n",
    "df = df.set_index(pd.to_datetime(df['date']))['value']\n",
    "\n",
    "# Save cleaned data as a dataframe\n",
    "df.to_csv('data/UK_MP.csv', header=True) # adjust path"
   ]
  },
  {
   "cell_type": "markdown",
   "metadata": {},
   "source": [
    "### A simple line plot\n",
    "\n",
    "As the last step for this example, we can visually inspect the results by producing a line plot."
   ]
  },
  {
   "cell_type": "code",
   "execution_count": 4,
   "metadata": {},
   "outputs": [
    {
     "data": {
      "text/plain": [
       "<matplotlib.text.Text at 0xa167668>"
      ]
     },
     "execution_count": 4,
     "metadata": {},
     "output_type": "execute_result"
    },
    {
     "data": {
      "image/png": "[encoded data removed]",
      "text/plain": [
       "<matplotlib.figure.Figure at 0x803eeb8>"
      ]
     },
     "metadata": {},
     "output_type": "display_data"
    }
   ],
   "source": [
    "# Title and text with recent value\n",
    "title = 'U.K. Import Prices (index, {}=100)'.format(baseyr)\n",
    "recentdate = df.dropna().index[-1].strftime('%B %Y')\n",
    "recentval = df.dropna()[-1]\n",
    "recent = 'Most recent: {}: {}'.format(recentdate, recentval)\n",
    "\n",
    "# Basic plot \n",
    "ax = df.plot(title=title, colormap='Set1')\n",
    "ax.set_xlabel(recent)"
   ]
  },
  {
   "cell_type": "code",
   "execution_count": 5,
   "metadata": {
    "collapsed": true
   },
   "outputs": [],
   "source": [
    "fig = ax.get_figure()\n",
    "fig.savefig('data/UK_MP.png')"
   ]
  },
  {
   "cell_type": "markdown",
   "metadata": {},
   "source": [
    "### Variations: breaking down the request\n",
    "\n",
    "The IMF's API url, combined with a method, series, frequency, area, and indicator specific key, provides a JSON structured dataset. These last five components, which are variable, combine to serve as the key to the request in the short example above, and are explained in more detail as follows:\n",
    "\n",
    "* Method: CompactData retrieves data, DataStructure retrieves metadata;\n",
    "* Series: The broad group of indicators, in this case International Financial Statistics 'IFS';\n",
    "* Frequency: For example monthly 'M', quarterly 'Q', or annually 'A';\n",
    "* Area: The country, region, or set of countries, for example 'GB' for the U.K., or 'GB+US' for the U.K. and the U.S.;\n",
    "* Indicator: The code for the indicator of interest--IFS includes more that 2500; and\n",
    "* Date Range (Optional): Use this to limit the data range returned, for example '?startPeriod=2010&endPeriod=2017' otherwise the full set of data is returned.\n",
    "\n",
    "These components are combined as: {Method}/{Series}/{Frequency}.{Area}.{Indicator}.{Date Range}, for example CompactData/IFS/M.GB.PMP_IX.?startPeriod=2010&endPeriod=2017"
   ]
  }
 ],
 "metadata": {
  "kernelspec": {
   "display_name": "Python [conda root]",
   "language": "python",
   "name": "conda-root-py"
  },
  "language_info": {
   "codemirror_mode": {
    "name": "ipython",
    "version": 2
   },
   "file_extension": ".py",
   "mimetype": "text/x-python",
   "name": "python",
   "nbconvert_exporter": "python",
   "pygments_lexer": "ipython2",
   "version": "2.7.12"
  }
 },
 "nbformat": 4,
 "nbformat_minor": 1
}
