{
 "cells": [
  {
   "cell_type": "code",
   "execution_count": 1,
   "metadata": {},
   "outputs": [
    {
     "data": {
      "text/plain": [
       "{u'@OBS_VALUE': u'32284.27', u'@TIME_PERIOD': u'2016-Q4'}"
      ]
     },
     "execution_count": 1,
     "metadata": {},
     "output_type": "execute_result"
    }
   ],
   "source": [
    "import requests # Python 2.7, requests version 2.12.4\n",
    "\n",
    "url = 'http://dataservices.imf.org/REST/SDMX_JSON.svc/'\n",
    "key = 'CompactData/IFS/Q.IN.NGDP_R_XDC' # adjust as needed\n",
    "data = requests.get('{}{}'.format(url,key)).json()\n",
    "data['CompactData']['DataSet']['Series']['Obs'][-1]"
   ]
  },
  {
   "cell_type": "code",
   "execution_count": 2,
   "metadata": {},
   "outputs": [
    {
     "data": {
      "text/plain": [
       "{u'CompactData': {u'@xmlns': u'http://www.SDMX.org/resources/SDMXML/schemas/v2_0/message',\n",
       "  u'@xmlns:xsd': u'http://www.w3.org/2001/XMLSchema',\n",
       "  u'@xmlns:xsi': u'http://www.w3.org/2001/XMLSchema-instance',\n",
       "  u'@xsi:schemaLocation': u'http://www.SDMX.org/resources/SDMXML/schemas/v2_0/message https://registry.sdmx.org/schemas/v2_0/SDMXMessage.xsd http://dataservices.imf.org/compact/IFS http://dataservices.imf.org/compact/IFS.xsd',\n",
       "  u'DataSet': {u'@xmlns': u'http://dataservices.imf.org/compact/IFS',\n",
       "   u'Series': {u'@BASE_YEAR': u'2011 Prices',\n",
       "    u'@FREQ': u'Q',\n",
       "    u'@INDICATOR': u'NGDP_R_XDC',\n",
       "    u'@REF_AREA': u'IN',\n",
       "    u'@TIME_FORMAT': u'P3M',\n",
       "    u'@UNIT_MULT': u'9',\n",
       "    u'Obs': [{u'@OBS_VALUE': u'22206.16', u'@TIME_PERIOD': u'2012-Q1'},\n",
       "     {u'@OBS_VALUE': u'22015.17', u'@TIME_PERIOD': u'2012-Q2'},\n",
       "     {u'@OBS_VALUE': u'23538.59', u'@TIME_PERIOD': u'2012-Q3'},\n",
       "     {u'@OBS_VALUE': u'25048.11', u'@TIME_PERIOD': u'2012-Q4'},\n",
       "     {u'@OBS_VALUE': u'23587.992071721', u'@TIME_PERIOD': u'2013-Q1'},\n",
       "     {u'@OBS_VALUE': u'23702.0548138451', u'@TIME_PERIOD': u'2013-Q2'},\n",
       "     {u'@OBS_VALUE': u'24955.2338227802', u'@TIME_PERIOD': u'2013-Q3'},\n",
       "     {u'@OBS_VALUE': u'26149.0020758375', u'@TIME_PERIOD': u'2013-Q4'},\n",
       "     {u'@OBS_VALUE': u'25339.91', u'@TIME_PERIOD': u'2014-Q1'},\n",
       "     {u'@OBS_VALUE': u'25647.5256907561', u'@TIME_PERIOD': u'2014-Q2'},\n",
       "     {u'@OBS_VALUE': u'26506.676138898', u'@TIME_PERIOD': u'2014-Q3'},\n",
       "     {u'@OBS_VALUE': u'27877.6818223313', u'@TIME_PERIOD': u'2014-Q4'},\n",
       "     {u'@OBS_VALUE': u'27258.73', u'@TIME_PERIOD': u'2015-Q1'},\n",
       "     {u'@OBS_VALUE': u'27700.97', u'@TIME_PERIOD': u'2015-Q2'},\n",
       "     {u'@OBS_VALUE': u'28427.37', u'@TIME_PERIOD': u'2015-Q3'},\n",
       "     {u'@OBS_VALUE': u'30422.94', u'@TIME_PERIOD': u'2015-Q4'},\n",
       "     {u'@OBS_VALUE': u'29418.46', u'@TIME_PERIOD': u'2016-Q1'},\n",
       "     {u'@OBS_VALUE': u'29788.17', u'@TIME_PERIOD': u'2016-Q2'},\n",
       "     {u'@OBS_VALUE': u'30407.63', u'@TIME_PERIOD': u'2016-Q3'},\n",
       "     {u'@OBS_VALUE': u'32284.27', u'@TIME_PERIOD': u'2016-Q4'}]}},\n",
       "  u'Header': {u'ID': u'ab0881b8-a5ad-4d59-8f2c-001856798135',\n",
       "   u'Prepared': u'2017-08-27T07:48:38',\n",
       "   u'Sender': {u'@id': u'IMF',\n",
       "    u'Contact': {u'Telephone': u'+ 1 (202) 623-6220',\n",
       "     u'URI': u'http://www.imf.org'},\n",
       "    u'Name': {u'#text': u'IMF', u'@xml:lang': u'en'}},\n",
       "   u'Test': u'false'}}}"
      ]
     },
     "execution_count": 2,
     "metadata": {},
     "output_type": "execute_result"
    }
   ],
   "source": [
    "data"
   ]
  }
 ],
 "metadata": {
  "kernelspec": {
   "display_name": "Python [conda root]",
   "language": "python",
   "name": "conda-root-py"
  },
  "language_info": {
   "codemirror_mode": {
    "name": "ipython",
    "version": 2
   },
   "file_extension": ".py",
   "mimetype": "text/x-python",
   "name": "python",
   "nbconvert_exporter": "python",
   "pygments_lexer": "ipython2",
   "version": "2.7.12"
  }
 },
 "nbformat": 4,
 "nbformat_minor": 2
}
