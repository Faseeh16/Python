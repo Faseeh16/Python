{
 "cells": [
  {
   "cell_type": "code",
   "execution_count": 6,
   "metadata": {},
   "outputs": [
    {
     "data": {
      "text/plain": [
       "{u'@OBS_VALUE': u'7.42010203455582', u'@TIME_PERIOD': u'2015-Q4'}"
      ]
     },
     "execution_count": 6,
     "metadata": {},
     "output_type": "execute_result"
    }
   ],
   "source": [
    "import requests # Python 2.7, requests version 2.12.4\n",
    "\n",
    "url = 'http://dataservices.imf.org/REST/SDMX_JSON.svc/'\n",
    "key = 'CompactData/IFS/Q.IN.NGDP_R_PT' # adjust as needed\n",
    "data = requests.get('{}{}'.format(url,key)).json()\n",
    "data['CompactData']['DataSet']['Series']['Obs'][-3]"
   ]
  },
  {
   "cell_type": "code",
   "execution_count": 9,
   "metadata": {},
   "outputs": [
    {
     "name": "stdout",
     "output_type": "stream",
     "text": [
      "Country: India; Indicator: Gross Domestic Product, Real\n"
     ]
    }
   ],
   "source": [
    "url = 'http://dataservices.imf.org/REST/SDMX_JSON.svc/'\n",
    "key = 'GenericMetadata/IFS/Q.IN.NGDP_R_PT'\n",
    "metadata = requests.get('{}{}'.format(url, key)).json()\\\n",
    "    ['GenericMetadata']['MetadataSet']['AttributeValueSet']\n",
    "country = metadata[1]['ReportedAttribute'][1]\\\n",
    "    ['ReportedAttribute'][3]['Value']['#text']\n",
    "indicator = metadata[2]['ReportedAttribute'][1]\\\n",
    "    ['ReportedAttribute'][4]['Value']['#text']\n",
    "print 'Country: {}; Indicator: {}'.format(country, indicator)"
   ]
  },
  {
   "cell_type": "code",
   "execution_count": 10,
   "metadata": {},
   "outputs": [
    {
     "data": {
      "text/plain": [
       "[{u'ReportedAttribute': [{u'@conceptID': u'OBS_IFS_KEY',\n",
       "    u'ReportedAttribute': {u'@conceptID': u'FREQ',\n",
       "     u'Value': {u'#text': u'3', u'@xml:lang': u'en'}}},\n",
       "   {u'@conceptID': u'FREQ',\n",
       "    u'ReportedAttribute': [{u'@conceptID': u'FREQ_NAME',\n",
       "      u'Value': {u'#text': u'Quarterly', u'@xml:lang': u'en'}},\n",
       "     {u'@conceptID': u'FREQ_ID',\n",
       "      u'Value': {u'#text': u'QUART', u'@xml:lang': u'en'}},\n",
       "     {u'@conceptID': u'FREQ_MNEMO',\n",
       "      u'Value': {u'#text': u'Q', u'@xml:lang': u'en'}}]}],\n",
       "  u'TargetRef': u'DATA_STRUCTURE_DEFINITION',\n",
       "  u'TargetValues': {u'ComponentValue': {u'#text': u'IFS',\n",
       "    u'@component': u'DSD',\n",
       "    u'@object': u'KeyFamily'}}},\n",
       " {u'ReportedAttribute': [{u'@conceptID': u'OBS_IFS_KEY',\n",
       "    u'ReportedAttribute': {u'@conceptID': u'REF_AREA',\n",
       "     u'Value': {u'#text': u'IN', u'@xml:lang': u'en'}}},\n",
       "   {u'@conceptID': u'REF_AREA',\n",
       "    u'ReportedAttribute': [{u'@conceptID': u'REF_AREA_NAME',\n",
       "      u'Value': {u'#text': u'India', u'@xml:lang': u'en'}},\n",
       "     {u'@conceptID': u'REF_AREA_CODE',\n",
       "      u'Value': {u'#text': u'534', u'@xml:lang': u'en'}},\n",
       "     {u'@conceptID': u'REF_AREA_SOURCE_CODE',\n",
       "      u'Value': {u'#text': u'534', u'@xml:lang': u'en'}},\n",
       "     {u'@conceptID': u'REF_AREA_SHORT_NAME',\n",
       "      u'Value': {u'#text': u'India', u'@xml:lang': u'en'}},\n",
       "     {u'@conceptID': u'REF_AREA_FULL_NAME',\n",
       "      u'Value': {u'#text': u'India', u'@xml:lang': u'en'}},\n",
       "     {u'@conceptID': u'REF_AREA_SDMX_CODE',\n",
       "      u'Value': {u'#text': u'IN', u'@xml:lang': u'en'}},\n",
       "     {u'@conceptID': u'REF_AREA_ISO__CODE',\n",
       "      u'Value': {u'#text': u'IN', u'@xml:lang': u'en'}},\n",
       "     {u'@conceptID': u'REF_AREA_ISO__CODE_1',\n",
       "      u'Value': {u'#text': u'IND', u'@xml:lang': u'en'}},\n",
       "     {u'@conceptID': u'REF_AREA_SDMX_NAME',\n",
       "      u'Value': {u'#text': u'India', u'@xml:lang': u'en'}}]}],\n",
       "  u'TargetRef': u'DATA_STRUCTURE_DEFINITION',\n",
       "  u'TargetValues': {u'ComponentValue': {u'#text': u'IFS',\n",
       "    u'@component': u'DSD',\n",
       "    u'@object': u'KeyFamily'}}},\n",
       " {u'ReportedAttribute': [{u'@conceptID': u'OBS_IFS_KEY',\n",
       "    u'ReportedAttribute': {u'@conceptID': u'INDICATOR',\n",
       "     u'Value': {u'#text': u'NGDP_R_PT', u'@xml:lang': u'en'}}},\n",
       "   {u'@conceptID': u'INDICATOR',\n",
       "    u'ReportedAttribute': [{u'@conceptID': u'INDICATOR_NAME',\n",
       "      u'Value': {u'#text': u'Gross Domestic Product, Real, Percent',\n",
       "       u'@xml:lang': u'en'}},\n",
       "     {u'@conceptID': u'INDICATOR_CODE',\n",
       "      u'Value': {u'#text': u'NGDP_R_PT', u'@xml:lang': u'en'}},\n",
       "     {u'@conceptID': u'INDICATOR_SHORT_NAME',\n",
       "      u'Value': {u'#text': u'Gross Domestic Product, Real, Percent',\n",
       "       u'@xml:lang': u'en'}},\n",
       "     {u'@conceptID': u'INDICATOR_FULL_NAME',\n",
       "      u'Value': {u'#text': u'National Accounts, Gross Domestic Product, Real, Percent',\n",
       "       u'@xml:lang': u'en'}},\n",
       "     {u'@conceptID': u'INDICATOR_CONCEPT',\n",
       "      u'Value': {u'#text': u'Gross Domestic Product, Real',\n",
       "       u'@xml:lang': u'en'}},\n",
       "     {u'@conceptID': u'INDICATOR_UNIT',\n",
       "      u'Value': {u'#text': u'Percent', u'@xml:lang': u'en'}},\n",
       "     {u'@conceptID': u'INDICATOR_TOPIC_1',\n",
       "      u'Value': {u'#text': u'Real Sector', u'@xml:lang': u'en'}},\n",
       "     {u'@conceptID': u'INDICATOR_ALTERNATE_PUBLICATION_CODES',\n",
       "      u'Value': {u'#text': u'E-Library Concept: NGDP_R, Unit: F',\n",
       "       u'@xml:lang': u'en'}},\n",
       "     {u'@conceptID': u'INDICATOR_SOURCE_CODE',\n",
       "      u'Value': {u'#text': u'NGDP_R_PT', u'@xml:lang': u'en'}},\n",
       "     {u'@conceptID': u'INDICATOR_KEY_INDICATOR_1',\n",
       "      u'Value': {u'#text': u'Key Indicator', u'@xml:lang': u'en'}},\n",
       "     {u'@conceptID': u'INDICATOR_SOURCE_CODE__COLLECTION',\n",
       "      u'Value': {u'#text': u'National Accounts, Gross Domestic Product, Real, Percent',\n",
       "       u'@xml:lang': u'en'}},\n",
       "     {u'@conceptID': u'INDICATOR_SOURCE_CODE__DISSEMINATION',\n",
       "      u'Value': {u'#text': u'.99B.R.V.W...|Percent', u'@xml:lang': u'en'}},\n",
       "     {u'@conceptID': u'INDICATOR_SOURCE_CODE__EDD',\n",
       "      u'Value': {u'#text': u'NGDP_R|F', u'@xml:lang': u'en'}},\n",
       "     {u'@conceptID': u'INDICATOR_MOBILE',\n",
       "      u'Value': {u'#text': u'48', u'@xml:lang': u'en'}},\n",
       "     {u'@conceptID': u'INDICATOR_SDMX_NAME',\n",
       "      u'Value': {u'#text': u'Gross Domestic Product, Real, Percent',\n",
       "       u'@xml:lang': u'en'}},\n",
       "     {u'@conceptID': u'INDICATOR_SDMX_CODE',\n",
       "      u'Value': {u'#text': u'NGDP_R_PT', u'@xml:lang': u'en'}}]}],\n",
       "  u'TargetRef': u'DATA_STRUCTURE_DEFINITION',\n",
       "  u'TargetValues': {u'ComponentValue': {u'#text': u'IFS',\n",
       "    u'@component': u'DSD',\n",
       "    u'@object': u'KeyFamily'}}}]"
      ]
     },
     "execution_count": 10,
     "metadata": {},
     "output_type": "execute_result"
    }
   ],
   "source": [
    "metadata"
   ]
  }
 ],
 "metadata": {
  "kernelspec": {
   "display_name": "Python [conda root]",
   "language": "python",
   "name": "conda-root-py"
  },
  "language_info": {
   "codemirror_mode": {
    "name": "ipython",
    "version": 2
   },
   "file_extension": ".py",
   "mimetype": "text/x-python",
   "name": "python",
   "nbconvert_exporter": "python",
   "pygments_lexer": "ipython2",
   "version": "2.7.12"
  }
 },
 "nbformat": 4,
 "nbformat_minor": 2
}
