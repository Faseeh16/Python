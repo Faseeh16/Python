{
 "cells": [
  {
   "cell_type": "markdown",
   "metadata": {},
   "source": [
    "# EMERFIN_IFS_Search.ipynb\n",
    "\n",
    "Find the best IFS indicators to cover a list of countries and search terms.\n",
    "\n",
    "Resources:\n",
    "* [JSON RESTful Web Service](http://datahelp.imf.org/knowledgebase/articles/667681-using-json-restful-web-service)\n",
    "* [Data Services News](http://data.imf.org/?sk=A329021F-1ED6-4D6E-B719-5BF5413923B6)\n",
    "\n",
    "-----------------------------------------------------------------------------------------------------------------\n",
    "\n",
    "Import packages and obtain metadata dict"
   ]
  },
  {
   "cell_type": "code",
   "execution_count": 3,
   "metadata": {
    "collapsed": false
   },
   "outputs": [],
   "source": [
    "import requests     # requests.get('source') method retrieves data from source\n",
    "import time         # used to pace API requests and avoid disconnection\n",
    "\n",
    "source = 'http://dataservices.imf.org/REST/SDMX_JSON.svc/DataStructure/IFS'\n",
    "metafull = (requests.get(source).json()['Structure']['CodeLists']['CodeList'])\n",
    "items_to_collect = {'areas': 'CL_AREA_IFS', 'units': 'CL_UNIT_MULT'}\n",
    "name_vars = ('Short Name', 'Full Name', 'Concept', 'Unit', 'Topic')\n",
    "\n",
    "metadata = {}\n",
    "for item, code in items_to_collect.items():\n",
    "    # use item code to filter data_structure result\n",
    "    item_to_collect = [sub['Code'] for sub in metafull\n",
    "                       if sub['@id'] == code][0]\n",
    "    metadata[item] = {\n",
    "    # Obtain metadata {code: description} from DataStructure method        \n",
    "        subitem['@value']: subitem['Description']['#text']\n",
    "        for subitem in item_to_collect\n",
    "    }\n",
    "\n",
    "# Collect metadata for indicators separately\n",
    "meta_indicators = [sub['Code'] for sub in metafull\n",
    "                   if sub['@id'] == 'CL_INDICATOR_IFS'][0]\n",
    "metadata['indicators'] = {\n",
    "    indic['@value']: {\n",
    "        'Description': indic['Description']['#text']\n",
    "        } for indic in meta_indicators\n",
    "}\n",
    "name_vars = {'Short':2,'Full':3,'Concept':5,'Unit_Name':7,'Topic':8}\n",
    "for indic in meta_indicators:\n",
    "    for var, loc in name_vars.items():\n",
    "        try: \n",
    "            metadata['indicators'][indic['@value']][var] = (\n",
    "            indic['Annotations']['Annotation'][loc]['AnnotationText']['#text'])\n",
    "        except KeyError:\n",
    "            continue\n",
    "\n",
    "meta_full = None\n",
    "meta_indicators = None"
   ]
  },
  {
   "cell_type": "code",
   "execution_count": null,
   "metadata": {
    "collapsed": false
   },
   "outputs": [],
   "source": [
    "#metadata['areas']"
   ]
  },
  {
   "cell_type": "markdown",
   "metadata": {},
   "source": [
    "Obtain list of usable country codes"
   ]
  },
  {
   "cell_type": "code",
   "execution_count": 4,
   "metadata": {
    "collapsed": true
   },
   "outputs": [],
   "source": [
    "import pandas as pd \n",
    "from itertools import izip_longest\n",
    "\n",
    "cty_full = metadata['areas'].keys()\n",
    "cty_sel = [cty for cty in cty_full if len(cty) < 7]\n",
    "codes = pd.read_csv('https://raw.githubusercontent.com/lukes/ISO-3166-Countries-with-Regional-Codes/master/all/all.csv')\n",
    "cty_reg_map = codes[['alpha-2', 'region']].set_index('alpha-2').dropna()\n",
    "cty_reg_map = cty_reg_map.replace('Oceania', 'Asia').to_dict()\n",
    "\n",
    "IMF_cty_df = pd.DataFrame(cty_sel)\n",
    "IMF_cty_df['region'] = IMF_cty_df[0].map(cty_reg_map['region'])\n",
    "IMF_cty_df = IMF_cty_df.dropna().reset_index(drop=True).set_index(0)\n",
    "\n",
    "def grouper(seq, size):\n",
    "    return (seq[pos:pos + size] for pos in xrange(0, len(seq), size))"
   ]
  },
  {
   "cell_type": "markdown",
   "metadata": {},
   "source": [
    "Define variables to use in data API request"
   ]
  },
  {
   "cell_type": "code",
   "execution_count": 10,
   "metadata": {
    "collapsed": false
   },
   "outputs": [],
   "source": [
    "# Terms to use to filter the descriptions of IFS indicators.\n",
    "filter_terms = ['National Currency per US Dollar, Period Average']\n",
    "                #'Equities', 'Industrial Production', 'Interest Rate', 'Price Ind',\n",
    "                #'Gross Domestic Product, Real', 'Employm', 'Services, Net', 'Rice', \n",
    "                #'Soy', 'Metal', 'Energy', 'Sugar']\n",
    "filtered_inds = [code for code, descr in metadata['indicators'].items()\n",
    "                 if any([f_term in descr['Description'] for f_term in filter_terms])]\n",
    "\n",
    "# ISO2 codes--IFS also contains regional aggregates with IMF specific codes\n",
    "#country_list = ['BR', 'RU', 'ZA', 'MX', 'TR']\n",
    "#cty_list = '+'.join(country_list)  # formatted for API requests\n",
    "\n",
    "date_lim = '?startPeriod=2014'\n",
    "\n",
    "# Location of actual IFS data (rather than metadata)\n",
    "data_src = 'http://dataservices.imf.org/REST/SDMX_JSON.svc/CompactData/IFS/'"
   ]
  },
  {
   "cell_type": "markdown",
   "metadata": {},
   "source": [
    "Make request to data API and save nonblank series to list"
   ]
  },
  {
   "cell_type": "code",
   "execution_count": 11,
   "metadata": {
    "collapsed": false
   },
   "outputs": [],
   "source": [
    "# One indicator at a time, full list with valid results from throwing all\n",
    "# combinations of countries and filtered indicators at the API\n",
    "valid_series = []\n",
    "for group in grouper(IMF_cty_df.index.values, 50):\n",
    "    cty_list = '+'.join(group)\n",
    "    for filt_ind in filtered_inds:\n",
    "        data_url = '{}.{}.{}.{}'.format(data_src, cty_list, filt_ind, date_lim)\n",
    "        data = requests.get(data_url).json()['CompactData']['DataSet']\n",
    "        if 'Series' in data.keys():         # Check if data contain series\n",
    "            for series in data['Series']:\n",
    "                try:\n",
    "                    if 'Obs' in series.keys():  # Check if series contain observations\n",
    "                        valid_series.append(series)\n",
    "                except:\n",
    "                    pass\n",
    "        time.sleep(0.5)   # Delay requests slightly so server does not block them"
   ]
  },
  {
   "cell_type": "code",
   "execution_count": null,
   "metadata": {
    "collapsed": false
   },
   "outputs": [],
   "source": [
    "series"
   ]
  },
  {
   "cell_type": "code",
   "execution_count": null,
   "metadata": {
    "collapsed": false
   },
   "outputs": [],
   "source": [
    "#metadata['indicators']['NGDP_R_F_XDC']"
   ]
  },
  {
   "cell_type": "code",
   "execution_count": 9,
   "metadata": {
    "collapsed": false
   },
   "outputs": [
    {
     "data": {
      "text/plain": [
       "[]"
      ]
     },
     "execution_count": 9,
     "metadata": {},
     "output_type": "execute_result"
    }
   ],
   "source": [
    "valid_series"
   ]
  },
  {
   "cell_type": "markdown",
   "metadata": {},
   "source": [
    "Use pandas to build table of best indicators"
   ]
  },
  {
   "cell_type": "code",
   "execution_count": 12,
   "metadata": {
    "collapsed": false
   },
   "outputs": [],
   "source": [
    "df = pd.DataFrame(valid_series).iloc[:,0:5]\n",
    "#valid_series = None  # clear the extra data from memory\n",
    "# We prefer more frequent data, and give it a higher score in the sort\n",
    "df['Freq'] = df['@FREQ'].replace({'M':2, 'Q':1, 'A':0})\n",
    "df = df.sort_values(['@INDICATOR', '@REF_AREA', 'Freq']).drop_duplicates(\n",
    "    ['@INDICATOR', '@REF_AREA'], keep='last').reset_index(drop=True)\n",
    "df['Country'] = df['@REF_AREA'].map(metadata['areas'])\n",
    "df['Units'] = df[df['@UNIT_MULT']!='0']['@UNIT_MULT'].map(metadata['units'])\n",
    "# Merge in metadata from indicator level \n",
    "meta_df = pd.DataFrame(metadata['indicators']).T\n",
    "df = pd.concat([df.set_index('@INDICATOR'), meta_df], axis=1, join='inner')\n",
    "# Generate more clear/specific measures for each series\n",
    "df['Category'] = df['Full'].str.split(',', expand=True, n=1)[0]\n",
    "df['Y_Label'] = df['Unit_Name'].str.cat(df['Units'], sep=', ').fillna(df['Unit_Name'])\n",
    "df['Combined'] = df['@FREQ'].str.cat([df['@REF_AREA'], df.index], sep='.')\n",
    "df['Chart_Title'] = df['Description'].str.rsplit(',', expand=True, n=1)[0]\n",
    "Group_dict = {\n",
    "    'National Accounts':'1-National Accounts',\n",
    "    'Labor Markets':'2-Labor Markets',\n",
    "    'Social Indicators':'2-Labor Markets',\n",
    "    'Economic Activity':'3-Economic Activity',\n",
    "    'Producer Price Index':'4-Prices',\n",
    "    'Consumer Prices':'4-Prices',\n",
    "    'Prices':'4-Prices',\n",
    "    'Balance of Payments':'5-Balance of Payments',\n",
    "    'Exchange Rates':'6-Exchange Rates',\n",
    "    'Financial':'7-Interest Rates',\n",
    "    'Financial Market Prices': '8-Equities',\n",
    "    'Financial Indicators': '8-Equities',\n",
    "    'Commodity Prices': '9-Commodities',\n",
    "    'External Trade': '10-Trade'\n",
    "}\n",
    "df['Group'] = df['Category'].map(Group_dict)\n",
    "df.index.name = '@INDICATOR'\n",
    "df = df.reset_index().set_index('Combined')\n",
    "df['Type'] = 'line'\n",
    "try:\n",
    "    df.loc[df['Group'].str.contains('1|5').tolist(), 'Type'] = 'bar'\n",
    "except:\n",
    "    pass\n",
    "df['Source'] = 'IFS'\n",
    "df['Region'] = df['@REF_AREA'].map(cty_reg_map['region'])\n",
    "df = df[df['Category'] != 'Non-energy']"
   ]
  },
  {
   "cell_type": "code",
   "execution_count": 14,
   "metadata": {
    "collapsed": false,
    "scrolled": true
   },
   "outputs": [],
   "source": [
    "df = df.reset_index().sort_values(['Region', 'Country', 'Group'])\n",
    "keep_list = ['Region', 'Country', 'Group', 'Combined', \n",
    "             'Chart_Title', 'Y_Label', 'Type', 'Source']\n",
    "df[keep_list].to_csv('IFS_Series_List_FX.csv', index=False)"
   ]
  }
 ],
 "metadata": {
  "kernelspec": {
   "display_name": "Python [default]",
   "language": "python",
   "name": "python2"
  },
  "language_info": {
   "codemirror_mode": {
    "name": "ipython",
    "version": 2
   },
   "file_extension": ".py",
   "mimetype": "text/x-python",
   "name": "python",
   "nbconvert_exporter": "python",
   "pygments_lexer": "ipython2",
   "version": "2.7.12"
  }
 },
 "nbformat": 4,
 "nbformat_minor": 1
}
