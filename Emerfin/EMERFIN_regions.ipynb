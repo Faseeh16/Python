{
 "cells": [
  {
   "cell_type": "markdown",
   "metadata": {},
   "source": [
    "### Region Charts from World Bank API\n",
    "\n",
    "Data for each region in the `ibrd_region_codes` list and for each of a set of four `indicators` are accessed using the World Bank's API, using sample code below in python. Adding `?MRV=25` to the API request url retrieves the most recent 25 years data, and adding `&format=json` retrieves JSON formated data (rather than xml). \n",
    "\n",
    "The link and most recent datapoint are printed for each region and indicator combination. Regions map to countries based on the xls file at this url: siteresources.worldbank.org/DATASTATISTICS/Resources/CLASS.XLS\n",
    "\n",
    "The OECD countries group is included at the end and can be the comparator for the U.S., Canada, western Europe, and Japan. "
   ]
  },
  {
   "cell_type": "code",
   "execution_count": 2,
   "metadata": {
    "collapsed": false
   },
   "outputs": [],
   "source": [
    "import requests   ## python package to get data from the web\n",
    "\n",
    "ibrd_region_codes = ['lcn', 'ssf', 'ecs', 'sas', 'eas', 'mea', 'oed']\n",
    "indicators = ['NY.GDP.MKTP.KD.ZG', 'SL.UEM.TOTL.ZS', 'FP.CPI.TOTL.ZG', 'SP.POP.GROW']\n",
    "ibrd_api = 'http://api.worldbank.org/countries/'\n",
    "api_settings = '?MRV=25&format=json'        \n",
    "\n",
    "results = []\n",
    "\n",
    "for code in ibrd_region_codes:              # for each region\n",
    "    results[code] = {}\n",
    "    for indicator in indicators:            # and each indicator\n",
    "        results[code][indicator] = {}\n",
    "        url = '{}{}/indicators/{}{}'.format(ibrd_api, code, indicator, api_settings)\n",
    "        data = requests.get(url).json()     # get the 25 most recent values\n",
    "        results[code][indicator]['link'] = url\n",
    "        results[code][indicator]['region_name'] = data[1][0]['country']['value']\n",
    "        results[code][indicator]['indicator_name'] = data[1][0]['indicator']['value']\n",
    "    "
   ]
  },
  {
   "cell_type": "code",
   "execution_count": 18,
   "metadata": {
    "collapsed": false
   },
   "outputs": [],
   "source": [
    "df = pd.DataFrame()\n",
    "\n",
    "for region in ibrd_region_codes:\n",
    "    df = df.append(pd.DataFrame(results[region]))\n",
    "#pd.DataFrame(results['eas'])\n",
    "df.to_csv('ibrd_ouput.csv')"
   ]
  }
 ],
 "metadata": {
  "kernelspec": {
   "display_name": "Python [default]",
   "language": "python",
   "name": "python2"
  },
  "language_info": {
   "codemirror_mode": {
    "name": "ipython",
    "version": 2
   },
   "file_extension": ".py",
   "mimetype": "text/x-python",
   "name": "python",
   "nbconvert_exporter": "python",
   "pygments_lexer": "ipython2",
   "version": "2.7.12"
  }
 },
 "nbformat": 4,
 "nbformat_minor": 1
}
