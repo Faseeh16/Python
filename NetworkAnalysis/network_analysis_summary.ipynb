{
 "cells": [
  {
   "cell_type": "markdown",
   "metadata": {},
   "source": [
    "## Network Analysis of International Trade: Clustering"
   ]
  },
  {
   "cell_type": "code",
   "execution_count": 1,
   "metadata": {
    "collapsed": true
   },
   "outputs": [],
   "source": [
    "import pandas as pd\n",
    "import networkx as nx"
   ]
  },
  {
   "cell_type": "markdown",
   "metadata": {},
   "source": [
    "#### Building the network in NetworkX"
   ]
  },
  {
   "cell_type": "code",
   "execution_count": 51,
   "metadata": {
    "collapsed": true
   },
   "outputs": [],
   "source": [
    "# variables\n",
    "product = '440710'\n",
    "year = df['period'] == 2015\n",
    "flow = df['rgDesc'] == 'Export'\n",
    "test_reporter = 'BRA'\n",
    "test_partner = 'USA'"
   ]
  },
  {
   "cell_type": "code",
   "execution_count": 44,
   "metadata": {},
   "outputs": [],
   "source": [
    "df = pd.read_csv('{}.csv'.format(product))\n",
    "data = df[year & flow]"
   ]
  },
  {
   "cell_type": "code",
   "execution_count": 52,
   "metadata": {},
   "outputs": [
    {
     "data": {
      "text/html": [
       "<div>\n",
       "<style>\n",
       "    .dataframe thead tr:only-child th {\n",
       "        text-align: right;\n",
       "    }\n",
       "\n",
       "    .dataframe thead th {\n",
       "        text-align: left;\n",
       "    }\n",
       "\n",
       "    .dataframe tbody tr th {\n",
       "        vertical-align: top;\n",
       "    }\n",
       "</style>\n",
       "<table border=\"1\" class=\"dataframe\">\n",
       "  <thead>\n",
       "    <tr style=\"text-align: right;\">\n",
       "      <th></th>\n",
       "      <th>pt3ISO</th>\n",
       "      <th>TradeValue</th>\n",
       "      <th>rt3ISO</th>\n",
       "      <th>period</th>\n",
       "      <th>rgDesc</th>\n",
       "    </tr>\n",
       "  </thead>\n",
       "  <tbody>\n",
       "    <tr>\n",
       "      <th>12428</th>\n",
       "      <td>USA</td>\n",
       "      <td>117584434</td>\n",
       "      <td>BRA</td>\n",
       "      <td>2015</td>\n",
       "      <td>Export</td>\n",
       "    </tr>\n",
       "  </tbody>\n",
       "</table>\n",
       "</div>"
      ],
      "text/plain": [
       "      pt3ISO  TradeValue rt3ISO  period  rgDesc\n",
       "12428    USA   117584434    BRA    2015  Export"
      ]
     },
     "execution_count": 52,
     "metadata": {},
     "output_type": "execute_result"
    }
   ],
   "source": [
    "data[(data['rt3ISO'] == test_reporter) & (data['pt3ISO'] == test_partner)]"
   ]
  },
  {
   "cell_type": "code",
   "execution_count": 49,
   "metadata": {},
   "outputs": [],
   "source": [
    "G = nx.from_pandas_dataframe(data, 'rt3ISO', 'pt3ISO', 'TradeValue', create_using=nx.DiGraph())"
   ]
  },
  {
   "cell_type": "code",
   "execution_count": 54,
   "metadata": {},
   "outputs": [
    {
     "data": {
      "text/plain": [
       "117584434L"
      ]
     },
     "execution_count": 54,
     "metadata": {},
     "output_type": "execute_result"
    }
   ],
   "source": [
    "G[test_reporter][test_partner]['TradeValue']"
   ]
  },
  {
   "cell_type": "markdown",
   "metadata": {},
   "source": [
    "#### Calculating some basic attributes of the trade network"
   ]
  },
  {
   "cell_type": "code",
   "execution_count": 102,
   "metadata": {},
   "outputs": [],
   "source": [
    "# Number of exporters/ importers\n",
    "nx.set_node_attributes(G, 'numexp', G.out_degree())\n",
    "nx.set_node_attributes(G, 'numimp', G.in_degree())\n",
    "\n",
    "# Total value of exports/imports\n",
    "nx.set_node_attributes(G, 'totexp', G.out_degree(weight='TradeValue'))\n",
    "totexp = nx.get_node_attributes(G, 'totexp')\n",
    "nx.set_node_attributes(G, 'totimp', G.in_degree(weight='TradeValue'))\n",
    "totimp = nx.get_node_attributes(G, 'totimp')\n",
    "\n",
    "# Eigenvector centrality\n",
    "ec = nx.eigenvector_centrality_numpy(G, weight='TradeValue')\n",
    "nx.set_node_attributes(G, 'cent', ec)\n",
    "\n",
    "# Total value of trade\n",
    "tot_trade = G.size(weight='TradeValue')\n",
    "\n",
    "# Number of importers and number of exporters\n",
    "num_x = data['rt3ISO'].nunique()\n",
    "num_m = data['pt3ISO'].nunique()"
   ]
  },
  {
   "cell_type": "code",
   "execution_count": 92,
   "metadata": {},
   "outputs": [
    {
     "data": {
      "text/plain": [
       "['USA', 'CHN', 'JPN', 'CAN', 'MEX', 'DOM', 'TWN', 'PAK', 'KOR', 'PHL']"
      ]
     },
     "execution_count": 92,
     "metadata": {},
     "output_type": "execute_result"
    }
   ],
   "source": [
    "# Top ten eigenvector centrality\n",
    "sorted(ec, key=ec.__getitem__, reverse=True)[:10]"
   ]
  },
  {
   "cell_type": "code",
   "execution_count": 101,
   "metadata": {},
   "outputs": [
    {
     "data": {
      "text/plain": [
       "['CAN', 'SWE', 'RUS', 'FIN', 'DEU', 'AUT', 'USA', 'CHL', 'NZL', 'LVA']"
      ]
     },
     "execution_count": 101,
     "metadata": {},
     "output_type": "execute_result"
    }
   ],
   "source": [
    "# Top ten exporters\n",
    "sorted(totexp, key=totexp.__getitem__, reverse=True)[:10]"
   ]
  },
  {
   "cell_type": "code",
   "execution_count": 103,
   "metadata": {},
   "outputs": [
    {
     "data": {
      "text/plain": [
       "['USA', 'CHN', 'JPN', 'GBR', 'DEU', 'EGY', 'ITA', 'FRA', 'NLD', 'KOR']"
      ]
     },
     "execution_count": 103,
     "metadata": {},
     "output_type": "execute_result"
    }
   ],
   "source": [
    "# Top ten importers\n",
    "sorted(totimp, key=totimp.__getitem__, reverse=True)[:10]"
   ]
  },
  {
   "cell_type": "markdown",
   "metadata": {},
   "source": [
    "#### Visualizing the network"
   ]
  },
  {
   "cell_type": "code",
   "execution_count": null,
   "metadata": {
    "collapsed": true
   },
   "outputs": [],
   "source": []
  },
  {
   "cell_type": "code",
   "execution_count": 104,
   "metadata": {},
   "outputs": [
    {
     "ename": "NetworkXError",
     "evalue": "('Clustering algorithms are not defined ', 'for directed graphs.')",
     "output_type": "error",
     "traceback": [
      "\u001b[1;31m---------------------------------------------------------------------------\u001b[0m",
      "\u001b[1;31mNetworkXError\u001b[0m                             Traceback (most recent call last)",
      "\u001b[1;32m<ipython-input-104-b2b2ae707744>\u001b[0m in \u001b[0;36m<module>\u001b[1;34m()\u001b[0m\n\u001b[1;32m----> 1\u001b[1;33m \u001b[0mnx\u001b[0m\u001b[1;33m.\u001b[0m\u001b[0mclustering\u001b[0m\u001b[1;33m(\u001b[0m\u001b[0mG\u001b[0m\u001b[1;33m,\u001b[0m \u001b[0mweight\u001b[0m\u001b[1;33m=\u001b[0m\u001b[1;34m'TradeValue'\u001b[0m\u001b[1;33m)\u001b[0m\u001b[1;33m\u001b[0m\u001b[0m\n\u001b[0m",
      "\u001b[1;32mC:\\Users\\BDew\\Anaconda2\\lib\\site-packages\\networkx\\algorithms\\cluster.pyc\u001b[0m in \u001b[0;36mclustering\u001b[1;34m(G, nodes, weight)\u001b[0m\n\u001b[0;32m    236\u001b[0m     \u001b[1;32mif\u001b[0m \u001b[0mG\u001b[0m\u001b[1;33m.\u001b[0m\u001b[0mis_directed\u001b[0m\u001b[1;33m(\u001b[0m\u001b[1;33m)\u001b[0m\u001b[1;33m:\u001b[0m\u001b[1;33m\u001b[0m\u001b[0m\n\u001b[0;32m    237\u001b[0m         raise NetworkXError('Clustering algorithms are not defined ',\n\u001b[1;32m--> 238\u001b[1;33m                             'for directed graphs.')\n\u001b[0m\u001b[0;32m    239\u001b[0m     \u001b[1;32mif\u001b[0m \u001b[0mweight\u001b[0m \u001b[1;32mis\u001b[0m \u001b[1;32mnot\u001b[0m \u001b[0mNone\u001b[0m\u001b[1;33m:\u001b[0m\u001b[1;33m\u001b[0m\u001b[0m\n\u001b[0;32m    240\u001b[0m         \u001b[0mtd_iter\u001b[0m\u001b[1;33m=\u001b[0m\u001b[0m_weighted_triangles_and_degree_iter\u001b[0m\u001b[1;33m(\u001b[0m\u001b[0mG\u001b[0m\u001b[1;33m,\u001b[0m\u001b[0mnodes\u001b[0m\u001b[1;33m,\u001b[0m\u001b[0mweight\u001b[0m\u001b[1;33m)\u001b[0m\u001b[1;33m\u001b[0m\u001b[0m\n",
      "\u001b[1;31mNetworkXError\u001b[0m: ('Clustering algorithms are not defined ', 'for directed graphs.')"
     ]
    }
   ],
   "source": [
    "nx.clustering(G, weight='TradeValue')"
   ]
  },
  {
   "cell_type": "code",
   "execution_count": null,
   "metadata": {
    "collapsed": true
   },
   "outputs": [],
   "source": []
  },
  {
   "cell_type": "code",
   "execution_count": null,
   "metadata": {
    "collapsed": true
   },
   "outputs": [],
   "source": []
  },
  {
   "cell_type": "code",
   "execution_count": null,
   "metadata": {
    "collapsed": true
   },
   "outputs": [],
   "source": []
  }
 ],
 "metadata": {
  "kernelspec": {
   "display_name": "Python [conda root]",
   "language": "python",
   "name": "conda-root-py"
  },
  "language_info": {
   "codemirror_mode": {
    "name": "ipython",
    "version": 2
   },
   "file_extension": ".py",
   "mimetype": "text/x-python",
   "name": "python",
   "nbconvert_exporter": "python",
   "pygments_lexer": "ipython2",
   "version": "2.7.12"
  }
 },
 "nbformat": 4,
 "nbformat_minor": 2
}
