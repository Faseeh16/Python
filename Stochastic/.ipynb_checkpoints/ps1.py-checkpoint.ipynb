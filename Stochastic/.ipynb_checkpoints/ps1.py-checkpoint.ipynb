{
 "cells": [
  {
   "cell_type": "code",
   "execution_count": 1,
   "metadata": {
    "collapsed": false
   },
   "outputs": [
    {
     "data": {
      "text/plain": [
       "float"
      ]
     },
     "execution_count": 1,
     "metadata": {},
     "output_type": "execute_result"
    }
   ],
   "source": [
    "type(3.2)"
   ]
  },
  {
   "cell_type": "code",
   "execution_count": 6,
   "metadata": {
    "collapsed": false
   },
   "outputs": [
    {
     "name": "stdout",
     "output_type": "stream",
     "text": [
      "Enter an integer: 3.5\n",
      "12.25\n"
     ]
    }
   ],
   "source": [
    "y = float(raw_input('Enter an integer: '))\n",
    "print y*y"
   ]
  },
  {
   "cell_type": "code",
   "execution_count": 7,
   "metadata": {
    "collapsed": false
   },
   "outputs": [
    {
     "name": "stdout",
     "output_type": "stream",
     "text": [
      "Enter an integer: 874\n",
      "Even\n"
     ]
    }
   ],
   "source": [
    "x = int(raw_input('Enter an integer: '))\n",
    "if x%2 == 0:\n",
    "    print 'Even'\n",
    "else: \n",
    "    print 'Odd'\n",
    "    if x%3 != 0:\n",
    "        print 'And not divisible by 3'"
   ]
  },
  {
   "cell_type": "code",
   "execution_count": 2,
   "metadata": {
    "collapsed": false
   },
   "outputs": [
    {
     "name": "stdout",
     "output_type": "stream",
     "text": [
      "Enter an integer: 125\n",
      "current guess = 1\n",
      "current guess = 2\n",
      "current guess = 3\n",
      "current guess = 4\n",
      "current guess = 5\n",
      "Cube root of 125 is 5\n"
     ]
    }
   ],
   "source": [
    "x = int(raw_input('Enter an integer: '))\n",
    "ans = 0\n",
    "while ans*ans*ans < abs(x):\n",
    "    ans = ans + 1\n",
    "    print 'current guess =', ans\n",
    "    \n",
    "if ans*ans*ans != abs(x):\n",
    "    print x, 'is not a perfect cube'\n",
    "elif x < 0:\n",
    "    ans = -ans\n",
    "print 'Cube root of ' + str(x) + ' is ' + str(ans)"
   ]
  },
  {
   "cell_type": "code",
   "execution_count": 17,
   "metadata": {
    "collapsed": false
   },
   "outputs": [
    {
     "name": "stdout",
     "output_type": "stream",
     "text": [
      "Enter the outstanding balance on your credit card: 4800\n",
      "Enter the annual credit card interest rate as a decimal: .2\n",
      "Enter the minimum monthly payment rate as a decimal: .04\n",
      "Month: 1\n",
      "Minimum monthly payment: $192.0\n",
      "Principle paid: $112.0\n",
      "Remaining balance: $4688.0\n",
      "Month: 2\n",
      "Minimum monthly payment: $187.52\n",
      "Principle paid: $109.39\n",
      "Remaining balance: $4578.61\n",
      "Month: 3\n",
      "Minimum monthly payment: $183.14\n",
      "Principle paid: $106.83\n",
      "Remaining balance: $4471.78\n",
      "Month: 4\n",
      "Minimum monthly payment: $178.87\n",
      "Principle paid: $104.34\n",
      "Remaining balance: $4367.44\n",
      "Month: 5\n",
      "Minimum monthly payment: $174.7\n",
      "Principle paid: $101.91\n",
      "Remaining balance: $4265.53\n",
      "Month: 6\n",
      "Minimum monthly payment: $170.62\n",
      "Principle paid: $99.53\n",
      "Remaining balance: $4166.0\n",
      "Month: 7\n",
      "Minimum monthly payment: $166.64\n",
      "Principle paid: $97.21\n",
      "Remaining balance: $4068.79\n",
      "Month: 8\n",
      "Minimum monthly payment: $162.75\n",
      "Principle paid: $94.94\n",
      "Remaining balance: $3973.86\n",
      "Month: 9\n",
      "Minimum monthly payment: $158.95\n",
      "Principle paid: $92.72\n",
      "Remaining balance: $3881.13\n",
      "Month: 10\n",
      "Minimum monthly payment: $155.25\n",
      "Principle paid: $90.56\n",
      "Remaining balance: $3790.57\n",
      "Month: 11\n",
      "Minimum monthly payment: $151.62\n",
      "Principle paid: $88.45\n",
      "Remaining balance: $3702.13\n",
      "Month: 12\n",
      "Minimum monthly payment: $148.09\n",
      "Principle paid: $86.38\n",
      "Remaining balance: $3615.74\n",
      "RESULT\n",
      "Total amount paid: $2030.15\n",
      "Remaining balance: $3615.74\n"
     ]
    }
   ],
   "source": [
    "bal = float(raw_input('Enter the outstanding balance on your credit card: '))\n",
    "ann = float(raw_input('Enter the annual credit card interest rate as a decimal: '))\n",
    "minm = float(raw_input('Enter the minimum monthly payment rate as a decimal: '))\n",
    "tot = 0\n",
    "for m in range(1,13):\n",
    "    pay = minm * bal\n",
    "    intr =  (ann / 12) * bal\n",
    "    prin = pay - intr\n",
    "    bal = bal - prin\n",
    "    tot = tot + pay\n",
    "    print 'Month: ' + str(m)\n",
    "    print 'Minimum monthly payment: $' + str(round(pay,2))\n",
    "    print 'Principle paid: $' + str(round(prin,2))\n",
    "    print 'Remaining balance: $' + str(round(bal,2))\n",
    "print 'RESULT'\n",
    "print 'Total amount paid: $' + str(round(tot,2))\n",
    "print 'Remaining balance: $' + str(round(bal,2))"
   ]
  },
  {
   "cell_type": "code",
   "execution_count": null,
   "metadata": {
    "collapsed": true
   },
   "outputs": [],
   "source": [
    "bal = float(raw_input('Enter the outstanding balance on your credit card: '))\n",
    "ann = float(raw_input('Enter the annual credit card interest rate as a decimal: '))\n",
    "i = 0\n",
    "m = 0\n",
    "while bal > 0:\n",
    "    i = i + 10\n",
    "    while m < 12:\n",
    "        m = m + 1\n",
    "        intr = (ann / 12) * bal\n",
    "        prin = i - intr\n",
    "        bal = bal - prin\n",
    "    print 'current guess =', i"
   ]
  }
 ],
 "metadata": {
  "kernelspec": {
   "display_name": "Python 2",
   "language": "python",
   "name": "python2"
  },
  "language_info": {
   "codemirror_mode": {
    "name": "ipython",
    "version": 2
   },
   "file_extension": ".py",
   "mimetype": "text/x-python",
   "name": "python",
   "nbconvert_exporter": "python",
   "pygments_lexer": "ipython2",
   "version": "2.7.11"
  }
 },
 "nbformat": 4,
 "nbformat_minor": 0
}
