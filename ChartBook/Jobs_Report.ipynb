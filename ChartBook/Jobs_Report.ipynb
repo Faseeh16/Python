{
 "cells": [
  {
   "cell_type": "markdown",
   "metadata": {},
   "source": [
    "# Data_Collector: Jobs Report\n",
    "------\n",
    "\n",
    "Updated: January 23, 2018\n",
    "\n",
    "Status: Collects series, need to do calculations and export\n",
    "\n",
    "Descr: Python code for reading the BLS jobs report on the first friday of the month, at 8:30am. [PDF release](https://www.bls.gov/news.release/pdf/empsit.pdf)\n",
    "\n",
    "To Do: Text calculations. Make charts. combine charts and save as picture.\n",
    "\n",
    "------\n",
    "\n",
    "\n"
   ]
  },
  {
   "cell_type": "markdown",
   "metadata": {},
   "source": [
    "#### Packages - Run early"
   ]
  },
  {
   "cell_type": "code",
   "execution_count": 1,
   "metadata": {
    "ExecuteTime": {
     "end_time": "2018-03-31T15:37:53.324869Z",
     "start_time": "2018-03-31T15:37:52.606043Z"
    }
   },
   "outputs": [
    {
     "name": "stdout",
     "output_type": "stream",
     "text": [
      "python 3.6\n",
      "pandas 0.22.0\n"
     ]
    }
   ],
   "source": [
    "import sys # Check which version of python is being used\n",
    "print(f'python {sys.version_info[0]}.{sys.version_info[1]}')\n",
    "import pandas as pd    # Pandas to organize and make calcs\n",
    "print(f'pandas {pd.__version__}')\n",
    "from pandas_datareader.data import DataReader as pdr \n",
    "import requests        # Make requests to econ data APIs\n",
    "import json            # Work with JSON data\n",
    "import config          # Local file config.py with BLS API key"
   ]
  },
  {
   "cell_type": "markdown",
   "metadata": {},
   "source": [
    "#### Define custom functions - run early"
   ]
  },
  {
   "cell_type": "code",
   "execution_count": 2,
   "metadata": {
    "ExecuteTime": {
     "end_time": "2018-03-31T15:37:58.231633Z",
     "start_time": "2018-03-31T15:37:58.216007Z"
    }
   },
   "outputs": [],
   "source": [
    "# Define some tools to use later in calculations\n",
    "def pr(series):\n",
    "    '''Multiply by 100 and round'''\n",
    "    return (series * 100).round(1)\n",
    "\n",
    "def agr(series):\n",
    "    '''Calculate percent change from year ago'''\n",
    "    return pr(series.pct_change(12))\n",
    "\n",
    "def gr3(series):\n",
    "    '''Calculate 3 month moving average and annualize'''\n",
    "    return pr(((series.rolling(3).sum().pct_change(3) + 1) ** 4) - 1)\n",
    "\n",
    "# Write text for chart annotations\n",
    "def wt(filename, filetext):\n",
    "    '''Write string to txt file'''\n",
    "    with open(filename, 'w') as text_file:\n",
    "        text_file.write(filetext)"
   ]
  },
  {
   "cell_type": "markdown",
   "metadata": {},
   "source": [
    "#### Parameters - Inspect and run early"
   ]
  },
  {
   "cell_type": "code",
   "execution_count": 3,
   "metadata": {
    "ExecuteTime": {
     "end_time": "2018-03-31T15:38:01.513211Z",
     "start_time": "2018-03-31T15:38:01.481957Z"
    }
   },
   "outputs": [],
   "source": [
    "# API access to Bureau of Labor Statistics data\n",
    "url = 'https://api.bls.gov/publicAPI/v2/timeseries/data/'\n",
    "# API key in config.py which contains: bls_key = 'key'\n",
    "key = '?registrationkey={}'.format(config.bls_key)\n",
    "# Series of interest, format is: ('Fred ID', 'BLS ID')\n",
    "#s = [('OPHNFB', 'PRS85006092')]\n",
    "s = [('PAYEMS', 'CES0000000001'), ('UNRATE', 'LNS14000000'), \n",
    "     ('U6RATE', 'LNS13327709'), ('LNS12300060', 'LNS12300060'), \n",
    "     ('AHETPI', 'CES0500000008'), ('LNS12032197', 'LNS12032197'), \n",
    "     ('LNS12032200', 'LNS12032200'), ('LNS12035019', 'LNS12035019'),\n",
    "     ('LNS13025703', 'LNS13025703')]\n",
    "\n",
    "headers = {'Content-type': 'application/json'}    # Request json fmt\n",
    "param = {\"seriesid\": [i[1] for i in s],           \n",
    "         \"startyear\": \"2016\", \"endyear\": \"2018\"}  # Update for 2018"
   ]
  },
  {
   "cell_type": "markdown",
   "metadata": {},
   "source": [
    "#### Use BLS text table with series info to collect the name of each series in s - run early"
   ]
  },
  {
   "cell_type": "code",
   "execution_count": 4,
   "metadata": {
    "ExecuteTime": {
     "end_time": "2018-03-31T15:38:09.779795Z",
     "start_time": "2018-03-31T15:38:04.748104Z"
    }
   },
   "outputs": [],
   "source": [
    "d = {}    # Dictionary to fill with series names\n",
    "for i in ['ln', 'ce']:\n",
    "    url2 = f'https://download.bls.gov/pub/time.series/{i}/{i}.series'\n",
    "    t = pd.read_table(url2, sep=r'\\s*\\t', engine='python')\n",
    "    t = t[t['series_id'].isin([i[1] for i in s])].set_index('series_id')['series_title']\n",
    "    for k, v in t.items(): d[k] = v"
   ]
  },
  {
   "cell_type": "markdown",
   "metadata": {},
   "source": [
    "#### Get long-term values from FRED - Inspect and run early"
   ]
  },
  {
   "cell_type": "code",
   "execution_count": 5,
   "metadata": {
    "ExecuteTime": {
     "end_time": "2018-03-31T15:38:14.311678Z",
     "start_time": "2018-03-31T15:38:12.436480Z"
    }
   },
   "outputs": [],
   "source": [
    "# Start and end date in datetime format\n",
    "rng = pd.to_datetime(['1973-01-01', '2015-12-31', '2017-12-31'])\n",
    "dft = pdr([i[0] for i in s], 'fred', rng[0], rng[1])\n",
    "dft.columns = [i[1] for i in s]  # Rename to match with BLS"
   ]
  },
  {
   "cell_type": "markdown",
   "metadata": {},
   "source": [
    "#### Request Jobs Report data from BLS API - run at 8:31"
   ]
  },
  {
   "cell_type": "code",
   "execution_count": 9,
   "metadata": {
    "ExecuteTime": {
     "end_time": "2018-03-31T15:39:50.850631Z",
     "start_time": "2018-03-31T15:39:50.256830Z"
    }
   },
   "outputs": [
    {
     "name": "stdout",
     "output_type": "stream",
     "text": [
      "Status: REQUEST_SUCCEEDED\n",
      "Latest: February 2018\n"
     ]
    }
   ],
   "source": [
    "# Request all of the series in s\n",
    "p = requests.post(f'{url}{key}', data=json.dumps(param), headers=headers).json()\n",
    "print(f\"Status: {p['status']}\") # Print request status\n",
    "p = p['Results']['series']  # Keep data portion of post results\n",
    "\n",
    "# Use first series to get the datetime values\n",
    "idx = pd.to_datetime([f\"{i['period'][1:]} {i['year']}\" for i in p[0]['data']])\n",
    "print(f'Latest: {idx[0]:%B %Y}') # Print latest value"
   ]
  },
  {
   "cell_type": "code",
   "execution_count": 16,
   "metadata": {
    "ExecuteTime": {
     "end_time": "2018-03-31T15:44:06.986710Z",
     "start_time": "2018-03-31T15:44:06.971094Z"
    }
   },
   "outputs": [
    {
     "data": {
      "text/plain": [
       "DatetimeIndex(['2018-02-01', '2018-01-01', '2017-12-01', '2017-11-01',\n",
       "               '2017-10-01', '2017-09-01', '2017-08-01', '2017-07-01',\n",
       "               '2017-06-01', '2017-05-01', '2017-04-01', '2017-03-01',\n",
       "               '2017-02-01', '2017-01-01', '2016-12-01', '2016-11-01',\n",
       "               '2016-10-01', '2016-09-01', '2016-08-01', '2016-07-01',\n",
       "               '2016-06-01', '2016-05-01', '2016-04-01', '2016-03-01',\n",
       "               '2016-02-01', '2016-01-01'],\n",
       "              dtype='datetime64[ns]', freq=None)"
      ]
     },
     "execution_count": 16,
     "metadata": {},
     "output_type": "execute_result"
    }
   ],
   "source": [
    "idx"
   ]
  },
  {
   "cell_type": "markdown",
   "metadata": {},
   "source": [
    "#### Clean up and make calculations for series of interest"
   ]
  },
  {
   "cell_type": "code",
   "execution_count": 11,
   "metadata": {
    "ExecuteTime": {
     "end_time": "2018-03-31T15:40:35.579008Z",
     "start_time": "2018-03-31T15:40:35.078965Z"
    }
   },
   "outputs": [],
   "source": [
    "# Build empty dataframe df from the API results, p\n",
    "df = pd.DataFrame()\n",
    "for s in p: df[s['seriesID']] = pd.Series(index = idx, \n",
    "    data = [i['value'] for i in s['data']], dtype='float').iloc[::-1]\n",
    "df = dft.append(df) # Merge previous data with new BLS data\n",
    "\n",
    "# Calculate indicators of interest (pr, gr3, agr defined above)\n",
    "df['ptec'] = pr(df['LNS12032197'] / df['LNS12035019']) #PT economic\n",
    "df['ptnec'] = pr(df['LNS12032200'] / df['LNS12035019']) #PT non-econ\n",
    "df['payroll'] = df['CES0000000001'].diff() # Payroll growth\n",
    "df['ahe'] = gr3(df['CES0500000008'])     # AHE 3m/3m annualized\n",
    "df['ahe2'] = agr(df['CES0500000008'])    # AHE 12m pct change\n",
    "df['cpi'] = agr(pdr('CPIAUCSL', 'fred', rng[0], rng[2]))  # CPI"
   ]
  },
  {
   "cell_type": "code",
   "execution_count": 17,
   "metadata": {
    "ExecuteTime": {
     "end_time": "2018-03-31T15:44:20.550578Z",
     "start_time": "2018-03-31T15:44:20.488084Z"
    }
   },
   "outputs": [
    {
     "data": {
      "text/html": [
       "<div>\n",
       "<style scoped>\n",
       "    .dataframe tbody tr th:only-of-type {\n",
       "        vertical-align: middle;\n",
       "    }\n",
       "\n",
       "    .dataframe tbody tr th {\n",
       "        vertical-align: top;\n",
       "    }\n",
       "\n",
       "    .dataframe thead th {\n",
       "        text-align: right;\n",
       "    }\n",
       "</style>\n",
       "<table border=\"1\" class=\"dataframe\">\n",
       "  <thead>\n",
       "    <tr style=\"text-align: right;\">\n",
       "      <th></th>\n",
       "      <th>CES0000000001</th>\n",
       "      <th>CES0500000008</th>\n",
       "      <th>LNS12032197</th>\n",
       "      <th>LNS12032200</th>\n",
       "      <th>LNS12035019</th>\n",
       "      <th>LNS12300060</th>\n",
       "      <th>LNS13025703</th>\n",
       "      <th>LNS13327709</th>\n",
       "      <th>LNS14000000</th>\n",
       "      <th>ptec</th>\n",
       "      <th>ptnec</th>\n",
       "      <th>payroll</th>\n",
       "      <th>ahe</th>\n",
       "      <th>ahe2</th>\n",
       "      <th>cpi</th>\n",
       "    </tr>\n",
       "  </thead>\n",
       "  <tbody>\n",
       "    <tr>\n",
       "      <th>1973-01-01</th>\n",
       "      <td>75621.0</td>\n",
       "      <td>4.03</td>\n",
       "      <td>2043.0</td>\n",
       "      <td>9701.0</td>\n",
       "      <td>79705.0</td>\n",
       "      <td>69.7</td>\n",
       "      <td>9.5</td>\n",
       "      <td>NaN</td>\n",
       "      <td>4.9</td>\n",
       "      <td>2.6</td>\n",
       "      <td>12.2</td>\n",
       "      <td>NaN</td>\n",
       "      <td>NaN</td>\n",
       "      <td>NaN</td>\n",
       "      <td>NaN</td>\n",
       "    </tr>\n",
       "    <tr>\n",
       "      <th>1973-02-01</th>\n",
       "      <td>76017.0</td>\n",
       "      <td>4.04</td>\n",
       "      <td>2182.0</td>\n",
       "      <td>10202.0</td>\n",
       "      <td>80497.0</td>\n",
       "      <td>70.1</td>\n",
       "      <td>8.4</td>\n",
       "      <td>NaN</td>\n",
       "      <td>5.0</td>\n",
       "      <td>2.7</td>\n",
       "      <td>12.7</td>\n",
       "      <td>396.0</td>\n",
       "      <td>NaN</td>\n",
       "      <td>NaN</td>\n",
       "      <td>NaN</td>\n",
       "    </tr>\n",
       "    <tr>\n",
       "      <th>1973-03-01</th>\n",
       "      <td>76285.0</td>\n",
       "      <td>4.06</td>\n",
       "      <td>2172.0</td>\n",
       "      <td>10303.0</td>\n",
       "      <td>80983.0</td>\n",
       "      <td>70.2</td>\n",
       "      <td>8.9</td>\n",
       "      <td>NaN</td>\n",
       "      <td>4.9</td>\n",
       "      <td>2.7</td>\n",
       "      <td>12.7</td>\n",
       "      <td>268.0</td>\n",
       "      <td>NaN</td>\n",
       "      <td>NaN</td>\n",
       "      <td>NaN</td>\n",
       "    </tr>\n",
       "    <tr>\n",
       "      <th>1973-04-01</th>\n",
       "      <td>76455.0</td>\n",
       "      <td>4.08</td>\n",
       "      <td>2150.0</td>\n",
       "      <td>10462.0</td>\n",
       "      <td>81152.0</td>\n",
       "      <td>70.3</td>\n",
       "      <td>7.5</td>\n",
       "      <td>NaN</td>\n",
       "      <td>5.0</td>\n",
       "      <td>2.6</td>\n",
       "      <td>12.9</td>\n",
       "      <td>170.0</td>\n",
       "      <td>NaN</td>\n",
       "      <td>NaN</td>\n",
       "      <td>NaN</td>\n",
       "    </tr>\n",
       "    <tr>\n",
       "      <th>1973-05-01</th>\n",
       "      <td>76646.0</td>\n",
       "      <td>4.10</td>\n",
       "      <td>2216.0</td>\n",
       "      <td>10412.0</td>\n",
       "      <td>81272.0</td>\n",
       "      <td>70.4</td>\n",
       "      <td>8.0</td>\n",
       "      <td>NaN</td>\n",
       "      <td>4.9</td>\n",
       "      <td>2.7</td>\n",
       "      <td>12.8</td>\n",
       "      <td>191.0</td>\n",
       "      <td>NaN</td>\n",
       "      <td>NaN</td>\n",
       "      <td>NaN</td>\n",
       "    </tr>\n",
       "    <tr>\n",
       "      <th>1973-06-01</th>\n",
       "      <td>76887.0</td>\n",
       "      <td>4.12</td>\n",
       "      <td>2543.0</td>\n",
       "      <td>10094.0</td>\n",
       "      <td>81676.0</td>\n",
       "      <td>70.5</td>\n",
       "      <td>7.5</td>\n",
       "      <td>NaN</td>\n",
       "      <td>4.9</td>\n",
       "      <td>3.1</td>\n",
       "      <td>12.4</td>\n",
       "      <td>241.0</td>\n",
       "      <td>5.7</td>\n",
       "      <td>NaN</td>\n",
       "      <td>NaN</td>\n",
       "    </tr>\n",
       "    <tr>\n",
       "      <th>1973-07-01</th>\n",
       "      <td>76911.0</td>\n",
       "      <td>4.15</td>\n",
       "      <td>2490.0</td>\n",
       "      <td>9915.0</td>\n",
       "      <td>81759.0</td>\n",
       "      <td>70.7</td>\n",
       "      <td>6.5</td>\n",
       "      <td>NaN</td>\n",
       "      <td>4.8</td>\n",
       "      <td>3.0</td>\n",
       "      <td>12.1</td>\n",
       "      <td>24.0</td>\n",
       "      <td>6.4</td>\n",
       "      <td>NaN</td>\n",
       "      <td>NaN</td>\n",
       "    </tr>\n",
       "    <tr>\n",
       "      <th>1973-08-01</th>\n",
       "      <td>77166.0</td>\n",
       "      <td>4.16</td>\n",
       "      <td>2444.0</td>\n",
       "      <td>10287.0</td>\n",
       "      <td>81779.0</td>\n",
       "      <td>70.5</td>\n",
       "      <td>7.7</td>\n",
       "      <td>NaN</td>\n",
       "      <td>4.8</td>\n",
       "      <td>3.0</td>\n",
       "      <td>12.6</td>\n",
       "      <td>255.0</td>\n",
       "      <td>6.4</td>\n",
       "      <td>NaN</td>\n",
       "      <td>NaN</td>\n",
       "    </tr>\n",
       "    <tr>\n",
       "      <th>1973-09-01</th>\n",
       "      <td>77276.0</td>\n",
       "      <td>4.19</td>\n",
       "      <td>2424.0</td>\n",
       "      <td>10620.0</td>\n",
       "      <td>82146.0</td>\n",
       "      <td>70.7</td>\n",
       "      <td>6.8</td>\n",
       "      <td>NaN</td>\n",
       "      <td>4.8</td>\n",
       "      <td>3.0</td>\n",
       "      <td>12.9</td>\n",
       "      <td>110.0</td>\n",
       "      <td>6.7</td>\n",
       "      <td>NaN</td>\n",
       "      <td>NaN</td>\n",
       "    </tr>\n",
       "    <tr>\n",
       "      <th>1973-10-01</th>\n",
       "      <td>77606.0</td>\n",
       "      <td>4.21</td>\n",
       "      <td>2424.0</td>\n",
       "      <td>10738.0</td>\n",
       "      <td>82563.0</td>\n",
       "      <td>70.9</td>\n",
       "      <td>8.0</td>\n",
       "      <td>NaN</td>\n",
       "      <td>4.6</td>\n",
       "      <td>2.9</td>\n",
       "      <td>13.0</td>\n",
       "      <td>330.0</td>\n",
       "      <td>6.3</td>\n",
       "      <td>NaN</td>\n",
       "      <td>NaN</td>\n",
       "    </tr>\n",
       "    <tr>\n",
       "      <th>1973-11-01</th>\n",
       "      <td>77912.0</td>\n",
       "      <td>4.23</td>\n",
       "      <td>2437.0</td>\n",
       "      <td>10695.0</td>\n",
       "      <td>82727.0</td>\n",
       "      <td>71.0</td>\n",
       "      <td>8.0</td>\n",
       "      <td>NaN</td>\n",
       "      <td>4.8</td>\n",
       "      <td>2.9</td>\n",
       "      <td>12.9</td>\n",
       "      <td>306.0</td>\n",
       "      <td>6.6</td>\n",
       "      <td>NaN</td>\n",
       "      <td>NaN</td>\n",
       "    </tr>\n",
       "    <tr>\n",
       "      <th>1973-12-01</th>\n",
       "      <td>78035.0</td>\n",
       "      <td>4.25</td>\n",
       "      <td>2571.0</td>\n",
       "      <td>10836.0</td>\n",
       "      <td>82743.0</td>\n",
       "      <td>70.9</td>\n",
       "      <td>7.4</td>\n",
       "      <td>NaN</td>\n",
       "      <td>4.9</td>\n",
       "      <td>3.1</td>\n",
       "      <td>13.1</td>\n",
       "      <td>123.0</td>\n",
       "      <td>6.2</td>\n",
       "      <td>NaN</td>\n",
       "      <td>NaN</td>\n",
       "    </tr>\n",
       "    <tr>\n",
       "      <th>1974-01-01</th>\n",
       "      <td>78104.0</td>\n",
       "      <td>4.26</td>\n",
       "      <td>2525.0</td>\n",
       "      <td>10559.0</td>\n",
       "      <td>82799.0</td>\n",
       "      <td>71.1</td>\n",
       "      <td>7.2</td>\n",
       "      <td>NaN</td>\n",
       "      <td>5.1</td>\n",
       "      <td>3.0</td>\n",
       "      <td>12.8</td>\n",
       "      <td>69.0</td>\n",
       "      <td>5.9</td>\n",
       "      <td>5.7</td>\n",
       "      <td>9.6</td>\n",
       "    </tr>\n",
       "    <tr>\n",
       "      <th>1974-02-01</th>\n",
       "      <td>78254.0</td>\n",
       "      <td>4.29</td>\n",
       "      <td>2673.0</td>\n",
       "      <td>10623.0</td>\n",
       "      <td>82930.0</td>\n",
       "      <td>71.0</td>\n",
       "      <td>7.1</td>\n",
       "      <td>NaN</td>\n",
       "      <td>5.2</td>\n",
       "      <td>3.2</td>\n",
       "      <td>12.8</td>\n",
       "      <td>150.0</td>\n",
       "      <td>5.5</td>\n",
       "      <td>6.2</td>\n",
       "      <td>10.0</td>\n",
       "    </tr>\n",
       "    <tr>\n",
       "      <th>1974-03-01</th>\n",
       "      <td>78296.0</td>\n",
       "      <td>4.31</td>\n",
       "      <td>2472.0</td>\n",
       "      <td>10678.0</td>\n",
       "      <td>83093.0</td>\n",
       "      <td>70.9</td>\n",
       "      <td>7.1</td>\n",
       "      <td>NaN</td>\n",
       "      <td>5.1</td>\n",
       "      <td>3.0</td>\n",
       "      <td>12.9</td>\n",
       "      <td>42.0</td>\n",
       "      <td>5.5</td>\n",
       "      <td>6.2</td>\n",
       "      <td>10.1</td>\n",
       "    </tr>\n",
       "    <tr>\n",
       "      <th>1974-04-01</th>\n",
       "      <td>78382.0</td>\n",
       "      <td>4.34</td>\n",
       "      <td>2377.0</td>\n",
       "      <td>10112.0</td>\n",
       "      <td>83087.0</td>\n",
       "      <td>70.7</td>\n",
       "      <td>7.6</td>\n",
       "      <td>NaN</td>\n",
       "      <td>5.1</td>\n",
       "      <td>2.9</td>\n",
       "      <td>12.2</td>\n",
       "      <td>86.0</td>\n",
       "      <td>6.4</td>\n",
       "      <td>6.4</td>\n",
       "      <td>10.1</td>\n",
       "    </tr>\n",
       "    <tr>\n",
       "      <th>1974-05-01</th>\n",
       "      <td>78547.0</td>\n",
       "      <td>4.39</td>\n",
       "      <td>2667.0</td>\n",
       "      <td>10613.0</td>\n",
       "      <td>83362.0</td>\n",
       "      <td>71.0</td>\n",
       "      <td>7.5</td>\n",
       "      <td>NaN</td>\n",
       "      <td>5.1</td>\n",
       "      <td>3.2</td>\n",
       "      <td>12.7</td>\n",
       "      <td>165.0</td>\n",
       "      <td>7.7</td>\n",
       "      <td>7.1</td>\n",
       "      <td>10.7</td>\n",
       "    </tr>\n",
       "    <tr>\n",
       "      <th>1974-06-01</th>\n",
       "      <td>78602.0</td>\n",
       "      <td>4.43</td>\n",
       "      <td>2577.0</td>\n",
       "      <td>10697.0</td>\n",
       "      <td>83555.0</td>\n",
       "      <td>71.0</td>\n",
       "      <td>7.4</td>\n",
       "      <td>NaN</td>\n",
       "      <td>5.4</td>\n",
       "      <td>3.1</td>\n",
       "      <td>12.8</td>\n",
       "      <td>55.0</td>\n",
       "      <td>9.7</td>\n",
       "      <td>7.5</td>\n",
       "      <td>10.9</td>\n",
       "    </tr>\n",
       "    <tr>\n",
       "      <th>1974-07-01</th>\n",
       "      <td>78635.0</td>\n",
       "      <td>4.45</td>\n",
       "      <td>2610.0</td>\n",
       "      <td>10840.0</td>\n",
       "      <td>83713.0</td>\n",
       "      <td>71.2</td>\n",
       "      <td>7.7</td>\n",
       "      <td>NaN</td>\n",
       "      <td>5.5</td>\n",
       "      <td>3.1</td>\n",
       "      <td>12.9</td>\n",
       "      <td>33.0</td>\n",
       "      <td>10.6</td>\n",
       "      <td>7.2</td>\n",
       "      <td>11.5</td>\n",
       "    </tr>\n",
       "    <tr>\n",
       "      <th>1974-08-01</th>\n",
       "      <td>78619.0</td>\n",
       "      <td>4.49</td>\n",
       "      <td>2745.0</td>\n",
       "      <td>10605.0</td>\n",
       "      <td>83608.0</td>\n",
       "      <td>71.0</td>\n",
       "      <td>7.7</td>\n",
       "      <td>NaN</td>\n",
       "      <td>5.5</td>\n",
       "      <td>3.3</td>\n",
       "      <td>12.7</td>\n",
       "      <td>-16.0</td>\n",
       "      <td>10.5</td>\n",
       "      <td>7.9</td>\n",
       "      <td>10.9</td>\n",
       "    </tr>\n",
       "    <tr>\n",
       "      <th>1974-09-01</th>\n",
       "      <td>78611.0</td>\n",
       "      <td>4.53</td>\n",
       "      <td>2917.0</td>\n",
       "      <td>10510.0</td>\n",
       "      <td>83591.0</td>\n",
       "      <td>70.8</td>\n",
       "      <td>7.2</td>\n",
       "      <td>NaN</td>\n",
       "      <td>5.9</td>\n",
       "      <td>3.5</td>\n",
       "      <td>12.6</td>\n",
       "      <td>-8.0</td>\n",
       "      <td>9.8</td>\n",
       "      <td>8.1</td>\n",
       "      <td>11.9</td>\n",
       "    </tr>\n",
       "    <tr>\n",
       "      <th>1974-10-01</th>\n",
       "      <td>78629.0</td>\n",
       "      <td>4.56</td>\n",
       "      <td>2975.0</td>\n",
       "      <td>10575.0</td>\n",
       "      <td>83564.0</td>\n",
       "      <td>70.7</td>\n",
       "      <td>7.2</td>\n",
       "      <td>NaN</td>\n",
       "      <td>6.0</td>\n",
       "      <td>3.6</td>\n",
       "      <td>12.7</td>\n",
       "      <td>18.0</td>\n",
       "      <td>9.7</td>\n",
       "      <td>8.3</td>\n",
       "      <td>11.8</td>\n",
       "    </tr>\n",
       "    <tr>\n",
       "      <th>1974-11-01</th>\n",
       "      <td>78261.0</td>\n",
       "      <td>4.57</td>\n",
       "      <td>3229.0</td>\n",
       "      <td>10615.0</td>\n",
       "      <td>83221.0</td>\n",
       "      <td>70.4</td>\n",
       "      <td>7.1</td>\n",
       "      <td>NaN</td>\n",
       "      <td>6.6</td>\n",
       "      <td>3.9</td>\n",
       "      <td>12.8</td>\n",
       "      <td>-368.0</td>\n",
       "      <td>9.0</td>\n",
       "      <td>8.0</td>\n",
       "      <td>12.2</td>\n",
       "    </tr>\n",
       "    <tr>\n",
       "      <th>1974-12-01</th>\n",
       "      <td>77657.0</td>\n",
       "      <td>4.61</td>\n",
       "      <td>3347.0</td>\n",
       "      <td>10586.0</td>\n",
       "      <td>82783.0</td>\n",
       "      <td>70.0</td>\n",
       "      <td>8.1</td>\n",
       "      <td>NaN</td>\n",
       "      <td>7.2</td>\n",
       "      <td>4.0</td>\n",
       "      <td>12.8</td>\n",
       "      <td>-604.0</td>\n",
       "      <td>8.3</td>\n",
       "      <td>8.5</td>\n",
       "      <td>12.1</td>\n",
       "    </tr>\n",
       "    <tr>\n",
       "      <th>1975-01-01</th>\n",
       "      <td>77297.0</td>\n",
       "      <td>4.61</td>\n",
       "      <td>3716.0</td>\n",
       "      <td>10637.0</td>\n",
       "      <td>82226.0</td>\n",
       "      <td>69.4</td>\n",
       "      <td>8.3</td>\n",
       "      <td>NaN</td>\n",
       "      <td>8.1</td>\n",
       "      <td>4.5</td>\n",
       "      <td>12.9</td>\n",
       "      <td>-360.0</td>\n",
       "      <td>6.3</td>\n",
       "      <td>8.2</td>\n",
       "      <td>11.8</td>\n",
       "    </tr>\n",
       "    <tr>\n",
       "      <th>1975-02-01</th>\n",
       "      <td>76919.0</td>\n",
       "      <td>4.63</td>\n",
       "      <td>3655.0</td>\n",
       "      <td>10512.0</td>\n",
       "      <td>81895.0</td>\n",
       "      <td>69.1</td>\n",
       "      <td>9.7</td>\n",
       "      <td>NaN</td>\n",
       "      <td>8.1</td>\n",
       "      <td>4.5</td>\n",
       "      <td>12.8</td>\n",
       "      <td>-378.0</td>\n",
       "      <td>5.7</td>\n",
       "      <td>7.9</td>\n",
       "      <td>11.2</td>\n",
       "    </tr>\n",
       "    <tr>\n",
       "      <th>1975-03-01</th>\n",
       "      <td>76649.0</td>\n",
       "      <td>4.66</td>\n",
       "      <td>3789.0</td>\n",
       "      <td>10543.0</td>\n",
       "      <td>81829.0</td>\n",
       "      <td>69.0</td>\n",
       "      <td>9.7</td>\n",
       "      <td>NaN</td>\n",
       "      <td>8.6</td>\n",
       "      <td>4.6</td>\n",
       "      <td>12.9</td>\n",
       "      <td>-270.0</td>\n",
       "      <td>4.7</td>\n",
       "      <td>8.1</td>\n",
       "      <td>10.5</td>\n",
       "    </tr>\n",
       "    <tr>\n",
       "      <th>1975-04-01</th>\n",
       "      <td>76461.0</td>\n",
       "      <td>4.66</td>\n",
       "      <td>3827.0</td>\n",
       "      <td>10749.0</td>\n",
       "      <td>81874.0</td>\n",
       "      <td>69.0</td>\n",
       "      <td>11.9</td>\n",
       "      <td>NaN</td>\n",
       "      <td>8.8</td>\n",
       "      <td>4.7</td>\n",
       "      <td>13.1</td>\n",
       "      <td>-188.0</td>\n",
       "      <td>4.7</td>\n",
       "      <td>7.4</td>\n",
       "      <td>10.2</td>\n",
       "    </tr>\n",
       "    <tr>\n",
       "      <th>1975-05-01</th>\n",
       "      <td>76623.0</td>\n",
       "      <td>4.68</td>\n",
       "      <td>3714.0</td>\n",
       "      <td>10500.0</td>\n",
       "      <td>81891.0</td>\n",
       "      <td>68.9</td>\n",
       "      <td>13.0</td>\n",
       "      <td>NaN</td>\n",
       "      <td>9.0</td>\n",
       "      <td>4.5</td>\n",
       "      <td>12.8</td>\n",
       "      <td>162.0</td>\n",
       "      <td>4.4</td>\n",
       "      <td>6.6</td>\n",
       "      <td>9.3</td>\n",
       "    </tr>\n",
       "    <tr>\n",
       "      <th>1975-06-01</th>\n",
       "      <td>76520.0</td>\n",
       "      <td>4.72</td>\n",
       "      <td>3514.0</td>\n",
       "      <td>11062.0</td>\n",
       "      <td>81987.0</td>\n",
       "      <td>69.1</td>\n",
       "      <td>15.8</td>\n",
       "      <td>NaN</td>\n",
       "      <td>8.8</td>\n",
       "      <td>4.3</td>\n",
       "      <td>13.5</td>\n",
       "      <td>-103.0</td>\n",
       "      <td>4.7</td>\n",
       "      <td>6.5</td>\n",
       "      <td>9.2</td>\n",
       "    </tr>\n",
       "    <tr>\n",
       "      <th>...</th>\n",
       "      <td>...</td>\n",
       "      <td>...</td>\n",
       "      <td>...</td>\n",
       "      <td>...</td>\n",
       "      <td>...</td>\n",
       "      <td>...</td>\n",
       "      <td>...</td>\n",
       "      <td>...</td>\n",
       "      <td>...</td>\n",
       "      <td>...</td>\n",
       "      <td>...</td>\n",
       "      <td>...</td>\n",
       "      <td>...</td>\n",
       "      <td>...</td>\n",
       "      <td>...</td>\n",
       "    </tr>\n",
       "    <tr>\n",
       "      <th>2015-09-01</th>\n",
       "      <td>142244.0</td>\n",
       "      <td>21.10</td>\n",
       "      <td>5932.0</td>\n",
       "      <td>19699.0</td>\n",
       "      <td>146559.0</td>\n",
       "      <td>77.2</td>\n",
       "      <td>26.6</td>\n",
       "      <td>10.0</td>\n",
       "      <td>5.0</td>\n",
       "      <td>4.0</td>\n",
       "      <td>13.4</td>\n",
       "      <td>88.0</td>\n",
       "      <td>2.0</td>\n",
       "      <td>2.0</td>\n",
       "      <td>0.0</td>\n",
       "    </tr>\n",
       "    <tr>\n",
       "      <th>2015-10-01</th>\n",
       "      <td>142595.0</td>\n",
       "      <td>21.20</td>\n",
       "      <td>5747.0</td>\n",
       "      <td>19862.0</td>\n",
       "      <td>146827.0</td>\n",
       "      <td>77.2</td>\n",
       "      <td>26.9</td>\n",
       "      <td>9.8</td>\n",
       "      <td>5.0</td>\n",
       "      <td>3.9</td>\n",
       "      <td>13.5</td>\n",
       "      <td>351.0</td>\n",
       "      <td>2.4</td>\n",
       "      <td>2.4</td>\n",
       "      <td>0.1</td>\n",
       "    </tr>\n",
       "    <tr>\n",
       "      <th>2015-11-01</th>\n",
       "      <td>142859.0</td>\n",
       "      <td>21.21</td>\n",
       "      <td>6048.0</td>\n",
       "      <td>19726.0</td>\n",
       "      <td>147174.0</td>\n",
       "      <td>77.4</td>\n",
       "      <td>25.9</td>\n",
       "      <td>9.9</td>\n",
       "      <td>5.0</td>\n",
       "      <td>4.1</td>\n",
       "      <td>13.4</td>\n",
       "      <td>264.0</td>\n",
       "      <td>2.4</td>\n",
       "      <td>2.1</td>\n",
       "      <td>0.4</td>\n",
       "    </tr>\n",
       "    <tr>\n",
       "      <th>2015-12-01</th>\n",
       "      <td>143093.0</td>\n",
       "      <td>21.25</td>\n",
       "      <td>5901.0</td>\n",
       "      <td>19880.0</td>\n",
       "      <td>147676.0</td>\n",
       "      <td>77.4</td>\n",
       "      <td>26.8</td>\n",
       "      <td>9.9</td>\n",
       "      <td>5.0</td>\n",
       "      <td>4.0</td>\n",
       "      <td>13.5</td>\n",
       "      <td>234.0</td>\n",
       "      <td>2.7</td>\n",
       "      <td>2.5</td>\n",
       "      <td>0.7</td>\n",
       "    </tr>\n",
       "    <tr>\n",
       "      <th>2016-01-01</th>\n",
       "      <td>143196.0</td>\n",
       "      <td>21.31</td>\n",
       "      <td>5828.0</td>\n",
       "      <td>20029.0</td>\n",
       "      <td>148097.0</td>\n",
       "      <td>77.7</td>\n",
       "      <td>26.6</td>\n",
       "      <td>9.9</td>\n",
       "      <td>4.9</td>\n",
       "      <td>3.9</td>\n",
       "      <td>13.5</td>\n",
       "      <td>103.0</td>\n",
       "      <td>2.4</td>\n",
       "      <td>2.4</td>\n",
       "      <td>1.3</td>\n",
       "    </tr>\n",
       "    <tr>\n",
       "      <th>2016-02-01</th>\n",
       "      <td>143453.0</td>\n",
       "      <td>21.34</td>\n",
       "      <td>5942.0</td>\n",
       "      <td>20281.0</td>\n",
       "      <td>148495.0</td>\n",
       "      <td>77.8</td>\n",
       "      <td>27.5</td>\n",
       "      <td>9.7</td>\n",
       "      <td>4.9</td>\n",
       "      <td>4.0</td>\n",
       "      <td>13.7</td>\n",
       "      <td>257.0</td>\n",
       "      <td>2.5</td>\n",
       "      <td>2.4</td>\n",
       "      <td>1.0</td>\n",
       "    </tr>\n",
       "    <tr>\n",
       "      <th>2016-03-01</th>\n",
       "      <td>143688.0</td>\n",
       "      <td>21.41</td>\n",
       "      <td>6017.0</td>\n",
       "      <td>20126.0</td>\n",
       "      <td>148460.0</td>\n",
       "      <td>78.0</td>\n",
       "      <td>27.7</td>\n",
       "      <td>9.8</td>\n",
       "      <td>5.0</td>\n",
       "      <td>4.1</td>\n",
       "      <td>13.6</td>\n",
       "      <td>235.0</td>\n",
       "      <td>2.5</td>\n",
       "      <td>2.5</td>\n",
       "      <td>0.9</td>\n",
       "    </tr>\n",
       "    <tr>\n",
       "      <th>2016-04-01</th>\n",
       "      <td>143862.0</td>\n",
       "      <td>21.46</td>\n",
       "      <td>5946.0</td>\n",
       "      <td>20196.0</td>\n",
       "      <td>148427.0</td>\n",
       "      <td>77.8</td>\n",
       "      <td>25.8</td>\n",
       "      <td>9.8</td>\n",
       "      <td>5.0</td>\n",
       "      <td>4.0</td>\n",
       "      <td>13.6</td>\n",
       "      <td>174.0</td>\n",
       "      <td>2.8</td>\n",
       "      <td>2.6</td>\n",
       "      <td>1.1</td>\n",
       "    </tr>\n",
       "    <tr>\n",
       "      <th>2016-05-01</th>\n",
       "      <td>143896.0</td>\n",
       "      <td>21.48</td>\n",
       "      <td>6418.0</td>\n",
       "      <td>20169.0</td>\n",
       "      <td>148591.0</td>\n",
       "      <td>77.8</td>\n",
       "      <td>25.1</td>\n",
       "      <td>9.8</td>\n",
       "      <td>4.7</td>\n",
       "      <td>4.3</td>\n",
       "      <td>13.6</td>\n",
       "      <td>34.0</td>\n",
       "      <td>2.8</td>\n",
       "      <td>2.3</td>\n",
       "      <td>1.0</td>\n",
       "    </tr>\n",
       "    <tr>\n",
       "      <th>2016-06-01</th>\n",
       "      <td>144181.0</td>\n",
       "      <td>21.52</td>\n",
       "      <td>5652.0</td>\n",
       "      <td>20227.0</td>\n",
       "      <td>148713.0</td>\n",
       "      <td>77.9</td>\n",
       "      <td>26.1</td>\n",
       "      <td>9.5</td>\n",
       "      <td>4.9</td>\n",
       "      <td>3.8</td>\n",
       "      <td>13.6</td>\n",
       "      <td>285.0</td>\n",
       "      <td>2.5</td>\n",
       "      <td>2.4</td>\n",
       "      <td>1.0</td>\n",
       "    </tr>\n",
       "    <tr>\n",
       "      <th>2016-07-01</th>\n",
       "      <td>144506.0</td>\n",
       "      <td>21.58</td>\n",
       "      <td>5798.0</td>\n",
       "      <td>20287.0</td>\n",
       "      <td>149032.0</td>\n",
       "      <td>77.9</td>\n",
       "      <td>25.8</td>\n",
       "      <td>9.7</td>\n",
       "      <td>4.9</td>\n",
       "      <td>3.9</td>\n",
       "      <td>13.6</td>\n",
       "      <td>325.0</td>\n",
       "      <td>2.3</td>\n",
       "      <td>2.6</td>\n",
       "      <td>0.9</td>\n",
       "    </tr>\n",
       "    <tr>\n",
       "      <th>2016-08-01</th>\n",
       "      <td>144681.0</td>\n",
       "      <td>21.61</td>\n",
       "      <td>5846.0</td>\n",
       "      <td>20108.0</td>\n",
       "      <td>149221.0</td>\n",
       "      <td>77.8</td>\n",
       "      <td>26.0</td>\n",
       "      <td>9.6</td>\n",
       "      <td>4.9</td>\n",
       "      <td>3.9</td>\n",
       "      <td>13.5</td>\n",
       "      <td>175.0</td>\n",
       "      <td>2.3</td>\n",
       "      <td>2.4</td>\n",
       "      <td>1.1</td>\n",
       "    </tr>\n",
       "    <tr>\n",
       "      <th>2016-09-01</th>\n",
       "      <td>144945.0</td>\n",
       "      <td>21.64</td>\n",
       "      <td>5790.0</td>\n",
       "      <td>20345.0</td>\n",
       "      <td>149406.0</td>\n",
       "      <td>78.0</td>\n",
       "      <td>24.7</td>\n",
       "      <td>9.7</td>\n",
       "      <td>5.0</td>\n",
       "      <td>3.9</td>\n",
       "      <td>13.6</td>\n",
       "      <td>264.0</td>\n",
       "      <td>2.3</td>\n",
       "      <td>2.6</td>\n",
       "      <td>1.5</td>\n",
       "    </tr>\n",
       "    <tr>\n",
       "      <th>2016-10-01</th>\n",
       "      <td>145085.0</td>\n",
       "      <td>21.70</td>\n",
       "      <td>5853.0</td>\n",
       "      <td>20439.0</td>\n",
       "      <td>149584.0</td>\n",
       "      <td>78.2</td>\n",
       "      <td>25.3</td>\n",
       "      <td>9.6</td>\n",
       "      <td>4.9</td>\n",
       "      <td>3.9</td>\n",
       "      <td>13.7</td>\n",
       "      <td>140.0</td>\n",
       "      <td>2.3</td>\n",
       "      <td>2.4</td>\n",
       "      <td>1.6</td>\n",
       "    </tr>\n",
       "    <tr>\n",
       "      <th>2016-11-01</th>\n",
       "      <td>145257.0</td>\n",
       "      <td>21.72</td>\n",
       "      <td>5610.0</td>\n",
       "      <td>20676.0</td>\n",
       "      <td>149761.0</td>\n",
       "      <td>78.1</td>\n",
       "      <td>24.9</td>\n",
       "      <td>9.3</td>\n",
       "      <td>4.6</td>\n",
       "      <td>3.7</td>\n",
       "      <td>13.8</td>\n",
       "      <td>172.0</td>\n",
       "      <td>2.2</td>\n",
       "      <td>2.4</td>\n",
       "      <td>1.7</td>\n",
       "    </tr>\n",
       "    <tr>\n",
       "      <th>2016-12-01</th>\n",
       "      <td>145437.0</td>\n",
       "      <td>21.78</td>\n",
       "      <td>5415.0</td>\n",
       "      <td>20860.0</td>\n",
       "      <td>149854.0</td>\n",
       "      <td>78.1</td>\n",
       "      <td>24.7</td>\n",
       "      <td>9.1</td>\n",
       "      <td>4.7</td>\n",
       "      <td>3.6</td>\n",
       "      <td>13.9</td>\n",
       "      <td>180.0</td>\n",
       "      <td>2.3</td>\n",
       "      <td>2.5</td>\n",
       "      <td>2.1</td>\n",
       "    </tr>\n",
       "    <tr>\n",
       "      <th>2017-01-01</th>\n",
       "      <td>145696.0</td>\n",
       "      <td>21.81</td>\n",
       "      <td>5717.0</td>\n",
       "      <td>20076.0</td>\n",
       "      <td>149633.0</td>\n",
       "      <td>78.2</td>\n",
       "      <td>24.1</td>\n",
       "      <td>9.4</td>\n",
       "      <td>4.8</td>\n",
       "      <td>3.8</td>\n",
       "      <td>13.4</td>\n",
       "      <td>259.0</td>\n",
       "      <td>2.2</td>\n",
       "      <td>2.3</td>\n",
       "      <td>2.5</td>\n",
       "    </tr>\n",
       "    <tr>\n",
       "      <th>2017-02-01</th>\n",
       "      <td>145896.0</td>\n",
       "      <td>21.85</td>\n",
       "      <td>5625.0</td>\n",
       "      <td>20447.0</td>\n",
       "      <td>150049.0</td>\n",
       "      <td>78.4</td>\n",
       "      <td>23.5</td>\n",
       "      <td>9.2</td>\n",
       "      <td>4.7</td>\n",
       "      <td>3.7</td>\n",
       "      <td>13.6</td>\n",
       "      <td>200.0</td>\n",
       "      <td>2.4</td>\n",
       "      <td>2.4</td>\n",
       "      <td>2.8</td>\n",
       "    </tr>\n",
       "    <tr>\n",
       "      <th>2017-03-01</th>\n",
       "      <td>145969.0</td>\n",
       "      <td>21.89</td>\n",
       "      <td>5470.0</td>\n",
       "      <td>20343.0</td>\n",
       "      <td>150407.0</td>\n",
       "      <td>78.5</td>\n",
       "      <td>23.4</td>\n",
       "      <td>8.8</td>\n",
       "      <td>4.5</td>\n",
       "      <td>3.6</td>\n",
       "      <td>13.5</td>\n",
       "      <td>73.0</td>\n",
       "      <td>2.2</td>\n",
       "      <td>2.2</td>\n",
       "      <td>2.4</td>\n",
       "    </tr>\n",
       "    <tr>\n",
       "      <th>2017-04-01</th>\n",
       "      <td>146144.0</td>\n",
       "      <td>21.94</td>\n",
       "      <td>5243.0</td>\n",
       "      <td>20010.0</td>\n",
       "      <td>150515.0</td>\n",
       "      <td>78.6</td>\n",
       "      <td>22.8</td>\n",
       "      <td>8.6</td>\n",
       "      <td>4.4</td>\n",
       "      <td>3.5</td>\n",
       "      <td>13.3</td>\n",
       "      <td>175.0</td>\n",
       "      <td>2.3</td>\n",
       "      <td>2.2</td>\n",
       "      <td>2.2</td>\n",
       "    </tr>\n",
       "    <tr>\n",
       "      <th>2017-05-01</th>\n",
       "      <td>146299.0</td>\n",
       "      <td>21.98</td>\n",
       "      <td>5202.0</td>\n",
       "      <td>20703.0</td>\n",
       "      <td>150516.0</td>\n",
       "      <td>78.4</td>\n",
       "      <td>24.2</td>\n",
       "      <td>8.4</td>\n",
       "      <td>4.3</td>\n",
       "      <td>3.5</td>\n",
       "      <td>13.8</td>\n",
       "      <td>155.0</td>\n",
       "      <td>2.3</td>\n",
       "      <td>2.3</td>\n",
       "      <td>1.9</td>\n",
       "    </tr>\n",
       "    <tr>\n",
       "      <th>2017-06-01</th>\n",
       "      <td>146538.0</td>\n",
       "      <td>22.02</td>\n",
       "      <td>5210.0</td>\n",
       "      <td>20423.0</td>\n",
       "      <td>150878.0</td>\n",
       "      <td>78.6</td>\n",
       "      <td>24.9</td>\n",
       "      <td>8.5</td>\n",
       "      <td>4.3</td>\n",
       "      <td>3.5</td>\n",
       "      <td>13.5</td>\n",
       "      <td>239.0</td>\n",
       "      <td>2.4</td>\n",
       "      <td>2.3</td>\n",
       "      <td>1.6</td>\n",
       "    </tr>\n",
       "    <tr>\n",
       "      <th>2017-07-01</th>\n",
       "      <td>146728.0</td>\n",
       "      <td>22.06</td>\n",
       "      <td>5176.0</td>\n",
       "      <td>21027.0</td>\n",
       "      <td>151118.0</td>\n",
       "      <td>78.6</td>\n",
       "      <td>25.4</td>\n",
       "      <td>8.5</td>\n",
       "      <td>4.3</td>\n",
       "      <td>3.4</td>\n",
       "      <td>13.9</td>\n",
       "      <td>190.0</td>\n",
       "      <td>2.3</td>\n",
       "      <td>2.2</td>\n",
       "      <td>1.7</td>\n",
       "    </tr>\n",
       "    <tr>\n",
       "      <th>2017-08-01</th>\n",
       "      <td>146949.0</td>\n",
       "      <td>22.11</td>\n",
       "      <td>5125.0</td>\n",
       "      <td>21133.0</td>\n",
       "      <td>151175.0</td>\n",
       "      <td>78.4</td>\n",
       "      <td>24.7</td>\n",
       "      <td>8.6</td>\n",
       "      <td>4.4</td>\n",
       "      <td>3.4</td>\n",
       "      <td>14.0</td>\n",
       "      <td>221.0</td>\n",
       "      <td>2.3</td>\n",
       "      <td>2.3</td>\n",
       "      <td>2.0</td>\n",
       "    </tr>\n",
       "    <tr>\n",
       "      <th>2017-09-01</th>\n",
       "      <td>146963.0</td>\n",
       "      <td>22.20</td>\n",
       "      <td>5048.0</td>\n",
       "      <td>20619.0</td>\n",
       "      <td>151942.0</td>\n",
       "      <td>78.9</td>\n",
       "      <td>25.5</td>\n",
       "      <td>8.3</td>\n",
       "      <td>4.2</td>\n",
       "      <td>3.3</td>\n",
       "      <td>13.6</td>\n",
       "      <td>14.0</td>\n",
       "      <td>2.6</td>\n",
       "      <td>2.6</td>\n",
       "      <td>2.2</td>\n",
       "    </tr>\n",
       "    <tr>\n",
       "      <th>2017-10-01</th>\n",
       "      <td>147234.0</td>\n",
       "      <td>22.18</td>\n",
       "      <td>4799.0</td>\n",
       "      <td>20552.0</td>\n",
       "      <td>151334.0</td>\n",
       "      <td>78.9</td>\n",
       "      <td>25.0</td>\n",
       "      <td>8.0</td>\n",
       "      <td>4.1</td>\n",
       "      <td>3.2</td>\n",
       "      <td>13.6</td>\n",
       "      <td>271.0</td>\n",
       "      <td>2.6</td>\n",
       "      <td>2.2</td>\n",
       "      <td>2.0</td>\n",
       "    </tr>\n",
       "    <tr>\n",
       "      <th>2017-11-01</th>\n",
       "      <td>147450.0</td>\n",
       "      <td>22.23</td>\n",
       "      <td>4759.0</td>\n",
       "      <td>20645.0</td>\n",
       "      <td>151453.0</td>\n",
       "      <td>79.0</td>\n",
       "      <td>23.9</td>\n",
       "      <td>8.0</td>\n",
       "      <td>4.1</td>\n",
       "      <td>3.1</td>\n",
       "      <td>13.6</td>\n",
       "      <td>216.0</td>\n",
       "      <td>2.6</td>\n",
       "      <td>2.3</td>\n",
       "      <td>2.2</td>\n",
       "    </tr>\n",
       "    <tr>\n",
       "      <th>2017-12-01</th>\n",
       "      <td>147625.0</td>\n",
       "      <td>22.31</td>\n",
       "      <td>4856.0</td>\n",
       "      <td>20703.0</td>\n",
       "      <td>151478.0</td>\n",
       "      <td>79.1</td>\n",
       "      <td>22.9</td>\n",
       "      <td>8.1</td>\n",
       "      <td>4.1</td>\n",
       "      <td>3.2</td>\n",
       "      <td>13.7</td>\n",
       "      <td>175.0</td>\n",
       "      <td>2.1</td>\n",
       "      <td>2.4</td>\n",
       "      <td>2.1</td>\n",
       "    </tr>\n",
       "    <tr>\n",
       "      <th>2018-01-01</th>\n",
       "      <td>147864.0</td>\n",
       "      <td>22.34</td>\n",
       "      <td>4926.0</td>\n",
       "      <td>20434.0</td>\n",
       "      <td>151894.0</td>\n",
       "      <td>79.0</td>\n",
       "      <td>21.5</td>\n",
       "      <td>8.2</td>\n",
       "      <td>4.1</td>\n",
       "      <td>3.2</td>\n",
       "      <td>13.5</td>\n",
       "      <td>239.0</td>\n",
       "      <td>2.4</td>\n",
       "      <td>2.4</td>\n",
       "      <td>NaN</td>\n",
       "    </tr>\n",
       "    <tr>\n",
       "      <th>2018-02-01</th>\n",
       "      <td>148177.0</td>\n",
       "      <td>22.40</td>\n",
       "      <td>5091.0</td>\n",
       "      <td>20641.0</td>\n",
       "      <td>152713.0</td>\n",
       "      <td>79.3</td>\n",
       "      <td>20.7</td>\n",
       "      <td>8.2</td>\n",
       "      <td>4.1</td>\n",
       "      <td>3.3</td>\n",
       "      <td>13.5</td>\n",
       "      <td>313.0</td>\n",
       "      <td>2.7</td>\n",
       "      <td>2.5</td>\n",
       "      <td>NaN</td>\n",
       "    </tr>\n",
       "  </tbody>\n",
       "</table>\n",
       "<p>542 rows × 15 columns</p>\n",
       "</div>"
      ],
      "text/plain": [
       "            CES0000000001  CES0500000008  LNS12032197  LNS12032200  \\\n",
       "1973-01-01        75621.0           4.03       2043.0       9701.0   \n",
       "1973-02-01        76017.0           4.04       2182.0      10202.0   \n",
       "1973-03-01        76285.0           4.06       2172.0      10303.0   \n",
       "1973-04-01        76455.0           4.08       2150.0      10462.0   \n",
       "1973-05-01        76646.0           4.10       2216.0      10412.0   \n",
       "1973-06-01        76887.0           4.12       2543.0      10094.0   \n",
       "1973-07-01        76911.0           4.15       2490.0       9915.0   \n",
       "1973-08-01        77166.0           4.16       2444.0      10287.0   \n",
       "1973-09-01        77276.0           4.19       2424.0      10620.0   \n",
       "1973-10-01        77606.0           4.21       2424.0      10738.0   \n",
       "1973-11-01        77912.0           4.23       2437.0      10695.0   \n",
       "1973-12-01        78035.0           4.25       2571.0      10836.0   \n",
       "1974-01-01        78104.0           4.26       2525.0      10559.0   \n",
       "1974-02-01        78254.0           4.29       2673.0      10623.0   \n",
       "1974-03-01        78296.0           4.31       2472.0      10678.0   \n",
       "1974-04-01        78382.0           4.34       2377.0      10112.0   \n",
       "1974-05-01        78547.0           4.39       2667.0      10613.0   \n",
       "1974-06-01        78602.0           4.43       2577.0      10697.0   \n",
       "1974-07-01        78635.0           4.45       2610.0      10840.0   \n",
       "1974-08-01        78619.0           4.49       2745.0      10605.0   \n",
       "1974-09-01        78611.0           4.53       2917.0      10510.0   \n",
       "1974-10-01        78629.0           4.56       2975.0      10575.0   \n",
       "1974-11-01        78261.0           4.57       3229.0      10615.0   \n",
       "1974-12-01        77657.0           4.61       3347.0      10586.0   \n",
       "1975-01-01        77297.0           4.61       3716.0      10637.0   \n",
       "1975-02-01        76919.0           4.63       3655.0      10512.0   \n",
       "1975-03-01        76649.0           4.66       3789.0      10543.0   \n",
       "1975-04-01        76461.0           4.66       3827.0      10749.0   \n",
       "1975-05-01        76623.0           4.68       3714.0      10500.0   \n",
       "1975-06-01        76520.0           4.72       3514.0      11062.0   \n",
       "...                   ...            ...          ...          ...   \n",
       "2015-09-01       142244.0          21.10       5932.0      19699.0   \n",
       "2015-10-01       142595.0          21.20       5747.0      19862.0   \n",
       "2015-11-01       142859.0          21.21       6048.0      19726.0   \n",
       "2015-12-01       143093.0          21.25       5901.0      19880.0   \n",
       "2016-01-01       143196.0          21.31       5828.0      20029.0   \n",
       "2016-02-01       143453.0          21.34       5942.0      20281.0   \n",
       "2016-03-01       143688.0          21.41       6017.0      20126.0   \n",
       "2016-04-01       143862.0          21.46       5946.0      20196.0   \n",
       "2016-05-01       143896.0          21.48       6418.0      20169.0   \n",
       "2016-06-01       144181.0          21.52       5652.0      20227.0   \n",
       "2016-07-01       144506.0          21.58       5798.0      20287.0   \n",
       "2016-08-01       144681.0          21.61       5846.0      20108.0   \n",
       "2016-09-01       144945.0          21.64       5790.0      20345.0   \n",
       "2016-10-01       145085.0          21.70       5853.0      20439.0   \n",
       "2016-11-01       145257.0          21.72       5610.0      20676.0   \n",
       "2016-12-01       145437.0          21.78       5415.0      20860.0   \n",
       "2017-01-01       145696.0          21.81       5717.0      20076.0   \n",
       "2017-02-01       145896.0          21.85       5625.0      20447.0   \n",
       "2017-03-01       145969.0          21.89       5470.0      20343.0   \n",
       "2017-04-01       146144.0          21.94       5243.0      20010.0   \n",
       "2017-05-01       146299.0          21.98       5202.0      20703.0   \n",
       "2017-06-01       146538.0          22.02       5210.0      20423.0   \n",
       "2017-07-01       146728.0          22.06       5176.0      21027.0   \n",
       "2017-08-01       146949.0          22.11       5125.0      21133.0   \n",
       "2017-09-01       146963.0          22.20       5048.0      20619.0   \n",
       "2017-10-01       147234.0          22.18       4799.0      20552.0   \n",
       "2017-11-01       147450.0          22.23       4759.0      20645.0   \n",
       "2017-12-01       147625.0          22.31       4856.0      20703.0   \n",
       "2018-01-01       147864.0          22.34       4926.0      20434.0   \n",
       "2018-02-01       148177.0          22.40       5091.0      20641.0   \n",
       "\n",
       "            LNS12035019  LNS12300060  LNS13025703  LNS13327709  LNS14000000  \\\n",
       "1973-01-01      79705.0         69.7          9.5          NaN          4.9   \n",
       "1973-02-01      80497.0         70.1          8.4          NaN          5.0   \n",
       "1973-03-01      80983.0         70.2          8.9          NaN          4.9   \n",
       "1973-04-01      81152.0         70.3          7.5          NaN          5.0   \n",
       "1973-05-01      81272.0         70.4          8.0          NaN          4.9   \n",
       "1973-06-01      81676.0         70.5          7.5          NaN          4.9   \n",
       "1973-07-01      81759.0         70.7          6.5          NaN          4.8   \n",
       "1973-08-01      81779.0         70.5          7.7          NaN          4.8   \n",
       "1973-09-01      82146.0         70.7          6.8          NaN          4.8   \n",
       "1973-10-01      82563.0         70.9          8.0          NaN          4.6   \n",
       "1973-11-01      82727.0         71.0          8.0          NaN          4.8   \n",
       "1973-12-01      82743.0         70.9          7.4          NaN          4.9   \n",
       "1974-01-01      82799.0         71.1          7.2          NaN          5.1   \n",
       "1974-02-01      82930.0         71.0          7.1          NaN          5.2   \n",
       "1974-03-01      83093.0         70.9          7.1          NaN          5.1   \n",
       "1974-04-01      83087.0         70.7          7.6          NaN          5.1   \n",
       "1974-05-01      83362.0         71.0          7.5          NaN          5.1   \n",
       "1974-06-01      83555.0         71.0          7.4          NaN          5.4   \n",
       "1974-07-01      83713.0         71.2          7.7          NaN          5.5   \n",
       "1974-08-01      83608.0         71.0          7.7          NaN          5.5   \n",
       "1974-09-01      83591.0         70.8          7.2          NaN          5.9   \n",
       "1974-10-01      83564.0         70.7          7.2          NaN          6.0   \n",
       "1974-11-01      83221.0         70.4          7.1          NaN          6.6   \n",
       "1974-12-01      82783.0         70.0          8.1          NaN          7.2   \n",
       "1975-01-01      82226.0         69.4          8.3          NaN          8.1   \n",
       "1975-02-01      81895.0         69.1          9.7          NaN          8.1   \n",
       "1975-03-01      81829.0         69.0          9.7          NaN          8.6   \n",
       "1975-04-01      81874.0         69.0         11.9          NaN          8.8   \n",
       "1975-05-01      81891.0         68.9         13.0          NaN          9.0   \n",
       "1975-06-01      81987.0         69.1         15.8          NaN          8.8   \n",
       "...                 ...          ...          ...          ...          ...   \n",
       "2015-09-01     146559.0         77.2         26.6         10.0          5.0   \n",
       "2015-10-01     146827.0         77.2         26.9          9.8          5.0   \n",
       "2015-11-01     147174.0         77.4         25.9          9.9          5.0   \n",
       "2015-12-01     147676.0         77.4         26.8          9.9          5.0   \n",
       "2016-01-01     148097.0         77.7         26.6          9.9          4.9   \n",
       "2016-02-01     148495.0         77.8         27.5          9.7          4.9   \n",
       "2016-03-01     148460.0         78.0         27.7          9.8          5.0   \n",
       "2016-04-01     148427.0         77.8         25.8          9.8          5.0   \n",
       "2016-05-01     148591.0         77.8         25.1          9.8          4.7   \n",
       "2016-06-01     148713.0         77.9         26.1          9.5          4.9   \n",
       "2016-07-01     149032.0         77.9         25.8          9.7          4.9   \n",
       "2016-08-01     149221.0         77.8         26.0          9.6          4.9   \n",
       "2016-09-01     149406.0         78.0         24.7          9.7          5.0   \n",
       "2016-10-01     149584.0         78.2         25.3          9.6          4.9   \n",
       "2016-11-01     149761.0         78.1         24.9          9.3          4.6   \n",
       "2016-12-01     149854.0         78.1         24.7          9.1          4.7   \n",
       "2017-01-01     149633.0         78.2         24.1          9.4          4.8   \n",
       "2017-02-01     150049.0         78.4         23.5          9.2          4.7   \n",
       "2017-03-01     150407.0         78.5         23.4          8.8          4.5   \n",
       "2017-04-01     150515.0         78.6         22.8          8.6          4.4   \n",
       "2017-05-01     150516.0         78.4         24.2          8.4          4.3   \n",
       "2017-06-01     150878.0         78.6         24.9          8.5          4.3   \n",
       "2017-07-01     151118.0         78.6         25.4          8.5          4.3   \n",
       "2017-08-01     151175.0         78.4         24.7          8.6          4.4   \n",
       "2017-09-01     151942.0         78.9         25.5          8.3          4.2   \n",
       "2017-10-01     151334.0         78.9         25.0          8.0          4.1   \n",
       "2017-11-01     151453.0         79.0         23.9          8.0          4.1   \n",
       "2017-12-01     151478.0         79.1         22.9          8.1          4.1   \n",
       "2018-01-01     151894.0         79.0         21.5          8.2          4.1   \n",
       "2018-02-01     152713.0         79.3         20.7          8.2          4.1   \n",
       "\n",
       "            ptec  ptnec  payroll   ahe  ahe2   cpi  \n",
       "1973-01-01   2.6   12.2      NaN   NaN   NaN   NaN  \n",
       "1973-02-01   2.7   12.7    396.0   NaN   NaN   NaN  \n",
       "1973-03-01   2.7   12.7    268.0   NaN   NaN   NaN  \n",
       "1973-04-01   2.6   12.9    170.0   NaN   NaN   NaN  \n",
       "1973-05-01   2.7   12.8    191.0   NaN   NaN   NaN  \n",
       "1973-06-01   3.1   12.4    241.0   5.7   NaN   NaN  \n",
       "1973-07-01   3.0   12.1     24.0   6.4   NaN   NaN  \n",
       "1973-08-01   3.0   12.6    255.0   6.4   NaN   NaN  \n",
       "1973-09-01   3.0   12.9    110.0   6.7   NaN   NaN  \n",
       "1973-10-01   2.9   13.0    330.0   6.3   NaN   NaN  \n",
       "1973-11-01   2.9   12.9    306.0   6.6   NaN   NaN  \n",
       "1973-12-01   3.1   13.1    123.0   6.2   NaN   NaN  \n",
       "1974-01-01   3.0   12.8     69.0   5.9   5.7   9.6  \n",
       "1974-02-01   3.2   12.8    150.0   5.5   6.2  10.0  \n",
       "1974-03-01   3.0   12.9     42.0   5.5   6.2  10.1  \n",
       "1974-04-01   2.9   12.2     86.0   6.4   6.4  10.1  \n",
       "1974-05-01   3.2   12.7    165.0   7.7   7.1  10.7  \n",
       "1974-06-01   3.1   12.8     55.0   9.7   7.5  10.9  \n",
       "1974-07-01   3.1   12.9     33.0  10.6   7.2  11.5  \n",
       "1974-08-01   3.3   12.7    -16.0  10.5   7.9  10.9  \n",
       "1974-09-01   3.5   12.6     -8.0   9.8   8.1  11.9  \n",
       "1974-10-01   3.6   12.7     18.0   9.7   8.3  11.8  \n",
       "1974-11-01   3.9   12.8   -368.0   9.0   8.0  12.2  \n",
       "1974-12-01   4.0   12.8   -604.0   8.3   8.5  12.1  \n",
       "1975-01-01   4.5   12.9   -360.0   6.3   8.2  11.8  \n",
       "1975-02-01   4.5   12.8   -378.0   5.7   7.9  11.2  \n",
       "1975-03-01   4.6   12.9   -270.0   4.7   8.1  10.5  \n",
       "1975-04-01   4.7   13.1   -188.0   4.7   7.4  10.2  \n",
       "1975-05-01   4.5   12.8    162.0   4.4   6.6   9.3  \n",
       "1975-06-01   4.3   13.5   -103.0   4.7   6.5   9.2  \n",
       "...          ...    ...      ...   ...   ...   ...  \n",
       "2015-09-01   4.0   13.4     88.0   2.0   2.0   0.0  \n",
       "2015-10-01   3.9   13.5    351.0   2.4   2.4   0.1  \n",
       "2015-11-01   4.1   13.4    264.0   2.4   2.1   0.4  \n",
       "2015-12-01   4.0   13.5    234.0   2.7   2.5   0.7  \n",
       "2016-01-01   3.9   13.5    103.0   2.4   2.4   1.3  \n",
       "2016-02-01   4.0   13.7    257.0   2.5   2.4   1.0  \n",
       "2016-03-01   4.1   13.6    235.0   2.5   2.5   0.9  \n",
       "2016-04-01   4.0   13.6    174.0   2.8   2.6   1.1  \n",
       "2016-05-01   4.3   13.6     34.0   2.8   2.3   1.0  \n",
       "2016-06-01   3.8   13.6    285.0   2.5   2.4   1.0  \n",
       "2016-07-01   3.9   13.6    325.0   2.3   2.6   0.9  \n",
       "2016-08-01   3.9   13.5    175.0   2.3   2.4   1.1  \n",
       "2016-09-01   3.9   13.6    264.0   2.3   2.6   1.5  \n",
       "2016-10-01   3.9   13.7    140.0   2.3   2.4   1.6  \n",
       "2016-11-01   3.7   13.8    172.0   2.2   2.4   1.7  \n",
       "2016-12-01   3.6   13.9    180.0   2.3   2.5   2.1  \n",
       "2017-01-01   3.8   13.4    259.0   2.2   2.3   2.5  \n",
       "2017-02-01   3.7   13.6    200.0   2.4   2.4   2.8  \n",
       "2017-03-01   3.6   13.5     73.0   2.2   2.2   2.4  \n",
       "2017-04-01   3.5   13.3    175.0   2.3   2.2   2.2  \n",
       "2017-05-01   3.5   13.8    155.0   2.3   2.3   1.9  \n",
       "2017-06-01   3.5   13.5    239.0   2.4   2.3   1.6  \n",
       "2017-07-01   3.4   13.9    190.0   2.3   2.2   1.7  \n",
       "2017-08-01   3.4   14.0    221.0   2.3   2.3   2.0  \n",
       "2017-09-01   3.3   13.6     14.0   2.6   2.6   2.2  \n",
       "2017-10-01   3.2   13.6    271.0   2.6   2.2   2.0  \n",
       "2017-11-01   3.1   13.6    216.0   2.6   2.3   2.2  \n",
       "2017-12-01   3.2   13.7    175.0   2.1   2.4   2.1  \n",
       "2018-01-01   3.2   13.5    239.0   2.4   2.4   NaN  \n",
       "2018-02-01   3.3   13.5    313.0   2.7   2.5   NaN  \n",
       "\n",
       "[542 rows x 15 columns]"
      ]
     },
     "execution_count": 17,
     "metadata": {},
     "output_type": "execute_result"
    }
   ],
   "source": [
    "df"
   ]
  },
  {
   "cell_type": "markdown",
   "metadata": {},
   "source": [
    "#### Chart data and annotation text"
   ]
  },
  {
   "cell_type": "code",
   "execution_count": 18,
   "metadata": {
    "ExecuteTime": {
     "end_time": "2018-03-31T15:44:50.366453Z",
     "start_time": "2018-03-31T15:44:50.335210Z"
    }
   },
   "outputs": [],
   "source": [
    "# Payrolls\n",
    "df['payroll'].loc['2000-01-01':].to_csv('payroll.csv', header=True, index_label='DATE')\n",
    "payrolls1 = '\\\\scriptsize{2018}\\\\\\\\\\scriptsize{Feb}\\\\\\ \\\\textbf{+'\n",
    "payrolls2 = '{0:g}}}'.format(df['payroll'][-1])\n",
    "payroll = '{}{}'.format(payrolls1, payrolls2)\n",
    "wt('payroll.txt', payroll)"
   ]
  },
  {
   "cell_type": "code",
   "execution_count": 19,
   "metadata": {
    "ExecuteTime": {
     "end_time": "2018-03-31T15:44:51.350914Z",
     "start_time": "2018-03-31T15:44:51.319669Z"
    }
   },
   "outputs": [],
   "source": [
    "# Epop\n",
    "df['LNS12300060'].loc['2000-01-01':].to_csv('LNS12300060.csv', header=True, index_label='DATE')\n",
    "epop1 = '\\\\scriptsize{2018}\\\\\\\\\\scriptsize{Feb}\\\\\\ \\\\textbf{'\n",
    "epop2 = '{}\\%}}'.format(df['LNS12300060'][-1])\n",
    "epop = '{}{}'.format(epop1, epop2)\n",
    "wt('LNS12300060.txt', epop)"
   ]
  },
  {
   "cell_type": "code",
   "execution_count": 20,
   "metadata": {
    "ExecuteTime": {
     "end_time": "2018-03-31T15:44:52.272902Z",
     "start_time": "2018-03-31T15:44:52.241657Z"
    }
   },
   "outputs": [],
   "source": [
    "# AHE\n",
    "df['ahe'].loc['2000-01-01':].to_csv('ahe.csv', header=True, index_label='DATE')\n",
    "ahe1 = '\\\\scriptsize{2018}\\\\\\\\\\scriptsize{Feb}\\\\\\ \\\\textbf{'\n",
    "ahe2 = '{}\\%}}'.format(df['ahe'][-1])\n",
    "ahe = '{}{}'.format(ahe1, ahe2)\n",
    "wt('ahe.txt', ahe)"
   ]
  },
  {
   "cell_type": "code",
   "execution_count": 21,
   "metadata": {
    "ExecuteTime": {
     "end_time": "2018-03-31T15:44:53.163651Z",
     "start_time": "2018-03-31T15:44:53.132395Z"
    }
   },
   "outputs": [],
   "source": [
    "# AHE 12m\n",
    "df['ahe2'].loc['2000-01-01':].to_csv('ahe2.csv', header=True, index_label='DATE')\n",
    "ahe1 = '\\\\scriptsize{2018}\\\\\\\\\\scriptsize{Feb}\\\\\\ \\\\textbf{'\n",
    "ahe2 = '{}\\%}}'.format(df['ahe2'][-1])\n",
    "ahe = '{}{}'.format(ahe1, ahe2)\n",
    "wt('ahe2.txt', ahe)"
   ]
  },
  {
   "cell_type": "code",
   "execution_count": null,
   "metadata": {
    "collapsed": true
   },
   "outputs": [],
   "source": []
  },
  {
   "cell_type": "code",
   "execution_count": 35,
   "metadata": {
    "collapsed": true
   },
   "outputs": [],
   "source": [
    "with open(\"payroll.txt\", \"w\") as text_file:\n",
    "    print('{}{}'.format(payrolls1, payrolls2), file=text_file)"
   ]
  },
  {
   "cell_type": "code",
   "execution_count": 33,
   "metadata": {},
   "outputs": [
    {
     "data": {
      "text/plain": [
       "'\\\\scriptsize{2018}\\\\\\\\scriptsize{Jan}\\\\\\textbf{+148}'"
      ]
     },
     "execution_count": 33,
     "metadata": {},
     "output_type": "execute_result"
    }
   ],
   "source": [
    "payroll"
   ]
  },
  {
   "cell_type": "code",
   "execution_count": 34,
   "metadata": {
    "collapsed": true
   },
   "outputs": [],
   "source": [
    "wt('payroll2.txt', payroll)"
   ]
  },
  {
   "cell_type": "code",
   "execution_count": 10,
   "metadata": {},
   "outputs": [
    {
     "data": {
      "text/html": [
       "<div>\n",
       "<style scoped>\n",
       "    .dataframe tbody tr th:only-of-type {\n",
       "        vertical-align: middle;\n",
       "    }\n",
       "\n",
       "    .dataframe tbody tr th {\n",
       "        vertical-align: top;\n",
       "    }\n",
       "\n",
       "    .dataframe thead th {\n",
       "        text-align: right;\n",
       "    }\n",
       "</style>\n",
       "<table border=\"1\" class=\"dataframe\">\n",
       "  <thead>\n",
       "    <tr style=\"text-align: right;\">\n",
       "      <th></th>\n",
       "      <th>CES0000000001</th>\n",
       "      <th>CES0500000008</th>\n",
       "      <th>LNS12032197</th>\n",
       "      <th>LNS12032200</th>\n",
       "      <th>LNS12035019</th>\n",
       "      <th>LNS12300060</th>\n",
       "      <th>LNS13025703</th>\n",
       "      <th>LNS13327709</th>\n",
       "      <th>LNS14000000</th>\n",
       "      <th>ptec</th>\n",
       "      <th>ptnec</th>\n",
       "      <th>payroll</th>\n",
       "      <th>ahe</th>\n",
       "      <th>ahe2</th>\n",
       "      <th>cpi</th>\n",
       "    </tr>\n",
       "  </thead>\n",
       "  <tbody>\n",
       "    <tr>\n",
       "      <th>2017-09-01</th>\n",
       "      <td>146963.0</td>\n",
       "      <td>22.20</td>\n",
       "      <td>5048.0</td>\n",
       "      <td>20619.0</td>\n",
       "      <td>151942.0</td>\n",
       "      <td>78.9</td>\n",
       "      <td>25.5</td>\n",
       "      <td>8.3</td>\n",
       "      <td>4.2</td>\n",
       "      <td>3.3</td>\n",
       "      <td>13.6</td>\n",
       "      <td>14.0</td>\n",
       "      <td>2.6</td>\n",
       "      <td>2.6</td>\n",
       "      <td>2.2</td>\n",
       "    </tr>\n",
       "    <tr>\n",
       "      <th>2017-10-01</th>\n",
       "      <td>147234.0</td>\n",
       "      <td>22.18</td>\n",
       "      <td>4799.0</td>\n",
       "      <td>20552.0</td>\n",
       "      <td>151334.0</td>\n",
       "      <td>78.9</td>\n",
       "      <td>25.0</td>\n",
       "      <td>8.0</td>\n",
       "      <td>4.1</td>\n",
       "      <td>3.2</td>\n",
       "      <td>13.6</td>\n",
       "      <td>271.0</td>\n",
       "      <td>2.6</td>\n",
       "      <td>2.2</td>\n",
       "      <td>2.0</td>\n",
       "    </tr>\n",
       "    <tr>\n",
       "      <th>2017-11-01</th>\n",
       "      <td>147450.0</td>\n",
       "      <td>22.23</td>\n",
       "      <td>4759.0</td>\n",
       "      <td>20645.0</td>\n",
       "      <td>151453.0</td>\n",
       "      <td>79.0</td>\n",
       "      <td>23.9</td>\n",
       "      <td>8.0</td>\n",
       "      <td>4.1</td>\n",
       "      <td>3.1</td>\n",
       "      <td>13.6</td>\n",
       "      <td>216.0</td>\n",
       "      <td>2.6</td>\n",
       "      <td>2.3</td>\n",
       "      <td>2.2</td>\n",
       "    </tr>\n",
       "    <tr>\n",
       "      <th>2017-12-01</th>\n",
       "      <td>147610.0</td>\n",
       "      <td>22.31</td>\n",
       "      <td>4856.0</td>\n",
       "      <td>20703.0</td>\n",
       "      <td>151478.0</td>\n",
       "      <td>79.1</td>\n",
       "      <td>22.9</td>\n",
       "      <td>8.1</td>\n",
       "      <td>4.1</td>\n",
       "      <td>3.2</td>\n",
       "      <td>13.7</td>\n",
       "      <td>160.0</td>\n",
       "      <td>2.1</td>\n",
       "      <td>2.4</td>\n",
       "      <td>2.1</td>\n",
       "    </tr>\n",
       "    <tr>\n",
       "      <th>2018-01-01</th>\n",
       "      <td>147810.0</td>\n",
       "      <td>22.34</td>\n",
       "      <td>4926.0</td>\n",
       "      <td>20434.0</td>\n",
       "      <td>151894.0</td>\n",
       "      <td>79.0</td>\n",
       "      <td>21.5</td>\n",
       "      <td>8.2</td>\n",
       "      <td>4.1</td>\n",
       "      <td>3.2</td>\n",
       "      <td>13.5</td>\n",
       "      <td>200.0</td>\n",
       "      <td>2.4</td>\n",
       "      <td>2.4</td>\n",
       "      <td>NaN</td>\n",
       "    </tr>\n",
       "  </tbody>\n",
       "</table>\n",
       "</div>"
      ],
      "text/plain": [
       "            CES0000000001  CES0500000008  LNS12032197  LNS12032200  \\\n",
       "2017-09-01       146963.0          22.20       5048.0      20619.0   \n",
       "2017-10-01       147234.0          22.18       4799.0      20552.0   \n",
       "2017-11-01       147450.0          22.23       4759.0      20645.0   \n",
       "2017-12-01       147610.0          22.31       4856.0      20703.0   \n",
       "2018-01-01       147810.0          22.34       4926.0      20434.0   \n",
       "\n",
       "            LNS12035019  LNS12300060  LNS13025703  LNS13327709  LNS14000000  \\\n",
       "2017-09-01     151942.0         78.9         25.5          8.3          4.2   \n",
       "2017-10-01     151334.0         78.9         25.0          8.0          4.1   \n",
       "2017-11-01     151453.0         79.0         23.9          8.0          4.1   \n",
       "2017-12-01     151478.0         79.1         22.9          8.1          4.1   \n",
       "2018-01-01     151894.0         79.0         21.5          8.2          4.1   \n",
       "\n",
       "            ptec  ptnec  payroll  ahe  ahe2  cpi  \n",
       "2017-09-01   3.3   13.6     14.0  2.6   2.6  2.2  \n",
       "2017-10-01   3.2   13.6    271.0  2.6   2.2  2.0  \n",
       "2017-11-01   3.1   13.6    216.0  2.6   2.3  2.2  \n",
       "2017-12-01   3.2   13.7    160.0  2.1   2.4  2.1  \n",
       "2018-01-01   3.2   13.5    200.0  2.4   2.4  NaN  "
      ]
     },
     "execution_count": 10,
     "metadata": {},
     "output_type": "execute_result"
    }
   ],
   "source": [
    "df.tail()"
   ]
  },
  {
   "cell_type": "code",
   "execution_count": null,
   "metadata": {
    "collapsed": true
   },
   "outputs": [],
   "source": []
  },
  {
   "cell_type": "code",
   "execution_count": null,
   "metadata": {
    "collapsed": true
   },
   "outputs": [],
   "source": []
  },
  {
   "cell_type": "code",
   "execution_count": null,
   "metadata": {
    "collapsed": true
   },
   "outputs": [],
   "source": []
  },
  {
   "cell_type": "code",
   "execution_count": 18,
   "metadata": {
    "collapsed": true
   },
   "outputs": [],
   "source": [
    "payrolls2 = '{0:g}}}'.format(df['payroll'][-1])"
   ]
  },
  {
   "cell_type": "code",
   "execution_count": 20,
   "metadata": {},
   "outputs": [
    {
     "data": {
      "text/plain": [
       "'\\\\scriptsize{2018}\\\\\\\\scriptsize{Jan}\\\\\\textbf{+148}'"
      ]
     },
     "execution_count": 20,
     "metadata": {},
     "output_type": "execute_result"
    }
   ],
   "source": [
    "wt('payroll.txt', payroll)"
   ]
  },
  {
   "cell_type": "code",
   "execution_count": null,
   "metadata": {
    "collapsed": true
   },
   "outputs": [],
   "source": []
  },
  {
   "cell_type": "code",
   "execution_count": 21,
   "metadata": {
    "collapsed": true
   },
   "outputs": [],
   "source": [
    "df['payroll'].loc['2000-01-01':].to_csv('payroll.csv', header=True, index_label='DATE')"
   ]
  },
  {
   "cell_type": "code",
   "execution_count": 8,
   "metadata": {},
   "outputs": [
    {
     "data": {
      "text/html": [
       "<div>\n",
       "<style scoped>\n",
       "    .dataframe tbody tr th:only-of-type {\n",
       "        vertical-align: middle;\n",
       "    }\n",
       "\n",
       "    .dataframe tbody tr th {\n",
       "        vertical-align: top;\n",
       "    }\n",
       "\n",
       "    .dataframe thead th {\n",
       "        text-align: right;\n",
       "    }\n",
       "</style>\n",
       "<table border=\"1\" class=\"dataframe\">\n",
       "  <thead>\n",
       "    <tr style=\"text-align: right;\">\n",
       "      <th></th>\n",
       "      <th>CES0000000001</th>\n",
       "      <th>CES0500000008</th>\n",
       "      <th>LNS12032197</th>\n",
       "      <th>LNS12032200</th>\n",
       "      <th>LNS12035019</th>\n",
       "      <th>LNS12300060</th>\n",
       "      <th>LNS13025703</th>\n",
       "      <th>LNS13327709</th>\n",
       "      <th>LNS14000000</th>\n",
       "      <th>ptec</th>\n",
       "      <th>ptnec</th>\n",
       "      <th>payroll</th>\n",
       "      <th>ahe</th>\n",
       "      <th>ahe2</th>\n",
       "      <th>cpi</th>\n",
       "    </tr>\n",
       "  </thead>\n",
       "  <tbody>\n",
       "    <tr>\n",
       "      <th>2017-12-01</th>\n",
       "      <td>147380.0</td>\n",
       "      <td>22.3</td>\n",
       "      <td>4856.0</td>\n",
       "      <td>20703.0</td>\n",
       "      <td>151478.0</td>\n",
       "      <td>79.1</td>\n",
       "      <td>22.9</td>\n",
       "      <td>8.1</td>\n",
       "      <td>4.1</td>\n",
       "      <td>3.2</td>\n",
       "      <td>13.7</td>\n",
       "      <td>148.0</td>\n",
       "      <td>1.7</td>\n",
       "      <td>2.3</td>\n",
       "      <td>2.1</td>\n",
       "    </tr>\n",
       "  </tbody>\n",
       "</table>\n",
       "</div>"
      ],
      "text/plain": [
       "            CES0000000001  CES0500000008  LNS12032197  LNS12032200  \\\n",
       "2017-12-01       147380.0           22.3       4856.0      20703.0   \n",
       "\n",
       "            LNS12035019  LNS12300060  LNS13025703  LNS13327709  LNS14000000  \\\n",
       "2017-12-01     151478.0         79.1         22.9          8.1          4.1   \n",
       "\n",
       "            ptec  ptnec  payroll  ahe  ahe2  cpi  \n",
       "2017-12-01   3.2   13.7    148.0  1.7   2.3  2.1  "
      ]
     },
     "execution_count": 8,
     "metadata": {},
     "output_type": "execute_result"
    }
   ],
   "source": [
    "df.tail(1)"
   ]
  },
  {
   "cell_type": "markdown",
   "metadata": {},
   "source": [
    "#### Use BLS text files to look up series IDs"
   ]
  },
  {
   "cell_type": "code",
   "execution_count": null,
   "metadata": {
    "collapsed": true
   },
   "outputs": [],
   "source": [
    "ln_series = 'https://download.bls.gov/pub/time.series/ln/ln.series'\n",
    "ln = pd.read_table(ln_series, sep=r'\\s*\\t', engine='python')"
   ]
  },
  {
   "cell_type": "code",
   "execution_count": 21,
   "metadata": {},
   "outputs": [
    {
     "data": {
      "text/html": [
       "<div>\n",
       "<style scoped>\n",
       "    .dataframe tbody tr th:only-of-type {\n",
       "        vertical-align: middle;\n",
       "    }\n",
       "\n",
       "    .dataframe tbody tr th {\n",
       "        vertical-align: top;\n",
       "    }\n",
       "\n",
       "    .dataframe thead th {\n",
       "        text-align: right;\n",
       "    }\n",
       "</style>\n",
       "<table border=\"1\" class=\"dataframe\">\n",
       "  <thead>\n",
       "    <tr style=\"text-align: right;\">\n",
       "      <th></th>\n",
       "      <th>series_id</th>\n",
       "      <th>series_title</th>\n",
       "    </tr>\n",
       "  </thead>\n",
       "  <tbody>\n",
       "    <tr>\n",
       "      <th>915</th>\n",
       "      <td>LNS14000006</td>\n",
       "      <td>(Seas) Unemployment Rate - Black or African Am...</td>\n",
       "    </tr>\n",
       "    <tr>\n",
       "      <th>917</th>\n",
       "      <td>LNS14000007</td>\n",
       "      <td>(Seas) Unemployment Rate - Black or African Am...</td>\n",
       "    </tr>\n",
       "    <tr>\n",
       "      <th>919</th>\n",
       "      <td>LNS14000008</td>\n",
       "      <td>(Seas) Unemployment Rate - Black or African Am...</td>\n",
       "    </tr>\n",
       "    <tr>\n",
       "      <th>935</th>\n",
       "      <td>LNS14000018</td>\n",
       "      <td>(Seas) Unemployment Rate - 16-19 yrs., Black o...</td>\n",
       "    </tr>\n",
       "    <tr>\n",
       "      <th>937</th>\n",
       "      <td>LNS14000019</td>\n",
       "      <td>(Seas) Unemployment Rate - 16-19 yrs., Black o...</td>\n",
       "    </tr>\n",
       "    <tr>\n",
       "      <th>939</th>\n",
       "      <td>LNS14000020</td>\n",
       "      <td>(Seas) Unemployment Rate - 16-19 yrs., Black o...</td>\n",
       "    </tr>\n",
       "    <tr>\n",
       "      <th>959</th>\n",
       "      <td>LNS14000030</td>\n",
       "      <td>(Seas) Unemployment Rate - 20 yrs. &amp; over, Bla...</td>\n",
       "    </tr>\n",
       "    <tr>\n",
       "      <th>961</th>\n",
       "      <td>LNS14000031</td>\n",
       "      <td>(Seas) Unemployment Rate - 20 yrs. &amp; over, Bla...</td>\n",
       "    </tr>\n",
       "    <tr>\n",
       "      <th>963</th>\n",
       "      <td>LNS14000032</td>\n",
       "      <td>(Seas) Unemployment Rate - 20 yrs. &amp; over, Bla...</td>\n",
       "    </tr>\n",
       "  </tbody>\n",
       "</table>\n",
       "</div>"
      ],
      "text/plain": [
       "       series_id                                       series_title\n",
       "915  LNS14000006  (Seas) Unemployment Rate - Black or African Am...\n",
       "917  LNS14000007  (Seas) Unemployment Rate - Black or African Am...\n",
       "919  LNS14000008  (Seas) Unemployment Rate - Black or African Am...\n",
       "935  LNS14000018  (Seas) Unemployment Rate - 16-19 yrs., Black o...\n",
       "937  LNS14000019  (Seas) Unemployment Rate - 16-19 yrs., Black o...\n",
       "939  LNS14000020  (Seas) Unemployment Rate - 16-19 yrs., Black o...\n",
       "959  LNS14000030  (Seas) Unemployment Rate - 20 yrs. & over, Bla...\n",
       "961  LNS14000031  (Seas) Unemployment Rate - 20 yrs. & over, Bla...\n",
       "963  LNS14000032  (Seas) Unemployment Rate - 20 yrs. & over, Bla..."
      ]
     },
     "execution_count": 21,
     "metadata": {},
     "output_type": "execute_result"
    }
   ],
   "source": [
    "ln[(ln['series_title'].str.contains('Unemployment Rate')) & \n",
    "   (ln['series_title'].str.contains('Black')) & \n",
    "   (ln['periodicity_code'] == 'M') & \n",
    "   (ln['seasonal'] == 'S')][['series_id', 'series_title']]"
   ]
  },
  {
   "cell_type": "code",
   "execution_count": null,
   "metadata": {
    "collapsed": true
   },
   "outputs": [],
   "source": []
  },
  {
   "cell_type": "markdown",
   "metadata": {
    "collapsed": true
   },
   "source": [
    "#### Labor Productivity and Cost\n",
    "PRS85006092"
   ]
  },
  {
   "cell_type": "code",
   "execution_count": null,
   "metadata": {
    "collapsed": true
   },
   "outputs": [],
   "source": []
  },
  {
   "cell_type": "code",
   "execution_count": 34,
   "metadata": {},
   "outputs": [
    {
     "data": {
      "text/html": [
       "<div>\n",
       "<style scoped>\n",
       "    .dataframe tbody tr th:only-of-type {\n",
       "        vertical-align: middle;\n",
       "    }\n",
       "\n",
       "    .dataframe tbody tr th {\n",
       "        vertical-align: top;\n",
       "    }\n",
       "\n",
       "    .dataframe thead th {\n",
       "        text-align: right;\n",
       "    }\n",
       "</style>\n",
       "<table border=\"1\" class=\"dataframe\">\n",
       "  <thead>\n",
       "    <tr style=\"text-align: right;\">\n",
       "      <th></th>\n",
       "      <th>PRS85006092</th>\n",
       "    </tr>\n",
       "    <tr>\n",
       "      <th>DATE</th>\n",
       "      <th></th>\n",
       "    </tr>\n",
       "  </thead>\n",
       "  <tbody>\n",
       "    <tr>\n",
       "      <th>1973-01-01</th>\n",
       "      <td>51.435</td>\n",
       "    </tr>\n",
       "    <tr>\n",
       "      <th>1973-04-01</th>\n",
       "      <td>51.483</td>\n",
       "    </tr>\n",
       "    <tr>\n",
       "      <th>1973-07-01</th>\n",
       "      <td>50.984</td>\n",
       "    </tr>\n",
       "    <tr>\n",
       "      <th>1973-10-01</th>\n",
       "      <td>50.654</td>\n",
       "    </tr>\n",
       "    <tr>\n",
       "      <th>1974-01-01</th>\n",
       "      <td>50.551</td>\n",
       "    </tr>\n",
       "    <tr>\n",
       "      <th>1974-04-01</th>\n",
       "      <td>50.418</td>\n",
       "    </tr>\n",
       "    <tr>\n",
       "      <th>1974-07-01</th>\n",
       "      <td>49.883</td>\n",
       "    </tr>\n",
       "    <tr>\n",
       "      <th>1974-10-01</th>\n",
       "      <td>50.325</td>\n",
       "    </tr>\n",
       "    <tr>\n",
       "      <th>1975-01-01</th>\n",
       "      <td>50.724</td>\n",
       "    </tr>\n",
       "    <tr>\n",
       "      <th>1975-04-01</th>\n",
       "      <td>51.570</td>\n",
       "    </tr>\n",
       "    <tr>\n",
       "      <th>1975-07-01</th>\n",
       "      <td>52.155</td>\n",
       "    </tr>\n",
       "    <tr>\n",
       "      <th>1975-10-01</th>\n",
       "      <td>52.205</td>\n",
       "    </tr>\n",
       "    <tr>\n",
       "      <th>1976-01-01</th>\n",
       "      <td>52.974</td>\n",
       "    </tr>\n",
       "    <tr>\n",
       "      <th>1976-04-01</th>\n",
       "      <td>53.483</td>\n",
       "    </tr>\n",
       "    <tr>\n",
       "      <th>1976-07-01</th>\n",
       "      <td>53.580</td>\n",
       "    </tr>\n",
       "    <tr>\n",
       "      <th>1976-10-01</th>\n",
       "      <td>53.753</td>\n",
       "    </tr>\n",
       "    <tr>\n",
       "      <th>1977-01-01</th>\n",
       "      <td>54.079</td>\n",
       "    </tr>\n",
       "    <tr>\n",
       "      <th>1977-04-01</th>\n",
       "      <td>54.311</td>\n",
       "    </tr>\n",
       "    <tr>\n",
       "      <th>1977-07-01</th>\n",
       "      <td>54.851</td>\n",
       "    </tr>\n",
       "    <tr>\n",
       "      <th>1977-10-01</th>\n",
       "      <td>54.147</td>\n",
       "    </tr>\n",
       "    <tr>\n",
       "      <th>1978-01-01</th>\n",
       "      <td>54.182</td>\n",
       "    </tr>\n",
       "    <tr>\n",
       "      <th>1978-04-01</th>\n",
       "      <td>55.244</td>\n",
       "    </tr>\n",
       "    <tr>\n",
       "      <th>1978-07-01</th>\n",
       "      <td>55.246</td>\n",
       "    </tr>\n",
       "    <tr>\n",
       "      <th>1978-10-01</th>\n",
       "      <td>55.595</td>\n",
       "    </tr>\n",
       "    <tr>\n",
       "      <th>1979-01-01</th>\n",
       "      <td>55.099</td>\n",
       "    </tr>\n",
       "    <tr>\n",
       "      <th>1979-04-01</th>\n",
       "      <td>54.947</td>\n",
       "    </tr>\n",
       "    <tr>\n",
       "      <th>1979-07-01</th>\n",
       "      <td>54.888</td>\n",
       "    </tr>\n",
       "    <tr>\n",
       "      <th>1979-10-01</th>\n",
       "      <td>54.839</td>\n",
       "    </tr>\n",
       "    <tr>\n",
       "      <th>1980-01-01</th>\n",
       "      <td>55.100</td>\n",
       "    </tr>\n",
       "    <tr>\n",
       "      <th>1980-04-01</th>\n",
       "      <td>54.502</td>\n",
       "    </tr>\n",
       "    <tr>\n",
       "      <th>...</th>\n",
       "      <td>...</td>\n",
       "    </tr>\n",
       "    <tr>\n",
       "      <th>2010-04-01</th>\n",
       "      <td>103.003</td>\n",
       "    </tr>\n",
       "    <tr>\n",
       "      <th>2010-07-01</th>\n",
       "      <td>103.520</td>\n",
       "    </tr>\n",
       "    <tr>\n",
       "      <th>2010-10-01</th>\n",
       "      <td>103.943</td>\n",
       "    </tr>\n",
       "    <tr>\n",
       "      <th>2011-01-01</th>\n",
       "      <td>103.078</td>\n",
       "    </tr>\n",
       "    <tr>\n",
       "      <th>2011-04-01</th>\n",
       "      <td>103.420</td>\n",
       "    </tr>\n",
       "    <tr>\n",
       "      <th>2011-07-01</th>\n",
       "      <td>103.233</td>\n",
       "    </tr>\n",
       "    <tr>\n",
       "      <th>2011-10-01</th>\n",
       "      <td>103.948</td>\n",
       "    </tr>\n",
       "    <tr>\n",
       "      <th>2012-01-01</th>\n",
       "      <td>104.093</td>\n",
       "    </tr>\n",
       "    <tr>\n",
       "      <th>2012-04-01</th>\n",
       "      <td>104.699</td>\n",
       "    </tr>\n",
       "    <tr>\n",
       "      <th>2012-07-01</th>\n",
       "      <td>104.522</td>\n",
       "    </tr>\n",
       "    <tr>\n",
       "      <th>2012-10-01</th>\n",
       "      <td>104.057</td>\n",
       "    </tr>\n",
       "    <tr>\n",
       "      <th>2013-01-01</th>\n",
       "      <td>104.286</td>\n",
       "    </tr>\n",
       "    <tr>\n",
       "      <th>2013-04-01</th>\n",
       "      <td>104.116</td>\n",
       "    </tr>\n",
       "    <tr>\n",
       "      <th>2013-07-01</th>\n",
       "      <td>104.541</td>\n",
       "    </tr>\n",
       "    <tr>\n",
       "      <th>2013-10-01</th>\n",
       "      <td>105.676</td>\n",
       "    </tr>\n",
       "    <tr>\n",
       "      <th>2014-01-01</th>\n",
       "      <td>104.774</td>\n",
       "    </tr>\n",
       "    <tr>\n",
       "      <th>2014-04-01</th>\n",
       "      <td>105.386</td>\n",
       "    </tr>\n",
       "    <tr>\n",
       "      <th>2014-07-01</th>\n",
       "      <td>106.530</td>\n",
       "    </tr>\n",
       "    <tr>\n",
       "      <th>2014-10-01</th>\n",
       "      <td>106.037</td>\n",
       "    </tr>\n",
       "    <tr>\n",
       "      <th>2015-01-01</th>\n",
       "      <td>106.748</td>\n",
       "    </tr>\n",
       "    <tr>\n",
       "      <th>2015-04-01</th>\n",
       "      <td>107.081</td>\n",
       "    </tr>\n",
       "    <tr>\n",
       "      <th>2015-07-01</th>\n",
       "      <td>107.426</td>\n",
       "    </tr>\n",
       "    <tr>\n",
       "      <th>2015-10-01</th>\n",
       "      <td>106.732</td>\n",
       "    </tr>\n",
       "    <tr>\n",
       "      <th>2016-01-01</th>\n",
       "      <td>106.417</td>\n",
       "    </tr>\n",
       "    <tr>\n",
       "      <th>2016-04-01</th>\n",
       "      <td>106.638</td>\n",
       "    </tr>\n",
       "    <tr>\n",
       "      <th>2016-07-01</th>\n",
       "      <td>107.295</td>\n",
       "    </tr>\n",
       "    <tr>\n",
       "      <th>2016-10-01</th>\n",
       "      <td>107.630</td>\n",
       "    </tr>\n",
       "    <tr>\n",
       "      <th>2017-01-01</th>\n",
       "      <td>107.664</td>\n",
       "    </tr>\n",
       "    <tr>\n",
       "      <th>2017-04-01</th>\n",
       "      <td>108.069</td>\n",
       "    </tr>\n",
       "    <tr>\n",
       "      <th>2017-07-01</th>\n",
       "      <td>108.865</td>\n",
       "    </tr>\n",
       "  </tbody>\n",
       "</table>\n",
       "<p>179 rows × 1 columns</p>\n",
       "</div>"
      ],
      "text/plain": [
       "            PRS85006092\n",
       "DATE                   \n",
       "1973-01-01       51.435\n",
       "1973-04-01       51.483\n",
       "1973-07-01       50.984\n",
       "1973-10-01       50.654\n",
       "1974-01-01       50.551\n",
       "1974-04-01       50.418\n",
       "1974-07-01       49.883\n",
       "1974-10-01       50.325\n",
       "1975-01-01       50.724\n",
       "1975-04-01       51.570\n",
       "1975-07-01       52.155\n",
       "1975-10-01       52.205\n",
       "1976-01-01       52.974\n",
       "1976-04-01       53.483\n",
       "1976-07-01       53.580\n",
       "1976-10-01       53.753\n",
       "1977-01-01       54.079\n",
       "1977-04-01       54.311\n",
       "1977-07-01       54.851\n",
       "1977-10-01       54.147\n",
       "1978-01-01       54.182\n",
       "1978-04-01       55.244\n",
       "1978-07-01       55.246\n",
       "1978-10-01       55.595\n",
       "1979-01-01       55.099\n",
       "1979-04-01       54.947\n",
       "1979-07-01       54.888\n",
       "1979-10-01       54.839\n",
       "1980-01-01       55.100\n",
       "1980-04-01       54.502\n",
       "...                 ...\n",
       "2010-04-01      103.003\n",
       "2010-07-01      103.520\n",
       "2010-10-01      103.943\n",
       "2011-01-01      103.078\n",
       "2011-04-01      103.420\n",
       "2011-07-01      103.233\n",
       "2011-10-01      103.948\n",
       "2012-01-01      104.093\n",
       "2012-04-01      104.699\n",
       "2012-07-01      104.522\n",
       "2012-10-01      104.057\n",
       "2013-01-01      104.286\n",
       "2013-04-01      104.116\n",
       "2013-07-01      104.541\n",
       "2013-10-01      105.676\n",
       "2014-01-01      104.774\n",
       "2014-04-01      105.386\n",
       "2014-07-01      106.530\n",
       "2014-10-01      106.037\n",
       "2015-01-01      106.748\n",
       "2015-04-01      107.081\n",
       "2015-07-01      107.426\n",
       "2015-10-01      106.732\n",
       "2016-01-01      106.417\n",
       "2016-04-01      106.638\n",
       "2016-07-01      107.295\n",
       "2016-10-01      107.630\n",
       "2017-01-01      107.664\n",
       "2017-04-01      108.069\n",
       "2017-07-01      108.865\n",
       "\n",
       "[179 rows x 1 columns]"
      ]
     },
     "execution_count": 34,
     "metadata": {},
     "output_type": "execute_result"
    }
   ],
   "source": [
    "dft"
   ]
  },
  {
   "cell_type": "code",
   "execution_count": null,
   "metadata": {
    "collapsed": true
   },
   "outputs": [],
   "source": []
  },
  {
   "cell_type": "code",
   "execution_count": null,
   "metadata": {
    "collapsed": true
   },
   "outputs": [],
   "source": []
  },
  {
   "cell_type": "code",
   "execution_count": null,
   "metadata": {
    "collapsed": true
   },
   "outputs": [],
   "source": []
  },
  {
   "cell_type": "code",
   "execution_count": null,
   "metadata": {
    "collapsed": true
   },
   "outputs": [],
   "source": []
  },
  {
   "cell_type": "code",
   "execution_count": null,
   "metadata": {
    "collapsed": true
   },
   "outputs": [],
   "source": []
  },
  {
   "cell_type": "code",
   "execution_count": null,
   "metadata": {
    "collapsed": true
   },
   "outputs": [],
   "source": []
  },
  {
   "cell_type": "code",
   "execution_count": null,
   "metadata": {
    "collapsed": true
   },
   "outputs": [],
   "source": []
  },
  {
   "cell_type": "code",
   "execution_count": 15,
   "metadata": {
    "collapsed": true
   },
   "outputs": [],
   "source": [
    "ln_series = 'https://download.bls.gov/pub/time.series/ln/ln.series'\n",
    "ln = pd.read_table(ln_series, sep=r'\\s*\\t', engine='python')"
   ]
  },
  {
   "cell_type": "code",
   "execution_count": null,
   "metadata": {
    "collapsed": true
   },
   "outputs": [],
   "source": [
    "ce['series_id'].str"
   ]
  },
  {
   "cell_type": "code",
   "execution_count": 9,
   "metadata": {
    "collapsed": true
   },
   "outputs": [],
   "source": [
    "ce_series = 'https://download.bls.gov/pub/time.series/ce/ce.series'\n",
    "ln_series = 'https://download.bls.gov/pub/time.series/ln/ln.series'"
   ]
  },
  {
   "cell_type": "code",
   "execution_count": null,
   "metadata": {
    "collapsed": true
   },
   "outputs": [],
   "source": [
    "s[0][1]"
   ]
  },
  {
   "cell_type": "code",
   "execution_count": null,
   "metadata": {
    "collapsed": true
   },
   "outputs": [],
   "source": [
    "d = {}\n",
    "for i in ['ln', 'ce']:\n",
    "    url = f'https://download.bls.gov/pub/time.series/{i}/{i}.series'\n",
    "    t = pd.read_table(url, sep=r'\\s*\\t', engine='python')\n",
    "    t = t[t['series_id'].isin([i[1] for i in s])].set_index('series_id')['series_title']\n",
    "    for k, v in t.items(): d[k] = v"
   ]
  },
  {
   "cell_type": "code",
   "execution_count": null,
   "metadata": {
    "collapsed": true
   },
   "outputs": [],
   "source": [
    "t[t['series_id'].isin([i[1] for i in s])].set_index('series_id')['series_title']"
   ]
  },
  {
   "cell_type": "code",
   "execution_count": null,
   "metadata": {
    "collapsed": true
   },
   "outputs": [],
   "source": [
    "    \n",
    "ce_series = 'https://download.bls.gov/pub/time.series/ce/ce.series'\n",
    "ln_series = 'https://download.bls.gov/pub/time.series/ln/ln.series'\n",
    "ce = pd.read_table(ce_series, sep=r'\\s*\\t', engine='python')[['series_id', 'series_title']]\n",
    "ln = pd.read_table(ln_series, sep=r'\\s*\\t', engine='python')[['series_id', 'series_title']]\n",
    "\n",
    "ce[ce['series_id'].isin([i[1] for i in s])].append(ln[ln['series_id'].isin([i[1] for i in s])])"
   ]
  },
  {
   "cell_type": "code",
   "execution_count": null,
   "metadata": {
    "collapsed": true
   },
   "outputs": [],
   "source": [
    "ce['series_id'][0]"
   ]
  },
  {
   "cell_type": "code",
   "execution_count": null,
   "metadata": {
    "collapsed": true
   },
   "outputs": [],
   "source": [
    "ce[ce['series_id'].isin([i[1] for i in s])].append(ln[ln['series_id'].isin([i[1] for i in s])])"
   ]
  },
  {
   "cell_type": "code",
   "execution_count": null,
   "metadata": {
    "collapsed": true
   },
   "outputs": [],
   "source": [
    "ce['series_id'][0]"
   ]
  },
  {
   "cell_type": "code",
   "execution_count": null,
   "metadata": {
    "collapsed": true
   },
   "outputs": [],
   "source": [
    "ce.iloc[0]['series_title']"
   ]
  },
  {
   "cell_type": "code",
   "execution_count": null,
   "metadata": {
    "collapsed": true
   },
   "outputs": [],
   "source": [
    "ce"
   ]
  },
  {
   "cell_type": "code",
   "execution_count": null,
   "metadata": {
    "collapsed": true
   },
   "outputs": [],
   "source": []
  },
  {
   "cell_type": "code",
   "execution_count": null,
   "metadata": {
    "collapsed": true
   },
   "outputs": [],
   "source": [
    "df['ahe'] = df['CES0500000008'].rolling(3).sum().pct_change(3)\n",
    "df['ahe'] = ((((df['ahe']+1)**4)-1)*100).round(1) # annualize"
   ]
  },
  {
   "cell_type": "code",
   "execution_count": null,
   "metadata": {
    "collapsed": true
   },
   "outputs": [],
   "source": [
    "(((df['CES0500000008'].rolling(3).sum().pct_change(3)+1)**4)-1)*100 "
   ]
  },
  {
   "cell_type": "code",
   "execution_count": null,
   "metadata": {
    "collapsed": true
   },
   "outputs": [],
   "source": [
    "df['ahe3'] = agr(df['CES0500000008'])\n",
    "df['ahe2'] = (df['CES0500000008'].pct_change(12) * 100).round(1)\n",
    "\n",
    "df[['ahe2', 'ahe3']].tail()"
   ]
  },
  {
   "cell_type": "code",
   "execution_count": null,
   "metadata": {
    "collapsed": true
   },
   "outputs": [],
   "source": []
  },
  {
   "cell_type": "code",
   "execution_count": null,
   "metadata": {
    "collapsed": true
   },
   "outputs": [],
   "source": [
    "d"
   ]
  },
  {
   "cell_type": "code",
   "execution_count": null,
   "metadata": {
    "collapsed": true
   },
   "outputs": [],
   "source": [
    "cpi.columns = ['cpi']"
   ]
  },
  {
   "cell_type": "code",
   "execution_count": null,
   "metadata": {
    "collapsed": true
   },
   "outputs": [],
   "source": [
    "cpi"
   ]
  },
  {
   "cell_type": "code",
   "execution_count": null,
   "metadata": {
    "collapsed": true
   },
   "outputs": [],
   "source": []
  },
  {
   "cell_type": "code",
   "execution_count": null,
   "metadata": {
    "collapsed": true
   },
   "outputs": [],
   "source": []
  },
  {
   "cell_type": "code",
   "execution_count": null,
   "metadata": {
    "collapsed": true
   },
   "outputs": [],
   "source": []
  },
  {
   "cell_type": "code",
   "execution_count": null,
   "metadata": {
    "collapsed": true
   },
   "outputs": [],
   "source": []
  },
  {
   "cell_type": "code",
   "execution_count": null,
   "metadata": {
    "collapsed": true
   },
   "outputs": [],
   "source": []
  },
  {
   "cell_type": "code",
   "execution_count": null,
   "metadata": {
    "collapsed": true
   },
   "outputs": [],
   "source": []
  },
  {
   "cell_type": "code",
   "execution_count": null,
   "metadata": {
    "collapsed": true
   },
   "outputs": [],
   "source": []
  },
  {
   "cell_type": "code",
   "execution_count": null,
   "metadata": {
    "collapsed": true
   },
   "outputs": [],
   "source": [
    "cpi = pdr(['CPIAUCSL'], 'fred', rng[0], pd.to_datetime('2017-12-31'))"
   ]
  },
  {
   "cell_type": "code",
   "execution_count": null,
   "metadata": {
    "collapsed": true
   },
   "outputs": [],
   "source": [
    "cpi"
   ]
  },
  {
   "cell_type": "code",
   "execution_count": null,
   "metadata": {
    "collapsed": true
   },
   "outputs": [],
   "source": [
    "df = df.join(cpi.pct_change(12) * 100)"
   ]
  },
  {
   "cell_type": "code",
   "execution_count": null,
   "metadata": {
    "collapsed": true
   },
   "outputs": [],
   "source": [
    "df['ahe2'] = df['CES0500000008'].pct_change(12) * 100"
   ]
  },
  {
   "cell_type": "code",
   "execution_count": null,
   "metadata": {
    "collapsed": true
   },
   "outputs": [],
   "source": []
  },
  {
   "cell_type": "code",
   "execution_count": null,
   "metadata": {
    "collapsed": true
   },
   "outputs": [],
   "source": [
    "%matplotlib inline\n",
    "df.loc['1995-01-01':,['LNS14000000', 'LNS13327709']].plot()"
   ]
  },
  {
   "cell_type": "code",
   "execution_count": null,
   "metadata": {
    "collapsed": true
   },
   "outputs": [],
   "source": [
    "df.loc['1995-01-01':,'LNS12300060'].plot()"
   ]
  },
  {
   "cell_type": "code",
   "execution_count": null,
   "metadata": {
    "collapsed": true
   },
   "outputs": [],
   "source": [
    "df.loc['1995-01-01':,['ahe2', 'ahe', 'CWSR0000SA0']].plot()"
   ]
  },
  {
   "cell_type": "code",
   "execution_count": null,
   "metadata": {
    "collapsed": true
   },
   "outputs": [],
   "source": [
    "df.loc['1994-01-01':,['ptnec', 'ptec']].rolling(12).mean().plot()"
   ]
  },
  {
   "cell_type": "code",
   "execution_count": null,
   "metadata": {
    "collapsed": true
   },
   "outputs": [],
   "source": [
    "df.loc['1995-01-01':,'payroll'].plot()"
   ]
  },
  {
   "cell_type": "code",
   "execution_count": null,
   "metadata": {
    "collapsed": true
   },
   "outputs": [],
   "source": []
  },
  {
   "cell_type": "code",
   "execution_count": null,
   "metadata": {
    "collapsed": true
   },
   "outputs": [],
   "source": []
  },
  {
   "cell_type": "code",
   "execution_count": null,
   "metadata": {
    "collapsed": true
   },
   "outputs": [],
   "source": []
  },
  {
   "cell_type": "code",
   "execution_count": null,
   "metadata": {
    "collapsed": true
   },
   "outputs": [],
   "source": []
  },
  {
   "cell_type": "code",
   "execution_count": null,
   "metadata": {
    "collapsed": true
   },
   "outputs": [],
   "source": [
    "df = df_prev.append(df)"
   ]
  },
  {
   "cell_type": "code",
   "execution_count": null,
   "metadata": {
    "collapsed": true
   },
   "outputs": [],
   "source": [
    "(df['CES0500000003'].rolling(3).mean().pct_change(3)\n",
    "             .add(1).pow(4).subtract(1).multiply(100).round(1))"
   ]
  },
  {
   "cell_type": "code",
   "execution_count": null,
   "metadata": {
    "collapsed": true
   },
   "outputs": [],
   "source": [
    "df_prev.columns = [s_id for name, s_id in s]"
   ]
  },
  {
   "cell_type": "code",
   "execution_count": null,
   "metadata": {
    "collapsed": true
   },
   "outputs": [],
   "source": [
    "df_prev"
   ]
  },
  {
   "cell_type": "code",
   "execution_count": null,
   "metadata": {
    "collapsed": true
   },
   "outputs": [],
   "source": []
  },
  {
   "cell_type": "code",
   "execution_count": null,
   "metadata": {
    "collapsed": true
   },
   "outputs": [],
   "source": []
  },
  {
   "cell_type": "code",
   "execution_count": null,
   "metadata": {
    "collapsed": true
   },
   "outputs": [],
   "source": []
  },
  {
   "cell_type": "code",
   "execution_count": null,
   "metadata": {
    "collapsed": true
   },
   "outputs": [],
   "source": [
    "df"
   ]
  },
  {
   "cell_type": "code",
   "execution_count": null,
   "metadata": {
    "collapsed": true
   },
   "outputs": [],
   "source": []
  },
  {
   "cell_type": "code",
   "execution_count": null,
   "metadata": {
    "collapsed": true
   },
   "outputs": [],
   "source": []
  },
  {
   "cell_type": "code",
   "execution_count": null,
   "metadata": {
    "collapsed": true
   },
   "outputs": [],
   "source": [
    "pd.to_datetime(['1973-01-01', '2015-12-31'])[0]"
   ]
  },
  {
   "cell_type": "code",
   "execution_count": null,
   "metadata": {
    "collapsed": true
   },
   "outputs": [],
   "source": []
  },
  {
   "cell_type": "code",
   "execution_count": null,
   "metadata": {
    "collapsed": true
   },
   "outputs": [],
   "source": []
  },
  {
   "cell_type": "code",
   "execution_count": null,
   "metadata": {
    "collapsed": true
   },
   "outputs": [],
   "source": []
  },
  {
   "cell_type": "code",
   "execution_count": null,
   "metadata": {
    "collapsed": true
   },
   "outputs": [],
   "source": []
  },
  {
   "cell_type": "code",
   "execution_count": null,
   "metadata": {
    "collapsed": true
   },
   "outputs": [],
   "source": []
  },
  {
   "cell_type": "markdown",
   "metadata": {},
   "source": [
    "### Turn json data into a pandas dataframe"
   ]
  },
  {
   "cell_type": "code",
   "execution_count": null,
   "metadata": {
    "collapsed": true
   },
   "outputs": [],
   "source": [
    "# Build dataframe df from the API results, p\n",
    "df = pd.DataFrame() # Empty dataframe to fill with values\n",
    "for s in p: df[s['seriesID']] = pd.Series(index = idx, \n",
    "        data = [i['value'] for i in s['data']]\n",
    "        ).astype(float).iloc[::-1]"
   ]
  },
  {
   "cell_type": "markdown",
   "metadata": {},
   "source": [
    "### Calculate series for graphs"
   ]
  },
  {
   "cell_type": "code",
   "execution_count": null,
   "metadata": {
    "collapsed": true
   },
   "outputs": [],
   "source": []
  },
  {
   "cell_type": "code",
   "execution_count": null,
   "metadata": {
    "collapsed": true
   },
   "outputs": [],
   "source": [
    "print(f\"Latest: {idx[0]:%B %Y}\") "
   ]
  },
  {
   "cell_type": "code",
   "execution_count": null,
   "metadata": {
    "collapsed": true
   },
   "outputs": [],
   "source": []
  },
  {
   "cell_type": "code",
   "execution_count": null,
   "metadata": {
    "collapsed": true
   },
   "outputs": [],
   "source": []
  },
  {
   "cell_type": "code",
   "execution_count": null,
   "metadata": {
    "collapsed": true
   },
   "outputs": [],
   "source": []
  },
  {
   "cell_type": "code",
   "execution_count": null,
   "metadata": {
    "collapsed": true
   },
   "outputs": [],
   "source": []
  },
  {
   "cell_type": "code",
   "execution_count": null,
   "metadata": {
    "collapsed": true
   },
   "outputs": [],
   "source": [
    "today = datetime.datetime.now()\n",
    "print(f'Cell run: {today:%b %d, %Y}')"
   ]
  },
  {
   "cell_type": "code",
   "execution_count": null,
   "metadata": {
    "collapsed": true
   },
   "outputs": [],
   "source": [
    "['{} {}'.format(i['period'], i['year']) for i in r]"
   ]
  },
  {
   "cell_type": "code",
   "execution_count": null,
   "metadata": {
    "collapsed": true
   },
   "outputs": [],
   "source": [
    "idx = pd.to_datetime([f\"{i['period']} {i['year']}\" for i in p[0]['data']])"
   ]
  },
  {
   "cell_type": "code",
   "execution_count": null,
   "metadata": {
    "collapsed": true
   },
   "outputs": [],
   "source": [
    "dd = {}\n",
    "for x, y in s:\n",
    "    if \n",
    "    dd[x]\n",
    "    data = {param['seriesid'][0]: [float(i['value']) for i in r]}"
   ]
  },
  {
   "cell_type": "code",
   "execution_count": null,
   "metadata": {
    "collapsed": true
   },
   "outputs": [],
   "source": [
    "# Empty dictionary to fill with values\n",
    "dd = {}\n",
    "\n",
    "# Build a pandas series from the API results, p\n",
    "for s in p:\n",
    "    dd[s['seriesID']] = pd.Series(index = idx, \n",
    "        data = [i['value'] for i in s['data']]\n",
    "        ).astype(float).iloc[::-1]\n",
    "\n",
    "# Combine series into one pandas dataframe\n",
    "df = pd.DataFrame(dd)"
   ]
  },
  {
   "cell_type": "code",
   "execution_count": null,
   "metadata": {
    "collapsed": true
   },
   "outputs": [],
   "source": [
    "p"
   ]
  },
  {
   "cell_type": "code",
   "execution_count": null,
   "metadata": {
    "collapsed": true
   },
   "outputs": [],
   "source": []
  },
  {
   "cell_type": "code",
   "execution_count": null,
   "metadata": {
    "collapsed": true
   },
   "outputs": [],
   "source": [
    "# List comprehensions - clean json data and covert the \n",
    "# date, value, and footnote into pandas dataframe columns\n",
    "dates = ['{} {}'.format(i['period'], i['year']) for i in r]\n",
    "index = pd.to_datetime(dates)\n",
    "data = {param['seriesid'][0]: [float(i['value']) for i in r]}\n",
    "# .iloc[::-1] reverses the sorting/order of the dataframe\n",
    "df = pd.DataFrame(index=index, data=data).iloc[::-1]"
   ]
  },
  {
   "cell_type": "code",
   "execution_count": null,
   "metadata": {
    "collapsed": true
   },
   "outputs": [],
   "source": []
  },
  {
   "cell_type": "code",
   "execution_count": null,
   "metadata": {
    "collapsed": true
   },
   "outputs": [],
   "source": []
  },
  {
   "cell_type": "code",
   "execution_count": null,
   "metadata": {
    "collapsed": true
   },
   "outputs": [],
   "source": []
  },
  {
   "cell_type": "code",
   "execution_count": null,
   "metadata": {
    "collapsed": true
   },
   "outputs": [],
   "source": []
  }
 ],
 "metadata": {
  "kernelspec": {
   "display_name": "Python 3",
   "language": "python",
   "name": "python3"
  },
  "language_info": {
   "codemirror_mode": {
    "name": "ipython",
    "version": 3
   },
   "file_extension": ".py",
   "mimetype": "text/x-python",
   "name": "python",
   "nbconvert_exporter": "python",
   "pygments_lexer": "ipython3",
   "version": "3.6.4"
  }
 },
 "nbformat": 4,
 "nbformat_minor": 2
}
