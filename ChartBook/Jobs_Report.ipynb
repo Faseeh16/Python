{
 "cells": [
  {
   "cell_type": "markdown",
   "metadata": {},
   "source": [
    "# Data_Collector: Jobs Report\n",
    "------\n",
    "\n",
    "Updated: January 23, 2018\n",
    "\n",
    "Status: Collects series, need to do calculations and export\n",
    "\n",
    "Descr: Python code for reading the BLS jobs report on the first friday of the month, at 8:30am. [PDF release](https://www.bls.gov/news.release/pdf/empsit.pdf)\n",
    "\n",
    "To Do: Text calculations. Make charts. combine charts and save as picture.\n",
    "\n",
    "------\n",
    "\n",
    "\n"
   ]
  },
  {
   "cell_type": "markdown",
   "metadata": {},
   "source": [
    "#### Packages - Run early"
   ]
  },
  {
   "cell_type": "code",
   "execution_count": 1,
   "metadata": {
    "ExecuteTime": {
     "end_time": "2018-04-06T12:20:23.187187Z",
     "start_time": "2018-04-06T12:20:20.026892Z"
    }
   },
   "outputs": [
    {
     "name": "stdout",
     "output_type": "stream",
     "text": [
      "python 3.6\n",
      "pandas 0.22.0\n"
     ]
    }
   ],
   "source": [
    "import sys # Check which version of python is being used\n",
    "print(f'python {sys.version_info[0]}.{sys.version_info[1]}')\n",
    "import pandas as pd    # Pandas to organize and make calcs\n",
    "print(f'pandas {pd.__version__}')\n",
    "from pandas_datareader.data import DataReader as pdr \n",
    "import requests        # Make requests to econ data APIs\n",
    "import json            # Work with JSON data\n",
    "import config          # Local file config.py with BLS API key"
   ]
  },
  {
   "cell_type": "markdown",
   "metadata": {},
   "source": [
    "#### Define custom functions - run early"
   ]
  },
  {
   "cell_type": "code",
   "execution_count": 2,
   "metadata": {
    "ExecuteTime": {
     "end_time": "2018-04-06T12:20:27.799586Z",
     "start_time": "2018-04-06T12:20:27.796092Z"
    }
   },
   "outputs": [],
   "source": [
    "# Define some tools to use later in calculations\n",
    "def pr(series):\n",
    "    '''Multiply by 100 and round'''\n",
    "    return (series * 100).round(1)\n",
    "\n",
    "def agr(series):\n",
    "    '''Calculate percent change from year ago'''\n",
    "    return pr(series.pct_change(12))\n",
    "\n",
    "def gr3(series):\n",
    "    '''Calculate 3 month moving average and annualize'''\n",
    "    return pr(((series.rolling(3).sum().pct_change(3) + 1) ** 4) - 1)\n",
    "\n",
    "# Write text for chart annotations\n",
    "def wt(filename, filetext):\n",
    "    '''Write string to txt file'''\n",
    "    with open(filename, 'w') as text_file:\n",
    "        text_file.write(filetext)"
   ]
  },
  {
   "cell_type": "markdown",
   "metadata": {},
   "source": [
    "#### Parameters - Inspect and run early"
   ]
  },
  {
   "cell_type": "code",
   "execution_count": 3,
   "metadata": {
    "ExecuteTime": {
     "end_time": "2018-04-06T12:20:43.241135Z",
     "start_time": "2018-04-06T12:20:43.236622Z"
    }
   },
   "outputs": [],
   "source": [
    "# API access to Bureau of Labor Statistics data\n",
    "url = 'https://api.bls.gov/publicAPI/v2/timeseries/data/'\n",
    "# API key in config.py which contains: bls_key = 'key'\n",
    "key = '?registrationkey={}'.format(config.bls_key)\n",
    "# Series of interest, format is: ('Fred ID', 'BLS ID')\n",
    "#s = [('OPHNFB', 'PRS85006092')]\n",
    "s = [('PAYEMS', 'CES0000000001'), ('UNRATE', 'LNS14000000'), \n",
    "     ('U6RATE', 'LNS13327709'), ('LNS12300060', 'LNS12300060'), \n",
    "     ('AHETPI', 'CES0500000008'), ('LNS12032197', 'LNS12032197'), \n",
    "     ('LNS12032200', 'LNS12032200'), ('LNS12035019', 'LNS12035019'),\n",
    "     ('LNS13025703', 'LNS13025703')]\n",
    "\n",
    "headers = {'Content-type': 'application/json'}    # Request json fmt\n",
    "param = {\"seriesid\": [i[1] for i in s],           \n",
    "         \"startyear\": \"2016\", \"endyear\": \"2018\"}  # Update for 2018"
   ]
  },
  {
   "cell_type": "markdown",
   "metadata": {},
   "source": [
    "#### Use BLS text table with series info to collect the name of each series in s - run early"
   ]
  },
  {
   "cell_type": "code",
   "execution_count": 4,
   "metadata": {
    "ExecuteTime": {
     "end_time": "2018-04-06T12:20:50.563642Z",
     "start_time": "2018-04-06T12:20:45.283544Z"
    }
   },
   "outputs": [],
   "source": [
    "d = {}    # Dictionary to fill with series names\n",
    "for i in ['ln', 'ce']:\n",
    "    url2 = f'https://download.bls.gov/pub/time.series/{i}/{i}.series'\n",
    "    t = pd.read_table(url2, sep=r'\\s*\\t', engine='python')\n",
    "    t = t[t['series_id'].isin([i[1] for i in s])].set_index('series_id')['series_title']\n",
    "    for k, v in t.items(): d[k] = v"
   ]
  },
  {
   "cell_type": "markdown",
   "metadata": {},
   "source": [
    "#### Get long-term values from FRED - Inspect and run early"
   ]
  },
  {
   "cell_type": "code",
   "execution_count": 5,
   "metadata": {
    "ExecuteTime": {
     "end_time": "2018-04-06T12:20:56.633555Z",
     "start_time": "2018-04-06T12:20:54.748116Z"
    }
   },
   "outputs": [],
   "source": [
    "# Start and end date in datetime format\n",
    "rng = pd.to_datetime(['1973-01-01', '2015-12-31', '2017-12-31'])\n",
    "dft = pdr([i[0] for i in s], 'fred', rng[0], rng[1])\n",
    "dft.columns = [i[1] for i in s]  # Rename to match with BLS"
   ]
  },
  {
   "cell_type": "markdown",
   "metadata": {},
   "source": [
    "#### Request Jobs Report data from BLS API - run at 8:31"
   ]
  },
  {
   "cell_type": "code",
   "execution_count": 20,
   "metadata": {
    "ExecuteTime": {
     "end_time": "2018-04-06T12:37:28.468184Z",
     "start_time": "2018-04-06T12:37:24.639682Z"
    }
   },
   "outputs": [
    {
     "name": "stdout",
     "output_type": "stream",
     "text": [
      "Status: REQUEST_SUCCEEDED\n",
      "Latest: March 2018\n"
     ]
    }
   ],
   "source": [
    "# Request all of the series in s\n",
    "p = requests.post(f'{url}{key}', data=json.dumps(param), headers=headers).json()\n",
    "print(f\"Status: {p['status']}\") # Print request status\n",
    "p = p['Results']['series']  # Keep data portion of post results\n",
    "\n",
    "# Use first series to get the datetime values\n",
    "idx = pd.to_datetime([f\"{i['period'][1:]} {i['year']}\" for i in p[0]['data']])\n",
    "print(f'Latest: {idx[0]:%B %Y}') # Print latest value"
   ]
  },
  {
   "cell_type": "code",
   "execution_count": 21,
   "metadata": {
    "ExecuteTime": {
     "end_time": "2018-04-06T12:37:33.953132Z",
     "start_time": "2018-04-06T12:37:33.937505Z"
    }
   },
   "outputs": [
    {
     "data": {
      "text/plain": [
       "[27, 27, 27, 27, 27, 27, 27, 27, 27]"
      ]
     },
     "execution_count": 21,
     "metadata": {},
     "output_type": "execute_result"
    }
   ],
   "source": [
    "[len(i['data']) for i in p]"
   ]
  },
  {
   "cell_type": "markdown",
   "metadata": {},
   "source": [
    "#### Clean up and make calculations for series of interest"
   ]
  },
  {
   "cell_type": "code",
   "execution_count": 22,
   "metadata": {
    "ExecuteTime": {
     "end_time": "2018-04-06T12:37:44.094759Z",
     "start_time": "2018-04-06T12:37:42.203971Z"
    }
   },
   "outputs": [],
   "source": [
    "# Build empty dataframe df from the API results, p\n",
    "df = pd.DataFrame()\n",
    "for s in p: df[s['seriesID']] = pd.Series(index = idx, \n",
    "    data = [i['value'] for i in s['data']], dtype='float').iloc[::-1]\n",
    "df = dft.append(df) # Merge previous data with new BLS data\n",
    "\n",
    "# Calculate indicators of interest (pr, gr3, agr defined above)\n",
    "df['ptec'] = pr(df['LNS12032197'] / df['LNS12035019']) #PT economic\n",
    "df['ptnec'] = pr(df['LNS12032200'] / df['LNS12035019']) #PT non-econ\n",
    "df['payroll'] = df['CES0000000001'].diff() # Payroll growth\n",
    "df['ahe'] = gr3(df['CES0500000008'])     # AHE 3m/3m annualized\n",
    "df['ahe2'] = agr(df['CES0500000008'])    # AHE 12m pct change\n",
    "df['cpi'] = agr(pdr('CPIAUCSL', 'fred', rng[0], rng[2]))  # CPI"
   ]
  },
  {
   "cell_type": "code",
   "execution_count": 23,
   "metadata": {
    "ExecuteTime": {
     "end_time": "2018-04-06T12:37:45.751138Z",
     "start_time": "2018-04-06T12:37:45.704262Z"
    }
   },
   "outputs": [
    {
     "data": {
      "text/html": [
       "<div>\n",
       "<style scoped>\n",
       "    .dataframe tbody tr th:only-of-type {\n",
       "        vertical-align: middle;\n",
       "    }\n",
       "\n",
       "    .dataframe tbody tr th {\n",
       "        vertical-align: top;\n",
       "    }\n",
       "\n",
       "    .dataframe thead th {\n",
       "        text-align: right;\n",
       "    }\n",
       "</style>\n",
       "<table border=\"1\" class=\"dataframe\">\n",
       "  <thead>\n",
       "    <tr style=\"text-align: right;\">\n",
       "      <th></th>\n",
       "      <th>CES0000000001</th>\n",
       "      <th>CES0500000008</th>\n",
       "      <th>LNS12032197</th>\n",
       "      <th>LNS12032200</th>\n",
       "      <th>LNS12035019</th>\n",
       "      <th>LNS12300060</th>\n",
       "      <th>LNS13025703</th>\n",
       "      <th>LNS13327709</th>\n",
       "      <th>LNS14000000</th>\n",
       "      <th>ptec</th>\n",
       "      <th>ptnec</th>\n",
       "      <th>payroll</th>\n",
       "      <th>ahe</th>\n",
       "      <th>ahe2</th>\n",
       "      <th>cpi</th>\n",
       "    </tr>\n",
       "  </thead>\n",
       "  <tbody>\n",
       "    <tr>\n",
       "      <th>2017-11-01</th>\n",
       "      <td>147450.0</td>\n",
       "      <td>22.23</td>\n",
       "      <td>4759.0</td>\n",
       "      <td>20645.0</td>\n",
       "      <td>151453.0</td>\n",
       "      <td>79.0</td>\n",
       "      <td>23.9</td>\n",
       "      <td>8.0</td>\n",
       "      <td>4.1</td>\n",
       "      <td>3.1</td>\n",
       "      <td>13.6</td>\n",
       "      <td>216.0</td>\n",
       "      <td>2.6</td>\n",
       "      <td>2.3</td>\n",
       "      <td>2.2</td>\n",
       "    </tr>\n",
       "    <tr>\n",
       "      <th>2017-12-01</th>\n",
       "      <td>147625.0</td>\n",
       "      <td>22.31</td>\n",
       "      <td>4856.0</td>\n",
       "      <td>20703.0</td>\n",
       "      <td>151478.0</td>\n",
       "      <td>79.1</td>\n",
       "      <td>22.9</td>\n",
       "      <td>8.1</td>\n",
       "      <td>4.1</td>\n",
       "      <td>3.2</td>\n",
       "      <td>13.7</td>\n",
       "      <td>175.0</td>\n",
       "      <td>2.1</td>\n",
       "      <td>2.4</td>\n",
       "      <td>2.1</td>\n",
       "    </tr>\n",
       "    <tr>\n",
       "      <th>2018-01-01</th>\n",
       "      <td>147801.0</td>\n",
       "      <td>22.34</td>\n",
       "      <td>4926.0</td>\n",
       "      <td>20434.0</td>\n",
       "      <td>151894.0</td>\n",
       "      <td>79.0</td>\n",
       "      <td>21.5</td>\n",
       "      <td>8.2</td>\n",
       "      <td>4.1</td>\n",
       "      <td>3.2</td>\n",
       "      <td>13.5</td>\n",
       "      <td>176.0</td>\n",
       "      <td>2.4</td>\n",
       "      <td>2.4</td>\n",
       "      <td>NaN</td>\n",
       "    </tr>\n",
       "    <tr>\n",
       "      <th>2018-02-01</th>\n",
       "      <td>148127.0</td>\n",
       "      <td>22.38</td>\n",
       "      <td>5091.0</td>\n",
       "      <td>20641.0</td>\n",
       "      <td>152713.0</td>\n",
       "      <td>79.3</td>\n",
       "      <td>20.7</td>\n",
       "      <td>8.2</td>\n",
       "      <td>4.1</td>\n",
       "      <td>3.3</td>\n",
       "      <td>13.5</td>\n",
       "      <td>326.0</td>\n",
       "      <td>2.5</td>\n",
       "      <td>2.4</td>\n",
       "      <td>NaN</td>\n",
       "    </tr>\n",
       "    <tr>\n",
       "      <th>2018-03-01</th>\n",
       "      <td>148230.0</td>\n",
       "      <td>22.42</td>\n",
       "      <td>4944.0</td>\n",
       "      <td>20999.0</td>\n",
       "      <td>152747.0</td>\n",
       "      <td>79.2</td>\n",
       "      <td>20.3</td>\n",
       "      <td>8.0</td>\n",
       "      <td>4.1</td>\n",
       "      <td>3.2</td>\n",
       "      <td>13.7</td>\n",
       "      <td>103.0</td>\n",
       "      <td>2.5</td>\n",
       "      <td>2.4</td>\n",
       "      <td>NaN</td>\n",
       "    </tr>\n",
       "  </tbody>\n",
       "</table>\n",
       "</div>"
      ],
      "text/plain": [
       "            CES0000000001  CES0500000008  LNS12032197  LNS12032200  \\\n",
       "2017-11-01       147450.0          22.23       4759.0      20645.0   \n",
       "2017-12-01       147625.0          22.31       4856.0      20703.0   \n",
       "2018-01-01       147801.0          22.34       4926.0      20434.0   \n",
       "2018-02-01       148127.0          22.38       5091.0      20641.0   \n",
       "2018-03-01       148230.0          22.42       4944.0      20999.0   \n",
       "\n",
       "            LNS12035019  LNS12300060  LNS13025703  LNS13327709  LNS14000000  \\\n",
       "2017-11-01     151453.0         79.0         23.9          8.0          4.1   \n",
       "2017-12-01     151478.0         79.1         22.9          8.1          4.1   \n",
       "2018-01-01     151894.0         79.0         21.5          8.2          4.1   \n",
       "2018-02-01     152713.0         79.3         20.7          8.2          4.1   \n",
       "2018-03-01     152747.0         79.2         20.3          8.0          4.1   \n",
       "\n",
       "            ptec  ptnec  payroll  ahe  ahe2  cpi  \n",
       "2017-11-01   3.1   13.6    216.0  2.6   2.3  2.2  \n",
       "2017-12-01   3.2   13.7    175.0  2.1   2.4  2.1  \n",
       "2018-01-01   3.2   13.5    176.0  2.4   2.4  NaN  \n",
       "2018-02-01   3.3   13.5    326.0  2.5   2.4  NaN  \n",
       "2018-03-01   3.2   13.7    103.0  2.5   2.4  NaN  "
      ]
     },
     "execution_count": 23,
     "metadata": {},
     "output_type": "execute_result"
    }
   ],
   "source": [
    "df.tail()"
   ]
  },
  {
   "cell_type": "markdown",
   "metadata": {},
   "source": [
    "#### Chart data and annotation text"
   ]
  },
  {
   "cell_type": "code",
   "execution_count": 24,
   "metadata": {
    "ExecuteTime": {
     "end_time": "2018-04-06T12:37:48.360724Z",
     "start_time": "2018-04-06T12:37:48.329472Z"
    }
   },
   "outputs": [],
   "source": [
    "# Payrolls\n",
    "df['payroll'].loc['2000-01-01':].to_csv('payroll.csv', header=True, index_label='DATE')\n",
    "payrolls1 = '\\\\scriptsize{2018}\\\\\\\\\\scriptsize{Mar}\\\\\\ \\\\textbf{+'\n",
    "payrolls2 = '{0:g}}}'.format(df['payroll'][-1])\n",
    "payroll = '{}{}'.format(payrolls1, payrolls2)\n",
    "wt('payroll.txt', payroll)"
   ]
  },
  {
   "cell_type": "code",
   "execution_count": 25,
   "metadata": {
    "ExecuteTime": {
     "end_time": "2018-04-06T12:37:50.157733Z",
     "start_time": "2018-04-06T12:37:50.126492Z"
    }
   },
   "outputs": [],
   "source": [
    "# Epop\n",
    "df['LNS12300060'].loc['2000-01-01':].to_csv('LNS12300060.csv', header=True, index_label='DATE')\n",
    "epop1 = '\\\\scriptsize{2018}\\\\\\\\\\scriptsize{Mar}\\\\\\ \\\\textbf{'\n",
    "epop2 = '{}\\%}}'.format(df['LNS12300060'][-1])\n",
    "epop = '{}{}'.format(epop1, epop2)\n",
    "wt('LNS12300060.txt', epop)"
   ]
  },
  {
   "cell_type": "code",
   "execution_count": 26,
   "metadata": {
    "ExecuteTime": {
     "end_time": "2018-04-06T12:37:52.782952Z",
     "start_time": "2018-04-06T12:37:52.751690Z"
    }
   },
   "outputs": [],
   "source": [
    "# AHE\n",
    "df['ahe'].loc['2000-01-01':].to_csv('ahe.csv', header=True, index_label='DATE')\n",
    "ahe1 = '\\\\scriptsize{2018}\\\\\\\\\\scriptsize{Mar}\\\\\\ \\\\textbf{'\n",
    "ahe2 = '{}\\%}}'.format(df['ahe'][-1])\n",
    "ahe = '{}{}'.format(ahe1, ahe2)\n",
    "wt('ahe.txt', ahe)"
   ]
  },
  {
   "cell_type": "code",
   "execution_count": 27,
   "metadata": {
    "ExecuteTime": {
     "end_time": "2018-04-06T12:37:54.658102Z",
     "start_time": "2018-04-06T12:37:54.626849Z"
    }
   },
   "outputs": [],
   "source": [
    "# AHE 12m\n",
    "df['ahe2'].loc['2000-01-01':].to_csv('ahe2.csv', header=True, index_label='DATE')\n",
    "ahe1 = '\\\\scriptsize{2018}\\\\\\\\\\scriptsize{Mar}\\\\\\ \\\\textbf{'\n",
    "ahe2 = '{}\\%}}'.format(df['ahe2'][-1])\n",
    "ahe = '{}{}'.format(ahe1, ahe2)\n",
    "wt('ahe2.txt', ahe)"
   ]
  },
  {
   "cell_type": "code",
   "execution_count": null,
   "metadata": {
    "collapsed": true
   },
   "outputs": [],
   "source": []
  },
  {
   "cell_type": "code",
   "execution_count": 35,
   "metadata": {
    "collapsed": true
   },
   "outputs": [],
   "source": [
    "with open(\"payroll.txt\", \"w\") as text_file:\n",
    "    print('{}{}'.format(payrolls1, payrolls2), file=text_file)"
   ]
  },
  {
   "cell_type": "code",
   "execution_count": 33,
   "metadata": {},
   "outputs": [
    {
     "data": {
      "text/plain": [
       "'\\\\scriptsize{2018}\\\\\\\\scriptsize{Jan}\\\\\\textbf{+148}'"
      ]
     },
     "execution_count": 33,
     "metadata": {},
     "output_type": "execute_result"
    }
   ],
   "source": [
    "payroll"
   ]
  },
  {
   "cell_type": "code",
   "execution_count": 34,
   "metadata": {
    "collapsed": true
   },
   "outputs": [],
   "source": [
    "wt('payroll2.txt', payroll)"
   ]
  },
  {
   "cell_type": "code",
   "execution_count": 10,
   "metadata": {},
   "outputs": [
    {
     "data": {
      "text/html": [
       "<div>\n",
       "<style scoped>\n",
       "    .dataframe tbody tr th:only-of-type {\n",
       "        vertical-align: middle;\n",
       "    }\n",
       "\n",
       "    .dataframe tbody tr th {\n",
       "        vertical-align: top;\n",
       "    }\n",
       "\n",
       "    .dataframe thead th {\n",
       "        text-align: right;\n",
       "    }\n",
       "</style>\n",
       "<table border=\"1\" class=\"dataframe\">\n",
       "  <thead>\n",
       "    <tr style=\"text-align: right;\">\n",
       "      <th></th>\n",
       "      <th>CES0000000001</th>\n",
       "      <th>CES0500000008</th>\n",
       "      <th>LNS12032197</th>\n",
       "      <th>LNS12032200</th>\n",
       "      <th>LNS12035019</th>\n",
       "      <th>LNS12300060</th>\n",
       "      <th>LNS13025703</th>\n",
       "      <th>LNS13327709</th>\n",
       "      <th>LNS14000000</th>\n",
       "      <th>ptec</th>\n",
       "      <th>ptnec</th>\n",
       "      <th>payroll</th>\n",
       "      <th>ahe</th>\n",
       "      <th>ahe2</th>\n",
       "      <th>cpi</th>\n",
       "    </tr>\n",
       "  </thead>\n",
       "  <tbody>\n",
       "    <tr>\n",
       "      <th>2017-09-01</th>\n",
       "      <td>146963.0</td>\n",
       "      <td>22.20</td>\n",
       "      <td>5048.0</td>\n",
       "      <td>20619.0</td>\n",
       "      <td>151942.0</td>\n",
       "      <td>78.9</td>\n",
       "      <td>25.5</td>\n",
       "      <td>8.3</td>\n",
       "      <td>4.2</td>\n",
       "      <td>3.3</td>\n",
       "      <td>13.6</td>\n",
       "      <td>14.0</td>\n",
       "      <td>2.6</td>\n",
       "      <td>2.6</td>\n",
       "      <td>2.2</td>\n",
       "    </tr>\n",
       "    <tr>\n",
       "      <th>2017-10-01</th>\n",
       "      <td>147234.0</td>\n",
       "      <td>22.18</td>\n",
       "      <td>4799.0</td>\n",
       "      <td>20552.0</td>\n",
       "      <td>151334.0</td>\n",
       "      <td>78.9</td>\n",
       "      <td>25.0</td>\n",
       "      <td>8.0</td>\n",
       "      <td>4.1</td>\n",
       "      <td>3.2</td>\n",
       "      <td>13.6</td>\n",
       "      <td>271.0</td>\n",
       "      <td>2.6</td>\n",
       "      <td>2.2</td>\n",
       "      <td>2.0</td>\n",
       "    </tr>\n",
       "    <tr>\n",
       "      <th>2017-11-01</th>\n",
       "      <td>147450.0</td>\n",
       "      <td>22.23</td>\n",
       "      <td>4759.0</td>\n",
       "      <td>20645.0</td>\n",
       "      <td>151453.0</td>\n",
       "      <td>79.0</td>\n",
       "      <td>23.9</td>\n",
       "      <td>8.0</td>\n",
       "      <td>4.1</td>\n",
       "      <td>3.1</td>\n",
       "      <td>13.6</td>\n",
       "      <td>216.0</td>\n",
       "      <td>2.6</td>\n",
       "      <td>2.3</td>\n",
       "      <td>2.2</td>\n",
       "    </tr>\n",
       "    <tr>\n",
       "      <th>2017-12-01</th>\n",
       "      <td>147610.0</td>\n",
       "      <td>22.31</td>\n",
       "      <td>4856.0</td>\n",
       "      <td>20703.0</td>\n",
       "      <td>151478.0</td>\n",
       "      <td>79.1</td>\n",
       "      <td>22.9</td>\n",
       "      <td>8.1</td>\n",
       "      <td>4.1</td>\n",
       "      <td>3.2</td>\n",
       "      <td>13.7</td>\n",
       "      <td>160.0</td>\n",
       "      <td>2.1</td>\n",
       "      <td>2.4</td>\n",
       "      <td>2.1</td>\n",
       "    </tr>\n",
       "    <tr>\n",
       "      <th>2018-01-01</th>\n",
       "      <td>147810.0</td>\n",
       "      <td>22.34</td>\n",
       "      <td>4926.0</td>\n",
       "      <td>20434.0</td>\n",
       "      <td>151894.0</td>\n",
       "      <td>79.0</td>\n",
       "      <td>21.5</td>\n",
       "      <td>8.2</td>\n",
       "      <td>4.1</td>\n",
       "      <td>3.2</td>\n",
       "      <td>13.5</td>\n",
       "      <td>200.0</td>\n",
       "      <td>2.4</td>\n",
       "      <td>2.4</td>\n",
       "      <td>NaN</td>\n",
       "    </tr>\n",
       "  </tbody>\n",
       "</table>\n",
       "</div>"
      ],
      "text/plain": [
       "            CES0000000001  CES0500000008  LNS12032197  LNS12032200  \\\n",
       "2017-09-01       146963.0          22.20       5048.0      20619.0   \n",
       "2017-10-01       147234.0          22.18       4799.0      20552.0   \n",
       "2017-11-01       147450.0          22.23       4759.0      20645.0   \n",
       "2017-12-01       147610.0          22.31       4856.0      20703.0   \n",
       "2018-01-01       147810.0          22.34       4926.0      20434.0   \n",
       "\n",
       "            LNS12035019  LNS12300060  LNS13025703  LNS13327709  LNS14000000  \\\n",
       "2017-09-01     151942.0         78.9         25.5          8.3          4.2   \n",
       "2017-10-01     151334.0         78.9         25.0          8.0          4.1   \n",
       "2017-11-01     151453.0         79.0         23.9          8.0          4.1   \n",
       "2017-12-01     151478.0         79.1         22.9          8.1          4.1   \n",
       "2018-01-01     151894.0         79.0         21.5          8.2          4.1   \n",
       "\n",
       "            ptec  ptnec  payroll  ahe  ahe2  cpi  \n",
       "2017-09-01   3.3   13.6     14.0  2.6   2.6  2.2  \n",
       "2017-10-01   3.2   13.6    271.0  2.6   2.2  2.0  \n",
       "2017-11-01   3.1   13.6    216.0  2.6   2.3  2.2  \n",
       "2017-12-01   3.2   13.7    160.0  2.1   2.4  2.1  \n",
       "2018-01-01   3.2   13.5    200.0  2.4   2.4  NaN  "
      ]
     },
     "execution_count": 10,
     "metadata": {},
     "output_type": "execute_result"
    }
   ],
   "source": [
    "df.tail()"
   ]
  },
  {
   "cell_type": "code",
   "execution_count": null,
   "metadata": {
    "collapsed": true
   },
   "outputs": [],
   "source": []
  },
  {
   "cell_type": "code",
   "execution_count": null,
   "metadata": {
    "collapsed": true
   },
   "outputs": [],
   "source": []
  },
  {
   "cell_type": "code",
   "execution_count": null,
   "metadata": {
    "collapsed": true
   },
   "outputs": [],
   "source": []
  },
  {
   "cell_type": "code",
   "execution_count": 18,
   "metadata": {
    "collapsed": true
   },
   "outputs": [],
   "source": [
    "payrolls2 = '{0:g}}}'.format(df['payroll'][-1])"
   ]
  },
  {
   "cell_type": "code",
   "execution_count": 20,
   "metadata": {},
   "outputs": [
    {
     "data": {
      "text/plain": [
       "'\\\\scriptsize{2018}\\\\\\\\scriptsize{Jan}\\\\\\textbf{+148}'"
      ]
     },
     "execution_count": 20,
     "metadata": {},
     "output_type": "execute_result"
    }
   ],
   "source": [
    "wt('payroll.txt', payroll)"
   ]
  },
  {
   "cell_type": "code",
   "execution_count": null,
   "metadata": {
    "collapsed": true
   },
   "outputs": [],
   "source": []
  },
  {
   "cell_type": "code",
   "execution_count": 21,
   "metadata": {
    "collapsed": true
   },
   "outputs": [],
   "source": [
    "df['payroll'].loc['2000-01-01':].to_csv('payroll.csv', header=True, index_label='DATE')"
   ]
  },
  {
   "cell_type": "code",
   "execution_count": 8,
   "metadata": {},
   "outputs": [
    {
     "data": {
      "text/html": [
       "<div>\n",
       "<style scoped>\n",
       "    .dataframe tbody tr th:only-of-type {\n",
       "        vertical-align: middle;\n",
       "    }\n",
       "\n",
       "    .dataframe tbody tr th {\n",
       "        vertical-align: top;\n",
       "    }\n",
       "\n",
       "    .dataframe thead th {\n",
       "        text-align: right;\n",
       "    }\n",
       "</style>\n",
       "<table border=\"1\" class=\"dataframe\">\n",
       "  <thead>\n",
       "    <tr style=\"text-align: right;\">\n",
       "      <th></th>\n",
       "      <th>CES0000000001</th>\n",
       "      <th>CES0500000008</th>\n",
       "      <th>LNS12032197</th>\n",
       "      <th>LNS12032200</th>\n",
       "      <th>LNS12035019</th>\n",
       "      <th>LNS12300060</th>\n",
       "      <th>LNS13025703</th>\n",
       "      <th>LNS13327709</th>\n",
       "      <th>LNS14000000</th>\n",
       "      <th>ptec</th>\n",
       "      <th>ptnec</th>\n",
       "      <th>payroll</th>\n",
       "      <th>ahe</th>\n",
       "      <th>ahe2</th>\n",
       "      <th>cpi</th>\n",
       "    </tr>\n",
       "  </thead>\n",
       "  <tbody>\n",
       "    <tr>\n",
       "      <th>2017-12-01</th>\n",
       "      <td>147380.0</td>\n",
       "      <td>22.3</td>\n",
       "      <td>4856.0</td>\n",
       "      <td>20703.0</td>\n",
       "      <td>151478.0</td>\n",
       "      <td>79.1</td>\n",
       "      <td>22.9</td>\n",
       "      <td>8.1</td>\n",
       "      <td>4.1</td>\n",
       "      <td>3.2</td>\n",
       "      <td>13.7</td>\n",
       "      <td>148.0</td>\n",
       "      <td>1.7</td>\n",
       "      <td>2.3</td>\n",
       "      <td>2.1</td>\n",
       "    </tr>\n",
       "  </tbody>\n",
       "</table>\n",
       "</div>"
      ],
      "text/plain": [
       "            CES0000000001  CES0500000008  LNS12032197  LNS12032200  \\\n",
       "2017-12-01       147380.0           22.3       4856.0      20703.0   \n",
       "\n",
       "            LNS12035019  LNS12300060  LNS13025703  LNS13327709  LNS14000000  \\\n",
       "2017-12-01     151478.0         79.1         22.9          8.1          4.1   \n",
       "\n",
       "            ptec  ptnec  payroll  ahe  ahe2  cpi  \n",
       "2017-12-01   3.2   13.7    148.0  1.7   2.3  2.1  "
      ]
     },
     "execution_count": 8,
     "metadata": {},
     "output_type": "execute_result"
    }
   ],
   "source": [
    "df.tail(1)"
   ]
  },
  {
   "cell_type": "markdown",
   "metadata": {},
   "source": [
    "#### Use BLS text files to look up series IDs"
   ]
  },
  {
   "cell_type": "code",
   "execution_count": null,
   "metadata": {
    "collapsed": true
   },
   "outputs": [],
   "source": [
    "ln_series = 'https://download.bls.gov/pub/time.series/ln/ln.series'\n",
    "ln = pd.read_table(ln_series, sep=r'\\s*\\t', engine='python')"
   ]
  },
  {
   "cell_type": "code",
   "execution_count": 21,
   "metadata": {},
   "outputs": [
    {
     "data": {
      "text/html": [
       "<div>\n",
       "<style scoped>\n",
       "    .dataframe tbody tr th:only-of-type {\n",
       "        vertical-align: middle;\n",
       "    }\n",
       "\n",
       "    .dataframe tbody tr th {\n",
       "        vertical-align: top;\n",
       "    }\n",
       "\n",
       "    .dataframe thead th {\n",
       "        text-align: right;\n",
       "    }\n",
       "</style>\n",
       "<table border=\"1\" class=\"dataframe\">\n",
       "  <thead>\n",
       "    <tr style=\"text-align: right;\">\n",
       "      <th></th>\n",
       "      <th>series_id</th>\n",
       "      <th>series_title</th>\n",
       "    </tr>\n",
       "  </thead>\n",
       "  <tbody>\n",
       "    <tr>\n",
       "      <th>915</th>\n",
       "      <td>LNS14000006</td>\n",
       "      <td>(Seas) Unemployment Rate - Black or African Am...</td>\n",
       "    </tr>\n",
       "    <tr>\n",
       "      <th>917</th>\n",
       "      <td>LNS14000007</td>\n",
       "      <td>(Seas) Unemployment Rate - Black or African Am...</td>\n",
       "    </tr>\n",
       "    <tr>\n",
       "      <th>919</th>\n",
       "      <td>LNS14000008</td>\n",
       "      <td>(Seas) Unemployment Rate - Black or African Am...</td>\n",
       "    </tr>\n",
       "    <tr>\n",
       "      <th>935</th>\n",
       "      <td>LNS14000018</td>\n",
       "      <td>(Seas) Unemployment Rate - 16-19 yrs., Black o...</td>\n",
       "    </tr>\n",
       "    <tr>\n",
       "      <th>937</th>\n",
       "      <td>LNS14000019</td>\n",
       "      <td>(Seas) Unemployment Rate - 16-19 yrs., Black o...</td>\n",
       "    </tr>\n",
       "    <tr>\n",
       "      <th>939</th>\n",
       "      <td>LNS14000020</td>\n",
       "      <td>(Seas) Unemployment Rate - 16-19 yrs., Black o...</td>\n",
       "    </tr>\n",
       "    <tr>\n",
       "      <th>959</th>\n",
       "      <td>LNS14000030</td>\n",
       "      <td>(Seas) Unemployment Rate - 20 yrs. &amp; over, Bla...</td>\n",
       "    </tr>\n",
       "    <tr>\n",
       "      <th>961</th>\n",
       "      <td>LNS14000031</td>\n",
       "      <td>(Seas) Unemployment Rate - 20 yrs. &amp; over, Bla...</td>\n",
       "    </tr>\n",
       "    <tr>\n",
       "      <th>963</th>\n",
       "      <td>LNS14000032</td>\n",
       "      <td>(Seas) Unemployment Rate - 20 yrs. &amp; over, Bla...</td>\n",
       "    </tr>\n",
       "  </tbody>\n",
       "</table>\n",
       "</div>"
      ],
      "text/plain": [
       "       series_id                                       series_title\n",
       "915  LNS14000006  (Seas) Unemployment Rate - Black or African Am...\n",
       "917  LNS14000007  (Seas) Unemployment Rate - Black or African Am...\n",
       "919  LNS14000008  (Seas) Unemployment Rate - Black or African Am...\n",
       "935  LNS14000018  (Seas) Unemployment Rate - 16-19 yrs., Black o...\n",
       "937  LNS14000019  (Seas) Unemployment Rate - 16-19 yrs., Black o...\n",
       "939  LNS14000020  (Seas) Unemployment Rate - 16-19 yrs., Black o...\n",
       "959  LNS14000030  (Seas) Unemployment Rate - 20 yrs. & over, Bla...\n",
       "961  LNS14000031  (Seas) Unemployment Rate - 20 yrs. & over, Bla...\n",
       "963  LNS14000032  (Seas) Unemployment Rate - 20 yrs. & over, Bla..."
      ]
     },
     "execution_count": 21,
     "metadata": {},
     "output_type": "execute_result"
    }
   ],
   "source": [
    "ln[(ln['series_title'].str.contains('Unemployment Rate')) & \n",
    "   (ln['series_title'].str.contains('Black')) & \n",
    "   (ln['periodicity_code'] == 'M') & \n",
    "   (ln['seasonal'] == 'S')][['series_id', 'series_title']]"
   ]
  },
  {
   "cell_type": "code",
   "execution_count": null,
   "metadata": {
    "collapsed": true
   },
   "outputs": [],
   "source": []
  },
  {
   "cell_type": "markdown",
   "metadata": {
    "collapsed": true
   },
   "source": [
    "#### Labor Productivity and Cost\n",
    "PRS85006092"
   ]
  },
  {
   "cell_type": "code",
   "execution_count": null,
   "metadata": {
    "collapsed": true
   },
   "outputs": [],
   "source": []
  },
  {
   "cell_type": "code",
   "execution_count": 34,
   "metadata": {},
   "outputs": [
    {
     "data": {
      "text/html": [
       "<div>\n",
       "<style scoped>\n",
       "    .dataframe tbody tr th:only-of-type {\n",
       "        vertical-align: middle;\n",
       "    }\n",
       "\n",
       "    .dataframe tbody tr th {\n",
       "        vertical-align: top;\n",
       "    }\n",
       "\n",
       "    .dataframe thead th {\n",
       "        text-align: right;\n",
       "    }\n",
       "</style>\n",
       "<table border=\"1\" class=\"dataframe\">\n",
       "  <thead>\n",
       "    <tr style=\"text-align: right;\">\n",
       "      <th></th>\n",
       "      <th>PRS85006092</th>\n",
       "    </tr>\n",
       "    <tr>\n",
       "      <th>DATE</th>\n",
       "      <th></th>\n",
       "    </tr>\n",
       "  </thead>\n",
       "  <tbody>\n",
       "    <tr>\n",
       "      <th>1973-01-01</th>\n",
       "      <td>51.435</td>\n",
       "    </tr>\n",
       "    <tr>\n",
       "      <th>1973-04-01</th>\n",
       "      <td>51.483</td>\n",
       "    </tr>\n",
       "    <tr>\n",
       "      <th>1973-07-01</th>\n",
       "      <td>50.984</td>\n",
       "    </tr>\n",
       "    <tr>\n",
       "      <th>1973-10-01</th>\n",
       "      <td>50.654</td>\n",
       "    </tr>\n",
       "    <tr>\n",
       "      <th>1974-01-01</th>\n",
       "      <td>50.551</td>\n",
       "    </tr>\n",
       "    <tr>\n",
       "      <th>1974-04-01</th>\n",
       "      <td>50.418</td>\n",
       "    </tr>\n",
       "    <tr>\n",
       "      <th>1974-07-01</th>\n",
       "      <td>49.883</td>\n",
       "    </tr>\n",
       "    <tr>\n",
       "      <th>1974-10-01</th>\n",
       "      <td>50.325</td>\n",
       "    </tr>\n",
       "    <tr>\n",
       "      <th>1975-01-01</th>\n",
       "      <td>50.724</td>\n",
       "    </tr>\n",
       "    <tr>\n",
       "      <th>1975-04-01</th>\n",
       "      <td>51.570</td>\n",
       "    </tr>\n",
       "    <tr>\n",
       "      <th>1975-07-01</th>\n",
       "      <td>52.155</td>\n",
       "    </tr>\n",
       "    <tr>\n",
       "      <th>1975-10-01</th>\n",
       "      <td>52.205</td>\n",
       "    </tr>\n",
       "    <tr>\n",
       "      <th>1976-01-01</th>\n",
       "      <td>52.974</td>\n",
       "    </tr>\n",
       "    <tr>\n",
       "      <th>1976-04-01</th>\n",
       "      <td>53.483</td>\n",
       "    </tr>\n",
       "    <tr>\n",
       "      <th>1976-07-01</th>\n",
       "      <td>53.580</td>\n",
       "    </tr>\n",
       "    <tr>\n",
       "      <th>1976-10-01</th>\n",
       "      <td>53.753</td>\n",
       "    </tr>\n",
       "    <tr>\n",
       "      <th>1977-01-01</th>\n",
       "      <td>54.079</td>\n",
       "    </tr>\n",
       "    <tr>\n",
       "      <th>1977-04-01</th>\n",
       "      <td>54.311</td>\n",
       "    </tr>\n",
       "    <tr>\n",
       "      <th>1977-07-01</th>\n",
       "      <td>54.851</td>\n",
       "    </tr>\n",
       "    <tr>\n",
       "      <th>1977-10-01</th>\n",
       "      <td>54.147</td>\n",
       "    </tr>\n",
       "    <tr>\n",
       "      <th>1978-01-01</th>\n",
       "      <td>54.182</td>\n",
       "    </tr>\n",
       "    <tr>\n",
       "      <th>1978-04-01</th>\n",
       "      <td>55.244</td>\n",
       "    </tr>\n",
       "    <tr>\n",
       "      <th>1978-07-01</th>\n",
       "      <td>55.246</td>\n",
       "    </tr>\n",
       "    <tr>\n",
       "      <th>1978-10-01</th>\n",
       "      <td>55.595</td>\n",
       "    </tr>\n",
       "    <tr>\n",
       "      <th>1979-01-01</th>\n",
       "      <td>55.099</td>\n",
       "    </tr>\n",
       "    <tr>\n",
       "      <th>1979-04-01</th>\n",
       "      <td>54.947</td>\n",
       "    </tr>\n",
       "    <tr>\n",
       "      <th>1979-07-01</th>\n",
       "      <td>54.888</td>\n",
       "    </tr>\n",
       "    <tr>\n",
       "      <th>1979-10-01</th>\n",
       "      <td>54.839</td>\n",
       "    </tr>\n",
       "    <tr>\n",
       "      <th>1980-01-01</th>\n",
       "      <td>55.100</td>\n",
       "    </tr>\n",
       "    <tr>\n",
       "      <th>1980-04-01</th>\n",
       "      <td>54.502</td>\n",
       "    </tr>\n",
       "    <tr>\n",
       "      <th>...</th>\n",
       "      <td>...</td>\n",
       "    </tr>\n",
       "    <tr>\n",
       "      <th>2010-04-01</th>\n",
       "      <td>103.003</td>\n",
       "    </tr>\n",
       "    <tr>\n",
       "      <th>2010-07-01</th>\n",
       "      <td>103.520</td>\n",
       "    </tr>\n",
       "    <tr>\n",
       "      <th>2010-10-01</th>\n",
       "      <td>103.943</td>\n",
       "    </tr>\n",
       "    <tr>\n",
       "      <th>2011-01-01</th>\n",
       "      <td>103.078</td>\n",
       "    </tr>\n",
       "    <tr>\n",
       "      <th>2011-04-01</th>\n",
       "      <td>103.420</td>\n",
       "    </tr>\n",
       "    <tr>\n",
       "      <th>2011-07-01</th>\n",
       "      <td>103.233</td>\n",
       "    </tr>\n",
       "    <tr>\n",
       "      <th>2011-10-01</th>\n",
       "      <td>103.948</td>\n",
       "    </tr>\n",
       "    <tr>\n",
       "      <th>2012-01-01</th>\n",
       "      <td>104.093</td>\n",
       "    </tr>\n",
       "    <tr>\n",
       "      <th>2012-04-01</th>\n",
       "      <td>104.699</td>\n",
       "    </tr>\n",
       "    <tr>\n",
       "      <th>2012-07-01</th>\n",
       "      <td>104.522</td>\n",
       "    </tr>\n",
       "    <tr>\n",
       "      <th>2012-10-01</th>\n",
       "      <td>104.057</td>\n",
       "    </tr>\n",
       "    <tr>\n",
       "      <th>2013-01-01</th>\n",
       "      <td>104.286</td>\n",
       "    </tr>\n",
       "    <tr>\n",
       "      <th>2013-04-01</th>\n",
       "      <td>104.116</td>\n",
       "    </tr>\n",
       "    <tr>\n",
       "      <th>2013-07-01</th>\n",
       "      <td>104.541</td>\n",
       "    </tr>\n",
       "    <tr>\n",
       "      <th>2013-10-01</th>\n",
       "      <td>105.676</td>\n",
       "    </tr>\n",
       "    <tr>\n",
       "      <th>2014-01-01</th>\n",
       "      <td>104.774</td>\n",
       "    </tr>\n",
       "    <tr>\n",
       "      <th>2014-04-01</th>\n",
       "      <td>105.386</td>\n",
       "    </tr>\n",
       "    <tr>\n",
       "      <th>2014-07-01</th>\n",
       "      <td>106.530</td>\n",
       "    </tr>\n",
       "    <tr>\n",
       "      <th>2014-10-01</th>\n",
       "      <td>106.037</td>\n",
       "    </tr>\n",
       "    <tr>\n",
       "      <th>2015-01-01</th>\n",
       "      <td>106.748</td>\n",
       "    </tr>\n",
       "    <tr>\n",
       "      <th>2015-04-01</th>\n",
       "      <td>107.081</td>\n",
       "    </tr>\n",
       "    <tr>\n",
       "      <th>2015-07-01</th>\n",
       "      <td>107.426</td>\n",
       "    </tr>\n",
       "    <tr>\n",
       "      <th>2015-10-01</th>\n",
       "      <td>106.732</td>\n",
       "    </tr>\n",
       "    <tr>\n",
       "      <th>2016-01-01</th>\n",
       "      <td>106.417</td>\n",
       "    </tr>\n",
       "    <tr>\n",
       "      <th>2016-04-01</th>\n",
       "      <td>106.638</td>\n",
       "    </tr>\n",
       "    <tr>\n",
       "      <th>2016-07-01</th>\n",
       "      <td>107.295</td>\n",
       "    </tr>\n",
       "    <tr>\n",
       "      <th>2016-10-01</th>\n",
       "      <td>107.630</td>\n",
       "    </tr>\n",
       "    <tr>\n",
       "      <th>2017-01-01</th>\n",
       "      <td>107.664</td>\n",
       "    </tr>\n",
       "    <tr>\n",
       "      <th>2017-04-01</th>\n",
       "      <td>108.069</td>\n",
       "    </tr>\n",
       "    <tr>\n",
       "      <th>2017-07-01</th>\n",
       "      <td>108.865</td>\n",
       "    </tr>\n",
       "  </tbody>\n",
       "</table>\n",
       "<p>179 rows × 1 columns</p>\n",
       "</div>"
      ],
      "text/plain": [
       "            PRS85006092\n",
       "DATE                   \n",
       "1973-01-01       51.435\n",
       "1973-04-01       51.483\n",
       "1973-07-01       50.984\n",
       "1973-10-01       50.654\n",
       "1974-01-01       50.551\n",
       "1974-04-01       50.418\n",
       "1974-07-01       49.883\n",
       "1974-10-01       50.325\n",
       "1975-01-01       50.724\n",
       "1975-04-01       51.570\n",
       "1975-07-01       52.155\n",
       "1975-10-01       52.205\n",
       "1976-01-01       52.974\n",
       "1976-04-01       53.483\n",
       "1976-07-01       53.580\n",
       "1976-10-01       53.753\n",
       "1977-01-01       54.079\n",
       "1977-04-01       54.311\n",
       "1977-07-01       54.851\n",
       "1977-10-01       54.147\n",
       "1978-01-01       54.182\n",
       "1978-04-01       55.244\n",
       "1978-07-01       55.246\n",
       "1978-10-01       55.595\n",
       "1979-01-01       55.099\n",
       "1979-04-01       54.947\n",
       "1979-07-01       54.888\n",
       "1979-10-01       54.839\n",
       "1980-01-01       55.100\n",
       "1980-04-01       54.502\n",
       "...                 ...\n",
       "2010-04-01      103.003\n",
       "2010-07-01      103.520\n",
       "2010-10-01      103.943\n",
       "2011-01-01      103.078\n",
       "2011-04-01      103.420\n",
       "2011-07-01      103.233\n",
       "2011-10-01      103.948\n",
       "2012-01-01      104.093\n",
       "2012-04-01      104.699\n",
       "2012-07-01      104.522\n",
       "2012-10-01      104.057\n",
       "2013-01-01      104.286\n",
       "2013-04-01      104.116\n",
       "2013-07-01      104.541\n",
       "2013-10-01      105.676\n",
       "2014-01-01      104.774\n",
       "2014-04-01      105.386\n",
       "2014-07-01      106.530\n",
       "2014-10-01      106.037\n",
       "2015-01-01      106.748\n",
       "2015-04-01      107.081\n",
       "2015-07-01      107.426\n",
       "2015-10-01      106.732\n",
       "2016-01-01      106.417\n",
       "2016-04-01      106.638\n",
       "2016-07-01      107.295\n",
       "2016-10-01      107.630\n",
       "2017-01-01      107.664\n",
       "2017-04-01      108.069\n",
       "2017-07-01      108.865\n",
       "\n",
       "[179 rows x 1 columns]"
      ]
     },
     "execution_count": 34,
     "metadata": {},
     "output_type": "execute_result"
    }
   ],
   "source": [
    "dft"
   ]
  },
  {
   "cell_type": "code",
   "execution_count": null,
   "metadata": {
    "collapsed": true
   },
   "outputs": [],
   "source": []
  },
  {
   "cell_type": "code",
   "execution_count": null,
   "metadata": {
    "collapsed": true
   },
   "outputs": [],
   "source": []
  },
  {
   "cell_type": "code",
   "execution_count": null,
   "metadata": {
    "collapsed": true
   },
   "outputs": [],
   "source": []
  },
  {
   "cell_type": "code",
   "execution_count": null,
   "metadata": {
    "collapsed": true
   },
   "outputs": [],
   "source": []
  },
  {
   "cell_type": "code",
   "execution_count": null,
   "metadata": {
    "collapsed": true
   },
   "outputs": [],
   "source": []
  },
  {
   "cell_type": "code",
   "execution_count": null,
   "metadata": {
    "collapsed": true
   },
   "outputs": [],
   "source": []
  },
  {
   "cell_type": "code",
   "execution_count": null,
   "metadata": {
    "collapsed": true
   },
   "outputs": [],
   "source": []
  },
  {
   "cell_type": "code",
   "execution_count": 15,
   "metadata": {
    "collapsed": true
   },
   "outputs": [],
   "source": [
    "ln_series = 'https://download.bls.gov/pub/time.series/ln/ln.series'\n",
    "ln = pd.read_table(ln_series, sep=r'\\s*\\t', engine='python')"
   ]
  },
  {
   "cell_type": "code",
   "execution_count": null,
   "metadata": {
    "collapsed": true
   },
   "outputs": [],
   "source": [
    "ce['series_id'].str"
   ]
  },
  {
   "cell_type": "code",
   "execution_count": 9,
   "metadata": {
    "collapsed": true
   },
   "outputs": [],
   "source": [
    "ce_series = 'https://download.bls.gov/pub/time.series/ce/ce.series'\n",
    "ln_series = 'https://download.bls.gov/pub/time.series/ln/ln.series'"
   ]
  },
  {
   "cell_type": "code",
   "execution_count": null,
   "metadata": {
    "collapsed": true
   },
   "outputs": [],
   "source": [
    "s[0][1]"
   ]
  },
  {
   "cell_type": "code",
   "execution_count": null,
   "metadata": {
    "collapsed": true
   },
   "outputs": [],
   "source": [
    "d = {}\n",
    "for i in ['ln', 'ce']:\n",
    "    url = f'https://download.bls.gov/pub/time.series/{i}/{i}.series'\n",
    "    t = pd.read_table(url, sep=r'\\s*\\t', engine='python')\n",
    "    t = t[t['series_id'].isin([i[1] for i in s])].set_index('series_id')['series_title']\n",
    "    for k, v in t.items(): d[k] = v"
   ]
  },
  {
   "cell_type": "code",
   "execution_count": null,
   "metadata": {
    "collapsed": true
   },
   "outputs": [],
   "source": [
    "t[t['series_id'].isin([i[1] for i in s])].set_index('series_id')['series_title']"
   ]
  },
  {
   "cell_type": "code",
   "execution_count": null,
   "metadata": {
    "collapsed": true
   },
   "outputs": [],
   "source": [
    "    \n",
    "ce_series = 'https://download.bls.gov/pub/time.series/ce/ce.series'\n",
    "ln_series = 'https://download.bls.gov/pub/time.series/ln/ln.series'\n",
    "ce = pd.read_table(ce_series, sep=r'\\s*\\t', engine='python')[['series_id', 'series_title']]\n",
    "ln = pd.read_table(ln_series, sep=r'\\s*\\t', engine='python')[['series_id', 'series_title']]\n",
    "\n",
    "ce[ce['series_id'].isin([i[1] for i in s])].append(ln[ln['series_id'].isin([i[1] for i in s])])"
   ]
  },
  {
   "cell_type": "code",
   "execution_count": null,
   "metadata": {
    "collapsed": true
   },
   "outputs": [],
   "source": [
    "ce['series_id'][0]"
   ]
  },
  {
   "cell_type": "code",
   "execution_count": null,
   "metadata": {
    "collapsed": true
   },
   "outputs": [],
   "source": [
    "ce[ce['series_id'].isin([i[1] for i in s])].append(ln[ln['series_id'].isin([i[1] for i in s])])"
   ]
  },
  {
   "cell_type": "code",
   "execution_count": null,
   "metadata": {
    "collapsed": true
   },
   "outputs": [],
   "source": [
    "ce['series_id'][0]"
   ]
  },
  {
   "cell_type": "code",
   "execution_count": null,
   "metadata": {
    "collapsed": true
   },
   "outputs": [],
   "source": [
    "ce.iloc[0]['series_title']"
   ]
  },
  {
   "cell_type": "code",
   "execution_count": null,
   "metadata": {
    "collapsed": true
   },
   "outputs": [],
   "source": [
    "ce"
   ]
  },
  {
   "cell_type": "code",
   "execution_count": null,
   "metadata": {
    "collapsed": true
   },
   "outputs": [],
   "source": []
  },
  {
   "cell_type": "code",
   "execution_count": null,
   "metadata": {
    "collapsed": true
   },
   "outputs": [],
   "source": [
    "df['ahe'] = df['CES0500000008'].rolling(3).sum().pct_change(3)\n",
    "df['ahe'] = ((((df['ahe']+1)**4)-1)*100).round(1) # annualize"
   ]
  },
  {
   "cell_type": "code",
   "execution_count": null,
   "metadata": {
    "collapsed": true
   },
   "outputs": [],
   "source": [
    "(((df['CES0500000008'].rolling(3).sum().pct_change(3)+1)**4)-1)*100 "
   ]
  },
  {
   "cell_type": "code",
   "execution_count": null,
   "metadata": {
    "collapsed": true
   },
   "outputs": [],
   "source": [
    "df['ahe3'] = agr(df['CES0500000008'])\n",
    "df['ahe2'] = (df['CES0500000008'].pct_change(12) * 100).round(1)\n",
    "\n",
    "df[['ahe2', 'ahe3']].tail()"
   ]
  },
  {
   "cell_type": "code",
   "execution_count": null,
   "metadata": {
    "collapsed": true
   },
   "outputs": [],
   "source": []
  },
  {
   "cell_type": "code",
   "execution_count": null,
   "metadata": {
    "collapsed": true
   },
   "outputs": [],
   "source": [
    "d"
   ]
  },
  {
   "cell_type": "code",
   "execution_count": null,
   "metadata": {
    "collapsed": true
   },
   "outputs": [],
   "source": [
    "cpi.columns = ['cpi']"
   ]
  },
  {
   "cell_type": "code",
   "execution_count": null,
   "metadata": {
    "collapsed": true
   },
   "outputs": [],
   "source": [
    "cpi"
   ]
  },
  {
   "cell_type": "code",
   "execution_count": null,
   "metadata": {
    "collapsed": true
   },
   "outputs": [],
   "source": []
  },
  {
   "cell_type": "code",
   "execution_count": null,
   "metadata": {
    "collapsed": true
   },
   "outputs": [],
   "source": []
  },
  {
   "cell_type": "code",
   "execution_count": null,
   "metadata": {
    "collapsed": true
   },
   "outputs": [],
   "source": []
  },
  {
   "cell_type": "code",
   "execution_count": null,
   "metadata": {
    "collapsed": true
   },
   "outputs": [],
   "source": []
  },
  {
   "cell_type": "code",
   "execution_count": null,
   "metadata": {
    "collapsed": true
   },
   "outputs": [],
   "source": []
  },
  {
   "cell_type": "code",
   "execution_count": null,
   "metadata": {
    "collapsed": true
   },
   "outputs": [],
   "source": []
  },
  {
   "cell_type": "code",
   "execution_count": null,
   "metadata": {
    "collapsed": true
   },
   "outputs": [],
   "source": []
  },
  {
   "cell_type": "code",
   "execution_count": null,
   "metadata": {
    "collapsed": true
   },
   "outputs": [],
   "source": [
    "cpi = pdr(['CPIAUCSL'], 'fred', rng[0], pd.to_datetime('2017-12-31'))"
   ]
  },
  {
   "cell_type": "code",
   "execution_count": null,
   "metadata": {
    "collapsed": true
   },
   "outputs": [],
   "source": [
    "cpi"
   ]
  },
  {
   "cell_type": "code",
   "execution_count": null,
   "metadata": {
    "collapsed": true
   },
   "outputs": [],
   "source": [
    "df = df.join(cpi.pct_change(12) * 100)"
   ]
  },
  {
   "cell_type": "code",
   "execution_count": null,
   "metadata": {
    "collapsed": true
   },
   "outputs": [],
   "source": [
    "df['ahe2'] = df['CES0500000008'].pct_change(12) * 100"
   ]
  },
  {
   "cell_type": "code",
   "execution_count": null,
   "metadata": {
    "collapsed": true
   },
   "outputs": [],
   "source": []
  },
  {
   "cell_type": "code",
   "execution_count": null,
   "metadata": {
    "collapsed": true
   },
   "outputs": [],
   "source": [
    "%matplotlib inline\n",
    "df.loc['1995-01-01':,['LNS14000000', 'LNS13327709']].plot()"
   ]
  },
  {
   "cell_type": "code",
   "execution_count": null,
   "metadata": {
    "collapsed": true
   },
   "outputs": [],
   "source": [
    "df.loc['1995-01-01':,'LNS12300060'].plot()"
   ]
  },
  {
   "cell_type": "code",
   "execution_count": null,
   "metadata": {
    "collapsed": true
   },
   "outputs": [],
   "source": [
    "df.loc['1995-01-01':,['ahe2', 'ahe', 'CWSR0000SA0']].plot()"
   ]
  },
  {
   "cell_type": "code",
   "execution_count": null,
   "metadata": {
    "collapsed": true
   },
   "outputs": [],
   "source": [
    "df.loc['1994-01-01':,['ptnec', 'ptec']].rolling(12).mean().plot()"
   ]
  },
  {
   "cell_type": "code",
   "execution_count": null,
   "metadata": {
    "collapsed": true
   },
   "outputs": [],
   "source": [
    "df.loc['1995-01-01':,'payroll'].plot()"
   ]
  },
  {
   "cell_type": "code",
   "execution_count": null,
   "metadata": {
    "collapsed": true
   },
   "outputs": [],
   "source": []
  },
  {
   "cell_type": "code",
   "execution_count": null,
   "metadata": {
    "collapsed": true
   },
   "outputs": [],
   "source": []
  },
  {
   "cell_type": "code",
   "execution_count": null,
   "metadata": {
    "collapsed": true
   },
   "outputs": [],
   "source": []
  },
  {
   "cell_type": "code",
   "execution_count": null,
   "metadata": {
    "collapsed": true
   },
   "outputs": [],
   "source": []
  },
  {
   "cell_type": "code",
   "execution_count": null,
   "metadata": {
    "collapsed": true
   },
   "outputs": [],
   "source": [
    "df = df_prev.append(df)"
   ]
  },
  {
   "cell_type": "code",
   "execution_count": null,
   "metadata": {
    "collapsed": true
   },
   "outputs": [],
   "source": [
    "(df['CES0500000003'].rolling(3).mean().pct_change(3)\n",
    "             .add(1).pow(4).subtract(1).multiply(100).round(1))"
   ]
  },
  {
   "cell_type": "code",
   "execution_count": null,
   "metadata": {
    "collapsed": true
   },
   "outputs": [],
   "source": [
    "df_prev.columns = [s_id for name, s_id in s]"
   ]
  },
  {
   "cell_type": "code",
   "execution_count": null,
   "metadata": {
    "collapsed": true
   },
   "outputs": [],
   "source": [
    "df_prev"
   ]
  },
  {
   "cell_type": "code",
   "execution_count": null,
   "metadata": {
    "collapsed": true
   },
   "outputs": [],
   "source": []
  },
  {
   "cell_type": "code",
   "execution_count": null,
   "metadata": {
    "collapsed": true
   },
   "outputs": [],
   "source": []
  },
  {
   "cell_type": "code",
   "execution_count": null,
   "metadata": {
    "collapsed": true
   },
   "outputs": [],
   "source": []
  },
  {
   "cell_type": "code",
   "execution_count": null,
   "metadata": {
    "collapsed": true
   },
   "outputs": [],
   "source": [
    "df"
   ]
  },
  {
   "cell_type": "code",
   "execution_count": null,
   "metadata": {
    "collapsed": true
   },
   "outputs": [],
   "source": []
  },
  {
   "cell_type": "code",
   "execution_count": null,
   "metadata": {
    "collapsed": true
   },
   "outputs": [],
   "source": []
  },
  {
   "cell_type": "code",
   "execution_count": null,
   "metadata": {
    "collapsed": true
   },
   "outputs": [],
   "source": [
    "pd.to_datetime(['1973-01-01', '2015-12-31'])[0]"
   ]
  },
  {
   "cell_type": "code",
   "execution_count": null,
   "metadata": {
    "collapsed": true
   },
   "outputs": [],
   "source": []
  },
  {
   "cell_type": "code",
   "execution_count": null,
   "metadata": {
    "collapsed": true
   },
   "outputs": [],
   "source": []
  },
  {
   "cell_type": "code",
   "execution_count": null,
   "metadata": {
    "collapsed": true
   },
   "outputs": [],
   "source": []
  },
  {
   "cell_type": "code",
   "execution_count": null,
   "metadata": {
    "collapsed": true
   },
   "outputs": [],
   "source": []
  },
  {
   "cell_type": "code",
   "execution_count": null,
   "metadata": {
    "collapsed": true
   },
   "outputs": [],
   "source": []
  },
  {
   "cell_type": "markdown",
   "metadata": {},
   "source": [
    "### Turn json data into a pandas dataframe"
   ]
  },
  {
   "cell_type": "code",
   "execution_count": null,
   "metadata": {
    "collapsed": true
   },
   "outputs": [],
   "source": [
    "# Build dataframe df from the API results, p\n",
    "df = pd.DataFrame() # Empty dataframe to fill with values\n",
    "for s in p: df[s['seriesID']] = pd.Series(index = idx, \n",
    "        data = [i['value'] for i in s['data']]\n",
    "        ).astype(float).iloc[::-1]"
   ]
  },
  {
   "cell_type": "markdown",
   "metadata": {},
   "source": [
    "### Calculate series for graphs"
   ]
  },
  {
   "cell_type": "code",
   "execution_count": null,
   "metadata": {
    "collapsed": true
   },
   "outputs": [],
   "source": []
  },
  {
   "cell_type": "code",
   "execution_count": null,
   "metadata": {
    "collapsed": true
   },
   "outputs": [],
   "source": [
    "print(f\"Latest: {idx[0]:%B %Y}\") "
   ]
  },
  {
   "cell_type": "code",
   "execution_count": null,
   "metadata": {
    "collapsed": true
   },
   "outputs": [],
   "source": []
  },
  {
   "cell_type": "code",
   "execution_count": null,
   "metadata": {
    "collapsed": true
   },
   "outputs": [],
   "source": []
  },
  {
   "cell_type": "code",
   "execution_count": null,
   "metadata": {
    "collapsed": true
   },
   "outputs": [],
   "source": []
  },
  {
   "cell_type": "code",
   "execution_count": null,
   "metadata": {
    "collapsed": true
   },
   "outputs": [],
   "source": []
  },
  {
   "cell_type": "code",
   "execution_count": null,
   "metadata": {
    "collapsed": true
   },
   "outputs": [],
   "source": [
    "today = datetime.datetime.now()\n",
    "print(f'Cell run: {today:%b %d, %Y}')"
   ]
  },
  {
   "cell_type": "code",
   "execution_count": null,
   "metadata": {
    "collapsed": true
   },
   "outputs": [],
   "source": [
    "['{} {}'.format(i['period'], i['year']) for i in r]"
   ]
  },
  {
   "cell_type": "code",
   "execution_count": null,
   "metadata": {
    "collapsed": true
   },
   "outputs": [],
   "source": [
    "idx = pd.to_datetime([f\"{i['period']} {i['year']}\" for i in p[0]['data']])"
   ]
  },
  {
   "cell_type": "code",
   "execution_count": null,
   "metadata": {
    "collapsed": true
   },
   "outputs": [],
   "source": [
    "dd = {}\n",
    "for x, y in s:\n",
    "    if \n",
    "    dd[x]\n",
    "    data = {param['seriesid'][0]: [float(i['value']) for i in r]}"
   ]
  },
  {
   "cell_type": "code",
   "execution_count": null,
   "metadata": {
    "collapsed": true
   },
   "outputs": [],
   "source": [
    "# Empty dictionary to fill with values\n",
    "dd = {}\n",
    "\n",
    "# Build a pandas series from the API results, p\n",
    "for s in p:\n",
    "    dd[s['seriesID']] = pd.Series(index = idx, \n",
    "        data = [i['value'] for i in s['data']]\n",
    "        ).astype(float).iloc[::-1]\n",
    "\n",
    "# Combine series into one pandas dataframe\n",
    "df = pd.DataFrame(dd)"
   ]
  },
  {
   "cell_type": "code",
   "execution_count": null,
   "metadata": {
    "collapsed": true
   },
   "outputs": [],
   "source": [
    "p"
   ]
  },
  {
   "cell_type": "code",
   "execution_count": null,
   "metadata": {
    "collapsed": true
   },
   "outputs": [],
   "source": []
  },
  {
   "cell_type": "code",
   "execution_count": null,
   "metadata": {
    "collapsed": true
   },
   "outputs": [],
   "source": [
    "# List comprehensions - clean json data and covert the \n",
    "# date, value, and footnote into pandas dataframe columns\n",
    "dates = ['{} {}'.format(i['period'], i['year']) for i in r]\n",
    "index = pd.to_datetime(dates)\n",
    "data = {param['seriesid'][0]: [float(i['value']) for i in r]}\n",
    "# .iloc[::-1] reverses the sorting/order of the dataframe\n",
    "df = pd.DataFrame(index=index, data=data).iloc[::-1]"
   ]
  },
  {
   "cell_type": "code",
   "execution_count": null,
   "metadata": {
    "collapsed": true
   },
   "outputs": [],
   "source": []
  },
  {
   "cell_type": "code",
   "execution_count": null,
   "metadata": {
    "collapsed": true
   },
   "outputs": [],
   "source": []
  },
  {
   "cell_type": "code",
   "execution_count": null,
   "metadata": {
    "collapsed": true
   },
   "outputs": [],
   "source": []
  },
  {
   "cell_type": "code",
   "execution_count": null,
   "metadata": {
    "collapsed": true
   },
   "outputs": [],
   "source": []
  }
 ],
 "metadata": {
  "kernelspec": {
   "display_name": "Python 3",
   "language": "python",
   "name": "python3"
  },
  "language_info": {
   "codemirror_mode": {
    "name": "ipython",
    "version": 3
   },
   "file_extension": ".py",
   "mimetype": "text/x-python",
   "name": "python",
   "nbconvert_exporter": "python",
   "pygments_lexer": "ipython3",
   "version": "3.6.5"
  }
 },
 "nbformat": 4,
 "nbformat_minor": 2
}
