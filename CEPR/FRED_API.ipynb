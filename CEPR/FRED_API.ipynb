{
 "cells": [
  {
   "cell_type": "code",
   "execution_count": 1,
   "metadata": {
    "collapsed": false
   },
   "outputs": [],
   "source": [
    "# Import preliminaries\n",
    "\n",
    "import requests\n",
    "import pandas as pd\n",
    "import config\n",
    "from collections import OrderedDict\n",
    "\n",
    "import matplotlib.pyplot as plt\n",
    "%matplotlib inline"
   ]
  },
  {
   "cell_type": "code",
   "execution_count": 2,
   "metadata": {
    "collapsed": false
   },
   "outputs": [],
   "source": [
    "base = 'https://api.stlouisfed.org/fred/series/observations?series_id='\n",
    "\n",
    "s_list = {\n",
    "    'Manufacturing': 'CES3000000008',\n",
    "    'Mining and Logging': 'CES1000000008',\n",
    "    'Information': 'CES5000000008',\n",
    "    'Financial Activities': 'CES5500000008',\n",
    "    'Professional and Business Services': 'CES6000000008',\n",
    "    'Education and Health Services': 'CES6500000008',\n",
    "    'Leisure and Hospitality': 'CES7000000008',\n",
    "    'Other Services': 'CES8000000008',\n",
    "    'Trade, Transportation, and Utilities': 'CES4000000008',\n",
    "    'Total Private': 'AHETPI',\n",
    "    'CPI All Urban Consumers': 'CPIAUCSL',\n",
    "    'CPI-Urban Wage Earners and Clerical Workers': 'CWUR0000SA0'\n",
    "}\n",
    "\n",
    "dates = '&observation_start=1964-01-01'\n",
    "key = '&api_key={}'.format(config.fred_key)\n",
    "ftype = '&file_type=json'\n",
    "\n",
    "d = {}\n",
    "p_list = ['CPIAUCSL', 'CWUR0000SA0']\n",
    "w_list = {k:v for k,v in s_list.iteritems() if v not in p_list}\n",
    "for k, v in s_list.iteritems():\n",
    "    url = '{}{}{}{}{}'.format(base, v, dates, key, ftype)\n",
    "    df = pd.DataFrame(requests.get(url).json()['observations'])\n",
    "    df = df.set_index(pd.to_datetime(df['date']))\n",
    "    df = df.rename(columns={'value': v})[v].astype(float)\n",
    "    d[v] = df\n",
    "df = pd.DataFrame(d)\n",
    "for k, v in w_list.iteritems():\n",
    "    df[v+'_rw'] = df[v].multiply(df['CWUR0000SA0'][0]).divide(\n",
    "        df['CWUR0000SA0']).pct_change(12).multiply(100)"
   ]
  },
  {
   "cell_type": "code",
   "execution_count": 11,
   "metadata": {
    "collapsed": false
   },
   "outputs": [
    {
     "data": {
      "text/plain": [
       "date\n",
       "1999-01-01    16.37\n",
       "1999-02-01    16.30\n",
       "1999-03-01    16.31\n",
       "1999-04-01    16.26\n",
       "1999-05-01    16.31\n",
       "1999-06-01    16.31\n",
       "1999-07-01    16.44\n",
       "1999-08-01    16.36\n",
       "1999-09-01    16.39\n",
       "1999-10-01    16.37\n",
       "1999-11-01    16.30\n",
       "1999-12-01    16.28\n",
       "2000-01-01    16.37\n",
       "2000-02-01    16.38\n",
       "2000-03-01    16.42\n",
       "2000-04-01    16.55\n",
       "2000-05-01    16.58\n",
       "2000-06-01    16.58\n",
       "2000-07-01    16.57\n",
       "2000-08-01    16.58\n",
       "2000-09-01    16.58\n",
       "2000-10-01    16.62\n",
       "2000-11-01    16.64\n",
       "2000-12-01    16.74\n",
       "2001-01-01    16.76\n",
       "2001-02-01    16.83\n",
       "2001-03-01    16.85\n",
       "2001-04-01    16.78\n",
       "2001-05-01    16.91\n",
       "2001-06-01    17.12\n",
       "              ...  \n",
       "2014-11-01    26.97\n",
       "2014-12-01    26.67\n",
       "2015-01-01    26.53\n",
       "2015-02-01    26.49\n",
       "2015-03-01    26.49\n",
       "2015-04-01    26.30\n",
       "2015-05-01    26.37\n",
       "2015-06-01    26.28\n",
       "2015-07-01    26.40\n",
       "2015-08-01    26.54\n",
       "2015-09-01    26.79\n",
       "2015-10-01    26.65\n",
       "2015-11-01    26.63\n",
       "2015-12-01    26.59\n",
       "2016-01-01    26.84\n",
       "2016-02-01    26.86\n",
       "2016-03-01    26.90\n",
       "2016-04-01    27.13\n",
       "2016-05-01    27.12\n",
       "2016-06-01    27.16\n",
       "2016-07-01    27.07\n",
       "2016-08-01    27.08\n",
       "2016-09-01    27.09\n",
       "2016-10-01    27.20\n",
       "2016-11-01    27.07\n",
       "2016-12-01    27.36\n",
       "2017-01-01    27.55\n",
       "2017-02-01    27.54\n",
       "2017-03-01    27.76\n",
       "2017-04-01    27.83\n",
       "Freq: MS, Name: CES1000000008, dtype: float64"
      ]
     },
     "execution_count": 11,
     "metadata": {},
     "output_type": "execute_result"
    }
   ],
   "source": [
    "df[420:]['CES1000000008']"
   ]
  },
  {
   "cell_type": "code",
   "execution_count": 21,
   "metadata": {
    "collapsed": false
   },
   "outputs": [
    {
     "data": {
      "text/plain": [
       "{'Education and Health Services': {'cumulative_change': '41.37',\n",
       "  'current_month': 'Apr 2017',\n",
       "  'nominal_wage': '22.95',\n",
       "  'series': 'CES6500000008',\n",
       "  'wage_growth_curr': '-0.003'},\n",
       " 'Financial Activities': {'cumulative_change': '427.54',\n",
       "  'current_month': 'Apr 2017',\n",
       "  'nominal_wage': '26.49',\n",
       "  'series': 'CES5500000008',\n",
       "  'wage_growth_curr': '-0.67'},\n",
       " 'Information': {'cumulative_change': '172.04',\n",
       "  'current_month': 'Apr 2017',\n",
       "  'nominal_wage': '30.54',\n",
       "  'series': 'CES5000000008',\n",
       "  'wage_growth_curr': '0.202'},\n",
       " 'Leisure and Hospitality': {'cumulative_change': '15.07',\n",
       "  'current_month': 'Apr 2017',\n",
       "  'nominal_wage': '13.3',\n",
       "  'series': 'CES7000000008',\n",
       "  'wage_growth_curr': '1.889'},\n",
       " 'Manufacturing': {'cumulative_change': '18.09',\n",
       "  'current_month': 'Apr 2017',\n",
       "  'nominal_wage': '20.72',\n",
       "  'series': 'CES3000000008',\n",
       "  'wage_growth_curr': '-0.51'},\n",
       " 'Mining and Logging': {'cumulative_change': '-11.02',\n",
       "  'current_month': 'Apr 2017',\n",
       "  'nominal_wage': '27.83',\n",
       "  'series': 'CES1000000008',\n",
       "  'wage_growth_curr': '0.432'},\n",
       " 'Other Services': {'cumulative_change': '20.22',\n",
       "  'current_month': 'Apr 2017',\n",
       "  'nominal_wage': '19.81',\n",
       "  'series': 'CES8000000008',\n",
       "  'wage_growth_curr': '0.597'},\n",
       " 'Professional and Business Services': {'cumulative_change': '47.13',\n",
       "  'current_month': 'Apr 2017',\n",
       "  'nominal_wage': '26.01',\n",
       "  'series': 'CES6000000008',\n",
       "  'wage_growth_curr': '0.773'},\n",
       " 'Total Private': {'cumulative_change': '28.72',\n",
       "  'current_month': 'Apr 2017',\n",
       "  'nominal_wage': '21.96',\n",
       "  'series': 'AHETPI',\n",
       "  'wage_growth_curr': '0.187'},\n",
       " 'Trade, Transportation, and Utilities': {'cumulative_change': '27.07',\n",
       "  'current_month': 'Apr 2017',\n",
       "  'nominal_wage': '19.26',\n",
       "  'series': 'CES4000000008',\n",
       "  'wage_growth_curr': '-0.44'}}"
      ]
     },
     "execution_count": 21,
     "metadata": {},
     "output_type": "execute_result"
    }
   ],
   "source": [
    "w_list = {k:v for k,v in s_list.iteritems() if v not in p_list}\n",
    "for k, v in w_list.iteritems():\n",
    "    w_list[k] = {'series': v}\n",
    "    w_list[k]['current_month'] = df.index[-1].strftime('%b %Y')\n",
    "    w_list[k]['nominal_wage'] = str(df[v][-1])\n",
    "    w_list[k]['wage_growth_curr'] = str(df[v+'_rw'][-1].round(3))\n",
    "    ch_val = df.ix['2000-01-01'][v+'_rw']\n",
    "    w_list[k]['cumulative_change'] = str(round((df[v][-1] - ch_val)/ch_val,2))\n",
    "w_list"
   ]
  },
  {
   "cell_type": "code",
   "execution_count": 22,
   "metadata": {
    "collapsed": false
   },
   "outputs": [],
   "source": [
    "w_list = OrderedDict(sorted(w_list.iteritems(), key=lambda x: float(x[1]['cumulative_change'])))\n",
    "\n",
    "bar_vals = [float(w_list[k]['cumulative_change']) for k in w_list.keys()]\n",
    "\n",
    "pd.DataFrame(w_list).T['cumulative_change'].astype(float).sort_values(ascending=False).reset_index().to_json('ahe.json', orient='records')"
   ]
  },
  {
   "cell_type": "code",
   "execution_count": 23,
   "metadata": {
    "collapsed": false
   },
   "outputs": [
    {
     "data": {
      "image/png": "[encoded data removed]",
      "text/plain": [
       "<matplotlib.figure.Figure at 0xad14908>"
      ]
     },
     "metadata": {},
     "output_type": "display_data"
    }
   ],
   "source": [
    "fig, ax = plt.subplots()\n",
    "ax.xaxis.grid(True)\n",
    "plt.barh(range(len(w_list)), bar_vals, align='center', zorder=3)\n",
    "plt.yticks(range(len(w_list)), w_list.keys())\n",
    "plt.title('Production and non-supervisory employees, percent change by industry')\n",
    "plt.suptitle('Purchasing power growth since 2000', fontsize=14)\n",
    "plt.subplots_adjust(top=0.88)\n",
    "ax.spines['top'].set_visible(False)\n",
    "ax.spines['right'].set_visible(False)\n",
    "ax.spines['bottom'].set_visible(False)\n",
    "ax.spines['left'].set_visible(False)\n",
    "ax.xaxis.set_ticks_position('bottom')\n",
    "ax.yaxis.set_ticks_position('left')\n",
    "ax.set_xlim(-50, 490)\n",
    "\n",
    "plt.show()\n",
    "\n",
    "# Need to add footnote with source\n",
    "# Need to sort \n",
    "# Need to make to\n",
    "# Value labels"
   ]
  },
  {
   "cell_type": "code",
   "execution_count": 24,
   "metadata": {
    "collapsed": false
   },
   "outputs": [],
   "source": [
    "#df['CES3000000008_rw'].plot()"
   ]
  }
 ],
 "metadata": {
  "anaconda-cloud": {},
  "kernelspec": {
   "display_name": "Python 2",
   "language": "python",
   "name": "python2"
  },
  "language_info": {
   "codemirror_mode": {
    "name": "ipython",
    "version": 2
   },
   "file_extension": ".py",
   "mimetype": "text/x-python",
   "name": "python",
   "nbconvert_exporter": "python",
   "pygments_lexer": "ipython2",
   "version": "2.7.13"
  }
 },
 "nbformat": 4,
 "nbformat_minor": 1
}
