{
 "cells": [
  {
   "cell_type": "code",
   "execution_count": 1,
   "metadata": {
    "collapsed": true
   },
   "outputs": [],
   "source": [
    "import pandas as pd\n",
    "import pandas_datareader.data as web\n",
    "import datetime\n",
    "import StringIO\n",
    "import requests\n",
    "import quandl\n",
    "import config   ## File with API key\n",
    "quandl.ApiConfig.api_key = config.key\n",
    "\n",
    "def write_txt(filename, filetext):\n",
    "# Write label to txt file\n",
    "    with open(filename, 'w') as text_file:\n",
    "        text_file.write(filetext)"
   ]
  },
  {
   "cell_type": "code",
   "execution_count": 25,
   "metadata": {},
   "outputs": [
    {
     "data": {
      "text/html": [
       "<div>\n",
       "<table border=\"1\" class=\"dataframe\">\n",
       "  <thead>\n",
       "    <tr style=\"text-align: right;\">\n",
       "      <th></th>\n",
       "      <th>0</th>\n",
       "      <th>1</th>\n",
       "      <th>2</th>\n",
       "      <th>3</th>\n",
       "    </tr>\n",
       "  </thead>\n",
       "  <tbody>\n",
       "    <tr>\n",
       "      <th>5133</th>\n",
       "      <td>COAEF1000601GCQ03000@</td>\n",
       "      <td>Q</td>\n",
       "      <td>201501</td>\n",
       "      <td>1</td>\n",
       "    </tr>\n",
       "    <tr>\n",
       "      <th>5134</th>\n",
       "      <td>COAEF1000601GCQ03000@</td>\n",
       "      <td>Q</td>\n",
       "      <td>201502</td>\n",
       "      <td>0</td>\n",
       "    </tr>\n",
       "    <tr>\n",
       "      <th>5135</th>\n",
       "      <td>COAEF1000601GCQ03000@</td>\n",
       "      <td>Q</td>\n",
       "      <td>201503</td>\n",
       "      <td>0</td>\n",
       "    </tr>\n",
       "    <tr>\n",
       "      <th>5136</th>\n",
       "      <td>COAEF1000601GCQ03000@</td>\n",
       "      <td>Q</td>\n",
       "      <td>201504</td>\n",
       "      <td>0</td>\n",
       "    </tr>\n",
       "    <tr>\n",
       "      <th>5137</th>\n",
       "      <td>COAEF1000601GCQ03000@</td>\n",
       "      <td>Q</td>\n",
       "      <td>201601</td>\n",
       "      <td>-4</td>\n",
       "    </tr>\n",
       "    <tr>\n",
       "      <th>5138</th>\n",
       "      <td>COAEF1000601GCQ03000@</td>\n",
       "      <td>Q</td>\n",
       "      <td>201602</td>\n",
       "      <td>-5</td>\n",
       "    </tr>\n",
       "    <tr>\n",
       "      <th>5139</th>\n",
       "      <td>COAEF1000601GCQ03000@</td>\n",
       "      <td>Q</td>\n",
       "      <td>201603</td>\n",
       "      <td>-3</td>\n",
       "    </tr>\n",
       "    <tr>\n",
       "      <th>5140</th>\n",
       "      <td>COAEF1000601GCQ03000@</td>\n",
       "      <td>Q</td>\n",
       "      <td>201604</td>\n",
       "      <td>1</td>\n",
       "    </tr>\n",
       "    <tr>\n",
       "      <th>5141</th>\n",
       "      <td>COAEF1000601GCQ03000@</td>\n",
       "      <td>Q</td>\n",
       "      <td>201701</td>\n",
       "      <td>5</td>\n",
       "    </tr>\n",
       "  </tbody>\n",
       "</table>\n",
       "</div>"
      ],
      "text/plain": [
       "                          0  1       2   3\n",
       "5133  COAEF1000601GCQ03000@  Q  201501   1\n",
       "5134  COAEF1000601GCQ03000@  Q  201502   0\n",
       "5135  COAEF1000601GCQ03000@  Q  201503   0\n",
       "5136  COAEF1000601GCQ03000@  Q  201504   0\n",
       "5137  COAEF1000601GCQ03000@  Q  201601  -4\n",
       "5138  COAEF1000601GCQ03000@  Q  201602  -5\n",
       "5139  COAEF1000601GCQ03000@  Q  201603  -3\n",
       "5140  COAEF1000601GCQ03000@  Q  201604   1\n",
       "5141  COAEF1000601GCQ03000@  Q  201701   5"
      ]
     },
     "execution_count": 25,
     "metadata": {},
     "output_type": "execute_result"
    }
   ],
   "source": [
    "url = 'https://www.stat-search.boj.or.jp/info/co.zip'\n",
    "r = requests.get(url, stream=True)\n",
    "df = pd.read_csv(StringIO.StringIO(r.content), compression='zip', header=None)\n",
    "df[df[0] == 'COAEF1000601GCQ03000@']\n",
    "#df2.loc[:,'date'] = [pd.to_datetime(row[1][:4] + 'Q' + row[1][5:]) for row in df2[2].astype(str).iteritems()]"
   ]
  },
  {
   "cell_type": "code",
   "execution_count": 27,
   "metadata": {},
   "outputs": [
    {
     "data": {
      "text/html": [
       "<div>\n",
       "<table border=\"1\" class=\"dataframe\">\n",
       "  <thead>\n",
       "    <tr style=\"text-align: right;\">\n",
       "      <th></th>\n",
       "      <th>0</th>\n",
       "      <th>1</th>\n",
       "      <th>2</th>\n",
       "      <th>3</th>\n",
       "    </tr>\n",
       "  </thead>\n",
       "  <tbody>\n",
       "    <tr>\n",
       "      <th>5124</th>\n",
       "      <td>COAEF1000601GCQ02000@</td>\n",
       "      <td>Q</td>\n",
       "      <td>201501</td>\n",
       "      <td>4</td>\n",
       "    </tr>\n",
       "    <tr>\n",
       "      <th>5125</th>\n",
       "      <td>COAEF1000601GCQ02000@</td>\n",
       "      <td>Q</td>\n",
       "      <td>201502</td>\n",
       "      <td>2</td>\n",
       "    </tr>\n",
       "    <tr>\n",
       "      <th>5126</th>\n",
       "      <td>COAEF1000601GCQ02000@</td>\n",
       "      <td>Q</td>\n",
       "      <td>201503</td>\n",
       "      <td>5</td>\n",
       "    </tr>\n",
       "    <tr>\n",
       "      <th>5127</th>\n",
       "      <td>COAEF1000601GCQ02000@</td>\n",
       "      <td>Q</td>\n",
       "      <td>201504</td>\n",
       "      <td>5</td>\n",
       "    </tr>\n",
       "    <tr>\n",
       "      <th>5128</th>\n",
       "      <td>COAEF1000601GCQ02000@</td>\n",
       "      <td>Q</td>\n",
       "      <td>201601</td>\n",
       "      <td>5</td>\n",
       "    </tr>\n",
       "    <tr>\n",
       "      <th>5129</th>\n",
       "      <td>COAEF1000601GCQ02000@</td>\n",
       "      <td>Q</td>\n",
       "      <td>201602</td>\n",
       "      <td>1</td>\n",
       "    </tr>\n",
       "    <tr>\n",
       "      <th>5130</th>\n",
       "      <td>COAEF1000601GCQ02000@</td>\n",
       "      <td>Q</td>\n",
       "      <td>201603</td>\n",
       "      <td>3</td>\n",
       "    </tr>\n",
       "    <tr>\n",
       "      <th>5131</th>\n",
       "      <td>COAEF1000601GCQ02000@</td>\n",
       "      <td>Q</td>\n",
       "      <td>201604</td>\n",
       "      <td>6</td>\n",
       "    </tr>\n",
       "    <tr>\n",
       "      <th>5132</th>\n",
       "      <td>COAEF1000601GCQ02000@</td>\n",
       "      <td>Q</td>\n",
       "      <td>201701</td>\n",
       "      <td>11</td>\n",
       "    </tr>\n",
       "  </tbody>\n",
       "</table>\n",
       "</div>"
      ],
      "text/plain": [
       "                          0  1       2   3\n",
       "5124  COAEF1000601GCQ02000@  Q  201501   4\n",
       "5125  COAEF1000601GCQ02000@  Q  201502   2\n",
       "5126  COAEF1000601GCQ02000@  Q  201503   5\n",
       "5127  COAEF1000601GCQ02000@  Q  201504   5\n",
       "5128  COAEF1000601GCQ02000@  Q  201601   5\n",
       "5129  COAEF1000601GCQ02000@  Q  201602   1\n",
       "5130  COAEF1000601GCQ02000@  Q  201603   3\n",
       "5131  COAEF1000601GCQ02000@  Q  201604   6\n",
       "5132  COAEF1000601GCQ02000@  Q  201701  11"
      ]
     },
     "execution_count": 27,
     "metadata": {},
     "output_type": "execute_result"
    }
   ],
   "source": [
    "df[df[0] == 'COAEF1000601GCQ02000@']"
   ]
  },
  {
   "cell_type": "code",
   "execution_count": 7,
   "metadata": {},
   "outputs": [],
   "source": [
    "df2.loc[:,'date'] = [pd.to_datetime(row[1][:4] + 'Q' + row[1][5:]) for row in df2[2].astype(str).iteritems()]"
   ]
  },
  {
   "cell_type": "code",
   "execution_count": 23,
   "metadata": {},
   "outputs": [
    {
     "data": {
      "text/plain": [
       "Period('2015Q1', 'Q-DEC')"
      ]
     },
     "execution_count": 23,
     "metadata": {},
     "output_type": "execute_result"
    }
   ],
   "source": [
    "df2['date'][5106].to_period('Q')"
   ]
  },
  {
   "cell_type": "code",
   "execution_count": null,
   "metadata": {},
   "outputs": [],
   "source": [
    "df[df[0] == 'COAEF1000601GCQ00000@'].iloc[-1:,3].values"
   ]
  },
  {
   "cell_type": "code",
   "execution_count": null,
   "metadata": {},
   "outputs": [],
   "source": [
    "pd.to_datetime(df[df[0] == 'COAEF1000601GCQ00000@'][2]).dt.to_period('Q')"
   ]
  },
  {
   "cell_type": "code",
   "execution_count": null,
   "metadata": {},
   "outputs": [],
   "source": [
    "for row in df[df[0] == 'COAEF1000601GCQ00000@'][2].astype(str).iteritems():\n",
    "    print pd.to_datetime(row[1][:4] + 'Q' + row[1][5:]).to_period('Q')"
   ]
  },
  {
   "cell_type": "code",
   "execution_count": null,
   "metadata": {},
   "outputs": [],
   "source": [
    "df[df[0] == 'COAEF1000601GCQ00000@'][2].astype(str).str.replace('......', '....Q.', regex=True)"
   ]
  },
  {
   "cell_type": "code",
   "execution_count": null,
   "metadata": {
    "collapsed": true
   },
   "outputs": [],
   "source": [
    "df2 = df[df[0] == 'COAEF1000601GCQ00000@']"
   ]
  },
  {
   "cell_type": "code",
   "execution_count": null,
   "metadata": {},
   "outputs": [],
   "source": [
    "df2 = df[df[0] == 'COAEF1000601GCQ00000@']\n",
    "df2.loc[:,'date'] = [pd.to_datetime(row[1][:4] + 'Q' + row[1][5:]).to_period('Q') for row in df2[2].astype(str).iteritems()]"
   ]
  }
 ],
 "metadata": {
  "kernelspec": {
   "display_name": "Python [conda root]",
   "language": "python",
   "name": "conda-root-py"
  },
  "language_info": {
   "codemirror_mode": {
    "name": "ipython",
    "version": 2
   },
   "file_extension": ".py",
   "mimetype": "text/x-python",
   "name": "python",
   "nbconvert_exporter": "python",
   "pygments_lexer": "ipython2",
   "version": "2.7.12"
  }
 },
 "nbformat": 4,
 "nbformat_minor": 2
}
