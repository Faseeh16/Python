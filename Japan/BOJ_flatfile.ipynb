{
 "cells": [
  {
   "cell_type": "code",
   "execution_count": 2,
   "metadata": {},
   "outputs": [],
   "source": [
    "import pandas as pd\n",
    "import pandas_datareader.data as web\n",
    "import datetime\n",
    "import StringIO\n",
    "import requests\n",
    "import quandl\n",
    "import config   ## File with API key\n",
    "quandl.ApiConfig.api_key = config.key\n",
    "\n",
    "def write_txt(filename, filetext):\n",
    "# Write label to txt file\n",
    "    with open(filename, 'w') as text_file:\n",
    "        text_file.write(filetext)"
   ]
  },
  {
   "cell_type": "code",
   "execution_count": 3,
   "metadata": {},
   "outputs": [
    {
     "name": "stderr",
     "output_type": "stream",
     "text": [
      "C:\\Users\\BDew\\Anaconda2\\lib\\site-packages\\IPython\\core\\interactiveshell.py:2717: DtypeWarning: Columns (3) have mixed types. Specify dtype option on import or set low_memory=False.\n",
      "  interactivity=interactivity, compiler=compiler, result=result)\n"
     ]
    },
    {
     "data": {
      "text/html": [
       "<div>\n",
       "<style>\n",
       "    .dataframe thead tr:only-child th {\n",
       "        text-align: right;\n",
       "    }\n",
       "\n",
       "    .dataframe thead th {\n",
       "        text-align: left;\n",
       "    }\n",
       "\n",
       "    .dataframe tbody tr th {\n",
       "        vertical-align: top;\n",
       "    }\n",
       "</style>\n",
       "<table border=\"1\" class=\"dataframe\">\n",
       "  <thead>\n",
       "    <tr style=\"text-align: right;\">\n",
       "      <th></th>\n",
       "      <th>0</th>\n",
       "      <th>1</th>\n",
       "      <th>2</th>\n",
       "      <th>3</th>\n",
       "    </tr>\n",
       "  </thead>\n",
       "  <tbody>\n",
       "    <tr>\n",
       "      <th>5767</th>\n",
       "      <td>COAEF1000601GCQ03000@</td>\n",
       "      <td>Q</td>\n",
       "      <td>201501</td>\n",
       "      <td>1</td>\n",
       "    </tr>\n",
       "    <tr>\n",
       "      <th>5768</th>\n",
       "      <td>COAEF1000601GCQ03000@</td>\n",
       "      <td>Q</td>\n",
       "      <td>201502</td>\n",
       "      <td>0</td>\n",
       "    </tr>\n",
       "    <tr>\n",
       "      <th>5769</th>\n",
       "      <td>COAEF1000601GCQ03000@</td>\n",
       "      <td>Q</td>\n",
       "      <td>201503</td>\n",
       "      <td>0</td>\n",
       "    </tr>\n",
       "    <tr>\n",
       "      <th>5770</th>\n",
       "      <td>COAEF1000601GCQ03000@</td>\n",
       "      <td>Q</td>\n",
       "      <td>201504</td>\n",
       "      <td>0</td>\n",
       "    </tr>\n",
       "    <tr>\n",
       "      <th>5771</th>\n",
       "      <td>COAEF1000601GCQ03000@</td>\n",
       "      <td>Q</td>\n",
       "      <td>201601</td>\n",
       "      <td>-4</td>\n",
       "    </tr>\n",
       "    <tr>\n",
       "      <th>5772</th>\n",
       "      <td>COAEF1000601GCQ03000@</td>\n",
       "      <td>Q</td>\n",
       "      <td>201602</td>\n",
       "      <td>-5</td>\n",
       "    </tr>\n",
       "    <tr>\n",
       "      <th>5773</th>\n",
       "      <td>COAEF1000601GCQ03000@</td>\n",
       "      <td>Q</td>\n",
       "      <td>201603</td>\n",
       "      <td>-3</td>\n",
       "    </tr>\n",
       "    <tr>\n",
       "      <th>5774</th>\n",
       "      <td>COAEF1000601GCQ03000@</td>\n",
       "      <td>Q</td>\n",
       "      <td>201604</td>\n",
       "      <td>1</td>\n",
       "    </tr>\n",
       "    <tr>\n",
       "      <th>5775</th>\n",
       "      <td>COAEF1000601GCQ03000@</td>\n",
       "      <td>Q</td>\n",
       "      <td>201701</td>\n",
       "      <td>5</td>\n",
       "    </tr>\n",
       "    <tr>\n",
       "      <th>5776</th>\n",
       "      <td>COAEF1000601GCQ03000@</td>\n",
       "      <td>Q</td>\n",
       "      <td>201702</td>\n",
       "      <td>7</td>\n",
       "    </tr>\n",
       "  </tbody>\n",
       "</table>\n",
       "</div>"
      ],
      "text/plain": [
       "                          0  1       2  3\n",
       "5767  COAEF1000601GCQ03000@  Q  201501  1\n",
       "5768  COAEF1000601GCQ03000@  Q  201502  0\n",
       "5769  COAEF1000601GCQ03000@  Q  201503  0\n",
       "5770  COAEF1000601GCQ03000@  Q  201504  0\n",
       "5771  COAEF1000601GCQ03000@  Q  201601 -4\n",
       "5772  COAEF1000601GCQ03000@  Q  201602 -5\n",
       "5773  COAEF1000601GCQ03000@  Q  201603 -3\n",
       "5774  COAEF1000601GCQ03000@  Q  201604  1\n",
       "5775  COAEF1000601GCQ03000@  Q  201701  5\n",
       "5776  COAEF1000601GCQ03000@  Q  201702  7"
      ]
     },
     "execution_count": 3,
     "metadata": {},
     "output_type": "execute_result"
    }
   ],
   "source": [
    "url = 'https://www.stat-search.boj.or.jp/info/co.zip'\n",
    "r = requests.get(url, stream=True)\n",
    "df = pd.read_csv(StringIO.StringIO(r.content), compression='zip', header=None)\n",
    "df[df[0] == 'COAEF1000601GCQ03000@']\n",
    "#df2.loc[:,'date'] = [pd.to_datetime(row[1][:4] + 'Q' + row[1][5:]) for row in df2[2].astype(str).iteritems()]"
   ]
  },
  {
   "cell_type": "code",
   "execution_count": 7,
   "metadata": {},
   "outputs": [
    {
     "data": {
      "text/html": [
       "<div>\n",
       "<style>\n",
       "    .dataframe thead tr:only-child th {\n",
       "        text-align: right;\n",
       "    }\n",
       "\n",
       "    .dataframe thead th {\n",
       "        text-align: left;\n",
       "    }\n",
       "\n",
       "    .dataframe tbody tr th {\n",
       "        vertical-align: top;\n",
       "    }\n",
       "</style>\n",
       "<table border=\"1\" class=\"dataframe\">\n",
       "  <thead>\n",
       "    <tr style=\"text-align: right;\">\n",
       "      <th></th>\n",
       "      <th>0</th>\n",
       "      <th>1</th>\n",
       "      <th>2</th>\n",
       "      <th>3</th>\n",
       "    </tr>\n",
       "  </thead>\n",
       "  <tbody>\n",
       "    <tr>\n",
       "      <th>5737</th>\n",
       "      <td>COAEF1000601GCQ00000@</td>\n",
       "      <td>Q</td>\n",
       "      <td>201501</td>\n",
       "      <td>5</td>\n",
       "    </tr>\n",
       "    <tr>\n",
       "      <th>5738</th>\n",
       "      <td>COAEF1000601GCQ00000@</td>\n",
       "      <td>Q</td>\n",
       "      <td>201502</td>\n",
       "      <td>4</td>\n",
       "    </tr>\n",
       "    <tr>\n",
       "      <th>5739</th>\n",
       "      <td>COAEF1000601GCQ00000@</td>\n",
       "      <td>Q</td>\n",
       "      <td>201503</td>\n",
       "      <td>5</td>\n",
       "    </tr>\n",
       "    <tr>\n",
       "      <th>5740</th>\n",
       "      <td>COAEF1000601GCQ00000@</td>\n",
       "      <td>Q</td>\n",
       "      <td>201504</td>\n",
       "      <td>4</td>\n",
       "    </tr>\n",
       "    <tr>\n",
       "      <th>5741</th>\n",
       "      <td>COAEF1000601GCQ00000@</td>\n",
       "      <td>Q</td>\n",
       "      <td>201601</td>\n",
       "      <td>1</td>\n",
       "    </tr>\n",
       "    <tr>\n",
       "      <th>5742</th>\n",
       "      <td>COAEF1000601GCQ00000@</td>\n",
       "      <td>Q</td>\n",
       "      <td>201602</td>\n",
       "      <td>0</td>\n",
       "    </tr>\n",
       "    <tr>\n",
       "      <th>5743</th>\n",
       "      <td>COAEF1000601GCQ00000@</td>\n",
       "      <td>Q</td>\n",
       "      <td>201603</td>\n",
       "      <td>1</td>\n",
       "    </tr>\n",
       "    <tr>\n",
       "      <th>5744</th>\n",
       "      <td>COAEF1000601GCQ00000@</td>\n",
       "      <td>Q</td>\n",
       "      <td>201604</td>\n",
       "      <td>4</td>\n",
       "    </tr>\n",
       "    <tr>\n",
       "      <th>5745</th>\n",
       "      <td>COAEF1000601GCQ00000@</td>\n",
       "      <td>Q</td>\n",
       "      <td>201701</td>\n",
       "      <td>8</td>\n",
       "    </tr>\n",
       "    <tr>\n",
       "      <th>5746</th>\n",
       "      <td>COAEF1000601GCQ00000@</td>\n",
       "      <td>Q</td>\n",
       "      <td>201702</td>\n",
       "      <td>11</td>\n",
       "    </tr>\n",
       "  </tbody>\n",
       "</table>\n",
       "</div>"
      ],
      "text/plain": [
       "                          0  1       2   3\n",
       "5737  COAEF1000601GCQ00000@  Q  201501   5\n",
       "5738  COAEF1000601GCQ00000@  Q  201502   4\n",
       "5739  COAEF1000601GCQ00000@  Q  201503   5\n",
       "5740  COAEF1000601GCQ00000@  Q  201504   4\n",
       "5741  COAEF1000601GCQ00000@  Q  201601   1\n",
       "5742  COAEF1000601GCQ00000@  Q  201602   0\n",
       "5743  COAEF1000601GCQ00000@  Q  201603   1\n",
       "5744  COAEF1000601GCQ00000@  Q  201604   4\n",
       "5745  COAEF1000601GCQ00000@  Q  201701   8\n",
       "5746  COAEF1000601GCQ00000@  Q  201702  11"
      ]
     },
     "execution_count": 7,
     "metadata": {},
     "output_type": "execute_result"
    }
   ],
   "source": [
    "df[df[0] == 'COAEF1000601GCQ00000@']"
   ]
  },
  {
   "cell_type": "code",
   "execution_count": 7,
   "metadata": {
    "collapsed": true
   },
   "outputs": [],
   "source": [
    "df2.loc[:,'date'] = [pd.to_datetime(row[1][:4] + 'Q' + row[1][5:]) for row in df2[2].astype(str).iteritems()]"
   ]
  },
  {
   "cell_type": "code",
   "execution_count": 23,
   "metadata": {},
   "outputs": [
    {
     "data": {
      "text/plain": [
       "Period('2015Q1', 'Q-DEC')"
      ]
     },
     "execution_count": 23,
     "metadata": {},
     "output_type": "execute_result"
    }
   ],
   "source": [
    "df2['date'][5106].to_period('Q')"
   ]
  },
  {
   "cell_type": "code",
   "execution_count": null,
   "metadata": {
    "collapsed": true
   },
   "outputs": [],
   "source": [
    "df[df[0] == 'COAEF1000601GCQ00000@'].iloc[-1:,3].values"
   ]
  },
  {
   "cell_type": "code",
   "execution_count": null,
   "metadata": {
    "collapsed": true
   },
   "outputs": [],
   "source": [
    "pd.to_datetime(df[df[0] == 'COAEF1000601GCQ00000@'][2]).dt.to_period('Q')"
   ]
  },
  {
   "cell_type": "code",
   "execution_count": null,
   "metadata": {
    "collapsed": true
   },
   "outputs": [],
   "source": [
    "for row in df[df[0] == 'COAEF1000601GCQ00000@'][2].astype(str).iteritems():\n",
    "    print pd.to_datetime(row[1][:4] + 'Q' + row[1][5:]).to_period('Q')"
   ]
  },
  {
   "cell_type": "code",
   "execution_count": null,
   "metadata": {
    "collapsed": true
   },
   "outputs": [],
   "source": [
    "df[df[0] == 'COAEF1000601GCQ00000@'][2].astype(str).str.replace('......', '....Q.', regex=True)"
   ]
  },
  {
   "cell_type": "code",
   "execution_count": null,
   "metadata": {
    "collapsed": true
   },
   "outputs": [],
   "source": [
    "df2 = df[df[0] == 'COAEF1000601GCQ00000@']"
   ]
  },
  {
   "cell_type": "code",
   "execution_count": null,
   "metadata": {
    "collapsed": true
   },
   "outputs": [],
   "source": [
    "df2 = df[df[0] == 'COAEF1000601GCQ00000@']\n",
    "df2.loc[:,'date'] = [pd.to_datetime(row[1][:4] + 'Q' + row[1][5:]).to_period('Q') for row in df2[2].astype(str).iteritems()]"
   ]
  }
 ],
 "metadata": {
  "kernelspec": {
   "display_name": "Python [conda root]",
   "language": "python",
   "name": "conda-root-py"
  },
  "language_info": {
   "codemirror_mode": {
    "name": "ipython",
    "version": 2
   },
   "file_extension": ".py",
   "mimetype": "text/x-python",
   "name": "python",
   "nbconvert_exporter": "python",
   "pygments_lexer": "ipython2",
   "version": "2.7.12"
  }
 },
 "nbformat": 4,
 "nbformat_minor": 2
}
