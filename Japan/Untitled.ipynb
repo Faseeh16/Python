{
 "cells": [
  {
   "cell_type": "code",
   "execution_count": 1,
   "metadata": {
    "collapsed": false
   },
   "outputs": [
    {
     "name": "stderr",
     "output_type": "stream",
     "text": [
      "C:\\Users\\BDew\\Anaconda2\\lib\\site-packages\\bokeh\\util\\deprecation.py:34: BokehDeprecationWarning: bokeh.io.vplot() was deprecated in Bokeh 0.12.0 and will be removed, use bokeh.models.layouts.Column instead.\n",
      "  warn(message)\n"
     ]
    }
   ],
   "source": [
    "import numpy as np\n",
    "\n",
    "from bokeh.plotting import figure, show, output_file, vplot\n",
    "\n",
    "N = 100\n",
    "\n",
    "x = np.linspace(0, 4*np.pi, N)\n",
    "y = np.sin(x)\n",
    "\n",
    "output_file(\"scatter.html\", title=\"scatter.py example\")\n",
    "\n",
    "TOOLS = \"pan,wheel_zoom,box_zoom,reset,save,box_select\"\n",
    "\n",
    "p1 = figure(tools=TOOLS)\n",
    "p1.scatter(x,y, color=\"#FF00FF\", nonselection_fill_color=\"#FFFF00\", nonselection_fill_alpha=1)\n",
    "\n",
    "p2 = figure(tools=TOOLS)\n",
    "p2.scatter(x,y, color=\"red\")\n",
    "\n",
    "p3 = figure(tools=TOOLS)\n",
    "p3.scatter(x,y, marker=\"square\", color=\"green\")\n",
    "\n",
    "p4 = figure(tools=TOOLS)\n",
    "p4.scatter(x,y, marker=\"square\", color=\"blue\")\n",
    "\n",
    "show(vplot(p1, p2, p3, p4))"
   ]
  }
 ],
 "metadata": {
  "kernelspec": {
   "display_name": "Python [default]",
   "language": "python",
   "name": "python2"
  },
  "language_info": {
   "codemirror_mode": {
    "name": "ipython",
    "version": 2
   },
   "file_extension": ".py",
   "mimetype": "text/x-python",
   "name": "python",
   "nbconvert_exporter": "python",
   "pygments_lexer": "ipython2",
   "version": "2.7.12"
  }
 },
 "nbformat": 4,
 "nbformat_minor": 1
}
