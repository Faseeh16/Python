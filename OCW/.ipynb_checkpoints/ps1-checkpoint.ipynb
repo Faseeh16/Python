{
 "cells": [
  {
   "cell_type": "markdown",
   "metadata": {},
   "source": [
    "## MIT 600 Problem Set 1"
   ]
  },
  {
   "cell_type": "markdown",
   "metadata": {},
   "source": [
    "Brian Dew\n",
    "brianwdew@gmail.com"
   ]
  },
  {
   "cell_type": "code",
   "execution_count": null,
   "metadata": {
    "collapsed": false
   },
   "outputs": [
    {
     "data": {
      "text/plain": [
       "float"
      ]
     },
     "execution_count": 1,
     "metadata": {},
     "output_type": "execute_result"
    }
   ],
   "source": [
    "type(3.2)"
   ]
  },
  {
   "cell_type": "code",
   "execution_count": null,
   "metadata": {
    "collapsed": false
   },
   "outputs": [],
   "source": [
    "y = float(raw_input('Enter an integer: '))\n",
    "print y*y"
   ]
  },
  {
   "cell_type": "code",
   "execution_count": null,
   "metadata": {
    "collapsed": false
   },
   "outputs": [],
   "source": [
    "x = int(raw_input('Enter an integer: '))\n",
    "if x%2 == 0:\n",
    "    print 'Even'\n",
    "else: \n",
    "    print 'Odd'\n",
    "    if x%3 != 0:\n",
    "        print 'And not divisible by 3'"
   ]
  },
  {
   "cell_type": "code",
   "execution_count": null,
   "metadata": {
    "collapsed": false
   },
   "outputs": [],
   "source": [
    "x = int(raw_input('Enter an integer: '))\n",
    "ans = 0\n",
    "while ans*ans*ans < abs(x):\n",
    "    ans = ans + 1\n",
    "    print 'current guess =', ans\n",
    "    \n",
    "if ans*ans*ans != abs(x):\n",
    "    print x, 'is not a perfect cube'\n",
    "elif x < 0:\n",
    "    ans = -ans\n",
    "print 'Cube root of ' + str(x) + ' is ' + str(ans)"
   ]
  },
  {
   "cell_type": "code",
   "execution_count": null,
   "metadata": {
    "collapsed": false
   },
   "outputs": [],
   "source": [
    "# Cube root version 2\n",
    "x = int(raw_input('Enter an integer: '))\n",
    "for ans in range(0, abs(x)+1):\n",
    "    if ans**3 == abs(x):\n",
    "        break\n",
    "if ans**3 != abs(x):\n",
    "    print x, 'is not a perfect cube'\n",
    "else: \n",
    "    if x < 0:\n",
    "        ans = -ans\n",
    "    print 'Cube root of ' + str(x) + ' is ' + str(ans)"
   ]
  },
  {
   "cell_type": "code",
   "execution_count": null,
   "metadata": {
    "collapsed": false
   },
   "outputs": [],
   "source": [
    "x = 100\n",
    "epsilon = 0.01 \n",
    "numGuesses = 0\n",
    "low = 0.0\n",
    "high = x\n",
    "ans = (high + low) / 2.0\n",
    "while abs(ans**2 - x) >= epsilon and ans <= x:\n",
    "    #print low, high, ans\n",
    "    numGuesses += 1\n",
    "    if ans**2 < x:\n",
    "        low = ans\n",
    "    else: \n",
    "        high = ans\n",
    "    ans = (high + low)/2.0\n",
    "print 'numGuesses =', numGuesses\n",
    "print round(ans,2), 'is close to the square root of', x"
   ]
  },
  {
   "cell_type": "code",
   "execution_count": null,
   "metadata": {
    "collapsed": false
   },
   "outputs": [],
   "source": [
    "bal = float(raw_input('Enter the outstanding balance on your credit card: '))\n",
    "ann = float(raw_input('Enter the annual credit card interest rate as a decimal: '))\n",
    "minm = float(raw_input('Enter the minimum monthly payment rate as a decimal: '))\n",
    "tot = 0\n",
    "for m in range(1,13):\n",
    "    pay = minm * bal\n",
    "    intr =  (ann / 12) * bal\n",
    "    prin = pay - intr\n",
    "    bal = bal - prin\n",
    "    tot = tot + pay\n",
    "    print 'Month: ' + str(m)\n",
    "    print 'Minimum monthly payment: $' + str(round(pay,2))\n",
    "    print 'Principle paid: $' + str(round(prin,2))\n",
    "    print 'Remaining balance: $' + str(round(bal,2))\n",
    "print 'RESULT'\n",
    "print 'Total amount paid: $' + str(round(tot,2))\n",
    "print 'Remaining balance: $' + str(round(bal,2))"
   ]
  },
  {
   "cell_type": "code",
   "execution_count": null,
   "metadata": {
    "collapsed": true
   },
   "outputs": [],
   "source": [
    "import time"
   ]
  },
  {
   "cell_type": "code",
   "execution_count": null,
   "metadata": {
    "collapsed": false
   },
   "outputs": [],
   "source": [
    "balinp = float(raw_input('Enter the outstanding balance on your credit card: '))\n",
    "ann = float(raw_input('Enter the annual credit card interest rate as a decimal: '))\n",
    "t0 = time.time()\n",
    "i = 0\n",
    "m = 0\n",
    "intr = ann / 12.0\n",
    "bal = balinp * (1 + intr) \n",
    "while bal > 0:\n",
    "    for m in range(0,12):\n",
    "        if bal > 0: \n",
    "            m = m + 1\n",
    "            bal = bal * (1 + intr) - i\n",
    "#    print 'current guess =', i, bal\n",
    "    if bal < 0:\n",
    "        print 'RESULT'\n",
    "        print 'Monthly payment to pay off debt in 1 year: ', round(i,2)\n",
    "        print 'Number of months needed: ', m\n",
    "        print 'Balance: ', round(bal,2)\n",
    "    else:\n",
    "        bal = balinp\n",
    "        i = i + 0.01\n",
    "t1 = time.time()\n",
    "\n",
    "total = t1-t0\n",
    "\n",
    "print total"
   ]
  },
  {
   "cell_type": "code",
   "execution_count": null,
   "metadata": {
    "collapsed": false
   },
   "outputs": [],
   "source": [
    "balinp = float(raw_input('Enter the outstanding balance on your credit card: '))\n",
    "ann = float(raw_input('Enter the annual credit card interest rate as a decimal: '))\n",
    "t0 = time.time()\n",
    "m = 0\n",
    "intr = ann / 12.0\n",
    "imin = round(balinp / 12.0,2)\n",
    "imax = round((balinp * (1 + (ann /12.0))**12.0)/12.0)\n",
    "i = (imax + imin) / 2.0\n",
    "bal = balinp * (1 + intr) \n",
    "while bal > 0 or bal < 0.02:\n",
    "    while bal > 0:\n",
    "        for m in range(0,12):\n",
    "            if bal > 0: \n",
    "                m = m + 1\n",
    "                bal = bal * (1 + intr) - i\n",
    "            if bal < -0.02:\n",
    "                bal = balinp\n",
    "                imax = i \n",
    "            if bal > 0:\n",
    "                bal = balinp\n",
    "                i = i + 0.01\n",
    "    if bal < 0 and bal > -0.02:\n",
    "        print 'RESULT'\n",
    "        print 'Monthly payment to pay off debt in 1 year: ', round(i,2)\n",
    "        print 'Number of months needed: ', m\n",
    "        print 'Balance: ', round(bal,2)        \n",
    "t1 = time.time()\n",
    "\n",
    "total = t1-t0\n",
    "\n",
    "#print total"
   ]
  },
  {
   "cell_type": "code",
   "execution_count": null,
   "metadata": {
    "collapsed": true
   },
   "outputs": [],
   "source": [
    "balinp = float(raw_input('Enter the outstanding balance on your credit card: '))\n",
    "ann = float(raw_input('Enter the annual credit card interest rate as a decimal: '))"
   ]
  },
  {
   "cell_type": "code",
   "execution_count": null,
   "metadata": {
    "collapsed": true
   },
   "outputs": [],
   "source": [
    "x = 100\n",
    "epsilon = 0.01 \n",
    "numGuesses = 0\n",
    "low = 0.0\n",
    "high = x\n",
    "ans = (high + low) / 2.0\n",
    "while abs(ans**2 - x) >= epsilon and ans <= x:\n",
    "    #print low, high, ans\n",
    "    numGuesses += 1\n",
    "    if ans**2 < x:\n",
    "        low = ans\n",
    "    else: \n",
    "        high = ans\n",
    "    ans = (high + low)/2.0\n",
    "print 'numGuesses =', numGuesses\n",
    "652.015.4444444444444444444print round(ans,2), 'is close to the square root of', x/"
   ]
  }
 ],
 "metadata": {
  "kernelspec": {
   "display_name": "Python [default]",
   "language": "python",
   "name": "python2"
  },
  "language_info": {
   "codemirror_mode": {
    "name": "ipython",
    "version": 2
   },
   "file_extension": ".py",
   "mimetype": "text/x-python",
   "name": "python",
   "nbconvert_exporter": "python",
   "pygments_lexer": "ipython2",
   "version": "2.7.12"
  }
 },
 "nbformat": 4,
 "nbformat_minor": 0
}
