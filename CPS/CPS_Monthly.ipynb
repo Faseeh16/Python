{
 "cells": [
  {
   "cell_type": "markdown",
   "metadata": {},
   "source": [
    "Basic Monthly CPS Files in Python 2.7\n",
    "=====\n",
    "\n",
    "## Calculate monthly employment to population ratio\n",
    "\n",
    "-----\n",
    "\n",
    "*September 5, 2017*<br>\n",
    "*Brian Dew, dew@cepr.net*\n",
    "\n",
    "\n",
    "Census CPS Monthly files can be downloaded [here](http://thedataweb.rm.census.gov/ftp/cps_ftp.html)\n",
    "\n",
    "Data dictionary is found [here](http://thedataweb.rm.census.gov/pub/cps/basic/201701-/January_2017_Record_Layout.txt)\n",
    "\n",
    "Cross check with BLS summary statistics [here](https://data.bls.gov/timeseries/LNU02300062)\n",
    "\n",
    "To match the raw data to education categories use [this](http://ceprdata.org/wp-content/cps/programs/basic/cepr_basic_educ.do) file "
   ]
  },
  {
   "cell_type": "code",
   "execution_count": 7,
   "metadata": {
    "collapsed": true
   },
   "outputs": [],
   "source": [
    "import pandas as pd\n",
    "import os"
   ]
  },
  {
   "cell_type": "code",
   "execution_count": 8,
   "metadata": {
    "collapsed": true
   },
   "outputs": [],
   "source": [
    "colspecs = [(15,17), (17,21), (121,123), (128,130), (136,138), (392,394), (845,855)]\n",
    "colnames = ['month', 'year', 'age', 'PESEX', 'PEEDUCA', 'PREMPNOT', 'fnlwgt']\n",
    "\n",
    "educ_dict = {31: 'LTHS',\n",
    "             32: 'LTHS',\n",
    "             33: 'LTHS',\n",
    "             34: 'LTHS',\n",
    "             35: 'LTHS',\n",
    "             36: 'LTHS',\n",
    "             37: 'LTHS',\n",
    "             38: 'HS',\n",
    "             39: 'HS',\n",
    "             40: 'Some college',\n",
    "             41: 'Some college',\n",
    "             42: 'Some college',\n",
    "             43: 'College',\n",
    "             44: 'Advanced',\n",
    "             45: 'Advanced',\n",
    "             46: 'Advanced',\n",
    "            }\n",
    "\n",
    "gender_dict = {1: 0, 2: 1}\n",
    "\n",
    "empl_dict = {1: 1, 2: 0, 3: 0, 4: 0}"
   ]
  },
  {
   "cell_type": "code",
   "execution_count": 9,
   "metadata": {
    "collapsed": false
   },
   "outputs": [
    {
     "name": "stdout",
     "output_type": "stream",
     "text": [
      "apr 2017: Women, age 25-54: 72.3\n",
      "feb 2017: Women, age 25-54: 71.8\n",
      "jan 2017: Women, age 25-54: 71.3\n",
      "jul 2017: Women, age 25-54: 71.4\n",
      "jun 2017: Women, age 25-54: 71.5\n",
      "mar 2017: Women, age 25-54: 72.2\n",
      "may 2017: Women, age 25-54: 72.0\n"
     ]
    }
   ],
   "source": [
    "data = pd.DataFrame()\n",
    "\n",
    "for file in os.listdir(\"C:\\Working\\Python\\CPS\\data\"):\n",
    "    if file.endswith(\".dat\"):\n",
    "        df = pd.read_fwf('data/{}'.format(file), colspecs=colspecs, header=None)\n",
    "        \n",
    "        df.columns = colnames\n",
    "        df['educ'] = df['PEEDUCA'].map(educ_dict)\n",
    "        df['female'] = df['PESEX'].map(gender_dict)\n",
    "        df['empl'] = df['PREMPNOT'].map(empl_dict)\n",
    "        \n",
    "        data = data.append(df)\n",
    "        \n",
    "        df = df[(df['age'] >= 25) & \n",
    "                (df['age'] <=54) &\n",
    "                (df['female'] == 1)]\n",
    "    \n",
    "        emp = df.groupby('empl').sum()['fnlwgt'].iloc[1]\n",
    "        pop = df.groupby('empl').sum()['fnlwgt'].astype('float').sum()\n",
    "        epop_raw = emp/pop\n",
    "        epop = str(round(epop_raw * 100, 1))\n",
    "        print '{} 2017: Women, age 25-54: {}'.format(file[:3], epop) "
   ]
  },
  {
   "cell_type": "code",
   "execution_count": 10,
   "metadata": {
    "collapsed": false
   },
   "outputs": [
    {
     "data": {
      "text/plain": [
       "1044059"
      ]
     },
     "execution_count": 10,
     "metadata": {},
     "output_type": "execute_result"
    }
   ],
   "source": [
    "len(data)"
   ]
  },
  {
   "cell_type": "code",
   "execution_count": 11,
   "metadata": {
    "collapsed": true
   },
   "outputs": [],
   "source": [
    "data.to_stata('C:\\Working\\EPOPs\\data\\cepr_org_2017.dta')"
   ]
  },
  {
   "cell_type": "code",
   "execution_count": 12,
   "metadata": {
    "collapsed": false
   },
   "outputs": [
    {
     "name": "stdout",
     "output_type": "stream",
     "text": [
      "2017: Women, age 25-54: 71.8\n"
     ]
    }
   ],
   "source": [
    "data = data[(data['age'] >= 25) & \n",
    "            (data['age'] <=54) &\n",
    "            (data['female'] == 1)]\n",
    "    \n",
    "emp = data.groupby('empl').sum()['fnlwgt'].iloc[1]\n",
    "pop = data.groupby('empl').sum()['fnlwgt'].astype('float').sum()\n",
    "epop_raw = emp/pop\n",
    "epop = str(round(epop_raw * 100, 1))\n",
    "print '2017: Women, age 25-54: {}'.format(epop) "
   ]
  }
 ],
 "metadata": {
  "kernelspec": {
   "display_name": "Python 2",
   "language": "python",
   "name": "python2"
  },
  "language_info": {
   "codemirror_mode": {
    "name": "ipython",
    "version": 2
   },
   "file_extension": ".py",
   "mimetype": "text/x-python",
   "name": "python",
   "nbconvert_exporter": "python",
   "pygments_lexer": "ipython2",
   "version": "2.7.13"
  }
 },
 "nbformat": 4,
 "nbformat_minor": 2
}
