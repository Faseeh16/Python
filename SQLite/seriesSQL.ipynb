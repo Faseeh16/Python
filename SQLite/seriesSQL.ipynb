{
 "cells": [
  {
   "cell_type": "code",
   "execution_count": 1,
   "metadata": {
    "collapsed": true
   },
   "outputs": [],
   "source": [
    "import requests\n",
    "import pandas as pd\n",
    "import sqlite3"
   ]
  },
  {
   "cell_type": "code",
   "execution_count": 2,
   "metadata": {
    "collapsed": true
   },
   "outputs": [],
   "source": [
    "conn = sqlite3.connect('econ_data.db')"
   ]
  },
  {
   "cell_type": "code",
   "execution_count": 3,
   "metadata": {
    "collapsed": true
   },
   "outputs": [],
   "source": [
    "url = 'http://dataservices.imf.org/REST/SDMX_JSON.svc/'\n",
    "param = [('name', 'Inflation'),\n",
    "         ('dataset', 'IFS'),\n",
    "         ('freq', 'M'),\n",
    "         ('country', 'GB+DE+US'),\n",
    "         ('series', 'PCPI_IX')]\n",
    "series = '.'.join([param[x][1] for x in [2,3,4]])\n",
    "\n",
    "key = 'CompactData/{}/{}'.format(param[1][1], series)"
   ]
  },
  {
   "cell_type": "code",
   "execution_count": 4,
   "metadata": {},
   "outputs": [
    {
     "name": "stderr",
     "output_type": "stream",
     "text": [
      "C:\\Users\\BDew\\Anaconda2\\lib\\site-packages\\pandas\\core\\series.py:1295: RuntimeWarning: invalid value encountered in rint\n",
      "  result = _values_from_object(self).round(decimals)\n"
     ]
    }
   ],
   "source": [
    "r = requests.get('{}{}'.format(url, key)).json()\n",
    "df = pd.DataFrame()\n",
    "for s in r['CompactData']['DataSet']['Series']:\n",
    "    df[s['@REF_AREA']] = pd.Series([float(x['@OBS_VALUE']) for x in s['Obs']],\n",
    "                                  index=[x['@TIME_PERIOD'] for x in s['Obs']])\n",
    "\n",
    "df = df.pct_change(12).multiply(100).round(1)"
   ]
  },
  {
   "cell_type": "code",
   "execution_count": 5,
   "metadata": {},
   "outputs": [],
   "source": [
    "df.to_sql(param[0][1], conn, if_exists='replace', index_label='Date')"
   ]
  },
  {
   "cell_type": "code",
   "execution_count": 9,
   "metadata": {},
   "outputs": [
    {
     "data": {
      "text/html": [
       "<div>\n",
       "<style>\n",
       "    .dataframe thead tr:only-child th {\n",
       "        text-align: right;\n",
       "    }\n",
       "\n",
       "    .dataframe thead th {\n",
       "        text-align: left;\n",
       "    }\n",
       "\n",
       "    .dataframe tbody tr th {\n",
       "        vertical-align: top;\n",
       "    }\n",
       "</style>\n",
       "<table border=\"1\" class=\"dataframe\">\n",
       "  <thead>\n",
       "    <tr style=\"text-align: right;\">\n",
       "      <th></th>\n",
       "      <th>GB</th>\n",
       "      <th>DE</th>\n",
       "      <th>US</th>\n",
       "    </tr>\n",
       "    <tr>\n",
       "      <th>Date</th>\n",
       "      <th></th>\n",
       "      <th></th>\n",
       "      <th></th>\n",
       "    </tr>\n",
       "  </thead>\n",
       "  <tbody>\n",
       "    <tr>\n",
       "      <th>2017-02</th>\n",
       "      <td>2.3</td>\n",
       "      <td>2.2</td>\n",
       "      <td>2.7</td>\n",
       "    </tr>\n",
       "    <tr>\n",
       "      <th>2017-03</th>\n",
       "      <td>2.3</td>\n",
       "      <td>1.6</td>\n",
       "      <td>2.4</td>\n",
       "    </tr>\n",
       "    <tr>\n",
       "      <th>2017-04</th>\n",
       "      <td>2.7</td>\n",
       "      <td>2.0</td>\n",
       "      <td>2.2</td>\n",
       "    </tr>\n",
       "    <tr>\n",
       "      <th>2017-05</th>\n",
       "      <td>2.9</td>\n",
       "      <td>1.5</td>\n",
       "      <td>1.9</td>\n",
       "    </tr>\n",
       "    <tr>\n",
       "      <th>2017-06</th>\n",
       "      <td>2.7</td>\n",
       "      <td>1.6</td>\n",
       "      <td>1.6</td>\n",
       "    </tr>\n",
       "  </tbody>\n",
       "</table>\n",
       "</div>"
      ],
      "text/plain": [
       "          GB   DE   US\n",
       "Date                  \n",
       "2017-02  2.3  2.2  2.7\n",
       "2017-03  2.3  1.6  2.4\n",
       "2017-04  2.7  2.0  2.2\n",
       "2017-05  2.9  1.5  1.9\n",
       "2017-06  2.7  1.6  1.6"
      ]
     },
     "execution_count": 9,
     "metadata": {},
     "output_type": "execute_result"
    }
   ],
   "source": [
    "pd.read_sql(\"select * from Inflation\", conn, index_col='Date', parse_dates=True).tail()"
   ]
  },
  {
   "cell_type": "code",
   "execution_count": null,
   "metadata": {
    "collapsed": true
   },
   "outputs": [],
   "source": []
  },
  {
   "cell_type": "code",
   "execution_count": null,
   "metadata": {
    "collapsed": true
   },
   "outputs": [],
   "source": []
  }
 ],
 "metadata": {
  "kernelspec": {
   "display_name": "Python [conda root]",
   "language": "python",
   "name": "conda-root-py"
  },
  "language_info": {
   "codemirror_mode": {
    "name": "ipython",
    "version": 2
   },
   "file_extension": ".py",
   "mimetype": "text/x-python",
   "name": "python",
   "nbconvert_exporter": "python",
   "pygments_lexer": "ipython2",
   "version": "2.7.12"
  }
 },
 "nbformat": 4,
 "nbformat_minor": 2
}
