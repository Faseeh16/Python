{
 "cells": [
  {
   "cell_type": "code",
   "execution_count": 7,
   "metadata": {
    "collapsed": false
   },
   "outputs": [
    {
     "name": "stdout",
     "output_type": "stream",
     "text": [
      "Database Created\n",
      "Table Created\n",
      "('ID :', 1)\n",
      "('FName :', u'Derek')\n",
      "('LName :', u'Banas')\n",
      "('Age :', 41)\n",
      "('Address :', u'123 Main St')\n",
      "('Salary :', 500000.0)\n",
      "('HireDate :', u'2017-01-13')\n",
      "Database Closed\n"
     ]
    }
   ],
   "source": [
    "import sqlite3\n",
    "import sys\n",
    "\n",
    "def printDB():\n",
    "    \n",
    "    try:\n",
    "        result = theCursor.execute(\"SELECT ID, FName, LName, Age, Address, Salary, HireDate FROM Employees\")\n",
    "        \n",
    "        for row in result:\n",
    "            print(\"ID :\", row[0])\n",
    "            print(\"FName :\", row[1])\n",
    "            print(\"LName :\", row[2])\n",
    "            print(\"Age :\", row[3])            \n",
    "            print(\"Address :\", row[4])\n",
    "            print(\"Salary :\", row[5])            \n",
    "            print(\"HireDate :\", row[6])\n",
    "\n",
    "    except sqlite3.OperationalError:\n",
    "        print(\"The Table Doesn't Exist\")\n",
    "        \n",
    "    except:\n",
    "        print(\"Couldn't Retrieve Data from Database\")\n",
    "        \n",
    "\n",
    "db_conn = sqlite3.connect('test.db')\n",
    "\n",
    "print(\"Database Created\")\n",
    "\n",
    "theCursor = db_conn.cursor()\n",
    "\n",
    "db_conn.execute(\"DROP TABLE IF EXISTS Employees\")\n",
    "db_conn.commit()\n",
    "\n",
    "try:\n",
    "    db_conn.execute(\n",
    "        \"\"\"CREATE TABLE Employees(ID INTEGER PRIMARY KEY \n",
    "        AUTOINCREMENT NOT NULL, FName TEXT NOT NULL, \n",
    "        LName TEXT NOT NULL, Age INTEGER NOT NULL, \n",
    "        Address TEXT, Salary REAL, HireDate TEXT);\"\"\")\n",
    "\n",
    "    db_conn.commit()\n",
    "\n",
    "except sqlite3.OperationalError:\n",
    "    print(\"Table Couldn't Be Created\")\n",
    "\n",
    "print(\"Table Created\")\n",
    "\n",
    "db_conn.execute(\"INSERT INTO Employees (FName, LName, Age, Address, Salary, HireDate) VALUES ('Derek', 'Banas', 41, '123 Main St', '500000', date('now'))\")\n",
    "\n",
    "db_conn.commit() \n",
    "\n",
    "printDB()\n",
    "\n",
    "db_conn.close()\n",
    "\n",
    "print(\"Database Closed\")"
   ]
  }
 ],
 "metadata": {
  "kernelspec": {
   "display_name": "Python [conda root]",
   "language": "python",
   "name": "conda-root-py"
  },
  "language_info": {
   "codemirror_mode": {
    "name": "ipython",
    "version": 2
   },
   "file_extension": ".py",
   "mimetype": "text/x-python",
   "name": "python",
   "nbconvert_exporter": "python",
   "pygments_lexer": "ipython2",
   "version": "2.7.12"
  }
 },
 "nbformat": 4,
 "nbformat_minor": 1
}
