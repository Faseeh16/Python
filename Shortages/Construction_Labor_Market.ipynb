{
 "cells": [
  {
   "cell_type": "markdown",
   "metadata": {},
   "source": [
    "# Do Data Show Construction Labor Market Shortages?\n",
    "\n",
    "Construction company executives are increasingly complaining that they are not able to find qualified workers and need government help. While a tight labor market can result in a situation where not enough workers are available, the overall labor force participation rate and employment to population ratio both suggest that there are still unemployed people willing to work. Looking at the data, this is particularly true in the construction industry. With lots of potential workers still on the sidelines, construction employers can easily grow their workforce to meet demand. The obvious way to do this is by offering wages that pull in skilled workers and/or providing training to get new workers up to speed. It seems, however, that executives are trying very different techniques--getting everyone else to pay to train new construction workers and importing low-wage labor from other countries. \n",
    "\n",
    "#### Points: \n",
    "\n",
    "1) Unemployed per job opening nearly 3x the total for all jobs.<br>\n",
    "2) Average weekly hours are basically flat and currently lower than 2015 level.<br>\n",
    "3) Real wage growth is below total private.<br>\n",
    "4) Construction is seasonal (average hours worked by month) and very subject to swings in the economy (construction layoffs vs total).<br>\n",
    "5) Construction will be slowed by Fed rate hikes (higher borrowing costs for builders).\n",
    "\n",
    "#### Policies that increase the supply of low-wage workers:\n",
    "\n",
    "1) Training programs that put too much emphasis on the skills that executives demand rather than the skills which most benefit workers. <br>\n",
    "2) Visas to bring in low-wage workers from overseas in cases where there are plenty of domestic workers with the appropriate skills. "
   ]
  },
  {
   "cell_type": "markdown",
   "metadata": {},
   "source": [
    "#### Technical preliminaries\n",
    "\n",
    "Python 2.7"
   ]
  },
  {
   "cell_type": "code",
   "execution_count": 1,
   "metadata": {
    "collapsed": true
   },
   "outputs": [],
   "source": [
    "import requests\n",
    "import json\n",
    "import pandas as pd\n",
    "import matplotlib\n",
    "import matplotlib.pyplot as plt\n",
    "import config # file which contains API keys\n",
    "\n",
    "%matplotlib inline"
   ]
  },
  {
   "cell_type": "markdown",
   "metadata": {},
   "source": [
    "#### Request data from BLS"
   ]
  },
  {
   "cell_type": "code",
   "execution_count": 2,
   "metadata": {
    "collapsed": true
   },
   "outputs": [],
   "source": [
    "url = 'https://api.bls.gov/publicAPI/v2/timeseries/data/'\n",
    "key = '?registrationkey={}'.format(config.bls_key)\n",
    "headers = {'Content-type': 'application/json'}   # Request json data\n",
    "sd = {\n",
    "    'TOT_AHE': 'CES0500000008',  # Average hourly earnings\n",
    "    'CON_AHE': 'CES2000000008',\n",
    "    'CON_JOU': 'JTU23000000JOL', # Job openings (level) NSA\n",
    "    'TOT_JOU': 'JTU00000000JOL',\n",
    "    'CON_UN': 'LNU03032231',     # Unemployed persons NSA\n",
    "    'TOT_UN': 'LNU03000000',\n",
    "    'CON_HRS': 'CES2000000002',  # Weekly hours\n",
    "    'TOT_HRS': 'CES0500000002',\n",
    "    'CPI-U': 'CUSR0000SA0',      # CPI for all urban consumers\n",
    "#    'CPI-W': 'CWSR0000SA0',      # CPI for wage earners\n",
    "}"
   ]
  },
  {
   "cell_type": "code",
   "execution_count": 3,
   "metadata": {
    "collapsed": true
   },
   "outputs": [],
   "source": [
    "data = json.dumps({\"seriesid\":sd.values(), \"startyear\":'2014', \"endyear\":'2017'})\n",
    "p = requests.post('{}{}'.format(url, key), headers=headers, data=data).json()"
   ]
  },
  {
   "cell_type": "markdown",
   "metadata": {},
   "source": [
    "#### Build pandas dataframe from results"
   ]
  },
  {
   "cell_type": "code",
   "execution_count": 4,
   "metadata": {
    "collapsed": false
   },
   "outputs": [
    {
     "data": {
      "text/html": [
       "<div>\n",
       "<table border=\"1\" class=\"dataframe\">\n",
       "  <thead>\n",
       "    <tr style=\"text-align: right;\">\n",
       "      <th></th>\n",
       "      <th>CES0500000002</th>\n",
       "      <th>CES0500000008</th>\n",
       "      <th>CES2000000002</th>\n",
       "      <th>CES2000000008</th>\n",
       "      <th>CUSR0000SA0</th>\n",
       "      <th>JTU00000000JOL</th>\n",
       "      <th>JTU23000000JOL</th>\n",
       "      <th>LNU03000000</th>\n",
       "      <th>LNU03032231</th>\n",
       "    </tr>\n",
       "    <tr>\n",
       "      <th>date</th>\n",
       "      <th></th>\n",
       "      <th></th>\n",
       "      <th></th>\n",
       "      <th></th>\n",
       "      <th></th>\n",
       "      <th></th>\n",
       "      <th></th>\n",
       "      <th></th>\n",
       "      <th></th>\n",
       "    </tr>\n",
       "  </thead>\n",
       "  <tbody>\n",
       "    <tr>\n",
       "      <th>2017-02-01</th>\n",
       "      <td>34.3</td>\n",
       "      <td>21.86</td>\n",
       "      <td>39.1</td>\n",
       "      <td>26.29</td>\n",
       "      <td>244.456</td>\n",
       "      <td>5500.0</td>\n",
       "      <td>181.0</td>\n",
       "      <td>7887.0</td>\n",
       "      <td>781.0</td>\n",
       "    </tr>\n",
       "    <tr>\n",
       "      <th>2017-03-01</th>\n",
       "      <td>34.3</td>\n",
       "      <td>21.90</td>\n",
       "      <td>38.7</td>\n",
       "      <td>26.40</td>\n",
       "      <td>243.752</td>\n",
       "      <td>5723.0</td>\n",
       "      <td>161.0</td>\n",
       "      <td>7284.0</td>\n",
       "      <td>764.0</td>\n",
       "    </tr>\n",
       "    <tr>\n",
       "      <th>2017-04-01</th>\n",
       "      <td>34.5</td>\n",
       "      <td>21.96</td>\n",
       "      <td>39.3</td>\n",
       "      <td>26.37</td>\n",
       "      <td>244.158</td>\n",
       "      <td>6312.0</td>\n",
       "      <td>200.0</td>\n",
       "      <td>6555.0</td>\n",
       "      <td>585.0</td>\n",
       "    </tr>\n",
       "    <tr>\n",
       "      <th>2017-05-01</th>\n",
       "      <td>34.4</td>\n",
       "      <td>21.99</td>\n",
       "      <td>39.2</td>\n",
       "      <td>26.51</td>\n",
       "      <td>243.846</td>\n",
       "      <td>5665.0</td>\n",
       "      <td>154.0</td>\n",
       "      <td>6572.0</td>\n",
       "      <td>502.0</td>\n",
       "    </tr>\n",
       "    <tr>\n",
       "      <th>2017-06-01</th>\n",
       "      <td>34.5</td>\n",
       "      <td>22.03</td>\n",
       "      <td>39.2</td>\n",
       "      <td>26.64</td>\n",
       "      <td>243.790</td>\n",
       "      <td>NaN</td>\n",
       "      <td>NaN</td>\n",
       "      <td>7250.0</td>\n",
       "      <td>430.0</td>\n",
       "    </tr>\n",
       "  </tbody>\n",
       "</table>\n",
       "</div>"
      ],
      "text/plain": [
       "            CES0500000002  CES0500000008  CES2000000002  CES2000000008  \\\n",
       "date                                                                     \n",
       "2017-02-01           34.3          21.86           39.1          26.29   \n",
       "2017-03-01           34.3          21.90           38.7          26.40   \n",
       "2017-04-01           34.5          21.96           39.3          26.37   \n",
       "2017-05-01           34.4          21.99           39.2          26.51   \n",
       "2017-06-01           34.5          22.03           39.2          26.64   \n",
       "\n",
       "            CUSR0000SA0  JTU00000000JOL  JTU23000000JOL  LNU03000000  \\\n",
       "date                                                                   \n",
       "2017-02-01      244.456          5500.0           181.0       7887.0   \n",
       "2017-03-01      243.752          5723.0           161.0       7284.0   \n",
       "2017-04-01      244.158          6312.0           200.0       6555.0   \n",
       "2017-05-01      243.846          5665.0           154.0       6572.0   \n",
       "2017-06-01      243.790             NaN             NaN       7250.0   \n",
       "\n",
       "            LNU03032231  \n",
       "date                     \n",
       "2017-02-01        781.0  \n",
       "2017-03-01        764.0  \n",
       "2017-04-01        585.0  \n",
       "2017-05-01        502.0  \n",
       "2017-06-01        430.0  "
      ]
     },
     "execution_count": 4,
     "metadata": {},
     "output_type": "execute_result"
    }
   ],
   "source": [
    "# Empty dictionary. Each entry will be one series\n",
    "d = {}\n",
    "\n",
    "# Loop through the series and convert to datetime indexed float values\n",
    "for series in p['Results']['series']:\n",
    "    s = series['seriesID']  # Short name, 's', for series ID\n",
    "    d[s] = pd.DataFrame(series['data'])\n",
    "    d[s]['date'] = pd.to_datetime(d[s]['period'] + ' ' + d[s]['year'])\n",
    "    d[s] = d[s].set_index('date')['value'].astype(float)\n",
    "\n",
    "# Combine the individual dictionary entries into one dataframe\n",
    "df = pd.concat(d, axis=1)\n",
    "\n",
    "# Show last five rows\n",
    "df.tail()"
   ]
  },
  {
   "cell_type": "markdown",
   "metadata": {},
   "source": [
    "#### Basic calculations for real wages and unemployed per job opening"
   ]
  },
  {
   "cell_type": "code",
   "execution_count": 5,
   "metadata": {
    "collapsed": true
   },
   "outputs": [],
   "source": [
    "# Real wages for construction (CON) and total private\n",
    "df['CON_RW_12CH'] = df[sd['CON_AHE']].multiply(\n",
    "    df[sd['CPI-U']][0]).divide(\n",
    "    df[sd['CPI-U']]).pct_change(12).multiply(100)\n",
    "df['TOT_RW_12CH'] = df[sd['TOT_AHE']].multiply(\n",
    "    df[sd['CPI-U']][0]).divide(\n",
    "    df[sd['CPI-U']]).pct_change(12).multiply(100)\n",
    "# Unemployed per job opening\n",
    "df['CON_UNOP'] = df[sd['CON_UN']].divide(df[sd['CON_JOU']])\n",
    "df['TOT_UNOP'] = df[sd['TOT_UN']].divide(df[sd['TOT_JOU']])"
   ]
  },
  {
   "cell_type": "markdown",
   "metadata": {},
   "source": [
    "#### Save data to a csv file"
   ]
  },
  {
   "cell_type": "code",
   "execution_count": 6,
   "metadata": {
    "collapsed": true
   },
   "outputs": [],
   "source": [
    "df.to_csv('construction_data.csv')"
   ]
  },
  {
   "cell_type": "markdown",
   "metadata": {},
   "source": [
    "## Review the results"
   ]
  },
  {
   "cell_type": "markdown",
   "metadata": {},
   "source": [
    "#### Unemployed per job opening\n",
    "\n",
    "Down overall, up for construction over the past year"
   ]
  },
  {
   "cell_type": "code",
   "execution_count": 7,
   "metadata": {
    "collapsed": false
   },
   "outputs": [
    {
     "data": {
      "text/plain": [
       "CON_UNOP    2.465241\n",
       "TOT_UNOP    1.289036\n",
       "Name: 2016-05-01 00:00:00, dtype: float64"
      ]
     },
     "execution_count": 7,
     "metadata": {},
     "output_type": "execute_result"
    }
   ],
   "source": [
    "# One year ago\n",
    "df[['CON_UNOP', 'TOT_UNOP']].dropna().iloc[-13]"
   ]
  },
  {
   "cell_type": "code",
   "execution_count": 8,
   "metadata": {
    "collapsed": false
   },
   "outputs": [
    {
     "data": {
      "text/plain": [
       "CON_UNOP    3.259740\n",
       "TOT_UNOP    1.160106\n",
       "Name: 2017-05-01 00:00:00, dtype: float64"
      ]
     },
     "execution_count": 8,
     "metadata": {},
     "output_type": "execute_result"
    }
   ],
   "source": [
    "# Latest Available\n",
    "df[['CON_UNOP', 'TOT_UNOP']].dropna().iloc[-1]"
   ]
  },
  {
   "cell_type": "code",
   "execution_count": 9,
   "metadata": {
    "collapsed": true
   },
   "outputs": [],
   "source": [
    "# Plot will go here"
   ]
  },
  {
   "cell_type": "markdown",
   "metadata": {},
   "source": [
    "#### Hours worked\n",
    "\n",
    "Flat over the past three years"
   ]
  },
  {
   "cell_type": "code",
   "execution_count": 10,
   "metadata": {
    "collapsed": false
   },
   "outputs": [
    {
     "data": {
      "text/plain": [
       "date\n",
       "2014-06-01    39.0\n",
       "2014-07-01    39.2\n",
       "2014-08-01    39.2\n",
       "2014-09-01    39.1\n",
       "2014-10-01    39.0\n",
       "2014-11-01    39.1\n",
       "2014-12-01    39.2\n",
       "2015-01-01    39.0\n",
       "2015-02-01    39.3\n",
       "2015-03-01    39.0\n",
       "2015-04-01    38.9\n",
       "2015-05-01    39.0\n",
       "2015-06-01    39.2\n",
       "2015-07-01    39.0\n",
       "2015-08-01    39.2\n",
       "2015-09-01    38.8\n",
       "2015-10-01    39.6\n",
       "2015-11-01    39.1\n",
       "2015-12-01    39.7\n",
       "2016-01-01    39.3\n",
       "2016-02-01    39.2\n",
       "2016-03-01    38.7\n",
       "2016-04-01    39.1\n",
       "2016-05-01    39.1\n",
       "2016-06-01    39.1\n",
       "2016-07-01    39.2\n",
       "2016-08-01    38.8\n",
       "2016-09-01    38.8\n",
       "2016-10-01    39.2\n",
       "2016-11-01    39.1\n",
       "2016-12-01    38.9\n",
       "2017-01-01    38.9\n",
       "2017-02-01    39.1\n",
       "2017-03-01    38.7\n",
       "2017-04-01    39.3\n",
       "2017-05-01    39.2\n",
       "2017-06-01    39.2\n",
       "Freq: MS, Name: CES2000000002, dtype: float64"
      ]
     },
     "execution_count": 10,
     "metadata": {},
     "output_type": "execute_result"
    }
   ],
   "source": [
    "df[sd['CON_HRS']].iloc[-37:]#.plot()"
   ]
  },
  {
   "cell_type": "code",
   "execution_count": 11,
   "metadata": {
    "collapsed": true
   },
   "outputs": [],
   "source": [
    "# Plot will go here"
   ]
  },
  {
   "cell_type": "markdown",
   "metadata": {},
   "source": [
    "#### Real wage growth\n",
    "\n",
    "About the same in construction as in all sectors -- very low!"
   ]
  },
  {
   "cell_type": "code",
   "execution_count": 12,
   "metadata": {
    "collapsed": false
   },
   "outputs": [
    {
     "data": {
      "text/html": [
       "<div>\n",
       "<table border=\"1\" class=\"dataframe\">\n",
       "  <thead>\n",
       "    <tr style=\"text-align: right;\">\n",
       "      <th></th>\n",
       "      <th>TOT_RW_12CH</th>\n",
       "      <th>CON_RW_12CH</th>\n",
       "    </tr>\n",
       "    <tr>\n",
       "      <th>date</th>\n",
       "      <th></th>\n",
       "      <th></th>\n",
       "    </tr>\n",
       "  </thead>\n",
       "  <tbody>\n",
       "    <tr>\n",
       "      <th>2017-06-01</th>\n",
       "      <td>0.665306</td>\n",
       "      <td>0.608771</td>\n",
       "    </tr>\n",
       "  </tbody>\n",
       "</table>\n",
       "</div>"
      ],
      "text/plain": [
       "            TOT_RW_12CH  CON_RW_12CH\n",
       "date                                \n",
       "2017-06-01     0.665306     0.608771"
      ]
     },
     "execution_count": 12,
     "metadata": {},
     "output_type": "execute_result"
    }
   ],
   "source": [
    "df[['TOT_RW_12CH', 'CON_RW_12CH']].dropna().iloc[-1:]"
   ]
  },
  {
   "cell_type": "code",
   "execution_count": 13,
   "metadata": {
    "collapsed": true
   },
   "outputs": [],
   "source": [
    "# Plot will go here"
   ]
  },
  {
   "cell_type": "code",
   "execution_count": null,
   "metadata": {
    "collapsed": true
   },
   "outputs": [],
   "source": []
  },
  {
   "cell_type": "code",
   "execution_count": null,
   "metadata": {
    "collapsed": true
   },
   "outputs": [],
   "source": []
  }
 ],
 "metadata": {
  "kernelspec": {
   "display_name": "Python 2",
   "language": "python",
   "name": "python2"
  },
  "language_info": {
   "codemirror_mode": {
    "name": "ipython",
    "version": 2
   },
   "file_extension": ".py",
   "mimetype": "text/x-python",
   "name": "python",
   "nbconvert_exporter": "python",
   "pygments_lexer": "ipython2",
   "version": "2.7.13"
  }
 },
 "nbformat": 4,
 "nbformat_minor": 2
}
