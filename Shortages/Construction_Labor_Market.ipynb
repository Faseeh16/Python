{
 "cells": [
  {
   "cell_type": "markdown",
   "metadata": {},
   "source": [
    "# Do Data Show Construction Labor Market Shortages?\n",
    "\n",
    "Construction company executives are increasingly complaining that they are not able to find qualified workers and need government help. While a tight labor market can result in a situation where not enough workers are available, the overall labor force participation rate and employment to population ratio both suggest that there are still unemployed people willing to work. Looking at the data, this is particularly true in the construction industry. With lots of potential workers still on the sidelines, construction employers can easily grow their workforce to meet demand. The obvious way to do this is by offering wages that pull in skilled workers and/or providing training to get new workers up to speed. It seems, however, that executives are trying very different techniques--getting everyone else to pay to train new construction workers and importing low-wage labor from other countries. \n",
    "\n",
    "#### Points: \n",
    "\n",
    "1) Unemployed per job opening nearly 3x the total for all jobs.<br>\n",
    "2) Average weekly hours are basically flat and currently lower than 2015 level.<br>\n",
    "3) Real wage growth is below total private.<br>\n",
    "4) Construction is seasonal (average hours worked by month) and very subject to swings in the economy (construction layoffs vs total).<br>\n",
    "5) Construction will be slowed by Fed rate hikes (higher borrowing costs for builders).\n",
    "\n",
    "#### Policies that increase the supply of low-wage workers:\n",
    "\n",
    "1) Training programs that put too much emphasis on the skills that executives demand rather than the skills which most benefit workers. <br>\n",
    "2) Visas to bring in low-wage workers from overseas in cases where there are plenty of domestic workers with the appropriate skills. "
   ]
  },
  {
   "cell_type": "markdown",
   "metadata": {},
   "source": [
    "#### Technical preliminaries\n",
    "\n",
    "Python 2.7"
   ]
  },
  {
   "cell_type": "code",
   "execution_count": 33,
   "metadata": {
    "collapsed": true
   },
   "outputs": [],
   "source": [
    "import requests\n",
    "import json\n",
    "import pandas as pd\n",
    "import config # file which contains API keys\n",
    "import plotly\n",
    "import plotly.plotly as py\n",
    "from plotly.graph_objs import *\n",
    "from plotly.grid_objs import Column, Grid\n",
    "\n",
    "plotly.tools.set_credentials_file(username='bdew', api_key=config.plotly_key)"
   ]
  },
  {
   "cell_type": "markdown",
   "metadata": {},
   "source": [
    "#### Request data from BLS"
   ]
  },
  {
   "cell_type": "code",
   "execution_count": 2,
   "metadata": {
    "collapsed": true
   },
   "outputs": [],
   "source": [
    "url = 'https://api.bls.gov/publicAPI/v2/timeseries/data/'\n",
    "key = '?registrationkey={}'.format(config.bls_key)\n",
    "headers = {'Content-type': 'application/json'}   # Request json data\n",
    "sd = {\n",
    "    'TOT_AHE': 'CES0500000008',  # Average hourly earnings\n",
    "    'CON_AHE': 'CES2000000008',\n",
    "    'CON_JOU': 'JTU23000000JOL', # Job openings (level) NSA\n",
    "    'TOT_JOU': 'JTU00000000JOL',\n",
    "    'CON_UN': 'LNU03032231',     # Unemployed persons NSA\n",
    "    'TOT_UN': 'LNU03000000',\n",
    "    'CON_HRS': 'CES2000000007',  # Weekly hours\n",
    "    'CPI-U': 'CUSR0000SA0'      # CPI for all urban consumers\n",
    "}"
   ]
  },
  {
   "cell_type": "code",
   "execution_count": 3,
   "metadata": {
    "collapsed": true
   },
   "outputs": [],
   "source": [
    "data = json.dumps({\"seriesid\":sd.values(), \"startyear\":'2014', \"endyear\":'2017'})\n",
    "p = requests.post('{}{}'.format(url, key), headers=headers, data=data).json()"
   ]
  },
  {
   "cell_type": "markdown",
   "metadata": {},
   "source": [
    "#### Build pandas dataframe from results"
   ]
  },
  {
   "cell_type": "code",
   "execution_count": 4,
   "metadata": {},
   "outputs": [
    {
     "data": {
      "text/html": [
       "<div>\n",
       "<style>\n",
       "    .dataframe thead tr:only-child th {\n",
       "        text-align: right;\n",
       "    }\n",
       "\n",
       "    .dataframe thead th {\n",
       "        text-align: left;\n",
       "    }\n",
       "\n",
       "    .dataframe tbody tr th {\n",
       "        vertical-align: top;\n",
       "    }\n",
       "</style>\n",
       "<table border=\"1\" class=\"dataframe\">\n",
       "  <thead>\n",
       "    <tr style=\"text-align: right;\">\n",
       "      <th></th>\n",
       "      <th>CES0500000008</th>\n",
       "      <th>CES2000000007</th>\n",
       "      <th>CES2000000008</th>\n",
       "      <th>CUSR0000SA0</th>\n",
       "      <th>JTU00000000JOL</th>\n",
       "      <th>JTU23000000JOL</th>\n",
       "      <th>LNU03000000</th>\n",
       "      <th>LNU03032231</th>\n",
       "    </tr>\n",
       "    <tr>\n",
       "      <th>date</th>\n",
       "      <th></th>\n",
       "      <th></th>\n",
       "      <th></th>\n",
       "      <th></th>\n",
       "      <th></th>\n",
       "      <th></th>\n",
       "      <th></th>\n",
       "      <th></th>\n",
       "    </tr>\n",
       "  </thead>\n",
       "  <tbody>\n",
       "    <tr>\n",
       "      <th>2017-02-01</th>\n",
       "      <td>21.86</td>\n",
       "      <td>39.8</td>\n",
       "      <td>26.29</td>\n",
       "      <td>244.456</td>\n",
       "      <td>5500.0</td>\n",
       "      <td>181.0</td>\n",
       "      <td>7887.0</td>\n",
       "      <td>781.0</td>\n",
       "    </tr>\n",
       "    <tr>\n",
       "      <th>2017-03-01</th>\n",
       "      <td>21.90</td>\n",
       "      <td>39.3</td>\n",
       "      <td>26.40</td>\n",
       "      <td>243.752</td>\n",
       "      <td>5723.0</td>\n",
       "      <td>161.0</td>\n",
       "      <td>7284.0</td>\n",
       "      <td>764.0</td>\n",
       "    </tr>\n",
       "    <tr>\n",
       "      <th>2017-04-01</th>\n",
       "      <td>21.96</td>\n",
       "      <td>39.9</td>\n",
       "      <td>26.37</td>\n",
       "      <td>244.158</td>\n",
       "      <td>6312.0</td>\n",
       "      <td>200.0</td>\n",
       "      <td>6555.0</td>\n",
       "      <td>585.0</td>\n",
       "    </tr>\n",
       "    <tr>\n",
       "      <th>2017-05-01</th>\n",
       "      <td>21.99</td>\n",
       "      <td>39.9</td>\n",
       "      <td>26.51</td>\n",
       "      <td>243.846</td>\n",
       "      <td>5665.0</td>\n",
       "      <td>154.0</td>\n",
       "      <td>6572.0</td>\n",
       "      <td>502.0</td>\n",
       "    </tr>\n",
       "    <tr>\n",
       "      <th>2017-06-01</th>\n",
       "      <td>22.03</td>\n",
       "      <td>39.7</td>\n",
       "      <td>26.64</td>\n",
       "      <td>243.790</td>\n",
       "      <td>NaN</td>\n",
       "      <td>NaN</td>\n",
       "      <td>7250.0</td>\n",
       "      <td>430.0</td>\n",
       "    </tr>\n",
       "  </tbody>\n",
       "</table>\n",
       "</div>"
      ],
      "text/plain": [
       "            CES0500000008  CES2000000007  CES2000000008  CUSR0000SA0  \\\n",
       "date                                                                   \n",
       "2017-02-01          21.86           39.8          26.29      244.456   \n",
       "2017-03-01          21.90           39.3          26.40      243.752   \n",
       "2017-04-01          21.96           39.9          26.37      244.158   \n",
       "2017-05-01          21.99           39.9          26.51      243.846   \n",
       "2017-06-01          22.03           39.7          26.64      243.790   \n",
       "\n",
       "            JTU00000000JOL  JTU23000000JOL  LNU03000000  LNU03032231  \n",
       "date                                                                  \n",
       "2017-02-01          5500.0           181.0       7887.0        781.0  \n",
       "2017-03-01          5723.0           161.0       7284.0        764.0  \n",
       "2017-04-01          6312.0           200.0       6555.0        585.0  \n",
       "2017-05-01          5665.0           154.0       6572.0        502.0  \n",
       "2017-06-01             NaN             NaN       7250.0        430.0  "
      ]
     },
     "execution_count": 4,
     "metadata": {},
     "output_type": "execute_result"
    }
   ],
   "source": [
    "# Empty dictionary. Each entry will be one series\n",
    "d = {}\n",
    "\n",
    "# Loop through the series and convert to datetime indexed float values\n",
    "for series in p['Results']['series']:\n",
    "    s = series['seriesID']  # Short name, 's', for series ID\n",
    "    d[s] = pd.DataFrame(series['data'])\n",
    "    d[s]['date'] = pd.to_datetime(d[s]['period'] + ' ' + d[s]['year'])\n",
    "    d[s] = d[s].set_index('date')['value'].astype(float)\n",
    "\n",
    "# Combine the individual dictionary entries into one dataframe\n",
    "df = pd.concat(d, axis=1)\n",
    "\n",
    "# Show last five rows\n",
    "df.tail()"
   ]
  },
  {
   "cell_type": "markdown",
   "metadata": {},
   "source": [
    "#### Basic calculations for real wages and unemployed per job opening"
   ]
  },
  {
   "cell_type": "code",
   "execution_count": 5,
   "metadata": {
    "collapsed": true
   },
   "outputs": [],
   "source": [
    "# Real wages for construction (CON) and total private\n",
    "df['CON_RW_12CH'] = df[sd['CON_AHE']].multiply(\n",
    "    df[sd['CPI-U']][0]).divide(\n",
    "    df[sd['CPI-U']]).pct_change(12).multiply(100)\n",
    "df['TOT_RW_12CH'] = df[sd['TOT_AHE']].multiply(\n",
    "    df[sd['CPI-U']][0]).divide(\n",
    "    df[sd['CPI-U']]).pct_change(12).multiply(100)\n",
    "# Unemployed per job opening\n",
    "df['CON_UNOP'] = df[sd['CON_UN']].divide(df[sd['CON_JOU']])\n",
    "df['TOT_UNOP'] = df[sd['TOT_UN']].divide(df[sd['TOT_JOU']])"
   ]
  },
  {
   "cell_type": "markdown",
   "metadata": {},
   "source": [
    "#### Save data to a csv file"
   ]
  },
  {
   "cell_type": "code",
   "execution_count": 6,
   "metadata": {
    "collapsed": true
   },
   "outputs": [],
   "source": [
    "df.to_csv('construction_data.csv')"
   ]
  },
  {
   "cell_type": "markdown",
   "metadata": {},
   "source": [
    "## Review the results"
   ]
  },
  {
   "cell_type": "markdown",
   "metadata": {},
   "source": [
    "#### Unemployed per job opening\n",
    "\n",
    "Down overall, up for construction over the past year"
   ]
  },
  {
   "cell_type": "code",
   "execution_count": 7,
   "metadata": {},
   "outputs": [
    {
     "data": {
      "text/plain": [
       "CON_UNOP    2.465241\n",
       "TOT_UNOP    1.289036\n",
       "Name: 2016-05-01 00:00:00, dtype: float64"
      ]
     },
     "execution_count": 7,
     "metadata": {},
     "output_type": "execute_result"
    }
   ],
   "source": [
    "# One year ago\n",
    "df[['CON_UNOP', 'TOT_UNOP']].dropna().iloc[-13]"
   ]
  },
  {
   "cell_type": "code",
   "execution_count": 8,
   "metadata": {},
   "outputs": [
    {
     "data": {
      "text/plain": [
       "CON_UNOP    3.259740\n",
       "TOT_UNOP    1.160106\n",
       "Name: 2017-05-01 00:00:00, dtype: float64"
      ]
     },
     "execution_count": 8,
     "metadata": {},
     "output_type": "execute_result"
    }
   ],
   "source": [
    "# Latest Available\n",
    "df[['CON_UNOP', 'TOT_UNOP']].dropna().iloc[-1]"
   ]
  },
  {
   "cell_type": "code",
   "execution_count": 9,
   "metadata": {
    "collapsed": true
   },
   "outputs": [],
   "source": [
    "# Plot will go here"
   ]
  },
  {
   "cell_type": "markdown",
   "metadata": {},
   "source": [
    "#### Hours worked\n",
    "\n",
    "Flat over the past three years"
   ]
  },
  {
   "cell_type": "code",
   "execution_count": 10,
   "metadata": {},
   "outputs": [
    {
     "data": {
      "text/plain": [
       "date\n",
       "2014-06-01    39.6\n",
       "2014-07-01    39.9\n",
       "2014-08-01    39.8\n",
       "2014-09-01    39.7\n",
       "2014-10-01    39.3\n",
       "2014-11-01    39.7\n",
       "2014-12-01    39.8\n",
       "2015-01-01    39.7\n",
       "2015-02-01    39.7\n",
       "2015-03-01    39.4\n",
       "2015-04-01    39.3\n",
       "2015-05-01    39.4\n",
       "2015-06-01    39.8\n",
       "2015-07-01    39.5\n",
       "2015-08-01    39.8\n",
       "2015-09-01    39.6\n",
       "2015-10-01    40.0\n",
       "2015-11-01    39.7\n",
       "2015-12-01    40.2\n",
       "2016-01-01    39.8\n",
       "2016-02-01    39.6\n",
       "2016-03-01    39.4\n",
       "2016-04-01    39.5\n",
       "2016-05-01    39.6\n",
       "2016-06-01    39.7\n",
       "2016-07-01    39.7\n",
       "2016-08-01    39.4\n",
       "2016-09-01    39.6\n",
       "2016-10-01    39.6\n",
       "2016-11-01    39.8\n",
       "2016-12-01    39.2\n",
       "2017-01-01    39.3\n",
       "2017-02-01    39.8\n",
       "2017-03-01    39.3\n",
       "2017-04-01    39.9\n",
       "2017-05-01    39.9\n",
       "2017-06-01    39.7\n",
       "Freq: MS, Name: CES2000000007, dtype: float64"
      ]
     },
     "execution_count": 10,
     "metadata": {},
     "output_type": "execute_result"
    }
   ],
   "source": [
    "df[sd['CON_HRS']].iloc[-37:]#.plot()"
   ]
  },
  {
   "cell_type": "code",
   "execution_count": 35,
   "metadata": {},
   "outputs": [],
   "source": [
    "awe_series = pd.DataFrame(df[sd['CON_HRS']].iloc[-37:])\n",
    "awe_series['new'] = ''\n",
    "awe_series['new'].iloc[0] = awe_series['CES2000000007'][0]\n",
    "awe_series['new'].iloc[-1] = awe_series['CES2000000007'][-1]"
   ]
  },
  {
   "cell_type": "code",
   "execution_count": 39,
   "metadata": {},
   "outputs": [
    {
     "data": {
      "text/html": [
       "<iframe id=\"igraph\" scrolling=\"no\" style=\"border:none;\" seamless=\"seamless\" src=\"https://plot.ly/~bdew/140.embed\" height=\"300px\" width=\"400px\"></iframe>"
      ],
      "text/plain": [
       "<plotly.tools.PlotlyDisplay object>"
      ]
     },
     "execution_count": 39,
     "metadata": {},
     "output_type": "execute_result"
    }
   ],
   "source": [
    "# Average Weekly Hours Plot\n",
    "\n",
    "trace1 = {\n",
    "  \"x\": awe_series.index, \n",
    "  \"y\": awe_series['CES2000000007'], \n",
    "  \"mode\": \"lines\", \n",
    "  \"name\": \"Average Weekly Hours, Construction\", \n",
    "  \"text\": [\"65+: 1993: 7.9%\", \"65+: 1994: 8.8%\", \"65+: 1995: 8.5%\", \"65+: 1996: 8.2%\", \"65+: 1997: 8.3%\", \"65+: 1998: 8.4%\", \"65+: 1999: 8.7%\", \"65+: 2000: 9.1%\", \"65+: 2001: 9.3%\", \"65+: 2002: 9.5%\", \"65+: 2003: 10.2%\", \"65+: 2004: 10.7%\", \"65+: 2005: 11.1%\", \"65+: 2006: 11.3%\", \"65+: 2007: 12.3%\", \"65+: 2008: 12.7%\", \"65+: 2009: 12.8%\", \"65+: 2010: 12.9%\", \"65+: 2011: 13.1%\", \"65+: 2012: 13.5%\"], \n",
    "  \"type\": \"scatter\"\n",
    "}\n",
    "trace2 = {\n",
    "  \"x\": awe_series.index,\n",
    "  \"y\": awe_series['new'], \n",
    "  \"hoverinfo\": \"none\", \n",
    "  \"marker\": {\"size\": 10}, \n",
    "  \"mode\": \"markers+text\", \n",
    "  \"name\": \"\", \n",
    "  \"text\": awe_series['new'],  \n",
    "  \"textfont\": {\"size\": 16}, \n",
    "  \"textposition\": \"top center\", \n",
    "  \"type\": \"scatter\", \n",
    "}\n",
    "data = Data([trace1, trace2])\n",
    "layout = {\n",
    "  \"annotations\": [\n",
    "    {\n",
    "      \"x\": -0.0942857142857, \n",
    "      \"y\": -0.253550543024, \n",
    "      \"align\": \"left\", \n",
    "      \"font\": {\n",
    "        \"family\": \"Open Sans, sans-serif\", \n",
    "        \"size\": 10\n",
    "      }, \n",
    "      \"showarrow\": False, \n",
    "      \"text\": \"http://cepr.net<br>Source: Bureau of Labor Statistics, labor force statistics from the current population survey.  \", \n",
    "      \"xref\": \"paper\", \n",
    "      \"yref\": \"paper\"\n",
    "    }, \n",
    "    {\n",
    "      \"x\": -0.0895238095238, \n",
    "      \"y\": 1.2576984127, \n",
    "      \"align\": \"left\", \n",
    "      \"font\": {\n",
    "        \"family\": \"Open Sans\", \n",
    "        \"size\": 15\n",
    "      }, \n",
    "      \"showarrow\": False, \n",
    "      \"text\": \"<b>Construction worker hours are flat over<br>the past three years</b>\", \n",
    "      \"xref\": \"paper\", \n",
    "      \"yref\": \"paper\"\n",
    "    }\n",
    "  ], \n",
    "  \"autosize\": False, \n",
    "  \"height\": 300, \n",
    "  \"hovermode\": \"closest\", \n",
    "  \"legend\": {\n",
    "    \"x\": 0.616334319709, \n",
    "    \"y\": 0.306177606176, \n",
    "    \"font\": {\"size\": 12}, \n",
    "    \"orientation\": \"v\", \n",
    "    \"traceorder\": \"normal\"\n",
    "  }, \n",
    "  \"margin\": {\n",
    "    \"r\": 10, \n",
    "    \"t\": 50, \n",
    "    \"b\": 70, \n",
    "    \"l\": 40\n",
    "  }, \n",
    "  \"paper_bgcolor\": \"rgb(255, 255, 255)\", \n",
    "  \"plot_bgcolor\": \"rgb(255, 255, 255)\", \n",
    "  \"showlegend\": False, \n",
    "  \"title\": \"\", \n",
    "  \"titlefont\": {\n",
    "    \"size\": 16\n",
    "  }, \n",
    "  \"width\": 400, \n",
    "  \"xaxis\": {\n",
    "    \"anchor\": \"y\", \n",
    "    \"autorange\": False, \n",
    "    \"fixedrange\": True, \n",
    "    \"nticks\": 10, \n",
    "    \"range\": [\"2014-03-01\", \"2017-09-01\"], \n",
    "    \"showgrid\": False, \n",
    "    \"side\": \"bottom\", \n",
    "    \"tickfont\": {\n",
    "      \"color\": \"rgb(127, 127, 127)\", \n",
    "      \"family\": \"Open Sans\"\n",
    "    }, \n",
    "    \"ticks\": \"inside\", \n",
    "    \"ticksuffix\": \"\", \n",
    "    \"title\": \"\", \n",
    "    \"type\": \"date\", \n",
    "    \"zeroline\": False\n",
    "  }, \n",
    "  \"yaxis\": {\n",
    "    \"fixedrange\": True, \n",
    "    \"range\": [30, 50], \n",
    "    \"showgrid\": False, \n",
    "    \"showticklabels\": False, \n",
    "    \"tick0\": 0, \n",
    "    \"tickmode\": \"linear\", \n",
    "    \"ticks\": \"\", \n",
    "    \"ticksuffix\": \"%\", \n",
    "    \"title\": \"\", \n",
    "    \"type\": \"linear\"\n",
    "  }\n",
    "}\n",
    "fig = Figure(data=data, layout=layout)\n",
    "py.iplot(fig, filename='Construction_Labor_Market_fig2')"
   ]
  },
  {
   "cell_type": "markdown",
   "metadata": {},
   "source": [
    "#### Real wage growth\n",
    "\n",
    "About the same in construction as in all sectors -- very low!"
   ]
  },
  {
   "cell_type": "code",
   "execution_count": 12,
   "metadata": {},
   "outputs": [
    {
     "data": {
      "text/html": [
       "<div>\n",
       "<table border=\"1\" class=\"dataframe\">\n",
       "  <thead>\n",
       "    <tr style=\"text-align: right;\">\n",
       "      <th></th>\n",
       "      <th>TOT_RW_12CH</th>\n",
       "      <th>CON_RW_12CH</th>\n",
       "    </tr>\n",
       "    <tr>\n",
       "      <th>date</th>\n",
       "      <th></th>\n",
       "      <th></th>\n",
       "    </tr>\n",
       "  </thead>\n",
       "  <tbody>\n",
       "    <tr>\n",
       "      <th>2017-06-01</th>\n",
       "      <td>0.665306</td>\n",
       "      <td>0.608771</td>\n",
       "    </tr>\n",
       "  </tbody>\n",
       "</table>\n",
       "</div>"
      ],
      "text/plain": [
       "            TOT_RW_12CH  CON_RW_12CH\n",
       "date                                \n",
       "2017-06-01     0.665306     0.608771"
      ]
     },
     "execution_count": 12,
     "metadata": {},
     "output_type": "execute_result"
    }
   ],
   "source": [
    "df[['TOT_RW_12CH', 'CON_RW_12CH']].dropna().iloc[-1:]"
   ]
  },
  {
   "cell_type": "code",
   "execution_count": 13,
   "metadata": {
    "collapsed": true
   },
   "outputs": [],
   "source": [
    "# Plot will go here"
   ]
  },
  {
   "cell_type": "code",
   "execution_count": null,
   "metadata": {
    "collapsed": true
   },
   "outputs": [],
   "source": []
  },
  {
   "cell_type": "code",
   "execution_count": null,
   "metadata": {
    "collapsed": true
   },
   "outputs": [],
   "source": []
  }
 ],
 "metadata": {
  "kernelspec": {
   "display_name": "Python [default]",
   "language": "python",
   "name": "python2"
  },
  "language_info": {
   "codemirror_mode": {
    "name": "ipython",
    "version": 2
   },
   "file_extension": ".py",
   "mimetype": "text/x-python",
   "name": "python",
   "nbconvert_exporter": "python",
   "pygments_lexer": "ipython2",
   "version": "2.7.12"
  }
 },
 "nbformat": 4,
 "nbformat_minor": 2
}
