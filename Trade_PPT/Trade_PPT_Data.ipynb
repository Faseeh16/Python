{
 "cells": [
  {
   "cell_type": "markdown",
   "metadata": {},
   "source": [
    "# Trade Powerpoint -- Collect Data"
   ]
  },
  {
   "cell_type": "code",
   "execution_count": 1,
   "metadata": {},
   "outputs": [],
   "source": [
    "import requests\n",
    "import json\n",
    "import config\n",
    "import pandas as pd\n",
    "import time\n",
    "%matplotlib inline\n",
    "\n",
    "#external files used: 'sitc29614digit.xlsx' from https://www.census.gov/foreign-trade/statistics/country/sitc/index.html"
   ]
  },
  {
   "cell_type": "markdown",
   "metadata": {},
   "source": [
    "### Employment Index"
   ]
  },
  {
   "cell_type": "code",
   "execution_count": 2,
   "metadata": {
    "collapsed": true
   },
   "outputs": [],
   "source": [
    "url = 'https://api.bls.gov/publicAPI/v2/timeseries/data/'\n",
    "key = '?registrationkey={}'.format(config.bls_key)\n",
    "headers = {'Content-type': 'application/json'}\n",
    "series_dict = {\n",
    "    'Total_emp': 'CES0000000001',\n",
    "    'Manf_emp': 'CES3000000001',\n",
    "#    'Auto_emp': 'CES3133600101',\n",
    "#    'Auto_wages': 'CES3133600108',\n",
    "#    'CPI-W': 'CWSR0000SA0'\n",
    "}\n",
    "inv_map = {v: k for k, v in series_dict.iteritems()}\n",
    "series_list = series_dict.values()  # Take just the series codes as a list\n",
    "\n",
    "date_list = [(\"1970\", \"1978\"),(\"1979\", \"1988\"),(\"1989\", \"1998\"), (\"1999\", \"2008\"), (\"2009\", \"2017\")]\n",
    "df = pd.DataFrame()"
   ]
  },
  {
   "cell_type": "code",
   "execution_count": 3,
   "metadata": {
    "collapsed": true
   },
   "outputs": [],
   "source": [
    "for start, end in date_list:\n",
    "    data = json.dumps({\"seriesid\":series_list, \"startyear\":start, \"endyear\":end})\n",
    "    json_data = requests.post('{}{}'.format(url, key), headers=headers, data=data).json()\n",
    "    # Store the relevant information in a dictionay and combine into a pandas dataframe\n",
    "    d = {}\n",
    "    for series in json_data['Results']['series']:\n",
    "        seriesId = series['seriesID']\n",
    "        d[seriesId] = pd.DataFrame(series['data'])\n",
    "        if len(series['data']) > 0:\n",
    "            # Convert BLS API dates to readable format (YYYY-MM-DD)\n",
    "            d[seriesId]['date'] = pd.to_datetime(d[seriesId]['period'] + ' ' + d[seriesId]['year'])\n",
    "            # Keep only date and series values\n",
    "            d[seriesId] = d[seriesId].sort_values(by='date')[['date', 'value']].set_index('date')\n",
    "            # Rename and round\n",
    "            d[seriesId] = d[seriesId]['value'].rename(inv_map[seriesId]).astype(float)\n",
    "        else:\n",
    "            d[seriesId]['date'] = pd.Series()\n",
    "            d[seriesId]['value'] = pd.Series()\n",
    "            d[seriesId] = d[seriesId]['value'].rename(inv_map[seriesId])\n",
    "    df = df.append(pd.concat([d[series_list[x]] for x in range(len(d))], axis=1))"
   ]
  },
  {
   "cell_type": "code",
   "execution_count": 5,
   "metadata": {},
   "outputs": [],
   "source": [
    "df['MFN_share'] = df['Manf_emp'] / df['Total_emp'] * 100"
   ]
  },
  {
   "cell_type": "code",
   "execution_count": 6,
   "metadata": {},
   "outputs": [],
   "source": [
    "df.to_csv('Manufacturing_share_jobs_1970.csv')"
   ]
  },
  {
   "cell_type": "code",
   "execution_count": 4,
   "metadata": {
    "collapsed": true
   },
   "outputs": [],
   "source": [
    "for series in df.keys():\n",
    "    df[series+'_ix'] = df[series] / df.loc['1990-01-01'][series] * 100"
   ]
  },
  {
   "cell_type": "markdown",
   "metadata": {},
   "source": [
    "### Linear trend projecting auto employment"
   ]
  },
  {
   "cell_type": "code",
   "execution_count": 5,
   "metadata": {
    "collapsed": true
   },
   "outputs": [],
   "source": [
    "df['auto_share'] = df['Auto_emp'] / df['Total_emp'] * 100"
   ]
  },
  {
   "cell_type": "code",
   "execution_count": 6,
   "metadata": {},
   "outputs": [
    {
     "data": {
      "text/plain": [
       "<matplotlib.axes._subplots.AxesSubplot at 0xa1a67f0>"
      ]
     },
     "execution_count": 6,
     "metadata": {},
     "output_type": "execute_result"
    },
    {
     "data": {
      "image/png": "[encoded data removed]",
      "text/plain": [
       "<matplotlib.figure.Figure at 0xa096fd0>"
      ]
     },
     "metadata": {},
     "output_type": "display_data"
    }
   ],
   "source": [
    "df['Auto_emp'].plot()"
   ]
  },
  {
   "cell_type": "code",
   "execution_count": 7,
   "metadata": {},
   "outputs": [
    {
     "name": "stdout",
     "output_type": "stream",
     "text": [
      "0.00304833305878\n"
     ]
    }
   ],
   "source": [
    "numbers = df['Auto_emp'].pct_change()[-12:].values\n",
    "print reduce(lambda x, y: x*y, numbers)**(1.0/len(numbers))"
   ]
  },
  {
   "cell_type": "code",
   "execution_count": 8,
   "metadata": {},
   "outputs": [
    {
     "data": {
      "text/plain": [
       "-30.799999999999955"
      ]
     },
     "execution_count": 8,
     "metadata": {},
     "output_type": "execute_result"
    }
   ],
   "source": [
    "df['Auto_emp'].diff()[1:].values.sum() + 1"
   ]
  },
  {
   "cell_type": "markdown",
   "metadata": {},
   "source": [
    "### Real Wages - Auto Workers"
   ]
  },
  {
   "cell_type": "code",
   "execution_count": 9,
   "metadata": {
    "collapsed": true
   },
   "outputs": [],
   "source": [
    "df['Auto_real_wage'] = df['Auto_wages'].multiply(df.loc['2017-01-01', 'CPI-W']).divide(df['CPI-W'])"
   ]
  },
  {
   "cell_type": "code",
   "execution_count": 10,
   "metadata": {},
   "outputs": [
    {
     "data": {
      "text/plain": [
       "<matplotlib.axes._subplots.AxesSubplot at 0xb1305f8>"
      ]
     },
     "execution_count": 10,
     "metadata": {},
     "output_type": "execute_result"
    },
    {
     "data": {
      "image/png": "[encoded data removed]",
      "text/plain": [
       "<matplotlib.figure.Figure at 0xa096d68>"
      ]
     },
     "metadata": {},
     "output_type": "display_data"
    }
   ],
   "source": [
    "df['Auto_real_wage'].plot()"
   ]
  },
  {
   "cell_type": "markdown",
   "metadata": {
    "collapsed": true
   },
   "source": [
    "### Exchange Rates"
   ]
  },
  {
   "cell_type": "code",
   "execution_count": 11,
   "metadata": {
    "collapsed": true
   },
   "outputs": [],
   "source": [
    "base = 'https://api.stlouisfed.org/fred/series/observations?series_id='\n",
    "\n",
    "s_list = {\n",
    "    'CAD-USD': 'EXCAUS',\n",
    "    'MXN-USD': 'EXMXUS',\n",
    "    'Broad Index': 'TWEXBPA',\n",
    "    'Canada CPI': 'CANCPIALLMINMEI',\n",
    "    'Mexico CPI': 'MEXCPIALLMINMEI',\n",
    "    'USA CPI': 'CPIAUCSL'\n",
    "}\n",
    "\n",
    "dates = '&observation_start=1990-01-01'\n",
    "key = '&api_key={}'.format(config.fred_key)\n",
    "ftype = '&file_type=json'\n",
    "\n",
    "d = {}\n",
    "for k, v in s_list.iteritems():\n",
    "    url = '{}{}{}{}{}'.format(base, v, dates, key, ftype)\n",
    "    fx = pd.DataFrame(requests.get(url).json()['observations'])\n",
    "    fx = fx.set_index(pd.to_datetime(fx['date']))\n",
    "    fx = fx.rename(columns={'value': v})[v].astype(float)\n",
    "    d[v] = fx\n",
    "fx = pd.DataFrame(d)"
   ]
  },
  {
   "cell_type": "code",
   "execution_count": 12,
   "metadata": {
    "collapsed": true
   },
   "outputs": [],
   "source": [
    "fx['MXN-USD_real'] = fx['EXMXUS'].multiply(fx['MEXCPIALLMINMEI']).divide(fx['CPIAUCSL'])\n",
    "fx['CAD-USD_real'] = fx['EXCAUS'].multiply(fx['CANCPIALLMINMEI']).divide(fx['CPIAUCSL'])\n",
    "for series in ['TWEXBPA', 'MXN-USD_real', 'CAD-USD_real']:\n",
    "    # Indexed to 1994\n",
    "    fx[series+'_index'] = fx[series] / fx.loc['2000-01-01'][series] * 100"
   ]
  },
  {
   "cell_type": "code",
   "execution_count": 13,
   "metadata": {},
   "outputs": [
    {
     "data": {
      "text/plain": [
       "<matplotlib.axes._subplots.AxesSubplot at 0xb3c8438>"
      ]
     },
     "execution_count": 13,
     "metadata": {},
     "output_type": "execute_result"
    },
    {
     "data": {
      "image/png": "[encoded data removed]",
      "text/plain": [
       "<matplotlib.figure.Figure at 0xb1c30f0>"
      ]
     },
     "metadata": {},
     "output_type": "display_data"
    }
   ],
   "source": [
    "%matplotlib inline\n",
    "fx[['TWEXBPA_index', 'MXN-USD_real_index', 'CAD-USD_real_index']][120:].plot()"
   ]
  },
  {
   "cell_type": "markdown",
   "metadata": {},
   "source": [
    "### Bilateral Trade History\n",
    "#### 1996-2014 Data from Census"
   ]
  },
  {
   "cell_type": "code",
   "execution_count": 14,
   "metadata": {
    "collapsed": true
   },
   "outputs": [],
   "source": [
    "th = pd.read_excel('sitc29614digit.xlsx')\n",
    "th = th.drop(th.columns[[5]], axis=1)\n",
    "th.rename(index=str, columns={'ExportsFASValueBasisYtdDec':'Export', 'GenImportsCIFValBasisYtdDec':'Import'}, inplace=True)"
   ]
  },
  {
   "cell_type": "code",
   "execution_count": 15,
   "metadata": {
    "collapsed": true
   },
   "outputs": [],
   "source": [
    "# World is 0, Canada is 1220, and Mexico is country code 2010:\n",
    "countries = [0, 1220, 2010]"
   ]
  },
  {
   "cell_type": "code",
   "execution_count": 16,
   "metadata": {
    "collapsed": true
   },
   "outputs": [],
   "source": [
    "th_auto = th.loc[(th['CTY_CODE'].isin(countries)) & (th['SITC'].isin([78]))]\n",
    "th_auto = th_auto.set_index(['Year', 'CTY_CODE'])[['Export', 'Import']]\n",
    "th_manu = th.loc[(th['CTY_CODE'].isin(countries)) & (th['SITC'].between(60, 89, inclusive=True))]\n",
    "th_manu = th_manu.groupby(['Year', 'CTY_CODE']).sum()[['Export', 'Import']]"
   ]
  },
  {
   "cell_type": "markdown",
   "metadata": {},
   "source": [
    "#### 2015-Present Data from Census"
   ]
  },
  {
   "cell_type": "code",
   "execution_count": 17,
   "metadata": {
    "collapsed": true
   },
   "outputs": [],
   "source": [
    "th2 = pd.read_excel('sitc215presdigit.xlsx')\n",
    "th2 = th2.drop(th2.columns[[5]], axis=1)\n",
    "th2.rename(index=str, columns={'ExportsFASValueBasisYtdDec':'Export', 'GenImportsCIFValBasisYtdDec':'Import'}, inplace=True)\n",
    "th2_auto = th2.loc[(th2['CTY_CODE'].isin(countries)) & (th2['SITC'].isin([78]))]\n",
    "th2_auto = th2_auto.set_index(['Year', 'CTY_CODE'])[['Export', 'Import']]\n",
    "th2_manu = th2.loc[(th2['CTY_CODE'].isin(countries)) & (th2['SITC'].between(60, 89, inclusive=True))]\n",
    "th2_manu = th2_manu.groupby(['Year', 'CTY_CODE']).sum()[['Export', 'Import']]"
   ]
  },
  {
   "cell_type": "code",
   "execution_count": 18,
   "metadata": {
    "collapsed": true
   },
   "outputs": [],
   "source": [
    "th_auto = th_auto.append(th2_auto)\n",
    "th_manu = th_manu.append(th2_manu)"
   ]
  },
  {
   "cell_type": "markdown",
   "metadata": {},
   "source": [
    "#### Pre-1996 Data from Comtrade"
   ]
  },
  {
   "cell_type": "code",
   "execution_count": 19,
   "metadata": {
    "collapsed": true
   },
   "outputs": [],
   "source": [
    "def chunker(seq, size):\n",
    "    return (seq[pos:pos + size] for pos in xrange(0, len(seq), size))\n",
    "dates = [str(year) for year in range(1981,1996)]\n",
    "d = {}\n",
    "url = 'http://comtrade.un.org/api/get?max=50000&type=C&freq=A&px=S2'\n",
    "for n in chunker(dates, 5):\n",
    "    param = '&ps={}&r=842&p=484%2C124%2C0&rg=2%2C1&cc=6%2C7%2C8%2C78'.format('%2C'.join(n))\n",
    "    data = requests.get('{}{}'.format(url, param)).json()\n",
    "    d[n[0]] = pd.DataFrame(data['dataset'])[['yr', 'ptCode', 'TradeValue', 'rgDesc', 'cmdCode']]\n",
    "    time.sleep(5)"
   ]
  },
  {
   "cell_type": "code",
   "execution_count": 20,
   "metadata": {
    "collapsed": true
   },
   "outputs": [],
   "source": [
    "ct = pd.concat(d.values())\n",
    "ct.rename(index=str, columns={'yr':'Year', 'ptCode':'CTY_CODE'}, inplace=True)\n",
    "ct['CTY_CODE'] = ct['CTY_CODE'].replace(124, 1220).replace(484, 2010)\n",
    "ct_auto = ct.loc[ct['cmdCode'] == '78'].pivot_table('TradeValue', ['Year', 'CTY_CODE'], 'rgDesc')\n",
    "ct_manu = ct.loc[ct['cmdCode'].isin(['6','7','8'])].pivot_table('TradeValue', ['Year', 'CTY_CODE', 'cmdCode'], 'rgDesc')"
   ]
  },
  {
   "cell_type": "markdown",
   "metadata": {},
   "source": [
    "#### Combined trade data"
   ]
  },
  {
   "cell_type": "code",
   "execution_count": 21,
   "metadata": {
    "collapsed": true
   },
   "outputs": [],
   "source": [
    "tr_auto = ct_auto.append(th_auto).unstack()\n",
    "tr_manu = ct_manu.reset_index().groupby(['Year', 'CTY_CODE']).sum().append(th_manu).unstack()"
   ]
  },
  {
   "cell_type": "markdown",
   "metadata": {},
   "source": [
    "### Calculate Rest of World"
   ]
  },
  {
   "cell_type": "code",
   "execution_count": 22,
   "metadata": {},
   "outputs": [],
   "source": [
    "for flow in ['Export', 'Import']:\n",
    "    tr_auto.loc[:,(flow,'ROW')] = tr_auto[flow][0] - tr_auto[flow][1220] - tr_auto[flow][2010]\n",
    "    tr_manu.loc[:,(flow,'ROW')] = tr_manu[flow][0] - tr_manu[flow][1220] - tr_manu[flow][2010]"
   ]
  },
  {
   "cell_type": "markdown",
   "metadata": {},
   "source": [
    "#### Convert to 2015 dollars"
   ]
  },
  {
   "cell_type": "code",
   "execution_count": 23,
   "metadata": {
    "collapsed": true
   },
   "outputs": [],
   "source": [
    "url = 'https://www.bls.gov/cpi/researchseries_allitems.xlsx'\n",
    "prices = pd.read_excel(url, header=5).set_index('Year').unstack().loc['AVG'].dropna()"
   ]
  },
  {
   "cell_type": "code",
   "execution_count": 36,
   "metadata": {
    "collapsed": true
   },
   "outputs": [],
   "source": [
    "d = {}\n",
    "d2 = {}\n",
    "for year in range (1981, 2017):\n",
    "    d[year] = tr_auto.loc[year] * prices.loc[2016] / prices.loc[year] / 1000000000\n",
    "    d2[year] = tr_manu.loc[year] * prices.loc[2016] / prices.loc[year] / 1000000000\n",
    "tr_auto_real = pd.concat(d).unstack().unstack()\n",
    "tr_manu_real = pd.concat(d2).unstack().unstack()"
   ]
  },
  {
   "cell_type": "markdown",
   "metadata": {},
   "source": [
    "### Calculate total trade (X+M) and Balance (X-M)"
   ]
  },
  {
   "cell_type": "code",
   "execution_count": 38,
   "metadata": {},
   "outputs": [],
   "source": [
    "for sheet in [tr_auto_real, tr_manu_real]:\n",
    "    for area in [0, 1220, 2010, 'ROW']:\n",
    "        sheet.loc[:,(area,'Total')] = sheet[area]['Export'] + sheet[area]['Import']\n",
    "        sheet.loc[:,(area,'Balance')] = sheet[area]['Export'] - sheet[area]['Import']"
   ]
  },
  {
   "cell_type": "code",
   "execution_count": null,
   "metadata": {
    "collapsed": true
   },
   "outputs": [],
   "source": []
  },
  {
   "cell_type": "markdown",
   "metadata": {},
   "source": [
    "### Create xlsx file"
   ]
  },
  {
   "cell_type": "code",
   "execution_count": 42,
   "metadata": {},
   "outputs": [],
   "source": [
    "writer = pd.ExcelWriter('trade_ppt_data3.xlsx')"
   ]
  },
  {
   "cell_type": "code",
   "execution_count": 43,
   "metadata": {},
   "outputs": [],
   "source": [
    "tr_auto.drop(2017).to_excel(writer, sheet_name='auto trade')\n",
    "tr_manu.drop(2017).to_excel(writer, sheet_name='manu trade')\n",
    "tr_auto_real.to_excel(writer, sheet_name='auto trade real')\n",
    "tr_manu_real.to_excel(writer, sheet_name='manu trade real')\n",
    "fx.to_excel(writer, sheet_name='fx')\n",
    "df.to_excel(writer, sheet_name='bls')"
   ]
  }
 ],
 "metadata": {
  "kernelspec": {
   "display_name": "Python [default]",
   "language": "python",
   "name": "python2"
  },
  "language_info": {
   "codemirror_mode": {
    "name": "ipython",
    "version": 2
   },
   "file_extension": ".py",
   "mimetype": "text/x-python",
   "name": "python",
   "nbconvert_exporter": "python",
   "pygments_lexer": "ipython2",
   "version": "2.7.12"
  }
 },
 "nbformat": 4,
 "nbformat_minor": 2
}
