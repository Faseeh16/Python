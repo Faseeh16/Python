{
 "cells": [
  {
   "cell_type": "markdown",
   "metadata": {},
   "source": [
    "# New Jersey Family Leave Insurance\n",
    "## Survey Results Tabulation\n",
    "-----\n",
    "\n",
    "*October 3, 2017*"
   ]
  },
  {
   "cell_type": "code",
   "execution_count": 1,
   "metadata": {
    "collapsed": true
   },
   "outputs": [],
   "source": [
    "import pandas as pd"
   ]
  },
  {
   "cell_type": "code",
   "execution_count": 2,
   "metadata": {
    "collapsed": true
   },
   "outputs": [],
   "source": [
    "df = pd.read_csv('NJFLI_clean_results.csv')"
   ]
  },
  {
   "cell_type": "markdown",
   "metadata": {},
   "source": [
    "## Groups of Businesses (by size and type)"
   ]
  },
  {
   "cell_type": "code",
   "execution_count": 3,
   "metadata": {},
   "outputs": [
    {
     "name": "stdout",
     "output_type": "stream",
     "text": [
      "Total: 122\n",
      "By Type of Business:\n",
      "Restaurants: 38\n",
      "Consumer services: 35\n",
      "Other businesses: 49\n",
      "By Size (number of employees):\n",
      "No employees: 15\n",
      "1-5 employees: 53\n",
      "6+ employees: 54\n"
     ]
    }
   ],
   "source": [
    "# Counts\n",
    "print('Total: {}'.format(len(df)))\n",
    "print('By Type of Business:')\n",
    "print('Restaurants: {}'.format(len(df[df['ind_FSD'] == 1])))\n",
    "print('Consumer services: {}'.format(len(df[df['ind_CS'] == 1])))\n",
    "print('Other businesses: {}'.format(len(df[df['ind_OTH'] == 1])))\n",
    "print('By Size (number of employees):')\n",
    "print('No employees: {}'.format(len(df[df['No_employees'] == 1])))\n",
    "print('1-5 employees: {}'.format(len(df[df['1-5_employees'] == 1])))\n",
    "print('6+ employees: {}'.format(len(df[df['6-plus_employees'] == 1])))"
   ]
  },
  {
   "cell_type": "markdown",
   "metadata": {},
   "source": [
    "### Restaurants"
   ]
  },
  {
   "cell_type": "code",
   "execution_count": 4,
   "metadata": {},
   "outputs": [
    {
     "data": {
      "text/plain": [
       "Restaurant                                 7\n",
       "Deli                                       2\n",
       "Bagel shop                                 2\n",
       "Restaurant/bakery                          1\n",
       "Regionally sourced grocery store           1\n",
       "Diner                                      1\n",
       "Café                                       1\n",
       "Specialty coffee                           1\n",
       "Pizzeria                                   1\n",
       "Italian Restaurant                         1\n",
       "Specialized grocery store                  1\n",
       "Deli/general store                         1\n",
       "Ice cream/dessert                          1\n",
       "Deli/sub shop                              1\n",
       "Olive oil/pasta products imported goods    1\n",
       "Spice shop                                 1\n",
       "Pastry shop                                1\n",
       "Italian Restaurant/Pizzeria                1\n",
       "Co-op grocery store                        1\n",
       "Deli/Grocery                               1\n",
       "Café/bakery                                1\n",
       "Italian restaurant                         1\n",
       "Cupcake shop/bakery                        1\n",
       "Sushi bar                                  1\n",
       "Best burgers in town! And hotdogs          1\n",
       "Hot dog stand/restaurant                   1\n",
       "Restaurant/Bakery                          1\n",
       "Ice Cream Parlor                           1\n",
       "Wineshop                                   1\n",
       "Restaurant/Pastry Shop                     1\n",
       "Name: Bus_type, dtype: int64"
      ]
     },
     "execution_count": 4,
     "metadata": {},
     "output_type": "execute_result"
    }
   ],
   "source": [
    "# Frequencies of businesses - Restaurants\n",
    "df[df['ind_FSD'] == 1]['Bus_type'].value_counts()"
   ]
  },
  {
   "cell_type": "markdown",
   "metadata": {},
   "source": [
    "### Consumer Services"
   ]
  },
  {
   "cell_type": "code",
   "execution_count": 5,
   "metadata": {},
   "outputs": [
    {
     "data": {
      "text/plain": [
       "Barber Shop                                         2\n",
       "Therapist                                           1\n",
       "Non-profit YMCA                                     1\n",
       "Financial Consultant                                1\n",
       "Financial services/paperwork services Consultant    1\n",
       "Photographer                                        1\n",
       "Tattoo shop                                         1\n",
       "Filmmaker/video promotion                           1\n",
       "Life coach                                          1\n",
       "Hair salon                                          1\n",
       "Tutoring services                                   1\n",
       "Marketing consultant                                1\n",
       "Healthcare broker                                   1\n",
       "Attorney                                            1\n",
       "Non profit advocacy group                           1\n",
       "Construction                                        1\n",
       "Auto bodyshop                                       1\n",
       "Accountant                                          1\n",
       "Hair Salon                                          1\n",
       "Web design/marketing                                1\n",
       "Auto Repair/Body shop                               1\n",
       "Hair and Nail Salon                                 1\n",
       "Financial services                                  1\n",
       "Wellness Consultant                                 1\n",
       "Yoga instructor                                     1\n",
       "Safety consultant                                   1\n",
       "Consultant                                          1\n",
       "Yoga Studio                                         1\n",
       "Laundromat                                          1\n",
       "Monogram/Designs                                    1\n",
       "Shoe store/repair                                   1\n",
       "Pet grooming(*)                                     1\n",
       "Contractor                                          1\n",
       "Commercial photographer                             1\n",
       "Name: Bus_type, dtype: int64"
      ]
     },
     "execution_count": 5,
     "metadata": {},
     "output_type": "execute_result"
    }
   ],
   "source": [
    "# Frequencies of businesses - Consumer Services\n",
    "df[df['ind_CS'] == 1]['Bus_type'].value_counts()"
   ]
  },
  {
   "cell_type": "markdown",
   "metadata": {},
   "source": [
    "### Other Businesses"
   ]
  },
  {
   "cell_type": "code",
   "execution_count": 6,
   "metadata": {},
   "outputs": [
    {
     "data": {
      "text/plain": [
       "Bookstore                           2\n",
       "Antique Shop                        2\n",
       "Printer                             2\n",
       "Gallery                             2\n",
       "General Store                       2\n",
       "Retail                              2\n",
       "Retail Clothing/soap/accessories    1\n",
       "Shoe shop                           1\n",
       "New Age Products                    1\n",
       "Mexican General Store               1\n",
       "Hobby store                         1\n",
       "Retail clothing                     1\n",
       "Cards/gifts/novelties               1\n",
       "Florist/Garden shop                 1\n",
       "Garden store                        1\n",
       "Retail novelty/gifts                1\n",
       "Antique Store                       1\n",
       "Toy and bookstore                   1\n",
       "Furniture Store                     1\n",
       "Retail, specialty items             1\n",
       "Antique store/lighting store        1\n",
       "Used/antique books                  1\n",
       "Retail (clothes)                    1\n",
       "Jewelry Store                       1\n",
       "Nonprofit Bicycle Shop              1\n",
       "Hardware store                      1\n",
       "Frames/frame shop                   1\n",
       "Bicycle shop                        1\n",
       "Clothes and accessories             1\n",
       "Magazines/general store             1\n",
       "Lighting/garden accessories         1\n",
       "Retail (cards, novelties)           1\n",
       "Arts and crafts store               1\n",
       "Clothing Store                      1\n",
       "Retail, specialty goods             1\n",
       "Florist                             1\n",
       "Comic Book Store                    1\n",
       "Clothing store                      1\n",
       "Antiques                            1\n",
       "Art Gallery                         1\n",
       "Fair trade retail                   1\n",
       "Retail-general store                1\n",
       "Hobbies/crafts                      1\n",
       "Name: Bus_type, dtype: int64"
      ]
     },
     "execution_count": 6,
     "metadata": {},
     "output_type": "execute_result"
    }
   ],
   "source": [
    "# Frequencies of businesses - Other\n",
    "df[df['ind_OTH'] == 1]['Bus_type'].value_counts()"
   ]
  },
  {
   "cell_type": "code",
   "execution_count": null,
   "metadata": {
    "collapsed": true
   },
   "outputs": [],
   "source": []
  },
  {
   "cell_type": "code",
   "execution_count": null,
   "metadata": {
    "collapsed": true
   },
   "outputs": [],
   "source": []
  },
  {
   "cell_type": "code",
   "execution_count": null,
   "metadata": {
    "collapsed": true
   },
   "outputs": [],
   "source": []
  },
  {
   "cell_type": "code",
   "execution_count": null,
   "metadata": {
    "collapsed": true
   },
   "outputs": [],
   "source": []
  }
 ],
 "metadata": {
  "kernelspec": {
   "display_name": "Python 3",
   "language": "python",
   "name": "python3"
  },
  "language_info": {
   "codemirror_mode": {
    "name": "ipython",
    "version": 3
   },
   "file_extension": ".py",
   "mimetype": "text/x-python",
   "name": "python",
   "nbconvert_exporter": "python",
   "pygments_lexer": "ipython3",
   "version": "3.6.1"
  }
 },
 "nbformat": 4,
 "nbformat_minor": 2
}
