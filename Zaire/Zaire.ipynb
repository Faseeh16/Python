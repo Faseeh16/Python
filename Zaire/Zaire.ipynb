{
 "cells": [
  {
   "cell_type": "markdown",
   "metadata": {},
   "source": [
    "# Zaire Data"
   ]
  },
  {
   "cell_type": "code",
   "execution_count": 14,
   "metadata": {
    "collapsed": true
   },
   "outputs": [],
   "source": [
    "import datetime, os\n",
    "from datetime import date\n",
    "import numpy as np\n",
    "import matplotlib as mpl\n",
    "import matplotlib.pyplot as plt\n",
    "%matplotlib inline\n",
    "import pandas as pd\n",
    "datadir = \"C:\\Files\\School\\Python\\data\""
   ]
  },
  {
   "cell_type": "markdown",
   "metadata": {},
   "source": [
    "## Import csv"
   ]
  },
  {
   "cell_type": "code",
   "execution_count": 15,
   "metadata": {
    "collapsed": false
   },
   "outputs": [
    {
     "data": {
      "text/html": [
       "<div>\n",
       "<table border=\"1\" class=\"dataframe\">\n",
       "  <thead>\n",
       "    <tr style=\"text-align: right;\">\n",
       "      <th></th>\n",
       "      <th>date</th>\n",
       "      <th>spot</th>\n",
       "      <th>prices</th>\n",
       "      <th>revenue</th>\n",
       "      <th>MiningRevenue</th>\n",
       "      <th>OtherRevenue</th>\n",
       "      <th>G</th>\n",
       "      <th>Currency</th>\n",
       "    </tr>\n",
       "  </thead>\n",
       "  <tbody>\n",
       "    <tr>\n",
       "      <th>73</th>\n",
       "      <td>1996-02</td>\n",
       "      <td>7.039000e+10</td>\n",
       "      <td>152500000</td>\n",
       "      <td>1312000000</td>\n",
       "      <td>246300000</td>\n",
       "      <td>1066000000</td>\n",
       "      <td>2520000000</td>\n",
       "      <td>6872000000</td>\n",
       "    </tr>\n",
       "    <tr>\n",
       "      <th>74</th>\n",
       "      <td>1996-03</td>\n",
       "      <td>8.263000e+10</td>\n",
       "      <td>176200000</td>\n",
       "      <td>1811000000</td>\n",
       "      <td>0</td>\n",
       "      <td>1811000000</td>\n",
       "      <td>2453000000</td>\n",
       "      <td>7514000000</td>\n",
       "    </tr>\n",
       "    <tr>\n",
       "      <th>75</th>\n",
       "      <td>1996-04</td>\n",
       "      <td>9.514000e+10</td>\n",
       "      <td>205600000</td>\n",
       "      <td>1489000000</td>\n",
       "      <td>0</td>\n",
       "      <td>1489000000</td>\n",
       "      <td>2670000000</td>\n",
       "      <td>8695000000</td>\n",
       "    </tr>\n",
       "    <tr>\n",
       "      <th>76</th>\n",
       "      <td>1996-05</td>\n",
       "      <td>1.038000e+11</td>\n",
       "      <td>227200000</td>\n",
       "      <td>2202000000</td>\n",
       "      <td>0</td>\n",
       "      <td>2202000000</td>\n",
       "      <td>4391000000</td>\n",
       "      <td>10880000000</td>\n",
       "    </tr>\n",
       "    <tr>\n",
       "      <th>77</th>\n",
       "      <td>1996-06</td>\n",
       "      <td>1.192000e+11</td>\n",
       "      <td>254400000</td>\n",
       "      <td>2793000000</td>\n",
       "      <td>0</td>\n",
       "      <td>2793000000</td>\n",
       "      <td>3712000000</td>\n",
       "      <td>11800000000</td>\n",
       "    </tr>\n",
       "  </tbody>\n",
       "</table>\n",
       "</div>"
      ],
      "text/plain": [
       "       date          spot     prices     revenue  MiningRevenue  OtherRevenue  \\\n",
       "73  1996-02  7.039000e+10  152500000  1312000000      246300000    1066000000   \n",
       "74  1996-03  8.263000e+10  176200000  1811000000              0    1811000000   \n",
       "75  1996-04  9.514000e+10  205600000  1489000000              0    1489000000   \n",
       "76  1996-05  1.038000e+11  227200000  2202000000              0    2202000000   \n",
       "77  1996-06  1.192000e+11  254400000  2793000000              0    2793000000   \n",
       "\n",
       "             G     Currency  \n",
       "73  2520000000   6872000000  \n",
       "74  2453000000   7514000000  \n",
       "75  2670000000   8695000000  \n",
       "76  4391000000  10880000000  \n",
       "77  3712000000  11800000000  "
      ]
     },
     "execution_count": 15,
     "metadata": {},
     "output_type": "execute_result"
    }
   ],
   "source": [
    "df = pd.read_csv('Beaugrand1997Zaire.csv')\n",
    "df.tail()"
   ]
  },
  {
   "cell_type": "code",
   "execution_count": 17,
   "metadata": {
    "collapsed": false
   },
   "outputs": [
    {
     "name": "stdout",
     "output_type": "stream",
     "text": [
      "date,spot,prices,revenue,MiningRevenue,OtherRevenue,G,Currency\n",
      "\n"
     ]
    }
   ],
   "source": [
    "pth = os.path.join(datadir,\"Beaugrand1997zaire.csv\")\n",
    "with open(pth,\"r\") as fin:\n",
    "    print(next(fin))"
   ]
  },
  {
   "cell_type": "code",
   "execution_count": 18,
   "metadata": {
    "collapsed": false
   },
   "outputs": [
    {
     "ename": "IOError",
     "evalue": "[Errno 2] No such file or directory: 'C:\\\\Files\\\\School\\\\Python\\\\data\\\\beaugrand1997zaire.hdr'",
     "output_type": "error",
     "traceback": [
      "\u001b[1;31m---------------------------------------------------------------------------\u001b[0m",
      "\u001b[1;31mIOError\u001b[0m                                   Traceback (most recent call last)",
      "\u001b[1;32m<ipython-input-18-028b5ab4c032>\u001b[0m in \u001b[0;36m<module>\u001b[1;34m()\u001b[0m\n\u001b[1;32m----> 1\u001b[1;33m \u001b[0mfin\u001b[0m \u001b[1;33m=\u001b[0m \u001b[0mopen\u001b[0m\u001b[1;33m(\u001b[0m\u001b[0mos\u001b[0m\u001b[1;33m.\u001b[0m\u001b[0mpath\u001b[0m\u001b[1;33m.\u001b[0m\u001b[0mjoin\u001b[0m\u001b[1;33m(\u001b[0m\u001b[0mdatadir\u001b[0m\u001b[1;33m,\u001b[0m\u001b[1;34m\"beaugrand1997zaire.hdr\"\u001b[0m\u001b[1;33m)\u001b[0m\u001b[1;33m,\u001b[0m \u001b[1;34m\"r\"\u001b[0m\u001b[1;33m)\u001b[0m\u001b[1;33m\u001b[0m\u001b[0m\n\u001b[0m",
      "\u001b[1;31mIOError\u001b[0m: [Errno 2] No such file or directory: 'C:\\\\Files\\\\School\\\\Python\\\\data\\\\beaugrand1997zaire.hdr'"
     ]
    }
   ],
   "source": [
    "fin = open(os.path.join(datadir,\"beaugrand1997zaire.hdr\"), \"r\")"
   ]
  },
  {
   "cell_type": "code",
   "execution_count": 30,
   "metadata": {
    "collapsed": false
   },
   "outputs": [
    {
     "data": {
      "image/png": "[encoded data removed]",
      "text/plain": [
       "<matplotlib.figure.Figure at 0xbe8bc50>"
      ]
     },
     "metadata": {},
     "output_type": "display_data"
    }
   ],
   "source": [
    "colnames = (\"date\",\"spot\",\"cpi\",\"revenue\",\"mining\",\"other\",\"spend\",\"currency\")\n",
    "bdata = pd.read_csv(\"Beaugrand1997zaire.csv\",\n",
    "                   skiprows=1,\n",
    "                   names=colnames,\n",
    "                   usecols=[0,1,2,7],\n",
    "                   dtype={\"spot\":np.float64,\n",
    "                         \"cpi\":np.float64,\n",
    "                         \"currency\":np.float64},\n",
    "                   index_col=0,parse_dates=True)\n",
    "spot = bdata[\"spot\"]; cpi = bdata[\"cpi\"]; m = bdata[\"currency\"]; \n",
    "spot /= spot[0]; cpi /= cpi[0]; m /= m[0];\n",
    "data = pd.concat((spot,cpi,m),axis=1)\n",
    "data.plot(logy=True);"
   ]
  },
  {
   "cell_type": "code",
   "execution_count": null,
   "metadata": {
    "collapsed": true
   },
   "outputs": [],
   "source": []
  },
  {
   "cell_type": "code",
   "execution_count": null,
   "metadata": {
    "collapsed": true
   },
   "outputs": [],
   "source": []
  }
 ],
 "metadata": {
  "kernelspec": {
   "display_name": "Python 2",
   "language": "python",
   "name": "python2"
  },
  "language_info": {
   "codemirror_mode": {
    "name": "ipython",
    "version": 2
   },
   "file_extension": ".py",
   "mimetype": "text/x-python",
   "name": "python",
   "nbconvert_exporter": "python",
   "pygments_lexer": "ipython2",
   "version": "2.7.10"
  }
 },
 "nbformat": 4,
 "nbformat_minor": 0
}
