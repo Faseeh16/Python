{
 "cells": [
  {
   "cell_type": "markdown",
   "metadata": {},
   "source": [
    "# Employment Rate Data\n",
    "\n",
    "### Exercises in efficient collection and storage\n",
    "\n",
    "------\n",
    "\n",
    "December 29, 2017\n",
    "\n",
    "-----\n",
    "\n",
    "GOAL: Collect series from API once and store as one part of a SQL database. Store the date of the latest value and when it is more than X days old, start to check the API for a new datapoint. \n",
    "\n",
    "\n",
    "-----\n",
    "\n",
    "To Do List:\n",
    "\n",
    " - Set up config file\n",
    " - Annotate existing code\n",
    " - Add code to retrieve full time series from API\n",
    " - Add code to store in SQL database\n",
    " - Move above two sections to area that only runs if no database or db empty.\n",
    " - Adjust code to retrieve latest datapoints \n",
    " - Add code to save / replace latest datapoints in SQL db\n",
    " - Add code to check API only if X days from latest datapoint\n",
    " - Add code to generate note in SQL database of date when updated last\n",
    " - Annotate code\n",
    " - Clean up code\n",
    " "
   ]
  },
  {
   "cell_type": "code",
   "execution_count": 16,
   "metadata": {},
   "outputs": [
    {
     "name": "stdout",
     "output_type": "stream",
     "text": [
      "requests v2.14.2\n",
      "pandas v0.21.1\n",
      "sqlite3 v2.6.0\n"
     ]
    }
   ],
   "source": [
    "# Import python packages\n",
    "import requests\n",
    "print('requests v{}'.format(requests.__version__))\n",
    "import pandas as pd\n",
    "print('pandas v{}'.format(pd.__version__))\n",
    "import sqlite3\n",
    "print('sqlite3 v{}'.format(sqlite3.version))\n",
    "import json\n",
    "\n",
    "import config   # Local file config.py with BLS API key"
   ]
  },
  {
   "cell_type": "markdown",
   "metadata": {
    "collapsed": true
   },
   "source": []
  },
  {
   "cell_type": "code",
   "execution_count": 17,
   "metadata": {},
   "outputs": [
    {
     "name": "stdout",
     "output_type": "stream",
     "text": [
      "REQUEST_SUCCEEDED\n",
      "REQUEST_SUCCEEDED\n",
      "REQUEST_SUCCEEDED\n",
      "REQUEST_SUCCEEDED\n",
      "1 loop, best of 3: 204 ms per loop\n"
     ]
    }
   ],
   "source": [
    "# BLS API - access to Bureau of Labor Statistics data\n",
    "url = 'https://api.bls.gov/publicAPI/v2/timeseries/data/'\n",
    "\n",
    "# API key in config.py which contains: bls_key = 'key'\n",
    "key = '?registrationkey={}'.format(config.bls_key)\n",
    "\n",
    "# Info for sending with post request\n",
    "headers = {'Content-type': 'application/json'}\n",
    "param = {\"seriesid\": ['LNS12300060'],  # BLS series ID\n",
    "         \"startyear\": \"2016\", \"endyear\": \"2017\"}\n",
    "\n",
    "# Request json data from BLS API\n",
    "p = requests.post('{}{}'.format(url, key), \n",
    "                  data=json.dumps(param), \n",
    "                  headers=headers).json()\n",
    "\n",
    "# Print whether API request was successful\n",
    "print(p['status']) \n",
    "\n",
    "# Location within API results of time series and footnotes\n",
    "r = p['Results']['series'][0]['data']"
   ]
  },
  {
   "cell_type": "code",
   "execution_count": 18,
   "metadata": {},
   "outputs": [],
   "source": [
    "# List comprehensions - clean json data and covert the \n",
    "# date, value, and footnote into pandas dataframe columns\n",
    "dates = ['{} {}'.format(i['period'], i['year']) for i in r]\n",
    "index = pd.to_datetime(dates)\n",
    "data = {param['seriesid'][0]: [float(i['value']) for i in r],\n",
    "        'footnotes': [i['footnotes'][0] for i in r]}\n",
    "# .iloc[::-1] reverses the sorting/order of the dataframe\n",
    "df = pd.DataFrame(index=index, data=data).iloc[::-1]"
   ]
  },
  {
   "cell_type": "code",
   "execution_count": 22,
   "metadata": {},
   "outputs": [],
   "source": [
    "# Test to see if SQL database exists\n",
    "\n",
    "\n",
    "# Connect to SQL database\n",
    "conn = sqlite3.connect('econ_data.db')\n",
    "\n",
    "# Save dataframe to database\n",
    "df.to_sql(param['seriesid'][0], conn, \n",
    "          if_exists='replace', index_label='Date')"
   ]
  },
  {
   "cell_type": "code",
   "execution_count": null,
   "metadata": {
    "collapsed": true
   },
   "outputs": [],
   "source": []
  },
  {
   "cell_type": "code",
   "execution_count": null,
   "metadata": {
    "collapsed": true
   },
   "outputs": [],
   "source": []
  },
  {
   "cell_type": "code",
   "execution_count": null,
   "metadata": {
    "collapsed": true
   },
   "outputs": [],
   "source": []
  },
  {
   "cell_type": "code",
   "execution_count": null,
   "metadata": {
    "collapsed": true
   },
   "outputs": [],
   "source": []
  },
  {
   "cell_type": "code",
   "execution_count": null,
   "metadata": {
    "collapsed": true
   },
   "outputs": [],
   "source": []
  },
  {
   "cell_type": "code",
   "execution_count": null,
   "metadata": {
    "collapsed": true
   },
   "outputs": [],
   "source": []
  },
  {
   "cell_type": "code",
   "execution_count": null,
   "metadata": {
    "collapsed": true
   },
   "outputs": [],
   "source": []
  },
  {
   "cell_type": "code",
   "execution_count": null,
   "metadata": {
    "collapsed": true
   },
   "outputs": [],
   "source": []
  },
  {
   "cell_type": "code",
   "execution_count": null,
   "metadata": {
    "collapsed": true
   },
   "outputs": [],
   "source": []
  }
 ],
 "metadata": {
  "kernelspec": {
   "display_name": "Python [conda root]",
   "language": "python",
   "name": "conda-root-py"
  },
  "language_info": {
   "codemirror_mode": {
    "name": "ipython",
    "version": 2
   },
   "file_extension": ".py",
   "mimetype": "text/x-python",
   "name": "python",
   "nbconvert_exporter": "python",
   "pygments_lexer": "ipython2",
   "version": "2.7.12"
  }
 },
 "nbformat": 4,
 "nbformat_minor": 2
}
