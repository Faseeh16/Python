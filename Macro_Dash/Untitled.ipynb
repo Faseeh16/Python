{
 "cells": [
  {
   "cell_type": "code",
   "execution_count": 5,
   "metadata": {
    "collapsed": false
   },
   "outputs": [],
   "source": [
    "from bokeh.plotting import figure, show\n",
    "\n",
    "height = [-0.5, 1.0, -1.5]\n",
    "\n",
    "x = [1,2,3]\n",
    "y = [x / 2. for x in height]\n",
    "\n",
    "p = figure(width=300, height=300, tools=\"hover\")\n",
    "p.rect(x=x, y=y, width=0.8, height=height)\n",
    "\n",
    "show(p)"
   ]
  }
 ],
 "metadata": {
  "kernelspec": {
   "display_name": "Python [default]",
   "language": "python",
   "name": "python2"
  },
  "language_info": {
   "codemirror_mode": {
    "name": "ipython",
    "version": 2
   },
   "file_extension": ".py",
   "mimetype": "text/x-python",
   "name": "python",
   "nbconvert_exporter": "python",
   "pygments_lexer": "ipython2",
   "version": "2.7.12"
  }
 },
 "nbformat": 4,
 "nbformat_minor": 1
}
