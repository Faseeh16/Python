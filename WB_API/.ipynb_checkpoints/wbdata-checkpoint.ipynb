{
 "cells": [
  {
   "cell_type": "code",
   "execution_count": null,
   "metadata": {
    "collapsed": false
   },
   "outputs": [],
   "source": [
    "import wbdata\n",
    "import pandas\n",
    "import matplotlib.pyplot as plt\n",
    " \n",
    "#set up the countries I want\n",
    "countries = 'all'\n",
    "#countries2 = [\"GB\",\"US\",\"JP\",\"FR\",\"DK\", \"SE\", \"LU\", \"CH\", \"DE\", \"SG\", \"AU\", \"CA\"] \n",
    "#set up the indicator I want (just build up the dict if you want more than one)\n",
    "indicators = {'NY.GNP.PCAP.CD':'GNI per Capita'}\n",
    " \n",
    "#grab indicators above for countires above and load into data frame\n",
    "df = wbdata.get_dataframe(indicators, country=countries, convert_date=False)\n",
    "\n",
    "#df is \"pivoted\", pandas' unstack fucntion helps reshape it into something plottable\n",
    "dfu = df.unstack(level=0)\n",
    "\n",
    "# a simple matplotlib plot with legend, labels and a title\n",
    "dfu.plot(); \n",
    "plt.legend(loc='best'); \n",
    "plt.title(\"GNI Per Capita ($USD, Atlas Method)\"); \n",
    "plt.xlabel('Date'); plt.ylabel('GNI Per Capita ($USD, Atlas Method');\n",
    "plt.show()\n",
    "\n",
    "#print(df)"
   ]
  },
  {
   "cell_type": "code",
   "execution_count": null,
   "metadata": {
    "collapsed": true
   },
   "outputs": [],
   "source": []
  },
  {
   "cell_type": "code",
   "execution_count": 46,
   "metadata": {
    "collapsed": false
   },
   "outputs": [
    {
     "name": "stdout",
     "output_type": "stream",
     "text": [
      "Help on function get_dataframe in module wbdata.api:\n",
      "\n",
      "get_dataframe(indicators, country=u'all', data_date=None, convert_date=False)\n",
      "    Convenience function to download a set of indicators and  merge them into a\n",
      "        pandas DataFrame.  The index will be the same as if calls were made to\n",
      "        get_data separately.\n",
      "    \n",
      "    :indicators: An dictionary where the keys are desired indicators and the\n",
      "        values are the desired column names\n",
      "    :country: a country code, sequence of country codes, or \"all\" (default)\n",
      "    :data_date: the desired date as a datetime object or a 2-sequence with\n",
      "        start and end dates\n",
      "    :convert_date: if True, convert date field to a datetime.datetime object.\n",
      "    :returns: a pandas dataframe\n",
      "\n"
     ]
    }
   ],
   "source": [
    "help(wbdata.get_dataframe)"
   ]
  }
 ],
 "metadata": {
  "kernelspec": {
   "display_name": "Python 2",
   "language": "python",
   "name": "python2"
  },
  "language_info": {
   "codemirror_mode": {
    "name": "ipython",
    "version": 2
   },
   "file_extension": ".py",
   "mimetype": "text/x-python",
   "name": "python",
   "nbconvert_exporter": "python",
   "pygments_lexer": "ipython2",
   "version": "2.7.11"
  }
 },
 "nbformat": 4,
 "nbformat_minor": 0
}
