{
 "cells": [
  {
   "cell_type": "code",
   "execution_count": 10,
   "metadata": {
    "collapsed": true
   },
   "outputs": [],
   "source": [
    "import requests\n",
    "import re\n",
    "import pandas as pd\n",
    "from StringIO import StringIO\n",
    "import time "
   ]
  },
  {
   "cell_type": "code",
   "execution_count": 11,
   "metadata": {
    "collapsed": true
   },
   "outputs": [],
   "source": [
    "ticker = '^DJI'\n",
    "start = '1104537600'\n",
    "base = 'https://finance.yahoo.com/quote/'\n",
    "end = int(time.time())\n",
    "dates = '?period1={}&period2={}'.format(start, end)\n",
    "param = '&interval=1d&filter=history&frequency=1d'\n",
    "url = '{}{}/history{}{}'.format(base, ticker, dates, param)"
   ]
  },
  {
   "cell_type": "code",
   "execution_count": 15,
   "metadata": {},
   "outputs": [],
   "source": [
    "s = requests.Session()\n",
    "r = s.get(url)\n",
    "regex = '\"CrumbStore\":{\"crumb\":\"(.+?)\"},'\n",
    "pattern = re.compile(regex)\n",
    "crumb = re.findall(pattern, r.content)[0]\n",
    "base2 = 'https://query1.finance.yahoo.com/v7/finance/download/'\n",
    "param2 = '{}{}&interval=1d&events=history&crumb={}/Q'.format(ticker, dates, crumb)\n",
    "url2 = '{}{}'.format(base2, param2)\n",
    "data = s.post(url2)\n",
    "csv = StringIO(data.content)\n",
    "df = pd.read_table(csv, sep=',', parse_dates=['Date'])"
   ]
  },
  {
   "cell_type": "code",
   "execution_count": 16,
   "metadata": {},
   "outputs": [
    {
     "data": {
      "text/plain": [
       "Date\n",
       "2005-01-03    10729.429688\n",
       "2005-01-04    10630.780273\n",
       "2005-01-05    10597.830078\n",
       "2005-01-06    10622.879883\n",
       "2005-01-07    10603.959961\n",
       "2005-01-10    10621.030273\n",
       "2005-01-11    10556.219727\n",
       "2005-01-12    10617.780273\n",
       "2005-01-13    10505.830078\n",
       "2005-01-14    10558.000000\n",
       "2005-01-18    10628.790039\n",
       "2005-01-19    10539.969727\n",
       "2005-01-20    10471.469727\n",
       "2005-01-21    10392.990234\n",
       "2005-01-24    10368.610352\n",
       "2005-01-25    10461.559570\n",
       "2005-01-26    10498.589844\n",
       "2005-01-27    10467.400391\n",
       "2005-01-28    10427.200195\n",
       "2005-01-31    10489.940430\n",
       "2005-02-01    10551.940430\n",
       "2005-02-02    10596.790039\n",
       "2005-02-03    10593.099609\n",
       "2005-02-04    10716.129883\n",
       "2005-02-07    10715.759766\n",
       "2005-02-08    10724.629883\n",
       "2005-02-09    10664.110352\n",
       "2005-02-10    10749.610352\n",
       "2005-02-11    10796.009766\n",
       "2005-02-14    10791.129883\n",
       "                  ...     \n",
       "2017-04-06    20662.949219\n",
       "2017-04-07    20656.099609\n",
       "2017-04-10    20658.019531\n",
       "2017-04-11    20651.300781\n",
       "2017-04-12    20591.859375\n",
       "2017-04-13    20453.250000\n",
       "2017-04-17    20636.919922\n",
       "2017-04-18    20523.279297\n",
       "2017-04-19    20404.490234\n",
       "2017-04-20    20578.710938\n",
       "2017-04-21    20547.759766\n",
       "2017-04-24    20763.890625\n",
       "2017-04-25    20996.119141\n",
       "2017-04-26    20975.089844\n",
       "2017-04-27    20981.330078\n",
       "2017-04-28    20940.509766\n",
       "2017-05-01    20913.460938\n",
       "2017-05-02    20949.890625\n",
       "2017-05-03    20957.900391\n",
       "2017-05-04    20951.470703\n",
       "2017-05-05    21006.939453\n",
       "2017-05-08    21012.279297\n",
       "2017-05-09    20975.779297\n",
       "2017-05-10    20943.109375\n",
       "2017-05-11    20919.419922\n",
       "2017-05-12    20896.609375\n",
       "2017-05-15    20981.939453\n",
       "2017-05-16    20979.750000\n",
       "2017-05-17    20606.929688\n",
       "2017-05-18    20643.250000\n",
       "Name: Adj Close, Length: 3116, dtype: float64"
      ]
     },
     "execution_count": 16,
     "metadata": {},
     "output_type": "execute_result"
    }
   ],
   "source": [
    "df.set_index('Date')['Adj Close']"
   ]
  }
 ],
 "metadata": {
  "kernelspec": {
   "display_name": "Python [conda root]",
   "language": "python",
   "name": "conda-root-py"
  },
  "language_info": {
   "codemirror_mode": {
    "name": "ipython",
    "version": 2
   },
   "file_extension": ".py",
   "mimetype": "text/x-python",
   "name": "python",
   "nbconvert_exporter": "python",
   "pygments_lexer": "ipython2",
   "version": "2.7.12"
  }
 },
 "nbformat": 4,
 "nbformat_minor": 2
}
