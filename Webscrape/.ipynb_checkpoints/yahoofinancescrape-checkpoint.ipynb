{
 "cells": [
  {
   "cell_type": "code",
   "execution_count": 1,
   "metadata": {
    "collapsed": false
   },
   "outputs": [],
   "source": [
    "import urllib\n",
    "import re"
   ]
  },
  {
   "cell_type": "code",
   "execution_count": 7,
   "metadata": {
    "collapsed": false
   },
   "outputs": [
    {
     "name": "stdout",
     "output_type": "stream",
     "text": [
      "The price of voe is 85.69\n",
      "The price of ttm is 28.06\n",
      "The price of chl is 55.50\n",
      "The price of spy is 204.50\n",
      "The price of ewz is 26.56\n",
      "The price of gs is 150.28\n",
      "The price of jnj is 109.10\n",
      "The price of qqq is 109.00\n",
      "The price of vti is 104.20\n",
      "The price of vbk is 118.15\n",
      "The price of edv is 129.01\n",
      "The price of frak is 14.43\n",
      "The price of vgsh is 61.19\n",
      "The price of tot is 45.47\n"
     ]
    }
   ],
   "source": [
    "symbolslist = [\"voe\",\"ttm\",\"chl\",\"spy\",\"ewz\",\"gs\",\"jnj\",\"qqq\",\\\n",
    "               \"vti\",\"vbk\",\"edv\",\"frak\",\"vgsh\",\"tot\"]\n",
    "\n",
    "i=0\n",
    "while i<len(symbolslist):\n",
    "    url = \"http://finance.yahoo.com/q?s=\" +symbolslist[i] +\"&ql=1\"\n",
    "    htmlfile = urllib.urlopen(url)\n",
    "    htmltext = htmlfile.read()\n",
    "    regex = '<span id=\"yfs_l84_' +symbolslist[i] +'\">(.+?)</span>'\n",
    "    pattern = re.compile(regex)\n",
    "    price = re.findall(pattern,htmltext)\n",
    "    print \"The price of\", symbolslist[i], \"is\", price[0]\n",
    "    i+=1"
   ]
  },
  {
   "cell_type": "code",
   "execution_count": 8,
   "metadata": {
    "collapsed": false
   },
   "outputs": [
    {
     "name": "stdout",
     "output_type": "stream",
     "text": [
      "The price of oil is 39.72\n"
     ]
    }
   ],
   "source": [
    "htmlfile = urllib.urlopen(\"http://www.bloomberg.com/quote/CL1:COM\")\n",
    "htmltext = htmlfile.read()\n",
    "regex = '<div class=\"price\">(.+?)</div>'\n",
    "pattern = re.compile(regex)\n",
    "price = re.findall(pattern,htmltext)\n",
    "print \"The current price of oil is\", price[0]"
   ]
  }
 ],
 "metadata": {
  "kernelspec": {
   "display_name": "Python 2",
   "language": "python",
   "name": "python2"
  },
  "language_info": {
   "codemirror_mode": {
    "name": "ipython",
    "version": 2
   },
   "file_extension": ".py",
   "mimetype": "text/x-python",
   "name": "python",
   "nbconvert_exporter": "python",
   "pygments_lexer": "ipython2",
   "version": "2.7.11"
  }
 },
 "nbformat": 4,
 "nbformat_minor": 0
}
