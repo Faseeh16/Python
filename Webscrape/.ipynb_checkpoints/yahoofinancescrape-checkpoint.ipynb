{
 "cells": [
  {
   "cell_type": "code",
   "execution_count": 1,
   "metadata": {},
   "outputs": [],
   "source": [
    "import urllib\n",
    "import re"
   ]
  },
  {
   "cell_type": "code",
   "execution_count": 2,
   "metadata": {},
   "outputs": [
    {
     "name": "stdout",
     "output_type": "stream",
     "text": [
      "The price of voe is"
     ]
    },
    {
     "ename": "IndexError",
     "evalue": "list index out of range",
     "output_type": "error",
     "traceback": [
      "\u001b[1;31m---------------------------------------------------------------------------\u001b[0m",
      "\u001b[1;31mIndexError\u001b[0m                                Traceback (most recent call last)",
      "\u001b[1;32m<ipython-input-2-dd58ab300091>\u001b[0m in \u001b[0;36m<module>\u001b[1;34m()\u001b[0m\n\u001b[0;32m      9\u001b[0m     \u001b[0mpattern\u001b[0m \u001b[1;33m=\u001b[0m \u001b[0mre\u001b[0m\u001b[1;33m.\u001b[0m\u001b[0mcompile\u001b[0m\u001b[1;33m(\u001b[0m\u001b[0mregex\u001b[0m\u001b[1;33m)\u001b[0m\u001b[1;33m\u001b[0m\u001b[0m\n\u001b[0;32m     10\u001b[0m     \u001b[0mprice\u001b[0m \u001b[1;33m=\u001b[0m \u001b[0mre\u001b[0m\u001b[1;33m.\u001b[0m\u001b[0mfindall\u001b[0m\u001b[1;33m(\u001b[0m\u001b[0mpattern\u001b[0m\u001b[1;33m,\u001b[0m\u001b[0mhtmltext\u001b[0m\u001b[1;33m)\u001b[0m\u001b[1;33m\u001b[0m\u001b[0m\n\u001b[1;32m---> 11\u001b[1;33m     \u001b[1;32mprint\u001b[0m \u001b[1;34m\"The price of\"\u001b[0m\u001b[1;33m,\u001b[0m \u001b[0msymbolslist\u001b[0m\u001b[1;33m[\u001b[0m\u001b[0mi\u001b[0m\u001b[1;33m]\u001b[0m\u001b[1;33m,\u001b[0m \u001b[1;34m\"is\"\u001b[0m\u001b[1;33m,\u001b[0m \u001b[0mprice\u001b[0m\u001b[1;33m[\u001b[0m\u001b[1;36m0\u001b[0m\u001b[1;33m]\u001b[0m\u001b[1;33m\u001b[0m\u001b[0m\n\u001b[0m\u001b[0;32m     12\u001b[0m     \u001b[0mi\u001b[0m\u001b[1;33m+=\u001b[0m\u001b[1;36m1\u001b[0m\u001b[1;33m\u001b[0m\u001b[0m\n",
      "\u001b[1;31mIndexError\u001b[0m: list index out of range"
     ]
    }
   ],
   "source": [
    "symbolslist = [\"voe\",\"ttm\",\"chl\",\"spy\",\"ewz\",\"gs\",\"jnj\",\"qqq\",\\\n",
    "               \"vti\",\"vbk\",\"edv\",\"frak\",\"vgsh\",\"tot\"]\n",
    "\n",
    "i=0\n",
    "while i<len(symbolslist):\n",
    "    url = \"http://finance.yahoo.com/q?s=\" +symbolslist[i] +\"&ql=1\"\n",
    "    htmlfile = urllib.urlopen(url)\n",
    "    htmltext = htmlfile.read()\n",
    "    regex = '<span id=\"yfs_l84_' +symbolslist[i] +'\">(.+?)</span>'\n",
    "    pattern = re.compile(regex)\n",
    "    price = re.findall(pattern,htmltext)\n",
    "    print \"The price of\", symbolslist[i], \"is\", price[0]\n",
    "    i+=1"
   ]
  },
  {
   "cell_type": "code",
   "execution_count": 3,
   "metadata": {},
   "outputs": [
    {
     "name": "stdout",
     "output_type": "stream",
     "text": [
      " The current price of oil is 49.39\n"
     ]
    }
   ],
   "source": [
    "htmlfile = urllib.urlopen(\"http://www.bloomberg.com/quote/CL1:COM\")\n",
    "htmltext = htmlfile.read()\n",
    "regex = '<div class=\"price\">(.+?)</div>'\n",
    "pattern = re.compile(regex)\n",
    "price = re.findall(pattern,htmltext)\n",
    "print \"The current price of oil is\", price[0]"
   ]
  },
  {
   "cell_type": "code",
   "execution_count": 6,
   "metadata": {},
   "outputs": [
    {
     "name": "stdout",
     "output_type": "stream",
     "text": [
      "Date\n",
      "2006-01-03    10847.410156\n",
      "2006-01-04    10880.150391\n",
      "2006-01-05    10882.150391\n",
      "2006-01-06    10959.309570\n",
      "2006-01-09    11011.900391\n",
      "2006-01-10    11011.580078\n",
      "2006-01-11    11043.440430\n",
      "2006-01-12    10962.360352\n",
      "2006-01-13    10959.870117\n",
      "2006-01-17    10896.320312\n",
      "2006-01-18    10854.860352\n",
      "2006-01-19    10880.709961\n",
      "2006-01-20    10667.389648\n",
      "2006-01-23    10688.769531\n",
      "2006-01-24    10712.219727\n",
      "2006-01-25    10709.740234\n",
      "2006-01-26    10809.469727\n",
      "2006-01-27    10907.209961\n",
      "2006-01-30    10899.919922\n",
      "2006-01-31    10864.860352\n",
      "2006-02-01    10953.950195\n",
      "2006-02-02    10851.980469\n",
      "2006-02-03    10793.620117\n",
      "2006-02-06    10798.269531\n",
      "2006-02-07    10749.759766\n",
      "2006-02-08    10858.620117\n",
      "2006-02-09    10883.349609\n",
      "2006-02-10    10919.049805\n",
      "2006-02-13    10892.320312\n",
      "2006-02-14    11028.389648\n",
      "                  ...     \n",
      "2017-03-09    20858.189453\n",
      "2017-03-10    20902.980469\n",
      "2017-03-13    20881.480469\n",
      "2017-03-14    20837.369141\n",
      "2017-03-15    20950.099609\n",
      "2017-03-16    20934.550781\n",
      "2017-03-17    20914.619141\n",
      "2017-03-20    20905.859375\n",
      "2017-03-21    20668.009766\n",
      "2017-03-22    20661.300781\n",
      "2017-03-23    20656.580078\n",
      "2017-03-24    20596.720703\n",
      "2017-03-27    20550.980469\n",
      "2017-03-28    20701.500000\n",
      "2017-03-29    20659.320312\n",
      "2017-03-30    20728.490234\n",
      "2017-03-31    20663.220703\n",
      "2017-04-03    20650.210938\n",
      "2017-04-04    20689.240234\n",
      "2017-04-05    20648.150391\n",
      "2017-04-06    20662.949219\n",
      "2017-04-07    20656.099609\n",
      "2017-04-10    20658.019531\n",
      "2017-04-11    20651.300781\n",
      "2017-04-12    20591.859375\n",
      "2017-04-13    20453.250000\n",
      "2017-04-17    20636.919922\n",
      "2017-04-18    20523.279297\n",
      "2017-04-19    20404.490234\n",
      "2017-04-20    20578.710938\n",
      "Name: Adj Close, dtype: float64\n"
     ]
    }
   ],
   "source": [
    "import pandas_datareader.data as web\n",
    "from datetime import datetime\n",
    "\n",
    "djia = web.DataReader('^DJI', 'yahoo', start=datetime(2006, 1, 1))\n",
    "print(djia['Adj Close'])"
   ]
  },
  {
   "cell_type": "code",
   "execution_count": 8,
   "metadata": {},
   "outputs": [
    {
     "data": {
      "text/plain": [
       "Date\n",
       "2010-01-01     92.920\n",
       "2010-01-04     92.495\n",
       "2010-01-05     91.585\n",
       "2010-01-06     92.356\n",
       "2010-01-07     93.390\n",
       "2010-01-08     92.660\n",
       "2010-01-11     92.092\n",
       "2010-01-12     91.080\n",
       "2010-01-13     91.433\n",
       "2010-01-14     91.267\n",
       "2010-01-15     90.750\n",
       "2010-01-18     90.705\n",
       "2010-01-19     91.199\n",
       "2010-01-20     91.192\n",
       "2010-01-21     90.393\n",
       "2010-01-22     89.810\n",
       "2010-01-25     90.415\n",
       "2010-01-26     89.630\n",
       "2010-01-27     89.950\n",
       "2010-01-28     89.778\n",
       "2010-01-29     90.270\n",
       "2010-02-01     90.760\n",
       "2010-02-02     90.428\n",
       "2010-02-03     90.840\n",
       "2010-02-04     89.410\n",
       "2010-02-05     89.220\n",
       "2010-02-08     89.220\n",
       "2010-02-09     89.768\n",
       "2010-02-10     89.930\n",
       "2010-02-11     89.810\n",
       "               ...   \n",
       "2017-03-10    115.149\n",
       "2017-03-13    114.732\n",
       "2017-03-14    114.915\n",
       "2017-03-15    114.659\n",
       "2017-03-16    113.402\n",
       "2017-03-17    113.340\n",
       "2017-03-20    112.674\n",
       "2017-03-21    112.573\n",
       "2017-03-22    111.532\n",
       "2017-03-23    111.369\n",
       "2017-03-24    111.004\n",
       "2017-03-27    110.552\n",
       "2017-03-28    110.771\n",
       "2017-03-29    111.226\n",
       "2017-03-30    111.154\n",
       "2017-03-31    111.776\n",
       "2017-04-03    111.265\n",
       "2017-04-04    110.709\n",
       "2017-04-05    110.854\n",
       "2017-04-06    110.381\n",
       "2017-04-07    110.897\n",
       "2017-04-10    111.225\n",
       "2017-04-11    110.717\n",
       "2017-04-12    109.587\n",
       "2017-04-13    108.902\n",
       "2017-04-14    109.101\n",
       "2017-04-17    108.323\n",
       "2017-04-18    109.112\n",
       "2017-04-19    108.535\n",
       "2017-04-20    108.834\n",
       "Name: Adj Close, dtype: float64"
      ]
     },
     "execution_count": 8,
     "metadata": {},
     "output_type": "execute_result"
    }
   ],
   "source": [
    "web.DataReader(\"JPY=X\", 'yahoo')['Adj Close']"
   ]
  }
 ],
 "metadata": {
  "kernelspec": {
   "display_name": "Python [default]",
   "language": "python",
   "name": "python2"
  },
  "language_info": {
   "codemirror_mode": {
    "name": "ipython",
    "version": 2
   },
   "file_extension": ".py",
   "mimetype": "text/x-python",
   "name": "python",
   "nbconvert_exporter": "python",
   "pygments_lexer": "ipython2",
   "version": "2.7.12"
  }
 },
 "nbformat": 4,
 "nbformat_minor": 1
}
