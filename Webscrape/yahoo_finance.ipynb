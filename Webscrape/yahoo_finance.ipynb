{
 "cells": [
  {
   "cell_type": "code",
   "execution_count": 85,
   "metadata": {},
   "outputs": [],
   "source": [
    "import pandas as pd\n",
    "import pandas_datareader.data as web\n",
    "from datetime import datetime\n",
    "import os\n",
    "\n",
    "os.chdir('C:\\Working\\USA\\datafiles')\n",
    "\n",
    "def write_txt(filename, filetext):\n",
    "# Write label to txt file\n",
    "    with open(filename, 'w') as text_file:\n",
    "        text_file.write(filetext)"
   ]
  },
  {
   "cell_type": "code",
   "execution_count": 86,
   "metadata": {
    "scrolled": false
   },
   "outputs": [],
   "source": [
    "# Retrieve data\n",
    "df = web.DataReader(['^DJI', '^GSPC', '^IXIC'], 'yahoo', \n",
    "                    start=datetime(2005, 1, 1)).filter(\n",
    "                    items=['Adj Close'])[u'Adj Close']\n",
    "\n",
    "c_names = ['djia', 'sp', 'nsdq']\n",
    "df.columns = c_names\n",
    "df.loc[:, 'djia'] = df['djia'].divide(1000)\n",
    "for col in c_names:\n",
    "    df.loc[:,col+'_ma'] = df[col].rolling(253).mean()\n",
    "df = df.dropna()\n",
    "for col in c_names:\n",
    "    df.loc[:,col+'_ix'] = df[col].divide(df[col].ix[0] / 100)\n",
    "df.to_csv('stocks.csv')\n",
    "\n",
    "# Generate label text\n",
    "d = {}\n",
    "for col in c_names:\n",
    "    for t, v in {'day': -2, 'wk': -6}.iteritems():\n",
    "        d[col+'_ch'+t] = round((df[col][-1] - df[col][v]) / df[col][v] * 100, 2)\n",
    "        if d[col+'_ch'+t] > 0:\n",
    "            d[col+'_ar'+t] = '\\color{green!80!black} $ \\\\blacktriangle $ \\\\normalcolor'\n",
    "        else:\n",
    "            d[col+'_ar'+t] = '\\color{red} $\\\\blacktriangledown$ \\\\normalcolor'\n",
    "    d[col+'_mad'] = round((df[col][-1] - df[col+'_ma'][-1]) / df[col+'_ma'][-1] * 100, 2)\n",
    "    if d[col+'_mad'] > 0:\n",
    "        d[col+'_mat'] = 'above moving average'\n",
    "    else:\n",
    "        d[col+'_mat'] = 'below moving average'\n",
    "df.loc[:, 'djia'] = df['djia'].multiply(1000)\n",
    "d1 = df.index[-1].strftime('%b %#d, %Y')\n",
    "for col in c_names:    \n",
    "    d[col+'_lt'] = round(df[col][-1], 2)\n",
    "    d[col+'_t'] = 'One-day change: {} {}\\%; \\\\\\ One-week change: {} {}\\%'.format(\n",
    "            d[col+'_arday'], d[col+'_chday'], d[col+'_arwk'], d[col+'_chwk'])\n",
    "    d[col+'_t2'] = '{}: {:,}; {}\\% {}'.format(d1, d[col+'_lt'], d[col+'_mad'], d[col+'_mat'])\n",
    "    write_txt(col+'_ch.txt', d[col+'_t'])\n",
    "    write_txt(col+'.txt', d[col+'_t2'])"
   ]
  }
 ],
 "metadata": {
  "kernelspec": {
   "display_name": "Python [conda root]",
   "language": "python",
   "name": "conda-root-py"
  },
  "language_info": {
   "codemirror_mode": {
    "name": "ipython",
    "version": 2
   },
   "file_extension": ".py",
   "mimetype": "text/x-python",
   "name": "python",
   "nbconvert_exporter": "python",
   "pygments_lexer": "ipython2",
   "version": "2.7.12"
  }
 },
 "nbformat": 4,
 "nbformat_minor": 2
}
