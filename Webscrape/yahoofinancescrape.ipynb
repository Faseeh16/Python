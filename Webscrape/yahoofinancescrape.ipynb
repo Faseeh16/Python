{
 "cells": [
  {
   "cell_type": "code",
   "execution_count": 1,
   "metadata": {
    "collapsed": false
   },
   "outputs": [],
   "source": [
    "import urllib\n",
    "import re"
   ]
  },
  {
   "cell_type": "code",
   "execution_count": 2,
   "metadata": {
    "collapsed": false
   },
   "outputs": [
    {
     "name": "stdout",
     "output_type": "stream",
     "text": [
      "The price of voe is 87.59\n",
      "The price of ttm is 30.10\n",
      "The price of chl is 56.70\n",
      "The price of spy is 206.16\n",
      "The price of ewz is 27.70\n",
      "The price of gs is 163.14\n",
      "The price of jnj is 112.69\n",
      "The price of qqq is 105.73\n",
      "The price of vti is 105.26\n",
      "The price of vbk is 119.73\n",
      "The price of edv is 125.32\n",
      "The price of frak is 15.64\n",
      "The price of vgsh is 61.17\n",
      "The price of tot is 49.23\n"
     ]
    }
   ],
   "source": [
    "symbolslist = [\"voe\",\"ttm\",\"chl\",\"spy\",\"ewz\",\"gs\",\"jnj\",\"qqq\",\\\n",
    "               \"vti\",\"vbk\",\"edv\",\"frak\",\"vgsh\",\"tot\"]\n",
    "\n",
    "i=0\n",
    "while i<len(symbolslist):\n",
    "    url = \"http://finance.yahoo.com/q?s=\" +symbolslist[i] +\"&ql=1\"\n",
    "    htmlfile = urllib.urlopen(url)\n",
    "    htmltext = htmlfile.read()\n",
    "    regex = '<span id=\"yfs_l84_' +symbolslist[i] +'\">(.+?)</span>'\n",
    "    pattern = re.compile(regex)\n",
    "    price = re.findall(pattern,htmltext)\n",
    "    print \"The price of\", symbolslist[i], \"is\", price[0]\n",
    "    i+=1"
   ]
  },
  {
   "cell_type": "code",
   "execution_count": 3,
   "metadata": {
    "collapsed": false
   },
   "outputs": [
    {
     "name": "stdout",
     "output_type": "stream",
     "text": [
      "The current price of oil is 43.81\n"
     ]
    }
   ],
   "source": [
    "htmlfile = urllib.urlopen(\"http://www.bloomberg.com/quote/CL1:COM\")\n",
    "htmltext = htmlfile.read()\n",
    "regex = '<div class=\"price\">(.+?)</div>'\n",
    "pattern = re.compile(regex)\n",
    "price = re.findall(pattern,htmltext)\n",
    "print \"The current price of oil is\", price[0]"
   ]
  }
 ],
 "metadata": {
  "kernelspec": {
   "display_name": "Python 2",
   "language": "python",
   "name": "python2"
  },
  "language_info": {
   "codemirror_mode": {
    "name": "ipython",
    "version": 2
   },
   "file_extension": ".py",
   "mimetype": "text/x-python",
   "name": "python",
   "nbconvert_exporter": "python",
   "pygments_lexer": "ipython2",
   "version": "2.7.11"
  }
 },
 "nbformat": 4,
 "nbformat_minor": 0
}
