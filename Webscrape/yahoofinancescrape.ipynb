{
 "cells": [
  {
   "cell_type": "code",
   "execution_count": null,
   "metadata": {},
   "outputs": [],
   "source": [
    "import urllib\n",
    "import re"
   ]
  },
  {
   "cell_type": "code",
   "execution_count": null,
   "metadata": {},
   "outputs": [],
   "source": [
    "symbolslist = [\"voe\",\"ttm\",\"chl\",\"spy\",\"ewz\",\"gs\",\"jnj\",\"qqq\",\\\n",
    "               \"vti\",\"vbk\",\"edv\",\"frak\",\"vgsh\",\"tot\"]\n",
    "\n",
    "i=0\n",
    "while i<len(symbolslist):\n",
    "    url = \"http://finance.yahoo.com/q?s=\" +symbolslist[i] +\"&ql=1\"\n",
    "    htmlfile = urllib.urlopen(url)\n",
    "    htmltext = htmlfile.read()\n",
    "    regex = '<span id=\"yfs_l84_' +symbolslist[i] +'\">(.+?)</span>'\n",
    "    pattern = re.compile(regex)\n",
    "    price = re.findall(pattern,htmltext)\n",
    "    print \"The price of\", symbolslist[i], \"is\", price[0]\n",
    "    i+=1"
   ]
  },
  {
   "cell_type": "code",
   "execution_count": null,
   "metadata": {},
   "outputs": [],
   "source": [
    "htmlfile = urllib.urlopen(\"http://www.bloomberg.com/quote/CL1:COM\")\n",
    "htmltext = htmlfile.read()\n",
    "regex = '<div class=\"price\">(.+?)</div>'\n",
    "pattern = re.compile(regex)\n",
    "price = re.findall(pattern,htmltext)\n",
    "print \"The current price of oil is\", price[0]"
   ]
  },
  {
   "cell_type": "code",
   "execution_count": null,
   "metadata": {},
   "outputs": [],
   "source": [
    "import pandas_datareader.data as web\n",
    "from datetime import datetime\n",
    "\n",
    "djia = web.DataReader('^DJI', 'yahoo', start=datetime(2006, 1, 1))\n",
    "print(djia['Adj Close'])"
   ]
  },
  {
   "cell_type": "code",
   "execution_count": null,
   "metadata": {},
   "outputs": [],
   "source": [
    "web.DataReader(\"JPY=X\", 'yahoo')['Adj Close']"
   ]
  }
 ],
 "metadata": {
  "kernelspec": {
   "display_name": "Python [default]",
   "language": "python",
   "name": "python2"
  },
  "language_info": {
   "codemirror_mode": {
    "name": "ipython",
    "version": 2
   },
   "file_extension": ".py",
   "mimetype": "text/x-python",
   "name": "python",
   "nbconvert_exporter": "python",
   "pygments_lexer": "ipython2",
   "version": "2.7.12"
  }
 },
 "nbformat": 4,
 "nbformat_minor": 1
}
