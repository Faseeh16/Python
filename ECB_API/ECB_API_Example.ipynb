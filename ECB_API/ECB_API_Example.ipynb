{
 "cells": [
  {
   "cell_type": "markdown",
   "metadata": {},
   "source": [
    "### European Central Bank API\n",
    "\n",
    "This notebook retrieves monthly data on the yield of comparable 10-year government bonds of Eurozone countries from the [ECB API](https://sdw-wsrest.ecb.europa.eu/web/generator/index.html), along with the one year high and low values."
   ]
  },
  {
   "cell_type": "code",
   "execution_count": 1,
   "metadata": {},
   "outputs": [],
   "source": [
    "import requests\n",
    "import pandas as pd\n",
    "\n",
    "# API in JSON data format returns series index as strings\n",
    "# tiny function below used to convert to ints during sort\n",
    "def asint(s):\n",
    "    return int(s)"
   ]
  },
  {
   "cell_type": "code",
   "execution_count": 2,
   "metadata": {},
   "outputs": [],
   "source": [
    "url = 'https://sdw-wsrest.ecb.europa.eu/service/data/'\n",
    "# headers used as content negotiation to return data in json format\n",
    "headers = {'Accept':'application/json'}\n",
    "clist = ['DE', 'FR', 'IT', 'ES', 'PT', 'GR', 'NL', 'BE', 'AT', 'IE']\n",
    "\n",
    "d = {}    # Empty dictionary used to store important values\n",
    "for country in clist:\n",
    "    key = 'IRS/M.{}.L.L40.CI.0000.EUR.N.Z?startPeriod=2016-01-01'.format(country)\n",
    "    response = requests.get('{}{}'.format(url,key), headers=headers).json()\n",
    "    # API returns data series in one dictionary and dates in another\n",
    "    series = response['dataSets'][0]['series'][u'0:0:0:0:0:0:0:0:0']['observations']\n",
    "    slist = [data[k][0] for k in sorted(data, key=asint)]\n",
    "    dates = response['structure']['dimensions']['observation'][0]['values']\n",
    "    dlist = [i['start'][:10] for i in dates]\n",
    "    area = response['structure']['dimensions']['series'][1]['values'][0]['name']\n",
    "    # Convert two lists into pandas dataframe\n",
    "    df = pd.DataFrame({'date': dlist, area: slist}).set_index('date')\n",
    "    d[country] = {}     # Create key in dictionary for each country\n",
    "    d[country]['latest'] = df[area][-1]\n",
    "    d[country]['label'] = area\n",
    "    d[country]['1min'] = df[area][-12:].min()  #Most recent year only\n",
    "    d[country]['1max'] = df[area][-12:].max()\n",
    "recent_date = pd.to_datetime(df.index[-1]).strftime('%B %Y')  # Latest date as text"
   ]
  },
  {
   "cell_type": "code",
   "execution_count": 6,
   "metadata": {},
   "outputs": [
    {
     "data": {
      "text/html": [
       "<div>\n",
       "<table border=\"1\" class=\"dataframe\">\n",
       "  <thead>\n",
       "    <tr style=\"text-align: right;\">\n",
       "      <th></th>\n",
       "      <th>1max</th>\n",
       "      <th>1min</th>\n",
       "      <th>label</th>\n",
       "      <th>latest</th>\n",
       "    </tr>\n",
       "  </thead>\n",
       "  <tbody>\n",
       "    <tr>\n",
       "      <th>AT</th>\n",
       "      <td>0.5924</td>\n",
       "      <td>0.1068</td>\n",
       "      <td>Austria</td>\n",
       "      <td>0.5924</td>\n",
       "    </tr>\n",
       "    <tr>\n",
       "      <th>BE</th>\n",
       "      <td>0.87</td>\n",
       "      <td>0.15</td>\n",
       "      <td>Belgium</td>\n",
       "      <td>0.87</td>\n",
       "    </tr>\n",
       "    <tr>\n",
       "      <th>DE</th>\n",
       "      <td>0.35</td>\n",
       "      <td>-0.15</td>\n",
       "      <td>Germany</td>\n",
       "      <td>0.35</td>\n",
       "    </tr>\n",
       "    <tr>\n",
       "      <th>ES</th>\n",
       "      <td>1.717</td>\n",
       "      <td>1.008</td>\n",
       "      <td>Spain</td>\n",
       "      <td>1.717</td>\n",
       "    </tr>\n",
       "    <tr>\n",
       "      <th>FR</th>\n",
       "      <td>1.03</td>\n",
       "      <td>0.15</td>\n",
       "      <td>France</td>\n",
       "      <td>1.02</td>\n",
       "    </tr>\n",
       "    <tr>\n",
       "      <th>GR</th>\n",
       "      <td>9.03</td>\n",
       "      <td>6.94</td>\n",
       "      <td>Greece</td>\n",
       "      <td>7.17</td>\n",
       "    </tr>\n",
       "    <tr>\n",
       "      <th>IE</th>\n",
       "      <td>1.06</td>\n",
       "      <td>0.4</td>\n",
       "      <td>Ireland</td>\n",
       "      <td>1.05</td>\n",
       "    </tr>\n",
       "    <tr>\n",
       "      <th>IT</th>\n",
       "      <td>2.401</td>\n",
       "      <td>1.176</td>\n",
       "      <td>Italy</td>\n",
       "      <td>2.401</td>\n",
       "    </tr>\n",
       "    <tr>\n",
       "      <th>NL</th>\n",
       "      <td>0.486</td>\n",
       "      <td>0.027</td>\n",
       "      <td>Netherlands</td>\n",
       "      <td>0.485</td>\n",
       "    </tr>\n",
       "    <tr>\n",
       "      <th>PT</th>\n",
       "      <td>4.043</td>\n",
       "      <td>2.912</td>\n",
       "      <td>Portugal</td>\n",
       "      <td>3.992</td>\n",
       "    </tr>\n",
       "  </tbody>\n",
       "</table>\n",
       "</div>"
      ],
      "text/plain": [
       "      1max    1min        label  latest\n",
       "AT  0.5924  0.1068      Austria  0.5924\n",
       "BE    0.87    0.15      Belgium    0.87\n",
       "DE    0.35   -0.15      Germany    0.35\n",
       "ES   1.717   1.008        Spain   1.717\n",
       "FR    1.03    0.15       France    1.02\n",
       "GR    9.03    6.94       Greece    7.17\n",
       "IE    1.06     0.4      Ireland    1.05\n",
       "IT   2.401   1.176        Italy   2.401\n",
       "NL   0.486   0.027  Netherlands   0.485\n",
       "PT   4.043   2.912     Portugal   3.992"
      ]
     },
     "execution_count": 6,
     "metadata": {},
     "output_type": "execute_result"
    }
   ],
   "source": [
    "pd.DataFrame(d).transpose()"
   ]
  }
 ],
 "metadata": {
  "kernelspec": {
   "display_name": "Python [conda root]",
   "language": "python",
   "name": "conda-root-py"
  },
  "language_info": {
   "codemirror_mode": {
    "name": "ipython",
    "version": 2
   },
   "file_extension": ".py",
   "mimetype": "text/x-python",
   "name": "python",
   "nbconvert_exporter": "python",
   "pygments_lexer": "ipython2",
   "version": "2.7.12"
  }
 },
 "nbformat": 4,
 "nbformat_minor": 2
}
