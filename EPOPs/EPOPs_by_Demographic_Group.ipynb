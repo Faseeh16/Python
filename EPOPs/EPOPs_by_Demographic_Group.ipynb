{
 "cells": [
  {
   "cell_type": "markdown",
   "metadata": {},
   "source": [
    "## Gather Employment to Population Ratio Data for Several Demographic Groups\n",
    "\n",
    "Use the BLS API to first identify the series code for several demographic groups then to retrieve data on each group's employment-to-population ratio. "
   ]
  },
  {
   "cell_type": "code",
   "execution_count": 1,
   "metadata": {
    "collapsed": true
   },
   "outputs": [],
   "source": [
    "import pandas as pd\n",
    "import math\n",
    "import requests\n",
    "import json\n",
    "import config"
   ]
  },
  {
   "cell_type": "code",
   "execution_count": 2,
   "metadata": {
    "collapsed": true
   },
   "outputs": [],
   "source": [
    "series_url = 'https://download.bls.gov/pub/time.series/ln/ln.series'"
   ]
  },
  {
   "cell_type": "code",
   "execution_count": 3,
   "metadata": {
    "collapsed": true
   },
   "outputs": [],
   "source": [
    "df = pd.read_table(series_url)"
   ]
  },
  {
   "cell_type": "code",
   "execution_count": 4,
   "metadata": {
    "collapsed": true
   },
   "outputs": [],
   "source": [
    "df1 = df[(df['lfst_code'] == 23) \n",
    "   & (df['seasonal'] == 'U') \n",
    "   & (df['periodicity_code'] == 'M')\n",
    "   & (df['ages_code'].isin([10]))\n",
    "   & (df['sexs_code'].isin([1,2]))\n",
    "   & (df['orig_code'].isin([0]))\n",
    "   & (df['vets_code'].isin([0]))\n",
    "   & (df['race_code'].isin([0]))\n",
    "        ][['series_id', 'series_title', 'ages_code', 'sexs_code', 'orig_code', 'race_code']]\n",
    "\n",
    "#df1 = df1[~(df1['race_code'] == 0) | ~(df1['orig_code'] == 0)]\n",
    "df1['series'] = [x.strip(' ') for x in df1['series_id']]\n",
    "series_dict1 = pd.Series(df1['series_title'].values,index=df1['series'])[:25].to_dict()\n",
    "series_dict2 = pd.Series(df1['series_title'].values,index=df1['series'])[25:].to_dict()"
   ]
  },
  {
   "cell_type": "code",
   "execution_count": 5,
   "metadata": {
    "collapsed": false
   },
   "outputs": [
    {
     "data": {
      "text/plain": [
       "[('1993', '2002'), ('2003', '2012')]"
      ]
     },
     "execution_count": 5,
     "metadata": {},
     "output_type": "execute_result"
    }
   ],
   "source": [
    "# Include the start and end year here\n",
    "date_range = (1993, 2012)\n",
    "\n",
    "# Divide the date range into BLS-API-friendly length requests\n",
    "req_no = int(math.ceil((date_range[1] - date_range[0]) / 10.0))\n",
    "dates = []\n",
    "for i in range(0,req_no):\n",
    "    d1 = str(date_range[0]+i*10)\n",
    "    d2 = str(date_range[0]+i*10+9)\n",
    "    dates.append((d1,d2))\n",
    "dates[-1] = (dates[-1][0], str(date_range[1]))\n",
    "\n",
    "dates"
   ]
  },
  {
   "cell_type": "code",
   "execution_count": 7,
   "metadata": {
    "collapsed": true
   },
   "outputs": [],
   "source": [
    "# URL, key, and headers same as above\n",
    "url = 'https://api.bls.gov/publicAPI/v2/timeseries/data/'\n",
    "key = '?registrationkey={}'.format(config.bls_key)\n",
    "headers = {'Content-type': 'application/json'}\n",
    "\n",
    "df3 = pd.DataFrame()  # blank pandas dataframe to be filled later\n",
    "df4 = pd.DataFrame()  # blank pandas dataframe to be filled later"
   ]
  },
  {
   "cell_type": "code",
   "execution_count": 8,
   "metadata": {
    "collapsed": false
   },
   "outputs": [],
   "source": [
    "for sd in [series_dict1]:\n",
    "    for start, end in dates: \n",
    "\n",
    "        # The data sent in the post request now includes a start and end year\n",
    "        data = json.dumps({\"seriesid\":sd.keys(), \"startyear\":start, \"endyear\":end})\n",
    "        p = requests.post('{}{}'.format(url, key), headers=headers, data=data).json()\n",
    "        d = {} # New dictionary to be filled with data\n",
    "        for series in p['Results']['series']:\n",
    "            s = series['seriesID']  # Shorten name to 's'\n",
    "\n",
    "            # Add dictionary entry with series and reverse series order\n",
    "            d[s] = pd.DataFrame(series['data']).iloc[::-1]\n",
    "            if len(series['data']) > 0:  # This if/else is to allow for series of different lengths\n",
    "\n",
    "                # Convert BLS API dates to readable format (YYYY-MM-DD)\n",
    "                d[s]['date'] = pd.to_datetime(d[s]['period'] + ' ' + d[s]['year'])\n",
    "\n",
    "                # Keep only date and series values\n",
    "                d[s] = d[s].set_index('date')['value'].astype(float)\n",
    "\n",
    "                # Rename and identify values as floating point numbers\n",
    "                d[s] = d[s].rename(sd[s])\n",
    "            else:  # If blank, leave as a blank pandas series\n",
    "                d[s]['date'] = d[s]['value'] = pd.Series()\n",
    "                d[s] = d[s]['value'].rename(sd[s])\n",
    "\n",
    "        # Combine the dataframes for each range of years into one by appending        \n",
    "        if sd == series_dict1:\n",
    "            df3 = df3.append(pd.concat([d[k] for k in sd.keys()], axis=1))\n",
    "        else: \n",
    "            df4 = df4.append(pd.concat([d[k] for k in sd.keys()], axis=1))"
   ]
  },
  {
   "cell_type": "code",
   "execution_count": 9,
   "metadata": {
    "collapsed": true
   },
   "outputs": [],
   "source": [
    "full_data = df3.join(df4)"
   ]
  },
  {
   "cell_type": "code",
   "execution_count": 10,
   "metadata": {
    "collapsed": true
   },
   "outputs": [],
   "source": [
    "full_data.to_csv('full_data_young.csv')"
   ]
  },
  {
   "cell_type": "code",
   "execution_count": 11,
   "metadata": {
    "collapsed": true
   },
   "outputs": [],
   "source": [
    "high_tax = pd.Series(full_data.ix['1993-01-01':'2000-12-01'].mean())\n",
    "low_tax = pd.Series(full_data.ix['2001-01-01':'2012-12-01'].mean())"
   ]
  },
  {
   "cell_type": "code",
   "execution_count": 12,
   "metadata": {
    "collapsed": false
   },
   "outputs": [
    {
     "data": {
      "text/html": [
       "<div>\n",
       "<table border=\"1\" class=\"dataframe\">\n",
       "  <thead>\n",
       "    <tr style=\"text-align: right;\">\n",
       "      <th></th>\n",
       "      <th>0</th>\n",
       "      <th>1</th>\n",
       "    </tr>\n",
       "  </thead>\n",
       "  <tbody>\n",
       "    <tr>\n",
       "      <th>(Unadj) Employment-Population Ratio - 16-24 yrs., Men</th>\n",
       "      <td>60.819792</td>\n",
       "      <td>52.465972</td>\n",
       "    </tr>\n",
       "    <tr>\n",
       "      <th>(Unadj) Employment-Population Ratio - 16-24 yrs., Women</th>\n",
       "      <td>55.901042</td>\n",
       "      <td>50.351389</td>\n",
       "    </tr>\n",
       "  </tbody>\n",
       "</table>\n",
       "</div>"
      ],
      "text/plain": [
       "                                                            0          1\n",
       "(Unadj) Employment-Population Ratio - 16-24 yrs...  60.819792  52.465972\n",
       "(Unadj) Employment-Population Ratio - 16-24 yrs...  55.901042  50.351389"
      ]
     },
     "execution_count": 12,
     "metadata": {},
     "output_type": "execute_result"
    }
   ],
   "source": [
    "pd.concat([high_tax, low_tax], axis=1)"
   ]
  },
  {
   "cell_type": "code",
   "execution_count": 13,
   "metadata": {
    "collapsed": false
   },
   "outputs": [],
   "source": [
    "df = pd.read_csv('full_data_young.csv')\n",
    "df = df.set_index(pd.to_datetime(df['date']))"
   ]
  },
  {
   "cell_type": "code",
   "execution_count": 14,
   "metadata": {
    "collapsed": true
   },
   "outputs": [],
   "source": [
    "annual = df.groupby(df.index.year).transform('mean').drop_duplicates()"
   ]
  },
  {
   "cell_type": "code",
   "execution_count": 15,
   "metadata": {
    "collapsed": false
   },
   "outputs": [
    {
     "data": {
      "text/html": [
       "<div>\n",
       "<table border=\"1\" class=\"dataframe\">\n",
       "  <thead>\n",
       "    <tr style=\"text-align: right;\">\n",
       "      <th></th>\n",
       "      <th>(Unadj) Employment-Population Ratio - 16-24 yrs., Men</th>\n",
       "      <th>(Unadj) Employment-Population Ratio - 16-24 yrs., Women</th>\n",
       "    </tr>\n",
       "    <tr>\n",
       "      <th>date</th>\n",
       "      <th></th>\n",
       "      <th></th>\n",
       "    </tr>\n",
       "  </thead>\n",
       "  <tbody>\n",
       "    <tr>\n",
       "      <th>1993-01-01</th>\n",
       "      <td>60.141667</td>\n",
       "      <td>54.316667</td>\n",
       "    </tr>\n",
       "    <tr>\n",
       "      <th>1994-01-01</th>\n",
       "      <td>60.991667</td>\n",
       "      <td>55.266667</td>\n",
       "    </tr>\n",
       "    <tr>\n",
       "      <th>1995-01-01</th>\n",
       "      <td>61.458333</td>\n",
       "      <td>55.066667</td>\n",
       "    </tr>\n",
       "    <tr>\n",
       "      <th>1996-01-01</th>\n",
       "      <td>60.075000</td>\n",
       "      <td>55.175000</td>\n",
       "    </tr>\n",
       "    <tr>\n",
       "      <th>1997-01-01</th>\n",
       "      <td>60.141667</td>\n",
       "      <td>55.900000</td>\n",
       "    </tr>\n",
       "    <tr>\n",
       "      <th>1998-01-01</th>\n",
       "      <td>60.783333</td>\n",
       "      <td>57.166667</td>\n",
       "    </tr>\n",
       "    <tr>\n",
       "      <th>1999-01-01</th>\n",
       "      <td>61.033333</td>\n",
       "      <td>56.941667</td>\n",
       "    </tr>\n",
       "    <tr>\n",
       "      <th>2000-01-01</th>\n",
       "      <td>61.933333</td>\n",
       "      <td>57.375000</td>\n",
       "    </tr>\n",
       "    <tr>\n",
       "      <th>2001-01-01</th>\n",
       "      <td>59.383333</td>\n",
       "      <td>56.025000</td>\n",
       "    </tr>\n",
       "    <tr>\n",
       "      <th>2002-01-01</th>\n",
       "      <td>57.091667</td>\n",
       "      <td>54.275000</td>\n",
       "    </tr>\n",
       "    <tr>\n",
       "      <th>2003-01-01</th>\n",
       "      <td>55.333333</td>\n",
       "      <td>52.475000</td>\n",
       "    </tr>\n",
       "    <tr>\n",
       "      <th>2004-01-01</th>\n",
       "      <td>55.566667</td>\n",
       "      <td>52.216667</td>\n",
       "    </tr>\n",
       "    <tr>\n",
       "      <th>2005-01-01</th>\n",
       "      <td>55.150000</td>\n",
       "      <td>52.650000</td>\n",
       "    </tr>\n",
       "    <tr>\n",
       "      <th>2006-01-01</th>\n",
       "      <td>56.208333</td>\n",
       "      <td>52.250000</td>\n",
       "    </tr>\n",
       "    <tr>\n",
       "      <th>2007-01-01</th>\n",
       "      <td>54.416667</td>\n",
       "      <td>51.808333</td>\n",
       "    </tr>\n",
       "    <tr>\n",
       "      <th>2008-01-01</th>\n",
       "      <td>52.250000</td>\n",
       "      <td>50.158333</td>\n",
       "    </tr>\n",
       "    <tr>\n",
       "      <th>2009-01-01</th>\n",
       "      <td>46.691667</td>\n",
       "      <td>47.016667</td>\n",
       "    </tr>\n",
       "    <tr>\n",
       "      <th>2010-01-01</th>\n",
       "      <td>44.941667</td>\n",
       "      <td>45.066667</td>\n",
       "    </tr>\n",
       "    <tr>\n",
       "      <th>2011-01-01</th>\n",
       "      <td>45.991667</td>\n",
       "      <td>44.875000</td>\n",
       "    </tr>\n",
       "    <tr>\n",
       "      <th>2012-01-01</th>\n",
       "      <td>46.566667</td>\n",
       "      <td>45.400000</td>\n",
       "    </tr>\n",
       "  </tbody>\n",
       "</table>\n",
       "</div>"
      ],
      "text/plain": [
       "            (Unadj) Employment-Population Ratio - 16-24 yrs., Men  \\\n",
       "date                                                                \n",
       "1993-01-01                                          60.141667       \n",
       "1994-01-01                                          60.991667       \n",
       "1995-01-01                                          61.458333       \n",
       "1996-01-01                                          60.075000       \n",
       "1997-01-01                                          60.141667       \n",
       "1998-01-01                                          60.783333       \n",
       "1999-01-01                                          61.033333       \n",
       "2000-01-01                                          61.933333       \n",
       "2001-01-01                                          59.383333       \n",
       "2002-01-01                                          57.091667       \n",
       "2003-01-01                                          55.333333       \n",
       "2004-01-01                                          55.566667       \n",
       "2005-01-01                                          55.150000       \n",
       "2006-01-01                                          56.208333       \n",
       "2007-01-01                                          54.416667       \n",
       "2008-01-01                                          52.250000       \n",
       "2009-01-01                                          46.691667       \n",
       "2010-01-01                                          44.941667       \n",
       "2011-01-01                                          45.991667       \n",
       "2012-01-01                                          46.566667       \n",
       "\n",
       "            (Unadj) Employment-Population Ratio - 16-24 yrs., Women  \n",
       "date                                                                 \n",
       "1993-01-01                                          54.316667        \n",
       "1994-01-01                                          55.266667        \n",
       "1995-01-01                                          55.066667        \n",
       "1996-01-01                                          55.175000        \n",
       "1997-01-01                                          55.900000        \n",
       "1998-01-01                                          57.166667        \n",
       "1999-01-01                                          56.941667        \n",
       "2000-01-01                                          57.375000        \n",
       "2001-01-01                                          56.025000        \n",
       "2002-01-01                                          54.275000        \n",
       "2003-01-01                                          52.475000        \n",
       "2004-01-01                                          52.216667        \n",
       "2005-01-01                                          52.650000        \n",
       "2006-01-01                                          52.250000        \n",
       "2007-01-01                                          51.808333        \n",
       "2008-01-01                                          50.158333        \n",
       "2009-01-01                                          47.016667        \n",
       "2010-01-01                                          45.066667        \n",
       "2011-01-01                                          44.875000        \n",
       "2012-01-01                                          45.400000        "
      ]
     },
     "execution_count": 15,
     "metadata": {},
     "output_type": "execute_result"
    }
   ],
   "source": [
    "annual"
   ]
  },
  {
   "cell_type": "code",
   "execution_count": 16,
   "metadata": {
    "collapsed": true
   },
   "outputs": [],
   "source": [
    "annual.to_csv('full_data_ann_young.csv')"
   ]
  }
 ],
 "metadata": {
  "kernelspec": {
   "display_name": "Python 2",
   "language": "python",
   "name": "python2"
  },
  "language_info": {
   "codemirror_mode": {
    "name": "ipython",
    "version": 2
   },
   "file_extension": ".py",
   "mimetype": "text/x-python",
   "name": "python",
   "nbconvert_exporter": "python",
   "pygments_lexer": "ipython2",
   "version": "2.7.13"
  }
 },
 "nbformat": 4,
 "nbformat_minor": 2
}
