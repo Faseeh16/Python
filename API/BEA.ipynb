{
 "cells": [
  {
   "cell_type": "code",
   "execution_count": 2,
   "metadata": {},
   "outputs": [],
   "source": [
    "import requests\n",
    "import pandas as pd\n",
    "import config   ## File with API key\n",
    "api_key = config.bea_key\n",
    "\n",
    "# Components of request\n",
    "base = 'https://www.bea.gov/api/data/?&UserID={}'.format(api_key)\n",
    "m = '&method=GetData'\n",
    "dsn = '&datasetname=NIPA'\n",
    "ind = '&TableId=2'\n",
    "freq = '&Frequency=Q'\n",
    "year = '&Year=LAST12'\n",
    "fmt = '&ResultFormat=json'\n",
    "\n",
    "# Combined url for request\n",
    "url = '{}{}{}{}{}{}{}'.format(base, m, dsn, ind, freq, year, fmt)\n",
    "r = requests.get(url).json()\n",
    "df = pd.DataFrame(r['BEAAPI']['Results']['Data'])\n",
    "df['date'] = pd.to_datetime(df['TimePeriod'])\n",
    "codes = ['A191RL', 'DPCERY', 'A006RY', 'A019RY', 'A822RY']\n",
    "ind = ['date', 'SeriesCode']\n",
    "df = df[df['SeriesCode'].isin(codes)].set_index(ind)['DataValue'].unstack(1)\n",
    "\n",
    "# Record strings for later use in chart label\n",
    "date = '{} Q{}'.format(df.index[-1].year, df.index[-1].quarter)\n",
    "ch = df['A191RL'][-1]  # GDP in growth\n",
    "label = '{}: Real GDP growth: {}\\%'.format(date, ch)"
   ]
  }
 ],
 "metadata": {
  "kernelspec": {
   "display_name": "Python [default]",
   "language": "python",
   "name": "python2"
  },
  "language_info": {
   "codemirror_mode": {
    "name": "ipython",
    "version": 2
   },
   "file_extension": ".py",
   "mimetype": "text/x-python",
   "name": "python",
   "nbconvert_exporter": "python",
   "pygments_lexer": "ipython2",
   "version": "2.7.12"
  }
 },
 "nbformat": 4,
 "nbformat_minor": 2
}
