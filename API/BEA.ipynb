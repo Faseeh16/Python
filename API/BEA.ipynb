{
 "cells": [
  {
   "cell_type": "markdown",
   "metadata": {},
   "source": [
    "### GDP Components"
   ]
  },
  {
   "cell_type": "code",
   "execution_count": 19,
   "metadata": {
    "collapsed": true
   },
   "outputs": [],
   "source": [
    "import requests\n",
    "import pandas as pd\n",
    "import config   ## File with API key\n",
    "api_key = config.bea_key\n",
    "\n",
    "# Components of request\n",
    "base = 'https://www.bea.gov/api/data/?&UserID={}'.format(api_key)\n",
    "m = '&method=GetData'\n",
    "dsn = '&datasetname=NIPA'\n",
    "ind = '&TableId=2'\n",
    "freq = '&Frequency=Q'\n",
    "year = '&Year=LAST12'\n",
    "fmt = '&ResultFormat=json'\n",
    "\n",
    "# Combined url for request\n",
    "url = '{}{}{}{}{}{}{}'.format(base, m, dsn, ind, freq, year, fmt)\n",
    "r = requests.get(url).json()\n",
    "df = pd.DataFrame(r['BEAAPI']['Results']['Data'])\n",
    "df['date'] = pd.to_datetime(df['TimePeriod'])\n",
    "codes = ['A191RL', 'DPCERY', 'A006RY', 'A019RY', 'A822RY']\n",
    "ind = ['date', 'SeriesCode']\n",
    "df = df[df['SeriesCode'].isin(codes)].set_index(ind)['DataValue'].unstack(1)\n",
    "\n",
    "# Record strings for later use in chart label\n",
    "date = '{} Q{}'.format(df.index[-1].year, df.index[-1].quarter)\n",
    "ch = df['A191RL'][-1]  # GDP in growth\n",
    "label = '{}: Real GDP growth: {}\\%'.format(date, ch)"
   ]
  },
  {
   "cell_type": "markdown",
   "metadata": {},
   "source": [
    "### GDP contributions by industry"
   ]
  },
  {
   "cell_type": "code",
   "execution_count": 39,
   "metadata": {},
   "outputs": [],
   "source": [
    "import requests\n",
    "import pandas as pd\n",
    "import config   ## File with API key\n",
    "import roman\n",
    "api_key = config.bea_key\n",
    "\n",
    "# Components of request\n",
    "base = 'https://www.bea.gov/api/data/?&UserID={}'.format(api_key)\n",
    "m = '&method=GetData'\n",
    "dsn = '&datasetname=GDPbyIndustry'\n",
    "ind = '&TableId=13'\n",
    "freq = '&Frequency=Q'\n",
    "year = '&Year=2005,2006,2007,2008,2009,2010,2011,2012,2013,2014,2015,2016'\n",
    "fmt = '&ResultFormat=json'\n",
    "indus = '&Industry=ALL'\n",
    "\n",
    "# Combined url for request\n",
    "url = '{}{}{}{}{}{}{}{}'.format(base, m, dsn, year, indus, ind, freq, fmt)\n",
    "r = requests.get(url).json()\n",
    "df = pd.DataFrame(r['BEAAPI']['Results']['Data'])\n",
    "df.loc[:,'TimePeriod'] = ['{}Q{}'.format(\n",
    "    df.iloc[n]['Year'], roman.fromRoman(df.iloc[n]['Quarter'])) \n",
    "    for n in df.index.values]\n",
    "df['date'] = pd.to_datetime(df['TimePeriod'])\n",
    "codes = ['11', '21', '22', '23', '33DG', '33ND', '42', '44RT', \n",
    "         '48TW', '51', '52', '53', '54', '55', '56', '61', '62', \n",
    "         '71', '72', '81', 'GF', 'GSL']\n",
    "ind = ['date', 'IndustrYDescription']\n",
    "df2 = df[df['Industry'].isin(codes)].set_index(ind)['DataValue'].unstack(1)\n",
    "df2.to_csv('Industry_contributions_to_GDP.csv')"
   ]
  }
 ],
 "metadata": {
  "kernelspec": {
   "display_name": "Python [default]",
   "language": "python",
   "name": "python2"
  },
  "language_info": {
   "codemirror_mode": {
    "name": "ipython",
    "version": 2
   },
   "file_extension": ".py",
   "mimetype": "text/x-python",
   "name": "python",
   "nbconvert_exporter": "python",
   "pygments_lexer": "ipython2",
   "version": "2.7.12"
  }
 },
 "nbformat": 4,
 "nbformat_minor": 2
}
