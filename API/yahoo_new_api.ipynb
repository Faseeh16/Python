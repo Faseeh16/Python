{
 "cells": [
  {
   "cell_type": "markdown",
   "metadata": {},
   "source": [
    "### Yahoo Finance API"
   ]
  },
  {
   "cell_type": "code",
   "execution_count": 11,
   "metadata": {
    "collapsed": true
   },
   "outputs": [],
   "source": [
    "import requests\n",
    "import re\n",
    "import pandas as pd\n",
    "from StringIO import StringIO\n",
    "import time \n",
    "\n",
    "import os\n",
    "\n",
    "os.chdir('C:\\Working\\USA\\datafiles')\n",
    "\n",
    "def write_txt(filename, filetext):\n",
    "# Write label to txt file\n",
    "    with open(filename, 'w') as text_file:\n",
    "        text_file.write(filetext)"
   ]
  },
  {
   "cell_type": "code",
   "execution_count": 47,
   "metadata": {
    "collapsed": true
   },
   "outputs": [],
   "source": [
    "tickers = ['^DJI', '^GSPC', '^IXIC']\n",
    "start = '1104537600'\n",
    "base = 'https://finance.yahoo.com/quote/'\n",
    "base2 = 'https://query1.finance.yahoo.com/v7/finance/download/'\n",
    "end = int(time.time())\n",
    "dates = '?period1={}&period2={}'.format(start, end)\n",
    "param = '&interval=1d&filter=history&frequency=1d'\n",
    "d = {}\n",
    "\n",
    "for t in tickers:\n",
    "    url = '{}{}/history{}{}'.format(base, t, dates, param)\n",
    "    s = requests.Session()\n",
    "    r = s.get(url)\n",
    "    regex = '\"CrumbStore\":{\"crumb\":\"(.+?)\"},'\n",
    "    pattern = re.compile(regex)\n",
    "    crumb = re.findall(pattern, r.content)[0]\n",
    "    param2 = '{}{}&interval=1d&events=history&crumb={}/Q'.format(t, dates, crumb)\n",
    "    url2 = '{}{}'.format(base2, param2)\n",
    "    data = s.post(url2)\n",
    "    csv = StringIO(data.content)\n",
    "    d[t[1:]] = pd.read_table(csv, sep=',', \n",
    "                             parse_dates=['Date']).set_index('Date')['Adj Close']"
   ]
  },
  {
   "cell_type": "code",
   "execution_count": 48,
   "metadata": {
    "collapsed": true
   },
   "outputs": [],
   "source": [
    "df = pd.DataFrame(d)\n",
    "df = df[df['GSPC'].str.contains('null') == False].apply(pd.to_numeric)"
   ]
  },
  {
   "cell_type": "code",
   "execution_count": 49,
   "metadata": {
    "collapsed": true
   },
   "outputs": [],
   "source": [
    "c_names = ['djia', 'sp', 'nsdq']\n",
    "df.columns = c_names\n",
    "df.loc[:, 'djia'] = df['djia'].divide(1000)\n",
    "for col in c_names:\n",
    "    df.loc[:,col+'_ma'] = df[col].rolling(253).mean()\n",
    "df = df.dropna()\n",
    "for col in c_names:\n",
    "    df.loc[:,col+'_ix'] = df[col].divide(df[col].iloc[0] / 100)\n",
    "df.to_csv('stocks.csv')\n",
    "\n",
    "# Generate label text\n",
    "d = {}\n",
    "for col in c_names:\n",
    "    for t, v in {'day': -2, 'wk': -6}.iteritems():\n",
    "        d[col+'_ch'+t] = round((df[col][-1] - df[col][v]) / df[col][v] * 100, 2)\n",
    "        if d[col+'_ch'+t] > 0:\n",
    "            d[col+'_ar'+t] = '\\color{green!80!black} $ \\\\blacktriangle $ \\\\normalcolor'\n",
    "        else:\n",
    "            d[col+'_ar'+t] = '\\color{red} $\\\\blacktriangledown$ \\\\normalcolor'\n",
    "    d[col+'_mad'] = round((df[col][-1] - df[col+'_ma'][-1]) / df[col+'_ma'][-1] * 100, 2)\n",
    "    if d[col+'_mad'] > 0:\n",
    "        d[col+'_mat'] = 'above moving average'\n",
    "    else:\n",
    "        d[col+'_mat'] = 'below moving average'\n",
    "df.loc[:, 'djia'] = df['djia'].multiply(1000)\n",
    "d1 = df.index[-1].strftime('%b %#d, %Y')\n",
    "for col in c_names:    \n",
    "    d[col+'_lt'] = round(df[col][-1], 2)\n",
    "    d[col+'_t'] = 'One-day change: {} {}\\%; \\\\\\ One-week change: {} {}\\%'.format(\n",
    "            d[col+'_arday'], d[col+'_chday'], d[col+'_arwk'], d[col+'_chwk'])\n",
    "    d[col+'_t2'] = '{}: {:,}; {}\\% {}'.format(d1, d[col+'_lt'], d[col+'_mad'], d[col+'_mat'])\n",
    "    write_txt(col+'_ch.txt', d[col+'_t'])\n",
    "    write_txt(col+'.txt', d[col+'_t2'])"
   ]
  }
 ],
 "metadata": {
  "kernelspec": {
   "display_name": "Python [conda root]",
   "language": "python",
   "name": "conda-root-py"
  },
  "language_info": {
   "codemirror_mode": {
    "name": "ipython",
    "version": 2
   },
   "file_extension": ".py",
   "mimetype": "text/x-python",
   "name": "python",
   "nbconvert_exporter": "python",
   "pygments_lexer": "ipython2",
   "version": "2.7.12"
  }
 },
 "nbformat": 4,
 "nbformat_minor": 2
}
