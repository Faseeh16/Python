{
 "cells": [
  {
   "cell_type": "markdown",
   "metadata": {},
   "source": [
    "#### Trade Dynamics"
   ]
  },
  {
   "cell_type": "code",
   "execution_count": 1,
   "metadata": {
    "collapsed": true
   },
   "outputs": [],
   "source": [
    "import requests\n",
    "import pandas as pd\n",
    "import config\n",
    "\n",
    "import plotly.plotly as py\n",
    "from plotly.graph_objs import *\n",
    "py.sign_in('bdew', config.plotly_key)\n",
    "\n",
    "%matplotlib inline"
   ]
  },
  {
   "cell_type": "code",
   "execution_count": 2,
   "metadata": {
    "collapsed": true
   },
   "outputs": [],
   "source": [
    "base = 'https://api.census.gov/data/timeseries/intltrade/'\n",
    "key = config.census_key\n",
    "time = 'from+2016-01'"
   ]
  },
  {
   "cell_type": "code",
   "execution_count": 3,
   "metadata": {
    "collapsed": true
   },
   "outputs": [],
   "source": [
    "d = {}\n",
    "for flow, param in [('exports','CTY_CODE,CTY_NAME,ALL_VAL_MO'), ('imports','CTY_CODE,CTY_NAME,GEN_VAL_MO')]:\n",
    "    url = '{}{}/hs?get={}&key={}&time={}'.format(base, flow, param, key, time)\n",
    "    r = requests.get(url).json()\n",
    "    df = pd.DataFrame(r[1:], columns=r[0])#\n",
    "    df = df[(df['CTY_CODE'].str[0] !='0') & (df['CTY_CODE'].str[1] != 'X') & (~df['CTY_NAME'].str.contains('COUNTRIES'))]\n",
    "    d[flow] = df.set_index(['CTY_NAME', pd.to_datetime(df['time'])])[param[-10:]].astype(long)"
   ]
  },
  {
   "cell_type": "code",
   "execution_count": 79,
   "metadata": {},
   "outputs": [],
   "source": [
    "df2 = pd.concat(d).unstack(level=0).div(1000000000)\n",
    "# Calculate trade balance\n",
    "df2['balance'] = df2['exports'] - df2['imports']\n",
    "df2['imp_neg'] = 0 - df2['imports']\n",
    "df1 = df2.groupby(level=0).tail(1).reset_index().set_index('CTY_NAME')\n",
    "df1.columns = ['{}_lt'.format(df1.keys()[n]) for n in range(len(df1.keys()))]\n",
    "df2 = df2.groupby(level=0).diff(12).groupby(level=0).tail(1).unstack()\n",
    "date = df2.columns.levels[1][-1].strftime('%b %Y')\n",
    "df2.columns = df2.columns.levels[0].values\n",
    "df2 = df2.sort_values('balance').dropna()\n",
    "df2 = df2.join(df1)\n",
    "df2['symbol'] = ['▴'.format() if x >= 0 else '▾'.format() for x in df2['balance']]\n",
    "for i, j in df2.iterrows():\n",
    "    df2.loc[i,'text'] = '<b>{}</b><br>(<i>{}</i>)<br>Balance: ${:.2f}B ({}${:.2f}B)<br>Exports: ${:.2f}B<br>Imports: ${:.2f}B'.format(\n",
    "        i, date, df2['balance_lt'][i], df2['symbol'][i], df2['balance'][i], df2['exports_lt'][i], df2['imports_lt'][i])\n",
    "df2 = df2.head(10).append(pd.DataFrame(index=[''])).append(df2.tail(10))"
   ]
  },
  {
   "cell_type": "code",
   "execution_count": 66,
   "metadata": {},
   "outputs": [
    {
     "data": {
      "text/plain": [
       "<matplotlib.axes._subplots.AxesSubplot at 0xe0ff2b0>"
      ]
     },
     "execution_count": 66,
     "metadata": {},
     "output_type": "execute_result"
    },
    {
     "data": {
      "image/png": "[encoded data removed]",
      "text/plain": [
       "<matplotlib.figure.Figure at 0xdd1b9b0>"
      ]
     },
     "metadata": {},
     "output_type": "display_data"
    }
   ],
   "source": [
    "df2['balance'].plot(kind='barh', figsize=(5,10), color='midnightblue', width=0.8)"
   ]
  },
  {
   "cell_type": "code",
   "execution_count": 98,
   "metadata": {
    "collapsed": true
   },
   "outputs": [],
   "source": [
    "df2.to_csv('test.csv')"
   ]
  },
  {
   "cell_type": "code",
   "execution_count": 108,
   "metadata": {},
   "outputs": [],
   "source": [
    "trace1 = {\n",
    "    \"x\": df2['balance'], \n",
    "    \"y\": df2.index, \n",
    "    \"text\": df2['text'], \n",
    "    \"textposition\": 'center',\n",
    "    \"name\": 'balance', \n",
    "    \"mode\": \"markers\",\n",
    "    \"hoverinfo\": \"text\",\n",
    "    \"marker\": {\n",
    "        \"color\": \"rgb(255,255,255)\",\n",
    "        \"line\": {\n",
    "        \"color\": \"rgb(127, 127, 127)\",\n",
    "        \"width\": 2\n",
    "        },\n",
    "        \"symbol\": \"diamond\",\n",
    "        \"size\": 12\n",
    "    },\n",
    "    \"type\": \"scatter\",\n",
    "    \"hoverinfo\": \"text\", \n",
    "}\n",
    "trace2 = {\n",
    "    \"x\": df2['imp_neg'], \n",
    "    \"y\": df2.index, \n",
    "    \"name\": 'imports', \n",
    "    \"orientation\": \"h\", \n",
    "    \"type\": \"bar\",\n",
    "    \"hoverinfo\": \"none\",\n",
    "    \"marker\": {\n",
    "        \"color\": \"rgb(34, 49, 240)\", \n",
    "        \"line\": {\n",
    "          \"color\": \"rgb(8,48,107)\", \n",
    "          \"width\": 0\n",
    "    }\n",
    "  }, \n",
    "}\n",
    "trace3 = {\n",
    "    \"x\": df2['exports'], \n",
    "    \"y\": df2.index, \n",
    "    \"name\": 'exports', \n",
    "    \"orientation\": \"h\", \n",
    "    \"type\": \"bar\",\n",
    "    \"hoverinfo\": \"none\",\n",
    "    \"marker\": {\n",
    "        \"color\": \"rgb(39, 174, 96)\", \n",
    "        \"line\": {\n",
    "          \"color\": \"rgb(8,48,107)\", \n",
    "          \"width\": 0\n",
    "    }\n",
    "  }, \n",
    "}\n",
    "data = Data([trace1, trace2, trace3])\n",
    "layout = { \n",
    "  \"barmode\": 'relative',\n",
    "  \"hovermode\":'closest',\n",
    "  \"annotations\": [\n",
    "    {\n",
    "      \"x\": -.26, \n",
    "      \"y\": -0.03, \n",
    "      \"font\": {\"color\": \"rgb(127, 127, 127)\"}, \n",
    "      \"showarrow\": False, \n",
    "      \"text\": \"Billions of USD\", \n",
    "      \"xref\": \"paper\", \n",
    "      \"yref\": \"paper\"\n",
    "    }, \n",
    "    {\n",
    "      \"x\": -0.43, \n",
    "      \"y\": 1.08, \n",
    "      \"font\": {\n",
    "        \"size\": 18\n",
    "      }, \n",
    "      \"showarrow\": False, \n",
    "      \"text\": \"<b>Change in U.S. trade balance</b>\", \n",
    "      \"xref\": \"paper\", \n",
    "      \"yref\": \"paper\"\n",
    "    }, \n",
    "    {\n",
    "      \"x\": -0.4, \n",
    "      \"y\": 1.04, \n",
    "      \"font\": {\n",
    "        \"size\": 14\n",
    "      }, \n",
    "      \"showarrow\": False, \n",
    "      \"text\": \"<i>{}--Change over same moth previous year (top- and bottom-ten shown)</i>\".format(date), \n",
    "      \"xref\": \"paper\", \n",
    "      \"yref\": \"paper\"\n",
    "    }, \n",
    "    {\n",
    "      \"x\": -0.4, \n",
    "      \"y\": -0.08, \n",
    "      \"font\": {\n",
    "        \"color\": \"rgb(127, 127, 127)\", \n",
    "        \"size\": 14\n",
    "      }, \n",
    "      \"showarrow\": False, \n",
    "      \"text\": \"Source: U.S. Census Bureau\", \n",
    "      \"xref\": \"paper\", \n",
    "      \"yref\": \"paper\"\n",
    "    }\n",
    "  ], \n",
    "  \"autosize\": False,  \n",
    "  \"height\": 650, \n",
    "  \"legend\": {\n",
    "    \"x\": 0.1, \n",
    "    \"y\": 0.92, \n",
    "    \"traceorder\": \"reversed\"\n",
    "  }, \n",
    "  \"margin\": {\n",
    "    \"r\": 0, \n",
    "    \"t\": 70, \n",
    "    \"b\": 60, \n",
    "    \"l\": 150\n",
    "  }, \n",
    "  \"shapes\": [\n",
    "    {\n",
    "      \"line\": {\n",
    "        \"color\": \"rgb(127, 127, 127)\", \n",
    "        \"dash\": \"dot\", \n",
    "        \"width\": 3\n",
    "      }, \n",
    "      \"type\": \"line\", \n",
    "      \"x0\": -0.35, \n",
    "      \"x1\": 1, \n",
    "      \"xref\": \"paper\", \n",
    "      \"y0\": 0.5, \n",
    "      \"y1\": 0.5, \n",
    "      \"yref\": \"paper\"\n",
    "    }\n",
    "  ], \n",
    "  \"showlegend\": True, \n",
    "  \"title\": \"\", \n",
    "  \"width\": 450, \n",
    "  \"xaxis\": {\n",
    "    \"anchor\": \"y\", \n",
    "    \"autorange\": True, \n",
    "    \"domain\": [0, 1], \n",
    "    \"fixedrange\": True, \n",
    "    \"position\": 0, \n",
    "    \"range\": [-5, 3], \n",
    "    \"showspikes\": False, \n",
    "    \"side\": \"bottom\", \n",
    "    \"tickfont\": {\"color\": \"rgb(127, 127, 127)\"}, \n",
    "    \"title\": \"\", \n",
    "    \"type\": \"linear\"\n",
    "  }, \n",
    "  \"yaxis\": {\n",
    "    \"autorange\": True, \n",
    "    \"range\": [-0.5, 20.5], \n",
    "    \"showspikes\": False, \n",
    "    \"title\": \"\", \n",
    "    \"type\": \"category\"\n",
    "  }\n",
    "}\n",
    "fig = Figure(data=data, layout=layout)\n",
    "plot_url = py.plot(fig, filename='Trade_Dynamics_2')"
   ]
  }
 ],
 "metadata": {
  "kernelspec": {
   "display_name": "Python [default]",
   "language": "python",
   "name": "python2"
  },
  "language_info": {
   "codemirror_mode": {
    "name": "ipython",
    "version": 2
   },
   "file_extension": ".py",
   "mimetype": "text/x-python",
   "name": "python",
   "nbconvert_exporter": "python",
   "pygments_lexer": "ipython2",
   "version": "2.7.12"
  }
 },
 "nbformat": 4,
 "nbformat_minor": 2
}
