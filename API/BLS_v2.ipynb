{
 "cells": [
  {
   "cell_type": "markdown",
   "metadata": {},
   "source": [
    "### U.S. Bureau of Labor Statistics (BLS)\n",
    "\n",
    "This example requests data on the number of job openings and hires in the construction industry from the BLS API."
   ]
  },
  {
   "cell_type": "code",
   "execution_count": 1,
   "metadata": {
    "collapsed": true
   },
   "outputs": [],
   "source": [
    "# Preliminaries (Python 2.7)\n",
    "import requests\n",
    "import json\n",
    "import config # file called config.py with my API key\n",
    "import pandas as pd"
   ]
  },
  {
   "cell_type": "markdown",
   "metadata": {},
   "source": [
    "The BLS API version 2 (v2) is used, which requires [registration](https://data.bls.gov/registrationEngine/). I've added a header to specify that json format data should be returned. The series_dict is a python dictionary which contains the BLS series IDs of interest as keys and their description as values. The description is used to generate column names in the resultant pandas dataframe."
   ]
  },
  {
   "cell_type": "code",
   "execution_count": 13,
   "metadata": {
    "collapsed": true
   },
   "outputs": [],
   "source": [
    "url = 'https://api.bls.gov/publicAPI/v2/timeseries/data/'\n",
    "key = '?registrationkey={}'.format(config.bls_key)\n",
    "headers = {'Content-type': 'application/json'}  # Request json data\n",
    "series_dict = {\n",
    "    'JTS23000000JOL': 'Construction Job Openings (Level, Thousands)',  # Job openings (level)\n",
    "    'JTS23000000HIL': 'Construction Hires (Level, Thousands)',  # Hires (level)\n",
    "}\n",
    "\n",
    "# BLS API limits requests to ten year periods, so the request is split in two:\n",
    "date_list = [('2000', '2008'), ('2009', '2017')]\n",
    "df = pd.DataFrame()  # blank pandas dataframe to be filled later"
   ]
  },
  {
   "cell_type": "code",
   "execution_count": 28,
   "metadata": {
    "collapsed": false
   },
   "outputs": [],
   "source": [
    "for start, end in date_list: \n",
    "    # Parameters are the two series and the start and end year\n",
    "    data = json.dumps({\"seriesid\":series_dict.keys(), \"startyear\":start, \"endyear\":end})\n",
    "    json_data = requests.post('{}{}'.format(url, key), headers=headers, data=data).json()\n",
    "    d = {} # New dictionary to be filled with data\n",
    "    for series in json_data['Results']['series']:\n",
    "        seriesId = series['seriesID']\n",
    "        d[seriesId] = pd.DataFrame(series['data'])\n",
    "        if len(series['data']) > 0:  # This if/else is to allow for series of different lengths\n",
    "            # Convert BLS API dates to readable format (YYYY-MM-DD)\n",
    "            d[seriesId]['date'] = pd.to_datetime(d[seriesId]['period'] + ' ' + d[seriesId]['year'])\n",
    "            # Keep only date and series values\n",
    "            d[seriesId] = d[seriesId].sort_values(by='date')[['date', 'value']].set_index('date')\n",
    "            # Rename and identify values as floating point numbers\n",
    "            d[seriesId] = d[seriesId]['value'].rename(series_dict[seriesId]).astype(float)\n",
    "        else:  # If blank, leave as a blank pandas series\n",
    "            d[seriesId]['date'] = pd.Series()\n",
    "            d[seriesId]['value'] = pd.Series()\n",
    "            d[seriesId] = d[seriesId]['value'].rename(series_dict[seriesId])\n",
    "    df = df.append(pd.concat([d[k] for k in series_dict.keys()], axis=1))"
   ]
  },
  {
   "cell_type": "code",
   "execution_count": 30,
   "metadata": {
    "collapsed": false
   },
   "outputs": [
    {
     "data": {
      "text/html": [
       "<div>\n",
       "<table border=\"1\" class=\"dataframe\">\n",
       "  <thead>\n",
       "    <tr style=\"text-align: right;\">\n",
       "      <th></th>\n",
       "      <th>Construction Job Openings (Level, Thousands)</th>\n",
       "      <th>Construction Hires (Level, Thousands)</th>\n",
       "    </tr>\n",
       "    <tr>\n",
       "      <th>date</th>\n",
       "      <th></th>\n",
       "      <th></th>\n",
       "    </tr>\n",
       "  </thead>\n",
       "  <tbody>\n",
       "    <tr>\n",
       "      <th>2016-12-01</th>\n",
       "      <td>140.0</td>\n",
       "      <td>400.0</td>\n",
       "    </tr>\n",
       "    <tr>\n",
       "      <th>2017-01-01</th>\n",
       "      <td>142.0</td>\n",
       "      <td>387.0</td>\n",
       "    </tr>\n",
       "    <tr>\n",
       "      <th>2017-02-01</th>\n",
       "      <td>181.0</td>\n",
       "      <td>367.0</td>\n",
       "    </tr>\n",
       "    <tr>\n",
       "      <th>2017-03-01</th>\n",
       "      <td>161.0</td>\n",
       "      <td>372.0</td>\n",
       "    </tr>\n",
       "    <tr>\n",
       "      <th>2017-04-01</th>\n",
       "      <td>203.0</td>\n",
       "      <td>378.0</td>\n",
       "    </tr>\n",
       "  </tbody>\n",
       "</table>\n",
       "</div>"
      ],
      "text/plain": [
       "            Construction Job Openings (Level, Thousands)  \\\n",
       "date                                                       \n",
       "2016-12-01                                         140.0   \n",
       "2017-01-01                                         142.0   \n",
       "2017-02-01                                         181.0   \n",
       "2017-03-01                                         161.0   \n",
       "2017-04-01                                         203.0   \n",
       "\n",
       "            Construction Hires (Level, Thousands)  \n",
       "date                                               \n",
       "2016-12-01                                  400.0  \n",
       "2017-01-01                                  387.0  \n",
       "2017-02-01                                  367.0  \n",
       "2017-03-01                                  372.0  \n",
       "2017-04-01                                  378.0  "
      ]
     },
     "execution_count": 30,
     "metadata": {},
     "output_type": "execute_result"
    }
   ],
   "source": [
    "df.tail()"
   ]
  },
  {
   "cell_type": "code",
   "execution_count": null,
   "metadata": {
    "collapsed": true
   },
   "outputs": [],
   "source": []
  },
  {
   "cell_type": "code",
   "execution_count": null,
   "metadata": {
    "collapsed": true
   },
   "outputs": [],
   "source": []
  },
  {
   "cell_type": "code",
   "execution_count": null,
   "metadata": {
    "collapsed": true
   },
   "outputs": [],
   "source": []
  },
  {
   "cell_type": "code",
   "execution_count": null,
   "metadata": {
    "collapsed": true
   },
   "outputs": [],
   "source": []
  }
 ],
 "metadata": {
  "kernelspec": {
   "display_name": "Python 2",
   "language": "python",
   "name": "python2"
  },
  "language_info": {
   "codemirror_mode": {
    "name": "ipython",
    "version": 2
   },
   "file_extension": ".py",
   "mimetype": "text/x-python",
   "name": "python",
   "nbconvert_exporter": "python",
   "pygments_lexer": "ipython2",
   "version": "2.7.13"
  }
 },
 "nbformat": 4,
 "nbformat_minor": 2
}
