{
 "cells": [
  {
   "cell_type": "markdown",
   "metadata": {},
   "source": [
    "# U.S. Bureau of Labor Statistics (BLS)\n",
    "\n",
    "This example requests data on the number of job openings and hires in the construction industry from the BLS API."
   ]
  },
  {
   "cell_type": "code",
   "execution_count": 1,
   "metadata": {
    "collapsed": true
   },
   "outputs": [],
   "source": [
    "# Preliminaries (Python 2.7)\n",
    "import requests\n",
    "import json\n",
    "import config # file called config.py with my API key\n",
    "import pandas as pd\n",
    "\n",
    "import math\n",
    "\n",
    "%matplotlib inline"
   ]
  },
  {
   "cell_type": "markdown",
   "metadata": {},
   "source": [
    "### Simple example\n",
    "\n",
    "Get recent civilian labor force participation rate data from the BLS API v1.\n",
    "\n",
    "This example can be used to get the most recent values for a single series using the BLS version 1 API (which does not require registration) and the BLS series id of interest. "
   ]
  },
  {
   "cell_type": "code",
   "execution_count": 2,
   "metadata": {
    "collapsed": true
   },
   "outputs": [],
   "source": [
    "# BLS API v1 url\n",
    "url = 'https://api.bls.gov/publicAPI/v1/timeseries/data/'\n",
    "\n",
    "# BLS series id for the civilian labor force participation rate\n",
    "series = 'LNS11300000'"
   ]
  },
  {
   "cell_type": "markdown",
   "metadata": {},
   "source": [
    "#### Get the data"
   ]
  },
  {
   "cell_type": "code",
   "execution_count": null,
   "metadata": {
    "collapsed": true
   },
   "outputs": [],
   "source": [
    "# get the data returned by the url and series id\n",
    "r = requests.get('{}{}'.format(url, series))"
   ]
  },
  {
   "cell_type": "code",
   "execution_count": 56,
   "metadata": {
    "collapsed": false
   },
   "outputs": [
    {
     "data": {
      "text/plain": [
       "date\n",
       "2017-05-01    62.7\n",
       "Name: value, dtype: float64"
      ]
     },
     "execution_count": 56,
     "metadata": {},
     "output_type": "execute_result"
    }
   ],
   "source": [
    "# Generate pandas dataframe from the data returned\n",
    "df = pd.DataFrame(r.json()['Results']['series'][0]['data'])\n",
    "\n",
    "# Convert the period and year columns to datetime (YYYY-MM-DD)\n",
    "df['date'] = pd.to_datetime(df['period'] + ' ' + df['year'])\n",
    "\n",
    "# Set the date as the index and reverse dataframe order\n",
    "df = df.set_index('date').iloc[::-1]\n",
    "\n",
    "# Identify the values column as numbers\n",
    "df['value'] = df['value'].astype(float)\n",
    "\n",
    "# Show the latest value:\n",
    "df.iloc[-1:,]['value']"
   ]
  },
  {
   "cell_type": "markdown",
   "metadata": {},
   "source": [
    "#### Compare latest value to mean"
   ]
  },
  {
   "cell_type": "code",
   "execution_count": 60,
   "metadata": {
    "collapsed": false
   },
   "outputs": [
    {
     "data": {
      "text/plain": [
       "<matplotlib.axes._subplots.AxesSubplot at 0xcc67208>"
      ]
     },
     "execution_count": 60,
     "metadata": {},
     "output_type": "execute_result"
    },
    {
     "data": {
      "image/png": "[encoded data removed]",
      "text/plain": [
       "<matplotlib.figure.Figure at 0xc3f8b70>"
      ]
     },
     "metadata": {},
     "output_type": "display_data"
    }
   ],
   "source": [
    "# Add a column with the period mean\n",
    "df = df.assign(mean = df['value'].mean())\n",
    "\n",
    "# Simple line plot of the result\n",
    "df.plot(title='Labor Force Participation Rate')"
   ]
  },
  {
   "cell_type": "markdown",
   "metadata": {},
   "source": [
    "### Slightly more complex example -- multiple series\n",
    "Use the BLS API v2 (which requires [registration](https://data.bls.gov/registrationEngine/)) to request more than one series at the same time. The version 2 API has a higher daily query limit, allows more years and series to be returned in each query, and allows some additional options such as requesting data in percent change rather than level. See [difference between v1 and v2](https://www.bls.gov/developers/api_faqs.htm#register1)."
   ]
  },
  {
   "cell_type": "code",
   "execution_count": 2,
   "metadata": {
    "collapsed": true
   },
   "outputs": [],
   "source": [
    "# The url for BLS API v2\n",
    "url = 'https://api.bls.gov/publicAPI/v2/timeseries/data/'\n",
    "\n",
    "# API key in config.py which contains: bls_key = 'key'\n",
    "key = '?registrationkey={}'.format(config.bls_key)\n",
    "\n",
    "# Series stored as a list\n",
    "series_list = ['LNS14000003', 'LNS14000006']"
   ]
  },
  {
   "cell_type": "markdown",
   "metadata": {},
   "source": [
    "#### Post request for the data\n",
    "\n",
    "This time we need to include some additional information with the request for data. Previously we used a *get* request, but if we want to submit data to be processed by the API we need to use a *post* request. See: [What is the difference between POST and GET?](https://stackoverflow.com/questions/3477333/what-is-the-difference-between-post-and-get) for more information.  \n",
    "\n",
    "First, we will tell the API to provide data in json format by including a content-type entity header."
   ]
  },
  {
   "cell_type": "code",
   "execution_count": 3,
   "metadata": {
    "collapsed": true
   },
   "outputs": [],
   "source": [
    "# Specify json as content type to return\n",
    "headers = {'Content-type': 'application/json'}\n",
    "\n",
    "# Submit the list of series as data\n",
    "data = json.dumps({\"seriesid\":series_list})\n",
    "\n",
    "# Post request for the data\n",
    "p = requests.post('{}{}'.format(url, key), headers=headers, data=data).json()\n",
    "\n",
    "# Blank pandas dataframe to be filled later\n",
    "df = pd.DataFrame()"
   ]
  },
  {
   "cell_type": "markdown",
   "metadata": {},
   "source": [
    "#### Loop through series and convert to pandas format\n",
    "\n",
    "Since the API returns data in a uniform way, a loop can be used to apply formatting or other changes to all series in the returned json data. In the example below, I format both series as pandas dataframes with a datetime index and the values converted to floats. "
   ]
  },
  {
   "cell_type": "code",
   "execution_count": 23,
   "metadata": {
    "collapsed": true
   },
   "outputs": [],
   "source": [
    "# Empty dictionary. Each entry will be one series\n",
    "d = {}\n",
    "\n",
    "# Loop through the series and convert to datetime indexed float values\n",
    "for series in p['Results']['series']:\n",
    "    s = series['seriesID']  # Short name, 's', for series ID\n",
    "    d[s] = pd.DataFrame(series['data'])\n",
    "    d[s]['date'] = pd.to_datetime(d[s]['period'] + ' ' + d[s]['year'])\n",
    "    d[s] = d[s].set_index('date')['value'].astype(float)\n",
    "\n",
    "# Combine the individual dictionary entries into one dataframe\n",
    "df = pd.concat(d, axis=1).iloc[::-1]\n",
    "\n",
    "# Show last five rows\n",
    "df.tail()"
   ]
  },
  {
   "cell_type": "code",
   "execution_count": 26,
   "metadata": {
    "collapsed": false
   },
   "outputs": [
    {
     "data": {
      "text/plain": [
       "<matplotlib.axes._subplots.AxesSubplot at 0xb60e438>"
      ]
     },
     "execution_count": 26,
     "metadata": {},
     "output_type": "execute_result"
    },
    {
     "data": {
      "image/png": "[encoded data removed]",
      "text/plain": [
       "<matplotlib.figure.Figure at 0xb9b0c88>"
      ]
     },
     "metadata": {},
     "output_type": "display_data"
    }
   ],
   "source": [
    "# Simple line plot of the data\n",
    "df.plot(title='Unemployment rates: Black and White')"
   ]
  },
  {
   "cell_type": "markdown",
   "metadata": {},
   "source": [
    "### Multiple series, multiple decades\n",
    "\n",
    "Even the version 2 API places limits on how many years worth of data can be returned in each request. For queries that require a longer time series, more than one request may be needed. \n",
    "\n",
    "This third example retrieves data on construction sector job openings and hires since 2000. "
   ]
  },
  {
   "cell_type": "code",
   "execution_count": 82,
   "metadata": {
    "collapsed": false
   },
   "outputs": [
    {
     "data": {
      "text/plain": [
       "[('2000', '2009'), ('2010', '2017')]"
      ]
     },
     "execution_count": 82,
     "metadata": {},
     "output_type": "execute_result"
    }
   ],
   "source": [
    "# Include the start and end year here\n",
    "date_range = (2000, 2017)\n",
    "\n",
    "# Divide the date range into BLS-API-friendly length requests\n",
    "req_no = int(math.ceil((date_range[1] - date_range[0]) / 10.0))\n",
    "dates = []\n",
    "for i in range(0,req_no):\n",
    "    d1 = str(date_range[0]+i*10)\n",
    "    d2 = str(date_range[0]+i*10+9)\n",
    "    dates.append((d1,d2))\n",
    "dates[-1] = (dates[-1][0], str(date_range[1]))\n",
    "\n",
    "dates"
   ]
  },
  {
   "cell_type": "markdown",
   "metadata": {},
   "source": [
    "#### API and series information"
   ]
  },
  {
   "cell_type": "code",
   "execution_count": 83,
   "metadata": {
    "collapsed": true
   },
   "outputs": [],
   "source": [
    "# URL, key, and headers same as above\n",
    "url = 'https://api.bls.gov/publicAPI/v2/timeseries/data/'\n",
    "key = '?registrationkey={}'.format(config.bls_key)\n",
    "headers = {'Content-type': 'application/json'}\n",
    "\n",
    "# This time, store the series into a dictionary with description\n",
    "series_dict = {'JTS23000000JOL': 'Construction Job Openings (Level, Thousands)',\n",
    "               'JTS23000000HIL': 'Construction Hires (Level, Thousands)'}\n",
    "\n",
    "df = pd.DataFrame()  # blank pandas dataframe to be filled later"
   ]
  },
  {
   "cell_type": "markdown",
   "metadata": {},
   "source": [
    "#### Make requests for each date range in dates"
   ]
  },
  {
   "cell_type": "code",
   "execution_count": 87,
   "metadata": {
    "collapsed": true
   },
   "outputs": [],
   "source": [
    "for start, end in dates: \n",
    "    \n",
    "    # The data sent in the post request now includes a start and end year\n",
    "    data = json.dumps({\"seriesid\":series_dict.keys(), \"startyear\":start, \"endyear\":end})\n",
    "    p = requests.post('{}{}'.format(url, key), headers=headers, data=data).json()\n",
    "    d = {} # New dictionary to be filled with data\n",
    "    for series in p['Results']['series']:\n",
    "        s = series['seriesID']  # Shorten name to 's'\n",
    "        \n",
    "        # Add dictionary entry with series and reverse series order\n",
    "        d[s] = pd.DataFrame(series['data']).iloc[::-1]\n",
    "        if len(series['data']) > 0:  # This if/else is to allow for series of different lengths\n",
    "            \n",
    "            # Convert BLS API dates to readable format (YYYY-MM-DD)\n",
    "            d[s]['date'] = pd.to_datetime(d[s]['period'] + ' ' + d[s]['year'])\n",
    "            \n",
    "            # Keep only date and series values\n",
    "            d[s] = d[s].set_index('date')['value'].astype(float)\n",
    "            \n",
    "            # Rename and identify values as floating point numbers\n",
    "            d[s] = d[s].rename(series_dict[s])\n",
    "        else:  # If blank, leave as a blank pandas series\n",
    "            d[s]['date'] = d[s]['value'] = pd.Series()\n",
    "            d[s] = d[s]['value'].rename(series_dict[s])\n",
    "            \n",
    "    # Combine the dataframes for each range of years into one by appending        \n",
    "    df = df.append(pd.concat([d[k] for k in series_dict.keys()], axis=1))"
   ]
  },
  {
   "cell_type": "markdown",
   "metadata": {},
   "source": [
    "View the results"
   ]
  },
  {
   "cell_type": "code",
   "execution_count": 89,
   "metadata": {
    "collapsed": false
   },
   "outputs": [
    {
     "data": {
      "text/html": [
       "<div>\n",
       "<table border=\"1\" class=\"dataframe\">\n",
       "  <thead>\n",
       "    <tr style=\"text-align: right;\">\n",
       "      <th></th>\n",
       "      <th>Construction Job Openings (Level, Thousands)</th>\n",
       "      <th>Construction Hires (Level, Thousands)</th>\n",
       "    </tr>\n",
       "    <tr>\n",
       "      <th>date</th>\n",
       "      <th></th>\n",
       "      <th></th>\n",
       "    </tr>\n",
       "  </thead>\n",
       "  <tbody>\n",
       "    <tr>\n",
       "      <th>2016-12-01</th>\n",
       "      <td>140.0</td>\n",
       "      <td>400.0</td>\n",
       "    </tr>\n",
       "    <tr>\n",
       "      <th>2017-01-01</th>\n",
       "      <td>142.0</td>\n",
       "      <td>387.0</td>\n",
       "    </tr>\n",
       "    <tr>\n",
       "      <th>2017-02-01</th>\n",
       "      <td>181.0</td>\n",
       "      <td>367.0</td>\n",
       "    </tr>\n",
       "    <tr>\n",
       "      <th>2017-03-01</th>\n",
       "      <td>161.0</td>\n",
       "      <td>372.0</td>\n",
       "    </tr>\n",
       "    <tr>\n",
       "      <th>2017-04-01</th>\n",
       "      <td>203.0</td>\n",
       "      <td>378.0</td>\n",
       "    </tr>\n",
       "  </tbody>\n",
       "</table>\n",
       "</div>"
      ],
      "text/plain": [
       "            Construction Job Openings (Level, Thousands)  \\\n",
       "date                                                       \n",
       "2016-12-01                                         140.0   \n",
       "2017-01-01                                         142.0   \n",
       "2017-02-01                                         181.0   \n",
       "2017-03-01                                         161.0   \n",
       "2017-04-01                                         203.0   \n",
       "\n",
       "            Construction Hires (Level, Thousands)  \n",
       "date                                               \n",
       "2016-12-01                                  400.0  \n",
       "2017-01-01                                  387.0  \n",
       "2017-02-01                                  367.0  \n",
       "2017-03-01                                  372.0  \n",
       "2017-04-01                                  378.0  "
      ]
     },
     "execution_count": 89,
     "metadata": {},
     "output_type": "execute_result"
    }
   ],
   "source": [
    "df.tail()"
   ]
  }
 ],
 "metadata": {
  "kernelspec": {
   "display_name": "Python 2",
   "language": "python",
   "name": "python2"
  },
  "language_info": {
   "codemirror_mode": {
    "name": "ipython",
    "version": 2
   },
   "file_extension": ".py",
   "mimetype": "text/x-python",
   "name": "python",
   "nbconvert_exporter": "python",
   "pygments_lexer": "ipython2",
   "version": "2.7.13"
  }
 },
 "nbformat": 4,
 "nbformat_minor": 2
}
