{
 "cells": [
  {
   "cell_type": "markdown",
   "metadata": {},
   "source": [
    "### Organization for Economic Cooperation and Development (OECD) API"
   ]
  },
  {
   "cell_type": "code",
   "execution_count": 1,
   "metadata": {
    "collapsed": true
   },
   "outputs": [],
   "source": [
    "import requests"
   ]
  },
  {
   "cell_type": "code",
   "execution_count": 4,
   "metadata": {
    "collapsed": true
   },
   "outputs": [],
   "source": [
    "url = 'http://stats.oecd.org/sdmx-json/data/QNA/FRA.GDP+B1_GE.CUR+VOBARSA.Q/all?startTime=2014-Q2'"
   ]
  },
  {
   "cell_type": "code",
   "execution_count": 5,
   "metadata": {
    "collapsed": false
   },
   "outputs": [
    {
     "data": {
      "text/plain": [
       "{u'dataSets': [{u'action': u'Information',\n",
       "   u'series': {u'0:0:0:0': {u'attributes': [0, 0, 0, 0],\n",
       "     u'observations': {u'0': [2066546.06812, None],\n",
       "      u'1': [2074154.075734, None],\n",
       "      u'10': [2127246.128866, None],\n",
       "      u'11': [2132754.134378, None],\n",
       "      u'2': [2076514.078096, None],\n",
       "      u'3': [2089662.091254, None],\n",
       "      u'4': [2090098.09169, None],\n",
       "      u'5': [2097854.099452, None],\n",
       "      u'6': [2102722.104323, None],\n",
       "      u'7': [2115070.116681, None],\n",
       "      u'8': [2112730.114339, None],\n",
       "      u'9': [2117694.119307, None]}}}}],\n",
       " u'header': {u'id': u'b9bedbe8-412e-46ae-b548-45097339ff9f',\n",
       "  u'links': [{u'href': u'http://stats.oecd.org:80/sdmx-json/data/QNA/FRA.GDP+B1_GE.CUR+VOBARSA.Q/all?startTime=2014-Q2',\n",
       "    u'rel': u'request'}],\n",
       "  u'prepared': u'2017-05-04T14:41:44.874Z',\n",
       "  u'sender': {u'id': u'OECD',\n",
       "   u'name': u'Organisation for Economic Co-operation and Development'},\n",
       "  u'test': False},\n",
       " u'structure': {u'annotations': [{u'text': u'',\n",
       "    u'title': u'Copyright OECD - All rights reserved',\n",
       "    u'uri': u''},\n",
       "   {u'text': u'',\n",
       "    u'title': u'Terms and Conditions',\n",
       "    u'uri': u'http://www.oecd.org/termsandconditions/'},\n",
       "   {u'text': u'',\n",
       "    u'title': u'Privacy Policy',\n",
       "    u'uri': u'http://www.oecd.org/privacy/'},\n",
       "   {u'text': u'', u'title': u'MyOECD', u'uri': u'https://www.oecd.org/login'},\n",
       "   {u'text': u'',\n",
       "    u'title': u'Contact Us',\n",
       "    u'uri': u'http://www.oecd.org/contact/'}],\n",
       "  u'attributes': {u'dataSet': [],\n",
       "   u'observation': [{u'id': u'OBS_STATUS',\n",
       "     u'name': u'Observation Status',\n",
       "     u'values': []}],\n",
       "   u'series': [{u'id': u'TIME_FORMAT',\n",
       "     u'name': u'Time Format',\n",
       "     u'values': [{u'id': u'P3M', u'name': u'Quarterly'}]},\n",
       "    {u'id': u'UNIT',\n",
       "     u'name': u'Unit',\n",
       "     u'role': u'UNIT_MEASURE',\n",
       "     u'values': [{u'id': u'EUR', u'name': u'Euro'}]},\n",
       "    {u'default': u'0',\n",
       "     u'id': u'POWERCODE',\n",
       "     u'name': u'Unit multiplier',\n",
       "     u'role': u'UNIT_MULT',\n",
       "     u'values': [{u'id': u'6', u'name': u'Millions'}]},\n",
       "    {u'id': u'REFERENCEPERIOD',\n",
       "     u'name': u'Reference period',\n",
       "     u'role': u'BASE_PER',\n",
       "     u'values': [{u'id': u'2010', u'name': u'2010'}]}]},\n",
       "  u'description': u'Quarterly National Accounts',\n",
       "  u'dimensions': {u'observation': [{u'id': u'TIME_PERIOD',\n",
       "     u'name': u'Period',\n",
       "     u'role': u'TIME_PERIOD',\n",
       "     u'values': [{u'id': u'2014-Q2', u'name': u'Q2-2014'},\n",
       "      {u'id': u'2014-Q3', u'name': u'Q3-2014'},\n",
       "      {u'id': u'2014-Q4', u'name': u'Q4-2014'},\n",
       "      {u'id': u'2015-Q1', u'name': u'Q1-2015'},\n",
       "      {u'id': u'2015-Q2', u'name': u'Q2-2015'},\n",
       "      {u'id': u'2015-Q3', u'name': u'Q3-2015'},\n",
       "      {u'id': u'2015-Q4', u'name': u'Q4-2015'},\n",
       "      {u'id': u'2016-Q1', u'name': u'Q1-2016'},\n",
       "      {u'id': u'2016-Q2', u'name': u'Q2-2016'},\n",
       "      {u'id': u'2016-Q3', u'name': u'Q3-2016'},\n",
       "      {u'id': u'2016-Q4', u'name': u'Q4-2016'},\n",
       "      {u'id': u'2017-Q1', u'name': u'Q1-2017'}]}],\n",
       "   u'series': [{u'id': u'LOCATION',\n",
       "     u'keyPosition': 0,\n",
       "     u'name': u'Country',\n",
       "     u'role': u'REF_AREA',\n",
       "     u'values': [{u'id': u'FRA', u'name': u'France'}]},\n",
       "    {u'id': u'SUBJECT',\n",
       "     u'keyPosition': 1,\n",
       "     u'name': u'Subject',\n",
       "     u'values': [{u'id': u'B1_GE',\n",
       "       u'name': u'Gross domestic product - expenditure approach'}]},\n",
       "    {u'id': u'MEASURE',\n",
       "     u'keyPosition': 2,\n",
       "     u'name': u'Measure',\n",
       "     u'values': [{u'id': u'VOBARSA',\n",
       "       u'name': u'National currency, volume estimates, OECD reference year, annual levels, seasonally adjusted'}]},\n",
       "    {u'id': u'FREQUENCY',\n",
       "     u'keyPosition': 3,\n",
       "     u'name': u'Frequency',\n",
       "     u'role': u'FREQ',\n",
       "     u'values': [{u'id': u'Q', u'name': u'Quarterly'}]}]},\n",
       "  u'links': [{u'href': u'http://stats.oecd.org/sdmx-json/dataflow/QNA/all',\n",
       "    u'rel': u'dataflow'}],\n",
       "  u'name': u'Quarterly National Accounts'}}"
      ]
     },
     "execution_count": 5,
     "metadata": {},
     "output_type": "execute_result"
    }
   ],
   "source": [
    "requests.get('{}'.format(url)).json()"
   ]
  }
 ],
 "metadata": {
  "kernelspec": {
   "display_name": "Python 2",
   "language": "python",
   "name": "python2"
  },
  "language_info": {
   "codemirror_mode": {
    "name": "ipython",
    "version": 2
   },
   "file_extension": ".py",
   "mimetype": "text/x-python",
   "name": "python",
   "nbconvert_exporter": "python",
   "pygments_lexer": "ipython2",
   "version": "2.7.13"
  }
 },
 "nbformat": 4,
 "nbformat_minor": 2
}
