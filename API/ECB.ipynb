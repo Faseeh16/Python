{
 "cells": [
  {
   "cell_type": "markdown",
   "metadata": {},
   "source": [
    "### European Central Bank (ECB) API"
   ]
  },
  {
   "cell_type": "code",
   "execution_count": 7,
   "metadata": {
    "collapsed": true
   },
   "outputs": [],
   "source": [
    "import requests\n",
    "import pandas as pd\n",
    "\n",
    "# API in JSON data format returns series index as strings\n",
    "# tiny function below used to convert to ints during sort\n",
    "def asint(s):\n",
    "    return int(s)"
   ]
  },
  {
   "cell_type": "code",
   "execution_count": 2,
   "metadata": {
    "collapsed": true
   },
   "outputs": [],
   "source": [
    "url = 'https://sdw-wsrest.ecb.europa.eu/service/data/'\n",
    "key = 'IRS/M.DE.L.L40.CI.0000.EUR.N.Z?startPeriod=2012-01-01'\n",
    "# headers used as content negotiation to return data in json format\n",
    "headers = {'Accept':'application/json'}\n",
    "response = requests.get('{}{}'.format(url,key), headers=headers).json()"
   ]
  },
  {
   "cell_type": "code",
   "execution_count": 8,
   "metadata": {},
   "outputs": [],
   "source": [
    "series = response['dataSets'][0]['series'][u'0:0:0:0:0:0:0:0:0']['observations']\n",
    "slist = [series[k][0] for k in sorted(series, key=asint)]\n",
    "dates = response['structure']['dimensions']['observation'][0]['values']\n",
    "dlist = [i['start'][:10] for i in dates]\n",
    "area = response['structure']['dimensions']['series'][1]['values'][0]['name']\n",
    "# Convert two lists into pandas dataframe\n",
    "df = pd.DataFrame({'date': dlist, area: slist}).set_index('date')\n",
    "df.iloc[-1]"
   ]
  }
 ],
 "metadata": {
  "kernelspec": {
   "display_name": "Python [conda root]",
   "language": "python",
   "name": "conda-root-py"
  },
  "language_info": {
   "codemirror_mode": {
    "name": "ipython",
    "version": 2
   },
   "file_extension": ".py",
   "mimetype": "text/x-python",
   "name": "python",
   "nbconvert_exporter": "python",
   "pygments_lexer": "ipython2",
   "version": "2.7.12"
  }
 },
 "nbformat": 4,
 "nbformat_minor": 2
}
