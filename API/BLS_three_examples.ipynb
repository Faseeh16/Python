{
 "cells": [
  {
   "cell_type": "markdown",
   "metadata": {},
   "source": [
    "# U.S. Bureau of Labor Statistics (BLS)\n",
    "\n",
    "This notebook covers three example requests for BLS data. First, we look at the labor force participation rate compared to its recent average. Next we look at unemployment rates by race/origin, and third we find data on the number of unemployed construction workers per job opening."
   ]
  },
  {
   "cell_type": "code",
   "execution_count": 1,
   "metadata": {
    "collapsed": true
   },
   "outputs": [],
   "source": [
    "# Preliminaries (Python 2.7)\n",
    "import requests\n",
    "import json\n",
    "import config # file called config.py with my API key\n",
    "import pandas as pd\n",
    "\n",
    "%matplotlib inline"
   ]
  },
  {
   "cell_type": "markdown",
   "metadata": {},
   "source": [
    "### Simple example\n",
    "\n",
    "Get recent civilian labor force participation rate data from the BLS API v1.\n",
    "\n",
    "This example can be used to get the most recent values for a single series using the BLS version 1 API (which does not require registration) and the BLS series id of interest. "
   ]
  },
  {
   "cell_type": "code",
   "execution_count": 2,
   "metadata": {
    "collapsed": true
   },
   "outputs": [],
   "source": [
    "# BLS API v1 url\n",
    "url = 'https://api.bls.gov/publicAPI/v1/timeseries/data/'\n",
    "\n",
    "# BLS series id for the civilian labor force participation rate\n",
    "series = 'LNS11300000'"
   ]
  },
  {
   "cell_type": "markdown",
   "metadata": {},
   "source": [
    "#### Get the data"
   ]
  },
  {
   "cell_type": "code",
   "execution_count": 3,
   "metadata": {
    "collapsed": true
   },
   "outputs": [],
   "source": [
    "# get the data returned by the url and series id\n",
    "r = requests.get(\n",
    "    '{}{}'.format(url, series)\n",
    "    ).json()['Results']['series'][0]['data']"
   ]
  },
  {
   "cell_type": "code",
   "execution_count": 4,
   "metadata": {
    "collapsed": false
   },
   "outputs": [
    {
     "data": {
      "text/plain": [
       "2017-06-01    62.8\n",
       "Name: LNS11300000, dtype: float64"
      ]
     },
     "execution_count": 4,
     "metadata": {},
     "output_type": "execute_result"
    }
   ],
   "source": [
    "# Build a pandas series from the API results, r\n",
    "s = pd.Series(\n",
    "    index = pd.to_datetime(\n",
    "        ['{} {}'.format(i['period'], i['year']) for i in r]),\n",
    "    data = [i['value'] for i in r],\n",
    "    name = series\n",
    "    ).astype(float).iloc[::-1]\n",
    "\n",
    "# Show latest value\n",
    "s.tail(1)"
   ]
  },
  {
   "cell_type": "markdown",
   "metadata": {},
   "source": [
    "#### Compare latest value to mean"
   ]
  },
  {
   "cell_type": "code",
   "execution_count": 5,
   "metadata": {
    "collapsed": false
   },
   "outputs": [
    {
     "data": {
      "text/plain": [
       "<matplotlib.axes._subplots.AxesSubplot at 0xb988588>"
      ]
     },
     "execution_count": 5,
     "metadata": {},
     "output_type": "execute_result"
    },
    {
     "data": {
      "image/png": "[encoded data removed]",
      "text/plain": [
       "<matplotlib.figure.Figure at 0x4970a20>"
      ]
     },
     "metadata": {},
     "output_type": "display_data"
    }
   ],
   "source": [
    "# Simple line plot of results\n",
    "pd.DataFrame({'value':s, \n",
    "              'mean': s.mean()}).plot(\n",
    "    title='Labor Force Participation Rate')"
   ]
  },
  {
   "cell_type": "markdown",
   "metadata": {},
   "source": [
    "### Slightly more complex example -- multiple series\n",
    "Use the BLS API v2 (which requires [registration](https://data.bls.gov/registrationEngine/)) to request more than one series at the same time. The version 2 API has a higher daily query limit, allows more years and series to be returned in each query, and allows some additional options such as requesting data in percent change rather than level. See [difference between v1 and v2](https://www.bls.gov/developers/api_faqs.htm#register1)."
   ]
  },
  {
   "cell_type": "code",
   "execution_count": 6,
   "metadata": {
    "collapsed": true
   },
   "outputs": [],
   "source": [
    "# The url for BLS API v2\n",
    "url = 'https://api.bls.gov/publicAPI/v2/timeseries/data/'\n",
    "\n",
    "# API key in config.py which contains: bls_key = 'key'\n",
    "key = '?registrationkey={}'.format(config.bls_key)\n",
    "\n",
    "# Series stored as a list\n",
    "series_dict = {\n",
    "    'LNS14000003': 'White', \n",
    "    'LNS14000006': 'Black', \n",
    "    'LNS14000009': 'Hispanic'}\n",
    "\n",
    "# Start year and end year\n",
    "dates = ('2008', '2017')"
   ]
  },
  {
   "cell_type": "markdown",
   "metadata": {},
   "source": [
    "#### Post request for the data\n",
    "\n",
    "This time we need to include some additional information with the request for data. Previously we used a *get* request, but if we want to submit data to be processed by the API we need to use a *post* request. See: [What is the difference between POST and GET?](https://stackoverflow.com/questions/3477333/what-is-the-difference-between-post-and-get) for more information.  \n",
    "\n",
    "First, we will tell the API to provide data in json format by including a content-type entity header."
   ]
  },
  {
   "cell_type": "code",
   "execution_count": 7,
   "metadata": {
    "collapsed": true
   },
   "outputs": [],
   "source": [
    "# Specify json as content type to return\n",
    "headers = {'Content-type': 'application/json'}\n",
    "\n",
    "# Submit the list of series as data\n",
    "data = json.dumps({\n",
    "    \"seriesid\": series_dict.keys(),\n",
    "    \"startyear\": dates[0], \n",
    "    \"endyear\": dates[1]})\n",
    "\n",
    "# Post request for the data\n",
    "p = requests.post(\n",
    "    '{}{}'.format(url, key), \n",
    "    headers=headers, \n",
    "    data=data).json()['Results']['series']"
   ]
  },
  {
   "cell_type": "markdown",
   "metadata": {},
   "source": [
    "#### Loop through series and convert to pandas format\n",
    "\n",
    "Since the API returns data in a uniform way, a loop can be used to apply formatting or other changes to all series in the returned json data. In the example below, I format both series as pandas dataframes with a datetime index and the values converted to floats. "
   ]
  },
  {
   "cell_type": "code",
   "execution_count": 8,
   "metadata": {
    "collapsed": false
   },
   "outputs": [
    {
     "data": {
      "text/html": [
       "<div>\n",
       "<style>\n",
       "    .dataframe thead tr:only-child th {\n",
       "        text-align: right;\n",
       "    }\n",
       "\n",
       "    .dataframe thead th {\n",
       "        text-align: left;\n",
       "    }\n",
       "\n",
       "    .dataframe tbody tr th {\n",
       "        vertical-align: top;\n",
       "    }\n",
       "</style>\n",
       "<table border=\"1\" class=\"dataframe\">\n",
       "  <thead>\n",
       "    <tr style=\"text-align: right;\">\n",
       "      <th></th>\n",
       "      <th>Black</th>\n",
       "      <th>Hispanic</th>\n",
       "      <th>White</th>\n",
       "    </tr>\n",
       "  </thead>\n",
       "  <tbody>\n",
       "    <tr>\n",
       "      <th>2017-02-01</th>\n",
       "      <td>8.1</td>\n",
       "      <td>5.6</td>\n",
       "      <td>4.1</td>\n",
       "    </tr>\n",
       "    <tr>\n",
       "      <th>2017-03-01</th>\n",
       "      <td>8.0</td>\n",
       "      <td>5.1</td>\n",
       "      <td>3.9</td>\n",
       "    </tr>\n",
       "    <tr>\n",
       "      <th>2017-04-01</th>\n",
       "      <td>7.9</td>\n",
       "      <td>5.2</td>\n",
       "      <td>3.8</td>\n",
       "    </tr>\n",
       "    <tr>\n",
       "      <th>2017-05-01</th>\n",
       "      <td>7.5</td>\n",
       "      <td>5.2</td>\n",
       "      <td>3.7</td>\n",
       "    </tr>\n",
       "    <tr>\n",
       "      <th>2017-06-01</th>\n",
       "      <td>7.1</td>\n",
       "      <td>4.8</td>\n",
       "      <td>3.8</td>\n",
       "    </tr>\n",
       "  </tbody>\n",
       "</table>\n",
       "</div>"
      ],
      "text/plain": [
       "            Black  Hispanic  White\n",
       "2017-02-01    8.1       5.6    4.1\n",
       "2017-03-01    8.0       5.1    3.9\n",
       "2017-04-01    7.9       5.2    3.8\n",
       "2017-05-01    7.5       5.2    3.7\n",
       "2017-06-01    7.1       4.8    3.8"
      ]
     },
     "execution_count": 8,
     "metadata": {},
     "output_type": "execute_result"
    }
   ],
   "source": [
    "# Empty dictionary to fill with values\n",
    "d = {}\n",
    "\n",
    "# Build a pandas series from the API results, p\n",
    "for s in p:\n",
    "    d[series_dict[s['seriesID']]] = pd.Series(\n",
    "        index = pd.to_datetime(\n",
    "            ['{} {}'.format(i['period'], i['year']) for i in s['data']]),\n",
    "        data = [i['value'] for i in s['data']]\n",
    "        ).astype(float).iloc[::-1]\n",
    "    \n",
    "# Combine series into one pandas dataframe\n",
    "df = pd.DataFrame(d)\n",
    "\n",
    "# Show last 5 results\n",
    "df.tail()"
   ]
  },
  {
   "cell_type": "code",
   "execution_count": 9,
   "metadata": {
    "collapsed": false
   },
   "outputs": [
    {
     "data": {
      "text/plain": [
       "<matplotlib.axes._subplots.AxesSubplot at 0xc260a58>"
      ]
     },
     "execution_count": 9,
     "metadata": {},
     "output_type": "execute_result"
    },
    {
     "data": {
      "image/png": "[encoded data removed]",
      "text/plain": [
       "<matplotlib.figure.Figure at 0x67aa048>"
      ]
     },
     "metadata": {},
     "output_type": "display_data"
    }
   ],
   "source": [
    "# Simple line plot of the data\n",
    "df.plot(title='Unemployment Rates by Race or Origin')"
   ]
  },
  {
   "cell_type": "markdown",
   "metadata": {},
   "source": [
    "### Multiple series, multiple decades\n",
    "\n",
    "Even the version 2 API places limits on how many years worth of data can be returned in each request. For queries that require a longer time series, more than one request may be needed. \n",
    "\n",
    "This third example retrieves data on construction sector job openings and hires since 2000. "
   ]
  },
  {
   "cell_type": "code",
   "execution_count": 10,
   "metadata": {
    "collapsed": false
   },
   "outputs": [
    {
     "data": {
      "text/plain": [
       "[('2000', '2009'), ('2010', 2017)]"
      ]
     },
     "execution_count": 10,
     "metadata": {},
     "output_type": "execute_result"
    }
   ],
   "source": [
    "# Include the start and end year here\n",
    "date_r = (2000, 2017)\n",
    "\n",
    "dates = [(str(date_r[0]), str(date_r[1]))]\n",
    "while int(dates[-1][1]) - int(dates[-1][0]) > 10:\n",
    "    dates = [(str(date_r[0]), str(date_r[0]+9))]\n",
    "    d1 = int(dates[-1][0])\n",
    "    while int(dates[-1][1]) < date_r[1]:\n",
    "        d1 = d1 + 10\n",
    "        d2 = min([date_r[1], d1+9])\n",
    "        dates.append((str(d1),(d2)))   \n",
    "        \n",
    "dates    "
   ]
  },
  {
   "cell_type": "markdown",
   "metadata": {},
   "source": [
    "#### API and series information"
   ]
  },
  {
   "cell_type": "code",
   "execution_count": 11,
   "metadata": {
    "collapsed": true
   },
   "outputs": [],
   "source": [
    "# URL, key, and headers same as above\n",
    "url = 'https://api.bls.gov/publicAPI/v2/timeseries/data/'\n",
    "key = '?registrationkey={}'.format(config.bls_key)\n",
    "headers = {'Content-type': 'application/json'}\n",
    "\n",
    "# This time, store the series into a dictionary with description\n",
    "series_dict = {'JTU23000000JOL': 'Construction Job Openings (Thousands)',\n",
    "               'LNU03032231': 'Unemployed Construction Workes (Thousands)'}"
   ]
  },
  {
   "cell_type": "markdown",
   "metadata": {},
   "source": [
    "#### Make requests for each date range in dates"
   ]
  },
  {
   "cell_type": "code",
   "execution_count": 12,
   "metadata": {
    "collapsed": false
   },
   "outputs": [
    {
     "ename": "KeyError",
     "evalue": "'series'",
     "output_type": "error",
     "traceback": [
      "\u001b[1;31m---------------------------------------------------------------------------\u001b[0m",
      "\u001b[1;31mKeyError\u001b[0m                                  Traceback (most recent call last)",
      "\u001b[1;32m<ipython-input-12-9b1837cfd5b5>\u001b[0m in \u001b[0;36m<module>\u001b[1;34m()\u001b[0m\n\u001b[0;32m     11\u001b[0m         \u001b[1;34m'{}{}'\u001b[0m\u001b[1;33m.\u001b[0m\u001b[0mformat\u001b[0m\u001b[1;33m(\u001b[0m\u001b[0murl\u001b[0m\u001b[1;33m,\u001b[0m \u001b[0mkey\u001b[0m\u001b[1;33m)\u001b[0m\u001b[1;33m,\u001b[0m\u001b[1;33m\u001b[0m\u001b[0m\n\u001b[0;32m     12\u001b[0m         \u001b[0mheaders\u001b[0m\u001b[1;33m=\u001b[0m\u001b[0mheaders\u001b[0m\u001b[1;33m,\u001b[0m\u001b[1;33m\u001b[0m\u001b[0m\n\u001b[1;32m---> 13\u001b[1;33m         data=data).json()['Results']['series']\n\u001b[0m\u001b[0;32m     14\u001b[0m     \u001b[0md\u001b[0m \u001b[1;33m=\u001b[0m \u001b[1;33m{\u001b[0m\u001b[1;33m}\u001b[0m\u001b[1;33m\u001b[0m\u001b[0m\n\u001b[0;32m     15\u001b[0m     \u001b[1;31m# Build a pandas series from the API results, p\u001b[0m\u001b[1;33m\u001b[0m\u001b[1;33m\u001b[0m\u001b[0m\n",
      "\u001b[1;31mKeyError\u001b[0m: 'series'"
     ]
    }
   ],
   "source": [
    "df = pd.DataFrame()\n",
    "for start, end in dates: \n",
    "    # Submit the list of series as data\n",
    "    data = json.dumps({\n",
    "        \"seriesid\": series_dict.keys(),\n",
    "        \"startyear\": start, \n",
    "        \"endyear\": end})\n",
    "\n",
    "    # Post request for the data\n",
    "    p = requests.post(\n",
    "        '{}{}'.format(url, key), \n",
    "        headers=headers, \n",
    "        data=data).json()['Results']['series']\n",
    "    d = {}\n",
    "    # Build a pandas series from the API results, p\n",
    "    for s in p:\n",
    "        d[series_dict[s['seriesID']]] = pd.Series(\n",
    "            index = pd.to_datetime(\n",
    "                ['{} {}'.format(i['period'], i['year']) for i in s['data']]),\n",
    "            data = [i['value'] for i in s['data']]\n",
    "            ).astype(float).iloc[::-1]\n",
    "        if len(p) == 0:\n",
    "            d[series_dict[s['seriesID']]] = pd.Series()\n",
    "    # Combine series into one pandas dataframe\n",
    "    df = df.append(pd.DataFrame(d)).dropna()\n",
    "    \n",
    "# Unemployed per job opening\n",
    "df['Unemployed per opening'] = df.iloc[:,1].divide(df.iloc[:,0]).round(1)\n",
    "\n",
    "# Show last 5 results\n",
    "df.tail()"
   ]
  }
 ],
 "metadata": {
  "kernelspec": {
   "display_name": "Python 2",
   "language": "python",
   "name": "python2"
  },
  "language_info": {
   "codemirror_mode": {
    "name": "ipython",
    "version": 2
   },
   "file_extension": ".py",
   "mimetype": "text/x-python",
   "name": "python",
   "nbconvert_exporter": "python",
   "pygments_lexer": "ipython2",
   "version": "2.7.13"
  }
 },
 "nbformat": 4,
 "nbformat_minor": 2
}
