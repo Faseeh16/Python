{
 "cells": [
  {
   "cell_type": "code",
   "execution_count": 1,
   "metadata": {
    "collapsed": true
   },
   "outputs": [],
   "source": [
    "import pandas as pd"
   ]
  },
  {
   "cell_type": "code",
   "execution_count": 6,
   "metadata": {
    "collapsed": true
   },
   "outputs": [],
   "source": [
    "df = pd.read_excel('sitc29614digit.xlsx')#[['ExportsFASValueBasisYtdDec', 'GenImportsCustomsValBasisYtdDec', 'GenImportsCIFValBasisYtdDec']]"
   ]
  },
  {
   "cell_type": "code",
   "execution_count": 7,
   "metadata": {
    "collapsed": false
   },
   "outputs": [
    {
     "data": {
      "text/plain": [
       "Index([u'Year', u'SITC', u'sitc_sdesc', u'Country', u'ExportsFASValueBasisJan',\n",
       "       u'GenImportsCustomsValBasisJan', u'GenImportsCIFValBasisJan',\n",
       "       u'ExportsFASValueBasisFeb', u'GenImportsCustomsValBasisFeb',\n",
       "       u'GenImportsCIFValBasisFeb', u'ExportsFASValueBasisMar',\n",
       "       u'GenImportsCustomsValBasisMar', u'GenImportsCIFValBasisMar',\n",
       "       u'ExportsFASValueBasisApr', u'GenImportsCustomsValBasisApr',\n",
       "       u'GenImportsCIFValBasisApr', u'ExportsFASValueBasisMay',\n",
       "       u'GenImportsCustomsValBasisMay', u'GenImportsCIFValBasisMay',\n",
       "       u'ExportsFASValueBasisJun', u'GenImportsCustomsValBasisJun',\n",
       "       u'GenImportsCIFValBasisJun', u'ExportsFASValueBasisJul',\n",
       "       u'GenImportsCustomsValBasisJul', u'GenImportsCIFValBasisJul',\n",
       "       u'ExportsFASValueBasisAug', u'GenImportsCustomsValBasisAug',\n",
       "       u'GenImportsCIFValBasisAug', u'ExportsFASValueBasisSep',\n",
       "       u'GenImportsCustomsValBasisSep', u'GenImportsCIFValBasisSep',\n",
       "       u'ExportsFASValueBasisOct', u'GenImportsCustomsValBasisOct',\n",
       "       u'GenImportsCIFValBasisOct', u'ExportsFASValueBasisNov',\n",
       "       u'GenImportsCustomsValBasisNov', u'GenImportsCIFValBasisNov',\n",
       "       u'ExportsFASValueBasisDec', u'GenImportsCustomsValBasisDec',\n",
       "       u'GenImportsCIFValBasisDec', u'ExportsFASValueBasisYtdDec',\n",
       "       u'GenImportsCustomsValBasisYtdDec', u'GenImportsCIFValBasisYtdDec',\n",
       "       u'CTY_CODE'],\n",
       "      dtype='object')"
      ]
     },
     "execution_count": 7,
     "metadata": {},
     "output_type": "execute_result"
    }
   ],
   "source": [
    "df.keys()"
   ]
  },
  {
   "cell_type": "code",
   "execution_count": 14,
   "metadata": {
    "collapsed": true
   },
   "outputs": [],
   "source": [
    "years = ['2000', '2005', '2010']\n",
    "countries = ['0', '1220', '2010']\n",
    "columns = ['Year', 'SITC', 'sitc_sdesc', 'Country', 'CTY_CODE', 'ExportsFASValueBasisYtdDec', 'GenImportsCustomsValBasisYtdDec', 'GenImportsCIFValBasisYtdDec']"
   ]
  },
  {
   "cell_type": "code",
   "execution_count": 16,
   "metadata": {
    "collapsed": false
   },
   "outputs": [
    {
     "data": {
      "text/html": [
       "<div>\n",
       "<style>\n",
       "    .dataframe thead tr:only-child th {\n",
       "        text-align: right;\n",
       "    }\n",
       "\n",
       "    .dataframe thead th {\n",
       "        text-align: left;\n",
       "    }\n",
       "\n",
       "    .dataframe tbody tr th {\n",
       "        vertical-align: top;\n",
       "    }\n",
       "</style>\n",
       "<table border=\"1\" class=\"dataframe\">\n",
       "  <thead>\n",
       "    <tr style=\"text-align: right;\">\n",
       "      <th></th>\n",
       "      <th>Year</th>\n",
       "      <th>SITC</th>\n",
       "      <th>sitc_sdesc</th>\n",
       "      <th>Country</th>\n",
       "      <th>CTY_CODE</th>\n",
       "      <th>ExportsFASValueBasisYtdDec</th>\n",
       "      <th>GenImportsCustomsValBasisYtdDec</th>\n",
       "      <th>GenImportsCIFValBasisYtdDec</th>\n",
       "    </tr>\n",
       "  </thead>\n",
       "  <tbody>\n",
       "    <tr>\n",
       "      <th>168701</th>\n",
       "      <td>2000</td>\n",
       "      <td>78</td>\n",
       "      <td>MOTOR VEHICLES</td>\n",
       "      <td>WorldTotal</td>\n",
       "      <td>0</td>\n",
       "      <td>59992296311</td>\n",
       "      <td>161682172658</td>\n",
       "      <td>164473330986</td>\n",
       "    </tr>\n",
       "    <tr>\n",
       "      <th>168703</th>\n",
       "      <td>2000</td>\n",
       "      <td>78</td>\n",
       "      <td>MOTOR VEHICLES</td>\n",
       "      <td>Canada</td>\n",
       "      <td>1220</td>\n",
       "      <td>33246890148</td>\n",
       "      <td>55703022251</td>\n",
       "      <td>56133692312</td>\n",
       "    </tr>\n",
       "    <tr>\n",
       "      <th>168705</th>\n",
       "      <td>2000</td>\n",
       "      <td>78</td>\n",
       "      <td>MOTOR VEHICLES</td>\n",
       "      <td>Mexico</td>\n",
       "      <td>2010</td>\n",
       "      <td>11393309907</td>\n",
       "      <td>26007173020</td>\n",
       "      <td>26194393449</td>\n",
       "    </tr>\n",
       "    <tr>\n",
       "      <th>169748</th>\n",
       "      <td>2005</td>\n",
       "      <td>78</td>\n",
       "      <td>MOTOR VEHICLES</td>\n",
       "      <td>WorldTotal</td>\n",
       "      <td>0</td>\n",
       "      <td>80532444582</td>\n",
       "      <td>195925783640</td>\n",
       "      <td>199273687816</td>\n",
       "    </tr>\n",
       "    <tr>\n",
       "      <th>169750</th>\n",
       "      <td>2005</td>\n",
       "      <td>78</td>\n",
       "      <td>MOTOR VEHICLES</td>\n",
       "      <td>Canada</td>\n",
       "      <td>1220</td>\n",
       "      <td>42327671751</td>\n",
       "      <td>61205166919</td>\n",
       "      <td>61523054264</td>\n",
       "    </tr>\n",
       "    <tr>\n",
       "      <th>169751</th>\n",
       "      <td>2005</td>\n",
       "      <td>78</td>\n",
       "      <td>MOTOR VEHICLES</td>\n",
       "      <td>Mexico</td>\n",
       "      <td>2010</td>\n",
       "      <td>11347565594</td>\n",
       "      <td>26788892953</td>\n",
       "      <td>26984441400</td>\n",
       "    </tr>\n",
       "    <tr>\n",
       "      <th>170832</th>\n",
       "      <td>2010</td>\n",
       "      <td>78</td>\n",
       "      <td>MOTOR VEHICLES</td>\n",
       "      <td>WorldTotal</td>\n",
       "      <td>0</td>\n",
       "      <td>95147601210</td>\n",
       "      <td>178945959443</td>\n",
       "      <td>182091577833</td>\n",
       "    </tr>\n",
       "    <tr>\n",
       "      <th>170834</th>\n",
       "      <td>2010</td>\n",
       "      <td>78</td>\n",
       "      <td>MOTOR VEHICLES</td>\n",
       "      <td>Canada</td>\n",
       "      <td>1220</td>\n",
       "      <td>41058730521</td>\n",
       "      <td>45294745024</td>\n",
       "      <td>45539448959</td>\n",
       "    </tr>\n",
       "    <tr>\n",
       "      <th>170835</th>\n",
       "      <td>2010</td>\n",
       "      <td>78</td>\n",
       "      <td>MOTOR VEHICLES</td>\n",
       "      <td>Mexico</td>\n",
       "      <td>2010</td>\n",
       "      <td>14446283135</td>\n",
       "      <td>40053593334</td>\n",
       "      <td>40259990406</td>\n",
       "    </tr>\n",
       "  </tbody>\n",
       "</table>\n",
       "</div>"
      ],
      "text/plain": [
       "        Year  SITC      sitc_sdesc     Country  CTY_CODE  \\\n",
       "168701  2000    78  MOTOR VEHICLES  WorldTotal         0   \n",
       "168703  2000    78  MOTOR VEHICLES      Canada      1220   \n",
       "168705  2000    78  MOTOR VEHICLES      Mexico      2010   \n",
       "169748  2005    78  MOTOR VEHICLES  WorldTotal         0   \n",
       "169750  2005    78  MOTOR VEHICLES      Canada      1220   \n",
       "169751  2005    78  MOTOR VEHICLES      Mexico      2010   \n",
       "170832  2010    78  MOTOR VEHICLES  WorldTotal         0   \n",
       "170834  2010    78  MOTOR VEHICLES      Canada      1220   \n",
       "170835  2010    78  MOTOR VEHICLES      Mexico      2010   \n",
       "\n",
       "        ExportsFASValueBasisYtdDec  GenImportsCustomsValBasisYtdDec  \\\n",
       "168701                 59992296311                     161682172658   \n",
       "168703                 33246890148                      55703022251   \n",
       "168705                 11393309907                      26007173020   \n",
       "169748                 80532444582                     195925783640   \n",
       "169750                 42327671751                      61205166919   \n",
       "169751                 11347565594                      26788892953   \n",
       "170832                 95147601210                     178945959443   \n",
       "170834                 41058730521                      45294745024   \n",
       "170835                 14446283135                      40053593334   \n",
       "\n",
       "        GenImportsCIFValBasisYtdDec  \n",
       "168701                 164473330986  \n",
       "168703                  56133692312  \n",
       "168705                  26194393449  \n",
       "169748                 199273687816  \n",
       "169750                  61523054264  \n",
       "169751                  26984441400  \n",
       "170832                 182091577833  \n",
       "170834                  45539448959  \n",
       "170835                  40259990406  "
      ]
     },
     "execution_count": 16,
     "metadata": {},
     "output_type": "execute_result"
    }
   ],
   "source": [
    "df.loc[(df['Year'].isin(['2000', '2005', '2010'])) & (df['CTY_CODE'].isin(['0', '1220', '2010'])) & (df['SITC'].isin(['78']))][columns]"
   ]
  }
 ],
 "metadata": {
  "kernelspec": {
   "display_name": "Python 2",
   "language": "python",
   "name": "python2"
  },
  "language_info": {
   "codemirror_mode": {
    "name": "ipython",
    "version": 2
   },
   "file_extension": ".py",
   "mimetype": "text/x-python",
   "name": "python",
   "nbconvert_exporter": "python",
   "pygments_lexer": "ipython2",
   "version": "2.7.13"
  }
 },
 "nbformat": 4,
 "nbformat_minor": 2
}
