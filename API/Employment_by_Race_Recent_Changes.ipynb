{
 "cells": [
  {
   "cell_type": "markdown",
   "metadata": {},
   "source": [
    "# U.S. Bureau of Labor Statistics (BLS)\n",
    "\n",
    "This example requests data on the number of job openings and hires in the construction industry from the BLS API."
   ]
  },
  {
   "cell_type": "code",
   "execution_count": 1,
   "metadata": {
    "collapsed": true
   },
   "outputs": [],
   "source": [
    "# Preliminaries (Python 2.7)\n",
    "import requests\n",
    "import json\n",
    "import config # file called config.py with my API key\n",
    "import pandas as pd\n",
    "\n",
    "import math\n",
    "\n",
    "%matplotlib inline"
   ]
  },
  {
   "cell_type": "markdown",
   "metadata": {},
   "source": [
    "### Multiple series, multiple decades\n",
    "\n",
    "Even the version 2 API places limits on how many years worth of data can be returned in each request. For queries that require a longer time series, more than one request may be needed. \n",
    "\n",
    "This third example retrieves data on construction sector job openings and hires since 2000. "
   ]
  },
  {
   "cell_type": "code",
   "execution_count": 2,
   "metadata": {
    "collapsed": false
   },
   "outputs": [
    {
     "data": {
      "text/plain": [
       "[('2015', '2017')]"
      ]
     },
     "execution_count": 2,
     "metadata": {},
     "output_type": "execute_result"
    }
   ],
   "source": [
    "# Include the start and end year here\n",
    "date_range = (2015, 2017)\n",
    "\n",
    "# Divide the date range into BLS-API-friendly length requests\n",
    "req_no = int(math.ceil((date_range[1] - date_range[0]) / 10.0))\n",
    "dates = []\n",
    "for i in range(0,req_no):\n",
    "    d1 = str(date_range[0]+i*10)\n",
    "    d2 = str(date_range[0]+i*10+9)\n",
    "    dates.append((d1,d2))\n",
    "dates[-1] = (dates[-1][0], str(date_range[1]))\n",
    "\n",
    "dates"
   ]
  },
  {
   "cell_type": "markdown",
   "metadata": {},
   "source": [
    "#### API and series information"
   ]
  },
  {
   "cell_type": "code",
   "execution_count": 3,
   "metadata": {
    "collapsed": true
   },
   "outputs": [],
   "source": [
    "# URL, key, and headers same as above\n",
    "url = 'https://api.bls.gov/publicAPI/v2/timeseries/data/'\n",
    "key = '?registrationkey={}'.format(config.bls_key)\n",
    "headers = {'Content-type': 'application/json'}\n",
    "\n",
    "# This time, store the series into a dictionary with description\n",
    "series_dict = {'LNS11000006': 'Employment - Black',\n",
    "               'LNS11000009': 'Employment - Hispanic',\n",
    "               'LNS11000003': 'Employment - White',\n",
    "               'LNS14000006': 'Unemp Rate - Black',\n",
    "               'LNS14000009': 'Unemp Rate - Hispanic',\n",
    "               'LNS14000003': 'Unemp Rate - White',\n",
    "               'LNS11000018': 'Employment - Black - 16-19',\n",
    "               'LNS11000021': 'Employment - Hispanic - 16-19',\n",
    "               'LNS11000015': 'Employment - White - 16-19',\n",
    "               'LNS14000018': 'Unemp Rate - Black - 16-19',\n",
    "               'LNS14000021': 'Unemp Rate - Hispanic - 16-19',\n",
    "               'LNS14000015': 'Unemp Rate - White - 16-19'}\n",
    "\n",
    "df = pd.DataFrame()  # blank pandas dataframe to be filled later"
   ]
  },
  {
   "cell_type": "markdown",
   "metadata": {},
   "source": [
    "#### Make requests for each date range in dates"
   ]
  },
  {
   "cell_type": "code",
   "execution_count": 4,
   "metadata": {
    "collapsed": false
   },
   "outputs": [],
   "source": [
    "for start, end in dates: \n",
    "    \n",
    "    # The data sent in the post request now includes a start and end year\n",
    "    data = json.dumps({\"seriesid\":series_dict.keys(), \"startyear\":start, \"endyear\":end})\n",
    "    p = requests.post('{}{}'.format(url, key), headers=headers, data=data).json()\n",
    "    d = {} # New dictionary to be filled with data\n",
    "    for series in p['Results']['series']:\n",
    "        s = series['seriesID']  # Shorten name to 's'\n",
    "        \n",
    "        # Add dictionary entry with series and reverse series order\n",
    "        d[s] = pd.DataFrame(series['data']).iloc[::-1]\n",
    "        if len(series['data']) > 0:  # This if/else is to allow for series of different lengths\n",
    "            \n",
    "            # Convert BLS API dates to readable format (YYYY-MM-DD)\n",
    "            d[s]['date'] = pd.to_datetime(d[s]['period'] + ' ' + d[s]['year'])\n",
    "            \n",
    "            # Keep only date and series values\n",
    "            d[s] = d[s].set_index('date')['value'].astype(float)\n",
    "            \n",
    "            # Rename and identify values as floating point numbers\n",
    "            d[s] = d[s].rename(series_dict[s])\n",
    "        else:  # If blank, leave as a blank pandas series\n",
    "            d[s]['date'] = d[s]['value'] = pd.Series()\n",
    "            d[s] = d[s]['value'].rename(series_dict[s])\n",
    "            \n",
    "    # Combine the dataframes for each range of years into one by appending        \n",
    "    df = df.append(pd.concat([d[k] for k in series_dict.keys()], axis=1))"
   ]
  },
  {
   "cell_type": "markdown",
   "metadata": {},
   "source": [
    "View the results"
   ]
  },
  {
   "cell_type": "code",
   "execution_count": 8,
   "metadata": {
    "collapsed": false
   },
   "outputs": [
    {
     "data": {
      "text/html": [
       "<div>\n",
       "<table border=\"1\" class=\"dataframe\">\n",
       "  <thead>\n",
       "    <tr style=\"text-align: right;\">\n",
       "      <th></th>\n",
       "      <th>Unemp Rate - Hispanic</th>\n",
       "      <th>Employment - White - 16-19</th>\n",
       "      <th>Unemp Rate - White - 16-19</th>\n",
       "      <th>Unemp Rate - Black - 16-19</th>\n",
       "      <th>Unemp Rate - Black</th>\n",
       "      <th>Unemp Rate - White</th>\n",
       "      <th>Employment - Hispanic - 16-19</th>\n",
       "      <th>Employment - White</th>\n",
       "      <th>Employment - Black</th>\n",
       "      <th>Employment - Hispanic</th>\n",
       "      <th>Employment - Black - 16-19</th>\n",
       "      <th>Unemp Rate - Hispanic - 16-19</th>\n",
       "    </tr>\n",
       "    <tr>\n",
       "      <th>date</th>\n",
       "      <th></th>\n",
       "      <th></th>\n",
       "      <th></th>\n",
       "      <th></th>\n",
       "      <th></th>\n",
       "      <th></th>\n",
       "      <th></th>\n",
       "      <th></th>\n",
       "      <th></th>\n",
       "      <th></th>\n",
       "      <th></th>\n",
       "      <th></th>\n",
       "    </tr>\n",
       "  </thead>\n",
       "  <tbody>\n",
       "    <tr>\n",
       "      <th>2017-05-01</th>\n",
       "      <td>-0.235294</td>\n",
       "      <td>-0.022479</td>\n",
       "      <td>-0.264516</td>\n",
       "      <td>-0.096026</td>\n",
       "      <td>-0.264706</td>\n",
       "      <td>-0.212766</td>\n",
       "      <td>0.108132</td>\n",
       "      <td>0.00555</td>\n",
       "      <td>0.03155</td>\n",
       "      <td>0.040729</td>\n",
       "      <td>0.105337</td>\n",
       "      <td>-0.256684</td>\n",
       "    </tr>\n",
       "  </tbody>\n",
       "</table>\n",
       "</div>"
      ],
      "text/plain": [
       "            Unemp Rate - Hispanic  Employment - White - 16-19  \\\n",
       "date                                                            \n",
       "2017-05-01              -0.235294                   -0.022479   \n",
       "\n",
       "            Unemp Rate - White - 16-19  Unemp Rate - Black - 16-19  \\\n",
       "date                                                                 \n",
       "2017-05-01                   -0.264516                   -0.096026   \n",
       "\n",
       "            Unemp Rate - Black  Unemp Rate - White  \\\n",
       "date                                                 \n",
       "2017-05-01           -0.264706           -0.212766   \n",
       "\n",
       "            Employment - Hispanic - 16-19  Employment - White  \\\n",
       "date                                                            \n",
       "2017-05-01                       0.108132             0.00555   \n",
       "\n",
       "            Employment - Black  Employment - Hispanic  \\\n",
       "date                                                    \n",
       "2017-05-01             0.03155               0.040729   \n",
       "\n",
       "            Employment - Black - 16-19  Unemp Rate - Hispanic - 16-19  \n",
       "date                                                                   \n",
       "2017-05-01                    0.105337                      -0.256684  "
      ]
     },
     "execution_count": 8,
     "metadata": {},
     "output_type": "execute_result"
    }
   ],
   "source": [
    "df.pct_change(24).tail(1)"
   ]
  }
 ],
 "metadata": {
  "kernelspec": {
   "display_name": "Python 2",
   "language": "python",
   "name": "python2"
  },
  "language_info": {
   "codemirror_mode": {
    "name": "ipython",
    "version": 2
   },
   "file_extension": ".py",
   "mimetype": "text/x-python",
   "name": "python",
   "nbconvert_exporter": "python",
   "pygments_lexer": "ipython2",
   "version": "2.7.13"
  }
 },
 "nbformat": 4,
 "nbformat_minor": 2
}
