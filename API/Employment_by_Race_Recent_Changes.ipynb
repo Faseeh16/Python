{
 "cells": [
  {
   "cell_type": "markdown",
   "metadata": {},
   "source": [
    "# Changes to Labor Market Racial Gap\n",
    "\n",
    "Request BLS data on the unemployment rate and total employment for black, Hispanic, and white American, including youth (age 16-19). Examine the two year change in these figures. "
   ]
  },
  {
   "cell_type": "code",
   "execution_count": 12,
   "metadata": {
    "collapsed": true
   },
   "outputs": [],
   "source": [
    "# Preliminaries (Python 2.7)\n",
    "import requests\n",
    "import json\n",
    "import config # file called config.py with my API key\n",
    "import pandas as pd\n",
    "\n",
    "import math\n",
    "\n",
    "%matplotlib inline"
   ]
  },
  {
   "cell_type": "markdown",
   "metadata": {},
   "source": [
    "#### Set the date range \n",
    "\n",
    "Provide a start and end year to be used by the API."
   ]
  },
  {
   "cell_type": "code",
   "execution_count": 13,
   "metadata": {
    "collapsed": false
   },
   "outputs": [
    {
     "data": {
      "text/plain": [
       "[('2015', '2017')]"
      ]
     },
     "execution_count": 13,
     "metadata": {},
     "output_type": "execute_result"
    }
   ],
   "source": [
    "# Include the start and end year here\n",
    "date_range = (2015, 2017)\n",
    "\n",
    "# Divide the date range into BLS-API-friendly length requests\n",
    "req_no = int(math.ceil((date_range[1] - date_range[0]) / 10.0))\n",
    "dates = []\n",
    "for i in range(0,req_no):\n",
    "    d1 = str(date_range[0]+i*10)\n",
    "    d2 = str(date_range[0]+i*10+9)\n",
    "    dates.append((d1,d2))\n",
    "dates[-1] = (dates[-1][0], str(date_range[1]))\n",
    "\n",
    "dates"
   ]
  },
  {
   "cell_type": "markdown",
   "metadata": {},
   "source": [
    "#### API and series information\n",
    "\n",
    "Identify the series of interest and add headers to indicate json data should be read."
   ]
  },
  {
   "cell_type": "code",
   "execution_count": 14,
   "metadata": {
    "collapsed": true
   },
   "outputs": [],
   "source": [
    "# URL, key, and headers same as above\n",
    "url = 'https://api.bls.gov/publicAPI/v2/timeseries/data/'\n",
    "key = '?registrationkey={}'.format(config.bls_key)\n",
    "headers = {'Content-type': 'application/json'}\n",
    "\n",
    "# This time, store the series into a dictionary with description\n",
    "series_dict = {'LNS11000000': 'Overall Employment',\n",
    "               'LNS14000000': 'Overall Employment Rate',\n",
    "               'LNS11000006': 'Employment - Black',\n",
    "               'LNS11000009': 'Employment - Hispanic',\n",
    "               'LNS11000003': 'Employment - White',\n",
    "               'LNS14000006': 'Unemp Rate - Black',\n",
    "               'LNS14000009': 'Unemp Rate - Hispanic',\n",
    "               'LNS14000003': 'Unemp Rate - White',\n",
    "               'LNS11000018': 'Employment - Black - 16-19',\n",
    "               'LNS11000021': 'Employment - Hispanic - 16-19',\n",
    "               'LNS11000015': 'Employment - White - 16-19',\n",
    "               'LNS14000018': 'Unemp Rate - Black - 16-19',\n",
    "               'LNS14000021': 'Unemp Rate - Hispanic - 16-19',\n",
    "               'LNS14000015': 'Unemp Rate - White - 16-19'}\n",
    "\n",
    "df = pd.DataFrame()  # blank pandas dataframe to be filled later"
   ]
  },
  {
   "cell_type": "markdown",
   "metadata": {},
   "source": [
    "#### Make requests for each date range in dates"
   ]
  },
  {
   "cell_type": "code",
   "execution_count": 15,
   "metadata": {
    "collapsed": false
   },
   "outputs": [],
   "source": [
    "for start, end in dates: \n",
    "    \n",
    "    # The data sent in the post request now includes a start and end year\n",
    "    data = json.dumps({\"seriesid\":series_dict.keys(), \"startyear\":start, \"endyear\":end})\n",
    "    p = requests.post('{}{}'.format(url, key), headers=headers, data=data).json()\n",
    "    d = {} # New dictionary to be filled with data\n",
    "    for series in p['Results']['series']:\n",
    "        s = series['seriesID']  # Shorten name to 's'\n",
    "        \n",
    "        # Add dictionary entry with series and reverse series order\n",
    "        d[s] = pd.DataFrame(series['data']).iloc[::-1]\n",
    "        if len(series['data']) > 0:  # This if/else is to allow for series of different lengths\n",
    "            \n",
    "            # Convert BLS API dates to readable format (YYYY-MM-DD)\n",
    "            d[s]['date'] = pd.to_datetime(d[s]['period'] + ' ' + d[s]['year'])\n",
    "            \n",
    "            # Keep only date and series values\n",
    "            d[s] = d[s].set_index('date')['value'].astype(float)\n",
    "            \n",
    "            # Rename and identify values as floating point numbers\n",
    "            d[s] = d[s].rename(series_dict[s])\n",
    "        else:  # If blank, leave as a blank pandas series\n",
    "            d[s]['date'] = d[s]['value'] = pd.Series()\n",
    "            d[s] = d[s]['value'].rename(series_dict[s])\n",
    "            \n",
    "    # Combine the dataframes for each range of years into one by appending        \n",
    "    df = df.append(pd.concat([d[k] for k in series_dict.keys()], axis=1))"
   ]
  },
  {
   "cell_type": "markdown",
   "metadata": {},
   "source": [
    "#### View the results"
   ]
  },
  {
   "cell_type": "code",
   "execution_count": 21,
   "metadata": {
    "collapsed": false
   },
   "outputs": [
    {
     "data": {
      "text/html": [
       "<div>\n",
       "<table border=\"1\" class=\"dataframe\">\n",
       "  <thead>\n",
       "    <tr style=\"text-align: right;\">\n",
       "      <th></th>\n",
       "      <th>Unemp Rate - Hispanic</th>\n",
       "      <th>Employment - White - 16-19</th>\n",
       "      <th>Unemp Rate - White - 16-19</th>\n",
       "      <th>Unemp Rate - Black - 16-19</th>\n",
       "      <th>Unemp Rate - Black</th>\n",
       "      <th>Overall Employment Rate</th>\n",
       "      <th>Unemp Rate - White</th>\n",
       "      <th>Employment - Hispanic - 16-19</th>\n",
       "      <th>Overall Employment</th>\n",
       "      <th>Employment - White</th>\n",
       "      <th>Employment - Black</th>\n",
       "      <th>Employment - Hispanic</th>\n",
       "      <th>Employment - Black - 16-19</th>\n",
       "      <th>Unemp Rate - Hispanic - 16-19</th>\n",
       "    </tr>\n",
       "    <tr>\n",
       "      <th>date</th>\n",
       "      <th></th>\n",
       "      <th></th>\n",
       "      <th></th>\n",
       "      <th></th>\n",
       "      <th></th>\n",
       "      <th></th>\n",
       "      <th></th>\n",
       "      <th></th>\n",
       "      <th></th>\n",
       "      <th></th>\n",
       "      <th></th>\n",
       "      <th></th>\n",
       "      <th></th>\n",
       "      <th></th>\n",
       "    </tr>\n",
       "  </thead>\n",
       "  <tbody>\n",
       "    <tr>\n",
       "      <th>2017-06-01</th>\n",
       "      <td>-1.9</td>\n",
       "      <td>146.0</td>\n",
       "      <td>-3.9</td>\n",
       "      <td>-10.2</td>\n",
       "      <td>-2.5</td>\n",
       "      <td>-0.9</td>\n",
       "      <td>-0.8</td>\n",
       "      <td>107.0</td>\n",
       "      <td>3152.0</td>\n",
       "      <td>1266.0</td>\n",
       "      <td>619.0</td>\n",
       "      <td>1133.0</td>\n",
       "      <td>49.0</td>\n",
       "      <td>-7.1</td>\n",
       "    </tr>\n",
       "  </tbody>\n",
       "</table>\n",
       "</div>"
      ],
      "text/plain": [
       "            Unemp Rate - Hispanic  Employment - White - 16-19  \\\n",
       "date                                                            \n",
       "2017-06-01                   -1.9                       146.0   \n",
       "\n",
       "            Unemp Rate - White - 16-19  Unemp Rate - Black - 16-19  \\\n",
       "date                                                                 \n",
       "2017-06-01                        -3.9                       -10.2   \n",
       "\n",
       "            Unemp Rate - Black  Overall Employment Rate  Unemp Rate - White  \\\n",
       "date                                                                          \n",
       "2017-06-01                -2.5                     -0.9                -0.8   \n",
       "\n",
       "            Employment - Hispanic - 16-19  Overall Employment  \\\n",
       "date                                                            \n",
       "2017-06-01                          107.0              3152.0   \n",
       "\n",
       "            Employment - White  Employment - Black  Employment - Hispanic  \\\n",
       "date                                                                        \n",
       "2017-06-01              1266.0               619.0                 1133.0   \n",
       "\n",
       "            Employment - Black - 16-19  Unemp Rate - Hispanic - 16-19  \n",
       "date                                                                   \n",
       "2017-06-01                        49.0                           -7.1  "
      ]
     },
     "execution_count": 21,
     "metadata": {},
     "output_type": "execute_result"
    }
   ],
   "source": [
    "df.diff(24).tail(1)"
   ]
  },
  {
   "cell_type": "code",
   "execution_count": 22,
   "metadata": {
    "collapsed": false
   },
   "outputs": [
    {
     "data": {
      "text/html": [
       "<div>\n",
       "<table border=\"1\" class=\"dataframe\">\n",
       "  <thead>\n",
       "    <tr style=\"text-align: right;\">\n",
       "      <th></th>\n",
       "      <th>Unemp Rate - Hispanic</th>\n",
       "      <th>Employment - White - 16-19</th>\n",
       "      <th>Unemp Rate - White - 16-19</th>\n",
       "      <th>Unemp Rate - Black - 16-19</th>\n",
       "      <th>Unemp Rate - Black</th>\n",
       "      <th>Overall Employment Rate</th>\n",
       "      <th>Unemp Rate - White</th>\n",
       "      <th>Employment - Hispanic - 16-19</th>\n",
       "      <th>Overall Employment</th>\n",
       "      <th>Employment - White</th>\n",
       "      <th>Employment - Black</th>\n",
       "      <th>Employment - Hispanic</th>\n",
       "      <th>Employment - Black - 16-19</th>\n",
       "      <th>Unemp Rate - Hispanic - 16-19</th>\n",
       "    </tr>\n",
       "    <tr>\n",
       "      <th>date</th>\n",
       "      <th></th>\n",
       "      <th></th>\n",
       "      <th></th>\n",
       "      <th></th>\n",
       "      <th></th>\n",
       "      <th></th>\n",
       "      <th></th>\n",
       "      <th></th>\n",
       "      <th></th>\n",
       "      <th></th>\n",
       "      <th></th>\n",
       "      <th></th>\n",
       "      <th></th>\n",
       "      <th></th>\n",
       "    </tr>\n",
       "  </thead>\n",
       "  <tbody>\n",
       "    <tr>\n",
       "      <th>2017-06-01</th>\n",
       "      <td>-0.283582</td>\n",
       "      <td>0.032416</td>\n",
       "      <td>-0.25</td>\n",
       "      <td>-0.325879</td>\n",
       "      <td>-0.260417</td>\n",
       "      <td>-0.169811</td>\n",
       "      <td>-0.173913</td>\n",
       "      <td>0.090909</td>\n",
       "      <td>0.020077</td>\n",
       "      <td>0.010241</td>\n",
       "      <td>0.031935</td>\n",
       "      <td>0.043315</td>\n",
       "      <td>0.067586</td>\n",
       "      <td>-0.342995</td>\n",
       "    </tr>\n",
       "  </tbody>\n",
       "</table>\n",
       "</div>"
      ],
      "text/plain": [
       "            Unemp Rate - Hispanic  Employment - White - 16-19  \\\n",
       "date                                                            \n",
       "2017-06-01              -0.283582                    0.032416   \n",
       "\n",
       "            Unemp Rate - White - 16-19  Unemp Rate - Black - 16-19  \\\n",
       "date                                                                 \n",
       "2017-06-01                       -0.25                   -0.325879   \n",
       "\n",
       "            Unemp Rate - Black  Overall Employment Rate  Unemp Rate - White  \\\n",
       "date                                                                          \n",
       "2017-06-01           -0.260417                -0.169811           -0.173913   \n",
       "\n",
       "            Employment - Hispanic - 16-19  Overall Employment  \\\n",
       "date                                                            \n",
       "2017-06-01                       0.090909            0.020077   \n",
       "\n",
       "            Employment - White  Employment - Black  Employment - Hispanic  \\\n",
       "date                                                                        \n",
       "2017-06-01            0.010241            0.031935               0.043315   \n",
       "\n",
       "            Employment - Black - 16-19  Unemp Rate - Hispanic - 16-19  \n",
       "date                                                                   \n",
       "2017-06-01                    0.067586                      -0.342995  "
      ]
     },
     "execution_count": 22,
     "metadata": {},
     "output_type": "execute_result"
    }
   ],
   "source": [
    "df.pct_change(24).tail(1)"
   ]
  }
 ],
 "metadata": {
  "kernelspec": {
   "display_name": "Python 2",
   "language": "python",
   "name": "python2"
  },
  "language_info": {
   "codemirror_mode": {
    "name": "ipython",
    "version": 2
   },
   "file_extension": ".py",
   "mimetype": "text/x-python",
   "name": "python",
   "nbconvert_exporter": "python",
   "pygments_lexer": "ipython2",
   "version": "2.7.13"
  }
 },
 "nbformat": 4,
 "nbformat_minor": 2
}
