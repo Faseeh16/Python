{
 "cells": [
  {
   "cell_type": "markdown",
   "metadata": {},
   "source": [
    "### Obtaining financial data for Amazon"
   ]
  },
  {
   "cell_type": "code",
   "execution_count": 1,
   "metadata": {
    "collapsed": true
   },
   "outputs": [],
   "source": [
    "import requests\n",
    "import config\n",
    "import pandas as pd\n",
    "from StringIO import StringIO"
   ]
  },
  {
   "cell_type": "markdown",
   "metadata": {},
   "source": [
    "#### Company list"
   ]
  },
  {
   "cell_type": "code",
   "execution_count": 2,
   "metadata": {
    "collapsed": false
   },
   "outputs": [],
   "source": [
    "base = 'https://api.usfundamentals.com/v1/'\n",
    "param = 'companies/xbrl?&format=json&token={}'.format(config.us_fun_key)"
   ]
  },
  {
   "cell_type": "code",
   "execution_count": 3,
   "metadata": {
    "collapsed": true
   },
   "outputs": [],
   "source": [
    "r = requests.get('{}{}'.format(base, param)).json()"
   ]
  },
  {
   "cell_type": "code",
   "execution_count": 4,
   "metadata": {
    "collapsed": true
   },
   "outputs": [],
   "source": [
    "companies = pd.DataFrame(r).set_index('name_latest')['company_id'].to_dict()"
   ]
  },
  {
   "cell_type": "markdown",
   "metadata": {},
   "source": [
    "#### List of Amazon Indicators"
   ]
  },
  {
   "cell_type": "code",
   "execution_count": 73,
   "metadata": {
    "collapsed": false
   },
   "outputs": [],
   "source": [
    "indicators = pd.read_csv(StringIO(r.text))['indicator_id'].unique()"
   ]
  },
  {
   "cell_type": "code",
   "execution_count": 74,
   "metadata": {
    "collapsed": false
   },
   "outputs": [
    {
     "data": {
      "text/plain": [
       "array(['EarningsPerShareDiluted'], dtype=object)"
      ]
     },
     "execution_count": 74,
     "metadata": {},
     "output_type": "execute_result"
    }
   ],
   "source": [
    "indicators"
   ]
  },
  {
   "cell_type": "markdown",
   "metadata": {},
   "source": [
    "#### Earnings per share"
   ]
  },
  {
   "cell_type": "code",
   "execution_count": 54,
   "metadata": {
    "collapsed": true
   },
   "outputs": [],
   "source": [
    "base = 'https://api.usfundamentals.com/v1/indicators/xbrl?'\n",
    "ind = 'indicators=EarningsPerShareDiluted&'\n",
    "param = '{}companies=1018724&frequency=q&token={}'.format(ind, config.us_fun_key)"
   ]
  },
  {
   "cell_type": "code",
   "execution_count": 55,
   "metadata": {
    "collapsed": false
   },
   "outputs": [],
   "source": [
    "r = requests.get('{}{}'.format(base, param))"
   ]
  },
  {
   "cell_type": "code",
   "execution_count": 67,
   "metadata": {
    "collapsed": false
   },
   "outputs": [],
   "source": [
    "EPS = pd.read_csv(StringIO(r.text)).T[2:]"
   ]
  },
  {
   "cell_type": "code",
   "execution_count": 68,
   "metadata": {
    "collapsed": false
   },
   "outputs": [],
   "source": [
    "EPS['date'] = EPS.index.map(lambda x: pd.Period(x).end_time.date())\n",
    "EPS = EPS.set_index('date').rolling(4).sum()"
   ]
  },
  {
   "cell_type": "markdown",
   "metadata": {},
   "source": [
    "### Stock price history"
   ]
  },
  {
   "cell_type": "code",
   "execution_count": 10,
   "metadata": {
    "collapsed": false
   },
   "outputs": [],
   "source": [
    "base = 'https://www.quandl.com/api/v3/datatables/WIKI/PRICES.json?'\n",
    "param = 'ticker=AMZN&qopts.columns=date,close&api_key={}'.format(config.quandl_key)"
   ]
  },
  {
   "cell_type": "code",
   "execution_count": 11,
   "metadata": {
    "collapsed": true
   },
   "outputs": [],
   "source": [
    "r = requests.get('{}{}'.format(base, param)).json()"
   ]
  },
  {
   "cell_type": "code",
   "execution_count": 46,
   "metadata": {
    "collapsed": false
   },
   "outputs": [],
   "source": [
    "df = pd.DataFrame(r['datatable']['data']).set_index(0)"
   ]
  },
  {
   "cell_type": "code",
   "execution_count": 49,
   "metadata": {
    "collapsed": false
   },
   "outputs": [],
   "source": [
    "idx = pd.date_range(df.index[0], df.index[-1])\n",
    "df.index = pd.DatetimeIndex(df.index)\n",
    "df = df.reindex(idx, fill_value=None).fillna(method='ffill')"
   ]
  },
  {
   "cell_type": "code",
   "execution_count": 70,
   "metadata": {
    "collapsed": false
   },
   "outputs": [],
   "source": [
    "PE = EPS.merge(df, left_index=True, right_index=True, how='left')"
   ]
  },
  {
   "cell_type": "code",
   "execution_count": 71,
   "metadata": {
    "collapsed": true
   },
   "outputs": [],
   "source": [
    "PE['PE_ratio'] = PE[1] / PE[0]"
   ]
  },
  {
   "cell_type": "code",
   "execution_count": 72,
   "metadata": {
    "collapsed": false
   },
   "outputs": [
    {
     "data": {
      "text/html": [
       "<div>\n",
       "<table border=\"1\" class=\"dataframe\">\n",
       "  <thead>\n",
       "    <tr style=\"text-align: right;\">\n",
       "      <th></th>\n",
       "      <th>0</th>\n",
       "      <th>1</th>\n",
       "      <th>PE_ratio</th>\n",
       "    </tr>\n",
       "    <tr>\n",
       "      <th>date</th>\n",
       "      <th></th>\n",
       "      <th></th>\n",
       "      <th></th>\n",
       "    </tr>\n",
       "  </thead>\n",
       "  <tbody>\n",
       "    <tr>\n",
       "      <th>2011-03-31</th>\n",
       "      <td>NaN</td>\n",
       "      <td>180.130</td>\n",
       "      <td>NaN</td>\n",
       "    </tr>\n",
       "    <tr>\n",
       "      <th>2011-06-30</th>\n",
       "      <td>NaN</td>\n",
       "      <td>204.490</td>\n",
       "      <td>NaN</td>\n",
       "    </tr>\n",
       "    <tr>\n",
       "      <th>2011-09-30</th>\n",
       "      <td>NaN</td>\n",
       "      <td>216.230</td>\n",
       "      <td>NaN</td>\n",
       "    </tr>\n",
       "    <tr>\n",
       "      <th>2011-12-31</th>\n",
       "      <td>1.37</td>\n",
       "      <td>173.100</td>\n",
       "      <td>126.350365</td>\n",
       "    </tr>\n",
       "    <tr>\n",
       "      <th>2012-03-31</th>\n",
       "      <td>1.21</td>\n",
       "      <td>202.510</td>\n",
       "      <td>167.363636</td>\n",
       "    </tr>\n",
       "    <tr>\n",
       "      <th>2012-06-30</th>\n",
       "      <td>0.81</td>\n",
       "      <td>228.350</td>\n",
       "      <td>281.913580</td>\n",
       "    </tr>\n",
       "    <tr>\n",
       "      <th>2012-09-30</th>\n",
       "      <td>0.07</td>\n",
       "      <td>254.320</td>\n",
       "      <td>3633.142857</td>\n",
       "    </tr>\n",
       "    <tr>\n",
       "      <th>2012-12-31</th>\n",
       "      <td>-0.09</td>\n",
       "      <td>250.870</td>\n",
       "      <td>-2787.444444</td>\n",
       "    </tr>\n",
       "    <tr>\n",
       "      <th>2013-03-31</th>\n",
       "      <td>-0.19</td>\n",
       "      <td>266.490</td>\n",
       "      <td>-1402.578947</td>\n",
       "    </tr>\n",
       "    <tr>\n",
       "      <th>2013-06-30</th>\n",
       "      <td>-0.22</td>\n",
       "      <td>277.690</td>\n",
       "      <td>-1262.227273</td>\n",
       "    </tr>\n",
       "    <tr>\n",
       "      <th>2013-09-30</th>\n",
       "      <td>0.29</td>\n",
       "      <td>312.640</td>\n",
       "      <td>1078.068966</td>\n",
       "    </tr>\n",
       "    <tr>\n",
       "      <th>2013-12-31</th>\n",
       "      <td>0.59</td>\n",
       "      <td>398.790</td>\n",
       "      <td>675.915254</td>\n",
       "    </tr>\n",
       "    <tr>\n",
       "      <th>2014-03-31</th>\n",
       "      <td>0.64</td>\n",
       "      <td>336.365</td>\n",
       "      <td>525.570312</td>\n",
       "    </tr>\n",
       "    <tr>\n",
       "      <th>2014-06-30</th>\n",
       "      <td>0.39</td>\n",
       "      <td>324.780</td>\n",
       "      <td>832.769231</td>\n",
       "    </tr>\n",
       "    <tr>\n",
       "      <th>2014-09-30</th>\n",
       "      <td>-0.47</td>\n",
       "      <td>322.440</td>\n",
       "      <td>-686.042553</td>\n",
       "    </tr>\n",
       "    <tr>\n",
       "      <th>2014-12-31</th>\n",
       "      <td>-0.52</td>\n",
       "      <td>310.350</td>\n",
       "      <td>-596.826923</td>\n",
       "    </tr>\n",
       "    <tr>\n",
       "      <th>2015-03-31</th>\n",
       "      <td>-0.87</td>\n",
       "      <td>372.100</td>\n",
       "      <td>-427.701149</td>\n",
       "    </tr>\n",
       "    <tr>\n",
       "      <th>2015-06-30</th>\n",
       "      <td>-0.41</td>\n",
       "      <td>434.090</td>\n",
       "      <td>-1058.756098</td>\n",
       "    </tr>\n",
       "    <tr>\n",
       "      <th>2015-09-30</th>\n",
       "      <td>0.71</td>\n",
       "      <td>511.670</td>\n",
       "      <td>720.661972</td>\n",
       "    </tr>\n",
       "    <tr>\n",
       "      <th>2015-12-31</th>\n",
       "      <td>1.25</td>\n",
       "      <td>675.890</td>\n",
       "      <td>540.712000</td>\n",
       "    </tr>\n",
       "    <tr>\n",
       "      <th>2016-03-31</th>\n",
       "      <td>2.44</td>\n",
       "      <td>593.640</td>\n",
       "      <td>243.295082</td>\n",
       "    </tr>\n",
       "    <tr>\n",
       "      <th>2016-06-30</th>\n",
       "      <td>4.03</td>\n",
       "      <td>715.620</td>\n",
       "      <td>177.573201</td>\n",
       "    </tr>\n",
       "    <tr>\n",
       "      <th>2016-09-30</th>\n",
       "      <td>4.38</td>\n",
       "      <td>837.310</td>\n",
       "      <td>191.166667</td>\n",
       "    </tr>\n",
       "    <tr>\n",
       "      <th>2016-12-31</th>\n",
       "      <td>4.90</td>\n",
       "      <td>749.870</td>\n",
       "      <td>153.034694</td>\n",
       "    </tr>\n",
       "    <tr>\n",
       "      <th>2017-03-31</th>\n",
       "      <td>5.31</td>\n",
       "      <td>886.540</td>\n",
       "      <td>166.956685</td>\n",
       "    </tr>\n",
       "  </tbody>\n",
       "</table>\n",
       "</div>"
      ],
      "text/plain": [
       "               0        1     PE_ratio\n",
       "date                                  \n",
       "2011-03-31   NaN  180.130          NaN\n",
       "2011-06-30   NaN  204.490          NaN\n",
       "2011-09-30   NaN  216.230          NaN\n",
       "2011-12-31  1.37  173.100   126.350365\n",
       "2012-03-31  1.21  202.510   167.363636\n",
       "2012-06-30  0.81  228.350   281.913580\n",
       "2012-09-30  0.07  254.320  3633.142857\n",
       "2012-12-31 -0.09  250.870 -2787.444444\n",
       "2013-03-31 -0.19  266.490 -1402.578947\n",
       "2013-06-30 -0.22  277.690 -1262.227273\n",
       "2013-09-30  0.29  312.640  1078.068966\n",
       "2013-12-31  0.59  398.790   675.915254\n",
       "2014-03-31  0.64  336.365   525.570312\n",
       "2014-06-30  0.39  324.780   832.769231\n",
       "2014-09-30 -0.47  322.440  -686.042553\n",
       "2014-12-31 -0.52  310.350  -596.826923\n",
       "2015-03-31 -0.87  372.100  -427.701149\n",
       "2015-06-30 -0.41  434.090 -1058.756098\n",
       "2015-09-30  0.71  511.670   720.661972\n",
       "2015-12-31  1.25  675.890   540.712000\n",
       "2016-03-31  2.44  593.640   243.295082\n",
       "2016-06-30  4.03  715.620   177.573201\n",
       "2016-09-30  4.38  837.310   191.166667\n",
       "2016-12-31  4.90  749.870   153.034694\n",
       "2017-03-31  5.31  886.540   166.956685"
      ]
     },
     "execution_count": 72,
     "metadata": {},
     "output_type": "execute_result"
    }
   ],
   "source": [
    "PE"
   ]
  }
 ],
 "metadata": {
  "kernelspec": {
   "display_name": "Python 2",
   "language": "python",
   "name": "python2"
  },
  "language_info": {
   "codemirror_mode": {
    "name": "ipython",
    "version": 2
   },
   "file_extension": ".py",
   "mimetype": "text/x-python",
   "name": "python",
   "nbconvert_exporter": "python",
   "pygments_lexer": "ipython2",
   "version": "2.7.13"
  }
 },
 "nbformat": 4,
 "nbformat_minor": 2
}
