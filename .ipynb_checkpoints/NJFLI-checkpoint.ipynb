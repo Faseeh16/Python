{
 "cells": [
  {
   "cell_type": "markdown",
   "metadata": {},
   "source": [
    "# New Jersey Family Leave Insurance\n",
    "## Survey Results Tabulation\n",
    "-----\n",
    "\n",
    "*September 26, 2017*\n",
    "\n",
    "\n"
   ]
  },
  {
   "cell_type": "code",
   "execution_count": 1,
   "metadata": {
    "collapsed": true
   },
   "outputs": [],
   "source": [
    "import pandas as pd\n",
    "import re"
   ]
  },
  {
   "cell_type": "code",
   "execution_count": 2,
   "metadata": {
    "collapsed": true
   },
   "outputs": [],
   "source": [
    "df = pd.read_csv('data.csv').set_index('Survey_Number')"
   ]
  },
  {
   "cell_type": "markdown",
   "metadata": {},
   "source": [
    "## Convert main questions to numeric"
   ]
  },
  {
   "cell_type": "code",
   "execution_count": 3,
   "metadata": {
    "collapsed": true
   },
   "outputs": [],
   "source": [
    "fs_keywords = ['Restaurant', 'restaurant', 'sushi', 'Diner', 'Deli', 'Bagel', 'Burger', 'olive',\n",
    "               'Ice cream', 'Coffee', 'Café', 'Pastry', 'Bakery', 'Pizz', 'grocery', 'spice', 'wine']\n",
    "fs_pattern = '|'.join(fs_keywords)\n",
    "cs_keywords = ['Therapist', 'Accountant', 'Hair', 'Barber', 'Attorney', 'Financial', 'Yoga', \n",
    "               'bodyshop', 'grooming', 'Marketing', 'Photo', 'Marketing', 'Laundro', 'Contractor',\n",
    "               'Consultant', 'Design', 'Advocacy', 'video', 'tutor', 'coach', 'Construction',\n",
    "               'repair', 'broker', 'tatto', 'YMCA']\n",
    "cs_pattern = '|'.join(cs_keywords)"
   ]
  },
  {
   "cell_type": "code",
   "execution_count": 4,
   "metadata": {
    "collapsed": true
   },
   "outputs": [],
   "source": [
    "temp = {True:1, False:0}\n",
    "# Identify restaurants\n",
    "df['ind_FSD'] = df['Bus_type'].str.contains(fs_pattern, case=False).map(temp)\n",
    "# Identify consumer services\n",
    "df['ind_CS'] = df['Bus_type'].str.contains(cs_pattern, case=False).map(temp)\n",
    "# Identify other businesses \n",
    "df['ind_OTH'] = (df['ind_FSD'] == 0) & (df['ind_CS'] == 0)\n",
    "df['ind_OTH'] = df['ind_OTH'].map(temp)\n",
    "# Columns for firm sizes\n",
    "df['No_employees'] = (df['Emp_number'] == 0)\n",
    "df['No_employees'] = df['No_employees'].map(temp)\n",
    "df['1-5_employees'] = (df['Emp_number'] > 0) & (df['Emp_number'] < 6)\n",
    "df['1-5_employees'] = df['1-5_employees'].map(temp)\n",
    "df['6-plus_employees'] = (df['Emp_number'] > 5)\n",
    "df['6-plus_employees'] = df['6-plus_employees'].map(temp)\n",
    "# Identify cases where poster is mentioned\n",
    "df['poster'] = df.apply(lambda r: r.str.contains('poster', case=False).any(), axis=1).map(temp)\n",
    "# Idenify businesses reporting TDI covered\n",
    "df['TDI_covered'] = df['TDI_cover'] == '1 - Yes'\n",
    "df['TDI_covered'] = df['TDI_covered'].map(temp)\n",
    "# Idenify businesses reporting FLI awareness\n",
    "df['FLI_aware_yes'] = df['FLI_aware'] == '1 - Yes'\n",
    "df['FLI_aware_yes'] = df['FLI_aware_yes'].map(temp)\n",
    "# Idenify businesses reporting FLI awareness for parental bonding with child\n",
    "df['FLI_aware_parents_yes'] = df['FLI_aware_parents'] == '1 - Yes'\n",
    "df['FLI_aware_parents_yes'] = df['FLI_aware_parents_yes'].map(temp)\n",
    "# Idenify businesses reporting FLI awareness for care for ill family member\n",
    "df['FLI_aware_fam_illness_yes'] = df['FLI_aware_fam_illness'] == '1 - Yes'\n",
    "df['FLI_aware_fam_illness_yes'] = df['FLI_aware_fam_illness_yes'].map(temp)\n",
    "# Idenify businesses reporting FLI applies to them\n",
    "df['Law_apply_yes'] = df['Law_apply'] == '1 - Apply'\n",
    "df['Law_apply_yes'] = df['Law_apply_yes'].map(temp)\n",
    "# Idenify businesses that have done something to inform employees\n",
    "df['FLI_inform_yes'] = df['FLI_inform'] == '1 - Yes'\n",
    "df['FLI_inform_yes'] = df['FLI_inform_yes'].map(temp)"
   ]
  },
  {
   "cell_type": "markdown",
   "metadata": {},
   "source": [
    "## Convert additional questions to numeric"
   ]
  },
  {
   "cell_type": "code",
   "execution_count": 5,
   "metadata": {
    "collapsed": true
   },
   "outputs": [],
   "source": [
    "# Interested in webinar\n",
    "df['Addl_help_webinar'] = df['Addl_help_learn'].str.contains('a', case=False).map(temp)\n",
    "# Interested in materials\n",
    "df['Addl_help_materials'] = df['Addl_help_learn'].str.contains('b', case=False).map(temp)\n",
    "# Interested in other\n",
    "df['Addl_help_other'] = df['Addl_help_learn'].str.contains('c', case=False).map(temp)\n",
    "# Willing to provide additional information to employees\n",
    "df['Addl_willing_info_yes'] = df['Addl_willing_info'].str.contains('Yes', case=False).map(temp)\n",
    "# Would encourage employees to use the program\n",
    "df['Addl_encourage_yes'] = df['Addl_encourage_emp'].str.contains('Yes', case=False).map(temp)\n",
    "# How can we support you informing your employees?\n",
    "df['Addl_support_posters'] = df['Addl_support'].str.contains('a', case=False).map(temp)\n",
    "df['Addl_support_brochures'] = df['Addl_support'].str.contains('b', case=False).map(temp)\n",
    "df['Addl_support_review_pol'] = df['Addl_support'].str.contains('c', case=False).map(temp)\n",
    "df['Addl_support_workshop'] = df['Addl_support'].str.contains('d', case=False).map(temp)"
   ]
  },
  {
   "cell_type": "code",
   "execution_count": 6,
   "metadata": {
    "collapsed": true
   },
   "outputs": [],
   "source": [
    "df.to_csv('NJFLI_clean_results.csv')"
   ]
  },
  {
   "cell_type": "code",
   "execution_count": 7,
   "metadata": {
    "scrolled": true
   },
   "outputs": [
    {
     "data": {
      "text/plain": [
       "Index(['Bus_type', 'Bus_type_notes', 'Emp_number', 'Emp_number_notes',\n",
       "       'Larger_bus', 'Larger_bus_notes', 'TDI_cover', 'TDI_cover_notes',\n",
       "       'FLI_aware', 'FLI_aware_notes', 'FLI_aware_parents',\n",
       "       'FLI_aware_parents_notes', 'FLI_aware_fam_illness',\n",
       "       'FLI_aware_fam_illness_notes', 'Law_apply', 'Law_apply_notes',\n",
       "       'FLI_inform', 'FLI_inform_notes', 'FLI_inform_how',\n",
       "       'FLI_inform_how_notes', 'FLI_used', 'FLI_used_notes', 'FLI_used_number',\n",
       "       'FLI_used_number_notes', 'Addl_help_learn', 'Addl_help_learn_notes',\n",
       "       'Addl_willing_info', 'Addl_willing_info_notes', 'Addl_encourage_emp',\n",
       "       'Addl_encourage_emp_notes', 'Addl_support', 'Addl_support_notes',\n",
       "       'ind_FSD', 'ind_CS', 'ind_OTH', 'No_employees', '1-5_employees',\n",
       "       '6-plus_employees', 'poster', 'TDI_covered', 'FLI_aware_yes',\n",
       "       'FLI_aware_parents_yes', 'FLI_aware_fam_illness_yes', 'Law_apply_yes',\n",
       "       'FLI_inform_yes', 'Addl_help_webinar', 'Addl_help_materials',\n",
       "       'Addl_help_other', 'Addl_willing_info_yes', 'Addl_encourage_yes',\n",
       "       'Addl_support_posters', 'Addl_support_brochures',\n",
       "       'Addl_support_review_pol', 'Addl_support_workshop'],\n",
       "      dtype='object')"
      ]
     },
     "execution_count": 7,
     "metadata": {},
     "output_type": "execute_result"
    }
   ],
   "source": [
    "# Full list of variables\n",
    "df.keys()"
   ]
  },
  {
   "cell_type": "markdown",
   "metadata": {},
   "source": [
    "## Calculate frequencies"
   ]
  },
  {
   "cell_type": "code",
   "execution_count": 25,
   "metadata": {},
   "outputs": [
    {
     "name": "stdout",
     "output_type": "stream",
     "text": [
      "Total: 122\n",
      "By Type of Business:\n",
      "Restaurants: 38\n",
      "Consumer services: 35\n",
      "Other businesses: 49\n",
      "By Size (number of employees):\n",
      "No employees: 15\n",
      "1-5 employees: 53\n",
      "6+ employees: 54\n"
     ]
    }
   ],
   "source": [
    "# Counts\n",
    "\n",
    "print('Total: {}'.format(len(df)))\n",
    "print('By Type of Business:')\n",
    "print('Restaurants: {}'.format(len(df[df['ind_FSD'] == 1])))\n",
    "print('Consumer services: {}'.format(len(df[df['ind_CS'] == 1])))\n",
    "print('Other businesses: {}'.format(len(df[df['ind_OTH'] == 1])))\n",
    "print('By Size (number of employees):')\n",
    "print('No employees: {}'.format(len(df[df['No_employees'] == 1])))\n",
    "print('1-5 employees: {}'.format(len(df[df['1-5_employees'] == 1])))\n",
    "print('6+ employees: {}'.format(len(df[df['6-plus_employees'] == 1])))"
   ]
  },
  {
   "cell_type": "code",
   "execution_count": 29,
   "metadata": {},
   "outputs": [
    {
     "data": {
      "text/plain": [
       "Restaurant                                 7\n",
       "Deli                                       2\n",
       "Bagel shop                                 2\n",
       "Café                                       1\n",
       "Deli/Grocery                               1\n",
       "Italian Restaurant/Pizzeria                1\n",
       "Spice shop                                 1\n",
       "Sushi bar                                  1\n",
       "Ice Cream Parlor                           1\n",
       "Pastry shop                                1\n",
       "Diner                                      1\n",
       "Restaurant/Pastry Shop                     1\n",
       "Wineshop                                   1\n",
       "Hot dog stand/restaurant                   1\n",
       "Ice cream/dessert                          1\n",
       "Specialty coffee                           1\n",
       "Pizzeria                                   1\n",
       "Café/bakery                                1\n",
       "Italian Restaurant                         1\n",
       "Specialized grocery store                  1\n",
       "Restaurant/Bakery                          1\n",
       "Olive oil/pasta products imported goods    1\n",
       "Cupcake shop/bakery                        1\n",
       "Restaurant/bakery                          1\n",
       "Co-op grocery store                        1\n",
       "Regionally sourced grocery store           1\n",
       "Deli/general store                         1\n",
       "Best burgers in town! And hotdogs          1\n",
       "Deli/sub shop                              1\n",
       "Italian restaurant                         1\n",
       "Name: Bus_type, dtype: int64"
      ]
     },
     "execution_count": 29,
     "metadata": {},
     "output_type": "execute_result"
    }
   ],
   "source": [
    "# Frequencies of businesses - Restaurants\n",
    "df[df['ind_FSD'] == 1]['Bus_type'].value_counts()"
   ]
  },
  {
   "cell_type": "code",
   "execution_count": 31,
   "metadata": {},
   "outputs": [
    {
     "data": {
      "text/plain": [
       "Barber Shop                                         2\n",
       "Yoga Studio                                         1\n",
       "Yoga instructor                                     1\n",
       "Photographer                                        1\n",
       "Auto Repair/Body shop                               1\n",
       "Safety consultant                                   1\n",
       "Construction                                        1\n",
       "Monogram/Designs                                    1\n",
       "Marketing consultant                                1\n",
       "Accountant                                          1\n",
       "Filmmaker/video promotion                           1\n",
       "Contractor                                          1\n",
       "Financial services                                  1\n",
       "Auto bodyshop                                       1\n",
       "Financial services/paperwork services Consultant    1\n",
       "Tattoo shop                                         1\n",
       "Non-profit YMCA                                     1\n",
       "Commercial photographer                             1\n",
       "Pet grooming(*)                                     1\n",
       "Hair and Nail Salon                                 1\n",
       "Hair Salon                                          1\n",
       "Hair salon                                          1\n",
       "Tutoring services                                   1\n",
       "Therapist                                           1\n",
       "Consultant                                          1\n",
       "Laundromat                                          1\n",
       "Life coach                                          1\n",
       "Wellness Consultant                                 1\n",
       "Financial Consultant                                1\n",
       "Web design/marketing                                1\n",
       "Healthcare broker                                   1\n",
       "Shoe store/repair                                   1\n",
       "Non profit advocacy group                           1\n",
       "Attorney                                            1\n",
       "Name: Bus_type, dtype: int64"
      ]
     },
     "execution_count": 31,
     "metadata": {},
     "output_type": "execute_result"
    }
   ],
   "source": [
    "# Frequencies of businesses - Consumer Services\n",
    "df[df['ind_CS'] == 1]['Bus_type'].value_counts()"
   ]
  },
  {
   "cell_type": "code",
   "execution_count": 30,
   "metadata": {},
   "outputs": [
    {
     "data": {
      "text/plain": [
       "Antique Shop                        2\n",
       "Printer                             2\n",
       "Retail                              2\n",
       "General Store                       2\n",
       "Gallery                             2\n",
       "Bookstore                           2\n",
       "Jewelry Store                       1\n",
       "Hobbies/crafts                      1\n",
       "Furniture Store                     1\n",
       "Toy and bookstore                   1\n",
       "New Age Products                    1\n",
       "Retail (cards, novelties)           1\n",
       "Cards/gifts/novelties               1\n",
       "Retail Clothing/soap/accessories    1\n",
       "Used/antique books                  1\n",
       "Florist/Garden shop                 1\n",
       "Art Gallery                         1\n",
       "Shoe shop                           1\n",
       "Comic Book Store                    1\n",
       "Garden store                        1\n",
       "Fair trade retail                   1\n",
       "Retail novelty/gifts                1\n",
       "Florist                             1\n",
       "Arts and crafts store               1\n",
       "Clothes and accessories             1\n",
       "Clothing Store                      1\n",
       "Retail-general store                1\n",
       "Retail (clothes)                    1\n",
       "Frames/frame shop                   1\n",
       "Antiques                            1\n",
       "Nonprofit Bicycle Shop              1\n",
       "Antique Store                       1\n",
       "Mexican General Store               1\n",
       "Lighting/garden accessories         1\n",
       "Bicycle shop                        1\n",
       "Magazines/general store             1\n",
       "Antique store/lighting store        1\n",
       "Hobby store                         1\n",
       "Retail, specialty goods             1\n",
       "Retail clothing                     1\n",
       "Clothing store                      1\n",
       "Retail, specialty items             1\n",
       "Hardware store                      1\n",
       "Name: Bus_type, dtype: int64"
      ]
     },
     "execution_count": 30,
     "metadata": {},
     "output_type": "execute_result"
    }
   ],
   "source": [
    "# Frequencies of businesses - Other\n",
    "df[df['ind_OTH'] == 1]['Bus_type'].value_counts()"
   ]
  },
  {
   "cell_type": "markdown",
   "metadata": {},
   "source": [
    "## Cross-tabs"
   ]
  },
  {
   "cell_type": "markdown",
   "metadata": {},
   "source": [
    "#### Percent of businesses eligible for TDI"
   ]
  },
  {
   "cell_type": "code",
   "execution_count": 47,
   "metadata": {},
   "outputs": [
    {
     "name": "stdout",
     "output_type": "stream",
     "text": [
      "Overall: 83.6\n",
      "Other: 85.7\n",
      "Restaurants: 94.7\n",
      "Cons Services: 68.6\n",
      "1-5 employees: 92.5\n",
      "6+ employees: 92.6\n"
     ]
    }
   ],
   "source": [
    "# TDI eligible?\n",
    "print('Overall: {}'.format(round(df['TDI_covered'].mean() * 100, 1)))\n",
    "print('Other: {}'.format(round(df[df['ind_OTH'] == 1]['TDI_covered'].mean() * 100, 1)))\n",
    "print('Restaurants: {}'.format(round(df[df['ind_FSD'] == 1]['TDI_covered'].mean() * 100, 1)))\n",
    "print('Cons Services: {}'.format(round(df[df['ind_CS'] == 1]['TDI_covered'].mean() * 100, 1)))\n",
    "\n",
    "print('1-5 employees: {}'.format(round(df[df['1-5_employees'] == 1]['TDI_covered'].mean() * 100, 1)))\n",
    "print('6+ employees: {}'.format(round(df[df['6-plus_employees'] == 1]['TDI_covered'].mean() * 100, 1)))"
   ]
  },
  {
   "cell_type": "markdown",
   "metadata": {},
   "source": [
    "#### Percent of business that have heard of the NJ FLI Program"
   ]
  },
  {
   "cell_type": "code",
   "execution_count": 45,
   "metadata": {},
   "outputs": [
    {
     "name": "stdout",
     "output_type": "stream",
     "text": [
      "Overall: 53.3\n",
      "Other: 51.0\n",
      "Restaurants: 47.4\n",
      "Cons Services: 62.9\n",
      "1-5 employees: 50.9\n",
      "6+ employees: 50.0\n"
     ]
    }
   ],
   "source": [
    "# Aware of FLI - Have heard of the program\n",
    "print('Overall: {}'.format(round(df['FLI_aware_yes'].mean() * 100, 1)))\n",
    "print('Other: {}'.format(round(df[df['ind_OTH'] == 1]['FLI_aware_yes'].mean() * 100, 1)))\n",
    "print('Restaurants: {}'.format(round(df[df['ind_FSD'] == 1]['FLI_aware_yes'].mean() * 100, 1)))\n",
    "print('Cons Services: {}'.format(round(df[df['ind_CS'] == 1]['FLI_aware_yes'].mean() * 100, 1)))\n",
    "\n",
    "print('1-5 employees: {}'.format(round(df[df['1-5_employees'] == 1]['FLI_aware_yes'].mean() * 100, 1)))\n",
    "print('6+ employees: {}'.format(round(df[df['6-plus_employees'] == 1]['FLI_aware_yes'].mean() * 100, 1)))"
   ]
  },
  {
   "cell_type": "markdown",
   "metadata": {},
   "source": [
    "#### Aware of the program provision for bonding with a child"
   ]
  },
  {
   "cell_type": "code",
   "execution_count": 44,
   "metadata": {},
   "outputs": [
    {
     "name": "stdout",
     "output_type": "stream",
     "text": [
      "Overall: 30.3\n",
      "Other: 24.5\n",
      "Restaurants: 23.7\n",
      "Cons Services: 45.7\n",
      "1-5 employees: 28.3\n",
      "6+ employees: 29.6\n"
     ]
    }
   ],
   "source": [
    "# Aware of FLI - Child bonding\n",
    "print('Overall: {}'.format(round(df['FLI_aware_parents_yes'].mean() * 100, 1)))\n",
    "print('Other: {}'.format(round(df[df['ind_OTH'] == 1]['FLI_aware_parents_yes'].mean() * 100, 1)))\n",
    "print('Restaurants: {}'.format(round(df[df['ind_FSD'] == 1]['FLI_aware_parents_yes'].mean() * 100, 1)))\n",
    "print('Cons Services: {}'.format(round(df[df['ind_CS'] == 1]['FLI_aware_parents_yes'].mean() * 100, 1)))\n",
    "\n",
    "print('1-5 employees: {}'.format(round(df[df['1-5_employees'] == 1]['FLI_aware_parents_yes'].mean() * 100, 1)))\n",
    "print('6+ employees: {}'.format(round(df[df['6-plus_employees'] == 1]['FLI_aware_parents_yes'].mean() * 100, 1)))"
   ]
  },
  {
   "cell_type": "markdown",
   "metadata": {},
   "source": [
    "#### Aware of the program provision for caring for an ill family member"
   ]
  },
  {
   "cell_type": "code",
   "execution_count": 43,
   "metadata": {},
   "outputs": [
    {
     "name": "stdout",
     "output_type": "stream",
     "text": [
      "Overall: 16.4\n",
      "Other: 10.2\n",
      "Restaurants: 13.2\n",
      "Cons Services: 28.6\n",
      "1-5 employees: 9.4\n",
      "6+ employees: 22.2\n"
     ]
    }
   ],
   "source": [
    "# Aware of FLI - Care for ill family member\n",
    "print('Overall: {}'.format(round(df['FLI_aware_fam_illness_yes'].mean() * 100, 1)))\n",
    "print('Other: {}'.format(round(df[df['ind_OTH'] == 1]['FLI_aware_fam_illness_yes'].mean() * 100, 1)))\n",
    "print('Restaurants: {}'.format(round(df[df['ind_FSD'] == 1]['FLI_aware_fam_illness_yes'].mean() * 100, 1)))\n",
    "print('Cons Services: {}'.format(round(df[df['ind_CS'] == 1]['FLI_aware_fam_illness_yes'].mean() * 100, 1)))\n",
    "\n",
    "print('1-5 employees: {}'.format(round(df[df['1-5_employees'] == 1]['FLI_aware_fam_illness_yes'].mean() * 100, 1)))\n",
    "print('6+ employees: {}'.format(round(df[df['6-plus_employees'] == 1]['FLI_aware_fam_illness_yes'].mean() * 100, 1)))"
   ]
  },
  {
   "cell_type": "markdown",
   "metadata": {},
   "source": [
    "## Other summary statistics"
   ]
  },
  {
   "cell_type": "code",
   "execution_count": 40,
   "metadata": {},
   "outputs": [
    {
     "name": "stdout",
     "output_type": "stream",
     "text": [
      "0.6\n"
     ]
    }
   ],
   "source": [
    "# Share of employees who have used FLI\n",
    "print(round(df['FLI_used_number'].sum() / df['Emp_number'].sum() * 100, 1))"
   ]
  },
  {
   "cell_type": "code",
   "execution_count": 38,
   "metadata": {},
   "outputs": [
    {
     "name": "stdout",
     "output_type": "stream",
     "text": [
      "3.28\n"
     ]
    }
   ],
   "source": [
    "# Share of businesses with at least one employee having used FLI\n",
    "print(round(df['FLI_used_number'].count() / len(df) * 100, 1))"
   ]
  },
  {
   "cell_type": "code",
   "execution_count": 46,
   "metadata": {},
   "outputs": [
    {
     "name": "stdout",
     "output_type": "stream",
     "text": [
      "Overall: 63.9\n",
      "Other: 75.5\n",
      "Restaurants: 57.9\n",
      "Cons Services: 54.3\n",
      "1-5 employees: 77.4\n",
      "6+ employees: 61.1\n"
     ]
    }
   ],
   "source": [
    "# Would you encourage your employees to participate?\n",
    "# IMPORTANT: NO RESPONDENTS SAID \"NO\"\n",
    "\n",
    "print('Overall: {}'.format(round(df['Addl_encourage_yes'].mean() * 100, 1)))\n",
    "print('Other: {}'.format(round(df[df['ind_OTH'] == 1]['Addl_encourage_yes'].mean() * 100, 1)))\n",
    "print('Restaurants: {}'.format(round(df[df['ind_FSD'] == 1]['Addl_encourage_yes'].mean() * 100, 1)))\n",
    "print('Cons Services: {}'.format(round(df[df['ind_CS'] == 1]['Addl_encourage_yes'].mean() * 100, 1)))\n",
    "\n",
    "print('1-5 employees: {}'.format(round(df[df['1-5_employees'] == 1]['Addl_encourage_yes'].mean() * 100, 1)))\n",
    "print('6+ employees: {}'.format(round(df[df['6-plus_employees'] == 1]['Addl_encourage_yes'].mean() * 100, 1)))"
   ]
  }
 ],
 "metadata": {
  "kernelspec": {
   "display_name": "Python [conda root]",
   "language": "python",
   "name": "conda-root-py"
  },
  "language_info": {
   "codemirror_mode": {
    "name": "ipython",
    "version": 2
   },
   "file_extension": ".py",
   "mimetype": "text/x-python",
   "name": "python",
   "nbconvert_exporter": "python",
   "pygments_lexer": "ipython2",
   "version": "2.7.12"
  }
 },
 "nbformat": 4,
 "nbformat_minor": 2
}
