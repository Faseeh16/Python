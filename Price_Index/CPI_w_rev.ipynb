{
 "cells": [
  {
   "cell_type": "code",
   "execution_count": 1,
   "metadata": {
    "collapsed": true
   },
   "outputs": [],
   "source": [
    "import requests\n",
    "import pandas as pd\n",
    "import config"
   ]
  },
  {
   "cell_type": "code",
   "execution_count": 3,
   "metadata": {
    "collapsed": true
   },
   "outputs": [],
   "source": [
    "url = 'https://www.bls.gov/cpi/researchseries_allitems.xlsx'"
   ]
  },
  {
   "cell_type": "code",
   "execution_count": 14,
   "metadata": {
    "collapsed": false
   },
   "outputs": [
    {
     "data": {
      "text/plain": [
       "Year\n",
       "1978    104.4\n",
       "1979    114.3\n",
       "1980    127.1\n",
       "1981    139.1\n",
       "1982    147.5\n",
       "1983    153.8\n",
       "1984    160.2\n",
       "1985    165.7\n",
       "1986    168.6\n",
       "1987    174.4\n",
       "1988    180.7\n",
       "1989    188.6\n",
       "1990    197.9\n",
       "1991    205.1\n",
       "1992    210.2\n",
       "1993    215.5\n",
       "1994    220.0\n",
       "1995    225.3\n",
       "1996    231.3\n",
       "1997    236.3\n",
       "1998    239.5\n",
       "1999    244.6\n",
       "2000    252.9\n",
       "2001    260.1\n",
       "2002    264.2\n",
       "2003    270.2\n",
       "2004    277.5\n",
       "2005    286.9\n",
       "2006    296.2\n",
       "2007    304.6\n",
       "2008    316.3\n",
       "2009    315.2\n",
       "2010    320.3\n",
       "2011    330.5\n",
       "2012    337.3\n",
       "2013    342.2\n",
       "2014    347.8\n",
       "2015    348.2\n",
       "2016    352.6\n",
       "dtype: float64"
      ]
     },
     "execution_count": 14,
     "metadata": {},
     "output_type": "execute_result"
    }
   ],
   "source": [
    "pd.read_excel(url, header=5).set_index('Year').unstack().loc['AVG'].dropna()"
   ]
  },
  {
   "cell_type": "code",
   "execution_count": null,
   "metadata": {
    "collapsed": true
   },
   "outputs": [],
   "source": []
  },
  {
   "cell_type": "code",
   "execution_count": null,
   "metadata": {
    "collapsed": true
   },
   "outputs": [],
   "source": []
  },
  {
   "cell_type": "code",
   "execution_count": null,
   "metadata": {
    "collapsed": true
   },
   "outputs": [],
   "source": []
  }
 ],
 "metadata": {
  "kernelspec": {
   "display_name": "Python 2",
   "language": "python",
   "name": "python2"
  },
  "language_info": {
   "codemirror_mode": {
    "name": "ipython",
    "version": 2
   },
   "file_extension": ".py",
   "mimetype": "text/x-python",
   "name": "python",
   "nbconvert_exporter": "python",
   "pygments_lexer": "ipython2",
   "version": "2.7.13"
  }
 },
 "nbformat": 4,
 "nbformat_minor": 2
}
